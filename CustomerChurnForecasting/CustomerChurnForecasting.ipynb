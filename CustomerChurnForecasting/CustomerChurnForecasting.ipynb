{
 "cells": [
  {
   "cell_type": "markdown",
   "metadata": {},
   "source": [
    "# Прогнозирование оттока клиентов для  оператора связи «Ниединогоразрыва.ком»"
   ]
  },
  {
   "cell_type": "markdown",
   "metadata": {},
   "source": [
    "Заказчик — Оператор связи «Ниединогоразрыва.ком».\n",
    "\n",
    "Цель: Определить потенциальных клиентов, готовых уйти.\n",
    "Если выяснится, что пользователь планирует уйти, ему будут предложены промокоды и специальные условия.\n",
    "Команда оператора собрала персональные данные о некоторых клиентах, информацию об их тарифах и договорах.\n",
    "\n",
    "Необходимо: построить модель прогнозирования оттока клиентов, на основе которой будут определяться клиенты, готовые уйти. \n",
    "\n",
    "Для этого сперва исследуем поведение клиентов."
   ]
  },
  {
   "cell_type": "markdown",
   "metadata": {},
   "source": [
    "### Описание услуг\n",
    "\n",
    "Оператор предоставляет два основных типа услуг: \n",
    "\n",
    "1. Стационарную телефонную связь. Возможно подключение телефонного аппарата к нескольким линиям одновременно.\n",
    "2. Интернет. Подключение может быть двух типов: через телефонную линию (DSL*,* от англ. *digital subscriber line*, «цифровая абонентская линия») или оптоволоконный кабель (*Fiber optic*).  \n",
    "\n",
    "Также доступны такие услуги:\n",
    "\n",
    "- Интернет-безопасность: антивирус (*DeviceProtection*) и блокировка небезопасных сайтов (*OnlineSecurity*);\n",
    "- Выделенная линия технической поддержки (*TechSupport*);\n",
    "- Облачное хранилище файлов для резервного копирования данных (*OnlineBackup*);\n",
    "- Стриминговое телевидение (*StreamingTV*) и каталог фильмов (*StreamingMovies*).\n",
    "\n",
    "За услуги клиенты могут платить каждый месяц или заключить договор на 1–2 года. Доступны различные способы расчёта и возможность получения электронного чека.\n",
    "\n",
    "### Описание данных\n",
    "\n",
    "Данные состоят из файлов, полученных из разных источников:\n",
    "\n",
    "- `contract.csv` — информация о договоре;\n",
    "- `personal.csv` — персональные данные клиента;\n",
    "- `internet.csv` — информация об интернет-услугах;\n",
    "- `phone.csv` — информация об услугах телефонии.\n",
    "\n",
    "Во всех файлах столбец `customerID` содержит код клиента.\n",
    "\n",
    "Информация о договорах актуальна на 1 февраля 2020."
   ]
  },
  {
   "cell_type": "markdown",
   "metadata": {},
   "source": [
    "#  Шаг I. Исследование оттока клиентов"
   ]
  },
  {
   "cell_type": "markdown",
   "metadata": {},
   "source": [
    "### План исследования\n",
    "\n",
    "1. Знакомство с данными\n",
    "\n",
    "2. Обработка и подготовка данных\n",
    "\n",
    "3. Сравним распределения величин ежемесячных платежей (MonthlyCharges) всех клиентов и тех, кто ушёл.\n",
    "\n",
    "4. Для каждой группы посчитаем статистику: средние, минимальные и максимальные значения, медиану и величины 25%- и 75%-квартилей.\n",
    "\n",
    "5. Построим гистограмму распределения.\n",
    "\n",
    "6. Сравним поведение клиентов этих двух групп. Для каждой построим два любых графика, изображающих:\n",
    "- долю пользователей телефонной связи;\n",
    "- долю интернет-пользователей."
   ]
  },
  {
   "cell_type": "markdown",
   "metadata": {},
   "source": [
    "### Импорт библиотек"
   ]
  },
  {
   "cell_type": "code",
   "execution_count": 2,
   "metadata": {},
   "outputs": [],
   "source": [
    "import pandas as pd\n",
    "import numpy as np\n",
    "import matplotlib.pyplot as plt\n",
    "import lightgbm as lgb\n",
    "import seaborn as sns\n",
    "from sklearn.dummy import DummyClassifier\n",
    "from sklearn.ensemble import RandomForestClassifier\n",
    "from sklearn.preprocessing import StandardScaler\n",
    "from sklearn.linear_model import LogisticRegression\n",
    "from sklearn.linear_model import LinearRegression\n",
    "from sklearn.metrics import roc_auc_score\n",
    "from sklearn.metrics import accuracy_score\n",
    "from sklearn.model_selection import GridSearchCV\n",
    "from sklearn.model_selection import RandomizedSearchCV\n",
    "from sklearn.model_selection import train_test_split\n",
    "from sklearn.tree import DecisionTreeClassifier\n",
    "from sklearn.utils import shuffle\n",
    "from catboost import CatBoostClassifier\n",
    "from lightgbm import LGBMClassifier\n",
    "import warnings\n",
    "warnings.filterwarnings('ignore')"
   ]
  },
  {
   "cell_type": "markdown",
   "metadata": {},
   "source": [
    "## Знакомство с данными"
   ]
  },
  {
   "cell_type": "markdown",
   "metadata": {},
   "source": [
    "### Таблица \"Информация о договоре\""
   ]
  },
  {
   "cell_type": "markdown",
   "metadata": {},
   "source": [
    "**Названия столбцов:**\n",
    "\n",
    "customerID - код клиента\n",
    "\n",
    "BeginDate - дата начала обслуживания\n",
    "\n",
    "EndDate - дата окончания обслуживания\n",
    "\n",
    "Type - тип договара (помесячная оплата, оплата за 1 год, оплата за 2 года)\n",
    "\n",
    "PaperlessBilling - електронное выставление счетов\n",
    "\n",
    "PaymentMethod - способ оплаты\n",
    "\n",
    "MonthlyCharges - стоимость обслуживания за месяц\n",
    "\n",
    "TotalCharges - общая стоимость обслуживания"
   ]
  },
  {
   "cell_type": "code",
   "execution_count": 3,
   "metadata": {},
   "outputs": [],
   "source": [
    "contract = pd.read_csv('../../data/contract.csv')\n",
    "internet = pd.read_csv('../../data/internet.csv')\n",
    "personal = pd.read_csv('../../data/personal.csv')\n",
    "phone = pd.read_csv('../../data/phone.csv')"
   ]
  },
  {
   "cell_type": "code",
   "execution_count": 4,
   "metadata": {},
   "outputs": [
    {
     "data": {
      "text/html": [
       "<div>\n",
       "<style scoped>\n",
       "    .dataframe tbody tr th:only-of-type {\n",
       "        vertical-align: middle;\n",
       "    }\n",
       "\n",
       "    .dataframe tbody tr th {\n",
       "        vertical-align: top;\n",
       "    }\n",
       "\n",
       "    .dataframe thead th {\n",
       "        text-align: right;\n",
       "    }\n",
       "</style>\n",
       "<table border=\"1\" class=\"dataframe\">\n",
       "  <thead>\n",
       "    <tr style=\"text-align: right;\">\n",
       "      <th></th>\n",
       "      <th>customerID</th>\n",
       "      <th>BeginDate</th>\n",
       "      <th>EndDate</th>\n",
       "      <th>Type</th>\n",
       "      <th>PaperlessBilling</th>\n",
       "      <th>PaymentMethod</th>\n",
       "      <th>MonthlyCharges</th>\n",
       "      <th>TotalCharges</th>\n",
       "    </tr>\n",
       "  </thead>\n",
       "  <tbody>\n",
       "    <tr>\n",
       "      <th>0</th>\n",
       "      <td>7590-VHVEG</td>\n",
       "      <td>2020-01-01</td>\n",
       "      <td>No</td>\n",
       "      <td>Month-to-month</td>\n",
       "      <td>Yes</td>\n",
       "      <td>Electronic check</td>\n",
       "      <td>29.85</td>\n",
       "      <td>29.85</td>\n",
       "    </tr>\n",
       "    <tr>\n",
       "      <th>1</th>\n",
       "      <td>5575-GNVDE</td>\n",
       "      <td>2017-04-01</td>\n",
       "      <td>No</td>\n",
       "      <td>One year</td>\n",
       "      <td>No</td>\n",
       "      <td>Mailed check</td>\n",
       "      <td>56.95</td>\n",
       "      <td>1889.5</td>\n",
       "    </tr>\n",
       "    <tr>\n",
       "      <th>2</th>\n",
       "      <td>3668-QPYBK</td>\n",
       "      <td>2019-10-01</td>\n",
       "      <td>2019-12-01 00:00:00</td>\n",
       "      <td>Month-to-month</td>\n",
       "      <td>Yes</td>\n",
       "      <td>Mailed check</td>\n",
       "      <td>53.85</td>\n",
       "      <td>108.15</td>\n",
       "    </tr>\n",
       "    <tr>\n",
       "      <th>3</th>\n",
       "      <td>7795-CFOCW</td>\n",
       "      <td>2016-05-01</td>\n",
       "      <td>No</td>\n",
       "      <td>One year</td>\n",
       "      <td>No</td>\n",
       "      <td>Bank transfer (automatic)</td>\n",
       "      <td>42.30</td>\n",
       "      <td>1840.75</td>\n",
       "    </tr>\n",
       "    <tr>\n",
       "      <th>4</th>\n",
       "      <td>9237-HQITU</td>\n",
       "      <td>2019-09-01</td>\n",
       "      <td>2019-11-01 00:00:00</td>\n",
       "      <td>Month-to-month</td>\n",
       "      <td>Yes</td>\n",
       "      <td>Electronic check</td>\n",
       "      <td>70.70</td>\n",
       "      <td>151.65</td>\n",
       "    </tr>\n",
       "    <tr>\n",
       "      <th>5</th>\n",
       "      <td>9305-CDSKC</td>\n",
       "      <td>2019-03-01</td>\n",
       "      <td>2019-11-01 00:00:00</td>\n",
       "      <td>Month-to-month</td>\n",
       "      <td>Yes</td>\n",
       "      <td>Electronic check</td>\n",
       "      <td>99.65</td>\n",
       "      <td>820.5</td>\n",
       "    </tr>\n",
       "    <tr>\n",
       "      <th>6</th>\n",
       "      <td>1452-KIOVK</td>\n",
       "      <td>2018-04-01</td>\n",
       "      <td>No</td>\n",
       "      <td>Month-to-month</td>\n",
       "      <td>Yes</td>\n",
       "      <td>Credit card (automatic)</td>\n",
       "      <td>89.10</td>\n",
       "      <td>1949.4</td>\n",
       "    </tr>\n",
       "    <tr>\n",
       "      <th>7</th>\n",
       "      <td>6713-OKOMC</td>\n",
       "      <td>2019-04-01</td>\n",
       "      <td>No</td>\n",
       "      <td>Month-to-month</td>\n",
       "      <td>No</td>\n",
       "      <td>Mailed check</td>\n",
       "      <td>29.75</td>\n",
       "      <td>301.9</td>\n",
       "    </tr>\n",
       "    <tr>\n",
       "      <th>8</th>\n",
       "      <td>7892-POOKP</td>\n",
       "      <td>2017-07-01</td>\n",
       "      <td>2019-11-01 00:00:00</td>\n",
       "      <td>Month-to-month</td>\n",
       "      <td>Yes</td>\n",
       "      <td>Electronic check</td>\n",
       "      <td>104.80</td>\n",
       "      <td>3046.05</td>\n",
       "    </tr>\n",
       "    <tr>\n",
       "      <th>9</th>\n",
       "      <td>6388-TABGU</td>\n",
       "      <td>2014-12-01</td>\n",
       "      <td>No</td>\n",
       "      <td>One year</td>\n",
       "      <td>No</td>\n",
       "      <td>Bank transfer (automatic)</td>\n",
       "      <td>56.15</td>\n",
       "      <td>3487.95</td>\n",
       "    </tr>\n",
       "  </tbody>\n",
       "</table>\n",
       "</div>"
      ],
      "text/plain": [
       "   customerID   BeginDate              EndDate            Type  \\\n",
       "0  7590-VHVEG  2020-01-01                   No  Month-to-month   \n",
       "1  5575-GNVDE  2017-04-01                   No        One year   \n",
       "2  3668-QPYBK  2019-10-01  2019-12-01 00:00:00  Month-to-month   \n",
       "3  7795-CFOCW  2016-05-01                   No        One year   \n",
       "4  9237-HQITU  2019-09-01  2019-11-01 00:00:00  Month-to-month   \n",
       "5  9305-CDSKC  2019-03-01  2019-11-01 00:00:00  Month-to-month   \n",
       "6  1452-KIOVK  2018-04-01                   No  Month-to-month   \n",
       "7  6713-OKOMC  2019-04-01                   No  Month-to-month   \n",
       "8  7892-POOKP  2017-07-01  2019-11-01 00:00:00  Month-to-month   \n",
       "9  6388-TABGU  2014-12-01                   No        One year   \n",
       "\n",
       "  PaperlessBilling              PaymentMethod  MonthlyCharges TotalCharges  \n",
       "0              Yes           Electronic check           29.85        29.85  \n",
       "1               No               Mailed check           56.95       1889.5  \n",
       "2              Yes               Mailed check           53.85       108.15  \n",
       "3               No  Bank transfer (automatic)           42.30      1840.75  \n",
       "4              Yes           Electronic check           70.70       151.65  \n",
       "5              Yes           Electronic check           99.65        820.5  \n",
       "6              Yes    Credit card (automatic)           89.10       1949.4  \n",
       "7               No               Mailed check           29.75        301.9  \n",
       "8              Yes           Electronic check          104.80      3046.05  \n",
       "9               No  Bank transfer (automatic)           56.15      3487.95  "
      ]
     },
     "metadata": {},
     "output_type": "display_data"
    },
    {
     "name": "stdout",
     "output_type": "stream",
     "text": [
      "<class 'pandas.core.frame.DataFrame'>\n",
      "RangeIndex: 7043 entries, 0 to 7042\n",
      "Data columns (total 8 columns):\n",
      " #   Column            Non-Null Count  Dtype  \n",
      "---  ------            --------------  -----  \n",
      " 0   customerID        7043 non-null   object \n",
      " 1   BeginDate         7043 non-null   object \n",
      " 2   EndDate           7043 non-null   object \n",
      " 3   Type              7043 non-null   object \n",
      " 4   PaperlessBilling  7043 non-null   object \n",
      " 5   PaymentMethod     7043 non-null   object \n",
      " 6   MonthlyCharges    7043 non-null   float64\n",
      " 7   TotalCharges      7043 non-null   object \n",
      "dtypes: float64(1), object(7)\n",
      "memory usage: 440.3+ KB\n"
     ]
    }
   ],
   "source": [
    "display(contract.head(10))\n",
    "contract.info()"
   ]
  },
  {
   "cell_type": "markdown",
   "metadata": {},
   "source": [
    "Всего представлена информация о 7043 клиентах.\n",
    "\n",
    "В столбце 'TotalCharges' обнаружены артефакты в виде пробелов. Их следует заменить. Тип данных для столбца 'TotalCharges' следует привести к числовому значению.\n",
    "\n",
    "Других артефактов и пропусков или дубликатов в таблице не обнаружено.\n",
    "\n",
    "Названия столбцов следует привести к змеиному регистру."
   ]
  },
  {
   "cell_type": "code",
   "execution_count": 5,
   "metadata": {},
   "outputs": [],
   "source": [
    "# переименуем столбцы, чтобы привести к корректному виду\n",
    "contract = contract.rename(columns={'customerID': 'customer_id', 'BeginDate': 'begin_date', 'EndDate': 'end_date',\n",
    "                        'Type': 'type', 'PaperlessBilling': 'paperless_billing', 'PaymentMethod': 'payment_method',\n",
    "                        'MonthlyCharges': 'monthly_charges', 'TotalCharges': 'total_charges'})"
   ]
  },
  {
   "cell_type": "code",
   "execution_count": 6,
   "metadata": {},
   "outputs": [
    {
     "data": {
      "text/html": [
       "<div>\n",
       "<style scoped>\n",
       "    .dataframe tbody tr th:only-of-type {\n",
       "        vertical-align: middle;\n",
       "    }\n",
       "\n",
       "    .dataframe tbody tr th {\n",
       "        vertical-align: top;\n",
       "    }\n",
       "\n",
       "    .dataframe thead th {\n",
       "        text-align: right;\n",
       "    }\n",
       "</style>\n",
       "<table border=\"1\" class=\"dataframe\">\n",
       "  <thead>\n",
       "    <tr style=\"text-align: right;\">\n",
       "      <th></th>\n",
       "      <th>customer_id</th>\n",
       "      <th>begin_date</th>\n",
       "      <th>end_date</th>\n",
       "      <th>type</th>\n",
       "      <th>paperless_billing</th>\n",
       "      <th>payment_method</th>\n",
       "      <th>monthly_charges</th>\n",
       "      <th>total_charges</th>\n",
       "    </tr>\n",
       "  </thead>\n",
       "  <tbody>\n",
       "    <tr>\n",
       "      <th>488</th>\n",
       "      <td>4472-LVYGI</td>\n",
       "      <td>2020-02-01</td>\n",
       "      <td>No</td>\n",
       "      <td>Two year</td>\n",
       "      <td>Yes</td>\n",
       "      <td>Bank transfer (automatic)</td>\n",
       "      <td>52.55</td>\n",
       "      <td></td>\n",
       "    </tr>\n",
       "    <tr>\n",
       "      <th>753</th>\n",
       "      <td>3115-CZMZD</td>\n",
       "      <td>2020-02-01</td>\n",
       "      <td>No</td>\n",
       "      <td>Two year</td>\n",
       "      <td>No</td>\n",
       "      <td>Mailed check</td>\n",
       "      <td>20.25</td>\n",
       "      <td></td>\n",
       "    </tr>\n",
       "    <tr>\n",
       "      <th>936</th>\n",
       "      <td>5709-LVOEQ</td>\n",
       "      <td>2020-02-01</td>\n",
       "      <td>No</td>\n",
       "      <td>Two year</td>\n",
       "      <td>No</td>\n",
       "      <td>Mailed check</td>\n",
       "      <td>80.85</td>\n",
       "      <td></td>\n",
       "    </tr>\n",
       "    <tr>\n",
       "      <th>1082</th>\n",
       "      <td>4367-NUYAO</td>\n",
       "      <td>2020-02-01</td>\n",
       "      <td>No</td>\n",
       "      <td>Two year</td>\n",
       "      <td>No</td>\n",
       "      <td>Mailed check</td>\n",
       "      <td>25.75</td>\n",
       "      <td></td>\n",
       "    </tr>\n",
       "    <tr>\n",
       "      <th>1340</th>\n",
       "      <td>1371-DWPAZ</td>\n",
       "      <td>2020-02-01</td>\n",
       "      <td>No</td>\n",
       "      <td>Two year</td>\n",
       "      <td>No</td>\n",
       "      <td>Credit card (automatic)</td>\n",
       "      <td>56.05</td>\n",
       "      <td></td>\n",
       "    </tr>\n",
       "    <tr>\n",
       "      <th>3331</th>\n",
       "      <td>7644-OMVMY</td>\n",
       "      <td>2020-02-01</td>\n",
       "      <td>No</td>\n",
       "      <td>Two year</td>\n",
       "      <td>No</td>\n",
       "      <td>Mailed check</td>\n",
       "      <td>19.85</td>\n",
       "      <td></td>\n",
       "    </tr>\n",
       "    <tr>\n",
       "      <th>3826</th>\n",
       "      <td>3213-VVOLG</td>\n",
       "      <td>2020-02-01</td>\n",
       "      <td>No</td>\n",
       "      <td>Two year</td>\n",
       "      <td>No</td>\n",
       "      <td>Mailed check</td>\n",
       "      <td>25.35</td>\n",
       "      <td></td>\n",
       "    </tr>\n",
       "    <tr>\n",
       "      <th>4380</th>\n",
       "      <td>2520-SGTTA</td>\n",
       "      <td>2020-02-01</td>\n",
       "      <td>No</td>\n",
       "      <td>Two year</td>\n",
       "      <td>No</td>\n",
       "      <td>Mailed check</td>\n",
       "      <td>20.00</td>\n",
       "      <td></td>\n",
       "    </tr>\n",
       "    <tr>\n",
       "      <th>5218</th>\n",
       "      <td>2923-ARZLG</td>\n",
       "      <td>2020-02-01</td>\n",
       "      <td>No</td>\n",
       "      <td>One year</td>\n",
       "      <td>Yes</td>\n",
       "      <td>Mailed check</td>\n",
       "      <td>19.70</td>\n",
       "      <td></td>\n",
       "    </tr>\n",
       "    <tr>\n",
       "      <th>6670</th>\n",
       "      <td>4075-WKNIU</td>\n",
       "      <td>2020-02-01</td>\n",
       "      <td>No</td>\n",
       "      <td>Two year</td>\n",
       "      <td>No</td>\n",
       "      <td>Mailed check</td>\n",
       "      <td>73.35</td>\n",
       "      <td></td>\n",
       "    </tr>\n",
       "    <tr>\n",
       "      <th>6754</th>\n",
       "      <td>2775-SEFEE</td>\n",
       "      <td>2020-02-01</td>\n",
       "      <td>No</td>\n",
       "      <td>Two year</td>\n",
       "      <td>Yes</td>\n",
       "      <td>Bank transfer (automatic)</td>\n",
       "      <td>61.90</td>\n",
       "      <td></td>\n",
       "    </tr>\n",
       "  </tbody>\n",
       "</table>\n",
       "</div>"
      ],
      "text/plain": [
       "     customer_id  begin_date end_date      type paperless_billing  \\\n",
       "488   4472-LVYGI  2020-02-01       No  Two year               Yes   \n",
       "753   3115-CZMZD  2020-02-01       No  Two year                No   \n",
       "936   5709-LVOEQ  2020-02-01       No  Two year                No   \n",
       "1082  4367-NUYAO  2020-02-01       No  Two year                No   \n",
       "1340  1371-DWPAZ  2020-02-01       No  Two year                No   \n",
       "3331  7644-OMVMY  2020-02-01       No  Two year                No   \n",
       "3826  3213-VVOLG  2020-02-01       No  Two year                No   \n",
       "4380  2520-SGTTA  2020-02-01       No  Two year                No   \n",
       "5218  2923-ARZLG  2020-02-01       No  One year               Yes   \n",
       "6670  4075-WKNIU  2020-02-01       No  Two year                No   \n",
       "6754  2775-SEFEE  2020-02-01       No  Two year               Yes   \n",
       "\n",
       "                 payment_method  monthly_charges total_charges  \n",
       "488   Bank transfer (automatic)            52.55                \n",
       "753                Mailed check            20.25                \n",
       "936                Mailed check            80.85                \n",
       "1082               Mailed check            25.75                \n",
       "1340    Credit card (automatic)            56.05                \n",
       "3331               Mailed check            19.85                \n",
       "3826               Mailed check            25.35                \n",
       "4380               Mailed check            20.00                \n",
       "5218               Mailed check            19.70                \n",
       "6670               Mailed check            73.35                \n",
       "6754  Bank transfer (automatic)            61.90                "
      ]
     },
     "metadata": {},
     "output_type": "display_data"
    }
   ],
   "source": [
    "display(contract.query(\"total_charges == ' '\")) # выведем на экран строки с пустым значением в 'total_charges'"
   ]
  },
  {
   "cell_type": "code",
   "execution_count": 7,
   "metadata": {},
   "outputs": [
    {
     "data": {
      "text/plain": [
       "array(['2020-02-01'], dtype=object)"
      ]
     },
     "metadata": {},
     "output_type": "display_data"
    }
   ],
   "source": [
    "# выведем на экран уникальные значения в поле 'begin_date' для строк с пустым значением 'total_charges' \n",
    "display(contract.query(\"total_charges == ' '\")['begin_date'].unique()) "
   ]
  },
  {
   "cell_type": "markdown",
   "metadata": {},
   "source": [
    "Из представленного выше анализа видно, что все строки с нулевым значением в поле 'total_charges' - это клиенты только что заключившие договор. Поэтому общую стоимость можно прировнять к месячному платежу."
   ]
  },
  {
   "cell_type": "code",
   "execution_count": 8,
   "metadata": {},
   "outputs": [],
   "source": [
    "# заменим нулевые значения в столбце с общим платежом на месячный тариф\n",
    "contract.loc[contract['total_charges'] == ' ', 'total_charges'] = contract['monthly_charges'] "
   ]
  },
  {
   "cell_type": "code",
   "execution_count": 9,
   "metadata": {},
   "outputs": [],
   "source": [
    "contract['total_charges'] = contract['total_charges'].astype('float') # преобразование типа данных в столбце 'TotalCharges'"
   ]
  },
  {
   "cell_type": "code",
   "execution_count": 10,
   "metadata": {},
   "outputs": [],
   "source": [
    "contract['begin_date'] = pd.to_datetime(contract['begin_date'], format='%Y-%m-%dT%H:%M:%S')"
   ]
  },
  {
   "cell_type": "code",
   "execution_count": 11,
   "metadata": {},
   "outputs": [
    {
     "name": "stdout",
     "output_type": "stream",
     "text": [
      "<class 'pandas.core.frame.DataFrame'>\n",
      "RangeIndex: 7043 entries, 0 to 7042\n",
      "Data columns (total 8 columns):\n",
      " #   Column             Non-Null Count  Dtype         \n",
      "---  ------             --------------  -----         \n",
      " 0   customer_id        7043 non-null   object        \n",
      " 1   begin_date         7043 non-null   datetime64[ns]\n",
      " 2   end_date           7043 non-null   object        \n",
      " 3   type               7043 non-null   object        \n",
      " 4   paperless_billing  7043 non-null   object        \n",
      " 5   payment_method     7043 non-null   object        \n",
      " 6   monthly_charges    7043 non-null   float64       \n",
      " 7   total_charges      7043 non-null   float64       \n",
      "dtypes: datetime64[ns](1), float64(2), object(5)\n",
      "memory usage: 440.3+ KB\n"
     ]
    }
   ],
   "source": [
    "contract.info() # проверяем произведенные преобразования"
   ]
  },
  {
   "cell_type": "markdown",
   "metadata": {},
   "source": [
    "### Таблица \"Персональные данные клиента\""
   ]
  },
  {
   "cell_type": "markdown",
   "metadata": {},
   "source": [
    "**Названия столбцов:**\n",
    "\n",
    "customerID - код клиента\n",
    "\n",
    "gender - пол\n",
    "\n",
    "SeniorCitizen - наличие пенсионного статуса по возрасту\n",
    "\n",
    "Partner - наличие супруга(и)\n",
    "\n",
    "Dependents - наличие иждевенцев"
   ]
  },
  {
   "cell_type": "code",
   "execution_count": 12,
   "metadata": {},
   "outputs": [
    {
     "data": {
      "text/html": [
       "<div>\n",
       "<style scoped>\n",
       "    .dataframe tbody tr th:only-of-type {\n",
       "        vertical-align: middle;\n",
       "    }\n",
       "\n",
       "    .dataframe tbody tr th {\n",
       "        vertical-align: top;\n",
       "    }\n",
       "\n",
       "    .dataframe thead th {\n",
       "        text-align: right;\n",
       "    }\n",
       "</style>\n",
       "<table border=\"1\" class=\"dataframe\">\n",
       "  <thead>\n",
       "    <tr style=\"text-align: right;\">\n",
       "      <th></th>\n",
       "      <th>customerID</th>\n",
       "      <th>gender</th>\n",
       "      <th>SeniorCitizen</th>\n",
       "      <th>Partner</th>\n",
       "      <th>Dependents</th>\n",
       "    </tr>\n",
       "  </thead>\n",
       "  <tbody>\n",
       "    <tr>\n",
       "      <th>0</th>\n",
       "      <td>7590-VHVEG</td>\n",
       "      <td>Female</td>\n",
       "      <td>0</td>\n",
       "      <td>Yes</td>\n",
       "      <td>No</td>\n",
       "    </tr>\n",
       "    <tr>\n",
       "      <th>1</th>\n",
       "      <td>5575-GNVDE</td>\n",
       "      <td>Male</td>\n",
       "      <td>0</td>\n",
       "      <td>No</td>\n",
       "      <td>No</td>\n",
       "    </tr>\n",
       "    <tr>\n",
       "      <th>2</th>\n",
       "      <td>3668-QPYBK</td>\n",
       "      <td>Male</td>\n",
       "      <td>0</td>\n",
       "      <td>No</td>\n",
       "      <td>No</td>\n",
       "    </tr>\n",
       "    <tr>\n",
       "      <th>3</th>\n",
       "      <td>7795-CFOCW</td>\n",
       "      <td>Male</td>\n",
       "      <td>0</td>\n",
       "      <td>No</td>\n",
       "      <td>No</td>\n",
       "    </tr>\n",
       "    <tr>\n",
       "      <th>4</th>\n",
       "      <td>9237-HQITU</td>\n",
       "      <td>Female</td>\n",
       "      <td>0</td>\n",
       "      <td>No</td>\n",
       "      <td>No</td>\n",
       "    </tr>\n",
       "    <tr>\n",
       "      <th>5</th>\n",
       "      <td>9305-CDSKC</td>\n",
       "      <td>Female</td>\n",
       "      <td>0</td>\n",
       "      <td>No</td>\n",
       "      <td>No</td>\n",
       "    </tr>\n",
       "    <tr>\n",
       "      <th>6</th>\n",
       "      <td>1452-KIOVK</td>\n",
       "      <td>Male</td>\n",
       "      <td>0</td>\n",
       "      <td>No</td>\n",
       "      <td>Yes</td>\n",
       "    </tr>\n",
       "    <tr>\n",
       "      <th>7</th>\n",
       "      <td>6713-OKOMC</td>\n",
       "      <td>Female</td>\n",
       "      <td>0</td>\n",
       "      <td>No</td>\n",
       "      <td>No</td>\n",
       "    </tr>\n",
       "    <tr>\n",
       "      <th>8</th>\n",
       "      <td>7892-POOKP</td>\n",
       "      <td>Female</td>\n",
       "      <td>0</td>\n",
       "      <td>Yes</td>\n",
       "      <td>No</td>\n",
       "    </tr>\n",
       "    <tr>\n",
       "      <th>9</th>\n",
       "      <td>6388-TABGU</td>\n",
       "      <td>Male</td>\n",
       "      <td>0</td>\n",
       "      <td>No</td>\n",
       "      <td>Yes</td>\n",
       "    </tr>\n",
       "  </tbody>\n",
       "</table>\n",
       "</div>"
      ],
      "text/plain": [
       "   customerID  gender  SeniorCitizen Partner Dependents\n",
       "0  7590-VHVEG  Female              0     Yes         No\n",
       "1  5575-GNVDE    Male              0      No         No\n",
       "2  3668-QPYBK    Male              0      No         No\n",
       "3  7795-CFOCW    Male              0      No         No\n",
       "4  9237-HQITU  Female              0      No         No\n",
       "5  9305-CDSKC  Female              0      No         No\n",
       "6  1452-KIOVK    Male              0      No        Yes\n",
       "7  6713-OKOMC  Female              0      No         No\n",
       "8  7892-POOKP  Female              0     Yes         No\n",
       "9  6388-TABGU    Male              0      No        Yes"
      ]
     },
     "metadata": {},
     "output_type": "display_data"
    },
    {
     "name": "stdout",
     "output_type": "stream",
     "text": [
      "<class 'pandas.core.frame.DataFrame'>\n",
      "RangeIndex: 7043 entries, 0 to 7042\n",
      "Data columns (total 5 columns):\n",
      " #   Column         Non-Null Count  Dtype \n",
      "---  ------         --------------  ----- \n",
      " 0   customerID     7043 non-null   object\n",
      " 1   gender         7043 non-null   object\n",
      " 2   SeniorCitizen  7043 non-null   int64 \n",
      " 3   Partner        7043 non-null   object\n",
      " 4   Dependents     7043 non-null   object\n",
      "dtypes: int64(1), object(4)\n",
      "memory usage: 275.2+ KB\n"
     ]
    }
   ],
   "source": [
    "display(personal.head(10))\n",
    "personal.info()"
   ]
  },
  {
   "cell_type": "markdown",
   "metadata": {},
   "source": [
    "Всего представлена информация о 7043 клиентах.\n",
    "\n",
    "Пропусков и дубликатов в таблице не обнаружено.\n",
    "\n",
    "Артефактов не обнаружено.\n",
    "\n",
    "Названия столбцов следует привести к змеиному регистру."
   ]
  },
  {
   "cell_type": "code",
   "execution_count": 13,
   "metadata": {},
   "outputs": [],
   "source": [
    "# переименуем столбцы, чтобы привести к корректному виду\n",
    "personal = personal.rename(columns={'customerID': 'customer_id', 'SeniorCitizen': 'senior_citizen',\n",
    "                                    'Partner': 'partner', 'Dependents': 'dependents'})"
   ]
  },
  {
   "cell_type": "markdown",
   "metadata": {},
   "source": [
    "### Таблица \"Информация об интернет-услугах\""
   ]
  },
  {
   "cell_type": "markdown",
   "metadata": {},
   "source": [
    "**Названия столбцов:**\n",
    "\n",
    "customerID - код клиента\n",
    "\n",
    "InternetService - интернет обслуживание\n",
    "\n",
    "OnlineSecurity - блокировка небезопасных сайтов \n",
    "\n",
    "OnlineBackup - облачное хранилище файлов для резервного копирования данных\n",
    "\n",
    "DeviceProtection - антивирус\n",
    "\n",
    "TechSupport - выделенная линия технической поддержки\n",
    "\n",
    "StreamingTV - стриминговое телевидение\n",
    "\n",
    "StreamingMovies - каталог фильмов"
   ]
  },
  {
   "cell_type": "code",
   "execution_count": 14,
   "metadata": {
    "scrolled": true
   },
   "outputs": [
    {
     "data": {
      "text/html": [
       "<div>\n",
       "<style scoped>\n",
       "    .dataframe tbody tr th:only-of-type {\n",
       "        vertical-align: middle;\n",
       "    }\n",
       "\n",
       "    .dataframe tbody tr th {\n",
       "        vertical-align: top;\n",
       "    }\n",
       "\n",
       "    .dataframe thead th {\n",
       "        text-align: right;\n",
       "    }\n",
       "</style>\n",
       "<table border=\"1\" class=\"dataframe\">\n",
       "  <thead>\n",
       "    <tr style=\"text-align: right;\">\n",
       "      <th></th>\n",
       "      <th>customerID</th>\n",
       "      <th>InternetService</th>\n",
       "      <th>OnlineSecurity</th>\n",
       "      <th>OnlineBackup</th>\n",
       "      <th>DeviceProtection</th>\n",
       "      <th>TechSupport</th>\n",
       "      <th>StreamingTV</th>\n",
       "      <th>StreamingMovies</th>\n",
       "    </tr>\n",
       "  </thead>\n",
       "  <tbody>\n",
       "    <tr>\n",
       "      <th>0</th>\n",
       "      <td>7590-VHVEG</td>\n",
       "      <td>DSL</td>\n",
       "      <td>No</td>\n",
       "      <td>Yes</td>\n",
       "      <td>No</td>\n",
       "      <td>No</td>\n",
       "      <td>No</td>\n",
       "      <td>No</td>\n",
       "    </tr>\n",
       "    <tr>\n",
       "      <th>1</th>\n",
       "      <td>5575-GNVDE</td>\n",
       "      <td>DSL</td>\n",
       "      <td>Yes</td>\n",
       "      <td>No</td>\n",
       "      <td>Yes</td>\n",
       "      <td>No</td>\n",
       "      <td>No</td>\n",
       "      <td>No</td>\n",
       "    </tr>\n",
       "    <tr>\n",
       "      <th>2</th>\n",
       "      <td>3668-QPYBK</td>\n",
       "      <td>DSL</td>\n",
       "      <td>Yes</td>\n",
       "      <td>Yes</td>\n",
       "      <td>No</td>\n",
       "      <td>No</td>\n",
       "      <td>No</td>\n",
       "      <td>No</td>\n",
       "    </tr>\n",
       "    <tr>\n",
       "      <th>3</th>\n",
       "      <td>7795-CFOCW</td>\n",
       "      <td>DSL</td>\n",
       "      <td>Yes</td>\n",
       "      <td>No</td>\n",
       "      <td>Yes</td>\n",
       "      <td>Yes</td>\n",
       "      <td>No</td>\n",
       "      <td>No</td>\n",
       "    </tr>\n",
       "    <tr>\n",
       "      <th>4</th>\n",
       "      <td>9237-HQITU</td>\n",
       "      <td>Fiber optic</td>\n",
       "      <td>No</td>\n",
       "      <td>No</td>\n",
       "      <td>No</td>\n",
       "      <td>No</td>\n",
       "      <td>No</td>\n",
       "      <td>No</td>\n",
       "    </tr>\n",
       "    <tr>\n",
       "      <th>5</th>\n",
       "      <td>9305-CDSKC</td>\n",
       "      <td>Fiber optic</td>\n",
       "      <td>No</td>\n",
       "      <td>No</td>\n",
       "      <td>Yes</td>\n",
       "      <td>No</td>\n",
       "      <td>Yes</td>\n",
       "      <td>Yes</td>\n",
       "    </tr>\n",
       "    <tr>\n",
       "      <th>6</th>\n",
       "      <td>1452-KIOVK</td>\n",
       "      <td>Fiber optic</td>\n",
       "      <td>No</td>\n",
       "      <td>Yes</td>\n",
       "      <td>No</td>\n",
       "      <td>No</td>\n",
       "      <td>Yes</td>\n",
       "      <td>No</td>\n",
       "    </tr>\n",
       "    <tr>\n",
       "      <th>7</th>\n",
       "      <td>6713-OKOMC</td>\n",
       "      <td>DSL</td>\n",
       "      <td>Yes</td>\n",
       "      <td>No</td>\n",
       "      <td>No</td>\n",
       "      <td>No</td>\n",
       "      <td>No</td>\n",
       "      <td>No</td>\n",
       "    </tr>\n",
       "    <tr>\n",
       "      <th>8</th>\n",
       "      <td>7892-POOKP</td>\n",
       "      <td>Fiber optic</td>\n",
       "      <td>No</td>\n",
       "      <td>No</td>\n",
       "      <td>Yes</td>\n",
       "      <td>Yes</td>\n",
       "      <td>Yes</td>\n",
       "      <td>Yes</td>\n",
       "    </tr>\n",
       "    <tr>\n",
       "      <th>9</th>\n",
       "      <td>6388-TABGU</td>\n",
       "      <td>DSL</td>\n",
       "      <td>Yes</td>\n",
       "      <td>Yes</td>\n",
       "      <td>No</td>\n",
       "      <td>No</td>\n",
       "      <td>No</td>\n",
       "      <td>No</td>\n",
       "    </tr>\n",
       "  </tbody>\n",
       "</table>\n",
       "</div>"
      ],
      "text/plain": [
       "   customerID InternetService OnlineSecurity OnlineBackup DeviceProtection  \\\n",
       "0  7590-VHVEG             DSL             No          Yes               No   \n",
       "1  5575-GNVDE             DSL            Yes           No              Yes   \n",
       "2  3668-QPYBK             DSL            Yes          Yes               No   \n",
       "3  7795-CFOCW             DSL            Yes           No              Yes   \n",
       "4  9237-HQITU     Fiber optic             No           No               No   \n",
       "5  9305-CDSKC     Fiber optic             No           No              Yes   \n",
       "6  1452-KIOVK     Fiber optic             No          Yes               No   \n",
       "7  6713-OKOMC             DSL            Yes           No               No   \n",
       "8  7892-POOKP     Fiber optic             No           No              Yes   \n",
       "9  6388-TABGU             DSL            Yes          Yes               No   \n",
       "\n",
       "  TechSupport StreamingTV StreamingMovies  \n",
       "0          No          No              No  \n",
       "1          No          No              No  \n",
       "2          No          No              No  \n",
       "3         Yes          No              No  \n",
       "4          No          No              No  \n",
       "5          No         Yes             Yes  \n",
       "6          No         Yes              No  \n",
       "7          No          No              No  \n",
       "8         Yes         Yes             Yes  \n",
       "9          No          No              No  "
      ]
     },
     "metadata": {},
     "output_type": "display_data"
    },
    {
     "name": "stdout",
     "output_type": "stream",
     "text": [
      "<class 'pandas.core.frame.DataFrame'>\n",
      "RangeIndex: 5517 entries, 0 to 5516\n",
      "Data columns (total 8 columns):\n",
      " #   Column            Non-Null Count  Dtype \n",
      "---  ------            --------------  ----- \n",
      " 0   customerID        5517 non-null   object\n",
      " 1   InternetService   5517 non-null   object\n",
      " 2   OnlineSecurity    5517 non-null   object\n",
      " 3   OnlineBackup      5517 non-null   object\n",
      " 4   DeviceProtection  5517 non-null   object\n",
      " 5   TechSupport       5517 non-null   object\n",
      " 6   StreamingTV       5517 non-null   object\n",
      " 7   StreamingMovies   5517 non-null   object\n",
      "dtypes: object(8)\n",
      "memory usage: 344.9+ KB\n"
     ]
    }
   ],
   "source": [
    "display(internet.head(10))\n",
    "internet.info()"
   ]
  },
  {
   "cell_type": "markdown",
   "metadata": {},
   "source": [
    "Всего представлена информация о 5517 клиентах, что говорит о том, что интернет-услугами пользуются только 5517 клиентов из всех 7043.\n",
    "\n",
    "Пропусков и дубликатов в таблице не обнаружено.\n",
    "\n",
    "Артефактов не обнаружено.\n",
    "\n",
    "Названия столбцов следует привести к змеиному регистру."
   ]
  },
  {
   "cell_type": "code",
   "execution_count": 15,
   "metadata": {},
   "outputs": [],
   "source": [
    "# переименуем столбцы, чтобы привести к корректному виду\n",
    "internet = internet.rename(columns={'customerID': 'customer_id', 'InternetService': 'internet_service',\n",
    "                                    'OnlineSecurity': 'online_security', 'OnlineBackup': 'online_backup',\n",
    "                                    'DeviceProtection': 'device_protection', 'TechSupport': 'tech_support',\n",
    "                                    'StreamingTV': 'streaming_tv', 'StreamingMovies': 'streaming_movies'})"
   ]
  },
  {
   "cell_type": "markdown",
   "metadata": {},
   "source": [
    "### Таблица \"Информация об услугах телефонии\""
   ]
  },
  {
   "cell_type": "markdown",
   "metadata": {},
   "source": [
    "**Названия столбцов:**\n",
    "\n",
    "customerID - код клиента\n",
    "\n",
    "MultipleLines - наличие возможности ведения параллельных линий во время звонка"
   ]
  },
  {
   "cell_type": "code",
   "execution_count": 16,
   "metadata": {},
   "outputs": [
    {
     "data": {
      "text/html": [
       "<div>\n",
       "<style scoped>\n",
       "    .dataframe tbody tr th:only-of-type {\n",
       "        vertical-align: middle;\n",
       "    }\n",
       "\n",
       "    .dataframe tbody tr th {\n",
       "        vertical-align: top;\n",
       "    }\n",
       "\n",
       "    .dataframe thead th {\n",
       "        text-align: right;\n",
       "    }\n",
       "</style>\n",
       "<table border=\"1\" class=\"dataframe\">\n",
       "  <thead>\n",
       "    <tr style=\"text-align: right;\">\n",
       "      <th></th>\n",
       "      <th>customerID</th>\n",
       "      <th>MultipleLines</th>\n",
       "    </tr>\n",
       "  </thead>\n",
       "  <tbody>\n",
       "    <tr>\n",
       "      <th>0</th>\n",
       "      <td>5575-GNVDE</td>\n",
       "      <td>No</td>\n",
       "    </tr>\n",
       "    <tr>\n",
       "      <th>1</th>\n",
       "      <td>3668-QPYBK</td>\n",
       "      <td>No</td>\n",
       "    </tr>\n",
       "    <tr>\n",
       "      <th>2</th>\n",
       "      <td>9237-HQITU</td>\n",
       "      <td>No</td>\n",
       "    </tr>\n",
       "    <tr>\n",
       "      <th>3</th>\n",
       "      <td>9305-CDSKC</td>\n",
       "      <td>Yes</td>\n",
       "    </tr>\n",
       "    <tr>\n",
       "      <th>4</th>\n",
       "      <td>1452-KIOVK</td>\n",
       "      <td>Yes</td>\n",
       "    </tr>\n",
       "    <tr>\n",
       "      <th>5</th>\n",
       "      <td>7892-POOKP</td>\n",
       "      <td>Yes</td>\n",
       "    </tr>\n",
       "    <tr>\n",
       "      <th>6</th>\n",
       "      <td>6388-TABGU</td>\n",
       "      <td>No</td>\n",
       "    </tr>\n",
       "    <tr>\n",
       "      <th>7</th>\n",
       "      <td>9763-GRSKD</td>\n",
       "      <td>No</td>\n",
       "    </tr>\n",
       "    <tr>\n",
       "      <th>8</th>\n",
       "      <td>7469-LKBCI</td>\n",
       "      <td>No</td>\n",
       "    </tr>\n",
       "    <tr>\n",
       "      <th>9</th>\n",
       "      <td>8091-TTVAX</td>\n",
       "      <td>Yes</td>\n",
       "    </tr>\n",
       "  </tbody>\n",
       "</table>\n",
       "</div>"
      ],
      "text/plain": [
       "   customerID MultipleLines\n",
       "0  5575-GNVDE            No\n",
       "1  3668-QPYBK            No\n",
       "2  9237-HQITU            No\n",
       "3  9305-CDSKC           Yes\n",
       "4  1452-KIOVK           Yes\n",
       "5  7892-POOKP           Yes\n",
       "6  6388-TABGU            No\n",
       "7  9763-GRSKD            No\n",
       "8  7469-LKBCI            No\n",
       "9  8091-TTVAX           Yes"
      ]
     },
     "metadata": {},
     "output_type": "display_data"
    },
    {
     "name": "stdout",
     "output_type": "stream",
     "text": [
      "<class 'pandas.core.frame.DataFrame'>\n",
      "RangeIndex: 6361 entries, 0 to 6360\n",
      "Data columns (total 2 columns):\n",
      " #   Column         Non-Null Count  Dtype \n",
      "---  ------         --------------  ----- \n",
      " 0   customerID     6361 non-null   object\n",
      " 1   MultipleLines  6361 non-null   object\n",
      "dtypes: object(2)\n",
      "memory usage: 99.5+ KB\n"
     ]
    }
   ],
   "source": [
    "#phone = pd.read_csv('phone.csv')\n",
    "display(phone.head(10))\n",
    "phone.info()"
   ]
  },
  {
   "cell_type": "markdown",
   "metadata": {},
   "source": [
    "Всего представлена информация о 6361 клиентах, что говорит о том, что телефонией пользуется 6361 клиент из всех 7043.\n",
    "\n",
    "Пропусков и дубликатов в таблице не обнаружено.\n",
    "\n",
    "Артефактов не обнаружено.\n",
    "\n",
    "Названия столбцов следует привести к змеиному регистру."
   ]
  },
  {
   "cell_type": "code",
   "execution_count": 17,
   "metadata": {},
   "outputs": [],
   "source": [
    "# переименуем столбцы, чтобы привести к корректному виду\n",
    "phone = phone.rename(columns={'customerID': 'customer_id', 'MultipleLines': 'multiple_lines'})"
   ]
  },
  {
   "cell_type": "markdown",
   "metadata": {},
   "source": [
    "**Выводы:**\n",
    "\n",
    "Данные готовы для дальнейшей работы."
   ]
  },
  {
   "cell_type": "markdown",
   "metadata": {},
   "source": [
    "## Обработка и подготовка данных"
   ]
  },
  {
   "cell_type": "markdown",
   "metadata": {},
   "source": [
    "Обработаем данные для удобной работы. Объединим их в единую таблицу, предварительно дополнив информацией о клиентах, которые пользуются телефонией и аналогично интернетом. Заменим информацию в столбцах на категориальные переменные."
   ]
  },
  {
   "cell_type": "code",
   "execution_count": 18,
   "metadata": {},
   "outputs": [],
   "source": [
    "internet['internet'] = 1 # добавим столбец с информацией о подключенном интернете\n",
    "\n",
    "phone['phone'] = 1 # добавим столбец с информацией о том, что клиент пользуется телефонией\n",
    "\n",
    "# добавим столбец 'active' с информацией пользуется ли клиент услугами компании или ушел, где:\n",
    "# No - клиент ушел\n",
    "# Yes - клиент пользуется услугами до сих пор\n",
    "contract.loc[contract['end_date'] != 'No', 'active'] = 'No'\n",
    "contract.loc[contract['end_date'] == 'No', 'active'] = 'Yes'\n",
    "\n",
    "# Закодируем некоторые тектовые переменные, которые можно обозначить значениями 1 и 0, например Yes=1, No=0: \n",
    "contract = contract.replace({'paperless_billing':{'Yes':1, 'No':0}})\n",
    "\n",
    "internet = internet.replace({'online_security':{'Yes':1, 'No':0},\n",
    "                             'online_backup':{'Yes':1, 'No':0},\n",
    "                             'device_protection':{'Yes':1, 'No':0},\n",
    "                             'tech_support':{'Yes':1, 'No':0},\n",
    "                             'streaming_tv':{'Yes':1, 'No':0},\n",
    "                             'streaming_movies':{'Yes':1, 'No':0}})\n",
    "                                                     \n",
    "personal = personal.replace({'partner':{'Yes':1, 'No':0},\n",
    "                             'dependents':{'Yes':1, 'No':0}})\n",
    "\n",
    "phone = phone.replace({'multiple_lines':{'Yes':1, 'No':0}})\n",
    "\n",
    "# Объединим все таблицы в одну таблицу 'data'\n",
    "data = contract.merge(personal, how='left').merge(internet, how='left').merge(phone, how='left')\n",
    "\n",
    "# Заменим полученные после объединения пустые строки в столбцах 'internet' и 'phone' на 0\n",
    "data = data.fillna(0)"
   ]
  },
  {
   "cell_type": "code",
   "execution_count": 19,
   "metadata": {},
   "outputs": [
    {
     "name": "stdout",
     "output_type": "stream",
     "text": [
      "<class 'pandas.core.frame.DataFrame'>\n",
      "Int64Index: 7043 entries, 0 to 7042\n",
      "Data columns (total 23 columns):\n",
      " #   Column             Non-Null Count  Dtype         \n",
      "---  ------             --------------  -----         \n",
      " 0   customer_id        7043 non-null   object        \n",
      " 1   begin_date         7043 non-null   datetime64[ns]\n",
      " 2   end_date           7043 non-null   object        \n",
      " 3   type               7043 non-null   object        \n",
      " 4   paperless_billing  7043 non-null   int64         \n",
      " 5   payment_method     7043 non-null   object        \n",
      " 6   monthly_charges    7043 non-null   float64       \n",
      " 7   total_charges      7043 non-null   float64       \n",
      " 8   active             7043 non-null   object        \n",
      " 9   gender             7043 non-null   object        \n",
      " 10  senior_citizen     7043 non-null   int64         \n",
      " 11  partner            7043 non-null   int64         \n",
      " 12  dependents         7043 non-null   int64         \n",
      " 13  internet_service   7043 non-null   object        \n",
      " 14  online_security    7043 non-null   float64       \n",
      " 15  online_backup      7043 non-null   float64       \n",
      " 16  device_protection  7043 non-null   float64       \n",
      " 17  tech_support       7043 non-null   float64       \n",
      " 18  streaming_tv       7043 non-null   float64       \n",
      " 19  streaming_movies   7043 non-null   float64       \n",
      " 20  internet           7043 non-null   float64       \n",
      " 21  multiple_lines     7043 non-null   float64       \n",
      " 22  phone              7043 non-null   float64       \n",
      "dtypes: datetime64[ns](1), float64(11), int64(4), object(7)\n",
      "memory usage: 1.3+ MB\n"
     ]
    }
   ],
   "source": [
    "data.info() # Проверим произведенные преобразования"
   ]
  },
  {
   "cell_type": "code",
   "execution_count": 20,
   "metadata": {},
   "outputs": [
    {
     "data": {
      "text/plain": [
       "<seaborn.axisgrid.PairGrid at 0x242588969a0>"
      ]
     },
     "execution_count": 20,
     "metadata": {},
     "output_type": "execute_result"
    },
    {
     "data": {
      "image/png": "[encoded data removed]",
      "text/plain": [
       "<Figure size 772x720 with 20 Axes>"
      ]
     },
     "metadata": {
      "needs_background": "light"
     },
     "output_type": "display_data"
    }
   ],
   "source": [
    "# рассмотрим кореляции между данными для двух групп клиентов (действующих и ушедших)\n",
    "data_hist = data.drop(['internet_service', 'online_security', 'online_backup', 'multiple_lines', 'payment_method',\n",
    "                         'gender', 'paperless_billing', 'device_protection', 'tech_support', 'senior_citizen',\n",
    "                         'streaming_tv', 'streaming_movies', 'partner', 'dependents'], axis=1)\n",
    "sns.pairplot(data_hist, hue=\"active\", diag_kind=\"hist\")"
   ]
  },
  {
   "cell_type": "markdown",
   "metadata": {},
   "source": [
    "**Вывод:** заметна кореляция между ежемесячным платежом и платежом общим, на общем фоне выделяются расторгнувшие договор с высоким ежемесячным платежом и низкой общей стоимостью, что может говорить о том, что уходят в основном те, кто находился в обслуживании недлительное время, а среди оставшихся преобладают те, у кого ежемесячный плтеж минимальный. "
   ]
  },
  {
   "cell_type": "markdown",
   "metadata": {},
   "source": [
    "## Сравним распределения величин ежемесячных платежей (MonthlyCharges) всех клиентов и тех, кто ушёл"
   ]
  },
  {
   "cell_type": "code",
   "execution_count": 21,
   "metadata": {},
   "outputs": [
    {
     "data": {
      "image/png": "[encoded data removed]",
      "text/plain": [
       "<Figure size 400x160 with 1 Axes>"
      ]
     },
     "metadata": {
      "needs_background": "light"
     },
     "output_type": "display_data"
    }
   ],
   "source": [
    "plt.figure(figsize=(5,2), dpi=80)\n",
    "sns.barplot(y='active', x='monthly_charges', data=data)\n",
    "plt.title(\"Гистограмма средней цены ежемесячного платежа действующих клиентов и тех кто ушел\")\n",
    "plt.show()"
   ]
  },
  {
   "cell_type": "markdown",
   "metadata": {},
   "source": [
    "Средний чек за месяц у действующих клиентов ниже, чем у тех, кто ушел"
   ]
  },
  {
   "cell_type": "code",
   "execution_count": 22,
   "metadata": {},
   "outputs": [
    {
     "data": {
      "image/png": "[encoded data removed]",
      "text/plain": [
       "<Figure size 1200x240 with 1 Axes>"
      ]
     },
     "metadata": {
      "needs_background": "light"
     },
     "output_type": "display_data"
    }
   ],
   "source": [
    "plt.figure(figsize=(15,3), dpi=80)\n",
    "data_date = data.sort_values(by='begin_date')\n",
    "data_date['begin_date'] = data_date['begin_date'].dt.strftime('%Y-%m-%d')\n",
    "sns.barplot(y='monthly_charges', x='begin_date', data=data_date)\n",
    "plt.xticks(rotation = 90)\n",
    "plt.title(\"Средняя цена ежемесячного платежа по дате\")\n",
    "plt.show()"
   ]
  },
  {
   "cell_type": "markdown",
   "metadata": {},
   "source": [
    "С годами средний ежемесячный платеж снижается"
   ]
  },
  {
   "cell_type": "markdown",
   "metadata": {},
   "source": [
    "## Для каждой группы посчитаем статистику: средние, минимальные и максимальные значения, медиану и величины 25%- и 75%-квартилей."
   ]
  },
  {
   "cell_type": "code",
   "execution_count": 23,
   "metadata": {},
   "outputs": [
    {
     "data": {
      "text/html": [
       "<div>\n",
       "<style scoped>\n",
       "    .dataframe tbody tr th:only-of-type {\n",
       "        vertical-align: middle;\n",
       "    }\n",
       "\n",
       "    .dataframe tbody tr th {\n",
       "        vertical-align: top;\n",
       "    }\n",
       "\n",
       "    .dataframe thead th {\n",
       "        text-align: right;\n",
       "    }\n",
       "</style>\n",
       "<table border=\"1\" class=\"dataframe\">\n",
       "  <thead>\n",
       "    <tr style=\"text-align: right;\">\n",
       "      <th></th>\n",
       "      <th>broken_contract</th>\n",
       "      <th>current_contract</th>\n",
       "    </tr>\n",
       "  </thead>\n",
       "  <tbody>\n",
       "    <tr>\n",
       "      <th>count</th>\n",
       "      <td>1869.000000</td>\n",
       "      <td>5174.000000</td>\n",
       "    </tr>\n",
       "    <tr>\n",
       "      <th>mean</th>\n",
       "      <td>74.441332</td>\n",
       "      <td>61.265124</td>\n",
       "    </tr>\n",
       "    <tr>\n",
       "      <th>std</th>\n",
       "      <td>24.666053</td>\n",
       "      <td>31.092648</td>\n",
       "    </tr>\n",
       "    <tr>\n",
       "      <th>min</th>\n",
       "      <td>18.850000</td>\n",
       "      <td>18.250000</td>\n",
       "    </tr>\n",
       "    <tr>\n",
       "      <th>25%</th>\n",
       "      <td>56.150000</td>\n",
       "      <td>25.100000</td>\n",
       "    </tr>\n",
       "    <tr>\n",
       "      <th>50%</th>\n",
       "      <td>79.650000</td>\n",
       "      <td>64.425000</td>\n",
       "    </tr>\n",
       "    <tr>\n",
       "      <th>75%</th>\n",
       "      <td>94.200000</td>\n",
       "      <td>88.400000</td>\n",
       "    </tr>\n",
       "    <tr>\n",
       "      <th>max</th>\n",
       "      <td>118.350000</td>\n",
       "      <td>118.750000</td>\n",
       "    </tr>\n",
       "  </tbody>\n",
       "</table>\n",
       "</div>"
      ],
      "text/plain": [
       "       broken_contract  current_contract\n",
       "count      1869.000000       5174.000000\n",
       "mean         74.441332         61.265124\n",
       "std          24.666053         31.092648\n",
       "min          18.850000         18.250000\n",
       "25%          56.150000         25.100000\n",
       "50%          79.650000         64.425000\n",
       "75%          94.200000         88.400000\n",
       "max         118.350000        118.750000"
      ]
     },
     "metadata": {},
     "output_type": "display_data"
    }
   ],
   "source": [
    "# Cредние, минимальные и максимальные значения, медиану и величины 25%- и 75%-квартилей оплаты в месяц действующих клиентов\n",
    "data_y = data.query(\"active == 'Yes'\")\n",
    "data_1 = data_y.pivot_table(index=['customer_id'], values='monthly_charges', aggfunc='mean')\n",
    "data_1_describe = data_1.describe()\n",
    "# переименуем столбец\n",
    "data_1_describe = data_1_describe.rename(columns={'monthly_charges': 'current_contract'})\n",
    "\n",
    "# Cредние, минимальные и максимальные значения, медиану и величины 25%- и 75%-квартилей оплаты в месяц ушедших клиентов\n",
    "data_n = data.query(\"active == 'No'\")\n",
    "data_0 = data_n.pivot_table(index=['customer_id'], values='monthly_charges', aggfunc='mean')\n",
    "data_0_describe = data_0.describe()\n",
    "# переименуем столбец\n",
    "data_0_describe = data_0_describe.rename(columns={'monthly_charges': 'broken_contract'})\n",
    "\n",
    "# Объединим полученные величины в единую таблицу\n",
    "data_describe = data_0_describe.join(data_1_describe, how='left')\n",
    "display(data_describe)"
   ]
  },
  {
   "cell_type": "code",
   "execution_count": 24,
   "metadata": {},
   "outputs": [
    {
     "data": {
      "text/plain": [
       "Text(0.5, 1.0, 'Сравнение диаграмм размаха ежемесячных расходов для действующих клиентов и для тех, кто ушел')"
      ]
     },
     "execution_count": 24,
     "metadata": {},
     "output_type": "execute_result"
    },
    {
     "data": {
      "image/png": "[encoded data removed]",
      "text/plain": [
       "<Figure size 480x160 with 1 Axes>"
      ]
     },
     "metadata": {
      "needs_background": "light"
     },
     "output_type": "display_data"
    }
   ],
   "source": [
    "plt.figure(figsize=(6,2), dpi=80)\n",
    "sns.boxplot(x=data['monthly_charges'], y=data['active'])\n",
    "\n",
    "plt.title(\"Сравнение диаграмм размаха ежемесячных расходов для действующих клиентов и для тех, кто ушел\")"
   ]
  },
  {
   "cell_type": "markdown",
   "metadata": {},
   "source": [
    "По всем показателям, действующие тратят в месяц меньше, чем ушедшие."
   ]
  },
  {
   "cell_type": "markdown",
   "metadata": {},
   "source": [
    "## Построим гистограмму распределения."
   ]
  },
  {
   "cell_type": "code",
   "execution_count": 25,
   "metadata": {},
   "outputs": [
    {
     "data": {
      "image/png": "[encoded data removed]",
      "text/plain": [
       "<Figure size 1200x560 with 1 Axes>"
      ]
     },
     "metadata": {
      "needs_background": "light"
     },
     "output_type": "display_data"
    }
   ],
   "source": [
    "plt.figure(figsize=(15,7), dpi=80)\n",
    "plt.hist(data_y['monthly_charges'], bins=60, alpha=0.7, label='действительные клиены')\n",
    "plt.hist(data_n['monthly_charges'], bins=60, alpha=0.7, label='ушедшие клиенты')\n",
    "\n",
    "plt.grid(True)\n",
    "plt.title(\"Гистограмма ежемесячных платежей\")\n",
    "plt.legend()\n",
    "plt.ylabel(\"Количество клиентов\")\n",
    "plt.xlabel(\"Платеж в месяц\")\n",
    "plt.show()"
   ]
  },
  {
   "cell_type": "markdown",
   "metadata": {},
   "source": [
    "Заметно большое количество действительных клиентов, у которых ежемесячный платеж минимальный и составляет 20. Можно сказать, что доля ушедших среди тех, кто находится на минимальном тарифе, наименьшая, по сравнению с теми, кто находится на более дорогих тарифах."
   ]
  },
  {
   "cell_type": "code",
   "execution_count": 26,
   "metadata": {},
   "outputs": [
    {
     "data": {
      "image/png": "[encoded data removed]",
      "text/plain": [
       "<Figure size 640x160 with 1 Axes>"
      ]
     },
     "metadata": {
      "needs_background": "light"
     },
     "output_type": "display_data"
    }
   ],
   "source": [
    "plt.figure(figsize=(8,2), dpi=80)\n",
    "data['active'].hist(orientation='horizontal', bins=4)\n",
    "plt.title(\"Количество действительных и ушедших пользователей\")\n",
    "plt.xlabel(\"Количество клиентов\")\n",
    "plt.ylabel(\"Действует ли договор\")\n",
    "plt.show()"
   ]
  },
  {
   "cell_type": "markdown",
   "metadata": {},
   "source": [
    "Количество действительных клиентов более чем в 2,5 раза больше ушедших клиентов. При дальнейшем обучении модели следует это учитывать, т.к. данные несбллансированные."
   ]
  },
  {
   "cell_type": "code",
   "execution_count": 27,
   "metadata": {},
   "outputs": [
    {
     "data": {
      "image/png": "[encoded data removed]",
      "text/plain": [
       "<Figure size 1200x560 with 1 Axes>"
      ]
     },
     "metadata": {
      "needs_background": "light"
     },
     "output_type": "display_data"
    }
   ],
   "source": [
    "active = [0, 1]\n",
    "plt.figure(figsize=(15,7), dpi=80)\n",
    "\n",
    "plt.hist(data[data['active']== 'Yes']['begin_date'], bins=70, alpha=0.7, label='действительные клиенты')\n",
    "plt.hist(data[data['active']== 'No']['begin_date'], bins=70, alpha=0.7, label='ушедшие клиенты')\n",
    " \n",
    "plt.grid(True)\n",
    "plt.title(\"Ггистограмма количества заключенных договоров по годам\")\n",
    "plt.ylabel(\"Количество клиентов\")\n",
    "plt.xlabel(\"Год\")\n",
    "plt.legend()\n",
    "plt.show()"
   ]
  },
  {
   "cell_type": "markdown",
   "metadata": {},
   "source": [
    "По графику видно, что клиенты стали уходить интенсивнее в последнее время. Также, заметно,  что в конце чило приходящих клиентов меньше или равно уходящим клиентам."
   ]
  },
  {
   "cell_type": "code",
   "execution_count": 28,
   "metadata": {},
   "outputs": [
    {
     "data": {
      "image/png": "[encoded data removed]",
      "text/plain": [
       "<Figure size 720x240 with 1 Axes>"
      ]
     },
     "metadata": {
      "needs_background": "light"
     },
     "output_type": "display_data"
    }
   ],
   "source": [
    "plt.figure(figsize=(9,3), dpi=80)\n",
    "\n",
    "plt.hist(data[data['active']== 'Yes']['type'], bins=5, alpha=0.7,\n",
    "         label='действительные клиенты', orientation='horizontal')\n",
    "plt.hist(data[data['active']== 'No']['type'], bins=5, alpha=0.7,\n",
    "         label='ушедшие клиенты', orientation='horizontal')\n",
    " \n",
    "plt.grid(True)\n",
    "plt.title(\"Гистограмма количества клиентов в зависимости от типа оплаты\")\n",
    "plt.ylabel(\"Количество клиентов\")\n",
    "plt.xlabel(\"Тип оплаты\")\n",
    "plt.legend()\n",
    "plt.show()"
   ]
  },
  {
   "cell_type": "markdown",
   "metadata": {},
   "source": [
    "Можно увидеть, что пользователи, которые оплачивают услуги помесячно уходят чаще."
   ]
  },
  {
   "cell_type": "code",
   "execution_count": 29,
   "metadata": {},
   "outputs": [
    {
     "data": {
      "image/png": "[encoded data removed]",
      "text/plain": [
       "<Figure size 480x240 with 1 Axes>"
      ]
     },
     "metadata": {
      "needs_background": "light"
     },
     "output_type": "display_data"
    }
   ],
   "source": [
    "data_n = data.query(\"active == 'No'\")\n",
    "data_n['end_date'] = pd.to_datetime(data_n['end_date'], format='%Y-%m-%dT%H:%M:%S')\n",
    "\n",
    "active = [0, 1]\n",
    "plt.figure(figsize=(6,3), dpi=80)\n",
    "\n",
    "plt.hist(data_n['end_date'], bins=10, alpha=0.7, orientation='horizontal')\n",
    " \n",
    "plt.grid(True)\n",
    "plt.title(\"Гистограмма количества расторгнутых договоров по датам\")\n",
    "plt.xlabel(\"Количество клиентов\")\n",
    "plt.ylabel(\"Дата\")\n",
    "plt.show()"
   ]
  },
  {
   "cell_type": "markdown",
   "metadata": {},
   "source": [
    "Из графика расторгнутых договоров видно, что клиенты стали уходить только начиная с октября 2019. Ежемесячно производится расторжение примерно одинакового количества договоров примерно, т.е. ежемесячно уходят ориентировочно 450-480 клиентов."
   ]
  },
  {
   "cell_type": "markdown",
   "metadata": {},
   "source": [
    "## Сравним поведение клиентов этих двух групп. Для каждой построим два графика, изображающих:"
   ]
  },
  {
   "cell_type": "markdown",
   "metadata": {},
   "source": [
    "- долю пользователей телефонной связи"
   ]
  },
  {
   "cell_type": "code",
   "execution_count": 30,
   "metadata": {},
   "outputs": [
    {
     "data": {
      "image/png": "[encoded data removed]",
      "text/plain": [
       "<Figure size 720x240 with 1 Axes>"
      ]
     },
     "metadata": {
      "needs_background": "light"
     },
     "output_type": "display_data"
    }
   ],
   "source": [
    "plt.figure(figsize=(9,3), dpi=80)\n",
    "\n",
    "data_new = data\n",
    "data_new.loc[data_new['phone'] == 0, 'phone'] = 'No'\n",
    "data_new.loc[data_new['phone'] == 1, 'phone'] = 'Yes'\n",
    "\n",
    "plt.hist(data_new[data_new['active']== 'Yes']['phone'], bins=10, alpha=0.7,\n",
    "         label='действительные клиенты', orientation='horizontal', density=True)\n",
    "plt.hist(data_new[data_new['active']== 'No']['phone'], bins=10, alpha=0.7,\n",
    "         label='ушедшие клиенты', orientation='horizontal', density=True)\n",
    " \n",
    "plt.grid(True)\n",
    "plt.title(\"Гистограмма количества клиентов пользующихся телефонией\")\n",
    "plt.ylabel(\"Пользуется ли клинет телефонией\")\n",
    "plt.xlabel(\"Доля пользующихся, 10%\")\n",
    "plt.legend()\n",
    "plt.show()"
   ]
  },
  {
   "cell_type": "markdown",
   "metadata": {},
   "source": [
    "В обеих группах клиентов доля пользователей телефонией примерно одинаковая и составляет около 90%"
   ]
  },
  {
   "cell_type": "markdown",
   "metadata": {},
   "source": [
    "- долю интернет-пользователей"
   ]
  },
  {
   "cell_type": "code",
   "execution_count": 31,
   "metadata": {},
   "outputs": [
    {
     "data": {
      "image/png": "[encoded data removed]",
      "text/plain": [
       "<Figure size 720x240 with 1 Axes>"
      ]
     },
     "metadata": {
      "needs_background": "light"
     },
     "output_type": "display_data"
    }
   ],
   "source": [
    "plt.figure(figsize=(9,3), dpi=80)\n",
    "\n",
    "data_new = data\n",
    "data_new.loc[data_new['internet'] == 0, 'internet'] = 'No'\n",
    "data_new.loc[data_new['internet'] == 1, 'internet'] = 'Yes'\n",
    "\n",
    "plt.hist(data_new[data_new['active']== 'Yes']['internet'], bins=10, alpha=0.7,\n",
    "         label='действительные клиенты', orientation='horizontal', density=True)\n",
    "plt.hist(data_new[data_new['active']== 'No']['internet'], bins=10, alpha=0.7,\n",
    "         label='ушедшие клиенты', orientation='horizontal', density=True)\n",
    " \n",
    "plt.grid(True)\n",
    "plt.title(\"Гистограмма количества клиентов пользующихся интернетом\")\n",
    "plt.ylabel(\"Пользуется ли клинет интернетом\")\n",
    "plt.xlabel(\"Доля пользующихся, 10%\")\n",
    "plt.legend()\n",
    "plt.show()"
   ]
  },
  {
   "cell_type": "markdown",
   "metadata": {},
   "source": [
    "Среди ушедших клиентов более 90% пользователей пользовались интернет услугами, тогда как остающиехся пользователей использующих интернет только 72%"
   ]
  },
  {
   "cell_type": "markdown",
   "metadata": {},
   "source": [
    "**Выводы:**\n",
    "\n",
    "В ходе анализа данных было выявлено, что клиенты стали расторгать договор только начиная с октября 2019 года. В месяц уходит примерно 450-480 клиентов. При этом много ушедших клиентов, которые только что заключили договор.\n",
    "\n",
    "Также видно, что на последний предоставленный период число приходящих клиентов примерно равно или меньше уходящим клиентам.\n",
    "\n",
    "Основное различие двух рассматриваемых групп клиентов (ушедших и остающихся) в том, что средняя, максимальная и минимальная оплата за месяц сравнимо ниже у тех клиентов, кто остакется. Т.е. клиенты, которые платят много - уходят. Причины могут крыться в неудачно выбранных тарифах, отсутствия пакета услуг для тех кто много тратит трафика либо в наличии конкурентного провайдера, который за сравнимый пакет услуг предлагает мешьную стоимость.\n",
    "\n",
    "Согласно представленным данным, пользователи, которые оплачивают услуги помесячно уходят чаще.\n",
    "\n",
    "Среди ушедших клиентов более 93% пользователей пользовались интернет услугами, тогда как остающиехся пользователей использующих интернет только 72%."
   ]
  },
  {
   "cell_type": "markdown",
   "metadata": {},
   "source": [
    "# Шаг II. Моделирование"
   ]
  },
  {
   "cell_type": "markdown",
   "metadata": {},
   "source": [
    "## Подготовка данных для обучения модели"
   ]
  },
  {
   "cell_type": "code",
   "execution_count": 32,
   "metadata": {},
   "outputs": [],
   "source": [
    "# добавим дополнительный признак - продолжительность обслуживания клиента 'tenure'\n",
    "\n",
    "current_date = '2020-02-01 00:00:00'\n",
    "data.loc[data['end_date'] == 'No', 'end_date'] = current_date # заменим 'No' в столбце 'end_date' на дату предоставления данных\n",
    "data['end_date'] = pd.to_datetime(data['end_date'], format='%Y-%m-%dT%H:%M:%S') # переведем тип данных 'end_date' к дате\n",
    "data['tenure'] = data['end_date'] - data['begin_date'] # вычтем дату заключения договора из даты окончания договора\n",
    "data['tenure']=data['tenure'].dt.days # приведем тип новых данных к числовому\n",
    "\n",
    "# заменим нулевые значения в столбце на 30 дней\n",
    "data.loc[data['tenure'] == 0, 'tenure'] = 30 "
   ]
  },
  {
   "cell_type": "code",
   "execution_count": 33,
   "metadata": {},
   "outputs": [],
   "source": [
    "# отбросим лишние для работы признаки такие как общая стоимость платежей как дублирующий признак,\n",
    "# даты подключения и расторжения договоров, идентификационный номер клиента \n",
    "data = data.drop(['customer_id', 'begin_date', 'end_date', 'total_charges'], axis=1) \n",
    "\n",
    "# закодируем целевой столбец 'active' с информацией пользуется ли клиент услугами компании или ушел, где:\n",
    "# No - 1 (клиент ушел)\n",
    "# Yes - 0 (клиент не ушел)\n",
    "data = data.replace({'active':{'Yes':0, 'No':1}})\n",
    "\n",
    "# закодируем оставшиеся еще незакодированные текстовые переменные\n",
    "data = pd.get_dummies(data, drop_first=True)"
   ]
  },
  {
   "cell_type": "code",
   "execution_count": 34,
   "metadata": {},
   "outputs": [
    {
     "data": {
      "text/html": [
       "<div>\n",
       "<style scoped>\n",
       "    .dataframe tbody tr th:only-of-type {\n",
       "        vertical-align: middle;\n",
       "    }\n",
       "\n",
       "    .dataframe tbody tr th {\n",
       "        vertical-align: top;\n",
       "    }\n",
       "\n",
       "    .dataframe thead th {\n",
       "        text-align: right;\n",
       "    }\n",
       "</style>\n",
       "<table border=\"1\" class=\"dataframe\">\n",
       "  <thead>\n",
       "    <tr style=\"text-align: right;\">\n",
       "      <th></th>\n",
       "      <th>paperless_billing</th>\n",
       "      <th>monthly_charges</th>\n",
       "      <th>active</th>\n",
       "      <th>senior_citizen</th>\n",
       "      <th>partner</th>\n",
       "      <th>dependents</th>\n",
       "      <th>online_security</th>\n",
       "      <th>online_backup</th>\n",
       "      <th>device_protection</th>\n",
       "      <th>tech_support</th>\n",
       "      <th>...</th>\n",
       "      <th>type_One year</th>\n",
       "      <th>type_Two year</th>\n",
       "      <th>payment_method_Credit card (automatic)</th>\n",
       "      <th>payment_method_Electronic check</th>\n",
       "      <th>payment_method_Mailed check</th>\n",
       "      <th>gender_Male</th>\n",
       "      <th>internet_service_DSL</th>\n",
       "      <th>internet_service_Fiber optic</th>\n",
       "      <th>internet_Yes</th>\n",
       "      <th>phone_Yes</th>\n",
       "    </tr>\n",
       "  </thead>\n",
       "  <tbody>\n",
       "    <tr>\n",
       "      <th>0</th>\n",
       "      <td>1</td>\n",
       "      <td>29.85</td>\n",
       "      <td>0</td>\n",
       "      <td>0</td>\n",
       "      <td>1</td>\n",
       "      <td>0</td>\n",
       "      <td>0.0</td>\n",
       "      <td>1.0</td>\n",
       "      <td>0.0</td>\n",
       "      <td>0.0</td>\n",
       "      <td>...</td>\n",
       "      <td>0</td>\n",
       "      <td>0</td>\n",
       "      <td>0</td>\n",
       "      <td>1</td>\n",
       "      <td>0</td>\n",
       "      <td>0</td>\n",
       "      <td>1</td>\n",
       "      <td>0</td>\n",
       "      <td>1</td>\n",
       "      <td>0</td>\n",
       "    </tr>\n",
       "    <tr>\n",
       "      <th>1</th>\n",
       "      <td>0</td>\n",
       "      <td>56.95</td>\n",
       "      <td>0</td>\n",
       "      <td>0</td>\n",
       "      <td>0</td>\n",
       "      <td>0</td>\n",
       "      <td>1.0</td>\n",
       "      <td>0.0</td>\n",
       "      <td>1.0</td>\n",
       "      <td>0.0</td>\n",
       "      <td>...</td>\n",
       "      <td>1</td>\n",
       "      <td>0</td>\n",
       "      <td>0</td>\n",
       "      <td>0</td>\n",
       "      <td>1</td>\n",
       "      <td>1</td>\n",
       "      <td>1</td>\n",
       "      <td>0</td>\n",
       "      <td>1</td>\n",
       "      <td>1</td>\n",
       "    </tr>\n",
       "    <tr>\n",
       "      <th>2</th>\n",
       "      <td>1</td>\n",
       "      <td>53.85</td>\n",
       "      <td>1</td>\n",
       "      <td>0</td>\n",
       "      <td>0</td>\n",
       "      <td>0</td>\n",
       "      <td>1.0</td>\n",
       "      <td>1.0</td>\n",
       "      <td>0.0</td>\n",
       "      <td>0.0</td>\n",
       "      <td>...</td>\n",
       "      <td>0</td>\n",
       "      <td>0</td>\n",
       "      <td>0</td>\n",
       "      <td>0</td>\n",
       "      <td>1</td>\n",
       "      <td>1</td>\n",
       "      <td>1</td>\n",
       "      <td>0</td>\n",
       "      <td>1</td>\n",
       "      <td>1</td>\n",
       "    </tr>\n",
       "    <tr>\n",
       "      <th>3</th>\n",
       "      <td>0</td>\n",
       "      <td>42.30</td>\n",
       "      <td>0</td>\n",
       "      <td>0</td>\n",
       "      <td>0</td>\n",
       "      <td>0</td>\n",
       "      <td>1.0</td>\n",
       "      <td>0.0</td>\n",
       "      <td>1.0</td>\n",
       "      <td>1.0</td>\n",
       "      <td>...</td>\n",
       "      <td>1</td>\n",
       "      <td>0</td>\n",
       "      <td>0</td>\n",
       "      <td>0</td>\n",
       "      <td>0</td>\n",
       "      <td>1</td>\n",
       "      <td>1</td>\n",
       "      <td>0</td>\n",
       "      <td>1</td>\n",
       "      <td>0</td>\n",
       "    </tr>\n",
       "    <tr>\n",
       "      <th>4</th>\n",
       "      <td>1</td>\n",
       "      <td>70.70</td>\n",
       "      <td>1</td>\n",
       "      <td>0</td>\n",
       "      <td>0</td>\n",
       "      <td>0</td>\n",
       "      <td>0.0</td>\n",
       "      <td>0.0</td>\n",
       "      <td>0.0</td>\n",
       "      <td>0.0</td>\n",
       "      <td>...</td>\n",
       "      <td>0</td>\n",
       "      <td>0</td>\n",
       "      <td>0</td>\n",
       "      <td>1</td>\n",
       "      <td>0</td>\n",
       "      <td>0</td>\n",
       "      <td>0</td>\n",
       "      <td>1</td>\n",
       "      <td>1</td>\n",
       "      <td>1</td>\n",
       "    </tr>\n",
       "    <tr>\n",
       "      <th>...</th>\n",
       "      <td>...</td>\n",
       "      <td>...</td>\n",
       "      <td>...</td>\n",
       "      <td>...</td>\n",
       "      <td>...</td>\n",
       "      <td>...</td>\n",
       "      <td>...</td>\n",
       "      <td>...</td>\n",
       "      <td>...</td>\n",
       "      <td>...</td>\n",
       "      <td>...</td>\n",
       "      <td>...</td>\n",
       "      <td>...</td>\n",
       "      <td>...</td>\n",
       "      <td>...</td>\n",
       "      <td>...</td>\n",
       "      <td>...</td>\n",
       "      <td>...</td>\n",
       "      <td>...</td>\n",
       "      <td>...</td>\n",
       "      <td>...</td>\n",
       "    </tr>\n",
       "    <tr>\n",
       "      <th>7038</th>\n",
       "      <td>1</td>\n",
       "      <td>84.80</td>\n",
       "      <td>0</td>\n",
       "      <td>0</td>\n",
       "      <td>1</td>\n",
       "      <td>1</td>\n",
       "      <td>1.0</td>\n",
       "      <td>0.0</td>\n",
       "      <td>1.0</td>\n",
       "      <td>1.0</td>\n",
       "      <td>...</td>\n",
       "      <td>1</td>\n",
       "      <td>0</td>\n",
       "      <td>0</td>\n",
       "      <td>0</td>\n",
       "      <td>1</td>\n",
       "      <td>1</td>\n",
       "      <td>1</td>\n",
       "      <td>0</td>\n",
       "      <td>1</td>\n",
       "      <td>1</td>\n",
       "    </tr>\n",
       "    <tr>\n",
       "      <th>7039</th>\n",
       "      <td>1</td>\n",
       "      <td>103.20</td>\n",
       "      <td>0</td>\n",
       "      <td>0</td>\n",
       "      <td>1</td>\n",
       "      <td>1</td>\n",
       "      <td>0.0</td>\n",
       "      <td>1.0</td>\n",
       "      <td>1.0</td>\n",
       "      <td>0.0</td>\n",
       "      <td>...</td>\n",
       "      <td>1</td>\n",
       "      <td>0</td>\n",
       "      <td>1</td>\n",
       "      <td>0</td>\n",
       "      <td>0</td>\n",
       "      <td>0</td>\n",
       "      <td>0</td>\n",
       "      <td>1</td>\n",
       "      <td>1</td>\n",
       "      <td>1</td>\n",
       "    </tr>\n",
       "    <tr>\n",
       "      <th>7040</th>\n",
       "      <td>1</td>\n",
       "      <td>29.60</td>\n",
       "      <td>0</td>\n",
       "      <td>0</td>\n",
       "      <td>1</td>\n",
       "      <td>1</td>\n",
       "      <td>1.0</td>\n",
       "      <td>0.0</td>\n",
       "      <td>0.0</td>\n",
       "      <td>0.0</td>\n",
       "      <td>...</td>\n",
       "      <td>0</td>\n",
       "      <td>0</td>\n",
       "      <td>0</td>\n",
       "      <td>1</td>\n",
       "      <td>0</td>\n",
       "      <td>0</td>\n",
       "      <td>1</td>\n",
       "      <td>0</td>\n",
       "      <td>1</td>\n",
       "      <td>0</td>\n",
       "    </tr>\n",
       "    <tr>\n",
       "      <th>7041</th>\n",
       "      <td>1</td>\n",
       "      <td>74.40</td>\n",
       "      <td>1</td>\n",
       "      <td>1</td>\n",
       "      <td>1</td>\n",
       "      <td>0</td>\n",
       "      <td>0.0</td>\n",
       "      <td>0.0</td>\n",
       "      <td>0.0</td>\n",
       "      <td>0.0</td>\n",
       "      <td>...</td>\n",
       "      <td>0</td>\n",
       "      <td>0</td>\n",
       "      <td>0</td>\n",
       "      <td>0</td>\n",
       "      <td>1</td>\n",
       "      <td>1</td>\n",
       "      <td>0</td>\n",
       "      <td>1</td>\n",
       "      <td>1</td>\n",
       "      <td>1</td>\n",
       "    </tr>\n",
       "    <tr>\n",
       "      <th>7042</th>\n",
       "      <td>1</td>\n",
       "      <td>105.65</td>\n",
       "      <td>0</td>\n",
       "      <td>0</td>\n",
       "      <td>0</td>\n",
       "      <td>0</td>\n",
       "      <td>1.0</td>\n",
       "      <td>0.0</td>\n",
       "      <td>1.0</td>\n",
       "      <td>1.0</td>\n",
       "      <td>...</td>\n",
       "      <td>0</td>\n",
       "      <td>1</td>\n",
       "      <td>0</td>\n",
       "      <td>0</td>\n",
       "      <td>0</td>\n",
       "      <td>1</td>\n",
       "      <td>0</td>\n",
       "      <td>1</td>\n",
       "      <td>1</td>\n",
       "      <td>1</td>\n",
       "    </tr>\n",
       "  </tbody>\n",
       "</table>\n",
       "<p>7043 rows × 24 columns</p>\n",
       "</div>"
      ],
      "text/plain": [
       "      paperless_billing  monthly_charges  active  senior_citizen  partner  \\\n",
       "0                     1            29.85       0               0        1   \n",
       "1                     0            56.95       0               0        0   \n",
       "2                     1            53.85       1               0        0   \n",
       "3                     0            42.30       0               0        0   \n",
       "4                     1            70.70       1               0        0   \n",
       "...                 ...              ...     ...             ...      ...   \n",
       "7038                  1            84.80       0               0        1   \n",
       "7039                  1           103.20       0               0        1   \n",
       "7040                  1            29.60       0               0        1   \n",
       "7041                  1            74.40       1               1        1   \n",
       "7042                  1           105.65       0               0        0   \n",
       "\n",
       "      dependents  online_security  online_backup  device_protection  \\\n",
       "0              0              0.0            1.0                0.0   \n",
       "1              0              1.0            0.0                1.0   \n",
       "2              0              1.0            1.0                0.0   \n",
       "3              0              1.0            0.0                1.0   \n",
       "4              0              0.0            0.0                0.0   \n",
       "...          ...              ...            ...                ...   \n",
       "7038           1              1.0            0.0                1.0   \n",
       "7039           1              0.0            1.0                1.0   \n",
       "7040           1              1.0            0.0                0.0   \n",
       "7041           0              0.0            0.0                0.0   \n",
       "7042           0              1.0            0.0                1.0   \n",
       "\n",
       "      tech_support  ...  type_One year  type_Two year  \\\n",
       "0              0.0  ...              0              0   \n",
       "1              0.0  ...              1              0   \n",
       "2              0.0  ...              0              0   \n",
       "3              1.0  ...              1              0   \n",
       "4              0.0  ...              0              0   \n",
       "...            ...  ...            ...            ...   \n",
       "7038           1.0  ...              1              0   \n",
       "7039           0.0  ...              1              0   \n",
       "7040           0.0  ...              0              0   \n",
       "7041           0.0  ...              0              0   \n",
       "7042           1.0  ...              0              1   \n",
       "\n",
       "      payment_method_Credit card (automatic)  payment_method_Electronic check  \\\n",
       "0                                          0                                1   \n",
       "1                                          0                                0   \n",
       "2                                          0                                0   \n",
       "3                                          0                                0   \n",
       "4                                          0                                1   \n",
       "...                                      ...                              ...   \n",
       "7038                                       0                                0   \n",
       "7039                                       1                                0   \n",
       "7040                                       0                                1   \n",
       "7041                                       0                                0   \n",
       "7042                                       0                                0   \n",
       "\n",
       "      payment_method_Mailed check  gender_Male  internet_service_DSL  \\\n",
       "0                               0            0                     1   \n",
       "1                               1            1                     1   \n",
       "2                               1            1                     1   \n",
       "3                               0            1                     1   \n",
       "4                               0            0                     0   \n",
       "...                           ...          ...                   ...   \n",
       "7038                            1            1                     1   \n",
       "7039                            0            0                     0   \n",
       "7040                            0            0                     1   \n",
       "7041                            1            1                     0   \n",
       "7042                            0            1                     0   \n",
       "\n",
       "      internet_service_Fiber optic  internet_Yes  phone_Yes  \n",
       "0                                0             1          0  \n",
       "1                                0             1          1  \n",
       "2                                0             1          1  \n",
       "3                                0             1          0  \n",
       "4                                1             1          1  \n",
       "...                            ...           ...        ...  \n",
       "7038                             0             1          1  \n",
       "7039                             1             1          1  \n",
       "7040                             0             1          0  \n",
       "7041                             1             1          1  \n",
       "7042                             1             1          1  \n",
       "\n",
       "[7043 rows x 24 columns]"
      ]
     },
     "metadata": {},
     "output_type": "display_data"
    }
   ],
   "source": [
    "display(data)"
   ]
  },
  {
   "cell_type": "markdown",
   "metadata": {},
   "source": [
    "## Разделение данных на тренировочную, валидационную и тестовую выборки"
   ]
  },
  {
   "cell_type": "code",
   "execution_count": 35,
   "metadata": {},
   "outputs": [
    {
     "name": "stdout",
     "output_type": "stream",
     "text": [
      "(4225, 23)\n",
      "(1409, 23)\n",
      "(1409, 23)\n"
     ]
    }
   ],
   "source": [
    "# Разобъем данные на выборки 60/20/20\n",
    "\n",
    "features = data.drop(['active'], axis=1)\n",
    "target = data['active']\n",
    "\n",
    "features_train, features_temp, target_train, target_temp = train_test_split(features, target, train_size=0.6, random_state=12345)\n",
    "features_valid, features_test, target_valid, target_test = train_test_split(features_temp, target_temp, test_size=0.5, train_size=0.5, random_state=12345)\n",
    "\n",
    "# проверим размеры воборки\n",
    "print(features_train.shape)\n",
    "print(features_valid.shape)\n",
    "print(features_test.shape)"
   ]
  },
  {
   "cell_type": "code",
   "execution_count": 36,
   "metadata": {},
   "outputs": [],
   "source": [
    "# отмасштабируем признаки, т.к. данные в 'monthly_charges', 'tenure' сильно отличаются от прочих\n",
    "numeric = ['monthly_charges', 'tenure']\n",
    "\n",
    "scaler = StandardScaler()\n",
    "scaler.fit(features_train[numeric])\n",
    "features_train[numeric] = scaler.transform(features_train[numeric])\n",
    "features_valid[numeric] = scaler.transform(features_valid[numeric])\n",
    "features_test[numeric] = scaler.transform(features_test[numeric])"
   ]
  },
  {
   "cell_type": "markdown",
   "metadata": {},
   "source": [
    "## Обучение моделей"
   ]
  },
  {
   "cell_type": "markdown",
   "metadata": {},
   "source": [
    "Рассмотрим модели, которые дали наиболее качественные результаты"
   ]
  },
  {
   "cell_type": "markdown",
   "metadata": {},
   "source": [
    "### Модель логистической регрессии"
   ]
  },
  {
   "cell_type": "code",
   "execution_count": 37,
   "metadata": {},
   "outputs": [
    {
     "data": {
      "text/plain": [
       "{'max_iter': 10, 'penalty': 'l2', 'solver': 'saga'}"
      ]
     },
     "execution_count": 37,
     "metadata": {},
     "output_type": "execute_result"
    }
   ],
   "source": [
    "# Сперва найдем лучшие настройки для модели Логистической регрессии\n",
    "model = LogisticRegression(random_state=12345, class_weight='balanced')\n",
    "parametrs = {'penalty':['l2', 'l1'],\n",
    "             'solver':['saga', 'sag'],\n",
    "             'max_iter':[10, 100, 200]}\n",
    "\n",
    "grid = GridSearchCV(model, parametrs, cv=5)\n",
    "grid.fit(features_train, target_train)\n",
    "grid.best_params_"
   ]
  },
  {
   "cell_type": "code",
   "execution_count": 38,
   "metadata": {},
   "outputs": [
    {
     "name": "stdout",
     "output_type": "stream",
     "text": [
      "Показание матрики AUC-ROC для валидационной выборки модели Логистической регрессии 0.85\n",
      "Показание матрики accuracy для валидационной выборки модели Логистической регрессии 0.76\n"
     ]
    }
   ],
   "source": [
    "# Обучим модель Логистической регрессии\n",
    "# Учтем дисбалланс классов с помощью встроенной в модель настройки\n",
    "\n",
    "model = LogisticRegression(random_state=12345, class_weight='balanced', C=1.5375, max_iter=10, penalty='l2', solver='saga')\n",
    "model.fit(features_train, target_train)\n",
    "\n",
    "probabilities_valid = model.predict_proba(features_valid)\n",
    "probabilities_one_valid = probabilities_valid[:, 1]\n",
    "\n",
    "auc_roc_val_lr = round(roc_auc_score(target_valid, probabilities_one_valid), 2)\n",
    "\n",
    "print('Показание матрики AUC-ROC для валидационной выборки модели Логистической регрессии', auc_roc_val_lr)\n",
    "\n",
    "predicted_valid = model.predict(features_valid)\n",
    "acc_val_lr = round(accuracy_score(target_valid, predicted_valid), 2)\n",
    "print('Показание матрики accuracy для валидационной выборки модели Логистической регрессии', acc_val_lr)"
   ]
  },
  {
   "cell_type": "markdown",
   "metadata": {},
   "source": [
    "### Модель Случайный лес"
   ]
  },
  {
   "cell_type": "code",
   "execution_count": 39,
   "metadata": {},
   "outputs": [
    {
     "data": {
      "text/plain": [
       "{'max_depth': 11,\n",
       " 'min_samples_leaf': 1,\n",
       " 'min_samples_split': 2,\n",
       " 'n_estimators': 40}"
      ]
     },
     "execution_count": 39,
     "metadata": {},
     "output_type": "execute_result"
    }
   ],
   "source": [
    "# Найдем лучшие параметры для модели \n",
    "model = RandomForestClassifier(random_state=12345, class_weight='balanced')\n",
    "parametrs = { 'n_estimators': range (10, 51, 10),\n",
    "              'max_depth': range (1,13, 2),\n",
    "              'min_samples_leaf': range (1,8),\n",
    "              'min_samples_split': range (2,10,2) }\n",
    "\n",
    "grid = GridSearchCV(model, parametrs, cv=5)\n",
    "grid.fit(features_train, target_train)\n",
    "grid.best_params_"
   ]
  },
  {
   "cell_type": "code",
   "execution_count": 40,
   "metadata": {},
   "outputs": [
    {
     "name": "stdout",
     "output_type": "stream",
     "text": [
      "Показание матрики AUC-ROC для валидационной выборки модели Случайный лес 0.86\n",
      "Показание матрики accuracy для валидационной выборки модели Случайный лес 0.78\n"
     ]
    }
   ],
   "source": [
    "# Обучим модель случайный лес\n",
    "# Учтем дисбалланс классов с помощью встроенной в модель настройки\n",
    "\n",
    "model = RandomForestClassifier(random_state=12345, class_weight='balanced', max_depth=9,\n",
    "                               min_samples_leaf=4, min_samples_split=2, n_estimators=40)\n",
    "model.fit(features_train, target_train)\n",
    "predicted_valid =  model.predict(features_valid)\n",
    "\n",
    "probabilities_valid = model.predict_proba(features_valid)\n",
    "probabilities_one_valid = probabilities_valid[:, 1]\n",
    "\n",
    "auc_roc_val_rf = round(roc_auc_score(target_valid, probabilities_one_valid), 2)\n",
    "\n",
    "print('Показание матрики AUC-ROC для валидационной выборки модели Случайный лес', auc_roc_val_rf)\n",
    "\n",
    "probabilities_test = model.predict_proba(features_test)\n",
    "probabilities_one_test = probabilities_test[:, 1]\n",
    "\n",
    "predicted_valid = model.predict(features_valid)\n",
    "acc_val_rf = round(accuracy_score(target_valid, predicted_valid), 2)\n",
    "print('Показание матрики accuracy для валидационной выборки модели Случайный лес', acc_val_rf)"
   ]
  },
  {
   "cell_type": "markdown",
   "metadata": {},
   "source": [
    "**ВЫВОДЫ:**\n",
    "Из представленных моделей наиболее высокую метрику AUC-ROC показывает модель линейной регрессии и модель случайного леса. Также, на них мною были проработаны еще два метода борьбы с дисбаллансом классов (увеличение выборки и уменьшение выборки), которые дали метрику AUC-ROC хуже встроенного инструмента борьбы с дисбаллансов в настройках модели. Во избежании лишней информации приводить эти исследования не стала."
   ]
  },
  {
   "cell_type": "markdown",
   "metadata": {},
   "source": [
    "### Модель градиентного бустинга CatBoost"
   ]
  },
  {
   "cell_type": "code",
   "execution_count": 41,
   "metadata": {},
   "outputs": [
    {
     "name": "stdout",
     "output_type": "stream",
     "text": [
      "Learning rate set to 0.103513\n",
      "0:\tlearn: 0.6223196\ttotal: 153ms\tremaining: 24s\n",
      "10:\tlearn: 0.4142823\ttotal: 211ms\tremaining: 2.82s\n",
      "20:\tlearn: 0.3761877\ttotal: 257ms\tremaining: 1.68s\n",
      "30:\tlearn: 0.3604253\ttotal: 304ms\tremaining: 1.25s\n",
      "40:\tlearn: 0.3486091\ttotal: 353ms\tremaining: 1.01s\n",
      "50:\tlearn: 0.3389921\ttotal: 398ms\tremaining: 835ms\n",
      "60:\tlearn: 0.3298334\ttotal: 449ms\tremaining: 714ms\n",
      "70:\tlearn: 0.3218761\ttotal: 497ms\tremaining: 609ms\n",
      "80:\tlearn: 0.3123777\ttotal: 555ms\tremaining: 527ms\n",
      "90:\tlearn: 0.3033750\ttotal: 610ms\tremaining: 449ms\n",
      "100:\tlearn: 0.2920929\ttotal: 670ms\tremaining: 378ms\n",
      "110:\tlearn: 0.2832170\ttotal: 732ms\tremaining: 310ms\n",
      "120:\tlearn: 0.2764951\ttotal: 781ms\tremaining: 239ms\n",
      "130:\tlearn: 0.2700456\ttotal: 873ms\tremaining: 180ms\n",
      "140:\tlearn: 0.2626462\ttotal: 918ms\tremaining: 111ms\n",
      "150:\tlearn: 0.2555675\ttotal: 976ms\tremaining: 45.3ms\n",
      "157:\tlearn: 0.2508052\ttotal: 1.02s\tremaining: 0us\n",
      "Показание матрики AUC-ROC для валидационной выборки модели градиентного спуска CatBoost 0.9\n",
      "Показание матрики accuracy для валидационной выборки модели градиентного спуска CatBoost 0.84\n"
     ]
    }
   ],
   "source": [
    "model =  CatBoostClassifier(loss_function=\"Logloss\", iterations=158) \n",
    "\n",
    "model.fit(features_train, target_train, verbose=10)\n",
    "\n",
    "probabilities_valid = model.predict_proba(features_valid)\n",
    "probabilities_one_valid = probabilities_valid[:, 1]\n",
    "\n",
    "auc_roc_val_cb = round(roc_auc_score(target_valid, probabilities_one_valid), 2)\n",
    "\n",
    "print('Показание матрики AUC-ROC для валидационной выборки модели градиентного спуска CatBoost', auc_roc_val_cb)\n",
    "\n",
    "predicted_valid = model.predict(features_valid)\n",
    "acc_val_cb = round(accuracy_score(target_valid, predicted_valid), 2)\n",
    "print('Показание матрики accuracy для валидационной выборки модели градиентного спуска CatBoost', acc_val_cb)\n"
   ]
  },
  {
   "cell_type": "markdown",
   "metadata": {},
   "source": [
    "### Модель градиентного бустинга LGBMClassifier"
   ]
  },
  {
   "cell_type": "code",
   "execution_count": 42,
   "metadata": {},
   "outputs": [
    {
     "data": {
      "text/plain": [
       "{'max_depth': 3, 'n_estimators': 500}"
      ]
     },
     "execution_count": 42,
     "metadata": {},
     "output_type": "execute_result"
    }
   ],
   "source": [
    "# Поиск лучших параметров для модели\n",
    "\n",
    "params = {\n",
    "    'max_depth': [-1, 3, 5],\n",
    "    'n_estimators': [50, 100, 200, 500]}\n",
    "\n",
    "grid = GridSearchCV(lgb.LGBMClassifier(random_state=12345), params, scoring='r2', cv=5)\n",
    "grid.fit(features_train, target_train)\n",
    "\n",
    "reg = lgb.LGBMClassifier(random_state=12345)\n",
    "\n",
    "grid.best_params_"
   ]
  },
  {
   "cell_type": "code",
   "execution_count": 47,
   "metadata": {},
   "outputs": [
    {
     "name": "stdout",
     "output_type": "stream",
     "text": [
      "Показание матрики AUC-ROC для валидационной выборки модели градиентного спуска LGBMClassifier 0.91\n",
      "Показание матрики accuracy для валидационной выборки модели градиентного спуска LGBMClassifier 0.85\n"
     ]
    }
   ],
   "source": [
    "# Обучение модели градиентного бустинга\n",
    "model = LGBMClassifier(random_state=12345, max_depth=3, n_estimators=500)\n",
    "model.fit(features_train, target_train)\n",
    "\n",
    "model.fit(features_train, target_train, verbose=10)\n",
    "\n",
    "probabilities_valid = model.predict_proba(features_valid)\n",
    "probabilities_one_valid = probabilities_valid[:, 1]\n",
    "\n",
    "auc_roc_val_lgbm = round(roc_auc_score(target_valid, probabilities_one_valid), 2)\n",
    "\n",
    "print('Показание матрики AUC-ROC для валидационной выборки модели градиентного спуска LGBMClassifier', auc_roc_val_lgbm)\n",
    "\n",
    "predicted_valid = model.predict(features_valid)\n",
    "acc_val_lgbm = round(accuracy_score(target_valid, predicted_valid), 2)\n",
    "print('Показание матрики accuracy для валидационной выборки модели градиентного спуска LGBMClassifier', acc_val_lgbm)"
   ]
  },
  {
   "cell_type": "markdown",
   "metadata": {},
   "source": [
    "### Дамми модель для сравнения"
   ]
  },
  {
   "cell_type": "code",
   "execution_count": 45,
   "metadata": {},
   "outputs": [
    {
     "name": "stdout",
     "output_type": "stream",
     "text": [
      "Показание матрики AUC-ROC для валидационной выборки контантной модели 0.5\n",
      "Показание матрики AUC-ROC для тестовой выборки константной модели 0.5\n",
      "Показание матрики accuracy для валидационной выборки константной модели 0.73\n",
      "Показание матрики accuracy для тестовой выборки константной модели 0.73\n"
     ]
    }
   ],
   "source": [
    "model_const = DummyClassifier(strategy=\"most_frequent\") \n",
    "model_const.fit(features_train, target_train)\n",
    "\n",
    "probabilities_valid = model_const.predict_proba(features_valid)\n",
    "probabilities_one_valid = probabilities_valid[:, 1]\n",
    "\n",
    "auc_roc_val_const = round(roc_auc_score(target_valid, probabilities_one_valid), 2)\n",
    "\n",
    "print('Показание матрики AUC-ROC для валидационной выборки контантной модели', auc_roc_val_const)\n",
    "\n",
    "predicted_valid = model_const.predict(features_valid)\n",
    "acc_val_const = round(accuracy_score(target_valid, predicted_valid), 2)               \n",
    "print('Показание матрики accuracy для валидационной выборки константной модели', acc_val_const)"
   ]
  },
  {
   "cell_type": "markdown",
   "metadata": {},
   "source": [
    "## Сравним рассмотренные модели "
   ]
  },
  {
   "cell_type": "code",
   "execution_count": 48,
   "metadata": {},
   "outputs": [
    {
     "data": {
      "text/html": [
       "<div>\n",
       "<style scoped>\n",
       "    .dataframe tbody tr th:only-of-type {\n",
       "        vertical-align: middle;\n",
       "    }\n",
       "\n",
       "    .dataframe tbody tr th {\n",
       "        vertical-align: top;\n",
       "    }\n",
       "\n",
       "    .dataframe thead th {\n",
       "        text-align: right;\n",
       "    }\n",
       "</style>\n",
       "<table border=\"1\" class=\"dataframe\">\n",
       "  <thead>\n",
       "    <tr style=\"text-align: right;\">\n",
       "      <th></th>\n",
       "      <th>model</th>\n",
       "      <th>auc_roc_val</th>\n",
       "      <th>acc_val</th>\n",
       "    </tr>\n",
       "  </thead>\n",
       "  <tbody>\n",
       "    <tr>\n",
       "      <th>0</th>\n",
       "      <td>LogisticRegression</td>\n",
       "      <td>0.85</td>\n",
       "      <td>0.76</td>\n",
       "    </tr>\n",
       "    <tr>\n",
       "      <th>1</th>\n",
       "      <td>RandomForestClassifier</td>\n",
       "      <td>0.86</td>\n",
       "      <td>0.78</td>\n",
       "    </tr>\n",
       "    <tr>\n",
       "      <th>2</th>\n",
       "      <td>CatBoostClassifier</td>\n",
       "      <td>0.90</td>\n",
       "      <td>0.84</td>\n",
       "    </tr>\n",
       "    <tr>\n",
       "      <th>3</th>\n",
       "      <td>LGBMClassifier</td>\n",
       "      <td>0.91</td>\n",
       "      <td>0.85</td>\n",
       "    </tr>\n",
       "    <tr>\n",
       "      <th>4</th>\n",
       "      <td>DummyClassifier</td>\n",
       "      <td>0.50</td>\n",
       "      <td>0.73</td>\n",
       "    </tr>\n",
       "  </tbody>\n",
       "</table>\n",
       "</div>"
      ],
      "text/plain": [
       "                    model  auc_roc_val  acc_val\n",
       "0      LogisticRegression         0.85     0.76\n",
       "1  RandomForestClassifier         0.86     0.78\n",
       "2      CatBoostClassifier         0.90     0.84\n",
       "3          LGBMClassifier         0.91     0.85\n",
       "4         DummyClassifier         0.50     0.73"
      ]
     },
     "metadata": {},
     "output_type": "display_data"
    }
   ],
   "source": [
    "# Сравним полученные модели\n",
    "\n",
    "models = ['LogisticRegression', 'RandomForestClassifier', 'CatBoostClassifier', 'LGBMClassifier', 'DummyClassifier']\n",
    "auc_roc_val = [auc_roc_val_lr, auc_roc_val_rf, auc_roc_val_cb, auc_roc_val_lgbm, auc_roc_val_const]\n",
    "acc_val = [acc_val_lr, acc_val_rf, acc_val_cb, acc_val_lgbm, acc_val_const]\n",
    "\n",
    "model_comp = pd.DataFrame({'model': models,'auc_roc_val': auc_roc_val, 'acc_val': acc_val})\n",
    "\n",
    "display(model_comp)"
   ]
  },
  {
   "cell_type": "markdown",
   "metadata": {},
   "source": [
    "Модель градиентного спуска LGBMClassifier представила наиболее качественные результаты на валидационной выборке. Проверим ее работу на тестовой выборке."
   ]
  },
  {
   "cell_type": "markdown",
   "metadata": {},
   "source": [
    "### Определение матрики accuracy для тестовой выборки модели градиентного спуска LGBMClassifier"
   ]
  },
  {
   "cell_type": "code",
   "execution_count": 49,
   "metadata": {},
   "outputs": [
    {
     "name": "stdout",
     "output_type": "stream",
     "text": [
      "Показание матрики AUC-ROC для тестовой выборки модели градиентного спуска LGBMClassifier 0.91\n",
      "Показание матрики accuracy для тестовой выборки модели градиентного спуска LGBMClassifier 0.87\n"
     ]
    }
   ],
   "source": [
    "probabilities_test = model.predict_proba(features_test)\n",
    "probabilities_one_test = probabilities_test[:, 1]\n",
    "auc_roc_test_lgbm = round(roc_auc_score(target_test, probabilities_one_test), 2)\n",
    "print('Показание матрики AUC-ROC для тестовой выборки модели градиентного спуска LGBMClassifier', auc_roc_test_lgbm)\n",
    "\n",
    "predicted_test = model.predict(features_test)\n",
    "acc_test_lgbm = round(accuracy_score(target_test, predicted_test), 2)\n",
    "print('Показание матрики accuracy для тестовой выборки модели градиентного спуска LGBMClassifier', acc_test_lgbm)"
   ]
  },
  {
   "cell_type": "markdown",
   "metadata": {},
   "source": [
    "## Определим степень важности представленных признаков для модели LGBM, которая показала наилучший результат по метрикам"
   ]
  },
  {
   "cell_type": "code",
   "execution_count": 50,
   "metadata": {},
   "outputs": [
    {
     "data": {
      "image/png": "[encoded data removed]",
      "text/plain": [
       "<Figure size 1500x800 with 1 Axes>"
      ]
     },
     "metadata": {
      "needs_background": "light"
     },
     "output_type": "display_data"
    }
   ],
   "source": [
    "importances = model.feature_importances_\n",
    "feature_list = list(features_train.columns)\n",
    "feature_results = pd.DataFrame({'feature': feature_list,'importance': importances})\n",
    "feature_results = feature_results.sort_values('importance',ascending = False).reset_index(drop=True)\n",
    "\n",
    "plt.figure(figsize=(15,8), dpi=100)\n",
    "sns.barplot(y='feature', x='importance', data=feature_results)\n",
    "\n",
    "plt.title(\"Диаграмма важности представленных признаков в предсказании модели\")\n",
    "plt.show()"
   ]
  },
  {
   "cell_type": "markdown",
   "metadata": {},
   "source": [
    "## Выводы:\n",
    "\n",
    "Цель оператора связи «Ниединогоразрыва.ком» - получить механизм по опрелелению клиентов потенциально готовых уйти.\n",
    "\n",
    "В связи с чем, заказчиком были предоставлены данные, на основе которых требовалось разработать модель по предсказанию парметра - уйдет ли клиент или клиент уходить не готов.\n",
    "\n",
    "Сперва, в работе был проведен анализ данных, который показал, что клиенты стали уходить только 4 месяца назад (с октября 2019).  А также, была вявлена связь между ежемесячным платежом клиента и его способностью расторгнуть довор, т.е. чем выше ежемесячный платеж, тем выше вероятноть того, что клиент уйдет. Хотя большая часть уходящих - это те, кто заключил договор недавно, но средняя стоимость месячного обслуживания недавно заключивших договор гораздо ниже, чем у \"старичков\".\n",
    "Длительность осблуживания, как показало дальнейшее моделирование, очень весомый фактор, который влияет на способность клиента уйти и здесь важно определить причины того, что именно послужило причиной ухода клиентов, начиная с сентября 2019 года.\n",
    "\n",
    "Также, были выявлены другие взаимосвязи. Например, стало понятно, что среди тех, кто оплачивает услуги помесячно, вероятность уйти выше, чем среди тех, кто платит на один/два года вперед. Пользование телефонией практически не влияет на желание уйти, тогда как доля пользовавшихся интернетом гораздо выше среди ушедших, чем среди тех, кто интернернет услугами не пользуется. Хотя, пользование интернетом или телефонией не оказались весомыми факторами при моделировании.\n",
    "\n",
    "В качестве признаков для дальнейшего обучения моделей были отобраны не все исходные данные, а именно, были исключены такие параметры как идентификационный номер клиента, дата начала договора, столбец с датой окончания договора и общая стоимость уплаченная клиентом за обслуживание.\n",
    "Последние были заменены на дополнительный признак - длительность обслуживания клиента, который считается как дата начала договора минус дата окончания договора для тех кто его разорвал либо дата предоставления данных для тех кто находится в обслуживании.\n",
    "\n",
    "Далее были рассмотрены четыре модели, из которых наиболее качественные результаты дала модель градиентного бустинга LGBMClassifier, у которой метрика AUC ROC достигает 0,91 на тестовой выборке. Для проверки моделей на адекватность в сводной таблице приведена метрика accuracy для всех моделей и для константной модели, все рассмотренные модели меют метрику accuracy выше, чем у константной.\n",
    "\n",
    "Обученную модель LGBMClassifier можно использовать для определения потенциальных клиентов готовых уйти. Однако, стоит отметить, что в формировании новой метрики по длительности обслуживания дата предоставления данных записана в переменную 'current_date', эту переменную стоит перезаписывать каждую новую партию предоставления данных и соответсвующим образом предподготваливать признаки.\n",
    "\n",
    "Также, сперва рекомендуем пересмотреть сетку ежемесячных тарифов для более эффективного удержания клиентов и проанализировать изменения внесенные в тарифы или политику компании начиная с сентября 2019 года, если такие были, либо определить сторонные факторы, послужившие катализатором ухода клиентов начиная с октября 2019 года. "
   ]
  }
 ],
 "metadata": {
  "ExecuteTimeLog": [
   {
    "duration": 316,
    "start_time": "2022-02-22T09:36:14.834Z"
   },
   {
    "duration": 455,
    "start_time": "2022-02-22T09:36:29.736Z"
   },
   {
    "duration": 447,
    "start_time": "2022-02-22T09:36:36.359Z"
   },
   {
    "duration": 174,
    "start_time": "2022-02-22T09:36:41.201Z"
   },
   {
    "duration": 420,
    "start_time": "2022-02-22T09:36:46.046Z"
   },
   {
    "duration": 163,
    "start_time": "2022-02-22T09:37:02.766Z"
   },
   {
    "duration": 782,
    "start_time": "2022-02-22T09:38:24.128Z"
   },
   {
    "duration": 82,
    "start_time": "2022-02-22T09:38:25.022Z"
   },
   {
    "duration": 64,
    "start_time": "2022-02-22T09:38:42.947Z"
   },
   {
    "duration": 541,
    "start_time": "2022-02-22T09:42:07.803Z"
   },
   {
    "duration": 77,
    "start_time": "2022-02-22T09:42:31.472Z"
   },
   {
    "duration": 6,
    "start_time": "2022-02-22T09:56:48.040Z"
   },
   {
    "duration": 16,
    "start_time": "2022-02-22T09:57:06.589Z"
   },
   {
    "duration": 81,
    "start_time": "2022-02-22T11:42:48.014Z"
   },
   {
    "duration": 7,
    "start_time": "2022-02-22T11:43:16.459Z"
   },
   {
    "duration": 3158,
    "start_time": "2022-02-22T11:54:17.214Z"
   },
   {
    "duration": -34,
    "start_time": "2022-02-22T11:54:20.409Z"
   },
   {
    "duration": 6,
    "start_time": "2022-02-22T12:06:56.886Z"
   },
   {
    "duration": 2611,
    "start_time": "2022-02-22T12:07:13.927Z"
   },
   {
    "duration": 5,
    "start_time": "2022-02-22T12:07:24.004Z"
   },
   {
    "duration": 10,
    "start_time": "2022-02-22T12:10:02.698Z"
   },
   {
    "duration": 26,
    "start_time": "2022-02-22T12:11:37.771Z"
   },
   {
    "duration": 121,
    "start_time": "2022-02-22T12:14:53.838Z"
   },
   {
    "duration": 82,
    "start_time": "2022-02-22T12:15:01.135Z"
   },
   {
    "duration": 9387,
    "start_time": "2022-02-22T12:33:10.926Z"
   },
   {
    "duration": 4,
    "start_time": "2022-02-22T12:33:39.783Z"
   },
   {
    "duration": 108,
    "start_time": "2022-02-22T12:33:39.791Z"
   },
   {
    "duration": 6,
    "start_time": "2022-02-22T12:33:39.910Z"
   },
   {
    "duration": 7,
    "start_time": "2022-02-22T12:33:39.919Z"
   },
   {
    "duration": 16,
    "start_time": "2022-02-22T12:33:39.928Z"
   },
   {
    "duration": 11,
    "start_time": "2022-02-22T12:33:39.946Z"
   },
   {
    "duration": 61,
    "start_time": "2022-02-22T12:33:39.960Z"
   },
   {
    "duration": 12,
    "start_time": "2022-02-22T12:33:40.025Z"
   },
   {
    "duration": 8,
    "start_time": "2022-02-22T12:44:00.188Z"
   },
   {
    "duration": 3,
    "start_time": "2022-02-22T12:48:03.759Z"
   },
   {
    "duration": 79,
    "start_time": "2022-02-22T12:48:03.765Z"
   },
   {
    "duration": 6,
    "start_time": "2022-02-22T12:48:03.847Z"
   },
   {
    "duration": 10,
    "start_time": "2022-02-22T12:48:03.856Z"
   },
   {
    "duration": 11,
    "start_time": "2022-02-22T12:48:03.868Z"
   },
   {
    "duration": 8,
    "start_time": "2022-02-22T12:48:03.909Z"
   },
   {
    "duration": 52,
    "start_time": "2022-02-22T12:48:03.921Z"
   },
   {
    "duration": 50,
    "start_time": "2022-02-22T12:48:03.977Z"
   },
   {
    "duration": 6,
    "start_time": "2022-02-22T12:49:46.365Z"
   },
   {
    "duration": 6,
    "start_time": "2022-02-22T12:50:01.540Z"
   },
   {
    "duration": 11,
    "start_time": "2022-02-22T12:53:28.061Z"
   },
   {
    "duration": 4,
    "start_time": "2022-02-22T12:54:33.273Z"
   },
   {
    "duration": 87,
    "start_time": "2022-02-22T12:54:33.281Z"
   },
   {
    "duration": 7,
    "start_time": "2022-02-22T12:54:33.372Z"
   },
   {
    "duration": 31,
    "start_time": "2022-02-22T12:54:33.382Z"
   },
   {
    "duration": 24,
    "start_time": "2022-02-22T12:54:33.416Z"
   },
   {
    "duration": 15,
    "start_time": "2022-02-22T12:54:33.443Z"
   },
   {
    "duration": 19,
    "start_time": "2022-02-22T12:54:33.461Z"
   },
   {
    "duration": 20,
    "start_time": "2022-02-22T12:54:33.483Z"
   },
   {
    "duration": 37,
    "start_time": "2022-02-22T12:54:33.506Z"
   },
   {
    "duration": 13,
    "start_time": "2022-02-22T12:54:33.546Z"
   },
   {
    "duration": 22,
    "start_time": "2022-02-22T12:54:46.033Z"
   },
   {
    "duration": 28,
    "start_time": "2022-02-22T13:13:53.880Z"
   },
   {
    "duration": 39,
    "start_time": "2022-02-22T13:14:02.629Z"
   },
   {
    "duration": 18,
    "start_time": "2022-02-22T13:14:27.017Z"
   },
   {
    "duration": 462,
    "start_time": "2022-02-22T13:14:37.666Z"
   },
   {
    "duration": 376,
    "start_time": "2022-02-22T13:14:47.133Z"
   },
   {
    "duration": 377,
    "start_time": "2022-02-22T13:15:19.826Z"
   },
   {
    "duration": 4,
    "start_time": "2022-02-22T13:16:15.249Z"
   },
   {
    "duration": 92,
    "start_time": "2022-02-22T13:16:15.255Z"
   },
   {
    "duration": 6,
    "start_time": "2022-02-22T13:16:15.350Z"
   },
   {
    "duration": 7,
    "start_time": "2022-02-22T13:16:15.359Z"
   },
   {
    "duration": 9,
    "start_time": "2022-02-22T13:16:15.369Z"
   },
   {
    "duration": 35,
    "start_time": "2022-02-22T13:16:15.379Z"
   },
   {
    "duration": 8,
    "start_time": "2022-02-22T13:16:15.417Z"
   },
   {
    "duration": 8,
    "start_time": "2022-02-22T13:16:15.428Z"
   },
   {
    "duration": 20,
    "start_time": "2022-02-22T13:16:15.439Z"
   },
   {
    "duration": 57,
    "start_time": "2022-02-22T13:16:15.462Z"
   },
   {
    "duration": 21,
    "start_time": "2022-02-22T13:16:15.522Z"
   },
   {
    "duration": 19,
    "start_time": "2022-02-22T13:17:01.121Z"
   },
   {
    "duration": 10,
    "start_time": "2022-02-22T13:18:05.032Z"
   },
   {
    "duration": 15,
    "start_time": "2022-02-22T13:18:11.669Z"
   },
   {
    "duration": 22,
    "start_time": "2022-02-22T13:18:14.650Z"
   },
   {
    "duration": 8,
    "start_time": "2022-02-22T13:19:58.152Z"
   },
   {
    "duration": 3,
    "start_time": "2022-02-22T13:22:18.095Z"
   },
   {
    "duration": 79,
    "start_time": "2022-02-22T13:22:18.102Z"
   },
   {
    "duration": 7,
    "start_time": "2022-02-22T13:22:18.186Z"
   },
   {
    "duration": 6,
    "start_time": "2022-02-22T13:22:18.213Z"
   },
   {
    "duration": 10,
    "start_time": "2022-02-22T13:22:18.223Z"
   },
   {
    "duration": 6,
    "start_time": "2022-02-22T13:22:18.236Z"
   },
   {
    "duration": 8,
    "start_time": "2022-02-22T13:22:18.245Z"
   },
   {
    "duration": 62,
    "start_time": "2022-02-22T13:22:18.255Z"
   },
   {
    "duration": 9,
    "start_time": "2022-02-22T13:22:18.322Z"
   },
   {
    "duration": 21,
    "start_time": "2022-02-22T13:22:18.335Z"
   },
   {
    "duration": 9,
    "start_time": "2022-02-22T13:22:18.359Z"
   },
   {
    "duration": 56,
    "start_time": "2022-02-22T13:22:18.371Z"
   },
   {
    "duration": 23,
    "start_time": "2022-02-22T13:22:18.430Z"
   },
   {
    "duration": 6,
    "start_time": "2022-02-22T13:23:28.651Z"
   },
   {
    "duration": 148,
    "start_time": "2022-02-22T13:24:16.797Z"
   },
   {
    "duration": 193,
    "start_time": "2022-02-22T13:24:24.782Z"
   },
   {
    "duration": 11,
    "start_time": "2022-02-22T13:27:46.640Z"
   },
   {
    "duration": 5,
    "start_time": "2022-02-22T13:27:54.028Z"
   },
   {
    "duration": 13,
    "start_time": "2022-02-22T13:27:56.893Z"
   },
   {
    "duration": 15,
    "start_time": "2022-02-22T13:28:36.275Z"
   },
   {
    "duration": 4,
    "start_time": "2022-02-22T13:28:39.132Z"
   },
   {
    "duration": 13,
    "start_time": "2022-02-22T13:28:40.347Z"
   },
   {
    "duration": 12,
    "start_time": "2022-02-22T13:28:49.426Z"
   },
   {
    "duration": 4,
    "start_time": "2022-02-22T13:28:50.650Z"
   },
   {
    "duration": 20,
    "start_time": "2022-02-22T13:28:52.614Z"
   },
   {
    "duration": 26,
    "start_time": "2022-02-22T13:29:02.516Z"
   },
   {
    "duration": 6,
    "start_time": "2022-02-22T13:29:06.086Z"
   },
   {
    "duration": 34,
    "start_time": "2022-02-22T13:29:56.346Z"
   },
   {
    "duration": 10,
    "start_time": "2022-02-22T13:29:59.527Z"
   },
   {
    "duration": 21,
    "start_time": "2022-02-22T13:30:01.272Z"
   },
   {
    "duration": 4,
    "start_time": "2022-02-22T13:30:05.326Z"
   },
   {
    "duration": 84,
    "start_time": "2022-02-22T13:30:05.333Z"
   },
   {
    "duration": 7,
    "start_time": "2022-02-22T13:30:05.420Z"
   },
   {
    "duration": 9,
    "start_time": "2022-02-22T13:30:05.430Z"
   },
   {
    "duration": 11,
    "start_time": "2022-02-22T13:30:05.442Z"
   },
   {
    "duration": 7,
    "start_time": "2022-02-22T13:30:05.455Z"
   },
   {
    "duration": 46,
    "start_time": "2022-02-22T13:30:05.464Z"
   },
   {
    "duration": 18,
    "start_time": "2022-02-22T13:30:05.514Z"
   },
   {
    "duration": 21,
    "start_time": "2022-02-22T13:30:05.535Z"
   },
   {
    "duration": 11,
    "start_time": "2022-02-22T13:30:05.558Z"
   },
   {
    "duration": 51,
    "start_time": "2022-02-22T13:30:05.572Z"
   },
   {
    "duration": 4376,
    "start_time": "2022-02-22T13:30:05.626Z"
   },
   {
    "duration": 23,
    "start_time": "2022-02-22T13:30:09.982Z"
   },
   {
    "duration": 22,
    "start_time": "2022-02-22T13:30:09.985Z"
   },
   {
    "duration": 26,
    "start_time": "2022-02-22T13:30:24.902Z"
   },
   {
    "duration": 20,
    "start_time": "2022-02-22T13:31:40.005Z"
   },
   {
    "duration": 4,
    "start_time": "2022-02-22T13:31:45.009Z"
   },
   {
    "duration": 115,
    "start_time": "2022-02-22T13:31:45.016Z"
   },
   {
    "duration": 8,
    "start_time": "2022-02-22T13:31:45.135Z"
   },
   {
    "duration": 8,
    "start_time": "2022-02-22T13:31:45.146Z"
   },
   {
    "duration": 11,
    "start_time": "2022-02-22T13:31:45.156Z"
   },
   {
    "duration": 45,
    "start_time": "2022-02-22T13:31:45.170Z"
   },
   {
    "duration": 3,
    "start_time": "2022-02-22T13:31:45.218Z"
   },
   {
    "duration": 7,
    "start_time": "2022-02-22T13:31:45.224Z"
   },
   {
    "duration": 9,
    "start_time": "2022-02-22T13:31:45.235Z"
   },
   {
    "duration": 11,
    "start_time": "2022-02-22T13:31:45.247Z"
   },
   {
    "duration": 57,
    "start_time": "2022-02-22T13:31:45.261Z"
   },
   {
    "duration": 15,
    "start_time": "2022-02-22T13:31:45.321Z"
   },
   {
    "duration": 20,
    "start_time": "2022-02-22T13:31:45.340Z"
   },
   {
    "duration": 65,
    "start_time": "2022-02-22T13:31:45.363Z"
   },
   {
    "duration": 2786,
    "start_time": "2022-02-22T13:35:07.244Z"
   },
   {
    "duration": 6,
    "start_time": "2022-02-22T13:35:14.482Z"
   },
   {
    "duration": 12,
    "start_time": "2022-02-22T13:49:17.377Z"
   },
   {
    "duration": 12,
    "start_time": "2022-02-22T13:50:01.236Z"
   },
   {
    "duration": 7,
    "start_time": "2022-02-22T13:50:18.768Z"
   },
   {
    "duration": 393,
    "start_time": "2022-02-22T13:50:27.786Z"
   },
   {
    "duration": 11,
    "start_time": "2022-02-22T13:50:44.828Z"
   },
   {
    "duration": 270,
    "start_time": "2022-02-22T13:53:18.206Z"
   },
   {
    "duration": 110,
    "start_time": "2022-02-22T13:53:33.857Z"
   },
   {
    "duration": 76,
    "start_time": "2022-02-22T13:53:47.446Z"
   },
   {
    "duration": 10012,
    "start_time": "2022-02-22T13:54:09.066Z"
   },
   {
    "duration": 4,
    "start_time": "2022-02-22T13:54:28.217Z"
   },
   {
    "duration": 114,
    "start_time": "2022-02-22T13:54:28.224Z"
   },
   {
    "duration": 7,
    "start_time": "2022-02-22T13:54:28.341Z"
   },
   {
    "duration": 7,
    "start_time": "2022-02-22T13:54:28.351Z"
   },
   {
    "duration": 11,
    "start_time": "2022-02-22T13:54:28.361Z"
   },
   {
    "duration": 40,
    "start_time": "2022-02-22T13:54:28.374Z"
   },
   {
    "duration": 15,
    "start_time": "2022-02-22T13:54:28.416Z"
   },
   {
    "duration": 5,
    "start_time": "2022-02-22T13:54:28.435Z"
   },
   {
    "duration": 8,
    "start_time": "2022-02-22T13:54:28.443Z"
   },
   {
    "duration": 62,
    "start_time": "2022-02-22T13:54:28.454Z"
   },
   {
    "duration": 8,
    "start_time": "2022-02-22T13:54:28.518Z"
   },
   {
    "duration": 13,
    "start_time": "2022-02-22T13:54:28.529Z"
   },
   {
    "duration": 10,
    "start_time": "2022-02-22T13:54:28.545Z"
   },
   {
    "duration": 61,
    "start_time": "2022-02-22T13:54:28.558Z"
   },
   {
    "duration": 23,
    "start_time": "2022-02-22T13:54:28.622Z"
   },
   {
    "duration": 15,
    "start_time": "2022-02-22T13:55:36.720Z"
   },
   {
    "duration": 12,
    "start_time": "2022-02-22T13:56:10.853Z"
   },
   {
    "duration": 8,
    "start_time": "2022-02-22T13:58:13.601Z"
   },
   {
    "duration": 6,
    "start_time": "2022-02-22T13:59:56.437Z"
   },
   {
    "duration": 35,
    "start_time": "2022-02-22T14:00:56.023Z"
   },
   {
    "duration": 914,
    "start_time": "2022-02-22T14:02:52.147Z"
   },
   {
    "duration": 33,
    "start_time": "2022-02-22T14:03:03.939Z"
   },
   {
    "duration": 18,
    "start_time": "2022-02-22T14:04:34.353Z"
   },
   {
    "duration": 397,
    "start_time": "2022-02-22T14:10:09.889Z"
   },
   {
    "duration": 474,
    "start_time": "2022-02-22T14:10:18.019Z"
   },
   {
    "duration": 31,
    "start_time": "2022-02-22T14:10:34.000Z"
   },
   {
    "duration": 31,
    "start_time": "2022-02-22T14:24:41.460Z"
   },
   {
    "duration": 337,
    "start_time": "2022-02-23T12:53:39.577Z"
   },
   {
    "duration": 554,
    "start_time": "2022-02-23T12:53:43.956Z"
   },
   {
    "duration": 53,
    "start_time": "2022-02-23T12:53:44.512Z"
   },
   {
    "duration": 5,
    "start_time": "2022-02-23T12:53:44.567Z"
   },
   {
    "duration": 5,
    "start_time": "2022-02-23T12:53:44.573Z"
   },
   {
    "duration": 16,
    "start_time": "2022-02-23T12:53:44.580Z"
   },
   {
    "duration": 12,
    "start_time": "2022-02-23T12:53:44.597Z"
   },
   {
    "duration": 5,
    "start_time": "2022-02-23T12:53:44.610Z"
   },
   {
    "duration": 32,
    "start_time": "2022-02-23T12:53:44.616Z"
   },
   {
    "duration": 4,
    "start_time": "2022-02-23T12:53:44.650Z"
   },
   {
    "duration": 7,
    "start_time": "2022-02-23T12:53:44.655Z"
   },
   {
    "duration": 4,
    "start_time": "2022-02-23T12:53:44.663Z"
   },
   {
    "duration": 8,
    "start_time": "2022-02-23T12:53:44.669Z"
   },
   {
    "duration": 6,
    "start_time": "2022-02-23T12:53:44.679Z"
   },
   {
    "duration": 8,
    "start_time": "2022-02-23T12:53:44.686Z"
   },
   {
    "duration": 7,
    "start_time": "2022-02-23T12:53:44.696Z"
   },
   {
    "duration": 43,
    "start_time": "2022-02-23T12:53:44.704Z"
   },
   {
    "duration": 12,
    "start_time": "2022-02-23T12:53:44.748Z"
   },
   {
    "duration": 12,
    "start_time": "2022-02-23T12:54:07.970Z"
   },
   {
    "duration": 12,
    "start_time": "2022-02-23T12:54:39.134Z"
   },
   {
    "duration": 13,
    "start_time": "2022-02-23T12:55:46.658Z"
   },
   {
    "duration": 5,
    "start_time": "2022-02-23T13:11:52.413Z"
   },
   {
    "duration": 15,
    "start_time": "2022-02-23T13:44:48.616Z"
   },
   {
    "duration": 28,
    "start_time": "2022-02-23T13:45:30.982Z"
   },
   {
    "duration": 27,
    "start_time": "2022-02-23T13:46:08.729Z"
   },
   {
    "duration": 320,
    "start_time": "2022-02-23T13:53:40.489Z"
   },
   {
    "duration": 28,
    "start_time": "2022-02-23T13:54:10.913Z"
   },
   {
    "duration": 28,
    "start_time": "2022-02-23T13:54:27.665Z"
   },
   {
    "duration": 4,
    "start_time": "2022-02-23T13:55:28.110Z"
   },
   {
    "duration": 4,
    "start_time": "2022-02-23T13:55:44.040Z"
   },
   {
    "duration": 289,
    "start_time": "2022-02-23T13:55:53.570Z"
   },
   {
    "duration": 4,
    "start_time": "2022-02-23T13:56:24.590Z"
   },
   {
    "duration": 4,
    "start_time": "2022-02-23T13:56:33.483Z"
   },
   {
    "duration": 2,
    "start_time": "2022-02-23T13:56:41.836Z"
   },
   {
    "duration": 180,
    "start_time": "2022-02-23T13:56:41.839Z"
   },
   {
    "duration": 4,
    "start_time": "2022-02-23T13:56:42.021Z"
   },
   {
    "duration": 7,
    "start_time": "2022-02-23T13:56:42.027Z"
   },
   {
    "duration": 20,
    "start_time": "2022-02-23T13:56:42.035Z"
   },
   {
    "duration": 4,
    "start_time": "2022-02-23T13:56:42.056Z"
   },
   {
    "duration": 9,
    "start_time": "2022-02-23T13:56:42.062Z"
   },
   {
    "duration": 13,
    "start_time": "2022-02-23T13:56:42.072Z"
   },
   {
    "duration": 7,
    "start_time": "2022-02-23T13:56:42.086Z"
   },
   {
    "duration": 7,
    "start_time": "2022-02-23T13:56:42.094Z"
   },
   {
    "duration": 4,
    "start_time": "2022-02-23T13:56:42.102Z"
   },
   {
    "duration": 6,
    "start_time": "2022-02-23T13:56:42.107Z"
   },
   {
    "duration": 5,
    "start_time": "2022-02-23T13:56:42.114Z"
   },
   {
    "duration": 26,
    "start_time": "2022-02-23T13:56:42.120Z"
   },
   {
    "duration": 5,
    "start_time": "2022-02-23T13:56:42.147Z"
   },
   {
    "duration": 11,
    "start_time": "2022-02-23T13:56:42.154Z"
   },
   {
    "duration": 11,
    "start_time": "2022-02-23T13:56:42.166Z"
   },
   {
    "duration": 4,
    "start_time": "2022-02-23T13:57:18.944Z"
   },
   {
    "duration": 3,
    "start_time": "2022-02-23T13:57:36.405Z"
   },
   {
    "duration": 28,
    "start_time": "2022-02-23T13:58:19.296Z"
   },
   {
    "duration": 10,
    "start_time": "2022-02-23T14:04:47.966Z"
   },
   {
    "duration": 2,
    "start_time": "2022-02-23T14:05:14.772Z"
   },
   {
    "duration": 182,
    "start_time": "2022-02-23T14:05:14.776Z"
   },
   {
    "duration": 4,
    "start_time": "2022-02-23T14:05:14.960Z"
   },
   {
    "duration": 6,
    "start_time": "2022-02-23T14:05:14.965Z"
   },
   {
    "duration": 18,
    "start_time": "2022-02-23T14:05:14.972Z"
   },
   {
    "duration": 1,
    "start_time": "2022-02-23T14:05:14.992Z"
   },
   {
    "duration": 13,
    "start_time": "2022-02-23T14:05:14.995Z"
   },
   {
    "duration": 10,
    "start_time": "2022-02-23T14:05:15.010Z"
   },
   {
    "duration": 34,
    "start_time": "2022-02-23T14:05:15.021Z"
   },
   {
    "duration": 6,
    "start_time": "2022-02-23T14:05:15.056Z"
   },
   {
    "duration": 9,
    "start_time": "2022-02-23T14:05:15.063Z"
   },
   {
    "duration": 6,
    "start_time": "2022-02-23T14:05:15.074Z"
   },
   {
    "duration": 8,
    "start_time": "2022-02-23T14:05:15.081Z"
   },
   {
    "duration": 5,
    "start_time": "2022-02-23T14:05:15.091Z"
   },
   {
    "duration": 7,
    "start_time": "2022-02-23T14:05:15.098Z"
   },
   {
    "duration": 15,
    "start_time": "2022-02-23T14:05:15.107Z"
   },
   {
    "duration": 24,
    "start_time": "2022-02-23T14:05:15.124Z"
   },
   {
    "duration": 11,
    "start_time": "2022-02-23T14:05:15.150Z"
   },
   {
    "duration": 29,
    "start_time": "2022-02-23T14:05:26.947Z"
   },
   {
    "duration": 11,
    "start_time": "2022-02-23T14:05:40.122Z"
   },
   {
    "duration": 11,
    "start_time": "2022-02-23T14:05:53.436Z"
   },
   {
    "duration": 11,
    "start_time": "2022-02-23T14:06:03.768Z"
   },
   {
    "duration": 28,
    "start_time": "2022-02-23T14:20:16.651Z"
   },
   {
    "duration": 30,
    "start_time": "2022-02-23T14:22:14.459Z"
   },
   {
    "duration": 2,
    "start_time": "2022-02-23T14:22:28.832Z"
   },
   {
    "duration": 198,
    "start_time": "2022-02-23T14:22:28.836Z"
   },
   {
    "duration": 4,
    "start_time": "2022-02-23T14:22:29.036Z"
   },
   {
    "duration": 6,
    "start_time": "2022-02-23T14:22:29.042Z"
   },
   {
    "duration": 18,
    "start_time": "2022-02-23T14:22:29.050Z"
   },
   {
    "duration": 28,
    "start_time": "2022-02-23T14:22:29.070Z"
   },
   {
    "duration": 3,
    "start_time": "2022-02-23T14:22:29.100Z"
   },
   {
    "duration": 13,
    "start_time": "2022-02-23T14:22:29.104Z"
   },
   {
    "duration": 45,
    "start_time": "2022-02-23T14:22:29.119Z"
   },
   {
    "duration": 29,
    "start_time": "2022-02-23T14:22:29.166Z"
   },
   {
    "duration": 3,
    "start_time": "2022-02-23T14:22:29.197Z"
   },
   {
    "duration": 7,
    "start_time": "2022-02-23T14:22:29.202Z"
   },
   {
    "duration": 8,
    "start_time": "2022-02-23T14:22:29.210Z"
   },
   {
    "duration": 5,
    "start_time": "2022-02-23T14:22:29.220Z"
   },
   {
    "duration": 5,
    "start_time": "2022-02-23T14:22:29.245Z"
   },
   {
    "duration": 8,
    "start_time": "2022-02-23T14:22:29.251Z"
   },
   {
    "duration": 7,
    "start_time": "2022-02-23T14:22:29.260Z"
   },
   {
    "duration": 11,
    "start_time": "2022-02-23T14:22:29.268Z"
   },
   {
    "duration": 11,
    "start_time": "2022-02-23T14:22:29.281Z"
   },
   {
    "duration": 32,
    "start_time": "2022-02-23T14:25:55.066Z"
   },
   {
    "duration": 17,
    "start_time": "2022-02-23T14:26:21.926Z"
   },
   {
    "duration": 29,
    "start_time": "2022-02-23T14:26:25.482Z"
   },
   {
    "duration": 3,
    "start_time": "2022-02-23T14:26:34.162Z"
   },
   {
    "duration": 56,
    "start_time": "2022-02-23T14:26:34.166Z"
   },
   {
    "duration": 4,
    "start_time": "2022-02-23T14:26:34.224Z"
   },
   {
    "duration": 6,
    "start_time": "2022-02-23T14:26:34.229Z"
   },
   {
    "duration": 17,
    "start_time": "2022-02-23T14:26:34.237Z"
   },
   {
    "duration": 29,
    "start_time": "2022-02-23T14:26:34.255Z"
   },
   {
    "duration": 3,
    "start_time": "2022-02-23T14:26:34.286Z"
   },
   {
    "duration": 11,
    "start_time": "2022-02-23T14:26:34.290Z"
   },
   {
    "duration": 48,
    "start_time": "2022-02-23T14:26:34.303Z"
   },
   {
    "duration": 19,
    "start_time": "2022-02-23T14:26:34.353Z"
   },
   {
    "duration": 32,
    "start_time": "2022-02-23T14:26:34.373Z"
   },
   {
    "duration": 4,
    "start_time": "2022-02-23T14:26:34.407Z"
   },
   {
    "duration": 7,
    "start_time": "2022-02-23T14:26:34.412Z"
   },
   {
    "duration": 27,
    "start_time": "2022-02-23T14:26:34.420Z"
   },
   {
    "duration": 7,
    "start_time": "2022-02-23T14:26:34.448Z"
   },
   {
    "duration": 5,
    "start_time": "2022-02-23T14:26:34.456Z"
   },
   {
    "duration": 8,
    "start_time": "2022-02-23T14:26:34.462Z"
   },
   {
    "duration": 7,
    "start_time": "2022-02-23T14:26:34.471Z"
   },
   {
    "duration": 12,
    "start_time": "2022-02-23T14:26:34.479Z"
   },
   {
    "duration": 11,
    "start_time": "2022-02-23T14:26:34.492Z"
   },
   {
    "duration": 16,
    "start_time": "2022-02-23T14:26:51.627Z"
   },
   {
    "duration": 28,
    "start_time": "2022-02-23T14:26:56.219Z"
   },
   {
    "duration": 3,
    "start_time": "2022-02-23T14:27:33.093Z"
   },
   {
    "duration": 54,
    "start_time": "2022-02-23T14:27:33.097Z"
   },
   {
    "duration": 4,
    "start_time": "2022-02-23T14:27:33.153Z"
   },
   {
    "duration": 7,
    "start_time": "2022-02-23T14:27:33.158Z"
   },
   {
    "duration": 20,
    "start_time": "2022-02-23T14:27:33.166Z"
   },
   {
    "duration": 29,
    "start_time": "2022-02-23T14:27:33.187Z"
   },
   {
    "duration": 5,
    "start_time": "2022-02-23T14:27:33.217Z"
   },
   {
    "duration": 33,
    "start_time": "2022-02-23T14:27:33.224Z"
   },
   {
    "duration": 33,
    "start_time": "2022-02-23T14:27:33.259Z"
   },
   {
    "duration": 20,
    "start_time": "2022-02-23T14:27:33.294Z"
   },
   {
    "duration": 52,
    "start_time": "2022-02-23T14:27:33.315Z"
   },
   {
    "duration": 4,
    "start_time": "2022-02-23T14:27:33.368Z"
   },
   {
    "duration": 11,
    "start_time": "2022-02-23T14:27:33.373Z"
   },
   {
    "duration": 5,
    "start_time": "2022-02-23T14:27:33.385Z"
   },
   {
    "duration": 9,
    "start_time": "2022-02-23T14:27:33.391Z"
   },
   {
    "duration": 16,
    "start_time": "2022-02-23T14:27:33.402Z"
   },
   {
    "duration": 30,
    "start_time": "2022-02-23T14:27:33.419Z"
   },
   {
    "duration": 6,
    "start_time": "2022-02-23T14:27:33.450Z"
   },
   {
    "duration": 12,
    "start_time": "2022-02-23T14:27:33.458Z"
   },
   {
    "duration": 12,
    "start_time": "2022-02-23T14:27:33.471Z"
   },
   {
    "duration": 12,
    "start_time": "2022-02-23T14:30:24.144Z"
   },
   {
    "duration": 12,
    "start_time": "2022-02-23T14:30:37.639Z"
   },
   {
    "duration": 401,
    "start_time": "2022-02-24T10:29:49.111Z"
   },
   {
    "duration": 840,
    "start_time": "2022-02-24T10:29:53.042Z"
   },
   {
    "duration": 195,
    "start_time": "2022-02-24T10:29:53.885Z"
   },
   {
    "duration": 8,
    "start_time": "2022-02-24T10:29:54.084Z"
   },
   {
    "duration": 33,
    "start_time": "2022-02-24T10:29:54.095Z"
   },
   {
    "duration": 39,
    "start_time": "2022-02-24T10:29:54.131Z"
   },
   {
    "duration": 72,
    "start_time": "2022-02-24T10:29:54.173Z"
   },
   {
    "duration": 6,
    "start_time": "2022-02-24T10:29:54.247Z"
   },
   {
    "duration": 21,
    "start_time": "2022-02-24T10:29:54.259Z"
   },
   {
    "duration": 87,
    "start_time": "2022-02-24T10:29:54.283Z"
   },
   {
    "duration": 35,
    "start_time": "2022-02-24T10:29:54.372Z"
   },
   {
    "duration": 57,
    "start_time": "2022-02-24T10:29:54.428Z"
   },
   {
    "duration": 5,
    "start_time": "2022-02-24T10:29:54.488Z"
   },
   {
    "duration": 36,
    "start_time": "2022-02-24T10:29:54.496Z"
   },
   {
    "duration": 10,
    "start_time": "2022-02-24T10:29:54.536Z"
   },
   {
    "duration": 14,
    "start_time": "2022-02-24T10:29:54.549Z"
   },
   {
    "duration": 10,
    "start_time": "2022-02-24T10:29:54.566Z"
   },
   {
    "duration": 54,
    "start_time": "2022-02-24T10:29:54.579Z"
   },
   {
    "duration": 14,
    "start_time": "2022-02-24T10:29:54.635Z"
   },
   {
    "duration": 20,
    "start_time": "2022-02-24T10:29:54.651Z"
   },
   {
    "duration": 22,
    "start_time": "2022-02-24T10:29:54.673Z"
   },
   {
    "duration": 10,
    "start_time": "2022-02-24T10:29:54.726Z"
   },
   {
    "duration": 25,
    "start_time": "2022-02-24T10:30:53.490Z"
   },
   {
    "duration": 412,
    "start_time": "2022-02-24T10:51:07.823Z"
   },
   {
    "duration": 1052,
    "start_time": "2022-02-24T10:51:20.252Z"
   },
   {
    "duration": 316,
    "start_time": "2022-02-24T10:54:57.857Z"
   },
   {
    "duration": 30,
    "start_time": "2022-02-24T10:55:08.060Z"
   },
   {
    "duration": 274,
    "start_time": "2022-02-24T10:59:20.688Z"
   },
   {
    "duration": 297,
    "start_time": "2022-02-24T11:00:57.568Z"
   },
   {
    "duration": 1589,
    "start_time": "2022-02-24T11:06:13.538Z"
   },
   {
    "duration": 24,
    "start_time": "2022-02-24T11:06:27.771Z"
   },
   {
    "duration": 38,
    "start_time": "2022-02-24T11:07:18.437Z"
   },
   {
    "duration": 78,
    "start_time": "2022-02-24T11:08:22.885Z"
   },
   {
    "duration": 365,
    "start_time": "2022-02-24T11:08:39.802Z"
   },
   {
    "duration": 23,
    "start_time": "2022-02-24T11:09:01.161Z"
   },
   {
    "duration": 523,
    "start_time": "2022-02-24T11:15:54.619Z"
   },
   {
    "duration": 356,
    "start_time": "2022-02-24T11:18:06.397Z"
   },
   {
    "duration": 647,
    "start_time": "2022-02-24T11:19:56.591Z"
   },
   {
    "duration": 579,
    "start_time": "2022-02-24T11:20:10.276Z"
   },
   {
    "duration": 587,
    "start_time": "2022-02-24T11:20:21.311Z"
   },
   {
    "duration": 570,
    "start_time": "2022-02-24T11:20:28.591Z"
   },
   {
    "duration": 454,
    "start_time": "2022-02-24T11:20:35.207Z"
   },
   {
    "duration": 504,
    "start_time": "2022-02-24T11:20:41.063Z"
   },
   {
    "duration": 4,
    "start_time": "2022-02-24T13:15:13.499Z"
   },
   {
    "duration": 74,
    "start_time": "2022-02-24T13:15:13.506Z"
   },
   {
    "duration": 7,
    "start_time": "2022-02-24T13:15:13.584Z"
   },
   {
    "duration": 34,
    "start_time": "2022-02-24T13:15:13.594Z"
   },
   {
    "duration": 34,
    "start_time": "2022-02-24T13:15:13.630Z"
   },
   {
    "duration": 73,
    "start_time": "2022-02-24T13:15:13.667Z"
   },
   {
    "duration": 6,
    "start_time": "2022-02-24T13:15:13.742Z"
   },
   {
    "duration": 24,
    "start_time": "2022-02-24T13:15:13.751Z"
   },
   {
    "duration": 82,
    "start_time": "2022-02-24T13:15:13.780Z"
   },
   {
    "duration": 32,
    "start_time": "2022-02-24T13:15:13.865Z"
   },
   {
    "duration": 72,
    "start_time": "2022-02-24T13:15:13.900Z"
   },
   {
    "duration": 7,
    "start_time": "2022-02-24T13:15:13.975Z"
   },
   {
    "duration": 42,
    "start_time": "2022-02-24T13:15:13.984Z"
   },
   {
    "duration": 10,
    "start_time": "2022-02-24T13:15:14.029Z"
   },
   {
    "duration": 8,
    "start_time": "2022-02-24T13:15:14.041Z"
   },
   {
    "duration": 10,
    "start_time": "2022-02-24T13:15:14.052Z"
   },
   {
    "duration": 16,
    "start_time": "2022-02-24T13:15:14.064Z"
   },
   {
    "duration": 47,
    "start_time": "2022-02-24T13:15:14.082Z"
   },
   {
    "duration": 20,
    "start_time": "2022-02-24T13:15:14.132Z"
   },
   {
    "duration": 22,
    "start_time": "2022-02-24T13:15:14.155Z"
   },
   {
    "duration": 7,
    "start_time": "2022-02-24T13:15:14.179Z"
   },
   {
    "duration": 62,
    "start_time": "2022-02-24T13:15:14.188Z"
   },
   {
    "duration": 6678,
    "start_time": "2022-02-24T13:15:14.253Z"
   },
   {
    "duration": 601,
    "start_time": "2022-02-24T13:15:57.151Z"
   },
   {
    "duration": 6,
    "start_time": "2022-02-24T13:27:02.904Z"
   },
   {
    "duration": 324,
    "start_time": "2022-02-24T13:31:51.168Z"
   },
   {
    "duration": 3,
    "start_time": "2022-02-24T13:32:08.156Z"
   },
   {
    "duration": 90,
    "start_time": "2022-02-24T13:32:08.162Z"
   },
   {
    "duration": 7,
    "start_time": "2022-02-24T13:32:08.255Z"
   },
   {
    "duration": 10,
    "start_time": "2022-02-24T13:32:08.265Z"
   },
   {
    "duration": 57,
    "start_time": "2022-02-24T13:32:08.277Z"
   },
   {
    "duration": 73,
    "start_time": "2022-02-24T13:32:08.337Z"
   },
   {
    "duration": 8,
    "start_time": "2022-02-24T13:32:08.427Z"
   },
   {
    "duration": 22,
    "start_time": "2022-02-24T13:32:08.439Z"
   },
   {
    "duration": 85,
    "start_time": "2022-02-24T13:32:08.465Z"
   },
   {
    "duration": 32,
    "start_time": "2022-02-24T13:32:08.553Z"
   },
   {
    "duration": 76,
    "start_time": "2022-02-24T13:32:08.587Z"
   },
   {
    "duration": 7,
    "start_time": "2022-02-24T13:32:08.665Z"
   },
   {
    "duration": 21,
    "start_time": "2022-02-24T13:32:08.674Z"
   },
   {
    "duration": 30,
    "start_time": "2022-02-24T13:32:08.698Z"
   },
   {
    "duration": 14,
    "start_time": "2022-02-24T13:32:08.731Z"
   },
   {
    "duration": 15,
    "start_time": "2022-02-24T13:32:08.747Z"
   },
   {
    "duration": 14,
    "start_time": "2022-02-24T13:32:08.765Z"
   },
   {
    "duration": 25,
    "start_time": "2022-02-24T13:32:08.781Z"
   },
   {
    "duration": 21,
    "start_time": "2022-02-24T13:32:08.827Z"
   },
   {
    "duration": 25,
    "start_time": "2022-02-24T13:32:08.851Z"
   },
   {
    "duration": 9,
    "start_time": "2022-02-24T13:32:08.879Z"
   },
   {
    "duration": 48,
    "start_time": "2022-02-24T13:32:08.890Z"
   },
   {
    "duration": 524,
    "start_time": "2022-02-24T13:32:08.940Z"
   },
   {
    "duration": 5,
    "start_time": "2022-02-24T13:32:09.467Z"
   },
   {
    "duration": 579,
    "start_time": "2022-02-24T13:32:09.475Z"
   },
   {
    "duration": 348,
    "start_time": "2022-02-24T13:32:09.709Z"
   },
   {
    "duration": 799,
    "start_time": "2022-02-24T13:34:16.708Z"
   },
   {
    "duration": 773,
    "start_time": "2022-02-24T13:39:22.838Z"
   },
   {
    "duration": 659,
    "start_time": "2022-02-24T13:40:06.789Z"
   },
   {
    "duration": 4,
    "start_time": "2022-02-24T14:26:54.315Z"
   },
   {
    "duration": 77,
    "start_time": "2022-02-24T14:26:54.322Z"
   },
   {
    "duration": 7,
    "start_time": "2022-02-24T14:26:54.402Z"
   },
   {
    "duration": 17,
    "start_time": "2022-02-24T14:26:54.412Z"
   },
   {
    "duration": 31,
    "start_time": "2022-02-24T14:26:54.432Z"
   },
   {
    "duration": 76,
    "start_time": "2022-02-24T14:26:54.465Z"
   },
   {
    "duration": 5,
    "start_time": "2022-02-24T14:26:54.543Z"
   },
   {
    "duration": 22,
    "start_time": "2022-02-24T14:26:54.551Z"
   },
   {
    "duration": 81,
    "start_time": "2022-02-24T14:26:54.577Z"
   },
   {
    "duration": 31,
    "start_time": "2022-02-24T14:26:54.662Z"
   },
   {
    "duration": 81,
    "start_time": "2022-02-24T14:26:54.696Z"
   },
   {
    "duration": 6,
    "start_time": "2022-02-24T14:26:54.779Z"
   },
   {
    "duration": 12,
    "start_time": "2022-02-24T14:26:54.787Z"
   },
   {
    "duration": 8,
    "start_time": "2022-02-24T14:26:54.827Z"
   },
   {
    "duration": 11,
    "start_time": "2022-02-24T14:26:54.839Z"
   },
   {
    "duration": 8,
    "start_time": "2022-02-24T14:26:54.853Z"
   },
   {
    "duration": 14,
    "start_time": "2022-02-24T14:26:54.864Z"
   },
   {
    "duration": 12,
    "start_time": "2022-02-24T14:26:54.927Z"
   },
   {
    "duration": 19,
    "start_time": "2022-02-24T14:26:54.943Z"
   },
   {
    "duration": 22,
    "start_time": "2022-02-24T14:26:54.965Z"
   },
   {
    "duration": 43,
    "start_time": "2022-02-24T14:26:54.990Z"
   },
   {
    "duration": 26,
    "start_time": "2022-02-24T14:26:55.035Z"
   },
   {
    "duration": 525,
    "start_time": "2022-02-24T14:26:55.064Z"
   },
   {
    "duration": 6,
    "start_time": "2022-02-24T14:26:55.592Z"
   },
   {
    "duration": 927,
    "start_time": "2022-02-24T14:26:55.600Z"
   },
   {
    "duration": 558,
    "start_time": "2022-02-24T14:26:56.529Z"
   },
   {
    "duration": 23,
    "start_time": "2022-02-24T14:28:47.729Z"
   },
   {
    "duration": 526,
    "start_time": "2022-02-24T14:29:07.170Z"
   },
   {
    "duration": 494,
    "start_time": "2022-02-24T14:35:58.638Z"
   },
   {
    "duration": 675,
    "start_time": "2022-02-24T14:36:17.087Z"
   },
   {
    "duration": 2798,
    "start_time": "2022-02-24T14:37:58.905Z"
   },
   {
    "duration": 1183,
    "start_time": "2022-02-24T14:39:39.647Z"
   },
   {
    "duration": 8538,
    "start_time": "2022-02-24T14:40:25.479Z"
   },
   {
    "duration": 7740,
    "start_time": "2022-02-24T14:53:40.295Z"
   },
   {
    "duration": 7619,
    "start_time": "2022-02-24T14:54:28.545Z"
   },
   {
    "duration": 8235,
    "start_time": "2022-02-24T14:55:03.918Z"
   },
   {
    "duration": 9158,
    "start_time": "2022-02-24T15:01:03.397Z"
   },
   {
    "duration": 9410,
    "start_time": "2022-02-24T15:02:46.322Z"
   },
   {
    "duration": 5743,
    "start_time": "2022-02-24T15:04:24.689Z"
   },
   {
    "duration": 7389,
    "start_time": "2022-02-24T15:04:59.066Z"
   },
   {
    "duration": 5869,
    "start_time": "2022-02-24T15:08:10.382Z"
   },
   {
    "duration": 8862,
    "start_time": "2022-02-24T15:08:59.642Z"
   },
   {
    "duration": 7206,
    "start_time": "2022-02-24T15:09:22.056Z"
   },
   {
    "duration": 23,
    "start_time": "2022-02-24T15:23:39.292Z"
   },
   {
    "duration": 275,
    "start_time": "2022-02-24T15:24:01.939Z"
   },
   {
    "duration": 277,
    "start_time": "2022-02-24T15:24:48.258Z"
   },
   {
    "duration": 23,
    "start_time": "2022-02-24T15:25:05.775Z"
   },
   {
    "duration": 275,
    "start_time": "2022-02-24T15:27:09.716Z"
   },
   {
    "duration": 6516,
    "start_time": "2022-02-24T15:27:34.902Z"
   },
   {
    "duration": 363,
    "start_time": "2022-02-24T15:27:47.943Z"
   },
   {
    "duration": 22,
    "start_time": "2022-02-24T15:27:54.311Z"
   },
   {
    "duration": 549,
    "start_time": "2022-02-24T15:28:18.430Z"
   },
   {
    "duration": 6525,
    "start_time": "2022-02-24T15:29:55.385Z"
   },
   {
    "duration": 6904,
    "start_time": "2022-02-24T15:30:27.634Z"
   },
   {
    "duration": 849,
    "start_time": "2022-02-24T15:30:50.015Z"
   },
   {
    "duration": 79,
    "start_time": "2022-02-24T15:30:50.867Z"
   },
   {
    "duration": 7,
    "start_time": "2022-02-24T15:30:50.950Z"
   },
   {
    "duration": 13,
    "start_time": "2022-02-24T15:30:50.959Z"
   },
   {
    "duration": 57,
    "start_time": "2022-02-24T15:30:50.974Z"
   },
   {
    "duration": 54,
    "start_time": "2022-02-24T15:30:51.034Z"
   },
   {
    "duration": 6,
    "start_time": "2022-02-24T15:30:51.091Z"
   },
   {
    "duration": 21,
    "start_time": "2022-02-24T15:30:51.129Z"
   },
   {
    "duration": 77,
    "start_time": "2022-02-24T15:30:51.153Z"
   },
   {
    "duration": 33,
    "start_time": "2022-02-24T15:30:51.232Z"
   },
   {
    "duration": 81,
    "start_time": "2022-02-24T15:30:51.267Z"
   },
   {
    "duration": 5,
    "start_time": "2022-02-24T15:30:51.351Z"
   },
   {
    "duration": 11,
    "start_time": "2022-02-24T15:30:51.359Z"
   },
   {
    "duration": 10,
    "start_time": "2022-02-24T15:30:51.372Z"
   },
   {
    "duration": 11,
    "start_time": "2022-02-24T15:30:51.384Z"
   },
   {
    "duration": 8,
    "start_time": "2022-02-24T15:30:51.426Z"
   },
   {
    "duration": 16,
    "start_time": "2022-02-24T15:30:51.437Z"
   },
   {
    "duration": 16,
    "start_time": "2022-02-24T15:30:51.455Z"
   },
   {
    "duration": 18,
    "start_time": "2022-02-24T15:30:51.473Z"
   },
   {
    "duration": 52,
    "start_time": "2022-02-24T15:30:51.493Z"
   },
   {
    "duration": 29,
    "start_time": "2022-02-24T15:30:51.548Z"
   },
   {
    "duration": 28,
    "start_time": "2022-02-24T15:30:51.580Z"
   },
   {
    "duration": 517,
    "start_time": "2022-02-24T15:30:51.612Z"
   },
   {
    "duration": 6,
    "start_time": "2022-02-24T15:30:52.132Z"
   },
   {
    "duration": 6990,
    "start_time": "2022-02-24T15:30:52.141Z"
   },
   {
    "duration": 23,
    "start_time": "2022-02-24T15:30:59.133Z"
   },
   {
    "duration": 6458,
    "start_time": "2022-02-24T15:30:59.159Z"
   },
   {
    "duration": 257,
    "start_time": "2022-02-24T15:31:36.500Z"
   },
   {
    "duration": 2153,
    "start_time": "2022-02-24T15:31:46.178Z"
   },
   {
    "duration": 2127,
    "start_time": "2022-02-24T15:32:16.711Z"
   },
   {
    "duration": 2103,
    "start_time": "2022-02-24T15:32:28.609Z"
   },
   {
    "duration": 215,
    "start_time": "2022-02-24T15:33:47.979Z"
   },
   {
    "duration": 1952,
    "start_time": "2022-02-24T15:33:57.746Z"
   },
   {
    "duration": 2161,
    "start_time": "2022-02-24T15:34:10.529Z"
   },
   {
    "duration": 2626,
    "start_time": "2022-02-24T15:35:48.587Z"
   },
   {
    "duration": 2157,
    "start_time": "2022-02-24T15:36:01.214Z"
   },
   {
    "duration": 2441,
    "start_time": "2022-02-24T15:36:32.926Z"
   },
   {
    "duration": 3731,
    "start_time": "2022-02-24T15:36:43.824Z"
   },
   {
    "duration": 289,
    "start_time": "2022-02-24T15:37:43.059Z"
   },
   {
    "duration": 22,
    "start_time": "2022-02-24T15:37:54.970Z"
   },
   {
    "duration": 275,
    "start_time": "2022-02-24T15:38:09.556Z"
   },
   {
    "duration": 24,
    "start_time": "2022-02-24T15:38:29.977Z"
   },
   {
    "duration": 2536,
    "start_time": "2022-02-24T15:38:34.010Z"
   },
   {
    "duration": 305,
    "start_time": "2022-02-24T15:39:21.873Z"
   },
   {
    "duration": 326,
    "start_time": "2022-02-24T17:07:01.710Z"
   },
   {
    "duration": 5,
    "start_time": "2022-02-24T17:10:25.286Z"
   },
   {
    "duration": 87,
    "start_time": "2022-02-24T17:10:25.294Z"
   },
   {
    "duration": 7,
    "start_time": "2022-02-24T17:10:25.384Z"
   },
   {
    "duration": 38,
    "start_time": "2022-02-24T17:10:25.394Z"
   },
   {
    "duration": 41,
    "start_time": "2022-02-24T17:10:25.435Z"
   },
   {
    "duration": 73,
    "start_time": "2022-02-24T17:10:25.478Z"
   },
   {
    "duration": 6,
    "start_time": "2022-02-24T17:10:25.554Z"
   },
   {
    "duration": 23,
    "start_time": "2022-02-24T17:10:25.563Z"
   },
   {
    "duration": 91,
    "start_time": "2022-02-24T17:10:25.589Z"
   },
   {
    "duration": 48,
    "start_time": "2022-02-24T17:10:25.682Z"
   },
   {
    "duration": 60,
    "start_time": "2022-02-24T17:10:25.733Z"
   },
   {
    "duration": 6,
    "start_time": "2022-02-24T17:10:25.796Z"
   },
   {
    "duration": 10,
    "start_time": "2022-02-24T17:10:25.827Z"
   },
   {
    "duration": 14,
    "start_time": "2022-02-24T17:10:25.840Z"
   },
   {
    "duration": 11,
    "start_time": "2022-02-24T17:10:25.857Z"
   },
   {
    "duration": 10,
    "start_time": "2022-02-24T17:10:25.871Z"
   },
   {
    "duration": 16,
    "start_time": "2022-02-24T17:10:25.927Z"
   },
   {
    "duration": 15,
    "start_time": "2022-02-24T17:10:25.946Z"
   },
   {
    "duration": 17,
    "start_time": "2022-02-24T17:10:25.965Z"
   },
   {
    "duration": 55,
    "start_time": "2022-02-24T17:10:25.984Z"
   },
   {
    "duration": 12,
    "start_time": "2022-02-24T17:10:26.041Z"
   },
   {
    "duration": 27,
    "start_time": "2022-02-24T17:10:26.055Z"
   },
   {
    "duration": 557,
    "start_time": "2022-02-24T17:10:26.085Z"
   },
   {
    "duration": 6,
    "start_time": "2022-02-24T17:10:26.646Z"
   },
   {
    "duration": 7203,
    "start_time": "2022-02-24T17:10:26.654Z"
   },
   {
    "duration": 23,
    "start_time": "2022-02-24T17:10:33.859Z"
   },
   {
    "duration": 301,
    "start_time": "2022-02-24T17:10:33.884Z"
   },
   {
    "duration": 580,
    "start_time": "2022-02-24T17:10:56.779Z"
   },
   {
    "duration": 104,
    "start_time": "2022-02-24T17:11:45.635Z"
   },
   {
    "duration": 301,
    "start_time": "2022-02-24T17:11:53.185Z"
   },
   {
    "duration": 25,
    "start_time": "2022-02-24T17:12:29.351Z"
   },
   {
    "duration": 678,
    "start_time": "2022-02-24T17:13:26.558Z"
   },
   {
    "duration": 321,
    "start_time": "2022-02-24T17:14:10.857Z"
   },
   {
    "duration": 2273,
    "start_time": "2022-02-24T17:14:24.769Z"
   },
   {
    "duration": 1684,
    "start_time": "2022-02-24T17:30:50.868Z"
   },
   {
    "duration": 91,
    "start_time": "2022-02-24T17:30:52.555Z"
   },
   {
    "duration": 7,
    "start_time": "2022-02-24T17:30:52.650Z"
   },
   {
    "duration": 15,
    "start_time": "2022-02-24T17:30:52.659Z"
   },
   {
    "duration": 66,
    "start_time": "2022-02-24T17:30:52.677Z"
   },
   {
    "duration": 52,
    "start_time": "2022-02-24T17:30:52.746Z"
   },
   {
    "duration": 26,
    "start_time": "2022-02-24T17:30:52.800Z"
   },
   {
    "duration": 23,
    "start_time": "2022-02-24T17:30:52.834Z"
   },
   {
    "duration": 82,
    "start_time": "2022-02-24T17:30:52.860Z"
   },
   {
    "duration": 31,
    "start_time": "2022-02-24T17:30:52.945Z"
   },
   {
    "duration": 81,
    "start_time": "2022-02-24T17:30:52.979Z"
   },
   {
    "duration": 7,
    "start_time": "2022-02-24T17:30:53.063Z"
   },
   {
    "duration": 13,
    "start_time": "2022-02-24T17:30:53.072Z"
   },
   {
    "duration": 43,
    "start_time": "2022-02-24T17:30:53.088Z"
   },
   {
    "duration": 15,
    "start_time": "2022-02-24T17:30:53.134Z"
   },
   {
    "duration": 11,
    "start_time": "2022-02-24T17:30:53.152Z"
   },
   {
    "duration": 12,
    "start_time": "2022-02-24T17:30:53.166Z"
   },
   {
    "duration": 10,
    "start_time": "2022-02-24T17:30:53.181Z"
   },
   {
    "duration": 50,
    "start_time": "2022-02-24T17:30:53.193Z"
   },
   {
    "duration": 21,
    "start_time": "2022-02-24T17:30:53.246Z"
   },
   {
    "duration": 10,
    "start_time": "2022-02-24T17:30:53.270Z"
   },
   {
    "duration": 60,
    "start_time": "2022-02-24T17:30:53.282Z"
   },
   {
    "duration": 652,
    "start_time": "2022-02-24T17:30:53.348Z"
   },
   {
    "duration": 7,
    "start_time": "2022-02-24T17:30:54.002Z"
   },
   {
    "duration": 7553,
    "start_time": "2022-02-24T17:30:54.027Z"
   },
   {
    "duration": 26,
    "start_time": "2022-02-24T17:31:01.583Z"
   },
   {
    "duration": 1564,
    "start_time": "2022-02-24T17:38:45.562Z"
   },
   {
    "duration": 84,
    "start_time": "2022-02-24T17:38:47.129Z"
   },
   {
    "duration": 15,
    "start_time": "2022-02-24T17:38:47.216Z"
   },
   {
    "duration": 15,
    "start_time": "2022-02-24T17:38:47.235Z"
   },
   {
    "duration": 41,
    "start_time": "2022-02-24T17:38:47.253Z"
   },
   {
    "duration": 77,
    "start_time": "2022-02-24T17:38:47.297Z"
   },
   {
    "duration": 8,
    "start_time": "2022-02-24T17:38:47.377Z"
   },
   {
    "duration": 51,
    "start_time": "2022-02-24T17:38:47.388Z"
   },
   {
    "duration": 56,
    "start_time": "2022-02-24T17:38:47.444Z"
   },
   {
    "duration": 50,
    "start_time": "2022-02-24T17:38:47.503Z"
   },
   {
    "duration": 103,
    "start_time": "2022-02-24T17:38:47.556Z"
   },
   {
    "duration": 8,
    "start_time": "2022-02-24T17:38:47.662Z"
   },
   {
    "duration": 12,
    "start_time": "2022-02-24T17:38:47.672Z"
   },
   {
    "duration": 7,
    "start_time": "2022-02-24T17:38:47.687Z"
   },
   {
    "duration": 13,
    "start_time": "2022-02-24T17:38:47.726Z"
   },
   {
    "duration": 12,
    "start_time": "2022-02-24T17:38:47.742Z"
   },
   {
    "duration": 19,
    "start_time": "2022-02-24T17:38:47.757Z"
   },
   {
    "duration": 13,
    "start_time": "2022-02-24T17:38:47.778Z"
   },
   {
    "duration": 16,
    "start_time": "2022-02-24T17:38:47.827Z"
   },
   {
    "duration": 21,
    "start_time": "2022-02-24T17:38:47.846Z"
   },
   {
    "duration": 16,
    "start_time": "2022-02-24T17:38:47.870Z"
   },
   {
    "duration": 72,
    "start_time": "2022-02-24T17:38:47.888Z"
   },
   {
    "duration": 818,
    "start_time": "2022-02-24T17:38:47.963Z"
   },
   {
    "duration": 6,
    "start_time": "2022-02-24T17:38:48.783Z"
   },
   {
    "duration": 9974,
    "start_time": "2022-02-24T17:38:48.792Z"
   },
   {
    "duration": 31,
    "start_time": "2022-02-24T17:38:58.769Z"
   },
   {
    "duration": 8,
    "start_time": "2022-02-24T17:38:58.826Z"
   },
   {
    "duration": 470,
    "start_time": "2022-02-24T17:38:58.837Z"
   },
   {
    "duration": 2210,
    "start_time": "2022-02-24T17:39:17.534Z"
   },
   {
    "duration": 2120,
    "start_time": "2022-02-24T17:39:30.101Z"
   },
   {
    "duration": 361,
    "start_time": "2022-02-24T18:03:26.724Z"
   },
   {
    "duration": 26,
    "start_time": "2022-02-24T18:03:38.894Z"
   },
   {
    "duration": 29,
    "start_time": "2022-02-24T18:06:14.824Z"
   },
   {
    "duration": 592,
    "start_time": "2022-02-24T18:06:33.637Z"
   },
   {
    "duration": 7545,
    "start_time": "2022-02-24T18:13:14.055Z"
   },
   {
    "duration": 9305,
    "start_time": "2022-02-24T18:13:46.226Z"
   },
   {
    "duration": 11324,
    "start_time": "2022-02-24T18:14:06.365Z"
   },
   {
    "duration": 6684,
    "start_time": "2022-02-24T18:20:46.299Z"
   },
   {
    "duration": 8124,
    "start_time": "2022-02-24T18:21:04.776Z"
   },
   {
    "duration": 8097,
    "start_time": "2022-02-24T18:21:41.666Z"
   },
   {
    "duration": 1088,
    "start_time": "2022-02-24T18:22:28.478Z"
   },
   {
    "duration": 774,
    "start_time": "2022-02-24T18:22:40.474Z"
   },
   {
    "duration": 820,
    "start_time": "2022-02-24T18:22:51.731Z"
   },
   {
    "duration": 310,
    "start_time": "2022-02-24T18:32:09.996Z"
   },
   {
    "duration": 25,
    "start_time": "2022-02-24T18:32:31.393Z"
   },
   {
    "duration": 347,
    "start_time": "2022-02-24T18:34:03.855Z"
   },
   {
    "duration": 25,
    "start_time": "2022-02-24T18:34:13.607Z"
   },
   {
    "duration": 241,
    "start_time": "2022-02-24T18:59:19.807Z"
   },
   {
    "duration": 9,
    "start_time": "2022-02-24T19:00:12.146Z"
   },
   {
    "duration": 7,
    "start_time": "2022-02-24T19:01:40.060Z"
   },
   {
    "duration": 6,
    "start_time": "2022-02-24T19:01:47.393Z"
   },
   {
    "duration": 7,
    "start_time": "2022-02-24T19:03:31.382Z"
   },
   {
    "duration": 7,
    "start_time": "2022-02-24T19:03:41.467Z"
   },
   {
    "duration": 323,
    "start_time": "2022-02-24T19:04:46.360Z"
   },
   {
    "duration": 38,
    "start_time": "2022-02-24T19:08:07.246Z"
   },
   {
    "duration": 25,
    "start_time": "2022-02-24T19:10:05.222Z"
   },
   {
    "duration": 19,
    "start_time": "2022-02-24T19:11:12.286Z"
   },
   {
    "duration": 837,
    "start_time": "2022-02-24T19:11:51.271Z"
   },
   {
    "duration": 9,
    "start_time": "2022-02-24T19:12:22.486Z"
   },
   {
    "duration": 25,
    "start_time": "2022-02-24T19:13:00.335Z"
   },
   {
    "duration": 22,
    "start_time": "2022-02-24T19:14:16.034Z"
   },
   {
    "duration": 23,
    "start_time": "2022-02-24T19:15:01.826Z"
   },
   {
    "duration": 18,
    "start_time": "2022-02-24T19:17:11.916Z"
   },
   {
    "duration": 16,
    "start_time": "2022-02-24T20:07:30.305Z"
   },
   {
    "duration": 13,
    "start_time": "2022-02-24T20:07:52.204Z"
   },
   {
    "duration": 15,
    "start_time": "2022-02-24T20:08:10.191Z"
   },
   {
    "duration": 14,
    "start_time": "2022-02-24T20:24:01.543Z"
   },
   {
    "duration": 4,
    "start_time": "2022-02-24T20:32:31.298Z"
   },
   {
    "duration": 7,
    "start_time": "2022-02-24T20:32:56.769Z"
   },
   {
    "duration": 14,
    "start_time": "2022-02-24T20:34:08.597Z"
   },
   {
    "duration": 327,
    "start_time": "2022-02-24T20:42:00.878Z"
   },
   {
    "duration": 281,
    "start_time": "2022-02-24T20:42:40.080Z"
   },
   {
    "duration": 266,
    "start_time": "2022-02-24T20:43:40.064Z"
   },
   {
    "duration": 21,
    "start_time": "2022-02-24T20:47:55.692Z"
   },
   {
    "duration": 13,
    "start_time": "2022-02-24T20:48:53.419Z"
   },
   {
    "duration": 32,
    "start_time": "2022-02-24T20:50:11.767Z"
   },
   {
    "duration": 25,
    "start_time": "2022-02-24T20:50:36.973Z"
   },
   {
    "duration": 273,
    "start_time": "2022-02-24T20:56:51.241Z"
   },
   {
    "duration": 850,
    "start_time": "2022-02-24T20:58:05.364Z"
   },
   {
    "duration": 27,
    "start_time": "2022-02-24T20:58:18.780Z"
   },
   {
    "duration": 1591,
    "start_time": "2022-02-24T21:11:35.584Z"
   },
   {
    "duration": 86,
    "start_time": "2022-02-24T21:11:37.177Z"
   },
   {
    "duration": 7,
    "start_time": "2022-02-24T21:11:37.266Z"
   },
   {
    "duration": 38,
    "start_time": "2022-02-24T21:11:37.277Z"
   },
   {
    "duration": 52,
    "start_time": "2022-02-24T21:11:37.318Z"
   },
   {
    "duration": 61,
    "start_time": "2022-02-24T21:11:37.373Z"
   },
   {
    "duration": 6,
    "start_time": "2022-02-24T21:11:37.436Z"
   },
   {
    "duration": 20,
    "start_time": "2022-02-24T21:11:37.445Z"
   },
   {
    "duration": 79,
    "start_time": "2022-02-24T21:11:37.470Z"
   },
   {
    "duration": 34,
    "start_time": "2022-02-24T21:11:37.552Z"
   },
   {
    "duration": 80,
    "start_time": "2022-02-24T21:11:37.589Z"
   },
   {
    "duration": 6,
    "start_time": "2022-02-24T21:11:37.672Z"
   },
   {
    "duration": 11,
    "start_time": "2022-02-24T21:11:37.682Z"
   },
   {
    "duration": 9,
    "start_time": "2022-02-24T21:11:37.727Z"
   },
   {
    "duration": 11,
    "start_time": "2022-02-24T21:11:37.738Z"
   },
   {
    "duration": 7,
    "start_time": "2022-02-24T21:11:37.753Z"
   },
   {
    "duration": 15,
    "start_time": "2022-02-24T21:11:37.763Z"
   },
   {
    "duration": 52,
    "start_time": "2022-02-24T21:11:37.781Z"
   },
   {
    "duration": 23,
    "start_time": "2022-02-24T21:11:37.836Z"
   },
   {
    "duration": 23,
    "start_time": "2022-02-24T21:11:37.862Z"
   },
   {
    "duration": 39,
    "start_time": "2022-02-24T21:11:37.887Z"
   },
   {
    "duration": 26,
    "start_time": "2022-02-24T21:11:37.930Z"
   },
   {
    "duration": 542,
    "start_time": "2022-02-24T21:11:37.958Z"
   },
   {
    "duration": 8,
    "start_time": "2022-02-24T21:11:38.503Z"
   },
   {
    "duration": 8406,
    "start_time": "2022-02-24T21:11:38.527Z"
   },
   {
    "duration": 30,
    "start_time": "2022-02-24T21:11:46.936Z"
   },
   {
    "duration": 972,
    "start_time": "2022-02-24T21:11:46.971Z"
   },
   {
    "duration": 3,
    "start_time": "2022-02-24T21:11:47.946Z"
   },
   {
    "duration": 70,
    "start_time": "2022-02-24T21:11:47.951Z"
   },
   {
    "duration": 16384,
    "start_time": "2022-02-24T21:11:48.024Z"
   },
   {
    "duration": 4,
    "start_time": "2022-02-24T21:12:04.411Z"
   },
   {
    "duration": 2165,
    "start_time": "2022-02-24T21:12:04.428Z"
   },
   {
    "duration": 854,
    "start_time": "2022-02-24T21:12:06.596Z"
   },
   {
    "duration": 26,
    "start_time": "2022-02-24T21:12:59.724Z"
   },
   {
    "duration": 3,
    "start_time": "2022-02-24T21:13:39.306Z"
   },
   {
    "duration": 18,
    "start_time": "2022-02-24T21:13:45.783Z"
   },
   {
    "duration": 367,
    "start_time": "2022-02-24T21:14:27.369Z"
   },
   {
    "duration": 3,
    "start_time": "2022-02-24T21:14:38.009Z"
   },
   {
    "duration": 19,
    "start_time": "2022-02-24T21:15:18.754Z"
   },
   {
    "duration": 4,
    "start_time": "2022-02-24T21:15:26.305Z"
   },
   {
    "duration": 77,
    "start_time": "2022-02-24T21:15:26.321Z"
   },
   {
    "duration": 8,
    "start_time": "2022-02-24T21:15:26.427Z"
   },
   {
    "duration": 13,
    "start_time": "2022-02-24T21:15:26.438Z"
   },
   {
    "duration": 35,
    "start_time": "2022-02-24T21:15:26.454Z"
   },
   {
    "duration": 84,
    "start_time": "2022-02-24T21:15:26.492Z"
   },
   {
    "duration": 6,
    "start_time": "2022-02-24T21:15:26.579Z"
   },
   {
    "duration": 62,
    "start_time": "2022-02-24T21:15:26.588Z"
   },
   {
    "duration": 73,
    "start_time": "2022-02-24T21:15:26.656Z"
   },
   {
    "duration": 39,
    "start_time": "2022-02-24T21:15:26.733Z"
   },
   {
    "duration": 84,
    "start_time": "2022-02-24T21:15:26.774Z"
   },
   {
    "duration": 9,
    "start_time": "2022-02-24T21:15:26.860Z"
   },
   {
    "duration": 12,
    "start_time": "2022-02-24T21:15:26.872Z"
   },
   {
    "duration": 41,
    "start_time": "2022-02-24T21:15:26.887Z"
   },
   {
    "duration": 12,
    "start_time": "2022-02-24T21:15:26.931Z"
   },
   {
    "duration": 9,
    "start_time": "2022-02-24T21:15:26.946Z"
   },
   {
    "duration": 17,
    "start_time": "2022-02-24T21:15:26.958Z"
   },
   {
    "duration": 50,
    "start_time": "2022-02-24T21:15:26.979Z"
   },
   {
    "duration": 17,
    "start_time": "2022-02-24T21:15:27.032Z"
   },
   {
    "duration": 27,
    "start_time": "2022-02-24T21:15:27.051Z"
   },
   {
    "duration": 8,
    "start_time": "2022-02-24T21:15:27.082Z"
   },
   {
    "duration": 24,
    "start_time": "2022-02-24T21:15:27.127Z"
   },
   {
    "duration": 542,
    "start_time": "2022-02-24T21:15:27.154Z"
   },
   {
    "duration": 5,
    "start_time": "2022-02-24T21:15:27.701Z"
   },
   {
    "duration": 8807,
    "start_time": "2022-02-24T21:15:27.725Z"
   },
   {
    "duration": 27,
    "start_time": "2022-02-24T21:15:36.534Z"
   },
   {
    "duration": 1421,
    "start_time": "2022-02-24T21:15:36.563Z"
   },
   {
    "duration": 47,
    "start_time": "2022-02-24T21:15:37.987Z"
   },
   {
    "duration": 33,
    "start_time": "2022-02-24T21:15:38.037Z"
   },
   {
    "duration": 3,
    "start_time": "2022-02-24T21:15:38.073Z"
   },
   {
    "duration": 65,
    "start_time": "2022-02-24T21:15:38.079Z"
   },
   {
    "duration": 969,
    "start_time": "2022-02-24T21:15:38.147Z"
   },
   {
    "duration": 23,
    "start_time": "2022-02-24T21:16:00.982Z"
   },
   {
    "duration": 450,
    "start_time": "2022-02-24T21:16:48.517Z"
   },
   {
    "duration": 28,
    "start_time": "2022-02-24T21:17:45.630Z"
   },
   {
    "duration": 25,
    "start_time": "2022-02-24T21:17:56.360Z"
   },
   {
    "duration": 4,
    "start_time": "2022-02-24T21:18:25.518Z"
   },
   {
    "duration": 6,
    "start_time": "2022-02-24T21:26:57.873Z"
   },
   {
    "duration": 5,
    "start_time": "2022-02-24T21:27:22.847Z"
   },
   {
    "duration": 5,
    "start_time": "2022-02-24T21:27:46.847Z"
   },
   {
    "duration": 8,
    "start_time": "2022-02-24T22:06:42.404Z"
   },
   {
    "duration": 16,
    "start_time": "2022-02-24T22:07:03.262Z"
   },
   {
    "duration": 14,
    "start_time": "2022-02-24T22:08:40.509Z"
   },
   {
    "duration": 85,
    "start_time": "2022-02-24T22:09:01.579Z"
   },
   {
    "duration": 87,
    "start_time": "2022-02-24T22:09:07.620Z"
   },
   {
    "duration": 40,
    "start_time": "2022-02-24T22:09:14.080Z"
   },
   {
    "duration": 38,
    "start_time": "2022-02-24T22:09:27.558Z"
   },
   {
    "duration": 27,
    "start_time": "2022-02-24T22:10:55.911Z"
   },
   {
    "duration": 25,
    "start_time": "2022-02-24T22:11:55.977Z"
   },
   {
    "duration": 575,
    "start_time": "2022-02-24T22:12:10.758Z"
   },
   {
    "duration": 427,
    "start_time": "2022-02-24T22:12:19.501Z"
   },
   {
    "duration": 8,
    "start_time": "2022-02-24T22:13:56.833Z"
   },
   {
    "duration": 24,
    "start_time": "2022-02-24T22:13:58.296Z"
   },
   {
    "duration": 511,
    "start_time": "2022-02-24T22:14:17.919Z"
   },
   {
    "duration": 491,
    "start_time": "2022-02-24T22:14:43.653Z"
   },
   {
    "duration": 79,
    "start_time": "2022-02-24T22:16:00.918Z"
   },
   {
    "duration": 506,
    "start_time": "2022-02-24T22:16:42.399Z"
   },
   {
    "duration": 172,
    "start_time": "2022-02-24T22:16:44.151Z"
   },
   {
    "duration": 112,
    "start_time": "2022-02-24T22:17:02.609Z"
   },
   {
    "duration": 535,
    "start_time": "2022-02-24T22:17:31.198Z"
   },
   {
    "duration": 808,
    "start_time": "2022-02-24T22:18:00.220Z"
   },
   {
    "duration": 538,
    "start_time": "2022-02-24T22:20:17.101Z"
   },
   {
    "duration": 423,
    "start_time": "2022-02-24T22:20:36.641Z"
   },
   {
    "duration": 363,
    "start_time": "2022-02-25T09:50:41.473Z"
   },
   {
    "duration": 337,
    "start_time": "2022-02-25T10:04:39.520Z"
   },
   {
    "duration": 1460,
    "start_time": "2022-02-25T10:04:44.677Z"
   },
   {
    "duration": 77,
    "start_time": "2022-02-25T10:04:46.140Z"
   },
   {
    "duration": 6,
    "start_time": "2022-02-25T10:04:46.220Z"
   },
   {
    "duration": 10,
    "start_time": "2022-02-25T10:04:46.229Z"
   },
   {
    "duration": 50,
    "start_time": "2022-02-25T10:04:46.241Z"
   },
   {
    "duration": 47,
    "start_time": "2022-02-25T10:04:46.294Z"
   },
   {
    "duration": 21,
    "start_time": "2022-02-25T10:04:46.343Z"
   },
   {
    "duration": 20,
    "start_time": "2022-02-25T10:04:46.368Z"
   },
   {
    "duration": 82,
    "start_time": "2022-02-25T10:04:46.391Z"
   },
   {
    "duration": 32,
    "start_time": "2022-02-25T10:04:46.476Z"
   },
   {
    "duration": 78,
    "start_time": "2022-02-25T10:04:46.510Z"
   },
   {
    "duration": 5,
    "start_time": "2022-02-25T10:04:46.591Z"
   },
   {
    "duration": 10,
    "start_time": "2022-02-25T10:04:46.598Z"
   },
   {
    "duration": 12,
    "start_time": "2022-02-25T10:04:46.610Z"
   },
   {
    "duration": 38,
    "start_time": "2022-02-25T10:04:46.624Z"
   },
   {
    "duration": 13,
    "start_time": "2022-02-25T10:04:46.665Z"
   },
   {
    "duration": 17,
    "start_time": "2022-02-25T10:04:46.681Z"
   },
   {
    "duration": 35,
    "start_time": "2022-02-25T10:04:46.701Z"
   },
   {
    "duration": 25,
    "start_time": "2022-02-25T10:04:46.739Z"
   },
   {
    "duration": 20,
    "start_time": "2022-02-25T10:04:46.766Z"
   },
   {
    "duration": 12,
    "start_time": "2022-02-25T10:04:46.788Z"
   },
   {
    "duration": 24,
    "start_time": "2022-02-25T10:04:46.803Z"
   },
   {
    "duration": 507,
    "start_time": "2022-02-25T10:04:46.832Z"
   },
   {
    "duration": 6,
    "start_time": "2022-02-25T10:04:47.342Z"
   },
   {
    "duration": 8032,
    "start_time": "2022-02-25T10:04:47.363Z"
   },
   {
    "duration": 26,
    "start_time": "2022-02-25T10:04:55.398Z"
   },
   {
    "duration": 1041,
    "start_time": "2022-02-25T10:04:55.426Z"
   },
   {
    "duration": 24,
    "start_time": "2022-02-25T10:04:56.469Z"
   },
   {
    "duration": 29,
    "start_time": "2022-02-25T10:04:56.496Z"
   },
   {
    "duration": 3,
    "start_time": "2022-02-25T10:04:56.527Z"
   },
   {
    "duration": 29,
    "start_time": "2022-02-25T10:04:56.563Z"
   },
   {
    "duration": 5,
    "start_time": "2022-02-25T10:04:56.595Z"
   },
   {
    "duration": 828,
    "start_time": "2022-02-25T10:04:56.603Z"
   },
   {
    "duration": 52,
    "start_time": "2022-02-25T10:04:57.434Z"
   },
   {
    "duration": 213,
    "start_time": "2022-02-25T10:04:57.488Z"
   },
   {
    "duration": 8,
    "start_time": "2022-02-25T10:04:57.703Z"
   },
   {
    "duration": 48,
    "start_time": "2022-02-25T10:04:57.714Z"
   },
   {
    "duration": 428,
    "start_time": "2022-02-25T10:04:57.765Z"
   },
   {
    "duration": 618,
    "start_time": "2022-02-25T10:04:58.196Z"
   },
   {
    "duration": 2161,
    "start_time": "2022-02-25T10:26:47.433Z"
   },
   {
    "duration": 426,
    "start_time": "2022-02-25T10:27:04.909Z"
   },
   {
    "duration": 2320,
    "start_time": "2022-02-25T10:27:15.865Z"
   },
   {
    "duration": 803,
    "start_time": "2022-02-25T10:27:46.894Z"
   },
   {
    "duration": 2381,
    "start_time": "2022-02-25T10:28:06.129Z"
   },
   {
    "duration": 4316,
    "start_time": "2022-02-25T10:29:01.248Z"
   },
   {
    "duration": 2313,
    "start_time": "2022-02-25T10:34:02.374Z"
   },
   {
    "duration": 10,
    "start_time": "2022-02-25T10:36:49.378Z"
   },
   {
    "duration": 10,
    "start_time": "2022-02-25T10:40:02.289Z"
   },
   {
    "duration": 27,
    "start_time": "2022-02-25T10:40:22.943Z"
   },
   {
    "duration": 620,
    "start_time": "2022-02-25T10:41:07.563Z"
   },
   {
    "duration": 4,
    "start_time": "2022-02-25T11:52:55.016Z"
   },
   {
    "duration": 86,
    "start_time": "2022-02-25T11:52:55.023Z"
   },
   {
    "duration": 7,
    "start_time": "2022-02-25T11:52:55.113Z"
   },
   {
    "duration": 12,
    "start_time": "2022-02-25T11:52:55.123Z"
   },
   {
    "duration": 58,
    "start_time": "2022-02-25T11:52:55.137Z"
   },
   {
    "duration": 71,
    "start_time": "2022-02-25T11:52:55.198Z"
   },
   {
    "duration": 8,
    "start_time": "2022-02-25T11:52:55.274Z"
   },
   {
    "duration": 22,
    "start_time": "2022-02-25T11:52:55.286Z"
   },
   {
    "duration": 87,
    "start_time": "2022-02-25T11:52:55.313Z"
   },
   {
    "duration": 33,
    "start_time": "2022-02-25T11:52:55.403Z"
   },
   {
    "duration": 80,
    "start_time": "2022-02-25T11:52:55.439Z"
   },
   {
    "duration": 7,
    "start_time": "2022-02-25T11:52:55.522Z"
   },
   {
    "duration": 42,
    "start_time": "2022-02-25T11:52:55.532Z"
   },
   {
    "duration": 12,
    "start_time": "2022-02-25T11:52:55.577Z"
   },
   {
    "duration": 18,
    "start_time": "2022-02-25T11:52:55.591Z"
   },
   {
    "duration": 8,
    "start_time": "2022-02-25T11:52:55.612Z"
   },
   {
    "duration": 48,
    "start_time": "2022-02-25T11:52:55.623Z"
   },
   {
    "duration": 15,
    "start_time": "2022-02-25T11:52:55.675Z"
   },
   {
    "duration": 21,
    "start_time": "2022-02-25T11:52:55.693Z"
   },
   {
    "duration": 23,
    "start_time": "2022-02-25T11:52:55.716Z"
   },
   {
    "duration": 9,
    "start_time": "2022-02-25T11:52:55.762Z"
   },
   {
    "duration": 36,
    "start_time": "2022-02-25T11:52:55.775Z"
   },
   {
    "duration": 595,
    "start_time": "2022-02-25T11:52:55.813Z"
   },
   {
    "duration": 6,
    "start_time": "2022-02-25T11:52:56.411Z"
   },
   {
    "duration": 7798,
    "start_time": "2022-02-25T11:52:56.420Z"
   },
   {
    "duration": 45,
    "start_time": "2022-02-25T11:53:04.221Z"
   },
   {
    "duration": 843,
    "start_time": "2022-02-25T11:53:04.273Z"
   },
   {
    "duration": 25,
    "start_time": "2022-02-25T11:53:05.120Z"
   },
   {
    "duration": 33,
    "start_time": "2022-02-25T11:53:05.163Z"
   },
   {
    "duration": 3,
    "start_time": "2022-02-25T11:53:05.199Z"
   },
   {
    "duration": 35,
    "start_time": "2022-02-25T11:53:05.205Z"
   },
   {
    "duration": 6,
    "start_time": "2022-02-25T11:53:05.263Z"
   },
   {
    "duration": 1096,
    "start_time": "2022-02-25T11:53:05.272Z"
   },
   {
    "duration": 2245,
    "start_time": "2022-02-25T11:53:06.370Z"
   },
   {
    "duration": 48,
    "start_time": "2022-02-25T11:53:08.618Z"
   },
   {
    "duration": 26,
    "start_time": "2022-02-25T11:53:08.669Z"
   },
   {
    "duration": 7,
    "start_time": "2022-02-25T11:53:08.698Z"
   },
   {
    "duration": 55,
    "start_time": "2022-02-25T11:53:08.708Z"
   },
   {
    "duration": 443,
    "start_time": "2022-02-25T11:53:08.767Z"
   },
   {
    "duration": 10,
    "start_time": "2022-02-25T11:53:09.213Z"
   },
   {
    "duration": 672,
    "start_time": "2022-02-25T11:53:09.227Z"
   },
   {
    "duration": 637,
    "start_time": "2022-02-25T11:53:45.872Z"
   },
   {
    "duration": 726,
    "start_time": "2022-02-25T12:18:14.174Z"
   },
   {
    "duration": 22,
    "start_time": "2022-02-25T12:18:48.813Z"
   },
   {
    "duration": 20,
    "start_time": "2022-02-25T12:18:55.894Z"
   },
   {
    "duration": 10,
    "start_time": "2022-02-25T12:19:02.232Z"
   },
   {
    "duration": 887,
    "start_time": "2022-02-25T12:19:06.292Z"
   },
   {
    "duration": 23,
    "start_time": "2022-02-25T12:21:00.652Z"
   },
   {
    "duration": 24,
    "start_time": "2022-02-25T12:21:06.203Z"
   },
   {
    "duration": 456,
    "start_time": "2022-02-25T12:21:19.412Z"
   },
   {
    "duration": 9,
    "start_time": "2022-02-25T12:21:53.620Z"
   },
   {
    "duration": 12,
    "start_time": "2022-02-25T12:22:20.360Z"
   },
   {
    "duration": 10,
    "start_time": "2022-02-25T12:22:21.643Z"
   },
   {
    "duration": 369,
    "start_time": "2022-02-25T12:23:20.593Z"
   },
   {
    "duration": 673,
    "start_time": "2022-02-25T12:23:47.536Z"
   },
   {
    "duration": 651,
    "start_time": "2022-02-25T12:23:53.455Z"
   },
   {
    "duration": 2441,
    "start_time": "2022-02-25T12:25:25.910Z"
   },
   {
    "duration": 16,
    "start_time": "2022-02-25T12:27:46.011Z"
   },
   {
    "duration": 688,
    "start_time": "2022-02-25T12:27:52.251Z"
   },
   {
    "duration": 649,
    "start_time": "2022-02-25T12:28:22.964Z"
   },
   {
    "duration": 665,
    "start_time": "2022-02-25T12:28:35.768Z"
   },
   {
    "duration": 355,
    "start_time": "2022-02-25T12:29:34.909Z"
   },
   {
    "duration": 302,
    "start_time": "2022-02-25T12:29:41.687Z"
   },
   {
    "duration": 295,
    "start_time": "2022-02-25T12:29:47.992Z"
   },
   {
    "duration": 363,
    "start_time": "2022-02-25T12:30:27.285Z"
   },
   {
    "duration": 321,
    "start_time": "2022-02-25T12:30:54.792Z"
   },
   {
    "duration": 388,
    "start_time": "2022-02-25T12:56:10.309Z"
   },
   {
    "duration": 319,
    "start_time": "2022-02-25T12:56:44.932Z"
   },
   {
    "duration": 14,
    "start_time": "2022-02-25T12:57:08.921Z"
   },
   {
    "duration": 13,
    "start_time": "2022-02-25T12:57:57.603Z"
   },
   {
    "duration": 12,
    "start_time": "2022-02-25T12:59:16.551Z"
   },
   {
    "duration": 12,
    "start_time": "2022-02-25T12:59:28.324Z"
   },
   {
    "duration": 12,
    "start_time": "2022-02-25T12:59:36.283Z"
   },
   {
    "duration": 12,
    "start_time": "2022-02-25T12:59:39.391Z"
   },
   {
    "duration": 14,
    "start_time": "2022-02-25T13:00:02.127Z"
   },
   {
    "duration": 141,
    "start_time": "2022-02-25T13:05:38.959Z"
   },
   {
    "duration": 93,
    "start_time": "2022-02-25T13:07:03.438Z"
   },
   {
    "duration": 472,
    "start_time": "2022-02-25T13:11:25.114Z"
   },
   {
    "duration": 9,
    "start_time": "2022-02-25T13:11:33.433Z"
   },
   {
    "duration": 17,
    "start_time": "2022-02-25T13:11:52.477Z"
   },
   {
    "duration": 13,
    "start_time": "2022-02-25T13:12:07.279Z"
   },
   {
    "duration": 13,
    "start_time": "2022-02-25T13:25:11.335Z"
   },
   {
    "duration": 318,
    "start_time": "2022-02-25T13:26:15.812Z"
   },
   {
    "duration": 12,
    "start_time": "2022-02-25T14:33:36.148Z"
   },
   {
    "duration": 18,
    "start_time": "2022-02-25T14:34:27.185Z"
   },
   {
    "duration": 13,
    "start_time": "2022-02-25T14:34:59.594Z"
   },
   {
    "duration": 25,
    "start_time": "2022-02-25T14:35:27.304Z"
   },
   {
    "duration": 19,
    "start_time": "2022-02-25T14:37:08.808Z"
   },
   {
    "duration": 19,
    "start_time": "2022-02-25T14:38:51.689Z"
   },
   {
    "duration": 804,
    "start_time": "2022-02-25T14:41:46.715Z"
   },
   {
    "duration": 6,
    "start_time": "2022-02-25T14:42:24.546Z"
   },
   {
    "duration": 333,
    "start_time": "2022-02-25T14:56:44.708Z"
   },
   {
    "duration": 38,
    "start_time": "2022-02-25T14:57:37.246Z"
   },
   {
    "duration": 48,
    "start_time": "2022-02-25T14:57:45.924Z"
   },
   {
    "duration": 32,
    "start_time": "2022-02-25T14:58:14.442Z"
   },
   {
    "duration": 94,
    "start_time": "2022-02-25T14:58:47.562Z"
   },
   {
    "duration": 27,
    "start_time": "2022-02-25T14:58:57.831Z"
   },
   {
    "duration": 34,
    "start_time": "2022-02-25T15:00:36.220Z"
   },
   {
    "duration": 24,
    "start_time": "2022-02-25T15:02:00.348Z"
   },
   {
    "duration": 22,
    "start_time": "2022-02-25T15:02:50.949Z"
   },
   {
    "duration": 432,
    "start_time": "2022-02-25T15:03:28.602Z"
   },
   {
    "duration": 20,
    "start_time": "2022-02-25T15:04:55.537Z"
   },
   {
    "duration": 654,
    "start_time": "2022-02-25T15:16:31.237Z"
   },
   {
    "duration": 23,
    "start_time": "2022-02-25T15:16:45.842Z"
   },
   {
    "duration": 295,
    "start_time": "2022-02-25T15:32:44.835Z"
   },
   {
    "duration": 306,
    "start_time": "2022-02-25T15:33:45.664Z"
   },
   {
    "duration": 285,
    "start_time": "2022-02-25T15:33:59.552Z"
   },
   {
    "duration": 225,
    "start_time": "2022-02-25T15:35:28.728Z"
   },
   {
    "duration": 210,
    "start_time": "2022-02-25T15:36:55.054Z"
   },
   {
    "duration": 214,
    "start_time": "2022-02-25T15:37:05.427Z"
   },
   {
    "duration": 203,
    "start_time": "2022-02-25T15:37:17.390Z"
   },
   {
    "duration": 208,
    "start_time": "2022-02-25T15:39:33.692Z"
   },
   {
    "duration": 221,
    "start_time": "2022-02-25T15:39:44.469Z"
   },
   {
    "duration": 202,
    "start_time": "2022-02-25T15:39:54.494Z"
   },
   {
    "duration": 228,
    "start_time": "2022-02-25T15:40:09.849Z"
   },
   {
    "duration": 196,
    "start_time": "2022-02-25T15:40:16.700Z"
   },
   {
    "duration": 341,
    "start_time": "2022-02-25T19:01:21.794Z"
   },
   {
    "duration": 1563,
    "start_time": "2022-02-25T19:01:27.058Z"
   },
   {
    "duration": 79,
    "start_time": "2022-02-25T19:01:28.624Z"
   },
   {
    "duration": 7,
    "start_time": "2022-02-25T19:01:28.707Z"
   },
   {
    "duration": 6,
    "start_time": "2022-02-25T19:01:28.717Z"
   },
   {
    "duration": 55,
    "start_time": "2022-02-25T19:01:28.726Z"
   },
   {
    "duration": 45,
    "start_time": "2022-02-25T19:01:28.784Z"
   },
   {
    "duration": 5,
    "start_time": "2022-02-25T19:01:28.832Z"
   },
   {
    "duration": 18,
    "start_time": "2022-02-25T19:01:28.863Z"
   },
   {
    "duration": 45,
    "start_time": "2022-02-25T19:01:28.884Z"
   },
   {
    "duration": 30,
    "start_time": "2022-02-25T19:01:28.960Z"
   },
   {
    "duration": 71,
    "start_time": "2022-02-25T19:01:28.992Z"
   },
   {
    "duration": 5,
    "start_time": "2022-02-25T19:01:29.066Z"
   },
   {
    "duration": 10,
    "start_time": "2022-02-25T19:01:29.074Z"
   },
   {
    "duration": 7,
    "start_time": "2022-02-25T19:01:29.087Z"
   },
   {
    "duration": 9,
    "start_time": "2022-02-25T19:01:29.096Z"
   },
   {
    "duration": 8,
    "start_time": "2022-02-25T19:01:29.107Z"
   },
   {
    "duration": 10,
    "start_time": "2022-02-25T19:01:29.162Z"
   },
   {
    "duration": 12,
    "start_time": "2022-02-25T19:01:29.175Z"
   },
   {
    "duration": 16,
    "start_time": "2022-02-25T19:01:29.189Z"
   },
   {
    "duration": 19,
    "start_time": "2022-02-25T19:01:29.207Z"
   },
   {
    "duration": 39,
    "start_time": "2022-02-25T19:01:29.228Z"
   },
   {
    "duration": 23,
    "start_time": "2022-02-25T19:01:29.269Z"
   },
   {
    "duration": 503,
    "start_time": "2022-02-25T19:01:29.297Z"
   },
   {
    "duration": 6,
    "start_time": "2022-02-25T19:01:29.803Z"
   },
   {
    "duration": 7752,
    "start_time": "2022-02-25T19:01:29.811Z"
   },
   {
    "duration": 27,
    "start_time": "2022-02-25T19:01:37.566Z"
   },
   {
    "duration": 26,
    "start_time": "2022-02-25T19:01:37.596Z"
   },
   {
    "duration": 845,
    "start_time": "2022-02-25T19:01:37.625Z"
   },
   {
    "duration": 24,
    "start_time": "2022-02-25T19:01:38.473Z"
   },
   {
    "duration": 62,
    "start_time": "2022-02-25T19:01:38.500Z"
   },
   {
    "duration": 3,
    "start_time": "2022-02-25T19:01:38.566Z"
   },
   {
    "duration": 28,
    "start_time": "2022-02-25T19:01:38.572Z"
   },
   {
    "duration": 6,
    "start_time": "2022-02-25T19:01:38.603Z"
   },
   {
    "duration": 860,
    "start_time": "2022-02-25T19:01:38.611Z"
   },
   {
    "duration": 2465,
    "start_time": "2022-02-25T19:01:39.473Z"
   },
   {
    "duration": 51,
    "start_time": "2022-02-25T19:01:41.940Z"
   },
   {
    "duration": 25,
    "start_time": "2022-02-25T19:01:41.994Z"
   },
   {
    "duration": 49,
    "start_time": "2022-02-25T19:01:42.021Z"
   },
   {
    "duration": 6,
    "start_time": "2022-02-25T19:01:42.073Z"
   },
   {
    "duration": 27,
    "start_time": "2022-02-25T19:01:42.081Z"
   },
   {
    "duration": 50,
    "start_time": "2022-02-25T19:01:42.111Z"
   },
   {
    "duration": 439,
    "start_time": "2022-02-25T19:01:42.164Z"
   },
   {
    "duration": 435,
    "start_time": "2022-02-25T19:01:42.605Z"
   },
   {
    "duration": 30,
    "start_time": "2022-02-25T19:01:43.043Z"
   },
   {
    "duration": 18,
    "start_time": "2022-02-25T19:01:43.075Z"
   },
   {
    "duration": 239,
    "start_time": "2022-02-25T19:01:43.095Z"
   },
   {
    "duration": 242,
    "start_time": "2022-02-25T19:01:43.337Z"
   },
   {
    "duration": 7,
    "start_time": "2022-02-25T19:01:43.582Z"
   },
   {
    "duration": 36,
    "start_time": "2022-02-25T19:03:49.092Z"
   },
   {
    "duration": 7,
    "start_time": "2022-02-25T19:03:56.286Z"
   },
   {
    "duration": 224,
    "start_time": "2022-02-25T19:26:59.002Z"
   },
   {
    "duration": 219,
    "start_time": "2022-02-25T19:27:04.900Z"
   },
   {
    "duration": 2805,
    "start_time": "2022-02-25T19:29:59.772Z"
   },
   {
    "duration": 5736,
    "start_time": "2022-02-25T19:30:31.590Z"
   },
   {
    "duration": 2810,
    "start_time": "2022-02-25T19:30:53.169Z"
   },
   {
    "duration": 2754,
    "start_time": "2022-02-25T19:31:10.154Z"
   },
   {
    "duration": 415,
    "start_time": "2022-02-25T19:32:05.603Z"
   },
   {
    "duration": 2738,
    "start_time": "2022-02-25T19:32:16.745Z"
   },
   {
    "duration": 2663,
    "start_time": "2022-02-25T19:32:37.049Z"
   },
   {
    "duration": 2672,
    "start_time": "2022-02-25T19:32:52.069Z"
   },
   {
    "duration": 3264,
    "start_time": "2022-02-25T19:33:13.490Z"
   },
   {
    "duration": 3406,
    "start_time": "2022-02-25T19:33:30.331Z"
   },
   {
    "duration": 2816,
    "start_time": "2022-02-25T19:33:50.561Z"
   },
   {
    "duration": 3659,
    "start_time": "2022-02-25T19:34:26.293Z"
   },
   {
    "duration": 3424,
    "start_time": "2022-02-25T19:34:39.703Z"
   },
   {
    "duration": 3528,
    "start_time": "2022-02-25T19:35:12.610Z"
   },
   {
    "duration": 3386,
    "start_time": "2022-02-25T19:35:35.518Z"
   },
   {
    "duration": 2805,
    "start_time": "2022-02-25T19:35:47.063Z"
   },
   {
    "duration": 3617,
    "start_time": "2022-02-25T19:36:05.053Z"
   },
   {
    "duration": 3547,
    "start_time": "2022-02-25T19:36:26.647Z"
   },
   {
    "duration": 3241,
    "start_time": "2022-02-25T19:36:40.914Z"
   },
   {
    "duration": 6175,
    "start_time": "2022-02-25T19:37:05.850Z"
   },
   {
    "duration": 3193,
    "start_time": "2022-02-25T19:39:32.514Z"
   },
   {
    "duration": 2821,
    "start_time": "2022-02-25T19:39:49.857Z"
   },
   {
    "duration": 749,
    "start_time": "2022-02-25T19:40:01.661Z"
   },
   {
    "duration": 3028,
    "start_time": "2022-02-25T19:40:14.147Z"
   },
   {
    "duration": 3026,
    "start_time": "2022-02-25T19:40:29.771Z"
   },
   {
    "duration": 2071,
    "start_time": "2022-02-25T19:41:00.024Z"
   },
   {
    "duration": 3003,
    "start_time": "2022-02-25T19:41:11.454Z"
   },
   {
    "duration": 3244,
    "start_time": "2022-02-25T19:57:07.056Z"
   },
   {
    "duration": 403,
    "start_time": "2022-02-25T20:00:20.346Z"
   },
   {
    "duration": 27,
    "start_time": "2022-02-25T20:01:06.774Z"
   },
   {
    "duration": 8,
    "start_time": "2022-02-25T20:07:38.860Z"
   },
   {
    "duration": 3193,
    "start_time": "2022-02-25T20:07:58.086Z"
   },
   {
    "duration": 2759,
    "start_time": "2022-02-25T20:08:28.870Z"
   },
   {
    "duration": 3086,
    "start_time": "2022-02-25T20:09:05.315Z"
   },
   {
    "duration": 8,
    "start_time": "2022-02-25T20:10:20.528Z"
   },
   {
    "duration": 3106,
    "start_time": "2022-02-25T20:10:36.642Z"
   },
   {
    "duration": 3026,
    "start_time": "2022-02-25T20:11:03.838Z"
   },
   {
    "duration": 2004,
    "start_time": "2022-02-25T20:47:36.522Z"
   },
   {
    "duration": 78,
    "start_time": "2022-02-25T20:47:38.529Z"
   },
   {
    "duration": 6,
    "start_time": "2022-02-25T20:47:38.610Z"
   },
   {
    "duration": 12,
    "start_time": "2022-02-25T20:47:38.619Z"
   },
   {
    "duration": 50,
    "start_time": "2022-02-25T20:47:38.633Z"
   },
   {
    "duration": 57,
    "start_time": "2022-02-25T20:47:38.686Z"
   },
   {
    "duration": 5,
    "start_time": "2022-02-25T20:47:38.745Z"
   },
   {
    "duration": 19,
    "start_time": "2022-02-25T20:47:38.761Z"
   },
   {
    "duration": 79,
    "start_time": "2022-02-25T20:47:38.784Z"
   },
   {
    "duration": 33,
    "start_time": "2022-02-25T20:47:38.866Z"
   },
   {
    "duration": 92,
    "start_time": "2022-02-25T20:47:38.902Z"
   },
   {
    "duration": 7,
    "start_time": "2022-02-25T20:47:38.997Z"
   },
   {
    "duration": 26,
    "start_time": "2022-02-25T20:47:39.007Z"
   },
   {
    "duration": 15,
    "start_time": "2022-02-25T20:47:39.036Z"
   },
   {
    "duration": 9,
    "start_time": "2022-02-25T20:47:39.062Z"
   },
   {
    "duration": 21,
    "start_time": "2022-02-25T20:47:39.074Z"
   },
   {
    "duration": 22,
    "start_time": "2022-02-25T20:47:39.098Z"
   },
   {
    "duration": 21,
    "start_time": "2022-02-25T20:47:39.123Z"
   },
   {
    "duration": 14,
    "start_time": "2022-02-25T20:47:39.162Z"
   },
   {
    "duration": 24,
    "start_time": "2022-02-25T20:47:39.179Z"
   },
   {
    "duration": 23,
    "start_time": "2022-02-25T20:47:39.205Z"
   },
   {
    "duration": 42,
    "start_time": "2022-02-25T20:47:39.231Z"
   },
   {
    "duration": 519,
    "start_time": "2022-02-25T20:47:39.279Z"
   },
   {
    "duration": 7,
    "start_time": "2022-02-25T20:47:39.802Z"
   },
   {
    "duration": 9833,
    "start_time": "2022-02-25T20:47:39.811Z"
   },
   {
    "duration": 49,
    "start_time": "2022-02-25T20:47:49.647Z"
   },
   {
    "duration": 27,
    "start_time": "2022-02-25T20:47:49.699Z"
   },
   {
    "duration": 1175,
    "start_time": "2022-02-25T20:47:49.728Z"
   },
   {
    "duration": 23,
    "start_time": "2022-02-25T20:47:50.906Z"
   },
   {
    "duration": 71,
    "start_time": "2022-02-25T20:47:50.931Z"
   },
   {
    "duration": 4,
    "start_time": "2022-02-25T20:47:51.006Z"
   },
   {
    "duration": 60,
    "start_time": "2022-02-25T20:47:51.013Z"
   },
   {
    "duration": 6,
    "start_time": "2022-02-25T20:47:51.076Z"
   },
   {
    "duration": 853,
    "start_time": "2022-02-25T20:47:51.085Z"
   },
   {
    "duration": 2638,
    "start_time": "2022-02-25T20:47:51.941Z"
   },
   {
    "duration": 38,
    "start_time": "2022-02-25T20:47:54.582Z"
   },
   {
    "duration": 52,
    "start_time": "2022-02-25T20:47:54.622Z"
   },
   {
    "duration": 23,
    "start_time": "2022-02-25T20:47:54.677Z"
   },
   {
    "duration": 9,
    "start_time": "2022-02-25T20:47:54.703Z"
   },
   {
    "duration": 62,
    "start_time": "2022-02-25T20:47:54.715Z"
   },
   {
    "duration": 22,
    "start_time": "2022-02-25T20:47:54.780Z"
   },
   {
    "duration": 544,
    "start_time": "2022-02-25T20:47:54.805Z"
   },
   {
    "duration": 437,
    "start_time": "2022-02-25T20:47:55.352Z"
   },
   {
    "duration": 17,
    "start_time": "2022-02-25T20:47:55.792Z"
   },
   {
    "duration": 21,
    "start_time": "2022-02-25T20:47:55.812Z"
   },
   {
    "duration": 233,
    "start_time": "2022-02-25T20:47:55.835Z"
   },
   {
    "duration": 236,
    "start_time": "2022-02-25T20:47:56.071Z"
   },
   {
    "duration": 7,
    "start_time": "2022-02-25T20:47:56.310Z"
   },
   {
    "duration": 3130,
    "start_time": "2022-02-25T20:47:56.320Z"
   },
   {
    "duration": 3426,
    "start_time": "2022-02-25T20:47:59.453Z"
   },
   {
    "duration": 7,
    "start_time": "2022-02-25T20:48:02.882Z"
   },
   {
    "duration": 2764,
    "start_time": "2022-02-25T20:48:02.891Z"
   },
   {
    "duration": 2890,
    "start_time": "2022-02-25T20:48:05.661Z"
   },
   {
    "duration": 8,
    "start_time": "2022-02-25T20:48:08.560Z"
   },
   {
    "duration": 3080,
    "start_time": "2022-02-25T20:48:08.571Z"
   },
   {
    "duration": 3074,
    "start_time": "2022-02-25T20:48:11.654Z"
   },
   {
    "duration": 459,
    "start_time": "2022-02-25T20:48:14.731Z"
   },
   {
    "duration": -654,
    "start_time": "2022-02-25T20:48:15.847Z"
   },
   {
    "duration": 23,
    "start_time": "2022-02-25T20:49:02.395Z"
   },
   {
    "duration": 359,
    "start_time": "2022-02-25T20:49:27.447Z"
   },
   {
    "duration": 24,
    "start_time": "2022-02-25T20:49:49.926Z"
   },
   {
    "duration": 1582,
    "start_time": "2022-02-25T20:55:52.856Z"
   },
   {
    "duration": 81,
    "start_time": "2022-02-25T20:55:54.441Z"
   },
   {
    "duration": 7,
    "start_time": "2022-02-25T20:55:54.525Z"
   },
   {
    "duration": 27,
    "start_time": "2022-02-25T20:55:54.535Z"
   },
   {
    "duration": 31,
    "start_time": "2022-02-25T20:55:54.565Z"
   },
   {
    "duration": 76,
    "start_time": "2022-02-25T20:55:54.599Z"
   },
   {
    "duration": 5,
    "start_time": "2022-02-25T20:55:54.678Z"
   },
   {
    "duration": 19,
    "start_time": "2022-02-25T20:55:54.686Z"
   },
   {
    "duration": 84,
    "start_time": "2022-02-25T20:55:54.709Z"
   },
   {
    "duration": 33,
    "start_time": "2022-02-25T20:55:54.797Z"
   },
   {
    "duration": 77,
    "start_time": "2022-02-25T20:55:54.832Z"
   },
   {
    "duration": 5,
    "start_time": "2022-02-25T20:55:54.912Z"
   },
   {
    "duration": 41,
    "start_time": "2022-02-25T20:55:54.920Z"
   },
   {
    "duration": 7,
    "start_time": "2022-02-25T20:55:54.963Z"
   },
   {
    "duration": 11,
    "start_time": "2022-02-25T20:55:54.973Z"
   },
   {
    "duration": 8,
    "start_time": "2022-02-25T20:55:54.987Z"
   },
   {
    "duration": 65,
    "start_time": "2022-02-25T20:55:54.998Z"
   },
   {
    "duration": 11,
    "start_time": "2022-02-25T20:55:55.065Z"
   },
   {
    "duration": 22,
    "start_time": "2022-02-25T20:55:55.079Z"
   },
   {
    "duration": 21,
    "start_time": "2022-02-25T20:55:55.104Z"
   },
   {
    "duration": 40,
    "start_time": "2022-02-25T20:55:55.128Z"
   },
   {
    "duration": 24,
    "start_time": "2022-02-25T20:55:55.171Z"
   },
   {
    "duration": 523,
    "start_time": "2022-02-25T20:55:55.198Z"
   },
   {
    "duration": 5,
    "start_time": "2022-02-25T20:55:55.723Z"
   },
   {
    "duration": 7794,
    "start_time": "2022-02-25T20:55:55.731Z"
   },
   {
    "duration": 44,
    "start_time": "2022-02-25T20:56:03.527Z"
   },
   {
    "duration": 25,
    "start_time": "2022-02-25T20:56:03.578Z"
   },
   {
    "duration": 845,
    "start_time": "2022-02-25T20:56:03.607Z"
   },
   {
    "duration": 29,
    "start_time": "2022-02-25T20:56:04.454Z"
   },
   {
    "duration": 35,
    "start_time": "2022-02-25T20:56:04.486Z"
   },
   {
    "duration": 4,
    "start_time": "2022-02-25T20:56:04.523Z"
   },
   {
    "duration": 32,
    "start_time": "2022-02-25T20:56:04.562Z"
   },
   {
    "duration": 5,
    "start_time": "2022-02-25T20:56:04.596Z"
   },
   {
    "duration": 899,
    "start_time": "2022-02-25T20:56:04.604Z"
   },
   {
    "duration": 2550,
    "start_time": "2022-02-25T20:56:05.506Z"
   },
   {
    "duration": 37,
    "start_time": "2022-02-25T20:56:08.060Z"
   },
   {
    "duration": 30,
    "start_time": "2022-02-25T20:56:08.100Z"
   },
   {
    "duration": 53,
    "start_time": "2022-02-25T20:56:08.133Z"
   },
   {
    "duration": 8,
    "start_time": "2022-02-25T20:56:08.189Z"
   },
   {
    "duration": 28,
    "start_time": "2022-02-25T20:56:08.200Z"
   },
   {
    "duration": 29,
    "start_time": "2022-02-25T20:56:08.262Z"
   },
   {
    "duration": 616,
    "start_time": "2022-02-25T20:56:08.294Z"
   },
   {
    "duration": 606,
    "start_time": "2022-02-25T20:56:08.914Z"
   },
   {
    "duration": 18,
    "start_time": "2022-02-25T20:56:09.523Z"
   },
   {
    "duration": 18,
    "start_time": "2022-02-25T20:56:09.562Z"
   },
   {
    "duration": 231,
    "start_time": "2022-02-25T20:56:09.583Z"
   },
   {
    "duration": 245,
    "start_time": "2022-02-25T20:56:09.816Z"
   },
   {
    "duration": 7,
    "start_time": "2022-02-25T20:56:10.064Z"
   },
   {
    "duration": 3131,
    "start_time": "2022-02-25T20:56:10.074Z"
   },
   {
    "duration": 3313,
    "start_time": "2022-02-25T20:56:13.207Z"
   },
   {
    "duration": 7,
    "start_time": "2022-02-25T20:56:16.523Z"
   },
   {
    "duration": 3668,
    "start_time": "2022-02-25T20:56:16.533Z"
   },
   {
    "duration": 2938,
    "start_time": "2022-02-25T20:56:20.204Z"
   },
   {
    "duration": 18,
    "start_time": "2022-02-25T20:56:23.144Z"
   },
   {
    "duration": 3086,
    "start_time": "2022-02-25T20:56:23.166Z"
   },
   {
    "duration": 3189,
    "start_time": "2022-02-25T20:56:26.261Z"
   },
   {
    "duration": 29,
    "start_time": "2022-02-25T20:56:29.453Z"
   },
   {
    "duration": 566,
    "start_time": "2022-02-25T20:56:29.484Z"
   },
   {
    "duration": 457,
    "start_time": "2022-02-25T21:00:02.533Z"
   },
   {
    "duration": 28,
    "start_time": "2022-02-25T21:04:53.058Z"
   },
   {
    "duration": 451,
    "start_time": "2022-02-25T21:05:23.795Z"
   },
   {
    "duration": 418,
    "start_time": "2022-02-25T21:31:40.496Z"
   },
   {
    "duration": 403,
    "start_time": "2022-02-25T21:31:47.873Z"
   },
   {
    "duration": 436,
    "start_time": "2022-02-25T21:32:01.946Z"
   },
   {
    "duration": 27,
    "start_time": "2022-02-25T21:39:53.416Z"
   },
   {
    "duration": 660,
    "start_time": "2022-02-25T21:40:29.352Z"
   },
   {
    "duration": 25,
    "start_time": "2022-02-25T21:40:58.400Z"
   },
   {
    "duration": 26,
    "start_time": "2022-02-25T21:41:33.980Z"
   },
   {
    "duration": 24,
    "start_time": "2022-02-25T21:42:03.138Z"
   },
   {
    "duration": 24,
    "start_time": "2022-02-25T21:42:43.924Z"
   },
   {
    "duration": 24,
    "start_time": "2022-02-25T21:42:56.462Z"
   },
   {
    "duration": 100,
    "start_time": "2022-02-25T21:44:04.304Z"
   },
   {
    "duration": 294,
    "start_time": "2022-02-25T21:44:23.949Z"
   },
   {
    "duration": 20,
    "start_time": "2022-02-25T21:44:35.194Z"
   },
   {
    "duration": 23,
    "start_time": "2022-02-25T21:48:34.952Z"
   },
   {
    "duration": 25,
    "start_time": "2022-02-25T21:49:46.454Z"
   },
   {
    "duration": 27,
    "start_time": "2022-02-25T21:50:11.303Z"
   },
   {
    "duration": 27,
    "start_time": "2022-02-25T21:59:04.401Z"
   },
   {
    "duration": 7313,
    "start_time": "2022-02-25T21:59:30.053Z"
   },
   {
    "duration": 27,
    "start_time": "2022-02-25T21:59:45.818Z"
   },
   {
    "duration": 25,
    "start_time": "2022-02-25T22:00:16.329Z"
   },
   {
    "duration": 291,
    "start_time": "2022-02-25T22:06:35.329Z"
   },
   {
    "duration": 320,
    "start_time": "2022-02-25T22:07:10.630Z"
   },
   {
    "duration": 288,
    "start_time": "2022-02-25T22:07:20.359Z"
   },
   {
    "duration": 298,
    "start_time": "2022-02-25T22:10:30.486Z"
   },
   {
    "duration": 291,
    "start_time": "2022-02-25T22:10:41.264Z"
   },
   {
    "duration": 424,
    "start_time": "2022-02-25T22:12:59.814Z"
   },
   {
    "duration": 293,
    "start_time": "2022-02-25T22:14:57.913Z"
   },
   {
    "duration": 303,
    "start_time": "2022-02-25T22:15:09.460Z"
   },
   {
    "duration": 7922,
    "start_time": "2022-02-25T22:15:36.113Z"
   },
   {
    "duration": 302,
    "start_time": "2022-02-25T22:16:13.708Z"
   },
   {
    "duration": 317,
    "start_time": "2022-02-25T22:16:58.433Z"
   },
   {
    "duration": 303,
    "start_time": "2022-02-25T22:17:07.579Z"
   },
   {
    "duration": 625,
    "start_time": "2022-02-25T22:20:18.551Z"
   },
   {
    "duration": 569,
    "start_time": "2022-02-25T22:21:09.979Z"
   },
   {
    "duration": 342,
    "start_time": "2022-02-25T22:22:01.945Z"
   },
   {
    "duration": 297,
    "start_time": "2022-02-25T22:22:10.627Z"
   },
   {
    "duration": 512,
    "start_time": "2022-02-25T22:24:03.585Z"
   },
   {
    "duration": 4,
    "start_time": "2022-02-25T22:28:48.629Z"
   },
   {
    "duration": 1412,
    "start_time": "2022-02-27T20:18:36.042Z"
   },
   {
    "duration": 87,
    "start_time": "2022-02-27T20:18:37.456Z"
   },
   {
    "duration": 7,
    "start_time": "2022-02-27T20:18:37.546Z"
   },
   {
    "duration": 11,
    "start_time": "2022-02-27T20:18:37.555Z"
   },
   {
    "duration": 46,
    "start_time": "2022-02-27T20:18:37.568Z"
   },
   {
    "duration": 49,
    "start_time": "2022-02-27T20:18:37.616Z"
   },
   {
    "duration": 6,
    "start_time": "2022-02-27T20:18:37.687Z"
   },
   {
    "duration": 20,
    "start_time": "2022-02-27T20:18:37.696Z"
   },
   {
    "duration": 78,
    "start_time": "2022-02-27T20:18:37.720Z"
   },
   {
    "duration": 30,
    "start_time": "2022-02-27T20:18:37.801Z"
   },
   {
    "duration": 107,
    "start_time": "2022-02-27T20:18:37.834Z"
   },
   {
    "duration": 5,
    "start_time": "2022-02-27T20:18:37.943Z"
   },
   {
    "duration": 13,
    "start_time": "2022-02-27T20:18:37.950Z"
   },
   {
    "duration": 28,
    "start_time": "2022-02-27T20:18:37.965Z"
   },
   {
    "duration": 11,
    "start_time": "2022-02-27T20:18:37.996Z"
   },
   {
    "duration": 9,
    "start_time": "2022-02-27T20:18:38.010Z"
   },
   {
    "duration": 13,
    "start_time": "2022-02-27T20:18:38.022Z"
   },
   {
    "duration": 58,
    "start_time": "2022-02-27T20:18:38.038Z"
   },
   {
    "duration": 17,
    "start_time": "2022-02-27T20:18:38.099Z"
   },
   {
    "duration": 24,
    "start_time": "2022-02-27T20:18:38.118Z"
   },
   {
    "duration": 42,
    "start_time": "2022-02-27T20:18:38.145Z"
   },
   {
    "duration": 23,
    "start_time": "2022-02-27T20:18:38.189Z"
   },
   {
    "duration": 551,
    "start_time": "2022-02-27T20:18:38.218Z"
   },
   {
    "duration": 16,
    "start_time": "2022-02-27T20:18:38.773Z"
   },
   {
    "duration": 9271,
    "start_time": "2022-02-27T20:18:38.791Z"
   },
   {
    "duration": 32,
    "start_time": "2022-02-27T20:18:48.065Z"
   },
   {
    "duration": 23,
    "start_time": "2022-02-27T20:18:48.099Z"
   },
   {
    "duration": 820,
    "start_time": "2022-02-27T20:18:48.124Z"
   },
   {
    "duration": 23,
    "start_time": "2022-02-27T20:18:48.947Z"
   },
   {
    "duration": 44,
    "start_time": "2022-02-27T20:18:48.972Z"
   },
   {
    "duration": 3,
    "start_time": "2022-02-27T20:18:49.018Z"
   },
   {
    "duration": 27,
    "start_time": "2022-02-27T20:18:49.023Z"
   },
   {
    "duration": 37,
    "start_time": "2022-02-27T20:18:49.053Z"
   },
   {
    "duration": 917,
    "start_time": "2022-02-27T20:18:49.092Z"
   },
   {
    "duration": 2462,
    "start_time": "2022-02-27T20:18:50.011Z"
   },
   {
    "duration": 47,
    "start_time": "2022-02-27T20:18:52.475Z"
   },
   {
    "duration": 23,
    "start_time": "2022-02-27T20:18:52.524Z"
   },
   {
    "duration": 45,
    "start_time": "2022-02-27T20:18:52.549Z"
   },
   {
    "duration": 7,
    "start_time": "2022-02-27T20:18:52.596Z"
   },
   {
    "duration": 23,
    "start_time": "2022-02-27T20:18:52.605Z"
   },
   {
    "duration": 20,
    "start_time": "2022-02-27T20:18:52.631Z"
   },
   {
    "duration": 421,
    "start_time": "2022-02-27T20:18:52.687Z"
   },
   {
    "duration": 435,
    "start_time": "2022-02-27T20:18:53.111Z"
   },
   {
    "duration": 18,
    "start_time": "2022-02-27T20:18:53.548Z"
   },
   {
    "duration": 34,
    "start_time": "2022-02-27T20:18:53.568Z"
   },
   {
    "duration": 217,
    "start_time": "2022-02-27T20:18:53.604Z"
   },
   {
    "duration": 239,
    "start_time": "2022-02-27T20:18:53.824Z"
   },
   {
    "duration": 7,
    "start_time": "2022-02-27T20:18:54.065Z"
   },
   {
    "duration": 2890,
    "start_time": "2022-02-27T20:18:54.074Z"
   },
   {
    "duration": 3230,
    "start_time": "2022-02-27T20:18:56.967Z"
   },
   {
    "duration": 7,
    "start_time": "2022-02-27T20:19:00.200Z"
   },
   {
    "duration": 2586,
    "start_time": "2022-02-27T20:19:00.210Z"
   },
   {
    "duration": 3098,
    "start_time": "2022-02-27T20:19:02.798Z"
   },
   {
    "duration": 8,
    "start_time": "2022-02-27T20:19:05.898Z"
   },
   {
    "duration": 3091,
    "start_time": "2022-02-27T20:19:05.908Z"
   },
   {
    "duration": 2854,
    "start_time": "2022-02-27T20:19:09.001Z"
   },
   {
    "duration": 34,
    "start_time": "2022-02-27T20:19:11.857Z"
   },
   {
    "duration": 396,
    "start_time": "2022-02-27T20:19:11.894Z"
   },
   {
    "duration": 23,
    "start_time": "2022-02-27T20:19:12.292Z"
   },
   {
    "duration": 409,
    "start_time": "2022-02-27T20:19:12.317Z"
   },
   {
    "duration": 24,
    "start_time": "2022-02-27T20:19:12.728Z"
   },
   {
    "duration": 45,
    "start_time": "2022-02-27T20:19:12.754Z"
   },
   {
    "duration": 24,
    "start_time": "2022-02-27T20:19:12.801Z"
   },
   {
    "duration": 35,
    "start_time": "2022-02-27T20:19:12.827Z"
   },
   {
    "duration": 40,
    "start_time": "2022-02-27T20:19:12.865Z"
   },
   {
    "duration": 32,
    "start_time": "2022-02-27T20:19:12.907Z"
   },
   {
    "duration": 299,
    "start_time": "2022-02-27T20:19:12.941Z"
   },
   {
    "duration": 295,
    "start_time": "2022-02-27T20:19:13.247Z"
   },
   {
    "duration": 295,
    "start_time": "2022-02-27T20:19:13.544Z"
   },
   {
    "duration": 398,
    "start_time": "2022-02-27T20:19:13.842Z"
   },
   {
    "duration": 12,
    "start_time": "2022-02-27T20:50:09.841Z"
   },
   {
    "duration": 7,
    "start_time": "2022-02-27T20:50:29.288Z"
   },
   {
    "duration": 224,
    "start_time": "2022-02-27T20:50:51.418Z"
   },
   {
    "duration": 10,
    "start_time": "2022-02-27T20:50:59.970Z"
   },
   {
    "duration": 18,
    "start_time": "2022-02-27T20:51:23.320Z"
   },
   {
    "duration": 21,
    "start_time": "2022-02-27T20:51:56.319Z"
   },
   {
    "duration": 225,
    "start_time": "2022-02-27T20:51:58.790Z"
   },
   {
    "duration": 207,
    "start_time": "2022-02-27T20:52:13.874Z"
   },
   {
    "duration": 21,
    "start_time": "2022-02-27T20:52:26.048Z"
   },
   {
    "duration": 221,
    "start_time": "2022-02-27T20:52:34.547Z"
   },
   {
    "duration": 228,
    "start_time": "2022-02-27T20:52:59.164Z"
   },
   {
    "duration": 13,
    "start_time": "2022-02-27T20:53:06.152Z"
   },
   {
    "duration": 254,
    "start_time": "2022-02-27T20:55:01.198Z"
   },
   {
    "duration": 260,
    "start_time": "2022-02-27T20:56:14.411Z"
   },
   {
    "duration": 28,
    "start_time": "2022-02-27T20:56:24.953Z"
   },
   {
    "duration": 13,
    "start_time": "2022-02-27T20:56:26.969Z"
   },
   {
    "duration": 29,
    "start_time": "2022-02-27T20:56:39.425Z"
   },
   {
    "duration": 9,
    "start_time": "2022-02-27T20:56:40.248Z"
   },
   {
    "duration": 285,
    "start_time": "2022-02-27T21:00:52.183Z"
   },
   {
    "duration": 32,
    "start_time": "2022-02-27T21:01:03.788Z"
   },
   {
    "duration": 8,
    "start_time": "2022-02-27T21:01:04.803Z"
   },
   {
    "duration": 6,
    "start_time": "2022-02-27T21:27:28.141Z"
   },
   {
    "duration": 483,
    "start_time": "2022-02-27T22:18:22.106Z"
   },
   {
    "duration": 6,
    "start_time": "2022-02-27T22:43:45.525Z"
   },
   {
    "duration": 25,
    "start_time": "2022-02-27T22:46:14.505Z"
   },
   {
    "duration": 800,
    "start_time": "2022-02-27T22:47:22.655Z"
   },
   {
    "duration": 24,
    "start_time": "2022-02-27T22:54:24.906Z"
   },
   {
    "duration": 30,
    "start_time": "2022-02-27T22:58:54.293Z"
   },
   {
    "duration": 25,
    "start_time": "2022-02-27T22:59:01.807Z"
   },
   {
    "duration": 23,
    "start_time": "2022-02-27T22:59:50.683Z"
   },
   {
    "duration": 21,
    "start_time": "2022-02-27T23:00:46.366Z"
   },
   {
    "duration": 21,
    "start_time": "2022-02-27T23:01:35.206Z"
   },
   {
    "duration": 21,
    "start_time": "2022-02-27T23:02:36.071Z"
   },
   {
    "duration": 21,
    "start_time": "2022-02-27T23:02:52.726Z"
   },
   {
    "duration": 540,
    "start_time": "2022-02-27T23:04:30.680Z"
   },
   {
    "duration": 433,
    "start_time": "2022-02-27T23:05:27.223Z"
   },
   {
    "duration": 3010,
    "start_time": "2022-02-27T23:10:55.656Z"
   },
   {
    "duration": 2845,
    "start_time": "2022-02-27T23:14:36.308Z"
   },
   {
    "duration": 3359,
    "start_time": "2022-02-27T23:15:26.136Z"
   },
   {
    "duration": 3150,
    "start_time": "2022-02-27T23:16:03.768Z"
   },
   {
    "duration": 2921,
    "start_time": "2022-02-27T23:16:13.655Z"
   },
   {
    "duration": 235,
    "start_time": "2022-02-27T23:19:25.604Z"
   },
   {
    "duration": 229,
    "start_time": "2022-02-27T23:19:29.578Z"
   },
   {
    "duration": 225,
    "start_time": "2022-02-27T23:19:37.340Z"
   },
   {
    "duration": 8,
    "start_time": "2022-02-27T23:19:50.574Z"
   },
   {
    "duration": 2632,
    "start_time": "2022-02-27T23:19:54.470Z"
   },
   {
    "duration": 2930,
    "start_time": "2022-02-27T23:20:01.442Z"
   },
   {
    "duration": 2964,
    "start_time": "2022-02-27T23:20:28.095Z"
   },
   {
    "duration": 2891,
    "start_time": "2022-02-27T23:20:43.461Z"
   },
   {
    "duration": 281,
    "start_time": "2022-02-28T06:18:35.630Z"
   },
   {
    "duration": 226,
    "start_time": "2022-02-28T06:18:48.676Z"
   },
   {
    "duration": 211,
    "start_time": "2022-02-28T06:18:52.746Z"
   },
   {
    "duration": 1574,
    "start_time": "2022-02-28T06:18:59.282Z"
   },
   {
    "duration": 75,
    "start_time": "2022-02-28T06:19:00.858Z"
   },
   {
    "duration": 7,
    "start_time": "2022-02-28T06:19:00.936Z"
   },
   {
    "duration": 18,
    "start_time": "2022-02-28T06:19:00.945Z"
   },
   {
    "duration": 43,
    "start_time": "2022-02-28T06:19:00.966Z"
   },
   {
    "duration": 47,
    "start_time": "2022-02-28T06:19:01.011Z"
   },
   {
    "duration": 5,
    "start_time": "2022-02-28T06:19:01.060Z"
   },
   {
    "duration": 18,
    "start_time": "2022-02-28T06:19:01.087Z"
   },
   {
    "duration": 67,
    "start_time": "2022-02-28T06:19:01.108Z"
   },
   {
    "duration": 30,
    "start_time": "2022-02-28T06:19:01.186Z"
   },
   {
    "duration": 74,
    "start_time": "2022-02-28T06:19:01.218Z"
   },
   {
    "duration": 5,
    "start_time": "2022-02-28T06:19:01.294Z"
   },
   {
    "duration": 24,
    "start_time": "2022-02-28T06:19:01.302Z"
   },
   {
    "duration": 10,
    "start_time": "2022-02-28T06:19:01.328Z"
   },
   {
    "duration": 37,
    "start_time": "2022-02-28T06:19:01.341Z"
   },
   {
    "duration": 27,
    "start_time": "2022-02-28T06:19:01.380Z"
   },
   {
    "duration": 19,
    "start_time": "2022-02-28T06:19:01.410Z"
   },
   {
    "duration": 24,
    "start_time": "2022-02-28T06:19:01.431Z"
   },
   {
    "duration": 29,
    "start_time": "2022-02-28T06:19:01.457Z"
   },
   {
    "duration": 27,
    "start_time": "2022-02-28T06:19:01.488Z"
   },
   {
    "duration": 18,
    "start_time": "2022-02-28T06:19:01.517Z"
   },
   {
    "duration": 24,
    "start_time": "2022-02-28T06:19:01.538Z"
   },
   {
    "duration": 493,
    "start_time": "2022-02-28T06:19:01.564Z"
   },
   {
    "duration": 6,
    "start_time": "2022-02-28T06:19:02.059Z"
   },
   {
    "duration": 7040,
    "start_time": "2022-02-28T06:19:02.067Z"
   },
   {
    "duration": 25,
    "start_time": "2022-02-28T06:19:09.109Z"
   },
   {
    "duration": 46,
    "start_time": "2022-02-28T06:19:09.140Z"
   },
   {
    "duration": 799,
    "start_time": "2022-02-28T06:19:09.190Z"
   },
   {
    "duration": 22,
    "start_time": "2022-02-28T06:19:09.991Z"
   },
   {
    "duration": 29,
    "start_time": "2022-02-28T06:19:10.016Z"
   },
   {
    "duration": 54,
    "start_time": "2022-02-28T06:19:10.047Z"
   },
   {
    "duration": 9076,
    "start_time": "2022-02-28T06:19:10.103Z"
   },
   {
    "duration": -865,
    "start_time": "2022-02-28T06:19:20.048Z"
   },
   {
    "duration": -868,
    "start_time": "2022-02-28T06:19:20.053Z"
   },
   {
    "duration": -868,
    "start_time": "2022-02-28T06:19:20.056Z"
   },
   {
    "duration": -869,
    "start_time": "2022-02-28T06:19:20.059Z"
   },
   {
    "duration": -870,
    "start_time": "2022-02-28T06:19:20.062Z"
   },
   {
    "duration": -870,
    "start_time": "2022-02-28T06:19:20.065Z"
   },
   {
    "duration": -871,
    "start_time": "2022-02-28T06:19:20.068Z"
   },
   {
    "duration": -872,
    "start_time": "2022-02-28T06:19:20.071Z"
   },
   {
    "duration": -873,
    "start_time": "2022-02-28T06:19:20.074Z"
   },
   {
    "duration": -883,
    "start_time": "2022-02-28T06:19:20.086Z"
   },
   {
    "duration": -889,
    "start_time": "2022-02-28T06:19:20.094Z"
   },
   {
    "duration": -914,
    "start_time": "2022-02-28T06:19:20.121Z"
   },
   {
    "duration": -924,
    "start_time": "2022-02-28T06:19:20.133Z"
   },
   {
    "duration": -928,
    "start_time": "2022-02-28T06:19:20.139Z"
   },
   {
    "duration": -935,
    "start_time": "2022-02-28T06:19:20.148Z"
   },
   {
    "duration": -939,
    "start_time": "2022-02-28T06:19:20.154Z"
   },
   {
    "duration": -1097,
    "start_time": "2022-02-28T06:19:20.314Z"
   },
   {
    "duration": -1098,
    "start_time": "2022-02-28T06:19:20.317Z"
   },
   {
    "duration": -1099,
    "start_time": "2022-02-28T06:19:20.320Z"
   },
   {
    "duration": -1100,
    "start_time": "2022-02-28T06:19:20.323Z"
   },
   {
    "duration": -1101,
    "start_time": "2022-02-28T06:19:20.326Z"
   },
   {
    "duration": -1156,
    "start_time": "2022-02-28T06:19:20.383Z"
   },
   {
    "duration": -1158,
    "start_time": "2022-02-28T06:19:20.386Z"
   },
   {
    "duration": -1160,
    "start_time": "2022-02-28T06:19:20.389Z"
   },
   {
    "duration": -1104,
    "start_time": "2022-02-28T06:19:20.391Z"
   },
   {
    "duration": -1104,
    "start_time": "2022-02-28T06:19:20.394Z"
   },
   {
    "duration": -1104,
    "start_time": "2022-02-28T06:19:20.396Z"
   },
   {
    "duration": -1106,
    "start_time": "2022-02-28T06:19:20.400Z"
   },
   {
    "duration": -1106,
    "start_time": "2022-02-28T06:19:20.403Z"
   },
   {
    "duration": -1106,
    "start_time": "2022-02-28T06:19:20.406Z"
   },
   {
    "duration": -1115,
    "start_time": "2022-02-28T06:19:20.418Z"
   },
   {
    "duration": -1117,
    "start_time": "2022-02-28T06:19:20.422Z"
   },
   {
    "duration": -1117,
    "start_time": "2022-02-28T06:19:20.424Z"
   },
   {
    "duration": -1119,
    "start_time": "2022-02-28T06:19:20.428Z"
   },
   {
    "duration": -1118,
    "start_time": "2022-02-28T06:19:20.430Z"
   },
   {
    "duration": -1121,
    "start_time": "2022-02-28T06:19:20.435Z"
   },
   {
    "duration": -1121,
    "start_time": "2022-02-28T06:19:20.437Z"
   },
   {
    "duration": -1122,
    "start_time": "2022-02-28T06:19:20.440Z"
   },
   {
    "duration": -1122,
    "start_time": "2022-02-28T06:19:20.442Z"
   },
   {
    "duration": -1123,
    "start_time": "2022-02-28T06:19:20.445Z"
   },
   {
    "duration": -1127,
    "start_time": "2022-02-28T06:19:20.452Z"
   },
   {
    "duration": 4,
    "start_time": "2022-02-28T06:20:35.167Z"
   },
   {
    "duration": 78,
    "start_time": "2022-02-28T06:20:35.173Z"
   },
   {
    "duration": 36,
    "start_time": "2022-02-28T06:20:35.253Z"
   },
   {
    "duration": 11,
    "start_time": "2022-02-28T06:20:35.292Z"
   },
   {
    "duration": 37,
    "start_time": "2022-02-28T06:20:35.305Z"
   },
   {
    "duration": 69,
    "start_time": "2022-02-28T06:20:35.344Z"
   },
   {
    "duration": 5,
    "start_time": "2022-02-28T06:20:35.416Z"
   },
   {
    "duration": 25,
    "start_time": "2022-02-28T06:20:35.424Z"
   },
   {
    "duration": 76,
    "start_time": "2022-02-28T06:20:35.451Z"
   },
   {
    "duration": 32,
    "start_time": "2022-02-28T06:20:35.530Z"
   },
   {
    "duration": 75,
    "start_time": "2022-02-28T06:20:35.564Z"
   },
   {
    "duration": 7,
    "start_time": "2022-02-28T06:20:35.642Z"
   },
   {
    "duration": 35,
    "start_time": "2022-02-28T06:20:35.652Z"
   },
   {
    "duration": 11,
    "start_time": "2022-02-28T06:20:35.691Z"
   },
   {
    "duration": 15,
    "start_time": "2022-02-28T06:20:35.705Z"
   },
   {
    "duration": 16,
    "start_time": "2022-02-28T06:20:35.723Z"
   },
   {
    "duration": 47,
    "start_time": "2022-02-28T06:20:35.741Z"
   },
   {
    "duration": 14,
    "start_time": "2022-02-28T06:20:35.790Z"
   },
   {
    "duration": 14,
    "start_time": "2022-02-28T06:20:35.809Z"
   },
   {
    "duration": 20,
    "start_time": "2022-02-28T06:20:35.826Z"
   },
   {
    "duration": 7,
    "start_time": "2022-02-28T06:20:35.849Z"
   },
   {
    "duration": 49,
    "start_time": "2022-02-28T06:20:35.858Z"
   },
   {
    "duration": 502,
    "start_time": "2022-02-28T06:20:35.910Z"
   },
   {
    "duration": 5,
    "start_time": "2022-02-28T06:20:36.414Z"
   },
   {
    "duration": 7352,
    "start_time": "2022-02-28T06:20:36.421Z"
   },
   {
    "duration": 32,
    "start_time": "2022-02-28T06:20:43.775Z"
   },
   {
    "duration": 22,
    "start_time": "2022-02-28T06:20:43.810Z"
   },
   {
    "duration": 989,
    "start_time": "2022-02-28T06:20:43.834Z"
   },
   {
    "duration": 26,
    "start_time": "2022-02-28T06:20:44.826Z"
   },
   {
    "duration": 60,
    "start_time": "2022-02-28T06:20:44.855Z"
   },
   {
    "duration": 24,
    "start_time": "2022-02-28T06:20:44.918Z"
   },
   {
    "duration": 5,
    "start_time": "2022-02-28T06:20:44.945Z"
   },
   {
    "duration": 819,
    "start_time": "2022-02-28T06:20:44.953Z"
   },
   {
    "duration": 2125,
    "start_time": "2022-02-28T06:20:45.775Z"
   },
   {
    "duration": 36,
    "start_time": "2022-02-28T06:20:47.903Z"
   },
   {
    "duration": 56,
    "start_time": "2022-02-28T06:20:47.941Z"
   },
   {
    "duration": 246,
    "start_time": "2022-02-28T06:20:48.000Z"
   },
   {
    "duration": -636,
    "start_time": "2022-02-28T06:20:48.885Z"
   },
   {
    "duration": -661,
    "start_time": "2022-02-28T06:20:48.912Z"
   },
   {
    "duration": -662,
    "start_time": "2022-02-28T06:20:48.915Z"
   },
   {
    "duration": -674,
    "start_time": "2022-02-28T06:20:48.928Z"
   },
   {
    "duration": -675,
    "start_time": "2022-02-28T06:20:48.931Z"
   },
   {
    "duration": -676,
    "start_time": "2022-02-28T06:20:48.933Z"
   },
   {
    "duration": -677,
    "start_time": "2022-02-28T06:20:48.936Z"
   },
   {
    "duration": -677,
    "start_time": "2022-02-28T06:20:48.938Z"
   },
   {
    "duration": -680,
    "start_time": "2022-02-28T06:20:48.942Z"
   },
   {
    "duration": -715,
    "start_time": "2022-02-28T06:20:48.979Z"
   },
   {
    "duration": -717,
    "start_time": "2022-02-28T06:20:48.982Z"
   },
   {
    "duration": -799,
    "start_time": "2022-02-28T06:20:49.066Z"
   },
   {
    "duration": -849,
    "start_time": "2022-02-28T06:20:49.117Z"
   },
   {
    "duration": -849,
    "start_time": "2022-02-28T06:20:49.119Z"
   },
   {
    "duration": -851,
    "start_time": "2022-02-28T06:20:49.122Z"
   },
   {
    "duration": -852,
    "start_time": "2022-02-28T06:20:49.125Z"
   },
   {
    "duration": -879,
    "start_time": "2022-02-28T06:20:49.153Z"
   },
   {
    "duration": -880,
    "start_time": "2022-02-28T06:20:49.156Z"
   },
   {
    "duration": -881,
    "start_time": "2022-02-28T06:20:49.159Z"
   },
   {
    "duration": -883,
    "start_time": "2022-02-28T06:20:49.162Z"
   },
   {
    "duration": -884,
    "start_time": "2022-02-28T06:20:49.165Z"
   },
   {
    "duration": -886,
    "start_time": "2022-02-28T06:20:49.168Z"
   },
   {
    "duration": -887,
    "start_time": "2022-02-28T06:20:49.171Z"
   },
   {
    "duration": -889,
    "start_time": "2022-02-28T06:20:49.174Z"
   },
   {
    "duration": -890,
    "start_time": "2022-02-28T06:20:49.177Z"
   },
   {
    "duration": -891,
    "start_time": "2022-02-28T06:20:49.179Z"
   },
   {
    "duration": -893,
    "start_time": "2022-02-28T06:20:49.182Z"
   },
   {
    "duration": -894,
    "start_time": "2022-02-28T06:20:49.185Z"
   },
   {
    "duration": -919,
    "start_time": "2022-02-28T06:20:49.211Z"
   },
   {
    "duration": -921,
    "start_time": "2022-02-28T06:20:49.215Z"
   },
   {
    "duration": -923,
    "start_time": "2022-02-28T06:20:49.218Z"
   },
   {
    "duration": -925,
    "start_time": "2022-02-28T06:20:49.221Z"
   },
   {
    "duration": -928,
    "start_time": "2022-02-28T06:20:49.225Z"
   },
   {
    "duration": -929,
    "start_time": "2022-02-28T06:20:49.227Z"
   },
   {
    "duration": -930,
    "start_time": "2022-02-28T06:20:49.230Z"
   },
   {
    "duration": 22,
    "start_time": "2022-02-28T06:22:19.153Z"
   },
   {
    "duration": 21,
    "start_time": "2022-02-28T06:22:21.474Z"
   },
   {
    "duration": 21,
    "start_time": "2022-02-28T06:22:35.436Z"
   },
   {
    "duration": 7,
    "start_time": "2022-02-28T06:22:37.035Z"
   },
   {
    "duration": 21,
    "start_time": "2022-02-28T06:22:38.983Z"
   },
   {
    "duration": 21,
    "start_time": "2022-02-28T06:22:39.836Z"
   },
   {
    "duration": 407,
    "start_time": "2022-02-28T06:22:44.042Z"
   },
   {
    "duration": 4,
    "start_time": "2022-02-28T06:22:50.644Z"
   },
   {
    "duration": 71,
    "start_time": "2022-02-28T06:22:50.650Z"
   },
   {
    "duration": 6,
    "start_time": "2022-02-28T06:22:50.724Z"
   },
   {
    "duration": 18,
    "start_time": "2022-02-28T06:22:50.733Z"
   },
   {
    "duration": 58,
    "start_time": "2022-02-28T06:22:50.753Z"
   },
   {
    "duration": 77,
    "start_time": "2022-02-28T06:22:50.813Z"
   },
   {
    "duration": 6,
    "start_time": "2022-02-28T06:22:50.892Z"
   },
   {
    "duration": 22,
    "start_time": "2022-02-28T06:22:50.901Z"
   },
   {
    "duration": 75,
    "start_time": "2022-02-28T06:22:50.926Z"
   },
   {
    "duration": 32,
    "start_time": "2022-02-28T06:22:51.004Z"
   },
   {
    "duration": 83,
    "start_time": "2022-02-28T06:22:51.039Z"
   },
   {
    "duration": 6,
    "start_time": "2022-02-28T06:22:51.125Z"
   },
   {
    "duration": 12,
    "start_time": "2022-02-28T06:22:51.134Z"
   },
   {
    "duration": 42,
    "start_time": "2022-02-28T06:22:51.149Z"
   },
   {
    "duration": 21,
    "start_time": "2022-02-28T06:22:51.194Z"
   },
   {
    "duration": 10,
    "start_time": "2022-02-28T06:22:51.219Z"
   },
   {
    "duration": 14,
    "start_time": "2022-02-28T06:22:51.232Z"
   },
   {
    "duration": 10,
    "start_time": "2022-02-28T06:22:51.248Z"
   },
   {
    "duration": 13,
    "start_time": "2022-02-28T06:22:51.287Z"
   },
   {
    "duration": 21,
    "start_time": "2022-02-28T06:22:51.302Z"
   },
   {
    "duration": 10,
    "start_time": "2022-02-28T06:22:51.325Z"
   },
   {
    "duration": 52,
    "start_time": "2022-02-28T06:22:51.337Z"
   },
   {
    "duration": 485,
    "start_time": "2022-02-28T06:22:51.395Z"
   },
   {
    "duration": 6,
    "start_time": "2022-02-28T06:22:51.887Z"
   },
   {
    "duration": 7199,
    "start_time": "2022-02-28T06:22:51.897Z"
   },
   {
    "duration": 27,
    "start_time": "2022-02-28T06:22:59.100Z"
   },
   {
    "duration": 58,
    "start_time": "2022-02-28T06:22:59.130Z"
   },
   {
    "duration": 986,
    "start_time": "2022-02-28T06:22:59.192Z"
   },
   {
    "duration": 23,
    "start_time": "2022-02-28T06:23:00.187Z"
   },
   {
    "duration": 36,
    "start_time": "2022-02-28T06:23:00.213Z"
   },
   {
    "duration": 51,
    "start_time": "2022-02-28T06:23:00.252Z"
   },
   {
    "duration": 15,
    "start_time": "2022-02-28T06:23:00.305Z"
   },
   {
    "duration": 800,
    "start_time": "2022-02-28T06:23:00.322Z"
   },
   {
    "duration": 2114,
    "start_time": "2022-02-28T06:23:01.124Z"
   },
   {
    "duration": 33,
    "start_time": "2022-02-28T06:23:03.240Z"
   },
   {
    "duration": 21,
    "start_time": "2022-02-28T06:23:03.287Z"
   },
   {
    "duration": 25,
    "start_time": "2022-02-28T06:23:03.310Z"
   },
   {
    "duration": 6,
    "start_time": "2022-02-28T06:23:03.337Z"
   },
   {
    "duration": 56,
    "start_time": "2022-02-28T06:23:03.345Z"
   },
   {
    "duration": 23,
    "start_time": "2022-02-28T06:23:03.403Z"
   },
   {
    "duration": 451,
    "start_time": "2022-02-28T06:23:03.429Z"
   },
   {
    "duration": 543,
    "start_time": "2022-02-28T06:23:03.883Z"
   },
   {
    "duration": 19,
    "start_time": "2022-02-28T06:23:04.429Z"
   },
   {
    "duration": 45,
    "start_time": "2022-02-28T06:23:04.451Z"
   },
   {
    "duration": 214,
    "start_time": "2022-02-28T06:23:04.500Z"
   },
   {
    "duration": 228,
    "start_time": "2022-02-28T06:23:04.717Z"
   },
   {
    "duration": 9,
    "start_time": "2022-02-28T06:23:04.948Z"
   },
   {
    "duration": 3130,
    "start_time": "2022-02-28T06:23:04.960Z"
   },
   {
    "duration": 3157,
    "start_time": "2022-02-28T06:23:08.093Z"
   },
   {
    "duration": 7,
    "start_time": "2022-02-28T06:23:11.253Z"
   },
   {
    "duration": 2598,
    "start_time": "2022-02-28T06:23:11.262Z"
   },
   {
    "duration": 2744,
    "start_time": "2022-02-28T06:23:13.863Z"
   },
   {
    "duration": 7,
    "start_time": "2022-02-28T06:23:16.610Z"
   },
   {
    "duration": 3112,
    "start_time": "2022-02-28T06:23:16.619Z"
   },
   {
    "duration": 2900,
    "start_time": "2022-02-28T06:23:19.733Z"
   },
   {
    "duration": 24,
    "start_time": "2022-02-28T06:23:22.635Z"
   },
   {
    "duration": 520,
    "start_time": "2022-02-28T06:23:22.661Z"
   },
   {
    "duration": 25,
    "start_time": "2022-02-28T06:23:23.188Z"
   },
   {
    "duration": 413,
    "start_time": "2022-02-28T06:23:23.216Z"
   },
   {
    "duration": 26,
    "start_time": "2022-02-28T06:23:23.632Z"
   },
   {
    "duration": 41,
    "start_time": "2022-02-28T06:23:23.660Z"
   },
   {
    "duration": 31,
    "start_time": "2022-02-28T06:23:23.703Z"
   },
   {
    "duration": 23,
    "start_time": "2022-02-28T06:23:23.736Z"
   },
   {
    "duration": 24,
    "start_time": "2022-02-28T06:23:23.787Z"
   },
   {
    "duration": 22,
    "start_time": "2022-02-28T06:23:23.813Z"
   },
   {
    "duration": 297,
    "start_time": "2022-02-28T06:23:23.838Z"
   },
   {
    "duration": 298,
    "start_time": "2022-02-28T06:23:24.137Z"
   },
   {
    "duration": 288,
    "start_time": "2022-02-28T06:23:24.442Z"
   },
   {
    "duration": 28,
    "start_time": "2022-02-28T06:23:24.733Z"
   },
   {
    "duration": 24,
    "start_time": "2022-02-28T06:23:24.763Z"
   },
   {
    "duration": 29,
    "start_time": "2022-02-28T06:23:24.790Z"
   },
   {
    "duration": 8,
    "start_time": "2022-02-28T06:23:24.821Z"
   },
   {
    "duration": 389,
    "start_time": "2022-02-28T06:26:56.158Z"
   },
   {
    "duration": 427,
    "start_time": "2022-02-28T06:36:27.473Z"
   },
   {
    "duration": 26,
    "start_time": "2022-02-28T06:40:08.389Z"
   },
   {
    "duration": 26,
    "start_time": "2022-02-28T06:40:37.788Z"
   },
   {
    "duration": 25,
    "start_time": "2022-02-28T06:42:19.568Z"
   },
   {
    "duration": 23,
    "start_time": "2022-02-28T06:45:07.842Z"
   },
   {
    "duration": 23,
    "start_time": "2022-02-28T06:45:19.400Z"
   },
   {
    "duration": 23,
    "start_time": "2022-02-28T06:45:38.405Z"
   },
   {
    "duration": 17,
    "start_time": "2022-02-28T06:50:54.168Z"
   },
   {
    "duration": 410,
    "start_time": "2022-02-28T06:50:59.845Z"
   },
   {
    "duration": 597,
    "start_time": "2022-02-28T06:52:55.261Z"
   },
   {
    "duration": 22,
    "start_time": "2022-02-28T06:54:12.827Z"
   },
   {
    "duration": 22,
    "start_time": "2022-02-28T06:54:25.316Z"
   },
   {
    "duration": 23,
    "start_time": "2022-02-28T06:54:56.486Z"
   },
   {
    "duration": 33,
    "start_time": "2022-02-28T06:55:26.845Z"
   },
   {
    "duration": 2258,
    "start_time": "2022-02-28T06:55:45.384Z"
   },
   {
    "duration": 2269,
    "start_time": "2022-02-28T06:55:53.488Z"
   },
   {
    "duration": 902,
    "start_time": "2022-02-28T06:56:17.804Z"
   },
   {
    "duration": 24,
    "start_time": "2022-02-28T06:57:31.857Z"
   },
   {
    "duration": 783,
    "start_time": "2022-02-28T06:58:00.321Z"
   },
   {
    "duration": 779,
    "start_time": "2022-02-28T06:58:21.555Z"
   },
   {
    "duration": 1204,
    "start_time": "2022-02-28T09:31:42.038Z"
   },
   {
    "duration": 58,
    "start_time": "2022-02-28T09:31:43.244Z"
   },
   {
    "duration": 6,
    "start_time": "2022-02-28T09:31:43.305Z"
   },
   {
    "duration": 7,
    "start_time": "2022-02-28T09:31:43.313Z"
   },
   {
    "duration": 20,
    "start_time": "2022-02-28T09:31:43.322Z"
   },
   {
    "duration": 34,
    "start_time": "2022-02-28T09:31:43.364Z"
   },
   {
    "duration": 3,
    "start_time": "2022-02-28T09:31:43.400Z"
   },
   {
    "duration": 16,
    "start_time": "2022-02-28T09:31:43.405Z"
   },
   {
    "duration": 60,
    "start_time": "2022-02-28T09:31:43.424Z"
   },
   {
    "duration": 20,
    "start_time": "2022-02-28T09:31:43.486Z"
   },
   {
    "duration": 56,
    "start_time": "2022-02-28T09:31:43.508Z"
   },
   {
    "duration": 4,
    "start_time": "2022-02-28T09:31:43.566Z"
   },
   {
    "duration": 14,
    "start_time": "2022-02-28T09:31:43.572Z"
   },
   {
    "duration": 20,
    "start_time": "2022-02-28T09:31:43.588Z"
   },
   {
    "duration": 11,
    "start_time": "2022-02-28T09:31:43.609Z"
   },
   {
    "duration": 6,
    "start_time": "2022-02-28T09:31:43.622Z"
   },
   {
    "duration": 10,
    "start_time": "2022-02-28T09:31:43.630Z"
   },
   {
    "duration": 21,
    "start_time": "2022-02-28T09:31:43.642Z"
   },
   {
    "duration": 15,
    "start_time": "2022-02-28T09:31:43.665Z"
   },
   {
    "duration": 14,
    "start_time": "2022-02-28T09:31:43.682Z"
   },
   {
    "duration": 6,
    "start_time": "2022-02-28T09:31:43.698Z"
   },
   {
    "duration": 16,
    "start_time": "2022-02-28T09:31:43.706Z"
   },
   {
    "duration": 339,
    "start_time": "2022-02-28T09:31:43.724Z"
   },
   {
    "duration": 4,
    "start_time": "2022-02-28T09:31:44.065Z"
   },
   {
    "duration": 4460,
    "start_time": "2022-02-28T09:31:44.071Z"
   },
   {
    "duration": 30,
    "start_time": "2022-02-28T09:31:48.533Z"
   },
   {
    "duration": 18,
    "start_time": "2022-02-28T09:31:48.567Z"
   },
   {
    "duration": 16,
    "start_time": "2022-02-28T09:31:48.587Z"
   },
   {
    "duration": 294,
    "start_time": "2022-02-28T09:31:48.605Z"
   },
   {
    "duration": -175,
    "start_time": "2022-02-28T09:31:49.076Z"
   },
   {
    "duration": -176,
    "start_time": "2022-02-28T09:31:49.079Z"
   },
   {
    "duration": -200,
    "start_time": "2022-02-28T09:31:49.104Z"
   },
   {
    "duration": -201,
    "start_time": "2022-02-28T09:31:49.107Z"
   },
   {
    "duration": -204,
    "start_time": "2022-02-28T09:31:49.111Z"
   },
   {
    "duration": -205,
    "start_time": "2022-02-28T09:31:49.114Z"
   },
   {
    "duration": -206,
    "start_time": "2022-02-28T09:31:49.116Z"
   },
   {
    "duration": -206,
    "start_time": "2022-02-28T09:31:49.118Z"
   },
   {
    "duration": -208,
    "start_time": "2022-02-28T09:31:49.121Z"
   },
   {
    "duration": -208,
    "start_time": "2022-02-28T09:31:49.123Z"
   },
   {
    "duration": -210,
    "start_time": "2022-02-28T09:31:49.126Z"
   },
   {
    "duration": -232,
    "start_time": "2022-02-28T09:31:49.150Z"
   },
   {
    "duration": -234,
    "start_time": "2022-02-28T09:31:49.153Z"
   },
   {
    "duration": -235,
    "start_time": "2022-02-28T09:31:49.155Z"
   },
   {
    "duration": -236,
    "start_time": "2022-02-28T09:31:49.158Z"
   },
   {
    "duration": -238,
    "start_time": "2022-02-28T09:31:49.161Z"
   },
   {
    "duration": -238,
    "start_time": "2022-02-28T09:31:49.163Z"
   },
   {
    "duration": -240,
    "start_time": "2022-02-28T09:31:49.166Z"
   },
   {
    "duration": -240,
    "start_time": "2022-02-28T09:31:49.168Z"
   },
   {
    "duration": -242,
    "start_time": "2022-02-28T09:31:49.171Z"
   },
   {
    "duration": -243,
    "start_time": "2022-02-28T09:31:49.173Z"
   },
   {
    "duration": -256,
    "start_time": "2022-02-28T09:31:49.187Z"
   },
   {
    "duration": -282,
    "start_time": "2022-02-28T09:31:49.214Z"
   },
   {
    "duration": -305,
    "start_time": "2022-02-28T09:31:49.238Z"
   },
   {
    "duration": -347,
    "start_time": "2022-02-28T09:31:49.281Z"
   },
   {
    "duration": -348,
    "start_time": "2022-02-28T09:31:49.283Z"
   },
   {
    "duration": -349,
    "start_time": "2022-02-28T09:31:49.285Z"
   },
   {
    "duration": -351,
    "start_time": "2022-02-28T09:31:49.288Z"
   },
   {
    "duration": -390,
    "start_time": "2022-02-28T09:31:49.328Z"
   },
   {
    "duration": -391,
    "start_time": "2022-02-28T09:31:49.331Z"
   },
   {
    "duration": -394,
    "start_time": "2022-02-28T09:31:49.334Z"
   },
   {
    "duration": -374,
    "start_time": "2022-02-28T09:31:49.336Z"
   },
   {
    "duration": -375,
    "start_time": "2022-02-28T09:31:49.339Z"
   },
   {
    "duration": -377,
    "start_time": "2022-02-28T09:31:49.342Z"
   },
   {
    "duration": 4,
    "start_time": "2022-02-28T09:32:33.785Z"
   },
   {
    "duration": 62,
    "start_time": "2022-02-28T09:32:33.791Z"
   },
   {
    "duration": 4,
    "start_time": "2022-02-28T09:32:33.855Z"
   },
   {
    "duration": 7,
    "start_time": "2022-02-28T09:32:33.861Z"
   },
   {
    "duration": 20,
    "start_time": "2022-02-28T09:32:33.870Z"
   },
   {
    "duration": 35,
    "start_time": "2022-02-28T09:32:33.892Z"
   },
   {
    "duration": 33,
    "start_time": "2022-02-28T09:32:33.930Z"
   },
   {
    "duration": 16,
    "start_time": "2022-02-28T09:32:33.966Z"
   },
   {
    "duration": 42,
    "start_time": "2022-02-28T09:32:33.984Z"
   },
   {
    "duration": 37,
    "start_time": "2022-02-28T09:32:34.027Z"
   },
   {
    "duration": 39,
    "start_time": "2022-02-28T09:32:34.066Z"
   },
   {
    "duration": 5,
    "start_time": "2022-02-28T09:32:34.106Z"
   },
   {
    "duration": 9,
    "start_time": "2022-02-28T09:32:34.112Z"
   },
   {
    "duration": 9,
    "start_time": "2022-02-28T09:32:34.123Z"
   },
   {
    "duration": 34,
    "start_time": "2022-02-28T09:32:34.134Z"
   },
   {
    "duration": 9,
    "start_time": "2022-02-28T09:32:34.169Z"
   },
   {
    "duration": 9,
    "start_time": "2022-02-28T09:32:34.179Z"
   },
   {
    "duration": 13,
    "start_time": "2022-02-28T09:32:34.190Z"
   },
   {
    "duration": 12,
    "start_time": "2022-02-28T09:32:34.207Z"
   },
   {
    "duration": 14,
    "start_time": "2022-02-28T09:32:34.222Z"
   },
   {
    "duration": 5,
    "start_time": "2022-02-28T09:32:34.263Z"
   },
   {
    "duration": 18,
    "start_time": "2022-02-28T09:32:34.269Z"
   },
   {
    "duration": 348,
    "start_time": "2022-02-28T09:32:34.289Z"
   },
   {
    "duration": 5,
    "start_time": "2022-02-28T09:32:34.638Z"
   },
   {
    "duration": 4788,
    "start_time": "2022-02-28T09:32:34.645Z"
   },
   {
    "duration": 30,
    "start_time": "2022-02-28T09:32:39.434Z"
   },
   {
    "duration": 17,
    "start_time": "2022-02-28T09:32:39.466Z"
   },
   {
    "duration": 17,
    "start_time": "2022-02-28T09:32:39.485Z"
   },
   {
    "duration": 232,
    "start_time": "2022-02-28T09:32:39.504Z"
   },
   {
    "duration": -364,
    "start_time": "2022-02-28T09:32:40.102Z"
   },
   {
    "duration": -365,
    "start_time": "2022-02-28T09:32:40.104Z"
   },
   {
    "duration": -390,
    "start_time": "2022-02-28T09:32:40.130Z"
   },
   {
    "duration": -394,
    "start_time": "2022-02-28T09:32:40.134Z"
   },
   {
    "duration": -395,
    "start_time": "2022-02-28T09:32:40.136Z"
   },
   {
    "duration": -398,
    "start_time": "2022-02-28T09:32:40.140Z"
   },
   {
    "duration": -406,
    "start_time": "2022-02-28T09:32:40.149Z"
   },
   {
    "duration": -408,
    "start_time": "2022-02-28T09:32:40.152Z"
   },
   {
    "duration": -410,
    "start_time": "2022-02-28T09:32:40.155Z"
   },
   {
    "duration": -411,
    "start_time": "2022-02-28T09:32:40.157Z"
   },
   {
    "duration": -413,
    "start_time": "2022-02-28T09:32:40.160Z"
   },
   {
    "duration": -414,
    "start_time": "2022-02-28T09:32:40.162Z"
   },
   {
    "duration": -429,
    "start_time": "2022-02-28T09:32:40.178Z"
   },
   {
    "duration": -430,
    "start_time": "2022-02-28T09:32:40.181Z"
   },
   {
    "duration": -432,
    "start_time": "2022-02-28T09:32:40.184Z"
   },
   {
    "duration": -433,
    "start_time": "2022-02-28T09:32:40.186Z"
   },
   {
    "duration": -444,
    "start_time": "2022-02-28T09:32:40.198Z"
   },
   {
    "duration": -446,
    "start_time": "2022-02-28T09:32:40.201Z"
   },
   {
    "duration": -446,
    "start_time": "2022-02-28T09:32:40.203Z"
   },
   {
    "duration": -448,
    "start_time": "2022-02-28T09:32:40.206Z"
   },
   {
    "duration": -449,
    "start_time": "2022-02-28T09:32:40.209Z"
   },
   {
    "duration": -450,
    "start_time": "2022-02-28T09:32:40.211Z"
   },
   {
    "duration": -510,
    "start_time": "2022-02-28T09:32:40.271Z"
   },
   {
    "duration": -543,
    "start_time": "2022-02-28T09:32:40.305Z"
   },
   {
    "duration": -544,
    "start_time": "2022-02-28T09:32:40.307Z"
   },
   {
    "duration": -546,
    "start_time": "2022-02-28T09:32:40.310Z"
   },
   {
    "duration": -547,
    "start_time": "2022-02-28T09:32:40.312Z"
   },
   {
    "duration": -549,
    "start_time": "2022-02-28T09:32:40.315Z"
   },
   {
    "duration": -552,
    "start_time": "2022-02-28T09:32:40.318Z"
   },
   {
    "duration": -553,
    "start_time": "2022-02-28T09:32:40.320Z"
   },
   {
    "duration": -555,
    "start_time": "2022-02-28T09:32:40.323Z"
   },
   {
    "duration": -556,
    "start_time": "2022-02-28T09:32:40.325Z"
   },
   {
    "duration": -576,
    "start_time": "2022-02-28T09:32:40.346Z"
   },
   {
    "duration": -579,
    "start_time": "2022-02-28T09:32:40.350Z"
   },
   {
    "duration": 14,
    "start_time": "2022-02-28T09:33:25.548Z"
   },
   {
    "duration": 7,
    "start_time": "2022-02-28T09:33:31.740Z"
   },
   {
    "duration": 67,
    "start_time": "2022-02-28T09:33:31.748Z"
   },
   {
    "duration": 5,
    "start_time": "2022-02-28T09:33:31.817Z"
   },
   {
    "duration": 20,
    "start_time": "2022-02-28T09:33:31.824Z"
   },
   {
    "duration": 34,
    "start_time": "2022-02-28T09:33:31.846Z"
   },
   {
    "duration": 34,
    "start_time": "2022-02-28T09:33:31.882Z"
   },
   {
    "duration": 5,
    "start_time": "2022-02-28T09:33:31.918Z"
   },
   {
    "duration": 44,
    "start_time": "2022-02-28T09:33:31.926Z"
   },
   {
    "duration": 45,
    "start_time": "2022-02-28T09:33:31.972Z"
   },
   {
    "duration": 21,
    "start_time": "2022-02-28T09:33:32.019Z"
   },
   {
    "duration": 51,
    "start_time": "2022-02-28T09:33:32.041Z"
   },
   {
    "duration": 5,
    "start_time": "2022-02-28T09:33:32.094Z"
   },
   {
    "duration": 14,
    "start_time": "2022-02-28T09:33:32.100Z"
   },
   {
    "duration": 23,
    "start_time": "2022-02-28T09:33:32.115Z"
   },
   {
    "duration": 14,
    "start_time": "2022-02-28T09:33:32.140Z"
   },
   {
    "duration": 23,
    "start_time": "2022-02-28T09:33:32.156Z"
   },
   {
    "duration": 11,
    "start_time": "2022-02-28T09:33:32.181Z"
   },
   {
    "duration": 11,
    "start_time": "2022-02-28T09:33:32.193Z"
   },
   {
    "duration": 13,
    "start_time": "2022-02-28T09:33:32.206Z"
   },
   {
    "duration": 14,
    "start_time": "2022-02-28T09:33:32.221Z"
   },
   {
    "duration": 6,
    "start_time": "2022-02-28T09:33:32.237Z"
   },
   {
    "duration": 27,
    "start_time": "2022-02-28T09:33:32.244Z"
   },
   {
    "duration": 535,
    "start_time": "2022-02-28T09:33:32.275Z"
   },
   {
    "duration": 5,
    "start_time": "2022-02-28T09:33:32.813Z"
   },
   {
    "duration": 4874,
    "start_time": "2022-02-28T09:33:32.820Z"
   },
   {
    "duration": 17,
    "start_time": "2022-02-28T09:33:37.696Z"
   },
   {
    "duration": 26,
    "start_time": "2022-02-28T09:33:37.714Z"
   },
   {
    "duration": 28,
    "start_time": "2022-02-28T09:33:37.742Z"
   },
   {
    "duration": 14,
    "start_time": "2022-02-28T09:33:37.772Z"
   },
   {
    "duration": 10,
    "start_time": "2022-02-28T09:33:37.787Z"
   },
   {
    "duration": 513,
    "start_time": "2022-02-28T09:33:37.798Z"
   },
   {
    "duration": 24,
    "start_time": "2022-02-28T09:33:38.313Z"
   },
   {
    "duration": 56,
    "start_time": "2022-02-28T09:33:38.339Z"
   },
   {
    "duration": 17,
    "start_time": "2022-02-28T09:33:38.397Z"
   },
   {
    "duration": 23,
    "start_time": "2022-02-28T09:33:38.416Z"
   },
   {
    "duration": 286,
    "start_time": "2022-02-28T09:33:38.441Z"
   },
   {
    "duration": 13,
    "start_time": "2022-02-28T09:33:38.728Z"
   },
   {
    "duration": 148,
    "start_time": "2022-02-28T09:33:38.743Z"
   },
   {
    "duration": 167,
    "start_time": "2022-02-28T09:33:38.892Z"
   },
   {
    "duration": 7,
    "start_time": "2022-02-28T09:33:39.063Z"
   },
   {
    "duration": 1937,
    "start_time": "2022-02-28T09:33:39.072Z"
   },
   {
    "duration": 1912,
    "start_time": "2022-02-28T09:33:41.011Z"
   },
   {
    "duration": 5,
    "start_time": "2022-02-28T09:33:42.925Z"
   },
   {
    "duration": 1862,
    "start_time": "2022-02-28T09:33:42.932Z"
   },
   {
    "duration": 1736,
    "start_time": "2022-02-28T09:33:44.795Z"
   },
   {
    "duration": 6,
    "start_time": "2022-02-28T09:33:46.533Z"
   },
   {
    "duration": 1865,
    "start_time": "2022-02-28T09:33:46.540Z"
   },
   {
    "duration": 1794,
    "start_time": "2022-02-28T09:33:48.408Z"
   },
   {
    "duration": 11,
    "start_time": "2022-02-28T09:33:50.204Z"
   },
   {
    "duration": 275,
    "start_time": "2022-02-28T09:33:50.217Z"
   },
   {
    "duration": 18,
    "start_time": "2022-02-28T09:33:50.493Z"
   },
   {
    "duration": 17,
    "start_time": "2022-02-28T09:33:50.512Z"
   },
   {
    "duration": 38,
    "start_time": "2022-02-28T09:33:50.531Z"
   },
   {
    "duration": 155,
    "start_time": "2022-02-28T09:33:50.570Z"
   },
   {
    "duration": 17,
    "start_time": "2022-02-28T09:33:50.727Z"
   },
   {
    "duration": 28,
    "start_time": "2022-02-28T09:33:50.746Z"
   },
   {
    "duration": 189,
    "start_time": "2022-02-28T09:33:50.776Z"
   },
   {
    "duration": 196,
    "start_time": "2022-02-28T09:33:50.967Z"
   },
   {
    "duration": 191,
    "start_time": "2022-02-28T09:33:51.165Z"
   },
   {
    "duration": 25,
    "start_time": "2022-02-28T09:33:51.357Z"
   },
   {
    "duration": 5,
    "start_time": "2022-02-28T09:33:51.384Z"
   },
   {
    "duration": 34,
    "start_time": "2022-02-28T09:33:51.390Z"
   },
   {
    "duration": 6,
    "start_time": "2022-02-28T09:33:51.426Z"
   },
   {
    "duration": 144,
    "start_time": "2022-02-28T09:37:11.580Z"
   },
   {
    "duration": 130,
    "start_time": "2022-02-28T09:37:46.130Z"
   },
   {
    "duration": 11,
    "start_time": "2022-02-28T09:48:48.778Z"
   },
   {
    "duration": 10,
    "start_time": "2022-02-28T09:49:13.728Z"
   },
   {
    "duration": 5,
    "start_time": "2022-02-28T10:03:54.098Z"
   },
   {
    "duration": 4,
    "start_time": "2022-02-28T10:05:12.931Z"
   },
   {
    "duration": 4,
    "start_time": "2022-02-28T10:05:30.469Z"
   },
   {
    "duration": 5,
    "start_time": "2022-02-28T10:06:04.444Z"
   },
   {
    "duration": 4920,
    "start_time": "2022-02-28T10:07:25.091Z"
   },
   {
    "duration": 6,
    "start_time": "2022-02-28T10:07:51.828Z"
   },
   {
    "duration": 4,
    "start_time": "2022-02-28T10:07:53.358Z"
   },
   {
    "duration": 5,
    "start_time": "2022-02-28T10:08:25.052Z"
   },
   {
    "duration": 5,
    "start_time": "2022-02-28T10:08:59.663Z"
   },
   {
    "duration": 6,
    "start_time": "2022-02-28T10:09:27.891Z"
   },
   {
    "duration": 4,
    "start_time": "2022-02-28T10:09:28.584Z"
   },
   {
    "duration": 5,
    "start_time": "2022-02-28T10:10:01.603Z"
   },
   {
    "duration": 149,
    "start_time": "2022-02-28T10:17:31.264Z"
   },
   {
    "duration": 10,
    "start_time": "2022-02-28T10:17:42.824Z"
   },
   {
    "duration": 3,
    "start_time": "2022-02-28T10:19:18.061Z"
   },
   {
    "duration": 59,
    "start_time": "2022-02-28T10:19:18.065Z"
   },
   {
    "duration": 5,
    "start_time": "2022-02-28T10:19:18.126Z"
   },
   {
    "duration": 7,
    "start_time": "2022-02-28T10:19:18.133Z"
   },
   {
    "duration": 36,
    "start_time": "2022-02-28T10:19:18.141Z"
   },
   {
    "duration": 38,
    "start_time": "2022-02-28T10:19:18.178Z"
   },
   {
    "duration": 4,
    "start_time": "2022-02-28T10:19:18.217Z"
   },
   {
    "duration": 49,
    "start_time": "2022-02-28T10:19:18.223Z"
   },
   {
    "duration": 38,
    "start_time": "2022-02-28T10:19:18.275Z"
   },
   {
    "duration": 21,
    "start_time": "2022-02-28T10:19:18.315Z"
   },
   {
    "duration": 53,
    "start_time": "2022-02-28T10:19:18.337Z"
   },
   {
    "duration": 4,
    "start_time": "2022-02-28T10:19:18.392Z"
   },
   {
    "duration": 7,
    "start_time": "2022-02-28T10:19:18.398Z"
   },
   {
    "duration": 6,
    "start_time": "2022-02-28T10:19:18.407Z"
   },
   {
    "duration": 8,
    "start_time": "2022-02-28T10:19:18.415Z"
   },
   {
    "duration": 39,
    "start_time": "2022-02-28T10:19:18.424Z"
   },
   {
    "duration": 9,
    "start_time": "2022-02-28T10:19:18.465Z"
   },
   {
    "duration": 10,
    "start_time": "2022-02-28T10:19:18.475Z"
   },
   {
    "duration": 14,
    "start_time": "2022-02-28T10:19:18.487Z"
   },
   {
    "duration": 14,
    "start_time": "2022-02-28T10:19:18.502Z"
   },
   {
    "duration": 7,
    "start_time": "2022-02-28T10:19:18.518Z"
   },
   {
    "duration": 37,
    "start_time": "2022-02-28T10:19:18.527Z"
   },
   {
    "duration": 302,
    "start_time": "2022-02-28T10:19:18.566Z"
   },
   {
    "duration": 4,
    "start_time": "2022-02-28T10:19:18.870Z"
   },
   {
    "duration": 4413,
    "start_time": "2022-02-28T10:19:18.876Z"
   },
   {
    "duration": 17,
    "start_time": "2022-02-28T10:19:23.291Z"
   },
   {
    "duration": 17,
    "start_time": "2022-02-28T10:19:23.313Z"
   },
   {
    "duration": 43,
    "start_time": "2022-02-28T10:19:23.333Z"
   },
   {
    "duration": 14,
    "start_time": "2022-02-28T10:19:23.378Z"
   },
   {
    "duration": 11,
    "start_time": "2022-02-28T10:19:23.394Z"
   },
   {
    "duration": 511,
    "start_time": "2022-02-28T10:19:23.407Z"
   },
   {
    "duration": 22,
    "start_time": "2022-02-28T10:19:23.920Z"
   },
   {
    "duration": 30,
    "start_time": "2022-02-28T10:19:23.943Z"
   },
   {
    "duration": 6,
    "start_time": "2022-02-28T10:19:23.975Z"
   },
   {
    "duration": 22,
    "start_time": "2022-02-28T10:19:23.983Z"
   },
   {
    "duration": 565,
    "start_time": "2022-02-28T10:19:24.007Z"
   },
   {
    "duration": 12,
    "start_time": "2022-02-28T10:19:24.574Z"
   },
   {
    "duration": 150,
    "start_time": "2022-02-28T10:19:24.588Z"
   },
   {
    "duration": 10,
    "start_time": "2022-02-28T10:19:24.740Z"
   },
   {
    "duration": 144,
    "start_time": "2022-02-28T10:19:24.763Z"
   },
   {
    "duration": 10,
    "start_time": "2022-02-28T10:19:24.909Z"
   },
   {
    "duration": 172,
    "start_time": "2022-02-28T10:19:24.921Z"
   },
   {
    "duration": 9,
    "start_time": "2022-02-28T10:19:25.095Z"
   },
   {
    "duration": 38,
    "start_time": "2022-02-28T10:19:25.106Z"
   },
   {
    "duration": 24,
    "start_time": "2022-02-28T10:19:25.146Z"
   },
   {
    "duration": 1920,
    "start_time": "2022-02-28T10:19:25.172Z"
   },
   {
    "duration": 6,
    "start_time": "2022-02-28T10:19:27.094Z"
   },
   {
    "duration": 1985,
    "start_time": "2022-02-28T10:19:27.102Z"
   },
   {
    "duration": 5,
    "start_time": "2022-02-28T10:19:29.089Z"
   },
   {
    "duration": 11,
    "start_time": "2022-02-28T10:19:29.096Z"
   },
   {
    "duration": 1750,
    "start_time": "2022-02-28T10:19:29.108Z"
   },
   {
    "duration": 6,
    "start_time": "2022-02-28T10:19:30.860Z"
   },
   {
    "duration": 1777,
    "start_time": "2022-02-28T10:19:30.868Z"
   },
   {
    "duration": 16,
    "start_time": "2022-02-28T10:19:32.648Z"
   },
   {
    "duration": 8,
    "start_time": "2022-02-28T10:19:32.665Z"
   },
   {
    "duration": 1822,
    "start_time": "2022-02-28T10:19:32.675Z"
   },
   {
    "duration": 6,
    "start_time": "2022-02-28T10:19:34.499Z"
   },
   {
    "duration": 1737,
    "start_time": "2022-02-28T10:19:34.507Z"
   },
   {
    "duration": 22,
    "start_time": "2022-02-28T10:19:36.246Z"
   },
   {
    "duration": 426,
    "start_time": "2022-02-28T10:19:36.270Z"
   },
   {
    "duration": 19,
    "start_time": "2022-02-28T10:19:36.698Z"
   },
   {
    "duration": 25,
    "start_time": "2022-02-28T10:19:36.718Z"
   },
   {
    "duration": 30,
    "start_time": "2022-02-28T10:19:36.745Z"
   },
   {
    "duration": 14,
    "start_time": "2022-02-28T10:19:36.777Z"
   },
   {
    "duration": 13,
    "start_time": "2022-02-28T10:19:36.793Z"
   },
   {
    "duration": 28,
    "start_time": "2022-02-28T10:19:36.808Z"
   },
   {
    "duration": 184,
    "start_time": "2022-02-28T10:19:36.837Z"
   },
   {
    "duration": 190,
    "start_time": "2022-02-28T10:19:37.023Z"
   },
   {
    "duration": 180,
    "start_time": "2022-02-28T10:19:37.214Z"
   },
   {
    "duration": 20,
    "start_time": "2022-02-28T10:19:37.395Z"
   },
   {
    "duration": 6,
    "start_time": "2022-02-28T10:19:37.416Z"
   },
   {
    "duration": 40,
    "start_time": "2022-02-28T10:19:37.424Z"
   },
   {
    "duration": 7,
    "start_time": "2022-02-28T10:19:37.466Z"
   },
   {
    "duration": 1525,
    "start_time": "2022-03-08T09:42:47.328Z"
   },
   {
    "duration": 77,
    "start_time": "2022-03-08T09:42:48.856Z"
   },
   {
    "duration": 6,
    "start_time": "2022-03-08T09:42:48.936Z"
   },
   {
    "duration": 30,
    "start_time": "2022-03-08T09:42:48.945Z"
   },
   {
    "duration": 63,
    "start_time": "2022-03-08T09:42:48.977Z"
   },
   {
    "duration": 62,
    "start_time": "2022-03-08T09:42:49.043Z"
   },
   {
    "duration": 6,
    "start_time": "2022-03-08T09:42:49.108Z"
   },
   {
    "duration": 52,
    "start_time": "2022-03-08T09:42:49.117Z"
   },
   {
    "duration": 62,
    "start_time": "2022-03-08T09:42:49.172Z"
   },
   {
    "duration": 36,
    "start_time": "2022-03-08T09:42:49.237Z"
   },
   {
    "duration": 56,
    "start_time": "2022-03-08T09:42:49.275Z"
   },
   {
    "duration": 7,
    "start_time": "2022-03-08T09:42:49.334Z"
   },
   {
    "duration": 10,
    "start_time": "2022-03-08T09:42:49.372Z"
   },
   {
    "duration": 10,
    "start_time": "2022-03-08T09:42:49.385Z"
   },
   {
    "duration": 11,
    "start_time": "2022-03-08T09:42:49.398Z"
   },
   {
    "duration": 10,
    "start_time": "2022-03-08T09:42:49.412Z"
   },
   {
    "duration": 15,
    "start_time": "2022-03-08T09:42:49.473Z"
   },
   {
    "duration": 10,
    "start_time": "2022-03-08T09:42:49.491Z"
   },
   {
    "duration": 16,
    "start_time": "2022-03-08T09:42:49.503Z"
   },
   {
    "duration": 20,
    "start_time": "2022-03-08T09:42:49.521Z"
   },
   {
    "duration": 40,
    "start_time": "2022-03-08T09:42:49.543Z"
   },
   {
    "duration": 22,
    "start_time": "2022-03-08T09:42:49.585Z"
   },
   {
    "duration": 525,
    "start_time": "2022-03-08T09:42:49.613Z"
   },
   {
    "duration": 6,
    "start_time": "2022-03-08T09:42:50.141Z"
   },
   {
    "duration": 7609,
    "start_time": "2022-03-08T09:42:50.149Z"
   },
   {
    "duration": 34,
    "start_time": "2022-03-08T09:42:57.760Z"
   },
   {
    "duration": 25,
    "start_time": "2022-03-08T09:42:57.796Z"
   },
   {
    "duration": 52,
    "start_time": "2022-03-08T09:42:57.823Z"
   },
   {
    "duration": 20,
    "start_time": "2022-03-08T09:42:57.877Z"
   },
   {
    "duration": 10,
    "start_time": "2022-03-08T09:42:57.900Z"
   },
   {
    "duration": 999,
    "start_time": "2022-03-08T09:42:57.912Z"
   },
   {
    "duration": 36,
    "start_time": "2022-03-08T09:42:58.914Z"
   },
   {
    "duration": 21,
    "start_time": "2022-03-08T09:42:58.973Z"
   },
   {
    "duration": 29,
    "start_time": "2022-03-08T09:42:58.997Z"
   },
   {
    "duration": 35,
    "start_time": "2022-03-08T09:42:59.028Z"
   },
   {
    "duration": 431,
    "start_time": "2022-03-08T09:42:59.066Z"
   },
   {
    "duration": 17,
    "start_time": "2022-03-08T09:42:59.499Z"
   },
   {
    "duration": 241,
    "start_time": "2022-03-08T09:42:59.518Z"
   },
   {
    "duration": 18,
    "start_time": "2022-03-08T09:42:59.761Z"
   },
   {
    "duration": 465,
    "start_time": "2022-03-08T09:42:59.781Z"
   },
   {
    "duration": 24,
    "start_time": "2022-03-08T09:43:00.249Z"
   },
   {
    "duration": 253,
    "start_time": "2022-03-08T09:43:00.275Z"
   },
   {
    "duration": 14,
    "start_time": "2022-03-08T09:43:00.531Z"
   },
   {
    "duration": 36,
    "start_time": "2022-03-08T09:43:00.548Z"
   },
   {
    "duration": 24,
    "start_time": "2022-03-08T09:43:00.587Z"
   },
   {
    "duration": 3003,
    "start_time": "2022-03-08T09:43:00.613Z"
   },
   {
    "duration": 6,
    "start_time": "2022-03-08T09:43:03.619Z"
   },
   {
    "duration": 3150,
    "start_time": "2022-03-08T09:43:03.628Z"
   },
   {
    "duration": 8,
    "start_time": "2022-03-08T09:43:06.781Z"
   },
   {
    "duration": 8,
    "start_time": "2022-03-08T09:43:06.792Z"
   },
   {
    "duration": 4144,
    "start_time": "2022-03-08T09:43:06.803Z"
   },
   {
    "duration": 5,
    "start_time": "2022-03-08T09:43:10.950Z"
   },
   {
    "duration": 3109,
    "start_time": "2022-03-08T09:43:10.958Z"
   },
   {
    "duration": 7,
    "start_time": "2022-03-08T09:43:14.073Z"
   },
   {
    "duration": 10,
    "start_time": "2022-03-08T09:43:14.082Z"
   },
   {
    "duration": 3391,
    "start_time": "2022-03-08T09:43:14.094Z"
   },
   {
    "duration": 6,
    "start_time": "2022-03-08T09:43:17.487Z"
   },
   {
    "duration": 2932,
    "start_time": "2022-03-08T09:43:17.495Z"
   },
   {
    "duration": 17,
    "start_time": "2022-03-08T09:43:20.430Z"
   },
   {
    "duration": 438,
    "start_time": "2022-03-08T09:43:20.449Z"
   },
   {
    "duration": 26,
    "start_time": "2022-03-08T09:43:20.890Z"
   },
   {
    "duration": 25,
    "start_time": "2022-03-08T09:43:20.918Z"
   },
   {
    "duration": 27,
    "start_time": "2022-03-08T09:43:20.974Z"
   },
   {
    "duration": 25,
    "start_time": "2022-03-08T09:43:21.004Z"
   },
   {
    "duration": 60,
    "start_time": "2022-03-08T09:43:21.032Z"
   },
   {
    "duration": 24,
    "start_time": "2022-03-08T09:43:21.095Z"
   },
   {
    "duration": 334,
    "start_time": "2022-03-08T09:43:21.122Z"
   },
   {
    "duration": 420,
    "start_time": "2022-03-08T09:43:21.474Z"
   },
   {
    "duration": 431,
    "start_time": "2022-03-08T09:43:21.897Z"
   },
   {
    "duration": 28,
    "start_time": "2022-03-08T09:43:22.331Z"
   },
   {
    "duration": 16,
    "start_time": "2022-03-08T09:43:22.361Z"
   },
   {
    "duration": 37,
    "start_time": "2022-03-08T09:43:22.379Z"
   },
   {
    "duration": 7,
    "start_time": "2022-03-08T09:43:22.419Z"
   },
   {
    "duration": 58,
    "start_time": "2022-03-08T09:50:05.438Z"
   },
   {
    "duration": 92,
    "start_time": "2022-03-09T14:43:53.914Z"
   },
   {
    "duration": 372,
    "start_time": "2022-03-09T15:18:22.653Z"
   },
   {
    "duration": 1654,
    "start_time": "2022-03-09T15:18:26.796Z"
   },
   {
    "duration": 80,
    "start_time": "2022-03-09T15:18:28.452Z"
   },
   {
    "duration": 7,
    "start_time": "2022-03-09T15:18:28.535Z"
   },
   {
    "duration": 13,
    "start_time": "2022-03-09T15:18:28.544Z"
   },
   {
    "duration": 53,
    "start_time": "2022-03-09T15:18:28.560Z"
   },
   {
    "duration": 79,
    "start_time": "2022-03-09T15:18:28.616Z"
   },
   {
    "duration": 6,
    "start_time": "2022-03-09T15:18:28.697Z"
   },
   {
    "duration": 21,
    "start_time": "2022-03-09T15:18:28.705Z"
   },
   {
    "duration": 3,
    "start_time": "2022-03-09T15:18:28.730Z"
   },
   {
    "duration": 75,
    "start_time": "2022-03-09T15:18:28.736Z"
   },
   {
    "duration": 3,
    "start_time": "2022-03-09T15:18:28.814Z"
   },
   {
    "duration": 11,
    "start_time": "2022-03-09T15:18:28.819Z"
   },
   {
    "duration": 11,
    "start_time": "2022-03-09T15:18:28.833Z"
   },
   {
    "duration": 30,
    "start_time": "2022-03-09T15:18:28.847Z"
   },
   {
    "duration": 30,
    "start_time": "2022-03-09T15:18:28.881Z"
   },
   {
    "duration": 9,
    "start_time": "2022-03-09T15:18:28.914Z"
   },
   {
    "duration": 13,
    "start_time": "2022-03-09T15:18:28.926Z"
   },
   {
    "duration": 45,
    "start_time": "2022-03-09T15:18:28.942Z"
   },
   {
    "duration": 15,
    "start_time": "2022-03-09T15:18:28.991Z"
   },
   {
    "duration": 20,
    "start_time": "2022-03-09T15:18:29.009Z"
   },
   {
    "duration": 12,
    "start_time": "2022-03-09T15:18:29.031Z"
   },
   {
    "duration": 59,
    "start_time": "2022-03-09T15:18:29.045Z"
   },
   {
    "duration": 660,
    "start_time": "2022-03-09T15:18:29.106Z"
   },
   {
    "duration": 11,
    "start_time": "2022-03-09T15:18:29.773Z"
   },
   {
    "duration": 8137,
    "start_time": "2022-03-09T15:18:29.788Z"
   },
   {
    "duration": 27,
    "start_time": "2022-03-09T15:18:37.927Z"
   },
   {
    "duration": 33,
    "start_time": "2022-03-09T15:18:37.982Z"
   },
   {
    "duration": 24,
    "start_time": "2022-03-09T15:18:38.018Z"
   },
   {
    "duration": 57,
    "start_time": "2022-03-09T15:18:38.045Z"
   },
   {
    "duration": 13,
    "start_time": "2022-03-09T15:18:38.105Z"
   },
   {
    "duration": 997,
    "start_time": "2022-03-09T15:18:38.120Z"
   },
   {
    "duration": 64,
    "start_time": "2022-03-09T15:18:39.119Z"
   },
   {
    "duration": 36,
    "start_time": "2022-03-09T15:18:39.188Z"
   },
   {
    "duration": 15,
    "start_time": "2022-03-09T15:18:39.226Z"
   },
   {
    "duration": 35,
    "start_time": "2022-03-09T15:18:39.243Z"
   },
   {
    "duration": 510,
    "start_time": "2022-03-09T15:18:39.282Z"
   },
   {
    "duration": 19,
    "start_time": "2022-03-09T15:18:39.795Z"
   },
   {
    "duration": 282,
    "start_time": "2022-03-09T15:18:39.816Z"
   },
   {
    "duration": 14,
    "start_time": "2022-03-09T15:18:40.101Z"
   },
   {
    "duration": 548,
    "start_time": "2022-03-09T15:18:40.117Z"
   },
   {
    "duration": 28,
    "start_time": "2022-03-09T15:18:40.667Z"
   },
   {
    "duration": 290,
    "start_time": "2022-03-09T15:18:40.698Z"
   },
   {
    "duration": 17,
    "start_time": "2022-03-09T15:18:40.991Z"
   },
   {
    "duration": 10,
    "start_time": "2022-03-09T15:18:41.011Z"
   },
   {
    "duration": 7,
    "start_time": "2022-03-09T15:18:41.024Z"
   },
   {
    "duration": 3326,
    "start_time": "2022-03-09T15:18:41.033Z"
   },
   {
    "duration": 14,
    "start_time": "2022-03-09T15:18:44.363Z"
   },
   {
    "duration": 3398,
    "start_time": "2022-03-09T15:18:44.380Z"
   },
   {
    "duration": 9,
    "start_time": "2022-03-09T15:18:47.782Z"
   },
   {
    "duration": 17,
    "start_time": "2022-03-09T15:18:47.795Z"
   },
   {
    "duration": 2726,
    "start_time": "2022-03-09T15:18:47.816Z"
   },
   {
    "duration": 8,
    "start_time": "2022-03-09T15:18:50.545Z"
   },
   {
    "duration": 3190,
    "start_time": "2022-03-09T15:18:50.555Z"
   },
   {
    "duration": 9,
    "start_time": "2022-03-09T15:18:53.748Z"
   },
   {
    "duration": 30,
    "start_time": "2022-03-09T15:18:53.760Z"
   },
   {
    "duration": 2908,
    "start_time": "2022-03-09T15:18:53.795Z"
   },
   {
    "duration": 5,
    "start_time": "2022-03-09T15:18:56.706Z"
   },
   {
    "duration": 3243,
    "start_time": "2022-03-09T15:18:56.714Z"
   },
   {
    "duration": 29,
    "start_time": "2022-03-09T15:18:59.959Z"
   },
   {
    "duration": 521,
    "start_time": "2022-03-09T15:18:59.992Z"
   },
   {
    "duration": 29,
    "start_time": "2022-03-09T15:19:00.516Z"
   },
   {
    "duration": 56,
    "start_time": "2022-03-09T15:19:00.547Z"
   },
   {
    "duration": 26,
    "start_time": "2022-03-09T15:19:00.606Z"
   },
   {
    "duration": 63,
    "start_time": "2022-03-09T15:19:00.635Z"
   },
   {
    "duration": 24,
    "start_time": "2022-03-09T15:19:00.701Z"
   },
   {
    "duration": 67,
    "start_time": "2022-03-09T15:19:00.727Z"
   },
   {
    "duration": 336,
    "start_time": "2022-03-09T15:19:00.797Z"
   },
   {
    "duration": 472,
    "start_time": "2022-03-09T15:19:01.136Z"
   },
   {
    "duration": 341,
    "start_time": "2022-03-09T15:19:01.611Z"
   },
   {
    "duration": 50,
    "start_time": "2022-03-09T15:19:01.955Z"
   },
   {
    "duration": 8,
    "start_time": "2022-03-09T15:19:02.007Z"
   },
   {
    "duration": 48,
    "start_time": "2022-03-09T15:19:02.017Z"
   },
   {
    "duration": 11,
    "start_time": "2022-03-09T15:19:02.081Z"
   },
   {
    "duration": 388,
    "start_time": "2022-03-09T17:43:16.593Z"
   },
   {
    "duration": 1519,
    "start_time": "2022-03-09T17:43:19.185Z"
   },
   {
    "duration": 82,
    "start_time": "2022-03-09T17:43:20.706Z"
   },
   {
    "duration": 8,
    "start_time": "2022-03-09T17:43:20.792Z"
   },
   {
    "duration": 31,
    "start_time": "2022-03-09T17:43:20.803Z"
   },
   {
    "duration": 33,
    "start_time": "2022-03-09T17:43:20.837Z"
   },
   {
    "duration": 77,
    "start_time": "2022-03-09T17:43:20.873Z"
   },
   {
    "duration": 6,
    "start_time": "2022-03-09T17:43:20.952Z"
   },
   {
    "duration": 25,
    "start_time": "2022-03-09T17:43:20.962Z"
   },
   {
    "duration": 5,
    "start_time": "2022-03-09T17:43:20.991Z"
   },
   {
    "duration": 63,
    "start_time": "2022-03-09T17:43:20.998Z"
   },
   {
    "duration": 3,
    "start_time": "2022-03-09T17:43:21.064Z"
   },
   {
    "duration": 23,
    "start_time": "2022-03-09T17:43:21.069Z"
   },
   {
    "duration": 18,
    "start_time": "2022-03-09T17:43:21.095Z"
   },
   {
    "duration": 7,
    "start_time": "2022-03-09T17:43:21.131Z"
   },
   {
    "duration": 17,
    "start_time": "2022-03-09T17:43:21.142Z"
   },
   {
    "duration": 24,
    "start_time": "2022-03-09T17:43:21.163Z"
   },
   {
    "duration": 16,
    "start_time": "2022-03-09T17:43:21.190Z"
   },
   {
    "duration": 37,
    "start_time": "2022-03-09T17:43:21.209Z"
   },
   {
    "duration": 17,
    "start_time": "2022-03-09T17:43:21.248Z"
   },
   {
    "duration": 22,
    "start_time": "2022-03-09T17:43:21.267Z"
   },
   {
    "duration": 7,
    "start_time": "2022-03-09T17:43:21.291Z"
   },
   {
    "duration": 51,
    "start_time": "2022-03-09T17:43:21.300Z"
   },
   {
    "duration": 541,
    "start_time": "2022-03-09T17:43:21.358Z"
   },
   {
    "duration": 5,
    "start_time": "2022-03-09T17:43:21.903Z"
   },
   {
    "duration": 7649,
    "start_time": "2022-03-09T17:43:21.910Z"
   },
   {
    "duration": 26,
    "start_time": "2022-03-09T17:43:29.561Z"
   },
   {
    "duration": 47,
    "start_time": "2022-03-09T17:43:29.589Z"
   },
   {
    "duration": 25,
    "start_time": "2022-03-09T17:43:29.639Z"
   },
   {
    "duration": 25,
    "start_time": "2022-03-09T17:43:29.666Z"
   },
   {
    "duration": 39,
    "start_time": "2022-03-09T17:43:29.693Z"
   },
   {
    "duration": 856,
    "start_time": "2022-03-09T17:43:29.735Z"
   },
   {
    "duration": 50,
    "start_time": "2022-03-09T17:43:30.594Z"
   },
   {
    "duration": 26,
    "start_time": "2022-03-09T17:43:30.646Z"
   },
   {
    "duration": 14,
    "start_time": "2022-03-09T17:43:30.674Z"
   },
   {
    "duration": 41,
    "start_time": "2022-03-09T17:43:30.691Z"
   },
   {
    "duration": 453,
    "start_time": "2022-03-09T17:43:30.735Z"
   },
   {
    "duration": 19,
    "start_time": "2022-03-09T17:43:31.191Z"
   },
   {
    "duration": 273,
    "start_time": "2022-03-09T17:43:31.212Z"
   },
   {
    "duration": 21,
    "start_time": "2022-03-09T17:43:31.488Z"
   },
   {
    "duration": 457,
    "start_time": "2022-03-09T17:43:31.512Z"
   },
   {
    "duration": 14,
    "start_time": "2022-03-09T17:43:31.972Z"
   },
   {
    "duration": 249,
    "start_time": "2022-03-09T17:43:31.988Z"
   },
   {
    "duration": 15,
    "start_time": "2022-03-09T17:43:32.239Z"
   },
   {
    "duration": 9,
    "start_time": "2022-03-09T17:43:32.256Z"
   },
   {
    "duration": 6,
    "start_time": "2022-03-09T17:43:32.267Z"
   },
   {
    "duration": 2930,
    "start_time": "2022-03-09T17:43:32.276Z"
   },
   {
    "duration": 6,
    "start_time": "2022-03-09T17:43:35.208Z"
   },
   {
    "duration": 3037,
    "start_time": "2022-03-09T17:43:35.217Z"
   },
   {
    "duration": 8,
    "start_time": "2022-03-09T17:43:38.256Z"
   },
   {
    "duration": 19,
    "start_time": "2022-03-09T17:43:38.266Z"
   },
   {
    "duration": 2348,
    "start_time": "2022-03-09T17:43:38.287Z"
   },
   {
    "duration": 6,
    "start_time": "2022-03-09T17:43:40.637Z"
   },
   {
    "duration": 2787,
    "start_time": "2022-03-09T17:43:40.645Z"
   },
   {
    "duration": 8,
    "start_time": "2022-03-09T17:43:43.434Z"
   },
   {
    "duration": 7,
    "start_time": "2022-03-09T17:43:43.444Z"
   },
   {
    "duration": 2547,
    "start_time": "2022-03-09T17:43:43.454Z"
   },
   {
    "duration": 6,
    "start_time": "2022-03-09T17:43:46.004Z"
   },
   {
    "duration": 2669,
    "start_time": "2022-03-09T17:43:46.012Z"
   },
   {
    "duration": 18,
    "start_time": "2022-03-09T17:43:48.683Z"
   },
   {
    "duration": 444,
    "start_time": "2022-03-09T17:43:48.704Z"
   },
   {
    "duration": 27,
    "start_time": "2022-03-09T17:43:49.150Z"
   },
   {
    "duration": 24,
    "start_time": "2022-03-09T17:43:49.179Z"
   },
   {
    "duration": 26,
    "start_time": "2022-03-09T17:43:49.233Z"
   },
   {
    "duration": 23,
    "start_time": "2022-03-09T17:43:49.262Z"
   },
   {
    "duration": 55,
    "start_time": "2022-03-09T17:43:49.288Z"
   },
   {
    "duration": 21,
    "start_time": "2022-03-09T17:43:49.346Z"
   },
   {
    "duration": 307,
    "start_time": "2022-03-09T17:43:49.369Z"
   },
   {
    "duration": 407,
    "start_time": "2022-03-09T17:43:49.683Z"
   },
   {
    "duration": 303,
    "start_time": "2022-03-09T17:43:50.092Z"
   },
   {
    "duration": 41,
    "start_time": "2022-03-09T17:43:50.397Z"
   },
   {
    "duration": 7,
    "start_time": "2022-03-09T17:43:50.441Z"
   },
   {
    "duration": 37,
    "start_time": "2022-03-09T17:43:50.451Z"
   },
   {
    "duration": 7,
    "start_time": "2022-03-09T17:43:50.491Z"
   },
   {
    "duration": 1573,
    "start_time": "2022-03-10T13:47:18.387Z"
   },
   {
    "duration": 86,
    "start_time": "2022-03-10T13:47:19.963Z"
   },
   {
    "duration": 20,
    "start_time": "2022-03-10T13:47:20.054Z"
   },
   {
    "duration": 16,
    "start_time": "2022-03-10T13:47:20.077Z"
   },
   {
    "duration": 48,
    "start_time": "2022-03-10T13:47:20.096Z"
   },
   {
    "duration": 64,
    "start_time": "2022-03-10T13:47:20.147Z"
   },
   {
    "duration": 5,
    "start_time": "2022-03-10T13:47:20.214Z"
   },
   {
    "duration": 42,
    "start_time": "2022-03-10T13:47:20.223Z"
   },
   {
    "duration": 21,
    "start_time": "2022-03-10T13:47:20.268Z"
   },
   {
    "duration": 48,
    "start_time": "2022-03-10T13:47:20.291Z"
   },
   {
    "duration": 3,
    "start_time": "2022-03-10T13:47:20.341Z"
   },
   {
    "duration": 17,
    "start_time": "2022-03-10T13:47:20.347Z"
   },
   {
    "duration": 13,
    "start_time": "2022-03-10T13:47:20.367Z"
   },
   {
    "duration": 13,
    "start_time": "2022-03-10T13:47:20.383Z"
   },
   {
    "duration": 14,
    "start_time": "2022-03-10T13:47:20.399Z"
   },
   {
    "duration": 15,
    "start_time": "2022-03-10T13:47:20.417Z"
   },
   {
    "duration": 41,
    "start_time": "2022-03-10T13:47:20.434Z"
   },
   {
    "duration": 29,
    "start_time": "2022-03-10T13:47:20.478Z"
   },
   {
    "duration": 29,
    "start_time": "2022-03-10T13:47:20.510Z"
   },
   {
    "duration": 22,
    "start_time": "2022-03-10T13:47:20.542Z"
   },
   {
    "duration": 10,
    "start_time": "2022-03-10T13:47:20.573Z"
   },
   {
    "duration": 41,
    "start_time": "2022-03-10T13:47:20.585Z"
   },
   {
    "duration": 500,
    "start_time": "2022-03-10T13:47:20.633Z"
   },
   {
    "duration": 5,
    "start_time": "2022-03-10T13:47:21.137Z"
   },
   {
    "duration": 7456,
    "start_time": "2022-03-10T13:47:21.145Z"
   },
   {
    "duration": 25,
    "start_time": "2022-03-10T13:47:28.604Z"
   },
   {
    "duration": 51,
    "start_time": "2022-03-10T13:47:28.632Z"
   },
   {
    "duration": 25,
    "start_time": "2022-03-10T13:47:28.686Z"
   },
   {
    "duration": 421,
    "start_time": "2022-03-10T13:47:28.714Z"
   },
   {
    "duration": -1662,
    "start_time": "2022-03-10T13:47:30.800Z"
   },
   {
    "duration": -1667,
    "start_time": "2022-03-10T13:47:30.807Z"
   },
   {
    "duration": -1706,
    "start_time": "2022-03-10T13:47:30.848Z"
   },
   {
    "duration": -1708,
    "start_time": "2022-03-10T13:47:30.852Z"
   },
   {
    "duration": -1724,
    "start_time": "2022-03-10T13:47:30.870Z"
   },
   {
    "duration": -1725,
    "start_time": "2022-03-10T13:47:30.873Z"
   },
   {
    "duration": -1829,
    "start_time": "2022-03-10T13:47:30.979Z"
   },
   {
    "duration": -1829,
    "start_time": "2022-03-10T13:47:30.982Z"
   },
   {
    "duration": -1892,
    "start_time": "2022-03-10T13:47:31.047Z"
   },
   {
    "duration": -1902,
    "start_time": "2022-03-10T13:47:31.059Z"
   },
   {
    "duration": -1906,
    "start_time": "2022-03-10T13:47:31.065Z"
   },
   {
    "duration": -1912,
    "start_time": "2022-03-10T13:47:31.073Z"
   },
   {
    "duration": -1914,
    "start_time": "2022-03-10T13:47:31.077Z"
   },
   {
    "duration": -1921,
    "start_time": "2022-03-10T13:47:31.086Z"
   },
   {
    "duration": -1922,
    "start_time": "2022-03-10T13:47:31.089Z"
   },
   {
    "duration": -1924,
    "start_time": "2022-03-10T13:47:31.093Z"
   },
   {
    "duration": -1964,
    "start_time": "2022-03-10T13:47:31.135Z"
   },
   {
    "duration": -1971,
    "start_time": "2022-03-10T13:47:31.144Z"
   },
   {
    "duration": -1978,
    "start_time": "2022-03-10T13:47:31.153Z"
   },
   {
    "duration": -1979,
    "start_time": "2022-03-10T13:47:31.156Z"
   },
   {
    "duration": -1981,
    "start_time": "2022-03-10T13:47:31.160Z"
   },
   {
    "duration": -1983,
    "start_time": "2022-03-10T13:47:31.164Z"
   },
   {
    "duration": -2009,
    "start_time": "2022-03-10T13:47:31.192Z"
   },
   {
    "duration": -2010,
    "start_time": "2022-03-10T13:47:31.195Z"
   },
   {
    "duration": -2029,
    "start_time": "2022-03-10T13:47:31.216Z"
   },
   {
    "duration": -2030,
    "start_time": "2022-03-10T13:47:31.219Z"
   },
   {
    "duration": -2032,
    "start_time": "2022-03-10T13:47:31.223Z"
   },
   {
    "duration": -2033,
    "start_time": "2022-03-10T13:47:31.226Z"
   },
   {
    "duration": -2087,
    "start_time": "2022-03-10T13:47:31.282Z"
   },
   {
    "duration": -2089,
    "start_time": "2022-03-10T13:47:31.286Z"
   },
   {
    "duration": -2091,
    "start_time": "2022-03-10T13:47:31.290Z"
   },
   {
    "duration": -2092,
    "start_time": "2022-03-10T13:47:31.293Z"
   },
   {
    "duration": -2094,
    "start_time": "2022-03-10T13:47:31.297Z"
   },
   {
    "duration": -2142,
    "start_time": "2022-03-10T13:47:31.348Z"
   },
   {
    "duration": -2145,
    "start_time": "2022-03-10T13:47:31.353Z"
   },
   {
    "duration": -2146,
    "start_time": "2022-03-10T13:47:31.356Z"
   },
   {
    "duration": -2147,
    "start_time": "2022-03-10T13:47:31.359Z"
   },
   {
    "duration": -2147,
    "start_time": "2022-03-10T13:47:31.362Z"
   },
   {
    "duration": -2094,
    "start_time": "2022-03-10T13:47:31.367Z"
   },
   {
    "duration": -2094,
    "start_time": "2022-03-10T13:47:31.370Z"
   },
   {
    "duration": -2096,
    "start_time": "2022-03-10T13:47:31.374Z"
   },
   {
    "duration": -2096,
    "start_time": "2022-03-10T13:47:31.377Z"
   },
   {
    "duration": -2098,
    "start_time": "2022-03-10T13:47:31.381Z"
   },
   {
    "duration": -2099,
    "start_time": "2022-03-10T13:47:31.384Z"
   },
   {
    "duration": -2101,
    "start_time": "2022-03-10T13:47:31.388Z"
   },
   {
    "duration": 313,
    "start_time": "2022-03-10T13:47:54.214Z"
   },
   {
    "duration": 291,
    "start_time": "2022-03-10T14:01:26.423Z"
   },
   {
    "duration": 298,
    "start_time": "2022-03-10T14:02:37.647Z"
   },
   {
    "duration": 17,
    "start_time": "2022-03-10T14:02:53.052Z"
   },
   {
    "duration": 311,
    "start_time": "2022-03-10T14:14:41.760Z"
   },
   {
    "duration": 333,
    "start_time": "2022-03-10T14:28:14.297Z"
   },
   {
    "duration": 4,
    "start_time": "2022-03-10T14:28:24.206Z"
   },
   {
    "duration": 18,
    "start_time": "2022-03-10T14:28:25.215Z"
   },
   {
    "duration": 5,
    "start_time": "2022-03-10T14:28:38.759Z"
   },
   {
    "duration": 117,
    "start_time": "2022-03-10T14:28:38.767Z"
   },
   {
    "duration": 9,
    "start_time": "2022-03-10T14:28:38.888Z"
   },
   {
    "duration": 12,
    "start_time": "2022-03-10T14:28:38.900Z"
   },
   {
    "duration": 98,
    "start_time": "2022-03-10T14:28:38.915Z"
   },
   {
    "duration": 91,
    "start_time": "2022-03-10T14:28:39.016Z"
   },
   {
    "duration": 6,
    "start_time": "2022-03-10T14:28:39.114Z"
   },
   {
    "duration": 52,
    "start_time": "2022-03-10T14:28:39.124Z"
   },
   {
    "duration": 3,
    "start_time": "2022-03-10T14:28:39.179Z"
   },
   {
    "duration": 35,
    "start_time": "2022-03-10T14:28:39.184Z"
   },
   {
    "duration": 4,
    "start_time": "2022-03-10T14:28:39.221Z"
   },
   {
    "duration": 49,
    "start_time": "2022-03-10T14:28:39.228Z"
   },
   {
    "duration": 22,
    "start_time": "2022-03-10T14:28:39.280Z"
   },
   {
    "duration": 13,
    "start_time": "2022-03-10T14:28:39.305Z"
   },
   {
    "duration": 19,
    "start_time": "2022-03-10T14:28:39.321Z"
   },
   {
    "duration": 30,
    "start_time": "2022-03-10T14:28:39.343Z"
   },
   {
    "duration": 12,
    "start_time": "2022-03-10T14:28:39.376Z"
   },
   {
    "duration": 13,
    "start_time": "2022-03-10T14:28:39.390Z"
   },
   {
    "duration": 18,
    "start_time": "2022-03-10T14:28:39.408Z"
   },
   {
    "duration": 55,
    "start_time": "2022-03-10T14:28:39.430Z"
   },
   {
    "duration": 19,
    "start_time": "2022-03-10T14:28:39.488Z"
   },
   {
    "duration": 51,
    "start_time": "2022-03-10T14:28:39.510Z"
   },
   {
    "duration": 519,
    "start_time": "2022-03-10T14:28:39.564Z"
   },
   {
    "duration": 8,
    "start_time": "2022-03-10T14:28:40.086Z"
   },
   {
    "duration": 10839,
    "start_time": "2022-03-10T14:28:40.097Z"
   },
   {
    "duration": 49,
    "start_time": "2022-03-10T14:28:50.939Z"
   },
   {
    "duration": 27,
    "start_time": "2022-03-10T14:28:50.992Z"
   },
   {
    "duration": 54,
    "start_time": "2022-03-10T14:28:51.021Z"
   },
   {
    "duration": 20,
    "start_time": "2022-03-10T14:28:51.077Z"
   },
   {
    "duration": 15,
    "start_time": "2022-03-10T14:28:51.099Z"
   },
   {
    "duration": 21,
    "start_time": "2022-03-10T14:28:51.116Z"
   },
   {
    "duration": 51,
    "start_time": "2022-03-10T14:28:51.141Z"
   },
   {
    "duration": 9,
    "start_time": "2022-03-10T14:28:51.195Z"
   },
   {
    "duration": 1066,
    "start_time": "2022-03-10T14:28:51.207Z"
   },
   {
    "duration": 37,
    "start_time": "2022-03-10T14:28:52.275Z"
   },
   {
    "duration": 23,
    "start_time": "2022-03-10T14:28:52.314Z"
   },
   {
    "duration": 40,
    "start_time": "2022-03-10T14:28:52.340Z"
   },
   {
    "duration": 26,
    "start_time": "2022-03-10T14:28:52.383Z"
   },
   {
    "duration": 454,
    "start_time": "2022-03-10T14:28:52.412Z"
   },
   {
    "duration": 22,
    "start_time": "2022-03-10T14:28:52.869Z"
   },
   {
    "duration": 267,
    "start_time": "2022-03-10T14:28:52.894Z"
   },
   {
    "duration": 21,
    "start_time": "2022-03-10T14:28:53.164Z"
   },
   {
    "duration": 254,
    "start_time": "2022-03-10T14:28:53.189Z"
   },
   {
    "duration": 15,
    "start_time": "2022-03-10T14:28:53.445Z"
   },
   {
    "duration": 260,
    "start_time": "2022-03-10T14:28:53.474Z"
   },
   {
    "duration": 16,
    "start_time": "2022-03-10T14:28:53.737Z"
   },
   {
    "duration": 13,
    "start_time": "2022-03-10T14:28:53.775Z"
   },
   {
    "duration": 8,
    "start_time": "2022-03-10T14:28:53.793Z"
   },
   {
    "duration": 3079,
    "start_time": "2022-03-10T14:28:53.806Z"
   },
   {
    "duration": 6,
    "start_time": "2022-03-10T14:28:56.889Z"
   },
   {
    "duration": 4459,
    "start_time": "2022-03-10T14:28:56.899Z"
   },
   {
    "duration": 16,
    "start_time": "2022-03-10T14:29:01.361Z"
   },
   {
    "duration": 22,
    "start_time": "2022-03-10T14:29:01.380Z"
   },
   {
    "duration": 2459,
    "start_time": "2022-03-10T14:29:01.404Z"
   },
   {
    "duration": 7,
    "start_time": "2022-03-10T14:29:03.876Z"
   },
   {
    "duration": 2867,
    "start_time": "2022-03-10T14:29:03.888Z"
   },
   {
    "duration": 15,
    "start_time": "2022-03-10T14:29:06.757Z"
   },
   {
    "duration": 8,
    "start_time": "2022-03-10T14:29:06.776Z"
   },
   {
    "duration": 2595,
    "start_time": "2022-03-10T14:29:06.787Z"
   },
   {
    "duration": 8,
    "start_time": "2022-03-10T14:29:09.385Z"
   },
   {
    "duration": 2787,
    "start_time": "2022-03-10T14:29:09.396Z"
   },
   {
    "duration": 18,
    "start_time": "2022-03-10T14:29:12.185Z"
   },
   {
    "duration": 458,
    "start_time": "2022-03-10T14:29:12.206Z"
   },
   {
    "duration": 30,
    "start_time": "2022-03-10T14:29:12.675Z"
   },
   {
    "duration": 31,
    "start_time": "2022-03-10T14:29:12.709Z"
   },
   {
    "duration": 26,
    "start_time": "2022-03-10T14:29:12.774Z"
   },
   {
    "duration": 26,
    "start_time": "2022-03-10T14:29:12.803Z"
   },
   {
    "duration": 57,
    "start_time": "2022-03-10T14:29:12.831Z"
   },
   {
    "duration": 25,
    "start_time": "2022-03-10T14:29:12.891Z"
   },
   {
    "duration": 324,
    "start_time": "2022-03-10T14:29:12.918Z"
   },
   {
    "duration": 308,
    "start_time": "2022-03-10T14:29:13.245Z"
   },
   {
    "duration": 318,
    "start_time": "2022-03-10T14:29:13.555Z"
   },
   {
    "duration": 32,
    "start_time": "2022-03-10T14:29:13.876Z"
   },
   {
    "duration": 8,
    "start_time": "2022-03-10T14:29:13.910Z"
   },
   {
    "duration": 71,
    "start_time": "2022-03-10T14:29:13.920Z"
   },
   {
    "duration": 10,
    "start_time": "2022-03-10T14:29:13.993Z"
   },
   {
    "duration": 20,
    "start_time": "2022-03-10T14:32:36.540Z"
   },
   {
    "duration": 50,
    "start_time": "2022-03-10T14:35:23.430Z"
   },
   {
    "duration": 18,
    "start_time": "2022-03-10T15:01:41.352Z"
   },
   {
    "duration": 18,
    "start_time": "2022-03-10T15:01:57.123Z"
   },
   {
    "duration": 5,
    "start_time": "2022-03-10T15:02:46.586Z"
   },
   {
    "duration": 87,
    "start_time": "2022-03-10T15:02:46.593Z"
   },
   {
    "duration": 7,
    "start_time": "2022-03-10T15:02:46.683Z"
   },
   {
    "duration": 8,
    "start_time": "2022-03-10T15:02:46.692Z"
   },
   {
    "duration": 30,
    "start_time": "2022-03-10T15:02:46.703Z"
   },
   {
    "duration": 51,
    "start_time": "2022-03-10T15:02:46.772Z"
   },
   {
    "duration": 7,
    "start_time": "2022-03-10T15:02:46.826Z"
   },
   {
    "duration": 23,
    "start_time": "2022-03-10T15:02:46.875Z"
   },
   {
    "duration": 9,
    "start_time": "2022-03-10T15:02:46.901Z"
   },
   {
    "duration": 60,
    "start_time": "2022-03-10T15:02:46.913Z"
   },
   {
    "duration": 3,
    "start_time": "2022-03-10T15:02:46.976Z"
   },
   {
    "duration": 8,
    "start_time": "2022-03-10T15:02:46.982Z"
   },
   {
    "duration": 10,
    "start_time": "2022-03-10T15:02:46.992Z"
   },
   {
    "duration": 7,
    "start_time": "2022-03-10T15:02:47.005Z"
   },
   {
    "duration": 12,
    "start_time": "2022-03-10T15:02:47.014Z"
   },
   {
    "duration": 50,
    "start_time": "2022-03-10T15:02:47.029Z"
   },
   {
    "duration": 12,
    "start_time": "2022-03-10T15:02:47.081Z"
   },
   {
    "duration": 10,
    "start_time": "2022-03-10T15:02:47.096Z"
   },
   {
    "duration": 13,
    "start_time": "2022-03-10T15:02:47.112Z"
   },
   {
    "duration": 62,
    "start_time": "2022-03-10T15:02:47.129Z"
   },
   {
    "duration": 6,
    "start_time": "2022-03-10T15:02:47.194Z"
   },
   {
    "duration": 28,
    "start_time": "2022-03-10T15:02:47.202Z"
   },
   {
    "duration": 543,
    "start_time": "2022-03-10T15:02:47.232Z"
   },
   {
    "duration": 5,
    "start_time": "2022-03-10T15:02:47.778Z"
   },
   {
    "duration": 7626,
    "start_time": "2022-03-10T15:02:47.786Z"
   },
   {
    "duration": 27,
    "start_time": "2022-03-10T15:02:55.414Z"
   },
   {
    "duration": 46,
    "start_time": "2022-03-10T15:02:55.443Z"
   },
   {
    "duration": 22,
    "start_time": "2022-03-10T15:02:55.492Z"
   },
   {
    "duration": 18,
    "start_time": "2022-03-10T15:02:55.516Z"
   },
   {
    "duration": 37,
    "start_time": "2022-03-10T15:02:55.537Z"
   },
   {
    "duration": 24,
    "start_time": "2022-03-10T15:02:55.577Z"
   },
   {
    "duration": 23,
    "start_time": "2022-03-10T15:02:55.604Z"
   },
   {
    "duration": 46,
    "start_time": "2022-03-10T15:02:55.630Z"
   },
   {
    "duration": 838,
    "start_time": "2022-03-10T15:02:55.678Z"
   },
   {
    "duration": 55,
    "start_time": "2022-03-10T15:02:56.518Z"
   },
   {
    "duration": 22,
    "start_time": "2022-03-10T15:02:56.575Z"
   },
   {
    "duration": 23,
    "start_time": "2022-03-10T15:02:56.599Z"
   },
   {
    "duration": 26,
    "start_time": "2022-03-10T15:02:56.625Z"
   },
   {
    "duration": 452,
    "start_time": "2022-03-10T15:02:56.653Z"
   },
   {
    "duration": 19,
    "start_time": "2022-03-10T15:02:57.107Z"
   },
   {
    "duration": 513,
    "start_time": "2022-03-10T15:02:57.129Z"
   },
   {
    "duration": 14,
    "start_time": "2022-03-10T15:02:57.645Z"
   },
   {
    "duration": 263,
    "start_time": "2022-03-10T15:02:57.674Z"
   },
   {
    "duration": 14,
    "start_time": "2022-03-10T15:02:57.940Z"
   },
   {
    "duration": 270,
    "start_time": "2022-03-10T15:02:57.956Z"
   },
   {
    "duration": 15,
    "start_time": "2022-03-10T15:02:58.229Z"
   },
   {
    "duration": 31,
    "start_time": "2022-03-10T15:02:58.247Z"
   },
   {
    "duration": 15,
    "start_time": "2022-03-10T15:02:58.281Z"
   },
   {
    "duration": 3077,
    "start_time": "2022-03-10T15:02:58.299Z"
   },
   {
    "duration": 6,
    "start_time": "2022-03-10T15:03:01.378Z"
   },
   {
    "duration": 3075,
    "start_time": "2022-03-10T15:03:01.387Z"
   },
   {
    "duration": 12,
    "start_time": "2022-03-10T15:03:04.464Z"
   },
   {
    "duration": 9,
    "start_time": "2022-03-10T15:03:04.479Z"
   },
   {
    "duration": 2448,
    "start_time": "2022-03-10T15:03:04.490Z"
   },
   {
    "duration": 9,
    "start_time": "2022-03-10T15:03:06.945Z"
   },
   {
    "duration": 2836,
    "start_time": "2022-03-10T15:03:06.957Z"
   },
   {
    "duration": 8,
    "start_time": "2022-03-10T15:03:09.795Z"
   },
   {
    "duration": 15,
    "start_time": "2022-03-10T15:03:09.805Z"
   },
   {
    "duration": 2640,
    "start_time": "2022-03-10T15:03:09.823Z"
   },
   {
    "duration": 7,
    "start_time": "2022-03-10T15:03:12.474Z"
   },
   {
    "duration": 2934,
    "start_time": "2022-03-10T15:03:12.484Z"
   },
   {
    "duration": 18,
    "start_time": "2022-03-10T15:03:15.421Z"
   },
   {
    "duration": 441,
    "start_time": "2022-03-10T15:03:15.442Z"
   },
   {
    "duration": 27,
    "start_time": "2022-03-10T15:03:15.886Z"
   },
   {
    "duration": 28,
    "start_time": "2022-03-10T15:03:15.915Z"
   },
   {
    "duration": 61,
    "start_time": "2022-03-10T15:03:15.946Z"
   },
   {
    "duration": 35,
    "start_time": "2022-03-10T15:03:16.010Z"
   },
   {
    "duration": 205,
    "start_time": "2022-03-10T15:03:16.074Z"
   },
   {
    "duration": 24,
    "start_time": "2022-03-10T15:03:16.282Z"
   },
   {
    "duration": 322,
    "start_time": "2022-03-10T15:03:16.309Z"
   },
   {
    "duration": 304,
    "start_time": "2022-03-10T15:03:16.634Z"
   },
   {
    "duration": 313,
    "start_time": "2022-03-10T15:03:16.941Z"
   },
   {
    "duration": 39,
    "start_time": "2022-03-10T15:03:17.256Z"
   },
   {
    "duration": 8,
    "start_time": "2022-03-10T15:03:17.297Z"
   },
   {
    "duration": 40,
    "start_time": "2022-03-10T15:03:17.308Z"
   },
   {
    "duration": 29,
    "start_time": "2022-03-10T15:03:17.350Z"
   },
   {
    "duration": 7,
    "start_time": "2022-03-10T15:07:37.429Z"
   },
   {
    "duration": 27,
    "start_time": "2022-03-10T15:07:46.499Z"
   },
   {
    "duration": 20,
    "start_time": "2022-03-10T15:07:59.793Z"
   },
   {
    "duration": 7,
    "start_time": "2022-03-10T15:08:02.939Z"
   },
   {
    "duration": 19,
    "start_time": "2022-03-10T15:09:07.635Z"
   },
   {
    "duration": 17,
    "start_time": "2022-03-10T15:10:12.987Z"
   },
   {
    "duration": 21,
    "start_time": "2022-03-10T15:11:23.229Z"
   },
   {
    "duration": 23,
    "start_time": "2022-03-10T15:11:40.453Z"
   },
   {
    "duration": 18,
    "start_time": "2022-03-10T15:13:07.535Z"
   },
   {
    "duration": 3,
    "start_time": "2022-03-10T15:13:44.127Z"
   },
   {
    "duration": 24,
    "start_time": "2022-03-10T15:22:03.382Z"
   },
   {
    "duration": 1075,
    "start_time": "2022-03-10T15:26:03.158Z"
   },
   {
    "duration": 977,
    "start_time": "2022-03-10T15:26:19.343Z"
   },
   {
    "duration": 36,
    "start_time": "2022-03-10T18:29:18.847Z"
   },
   {
    "duration": 26,
    "start_time": "2022-03-10T19:46:20.226Z"
   },
   {
    "duration": 30,
    "start_time": "2022-03-10T19:47:06.258Z"
   },
   {
    "duration": 37,
    "start_time": "2022-03-10T19:47:25.898Z"
   },
   {
    "duration": 1499,
    "start_time": "2022-03-11T08:11:57.155Z"
   },
   {
    "duration": 85,
    "start_time": "2022-03-11T08:11:58.657Z"
   },
   {
    "duration": 7,
    "start_time": "2022-03-11T08:11:58.746Z"
   },
   {
    "duration": 31,
    "start_time": "2022-03-11T08:11:58.757Z"
   },
   {
    "duration": 39,
    "start_time": "2022-03-11T08:11:58.790Z"
   },
   {
    "duration": 74,
    "start_time": "2022-03-11T08:11:58.832Z"
   },
   {
    "duration": 5,
    "start_time": "2022-03-11T08:11:58.908Z"
   },
   {
    "duration": 18,
    "start_time": "2022-03-11T08:11:58.917Z"
   },
   {
    "duration": 6,
    "start_time": "2022-03-11T08:11:58.938Z"
   },
   {
    "duration": 60,
    "start_time": "2022-03-11T08:11:58.946Z"
   },
   {
    "duration": 3,
    "start_time": "2022-03-11T08:11:59.010Z"
   },
   {
    "duration": 9,
    "start_time": "2022-03-11T08:11:59.016Z"
   },
   {
    "duration": 10,
    "start_time": "2022-03-11T08:11:59.027Z"
   },
   {
    "duration": 8,
    "start_time": "2022-03-11T08:11:59.039Z"
   },
   {
    "duration": 39,
    "start_time": "2022-03-11T08:11:59.050Z"
   },
   {
    "duration": 24,
    "start_time": "2022-03-11T08:11:59.092Z"
   },
   {
    "duration": 18,
    "start_time": "2022-03-11T08:11:59.119Z"
   },
   {
    "duration": 14,
    "start_time": "2022-03-11T08:11:59.139Z"
   },
   {
    "duration": 40,
    "start_time": "2022-03-11T08:11:59.155Z"
   },
   {
    "duration": 21,
    "start_time": "2022-03-11T08:11:59.198Z"
   },
   {
    "duration": 6,
    "start_time": "2022-03-11T08:11:59.222Z"
   },
   {
    "duration": 55,
    "start_time": "2022-03-11T08:11:59.230Z"
   },
   {
    "duration": 510,
    "start_time": "2022-03-11T08:11:59.292Z"
   },
   {
    "duration": 6,
    "start_time": "2022-03-11T08:11:59.806Z"
   },
   {
    "duration": 8156,
    "start_time": "2022-03-11T08:11:59.815Z"
   },
   {
    "duration": 40,
    "start_time": "2022-03-11T08:12:07.973Z"
   },
   {
    "duration": 24,
    "start_time": "2022-03-11T08:12:08.015Z"
   },
   {
    "duration": 61,
    "start_time": "2022-03-11T08:12:08.042Z"
   },
   {
    "duration": 17,
    "start_time": "2022-03-11T08:12:08.106Z"
   },
   {
    "duration": 40,
    "start_time": "2022-03-11T08:12:08.125Z"
   },
   {
    "duration": 18,
    "start_time": "2022-03-11T08:12:08.168Z"
   },
   {
    "duration": 25,
    "start_time": "2022-03-11T08:12:08.189Z"
   },
   {
    "duration": 454,
    "start_time": "2022-03-11T08:12:08.217Z"
   },
   {
    "duration": -561,
    "start_time": "2022-03-11T08:12:09.235Z"
   },
   {
    "duration": -563,
    "start_time": "2022-03-11T08:12:09.239Z"
   },
   {
    "duration": -565,
    "start_time": "2022-03-11T08:12:09.242Z"
   },
   {
    "duration": -567,
    "start_time": "2022-03-11T08:12:09.245Z"
   },
   {
    "duration": -568,
    "start_time": "2022-03-11T08:12:09.248Z"
   },
   {
    "duration": -578,
    "start_time": "2022-03-11T08:12:09.260Z"
   },
   {
    "duration": -578,
    "start_time": "2022-03-11T08:12:09.263Z"
   },
   {
    "duration": -580,
    "start_time": "2022-03-11T08:12:09.267Z"
   },
   {
    "duration": -580,
    "start_time": "2022-03-11T08:12:09.270Z"
   },
   {
    "duration": -580,
    "start_time": "2022-03-11T08:12:09.273Z"
   },
   {
    "duration": -582,
    "start_time": "2022-03-11T08:12:09.277Z"
   },
   {
    "duration": -583,
    "start_time": "2022-03-11T08:12:09.281Z"
   },
   {
    "duration": -584,
    "start_time": "2022-03-11T08:12:09.284Z"
   },
   {
    "duration": -585,
    "start_time": "2022-03-11T08:12:09.287Z"
   },
   {
    "duration": -587,
    "start_time": "2022-03-11T08:12:09.290Z"
   },
   {
    "duration": -589,
    "start_time": "2022-03-11T08:12:09.294Z"
   },
   {
    "duration": -591,
    "start_time": "2022-03-11T08:12:09.297Z"
   },
   {
    "duration": -593,
    "start_time": "2022-03-11T08:12:09.301Z"
   },
   {
    "duration": -595,
    "start_time": "2022-03-11T08:12:09.304Z"
   },
   {
    "duration": -597,
    "start_time": "2022-03-11T08:12:09.308Z"
   },
   {
    "duration": -598,
    "start_time": "2022-03-11T08:12:09.311Z"
   },
   {
    "duration": -600,
    "start_time": "2022-03-11T08:12:09.315Z"
   },
   {
    "duration": -601,
    "start_time": "2022-03-11T08:12:09.318Z"
   },
   {
    "duration": -604,
    "start_time": "2022-03-11T08:12:09.322Z"
   },
   {
    "duration": -605,
    "start_time": "2022-03-11T08:12:09.325Z"
   },
   {
    "duration": -608,
    "start_time": "2022-03-11T08:12:09.329Z"
   },
   {
    "duration": -608,
    "start_time": "2022-03-11T08:12:09.331Z"
   },
   {
    "duration": -610,
    "start_time": "2022-03-11T08:12:09.335Z"
   },
   {
    "duration": -621,
    "start_time": "2022-03-11T08:12:09.347Z"
   },
   {
    "duration": -564,
    "start_time": "2022-03-11T08:12:09.351Z"
   },
   {
    "duration": -565,
    "start_time": "2022-03-11T08:12:09.354Z"
   },
   {
    "duration": -565,
    "start_time": "2022-03-11T08:12:09.357Z"
   },
   {
    "duration": -567,
    "start_time": "2022-03-11T08:12:09.361Z"
   },
   {
    "duration": -567,
    "start_time": "2022-03-11T08:12:09.365Z"
   },
   {
    "duration": -568,
    "start_time": "2022-03-11T08:12:09.368Z"
   },
   {
    "duration": -570,
    "start_time": "2022-03-11T08:12:09.372Z"
   },
   {
    "duration": -572,
    "start_time": "2022-03-11T08:12:09.376Z"
   },
   {
    "duration": -574,
    "start_time": "2022-03-11T08:12:09.380Z"
   },
   {
    "duration": -609,
    "start_time": "2022-03-11T08:12:09.417Z"
   },
   {
    "duration": -610,
    "start_time": "2022-03-11T08:12:09.420Z"
   },
   {
    "duration": -702,
    "start_time": "2022-03-11T08:12:09.514Z"
   },
   {
    "duration": -721,
    "start_time": "2022-03-11T08:12:09.536Z"
   },
   {
    "duration": -723,
    "start_time": "2022-03-11T08:12:09.539Z"
   },
   {
    "duration": -730,
    "start_time": "2022-03-11T08:12:09.548Z"
   },
   {
    "duration": 26,
    "start_time": "2022-03-11T08:14:34.120Z"
   },
   {
    "duration": 4,
    "start_time": "2022-03-11T08:14:41.201Z"
   },
   {
    "duration": 97,
    "start_time": "2022-03-11T08:14:41.208Z"
   },
   {
    "duration": 8,
    "start_time": "2022-03-11T08:14:41.309Z"
   },
   {
    "duration": 15,
    "start_time": "2022-03-11T08:14:41.320Z"
   },
   {
    "duration": 80,
    "start_time": "2022-03-11T08:14:41.338Z"
   },
   {
    "duration": 91,
    "start_time": "2022-03-11T08:14:41.421Z"
   },
   {
    "duration": 8,
    "start_time": "2022-03-11T08:14:41.516Z"
   },
   {
    "duration": 21,
    "start_time": "2022-03-11T08:14:41.527Z"
   },
   {
    "duration": 36,
    "start_time": "2022-03-11T08:14:41.550Z"
   },
   {
    "duration": 39,
    "start_time": "2022-03-11T08:14:41.592Z"
   },
   {
    "duration": 3,
    "start_time": "2022-03-11T08:14:41.633Z"
   },
   {
    "duration": 9,
    "start_time": "2022-03-11T08:14:41.638Z"
   },
   {
    "duration": 42,
    "start_time": "2022-03-11T08:14:41.650Z"
   },
   {
    "duration": 8,
    "start_time": "2022-03-11T08:14:41.695Z"
   },
   {
    "duration": 15,
    "start_time": "2022-03-11T08:14:41.706Z"
   },
   {
    "duration": 7,
    "start_time": "2022-03-11T08:14:41.725Z"
   },
   {
    "duration": 12,
    "start_time": "2022-03-11T08:14:41.735Z"
   },
   {
    "duration": 23,
    "start_time": "2022-03-11T08:14:41.786Z"
   },
   {
    "duration": 19,
    "start_time": "2022-03-11T08:14:41.816Z"
   },
   {
    "duration": 19,
    "start_time": "2022-03-11T08:14:41.839Z"
   },
   {
    "duration": 14,
    "start_time": "2022-03-11T08:14:41.881Z"
   },
   {
    "duration": 39,
    "start_time": "2022-03-11T08:14:41.899Z"
   },
   {
    "duration": 532,
    "start_time": "2022-03-11T08:14:41.940Z"
   },
   {
    "duration": 10,
    "start_time": "2022-03-11T08:14:42.474Z"
   },
   {
    "duration": 8463,
    "start_time": "2022-03-11T08:14:42.487Z"
   },
   {
    "duration": 50,
    "start_time": "2022-03-11T08:14:50.952Z"
   },
   {
    "duration": 27,
    "start_time": "2022-03-11T08:14:51.005Z"
   },
   {
    "duration": 24,
    "start_time": "2022-03-11T08:14:51.035Z"
   },
   {
    "duration": 31,
    "start_time": "2022-03-11T08:14:51.088Z"
   },
   {
    "duration": 39,
    "start_time": "2022-03-11T08:14:51.121Z"
   },
   {
    "duration": 4,
    "start_time": "2022-03-11T08:14:51.164Z"
   },
   {
    "duration": 46,
    "start_time": "2022-03-11T08:14:51.171Z"
   },
   {
    "duration": 21,
    "start_time": "2022-03-11T08:14:51.220Z"
   },
   {
    "duration": 11,
    "start_time": "2022-03-11T08:14:51.244Z"
   },
   {
    "duration": 1125,
    "start_time": "2022-03-11T08:14:51.257Z"
   },
   {
    "duration": 44,
    "start_time": "2022-03-11T08:14:52.386Z"
   },
   {
    "duration": 964,
    "start_time": "2022-03-11T08:14:52.433Z"
   },
   {
    "duration": 38,
    "start_time": "2022-03-11T08:14:53.402Z"
   },
   {
    "duration": 66,
    "start_time": "2022-03-11T08:14:53.443Z"
   },
   {
    "duration": 442,
    "start_time": "2022-03-11T08:14:53.511Z"
   },
   {
    "duration": -525,
    "start_time": "2022-03-11T08:14:54.483Z"
   },
   {
    "duration": -532,
    "start_time": "2022-03-11T08:14:54.492Z"
   },
   {
    "duration": -534,
    "start_time": "2022-03-11T08:14:54.496Z"
   },
   {
    "duration": -535,
    "start_time": "2022-03-11T08:14:54.500Z"
   },
   {
    "duration": -541,
    "start_time": "2022-03-11T08:14:54.508Z"
   },
   {
    "duration": -560,
    "start_time": "2022-03-11T08:14:54.529Z"
   },
   {
    "duration": -563,
    "start_time": "2022-03-11T08:14:54.534Z"
   },
   {
    "duration": -566,
    "start_time": "2022-03-11T08:14:54.539Z"
   },
   {
    "duration": -567,
    "start_time": "2022-03-11T08:14:54.543Z"
   },
   {
    "duration": -569,
    "start_time": "2022-03-11T08:14:54.547Z"
   },
   {
    "duration": -572,
    "start_time": "2022-03-11T08:14:54.552Z"
   },
   {
    "duration": -573,
    "start_time": "2022-03-11T08:14:54.563Z"
   },
   {
    "duration": -571,
    "start_time": "2022-03-11T08:14:54.568Z"
   },
   {
    "duration": -574,
    "start_time": "2022-03-11T08:14:54.573Z"
   },
   {
    "duration": -577,
    "start_time": "2022-03-11T08:14:54.578Z"
   },
   {
    "duration": -579,
    "start_time": "2022-03-11T08:14:54.582Z"
   },
   {
    "duration": -582,
    "start_time": "2022-03-11T08:14:54.588Z"
   },
   {
    "duration": -584,
    "start_time": "2022-03-11T08:14:54.592Z"
   },
   {
    "duration": -644,
    "start_time": "2022-03-11T08:14:54.654Z"
   },
   {
    "duration": -647,
    "start_time": "2022-03-11T08:14:54.658Z"
   },
   {
    "duration": -662,
    "start_time": "2022-03-11T08:14:54.675Z"
   },
   {
    "duration": -771,
    "start_time": "2022-03-11T08:14:54.786Z"
   },
   {
    "duration": -774,
    "start_time": "2022-03-11T08:14:54.790Z"
   },
   {
    "duration": -776,
    "start_time": "2022-03-11T08:14:54.794Z"
   },
   {
    "duration": -777,
    "start_time": "2022-03-11T08:14:54.798Z"
   },
   {
    "duration": -779,
    "start_time": "2022-03-11T08:14:54.802Z"
   },
   {
    "duration": -872,
    "start_time": "2022-03-11T08:14:54.897Z"
   },
   {
    "duration": -875,
    "start_time": "2022-03-11T08:14:54.902Z"
   },
   {
    "duration": -879,
    "start_time": "2022-03-11T08:14:54.908Z"
   },
   {
    "duration": -882,
    "start_time": "2022-03-11T08:14:54.913Z"
   },
   {
    "duration": -885,
    "start_time": "2022-03-11T08:14:54.918Z"
   },
   {
    "duration": -833,
    "start_time": "2022-03-11T08:14:54.922Z"
   },
   {
    "duration": -835,
    "start_time": "2022-03-11T08:14:54.927Z"
   },
   {
    "duration": -839,
    "start_time": "2022-03-11T08:14:54.938Z"
   },
   {
    "duration": -844,
    "start_time": "2022-03-11T08:14:54.944Z"
   },
   {
    "duration": -847,
    "start_time": "2022-03-11T08:14:54.949Z"
   },
   {
    "duration": -852,
    "start_time": "2022-03-11T08:14:54.956Z"
   },
   {
    "duration": 949,
    "start_time": "2022-03-11T08:15:47.840Z"
   },
   {
    "duration": 848,
    "start_time": "2022-03-11T08:16:11.230Z"
   },
   {
    "duration": 936,
    "start_time": "2022-03-11T08:18:56.296Z"
   },
   {
    "duration": 21,
    "start_time": "2022-03-11T08:28:41.143Z"
   },
   {
    "duration": 464,
    "start_time": "2022-03-11T08:28:43.212Z"
   },
   {
    "duration": 32,
    "start_time": "2022-03-11T09:18:09.883Z"
   },
   {
    "duration": 35,
    "start_time": "2022-03-11T09:24:37.770Z"
   },
   {
    "duration": 37,
    "start_time": "2022-03-11T09:29:10.108Z"
   },
   {
    "duration": 35,
    "start_time": "2022-03-11T09:29:11.376Z"
   },
   {
    "duration": 5,
    "start_time": "2022-03-11T09:31:54.320Z"
   },
   {
    "duration": 78,
    "start_time": "2022-03-11T09:31:54.329Z"
   },
   {
    "duration": 6,
    "start_time": "2022-03-11T09:31:54.410Z"
   },
   {
    "duration": 9,
    "start_time": "2022-03-11T09:31:54.419Z"
   },
   {
    "duration": 72,
    "start_time": "2022-03-11T09:31:54.430Z"
   },
   {
    "duration": 107,
    "start_time": "2022-03-11T09:31:54.505Z"
   },
   {
    "duration": 6,
    "start_time": "2022-03-11T09:31:54.616Z"
   },
   {
    "duration": 24,
    "start_time": "2022-03-11T09:31:54.625Z"
   },
   {
    "duration": 33,
    "start_time": "2022-03-11T09:31:54.651Z"
   },
   {
    "duration": 38,
    "start_time": "2022-03-11T09:31:54.687Z"
   },
   {
    "duration": 5,
    "start_time": "2022-03-11T09:31:54.728Z"
   },
   {
    "duration": 13,
    "start_time": "2022-03-11T09:31:54.735Z"
   },
   {
    "duration": 31,
    "start_time": "2022-03-11T09:31:54.751Z"
   },
   {
    "duration": 8,
    "start_time": "2022-03-11T09:31:54.785Z"
   },
   {
    "duration": 19,
    "start_time": "2022-03-11T09:31:54.796Z"
   },
   {
    "duration": 8,
    "start_time": "2022-03-11T09:31:54.818Z"
   },
   {
    "duration": 11,
    "start_time": "2022-03-11T09:31:54.829Z"
   },
   {
    "duration": 42,
    "start_time": "2022-03-11T09:31:54.842Z"
   },
   {
    "duration": 30,
    "start_time": "2022-03-11T09:31:54.890Z"
   },
   {
    "duration": 21,
    "start_time": "2022-03-11T09:31:54.924Z"
   },
   {
    "duration": 22,
    "start_time": "2022-03-11T09:31:54.947Z"
   },
   {
    "duration": 34,
    "start_time": "2022-03-11T09:31:54.971Z"
   },
   {
    "duration": 546,
    "start_time": "2022-03-11T09:31:55.007Z"
   },
   {
    "duration": 6,
    "start_time": "2022-03-11T09:31:55.556Z"
   },
   {
    "duration": 7521,
    "start_time": "2022-03-11T09:31:55.564Z"
   },
   {
    "duration": 27,
    "start_time": "2022-03-11T09:32:03.088Z"
   },
   {
    "duration": 34,
    "start_time": "2022-03-11T09:32:03.117Z"
   },
   {
    "duration": 42,
    "start_time": "2022-03-11T09:32:03.153Z"
   },
   {
    "duration": 21,
    "start_time": "2022-03-11T09:32:03.199Z"
   },
   {
    "duration": 35,
    "start_time": "2022-03-11T09:32:03.222Z"
   },
   {
    "duration": 16,
    "start_time": "2022-03-11T09:32:03.259Z"
   },
   {
    "duration": 246,
    "start_time": "2022-03-11T09:32:03.282Z"
   },
   {
    "duration": 48,
    "start_time": "2022-03-11T09:32:03.531Z"
   },
   {
    "duration": 40,
    "start_time": "2022-03-11T09:32:03.581Z"
   },
   {
    "duration": 828,
    "start_time": "2022-03-11T09:32:03.624Z"
   },
   {
    "duration": 52,
    "start_time": "2022-03-11T09:32:04.454Z"
   },
   {
    "duration": 911,
    "start_time": "2022-03-11T09:32:04.508Z"
   },
   {
    "duration": 35,
    "start_time": "2022-03-11T09:32:05.422Z"
   },
   {
    "duration": 51,
    "start_time": "2022-03-11T09:32:05.459Z"
   },
   {
    "duration": 29,
    "start_time": "2022-03-11T09:32:05.512Z"
   },
   {
    "duration": 441,
    "start_time": "2022-03-11T09:32:05.543Z"
   },
   {
    "duration": 261,
    "start_time": "2022-03-11T09:32:05.987Z"
   },
   {
    "duration": -411,
    "start_time": "2022-03-11T09:32:06.662Z"
   },
   {
    "duration": -421,
    "start_time": "2022-03-11T09:32:06.674Z"
   },
   {
    "duration": -425,
    "start_time": "2022-03-11T09:32:06.679Z"
   },
   {
    "duration": -428,
    "start_time": "2022-03-11T09:32:06.684Z"
   },
   {
    "duration": -440,
    "start_time": "2022-03-11T09:32:06.697Z"
   },
   {
    "duration": -442,
    "start_time": "2022-03-11T09:32:06.701Z"
   },
   {
    "duration": -444,
    "start_time": "2022-03-11T09:32:06.704Z"
   },
   {
    "duration": -446,
    "start_time": "2022-03-11T09:32:06.708Z"
   },
   {
    "duration": -449,
    "start_time": "2022-03-11T09:32:06.713Z"
   },
   {
    "duration": -451,
    "start_time": "2022-03-11T09:32:06.716Z"
   },
   {
    "duration": -466,
    "start_time": "2022-03-11T09:32:06.733Z"
   },
   {
    "duration": -475,
    "start_time": "2022-03-11T09:32:06.743Z"
   },
   {
    "duration": -666,
    "start_time": "2022-03-11T09:32:06.935Z"
   },
   {
    "duration": -667,
    "start_time": "2022-03-11T09:32:06.938Z"
   },
   {
    "duration": -670,
    "start_time": "2022-03-11T09:32:06.942Z"
   },
   {
    "duration": -673,
    "start_time": "2022-03-11T09:32:06.946Z"
   },
   {
    "duration": -675,
    "start_time": "2022-03-11T09:32:06.950Z"
   },
   {
    "duration": -677,
    "start_time": "2022-03-11T09:32:06.953Z"
   },
   {
    "duration": -680,
    "start_time": "2022-03-11T09:32:06.957Z"
   },
   {
    "duration": -682,
    "start_time": "2022-03-11T09:32:06.961Z"
   },
   {
    "duration": -684,
    "start_time": "2022-03-11T09:32:06.964Z"
   },
   {
    "duration": -687,
    "start_time": "2022-03-11T09:32:06.968Z"
   },
   {
    "duration": -688,
    "start_time": "2022-03-11T09:32:06.971Z"
   },
   {
    "duration": -690,
    "start_time": "2022-03-11T09:32:06.975Z"
   },
   {
    "duration": -693,
    "start_time": "2022-03-11T09:32:06.979Z"
   },
   {
    "duration": -695,
    "start_time": "2022-03-11T09:32:06.983Z"
   },
   {
    "duration": -698,
    "start_time": "2022-03-11T09:32:06.987Z"
   },
   {
    "duration": -700,
    "start_time": "2022-03-11T09:32:06.991Z"
   },
   {
    "duration": -709,
    "start_time": "2022-03-11T09:32:07.002Z"
   },
   {
    "duration": -711,
    "start_time": "2022-03-11T09:32:07.005Z"
   },
   {
    "duration": -713,
    "start_time": "2022-03-11T09:32:07.009Z"
   },
   {
    "duration": -721,
    "start_time": "2022-03-11T09:32:07.019Z"
   },
   {
    "duration": -758,
    "start_time": "2022-03-11T09:32:07.058Z"
   },
   {
    "duration": -770,
    "start_time": "2022-03-11T09:32:07.072Z"
   },
   {
    "duration": -805,
    "start_time": "2022-03-11T09:32:07.108Z"
   },
   {
    "duration": -807,
    "start_time": "2022-03-11T09:32:07.112Z"
   },
   {
    "duration": 21,
    "start_time": "2022-03-11T09:37:56.518Z"
   },
   {
    "duration": 22,
    "start_time": "2022-03-11T09:38:20.296Z"
   },
   {
    "duration": 1291,
    "start_time": "2022-03-11T09:39:50.345Z"
   },
   {
    "duration": 592,
    "start_time": "2022-03-11T09:40:56.994Z"
   },
   {
    "duration": 566,
    "start_time": "2022-03-11T09:41:13.209Z"
   },
   {
    "duration": 519,
    "start_time": "2022-03-11T09:41:24.234Z"
   },
   {
    "duration": 541,
    "start_time": "2022-03-11T09:49:09.396Z"
   },
   {
    "duration": 322,
    "start_time": "2022-03-11T09:49:46.922Z"
   },
   {
    "duration": 352,
    "start_time": "2022-03-11T09:50:10.137Z"
   },
   {
    "duration": 290,
    "start_time": "2022-03-11T09:50:42.515Z"
   },
   {
    "duration": 312,
    "start_time": "2022-03-11T09:51:51.898Z"
   },
   {
    "duration": 315,
    "start_time": "2022-03-11T09:52:26.181Z"
   },
   {
    "duration": 309,
    "start_time": "2022-03-11T09:52:52.405Z"
   },
   {
    "duration": 6,
    "start_time": "2022-03-11T10:12:02.366Z"
   },
   {
    "duration": 6,
    "start_time": "2022-03-11T10:12:25.551Z"
   },
   {
    "duration": 8,
    "start_time": "2022-03-11T10:13:13.650Z"
   },
   {
    "duration": 5,
    "start_time": "2022-03-11T10:15:09.630Z"
   },
   {
    "duration": 3754,
    "start_time": "2022-03-11T10:16:33.741Z"
   },
   {
    "duration": 267,
    "start_time": "2022-03-11T10:19:44.392Z"
   },
   {
    "duration": 362,
    "start_time": "2022-03-11T11:44:44.228Z"
   },
   {
    "duration": 93,
    "start_time": "2022-03-11T11:45:07.001Z"
   },
   {
    "duration": -157,
    "start_time": "2022-03-11T11:45:21.750Z"
   },
   {
    "duration": 92,
    "start_time": "2022-03-11T11:45:54.905Z"
   },
   {
    "duration": 291,
    "start_time": "2022-03-11T11:46:02.873Z"
   },
   {
    "duration": 290,
    "start_time": "2022-03-11T11:46:33.836Z"
   },
   {
    "duration": 321,
    "start_time": "2022-03-11T11:46:42.205Z"
   },
   {
    "duration": 4142,
    "start_time": "2022-03-11T11:46:49.984Z"
   },
   {
    "duration": 4,
    "start_time": "2022-03-11T12:34:25.257Z"
   },
   {
    "duration": 85,
    "start_time": "2022-03-11T12:34:25.264Z"
   },
   {
    "duration": 7,
    "start_time": "2022-03-11T12:34:25.382Z"
   },
   {
    "duration": 9,
    "start_time": "2022-03-11T12:34:25.392Z"
   },
   {
    "duration": 31,
    "start_time": "2022-03-11T12:34:25.403Z"
   },
   {
    "duration": 50,
    "start_time": "2022-03-11T12:34:25.482Z"
   },
   {
    "duration": 7,
    "start_time": "2022-03-11T12:34:25.535Z"
   },
   {
    "duration": 50,
    "start_time": "2022-03-11T12:34:25.544Z"
   },
   {
    "duration": 8,
    "start_time": "2022-03-11T12:34:25.596Z"
   },
   {
    "duration": 43,
    "start_time": "2022-03-11T12:34:25.607Z"
   },
   {
    "duration": 3,
    "start_time": "2022-03-11T12:34:25.652Z"
   },
   {
    "duration": 25,
    "start_time": "2022-03-11T12:34:25.657Z"
   },
   {
    "duration": 17,
    "start_time": "2022-03-11T12:34:25.684Z"
   },
   {
    "duration": 7,
    "start_time": "2022-03-11T12:34:25.704Z"
   },
   {
    "duration": 10,
    "start_time": "2022-03-11T12:34:25.714Z"
   },
   {
    "duration": 7,
    "start_time": "2022-03-11T12:34:25.727Z"
   },
   {
    "duration": 50,
    "start_time": "2022-03-11T12:34:25.737Z"
   },
   {
    "duration": 13,
    "start_time": "2022-03-11T12:34:25.789Z"
   },
   {
    "duration": 15,
    "start_time": "2022-03-11T12:34:25.807Z"
   },
   {
    "duration": 21,
    "start_time": "2022-03-11T12:34:25.826Z"
   },
   {
    "duration": 32,
    "start_time": "2022-03-11T12:34:25.850Z"
   },
   {
    "duration": 26,
    "start_time": "2022-03-11T12:34:25.884Z"
   },
   {
    "duration": 484,
    "start_time": "2022-03-11T12:34:25.912Z"
   },
   {
    "duration": 5,
    "start_time": "2022-03-11T12:34:26.399Z"
   },
   {
    "duration": 7718,
    "start_time": "2022-03-11T12:34:26.406Z"
   },
   {
    "duration": 25,
    "start_time": "2022-03-11T12:34:34.126Z"
   },
   {
    "duration": 43,
    "start_time": "2022-03-11T12:34:34.153Z"
   },
   {
    "duration": 22,
    "start_time": "2022-03-11T12:34:34.199Z"
   },
   {
    "duration": 17,
    "start_time": "2022-03-11T12:34:34.223Z"
   },
   {
    "duration": 54,
    "start_time": "2022-03-11T12:34:34.243Z"
   },
   {
    "duration": 8,
    "start_time": "2022-03-11T12:34:34.299Z"
   },
   {
    "duration": 21,
    "start_time": "2022-03-11T12:34:34.309Z"
   },
   {
    "duration": 19,
    "start_time": "2022-03-11T12:34:34.333Z"
   },
   {
    "duration": 41,
    "start_time": "2022-03-11T12:34:34.355Z"
   },
   {
    "duration": 798,
    "start_time": "2022-03-11T12:34:34.399Z"
   },
   {
    "duration": 32,
    "start_time": "2022-03-11T12:34:35.200Z"
   },
   {
    "duration": 1130,
    "start_time": "2022-03-11T12:34:35.235Z"
   },
   {
    "duration": 44,
    "start_time": "2022-03-11T12:34:36.367Z"
   },
   {
    "duration": 31,
    "start_time": "2022-03-11T12:34:36.414Z"
   },
   {
    "duration": 338,
    "start_time": "2022-03-11T12:34:36.448Z"
   },
   {
    "duration": 4227,
    "start_time": "2022-03-11T12:34:36.789Z"
   },
   {
    "duration": -772,
    "start_time": "2022-03-11T12:34:41.792Z"
   },
   {
    "duration": -786,
    "start_time": "2022-03-11T12:34:41.808Z"
   },
   {
    "duration": -801,
    "start_time": "2022-03-11T12:34:41.824Z"
   },
   {
    "duration": -810,
    "start_time": "2022-03-11T12:34:41.835Z"
   },
   {
    "duration": -815,
    "start_time": "2022-03-11T12:34:41.841Z"
   },
   {
    "duration": -825,
    "start_time": "2022-03-11T12:34:41.852Z"
   },
   {
    "duration": -829,
    "start_time": "2022-03-11T12:34:41.858Z"
   },
   {
    "duration": -838,
    "start_time": "2022-03-11T12:34:41.868Z"
   },
   {
    "duration": -842,
    "start_time": "2022-03-11T12:34:41.874Z"
   },
   {
    "duration": -852,
    "start_time": "2022-03-11T12:34:41.885Z"
   },
   {
    "duration": -856,
    "start_time": "2022-03-11T12:34:41.891Z"
   },
   {
    "duration": -867,
    "start_time": "2022-03-11T12:34:41.903Z"
   },
   {
    "duration": -870,
    "start_time": "2022-03-11T12:34:41.908Z"
   },
   {
    "duration": -881,
    "start_time": "2022-03-11T12:34:41.920Z"
   },
   {
    "duration": -884,
    "start_time": "2022-03-11T12:34:41.924Z"
   },
   {
    "duration": -895,
    "start_time": "2022-03-11T12:34:41.937Z"
   },
   {
    "duration": -899,
    "start_time": "2022-03-11T12:34:41.942Z"
   },
   {
    "duration": -900,
    "start_time": "2022-03-11T12:34:41.945Z"
   },
   {
    "duration": -903,
    "start_time": "2022-03-11T12:34:41.949Z"
   },
   {
    "duration": -905,
    "start_time": "2022-03-11T12:34:41.953Z"
   },
   {
    "duration": -908,
    "start_time": "2022-03-11T12:34:41.957Z"
   },
   {
    "duration": -910,
    "start_time": "2022-03-11T12:34:41.960Z"
   },
   {
    "duration": -913,
    "start_time": "2022-03-11T12:34:41.965Z"
   },
   {
    "duration": -916,
    "start_time": "2022-03-11T12:34:41.969Z"
   },
   {
    "duration": -919,
    "start_time": "2022-03-11T12:34:41.973Z"
   },
   {
    "duration": -921,
    "start_time": "2022-03-11T12:34:41.977Z"
   },
   {
    "duration": -922,
    "start_time": "2022-03-11T12:34:41.980Z"
   },
   {
    "duration": -902,
    "start_time": "2022-03-11T12:34:41.984Z"
   },
   {
    "duration": -903,
    "start_time": "2022-03-11T12:34:41.987Z"
   },
   {
    "duration": -905,
    "start_time": "2022-03-11T12:34:41.991Z"
   },
   {
    "duration": -907,
    "start_time": "2022-03-11T12:34:41.995Z"
   },
   {
    "duration": -909,
    "start_time": "2022-03-11T12:34:41.999Z"
   },
   {
    "duration": -911,
    "start_time": "2022-03-11T12:34:42.002Z"
   },
   {
    "duration": -914,
    "start_time": "2022-03-11T12:34:42.006Z"
   },
   {
    "duration": -915,
    "start_time": "2022-03-11T12:34:42.009Z"
   },
   {
    "duration": -919,
    "start_time": "2022-03-11T12:34:42.014Z"
   },
   {
    "duration": -922,
    "start_time": "2022-03-11T12:34:42.019Z"
   },
   {
    "duration": -925,
    "start_time": "2022-03-11T12:34:42.023Z"
   },
   {
    "duration": -928,
    "start_time": "2022-03-11T12:34:42.027Z"
   },
   {
    "duration": 3580,
    "start_time": "2022-03-11T12:37:58.726Z"
   },
   {
    "duration": 4098,
    "start_time": "2022-03-11T12:38:06.490Z"
   },
   {
    "duration": 689,
    "start_time": "2022-03-11T12:39:30.629Z"
   },
   {
    "duration": 9,
    "start_time": "2022-03-11T13:00:58.512Z"
   },
   {
    "duration": 9,
    "start_time": "2022-03-11T13:01:37.339Z"
   },
   {
    "duration": 9,
    "start_time": "2022-03-11T13:01:55.892Z"
   },
   {
    "duration": 11,
    "start_time": "2022-03-11T13:02:11.141Z"
   },
   {
    "duration": 10,
    "start_time": "2022-03-11T13:03:48.608Z"
   },
   {
    "duration": 8,
    "start_time": "2022-03-11T13:04:17.990Z"
   },
   {
    "duration": 10,
    "start_time": "2022-03-11T13:07:45.849Z"
   },
   {
    "duration": 532,
    "start_time": "2022-03-11T13:08:00.263Z"
   },
   {
    "duration": 12,
    "start_time": "2022-03-11T13:08:30.151Z"
   },
   {
    "duration": 4117,
    "start_time": "2022-03-11T13:09:22.898Z"
   },
   {
    "duration": 84,
    "start_time": "2022-03-11T13:09:41.939Z"
   },
   {
    "duration": 595,
    "start_time": "2022-03-11T13:10:12.931Z"
   },
   {
    "duration": 513,
    "start_time": "2022-03-11T13:10:33.951Z"
   },
   {
    "duration": 281,
    "start_time": "2022-03-11T13:11:26.524Z"
   },
   {
    "duration": 6,
    "start_time": "2022-03-11T13:11:58.048Z"
   },
   {
    "duration": 416,
    "start_time": "2022-03-11T13:12:11.684Z"
   },
   {
    "duration": 6,
    "start_time": "2022-03-11T13:12:21.784Z"
   },
   {
    "duration": 286,
    "start_time": "2022-03-11T13:13:46.180Z"
   },
   {
    "duration": 6,
    "start_time": "2022-03-11T13:14:07.733Z"
   },
   {
    "duration": 6,
    "start_time": "2022-03-11T13:14:18.631Z"
   },
   {
    "duration": 7,
    "start_time": "2022-03-11T13:17:18.166Z"
   },
   {
    "duration": 6,
    "start_time": "2022-03-11T13:17:55.741Z"
   },
   {
    "duration": 276,
    "start_time": "2022-03-11T13:18:26.067Z"
   },
   {
    "duration": 4628,
    "start_time": "2022-03-11T13:19:57.984Z"
   },
   {
    "duration": 9,
    "start_time": "2022-03-11T13:20:36.324Z"
   },
   {
    "duration": 13,
    "start_time": "2022-03-11T13:21:05.670Z"
   },
   {
    "duration": 4421,
    "start_time": "2022-03-11T13:22:08.013Z"
   },
   {
    "duration": 4991,
    "start_time": "2022-03-11T13:22:23.621Z"
   },
   {
    "duration": 15,
    "start_time": "2022-03-11T13:22:53.136Z"
   },
   {
    "duration": 14,
    "start_time": "2022-03-11T13:22:57.905Z"
   },
   {
    "duration": 13,
    "start_time": "2022-03-11T13:23:08.080Z"
   },
   {
    "duration": 338,
    "start_time": "2022-03-11T13:23:15.265Z"
   },
   {
    "duration": 11,
    "start_time": "2022-03-11T13:23:17.468Z"
   },
   {
    "duration": 11,
    "start_time": "2022-03-11T13:24:01.856Z"
   },
   {
    "duration": 316,
    "start_time": "2022-03-11T13:24:09.085Z"
   },
   {
    "duration": 10,
    "start_time": "2022-03-11T13:24:12.039Z"
   },
   {
    "duration": 5093,
    "start_time": "2022-03-11T13:24:23.045Z"
   },
   {
    "duration": 4669,
    "start_time": "2022-03-11T13:24:36.008Z"
   },
   {
    "duration": 21,
    "start_time": "2022-03-11T13:24:49.687Z"
   },
   {
    "duration": 12,
    "start_time": "2022-03-11T13:24:55.264Z"
   },
   {
    "duration": 12,
    "start_time": "2022-03-11T13:25:18.163Z"
   },
   {
    "duration": 12,
    "start_time": "2022-03-11T13:25:43.562Z"
   },
   {
    "duration": 12,
    "start_time": "2022-03-11T13:26:01.335Z"
   },
   {
    "duration": 13,
    "start_time": "2022-03-11T13:26:10.440Z"
   },
   {
    "duration": 12,
    "start_time": "2022-03-11T13:26:33.427Z"
   },
   {
    "duration": 10,
    "start_time": "2022-03-11T13:27:24.357Z"
   },
   {
    "duration": 10,
    "start_time": "2022-03-11T13:28:29.740Z"
   },
   {
    "duration": 3,
    "start_time": "2022-03-11T13:29:57.584Z"
   },
   {
    "duration": 100,
    "start_time": "2022-03-11T13:29:57.590Z"
   },
   {
    "duration": 8,
    "start_time": "2022-03-11T13:29:57.693Z"
   },
   {
    "duration": 11,
    "start_time": "2022-03-11T13:29:57.704Z"
   },
   {
    "duration": 83,
    "start_time": "2022-03-11T13:29:57.718Z"
   },
   {
    "duration": 49,
    "start_time": "2022-03-11T13:29:57.804Z"
   },
   {
    "duration": 9,
    "start_time": "2022-03-11T13:29:57.888Z"
   },
   {
    "duration": 45,
    "start_time": "2022-03-11T13:29:57.900Z"
   },
   {
    "duration": 4,
    "start_time": "2022-03-11T13:29:57.949Z"
   },
   {
    "duration": 59,
    "start_time": "2022-03-11T13:29:57.956Z"
   },
   {
    "duration": 3,
    "start_time": "2022-03-11T13:29:58.017Z"
   },
   {
    "duration": 23,
    "start_time": "2022-03-11T13:29:58.022Z"
   },
   {
    "duration": 31,
    "start_time": "2022-03-11T13:29:58.048Z"
   },
   {
    "duration": 42,
    "start_time": "2022-03-11T13:29:58.081Z"
   },
   {
    "duration": 24,
    "start_time": "2022-03-11T13:29:58.125Z"
   },
   {
    "duration": 17,
    "start_time": "2022-03-11T13:29:58.152Z"
   },
   {
    "duration": 50,
    "start_time": "2022-03-11T13:29:58.172Z"
   },
   {
    "duration": 32,
    "start_time": "2022-03-11T13:29:58.225Z"
   },
   {
    "duration": 34,
    "start_time": "2022-03-11T13:29:58.265Z"
   },
   {
    "duration": 26,
    "start_time": "2022-03-11T13:29:58.304Z"
   },
   {
    "duration": 15,
    "start_time": "2022-03-11T13:29:58.332Z"
   },
   {
    "duration": 41,
    "start_time": "2022-03-11T13:29:58.350Z"
   },
   {
    "duration": 564,
    "start_time": "2022-03-11T13:29:58.394Z"
   },
   {
    "duration": 6,
    "start_time": "2022-03-11T13:29:58.960Z"
   },
   {
    "duration": 9042,
    "start_time": "2022-03-11T13:29:58.968Z"
   },
   {
    "duration": 28,
    "start_time": "2022-03-11T13:30:08.013Z"
   },
   {
    "duration": 61,
    "start_time": "2022-03-11T13:30:08.044Z"
   },
   {
    "duration": 29,
    "start_time": "2022-03-11T13:30:08.108Z"
   },
   {
    "duration": 49,
    "start_time": "2022-03-11T13:30:08.140Z"
   },
   {
    "duration": 44,
    "start_time": "2022-03-11T13:30:08.193Z"
   },
   {
    "duration": 59,
    "start_time": "2022-03-11T13:30:08.240Z"
   },
   {
    "duration": 34,
    "start_time": "2022-03-11T13:30:08.301Z"
   },
   {
    "duration": 48,
    "start_time": "2022-03-11T13:30:08.338Z"
   },
   {
    "duration": 36,
    "start_time": "2022-03-11T13:30:08.389Z"
   },
   {
    "duration": 877,
    "start_time": "2022-03-11T13:30:08.428Z"
   },
   {
    "duration": 56,
    "start_time": "2022-03-11T13:30:09.308Z"
   },
   {
    "duration": 1327,
    "start_time": "2022-03-11T13:30:09.367Z"
   },
   {
    "duration": 39,
    "start_time": "2022-03-11T13:30:10.696Z"
   },
   {
    "duration": 65,
    "start_time": "2022-03-11T13:30:10.738Z"
   },
   {
    "duration": 340,
    "start_time": "2022-03-11T13:30:10.806Z"
   },
   {
    "duration": 10,
    "start_time": "2022-03-11T13:30:11.148Z"
   },
   {
    "duration": 62,
    "start_time": "2022-03-11T13:30:11.160Z"
   },
   {
    "duration": 443,
    "start_time": "2022-03-11T13:30:11.224Z"
   },
   {
    "duration": 596,
    "start_time": "2022-03-11T13:30:11.670Z"
   },
   {
    "duration": -701,
    "start_time": "2022-03-11T13:30:12.972Z"
   },
   {
    "duration": -703,
    "start_time": "2022-03-11T13:30:12.976Z"
   },
   {
    "duration": -713,
    "start_time": "2022-03-11T13:30:12.989Z"
   },
   {
    "duration": -714,
    "start_time": "2022-03-11T13:30:12.992Z"
   },
   {
    "duration": -716,
    "start_time": "2022-03-11T13:30:12.996Z"
   },
   {
    "duration": -717,
    "start_time": "2022-03-11T13:30:12.999Z"
   },
   {
    "duration": -720,
    "start_time": "2022-03-11T13:30:13.004Z"
   },
   {
    "duration": -723,
    "start_time": "2022-03-11T13:30:13.008Z"
   },
   {
    "duration": -726,
    "start_time": "2022-03-11T13:30:13.012Z"
   },
   {
    "duration": -728,
    "start_time": "2022-03-11T13:30:13.016Z"
   },
   {
    "duration": -731,
    "start_time": "2022-03-11T13:30:13.020Z"
   },
   {
    "duration": -733,
    "start_time": "2022-03-11T13:30:13.024Z"
   },
   {
    "duration": -733,
    "start_time": "2022-03-11T13:30:13.027Z"
   },
   {
    "duration": -735,
    "start_time": "2022-03-11T13:30:13.031Z"
   },
   {
    "duration": -737,
    "start_time": "2022-03-11T13:30:13.035Z"
   },
   {
    "duration": -738,
    "start_time": "2022-03-11T13:30:13.038Z"
   },
   {
    "duration": -740,
    "start_time": "2022-03-11T13:30:13.042Z"
   },
   {
    "duration": -742,
    "start_time": "2022-03-11T13:30:13.046Z"
   },
   {
    "duration": -744,
    "start_time": "2022-03-11T13:30:13.050Z"
   },
   {
    "duration": -753,
    "start_time": "2022-03-11T13:30:13.061Z"
   },
   {
    "duration": -755,
    "start_time": "2022-03-11T13:30:13.065Z"
   },
   {
    "duration": -757,
    "start_time": "2022-03-11T13:30:13.069Z"
   },
   {
    "duration": -759,
    "start_time": "2022-03-11T13:30:13.073Z"
   },
   {
    "duration": -761,
    "start_time": "2022-03-11T13:30:13.076Z"
   },
   {
    "duration": -764,
    "start_time": "2022-03-11T13:30:13.081Z"
   },
   {
    "duration": -765,
    "start_time": "2022-03-11T13:30:13.084Z"
   },
   {
    "duration": -768,
    "start_time": "2022-03-11T13:30:13.088Z"
   },
   {
    "duration": -771,
    "start_time": "2022-03-11T13:30:13.092Z"
   },
   {
    "duration": -772,
    "start_time": "2022-03-11T13:30:13.095Z"
   },
   {
    "duration": -775,
    "start_time": "2022-03-11T13:30:13.099Z"
   },
   {
    "duration": -777,
    "start_time": "2022-03-11T13:30:13.103Z"
   },
   {
    "duration": -779,
    "start_time": "2022-03-11T13:30:13.106Z"
   },
   {
    "duration": -781,
    "start_time": "2022-03-11T13:30:13.110Z"
   },
   {
    "duration": -783,
    "start_time": "2022-03-11T13:30:13.113Z"
   },
   {
    "duration": -786,
    "start_time": "2022-03-11T13:30:13.117Z"
   },
   {
    "duration": -788,
    "start_time": "2022-03-11T13:30:13.120Z"
   },
   {
    "duration": 21,
    "start_time": "2022-03-11T13:33:12.647Z"
   },
   {
    "duration": 448,
    "start_time": "2022-03-11T13:33:13.771Z"
   },
   {
    "duration": 295,
    "start_time": "2022-03-11T13:33:20.800Z"
   },
   {
    "duration": 28,
    "start_time": "2022-03-11T13:33:35.948Z"
   },
   {
    "duration": 30,
    "start_time": "2022-03-11T13:33:36.668Z"
   },
   {
    "duration": 448,
    "start_time": "2022-03-11T13:33:37.389Z"
   },
   {
    "duration": 25,
    "start_time": "2022-03-11T13:33:41.889Z"
   },
   {
    "duration": 5,
    "start_time": "2022-03-11T13:33:47.032Z"
   },
   {
    "duration": 89,
    "start_time": "2022-03-11T13:33:47.040Z"
   },
   {
    "duration": 6,
    "start_time": "2022-03-11T13:33:47.132Z"
   },
   {
    "duration": 9,
    "start_time": "2022-03-11T13:33:47.141Z"
   },
   {
    "duration": 65,
    "start_time": "2022-03-11T13:33:47.153Z"
   },
   {
    "duration": 98,
    "start_time": "2022-03-11T13:33:47.221Z"
   },
   {
    "duration": 6,
    "start_time": "2022-03-11T13:33:47.322Z"
   },
   {
    "duration": 24,
    "start_time": "2022-03-11T13:33:47.331Z"
   },
   {
    "duration": 27,
    "start_time": "2022-03-11T13:33:47.357Z"
   },
   {
    "duration": 45,
    "start_time": "2022-03-11T13:33:47.386Z"
   },
   {
    "duration": 3,
    "start_time": "2022-03-11T13:33:47.434Z"
   },
   {
    "duration": 9,
    "start_time": "2022-03-11T13:33:47.439Z"
   },
   {
    "duration": 47,
    "start_time": "2022-03-11T13:33:47.451Z"
   },
   {
    "duration": 9,
    "start_time": "2022-03-11T13:33:47.500Z"
   },
   {
    "duration": 13,
    "start_time": "2022-03-11T13:33:47.511Z"
   },
   {
    "duration": 14,
    "start_time": "2022-03-11T13:33:47.526Z"
   },
   {
    "duration": 12,
    "start_time": "2022-03-11T13:33:47.543Z"
   },
   {
    "duration": 34,
    "start_time": "2022-03-11T13:33:47.558Z"
   },
   {
    "duration": 17,
    "start_time": "2022-03-11T13:33:47.602Z"
   },
   {
    "duration": 20,
    "start_time": "2022-03-11T13:33:47.622Z"
   },
   {
    "duration": 7,
    "start_time": "2022-03-11T13:33:47.645Z"
   },
   {
    "duration": 59,
    "start_time": "2022-03-11T13:33:47.654Z"
   },
   {
    "duration": 516,
    "start_time": "2022-03-11T13:33:47.716Z"
   },
   {
    "duration": 5,
    "start_time": "2022-03-11T13:33:48.234Z"
   },
   {
    "duration": 7843,
    "start_time": "2022-03-11T13:33:48.242Z"
   },
   {
    "duration": 28,
    "start_time": "2022-03-11T13:33:56.088Z"
   },
   {
    "duration": 23,
    "start_time": "2022-03-11T13:33:56.119Z"
   },
   {
    "duration": 59,
    "start_time": "2022-03-11T13:33:56.145Z"
   },
   {
    "duration": 18,
    "start_time": "2022-03-11T13:33:56.207Z"
   },
   {
    "duration": 22,
    "start_time": "2022-03-11T13:33:56.228Z"
   },
   {
    "duration": 34,
    "start_time": "2022-03-11T13:33:56.252Z"
   },
   {
    "duration": 19,
    "start_time": "2022-03-11T13:33:56.289Z"
   },
   {
    "duration": 17,
    "start_time": "2022-03-11T13:33:56.311Z"
   },
   {
    "duration": 12,
    "start_time": "2022-03-11T13:33:56.331Z"
   },
   {
    "duration": 844,
    "start_time": "2022-03-11T13:33:56.346Z"
   },
   {
    "duration": 34,
    "start_time": "2022-03-11T13:33:57.193Z"
   },
   {
    "duration": 883,
    "start_time": "2022-03-11T13:33:57.229Z"
   },
   {
    "duration": 38,
    "start_time": "2022-03-11T13:33:58.114Z"
   },
   {
    "duration": 56,
    "start_time": "2022-03-11T13:33:58.155Z"
   },
   {
    "duration": 311,
    "start_time": "2022-03-11T13:33:58.214Z"
   },
   {
    "duration": 11,
    "start_time": "2022-03-11T13:33:58.528Z"
   },
   {
    "duration": 46,
    "start_time": "2022-03-11T13:33:58.541Z"
   },
   {
    "duration": 21,
    "start_time": "2022-03-11T13:33:58.589Z"
   },
   {
    "duration": 731,
    "start_time": "2022-03-11T13:33:58.612Z"
   },
   {
    "duration": 40,
    "start_time": "2022-03-11T13:33:59.346Z"
   },
   {
    "duration": 235,
    "start_time": "2022-03-11T13:33:59.388Z"
   },
   {
    "duration": 14,
    "start_time": "2022-03-11T13:33:59.626Z"
   },
   {
    "duration": 275,
    "start_time": "2022-03-11T13:33:59.642Z"
   },
   {
    "duration": 20,
    "start_time": "2022-03-11T13:33:59.920Z"
   },
   {
    "duration": 283,
    "start_time": "2022-03-11T13:33:59.943Z"
   },
   {
    "duration": 18,
    "start_time": "2022-03-11T13:34:00.229Z"
   },
   {
    "duration": 35,
    "start_time": "2022-03-11T13:34:00.250Z"
   },
   {
    "duration": 8,
    "start_time": "2022-03-11T13:34:00.288Z"
   },
   {
    "duration": 2956,
    "start_time": "2022-03-11T13:34:00.298Z"
   },
   {
    "duration": 6,
    "start_time": "2022-03-11T13:34:03.261Z"
   },
   {
    "duration": 3034,
    "start_time": "2022-03-11T13:34:03.281Z"
   },
   {
    "duration": 8,
    "start_time": "2022-03-11T13:34:06.317Z"
   },
   {
    "duration": 21,
    "start_time": "2022-03-11T13:34:06.327Z"
   },
   {
    "duration": 2301,
    "start_time": "2022-03-11T13:34:06.350Z"
   },
   {
    "duration": 5,
    "start_time": "2022-03-11T13:34:08.654Z"
   },
   {
    "duration": 2890,
    "start_time": "2022-03-11T13:34:08.662Z"
   },
   {
    "duration": 8,
    "start_time": "2022-03-11T13:34:11.554Z"
   },
   {
    "duration": 36,
    "start_time": "2022-03-11T13:34:11.565Z"
   },
   {
    "duration": 2596,
    "start_time": "2022-03-11T13:34:11.605Z"
   },
   {
    "duration": 7,
    "start_time": "2022-03-11T13:34:14.203Z"
   },
   {
    "duration": 2758,
    "start_time": "2022-03-11T13:34:14.213Z"
   },
   {
    "duration": 22,
    "start_time": "2022-03-11T13:34:16.974Z"
   },
   {
    "duration": 439,
    "start_time": "2022-03-11T13:34:16.999Z"
   },
   {
    "duration": 25,
    "start_time": "2022-03-11T13:34:17.440Z"
   },
   {
    "duration": 28,
    "start_time": "2022-03-11T13:34:17.483Z"
   },
   {
    "duration": 34,
    "start_time": "2022-03-11T13:34:17.514Z"
   },
   {
    "duration": 49,
    "start_time": "2022-03-11T13:34:17.550Z"
   },
   {
    "duration": 23,
    "start_time": "2022-03-11T13:34:17.602Z"
   },
   {
    "duration": 67,
    "start_time": "2022-03-11T13:34:17.627Z"
   },
   {
    "duration": 320,
    "start_time": "2022-03-11T13:34:17.697Z"
   },
   {
    "duration": 313,
    "start_time": "2022-03-11T13:34:18.020Z"
   },
   {
    "duration": 338,
    "start_time": "2022-03-11T13:34:18.335Z"
   },
   {
    "duration": 37,
    "start_time": "2022-03-11T13:34:18.676Z"
   },
   {
    "duration": 7,
    "start_time": "2022-03-11T13:34:18.716Z"
   },
   {
    "duration": 65,
    "start_time": "2022-03-11T13:34:18.725Z"
   },
   {
    "duration": 7,
    "start_time": "2022-03-11T13:34:18.793Z"
   },
   {
    "duration": 12,
    "start_time": "2022-03-11T13:48:35.397Z"
   },
   {
    "duration": 17,
    "start_time": "2022-03-11T13:48:42.446Z"
   },
   {
    "duration": 413,
    "start_time": "2022-03-11T13:52:17.024Z"
   },
   {
    "duration": 415,
    "start_time": "2022-03-11T13:52:30.491Z"
   },
   {
    "duration": 415,
    "start_time": "2022-03-11T13:53:58.773Z"
   },
   {
    "duration": 412,
    "start_time": "2022-03-11T13:54:04.621Z"
   },
   {
    "duration": 580,
    "start_time": "2022-03-11T14:11:24.382Z"
   },
   {
    "duration": 4,
    "start_time": "2022-03-11T14:14:36.687Z"
   },
   {
    "duration": 10,
    "start_time": "2022-03-11T14:15:24.498Z"
   },
   {
    "duration": 969,
    "start_time": "2022-03-11T14:17:46.396Z"
   },
   {
    "duration": 553,
    "start_time": "2022-03-11T14:19:15.350Z"
   },
   {
    "duration": 617,
    "start_time": "2022-03-11T14:19:23.339Z"
   },
   {
    "duration": 501,
    "start_time": "2022-03-11T14:19:50.066Z"
   },
   {
    "duration": 404,
    "start_time": "2022-03-11T14:20:51.787Z"
   },
   {
    "duration": 504,
    "start_time": "2022-03-11T14:20:56.485Z"
   },
   {
    "duration": 560,
    "start_time": "2022-03-11T14:21:01.710Z"
   },
   {
    "duration": 1303,
    "start_time": "2022-03-11T14:21:12.290Z"
   },
   {
    "duration": 2249,
    "start_time": "2022-03-11T14:21:19.405Z"
   },
   {
    "duration": 513,
    "start_time": "2022-03-11T14:21:28.325Z"
   },
   {
    "duration": 2273,
    "start_time": "2022-03-11T14:21:33.472Z"
   },
   {
    "duration": 894,
    "start_time": "2022-03-11T14:21:45.147Z"
   },
   {
    "duration": 865,
    "start_time": "2022-03-11T14:21:56.829Z"
   },
   {
    "duration": 1054,
    "start_time": "2022-03-11T14:22:10.722Z"
   },
   {
    "duration": 1006,
    "start_time": "2022-03-11T14:23:47.652Z"
   },
   {
    "duration": 819,
    "start_time": "2022-03-11T14:24:11.733Z"
   },
   {
    "duration": 825,
    "start_time": "2022-03-11T14:26:38.748Z"
   },
   {
    "duration": 31,
    "start_time": "2022-03-11T14:28:04.252Z"
   },
   {
    "duration": 7,
    "start_time": "2022-03-11T14:28:06.107Z"
   },
   {
    "duration": 30,
    "start_time": "2022-03-11T14:28:26.293Z"
   },
   {
    "duration": 7,
    "start_time": "2022-03-11T14:28:26.846Z"
   },
   {
    "duration": 1652,
    "start_time": "2022-03-12T12:36:03.584Z"
   },
   {
    "duration": 71,
    "start_time": "2022-03-12T12:36:05.239Z"
   },
   {
    "duration": 6,
    "start_time": "2022-03-12T12:36:05.313Z"
   },
   {
    "duration": 11,
    "start_time": "2022-03-12T12:36:05.322Z"
   },
   {
    "duration": 59,
    "start_time": "2022-03-12T12:36:05.336Z"
   },
   {
    "duration": 50,
    "start_time": "2022-03-12T12:36:05.398Z"
   },
   {
    "duration": 6,
    "start_time": "2022-03-12T12:36:05.451Z"
   },
   {
    "duration": 18,
    "start_time": "2022-03-12T12:36:05.486Z"
   },
   {
    "duration": 7,
    "start_time": "2022-03-12T12:36:05.509Z"
   },
   {
    "duration": 64,
    "start_time": "2022-03-12T12:36:05.518Z"
   },
   {
    "duration": 3,
    "start_time": "2022-03-12T12:36:05.585Z"
   },
   {
    "duration": 11,
    "start_time": "2022-03-12T12:36:05.591Z"
   },
   {
    "duration": 10,
    "start_time": "2022-03-12T12:36:05.605Z"
   },
   {
    "duration": 9,
    "start_time": "2022-03-12T12:36:05.618Z"
   },
   {
    "duration": 19,
    "start_time": "2022-03-12T12:36:05.629Z"
   },
   {
    "duration": 33,
    "start_time": "2022-03-12T12:36:05.650Z"
   },
   {
    "duration": 17,
    "start_time": "2022-03-12T12:36:05.686Z"
   },
   {
    "duration": 20,
    "start_time": "2022-03-12T12:36:05.705Z"
   },
   {
    "duration": 19,
    "start_time": "2022-03-12T12:36:05.727Z"
   },
   {
    "duration": 36,
    "start_time": "2022-03-12T12:36:05.748Z"
   },
   {
    "duration": 14,
    "start_time": "2022-03-12T12:36:05.787Z"
   },
   {
    "duration": 24,
    "start_time": "2022-03-12T12:36:05.803Z"
   },
   {
    "duration": 508,
    "start_time": "2022-03-12T12:36:05.835Z"
   },
   {
    "duration": 6,
    "start_time": "2022-03-12T12:36:06.349Z"
   },
   {
    "duration": 7243,
    "start_time": "2022-03-12T12:36:06.357Z"
   },
   {
    "duration": 26,
    "start_time": "2022-03-12T12:36:13.603Z"
   },
   {
    "duration": 22,
    "start_time": "2022-03-12T12:36:13.631Z"
   },
   {
    "duration": 22,
    "start_time": "2022-03-12T12:36:13.683Z"
   },
   {
    "duration": 17,
    "start_time": "2022-03-12T12:36:13.708Z"
   },
   {
    "duration": 19,
    "start_time": "2022-03-12T12:36:13.727Z"
   },
   {
    "duration": 36,
    "start_time": "2022-03-12T12:36:13.748Z"
   },
   {
    "duration": 24,
    "start_time": "2022-03-12T12:36:13.786Z"
   },
   {
    "duration": 20,
    "start_time": "2022-03-12T12:36:13.812Z"
   },
   {
    "duration": 6,
    "start_time": "2022-03-12T12:36:13.835Z"
   },
   {
    "duration": 862,
    "start_time": "2022-03-12T12:36:13.844Z"
   },
   {
    "duration": 34,
    "start_time": "2022-03-12T12:36:14.709Z"
   },
   {
    "duration": 961,
    "start_time": "2022-03-12T12:36:14.746Z"
   },
   {
    "duration": 37,
    "start_time": "2022-03-12T12:36:15.709Z"
   },
   {
    "duration": 39,
    "start_time": "2022-03-12T12:36:15.748Z"
   },
   {
    "duration": 512,
    "start_time": "2022-03-12T12:36:15.789Z"
   },
   {
    "duration": 11,
    "start_time": "2022-03-12T12:36:16.304Z"
   },
   {
    "duration": 33,
    "start_time": "2022-03-12T12:36:16.317Z"
   },
   {
    "duration": 35,
    "start_time": "2022-03-12T12:36:16.353Z"
   },
   {
    "duration": 675,
    "start_time": "2022-03-12T12:36:16.391Z"
   },
   {
    "duration": 25,
    "start_time": "2022-03-12T12:36:17.069Z"
   },
   {
    "duration": 332,
    "start_time": "2022-03-12T12:36:17.097Z"
   },
   {
    "duration": 15,
    "start_time": "2022-03-12T12:36:17.431Z"
   },
   {
    "duration": 285,
    "start_time": "2022-03-12T12:36:17.448Z"
   },
   {
    "duration": 18,
    "start_time": "2022-03-12T12:36:17.736Z"
   },
   {
    "duration": 266,
    "start_time": "2022-03-12T12:36:17.756Z"
   },
   {
    "duration": 17,
    "start_time": "2022-03-12T12:36:18.025Z"
   },
   {
    "duration": 785,
    "start_time": "2022-03-12T12:36:18.045Z"
   },
   {
    "duration": 7,
    "start_time": "2022-03-12T12:36:18.833Z"
   },
   {
    "duration": 10,
    "start_time": "2022-03-12T12:36:18.842Z"
   },
   {
    "duration": 2851,
    "start_time": "2022-03-12T12:36:18.854Z"
   },
   {
    "duration": 6,
    "start_time": "2022-03-12T12:36:21.707Z"
   },
   {
    "duration": 3122,
    "start_time": "2022-03-12T12:36:21.715Z"
   },
   {
    "duration": 7,
    "start_time": "2022-03-12T12:36:24.839Z"
   },
   {
    "duration": 8,
    "start_time": "2022-03-12T12:36:24.848Z"
   },
   {
    "duration": 2261,
    "start_time": "2022-03-12T12:36:24.858Z"
   },
   {
    "duration": 6,
    "start_time": "2022-03-12T12:36:27.121Z"
   },
   {
    "duration": 2642,
    "start_time": "2022-03-12T12:36:27.129Z"
   },
   {
    "duration": 13,
    "start_time": "2022-03-12T12:36:29.774Z"
   },
   {
    "duration": 6,
    "start_time": "2022-03-12T12:36:29.790Z"
   },
   {
    "duration": 2584,
    "start_time": "2022-03-12T12:36:29.798Z"
   },
   {
    "duration": 6,
    "start_time": "2022-03-12T12:36:32.384Z"
   },
   {
    "duration": 2749,
    "start_time": "2022-03-12T12:36:32.392Z"
   },
   {
    "duration": 16,
    "start_time": "2022-03-12T12:36:35.148Z"
   },
   {
    "duration": 440,
    "start_time": "2022-03-12T12:36:35.167Z"
   },
   {
    "duration": 26,
    "start_time": "2022-03-12T12:36:35.610Z"
   },
   {
    "duration": 49,
    "start_time": "2022-03-12T12:36:35.638Z"
   },
   {
    "duration": 24,
    "start_time": "2022-03-12T12:36:35.689Z"
   },
   {
    "duration": 23,
    "start_time": "2022-03-12T12:36:35.716Z"
   },
   {
    "duration": 55,
    "start_time": "2022-03-12T12:36:35.742Z"
   },
   {
    "duration": 22,
    "start_time": "2022-03-12T12:36:35.800Z"
   },
   {
    "duration": 313,
    "start_time": "2022-03-12T12:36:35.824Z"
   },
   {
    "duration": 295,
    "start_time": "2022-03-12T12:36:36.140Z"
   },
   {
    "duration": 322,
    "start_time": "2022-03-12T12:36:36.438Z"
   },
   {
    "duration": 41,
    "start_time": "2022-03-12T12:36:36.763Z"
   },
   {
    "duration": 8,
    "start_time": "2022-03-12T12:36:36.806Z"
   },
   {
    "duration": 30,
    "start_time": "2022-03-12T12:36:36.817Z"
   },
   {
    "duration": 35,
    "start_time": "2022-03-12T12:36:36.850Z"
   },
   {
    "duration": 1091,
    "start_time": "2022-03-14T09:19:20.897Z"
   },
   {
    "duration": 57,
    "start_time": "2022-03-14T09:19:21.989Z"
   },
   {
    "duration": 5,
    "start_time": "2022-03-14T09:19:22.048Z"
   },
   {
    "duration": 7,
    "start_time": "2022-03-14T09:19:22.055Z"
   },
   {
    "duration": 20,
    "start_time": "2022-03-14T09:19:22.063Z"
   },
   {
    "duration": 49,
    "start_time": "2022-03-14T09:19:22.085Z"
   },
   {
    "duration": 4,
    "start_time": "2022-03-14T09:19:22.135Z"
   },
   {
    "duration": 13,
    "start_time": "2022-03-14T09:19:22.141Z"
   },
   {
    "duration": 3,
    "start_time": "2022-03-14T09:19:22.157Z"
   },
   {
    "duration": 20,
    "start_time": "2022-03-14T09:19:22.162Z"
   },
   {
    "duration": 2,
    "start_time": "2022-03-14T09:19:22.183Z"
   },
   {
    "duration": 6,
    "start_time": "2022-03-14T09:19:22.187Z"
   },
   {
    "duration": 38,
    "start_time": "2022-03-14T09:19:22.195Z"
   },
   {
    "duration": 4,
    "start_time": "2022-03-14T09:19:22.234Z"
   },
   {
    "duration": 10,
    "start_time": "2022-03-14T09:19:22.239Z"
   },
   {
    "duration": 9,
    "start_time": "2022-03-14T09:19:22.250Z"
   },
   {
    "duration": 13,
    "start_time": "2022-03-14T09:19:22.261Z"
   },
   {
    "duration": 11,
    "start_time": "2022-03-14T09:19:22.276Z"
   },
   {
    "duration": 11,
    "start_time": "2022-03-14T09:19:22.289Z"
   },
   {
    "duration": 39,
    "start_time": "2022-03-14T09:19:22.301Z"
   },
   {
    "duration": 5,
    "start_time": "2022-03-14T09:19:22.342Z"
   },
   {
    "duration": 15,
    "start_time": "2022-03-14T09:19:22.349Z"
   },
   {
    "duration": 315,
    "start_time": "2022-03-14T09:19:22.366Z"
   },
   {
    "duration": 5,
    "start_time": "2022-03-14T09:19:22.683Z"
   },
   {
    "duration": 4177,
    "start_time": "2022-03-14T09:19:22.689Z"
   },
   {
    "duration": 15,
    "start_time": "2022-03-14T09:19:26.867Z"
   },
   {
    "duration": 14,
    "start_time": "2022-03-14T09:19:26.886Z"
   },
   {
    "duration": 35,
    "start_time": "2022-03-14T09:19:26.902Z"
   },
   {
    "duration": 12,
    "start_time": "2022-03-14T09:19:26.939Z"
   },
   {
    "duration": 11,
    "start_time": "2022-03-14T09:19:26.952Z"
   },
   {
    "duration": 5,
    "start_time": "2022-03-14T09:19:26.965Z"
   },
   {
    "duration": 13,
    "start_time": "2022-03-14T09:19:26.971Z"
   },
   {
    "duration": 13,
    "start_time": "2022-03-14T09:19:26.985Z"
   },
   {
    "duration": 5,
    "start_time": "2022-03-14T09:19:27.033Z"
   },
   {
    "duration": 476,
    "start_time": "2022-03-14T09:19:27.040Z"
   },
   {
    "duration": 28,
    "start_time": "2022-03-14T09:19:27.519Z"
   },
   {
    "duration": 499,
    "start_time": "2022-03-14T09:19:27.549Z"
   },
   {
    "duration": 22,
    "start_time": "2022-03-14T09:19:28.049Z"
   },
   {
    "duration": 18,
    "start_time": "2022-03-14T09:19:28.073Z"
   },
   {
    "duration": 373,
    "start_time": "2022-03-14T09:19:28.093Z"
   },
   {
    "duration": 7,
    "start_time": "2022-03-14T09:19:28.467Z"
   },
   {
    "duration": 15,
    "start_time": "2022-03-14T09:19:28.475Z"
   },
   {
    "duration": 13,
    "start_time": "2022-03-14T09:19:28.492Z"
   },
   {
    "duration": 285,
    "start_time": "2022-03-14T09:19:28.506Z"
   },
   {
    "duration": 13,
    "start_time": "2022-03-14T09:19:28.793Z"
   },
   {
    "duration": 142,
    "start_time": "2022-03-14T09:19:28.808Z"
   },
   {
    "duration": 9,
    "start_time": "2022-03-14T09:19:28.952Z"
   },
   {
    "duration": 171,
    "start_time": "2022-03-14T09:19:28.963Z"
   },
   {
    "duration": 12,
    "start_time": "2022-03-14T09:19:29.136Z"
   },
   {
    "duration": 162,
    "start_time": "2022-03-14T09:19:29.150Z"
   },
   {
    "duration": 12,
    "start_time": "2022-03-14T09:19:29.314Z"
   },
   {
    "duration": 472,
    "start_time": "2022-03-14T09:19:29.333Z"
   },
   {
    "duration": 5,
    "start_time": "2022-03-14T09:19:29.807Z"
   },
   {
    "duration": 6,
    "start_time": "2022-03-14T09:19:29.813Z"
   },
   {
    "duration": 1706,
    "start_time": "2022-03-14T09:19:29.821Z"
   },
   {
    "duration": 4,
    "start_time": "2022-03-14T09:19:31.533Z"
   },
   {
    "duration": 1840,
    "start_time": "2022-03-14T09:19:31.539Z"
   },
   {
    "duration": 6,
    "start_time": "2022-03-14T09:19:33.381Z"
   },
   {
    "duration": 6,
    "start_time": "2022-03-14T09:19:33.388Z"
   },
   {
    "duration": 1424,
    "start_time": "2022-03-14T09:19:33.395Z"
   },
   {
    "duration": 4,
    "start_time": "2022-03-14T09:19:34.821Z"
   },
   {
    "duration": 1555,
    "start_time": "2022-03-14T09:19:34.833Z"
   },
   {
    "duration": 6,
    "start_time": "2022-03-14T09:19:36.390Z"
   },
   {
    "duration": 6,
    "start_time": "2022-03-14T09:19:36.397Z"
   },
   {
    "duration": 1483,
    "start_time": "2022-03-14T09:19:36.405Z"
   },
   {
    "duration": 4,
    "start_time": "2022-03-14T09:19:37.889Z"
   },
   {
    "duration": 1683,
    "start_time": "2022-03-14T09:19:37.895Z"
   },
   {
    "duration": 11,
    "start_time": "2022-03-14T09:19:39.580Z"
   },
   {
    "duration": 252,
    "start_time": "2022-03-14T09:19:39.592Z"
   },
   {
    "duration": 17,
    "start_time": "2022-03-14T09:19:39.845Z"
   },
   {
    "duration": 15,
    "start_time": "2022-03-14T09:19:39.863Z"
   },
   {
    "duration": 15,
    "start_time": "2022-03-14T09:19:39.879Z"
   },
   {
    "duration": 39,
    "start_time": "2022-03-14T09:19:39.895Z"
   },
   {
    "duration": 19,
    "start_time": "2022-03-14T09:19:39.936Z"
   },
   {
    "duration": 20,
    "start_time": "2022-03-14T09:19:39.957Z"
   },
   {
    "duration": 2,
    "start_time": "2022-03-14T09:19:39.978Z"
   },
   {
    "duration": 5,
    "start_time": "2022-03-14T09:19:39.982Z"
   },
   {
    "duration": 5,
    "start_time": "2022-03-14T09:19:39.989Z"
   },
   {
    "duration": 51,
    "start_time": "2022-03-14T09:19:39.996Z"
   },
   {
    "duration": 6,
    "start_time": "2022-03-14T09:19:40.048Z"
   },
   {
    "duration": 23,
    "start_time": "2022-03-14T09:19:40.059Z"
   },
   {
    "duration": 5,
    "start_time": "2022-03-14T09:19:40.084Z"
   },
   {
    "duration": 187,
    "start_time": "2022-03-14T09:20:21.251Z"
   },
   {
    "duration": 1005,
    "start_time": "2022-03-14T09:48:54.108Z"
   },
   {
    "duration": 752,
    "start_time": "2022-03-14T09:49:20.245Z"
   },
   {
    "duration": 168,
    "start_time": "2022-03-14T09:50:01.278Z"
   },
   {
    "duration": 175,
    "start_time": "2022-03-14T09:56:43.692Z"
   },
   {
    "duration": 172,
    "start_time": "2022-03-14T09:57:18.204Z"
   },
   {
    "duration": 169,
    "start_time": "2022-03-14T09:57:42.459Z"
   },
   {
    "duration": 116,
    "start_time": "2022-03-14T09:57:54.258Z"
   },
   {
    "duration": 242,
    "start_time": "2022-03-14T09:58:01.735Z"
   },
   {
    "duration": 145,
    "start_time": "2022-03-14T10:00:51.778Z"
   },
   {
    "duration": 145,
    "start_time": "2022-03-14T10:01:38.350Z"
   },
   {
    "duration": 146,
    "start_time": "2022-03-14T10:02:10.216Z"
   },
   {
    "duration": 145,
    "start_time": "2022-03-14T10:02:50.804Z"
   },
   {
    "duration": 146,
    "start_time": "2022-03-14T10:02:55.741Z"
   },
   {
    "duration": 142,
    "start_time": "2022-03-14T10:03:29.120Z"
   },
   {
    "duration": 146,
    "start_time": "2022-03-14T10:03:34.818Z"
   },
   {
    "duration": 141,
    "start_time": "2022-03-14T10:03:43.821Z"
   },
   {
    "duration": 162,
    "start_time": "2022-03-14T10:06:08.532Z"
   },
   {
    "duration": 156,
    "start_time": "2022-03-14T10:06:16.904Z"
   },
   {
    "duration": 150,
    "start_time": "2022-03-14T10:06:25.889Z"
   },
   {
    "duration": 314,
    "start_time": "2022-03-15T05:42:05.893Z"
   },
   {
    "duration": 1006,
    "start_time": "2022-03-15T05:42:11.524Z"
   },
   {
    "duration": 53,
    "start_time": "2022-03-15T05:42:12.531Z"
   },
   {
    "duration": 4,
    "start_time": "2022-03-15T05:42:12.586Z"
   },
   {
    "duration": 6,
    "start_time": "2022-03-15T05:42:12.592Z"
   },
   {
    "duration": 17,
    "start_time": "2022-03-15T05:42:12.599Z"
   },
   {
    "duration": 27,
    "start_time": "2022-03-15T05:42:12.617Z"
   },
   {
    "duration": 3,
    "start_time": "2022-03-15T05:42:12.645Z"
   },
   {
    "duration": 34,
    "start_time": "2022-03-15T05:42:12.649Z"
   },
   {
    "duration": 4,
    "start_time": "2022-03-15T05:42:12.686Z"
   },
   {
    "duration": 19,
    "start_time": "2022-03-15T05:42:12.692Z"
   },
   {
    "duration": 2,
    "start_time": "2022-03-15T05:42:12.712Z"
   },
   {
    "duration": 7,
    "start_time": "2022-03-15T05:42:12.715Z"
   },
   {
    "duration": 8,
    "start_time": "2022-03-15T05:42:12.723Z"
   },
   {
    "duration": 5,
    "start_time": "2022-03-15T05:42:12.732Z"
   },
   {
    "duration": 7,
    "start_time": "2022-03-15T05:42:12.738Z"
   },
   {
    "duration": 5,
    "start_time": "2022-03-15T05:42:12.747Z"
   },
   {
    "duration": 29,
    "start_time": "2022-03-15T05:42:12.754Z"
   },
   {
    "duration": 6,
    "start_time": "2022-03-15T05:42:12.784Z"
   },
   {
    "duration": 11,
    "start_time": "2022-03-15T05:42:12.791Z"
   },
   {
    "duration": 12,
    "start_time": "2022-03-15T05:42:12.804Z"
   },
   {
    "duration": 8,
    "start_time": "2022-03-15T05:42:12.818Z"
   },
   {
    "duration": 12,
    "start_time": "2022-03-15T05:42:12.827Z"
   },
   {
    "duration": 286,
    "start_time": "2022-03-15T05:42:12.840Z"
   },
   {
    "duration": 4,
    "start_time": "2022-03-15T05:42:13.127Z"
   },
   {
    "duration": 4014,
    "start_time": "2022-03-15T05:42:13.132Z"
   },
   {
    "duration": 14,
    "start_time": "2022-03-15T05:42:17.148Z"
   },
   {
    "duration": 26,
    "start_time": "2022-03-15T05:42:17.166Z"
   },
   {
    "duration": 12,
    "start_time": "2022-03-15T05:42:17.194Z"
   },
   {
    "duration": 9,
    "start_time": "2022-03-15T05:42:17.208Z"
   },
   {
    "duration": 11,
    "start_time": "2022-03-15T05:42:17.218Z"
   },
   {
    "duration": 8,
    "start_time": "2022-03-15T05:42:17.230Z"
   },
   {
    "duration": 20,
    "start_time": "2022-03-15T05:42:17.239Z"
   },
   {
    "duration": 28,
    "start_time": "2022-03-15T05:42:17.260Z"
   },
   {
    "duration": 4,
    "start_time": "2022-03-15T05:42:17.289Z"
   },
   {
    "duration": 456,
    "start_time": "2022-03-15T05:42:17.294Z"
   },
   {
    "duration": 30,
    "start_time": "2022-03-15T05:42:17.752Z"
   },
   {
    "duration": 457,
    "start_time": "2022-03-15T05:42:17.783Z"
   },
   {
    "duration": 21,
    "start_time": "2022-03-15T05:42:18.241Z"
   },
   {
    "duration": 31,
    "start_time": "2022-03-15T05:42:18.264Z"
   },
   {
    "duration": 336,
    "start_time": "2022-03-15T05:42:18.296Z"
   },
   {
    "duration": 6,
    "start_time": "2022-03-15T05:42:18.633Z"
   },
   {
    "duration": 19,
    "start_time": "2022-03-15T05:42:18.641Z"
   },
   {
    "duration": 20,
    "start_time": "2022-03-15T05:42:18.661Z"
   },
   {
    "duration": 236,
    "start_time": "2022-03-15T05:42:18.682Z"
   },
   {
    "duration": 13,
    "start_time": "2022-03-15T05:42:18.919Z"
   },
   {
    "duration": 127,
    "start_time": "2022-03-15T05:42:18.934Z"
   },
   {
    "duration": 19,
    "start_time": "2022-03-15T05:42:19.062Z"
   },
   {
    "duration": 139,
    "start_time": "2022-03-15T05:42:19.082Z"
   },
   {
    "duration": 12,
    "start_time": "2022-03-15T05:42:19.222Z"
   },
   {
    "duration": 149,
    "start_time": "2022-03-15T05:42:19.235Z"
   },
   {
    "duration": 10,
    "start_time": "2022-03-15T05:42:19.386Z"
   },
   {
    "duration": 445,
    "start_time": "2022-03-15T05:42:19.398Z"
   },
   {
    "duration": 5,
    "start_time": "2022-03-15T05:42:19.844Z"
   },
   {
    "duration": 6,
    "start_time": "2022-03-15T05:42:19.850Z"
   },
   {
    "duration": 1618,
    "start_time": "2022-03-15T05:42:19.857Z"
   },
   {
    "duration": 4,
    "start_time": "2022-03-15T05:42:21.480Z"
   },
   {
    "duration": 1709,
    "start_time": "2022-03-15T05:42:21.486Z"
   },
   {
    "duration": 5,
    "start_time": "2022-03-15T05:42:23.197Z"
   },
   {
    "duration": 8,
    "start_time": "2022-03-15T05:42:23.203Z"
   },
   {
    "duration": 1279,
    "start_time": "2022-03-15T05:42:23.212Z"
   },
   {
    "duration": 4,
    "start_time": "2022-03-15T05:42:24.493Z"
   },
   {
    "duration": 1458,
    "start_time": "2022-03-15T05:42:24.498Z"
   },
   {
    "duration": 5,
    "start_time": "2022-03-15T05:42:25.957Z"
   },
   {
    "duration": 8,
    "start_time": "2022-03-15T05:42:25.964Z"
   },
   {
    "duration": 1454,
    "start_time": "2022-03-15T05:42:25.973Z"
   },
   {
    "duration": 4,
    "start_time": "2022-03-15T05:42:27.428Z"
   },
   {
    "duration": 1642,
    "start_time": "2022-03-15T05:42:27.433Z"
   },
   {
    "duration": 11,
    "start_time": "2022-03-15T05:42:29.077Z"
   },
   {
    "duration": 229,
    "start_time": "2022-03-15T05:42:29.089Z"
   },
   {
    "duration": 14,
    "start_time": "2022-03-15T05:42:29.320Z"
   },
   {
    "duration": 13,
    "start_time": "2022-03-15T05:42:29.336Z"
   },
   {
    "duration": 35,
    "start_time": "2022-03-15T05:42:29.350Z"
   },
   {
    "duration": 13,
    "start_time": "2022-03-15T05:42:29.386Z"
   },
   {
    "duration": 14,
    "start_time": "2022-03-15T05:42:29.401Z"
   },
   {
    "duration": 13,
    "start_time": "2022-03-15T05:42:29.416Z"
   },
   {
    "duration": 2,
    "start_time": "2022-03-15T05:42:29.430Z"
   },
   {
    "duration": 6,
    "start_time": "2022-03-15T05:42:29.433Z"
   },
   {
    "duration": 4,
    "start_time": "2022-03-15T05:42:29.440Z"
   },
   {
    "duration": 356,
    "start_time": "2022-03-15T05:42:29.445Z"
   },
   {
    "duration": 27,
    "start_time": "2022-03-15T05:42:29.776Z"
   },
   {
    "duration": 22,
    "start_time": "2022-03-15T05:42:29.782Z"
   },
   {
    "duration": 16,
    "start_time": "2022-03-15T05:42:29.789Z"
   },
   {
    "duration": 12,
    "start_time": "2022-03-15T05:42:29.794Z"
   },
   {
    "duration": 6,
    "start_time": "2022-03-15T05:42:29.800Z"
   },
   {
    "duration": 2,
    "start_time": "2022-03-15T05:42:29.805Z"
   },
   {
    "duration": 159,
    "start_time": "2022-03-15T05:45:25.268Z"
   },
   {
    "duration": 180,
    "start_time": "2022-03-15T05:46:08.024Z"
   },
   {
    "duration": 296,
    "start_time": "2022-03-15T05:46:29.069Z"
   },
   {
    "duration": 166,
    "start_time": "2022-03-15T05:47:18.880Z"
   },
   {
    "duration": 2,
    "start_time": "2022-03-15T05:47:26.411Z"
   },
   {
    "duration": 308,
    "start_time": "2022-03-15T05:47:40.745Z"
   },
   {
    "duration": 159,
    "start_time": "2022-03-15T05:48:27.648Z"
   },
   {
    "duration": 149,
    "start_time": "2022-03-15T05:48:52.335Z"
   },
   {
    "duration": 3,
    "start_time": "2022-03-15T05:49:32.755Z"
   },
   {
    "duration": 2,
    "start_time": "2022-03-15T05:49:45.338Z"
   },
   {
    "duration": 3,
    "start_time": "2022-03-15T05:49:50.044Z"
   },
   {
    "duration": 151,
    "start_time": "2022-03-15T05:56:42.223Z"
   },
   {
    "duration": 165,
    "start_time": "2022-03-15T05:56:46.083Z"
   },
   {
    "duration": 247,
    "start_time": "2022-03-15T05:56:48.780Z"
   },
   {
    "duration": 152,
    "start_time": "2022-03-15T06:02:28.669Z"
   },
   {
    "duration": 95,
    "start_time": "2022-03-15T06:02:49.256Z"
   },
   {
    "duration": 4,
    "start_time": "2022-03-15T06:03:21.854Z"
   },
   {
    "duration": 53,
    "start_time": "2022-03-15T06:03:21.860Z"
   },
   {
    "duration": 4,
    "start_time": "2022-03-15T06:03:21.915Z"
   },
   {
    "duration": 8,
    "start_time": "2022-03-15T06:03:21.920Z"
   },
   {
    "duration": 19,
    "start_time": "2022-03-15T06:03:21.929Z"
   },
   {
    "duration": 28,
    "start_time": "2022-03-15T06:03:21.949Z"
   },
   {
    "duration": 3,
    "start_time": "2022-03-15T06:03:21.981Z"
   },
   {
    "duration": 12,
    "start_time": "2022-03-15T06:03:21.986Z"
   },
   {
    "duration": 5,
    "start_time": "2022-03-15T06:03:22.000Z"
   },
   {
    "duration": 18,
    "start_time": "2022-03-15T06:03:22.006Z"
   },
   {
    "duration": 2,
    "start_time": "2022-03-15T06:03:22.026Z"
   },
   {
    "duration": 6,
    "start_time": "2022-03-15T06:03:22.029Z"
   },
   {
    "duration": 9,
    "start_time": "2022-03-15T06:03:22.036Z"
   },
   {
    "duration": 6,
    "start_time": "2022-03-15T06:03:22.046Z"
   },
   {
    "duration": 7,
    "start_time": "2022-03-15T06:03:22.054Z"
   },
   {
    "duration": 9,
    "start_time": "2022-03-15T06:03:22.062Z"
   },
   {
    "duration": 12,
    "start_time": "2022-03-15T06:03:22.072Z"
   },
   {
    "duration": 9,
    "start_time": "2022-03-15T06:03:22.085Z"
   },
   {
    "duration": 11,
    "start_time": "2022-03-15T06:03:22.096Z"
   },
   {
    "duration": 12,
    "start_time": "2022-03-15T06:03:22.108Z"
   },
   {
    "duration": 5,
    "start_time": "2022-03-15T06:03:22.121Z"
   },
   {
    "duration": 13,
    "start_time": "2022-03-15T06:03:22.128Z"
   },
   {
    "duration": 269,
    "start_time": "2022-03-15T06:03:22.143Z"
   },
   {
    "duration": 3,
    "start_time": "2022-03-15T06:03:22.414Z"
   },
   {
    "duration": 4012,
    "start_time": "2022-03-15T06:03:22.419Z"
   },
   {
    "duration": 14,
    "start_time": "2022-03-15T06:03:26.432Z"
   },
   {
    "duration": 12,
    "start_time": "2022-03-15T06:03:26.450Z"
   },
   {
    "duration": 13,
    "start_time": "2022-03-15T06:03:26.480Z"
   },
   {
    "duration": 11,
    "start_time": "2022-03-15T06:03:26.495Z"
   },
   {
    "duration": 19,
    "start_time": "2022-03-15T06:03:26.507Z"
   },
   {
    "duration": 7,
    "start_time": "2022-03-15T06:03:26.527Z"
   },
   {
    "duration": 14,
    "start_time": "2022-03-15T06:03:26.535Z"
   },
   {
    "duration": 31,
    "start_time": "2022-03-15T06:03:26.550Z"
   },
   {
    "duration": 4,
    "start_time": "2022-03-15T06:03:26.582Z"
   },
   {
    "duration": 441,
    "start_time": "2022-03-15T06:03:26.588Z"
   },
   {
    "duration": 19,
    "start_time": "2022-03-15T06:03:27.030Z"
   },
   {
    "duration": 475,
    "start_time": "2022-03-15T06:03:27.051Z"
   },
   {
    "duration": 20,
    "start_time": "2022-03-15T06:03:27.528Z"
   },
   {
    "duration": 34,
    "start_time": "2022-03-15T06:03:27.549Z"
   },
   {
    "duration": 166,
    "start_time": "2022-03-15T06:03:27.584Z"
   },
   {
    "duration": 6,
    "start_time": "2022-03-15T06:03:27.752Z"
   },
   {
    "duration": 27,
    "start_time": "2022-03-15T06:03:27.760Z"
   },
   {
    "duration": 11,
    "start_time": "2022-03-15T06:03:27.788Z"
   },
   {
    "duration": 234,
    "start_time": "2022-03-15T06:03:27.800Z"
   },
   {
    "duration": 14,
    "start_time": "2022-03-15T06:03:28.036Z"
   },
   {
    "duration": 139,
    "start_time": "2022-03-15T06:03:28.052Z"
   },
   {
    "duration": 10,
    "start_time": "2022-03-15T06:03:28.193Z"
   },
   {
    "duration": 388,
    "start_time": "2022-03-15T06:03:28.205Z"
   },
   {
    "duration": 10,
    "start_time": "2022-03-15T06:03:28.595Z"
   },
   {
    "duration": 155,
    "start_time": "2022-03-15T06:03:28.607Z"
   },
   {
    "duration": 23,
    "start_time": "2022-03-15T06:03:28.764Z"
   },
   {
    "duration": 462,
    "start_time": "2022-03-15T06:03:28.789Z"
   },
   {
    "duration": 5,
    "start_time": "2022-03-15T06:03:29.253Z"
   },
   {
    "duration": 6,
    "start_time": "2022-03-15T06:03:29.259Z"
   },
   {
    "duration": 1690,
    "start_time": "2022-03-15T06:03:29.266Z"
   },
   {
    "duration": 5,
    "start_time": "2022-03-15T06:03:30.957Z"
   },
   {
    "duration": 1655,
    "start_time": "2022-03-15T06:03:30.963Z"
   },
   {
    "duration": 5,
    "start_time": "2022-03-15T06:03:32.619Z"
   },
   {
    "duration": 5,
    "start_time": "2022-03-15T06:03:32.626Z"
   },
   {
    "duration": 1540,
    "start_time": "2022-03-15T06:03:32.633Z"
   },
   {
    "duration": 7,
    "start_time": "2022-03-15T06:03:34.174Z"
   },
   {
    "duration": 1689,
    "start_time": "2022-03-15T06:03:34.183Z"
   },
   {
    "duration": 9,
    "start_time": "2022-03-15T06:03:35.874Z"
   },
   {
    "duration": 13,
    "start_time": "2022-03-15T06:03:35.884Z"
   },
   {
    "duration": 1444,
    "start_time": "2022-03-15T06:03:35.899Z"
   },
   {
    "duration": 4,
    "start_time": "2022-03-15T06:03:37.344Z"
   },
   {
    "duration": 1551,
    "start_time": "2022-03-15T06:03:37.350Z"
   },
   {
    "duration": 10,
    "start_time": "2022-03-15T06:03:38.903Z"
   },
   {
    "duration": 235,
    "start_time": "2022-03-15T06:03:38.914Z"
   },
   {
    "duration": 15,
    "start_time": "2022-03-15T06:03:39.150Z"
   },
   {
    "duration": 26,
    "start_time": "2022-03-15T06:03:39.166Z"
   },
   {
    "duration": 14,
    "start_time": "2022-03-15T06:03:39.193Z"
   },
   {
    "duration": 14,
    "start_time": "2022-03-15T06:03:39.208Z"
   },
   {
    "duration": 20,
    "start_time": "2022-03-15T06:03:39.224Z"
   },
   {
    "duration": 14,
    "start_time": "2022-03-15T06:03:39.245Z"
   },
   {
    "duration": 185,
    "start_time": "2022-03-15T06:03:39.260Z"
   },
   {
    "duration": 159,
    "start_time": "2022-03-15T06:03:39.446Z"
   },
   {
    "duration": 313,
    "start_time": "2022-03-15T06:03:39.606Z"
   },
   {
    "duration": 2,
    "start_time": "2022-03-15T06:03:39.920Z"
   },
   {
    "duration": 15,
    "start_time": "2022-03-15T06:03:39.923Z"
   },
   {
    "duration": 14,
    "start_time": "2022-03-15T06:03:39.943Z"
   },
   {
    "duration": 23,
    "start_time": "2022-03-15T06:03:39.959Z"
   },
   {
    "duration": 12,
    "start_time": "2022-03-15T06:03:39.984Z"
   },
   {
    "duration": 33,
    "start_time": "2022-03-15T06:03:39.997Z"
   },
   {
    "duration": 4,
    "start_time": "2022-03-15T06:03:40.032Z"
   },
   {
    "duration": 3,
    "start_time": "2022-03-15T06:07:50.134Z"
   },
   {
    "duration": 76,
    "start_time": "2022-03-15T06:07:50.139Z"
   },
   {
    "duration": 4,
    "start_time": "2022-03-15T06:07:50.217Z"
   },
   {
    "duration": 21,
    "start_time": "2022-03-15T06:07:50.222Z"
   },
   {
    "duration": 51,
    "start_time": "2022-03-15T06:07:50.244Z"
   },
   {
    "duration": 36,
    "start_time": "2022-03-15T06:07:50.296Z"
   },
   {
    "duration": 20,
    "start_time": "2022-03-15T06:07:50.334Z"
   },
   {
    "duration": 40,
    "start_time": "2022-03-15T06:07:50.355Z"
   },
   {
    "duration": 34,
    "start_time": "2022-03-15T06:07:50.396Z"
   },
   {
    "duration": 29,
    "start_time": "2022-03-15T06:07:50.432Z"
   },
   {
    "duration": 18,
    "start_time": "2022-03-15T06:07:50.463Z"
   },
   {
    "duration": 35,
    "start_time": "2022-03-15T06:07:50.482Z"
   },
   {
    "duration": 23,
    "start_time": "2022-03-15T06:07:50.518Z"
   },
   {
    "duration": 18,
    "start_time": "2022-03-15T06:07:50.542Z"
   },
   {
    "duration": 30,
    "start_time": "2022-03-15T06:07:50.562Z"
   },
   {
    "duration": 30,
    "start_time": "2022-03-15T06:07:50.593Z"
   },
   {
    "duration": 35,
    "start_time": "2022-03-15T06:07:50.624Z"
   },
   {
    "duration": 23,
    "start_time": "2022-03-15T06:07:50.661Z"
   },
   {
    "duration": 42,
    "start_time": "2022-03-15T06:07:50.687Z"
   },
   {
    "duration": 19,
    "start_time": "2022-03-15T06:07:50.731Z"
   },
   {
    "duration": 29,
    "start_time": "2022-03-15T06:07:50.752Z"
   },
   {
    "duration": 46,
    "start_time": "2022-03-15T06:07:50.782Z"
   },
   {
    "duration": 266,
    "start_time": "2022-03-15T06:07:50.830Z"
   },
   {
    "duration": 4,
    "start_time": "2022-03-15T06:07:51.098Z"
   },
   {
    "duration": 4152,
    "start_time": "2022-03-15T06:07:51.103Z"
   },
   {
    "duration": 25,
    "start_time": "2022-03-15T06:07:55.257Z"
   },
   {
    "duration": 14,
    "start_time": "2022-03-15T06:07:55.283Z"
   },
   {
    "duration": 18,
    "start_time": "2022-03-15T06:07:55.298Z"
   },
   {
    "duration": 15,
    "start_time": "2022-03-15T06:07:55.318Z"
   },
   {
    "duration": 16,
    "start_time": "2022-03-15T06:07:55.335Z"
   },
   {
    "duration": 32,
    "start_time": "2022-03-15T06:07:55.353Z"
   },
   {
    "duration": 25,
    "start_time": "2022-03-15T06:07:55.387Z"
   },
   {
    "duration": 35,
    "start_time": "2022-03-15T06:07:55.414Z"
   },
   {
    "duration": 24,
    "start_time": "2022-03-15T06:07:55.451Z"
   },
   {
    "duration": 442,
    "start_time": "2022-03-15T06:07:55.476Z"
   },
   {
    "duration": 20,
    "start_time": "2022-03-15T06:07:55.920Z"
   },
   {
    "duration": 481,
    "start_time": "2022-03-15T06:07:55.941Z"
   },
   {
    "duration": 20,
    "start_time": "2022-03-15T06:07:56.424Z"
   },
   {
    "duration": 34,
    "start_time": "2022-03-15T06:07:56.445Z"
   },
   {
    "duration": 171,
    "start_time": "2022-03-15T06:07:56.480Z"
   },
   {
    "duration": 6,
    "start_time": "2022-03-15T06:07:56.653Z"
   },
   {
    "duration": 27,
    "start_time": "2022-03-15T06:07:56.661Z"
   },
   {
    "duration": 26,
    "start_time": "2022-03-15T06:07:56.689Z"
   },
   {
    "duration": 253,
    "start_time": "2022-03-15T06:07:56.716Z"
   },
   {
    "duration": 12,
    "start_time": "2022-03-15T06:07:56.970Z"
   },
   {
    "duration": 131,
    "start_time": "2022-03-15T06:07:56.983Z"
   },
   {
    "duration": 8,
    "start_time": "2022-03-15T06:07:57.115Z"
   },
   {
    "duration": 139,
    "start_time": "2022-03-15T06:07:57.124Z"
   },
   {
    "duration": 20,
    "start_time": "2022-03-15T06:07:57.265Z"
   },
   {
    "duration": 400,
    "start_time": "2022-03-15T06:07:57.287Z"
   },
   {
    "duration": 11,
    "start_time": "2022-03-15T06:07:57.689Z"
   },
   {
    "duration": 446,
    "start_time": "2022-03-15T06:07:57.701Z"
   },
   {
    "duration": 5,
    "start_time": "2022-03-15T06:07:58.149Z"
   },
   {
    "duration": 15,
    "start_time": "2022-03-15T06:07:58.156Z"
   },
   {
    "duration": 1622,
    "start_time": "2022-03-15T06:07:58.180Z"
   },
   {
    "duration": 4,
    "start_time": "2022-03-15T06:07:59.804Z"
   },
   {
    "duration": 1724,
    "start_time": "2022-03-15T06:07:59.809Z"
   },
   {
    "duration": 5,
    "start_time": "2022-03-15T06:08:01.535Z"
   },
   {
    "duration": 38,
    "start_time": "2022-03-15T06:08:01.542Z"
   },
   {
    "duration": 1315,
    "start_time": "2022-03-15T06:08:01.582Z"
   },
   {
    "duration": 5,
    "start_time": "2022-03-15T06:08:02.899Z"
   },
   {
    "duration": 1638,
    "start_time": "2022-03-15T06:08:02.905Z"
   },
   {
    "duration": 5,
    "start_time": "2022-03-15T06:08:04.544Z"
   },
   {
    "duration": 7,
    "start_time": "2022-03-15T06:08:04.550Z"
   },
   {
    "duration": 1481,
    "start_time": "2022-03-15T06:08:04.558Z"
   },
   {
    "duration": 4,
    "start_time": "2022-03-15T06:08:06.041Z"
   },
   {
    "duration": 1550,
    "start_time": "2022-03-15T06:08:06.046Z"
   },
   {
    "duration": 11,
    "start_time": "2022-03-15T06:08:07.598Z"
   },
   {
    "duration": 234,
    "start_time": "2022-03-15T06:08:07.610Z"
   },
   {
    "duration": 14,
    "start_time": "2022-03-15T06:08:07.845Z"
   },
   {
    "duration": 25,
    "start_time": "2022-03-15T06:08:07.861Z"
   },
   {
    "duration": 14,
    "start_time": "2022-03-15T06:08:07.888Z"
   },
   {
    "duration": 13,
    "start_time": "2022-03-15T06:08:07.903Z"
   },
   {
    "duration": 26,
    "start_time": "2022-03-15T06:08:07.917Z"
   },
   {
    "duration": 14,
    "start_time": "2022-03-15T06:08:07.944Z"
   },
   {
    "duration": 171,
    "start_time": "2022-03-15T06:08:07.959Z"
   },
   {
    "duration": 168,
    "start_time": "2022-03-15T06:08:08.131Z"
   },
   {
    "duration": 162,
    "start_time": "2022-03-15T06:08:08.300Z"
   },
   {
    "duration": 2,
    "start_time": "2022-03-15T06:08:08.463Z"
   },
   {
    "duration": 14,
    "start_time": "2022-03-15T06:08:08.467Z"
   },
   {
    "duration": 6,
    "start_time": "2022-03-15T06:08:08.482Z"
   },
   {
    "duration": 21,
    "start_time": "2022-03-15T06:08:08.489Z"
   },
   {
    "duration": 5,
    "start_time": "2022-03-15T06:08:08.511Z"
   },
   {
    "duration": 19,
    "start_time": "2022-03-15T06:08:08.518Z"
   },
   {
    "duration": 5,
    "start_time": "2022-03-15T06:08:08.538Z"
   },
   {
    "duration": 3,
    "start_time": "2022-03-15T06:08:36.932Z"
   },
   {
    "duration": 62,
    "start_time": "2022-03-15T06:08:36.942Z"
   },
   {
    "duration": 4,
    "start_time": "2022-03-15T06:08:37.005Z"
   },
   {
    "duration": 6,
    "start_time": "2022-03-15T06:08:37.011Z"
   },
   {
    "duration": 18,
    "start_time": "2022-03-15T06:08:37.019Z"
   },
   {
    "duration": 57,
    "start_time": "2022-03-15T06:08:37.038Z"
   },
   {
    "duration": 3,
    "start_time": "2022-03-15T06:08:37.096Z"
   },
   {
    "duration": 13,
    "start_time": "2022-03-15T06:08:37.101Z"
   },
   {
    "duration": 3,
    "start_time": "2022-03-15T06:08:37.116Z"
   },
   {
    "duration": 19,
    "start_time": "2022-03-15T06:08:37.121Z"
   },
   {
    "duration": 2,
    "start_time": "2022-03-15T06:08:37.141Z"
   },
   {
    "duration": 5,
    "start_time": "2022-03-15T06:08:37.145Z"
   },
   {
    "duration": 5,
    "start_time": "2022-03-15T06:08:37.181Z"
   },
   {
    "duration": 4,
    "start_time": "2022-03-15T06:08:37.188Z"
   },
   {
    "duration": 8,
    "start_time": "2022-03-15T06:08:37.194Z"
   },
   {
    "duration": 8,
    "start_time": "2022-03-15T06:08:37.203Z"
   },
   {
    "duration": 17,
    "start_time": "2022-03-15T06:08:37.212Z"
   },
   {
    "duration": 6,
    "start_time": "2022-03-15T06:08:37.231Z"
   },
   {
    "duration": 10,
    "start_time": "2022-03-15T06:08:37.239Z"
   },
   {
    "duration": 36,
    "start_time": "2022-03-15T06:08:37.251Z"
   },
   {
    "duration": 6,
    "start_time": "2022-03-15T06:08:37.289Z"
   },
   {
    "duration": 18,
    "start_time": "2022-03-15T06:08:37.297Z"
   },
   {
    "duration": 264,
    "start_time": "2022-03-15T06:08:37.317Z"
   },
   {
    "duration": 4,
    "start_time": "2022-03-15T06:08:37.584Z"
   },
   {
    "duration": 4059,
    "start_time": "2022-03-15T06:08:37.590Z"
   },
   {
    "duration": 14,
    "start_time": "2022-03-15T06:08:41.651Z"
   },
   {
    "duration": 25,
    "start_time": "2022-03-15T06:08:41.666Z"
   },
   {
    "duration": 13,
    "start_time": "2022-03-15T06:08:41.693Z"
   },
   {
    "duration": 10,
    "start_time": "2022-03-15T06:08:41.708Z"
   },
   {
    "duration": 9,
    "start_time": "2022-03-15T06:08:41.720Z"
   },
   {
    "duration": 6,
    "start_time": "2022-03-15T06:08:41.731Z"
   },
   {
    "duration": 42,
    "start_time": "2022-03-15T06:08:41.739Z"
   },
   {
    "duration": 12,
    "start_time": "2022-03-15T06:08:41.782Z"
   },
   {
    "duration": 5,
    "start_time": "2022-03-15T06:08:41.796Z"
   },
   {
    "duration": 449,
    "start_time": "2022-03-15T06:08:41.803Z"
   },
   {
    "duration": 28,
    "start_time": "2022-03-15T06:08:42.254Z"
   },
   {
    "duration": 726,
    "start_time": "2022-03-15T06:08:42.283Z"
   },
   {
    "duration": 20,
    "start_time": "2022-03-15T06:08:43.010Z"
   },
   {
    "duration": 17,
    "start_time": "2022-03-15T06:08:43.032Z"
   },
   {
    "duration": 187,
    "start_time": "2022-03-15T06:08:43.050Z"
   },
   {
    "duration": 6,
    "start_time": "2022-03-15T06:08:43.238Z"
   },
   {
    "duration": 16,
    "start_time": "2022-03-15T06:08:43.246Z"
   },
   {
    "duration": 23,
    "start_time": "2022-03-15T06:08:43.263Z"
   },
   {
    "duration": 237,
    "start_time": "2022-03-15T06:08:43.288Z"
   },
   {
    "duration": 13,
    "start_time": "2022-03-15T06:08:43.527Z"
   },
   {
    "duration": 131,
    "start_time": "2022-03-15T06:08:43.542Z"
   },
   {
    "duration": 12,
    "start_time": "2022-03-15T06:08:43.675Z"
   },
   {
    "duration": 144,
    "start_time": "2022-03-15T06:08:43.688Z"
   },
   {
    "duration": 11,
    "start_time": "2022-03-15T06:08:43.833Z"
   },
   {
    "duration": 149,
    "start_time": "2022-03-15T06:08:43.845Z"
   },
   {
    "duration": 11,
    "start_time": "2022-03-15T06:08:43.996Z"
   },
   {
    "duration": 453,
    "start_time": "2022-03-15T06:08:44.009Z"
   },
   {
    "duration": 5,
    "start_time": "2022-03-15T06:08:44.464Z"
   },
   {
    "duration": 12,
    "start_time": "2022-03-15T06:08:44.470Z"
   },
   {
    "duration": 1671,
    "start_time": "2022-03-15T06:08:44.483Z"
   },
   {
    "duration": 5,
    "start_time": "2022-03-15T06:08:46.156Z"
   },
   {
    "duration": 1646,
    "start_time": "2022-03-15T06:08:46.163Z"
   },
   {
    "duration": 5,
    "start_time": "2022-03-15T06:08:47.811Z"
   },
   {
    "duration": 11,
    "start_time": "2022-03-15T06:08:47.817Z"
   },
   {
    "duration": 1304,
    "start_time": "2022-03-15T06:08:47.829Z"
   },
   {
    "duration": 5,
    "start_time": "2022-03-15T06:08:49.135Z"
   },
   {
    "duration": 1724,
    "start_time": "2022-03-15T06:08:49.141Z"
   },
   {
    "duration": 16,
    "start_time": "2022-03-15T06:08:50.867Z"
   },
   {
    "duration": 10,
    "start_time": "2022-03-15T06:08:50.884Z"
   },
   {
    "duration": 1442,
    "start_time": "2022-03-15T06:08:50.896Z"
   },
   {
    "duration": 4,
    "start_time": "2022-03-15T06:08:52.339Z"
   },
   {
    "duration": 1520,
    "start_time": "2022-03-15T06:08:52.345Z"
   },
   {
    "duration": 16,
    "start_time": "2022-03-15T06:08:53.866Z"
   },
   {
    "duration": 228,
    "start_time": "2022-03-15T06:08:53.887Z"
   },
   {
    "duration": 16,
    "start_time": "2022-03-15T06:08:54.117Z"
   },
   {
    "duration": 14,
    "start_time": "2022-03-15T06:08:54.134Z"
   },
   {
    "duration": 32,
    "start_time": "2022-03-15T06:08:54.149Z"
   },
   {
    "duration": 14,
    "start_time": "2022-03-15T06:08:54.183Z"
   },
   {
    "duration": 15,
    "start_time": "2022-03-15T06:08:54.198Z"
   },
   {
    "duration": 13,
    "start_time": "2022-03-15T06:08:54.214Z"
   },
   {
    "duration": 172,
    "start_time": "2022-03-15T06:08:54.228Z"
   },
   {
    "duration": 157,
    "start_time": "2022-03-15T06:08:54.402Z"
   },
   {
    "duration": 162,
    "start_time": "2022-03-15T06:08:54.560Z"
   },
   {
    "duration": 2,
    "start_time": "2022-03-15T06:08:54.723Z"
   },
   {
    "duration": 10,
    "start_time": "2022-03-15T06:08:54.727Z"
   },
   {
    "duration": 5,
    "start_time": "2022-03-15T06:08:54.739Z"
   },
   {
    "duration": 20,
    "start_time": "2022-03-15T06:08:54.746Z"
   },
   {
    "duration": 4,
    "start_time": "2022-03-15T06:08:54.768Z"
   },
   {
    "duration": 15,
    "start_time": "2022-03-15T06:08:54.781Z"
   },
   {
    "duration": 4,
    "start_time": "2022-03-15T06:08:54.798Z"
   },
   {
    "duration": 1072,
    "start_time": "2022-03-15T06:14:31.040Z"
   },
   {
    "duration": 55,
    "start_time": "2022-03-15T06:14:32.113Z"
   },
   {
    "duration": 5,
    "start_time": "2022-03-15T06:14:32.170Z"
   },
   {
    "duration": 5,
    "start_time": "2022-03-15T06:14:32.177Z"
   },
   {
    "duration": 21,
    "start_time": "2022-03-15T06:14:32.184Z"
   },
   {
    "duration": 29,
    "start_time": "2022-03-15T06:14:32.206Z"
   },
   {
    "duration": 4,
    "start_time": "2022-03-15T06:14:32.236Z"
   },
   {
    "duration": 12,
    "start_time": "2022-03-15T06:14:32.242Z"
   },
   {
    "duration": 28,
    "start_time": "2022-03-15T06:14:32.256Z"
   },
   {
    "duration": 20,
    "start_time": "2022-03-15T06:14:32.286Z"
   },
   {
    "duration": 2,
    "start_time": "2022-03-15T06:14:32.308Z"
   },
   {
    "duration": 7,
    "start_time": "2022-03-15T06:14:32.311Z"
   },
   {
    "duration": 11,
    "start_time": "2022-03-15T06:14:32.319Z"
   },
   {
    "duration": 7,
    "start_time": "2022-03-15T06:14:32.331Z"
   },
   {
    "duration": 7,
    "start_time": "2022-03-15T06:14:32.339Z"
   },
   {
    "duration": 7,
    "start_time": "2022-03-15T06:14:32.348Z"
   },
   {
    "duration": 27,
    "start_time": "2022-03-15T06:14:32.357Z"
   },
   {
    "duration": 6,
    "start_time": "2022-03-15T06:14:32.385Z"
   },
   {
    "duration": 12,
    "start_time": "2022-03-15T06:14:32.392Z"
   },
   {
    "duration": 11,
    "start_time": "2022-03-15T06:14:32.405Z"
   },
   {
    "duration": 11,
    "start_time": "2022-03-15T06:14:32.417Z"
   },
   {
    "duration": 13,
    "start_time": "2022-03-15T06:14:32.429Z"
   },
   {
    "duration": 287,
    "start_time": "2022-03-15T06:14:32.445Z"
   },
   {
    "duration": 4,
    "start_time": "2022-03-15T06:14:32.734Z"
   },
   {
    "duration": 3829,
    "start_time": "2022-03-15T06:14:32.739Z"
   },
   {
    "duration": 19,
    "start_time": "2022-03-15T06:14:36.569Z"
   },
   {
    "duration": 13,
    "start_time": "2022-03-15T06:14:36.589Z"
   },
   {
    "duration": 15,
    "start_time": "2022-03-15T06:14:36.603Z"
   },
   {
    "duration": 9,
    "start_time": "2022-03-15T06:14:36.619Z"
   },
   {
    "duration": 16,
    "start_time": "2022-03-15T06:14:36.629Z"
   },
   {
    "duration": 11,
    "start_time": "2022-03-15T06:14:36.647Z"
   },
   {
    "duration": 29,
    "start_time": "2022-03-15T06:14:36.659Z"
   },
   {
    "duration": 16,
    "start_time": "2022-03-15T06:14:36.689Z"
   },
   {
    "duration": 8,
    "start_time": "2022-03-15T06:14:36.706Z"
   },
   {
    "duration": 444,
    "start_time": "2022-03-15T06:14:36.715Z"
   },
   {
    "duration": 28,
    "start_time": "2022-03-15T06:14:37.161Z"
   },
   {
    "duration": 468,
    "start_time": "2022-03-15T06:14:37.190Z"
   },
   {
    "duration": 29,
    "start_time": "2022-03-15T06:14:37.660Z"
   },
   {
    "duration": 18,
    "start_time": "2022-03-15T06:14:37.690Z"
   },
   {
    "duration": 339,
    "start_time": "2022-03-15T06:14:37.710Z"
   },
   {
    "duration": 6,
    "start_time": "2022-03-15T06:14:38.050Z"
   },
   {
    "duration": 24,
    "start_time": "2022-03-15T06:14:38.057Z"
   },
   {
    "duration": 12,
    "start_time": "2022-03-15T06:14:38.082Z"
   },
   {
    "duration": 238,
    "start_time": "2022-03-15T06:14:38.095Z"
   },
   {
    "duration": 12,
    "start_time": "2022-03-15T06:14:38.334Z"
   },
   {
    "duration": 128,
    "start_time": "2022-03-15T06:14:38.348Z"
   },
   {
    "duration": 11,
    "start_time": "2022-03-15T06:14:38.477Z"
   },
   {
    "duration": 147,
    "start_time": "2022-03-15T06:14:38.489Z"
   },
   {
    "duration": 10,
    "start_time": "2022-03-15T06:14:38.638Z"
   },
   {
    "duration": 150,
    "start_time": "2022-03-15T06:14:38.649Z"
   },
   {
    "duration": 11,
    "start_time": "2022-03-15T06:14:38.800Z"
   },
   {
    "duration": 443,
    "start_time": "2022-03-15T06:14:38.812Z"
   },
   {
    "duration": 5,
    "start_time": "2022-03-15T06:14:39.256Z"
   },
   {
    "duration": 6,
    "start_time": "2022-03-15T06:14:39.263Z"
   },
   {
    "duration": 1650,
    "start_time": "2022-03-15T06:14:39.280Z"
   },
   {
    "duration": 4,
    "start_time": "2022-03-15T06:14:40.932Z"
   },
   {
    "duration": 1775,
    "start_time": "2022-03-15T06:14:40.937Z"
   },
   {
    "duration": 4,
    "start_time": "2022-03-15T06:14:42.714Z"
   },
   {
    "duration": 7,
    "start_time": "2022-03-15T06:14:42.720Z"
   },
   {
    "duration": 1325,
    "start_time": "2022-03-15T06:14:42.728Z"
   },
   {
    "duration": 4,
    "start_time": "2022-03-15T06:14:44.055Z"
   },
   {
    "duration": 1532,
    "start_time": "2022-03-15T06:14:44.060Z"
   },
   {
    "duration": 6,
    "start_time": "2022-03-15T06:14:45.593Z"
   },
   {
    "duration": 8,
    "start_time": "2022-03-15T06:14:45.600Z"
   },
   {
    "duration": 1551,
    "start_time": "2022-03-15T06:14:45.610Z"
   },
   {
    "duration": 4,
    "start_time": "2022-03-15T06:14:47.162Z"
   },
   {
    "duration": 1633,
    "start_time": "2022-03-15T06:14:47.167Z"
   },
   {
    "duration": 10,
    "start_time": "2022-03-15T06:14:48.805Z"
   },
   {
    "duration": 241,
    "start_time": "2022-03-15T06:14:48.817Z"
   },
   {
    "duration": 27,
    "start_time": "2022-03-15T06:14:49.059Z"
   },
   {
    "duration": 13,
    "start_time": "2022-03-15T06:14:49.088Z"
   },
   {
    "duration": 13,
    "start_time": "2022-03-15T06:14:49.103Z"
   },
   {
    "duration": 13,
    "start_time": "2022-03-15T06:14:49.118Z"
   },
   {
    "duration": 22,
    "start_time": "2022-03-15T06:14:49.133Z"
   },
   {
    "duration": 32,
    "start_time": "2022-03-15T06:14:49.157Z"
   },
   {
    "duration": 165,
    "start_time": "2022-03-15T06:14:49.191Z"
   },
   {
    "duration": 164,
    "start_time": "2022-03-15T06:14:49.357Z"
   },
   {
    "duration": 162,
    "start_time": "2022-03-15T06:14:49.523Z"
   },
   {
    "duration": 3,
    "start_time": "2022-03-15T06:14:49.687Z"
   },
   {
    "duration": 7,
    "start_time": "2022-03-15T06:14:49.691Z"
   },
   {
    "duration": 5,
    "start_time": "2022-03-15T06:14:49.699Z"
   },
   {
    "duration": 18,
    "start_time": "2022-03-15T06:14:49.706Z"
   },
   {
    "duration": 4,
    "start_time": "2022-03-15T06:14:49.725Z"
   },
   {
    "duration": 18,
    "start_time": "2022-03-15T06:14:49.731Z"
   },
   {
    "duration": 5,
    "start_time": "2022-03-15T06:14:49.751Z"
   },
   {
    "duration": 1581,
    "start_time": "2022-07-17T06:52:27.831Z"
   },
   {
    "duration": 113,
    "start_time": "2022-07-17T06:52:47.825Z"
   },
   {
    "duration": 28,
    "start_time": "2022-07-17T06:52:53.165Z"
   },
   {
    "duration": 5,
    "start_time": "2022-07-17T06:52:58.437Z"
   },
   {
    "duration": 17,
    "start_time": "2022-07-17T06:53:00.035Z"
   },
   {
    "duration": 7,
    "start_time": "2022-07-17T06:53:06.081Z"
   },
   {
    "duration": 5,
    "start_time": "2022-07-17T06:53:39.669Z"
   },
   {
    "duration": 5,
    "start_time": "2022-07-17T06:53:39.741Z"
   },
   {
    "duration": 6,
    "start_time": "2022-07-17T06:53:40.217Z"
   },
   {
    "duration": 14,
    "start_time": "2022-07-17T06:53:40.351Z"
   },
   {
    "duration": 16,
    "start_time": "2022-07-17T06:53:49.274Z"
   },
   {
    "duration": 4,
    "start_time": "2022-07-17T06:53:50.909Z"
   },
   {
    "duration": 171,
    "start_time": "2022-07-17T06:53:52.269Z"
   },
   {
    "duration": 20,
    "start_time": "2022-07-17T06:53:58.473Z"
   },
   {
    "duration": 4,
    "start_time": "2022-07-17T06:53:59.979Z"
   },
   {
    "duration": 14,
    "start_time": "2022-07-17T06:54:04.929Z"
   },
   {
    "duration": 4,
    "start_time": "2022-07-17T06:54:08.177Z"
   },
   {
    "duration": 66,
    "start_time": "2022-07-17T06:54:43.674Z"
   },
   {
    "duration": 14,
    "start_time": "2022-07-17T06:54:47.880Z"
   }
  ],
  "kernelspec": {
   "display_name": "Python 3 (ipykernel)",
   "language": "python",
   "name": "python3"
  },
  "language_info": {
   "codemirror_mode": {
    "name": "ipython",
    "version": 3
   },
   "file_extension": ".py",
   "mimetype": "text/x-python",
   "name": "python",
   "nbconvert_exporter": "python",
   "pygments_lexer": "ipython3",
   "version": "3.9.12"
  },
  "toc": {
   "base_numbering": 1,
   "nav_menu": {},
   "number_sections": true,
   "sideBar": true,
   "skip_h1_title": true,
   "title_cell": "Table of Contents",
   "title_sidebar": "Contents",
   "toc_cell": false,
   "toc_position": {
    "height": "calc(100% - 180px)",
    "left": "10px",
    "top": "150px",
    "width": "306.125px"
   },
   "toc_section_display": true,
   "toc_window_display": false
  }
 },
 "nbformat": 4,
 "nbformat_minor": 2
}
