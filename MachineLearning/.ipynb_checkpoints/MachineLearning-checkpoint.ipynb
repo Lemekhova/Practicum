{
 "cells": [
  {
   "cell_type": "markdown",
   "metadata": {},
   "source": [
    "# Выбор локации для скважины"
   ]
  },
  {
   "cell_type": "markdown",
   "metadata": {},
   "source": [
    "Заказчик - добывающая компания «ГлавРосГосНефть». \n",
    "\n",
    "Нужно решить, где бурить новую скважину.\n",
    "\n",
    "Исходные данные - пробы нефти в трёх регионах: в каждом 10 000 месторождений, где измерили качество нефти и объём её запасов.\n",
    "\n",
    "Задача - построить модель машинного обучения, которая поможет определить регион, где добыча принесёт наибольшую прибыль. Проанализировать возможную прибыль и риски техникой *Bootstrap.*\n",
    "\n",
    "Шаги для выбора локации:\n",
    "\n",
    "- В избранном регионе ищут месторождения, для каждого определяют значения признаков;\n",
    "- Строят модель и оценивают объём запасов;\n",
    "- Выбирают месторождения с самым высокими оценками значений. Количество месторождений зависит от бюджета компании и стоимости разработки одной скважины;\n",
    "- Прибыль равна суммарной прибыли отобранных месторождений."
   ]
  },
  {
   "cell_type": "markdown",
   "metadata": {},
   "source": [
    "## Данные геологоразведки трёх регионов\n",
    "\n",
    "id — уникальный идентификатор скважины;\n",
    "\n",
    "f0, f1, f2 — три признака точек (неважно, что они означают, но сами признаки значимы);\n",
    "\n",
    "product — объём запасов в скважине (тыс. баррелей)."
   ]
  },
  {
   "cell_type": "markdown",
   "metadata": {},
   "source": [
    "## Загрузка и подготовка данных"
   ]
  },
  {
   "cell_type": "code",
   "execution_count": 1,
   "metadata": {},
   "outputs": [],
   "source": [
    "import pandas as pd\n",
    "from sklearn.model_selection import train_test_split\n",
    "from sklearn.linear_model import LinearRegression\n",
    "from sklearn.metrics import mean_squared_error\n",
    "import numpy as np\n",
    "from numpy.random import RandomState"
   ]
  },
  {
   "cell_type": "code",
   "execution_count": 2,
   "metadata": {},
   "outputs": [
    {
     "data": {
      "text/html": [
       "<div>\n",
       "<style scoped>\n",
       "    .dataframe tbody tr th:only-of-type {\n",
       "        vertical-align: middle;\n",
       "    }\n",
       "\n",
       "    .dataframe tbody tr th {\n",
       "        vertical-align: top;\n",
       "    }\n",
       "\n",
       "    .dataframe thead th {\n",
       "        text-align: right;\n",
       "    }\n",
       "</style>\n",
       "<table border=\"1\" class=\"dataframe\">\n",
       "  <thead>\n",
       "    <tr style=\"text-align: right;\">\n",
       "      <th></th>\n",
       "      <th>id</th>\n",
       "      <th>f0</th>\n",
       "      <th>f1</th>\n",
       "      <th>f2</th>\n",
       "      <th>product</th>\n",
       "    </tr>\n",
       "  </thead>\n",
       "  <tbody>\n",
       "    <tr>\n",
       "      <th>0</th>\n",
       "      <td>txEyH</td>\n",
       "      <td>0.705745</td>\n",
       "      <td>-0.497823</td>\n",
       "      <td>1.221170</td>\n",
       "      <td>105.280062</td>\n",
       "    </tr>\n",
       "    <tr>\n",
       "      <th>1</th>\n",
       "      <td>2acmU</td>\n",
       "      <td>1.334711</td>\n",
       "      <td>-0.340164</td>\n",
       "      <td>4.365080</td>\n",
       "      <td>73.037750</td>\n",
       "    </tr>\n",
       "    <tr>\n",
       "      <th>2</th>\n",
       "      <td>409Wp</td>\n",
       "      <td>1.022732</td>\n",
       "      <td>0.151990</td>\n",
       "      <td>1.419926</td>\n",
       "      <td>85.265647</td>\n",
       "    </tr>\n",
       "    <tr>\n",
       "      <th>3</th>\n",
       "      <td>iJLyR</td>\n",
       "      <td>-0.032172</td>\n",
       "      <td>0.139033</td>\n",
       "      <td>2.978566</td>\n",
       "      <td>168.620776</td>\n",
       "    </tr>\n",
       "    <tr>\n",
       "      <th>4</th>\n",
       "      <td>Xdl7t</td>\n",
       "      <td>1.988431</td>\n",
       "      <td>0.155413</td>\n",
       "      <td>4.751769</td>\n",
       "      <td>154.036647</td>\n",
       "    </tr>\n",
       "    <tr>\n",
       "      <th>5</th>\n",
       "      <td>wX4Hy</td>\n",
       "      <td>0.969570</td>\n",
       "      <td>0.489775</td>\n",
       "      <td>-0.735383</td>\n",
       "      <td>64.741541</td>\n",
       "    </tr>\n",
       "    <tr>\n",
       "      <th>6</th>\n",
       "      <td>tL6pL</td>\n",
       "      <td>0.645075</td>\n",
       "      <td>0.530656</td>\n",
       "      <td>1.780266</td>\n",
       "      <td>49.055285</td>\n",
       "    </tr>\n",
       "    <tr>\n",
       "      <th>7</th>\n",
       "      <td>BYPU6</td>\n",
       "      <td>-0.400648</td>\n",
       "      <td>0.808337</td>\n",
       "      <td>-5.624670</td>\n",
       "      <td>72.943292</td>\n",
       "    </tr>\n",
       "    <tr>\n",
       "      <th>8</th>\n",
       "      <td>j9Oui</td>\n",
       "      <td>0.643105</td>\n",
       "      <td>-0.551583</td>\n",
       "      <td>2.372141</td>\n",
       "      <td>113.356160</td>\n",
       "    </tr>\n",
       "    <tr>\n",
       "      <th>9</th>\n",
       "      <td>OLuZU</td>\n",
       "      <td>2.173381</td>\n",
       "      <td>0.563698</td>\n",
       "      <td>9.441852</td>\n",
       "      <td>127.910945</td>\n",
       "    </tr>\n",
       "    <tr>\n",
       "      <th>10</th>\n",
       "      <td>b8WQ6</td>\n",
       "      <td>0.371066</td>\n",
       "      <td>-0.036585</td>\n",
       "      <td>0.009208</td>\n",
       "      <td>70.326617</td>\n",
       "    </tr>\n",
       "    <tr>\n",
       "      <th>11</th>\n",
       "      <td>1YYm1</td>\n",
       "      <td>0.015920</td>\n",
       "      <td>1.062729</td>\n",
       "      <td>-0.722248</td>\n",
       "      <td>45.110381</td>\n",
       "    </tr>\n",
       "    <tr>\n",
       "      <th>12</th>\n",
       "      <td>zIYPq</td>\n",
       "      <td>-0.276476</td>\n",
       "      <td>0.924865</td>\n",
       "      <td>0.095584</td>\n",
       "      <td>89.158678</td>\n",
       "    </tr>\n",
       "    <tr>\n",
       "      <th>13</th>\n",
       "      <td>iqTqq</td>\n",
       "      <td>0.212696</td>\n",
       "      <td>-0.111147</td>\n",
       "      <td>5.770095</td>\n",
       "      <td>164.298520</td>\n",
       "    </tr>\n",
       "    <tr>\n",
       "      <th>14</th>\n",
       "      <td>Ct5yY</td>\n",
       "      <td>-0.018578</td>\n",
       "      <td>0.187516</td>\n",
       "      <td>2.944683</td>\n",
       "      <td>158.633720</td>\n",
       "    </tr>\n",
       "  </tbody>\n",
       "</table>\n",
       "</div>"
      ],
      "text/plain": [
       "       id        f0        f1        f2     product\n",
       "0   txEyH  0.705745 -0.497823  1.221170  105.280062\n",
       "1   2acmU  1.334711 -0.340164  4.365080   73.037750\n",
       "2   409Wp  1.022732  0.151990  1.419926   85.265647\n",
       "3   iJLyR -0.032172  0.139033  2.978566  168.620776\n",
       "4   Xdl7t  1.988431  0.155413  4.751769  154.036647\n",
       "5   wX4Hy  0.969570  0.489775 -0.735383   64.741541\n",
       "6   tL6pL  0.645075  0.530656  1.780266   49.055285\n",
       "7   BYPU6 -0.400648  0.808337 -5.624670   72.943292\n",
       "8   j9Oui  0.643105 -0.551583  2.372141  113.356160\n",
       "9   OLuZU  2.173381  0.563698  9.441852  127.910945\n",
       "10  b8WQ6  0.371066 -0.036585  0.009208   70.326617\n",
       "11  1YYm1  0.015920  1.062729 -0.722248   45.110381\n",
       "12  zIYPq -0.276476  0.924865  0.095584   89.158678\n",
       "13  iqTqq  0.212696 -0.111147  5.770095  164.298520\n",
       "14  Ct5yY -0.018578  0.187516  2.944683  158.633720"
      ]
     },
     "metadata": {},
     "output_type": "display_data"
    },
    {
     "name": "stdout",
     "output_type": "stream",
     "text": [
      "<class 'pandas.core.frame.DataFrame'>\n",
      "RangeIndex: 100000 entries, 0 to 99999\n",
      "Data columns (total 5 columns):\n",
      " #   Column   Non-Null Count   Dtype  \n",
      "---  ------   --------------   -----  \n",
      " 0   id       100000 non-null  object \n",
      " 1   f0       100000 non-null  float64\n",
      " 2   f1       100000 non-null  float64\n",
      " 3   f2       100000 non-null  float64\n",
      " 4   product  100000 non-null  float64\n",
      "dtypes: float64(4), object(1)\n",
      "memory usage: 3.8+ MB\n"
     ]
    }
   ],
   "source": [
    "data_0 = pd.read_csv('/datasets/geo_data_0.csv')\n",
    "display(data_0.head(15))\n",
    "data_0.info()"
   ]
  },
  {
   "cell_type": "code",
   "execution_count": 3,
   "metadata": {},
   "outputs": [
    {
     "data": {
      "text/html": [
       "<div>\n",
       "<style scoped>\n",
       "    .dataframe tbody tr th:only-of-type {\n",
       "        vertical-align: middle;\n",
       "    }\n",
       "\n",
       "    .dataframe tbody tr th {\n",
       "        vertical-align: top;\n",
       "    }\n",
       "\n",
       "    .dataframe thead th {\n",
       "        text-align: right;\n",
       "    }\n",
       "</style>\n",
       "<table border=\"1\" class=\"dataframe\">\n",
       "  <thead>\n",
       "    <tr style=\"text-align: right;\">\n",
       "      <th></th>\n",
       "      <th>id</th>\n",
       "      <th>f0</th>\n",
       "      <th>f1</th>\n",
       "      <th>f2</th>\n",
       "      <th>product</th>\n",
       "    </tr>\n",
       "  </thead>\n",
       "  <tbody>\n",
       "    <tr>\n",
       "      <th>0</th>\n",
       "      <td>kBEdx</td>\n",
       "      <td>-15.001348</td>\n",
       "      <td>-8.276000</td>\n",
       "      <td>-0.005876</td>\n",
       "      <td>3.179103</td>\n",
       "    </tr>\n",
       "    <tr>\n",
       "      <th>1</th>\n",
       "      <td>62mP7</td>\n",
       "      <td>14.272088</td>\n",
       "      <td>-3.475083</td>\n",
       "      <td>0.999183</td>\n",
       "      <td>26.953261</td>\n",
       "    </tr>\n",
       "    <tr>\n",
       "      <th>2</th>\n",
       "      <td>vyE1P</td>\n",
       "      <td>6.263187</td>\n",
       "      <td>-5.948386</td>\n",
       "      <td>5.001160</td>\n",
       "      <td>134.766305</td>\n",
       "    </tr>\n",
       "    <tr>\n",
       "      <th>3</th>\n",
       "      <td>KcrkZ</td>\n",
       "      <td>-13.081196</td>\n",
       "      <td>-11.506057</td>\n",
       "      <td>4.999415</td>\n",
       "      <td>137.945408</td>\n",
       "    </tr>\n",
       "    <tr>\n",
       "      <th>4</th>\n",
       "      <td>AHL4O</td>\n",
       "      <td>12.702195</td>\n",
       "      <td>-8.147433</td>\n",
       "      <td>5.004363</td>\n",
       "      <td>134.766305</td>\n",
       "    </tr>\n",
       "    <tr>\n",
       "      <th>5</th>\n",
       "      <td>HHckp</td>\n",
       "      <td>-3.327590</td>\n",
       "      <td>-2.205276</td>\n",
       "      <td>3.003647</td>\n",
       "      <td>84.038886</td>\n",
       "    </tr>\n",
       "    <tr>\n",
       "      <th>6</th>\n",
       "      <td>h5Ujo</td>\n",
       "      <td>-11.142655</td>\n",
       "      <td>-10.133399</td>\n",
       "      <td>4.002382</td>\n",
       "      <td>110.992147</td>\n",
       "    </tr>\n",
       "    <tr>\n",
       "      <th>7</th>\n",
       "      <td>muH9x</td>\n",
       "      <td>4.234715</td>\n",
       "      <td>-0.001354</td>\n",
       "      <td>2.004588</td>\n",
       "      <td>53.906522</td>\n",
       "    </tr>\n",
       "    <tr>\n",
       "      <th>8</th>\n",
       "      <td>YiRkx</td>\n",
       "      <td>13.355129</td>\n",
       "      <td>-0.332068</td>\n",
       "      <td>4.998647</td>\n",
       "      <td>134.766305</td>\n",
       "    </tr>\n",
       "    <tr>\n",
       "      <th>9</th>\n",
       "      <td>jG6Gi</td>\n",
       "      <td>1.069227</td>\n",
       "      <td>-11.025667</td>\n",
       "      <td>4.997844</td>\n",
       "      <td>137.945408</td>\n",
       "    </tr>\n",
       "    <tr>\n",
       "      <th>10</th>\n",
       "      <td>7uHUe</td>\n",
       "      <td>11.777049</td>\n",
       "      <td>-5.334084</td>\n",
       "      <td>2.003033</td>\n",
       "      <td>53.906522</td>\n",
       "    </tr>\n",
       "    <tr>\n",
       "      <th>11</th>\n",
       "      <td>OXyvW</td>\n",
       "      <td>16.320755</td>\n",
       "      <td>-0.562946</td>\n",
       "      <td>-0.001783</td>\n",
       "      <td>0.000000</td>\n",
       "    </tr>\n",
       "    <tr>\n",
       "      <th>12</th>\n",
       "      <td>cB8re</td>\n",
       "      <td>7.736313</td>\n",
       "      <td>-6.093374</td>\n",
       "      <td>3.982531</td>\n",
       "      <td>107.813044</td>\n",
       "    </tr>\n",
       "    <tr>\n",
       "      <th>13</th>\n",
       "      <td>igmai</td>\n",
       "      <td>6.695604</td>\n",
       "      <td>-0.749449</td>\n",
       "      <td>-0.007630</td>\n",
       "      <td>0.000000</td>\n",
       "    </tr>\n",
       "    <tr>\n",
       "      <th>14</th>\n",
       "      <td>3OdkE</td>\n",
       "      <td>-10.985487</td>\n",
       "      <td>-5.605994</td>\n",
       "      <td>2.991130</td>\n",
       "      <td>84.038886</td>\n",
       "    </tr>\n",
       "  </tbody>\n",
       "</table>\n",
       "</div>"
      ],
      "text/plain": [
       "       id         f0         f1        f2     product\n",
       "0   kBEdx -15.001348  -8.276000 -0.005876    3.179103\n",
       "1   62mP7  14.272088  -3.475083  0.999183   26.953261\n",
       "2   vyE1P   6.263187  -5.948386  5.001160  134.766305\n",
       "3   KcrkZ -13.081196 -11.506057  4.999415  137.945408\n",
       "4   AHL4O  12.702195  -8.147433  5.004363  134.766305\n",
       "5   HHckp  -3.327590  -2.205276  3.003647   84.038886\n",
       "6   h5Ujo -11.142655 -10.133399  4.002382  110.992147\n",
       "7   muH9x   4.234715  -0.001354  2.004588   53.906522\n",
       "8   YiRkx  13.355129  -0.332068  4.998647  134.766305\n",
       "9   jG6Gi   1.069227 -11.025667  4.997844  137.945408\n",
       "10  7uHUe  11.777049  -5.334084  2.003033   53.906522\n",
       "11  OXyvW  16.320755  -0.562946 -0.001783    0.000000\n",
       "12  cB8re   7.736313  -6.093374  3.982531  107.813044\n",
       "13  igmai   6.695604  -0.749449 -0.007630    0.000000\n",
       "14  3OdkE -10.985487  -5.605994  2.991130   84.038886"
      ]
     },
     "metadata": {},
     "output_type": "display_data"
    },
    {
     "name": "stdout",
     "output_type": "stream",
     "text": [
      "<class 'pandas.core.frame.DataFrame'>\n",
      "RangeIndex: 100000 entries, 0 to 99999\n",
      "Data columns (total 5 columns):\n",
      " #   Column   Non-Null Count   Dtype  \n",
      "---  ------   --------------   -----  \n",
      " 0   id       100000 non-null  object \n",
      " 1   f0       100000 non-null  float64\n",
      " 2   f1       100000 non-null  float64\n",
      " 3   f2       100000 non-null  float64\n",
      " 4   product  100000 non-null  float64\n",
      "dtypes: float64(4), object(1)\n",
      "memory usage: 3.8+ MB\n"
     ]
    }
   ],
   "source": [
    "data_1 = pd.read_csv('/datasets/geo_data_1.csv')\n",
    "display(data_1.head(15))\n",
    "data_1.info()"
   ]
  },
  {
   "cell_type": "code",
   "execution_count": 4,
   "metadata": {},
   "outputs": [
    {
     "data": {
      "text/html": [
       "<div>\n",
       "<style scoped>\n",
       "    .dataframe tbody tr th:only-of-type {\n",
       "        vertical-align: middle;\n",
       "    }\n",
       "\n",
       "    .dataframe tbody tr th {\n",
       "        vertical-align: top;\n",
       "    }\n",
       "\n",
       "    .dataframe thead th {\n",
       "        text-align: right;\n",
       "    }\n",
       "</style>\n",
       "<table border=\"1\" class=\"dataframe\">\n",
       "  <thead>\n",
       "    <tr style=\"text-align: right;\">\n",
       "      <th></th>\n",
       "      <th>id</th>\n",
       "      <th>f0</th>\n",
       "      <th>f1</th>\n",
       "      <th>f2</th>\n",
       "      <th>product</th>\n",
       "    </tr>\n",
       "  </thead>\n",
       "  <tbody>\n",
       "    <tr>\n",
       "      <th>0</th>\n",
       "      <td>fwXo0</td>\n",
       "      <td>-1.146987</td>\n",
       "      <td>0.963328</td>\n",
       "      <td>-0.828965</td>\n",
       "      <td>27.758673</td>\n",
       "    </tr>\n",
       "    <tr>\n",
       "      <th>1</th>\n",
       "      <td>WJtFt</td>\n",
       "      <td>0.262778</td>\n",
       "      <td>0.269839</td>\n",
       "      <td>-2.530187</td>\n",
       "      <td>56.069697</td>\n",
       "    </tr>\n",
       "    <tr>\n",
       "      <th>2</th>\n",
       "      <td>ovLUW</td>\n",
       "      <td>0.194587</td>\n",
       "      <td>0.289035</td>\n",
       "      <td>-5.586433</td>\n",
       "      <td>62.871910</td>\n",
       "    </tr>\n",
       "    <tr>\n",
       "      <th>3</th>\n",
       "      <td>q6cA6</td>\n",
       "      <td>2.236060</td>\n",
       "      <td>-0.553760</td>\n",
       "      <td>0.930038</td>\n",
       "      <td>114.572842</td>\n",
       "    </tr>\n",
       "    <tr>\n",
       "      <th>4</th>\n",
       "      <td>WPMUX</td>\n",
       "      <td>-0.515993</td>\n",
       "      <td>1.716266</td>\n",
       "      <td>5.899011</td>\n",
       "      <td>149.600746</td>\n",
       "    </tr>\n",
       "    <tr>\n",
       "      <th>5</th>\n",
       "      <td>LzZXx</td>\n",
       "      <td>-0.758092</td>\n",
       "      <td>0.710691</td>\n",
       "      <td>2.585887</td>\n",
       "      <td>90.222465</td>\n",
       "    </tr>\n",
       "    <tr>\n",
       "      <th>6</th>\n",
       "      <td>WBHRv</td>\n",
       "      <td>-0.574891</td>\n",
       "      <td>0.317727</td>\n",
       "      <td>1.773745</td>\n",
       "      <td>45.641478</td>\n",
       "    </tr>\n",
       "    <tr>\n",
       "      <th>7</th>\n",
       "      <td>XO8fn</td>\n",
       "      <td>-1.906649</td>\n",
       "      <td>-2.458350</td>\n",
       "      <td>-0.177097</td>\n",
       "      <td>72.480640</td>\n",
       "    </tr>\n",
       "    <tr>\n",
       "      <th>8</th>\n",
       "      <td>ybmQ5</td>\n",
       "      <td>1.776292</td>\n",
       "      <td>-0.279356</td>\n",
       "      <td>3.004156</td>\n",
       "      <td>106.616832</td>\n",
       "    </tr>\n",
       "    <tr>\n",
       "      <th>9</th>\n",
       "      <td>OilcN</td>\n",
       "      <td>-1.214452</td>\n",
       "      <td>-0.439314</td>\n",
       "      <td>5.922514</td>\n",
       "      <td>52.954532</td>\n",
       "    </tr>\n",
       "    <tr>\n",
       "      <th>10</th>\n",
       "      <td>myq2g</td>\n",
       "      <td>0.628659</td>\n",
       "      <td>-2.120049</td>\n",
       "      <td>5.362437</td>\n",
       "      <td>166.799132</td>\n",
       "    </tr>\n",
       "    <tr>\n",
       "      <th>11</th>\n",
       "      <td>V9R1y</td>\n",
       "      <td>-0.544565</td>\n",
       "      <td>0.039088</td>\n",
       "      <td>8.635293</td>\n",
       "      <td>150.859435</td>\n",
       "    </tr>\n",
       "    <tr>\n",
       "      <th>12</th>\n",
       "      <td>bKDo0</td>\n",
       "      <td>-0.960453</td>\n",
       "      <td>-0.127113</td>\n",
       "      <td>7.764734</td>\n",
       "      <td>96.910855</td>\n",
       "    </tr>\n",
       "    <tr>\n",
       "      <th>13</th>\n",
       "      <td>eXvhs</td>\n",
       "      <td>1.432891</td>\n",
       "      <td>-1.242074</td>\n",
       "      <td>3.557168</td>\n",
       "      <td>8.704162</td>\n",
       "    </tr>\n",
       "    <tr>\n",
       "      <th>14</th>\n",
       "      <td>wI4j3</td>\n",
       "      <td>-0.935464</td>\n",
       "      <td>2.420523</td>\n",
       "      <td>1.150536</td>\n",
       "      <td>116.829811</td>\n",
       "    </tr>\n",
       "  </tbody>\n",
       "</table>\n",
       "</div>"
      ],
      "text/plain": [
       "       id        f0        f1        f2     product\n",
       "0   fwXo0 -1.146987  0.963328 -0.828965   27.758673\n",
       "1   WJtFt  0.262778  0.269839 -2.530187   56.069697\n",
       "2   ovLUW  0.194587  0.289035 -5.586433   62.871910\n",
       "3   q6cA6  2.236060 -0.553760  0.930038  114.572842\n",
       "4   WPMUX -0.515993  1.716266  5.899011  149.600746\n",
       "5   LzZXx -0.758092  0.710691  2.585887   90.222465\n",
       "6   WBHRv -0.574891  0.317727  1.773745   45.641478\n",
       "7   XO8fn -1.906649 -2.458350 -0.177097   72.480640\n",
       "8   ybmQ5  1.776292 -0.279356  3.004156  106.616832\n",
       "9   OilcN -1.214452 -0.439314  5.922514   52.954532\n",
       "10  myq2g  0.628659 -2.120049  5.362437  166.799132\n",
       "11  V9R1y -0.544565  0.039088  8.635293  150.859435\n",
       "12  bKDo0 -0.960453 -0.127113  7.764734   96.910855\n",
       "13  eXvhs  1.432891 -1.242074  3.557168    8.704162\n",
       "14  wI4j3 -0.935464  2.420523  1.150536  116.829811"
      ]
     },
     "metadata": {},
     "output_type": "display_data"
    },
    {
     "name": "stdout",
     "output_type": "stream",
     "text": [
      "<class 'pandas.core.frame.DataFrame'>\n",
      "RangeIndex: 100000 entries, 0 to 99999\n",
      "Data columns (total 5 columns):\n",
      " #   Column   Non-Null Count   Dtype  \n",
      "---  ------   --------------   -----  \n",
      " 0   id       100000 non-null  object \n",
      " 1   f0       100000 non-null  float64\n",
      " 2   f1       100000 non-null  float64\n",
      " 3   f2       100000 non-null  float64\n",
      " 4   product  100000 non-null  float64\n",
      "dtypes: float64(4), object(1)\n",
      "memory usage: 3.8+ MB\n"
     ]
    }
   ],
   "source": [
    "data_2 = pd.read_csv('/datasets/geo_data_2.csv')\n",
    "display(data_2.head(15))\n",
    "data_2.info()"
   ]
  },
  {
   "cell_type": "markdown",
   "metadata": {},
   "source": [
    "**Вывод**\n",
    "\n",
    "Данные не имеют пропусков, имеют корректный тип. Признаки точек примерно в одном масштабе, будем считать, что данные в масштабировании не нуждаются и подготовлены хорошо."
   ]
  },
  {
   "cell_type": "markdown",
   "metadata": {},
   "source": [
    "## Обучение и проверка модели"
   ]
  },
  {
   "cell_type": "markdown",
   "metadata": {},
   "source": [
    "### Регион 0"
   ]
  },
  {
   "cell_type": "markdown",
   "metadata": {},
   "source": [
    "#### Разобьем данные на обучающую и валидационную выборки в соотношении 75:25"
   ]
  },
  {
   "cell_type": "code",
   "execution_count": 5,
   "metadata": {},
   "outputs": [
    {
     "name": "stdout",
     "output_type": "stream",
     "text": [
      "(100000, 3)\n",
      "(100000,)\n"
     ]
    }
   ],
   "source": [
    "features = data_0[['f0', 'f1', 'f2']]\n",
    "target = data_0['product']\n",
    "print(features.shape)\n",
    "print(target.shape)\n",
    "\n",
    "features_train, features_valid, target_train, target_valid = train_test_split(features, target, train_size=0.75, random_state=12345)"
   ]
  },
  {
   "cell_type": "code",
   "execution_count": 6,
   "metadata": {},
   "outputs": [
    {
     "name": "stdout",
     "output_type": "stream",
     "text": [
      "(75000, 3)\n",
      "(25000, 3)\n"
     ]
    }
   ],
   "source": [
    "# Проверим размеры воборки\n",
    "\n",
    "print(features_train.shape)\n",
    "print(features_valid.shape)"
   ]
  },
  {
   "cell_type": "markdown",
   "metadata": {},
   "source": [
    "#### Обучим модель и сделаем предсказания на валидационной выборке"
   ]
  },
  {
   "cell_type": "code",
   "execution_count": 7,
   "metadata": {},
   "outputs": [
    {
     "data": {
      "text/plain": [
       "LinearRegression()"
      ]
     },
     "execution_count": 7,
     "metadata": {},
     "output_type": "execute_result"
    }
   ],
   "source": [
    "model = LinearRegression()\n",
    "model.fit(features_train, target_train) # обучим модель"
   ]
  },
  {
   "cell_type": "code",
   "execution_count": 8,
   "metadata": {},
   "outputs": [],
   "source": [
    "predictions_valid = model.predict(features_valid) # предсказания модели на валидационной выборке"
   ]
  },
  {
   "cell_type": "markdown",
   "metadata": {},
   "source": [
    "#### Сохраним предсказания и правильные ответы на валидационной выборке."
   ]
  },
  {
   "cell_type": "code",
   "execution_count": 9,
   "metadata": {},
   "outputs": [],
   "source": [
    "target_valid_0 = target_valid\n",
    "target_mean_0 = target.mean()\n",
    "predictions_valid_0 = predictions_valid"
   ]
  },
  {
   "cell_type": "markdown",
   "metadata": {},
   "source": [
    "#### Напечатаем на экране средний запас предсказанного сырья и RMSE модели."
   ]
  },
  {
   "cell_type": "code",
   "execution_count": 10,
   "metadata": {},
   "outputs": [
    {
     "name": "stdout",
     "output_type": "stream",
     "text": [
      "Средний запас предсказанного сырья: 92.59256778438035 тыс. баррелей\n",
      "Средний запас сырья: 92.50000000000001 тыс. баррелей\n"
     ]
    }
   ],
   "source": [
    "print('Средний запас предсказанного сырья:', predictions_valid_0.mean(), 'тыс. баррелей')\n",
    "print('Средний запас сырья:', target_mean_0, 'тыс. баррелей')"
   ]
  },
  {
   "cell_type": "code",
   "execution_count": 11,
   "metadata": {},
   "outputs": [
    {
     "name": "stdout",
     "output_type": "stream",
     "text": [
      "RMSE модели линейной регрессии на валидационной выборке: 37.5794217150813 тыс. баррелей\n"
     ]
    }
   ],
   "source": [
    "result_0 = mean_squared_error(target_valid, predictions_valid)**0.5\n",
    "print(\"RMSE модели линейной регрессии на валидационной выборке:\", result_0, 'тыс. баррелей')"
   ]
  },
  {
   "cell_type": "markdown",
   "metadata": {},
   "source": [
    "#### Проанализируем результаты."
   ]
  },
  {
   "cell_type": "markdown",
   "metadata": {},
   "source": [
    "Для Региона 0 RMSE модели очень высокий и составлет 40% от среднего запаса предсказанного сырья по валидационной выборке. "
   ]
  },
  {
   "cell_type": "markdown",
   "metadata": {},
   "source": [
    "### Регион 1"
   ]
  },
  {
   "cell_type": "markdown",
   "metadata": {},
   "source": [
    "#### Разобьем данные на обучающую и валидационную выборки в соотношении 75:25"
   ]
  },
  {
   "cell_type": "code",
   "execution_count": 12,
   "metadata": {},
   "outputs": [
    {
     "name": "stdout",
     "output_type": "stream",
     "text": [
      "(100000, 3)\n",
      "(100000,)\n"
     ]
    }
   ],
   "source": [
    "features = data_1[['f0', 'f1', 'f2']]\n",
    "target = data_1['product']\n",
    "print(features.shape)\n",
    "print(target.shape)\n",
    "\n",
    "features_train, features_valid, target_train, target_valid = train_test_split(features, target, train_size=0.75, random_state=12345)"
   ]
  },
  {
   "cell_type": "code",
   "execution_count": 13,
   "metadata": {},
   "outputs": [
    {
     "name": "stdout",
     "output_type": "stream",
     "text": [
      "(75000, 3)\n",
      "(25000, 3)\n"
     ]
    }
   ],
   "source": [
    "# Проверим размеры воборки\n",
    "\n",
    "print(features_train.shape)\n",
    "print(features_valid.shape)"
   ]
  },
  {
   "cell_type": "markdown",
   "metadata": {},
   "source": [
    "#### Обучим модель и сделаем предсказания на валидационной выборке"
   ]
  },
  {
   "cell_type": "code",
   "execution_count": 14,
   "metadata": {},
   "outputs": [
    {
     "data": {
      "text/plain": [
       "LinearRegression()"
      ]
     },
     "execution_count": 14,
     "metadata": {},
     "output_type": "execute_result"
    }
   ],
   "source": [
    "model = LinearRegression()\n",
    "model.fit(features_train, target_train) # обучим модель"
   ]
  },
  {
   "cell_type": "code",
   "execution_count": 15,
   "metadata": {},
   "outputs": [],
   "source": [
    "predictions_valid = model.predict(features_valid) # предсказания модели на валидационной выборке"
   ]
  },
  {
   "cell_type": "markdown",
   "metadata": {},
   "source": [
    "#### Сохраним предсказания и правильные ответы на валидационной выборке."
   ]
  },
  {
   "cell_type": "code",
   "execution_count": 16,
   "metadata": {},
   "outputs": [],
   "source": [
    "target_valid_1 = target_valid\n",
    "target_mean_1 = target.mean()\n",
    "predictions_valid_1 = predictions_valid"
   ]
  },
  {
   "cell_type": "markdown",
   "metadata": {},
   "source": [
    "#### Напечатаем на экране средний запас предсказанного сырья и RMSE модели."
   ]
  },
  {
   "cell_type": "code",
   "execution_count": 17,
   "metadata": {},
   "outputs": [
    {
     "name": "stdout",
     "output_type": "stream",
     "text": [
      "Средний запас предсказанного сырья: 68.728546895446 тыс. баррелей\n",
      "Средний запас сырья: 68.82500000000002 тыс. баррелей\n"
     ]
    }
   ],
   "source": [
    "print('Средний запас предсказанного сырья:', predictions_valid_1.mean(), 'тыс. баррелей')\n",
    "print('Средний запас сырья:', target_mean_1, 'тыс. баррелей')"
   ]
  },
  {
   "cell_type": "code",
   "execution_count": 18,
   "metadata": {},
   "outputs": [
    {
     "name": "stdout",
     "output_type": "stream",
     "text": [
      "RMSE модели линейной регрессии на валидационной выборке: 0.893099286775617 тыс. баррелей\n"
     ]
    }
   ],
   "source": [
    "result_1 = mean_squared_error(target_valid, predictions_valid)**0.5\n",
    "print(\"RMSE модели линейной регрессии на валидационной выборке:\", result_1, 'тыс. баррелей')"
   ]
  },
  {
   "cell_type": "markdown",
   "metadata": {},
   "source": [
    "#### Проанализируем результаты."
   ]
  },
  {
   "cell_type": "markdown",
   "metadata": {},
   "source": [
    "Для Региона 1 RMSE модели небольшое относительно среднего запаса предсказанного сырья по валидационной выборке и составляет 1,3%."
   ]
  },
  {
   "cell_type": "markdown",
   "metadata": {},
   "source": [
    "### Регион 2"
   ]
  },
  {
   "cell_type": "markdown",
   "metadata": {},
   "source": [
    "#### Разобьем данные на обучающую и валидационную выборки в соотношении 75:25"
   ]
  },
  {
   "cell_type": "code",
   "execution_count": 19,
   "metadata": {},
   "outputs": [
    {
     "name": "stdout",
     "output_type": "stream",
     "text": [
      "(100000, 3)\n",
      "(100000,)\n"
     ]
    }
   ],
   "source": [
    "features = data_2[['f0', 'f1', 'f2']]\n",
    "target = data_2['product']\n",
    "print(features.shape)\n",
    "print(target.shape)\n",
    "\n",
    "features_train, features_valid, target_train, target_valid = train_test_split(features, target, train_size=0.75, random_state=12345)"
   ]
  },
  {
   "cell_type": "code",
   "execution_count": 20,
   "metadata": {},
   "outputs": [
    {
     "name": "stdout",
     "output_type": "stream",
     "text": [
      "(75000, 3)\n",
      "(25000, 3)\n"
     ]
    }
   ],
   "source": [
    "# Проверим размеры воборки\n",
    "\n",
    "print(features_train.shape)\n",
    "print(features_valid.shape)"
   ]
  },
  {
   "cell_type": "markdown",
   "metadata": {},
   "source": [
    "#### Обучим модель и сделаем предсказания на валидационной выборке"
   ]
  },
  {
   "cell_type": "code",
   "execution_count": 21,
   "metadata": {},
   "outputs": [
    {
     "data": {
      "text/plain": [
       "LinearRegression()"
      ]
     },
     "execution_count": 21,
     "metadata": {},
     "output_type": "execute_result"
    }
   ],
   "source": [
    "model = LinearRegression()\n",
    "model.fit(features_train, target_train) # обучим модель"
   ]
  },
  {
   "cell_type": "code",
   "execution_count": 22,
   "metadata": {},
   "outputs": [],
   "source": [
    "predictions_valid = model.predict(features_valid) # предсказания модели на валидационной выборке"
   ]
  },
  {
   "cell_type": "markdown",
   "metadata": {},
   "source": [
    "#### Сохраним предсказания и правильные ответы на валидационной выборке."
   ]
  },
  {
   "cell_type": "code",
   "execution_count": 23,
   "metadata": {},
   "outputs": [],
   "source": [
    "target_valid_2 = target_valid\n",
    "target_mean_2 = target.mean()\n",
    "predictions_valid_2 = predictions_valid"
   ]
  },
  {
   "cell_type": "markdown",
   "metadata": {},
   "source": [
    "#### Напечатаем на экране средний запас предсказанного сырья и RMSE модели."
   ]
  },
  {
   "cell_type": "code",
   "execution_count": 24,
   "metadata": {},
   "outputs": [
    {
     "name": "stdout",
     "output_type": "stream",
     "text": [
      "Средний запас предсказанного сырья: 94.96504596800489 тыс. баррелей\n",
      "Средний запас сырья: 95.00000000000004 тыс. баррелей\n"
     ]
    }
   ],
   "source": [
    "print('Средний запас предсказанного сырья:', predictions_valid_2.mean(), 'тыс. баррелей')\n",
    "print('Средний запас сырья:', target_mean_2, 'тыс. баррелей')"
   ]
  },
  {
   "cell_type": "code",
   "execution_count": 25,
   "metadata": {},
   "outputs": [
    {
     "name": "stdout",
     "output_type": "stream",
     "text": [
      "RMSE модели линейной регрессии на валидационной выборке: 40.02970873393434 тыс. баррелей\n"
     ]
    }
   ],
   "source": [
    "result_2 = mean_squared_error(target_valid, predictions_valid)**0.5\n",
    "print(\"RMSE модели линейной регрессии на валидационной выборке:\", result_2, 'тыс. баррелей')"
   ]
  },
  {
   "cell_type": "markdown",
   "metadata": {},
   "source": [
    "#### Проанализируем результаты."
   ]
  },
  {
   "cell_type": "markdown",
   "metadata": {},
   "source": [
    "Для Региона 2 RMSE модели высокое относительно среднего запаса предсказанного сырья по валидационной выборке и составляет 42%.\n",
    "Средний запас предсказанного сырья совпадает с реальным средним значением только для региона 2, не смотря на высокий RMSE."
   ]
  },
  {
   "cell_type": "markdown",
   "metadata": {},
   "source": [
    "## Подготовка к расчёту прибыли"
   ]
  },
  {
   "cell_type": "markdown",
   "metadata": {},
   "source": [
    "### Все ключевые значения для расчётов сохраним в отдельных переменных."
   ]
  },
  {
   "cell_type": "code",
   "execution_count": 26,
   "metadata": {},
   "outputs": [],
   "source": [
    "budget = 10000000 # бюджет на разработку скважин в регионе (тыс.рублей)\n",
    "unit = 450 # доход с единицы продукта (тыс.руб)\n",
    "n = 200 # Кол-во разрабатываемых скважин"
   ]
  },
  {
   "cell_type": "markdown",
   "metadata": {},
   "source": [
    "### Рассчёт достаточного объёма сырья для безубыточной разработки новой скважины. Сравнение полученного объёма сырья со средним запасом в каждом регионе."
   ]
  },
  {
   "cell_type": "code",
   "execution_count": 27,
   "metadata": {},
   "outputs": [
    {
     "name": "stdout",
     "output_type": "stream",
     "text": [
      "Объём сырья для безубыточной разработки новой скважины составляет 111.11111111111111 тыс.баррелей\n"
     ]
    }
   ],
   "source": [
    "# минимальный объем запасов в скважине для безубыточной разработки (тыс. баррелей)\n",
    "product_min = budget / (unit * n)\n",
    "print('Объём сырья для безубыточной разработки новой скважины составляет', product_min, 'тыс.баррелей')"
   ]
  },
  {
   "cell_type": "code",
   "execution_count": 28,
   "metadata": {},
   "outputs": [
    {
     "name": "stdout",
     "output_type": "stream",
     "text": [
      "Средний запас скважины в регионе 0 меньше рассчётного объёма сырья для безубыточной разработки\n"
     ]
    }
   ],
   "source": [
    "if product_min > data_0['product'].mean():\n",
    "    print('Средний запас скважины в регионе 0 меньше рассчётного объёма сырья для безубыточной разработки')\n",
    "elif product_min < data_0['product'].mean():\n",
    "    print('Средний запас скважины в регионе 0 больше рассчётного объёма сырья для безубыточной разработки')\n",
    "else:\n",
    "    print('Средний запас скважины в регионе 0 равен рассчётному объёму сырья для безубыточной разработки')"
   ]
  },
  {
   "cell_type": "code",
   "execution_count": 29,
   "metadata": {},
   "outputs": [
    {
     "name": "stdout",
     "output_type": "stream",
     "text": [
      "Средний запас скважины в регионе 1 меньше рассчётного объёма сырья для безубыточной разработки\n"
     ]
    }
   ],
   "source": [
    "if product_min > data_1['product'].mean():\n",
    "    print('Средний запас скважины в регионе 1 меньше рассчётного объёма сырья для безубыточной разработки')\n",
    "elif product_min < data_1['product'].mean():\n",
    "    print('Средний запас скважины в регионе 1 больше рассчётного объёма сырья для безубыточной разработки')\n",
    "else:\n",
    "    print('Средний запас скважины в регионе 1 равен рассчётному объёму сырья для безубыточной разработки')"
   ]
  },
  {
   "cell_type": "code",
   "execution_count": 30,
   "metadata": {},
   "outputs": [
    {
     "name": "stdout",
     "output_type": "stream",
     "text": [
      "Средний запас скважины в регионе 2 меньше рассчётного объёма сырья для безубыточной разработки\n"
     ]
    }
   ],
   "source": [
    "if product_min > data_2['product'].mean():\n",
    "    print('Средний запас скважины в регионе 2 меньше рассчётного объёма сырья для безубыточной разработки')\n",
    "elif product_min < data_2['product'].mean():\n",
    "    print('Средний запас скважины в регионе 2 больше рассчётного объёма сырья для безубыточной разработки')\n",
    "else:\n",
    "    print('Средний запас скважины в регионе 2 равен рассчётному объёму сырья для безубыточной разработки')"
   ]
  },
  {
   "cell_type": "markdown",
   "metadata": {},
   "source": [
    "### Выводы по этапу подготовки расчёта прибыли."
   ]
  },
  {
   "cell_type": "markdown",
   "metadata": {},
   "source": [
    "Объём сырья для безубыточной разработки новой скважины составляет 111,1 тыс.баррелей.\n",
    "\n",
    "Во всех трех регионах средний запас действующих скважин меньше безубыточного объема скважины. Наибольший разрыв наблюдается в регионе 1.\n",
    "\n",
    "Из чего можно сделать вывод, что действующие регионы для разработки не достаточно прибыльные и следует найти более эффективные месторождения для разработки."
   ]
  },
  {
   "cell_type": "markdown",
   "metadata": {},
   "source": [
    "## Расчёт прибыли и рисков "
   ]
  },
  {
   "cell_type": "markdown",
   "metadata": {},
   "source": [
    "Напишем функцию для расчета прибыли 200 лучших скважин"
   ]
  },
  {
   "cell_type": "raw",
   "metadata": {},
   "source": [
    "def best(predictions, target):\n",
    "    best_predictions = predictions.sort_values(ascending=False).head(200) # определение 200 лучших предсказанных скважин\n",
    "    target_best_sum = target[best_predictions.index].sum() # сумма объемов тех же скважин, но в реальных значениях\n",
    "    budget_best = target_best_sum * unit - budget # расчет прибыли\n",
    "    return budget_best"
   ]
  },
  {
   "cell_type": "code",
   "execution_count": 31,
   "metadata": {},
   "outputs": [],
   "source": [
    "def best(predictions, target):\n",
    "    best_predictions = predictions.sort_values(ascending=False) # определение 200 лучших предсказанных скважин\n",
    "    target_best_sum = target[best_predictions.index].head(200).sum() # сумма объемов тех же скважин, но в реальных значениях\n",
    "    budget_best = target_best_sum * unit - budget # расчет прибыли\n",
    "    return budget_best"
   ]
  },
  {
   "cell_type": "markdown",
   "metadata": {},
   "source": [
    "## Подсчёт рисков и прибыли для каждого региона"
   ]
  },
  {
   "cell_type": "markdown",
   "metadata": {},
   "source": [
    "### Регион 0"
   ]
  },
  {
   "cell_type": "markdown",
   "metadata": {},
   "source": [
    "#### Применение техники Bootstrap с 1000 выборок, чтобы найти распределение прибыли."
   ]
  },
  {
   "cell_type": "code",
   "execution_count": 32,
   "metadata": {},
   "outputs": [],
   "source": [
    "target_valid_0 = target_valid_0.reset_index(drop=True) # сбросим индексы выборки\n",
    "predictions_valid_0 = pd.Series(predictions_valid_0).reset_index(drop=True) # сбросим индексы выборки"
   ]
  },
  {
   "cell_type": "code",
   "execution_count": 33,
   "metadata": {},
   "outputs": [],
   "source": [
    "state = np.random.RandomState(12345)\n",
    "values = []\n",
    "for i in range(1000):\n",
    "    target_subsample = target_valid_0.sample(n=500, replace=True, random_state=state) # выберем 500 случайных скважин\n",
    "    predicted_subsample = predictions_valid_0[target_subsample.index] # выберем 500 тех же скважин на валидацонной выборке\n",
    "    values.append(best(predicted_subsample, target_subsample)) # определим прибыль 200 лучших скважин из выбранных 500"
   ]
  },
  {
   "cell_type": "markdown",
   "metadata": {},
   "source": [
    "#### Средняя прибыль, 95%-й доверительный интервал и риск убытков. Убыток — это отрицательная прибыль."
   ]
  },
  {
   "cell_type": "code",
   "execution_count": 34,
   "metadata": {},
   "outputs": [
    {
     "name": "stdout",
     "output_type": "stream",
     "text": [
      "Средняя прибыль 425938.5269105924 тыс.рублей\n",
      "Доверительный интервал -102090.09483793723 - 947976.353358369 тыс.рублей\n"
     ]
    }
   ],
   "source": [
    "values = pd.Series(values)\n",
    " \n",
    "lower = values.quantile(0.025)\n",
    "upper = values.quantile(0.975)\n",
    "mean = values.mean()\n",
    "\n",
    "print('Средняя прибыль', mean, 'тыс.рублей')\n",
    "print('Доверительный интервал', lower, '-', upper, 'тыс.рублей')"
   ]
  },
  {
   "cell_type": "code",
   "execution_count": 35,
   "metadata": {},
   "outputs": [
    {
     "name": "stdout",
     "output_type": "stream",
     "text": [
      "Для региона 0 риск убытков составляет 6.0 %\n"
     ]
    }
   ],
   "source": [
    "count = 0\n",
    "for i in range(len(values)):\n",
    "    if values[i] <= 0:\n",
    "        count += 1\n",
    "        \n",
    "print('Для региона 0 риск убытков составляет', count/len(values)*100, '%')"
   ]
  },
  {
   "cell_type": "markdown",
   "metadata": {},
   "source": [
    "### Регион 1"
   ]
  },
  {
   "cell_type": "markdown",
   "metadata": {},
   "source": [
    "#### Применение техники Bootstrap с 1000 выборок, чтобы найти распределение прибыли."
   ]
  },
  {
   "cell_type": "code",
   "execution_count": 36,
   "metadata": {},
   "outputs": [],
   "source": [
    "target_valid_1 = target_valid_1.reset_index(drop=True) # сбросим индексы выборки\n",
    "predictions_valid_1 = pd.Series(predictions_valid_1).reset_index(drop=True) # сбросим индексы выборки"
   ]
  },
  {
   "cell_type": "code",
   "execution_count": 37,
   "metadata": {},
   "outputs": [],
   "source": [
    "state = np.random.RandomState(12345)\n",
    "values = []\n",
    "for i in range(1000):\n",
    "    target_subsample = target_valid_1.sample(n=500, replace=True, random_state=state) # выберем 500 случайных скважин\n",
    "    predicted_subsample = predictions_valid_1[target_subsample.index] # выберем 500 тех же скважин на валидацонной выборке\n",
    "    values.append(best(predicted_subsample, target_subsample)) # определим прибыль 200 лучших скважин из выбранных 500"
   ]
  },
  {
   "cell_type": "markdown",
   "metadata": {},
   "source": [
    "#### Средняя прибыль, 95%-й доверительный интервал и риск убытков. Убыток — это отрицательная прибыль."
   ]
  },
  {
   "cell_type": "code",
   "execution_count": 38,
   "metadata": {},
   "outputs": [
    {
     "name": "stdout",
     "output_type": "stream",
     "text": [
      "Средняя прибыль 515222.77344328986 тыс.рублей\n",
      "Доверительный интервал 68873.22537050233 - 931547.5912570491 тыс.рублей\n"
     ]
    }
   ],
   "source": [
    "values = pd.Series(values)\n",
    " \n",
    "lower = values.quantile(0.025)\n",
    "upper = values.quantile(0.975)\n",
    "mean = values.mean()\n",
    "\n",
    "print('Средняя прибыль', mean, 'тыс.рублей')\n",
    "print('Доверительный интервал', lower, '-', upper, 'тыс.рублей')"
   ]
  },
  {
   "cell_type": "code",
   "execution_count": 39,
   "metadata": {},
   "outputs": [
    {
     "name": "stdout",
     "output_type": "stream",
     "text": [
      "Для региона 1 риск убытков составляет 1.0 %\n"
     ]
    }
   ],
   "source": [
    "count = 0\n",
    "for i in range(len(values)):\n",
    "    if values[i] <= 0:\n",
    "        count += 1\n",
    "        \n",
    "print('Для региона 1 риск убытков составляет', count/len(values)*100, '%')"
   ]
  },
  {
   "cell_type": "markdown",
   "metadata": {},
   "source": [
    "### Регион 2"
   ]
  },
  {
   "cell_type": "markdown",
   "metadata": {},
   "source": [
    "#### Применение техники Bootstrap с 1000 выборок, чтобы найти распределение прибыли."
   ]
  },
  {
   "cell_type": "code",
   "execution_count": 301,
   "metadata": {},
   "outputs": [],
   "source": [
    "target_valid_2 = target_valid_2.reset_index(drop=True) # сбросим индексы выборки\n",
    "predictions_valid_2 = pd.Series(predictions_valid_2).reset_index(drop=True) # сбросим индексы выборки"
   ]
  },
  {
   "cell_type": "code",
   "execution_count": 302,
   "metadata": {},
   "outputs": [],
   "source": [
    "state = np.random.RandomState(12345)\n",
    "values = []\n",
    "for i in range(1000):\n",
    "    target_subsample = target_valid_2.sample(n=500, replace=True, random_state=state) # выберем 500 случайных скважин\n",
    "    predicted_subsample = predictions_valid_2[target_subsample.index] # выберем 500 тех же скважин на валидацонной выборке\n",
    "    values.append(best(predicted_subsample, target_subsample)) # определим прибыль 200 лучших скважин из выбранных 500"
   ]
  },
  {
   "cell_type": "markdown",
   "metadata": {},
   "source": [
    "#### Средняя прибыль, 95%-й доверительный интервал и риск убытков. Убыток — это отрицательная прибыль."
   ]
  },
  {
   "cell_type": "code",
   "execution_count": 303,
   "metadata": {},
   "outputs": [
    {
     "name": "stdout",
     "output_type": "stream",
     "text": [
      "Средняя прибыль 435008.3627827556 тыс.рублей\n",
      "Доверительный интервал -128880.54732978888 - 969706.9541802666 тыс.рублей\n"
     ]
    }
   ],
   "source": [
    "values = pd.Series(values)\n",
    " \n",
    "lower = values.quantile(0.025)\n",
    "upper = values.quantile(0.975)\n",
    "mean = values.mean()\n",
    "\n",
    "print('Средняя прибыль', mean, 'тыс.рублей')\n",
    "print('Доверительный интервал', lower, '-', upper, 'тыс.рублей')"
   ]
  },
  {
   "cell_type": "code",
   "execution_count": 304,
   "metadata": {},
   "outputs": [
    {
     "name": "stdout",
     "output_type": "stream",
     "text": [
      "Для региона 2 риск убытков составляет 6.4 %\n"
     ]
    }
   ],
   "source": [
    "count = 0\n",
    "for i in range(len(values)):\n",
    "    if values[i] <= 0:\n",
    "        count += 1\n",
    "        \n",
    "print('Для региона 2 риск убытков составляет', count/len(values)*100, '%')"
   ]
  },
  {
   "cell_type": "markdown",
   "metadata": {},
   "source": [
    "### Выводы:"
   ]
  },
  {
   "cell_type": "markdown",
   "metadata": {},
   "source": [
    "В работе были расммотрены три региона разрабатываемых скважин. На основе данных по реальному объему добычи были обучены модели по прогнозу добычи нефти. Согласно предсказаниям были отобраны 200 наиболее продуктивных скважин из 500 случайно выбранных в каждом регионе, и оценены реальные доходы с указанных 200 скважин. На основе чего был сделан вывод о прибыльности того или иного региона выработок.\n",
    "\n",
    "Регион 2 показал себя как убыточный, т.к. средний доход и доверительный интервал по доходу у региона 2 находятся в отрицательных значениях. В связи с чем, регион 2 рассматривать для дальнейших разработок не стоит.\n",
    "\n",
    "Максимальная средняя прибыль с 200 лучших скважин наблюдается в регионе 1. Одновременно с этим, доверительный интервал в регионе 1 уже, чем доверительный интервал в регионе 0, и максимальных значений по прибыли возможно достичь в регионе 0, если выработки будут ближе к максимально возможным. Однако, если придерживаться средних значений, для дальнейшей разработки надежнее выбрать регион 1. Ко всему прочему, именно в регионе 1 наблюдается самый низкий % риска убытков (1%)."
   ]
  }
 ],
 "metadata": {
  "ExecuteTimeLog": [
   {
    "duration": 45,
    "start_time": "2022-03-25T07:23:49.832Z"
   },
   {
    "duration": 6,
    "start_time": "2022-03-25T07:23:53.797Z"
   },
   {
    "duration": 356,
    "start_time": "2022-03-25T07:26:06.457Z"
   },
   {
    "duration": 138,
    "start_time": "2022-03-25T07:26:07.309Z"
   },
   {
    "duration": 129,
    "start_time": "2022-03-25T07:26:51.585Z"
   },
   {
    "duration": 138,
    "start_time": "2022-03-25T07:27:43.944Z"
   },
   {
    "duration": 140,
    "start_time": "2022-03-25T07:28:04.431Z"
   },
   {
    "duration": 468,
    "start_time": "2022-03-25T12:19:55.474Z"
   },
   {
    "duration": 160,
    "start_time": "2022-03-25T12:19:55.944Z"
   },
   {
    "duration": 148,
    "start_time": "2022-03-25T12:19:56.106Z"
   },
   {
    "duration": 148,
    "start_time": "2022-03-25T12:19:56.256Z"
   },
   {
    "duration": 68,
    "start_time": "2022-03-25T12:19:56.406Z"
   },
   {
    "duration": 11,
    "start_time": "2022-03-25T12:22:14.114Z"
   },
   {
    "duration": 2233,
    "start_time": "2022-03-25T12:22:32.352Z"
   },
   {
    "duration": 2393,
    "start_time": "2022-03-25T12:22:50.793Z"
   },
   {
    "duration": 10,
    "start_time": "2022-03-25T12:23:01.960Z"
   },
   {
    "duration": 877,
    "start_time": "2022-03-25T12:23:25.505Z"
   },
   {
    "duration": 155,
    "start_time": "2022-03-25T12:23:26.384Z"
   },
   {
    "duration": 149,
    "start_time": "2022-03-25T12:23:26.541Z"
   },
   {
    "duration": 150,
    "start_time": "2022-03-25T12:23:26.700Z"
   },
   {
    "duration": 17,
    "start_time": "2022-03-25T12:23:26.851Z"
   },
   {
    "duration": 64,
    "start_time": "2022-03-25T12:26:36.019Z"
   },
   {
    "duration": 33,
    "start_time": "2022-03-25T12:26:59.009Z"
   },
   {
    "duration": 63,
    "start_time": "2022-03-25T12:27:03.608Z"
   },
   {
    "duration": 20,
    "start_time": "2022-03-25T12:27:32.557Z"
   },
   {
    "duration": 756,
    "start_time": "2022-03-25T12:27:33.082Z"
   },
   {
    "duration": 3,
    "start_time": "2022-03-25T12:27:41.616Z"
   },
   {
    "duration": 217,
    "start_time": "2022-03-25T12:27:41.621Z"
   },
   {
    "duration": 202,
    "start_time": "2022-03-25T12:27:41.840Z"
   },
   {
    "duration": 177,
    "start_time": "2022-03-25T12:27:42.044Z"
   },
   {
    "duration": 17,
    "start_time": "2022-03-25T12:27:42.224Z"
   },
   {
    "duration": 59,
    "start_time": "2022-03-25T12:27:42.243Z"
   },
   {
    "duration": 18,
    "start_time": "2022-03-25T12:34:43.855Z"
   },
   {
    "duration": 3,
    "start_time": "2022-03-25T12:36:37.159Z"
   },
   {
    "duration": 14,
    "start_time": "2022-03-25T12:36:54.373Z"
   },
   {
    "duration": 3,
    "start_time": "2022-03-25T12:36:57.321Z"
   },
   {
    "duration": 4,
    "start_time": "2022-03-25T12:37:06.640Z"
   },
   {
    "duration": 13,
    "start_time": "2022-03-25T12:37:11.804Z"
   },
   {
    "duration": 4,
    "start_time": "2022-03-25T12:37:33.341Z"
   },
   {
    "duration": 340,
    "start_time": "2022-03-25T12:37:33.347Z"
   },
   {
    "duration": 149,
    "start_time": "2022-03-25T12:37:33.689Z"
   },
   {
    "duration": 153,
    "start_time": "2022-03-25T12:37:33.840Z"
   },
   {
    "duration": 19,
    "start_time": "2022-03-25T12:37:33.995Z"
   },
   {
    "duration": 82,
    "start_time": "2022-03-25T12:37:34.016Z"
   },
   {
    "duration": 113,
    "start_time": "2022-03-25T12:37:34.100Z"
   },
   {
    "duration": 13,
    "start_time": "2022-03-25T12:44:44.871Z"
   },
   {
    "duration": 11,
    "start_time": "2022-03-25T12:45:38.659Z"
   },
   {
    "duration": 3,
    "start_time": "2022-03-25T12:45:58.245Z"
   },
   {
    "duration": 19,
    "start_time": "2022-03-25T12:46:01.325Z"
   },
   {
    "duration": 12,
    "start_time": "2022-03-25T12:48:25.775Z"
   },
   {
    "duration": 5,
    "start_time": "2022-03-25T12:50:30.438Z"
   },
   {
    "duration": 5,
    "start_time": "2022-03-25T12:51:10.367Z"
   },
   {
    "duration": 5,
    "start_time": "2022-03-25T12:51:11.829Z"
   },
   {
    "duration": 13,
    "start_time": "2022-03-25T12:51:53.847Z"
   },
   {
    "duration": 3,
    "start_time": "2022-03-25T12:51:55.903Z"
   },
   {
    "duration": 18,
    "start_time": "2022-03-25T12:56:06.622Z"
   },
   {
    "duration": 5,
    "start_time": "2022-03-25T12:59:39.513Z"
   },
   {
    "duration": 14,
    "start_time": "2022-03-25T13:00:06.149Z"
   },
   {
    "duration": 5,
    "start_time": "2022-03-25T13:00:12.031Z"
   },
   {
    "duration": 4,
    "start_time": "2022-03-25T13:07:01.761Z"
   },
   {
    "duration": 3,
    "start_time": "2022-03-25T13:10:58.261Z"
   },
   {
    "duration": 13,
    "start_time": "2022-03-25T13:31:58.872Z"
   },
   {
    "duration": 8,
    "start_time": "2022-03-25T13:32:09.966Z"
   },
   {
    "duration": 12,
    "start_time": "2022-03-25T13:32:41.002Z"
   },
   {
    "duration": 8,
    "start_time": "2022-03-25T13:33:21.813Z"
   },
   {
    "duration": 3,
    "start_time": "2022-03-25T13:33:57.418Z"
   },
   {
    "duration": 4,
    "start_time": "2022-03-25T13:34:25.410Z"
   },
   {
    "duration": 5,
    "start_time": "2022-03-25T13:34:41.116Z"
   },
   {
    "duration": 71,
    "start_time": "2022-03-25T15:21:06.388Z"
   },
   {
    "duration": 1568,
    "start_time": "2022-03-25T15:21:09.245Z"
   },
   {
    "duration": 334,
    "start_time": "2022-03-25T15:21:10.816Z"
   },
   {
    "duration": 549,
    "start_time": "2022-03-25T15:21:11.152Z"
   },
   {
    "duration": 183,
    "start_time": "2022-03-25T15:21:11.704Z"
   },
   {
    "duration": 22,
    "start_time": "2022-03-25T15:21:11.890Z"
   },
   {
    "duration": 6,
    "start_time": "2022-03-25T15:21:11.915Z"
   },
   {
    "duration": 65,
    "start_time": "2022-03-25T15:21:11.923Z"
   },
   {
    "duration": 12,
    "start_time": "2022-03-25T15:21:11.990Z"
   },
   {
    "duration": 176,
    "start_time": "2022-03-25T15:21:12.005Z"
   },
   {
    "duration": 13,
    "start_time": "2022-03-25T15:21:12.185Z"
   },
   {
    "duration": 8,
    "start_time": "2022-03-25T15:21:12.200Z"
   },
   {
    "duration": 21,
    "start_time": "2022-03-25T15:21:12.210Z"
   },
   {
    "duration": 5,
    "start_time": "2022-03-25T15:21:12.233Z"
   },
   {
    "duration": 50,
    "start_time": "2022-03-25T15:21:12.240Z"
   },
   {
    "duration": 9,
    "start_time": "2022-03-25T15:21:12.292Z"
   },
   {
    "duration": 109,
    "start_time": "2022-03-25T15:21:12.377Z"
   },
   {
    "duration": 27,
    "start_time": "2022-03-25T15:21:12.488Z"
   },
   {
    "duration": 19,
    "start_time": "2022-03-25T15:21:12.517Z"
   },
   {
    "duration": 29,
    "start_time": "2022-03-25T15:21:12.538Z"
   },
   {
    "duration": 5,
    "start_time": "2022-03-25T15:21:41.950Z"
   },
   {
    "duration": 14,
    "start_time": "2022-03-25T15:26:11.195Z"
   },
   {
    "duration": 7,
    "start_time": "2022-03-25T15:26:22.524Z"
   },
   {
    "duration": 3,
    "start_time": "2022-03-25T15:27:01.527Z"
   },
   {
    "duration": 5,
    "start_time": "2022-03-25T15:27:32.509Z"
   },
   {
    "duration": 7,
    "start_time": "2022-03-25T15:27:41.306Z"
   },
   {
    "duration": 4,
    "start_time": "2022-03-25T15:28:54.102Z"
   },
   {
    "duration": 194,
    "start_time": "2022-03-25T15:28:54.109Z"
   },
   {
    "duration": 184,
    "start_time": "2022-03-25T15:28:54.305Z"
   },
   {
    "duration": 217,
    "start_time": "2022-03-25T15:28:54.494Z"
   },
   {
    "duration": 18,
    "start_time": "2022-03-25T15:28:54.714Z"
   },
   {
    "duration": 5,
    "start_time": "2022-03-25T15:28:54.735Z"
   },
   {
    "duration": 53,
    "start_time": "2022-03-25T15:28:54.742Z"
   },
   {
    "duration": 9,
    "start_time": "2022-03-25T15:28:54.798Z"
   },
   {
    "duration": 66,
    "start_time": "2022-03-25T15:28:54.810Z"
   },
   {
    "duration": 98,
    "start_time": "2022-03-25T15:28:54.883Z"
   },
   {
    "duration": 7,
    "start_time": "2022-03-25T15:28:54.983Z"
   },
   {
    "duration": 16,
    "start_time": "2022-03-25T15:28:54.993Z"
   },
   {
    "duration": 5,
    "start_time": "2022-03-25T15:28:55.012Z"
   },
   {
    "duration": 68,
    "start_time": "2022-03-25T15:28:55.019Z"
   },
   {
    "duration": 96,
    "start_time": "2022-03-25T15:28:55.093Z"
   },
   {
    "duration": 5,
    "start_time": "2022-03-25T15:28:55.194Z"
   },
   {
    "duration": 15,
    "start_time": "2022-03-25T15:28:55.275Z"
   },
   {
    "duration": 8,
    "start_time": "2022-03-25T15:28:55.293Z"
   },
   {
    "duration": 19,
    "start_time": "2022-03-25T15:28:55.303Z"
   },
   {
    "duration": 8,
    "start_time": "2022-03-25T15:28:55.324Z"
   },
   {
    "duration": 25,
    "start_time": "2022-03-25T15:28:55.379Z"
   },
   {
    "duration": 17,
    "start_time": "2022-03-25T15:28:55.407Z"
   },
   {
    "duration": 6,
    "start_time": "2022-03-25T15:28:55.479Z"
   },
   {
    "duration": 98,
    "start_time": "2022-03-25T15:28:55.488Z"
   },
   {
    "duration": 8,
    "start_time": "2022-03-25T15:28:55.595Z"
   },
   {
    "duration": 102,
    "start_time": "2022-03-25T15:29:22.133Z"
   },
   {
    "duration": 6,
    "start_time": "2022-03-25T15:29:29.336Z"
   },
   {
    "duration": 4,
    "start_time": "2022-03-25T15:33:45.267Z"
   },
   {
    "duration": 209,
    "start_time": "2022-03-25T15:33:45.273Z"
   },
   {
    "duration": 185,
    "start_time": "2022-03-25T15:33:45.484Z"
   },
   {
    "duration": 193,
    "start_time": "2022-03-25T15:33:45.671Z"
   },
   {
    "duration": 27,
    "start_time": "2022-03-25T15:33:45.867Z"
   },
   {
    "duration": 7,
    "start_time": "2022-03-25T15:33:45.896Z"
   },
   {
    "duration": 18,
    "start_time": "2022-03-25T15:33:45.905Z"
   },
   {
    "duration": 149,
    "start_time": "2022-03-25T15:33:45.926Z"
   },
   {
    "duration": 5,
    "start_time": "2022-03-25T15:33:46.078Z"
   },
   {
    "duration": 14,
    "start_time": "2022-03-25T15:33:46.086Z"
   },
   {
    "duration": 7,
    "start_time": "2022-03-25T15:33:46.102Z"
   },
   {
    "duration": 18,
    "start_time": "2022-03-25T15:33:46.111Z"
   },
   {
    "duration": 4,
    "start_time": "2022-03-25T15:33:46.132Z"
   },
   {
    "duration": 23,
    "start_time": "2022-03-25T15:33:46.183Z"
   },
   {
    "duration": 9,
    "start_time": "2022-03-25T15:33:46.209Z"
   },
   {
    "duration": 110,
    "start_time": "2022-03-25T15:33:46.277Z"
   },
   {
    "duration": 11,
    "start_time": "2022-03-25T15:33:46.391Z"
   },
   {
    "duration": 6,
    "start_time": "2022-03-25T15:33:46.404Z"
   },
   {
    "duration": 16,
    "start_time": "2022-03-25T15:33:46.412Z"
   },
   {
    "duration": 5,
    "start_time": "2022-03-25T15:33:46.430Z"
   },
   {
    "duration": 40,
    "start_time": "2022-03-25T15:33:46.437Z"
   },
   {
    "duration": 14,
    "start_time": "2022-03-25T15:33:46.479Z"
   },
   {
    "duration": 192,
    "start_time": "2022-03-25T15:33:46.497Z"
   },
   {
    "duration": 6,
    "start_time": "2022-03-25T15:33:46.695Z"
   },
   {
    "duration": 8,
    "start_time": "2022-03-25T15:33:46.704Z"
   },
   {
    "duration": 4,
    "start_time": "2022-03-25T15:38:11.891Z"
   },
   {
    "duration": 197,
    "start_time": "2022-03-25T15:38:11.898Z"
   },
   {
    "duration": 180,
    "start_time": "2022-03-25T15:38:12.098Z"
   },
   {
    "duration": 577,
    "start_time": "2022-03-25T15:38:12.281Z"
   },
   {
    "duration": 35,
    "start_time": "2022-03-25T15:38:12.862Z"
   },
   {
    "duration": 17,
    "start_time": "2022-03-25T15:38:12.900Z"
   },
   {
    "duration": 42,
    "start_time": "2022-03-25T15:38:12.920Z"
   },
   {
    "duration": 27,
    "start_time": "2022-03-25T15:38:12.965Z"
   },
   {
    "duration": 186,
    "start_time": "2022-03-25T15:38:12.996Z"
   },
   {
    "duration": 26,
    "start_time": "2022-03-25T15:38:13.185Z"
   },
   {
    "duration": 15,
    "start_time": "2022-03-25T15:38:13.214Z"
   },
   {
    "duration": 36,
    "start_time": "2022-03-25T15:38:13.232Z"
   },
   {
    "duration": 26,
    "start_time": "2022-03-25T15:38:13.273Z"
   },
   {
    "duration": 37,
    "start_time": "2022-03-25T15:38:13.301Z"
   },
   {
    "duration": 36,
    "start_time": "2022-03-25T15:38:13.341Z"
   },
   {
    "duration": 109,
    "start_time": "2022-03-25T15:38:13.380Z"
   },
   {
    "duration": 18,
    "start_time": "2022-03-25T15:38:13.492Z"
   },
   {
    "duration": 86,
    "start_time": "2022-03-25T15:38:13.512Z"
   },
   {
    "duration": 46,
    "start_time": "2022-03-25T15:38:13.600Z"
   },
   {
    "duration": 10,
    "start_time": "2022-03-25T15:38:13.649Z"
   },
   {
    "duration": 29,
    "start_time": "2022-03-25T15:38:13.661Z"
   },
   {
    "duration": 91,
    "start_time": "2022-03-25T15:38:13.692Z"
   },
   {
    "duration": 97,
    "start_time": "2022-03-25T15:38:13.786Z"
   },
   {
    "duration": 32,
    "start_time": "2022-03-25T15:38:13.885Z"
   },
   {
    "duration": 27,
    "start_time": "2022-03-25T15:38:13.920Z"
   },
   {
    "duration": 1510,
    "start_time": "2022-03-26T05:03:47.566Z"
   },
   {
    "duration": 193,
    "start_time": "2022-03-26T05:03:49.080Z"
   },
   {
    "duration": 179,
    "start_time": "2022-03-26T05:03:49.275Z"
   },
   {
    "duration": 197,
    "start_time": "2022-03-26T05:03:49.456Z"
   },
   {
    "duration": 19,
    "start_time": "2022-03-26T05:03:49.657Z"
   },
   {
    "duration": 5,
    "start_time": "2022-03-26T05:03:49.678Z"
   },
   {
    "duration": 19,
    "start_time": "2022-03-26T05:03:49.685Z"
   },
   {
    "duration": 7,
    "start_time": "2022-03-26T05:03:49.743Z"
   },
   {
    "duration": 191,
    "start_time": "2022-03-26T05:03:49.753Z"
   },
   {
    "duration": 9,
    "start_time": "2022-03-26T05:03:49.946Z"
   },
   {
    "duration": 6,
    "start_time": "2022-03-26T05:03:49.956Z"
   },
   {
    "duration": 19,
    "start_time": "2022-03-26T05:03:49.964Z"
   },
   {
    "duration": 4,
    "start_time": "2022-03-26T05:03:49.985Z"
   },
   {
    "duration": 59,
    "start_time": "2022-03-26T05:03:49.993Z"
   },
   {
    "duration": 6,
    "start_time": "2022-03-26T05:03:50.055Z"
   },
   {
    "duration": 87,
    "start_time": "2022-03-26T05:03:50.064Z"
   },
   {
    "duration": 89,
    "start_time": "2022-03-26T05:03:50.155Z"
   },
   {
    "duration": 29,
    "start_time": "2022-03-26T05:03:50.247Z"
   },
   {
    "duration": 18,
    "start_time": "2022-03-26T05:03:50.278Z"
   },
   {
    "duration": 5,
    "start_time": "2022-03-26T05:03:50.298Z"
   },
   {
    "duration": 48,
    "start_time": "2022-03-26T05:03:50.305Z"
   },
   {
    "duration": 14,
    "start_time": "2022-03-26T05:03:50.355Z"
   },
   {
    "duration": 73,
    "start_time": "2022-03-26T05:03:50.372Z"
   },
   {
    "duration": 97,
    "start_time": "2022-03-26T05:03:50.448Z"
   },
   {
    "duration": 6,
    "start_time": "2022-03-26T05:03:50.547Z"
   },
   {
    "duration": 6,
    "start_time": "2022-03-26T05:27:55.681Z"
   },
   {
    "duration": 7,
    "start_time": "2022-03-26T05:28:14.916Z"
   },
   {
    "duration": 6,
    "start_time": "2022-03-26T05:28:22.625Z"
   },
   {
    "duration": 6,
    "start_time": "2022-03-26T05:28:27.274Z"
   },
   {
    "duration": 7,
    "start_time": "2022-03-26T05:28:39.946Z"
   },
   {
    "duration": 7,
    "start_time": "2022-03-26T05:28:44.700Z"
   },
   {
    "duration": 168,
    "start_time": "2022-03-26T06:12:35.287Z"
   },
   {
    "duration": 4,
    "start_time": "2022-03-26T06:12:45.812Z"
   },
   {
    "duration": 5,
    "start_time": "2022-03-26T06:12:46.938Z"
   },
   {
    "duration": 5,
    "start_time": "2022-03-26T06:12:51.287Z"
   },
   {
    "duration": 4,
    "start_time": "2022-03-26T06:16:47.702Z"
   },
   {
    "duration": 4,
    "start_time": "2022-03-26T06:18:45.251Z"
   },
   {
    "duration": 5,
    "start_time": "2022-03-26T06:18:46.344Z"
   },
   {
    "duration": 5,
    "start_time": "2022-03-26T06:22:26.522Z"
   },
   {
    "duration": 268,
    "start_time": "2022-03-26T06:22:26.530Z"
   },
   {
    "duration": 260,
    "start_time": "2022-03-26T06:22:26.801Z"
   },
   {
    "duration": 267,
    "start_time": "2022-03-26T06:22:27.064Z"
   },
   {
    "duration": 22,
    "start_time": "2022-03-26T06:22:27.344Z"
   },
   {
    "duration": 6,
    "start_time": "2022-03-26T06:22:27.369Z"
   },
   {
    "duration": 20,
    "start_time": "2022-03-26T06:22:27.377Z"
   },
   {
    "duration": 52,
    "start_time": "2022-03-26T06:22:27.400Z"
   },
   {
    "duration": 189,
    "start_time": "2022-03-26T06:22:27.454Z"
   },
   {
    "duration": 7,
    "start_time": "2022-03-26T06:22:27.645Z"
   },
   {
    "duration": 7,
    "start_time": "2022-03-26T06:22:27.654Z"
   },
   {
    "duration": 18,
    "start_time": "2022-03-26T06:22:27.663Z"
   },
   {
    "duration": 5,
    "start_time": "2022-03-26T06:22:27.683Z"
   },
   {
    "duration": 64,
    "start_time": "2022-03-26T06:22:27.692Z"
   },
   {
    "duration": 88,
    "start_time": "2022-03-26T06:22:27.757Z"
   },
   {
    "duration": 6,
    "start_time": "2022-03-26T06:22:27.848Z"
   },
   {
    "duration": 91,
    "start_time": "2022-03-26T06:22:27.857Z"
   },
   {
    "duration": 8,
    "start_time": "2022-03-26T06:22:27.951Z"
   },
   {
    "duration": 81,
    "start_time": "2022-03-26T06:22:27.962Z"
   },
   {
    "duration": 5,
    "start_time": "2022-03-26T06:22:28.046Z"
   },
   {
    "duration": 18,
    "start_time": "2022-03-26T06:22:28.054Z"
   },
   {
    "duration": 76,
    "start_time": "2022-03-26T06:22:28.074Z"
   },
   {
    "duration": 90,
    "start_time": "2022-03-26T06:22:28.153Z"
   },
   {
    "duration": 6,
    "start_time": "2022-03-26T06:22:28.246Z"
   },
   {
    "duration": 11,
    "start_time": "2022-03-26T06:22:28.255Z"
   },
   {
    "duration": 4,
    "start_time": "2022-03-26T06:22:28.268Z"
   },
   {
    "duration": 71,
    "start_time": "2022-03-26T06:22:28.274Z"
   },
   {
    "duration": 13,
    "start_time": "2022-03-26T06:22:28.348Z"
   },
   {
    "duration": 0,
    "start_time": "2022-03-26T06:22:28.363Z"
   },
   {
    "duration": 7,
    "start_time": "2022-03-26T06:27:31.397Z"
   },
   {
    "duration": 7,
    "start_time": "2022-03-26T06:28:38.315Z"
   },
   {
    "duration": 6,
    "start_time": "2022-03-26T06:29:00.720Z"
   },
   {
    "duration": 8,
    "start_time": "2022-03-26T06:29:25.037Z"
   },
   {
    "duration": 6,
    "start_time": "2022-03-26T06:35:01.648Z"
   },
   {
    "duration": 7,
    "start_time": "2022-03-26T06:36:43.204Z"
   },
   {
    "duration": 216,
    "start_time": "2022-03-26T06:37:12.966Z"
   },
   {
    "duration": 8,
    "start_time": "2022-03-26T06:37:24.868Z"
   },
   {
    "duration": 1118,
    "start_time": "2022-03-26T15:56:46.041Z"
   },
   {
    "duration": 146,
    "start_time": "2022-03-26T15:56:47.161Z"
   },
   {
    "duration": 132,
    "start_time": "2022-03-26T15:56:47.309Z"
   },
   {
    "duration": 137,
    "start_time": "2022-03-26T15:56:47.443Z"
   },
   {
    "duration": 16,
    "start_time": "2022-03-26T15:56:47.582Z"
   },
   {
    "duration": 4,
    "start_time": "2022-03-26T15:56:47.600Z"
   },
   {
    "duration": 37,
    "start_time": "2022-03-26T15:56:47.605Z"
   },
   {
    "duration": 13,
    "start_time": "2022-03-26T15:56:47.644Z"
   },
   {
    "duration": 100,
    "start_time": "2022-03-26T15:56:47.734Z"
   },
   {
    "duration": 5,
    "start_time": "2022-03-26T15:56:47.836Z"
   },
   {
    "duration": 11,
    "start_time": "2022-03-26T15:56:47.843Z"
   },
   {
    "duration": 21,
    "start_time": "2022-03-26T15:56:47.855Z"
   },
   {
    "duration": 3,
    "start_time": "2022-03-26T15:56:47.878Z"
   },
   {
    "duration": 18,
    "start_time": "2022-03-26T15:56:47.883Z"
   },
   {
    "duration": 38,
    "start_time": "2022-03-26T15:56:47.902Z"
   },
   {
    "duration": 93,
    "start_time": "2022-03-26T15:56:47.943Z"
   },
   {
    "duration": 95,
    "start_time": "2022-03-26T15:56:48.039Z"
   },
   {
    "duration": 14,
    "start_time": "2022-03-26T15:56:48.136Z"
   },
   {
    "duration": 21,
    "start_time": "2022-03-26T15:56:48.152Z"
   },
   {
    "duration": 3,
    "start_time": "2022-03-26T15:56:48.175Z"
   },
   {
    "duration": 16,
    "start_time": "2022-03-26T15:56:48.179Z"
   },
   {
    "duration": 42,
    "start_time": "2022-03-26T15:56:48.197Z"
   },
   {
    "duration": 4,
    "start_time": "2022-03-26T15:56:48.243Z"
   },
   {
    "duration": 5,
    "start_time": "2022-03-26T15:56:48.333Z"
   },
   {
    "duration": 8,
    "start_time": "2022-03-26T15:56:48.340Z"
   },
   {
    "duration": 8,
    "start_time": "2022-03-26T15:56:48.350Z"
   },
   {
    "duration": 11,
    "start_time": "2022-03-26T15:56:48.360Z"
   },
   {
    "duration": 7,
    "start_time": "2022-03-26T15:56:48.373Z"
   },
   {
    "duration": 5,
    "start_time": "2022-03-26T15:56:48.382Z"
   },
   {
    "duration": 7,
    "start_time": "2022-03-26T15:56:48.389Z"
   },
   {
    "duration": 122,
    "start_time": "2022-03-26T15:56:48.398Z"
   },
   {
    "duration": 0,
    "start_time": "2022-03-26T15:56:48.521Z"
   },
   {
    "duration": 3,
    "start_time": "2022-03-26T16:00:12.515Z"
   },
   {
    "duration": 218,
    "start_time": "2022-03-26T16:00:12.520Z"
   },
   {
    "duration": 206,
    "start_time": "2022-03-26T16:00:12.740Z"
   },
   {
    "duration": 146,
    "start_time": "2022-03-26T16:00:12.948Z"
   },
   {
    "duration": 18,
    "start_time": "2022-03-26T16:00:13.095Z"
   },
   {
    "duration": 3,
    "start_time": "2022-03-26T16:00:13.115Z"
   },
   {
    "duration": 12,
    "start_time": "2022-03-26T16:00:13.134Z"
   },
   {
    "duration": 10,
    "start_time": "2022-03-26T16:00:13.147Z"
   },
   {
    "duration": 102,
    "start_time": "2022-03-26T16:00:13.236Z"
   },
   {
    "duration": 12,
    "start_time": "2022-03-26T16:00:13.341Z"
   },
   {
    "duration": 6,
    "start_time": "2022-03-26T16:00:13.355Z"
   },
   {
    "duration": 15,
    "start_time": "2022-03-26T16:00:13.363Z"
   },
   {
    "duration": 3,
    "start_time": "2022-03-26T16:00:13.380Z"
   },
   {
    "duration": 17,
    "start_time": "2022-03-26T16:00:13.384Z"
   },
   {
    "duration": 31,
    "start_time": "2022-03-26T16:00:13.403Z"
   },
   {
    "duration": 99,
    "start_time": "2022-03-26T16:00:13.436Z"
   },
   {
    "duration": 15,
    "start_time": "2022-03-26T16:00:13.538Z"
   },
   {
    "duration": 5,
    "start_time": "2022-03-26T16:00:13.633Z"
   },
   {
    "duration": 17,
    "start_time": "2022-03-26T16:00:13.640Z"
   },
   {
    "duration": 4,
    "start_time": "2022-03-26T16:00:13.659Z"
   },
   {
    "duration": 14,
    "start_time": "2022-03-26T16:00:13.664Z"
   },
   {
    "duration": 54,
    "start_time": "2022-03-26T16:00:13.680Z"
   },
   {
    "duration": 3,
    "start_time": "2022-03-26T16:00:13.737Z"
   },
   {
    "duration": 109,
    "start_time": "2022-03-26T16:00:13.742Z"
   },
   {
    "duration": 18,
    "start_time": "2022-03-26T16:00:13.853Z"
   },
   {
    "duration": 10,
    "start_time": "2022-03-26T16:00:13.873Z"
   },
   {
    "duration": 16,
    "start_time": "2022-03-26T16:00:13.885Z"
   },
   {
    "duration": 11,
    "start_time": "2022-03-26T16:00:13.904Z"
   },
   {
    "duration": 16,
    "start_time": "2022-03-26T16:00:13.917Z"
   },
   {
    "duration": 18,
    "start_time": "2022-03-26T16:00:13.934Z"
   },
   {
    "duration": 12,
    "start_time": "2022-03-26T16:00:13.954Z"
   },
   {
    "duration": 0,
    "start_time": "2022-03-26T16:00:13.967Z"
   },
   {
    "duration": 1096,
    "start_time": "2022-03-27T11:53:07.055Z"
   },
   {
    "duration": 144,
    "start_time": "2022-03-27T11:53:08.153Z"
   },
   {
    "duration": 138,
    "start_time": "2022-03-27T11:53:08.298Z"
   },
   {
    "duration": 126,
    "start_time": "2022-03-27T11:53:08.438Z"
   },
   {
    "duration": 15,
    "start_time": "2022-03-27T11:53:08.565Z"
   },
   {
    "duration": 3,
    "start_time": "2022-03-27T11:53:08.582Z"
   },
   {
    "duration": 21,
    "start_time": "2022-03-27T11:53:08.586Z"
   },
   {
    "duration": 33,
    "start_time": "2022-03-27T11:53:08.608Z"
   },
   {
    "duration": 101,
    "start_time": "2022-03-27T11:53:08.643Z"
   },
   {
    "duration": 8,
    "start_time": "2022-03-27T11:53:08.748Z"
   },
   {
    "duration": 8,
    "start_time": "2022-03-27T11:53:08.758Z"
   },
   {
    "duration": 75,
    "start_time": "2022-03-27T11:53:08.768Z"
   },
   {
    "duration": 4,
    "start_time": "2022-03-27T11:53:08.845Z"
   },
   {
    "duration": 14,
    "start_time": "2022-03-27T11:53:08.851Z"
   },
   {
    "duration": 10,
    "start_time": "2022-03-27T11:53:08.866Z"
   },
   {
    "duration": 101,
    "start_time": "2022-03-27T11:53:08.933Z"
   },
   {
    "duration": 15,
    "start_time": "2022-03-27T11:53:09.035Z"
   },
   {
    "duration": 7,
    "start_time": "2022-03-27T11:53:09.052Z"
   },
   {
    "duration": 19,
    "start_time": "2022-03-27T11:53:09.060Z"
   },
   {
    "duration": 3,
    "start_time": "2022-03-27T11:53:09.080Z"
   },
   {
    "duration": 14,
    "start_time": "2022-03-27T11:53:09.085Z"
   },
   {
    "duration": 40,
    "start_time": "2022-03-27T11:53:09.101Z"
   },
   {
    "duration": 89,
    "start_time": "2022-03-27T11:53:09.144Z"
   },
   {
    "duration": 6,
    "start_time": "2022-03-27T11:53:09.236Z"
   },
   {
    "duration": 9,
    "start_time": "2022-03-27T11:53:09.245Z"
   },
   {
    "duration": 8,
    "start_time": "2022-03-27T11:53:09.257Z"
   },
   {
    "duration": 19,
    "start_time": "2022-03-27T11:53:09.267Z"
   },
   {
    "duration": 4,
    "start_time": "2022-03-27T11:53:09.336Z"
   },
   {
    "duration": 9,
    "start_time": "2022-03-27T11:53:09.341Z"
   },
   {
    "duration": 6,
    "start_time": "2022-03-27T11:53:09.352Z"
   },
   {
    "duration": 110,
    "start_time": "2022-03-27T11:53:09.359Z"
   },
   {
    "duration": 0,
    "start_time": "2022-03-27T11:53:09.471Z"
   },
   {
    "duration": 0,
    "start_time": "2022-03-27T11:53:09.472Z"
   },
   {
    "duration": 6,
    "start_time": "2022-03-27T12:18:13.118Z"
   },
   {
    "duration": 4,
    "start_time": "2022-03-27T12:18:21.590Z"
   },
   {
    "duration": 4,
    "start_time": "2022-03-27T12:21:26.796Z"
   },
   {
    "duration": 4,
    "start_time": "2022-03-27T12:22:09.769Z"
   },
   {
    "duration": 99,
    "start_time": "2022-03-27T12:22:32.923Z"
   },
   {
    "duration": 3,
    "start_time": "2022-03-27T12:22:40.230Z"
   },
   {
    "duration": 50,
    "start_time": "2022-03-27T13:41:21.005Z"
   },
   {
    "duration": 1290,
    "start_time": "2022-03-27T13:41:25.028Z"
   },
   {
    "duration": 153,
    "start_time": "2022-03-27T13:41:26.320Z"
   },
   {
    "duration": 128,
    "start_time": "2022-03-27T13:41:26.474Z"
   },
   {
    "duration": 133,
    "start_time": "2022-03-27T13:41:26.604Z"
   },
   {
    "duration": 33,
    "start_time": "2022-03-27T13:41:26.740Z"
   },
   {
    "duration": 4,
    "start_time": "2022-03-27T13:41:26.775Z"
   },
   {
    "duration": 17,
    "start_time": "2022-03-27T13:41:26.781Z"
   },
   {
    "duration": 69,
    "start_time": "2022-03-27T13:41:26.800Z"
   },
   {
    "duration": 92,
    "start_time": "2022-03-27T13:41:26.871Z"
   },
   {
    "duration": 5,
    "start_time": "2022-03-27T13:41:26.966Z"
   },
   {
    "duration": 8,
    "start_time": "2022-03-27T13:41:26.973Z"
   },
   {
    "duration": 80,
    "start_time": "2022-03-27T13:41:26.983Z"
   },
   {
    "duration": 4,
    "start_time": "2022-03-27T13:41:27.065Z"
   },
   {
    "duration": 21,
    "start_time": "2022-03-27T13:41:27.073Z"
   },
   {
    "duration": 11,
    "start_time": "2022-03-27T13:41:27.096Z"
   },
   {
    "duration": 5,
    "start_time": "2022-03-27T13:41:27.164Z"
   },
   {
    "duration": 94,
    "start_time": "2022-03-27T13:41:27.172Z"
   },
   {
    "duration": 6,
    "start_time": "2022-03-27T13:41:27.268Z"
   },
   {
    "duration": 17,
    "start_time": "2022-03-27T13:41:27.275Z"
   },
   {
    "duration": 4,
    "start_time": "2022-03-27T13:41:27.293Z"
   },
   {
    "duration": 12,
    "start_time": "2022-03-27T13:41:27.299Z"
   },
   {
    "duration": 54,
    "start_time": "2022-03-27T13:41:27.313Z"
   },
   {
    "duration": 7,
    "start_time": "2022-03-27T13:41:27.370Z"
   },
   {
    "duration": 5,
    "start_time": "2022-03-27T13:41:27.464Z"
   },
   {
    "duration": 9,
    "start_time": "2022-03-27T13:41:27.470Z"
   },
   {
    "duration": 3,
    "start_time": "2022-03-27T13:41:27.481Z"
   },
   {
    "duration": 9,
    "start_time": "2022-03-27T13:41:27.485Z"
   },
   {
    "duration": 5,
    "start_time": "2022-03-27T13:41:27.495Z"
   },
   {
    "duration": 4,
    "start_time": "2022-03-27T13:41:27.502Z"
   },
   {
    "duration": 4,
    "start_time": "2022-03-27T13:41:27.507Z"
   },
   {
    "duration": 136,
    "start_time": "2022-03-27T13:41:27.513Z"
   },
   {
    "duration": 0,
    "start_time": "2022-03-27T13:41:27.650Z"
   },
   {
    "duration": 0,
    "start_time": "2022-03-27T13:41:27.651Z"
   },
   {
    "duration": 5,
    "start_time": "2022-03-27T13:41:40.991Z"
   },
   {
    "duration": 4,
    "start_time": "2022-03-27T13:41:51.179Z"
   },
   {
    "duration": 1321,
    "start_time": "2022-03-27T14:44:02.142Z"
   },
   {
    "duration": 170,
    "start_time": "2022-03-27T14:44:03.465Z"
   },
   {
    "duration": 153,
    "start_time": "2022-03-27T14:44:03.637Z"
   },
   {
    "duration": 149,
    "start_time": "2022-03-27T14:44:03.792Z"
   },
   {
    "duration": 18,
    "start_time": "2022-03-27T14:44:03.942Z"
   },
   {
    "duration": 4,
    "start_time": "2022-03-27T14:44:03.962Z"
   },
   {
    "duration": 45,
    "start_time": "2022-03-27T14:44:03.967Z"
   },
   {
    "duration": 87,
    "start_time": "2022-03-27T14:44:04.014Z"
   },
   {
    "duration": 101,
    "start_time": "2022-03-27T14:44:04.104Z"
   },
   {
    "duration": 4,
    "start_time": "2022-03-27T14:44:04.208Z"
   },
   {
    "duration": 10,
    "start_time": "2022-03-27T14:44:04.215Z"
   },
   {
    "duration": 26,
    "start_time": "2022-03-27T14:44:04.227Z"
   },
   {
    "duration": 7,
    "start_time": "2022-03-27T14:44:04.255Z"
   },
   {
    "duration": 49,
    "start_time": "2022-03-27T14:44:04.264Z"
   },
   {
    "duration": 9,
    "start_time": "2022-03-27T14:44:04.316Z"
   },
   {
    "duration": 75,
    "start_time": "2022-03-27T14:44:04.328Z"
   },
   {
    "duration": 95,
    "start_time": "2022-03-27T14:44:04.406Z"
   },
   {
    "duration": 5,
    "start_time": "2022-03-27T14:44:04.503Z"
   },
   {
    "duration": 19,
    "start_time": "2022-03-27T14:44:04.510Z"
   },
   {
    "duration": 4,
    "start_time": "2022-03-27T14:44:04.531Z"
   },
   {
    "duration": 13,
    "start_time": "2022-03-27T14:44:04.537Z"
   },
   {
    "duration": 50,
    "start_time": "2022-03-27T14:44:04.552Z"
   },
   {
    "duration": 99,
    "start_time": "2022-03-27T14:44:04.604Z"
   },
   {
    "duration": 6,
    "start_time": "2022-03-27T14:44:04.705Z"
   },
   {
    "duration": 8,
    "start_time": "2022-03-27T14:44:04.713Z"
   },
   {
    "duration": 5,
    "start_time": "2022-03-27T14:44:04.722Z"
   },
   {
    "duration": 11,
    "start_time": "2022-03-27T14:44:04.729Z"
   },
   {
    "duration": 5,
    "start_time": "2022-03-27T14:44:04.744Z"
   },
   {
    "duration": 9,
    "start_time": "2022-03-27T14:44:04.751Z"
   },
   {
    "duration": 39,
    "start_time": "2022-03-27T14:44:04.762Z"
   },
   {
    "duration": 136,
    "start_time": "2022-03-27T14:44:04.803Z"
   },
   {
    "duration": 0,
    "start_time": "2022-03-27T14:44:04.941Z"
   },
   {
    "duration": 0,
    "start_time": "2022-03-27T14:44:04.943Z"
   },
   {
    "duration": 6,
    "start_time": "2022-03-27T15:09:14.397Z"
   },
   {
    "duration": 4,
    "start_time": "2022-03-27T15:09:26.983Z"
   },
   {
    "duration": 2571,
    "start_time": "2022-03-28T09:00:07.498Z"
   },
   {
    "duration": 162,
    "start_time": "2022-03-28T09:00:10.072Z"
   },
   {
    "duration": 144,
    "start_time": "2022-03-28T09:00:10.236Z"
   },
   {
    "duration": 149,
    "start_time": "2022-03-28T09:00:10.382Z"
   },
   {
    "duration": 17,
    "start_time": "2022-03-28T09:00:10.537Z"
   },
   {
    "duration": 27,
    "start_time": "2022-03-28T09:00:10.556Z"
   },
   {
    "duration": 27,
    "start_time": "2022-03-28T09:00:10.585Z"
   },
   {
    "duration": 5,
    "start_time": "2022-03-28T09:00:10.614Z"
   },
   {
    "duration": 99,
    "start_time": "2022-03-28T09:00:10.642Z"
   },
   {
    "duration": 14,
    "start_time": "2022-03-28T09:00:10.746Z"
   },
   {
    "duration": 7,
    "start_time": "2022-03-28T09:00:10.762Z"
   },
   {
    "duration": 81,
    "start_time": "2022-03-28T09:00:10.771Z"
   },
   {
    "duration": 10,
    "start_time": "2022-03-28T09:00:10.854Z"
   },
   {
    "duration": 20,
    "start_time": "2022-03-28T09:00:10.866Z"
   },
   {
    "duration": 12,
    "start_time": "2022-03-28T09:00:10.888Z"
   },
   {
    "duration": 100,
    "start_time": "2022-03-28T09:00:10.939Z"
   },
   {
    "duration": 14,
    "start_time": "2022-03-28T09:00:11.041Z"
   },
   {
    "duration": 9,
    "start_time": "2022-03-28T09:00:11.057Z"
   },
   {
    "duration": 19,
    "start_time": "2022-03-28T09:00:11.068Z"
   },
   {
    "duration": 3,
    "start_time": "2022-03-28T09:00:11.089Z"
   },
   {
    "duration": 14,
    "start_time": "2022-03-28T09:00:11.094Z"
   },
   {
    "duration": 30,
    "start_time": "2022-03-28T09:00:11.110Z"
   },
   {
    "duration": 207,
    "start_time": "2022-03-28T09:00:11.142Z"
   },
   {
    "duration": 6,
    "start_time": "2022-03-28T09:00:11.352Z"
   },
   {
    "duration": 11,
    "start_time": "2022-03-28T09:00:11.361Z"
   },
   {
    "duration": 6,
    "start_time": "2022-03-28T09:00:11.375Z"
   },
   {
    "duration": 13,
    "start_time": "2022-03-28T09:00:11.383Z"
   },
   {
    "duration": 6,
    "start_time": "2022-03-28T09:00:11.400Z"
   },
   {
    "duration": 7,
    "start_time": "2022-03-28T09:00:11.408Z"
   },
   {
    "duration": 8,
    "start_time": "2022-03-28T09:00:11.417Z"
   },
   {
    "duration": 203,
    "start_time": "2022-03-28T09:00:11.438Z"
   },
   {
    "duration": 0,
    "start_time": "2022-03-28T09:00:11.643Z"
   },
   {
    "duration": 0,
    "start_time": "2022-03-28T09:00:11.645Z"
   },
   {
    "duration": 0,
    "start_time": "2022-03-28T09:00:11.646Z"
   },
   {
    "duration": 3,
    "start_time": "2022-03-28T09:03:07.733Z"
   },
   {
    "duration": 152,
    "start_time": "2022-03-28T09:03:07.738Z"
   },
   {
    "duration": 154,
    "start_time": "2022-03-28T09:03:07.891Z"
   },
   {
    "duration": 141,
    "start_time": "2022-03-28T09:03:08.047Z"
   },
   {
    "duration": 12,
    "start_time": "2022-03-28T09:03:08.190Z"
   },
   {
    "duration": 15,
    "start_time": "2022-03-28T09:03:08.204Z"
   },
   {
    "duration": 30,
    "start_time": "2022-03-28T09:03:08.220Z"
   },
   {
    "duration": 11,
    "start_time": "2022-03-28T09:03:08.251Z"
   },
   {
    "duration": 107,
    "start_time": "2022-03-28T09:03:08.337Z"
   },
   {
    "duration": 15,
    "start_time": "2022-03-28T09:03:08.448Z"
   },
   {
    "duration": 23,
    "start_time": "2022-03-28T09:03:08.465Z"
   },
   {
    "duration": 25,
    "start_time": "2022-03-28T09:03:08.490Z"
   },
   {
    "duration": 10,
    "start_time": "2022-03-28T09:03:08.516Z"
   },
   {
    "duration": 31,
    "start_time": "2022-03-28T09:03:08.528Z"
   },
   {
    "duration": 10,
    "start_time": "2022-03-28T09:03:08.561Z"
   },
   {
    "duration": 164,
    "start_time": "2022-03-28T09:03:08.574Z"
   },
   {
    "duration": 17,
    "start_time": "2022-03-28T09:03:08.740Z"
   },
   {
    "duration": 16,
    "start_time": "2022-03-28T09:03:08.759Z"
   },
   {
    "duration": 27,
    "start_time": "2022-03-28T09:03:08.777Z"
   },
   {
    "duration": 14,
    "start_time": "2022-03-28T09:03:08.807Z"
   },
   {
    "duration": 19,
    "start_time": "2022-03-28T09:03:08.823Z"
   },
   {
    "duration": 15,
    "start_time": "2022-03-28T09:03:08.844Z"
   },
   {
    "duration": 85,
    "start_time": "2022-03-28T09:03:08.863Z"
   },
   {
    "duration": 8,
    "start_time": "2022-03-28T09:03:09.038Z"
   },
   {
    "duration": 16,
    "start_time": "2022-03-28T09:03:09.048Z"
   },
   {
    "duration": 15,
    "start_time": "2022-03-28T09:03:09.065Z"
   },
   {
    "duration": 12,
    "start_time": "2022-03-28T09:03:09.082Z"
   },
   {
    "duration": 15,
    "start_time": "2022-03-28T09:03:09.098Z"
   },
   {
    "duration": 22,
    "start_time": "2022-03-28T09:03:09.115Z"
   },
   {
    "duration": 15,
    "start_time": "2022-03-28T09:03:09.139Z"
   },
   {
    "duration": 126,
    "start_time": "2022-03-28T09:03:09.156Z"
   },
   {
    "duration": 0,
    "start_time": "2022-03-28T09:03:09.284Z"
   },
   {
    "duration": 0,
    "start_time": "2022-03-28T09:03:09.285Z"
   },
   {
    "duration": 0,
    "start_time": "2022-03-28T09:03:09.286Z"
   },
   {
    "duration": 93,
    "start_time": "2022-03-28T09:31:23.307Z"
   },
   {
    "duration": 8,
    "start_time": "2022-03-28T09:32:24.412Z"
   },
   {
    "duration": 14,
    "start_time": "2022-03-28T09:32:29.056Z"
   },
   {
    "duration": 85,
    "start_time": "2022-03-28T09:32:51.255Z"
   },
   {
    "duration": 6,
    "start_time": "2022-03-28T09:34:12.974Z"
   },
   {
    "duration": 4,
    "start_time": "2022-03-28T09:34:24.014Z"
   },
   {
    "duration": 9,
    "start_time": "2022-03-28T09:34:24.708Z"
   },
   {
    "duration": 9,
    "start_time": "2022-03-28T09:34:34.264Z"
   },
   {
    "duration": 3,
    "start_time": "2022-03-28T09:34:35.608Z"
   },
   {
    "duration": 18,
    "start_time": "2022-03-28T09:34:37.997Z"
   },
   {
    "duration": 6,
    "start_time": "2022-03-28T09:34:38.621Z"
   },
   {
    "duration": 4,
    "start_time": "2022-03-28T09:34:40.762Z"
   },
   {
    "duration": 10,
    "start_time": "2022-03-28T09:34:45.661Z"
   },
   {
    "duration": 9,
    "start_time": "2022-03-28T09:35:55.641Z"
   },
   {
    "duration": 11,
    "start_time": "2022-03-28T09:36:56.931Z"
   },
   {
    "duration": 9,
    "start_time": "2022-03-28T09:37:06.010Z"
   },
   {
    "duration": 15,
    "start_time": "2022-03-28T09:37:19.891Z"
   },
   {
    "duration": 12,
    "start_time": "2022-03-28T09:37:26.542Z"
   },
   {
    "duration": 9,
    "start_time": "2022-03-28T09:52:13.600Z"
   },
   {
    "duration": 15,
    "start_time": "2022-03-28T09:52:28.472Z"
   },
   {
    "duration": 16,
    "start_time": "2022-03-28T09:53:04.745Z"
   },
   {
    "duration": 15,
    "start_time": "2022-03-28T09:55:34.296Z"
   },
   {
    "duration": 9,
    "start_time": "2022-03-28T09:55:50.585Z"
   },
   {
    "duration": 11,
    "start_time": "2022-03-28T11:17:24.304Z"
   },
   {
    "duration": 7,
    "start_time": "2022-03-28T11:18:54.049Z"
   },
   {
    "duration": 6,
    "start_time": "2022-03-28T11:19:10.051Z"
   },
   {
    "duration": 10,
    "start_time": "2022-03-28T11:19:21.865Z"
   },
   {
    "duration": 19,
    "start_time": "2022-03-28T11:19:48.859Z"
   },
   {
    "duration": 2976,
    "start_time": "2022-03-28T11:20:16.286Z"
   },
   {
    "duration": 16,
    "start_time": "2022-03-28T11:20:37.047Z"
   },
   {
    "duration": 5,
    "start_time": "2022-03-28T11:20:45.674Z"
   },
   {
    "duration": 15,
    "start_time": "2022-03-28T11:20:46.105Z"
   },
   {
    "duration": 18,
    "start_time": "2022-03-28T11:27:32.429Z"
   },
   {
    "duration": 6,
    "start_time": "2022-03-28T11:27:36.290Z"
   },
   {
    "duration": 16,
    "start_time": "2022-03-28T11:27:36.845Z"
   },
   {
    "duration": 17,
    "start_time": "2022-03-28T11:27:46.149Z"
   },
   {
    "duration": 3,
    "start_time": "2022-03-28T11:27:52.008Z"
   },
   {
    "duration": 156,
    "start_time": "2022-03-28T11:27:52.013Z"
   },
   {
    "duration": 141,
    "start_time": "2022-03-28T11:27:52.171Z"
   },
   {
    "duration": 144,
    "start_time": "2022-03-28T11:27:52.313Z"
   },
   {
    "duration": 15,
    "start_time": "2022-03-28T11:27:52.460Z"
   },
   {
    "duration": 3,
    "start_time": "2022-03-28T11:27:52.477Z"
   },
   {
    "duration": 14,
    "start_time": "2022-03-28T11:27:52.481Z"
   },
   {
    "duration": 43,
    "start_time": "2022-03-28T11:27:52.497Z"
   },
   {
    "duration": 102,
    "start_time": "2022-03-28T11:27:52.543Z"
   },
   {
    "duration": 11,
    "start_time": "2022-03-28T11:27:52.647Z"
   },
   {
    "duration": 7,
    "start_time": "2022-03-28T11:27:52.660Z"
   },
   {
    "duration": 13,
    "start_time": "2022-03-28T11:27:52.668Z"
   },
   {
    "duration": 3,
    "start_time": "2022-03-28T11:27:52.685Z"
   },
   {
    "duration": 13,
    "start_time": "2022-03-28T11:27:52.738Z"
   },
   {
    "duration": 86,
    "start_time": "2022-03-28T11:27:52.754Z"
   },
   {
    "duration": 101,
    "start_time": "2022-03-28T11:27:52.842Z"
   },
   {
    "duration": 22,
    "start_time": "2022-03-28T11:27:52.945Z"
   },
   {
    "duration": 12,
    "start_time": "2022-03-28T11:27:52.969Z"
   },
   {
    "duration": 7,
    "start_time": "2022-03-28T11:27:52.983Z"
   },
   {
    "duration": 24,
    "start_time": "2022-03-28T11:27:52.992Z"
   },
   {
    "duration": 4,
    "start_time": "2022-03-28T11:27:53.018Z"
   },
   {
    "duration": 21,
    "start_time": "2022-03-28T11:27:53.024Z"
   },
   {
    "duration": 4,
    "start_time": "2022-03-28T11:27:53.047Z"
   },
   {
    "duration": 16,
    "start_time": "2022-03-28T11:27:53.053Z"
   },
   {
    "duration": 0,
    "start_time": "2022-03-28T11:27:53.071Z"
   },
   {
    "duration": 0,
    "start_time": "2022-03-28T11:27:53.072Z"
   },
   {
    "duration": 0,
    "start_time": "2022-03-28T11:27:53.073Z"
   },
   {
    "duration": 0,
    "start_time": "2022-03-28T11:27:53.074Z"
   },
   {
    "duration": 0,
    "start_time": "2022-03-28T11:27:53.075Z"
   },
   {
    "duration": 0,
    "start_time": "2022-03-28T11:27:53.076Z"
   },
   {
    "duration": 0,
    "start_time": "2022-03-28T11:27:53.077Z"
   },
   {
    "duration": 0,
    "start_time": "2022-03-28T11:27:53.078Z"
   },
   {
    "duration": 0,
    "start_time": "2022-03-28T11:27:53.079Z"
   },
   {
    "duration": 0,
    "start_time": "2022-03-28T11:27:53.080Z"
   },
   {
    "duration": 0,
    "start_time": "2022-03-28T11:27:53.081Z"
   },
   {
    "duration": 19,
    "start_time": "2022-03-28T11:28:06.345Z"
   },
   {
    "duration": 107,
    "start_time": "2022-03-28T11:31:29.861Z"
   },
   {
    "duration": 7,
    "start_time": "2022-03-28T11:54:59.249Z"
   },
   {
    "duration": 75,
    "start_time": "2022-03-28T13:04:24.147Z"
   },
   {
    "duration": 1595,
    "start_time": "2022-03-28T13:04:27.452Z"
   },
   {
    "duration": 188,
    "start_time": "2022-03-28T13:04:29.050Z"
   },
   {
    "duration": 172,
    "start_time": "2022-03-28T13:04:29.240Z"
   },
   {
    "duration": 180,
    "start_time": "2022-03-28T13:04:29.416Z"
   },
   {
    "duration": 18,
    "start_time": "2022-03-28T13:04:29.599Z"
   },
   {
    "duration": 5,
    "start_time": "2022-03-28T13:04:29.619Z"
   },
   {
    "duration": 51,
    "start_time": "2022-03-28T13:04:29.626Z"
   },
   {
    "duration": 90,
    "start_time": "2022-03-28T13:04:29.679Z"
   },
   {
    "duration": 7,
    "start_time": "2022-03-28T13:04:29.772Z"
   },
   {
    "duration": 10,
    "start_time": "2022-03-28T13:04:29.868Z"
   },
   {
    "duration": 10,
    "start_time": "2022-03-28T13:04:29.881Z"
   },
   {
    "duration": 18,
    "start_time": "2022-03-28T13:04:29.894Z"
   },
   {
    "duration": 4,
    "start_time": "2022-03-28T13:04:29.915Z"
   },
   {
    "duration": 62,
    "start_time": "2022-03-28T13:04:29.922Z"
   },
   {
    "duration": 14,
    "start_time": "2022-03-28T13:04:29.987Z"
   },
   {
    "duration": 106,
    "start_time": "2022-03-28T13:04:30.069Z"
   },
   {
    "duration": 13,
    "start_time": "2022-03-28T13:04:30.177Z"
   },
   {
    "duration": 22,
    "start_time": "2022-03-28T13:04:30.192Z"
   },
   {
    "duration": 33,
    "start_time": "2022-03-28T13:04:30.217Z"
   },
   {
    "duration": 4,
    "start_time": "2022-03-28T13:04:30.253Z"
   },
   {
    "duration": 34,
    "start_time": "2022-03-28T13:04:30.259Z"
   },
   {
    "duration": 20,
    "start_time": "2022-03-28T13:04:30.295Z"
   },
   {
    "duration": 20,
    "start_time": "2022-03-28T13:04:30.318Z"
   },
   {
    "duration": 24,
    "start_time": "2022-03-28T13:04:30.340Z"
   },
   {
    "duration": 22,
    "start_time": "2022-03-28T13:04:30.366Z"
   },
   {
    "duration": 38,
    "start_time": "2022-03-28T13:04:30.390Z"
   },
   {
    "duration": 25,
    "start_time": "2022-03-28T13:04:30.430Z"
   },
   {
    "duration": 15,
    "start_time": "2022-03-28T13:04:30.462Z"
   },
   {
    "duration": 21,
    "start_time": "2022-03-28T13:04:30.480Z"
   },
   {
    "duration": 106,
    "start_time": "2022-03-28T13:04:30.503Z"
   },
   {
    "duration": 0,
    "start_time": "2022-03-28T13:04:30.611Z"
   },
   {
    "duration": 0,
    "start_time": "2022-03-28T13:04:30.613Z"
   },
   {
    "duration": 5,
    "start_time": "2022-03-28T13:05:26.961Z"
   },
   {
    "duration": 12,
    "start_time": "2022-03-28T13:05:28.798Z"
   },
   {
    "duration": 4,
    "start_time": "2022-03-28T13:11:44.684Z"
   },
   {
    "duration": 183,
    "start_time": "2022-03-28T13:11:44.691Z"
   },
   {
    "duration": 177,
    "start_time": "2022-03-28T13:11:44.876Z"
   },
   {
    "duration": 183,
    "start_time": "2022-03-28T13:11:45.056Z"
   },
   {
    "duration": 30,
    "start_time": "2022-03-28T13:11:45.241Z"
   },
   {
    "duration": 5,
    "start_time": "2022-03-28T13:11:45.273Z"
   },
   {
    "duration": 18,
    "start_time": "2022-03-28T13:11:45.280Z"
   },
   {
    "duration": 7,
    "start_time": "2022-03-28T13:11:45.301Z"
   },
   {
    "duration": 66,
    "start_time": "2022-03-28T13:11:45.312Z"
   },
   {
    "duration": 95,
    "start_time": "2022-03-28T13:11:45.382Z"
   },
   {
    "duration": 6,
    "start_time": "2022-03-28T13:11:45.480Z"
   },
   {
    "duration": 17,
    "start_time": "2022-03-28T13:11:45.488Z"
   },
   {
    "duration": 4,
    "start_time": "2022-03-28T13:11:45.507Z"
   },
   {
    "duration": 64,
    "start_time": "2022-03-28T13:11:45.514Z"
   },
   {
    "duration": 8,
    "start_time": "2022-03-28T13:11:45.581Z"
   },
   {
    "duration": 92,
    "start_time": "2022-03-28T13:11:45.591Z"
   },
   {
    "duration": 9,
    "start_time": "2022-03-28T13:11:45.769Z"
   },
   {
    "duration": 9,
    "start_time": "2022-03-28T13:11:45.781Z"
   },
   {
    "duration": 21,
    "start_time": "2022-03-28T13:11:45.792Z"
   },
   {
    "duration": 5,
    "start_time": "2022-03-28T13:11:45.816Z"
   },
   {
    "duration": 53,
    "start_time": "2022-03-28T13:11:45.824Z"
   },
   {
    "duration": 5,
    "start_time": "2022-03-28T13:11:45.879Z"
   },
   {
    "duration": 7,
    "start_time": "2022-03-28T13:11:45.887Z"
   },
   {
    "duration": 7,
    "start_time": "2022-03-28T13:11:45.900Z"
   },
   {
    "duration": 6,
    "start_time": "2022-03-28T13:11:45.909Z"
   },
   {
    "duration": 54,
    "start_time": "2022-03-28T13:11:45.917Z"
   },
   {
    "duration": 9,
    "start_time": "2022-03-28T13:11:45.974Z"
   },
   {
    "duration": 8,
    "start_time": "2022-03-28T13:11:45.985Z"
   },
   {
    "duration": 8,
    "start_time": "2022-03-28T13:11:45.995Z"
   },
   {
    "duration": 8,
    "start_time": "2022-03-28T13:11:46.006Z"
   },
   {
    "duration": 62,
    "start_time": "2022-03-28T13:11:46.017Z"
   },
   {
    "duration": 0,
    "start_time": "2022-03-28T13:11:46.082Z"
   },
   {
    "duration": 4,
    "start_time": "2022-03-28T13:12:28.743Z"
   },
   {
    "duration": 185,
    "start_time": "2022-03-28T13:12:28.750Z"
   },
   {
    "duration": 173,
    "start_time": "2022-03-28T13:12:28.938Z"
   },
   {
    "duration": 178,
    "start_time": "2022-03-28T13:12:29.114Z"
   },
   {
    "duration": 19,
    "start_time": "2022-03-28T13:12:29.294Z"
   },
   {
    "duration": 8,
    "start_time": "2022-03-28T13:12:29.315Z"
   },
   {
    "duration": 46,
    "start_time": "2022-03-28T13:12:29.325Z"
   },
   {
    "duration": 14,
    "start_time": "2022-03-28T13:12:29.374Z"
   },
   {
    "duration": 10,
    "start_time": "2022-03-28T13:12:29.470Z"
   },
   {
    "duration": 7,
    "start_time": "2022-03-28T13:12:29.570Z"
   },
   {
    "duration": 9,
    "start_time": "2022-03-28T13:12:29.580Z"
   },
   {
    "duration": 17,
    "start_time": "2022-03-28T13:12:29.591Z"
   },
   {
    "duration": 5,
    "start_time": "2022-03-28T13:12:29.610Z"
   },
   {
    "duration": 55,
    "start_time": "2022-03-28T13:12:29.618Z"
   },
   {
    "duration": 15,
    "start_time": "2022-03-28T13:12:29.676Z"
   },
   {
    "duration": 99,
    "start_time": "2022-03-28T13:12:29.774Z"
   },
   {
    "duration": 8,
    "start_time": "2022-03-28T13:12:29.876Z"
   },
   {
    "duration": 13,
    "start_time": "2022-03-28T13:12:29.886Z"
   },
   {
    "duration": 20,
    "start_time": "2022-03-28T13:12:29.901Z"
   },
   {
    "duration": 17,
    "start_time": "2022-03-28T13:12:29.924Z"
   },
   {
    "duration": 33,
    "start_time": "2022-03-28T13:12:29.943Z"
   },
   {
    "duration": 5,
    "start_time": "2022-03-28T13:12:29.979Z"
   },
   {
    "duration": 10,
    "start_time": "2022-03-28T13:12:29.987Z"
   },
   {
    "duration": 9,
    "start_time": "2022-03-28T13:12:29.999Z"
   },
   {
    "duration": 7,
    "start_time": "2022-03-28T13:12:30.010Z"
   },
   {
    "duration": 49,
    "start_time": "2022-03-28T13:12:30.019Z"
   },
   {
    "duration": 15,
    "start_time": "2022-03-28T13:12:30.071Z"
   },
   {
    "duration": 12,
    "start_time": "2022-03-28T13:12:30.090Z"
   },
   {
    "duration": 14,
    "start_time": "2022-03-28T13:12:30.104Z"
   },
   {
    "duration": 19,
    "start_time": "2022-03-28T13:12:30.120Z"
   },
   {
    "duration": 32,
    "start_time": "2022-03-28T13:12:30.141Z"
   },
   {
    "duration": 0,
    "start_time": "2022-03-28T13:12:30.175Z"
   },
   {
    "duration": 1014,
    "start_time": "2022-03-28T13:25:11.709Z"
   },
   {
    "duration": 172,
    "start_time": "2022-03-28T13:25:22.992Z"
   },
   {
    "duration": 31,
    "start_time": "2022-03-28T13:29:25.998Z"
   },
   {
    "duration": 6,
    "start_time": "2022-03-28T13:33:01.601Z"
   },
   {
    "duration": 5,
    "start_time": "2022-03-28T13:34:49.284Z"
   },
   {
    "duration": 12,
    "start_time": "2022-03-28T13:35:18.084Z"
   },
   {
    "duration": 5,
    "start_time": "2022-03-28T13:35:37.545Z"
   },
   {
    "duration": 45,
    "start_time": "2022-03-28T13:35:39.292Z"
   },
   {
    "duration": 13,
    "start_time": "2022-03-28T14:05:57.072Z"
   },
   {
    "duration": 5,
    "start_time": "2022-03-28T14:06:05.058Z"
   },
   {
    "duration": 22,
    "start_time": "2022-03-28T14:06:08.434Z"
   },
   {
    "duration": 28,
    "start_time": "2022-03-28T14:06:37.733Z"
   },
   {
    "duration": 5,
    "start_time": "2022-03-28T14:07:09.796Z"
   },
   {
    "duration": 26,
    "start_time": "2022-03-28T14:07:11.419Z"
   },
   {
    "duration": 16,
    "start_time": "2022-03-28T14:08:27.260Z"
   },
   {
    "duration": 4,
    "start_time": "2022-03-28T14:08:33.184Z"
   },
   {
    "duration": 190,
    "start_time": "2022-03-28T14:08:33.191Z"
   },
   {
    "duration": 184,
    "start_time": "2022-03-28T14:08:33.383Z"
   },
   {
    "duration": 164,
    "start_time": "2022-03-28T14:08:33.570Z"
   },
   {
    "duration": 30,
    "start_time": "2022-03-28T14:08:33.737Z"
   },
   {
    "duration": 5,
    "start_time": "2022-03-28T14:08:33.769Z"
   },
   {
    "duration": 17,
    "start_time": "2022-03-28T14:08:33.776Z"
   },
   {
    "duration": 76,
    "start_time": "2022-03-28T14:08:33.795Z"
   },
   {
    "duration": 95,
    "start_time": "2022-03-28T14:08:33.874Z"
   },
   {
    "duration": 6,
    "start_time": "2022-03-28T14:08:33.972Z"
   },
   {
    "duration": 6,
    "start_time": "2022-03-28T14:08:33.982Z"
   },
   {
    "duration": 99,
    "start_time": "2022-03-28T14:08:33.990Z"
   },
   {
    "duration": 5,
    "start_time": "2022-03-28T14:08:34.091Z"
   },
   {
    "duration": 16,
    "start_time": "2022-03-28T14:08:34.097Z"
   },
   {
    "duration": 55,
    "start_time": "2022-03-28T14:08:34.116Z"
   },
   {
    "duration": 96,
    "start_time": "2022-03-28T14:08:34.174Z"
   },
   {
    "duration": 6,
    "start_time": "2022-03-28T14:08:34.272Z"
   },
   {
    "duration": 8,
    "start_time": "2022-03-28T14:08:34.281Z"
   },
   {
    "duration": 16,
    "start_time": "2022-03-28T14:08:34.291Z"
   },
   {
    "duration": 6,
    "start_time": "2022-03-28T14:08:34.309Z"
   },
   {
    "duration": 15,
    "start_time": "2022-03-28T14:08:34.366Z"
   },
   {
    "duration": 4,
    "start_time": "2022-03-28T14:08:34.384Z"
   },
   {
    "duration": 7,
    "start_time": "2022-03-28T14:08:34.391Z"
   },
   {
    "duration": 6,
    "start_time": "2022-03-28T14:08:34.401Z"
   },
   {
    "duration": 4,
    "start_time": "2022-03-28T14:08:34.410Z"
   },
   {
    "duration": 53,
    "start_time": "2022-03-28T14:08:34.416Z"
   },
   {
    "duration": 10,
    "start_time": "2022-03-28T14:08:34.472Z"
   },
   {
    "duration": 6,
    "start_time": "2022-03-28T14:08:34.485Z"
   },
   {
    "duration": 7,
    "start_time": "2022-03-28T14:08:34.496Z"
   },
   {
    "duration": 7,
    "start_time": "2022-03-28T14:08:34.506Z"
   },
   {
    "duration": 9,
    "start_time": "2022-03-28T14:08:34.515Z"
   },
   {
    "duration": 43,
    "start_time": "2022-03-28T14:08:34.526Z"
   },
   {
    "duration": 0,
    "start_time": "2022-03-28T14:08:34.571Z"
   },
   {
    "duration": 13,
    "start_time": "2022-03-28T14:08:57.125Z"
   },
   {
    "duration": 5,
    "start_time": "2022-03-28T14:09:27.411Z"
   },
   {
    "duration": 16,
    "start_time": "2022-03-28T14:09:28.820Z"
   },
   {
    "duration": 4,
    "start_time": "2022-03-28T14:09:32.411Z"
   },
   {
    "duration": 170,
    "start_time": "2022-03-28T14:09:32.418Z"
   },
   {
    "duration": 162,
    "start_time": "2022-03-28T14:09:32.591Z"
   },
   {
    "duration": 171,
    "start_time": "2022-03-28T14:09:32.755Z"
   },
   {
    "duration": 16,
    "start_time": "2022-03-28T14:09:32.931Z"
   },
   {
    "duration": 5,
    "start_time": "2022-03-28T14:09:32.968Z"
   },
   {
    "duration": 17,
    "start_time": "2022-03-28T14:09:32.975Z"
   },
   {
    "duration": 76,
    "start_time": "2022-03-28T14:09:32.994Z"
   },
   {
    "duration": 100,
    "start_time": "2022-03-28T14:09:33.073Z"
   },
   {
    "duration": 6,
    "start_time": "2022-03-28T14:09:33.177Z"
   },
   {
    "duration": 9,
    "start_time": "2022-03-28T14:09:33.186Z"
   },
   {
    "duration": 17,
    "start_time": "2022-03-28T14:09:33.198Z"
   },
   {
    "duration": 4,
    "start_time": "2022-03-28T14:09:33.218Z"
   },
   {
    "duration": 15,
    "start_time": "2022-03-28T14:09:33.270Z"
   },
   {
    "duration": 7,
    "start_time": "2022-03-28T14:09:33.287Z"
   },
   {
    "duration": 80,
    "start_time": "2022-03-28T14:09:33.297Z"
   },
   {
    "duration": 5,
    "start_time": "2022-03-28T14:09:33.469Z"
   },
   {
    "duration": 8,
    "start_time": "2022-03-28T14:09:33.477Z"
   },
   {
    "duration": 20,
    "start_time": "2022-03-28T14:09:33.488Z"
   },
   {
    "duration": 5,
    "start_time": "2022-03-28T14:09:33.511Z"
   },
   {
    "duration": 56,
    "start_time": "2022-03-28T14:09:33.518Z"
   },
   {
    "duration": 5,
    "start_time": "2022-03-28T14:09:33.577Z"
   },
   {
    "duration": 18,
    "start_time": "2022-03-28T14:09:33.584Z"
   },
   {
    "duration": 11,
    "start_time": "2022-03-28T14:09:33.604Z"
   },
   {
    "duration": 7,
    "start_time": "2022-03-28T14:09:33.617Z"
   },
   {
    "duration": 9,
    "start_time": "2022-03-28T14:09:33.626Z"
   },
   {
    "duration": 33,
    "start_time": "2022-03-28T14:09:33.637Z"
   },
   {
    "duration": 7,
    "start_time": "2022-03-28T14:09:33.673Z"
   },
   {
    "duration": 11,
    "start_time": "2022-03-28T14:09:33.682Z"
   },
   {
    "duration": 4,
    "start_time": "2022-03-28T14:09:33.695Z"
   },
   {
    "duration": 12,
    "start_time": "2022-03-28T14:09:33.702Z"
   },
   {
    "duration": 59,
    "start_time": "2022-03-28T14:09:33.717Z"
   },
   {
    "duration": 0,
    "start_time": "2022-03-28T14:09:33.778Z"
   },
   {
    "duration": 5,
    "start_time": "2022-03-28T14:09:58.729Z"
   },
   {
    "duration": 13,
    "start_time": "2022-03-28T14:09:59.635Z"
   },
   {
    "duration": 29,
    "start_time": "2022-03-28T14:10:00.283Z"
   },
   {
    "duration": 4,
    "start_time": "2022-03-28T14:11:38.367Z"
   },
   {
    "duration": 3,
    "start_time": "2022-03-28T14:11:39.428Z"
   },
   {
    "duration": 18,
    "start_time": "2022-03-28T14:11:40.905Z"
   },
   {
    "duration": 4,
    "start_time": "2022-03-28T14:12:08.095Z"
   },
   {
    "duration": 4,
    "start_time": "2022-03-28T14:12:09.360Z"
   },
   {
    "duration": 19,
    "start_time": "2022-03-28T14:12:09.899Z"
   },
   {
    "duration": 4,
    "start_time": "2022-03-28T14:12:14.100Z"
   },
   {
    "duration": 166,
    "start_time": "2022-03-28T14:12:14.107Z"
   },
   {
    "duration": 161,
    "start_time": "2022-03-28T14:12:14.276Z"
   },
   {
    "duration": 163,
    "start_time": "2022-03-28T14:12:14.439Z"
   },
   {
    "duration": 18,
    "start_time": "2022-03-28T14:12:14.605Z"
   },
   {
    "duration": 5,
    "start_time": "2022-03-28T14:12:14.626Z"
   },
   {
    "duration": 47,
    "start_time": "2022-03-28T14:12:14.634Z"
   },
   {
    "duration": 85,
    "start_time": "2022-03-28T14:12:14.683Z"
   },
   {
    "duration": 8,
    "start_time": "2022-03-28T14:12:14.771Z"
   },
   {
    "duration": 12,
    "start_time": "2022-03-28T14:12:14.868Z"
   },
   {
    "duration": 8,
    "start_time": "2022-03-28T14:12:14.882Z"
   },
   {
    "duration": 17,
    "start_time": "2022-03-28T14:12:14.893Z"
   },
   {
    "duration": 5,
    "start_time": "2022-03-28T14:12:14.916Z"
   },
   {
    "duration": 17,
    "start_time": "2022-03-28T14:12:14.967Z"
   },
   {
    "duration": 15,
    "start_time": "2022-03-28T14:12:14.987Z"
   },
   {
    "duration": 100,
    "start_time": "2022-03-28T14:12:15.070Z"
   },
   {
    "duration": 11,
    "start_time": "2022-03-28T14:12:15.172Z"
   },
   {
    "duration": 7,
    "start_time": "2022-03-28T14:12:15.185Z"
   },
   {
    "duration": 28,
    "start_time": "2022-03-28T14:12:15.194Z"
   },
   {
    "duration": 5,
    "start_time": "2022-03-28T14:12:15.225Z"
   },
   {
    "duration": 45,
    "start_time": "2022-03-28T14:12:15.232Z"
   },
   {
    "duration": 4,
    "start_time": "2022-03-28T14:12:15.279Z"
   },
   {
    "duration": 9,
    "start_time": "2022-03-28T14:12:15.285Z"
   },
   {
    "duration": 7,
    "start_time": "2022-03-28T14:12:15.297Z"
   },
   {
    "duration": 4,
    "start_time": "2022-03-28T14:12:15.306Z"
   },
   {
    "duration": 9,
    "start_time": "2022-03-28T14:12:15.312Z"
   },
   {
    "duration": 46,
    "start_time": "2022-03-28T14:12:15.323Z"
   },
   {
    "duration": 6,
    "start_time": "2022-03-28T14:12:15.371Z"
   },
   {
    "duration": 17,
    "start_time": "2022-03-28T14:12:15.379Z"
   },
   {
    "duration": 5,
    "start_time": "2022-03-28T14:12:15.398Z"
   },
   {
    "duration": 5,
    "start_time": "2022-03-28T14:12:15.405Z"
   },
   {
    "duration": 21,
    "start_time": "2022-03-28T14:12:15.412Z"
   },
   {
    "duration": 0,
    "start_time": "2022-03-28T14:12:15.468Z"
   },
   {
    "duration": 6,
    "start_time": "2022-03-28T14:20:13.895Z"
   },
   {
    "duration": 3,
    "start_time": "2022-03-28T14:20:15.167Z"
   },
   {
    "duration": 4232,
    "start_time": "2022-03-28T14:20:15.819Z"
   },
   {
    "duration": 8,
    "start_time": "2022-03-28T14:20:20.508Z"
   },
   {
    "duration": 5,
    "start_time": "2022-03-28T14:20:35.886Z"
   },
   {
    "duration": 190,
    "start_time": "2022-03-28T14:20:35.894Z"
   },
   {
    "duration": 197,
    "start_time": "2022-03-28T14:20:36.086Z"
   },
   {
    "duration": 257,
    "start_time": "2022-03-28T14:20:36.287Z"
   },
   {
    "duration": 36,
    "start_time": "2022-03-28T14:20:36.547Z"
   },
   {
    "duration": 13,
    "start_time": "2022-03-28T14:20:36.586Z"
   },
   {
    "duration": 34,
    "start_time": "2022-03-28T14:20:36.601Z"
   },
   {
    "duration": 37,
    "start_time": "2022-03-28T14:20:36.638Z"
   },
   {
    "duration": 92,
    "start_time": "2022-03-28T14:20:36.679Z"
   },
   {
    "duration": 96,
    "start_time": "2022-03-28T14:20:36.779Z"
   },
   {
    "duration": 10,
    "start_time": "2022-03-28T14:20:36.877Z"
   },
   {
    "duration": 18,
    "start_time": "2022-03-28T14:20:36.890Z"
   },
   {
    "duration": 5,
    "start_time": "2022-03-28T14:20:36.910Z"
   },
   {
    "duration": 52,
    "start_time": "2022-03-28T14:20:36.917Z"
   },
   {
    "duration": 15,
    "start_time": "2022-03-28T14:20:36.971Z"
   },
   {
    "duration": 6,
    "start_time": "2022-03-28T14:20:37.073Z"
   },
   {
    "duration": 6,
    "start_time": "2022-03-28T14:20:37.169Z"
   },
   {
    "duration": 7,
    "start_time": "2022-03-28T14:20:37.178Z"
   },
   {
    "duration": 18,
    "start_time": "2022-03-28T14:20:37.188Z"
   },
   {
    "duration": 5,
    "start_time": "2022-03-28T14:20:37.209Z"
   },
   {
    "duration": 68,
    "start_time": "2022-03-28T14:20:37.217Z"
   },
   {
    "duration": 4,
    "start_time": "2022-03-28T14:20:37.288Z"
   },
   {
    "duration": 12,
    "start_time": "2022-03-28T14:20:37.295Z"
   },
   {
    "duration": 9,
    "start_time": "2022-03-28T14:20:37.309Z"
   },
   {
    "duration": 6,
    "start_time": "2022-03-28T14:20:37.321Z"
   },
   {
    "duration": 39,
    "start_time": "2022-03-28T14:20:37.329Z"
   },
   {
    "duration": 8,
    "start_time": "2022-03-28T14:20:37.370Z"
   },
   {
    "duration": 9,
    "start_time": "2022-03-28T14:20:37.384Z"
   },
   {
    "duration": 10,
    "start_time": "2022-03-28T14:20:37.395Z"
   },
   {
    "duration": 9,
    "start_time": "2022-03-28T14:20:37.407Z"
   },
   {
    "duration": 18,
    "start_time": "2022-03-28T14:20:37.418Z"
   },
   {
    "duration": 23,
    "start_time": "2022-03-28T14:20:37.469Z"
   },
   {
    "duration": 0,
    "start_time": "2022-03-28T14:20:37.495Z"
   },
   {
    "duration": 5,
    "start_time": "2022-03-28T14:22:36.494Z"
   },
   {
    "duration": 182,
    "start_time": "2022-03-28T14:22:36.502Z"
   },
   {
    "duration": 185,
    "start_time": "2022-03-28T14:22:36.686Z"
   },
   {
    "duration": 176,
    "start_time": "2022-03-28T14:22:36.874Z"
   },
   {
    "duration": 26,
    "start_time": "2022-03-28T14:22:37.052Z"
   },
   {
    "duration": 5,
    "start_time": "2022-03-28T14:22:37.080Z"
   },
   {
    "duration": 16,
    "start_time": "2022-03-28T14:22:37.087Z"
   },
   {
    "duration": 69,
    "start_time": "2022-03-28T14:22:37.105Z"
   },
   {
    "duration": 99,
    "start_time": "2022-03-28T14:22:37.176Z"
   },
   {
    "duration": 7,
    "start_time": "2022-03-28T14:22:37.279Z"
   },
   {
    "duration": 10,
    "start_time": "2022-03-28T14:22:37.288Z"
   },
   {
    "duration": 24,
    "start_time": "2022-03-28T14:22:37.301Z"
   },
   {
    "duration": 6,
    "start_time": "2022-03-28T14:22:37.327Z"
   },
   {
    "duration": 17,
    "start_time": "2022-03-28T14:22:37.367Z"
   },
   {
    "duration": 84,
    "start_time": "2022-03-28T14:22:37.387Z"
   },
   {
    "duration": 6,
    "start_time": "2022-03-28T14:22:37.474Z"
   },
   {
    "duration": 97,
    "start_time": "2022-03-28T14:22:37.482Z"
   },
   {
    "duration": 10,
    "start_time": "2022-03-28T14:22:37.582Z"
   },
   {
    "duration": 74,
    "start_time": "2022-03-28T14:22:37.594Z"
   },
   {
    "duration": 4,
    "start_time": "2022-03-28T14:22:37.670Z"
   },
   {
    "duration": 19,
    "start_time": "2022-03-28T14:22:37.677Z"
   },
   {
    "duration": 5,
    "start_time": "2022-03-28T14:22:37.700Z"
   },
   {
    "duration": 7,
    "start_time": "2022-03-28T14:22:37.708Z"
   },
   {
    "duration": 53,
    "start_time": "2022-03-28T14:22:37.718Z"
   },
   {
    "duration": 7,
    "start_time": "2022-03-28T14:22:37.773Z"
   },
   {
    "duration": 8,
    "start_time": "2022-03-28T14:22:37.782Z"
   },
   {
    "duration": 10,
    "start_time": "2022-03-28T14:22:37.792Z"
   },
   {
    "duration": 15,
    "start_time": "2022-03-28T14:22:37.807Z"
   },
   {
    "duration": 44,
    "start_time": "2022-03-28T14:22:37.824Z"
   },
   {
    "duration": 6,
    "start_time": "2022-03-28T14:22:37.870Z"
   },
   {
    "duration": 6,
    "start_time": "2022-03-28T14:22:37.879Z"
   },
   {
    "duration": 4302,
    "start_time": "2022-03-28T14:22:37.887Z"
   },
   {
    "duration": 8,
    "start_time": "2022-03-28T14:22:42.191Z"
   },
   {
    "duration": 12,
    "start_time": "2022-03-28T14:26:47.789Z"
   },
   {
    "duration": 1390,
    "start_time": "2022-03-28T14:35:18.185Z"
   },
   {
    "duration": 235,
    "start_time": "2022-03-28T14:35:19.578Z"
   },
   {
    "duration": 206,
    "start_time": "2022-03-28T14:35:19.815Z"
   },
   {
    "duration": 213,
    "start_time": "2022-03-28T14:35:20.024Z"
   },
   {
    "duration": 22,
    "start_time": "2022-03-28T14:35:20.239Z"
   },
   {
    "duration": 4,
    "start_time": "2022-03-28T14:35:20.263Z"
   },
   {
    "duration": 37,
    "start_time": "2022-03-28T14:35:20.269Z"
   },
   {
    "duration": 94,
    "start_time": "2022-03-28T14:35:20.308Z"
   },
   {
    "duration": 98,
    "start_time": "2022-03-28T14:35:20.404Z"
   },
   {
    "duration": 4,
    "start_time": "2022-03-28T14:35:20.505Z"
   },
   {
    "duration": 7,
    "start_time": "2022-03-28T14:35:20.510Z"
   },
   {
    "duration": 16,
    "start_time": "2022-03-28T14:35:20.518Z"
   },
   {
    "duration": 3,
    "start_time": "2022-03-28T14:35:20.535Z"
   },
   {
    "duration": 13,
    "start_time": "2022-03-28T14:35:20.540Z"
   },
   {
    "duration": 48,
    "start_time": "2022-03-28T14:35:20.554Z"
   },
   {
    "duration": 90,
    "start_time": "2022-03-28T14:35:20.612Z"
   },
   {
    "duration": 9,
    "start_time": "2022-03-28T14:35:20.704Z"
   },
   {
    "duration": 9,
    "start_time": "2022-03-28T14:35:20.715Z"
   },
   {
    "duration": 15,
    "start_time": "2022-03-28T14:35:20.726Z"
   },
   {
    "duration": 4,
    "start_time": "2022-03-28T14:35:20.743Z"
   },
   {
    "duration": 15,
    "start_time": "2022-03-28T14:35:20.749Z"
   },
   {
    "duration": 35,
    "start_time": "2022-03-28T14:35:20.766Z"
   },
   {
    "duration": 5,
    "start_time": "2022-03-28T14:35:20.803Z"
   },
   {
    "duration": 12,
    "start_time": "2022-03-28T14:35:20.810Z"
   },
   {
    "duration": 21,
    "start_time": "2022-03-28T14:35:20.824Z"
   },
   {
    "duration": 34,
    "start_time": "2022-03-28T14:35:20.847Z"
   },
   {
    "duration": 23,
    "start_time": "2022-03-28T14:35:20.883Z"
   },
   {
    "duration": 27,
    "start_time": "2022-03-28T14:35:20.910Z"
   },
   {
    "duration": 21,
    "start_time": "2022-03-28T14:35:20.939Z"
   },
   {
    "duration": 50,
    "start_time": "2022-03-28T14:35:20.962Z"
   },
   {
    "duration": 43,
    "start_time": "2022-03-28T14:35:21.014Z"
   },
   {
    "duration": 122,
    "start_time": "2022-03-28T14:35:21.060Z"
   },
   {
    "duration": 0,
    "start_time": "2022-03-28T14:35:21.184Z"
   },
   {
    "duration": 2831,
    "start_time": "2022-03-28T14:37:03.122Z"
   },
   {
    "duration": 7,
    "start_time": "2022-03-28T14:37:05.955Z"
   },
   {
    "duration": 22,
    "start_time": "2022-03-28T14:42:42.892Z"
   },
   {
    "duration": 3,
    "start_time": "2022-03-28T14:44:01.871Z"
   },
   {
    "duration": 162,
    "start_time": "2022-03-28T14:44:01.875Z"
   },
   {
    "duration": 137,
    "start_time": "2022-03-28T14:44:02.039Z"
   },
   {
    "duration": 139,
    "start_time": "2022-03-28T14:44:02.178Z"
   },
   {
    "duration": 12,
    "start_time": "2022-03-28T14:44:02.319Z"
   },
   {
    "duration": 6,
    "start_time": "2022-03-28T14:44:02.333Z"
   },
   {
    "duration": 18,
    "start_time": "2022-03-28T14:44:02.341Z"
   },
   {
    "duration": 45,
    "start_time": "2022-03-28T14:44:02.361Z"
   },
   {
    "duration": 7,
    "start_time": "2022-03-28T14:44:02.408Z"
   },
   {
    "duration": 4,
    "start_time": "2022-03-28T14:44:02.502Z"
   },
   {
    "duration": 10,
    "start_time": "2022-03-28T14:44:02.509Z"
   },
   {
    "duration": 18,
    "start_time": "2022-03-28T14:44:02.520Z"
   },
   {
    "duration": 4,
    "start_time": "2022-03-28T14:44:02.539Z"
   },
   {
    "duration": 14,
    "start_time": "2022-03-28T14:44:02.545Z"
   },
   {
    "duration": 5,
    "start_time": "2022-03-28T14:44:02.560Z"
   },
   {
    "duration": 95,
    "start_time": "2022-03-28T14:44:02.607Z"
   },
   {
    "duration": 6,
    "start_time": "2022-03-28T14:44:02.703Z"
   },
   {
    "duration": 6,
    "start_time": "2022-03-28T14:44:02.710Z"
   },
   {
    "duration": 12,
    "start_time": "2022-03-28T14:44:02.717Z"
   },
   {
    "duration": 3,
    "start_time": "2022-03-28T14:44:02.731Z"
   },
   {
    "duration": 16,
    "start_time": "2022-03-28T14:44:02.736Z"
   },
   {
    "duration": 5,
    "start_time": "2022-03-28T14:44:02.753Z"
   },
   {
    "duration": 14,
    "start_time": "2022-03-28T14:44:02.759Z"
   },
   {
    "duration": 5,
    "start_time": "2022-03-28T14:44:02.801Z"
   },
   {
    "duration": 11,
    "start_time": "2022-03-28T14:44:02.808Z"
   },
   {
    "duration": 16,
    "start_time": "2022-03-28T14:44:02.820Z"
   },
   {
    "duration": 13,
    "start_time": "2022-03-28T14:44:02.838Z"
   },
   {
    "duration": 14,
    "start_time": "2022-03-28T14:44:02.853Z"
   },
   {
    "duration": 15,
    "start_time": "2022-03-28T14:44:02.871Z"
   },
   {
    "duration": 14,
    "start_time": "2022-03-28T14:44:02.888Z"
   },
   {
    "duration": 11,
    "start_time": "2022-03-28T14:44:02.904Z"
   },
   {
    "duration": 16,
    "start_time": "2022-03-28T14:44:02.917Z"
   },
   {
    "duration": 0,
    "start_time": "2022-03-28T14:44:02.934Z"
   },
   {
    "duration": 10,
    "start_time": "2022-03-28T14:44:15.524Z"
   },
   {
    "duration": 10,
    "start_time": "2022-03-28T14:44:48.801Z"
   },
   {
    "duration": 10,
    "start_time": "2022-03-28T14:45:06.806Z"
   },
   {
    "duration": 10,
    "start_time": "2022-03-28T14:47:18.388Z"
   },
   {
    "duration": 11,
    "start_time": "2022-03-28T14:47:41.942Z"
   },
   {
    "duration": 21,
    "start_time": "2022-03-28T14:48:26.863Z"
   },
   {
    "duration": 11,
    "start_time": "2022-03-28T14:48:35.600Z"
   },
   {
    "duration": 6,
    "start_time": "2022-03-28T14:48:46.131Z"
   },
   {
    "duration": 15,
    "start_time": "2022-03-28T14:48:46.869Z"
   },
   {
    "duration": 13,
    "start_time": "2022-03-28T14:49:53.353Z"
   },
   {
    "duration": 3,
    "start_time": "2022-03-28T14:50:01.945Z"
   },
   {
    "duration": 14,
    "start_time": "2022-03-28T14:50:02.576Z"
   },
   {
    "duration": 4,
    "start_time": "2022-03-28T14:50:07.035Z"
   },
   {
    "duration": 164,
    "start_time": "2022-03-28T14:50:07.041Z"
   },
   {
    "duration": 144,
    "start_time": "2022-03-28T14:50:07.207Z"
   },
   {
    "duration": 138,
    "start_time": "2022-03-28T14:50:07.353Z"
   },
   {
    "duration": 17,
    "start_time": "2022-03-28T14:50:07.492Z"
   },
   {
    "duration": 3,
    "start_time": "2022-03-28T14:50:07.511Z"
   },
   {
    "duration": 12,
    "start_time": "2022-03-28T14:50:07.515Z"
   },
   {
    "duration": 75,
    "start_time": "2022-03-28T14:50:07.528Z"
   },
   {
    "duration": 95,
    "start_time": "2022-03-28T14:50:07.607Z"
   },
   {
    "duration": 5,
    "start_time": "2022-03-28T14:50:07.703Z"
   },
   {
    "duration": 5,
    "start_time": "2022-03-28T14:50:07.710Z"
   },
   {
    "duration": 17,
    "start_time": "2022-03-28T14:50:07.717Z"
   },
   {
    "duration": 4,
    "start_time": "2022-03-28T14:50:07.735Z"
   },
   {
    "duration": 12,
    "start_time": "2022-03-28T14:50:07.741Z"
   },
   {
    "duration": 54,
    "start_time": "2022-03-28T14:50:07.754Z"
   },
   {
    "duration": 97,
    "start_time": "2022-03-28T14:50:07.811Z"
   },
   {
    "duration": 5,
    "start_time": "2022-03-28T14:50:07.911Z"
   },
   {
    "duration": 84,
    "start_time": "2022-03-28T14:50:07.918Z"
   },
   {
    "duration": 16,
    "start_time": "2022-03-28T14:50:08.004Z"
   },
   {
    "duration": 3,
    "start_time": "2022-03-28T14:50:08.022Z"
   },
   {
    "duration": 13,
    "start_time": "2022-03-28T14:50:08.026Z"
   },
   {
    "duration": 3,
    "start_time": "2022-03-28T14:50:08.040Z"
   },
   {
    "duration": 5,
    "start_time": "2022-03-28T14:50:08.045Z"
   },
   {
    "duration": 4,
    "start_time": "2022-03-28T14:50:08.053Z"
   },
   {
    "duration": 5,
    "start_time": "2022-03-28T14:50:08.059Z"
   },
   {
    "duration": 4,
    "start_time": "2022-03-28T14:50:08.102Z"
   },
   {
    "duration": 7,
    "start_time": "2022-03-28T14:50:08.107Z"
   },
   {
    "duration": 6,
    "start_time": "2022-03-28T14:50:08.116Z"
   },
   {
    "duration": 7,
    "start_time": "2022-03-28T14:50:08.124Z"
   },
   {
    "duration": 11,
    "start_time": "2022-03-28T14:50:08.133Z"
   },
   {
    "duration": 7,
    "start_time": "2022-03-28T14:50:08.146Z"
   },
   {
    "duration": 14,
    "start_time": "2022-03-28T14:50:08.155Z"
   },
   {
    "duration": 1,
    "start_time": "2022-03-28T14:50:08.170Z"
   },
   {
    "duration": 11,
    "start_time": "2022-03-28T14:51:31.933Z"
   },
   {
    "duration": 9,
    "start_time": "2022-03-28T14:55:34.595Z"
   },
   {
    "duration": 3,
    "start_time": "2022-03-28T14:55:47.855Z"
   },
   {
    "duration": 148,
    "start_time": "2022-03-28T14:55:47.860Z"
   },
   {
    "duration": 133,
    "start_time": "2022-03-28T14:55:48.010Z"
   },
   {
    "duration": 140,
    "start_time": "2022-03-28T14:55:48.145Z"
   },
   {
    "duration": 22,
    "start_time": "2022-03-28T14:55:48.287Z"
   },
   {
    "duration": 4,
    "start_time": "2022-03-28T14:55:48.310Z"
   },
   {
    "duration": 11,
    "start_time": "2022-03-28T14:55:48.315Z"
   },
   {
    "duration": 5,
    "start_time": "2022-03-28T14:55:48.328Z"
   },
   {
    "duration": 70,
    "start_time": "2022-03-28T14:55:48.336Z"
   },
   {
    "duration": 94,
    "start_time": "2022-03-28T14:55:48.409Z"
   },
   {
    "duration": 6,
    "start_time": "2022-03-28T14:55:48.506Z"
   },
   {
    "duration": 15,
    "start_time": "2022-03-28T14:55:48.514Z"
   },
   {
    "duration": 3,
    "start_time": "2022-03-28T14:55:48.531Z"
   },
   {
    "duration": 13,
    "start_time": "2022-03-28T14:55:48.535Z"
   },
   {
    "duration": 59,
    "start_time": "2022-03-28T14:55:48.550Z"
   },
   {
    "duration": 3,
    "start_time": "2022-03-28T14:55:48.701Z"
   },
   {
    "duration": 6,
    "start_time": "2022-03-28T14:55:48.706Z"
   },
   {
    "duration": 5,
    "start_time": "2022-03-28T14:55:48.714Z"
   },
   {
    "duration": 12,
    "start_time": "2022-03-28T14:55:48.721Z"
   },
   {
    "duration": 3,
    "start_time": "2022-03-28T14:55:48.735Z"
   },
   {
    "duration": 12,
    "start_time": "2022-03-28T14:55:48.740Z"
   },
   {
    "duration": 4,
    "start_time": "2022-03-28T14:55:48.754Z"
   },
   {
    "duration": 43,
    "start_time": "2022-03-28T14:55:48.759Z"
   },
   {
    "duration": 4,
    "start_time": "2022-03-28T14:55:48.805Z"
   },
   {
    "duration": 7,
    "start_time": "2022-03-28T14:55:48.810Z"
   },
   {
    "duration": 11,
    "start_time": "2022-03-28T14:55:48.818Z"
   },
   {
    "duration": 10,
    "start_time": "2022-03-28T14:55:48.831Z"
   },
   {
    "duration": 9,
    "start_time": "2022-03-28T14:55:48.843Z"
   },
   {
    "duration": 11,
    "start_time": "2022-03-28T14:55:48.854Z"
   },
   {
    "duration": 7,
    "start_time": "2022-03-28T14:55:48.867Z"
   },
   {
    "duration": 10,
    "start_time": "2022-03-28T14:55:48.876Z"
   },
   {
    "duration": 37,
    "start_time": "2022-03-28T14:55:48.887Z"
   },
   {
    "duration": 0,
    "start_time": "2022-03-28T14:55:48.925Z"
   },
   {
    "duration": 11,
    "start_time": "2022-03-28T14:57:30.466Z"
   },
   {
    "duration": 7,
    "start_time": "2022-03-28T14:57:39.159Z"
   },
   {
    "duration": 14,
    "start_time": "2022-03-28T14:57:39.696Z"
   },
   {
    "duration": 4,
    "start_time": "2022-03-28T14:57:46.149Z"
   },
   {
    "duration": 15,
    "start_time": "2022-03-28T14:57:46.818Z"
   },
   {
    "duration": 3,
    "start_time": "2022-03-28T14:57:50.223Z"
   },
   {
    "duration": 139,
    "start_time": "2022-03-28T14:57:50.228Z"
   },
   {
    "duration": 133,
    "start_time": "2022-03-28T14:57:50.369Z"
   },
   {
    "duration": 130,
    "start_time": "2022-03-28T14:57:50.503Z"
   },
   {
    "duration": 12,
    "start_time": "2022-03-28T14:57:50.635Z"
   },
   {
    "duration": 4,
    "start_time": "2022-03-28T14:57:50.649Z"
   },
   {
    "duration": 11,
    "start_time": "2022-03-28T14:57:50.654Z"
   },
   {
    "duration": 43,
    "start_time": "2022-03-28T14:57:50.667Z"
   },
   {
    "duration": 4,
    "start_time": "2022-03-28T14:57:50.803Z"
   },
   {
    "duration": 8,
    "start_time": "2022-03-28T14:57:50.809Z"
   },
   {
    "duration": 7,
    "start_time": "2022-03-28T14:57:50.819Z"
   },
   {
    "duration": 19,
    "start_time": "2022-03-28T14:57:50.827Z"
   },
   {
    "duration": 4,
    "start_time": "2022-03-28T14:57:50.848Z"
   },
   {
    "duration": 57,
    "start_time": "2022-03-28T14:57:50.853Z"
   },
   {
    "duration": 4,
    "start_time": "2022-03-28T14:57:50.912Z"
   },
   {
    "duration": 85,
    "start_time": "2022-03-28T14:57:50.918Z"
   },
   {
    "duration": 95,
    "start_time": "2022-03-28T14:57:51.009Z"
   },
   {
    "duration": 8,
    "start_time": "2022-03-28T14:57:51.105Z"
   },
   {
    "duration": 13,
    "start_time": "2022-03-28T14:57:51.115Z"
   },
   {
    "duration": 4,
    "start_time": "2022-03-28T14:57:51.129Z"
   },
   {
    "duration": 12,
    "start_time": "2022-03-28T14:57:51.135Z"
   },
   {
    "duration": 5,
    "start_time": "2022-03-28T14:57:51.149Z"
   },
   {
    "duration": 9,
    "start_time": "2022-03-28T14:57:51.156Z"
   },
   {
    "duration": 49,
    "start_time": "2022-03-28T14:57:51.202Z"
   },
   {
    "duration": 34,
    "start_time": "2022-03-28T14:57:51.253Z"
   },
   {
    "duration": 10,
    "start_time": "2022-03-28T14:57:51.289Z"
   },
   {
    "duration": 41,
    "start_time": "2022-03-28T14:57:51.300Z"
   },
   {
    "duration": 18,
    "start_time": "2022-03-28T14:57:51.343Z"
   },
   {
    "duration": 18,
    "start_time": "2022-03-28T14:57:51.363Z"
   },
   {
    "duration": 23,
    "start_time": "2022-03-28T14:57:51.383Z"
   },
   {
    "duration": 25,
    "start_time": "2022-03-28T14:57:51.408Z"
   },
   {
    "duration": 25,
    "start_time": "2022-03-28T14:57:51.435Z"
   },
   {
    "duration": 0,
    "start_time": "2022-03-28T14:57:51.462Z"
   },
   {
    "duration": 12,
    "start_time": "2022-03-28T15:01:02.463Z"
   },
   {
    "duration": 3,
    "start_time": "2022-03-28T15:01:09.257Z"
   },
   {
    "duration": 17,
    "start_time": "2022-03-28T15:01:10.857Z"
   },
   {
    "duration": 3,
    "start_time": "2022-03-28T15:01:49.266Z"
   },
   {
    "duration": 146,
    "start_time": "2022-03-28T15:01:49.271Z"
   },
   {
    "duration": 133,
    "start_time": "2022-03-28T15:01:49.418Z"
   },
   {
    "duration": 134,
    "start_time": "2022-03-28T15:01:49.553Z"
   },
   {
    "duration": 18,
    "start_time": "2022-03-28T15:01:49.688Z"
   },
   {
    "duration": 3,
    "start_time": "2022-03-28T15:01:49.709Z"
   },
   {
    "duration": 14,
    "start_time": "2022-03-28T15:01:49.714Z"
   },
   {
    "duration": 7,
    "start_time": "2022-03-28T15:01:49.730Z"
   },
   {
    "duration": 5,
    "start_time": "2022-03-28T15:01:49.801Z"
   },
   {
    "duration": 93,
    "start_time": "2022-03-28T15:01:49.808Z"
   },
   {
    "duration": 5,
    "start_time": "2022-03-28T15:01:49.903Z"
   },
   {
    "duration": 14,
    "start_time": "2022-03-28T15:01:49.910Z"
   },
   {
    "duration": 3,
    "start_time": "2022-03-28T15:01:49.926Z"
   },
   {
    "duration": 11,
    "start_time": "2022-03-28T15:01:49.931Z"
   },
   {
    "duration": 61,
    "start_time": "2022-03-28T15:01:49.943Z"
   },
   {
    "duration": 5,
    "start_time": "2022-03-28T15:01:50.007Z"
   },
   {
    "duration": 91,
    "start_time": "2022-03-28T15:01:50.014Z"
   },
   {
    "duration": 8,
    "start_time": "2022-03-28T15:01:50.107Z"
   },
   {
    "duration": 20,
    "start_time": "2022-03-28T15:01:50.117Z"
   },
   {
    "duration": 63,
    "start_time": "2022-03-28T15:01:50.138Z"
   },
   {
    "duration": 14,
    "start_time": "2022-03-28T15:01:50.203Z"
   },
   {
    "duration": 3,
    "start_time": "2022-03-28T15:01:50.219Z"
   },
   {
    "duration": 4,
    "start_time": "2022-03-28T15:01:50.224Z"
   },
   {
    "duration": 6,
    "start_time": "2022-03-28T15:01:50.231Z"
   },
   {
    "duration": 3,
    "start_time": "2022-03-28T15:01:50.239Z"
   },
   {
    "duration": 7,
    "start_time": "2022-03-28T15:01:50.243Z"
   },
   {
    "duration": 8,
    "start_time": "2022-03-28T15:01:50.252Z"
   },
   {
    "duration": 39,
    "start_time": "2022-03-28T15:01:50.262Z"
   },
   {
    "duration": 8,
    "start_time": "2022-03-28T15:01:50.303Z"
   },
   {
    "duration": 10,
    "start_time": "2022-03-28T15:01:50.312Z"
   },
   {
    "duration": 7,
    "start_time": "2022-03-28T15:01:50.323Z"
   },
   {
    "duration": 15,
    "start_time": "2022-03-28T15:01:50.332Z"
   },
   {
    "duration": 0,
    "start_time": "2022-03-28T15:01:50.349Z"
   },
   {
    "duration": 17,
    "start_time": "2022-03-28T15:05:31.897Z"
   },
   {
    "duration": 11,
    "start_time": "2022-03-28T15:06:10.094Z"
   },
   {
    "duration": 10,
    "start_time": "2022-03-28T15:06:28.455Z"
   },
   {
    "duration": 10,
    "start_time": "2022-03-28T15:07:00.809Z"
   },
   {
    "duration": 3,
    "start_time": "2022-03-28T15:07:04.460Z"
   },
   {
    "duration": 143,
    "start_time": "2022-03-28T15:07:04.465Z"
   },
   {
    "duration": 134,
    "start_time": "2022-03-28T15:07:04.610Z"
   },
   {
    "duration": 143,
    "start_time": "2022-03-28T15:07:04.745Z"
   },
   {
    "duration": 17,
    "start_time": "2022-03-28T15:07:04.890Z"
   },
   {
    "duration": 4,
    "start_time": "2022-03-28T15:07:04.908Z"
   },
   {
    "duration": 13,
    "start_time": "2022-03-28T15:07:04.913Z"
   },
   {
    "duration": 86,
    "start_time": "2022-03-28T15:07:04.928Z"
   },
   {
    "duration": 4,
    "start_time": "2022-03-28T15:07:05.101Z"
   },
   {
    "duration": 5,
    "start_time": "2022-03-28T15:07:05.107Z"
   },
   {
    "duration": 5,
    "start_time": "2022-03-28T15:07:05.115Z"
   },
   {
    "duration": 13,
    "start_time": "2022-03-28T15:07:05.121Z"
   },
   {
    "duration": 3,
    "start_time": "2022-03-28T15:07:05.136Z"
   },
   {
    "duration": 12,
    "start_time": "2022-03-28T15:07:05.140Z"
   },
   {
    "duration": 49,
    "start_time": "2022-03-28T15:07:05.153Z"
   },
   {
    "duration": 5,
    "start_time": "2022-03-28T15:07:05.205Z"
   },
   {
    "duration": 4,
    "start_time": "2022-03-28T15:07:05.302Z"
   },
   {
    "duration": 7,
    "start_time": "2022-03-28T15:07:05.308Z"
   },
   {
    "duration": 16,
    "start_time": "2022-03-28T15:07:05.317Z"
   },
   {
    "duration": 3,
    "start_time": "2022-03-28T15:07:05.335Z"
   },
   {
    "duration": 13,
    "start_time": "2022-03-28T15:07:05.339Z"
   },
   {
    "duration": 4,
    "start_time": "2022-03-28T15:07:05.353Z"
   },
   {
    "duration": 45,
    "start_time": "2022-03-28T15:07:05.358Z"
   },
   {
    "duration": 5,
    "start_time": "2022-03-28T15:07:05.405Z"
   },
   {
    "duration": 4,
    "start_time": "2022-03-28T15:07:05.411Z"
   },
   {
    "duration": 7,
    "start_time": "2022-03-28T15:07:05.417Z"
   },
   {
    "duration": 11,
    "start_time": "2022-03-28T15:07:05.426Z"
   },
   {
    "duration": 8,
    "start_time": "2022-03-28T15:07:05.439Z"
   },
   {
    "duration": 8,
    "start_time": "2022-03-28T15:07:05.450Z"
   },
   {
    "duration": 10,
    "start_time": "2022-03-28T15:07:05.459Z"
   },
   {
    "duration": 7,
    "start_time": "2022-03-28T15:07:05.471Z"
   },
   {
    "duration": 23,
    "start_time": "2022-03-28T15:07:05.480Z"
   },
   {
    "duration": 0,
    "start_time": "2022-03-28T15:07:05.505Z"
   },
   {
    "duration": 5,
    "start_time": "2022-03-28T15:09:47.885Z"
   },
   {
    "duration": 4,
    "start_time": "2022-03-28T15:11:30.631Z"
   },
   {
    "duration": 3,
    "start_time": "2022-03-28T15:11:31.840Z"
   },
   {
    "duration": 11,
    "start_time": "2022-03-28T15:11:32.328Z"
   },
   {
    "duration": 4,
    "start_time": "2022-03-28T15:14:41.682Z"
   },
   {
    "duration": 2,
    "start_time": "2022-03-28T15:14:43.316Z"
   },
   {
    "duration": 11,
    "start_time": "2022-03-28T15:14:51.367Z"
   },
   {
    "duration": 3,
    "start_time": "2022-03-28T15:15:49.087Z"
   },
   {
    "duration": 179,
    "start_time": "2022-03-28T15:15:49.092Z"
   },
   {
    "duration": 132,
    "start_time": "2022-03-28T15:15:49.273Z"
   },
   {
    "duration": 135,
    "start_time": "2022-03-28T15:15:49.407Z"
   },
   {
    "duration": 13,
    "start_time": "2022-03-28T15:15:49.543Z"
   },
   {
    "duration": 13,
    "start_time": "2022-03-28T15:15:49.557Z"
   },
   {
    "duration": 31,
    "start_time": "2022-03-28T15:15:49.571Z"
   },
   {
    "duration": 5,
    "start_time": "2022-03-28T15:15:49.603Z"
   },
   {
    "duration": 5,
    "start_time": "2022-03-28T15:15:49.610Z"
   },
   {
    "duration": 7,
    "start_time": "2022-03-28T15:15:49.701Z"
   },
   {
    "duration": 6,
    "start_time": "2022-03-28T15:15:49.800Z"
   },
   {
    "duration": 21,
    "start_time": "2022-03-28T15:15:49.808Z"
   },
   {
    "duration": 4,
    "start_time": "2022-03-28T15:15:49.831Z"
   },
   {
    "duration": 20,
    "start_time": "2022-03-28T15:15:49.837Z"
   },
   {
    "duration": 42,
    "start_time": "2022-03-28T15:15:49.859Z"
   },
   {
    "duration": 9,
    "start_time": "2022-03-28T15:15:49.904Z"
   },
   {
    "duration": 5,
    "start_time": "2022-03-28T15:15:50.001Z"
   },
   {
    "duration": 15,
    "start_time": "2022-03-28T15:15:50.008Z"
   },
   {
    "duration": 17,
    "start_time": "2022-03-28T15:15:50.024Z"
   },
   {
    "duration": 3,
    "start_time": "2022-03-28T15:15:50.042Z"
   },
   {
    "duration": 13,
    "start_time": "2022-03-28T15:15:50.047Z"
   },
   {
    "duration": 4,
    "start_time": "2022-03-28T15:15:50.062Z"
   },
   {
    "duration": 7,
    "start_time": "2022-03-28T15:15:50.067Z"
   },
   {
    "duration": 31,
    "start_time": "2022-03-28T15:15:50.076Z"
   },
   {
    "duration": 5,
    "start_time": "2022-03-28T15:15:50.109Z"
   },
   {
    "duration": 13,
    "start_time": "2022-03-28T15:15:50.115Z"
   },
   {
    "duration": 17,
    "start_time": "2022-03-28T15:15:50.129Z"
   },
   {
    "duration": 10,
    "start_time": "2022-03-28T15:15:50.149Z"
   },
   {
    "duration": 17,
    "start_time": "2022-03-28T15:15:50.161Z"
   },
   {
    "duration": 18,
    "start_time": "2022-03-28T15:15:50.180Z"
   },
   {
    "duration": 15,
    "start_time": "2022-03-28T15:15:50.200Z"
   },
   {
    "duration": 18,
    "start_time": "2022-03-28T15:15:50.217Z"
   },
   {
    "duration": 0,
    "start_time": "2022-03-28T15:15:50.237Z"
   },
   {
    "duration": 3,
    "start_time": "2022-03-28T15:16:27.504Z"
   },
   {
    "duration": 11,
    "start_time": "2022-03-28T15:16:27.989Z"
   },
   {
    "duration": 3,
    "start_time": "2022-03-28T15:16:34.173Z"
   },
   {
    "duration": 150,
    "start_time": "2022-03-28T15:16:34.178Z"
   },
   {
    "duration": 138,
    "start_time": "2022-03-28T15:16:34.329Z"
   },
   {
    "duration": 137,
    "start_time": "2022-03-28T15:16:34.469Z"
   },
   {
    "duration": 12,
    "start_time": "2022-03-28T15:16:34.608Z"
   },
   {
    "duration": 20,
    "start_time": "2022-03-28T15:16:34.621Z"
   },
   {
    "duration": 25,
    "start_time": "2022-03-28T15:16:34.643Z"
   },
   {
    "duration": 31,
    "start_time": "2022-03-28T15:16:34.670Z"
   },
   {
    "duration": 103,
    "start_time": "2022-03-28T15:16:34.703Z"
   },
   {
    "duration": 18,
    "start_time": "2022-03-28T15:16:34.809Z"
   },
   {
    "duration": 27,
    "start_time": "2022-03-28T15:16:34.829Z"
   },
   {
    "duration": 60,
    "start_time": "2022-03-28T15:16:34.858Z"
   },
   {
    "duration": 36,
    "start_time": "2022-03-28T15:16:34.922Z"
   },
   {
    "duration": 100,
    "start_time": "2022-03-28T15:16:34.960Z"
   },
   {
    "duration": 69,
    "start_time": "2022-03-28T15:16:35.062Z"
   },
   {
    "duration": 70,
    "start_time": "2022-03-28T15:16:35.134Z"
   },
   {
    "duration": 109,
    "start_time": "2022-03-28T15:16:35.207Z"
   },
   {
    "duration": 32,
    "start_time": "2022-03-28T15:16:35.319Z"
   },
   {
    "duration": 30,
    "start_time": "2022-03-28T15:16:35.353Z"
   },
   {
    "duration": 21,
    "start_time": "2022-03-28T15:16:35.385Z"
   },
   {
    "duration": 35,
    "start_time": "2022-03-28T15:16:35.408Z"
   },
   {
    "duration": 11,
    "start_time": "2022-03-28T15:16:35.445Z"
   },
   {
    "duration": 22,
    "start_time": "2022-03-28T15:16:35.458Z"
   },
   {
    "duration": 23,
    "start_time": "2022-03-28T15:16:35.482Z"
   },
   {
    "duration": 32,
    "start_time": "2022-03-28T15:16:35.506Z"
   },
   {
    "duration": 23,
    "start_time": "2022-03-28T15:16:35.540Z"
   },
   {
    "duration": 20,
    "start_time": "2022-03-28T15:16:35.564Z"
   },
   {
    "duration": 14,
    "start_time": "2022-03-28T15:16:35.586Z"
   },
   {
    "duration": 77,
    "start_time": "2022-03-28T15:16:35.602Z"
   },
   {
    "duration": 34,
    "start_time": "2022-03-28T15:16:35.681Z"
   },
   {
    "duration": 33,
    "start_time": "2022-03-28T15:16:35.717Z"
   },
   {
    "duration": 22,
    "start_time": "2022-03-28T15:16:35.752Z"
   },
   {
    "duration": 0,
    "start_time": "2022-03-28T15:16:35.776Z"
   },
   {
    "duration": 11,
    "start_time": "2022-03-28T15:18:37.937Z"
   },
   {
    "duration": 4,
    "start_time": "2022-03-28T15:19:10.887Z"
   },
   {
    "duration": 150,
    "start_time": "2022-03-28T15:19:10.894Z"
   },
   {
    "duration": 142,
    "start_time": "2022-03-28T15:19:11.046Z"
   },
   {
    "duration": 148,
    "start_time": "2022-03-28T15:19:11.190Z"
   },
   {
    "duration": 12,
    "start_time": "2022-03-28T15:19:11.341Z"
   },
   {
    "duration": 4,
    "start_time": "2022-03-28T15:19:11.355Z"
   },
   {
    "duration": 12,
    "start_time": "2022-03-28T15:19:11.360Z"
   },
   {
    "duration": 34,
    "start_time": "2022-03-28T15:19:11.373Z"
   },
   {
    "duration": 100,
    "start_time": "2022-03-28T15:19:11.410Z"
   },
   {
    "duration": 5,
    "start_time": "2022-03-28T15:19:11.512Z"
   },
   {
    "duration": 6,
    "start_time": "2022-03-28T15:19:11.518Z"
   },
   {
    "duration": 86,
    "start_time": "2022-03-28T15:19:11.526Z"
   },
   {
    "duration": 4,
    "start_time": "2022-03-28T15:19:11.614Z"
   },
   {
    "duration": 14,
    "start_time": "2022-03-28T15:19:11.621Z"
   },
   {
    "duration": 10,
    "start_time": "2022-03-28T15:19:11.637Z"
   },
   {
    "duration": 103,
    "start_time": "2022-03-28T15:19:11.702Z"
   },
   {
    "duration": 8,
    "start_time": "2022-03-28T15:19:11.807Z"
   },
   {
    "duration": 7,
    "start_time": "2022-03-28T15:19:11.816Z"
   },
   {
    "duration": 13,
    "start_time": "2022-03-28T15:19:11.825Z"
   },
   {
    "duration": 3,
    "start_time": "2022-03-28T15:19:11.840Z"
   },
   {
    "duration": 14,
    "start_time": "2022-03-28T15:19:11.845Z"
   },
   {
    "duration": 4,
    "start_time": "2022-03-28T15:19:11.861Z"
   },
   {
    "duration": 12,
    "start_time": "2022-03-28T15:19:11.866Z"
   },
   {
    "duration": 17,
    "start_time": "2022-03-28T15:19:11.880Z"
   },
   {
    "duration": 6,
    "start_time": "2022-03-28T15:19:11.899Z"
   },
   {
    "duration": 10,
    "start_time": "2022-03-28T15:19:11.907Z"
   },
   {
    "duration": 9,
    "start_time": "2022-03-28T15:19:11.919Z"
   },
   {
    "duration": 8,
    "start_time": "2022-03-28T15:19:11.930Z"
   },
   {
    "duration": 11,
    "start_time": "2022-03-28T15:19:11.939Z"
   },
   {
    "duration": 6,
    "start_time": "2022-03-28T15:19:11.952Z"
   },
   {
    "duration": 12,
    "start_time": "2022-03-28T15:19:11.960Z"
   },
   {
    "duration": 15,
    "start_time": "2022-03-28T15:19:11.974Z"
   },
   {
    "duration": 0,
    "start_time": "2022-03-28T15:19:11.991Z"
   },
   {
    "duration": 3,
    "start_time": "2022-03-28T15:22:30.688Z"
   },
   {
    "duration": 154,
    "start_time": "2022-03-28T15:22:30.693Z"
   },
   {
    "duration": 135,
    "start_time": "2022-03-28T15:22:30.849Z"
   },
   {
    "duration": 140,
    "start_time": "2022-03-28T15:22:30.986Z"
   },
   {
    "duration": 12,
    "start_time": "2022-03-28T15:22:31.128Z"
   },
   {
    "duration": 8,
    "start_time": "2022-03-28T15:22:31.142Z"
   },
   {
    "duration": 22,
    "start_time": "2022-03-28T15:22:31.152Z"
   },
   {
    "duration": 33,
    "start_time": "2022-03-28T15:22:31.176Z"
   },
   {
    "duration": 97,
    "start_time": "2022-03-28T15:22:31.213Z"
   },
   {
    "duration": 97,
    "start_time": "2022-03-28T15:22:31.312Z"
   },
   {
    "duration": 24,
    "start_time": "2022-03-28T15:22:31.410Z"
   },
   {
    "duration": 25,
    "start_time": "2022-03-28T15:22:31.436Z"
   },
   {
    "duration": 29,
    "start_time": "2022-03-28T15:22:31.462Z"
   },
   {
    "duration": 31,
    "start_time": "2022-03-28T15:22:31.492Z"
   },
   {
    "duration": 7,
    "start_time": "2022-03-28T15:22:31.525Z"
   },
   {
    "duration": 80,
    "start_time": "2022-03-28T15:22:31.535Z"
   },
   {
    "duration": 6,
    "start_time": "2022-03-28T15:22:31.702Z"
   },
   {
    "duration": 6,
    "start_time": "2022-03-28T15:22:31.710Z"
   },
   {
    "duration": 14,
    "start_time": "2022-03-28T15:22:31.717Z"
   },
   {
    "duration": 4,
    "start_time": "2022-03-28T15:22:31.732Z"
   },
   {
    "duration": 13,
    "start_time": "2022-03-28T15:22:31.737Z"
   },
   {
    "duration": 4,
    "start_time": "2022-03-28T15:22:31.751Z"
   },
   {
    "duration": 9,
    "start_time": "2022-03-28T15:22:31.757Z"
   },
   {
    "duration": 5,
    "start_time": "2022-03-28T15:22:31.802Z"
   },
   {
    "duration": 10,
    "start_time": "2022-03-28T15:22:31.808Z"
   },
   {
    "duration": 11,
    "start_time": "2022-03-28T15:22:31.820Z"
   },
   {
    "duration": 10,
    "start_time": "2022-03-28T15:22:31.833Z"
   },
   {
    "duration": 12,
    "start_time": "2022-03-28T15:22:31.844Z"
   },
   {
    "duration": 10,
    "start_time": "2022-03-28T15:22:31.858Z"
   },
   {
    "duration": 9,
    "start_time": "2022-03-28T15:22:31.870Z"
   },
   {
    "duration": 16,
    "start_time": "2022-03-28T15:22:31.880Z"
   },
   {
    "duration": 0,
    "start_time": "2022-03-28T15:22:31.901Z"
   },
   {
    "duration": 0,
    "start_time": "2022-03-28T15:22:31.902Z"
   },
   {
    "duration": 4,
    "start_time": "2022-03-28T15:23:22.661Z"
   },
   {
    "duration": 16,
    "start_time": "2022-03-28T15:23:23.763Z"
   },
   {
    "duration": 3,
    "start_time": "2022-03-28T15:23:34.655Z"
   },
   {
    "duration": 16,
    "start_time": "2022-03-28T15:23:35.101Z"
   },
   {
    "duration": 3,
    "start_time": "2022-03-28T15:23:39.275Z"
   },
   {
    "duration": 158,
    "start_time": "2022-03-28T15:23:39.280Z"
   },
   {
    "duration": 130,
    "start_time": "2022-03-28T15:23:39.440Z"
   },
   {
    "duration": 129,
    "start_time": "2022-03-28T15:23:39.572Z"
   },
   {
    "duration": 12,
    "start_time": "2022-03-28T15:23:39.703Z"
   },
   {
    "duration": 17,
    "start_time": "2022-03-28T15:23:39.717Z"
   },
   {
    "duration": 26,
    "start_time": "2022-03-28T15:23:39.735Z"
   },
   {
    "duration": 24,
    "start_time": "2022-03-28T15:23:39.762Z"
   },
   {
    "duration": 101,
    "start_time": "2022-03-28T15:23:39.801Z"
   },
   {
    "duration": 4,
    "start_time": "2022-03-28T15:23:39.905Z"
   },
   {
    "duration": 95,
    "start_time": "2022-03-28T15:23:39.910Z"
   },
   {
    "duration": 40,
    "start_time": "2022-03-28T15:23:40.007Z"
   },
   {
    "duration": 18,
    "start_time": "2022-03-28T15:23:40.049Z"
   },
   {
    "duration": 30,
    "start_time": "2022-03-28T15:23:40.069Z"
   },
   {
    "duration": 18,
    "start_time": "2022-03-28T15:23:40.101Z"
   },
   {
    "duration": 86,
    "start_time": "2022-03-28T15:23:40.121Z"
   },
   {
    "duration": 93,
    "start_time": "2022-03-28T15:23:40.210Z"
   },
   {
    "duration": 13,
    "start_time": "2022-03-28T15:23:40.305Z"
   },
   {
    "duration": 42,
    "start_time": "2022-03-28T15:23:40.320Z"
   },
   {
    "duration": 5,
    "start_time": "2022-03-28T15:23:40.365Z"
   },
   {
    "duration": 36,
    "start_time": "2022-03-28T15:23:40.371Z"
   },
   {
    "duration": 11,
    "start_time": "2022-03-28T15:23:40.409Z"
   },
   {
    "duration": 19,
    "start_time": "2022-03-28T15:23:40.422Z"
   },
   {
    "duration": 17,
    "start_time": "2022-03-28T15:23:40.444Z"
   },
   {
    "duration": 21,
    "start_time": "2022-03-28T15:23:40.463Z"
   },
   {
    "duration": 8,
    "start_time": "2022-03-28T15:23:40.487Z"
   },
   {
    "duration": 14,
    "start_time": "2022-03-28T15:23:40.497Z"
   },
   {
    "duration": 29,
    "start_time": "2022-03-28T15:23:40.513Z"
   },
   {
    "duration": 13,
    "start_time": "2022-03-28T15:23:40.544Z"
   },
   {
    "duration": 10,
    "start_time": "2022-03-28T15:23:40.559Z"
   },
   {
    "duration": 36,
    "start_time": "2022-03-28T15:23:40.570Z"
   },
   {
    "duration": 29,
    "start_time": "2022-03-28T15:23:40.608Z"
   },
   {
    "duration": 0,
    "start_time": "2022-03-28T15:23:40.638Z"
   },
   {
    "duration": 3,
    "start_time": "2022-03-28T15:24:21.017Z"
   },
   {
    "duration": 142,
    "start_time": "2022-03-28T15:24:21.022Z"
   },
   {
    "duration": 136,
    "start_time": "2022-03-28T15:24:21.166Z"
   },
   {
    "duration": 136,
    "start_time": "2022-03-28T15:24:21.304Z"
   },
   {
    "duration": 14,
    "start_time": "2022-03-28T15:24:21.442Z"
   },
   {
    "duration": 3,
    "start_time": "2022-03-28T15:24:21.457Z"
   },
   {
    "duration": 14,
    "start_time": "2022-03-28T15:24:21.462Z"
   },
   {
    "duration": 33,
    "start_time": "2022-03-28T15:24:21.477Z"
   },
   {
    "duration": 91,
    "start_time": "2022-03-28T15:24:21.513Z"
   },
   {
    "duration": 95,
    "start_time": "2022-03-28T15:24:21.609Z"
   },
   {
    "duration": 5,
    "start_time": "2022-03-28T15:24:21.705Z"
   },
   {
    "duration": 14,
    "start_time": "2022-03-28T15:24:21.712Z"
   },
   {
    "duration": 3,
    "start_time": "2022-03-28T15:24:21.728Z"
   },
   {
    "duration": 12,
    "start_time": "2022-03-28T15:24:21.733Z"
   },
   {
    "duration": 56,
    "start_time": "2022-03-28T15:24:21.747Z"
   },
   {
    "duration": 96,
    "start_time": "2022-03-28T15:24:21.805Z"
   },
   {
    "duration": 5,
    "start_time": "2022-03-28T15:24:21.903Z"
   },
   {
    "duration": 5,
    "start_time": "2022-03-28T15:24:21.910Z"
   },
   {
    "duration": 12,
    "start_time": "2022-03-28T15:24:21.916Z"
   },
   {
    "duration": 4,
    "start_time": "2022-03-28T15:24:21.930Z"
   },
   {
    "duration": 11,
    "start_time": "2022-03-28T15:24:21.935Z"
   },
   {
    "duration": 3,
    "start_time": "2022-03-28T15:24:21.947Z"
   },
   {
    "duration": 48,
    "start_time": "2022-03-28T15:24:21.952Z"
   },
   {
    "duration": 5,
    "start_time": "2022-03-28T15:24:22.002Z"
   },
   {
    "duration": 3,
    "start_time": "2022-03-28T15:24:22.009Z"
   },
   {
    "duration": 6,
    "start_time": "2022-03-28T15:24:22.014Z"
   },
   {
    "duration": 9,
    "start_time": "2022-03-28T15:24:22.022Z"
   },
   {
    "duration": 12,
    "start_time": "2022-03-28T15:24:22.034Z"
   },
   {
    "duration": 9,
    "start_time": "2022-03-28T15:24:22.048Z"
   },
   {
    "duration": 8,
    "start_time": "2022-03-28T15:24:22.058Z"
   },
   {
    "duration": 18,
    "start_time": "2022-03-28T15:24:22.067Z"
   },
   {
    "duration": 0,
    "start_time": "2022-03-28T15:24:22.100Z"
   },
   {
    "duration": 0,
    "start_time": "2022-03-28T15:24:22.102Z"
   },
   {
    "duration": 4,
    "start_time": "2022-03-28T15:25:26.195Z"
   },
   {
    "duration": 10,
    "start_time": "2022-03-28T15:25:27.426Z"
   },
   {
    "duration": 8,
    "start_time": "2022-03-28T15:27:56.583Z"
   },
   {
    "duration": 16,
    "start_time": "2022-03-28T15:28:17.656Z"
   },
   {
    "duration": 3,
    "start_time": "2022-03-28T15:28:42.663Z"
   },
   {
    "duration": 206,
    "start_time": "2022-03-28T15:28:42.669Z"
   },
   {
    "duration": 198,
    "start_time": "2022-03-28T15:28:42.877Z"
   },
   {
    "duration": 175,
    "start_time": "2022-03-28T15:28:43.078Z"
   },
   {
    "duration": 13,
    "start_time": "2022-03-28T15:28:43.256Z"
   },
   {
    "duration": 4,
    "start_time": "2022-03-28T15:28:43.272Z"
   },
   {
    "duration": 12,
    "start_time": "2022-03-28T15:28:43.302Z"
   },
   {
    "duration": 88,
    "start_time": "2022-03-28T15:28:43.316Z"
   },
   {
    "duration": 95,
    "start_time": "2022-03-28T15:28:43.408Z"
   },
   {
    "duration": 25,
    "start_time": "2022-03-28T15:28:43.504Z"
   },
   {
    "duration": 24,
    "start_time": "2022-03-28T15:28:43.531Z"
   },
   {
    "duration": 27,
    "start_time": "2022-03-28T15:28:43.557Z"
   },
   {
    "duration": 12,
    "start_time": "2022-03-28T15:28:43.586Z"
   },
   {
    "duration": 43,
    "start_time": "2022-03-28T15:28:43.600Z"
   },
   {
    "duration": 18,
    "start_time": "2022-03-28T15:28:43.645Z"
   },
   {
    "duration": 39,
    "start_time": "2022-03-28T15:28:43.665Z"
   },
   {
    "duration": 97,
    "start_time": "2022-03-28T15:28:43.707Z"
   },
   {
    "duration": 16,
    "start_time": "2022-03-28T15:28:43.806Z"
   },
   {
    "duration": 43,
    "start_time": "2022-03-28T15:28:43.823Z"
   },
   {
    "duration": 5,
    "start_time": "2022-03-28T15:28:43.868Z"
   },
   {
    "duration": 24,
    "start_time": "2022-03-28T15:28:43.874Z"
   },
   {
    "duration": 4,
    "start_time": "2022-03-28T15:28:43.900Z"
   },
   {
    "duration": 4,
    "start_time": "2022-03-28T15:28:43.906Z"
   },
   {
    "duration": 4,
    "start_time": "2022-03-28T15:28:43.914Z"
   },
   {
    "duration": 5,
    "start_time": "2022-03-28T15:28:43.919Z"
   },
   {
    "duration": 8,
    "start_time": "2022-03-28T15:28:43.926Z"
   },
   {
    "duration": 7,
    "start_time": "2022-03-28T15:28:43.936Z"
   },
   {
    "duration": 9,
    "start_time": "2022-03-28T15:28:43.945Z"
   },
   {
    "duration": 16,
    "start_time": "2022-03-28T15:28:43.955Z"
   },
   {
    "duration": 34,
    "start_time": "2022-03-28T15:28:43.973Z"
   },
   {
    "duration": 2,
    "start_time": "2022-03-28T15:28:44.009Z"
   },
   {
    "duration": 18,
    "start_time": "2022-03-28T15:28:44.012Z"
   },
   {
    "duration": 0,
    "start_time": "2022-03-28T15:28:44.032Z"
   },
   {
    "duration": 2,
    "start_time": "2022-03-28T15:31:30.583Z"
   },
   {
    "duration": 148,
    "start_time": "2022-03-28T15:31:30.587Z"
   },
   {
    "duration": 138,
    "start_time": "2022-03-28T15:31:30.736Z"
   },
   {
    "duration": 139,
    "start_time": "2022-03-28T15:31:30.876Z"
   },
   {
    "duration": 13,
    "start_time": "2022-03-28T15:31:31.017Z"
   },
   {
    "duration": 6,
    "start_time": "2022-03-28T15:31:31.032Z"
   },
   {
    "duration": 12,
    "start_time": "2022-03-28T15:31:31.040Z"
   },
   {
    "duration": 48,
    "start_time": "2022-03-28T15:31:31.054Z"
   },
   {
    "duration": 4,
    "start_time": "2022-03-28T15:31:31.106Z"
   },
   {
    "duration": 5,
    "start_time": "2022-03-28T15:31:31.202Z"
   },
   {
    "duration": 8,
    "start_time": "2022-03-28T15:31:31.209Z"
   },
   {
    "duration": 16,
    "start_time": "2022-03-28T15:31:31.218Z"
   },
   {
    "duration": 4,
    "start_time": "2022-03-28T15:31:31.236Z"
   },
   {
    "duration": 11,
    "start_time": "2022-03-28T15:31:31.302Z"
   },
   {
    "duration": 12,
    "start_time": "2022-03-28T15:31:31.315Z"
   },
   {
    "duration": 73,
    "start_time": "2022-03-28T15:31:31.329Z"
   },
   {
    "duration": 6,
    "start_time": "2022-03-28T15:31:31.405Z"
   },
   {
    "duration": 4,
    "start_time": "2022-03-28T15:31:31.502Z"
   },
   {
    "duration": 13,
    "start_time": "2022-03-28T15:31:31.508Z"
   },
   {
    "duration": 4,
    "start_time": "2022-03-28T15:31:31.522Z"
   },
   {
    "duration": 10,
    "start_time": "2022-03-28T15:31:31.527Z"
   },
   {
    "duration": 3,
    "start_time": "2022-03-28T15:31:31.539Z"
   },
   {
    "duration": 4,
    "start_time": "2022-03-28T15:31:31.544Z"
   },
   {
    "duration": 50,
    "start_time": "2022-03-28T15:31:31.551Z"
   },
   {
    "duration": 3,
    "start_time": "2022-03-28T15:31:31.603Z"
   },
   {
    "duration": 6,
    "start_time": "2022-03-28T15:31:31.607Z"
   },
   {
    "duration": 9,
    "start_time": "2022-03-28T15:31:31.615Z"
   },
   {
    "duration": 8,
    "start_time": "2022-03-28T15:31:31.626Z"
   },
   {
    "duration": 16,
    "start_time": "2022-03-28T15:31:31.636Z"
   },
   {
    "duration": 20,
    "start_time": "2022-03-28T15:31:31.654Z"
   },
   {
    "duration": 3,
    "start_time": "2022-03-28T15:31:31.676Z"
   },
   {
    "duration": 25,
    "start_time": "2022-03-28T15:31:31.680Z"
   },
   {
    "duration": 1,
    "start_time": "2022-03-28T15:31:31.706Z"
   },
   {
    "duration": 3,
    "start_time": "2022-03-28T15:31:53.877Z"
   },
   {
    "duration": 30,
    "start_time": "2022-03-28T15:31:54.409Z"
   },
   {
    "duration": 3,
    "start_time": "2022-03-28T15:32:03.801Z"
   },
   {
    "duration": 155,
    "start_time": "2022-03-28T15:32:03.806Z"
   },
   {
    "duration": 134,
    "start_time": "2022-03-28T15:32:03.963Z"
   },
   {
    "duration": 137,
    "start_time": "2022-03-28T15:32:04.100Z"
   },
   {
    "duration": 13,
    "start_time": "2022-03-28T15:32:04.239Z"
   },
   {
    "duration": 4,
    "start_time": "2022-03-28T15:32:04.253Z"
   },
   {
    "duration": 11,
    "start_time": "2022-03-28T15:32:04.259Z"
   },
   {
    "duration": 30,
    "start_time": "2022-03-28T15:32:04.271Z"
   },
   {
    "duration": 109,
    "start_time": "2022-03-28T15:32:04.303Z"
   },
   {
    "duration": 17,
    "start_time": "2022-03-28T15:32:04.415Z"
   },
   {
    "duration": 10,
    "start_time": "2022-03-28T15:32:04.434Z"
   },
   {
    "duration": 65,
    "start_time": "2022-03-28T15:32:04.446Z"
   },
   {
    "duration": 3,
    "start_time": "2022-03-28T15:32:04.513Z"
   },
   {
    "duration": 14,
    "start_time": "2022-03-28T15:32:04.518Z"
   },
   {
    "duration": 7,
    "start_time": "2022-03-28T15:32:04.535Z"
   },
   {
    "duration": 12,
    "start_time": "2022-03-28T15:32:04.602Z"
   },
   {
    "duration": 4,
    "start_time": "2022-03-28T15:32:04.702Z"
   },
   {
    "duration": 7,
    "start_time": "2022-03-28T15:32:04.708Z"
   },
   {
    "duration": 16,
    "start_time": "2022-03-28T15:32:04.717Z"
   },
   {
    "duration": 3,
    "start_time": "2022-03-28T15:32:04.735Z"
   },
   {
    "duration": 19,
    "start_time": "2022-03-28T15:32:04.740Z"
   },
   {
    "duration": 4,
    "start_time": "2022-03-28T15:32:04.760Z"
   },
   {
    "duration": 37,
    "start_time": "2022-03-28T15:32:04.766Z"
   },
   {
    "duration": 6,
    "start_time": "2022-03-28T15:32:04.805Z"
   },
   {
    "duration": 6,
    "start_time": "2022-03-28T15:32:04.813Z"
   },
   {
    "duration": 10,
    "start_time": "2022-03-28T15:32:04.821Z"
   },
   {
    "duration": 9,
    "start_time": "2022-03-28T15:32:04.834Z"
   },
   {
    "duration": 9,
    "start_time": "2022-03-28T15:32:04.847Z"
   },
   {
    "duration": 8,
    "start_time": "2022-03-28T15:32:04.858Z"
   },
   {
    "duration": 47,
    "start_time": "2022-03-28T15:32:04.868Z"
   },
   {
    "duration": 2,
    "start_time": "2022-03-28T15:32:04.917Z"
   },
   {
    "duration": 16,
    "start_time": "2022-03-28T15:32:04.921Z"
   },
   {
    "duration": 0,
    "start_time": "2022-03-28T15:32:04.939Z"
   },
   {
    "duration": 3,
    "start_time": "2022-03-28T15:37:39.928Z"
   },
   {
    "duration": 19,
    "start_time": "2022-03-28T15:37:40.269Z"
   },
   {
    "duration": 3,
    "start_time": "2022-03-28T15:37:49.707Z"
   },
   {
    "duration": 141,
    "start_time": "2022-03-28T15:37:49.712Z"
   },
   {
    "duration": 141,
    "start_time": "2022-03-28T15:37:49.854Z"
   },
   {
    "duration": 143,
    "start_time": "2022-03-28T15:37:50.001Z"
   },
   {
    "duration": 12,
    "start_time": "2022-03-28T15:37:50.146Z"
   },
   {
    "duration": 4,
    "start_time": "2022-03-28T15:37:50.160Z"
   },
   {
    "duration": 36,
    "start_time": "2022-03-28T15:37:50.166Z"
   },
   {
    "duration": 10,
    "start_time": "2022-03-28T15:37:50.204Z"
   },
   {
    "duration": 87,
    "start_time": "2022-03-28T15:37:50.218Z"
   },
   {
    "duration": 92,
    "start_time": "2022-03-28T15:37:50.308Z"
   },
   {
    "duration": 5,
    "start_time": "2022-03-28T15:37:50.403Z"
   },
   {
    "duration": 14,
    "start_time": "2022-03-28T15:37:50.410Z"
   },
   {
    "duration": 4,
    "start_time": "2022-03-28T15:37:50.426Z"
   },
   {
    "duration": 11,
    "start_time": "2022-03-28T15:37:50.432Z"
   },
   {
    "duration": 58,
    "start_time": "2022-03-28T15:37:50.445Z"
   },
   {
    "duration": 5,
    "start_time": "2022-03-28T15:37:50.505Z"
   },
   {
    "duration": 92,
    "start_time": "2022-03-28T15:37:50.512Z"
   },
   {
    "duration": 7,
    "start_time": "2022-03-28T15:37:50.606Z"
   },
   {
    "duration": 14,
    "start_time": "2022-03-28T15:37:50.614Z"
   },
   {
    "duration": 3,
    "start_time": "2022-03-28T15:37:50.630Z"
   },
   {
    "duration": 11,
    "start_time": "2022-03-28T15:37:50.635Z"
   },
   {
    "duration": 3,
    "start_time": "2022-03-28T15:37:50.647Z"
   },
   {
    "duration": 49,
    "start_time": "2022-03-28T15:37:50.652Z"
   },
   {
    "duration": 4,
    "start_time": "2022-03-28T15:37:50.705Z"
   },
   {
    "duration": 3,
    "start_time": "2022-03-28T15:37:50.711Z"
   },
   {
    "duration": 6,
    "start_time": "2022-03-28T15:37:50.716Z"
   },
   {
    "duration": 14,
    "start_time": "2022-03-28T15:37:50.723Z"
   },
   {
    "duration": 8,
    "start_time": "2022-03-28T15:37:50.739Z"
   },
   {
    "duration": 9,
    "start_time": "2022-03-28T15:37:50.749Z"
   },
   {
    "duration": 25,
    "start_time": "2022-03-28T15:37:50.760Z"
   },
   {
    "duration": 15,
    "start_time": "2022-03-28T15:37:50.787Z"
   },
   {
    "duration": 11,
    "start_time": "2022-03-28T15:37:50.804Z"
   },
   {
    "duration": 0,
    "start_time": "2022-03-28T15:37:50.817Z"
   },
   {
    "duration": 22,
    "start_time": "2022-03-28T15:39:22.627Z"
   },
   {
    "duration": 4,
    "start_time": "2022-03-28T15:39:31.145Z"
   },
   {
    "duration": 162,
    "start_time": "2022-03-28T15:39:31.151Z"
   },
   {
    "duration": 129,
    "start_time": "2022-03-28T15:39:31.315Z"
   },
   {
    "duration": 130,
    "start_time": "2022-03-28T15:39:31.446Z"
   },
   {
    "duration": 11,
    "start_time": "2022-03-28T15:39:31.577Z"
   },
   {
    "duration": 26,
    "start_time": "2022-03-28T15:39:31.589Z"
   },
   {
    "duration": 44,
    "start_time": "2022-03-28T15:39:31.616Z"
   },
   {
    "duration": 13,
    "start_time": "2022-03-28T15:39:31.662Z"
   },
   {
    "duration": 99,
    "start_time": "2022-03-28T15:39:31.703Z"
   },
   {
    "duration": 22,
    "start_time": "2022-03-28T15:39:31.805Z"
   },
   {
    "duration": 23,
    "start_time": "2022-03-28T15:39:31.829Z"
   },
   {
    "duration": 38,
    "start_time": "2022-03-28T15:39:31.854Z"
   },
   {
    "duration": 4,
    "start_time": "2022-03-28T15:39:31.894Z"
   },
   {
    "duration": 24,
    "start_time": "2022-03-28T15:39:31.900Z"
   },
   {
    "duration": 24,
    "start_time": "2022-03-28T15:39:31.927Z"
   },
   {
    "duration": 49,
    "start_time": "2022-03-28T15:39:31.954Z"
   },
   {
    "duration": 96,
    "start_time": "2022-03-28T15:39:32.006Z"
   },
   {
    "duration": 18,
    "start_time": "2022-03-28T15:39:32.104Z"
   },
   {
    "duration": 24,
    "start_time": "2022-03-28T15:39:32.123Z"
   },
   {
    "duration": 12,
    "start_time": "2022-03-28T15:39:32.148Z"
   },
   {
    "duration": 13,
    "start_time": "2022-03-28T15:39:32.161Z"
   },
   {
    "duration": 14,
    "start_time": "2022-03-28T15:39:32.176Z"
   },
   {
    "duration": 27,
    "start_time": "2022-03-28T15:39:32.192Z"
   },
   {
    "duration": 15,
    "start_time": "2022-03-28T15:39:32.221Z"
   },
   {
    "duration": 14,
    "start_time": "2022-03-28T15:39:32.238Z"
   },
   {
    "duration": 7,
    "start_time": "2022-03-28T15:39:32.254Z"
   },
   {
    "duration": 4,
    "start_time": "2022-03-28T15:39:32.263Z"
   },
   {
    "duration": 6,
    "start_time": "2022-03-28T15:39:32.270Z"
   },
   {
    "duration": 8,
    "start_time": "2022-03-28T15:39:32.277Z"
   },
   {
    "duration": 21,
    "start_time": "2022-03-28T15:39:32.287Z"
   },
   {
    "duration": 2,
    "start_time": "2022-03-28T15:39:32.311Z"
   },
   {
    "duration": 14,
    "start_time": "2022-03-28T15:39:32.314Z"
   },
   {
    "duration": 0,
    "start_time": "2022-03-28T15:39:32.329Z"
   },
   {
    "duration": 16,
    "start_time": "2022-03-28T15:40:49.844Z"
   },
   {
    "duration": 3,
    "start_time": "2022-03-28T15:40:58.656Z"
   },
   {
    "duration": 146,
    "start_time": "2022-03-28T15:40:58.661Z"
   },
   {
    "duration": 137,
    "start_time": "2022-03-28T15:40:58.808Z"
   },
   {
    "duration": 136,
    "start_time": "2022-03-28T15:40:58.946Z"
   },
   {
    "duration": 11,
    "start_time": "2022-03-28T15:40:59.084Z"
   },
   {
    "duration": 3,
    "start_time": "2022-03-28T15:40:59.101Z"
   },
   {
    "duration": 15,
    "start_time": "2022-03-28T15:40:59.105Z"
   },
   {
    "duration": 5,
    "start_time": "2022-03-28T15:40:59.121Z"
   },
   {
    "duration": 76,
    "start_time": "2022-03-28T15:40:59.128Z"
   },
   {
    "duration": 97,
    "start_time": "2022-03-28T15:40:59.206Z"
   },
   {
    "duration": 7,
    "start_time": "2022-03-28T15:40:59.306Z"
   },
   {
    "duration": 13,
    "start_time": "2022-03-28T15:40:59.314Z"
   },
   {
    "duration": 3,
    "start_time": "2022-03-28T15:40:59.330Z"
   },
   {
    "duration": 12,
    "start_time": "2022-03-28T15:40:59.335Z"
   },
   {
    "duration": 54,
    "start_time": "2022-03-28T15:40:59.348Z"
   },
   {
    "duration": 6,
    "start_time": "2022-03-28T15:40:59.404Z"
   },
   {
    "duration": 93,
    "start_time": "2022-03-28T15:40:59.412Z"
   },
   {
    "duration": 5,
    "start_time": "2022-03-28T15:40:59.507Z"
   },
   {
    "duration": 17,
    "start_time": "2022-03-28T15:40:59.514Z"
   },
   {
    "duration": 3,
    "start_time": "2022-03-28T15:40:59.533Z"
   },
   {
    "duration": 12,
    "start_time": "2022-03-28T15:40:59.538Z"
   },
   {
    "duration": 3,
    "start_time": "2022-03-28T15:40:59.551Z"
   },
   {
    "duration": 46,
    "start_time": "2022-03-28T15:40:59.556Z"
   },
   {
    "duration": 4,
    "start_time": "2022-03-28T15:40:59.604Z"
   },
   {
    "duration": 8,
    "start_time": "2022-03-28T15:40:59.610Z"
   },
   {
    "duration": 8,
    "start_time": "2022-03-28T15:40:59.619Z"
   },
   {
    "duration": 9,
    "start_time": "2022-03-28T15:40:59.628Z"
   },
   {
    "duration": 8,
    "start_time": "2022-03-28T15:40:59.639Z"
   },
   {
    "duration": 11,
    "start_time": "2022-03-28T15:40:59.649Z"
   },
   {
    "duration": 21,
    "start_time": "2022-03-28T15:40:59.662Z"
   },
   {
    "duration": 3,
    "start_time": "2022-03-28T15:40:59.700Z"
   },
   {
    "duration": 16,
    "start_time": "2022-03-28T15:40:59.705Z"
   },
   {
    "duration": 0,
    "start_time": "2022-03-28T15:40:59.723Z"
   },
   {
    "duration": 10,
    "start_time": "2022-03-28T15:47:59.077Z"
   },
   {
    "duration": 3,
    "start_time": "2022-03-28T15:48:09.347Z"
   },
   {
    "duration": 21,
    "start_time": "2022-03-28T15:48:10.341Z"
   },
   {
    "duration": 9,
    "start_time": "2022-03-28T15:48:17.094Z"
   },
   {
    "duration": 2,
    "start_time": "2022-03-28T15:55:17.836Z"
   },
   {
    "duration": 19,
    "start_time": "2022-03-28T15:55:18.297Z"
   },
   {
    "duration": 3,
    "start_time": "2022-03-28T15:55:21.091Z"
   },
   {
    "duration": 135,
    "start_time": "2022-03-28T15:55:21.096Z"
   },
   {
    "duration": 135,
    "start_time": "2022-03-28T15:55:21.233Z"
   },
   {
    "duration": 141,
    "start_time": "2022-03-28T15:55:21.370Z"
   },
   {
    "duration": 14,
    "start_time": "2022-03-28T15:55:21.513Z"
   },
   {
    "duration": 5,
    "start_time": "2022-03-28T15:55:21.529Z"
   },
   {
    "duration": 12,
    "start_time": "2022-03-28T15:55:21.536Z"
   },
   {
    "duration": 71,
    "start_time": "2022-03-28T15:55:21.549Z"
   },
   {
    "duration": 80,
    "start_time": "2022-03-28T15:55:21.623Z"
   },
   {
    "duration": 6,
    "start_time": "2022-03-28T15:55:21.705Z"
   },
   {
    "duration": 9,
    "start_time": "2022-03-28T15:55:21.715Z"
   },
   {
    "duration": 13,
    "start_time": "2022-03-28T15:55:21.726Z"
   },
   {
    "duration": 4,
    "start_time": "2022-03-28T15:55:21.741Z"
   },
   {
    "duration": 13,
    "start_time": "2022-03-28T15:55:21.746Z"
   },
   {
    "duration": 43,
    "start_time": "2022-03-28T15:55:21.760Z"
   },
   {
    "duration": 11,
    "start_time": "2022-03-28T15:55:21.806Z"
   },
   {
    "duration": 90,
    "start_time": "2022-03-28T15:55:21.912Z"
   },
   {
    "duration": 6,
    "start_time": "2022-03-28T15:55:22.004Z"
   },
   {
    "duration": 13,
    "start_time": "2022-03-28T15:55:22.011Z"
   },
   {
    "duration": 5,
    "start_time": "2022-03-28T15:55:22.026Z"
   },
   {
    "duration": 15,
    "start_time": "2022-03-28T15:55:22.032Z"
   },
   {
    "duration": 4,
    "start_time": "2022-03-28T15:55:22.049Z"
   },
   {
    "duration": 5,
    "start_time": "2022-03-28T15:55:22.055Z"
   },
   {
    "duration": 5,
    "start_time": "2022-03-28T15:55:22.101Z"
   },
   {
    "duration": 10,
    "start_time": "2022-03-28T15:55:22.108Z"
   },
   {
    "duration": 10,
    "start_time": "2022-03-28T15:55:22.120Z"
   },
   {
    "duration": 17,
    "start_time": "2022-03-28T15:55:22.132Z"
   },
   {
    "duration": 7,
    "start_time": "2022-03-28T15:55:22.151Z"
   },
   {
    "duration": 4,
    "start_time": "2022-03-28T15:55:22.162Z"
   },
   {
    "duration": 34,
    "start_time": "2022-03-28T15:55:22.168Z"
   },
   {
    "duration": 3,
    "start_time": "2022-03-28T15:55:22.204Z"
   },
   {
    "duration": 12,
    "start_time": "2022-03-28T15:55:22.208Z"
   },
   {
    "duration": 0,
    "start_time": "2022-03-28T15:55:22.222Z"
   },
   {
    "duration": 1097,
    "start_time": "2022-03-29T01:34:54.061Z"
   },
   {
    "duration": 143,
    "start_time": "2022-03-29T01:34:55.160Z"
   },
   {
    "duration": 121,
    "start_time": "2022-03-29T01:34:55.305Z"
   },
   {
    "duration": 126,
    "start_time": "2022-03-29T01:34:55.427Z"
   },
   {
    "duration": 13,
    "start_time": "2022-03-29T01:34:55.555Z"
   },
   {
    "duration": 13,
    "start_time": "2022-03-29T01:34:55.569Z"
   },
   {
    "duration": 16,
    "start_time": "2022-03-29T01:34:55.583Z"
   },
   {
    "duration": 10,
    "start_time": "2022-03-29T01:34:55.601Z"
   },
   {
    "duration": 74,
    "start_time": "2022-03-29T01:34:55.613Z"
   },
   {
    "duration": 96,
    "start_time": "2022-03-29T01:34:55.689Z"
   },
   {
    "duration": 6,
    "start_time": "2022-03-29T01:34:55.786Z"
   },
   {
    "duration": 14,
    "start_time": "2022-03-29T01:34:55.794Z"
   },
   {
    "duration": 3,
    "start_time": "2022-03-29T01:34:55.809Z"
   },
   {
    "duration": 12,
    "start_time": "2022-03-29T01:34:55.815Z"
   },
   {
    "duration": 7,
    "start_time": "2022-03-29T01:34:55.828Z"
   },
   {
    "duration": 8,
    "start_time": "2022-03-29T01:34:55.880Z"
   },
   {
    "duration": 96,
    "start_time": "2022-03-29T01:34:55.890Z"
   },
   {
    "duration": 8,
    "start_time": "2022-03-29T01:34:55.988Z"
   },
   {
    "duration": 21,
    "start_time": "2022-03-29T01:34:55.998Z"
   },
   {
    "duration": 4,
    "start_time": "2022-03-29T01:34:56.020Z"
   },
   {
    "duration": 12,
    "start_time": "2022-03-29T01:34:56.025Z"
   },
   {
    "duration": 3,
    "start_time": "2022-03-29T01:34:56.038Z"
   },
   {
    "duration": 5,
    "start_time": "2022-03-29T01:34:56.042Z"
   },
   {
    "duration": 34,
    "start_time": "2022-03-29T01:34:56.048Z"
   },
   {
    "duration": 2,
    "start_time": "2022-03-29T01:34:56.084Z"
   },
   {
    "duration": 9,
    "start_time": "2022-03-29T01:34:56.087Z"
   },
   {
    "duration": 6,
    "start_time": "2022-03-29T01:34:56.097Z"
   },
   {
    "duration": 5,
    "start_time": "2022-03-29T01:34:56.104Z"
   },
   {
    "duration": 6,
    "start_time": "2022-03-29T01:34:56.110Z"
   },
   {
    "duration": 104,
    "start_time": "2022-03-29T01:34:56.117Z"
   },
   {
    "duration": 0,
    "start_time": "2022-03-29T01:34:56.222Z"
   },
   {
    "duration": 0,
    "start_time": "2022-03-29T01:34:56.223Z"
   },
   {
    "duration": 0,
    "start_time": "2022-03-29T01:34:56.224Z"
   },
   {
    "duration": 3,
    "start_time": "2022-03-29T01:36:38.197Z"
   },
   {
    "duration": 2,
    "start_time": "2022-03-29T01:36:48.170Z"
   },
   {
    "duration": 9,
    "start_time": "2022-03-29T01:36:48.689Z"
   },
   {
    "duration": 3,
    "start_time": "2022-03-29T01:38:14.800Z"
   },
   {
    "duration": 149,
    "start_time": "2022-03-29T01:38:14.805Z"
   },
   {
    "duration": 130,
    "start_time": "2022-03-29T01:38:14.955Z"
   },
   {
    "duration": 127,
    "start_time": "2022-03-29T01:38:15.087Z"
   },
   {
    "duration": 12,
    "start_time": "2022-03-29T01:38:15.215Z"
   },
   {
    "duration": 2,
    "start_time": "2022-03-29T01:38:15.229Z"
   },
   {
    "duration": 15,
    "start_time": "2022-03-29T01:38:15.233Z"
   },
   {
    "duration": 31,
    "start_time": "2022-03-29T01:38:15.249Z"
   },
   {
    "duration": 3,
    "start_time": "2022-03-29T01:38:15.283Z"
   },
   {
    "duration": 7,
    "start_time": "2022-03-29T01:38:15.287Z"
   },
   {
    "duration": 10,
    "start_time": "2022-03-29T01:38:15.380Z"
   },
   {
    "duration": 12,
    "start_time": "2022-03-29T01:38:15.392Z"
   },
   {
    "duration": 3,
    "start_time": "2022-03-29T01:38:15.406Z"
   },
   {
    "duration": 15,
    "start_time": "2022-03-29T01:38:15.410Z"
   },
   {
    "duration": 54,
    "start_time": "2022-03-29T01:38:15.426Z"
   },
   {
    "duration": 4,
    "start_time": "2022-03-29T01:38:15.482Z"
   },
   {
    "duration": 9,
    "start_time": "2022-03-29T01:38:15.489Z"
   },
   {
    "duration": 82,
    "start_time": "2022-03-29T01:38:15.500Z"
   },
   {
    "duration": 13,
    "start_time": "2022-03-29T01:38:15.583Z"
   },
   {
    "duration": 3,
    "start_time": "2022-03-29T01:38:15.597Z"
   },
   {
    "duration": 11,
    "start_time": "2022-03-29T01:38:15.601Z"
   },
   {
    "duration": 3,
    "start_time": "2022-03-29T01:38:15.613Z"
   },
   {
    "duration": 4,
    "start_time": "2022-03-29T01:38:15.617Z"
   },
   {
    "duration": 4,
    "start_time": "2022-03-29T01:38:15.624Z"
   },
   {
    "duration": 6,
    "start_time": "2022-03-29T01:38:15.629Z"
   },
   {
    "duration": 6,
    "start_time": "2022-03-29T01:38:15.636Z"
   },
   {
    "duration": 40,
    "start_time": "2022-03-29T01:38:15.643Z"
   },
   {
    "duration": 5,
    "start_time": "2022-03-29T01:38:15.685Z"
   },
   {
    "duration": 8,
    "start_time": "2022-03-29T01:38:15.691Z"
   },
   {
    "duration": 4,
    "start_time": "2022-03-29T01:38:15.700Z"
   },
   {
    "duration": 5,
    "start_time": "2022-03-29T01:38:15.705Z"
   },
   {
    "duration": 19,
    "start_time": "2022-03-29T01:38:15.711Z"
   },
   {
    "duration": 0,
    "start_time": "2022-03-29T01:38:15.731Z"
   },
   {
    "duration": 8,
    "start_time": "2022-03-29T01:38:36.704Z"
   },
   {
    "duration": 18,
    "start_time": "2022-03-29T01:38:37.444Z"
   },
   {
    "duration": 4,
    "start_time": "2022-03-29T01:39:54.432Z"
   },
   {
    "duration": 6,
    "start_time": "2022-03-29T01:41:24.706Z"
   },
   {
    "duration": 3,
    "start_time": "2022-03-29T01:41:43.008Z"
   },
   {
    "duration": 127,
    "start_time": "2022-03-29T01:41:43.012Z"
   },
   {
    "duration": 126,
    "start_time": "2022-03-29T01:41:43.141Z"
   },
   {
    "duration": 128,
    "start_time": "2022-03-29T01:41:43.269Z"
   },
   {
    "duration": 14,
    "start_time": "2022-03-29T01:41:43.399Z"
   },
   {
    "duration": 4,
    "start_time": "2022-03-29T01:41:43.414Z"
   },
   {
    "duration": 11,
    "start_time": "2022-03-29T01:41:43.419Z"
   },
   {
    "duration": 7,
    "start_time": "2022-03-29T01:41:43.431Z"
   },
   {
    "duration": 7,
    "start_time": "2022-03-29T01:41:43.483Z"
   },
   {
    "duration": 91,
    "start_time": "2022-03-29T01:41:43.492Z"
   },
   {
    "duration": 6,
    "start_time": "2022-03-29T01:41:43.584Z"
   },
   {
    "duration": 14,
    "start_time": "2022-03-29T01:41:43.591Z"
   },
   {
    "duration": 3,
    "start_time": "2022-03-29T01:41:43.607Z"
   },
   {
    "duration": 11,
    "start_time": "2022-03-29T01:41:43.612Z"
   },
   {
    "duration": 57,
    "start_time": "2022-03-29T01:41:43.624Z"
   },
   {
    "duration": 6,
    "start_time": "2022-03-29T01:41:43.683Z"
   },
   {
    "duration": 92,
    "start_time": "2022-03-29T01:41:43.690Z"
   },
   {
    "duration": 3,
    "start_time": "2022-03-29T01:41:43.784Z"
   },
   {
    "duration": 13,
    "start_time": "2022-03-29T01:41:43.789Z"
   },
   {
    "duration": 3,
    "start_time": "2022-03-29T01:41:43.803Z"
   },
   {
    "duration": 10,
    "start_time": "2022-03-29T01:41:43.807Z"
   },
   {
    "duration": 3,
    "start_time": "2022-03-29T01:41:43.818Z"
   },
   {
    "duration": 6,
    "start_time": "2022-03-29T01:41:43.822Z"
   },
   {
    "duration": 3,
    "start_time": "2022-03-29T01:41:43.831Z"
   },
   {
    "duration": 3,
    "start_time": "2022-03-29T01:41:43.836Z"
   },
   {
    "duration": 40,
    "start_time": "2022-03-29T01:41:43.840Z"
   },
   {
    "duration": 4,
    "start_time": "2022-03-29T01:41:43.882Z"
   },
   {
    "duration": 6,
    "start_time": "2022-03-29T01:41:43.888Z"
   },
   {
    "duration": 4,
    "start_time": "2022-03-29T01:41:43.895Z"
   },
   {
    "duration": 3,
    "start_time": "2022-03-29T01:41:43.900Z"
   },
   {
    "duration": 8,
    "start_time": "2022-03-29T01:41:43.905Z"
   },
   {
    "duration": 928,
    "start_time": "2022-03-29T01:41:43.914Z"
   },
   {
    "duration": 5,
    "start_time": "2022-03-29T01:41:44.844Z"
   },
   {
    "duration": 6,
    "start_time": "2022-03-29T01:43:40.584Z"
   },
   {
    "duration": 3,
    "start_time": "2022-03-29T01:43:52.625Z"
   },
   {
    "duration": 133,
    "start_time": "2022-03-29T01:43:52.629Z"
   },
   {
    "duration": 125,
    "start_time": "2022-03-29T01:43:52.780Z"
   },
   {
    "duration": 125,
    "start_time": "2022-03-29T01:43:52.906Z"
   },
   {
    "duration": 12,
    "start_time": "2022-03-29T01:43:53.033Z"
   },
   {
    "duration": 4,
    "start_time": "2022-03-29T01:43:53.046Z"
   },
   {
    "duration": 12,
    "start_time": "2022-03-29T01:43:53.051Z"
   },
   {
    "duration": 4,
    "start_time": "2022-03-29T01:43:53.081Z"
   },
   {
    "duration": 95,
    "start_time": "2022-03-29T01:43:53.087Z"
   },
   {
    "duration": 97,
    "start_time": "2022-03-29T01:43:53.185Z"
   },
   {
    "duration": 4,
    "start_time": "2022-03-29T01:43:53.284Z"
   },
   {
    "duration": 12,
    "start_time": "2022-03-29T01:43:53.290Z"
   },
   {
    "duration": 2,
    "start_time": "2022-03-29T01:43:53.304Z"
   },
   {
    "duration": 17,
    "start_time": "2022-03-29T01:43:53.308Z"
   },
   {
    "duration": 6,
    "start_time": "2022-03-29T01:43:53.326Z"
   },
   {
    "duration": 97,
    "start_time": "2022-03-29T01:43:53.385Z"
   },
   {
    "duration": 6,
    "start_time": "2022-03-29T01:43:53.484Z"
   },
   {
    "duration": 6,
    "start_time": "2022-03-29T01:43:53.491Z"
   },
   {
    "duration": 12,
    "start_time": "2022-03-29T01:43:53.499Z"
   },
   {
    "duration": 4,
    "start_time": "2022-03-29T01:43:53.512Z"
   },
   {
    "duration": 11,
    "start_time": "2022-03-29T01:43:53.517Z"
   },
   {
    "duration": 3,
    "start_time": "2022-03-29T01:43:53.529Z"
   },
   {
    "duration": 5,
    "start_time": "2022-03-29T01:43:53.534Z"
   },
   {
    "duration": 41,
    "start_time": "2022-03-29T01:43:53.540Z"
   },
   {
    "duration": 3,
    "start_time": "2022-03-29T01:43:53.583Z"
   },
   {
    "duration": 8,
    "start_time": "2022-03-29T01:43:53.588Z"
   },
   {
    "duration": 8,
    "start_time": "2022-03-29T01:43:53.597Z"
   },
   {
    "duration": 4,
    "start_time": "2022-03-29T01:43:53.606Z"
   },
   {
    "duration": 4,
    "start_time": "2022-03-29T01:43:53.613Z"
   },
   {
    "duration": 6,
    "start_time": "2022-03-29T01:43:53.618Z"
   },
   {
    "duration": 10,
    "start_time": "2022-03-29T01:43:53.625Z"
   },
   {
    "duration": 945,
    "start_time": "2022-03-29T01:43:53.636Z"
   },
   {
    "duration": 5,
    "start_time": "2022-03-29T01:43:54.582Z"
   },
   {
    "duration": 3,
    "start_time": "2022-03-29T01:44:09.900Z"
   },
   {
    "duration": 1001,
    "start_time": "2022-03-29T01:49:26.710Z"
   },
   {
    "duration": 899,
    "start_time": "2022-03-29T01:49:39.547Z"
   },
   {
    "duration": 892,
    "start_time": "2022-03-29T01:51:43.414Z"
   },
   {
    "duration": 5,
    "start_time": "2022-03-29T01:54:32.989Z"
   },
   {
    "duration": 6,
    "start_time": "2022-03-29T01:59:22.850Z"
   },
   {
    "duration": 7,
    "start_time": "2022-03-29T02:01:10.513Z"
   },
   {
    "duration": 7,
    "start_time": "2022-03-29T02:01:30.005Z"
   },
   {
    "duration": 6,
    "start_time": "2022-03-29T02:01:37.940Z"
   },
   {
    "duration": 3,
    "start_time": "2022-03-29T02:04:16.062Z"
   },
   {
    "duration": 901,
    "start_time": "2022-03-29T02:04:16.768Z"
   },
   {
    "duration": 7,
    "start_time": "2022-03-29T02:04:22.359Z"
   },
   {
    "duration": 3,
    "start_time": "2022-03-29T02:07:41.477Z"
   },
   {
    "duration": 910,
    "start_time": "2022-03-29T02:07:41.948Z"
   },
   {
    "duration": 3,
    "start_time": "2022-03-29T02:17:44.833Z"
   },
   {
    "duration": 148,
    "start_time": "2022-03-29T02:17:44.838Z"
   },
   {
    "duration": 128,
    "start_time": "2022-03-29T02:17:44.988Z"
   },
   {
    "duration": 129,
    "start_time": "2022-03-29T02:17:45.117Z"
   },
   {
    "duration": 12,
    "start_time": "2022-03-29T02:17:45.248Z"
   },
   {
    "duration": 7,
    "start_time": "2022-03-29T02:17:45.261Z"
   },
   {
    "duration": 15,
    "start_time": "2022-03-29T02:17:45.269Z"
   },
   {
    "duration": 10,
    "start_time": "2022-03-29T02:17:45.286Z"
   },
   {
    "duration": 89,
    "start_time": "2022-03-29T02:17:45.299Z"
   },
   {
    "duration": 93,
    "start_time": "2022-03-29T02:17:45.390Z"
   },
   {
    "duration": 6,
    "start_time": "2022-03-29T02:17:45.485Z"
   },
   {
    "duration": 14,
    "start_time": "2022-03-29T02:17:45.492Z"
   },
   {
    "duration": 2,
    "start_time": "2022-03-29T02:17:45.508Z"
   },
   {
    "duration": 11,
    "start_time": "2022-03-29T02:17:45.512Z"
   },
   {
    "duration": 60,
    "start_time": "2022-03-29T02:17:45.524Z"
   },
   {
    "duration": 4,
    "start_time": "2022-03-29T02:17:45.586Z"
   },
   {
    "duration": 95,
    "start_time": "2022-03-29T02:17:45.591Z"
   },
   {
    "duration": 6,
    "start_time": "2022-03-29T02:17:45.687Z"
   },
   {
    "duration": 14,
    "start_time": "2022-03-29T02:17:45.694Z"
   },
   {
    "duration": 3,
    "start_time": "2022-03-29T02:17:45.710Z"
   },
   {
    "duration": 76,
    "start_time": "2022-03-29T02:17:45.715Z"
   },
   {
    "duration": 4,
    "start_time": "2022-03-29T02:17:45.792Z"
   },
   {
    "duration": 6,
    "start_time": "2022-03-29T02:17:45.797Z"
   },
   {
    "duration": 9,
    "start_time": "2022-03-29T02:17:45.805Z"
   },
   {
    "duration": 4,
    "start_time": "2022-03-29T02:17:45.815Z"
   },
   {
    "duration": 6,
    "start_time": "2022-03-29T02:17:45.820Z"
   },
   {
    "duration": 6,
    "start_time": "2022-03-29T02:17:45.827Z"
   },
   {
    "duration": 5,
    "start_time": "2022-03-29T02:17:45.834Z"
   },
   {
    "duration": 7,
    "start_time": "2022-03-29T02:17:45.841Z"
   },
   {
    "duration": 31,
    "start_time": "2022-03-29T02:17:45.850Z"
   },
   {
    "duration": 7,
    "start_time": "2022-03-29T02:17:45.882Z"
   },
   {
    "duration": 1025,
    "start_time": "2022-03-29T02:17:45.890Z"
   },
   {
    "duration": 7,
    "start_time": "2022-03-29T02:17:46.916Z"
   },
   {
    "duration": 4,
    "start_time": "2022-03-29T02:17:46.924Z"
   },
   {
    "duration": 923,
    "start_time": "2022-03-29T02:17:46.929Z"
   },
   {
    "duration": 7,
    "start_time": "2022-03-29T02:17:47.854Z"
   },
   {
    "duration": 9,
    "start_time": "2022-03-29T02:17:47.862Z"
   },
   {
    "duration": 913,
    "start_time": "2022-03-29T02:17:47.872Z"
   },
   {
    "duration": 7,
    "start_time": "2022-03-29T02:17:48.787Z"
   },
   {
    "duration": 4,
    "start_time": "2022-03-29T02:20:13.728Z"
   },
   {
    "duration": 917,
    "start_time": "2022-03-29T02:20:14.218Z"
   },
   {
    "duration": 6,
    "start_time": "2022-03-29T02:20:16.366Z"
   },
   {
    "duration": 3,
    "start_time": "2022-03-29T02:20:35.545Z"
   },
   {
    "duration": 152,
    "start_time": "2022-03-29T02:20:35.549Z"
   },
   {
    "duration": 139,
    "start_time": "2022-03-29T02:20:35.703Z"
   },
   {
    "duration": 131,
    "start_time": "2022-03-29T02:20:35.843Z"
   },
   {
    "duration": 11,
    "start_time": "2022-03-29T02:20:35.980Z"
   },
   {
    "duration": 3,
    "start_time": "2022-03-29T02:20:35.993Z"
   },
   {
    "duration": 15,
    "start_time": "2022-03-29T02:20:35.998Z"
   },
   {
    "duration": 7,
    "start_time": "2022-03-29T02:20:36.015Z"
   },
   {
    "duration": 4,
    "start_time": "2022-03-29T02:20:36.085Z"
   },
   {
    "duration": 7,
    "start_time": "2022-03-29T02:20:36.181Z"
   },
   {
    "duration": 6,
    "start_time": "2022-03-29T02:20:36.191Z"
   },
   {
    "duration": 12,
    "start_time": "2022-03-29T02:20:36.198Z"
   },
   {
    "duration": 4,
    "start_time": "2022-03-29T02:20:36.211Z"
   },
   {
    "duration": 12,
    "start_time": "2022-03-29T02:20:36.216Z"
   },
   {
    "duration": 56,
    "start_time": "2022-03-29T02:20:36.229Z"
   },
   {
    "duration": 95,
    "start_time": "2022-03-29T02:20:36.286Z"
   },
   {
    "duration": 10,
    "start_time": "2022-03-29T02:20:36.383Z"
   },
   {
    "duration": 89,
    "start_time": "2022-03-29T02:20:36.395Z"
   },
   {
    "duration": 12,
    "start_time": "2022-03-29T02:20:36.486Z"
   },
   {
    "duration": 3,
    "start_time": "2022-03-29T02:20:36.500Z"
   },
   {
    "duration": 12,
    "start_time": "2022-03-29T02:20:36.504Z"
   },
   {
    "duration": 2,
    "start_time": "2022-03-29T02:20:36.518Z"
   },
   {
    "duration": 6,
    "start_time": "2022-03-29T02:20:36.521Z"
   },
   {
    "duration": 4,
    "start_time": "2022-03-29T02:20:36.529Z"
   },
   {
    "duration": 7,
    "start_time": "2022-03-29T02:20:36.534Z"
   },
   {
    "duration": 5,
    "start_time": "2022-03-29T02:20:36.542Z"
   },
   {
    "duration": 34,
    "start_time": "2022-03-29T02:20:36.549Z"
   },
   {
    "duration": 7,
    "start_time": "2022-03-29T02:20:36.584Z"
   },
   {
    "duration": 6,
    "start_time": "2022-03-29T02:20:36.594Z"
   },
   {
    "duration": 4,
    "start_time": "2022-03-29T02:20:36.601Z"
   },
   {
    "duration": 6,
    "start_time": "2022-03-29T02:20:36.606Z"
   },
   {
    "duration": 930,
    "start_time": "2022-03-29T02:20:36.613Z"
   },
   {
    "duration": 5,
    "start_time": "2022-03-29T02:20:37.545Z"
   },
   {
    "duration": 4,
    "start_time": "2022-03-29T02:20:37.552Z"
   },
   {
    "duration": 946,
    "start_time": "2022-03-29T02:20:37.558Z"
   },
   {
    "duration": 6,
    "start_time": "2022-03-29T02:20:38.505Z"
   },
   {
    "duration": 4,
    "start_time": "2022-03-29T02:20:38.512Z"
   },
   {
    "duration": 922,
    "start_time": "2022-03-29T02:20:38.517Z"
   },
   {
    "duration": 6,
    "start_time": "2022-03-29T02:20:39.440Z"
   },
   {
    "duration": 3,
    "start_time": "2022-03-29T02:23:12.473Z"
   },
   {
    "duration": 915,
    "start_time": "2022-03-29T02:23:13.054Z"
   },
   {
    "duration": 7,
    "start_time": "2022-03-29T02:23:14.766Z"
   },
   {
    "duration": 3,
    "start_time": "2022-03-29T02:42:43.418Z"
   },
   {
    "duration": 166,
    "start_time": "2022-03-29T02:42:43.423Z"
   },
   {
    "duration": 126,
    "start_time": "2022-03-29T02:42:43.590Z"
   },
   {
    "duration": 126,
    "start_time": "2022-03-29T02:42:43.718Z"
   },
   {
    "duration": 11,
    "start_time": "2022-03-29T02:42:43.846Z"
   },
   {
    "duration": 3,
    "start_time": "2022-03-29T02:42:43.858Z"
   },
   {
    "duration": 24,
    "start_time": "2022-03-29T02:42:43.862Z"
   },
   {
    "duration": 6,
    "start_time": "2022-03-29T02:42:43.887Z"
   },
   {
    "duration": 89,
    "start_time": "2022-03-29T02:42:43.894Z"
   },
   {
    "duration": 97,
    "start_time": "2022-03-29T02:42:43.985Z"
   },
   {
    "duration": 4,
    "start_time": "2022-03-29T02:42:44.085Z"
   },
   {
    "duration": 14,
    "start_time": "2022-03-29T02:42:44.090Z"
   },
   {
    "duration": 3,
    "start_time": "2022-03-29T02:42:44.105Z"
   },
   {
    "duration": 11,
    "start_time": "2022-03-29T02:42:44.109Z"
   },
   {
    "duration": 7,
    "start_time": "2022-03-29T02:42:44.121Z"
   },
   {
    "duration": 51,
    "start_time": "2022-03-29T02:42:44.130Z"
   },
   {
    "duration": 103,
    "start_time": "2022-03-29T02:42:44.183Z"
   },
   {
    "duration": 5,
    "start_time": "2022-03-29T02:42:44.288Z"
   },
   {
    "duration": 12,
    "start_time": "2022-03-29T02:42:44.295Z"
   },
   {
    "duration": 3,
    "start_time": "2022-03-29T02:42:44.309Z"
   },
   {
    "duration": 11,
    "start_time": "2022-03-29T02:42:44.314Z"
   },
   {
    "duration": 3,
    "start_time": "2022-03-29T02:42:44.327Z"
   },
   {
    "duration": 5,
    "start_time": "2022-03-29T02:42:44.332Z"
   },
   {
    "duration": 5,
    "start_time": "2022-03-29T02:42:44.339Z"
   },
   {
    "duration": 2,
    "start_time": "2022-03-29T02:42:44.380Z"
   },
   {
    "duration": 5,
    "start_time": "2022-03-29T02:42:44.384Z"
   },
   {
    "duration": 5,
    "start_time": "2022-03-29T02:42:44.390Z"
   },
   {
    "duration": 4,
    "start_time": "2022-03-29T02:42:44.397Z"
   },
   {
    "duration": 4,
    "start_time": "2022-03-29T02:42:44.405Z"
   },
   {
    "duration": 8,
    "start_time": "2022-03-29T02:42:44.411Z"
   },
   {
    "duration": 5,
    "start_time": "2022-03-29T02:42:44.420Z"
   },
   {
    "duration": 946,
    "start_time": "2022-03-29T02:42:44.426Z"
   },
   {
    "duration": 11,
    "start_time": "2022-03-29T02:42:45.373Z"
   },
   {
    "duration": 4,
    "start_time": "2022-03-29T02:42:45.386Z"
   },
   {
    "duration": 920,
    "start_time": "2022-03-29T02:42:45.392Z"
   },
   {
    "duration": 6,
    "start_time": "2022-03-29T02:42:46.314Z"
   },
   {
    "duration": 4,
    "start_time": "2022-03-29T02:42:46.322Z"
   },
   {
    "duration": 1021,
    "start_time": "2022-03-29T02:42:46.328Z"
   },
   {
    "duration": 7,
    "start_time": "2022-03-29T02:42:47.350Z"
   },
   {
    "duration": 3,
    "start_time": "2022-03-29T03:10:53.352Z"
   },
   {
    "duration": 150,
    "start_time": "2022-03-29T03:10:53.358Z"
   },
   {
    "duration": 128,
    "start_time": "2022-03-29T03:10:53.509Z"
   },
   {
    "duration": 131,
    "start_time": "2022-03-29T03:10:53.639Z"
   },
   {
    "duration": 17,
    "start_time": "2022-03-29T03:10:53.772Z"
   },
   {
    "duration": 3,
    "start_time": "2022-03-29T03:10:53.791Z"
   },
   {
    "duration": 11,
    "start_time": "2022-03-29T03:10:53.796Z"
   },
   {
    "duration": 6,
    "start_time": "2022-03-29T03:10:53.809Z"
   },
   {
    "duration": 73,
    "start_time": "2022-03-29T03:10:53.817Z"
   },
   {
    "duration": 94,
    "start_time": "2022-03-29T03:10:53.892Z"
   },
   {
    "duration": 5,
    "start_time": "2022-03-29T03:10:53.989Z"
   },
   {
    "duration": 12,
    "start_time": "2022-03-29T03:10:53.995Z"
   },
   {
    "duration": 3,
    "start_time": "2022-03-29T03:10:54.009Z"
   },
   {
    "duration": 11,
    "start_time": "2022-03-29T03:10:54.014Z"
   },
   {
    "duration": 55,
    "start_time": "2022-03-29T03:10:54.026Z"
   },
   {
    "duration": 98,
    "start_time": "2022-03-29T03:10:54.083Z"
   },
   {
    "duration": 6,
    "start_time": "2022-03-29T03:10:54.183Z"
   },
   {
    "duration": 5,
    "start_time": "2022-03-29T03:10:54.191Z"
   },
   {
    "duration": 12,
    "start_time": "2022-03-29T03:10:54.198Z"
   },
   {
    "duration": 4,
    "start_time": "2022-03-29T03:10:54.211Z"
   },
   {
    "duration": 10,
    "start_time": "2022-03-29T03:10:54.217Z"
   },
   {
    "duration": 2,
    "start_time": "2022-03-29T03:10:54.229Z"
   },
   {
    "duration": 5,
    "start_time": "2022-03-29T03:10:54.233Z"
   },
   {
    "duration": 42,
    "start_time": "2022-03-29T03:10:54.239Z"
   },
   {
    "duration": 2,
    "start_time": "2022-03-29T03:10:54.283Z"
   },
   {
    "duration": 5,
    "start_time": "2022-03-29T03:10:54.287Z"
   },
   {
    "duration": 5,
    "start_time": "2022-03-29T03:10:54.293Z"
   },
   {
    "duration": 10,
    "start_time": "2022-03-29T03:10:54.299Z"
   },
   {
    "duration": 10,
    "start_time": "2022-03-29T03:10:54.311Z"
   },
   {
    "duration": 5,
    "start_time": "2022-03-29T03:10:54.322Z"
   },
   {
    "duration": 9,
    "start_time": "2022-03-29T03:10:54.329Z"
   },
   {
    "duration": 926,
    "start_time": "2022-03-29T03:10:54.339Z"
   },
   {
    "duration": 15,
    "start_time": "2022-03-29T03:10:55.266Z"
   },
   {
    "duration": 3,
    "start_time": "2022-03-29T03:10:55.282Z"
   },
   {
    "duration": 920,
    "start_time": "2022-03-29T03:10:55.287Z"
   },
   {
    "duration": 6,
    "start_time": "2022-03-29T03:10:56.209Z"
   },
   {
    "duration": 6,
    "start_time": "2022-03-29T03:10:56.216Z"
   },
   {
    "duration": 918,
    "start_time": "2022-03-29T03:10:56.223Z"
   },
   {
    "duration": 6,
    "start_time": "2022-03-29T03:10:57.143Z"
   },
   {
    "duration": 1310,
    "start_time": "2022-03-29T20:32:51.201Z"
   },
   {
    "duration": 167,
    "start_time": "2022-03-29T20:32:52.514Z"
   },
   {
    "duration": 150,
    "start_time": "2022-03-29T20:32:52.683Z"
   },
   {
    "duration": 155,
    "start_time": "2022-03-29T20:32:52.914Z"
   },
   {
    "duration": 24,
    "start_time": "2022-03-29T20:34:59.558Z"
   },
   {
    "duration": 4,
    "start_time": "2022-03-29T20:35:00.166Z"
   },
   {
    "duration": 16,
    "start_time": "2022-03-29T20:35:02.222Z"
   },
   {
    "duration": 17,
    "start_time": "2022-03-29T20:35:02.711Z"
   },
   {
    "duration": 4,
    "start_time": "2022-03-29T20:35:04.688Z"
   },
   {
    "duration": 4,
    "start_time": "2022-03-29T20:35:05.412Z"
   },
   {
    "duration": 5,
    "start_time": "2022-03-29T20:35:06.027Z"
   },
   {
    "duration": 18,
    "start_time": "2022-03-29T20:35:33.146Z"
   },
   {
    "duration": 4,
    "start_time": "2022-03-29T20:35:33.729Z"
   },
   {
    "duration": 15,
    "start_time": "2022-03-29T20:35:34.867Z"
   },
   {
    "duration": 100,
    "start_time": "2022-03-29T20:35:35.401Z"
   },
   {
    "duration": 5,
    "start_time": "2022-03-29T20:35:37.400Z"
   },
   {
    "duration": 5,
    "start_time": "2022-03-29T20:35:38.747Z"
   },
   {
    "duration": 6,
    "start_time": "2022-03-29T20:35:39.368Z"
   },
   {
    "duration": 18,
    "start_time": "2022-03-29T20:36:38.654Z"
   },
   {
    "duration": 3,
    "start_time": "2022-03-29T20:36:39.108Z"
   },
   {
    "duration": 12,
    "start_time": "2022-03-29T20:36:39.602Z"
   },
   {
    "duration": 4,
    "start_time": "2022-03-29T20:36:40.090Z"
   },
   {
    "duration": 4,
    "start_time": "2022-03-29T20:36:40.948Z"
   },
   {
    "duration": 5,
    "start_time": "2022-03-29T20:36:41.413Z"
   },
   {
    "duration": 3,
    "start_time": "2022-03-29T20:38:00.585Z"
   },
   {
    "duration": 4,
    "start_time": "2022-03-29T20:38:01.581Z"
   },
   {
    "duration": 5,
    "start_time": "2022-03-29T20:38:01.733Z"
   },
   {
    "duration": 6,
    "start_time": "2022-03-29T20:38:02.089Z"
   },
   {
    "duration": 6,
    "start_time": "2022-03-29T20:38:02.395Z"
   },
   {
    "duration": 3,
    "start_time": "2022-03-29T20:38:54.589Z"
   },
   {
    "duration": 5,
    "start_time": "2022-03-29T20:38:57.855Z"
   },
   {
    "duration": 1125,
    "start_time": "2022-03-29T20:38:58.664Z"
   },
   {
    "duration": 9,
    "start_time": "2022-03-29T20:39:02.627Z"
   },
   {
    "duration": 4,
    "start_time": "2022-03-29T20:39:03.531Z"
   },
   {
    "duration": 1214,
    "start_time": "2022-03-29T20:39:03.725Z"
   },
   {
    "duration": 8,
    "start_time": "2022-03-29T20:39:04.942Z"
   },
   {
    "duration": 8,
    "start_time": "2022-03-29T20:39:04.953Z"
   },
   {
    "duration": 1114,
    "start_time": "2022-03-29T20:39:04.964Z"
   },
   {
    "duration": 10,
    "start_time": "2022-03-29T20:39:06.080Z"
   },
   {
    "duration": 4,
    "start_time": "2022-03-29T20:40:21.530Z"
   },
   {
    "duration": 4,
    "start_time": "2022-03-29T20:40:24.515Z"
   },
   {
    "duration": 1252,
    "start_time": "2022-03-29T20:40:24.953Z"
   },
   {
    "duration": 9,
    "start_time": "2022-03-29T20:40:28.133Z"
   },
   {
    "duration": 5,
    "start_time": "2022-03-29T20:40:42.043Z"
   },
   {
    "duration": 1260,
    "start_time": "2022-03-29T20:40:42.443Z"
   },
   {
    "duration": 8,
    "start_time": "2022-03-29T20:40:43.706Z"
   },
   {
    "duration": 6,
    "start_time": "2022-03-29T20:40:43.988Z"
   },
   {
    "duration": 2098,
    "start_time": "2022-03-29T20:40:44.155Z"
   },
   {
    "duration": 10,
    "start_time": "2022-03-29T20:40:46.256Z"
   },
   {
    "duration": 18,
    "start_time": "2022-03-29T20:43:26.672Z"
   },
   {
    "duration": 4,
    "start_time": "2022-03-29T20:43:27.619Z"
   },
   {
    "duration": 11,
    "start_time": "2022-03-29T20:43:28.880Z"
   },
   {
    "duration": 4,
    "start_time": "2022-03-29T20:43:33.483Z"
   },
   {
    "duration": 4,
    "start_time": "2022-03-29T20:43:39.688Z"
   },
   {
    "duration": 5,
    "start_time": "2022-03-29T20:43:40.275Z"
   },
   {
    "duration": 7,
    "start_time": "2022-03-29T20:43:46.853Z"
   },
   {
    "duration": 48,
    "start_time": "2022-03-30T07:45:22.610Z"
   },
   {
    "duration": 1238,
    "start_time": "2022-03-30T07:45:25.718Z"
   },
   {
    "duration": 157,
    "start_time": "2022-03-30T07:45:26.959Z"
   },
   {
    "duration": 148,
    "start_time": "2022-03-30T07:45:27.117Z"
   },
   {
    "duration": 138,
    "start_time": "2022-03-30T07:45:27.268Z"
   },
   {
    "duration": 15,
    "start_time": "2022-03-30T07:45:27.408Z"
   },
   {
    "duration": 3,
    "start_time": "2022-03-30T07:45:27.425Z"
   },
   {
    "duration": 15,
    "start_time": "2022-03-30T07:45:27.430Z"
   },
   {
    "duration": 4,
    "start_time": "2022-03-30T07:45:27.447Z"
   },
   {
    "duration": 7,
    "start_time": "2022-03-30T07:45:27.501Z"
   },
   {
    "duration": 95,
    "start_time": "2022-03-30T07:45:27.512Z"
   },
   {
    "duration": 5,
    "start_time": "2022-03-30T07:45:27.609Z"
   },
   {
    "duration": 14,
    "start_time": "2022-03-30T07:45:27.616Z"
   },
   {
    "duration": 3,
    "start_time": "2022-03-30T07:45:27.632Z"
   },
   {
    "duration": 16,
    "start_time": "2022-03-30T07:45:27.636Z"
   },
   {
    "duration": 48,
    "start_time": "2022-03-30T07:45:27.654Z"
   },
   {
    "duration": 96,
    "start_time": "2022-03-30T07:45:27.705Z"
   },
   {
    "duration": 4,
    "start_time": "2022-03-30T07:45:27.803Z"
   },
   {
    "duration": 6,
    "start_time": "2022-03-30T07:45:27.808Z"
   },
   {
    "duration": 14,
    "start_time": "2022-03-30T07:45:27.815Z"
   },
   {
    "duration": 3,
    "start_time": "2022-03-30T07:45:27.831Z"
   },
   {
    "duration": 12,
    "start_time": "2022-03-30T07:45:27.835Z"
   },
   {
    "duration": 3,
    "start_time": "2022-03-30T07:45:27.848Z"
   },
   {
    "duration": 16,
    "start_time": "2022-03-30T07:45:27.853Z"
   },
   {
    "duration": 34,
    "start_time": "2022-03-30T07:45:27.870Z"
   },
   {
    "duration": 5,
    "start_time": "2022-03-30T07:45:27.906Z"
   },
   {
    "duration": 12,
    "start_time": "2022-03-30T07:45:27.912Z"
   },
   {
    "duration": 9,
    "start_time": "2022-03-30T07:45:27.926Z"
   },
   {
    "duration": 5,
    "start_time": "2022-03-30T07:45:27.939Z"
   },
   {
    "duration": 9,
    "start_time": "2022-03-30T07:45:27.946Z"
   },
   {
    "duration": 12,
    "start_time": "2022-03-30T07:45:27.957Z"
   },
   {
    "duration": 9,
    "start_time": "2022-03-30T07:45:27.971Z"
   },
   {
    "duration": 1199,
    "start_time": "2022-03-30T07:45:27.982Z"
   },
   {
    "duration": 7,
    "start_time": "2022-03-30T07:45:29.183Z"
   },
   {
    "duration": 12,
    "start_time": "2022-03-30T07:45:29.191Z"
   },
   {
    "duration": 1136,
    "start_time": "2022-03-30T07:45:29.204Z"
   },
   {
    "duration": 7,
    "start_time": "2022-03-30T07:45:30.341Z"
   },
   {
    "duration": 17,
    "start_time": "2022-03-30T07:45:30.350Z"
   },
   {
    "duration": 1174,
    "start_time": "2022-03-30T07:45:30.369Z"
   },
   {
    "duration": 16,
    "start_time": "2022-03-30T07:45:31.544Z"
   },
   {
    "duration": 27,
    "start_time": "2022-03-30T07:45:31.562Z"
   },
   {
    "duration": 10,
    "start_time": "2022-03-30T07:45:31.590Z"
   },
   {
    "duration": 5,
    "start_time": "2022-03-30T07:46:02.339Z"
   },
   {
    "duration": 6,
    "start_time": "2022-03-30T07:48:53.731Z"
   },
   {
    "duration": 59,
    "start_time": "2022-03-30T07:49:01.123Z"
   },
   {
    "duration": 5,
    "start_time": "2022-03-30T07:49:06.174Z"
   },
   {
    "duration": 3,
    "start_time": "2022-03-30T07:49:10.390Z"
   },
   {
    "duration": 155,
    "start_time": "2022-03-30T07:49:10.395Z"
   },
   {
    "duration": 138,
    "start_time": "2022-03-30T07:49:10.552Z"
   },
   {
    "duration": 144,
    "start_time": "2022-03-30T07:49:10.692Z"
   },
   {
    "duration": 15,
    "start_time": "2022-03-30T07:49:10.838Z"
   },
   {
    "duration": 3,
    "start_time": "2022-03-30T07:49:10.855Z"
   },
   {
    "duration": 18,
    "start_time": "2022-03-30T07:49:10.859Z"
   },
   {
    "duration": 25,
    "start_time": "2022-03-30T07:49:10.878Z"
   },
   {
    "duration": 97,
    "start_time": "2022-03-30T07:49:10.905Z"
   },
   {
    "duration": 6,
    "start_time": "2022-03-30T07:49:11.005Z"
   },
   {
    "duration": 4,
    "start_time": "2022-03-30T07:49:11.104Z"
   },
   {
    "duration": 13,
    "start_time": "2022-03-30T07:49:11.110Z"
   },
   {
    "duration": 4,
    "start_time": "2022-03-30T07:49:11.124Z"
   },
   {
    "duration": 12,
    "start_time": "2022-03-30T07:49:11.130Z"
   },
   {
    "duration": 58,
    "start_time": "2022-03-30T07:49:11.144Z"
   },
   {
    "duration": 5,
    "start_time": "2022-03-30T07:49:11.205Z"
   },
   {
    "duration": 5,
    "start_time": "2022-03-30T07:49:11.301Z"
   },
   {
    "duration": 5,
    "start_time": "2022-03-30T07:49:11.308Z"
   },
   {
    "duration": 87,
    "start_time": "2022-03-30T07:49:11.314Z"
   },
   {
    "duration": 4,
    "start_time": "2022-03-30T07:49:11.403Z"
   },
   {
    "duration": 12,
    "start_time": "2022-03-30T07:49:11.408Z"
   },
   {
    "duration": 3,
    "start_time": "2022-03-30T07:49:11.422Z"
   },
   {
    "duration": 4,
    "start_time": "2022-03-30T07:49:11.427Z"
   },
   {
    "duration": 5,
    "start_time": "2022-03-30T07:49:11.433Z"
   },
   {
    "duration": 4,
    "start_time": "2022-03-30T07:49:11.439Z"
   },
   {
    "duration": 9,
    "start_time": "2022-03-30T07:49:11.444Z"
   },
   {
    "duration": 8,
    "start_time": "2022-03-30T07:49:11.455Z"
   },
   {
    "duration": 4,
    "start_time": "2022-03-30T07:49:11.501Z"
   },
   {
    "duration": 4,
    "start_time": "2022-03-30T07:49:11.509Z"
   },
   {
    "duration": 9,
    "start_time": "2022-03-30T07:49:11.515Z"
   },
   {
    "duration": 14,
    "start_time": "2022-03-30T07:49:11.526Z"
   },
   {
    "duration": 1151,
    "start_time": "2022-03-30T07:49:11.542Z"
   },
   {
    "duration": 10,
    "start_time": "2022-03-30T07:49:12.695Z"
   },
   {
    "duration": 9,
    "start_time": "2022-03-30T07:49:12.706Z"
   },
   {
    "duration": 1186,
    "start_time": "2022-03-30T07:49:12.717Z"
   },
   {
    "duration": 7,
    "start_time": "2022-03-30T07:49:13.904Z"
   },
   {
    "duration": 4,
    "start_time": "2022-03-30T07:49:13.912Z"
   },
   {
    "duration": 12,
    "start_time": "2022-03-30T07:49:13.917Z"
   },
   {
    "duration": 5,
    "start_time": "2022-03-30T07:49:13.931Z"
   },
   {
    "duration": 1168,
    "start_time": "2022-03-30T07:49:13.938Z"
   },
   {
    "duration": 6,
    "start_time": "2022-03-30T07:49:15.108Z"
   },
   {
    "duration": 6,
    "start_time": "2022-03-30T07:49:15.115Z"
   },
   {
    "duration": 6,
    "start_time": "2022-03-30T07:49:51.824Z"
   },
   {
    "duration": 3,
    "start_time": "2022-03-30T07:50:03.399Z"
   },
   {
    "duration": 160,
    "start_time": "2022-03-30T07:50:03.405Z"
   },
   {
    "duration": 152,
    "start_time": "2022-03-30T07:50:03.567Z"
   },
   {
    "duration": 152,
    "start_time": "2022-03-30T07:50:03.722Z"
   },
   {
    "duration": 26,
    "start_time": "2022-03-30T07:50:03.876Z"
   },
   {
    "duration": 4,
    "start_time": "2022-03-30T07:50:03.904Z"
   },
   {
    "duration": 15,
    "start_time": "2022-03-30T07:50:03.911Z"
   },
   {
    "duration": 5,
    "start_time": "2022-03-30T07:50:03.927Z"
   },
   {
    "duration": 71,
    "start_time": "2022-03-30T07:50:03.935Z"
   },
   {
    "duration": 92,
    "start_time": "2022-03-30T07:50:04.010Z"
   },
   {
    "duration": 4,
    "start_time": "2022-03-30T07:50:04.104Z"
   },
   {
    "duration": 13,
    "start_time": "2022-03-30T07:50:04.110Z"
   },
   {
    "duration": 3,
    "start_time": "2022-03-30T07:50:04.125Z"
   },
   {
    "duration": 15,
    "start_time": "2022-03-30T07:50:04.129Z"
   },
   {
    "duration": 61,
    "start_time": "2022-03-30T07:50:04.145Z"
   },
   {
    "duration": 94,
    "start_time": "2022-03-30T07:50:04.209Z"
   },
   {
    "duration": 3,
    "start_time": "2022-03-30T07:50:04.306Z"
   },
   {
    "duration": 6,
    "start_time": "2022-03-30T07:50:04.311Z"
   },
   {
    "duration": 12,
    "start_time": "2022-03-30T07:50:04.318Z"
   },
   {
    "duration": 3,
    "start_time": "2022-03-30T07:50:04.331Z"
   },
   {
    "duration": 11,
    "start_time": "2022-03-30T07:50:04.336Z"
   },
   {
    "duration": 3,
    "start_time": "2022-03-30T07:50:04.348Z"
   },
   {
    "duration": 48,
    "start_time": "2022-03-30T07:50:04.353Z"
   },
   {
    "duration": 5,
    "start_time": "2022-03-30T07:50:04.404Z"
   },
   {
    "duration": 4,
    "start_time": "2022-03-30T07:50:04.411Z"
   },
   {
    "duration": 10,
    "start_time": "2022-03-30T07:50:04.417Z"
   },
   {
    "duration": 8,
    "start_time": "2022-03-30T07:50:04.428Z"
   },
   {
    "duration": 7,
    "start_time": "2022-03-30T07:50:04.438Z"
   },
   {
    "duration": 8,
    "start_time": "2022-03-30T07:50:04.447Z"
   },
   {
    "duration": 12,
    "start_time": "2022-03-30T07:50:04.456Z"
   },
   {
    "duration": 10,
    "start_time": "2022-03-30T07:50:04.470Z"
   },
   {
    "duration": 1797,
    "start_time": "2022-03-30T07:50:04.482Z"
   },
   {
    "duration": 7,
    "start_time": "2022-03-30T07:50:06.281Z"
   },
   {
    "duration": 5,
    "start_time": "2022-03-30T07:50:06.300Z"
   },
   {
    "duration": 1378,
    "start_time": "2022-03-30T07:50:06.307Z"
   },
   {
    "duration": 7,
    "start_time": "2022-03-30T07:50:07.687Z"
   },
   {
    "duration": 0,
    "start_time": "2022-03-30T07:50:07.701Z"
   },
   {
    "duration": 0,
    "start_time": "2022-03-30T07:50:07.703Z"
   },
   {
    "duration": 0,
    "start_time": "2022-03-30T07:50:07.705Z"
   },
   {
    "duration": 0,
    "start_time": "2022-03-30T07:50:07.706Z"
   },
   {
    "duration": 0,
    "start_time": "2022-03-30T07:50:07.708Z"
   },
   {
    "duration": 0,
    "start_time": "2022-03-30T07:50:07.709Z"
   },
   {
    "duration": 3,
    "start_time": "2022-03-30T07:50:21.249Z"
   },
   {
    "duration": 165,
    "start_time": "2022-03-30T07:50:21.254Z"
   },
   {
    "duration": 134,
    "start_time": "2022-03-30T07:50:21.421Z"
   },
   {
    "duration": 135,
    "start_time": "2022-03-30T07:50:21.557Z"
   },
   {
    "duration": 17,
    "start_time": "2022-03-30T07:50:21.693Z"
   },
   {
    "duration": 5,
    "start_time": "2022-03-30T07:50:21.711Z"
   },
   {
    "duration": 24,
    "start_time": "2022-03-30T07:50:21.717Z"
   },
   {
    "duration": 9,
    "start_time": "2022-03-30T07:50:21.743Z"
   },
   {
    "duration": 48,
    "start_time": "2022-03-30T07:50:21.756Z"
   },
   {
    "duration": 101,
    "start_time": "2022-03-30T07:50:21.807Z"
   },
   {
    "duration": 17,
    "start_time": "2022-03-30T07:50:21.909Z"
   },
   {
    "duration": 18,
    "start_time": "2022-03-30T07:50:21.928Z"
   },
   {
    "duration": 4,
    "start_time": "2022-03-30T07:50:21.948Z"
   },
   {
    "duration": 12,
    "start_time": "2022-03-30T07:50:21.954Z"
   },
   {
    "duration": 34,
    "start_time": "2022-03-30T07:50:21.968Z"
   },
   {
    "duration": 96,
    "start_time": "2022-03-30T07:50:22.005Z"
   },
   {
    "duration": 14,
    "start_time": "2022-03-30T07:50:22.103Z"
   },
   {
    "duration": 10,
    "start_time": "2022-03-30T07:50:22.119Z"
   },
   {
    "duration": 15,
    "start_time": "2022-03-30T07:50:22.201Z"
   },
   {
    "duration": 14,
    "start_time": "2022-03-30T07:50:22.218Z"
   },
   {
    "duration": 18,
    "start_time": "2022-03-30T07:50:22.234Z"
   },
   {
    "duration": 23,
    "start_time": "2022-03-30T07:50:22.254Z"
   },
   {
    "duration": 24,
    "start_time": "2022-03-30T07:50:22.279Z"
   },
   {
    "duration": 14,
    "start_time": "2022-03-30T07:50:22.306Z"
   },
   {
    "duration": 19,
    "start_time": "2022-03-30T07:50:22.322Z"
   },
   {
    "duration": 11,
    "start_time": "2022-03-30T07:50:22.343Z"
   },
   {
    "duration": 24,
    "start_time": "2022-03-30T07:50:22.356Z"
   },
   {
    "duration": 22,
    "start_time": "2022-03-30T07:50:22.381Z"
   },
   {
    "duration": 15,
    "start_time": "2022-03-30T07:50:22.405Z"
   },
   {
    "duration": 23,
    "start_time": "2022-03-30T07:50:22.422Z"
   },
   {
    "duration": 31,
    "start_time": "2022-03-30T07:50:22.446Z"
   },
   {
    "duration": 1139,
    "start_time": "2022-03-30T07:50:22.479Z"
   },
   {
    "duration": 5,
    "start_time": "2022-03-30T07:50:23.620Z"
   },
   {
    "duration": 22,
    "start_time": "2022-03-30T07:50:23.627Z"
   },
   {
    "duration": 1120,
    "start_time": "2022-03-30T07:50:23.651Z"
   },
   {
    "duration": 15,
    "start_time": "2022-03-30T07:50:24.773Z"
   },
   {
    "duration": 16,
    "start_time": "2022-03-30T07:50:24.790Z"
   },
   {
    "duration": 6,
    "start_time": "2022-03-30T07:50:24.807Z"
   },
   {
    "duration": 5,
    "start_time": "2022-03-30T07:50:24.815Z"
   },
   {
    "duration": 1215,
    "start_time": "2022-03-30T07:50:24.821Z"
   },
   {
    "duration": 6,
    "start_time": "2022-03-30T07:50:26.038Z"
   },
   {
    "duration": 2,
    "start_time": "2022-03-30T07:50:26.046Z"
   },
   {
    "duration": 5,
    "start_time": "2022-03-30T07:50:42.118Z"
   },
   {
    "duration": 9,
    "start_time": "2022-03-30T07:52:29.383Z"
   },
   {
    "duration": 3,
    "start_time": "2022-03-30T07:52:38.712Z"
   },
   {
    "duration": 142,
    "start_time": "2022-03-30T07:52:38.717Z"
   },
   {
    "duration": 133,
    "start_time": "2022-03-30T07:52:38.860Z"
   },
   {
    "duration": 132,
    "start_time": "2022-03-30T07:52:39.001Z"
   },
   {
    "duration": 11,
    "start_time": "2022-03-30T07:52:39.135Z"
   },
   {
    "duration": 3,
    "start_time": "2022-03-30T07:52:39.148Z"
   },
   {
    "duration": 11,
    "start_time": "2022-03-30T07:52:39.152Z"
   },
   {
    "duration": 37,
    "start_time": "2022-03-30T07:52:39.165Z"
   },
   {
    "duration": 7,
    "start_time": "2022-03-30T07:52:39.205Z"
   },
   {
    "duration": 4,
    "start_time": "2022-03-30T07:52:39.302Z"
   },
   {
    "duration": 10,
    "start_time": "2022-03-30T07:52:39.307Z"
   },
   {
    "duration": 12,
    "start_time": "2022-03-30T07:52:39.318Z"
   },
   {
    "duration": 3,
    "start_time": "2022-03-30T07:52:39.332Z"
   },
   {
    "duration": 12,
    "start_time": "2022-03-30T07:52:39.337Z"
   },
   {
    "duration": 59,
    "start_time": "2022-03-30T07:52:39.350Z"
   },
   {
    "duration": 4,
    "start_time": "2022-03-30T07:52:39.411Z"
   },
   {
    "duration": 4,
    "start_time": "2022-03-30T07:52:39.502Z"
   },
   {
    "duration": 6,
    "start_time": "2022-03-30T07:52:39.507Z"
   },
   {
    "duration": 12,
    "start_time": "2022-03-30T07:52:39.514Z"
   },
   {
    "duration": 3,
    "start_time": "2022-03-30T07:52:39.527Z"
   },
   {
    "duration": 77,
    "start_time": "2022-03-30T07:52:39.531Z"
   },
   {
    "duration": 3,
    "start_time": "2022-03-30T07:52:39.610Z"
   },
   {
    "duration": 7,
    "start_time": "2022-03-30T07:52:39.615Z"
   },
   {
    "duration": 5,
    "start_time": "2022-03-30T07:52:39.625Z"
   },
   {
    "duration": 11,
    "start_time": "2022-03-30T07:52:39.631Z"
   },
   {
    "duration": 10,
    "start_time": "2022-03-30T07:52:39.644Z"
   },
   {
    "duration": 12,
    "start_time": "2022-03-30T07:52:39.656Z"
   },
   {
    "duration": 9,
    "start_time": "2022-03-30T07:52:39.669Z"
   },
   {
    "duration": 21,
    "start_time": "2022-03-30T07:52:39.680Z"
   },
   {
    "duration": 9,
    "start_time": "2022-03-30T07:52:39.703Z"
   },
   {
    "duration": 8,
    "start_time": "2022-03-30T07:52:39.713Z"
   },
   {
    "duration": 1120,
    "start_time": "2022-03-30T07:52:39.722Z"
   },
   {
    "duration": 7,
    "start_time": "2022-03-30T07:52:40.844Z"
   },
   {
    "duration": 6,
    "start_time": "2022-03-30T07:52:40.852Z"
   },
   {
    "duration": 1284,
    "start_time": "2022-03-30T07:52:40.860Z"
   },
   {
    "duration": 4,
    "start_time": "2022-03-30T07:52:42.146Z"
   },
   {
    "duration": 7,
    "start_time": "2022-03-30T07:52:42.151Z"
   },
   {
    "duration": 9,
    "start_time": "2022-03-30T07:52:42.160Z"
   },
   {
    "duration": 0,
    "start_time": "2022-03-30T07:52:42.170Z"
   },
   {
    "duration": 0,
    "start_time": "2022-03-30T07:52:42.172Z"
   },
   {
    "duration": 0,
    "start_time": "2022-03-30T07:52:42.201Z"
   },
   {
    "duration": 0,
    "start_time": "2022-03-30T07:52:42.202Z"
   },
   {
    "duration": 0,
    "start_time": "2022-03-30T07:52:42.203Z"
   },
   {
    "duration": 6,
    "start_time": "2022-03-30T07:56:16.244Z"
   },
   {
    "duration": 8,
    "start_time": "2022-03-30T07:56:17.645Z"
   },
   {
    "duration": 7,
    "start_time": "2022-03-30T07:56:28.060Z"
   },
   {
    "duration": 11,
    "start_time": "2022-03-30T07:56:29.054Z"
   },
   {
    "duration": 11,
    "start_time": "2022-03-30T07:57:04.406Z"
   },
   {
    "duration": 7,
    "start_time": "2022-03-30T07:57:33.365Z"
   },
   {
    "duration": 7,
    "start_time": "2022-03-30T07:57:57.446Z"
   },
   {
    "duration": 7,
    "start_time": "2022-03-30T07:57:58.331Z"
   },
   {
    "duration": 6,
    "start_time": "2022-03-30T07:58:14.620Z"
   },
   {
    "duration": 7,
    "start_time": "2022-03-30T07:58:24.213Z"
   },
   {
    "duration": 7,
    "start_time": "2022-03-30T07:59:32.719Z"
   },
   {
    "duration": 6,
    "start_time": "2022-03-30T07:59:33.603Z"
   },
   {
    "duration": 5,
    "start_time": "2022-03-30T07:59:54.963Z"
   },
   {
    "duration": 1199,
    "start_time": "2022-03-30T07:59:55.511Z"
   },
   {
    "duration": 7,
    "start_time": "2022-03-30T07:59:56.766Z"
   },
   {
    "duration": 6,
    "start_time": "2022-03-30T07:59:59.489Z"
   },
   {
    "duration": 7,
    "start_time": "2022-03-30T08:00:09.252Z"
   },
   {
    "duration": 4,
    "start_time": "2022-03-30T08:00:38.465Z"
   },
   {
    "duration": 1190,
    "start_time": "2022-03-30T08:00:39.117Z"
   },
   {
    "duration": 7,
    "start_time": "2022-03-30T08:00:42.576Z"
   },
   {
    "duration": 214,
    "start_time": "2022-03-30T08:00:43.139Z"
   },
   {
    "duration": 6,
    "start_time": "2022-03-30T08:00:52.291Z"
   },
   {
    "duration": 3,
    "start_time": "2022-03-30T08:16:04.491Z"
   },
   {
    "duration": 151,
    "start_time": "2022-03-30T08:16:04.496Z"
   },
   {
    "duration": 138,
    "start_time": "2022-03-30T08:16:04.649Z"
   },
   {
    "duration": 144,
    "start_time": "2022-03-30T08:16:04.789Z"
   },
   {
    "duration": 13,
    "start_time": "2022-03-30T08:16:04.935Z"
   },
   {
    "duration": 3,
    "start_time": "2022-03-30T08:16:04.950Z"
   },
   {
    "duration": 15,
    "start_time": "2022-03-30T08:16:04.955Z"
   },
   {
    "duration": 34,
    "start_time": "2022-03-30T08:16:04.972Z"
   },
   {
    "duration": 92,
    "start_time": "2022-03-30T08:16:05.011Z"
   },
   {
    "duration": 5,
    "start_time": "2022-03-30T08:16:05.106Z"
   },
   {
    "duration": 5,
    "start_time": "2022-03-30T08:16:05.113Z"
   },
   {
    "duration": 88,
    "start_time": "2022-03-30T08:16:05.120Z"
   },
   {
    "duration": 4,
    "start_time": "2022-03-30T08:16:05.210Z"
   },
   {
    "duration": 19,
    "start_time": "2022-03-30T08:16:05.215Z"
   },
   {
    "duration": 66,
    "start_time": "2022-03-30T08:16:05.236Z"
   },
   {
    "duration": 5,
    "start_time": "2022-03-30T08:16:05.305Z"
   },
   {
    "duration": 15,
    "start_time": "2022-03-30T08:16:05.402Z"
   },
   {
    "duration": 37,
    "start_time": "2022-03-30T08:16:05.419Z"
   },
   {
    "duration": 14,
    "start_time": "2022-03-30T08:16:05.458Z"
   },
   {
    "duration": 4,
    "start_time": "2022-03-30T08:16:05.473Z"
   },
   {
    "duration": 20,
    "start_time": "2022-03-30T08:16:05.479Z"
   },
   {
    "duration": 4,
    "start_time": "2022-03-30T08:16:05.500Z"
   },
   {
    "duration": 6,
    "start_time": "2022-03-30T08:16:05.505Z"
   },
   {
    "duration": 13,
    "start_time": "2022-03-30T08:16:05.516Z"
   },
   {
    "duration": 6,
    "start_time": "2022-03-30T08:16:05.532Z"
   },
   {
    "duration": 12,
    "start_time": "2022-03-30T08:16:05.539Z"
   },
   {
    "duration": 14,
    "start_time": "2022-03-30T08:16:05.553Z"
   },
   {
    "duration": 10,
    "start_time": "2022-03-30T08:16:05.569Z"
   },
   {
    "duration": 13,
    "start_time": "2022-03-30T08:16:05.581Z"
   },
   {
    "duration": 13,
    "start_time": "2022-03-30T08:16:05.596Z"
   },
   {
    "duration": 9,
    "start_time": "2022-03-30T08:16:05.610Z"
   },
   {
    "duration": 1255,
    "start_time": "2022-03-30T08:16:05.621Z"
   },
   {
    "duration": 7,
    "start_time": "2022-03-30T08:16:06.877Z"
   },
   {
    "duration": 19,
    "start_time": "2022-03-30T08:16:06.886Z"
   },
   {
    "duration": 6,
    "start_time": "2022-03-30T08:16:06.907Z"
   },
   {
    "duration": 1164,
    "start_time": "2022-03-30T08:16:06.914Z"
   },
   {
    "duration": 6,
    "start_time": "2022-03-30T08:16:08.080Z"
   },
   {
    "duration": 15,
    "start_time": "2022-03-30T08:16:08.087Z"
   },
   {
    "duration": 8,
    "start_time": "2022-03-30T08:16:08.103Z"
   },
   {
    "duration": 1139,
    "start_time": "2022-03-30T08:16:08.112Z"
   },
   {
    "duration": 6,
    "start_time": "2022-03-30T08:16:09.253Z"
   },
   {
    "duration": 7,
    "start_time": "2022-03-30T08:16:09.260Z"
   },
   {
    "duration": 1709,
    "start_time": "2022-03-30T08:42:05.494Z"
   },
   {
    "duration": 229,
    "start_time": "2022-03-30T08:42:07.206Z"
   },
   {
    "duration": 164,
    "start_time": "2022-03-30T08:42:07.437Z"
   },
   {
    "duration": 213,
    "start_time": "2022-03-30T08:42:07.603Z"
   },
   {
    "duration": 22,
    "start_time": "2022-03-30T08:42:07.819Z"
   },
   {
    "duration": 4,
    "start_time": "2022-03-30T08:42:07.843Z"
   },
   {
    "duration": 22,
    "start_time": "2022-03-30T08:42:07.849Z"
   },
   {
    "duration": 42,
    "start_time": "2022-03-30T08:42:07.873Z"
   },
   {
    "duration": 85,
    "start_time": "2022-03-30T08:42:07.917Z"
   },
   {
    "duration": 98,
    "start_time": "2022-03-30T08:42:08.005Z"
   },
   {
    "duration": 11,
    "start_time": "2022-03-30T08:42:08.105Z"
   },
   {
    "duration": 21,
    "start_time": "2022-03-30T08:42:08.118Z"
   },
   {
    "duration": 4,
    "start_time": "2022-03-30T08:42:08.141Z"
   },
   {
    "duration": 17,
    "start_time": "2022-03-30T08:42:08.149Z"
   },
   {
    "duration": 137,
    "start_time": "2022-03-30T08:42:08.168Z"
   },
   {
    "duration": 4,
    "start_time": "2022-03-30T08:42:08.307Z"
   },
   {
    "duration": 9,
    "start_time": "2022-03-30T08:42:08.313Z"
   },
   {
    "duration": 8,
    "start_time": "2022-03-30T08:42:08.324Z"
   },
   {
    "duration": 67,
    "start_time": "2022-03-30T08:42:08.334Z"
   },
   {
    "duration": 4,
    "start_time": "2022-03-30T08:42:08.403Z"
   },
   {
    "duration": 18,
    "start_time": "2022-03-30T08:42:08.410Z"
   },
   {
    "duration": 4,
    "start_time": "2022-03-30T08:42:08.430Z"
   },
   {
    "duration": 19,
    "start_time": "2022-03-30T08:42:08.436Z"
   },
   {
    "duration": 11,
    "start_time": "2022-03-30T08:42:08.457Z"
   },
   {
    "duration": 5,
    "start_time": "2022-03-30T08:42:08.470Z"
   },
   {
    "duration": 35,
    "start_time": "2022-03-30T08:42:08.477Z"
   },
   {
    "duration": 7,
    "start_time": "2022-03-30T08:42:08.514Z"
   },
   {
    "duration": 7,
    "start_time": "2022-03-30T08:42:08.523Z"
   },
   {
    "duration": 9,
    "start_time": "2022-03-30T08:42:08.532Z"
   },
   {
    "duration": 10,
    "start_time": "2022-03-30T08:42:08.543Z"
   },
   {
    "duration": 9,
    "start_time": "2022-03-30T08:42:08.555Z"
   },
   {
    "duration": 1284,
    "start_time": "2022-03-30T08:42:08.566Z"
   },
   {
    "duration": 9,
    "start_time": "2022-03-30T08:42:09.851Z"
   },
   {
    "duration": 11,
    "start_time": "2022-03-30T08:42:09.862Z"
   },
   {
    "duration": 10,
    "start_time": "2022-03-30T08:42:09.875Z"
   },
   {
    "duration": 1456,
    "start_time": "2022-03-30T08:42:09.902Z"
   },
   {
    "duration": 8,
    "start_time": "2022-03-30T08:42:11.361Z"
   },
   {
    "duration": 17,
    "start_time": "2022-03-30T08:42:11.372Z"
   },
   {
    "duration": 13,
    "start_time": "2022-03-30T08:42:11.402Z"
   },
   {
    "duration": 1316,
    "start_time": "2022-03-30T08:42:11.417Z"
   },
   {
    "duration": 8,
    "start_time": "2022-03-30T08:42:12.738Z"
   },
   {
    "duration": 8,
    "start_time": "2022-03-30T08:42:12.748Z"
   },
   {
    "duration": 4,
    "start_time": "2022-03-30T08:54:31.175Z"
   },
   {
    "duration": 282,
    "start_time": "2022-03-30T08:54:31.182Z"
   },
   {
    "duration": 150,
    "start_time": "2022-03-30T08:54:31.466Z"
   },
   {
    "duration": 160,
    "start_time": "2022-03-30T08:54:31.619Z"
   },
   {
    "duration": 25,
    "start_time": "2022-03-30T08:54:31.781Z"
   },
   {
    "duration": 4,
    "start_time": "2022-03-30T08:54:31.807Z"
   },
   {
    "duration": 16,
    "start_time": "2022-03-30T08:54:31.813Z"
   },
   {
    "duration": 78,
    "start_time": "2022-03-30T08:54:31.831Z"
   },
   {
    "duration": 89,
    "start_time": "2022-03-30T08:54:31.912Z"
   },
   {
    "duration": 10,
    "start_time": "2022-03-30T08:54:32.005Z"
   },
   {
    "duration": 8,
    "start_time": "2022-03-30T08:54:32.017Z"
   },
   {
    "duration": 24,
    "start_time": "2022-03-30T08:54:32.027Z"
   },
   {
    "duration": 18,
    "start_time": "2022-03-30T08:54:32.053Z"
   },
   {
    "duration": 29,
    "start_time": "2022-03-30T08:54:32.073Z"
   },
   {
    "duration": 102,
    "start_time": "2022-03-30T08:54:32.104Z"
   },
   {
    "duration": 5,
    "start_time": "2022-03-30T08:54:32.209Z"
   },
   {
    "duration": 93,
    "start_time": "2022-03-30T08:54:32.216Z"
   },
   {
    "duration": 10,
    "start_time": "2022-03-30T08:54:32.312Z"
   },
   {
    "duration": 17,
    "start_time": "2022-03-30T08:54:32.324Z"
   },
   {
    "duration": 9,
    "start_time": "2022-03-30T08:54:32.343Z"
   },
   {
    "duration": 18,
    "start_time": "2022-03-30T08:54:32.355Z"
   },
   {
    "duration": 25,
    "start_time": "2022-03-30T08:54:32.376Z"
   },
   {
    "duration": 24,
    "start_time": "2022-03-30T08:54:32.404Z"
   },
   {
    "duration": 111,
    "start_time": "2022-03-30T08:54:32.430Z"
   },
   {
    "duration": 0,
    "start_time": "2022-03-30T08:54:32.544Z"
   },
   {
    "duration": 0,
    "start_time": "2022-03-30T08:54:32.545Z"
   },
   {
    "duration": 0,
    "start_time": "2022-03-30T08:54:32.546Z"
   },
   {
    "duration": 0,
    "start_time": "2022-03-30T08:54:32.547Z"
   },
   {
    "duration": 0,
    "start_time": "2022-03-30T08:54:32.548Z"
   },
   {
    "duration": 0,
    "start_time": "2022-03-30T08:54:32.550Z"
   },
   {
    "duration": 0,
    "start_time": "2022-03-30T08:54:32.551Z"
   },
   {
    "duration": 0,
    "start_time": "2022-03-30T08:54:32.552Z"
   },
   {
    "duration": 0,
    "start_time": "2022-03-30T08:54:32.554Z"
   },
   {
    "duration": 0,
    "start_time": "2022-03-30T08:54:32.558Z"
   },
   {
    "duration": 0,
    "start_time": "2022-03-30T08:54:32.560Z"
   },
   {
    "duration": 0,
    "start_time": "2022-03-30T08:54:32.561Z"
   },
   {
    "duration": 0,
    "start_time": "2022-03-30T08:54:32.562Z"
   },
   {
    "duration": 0,
    "start_time": "2022-03-30T08:54:32.563Z"
   },
   {
    "duration": 0,
    "start_time": "2022-03-30T08:54:32.565Z"
   },
   {
    "duration": 0,
    "start_time": "2022-03-30T08:54:32.566Z"
   },
   {
    "duration": 0,
    "start_time": "2022-03-30T08:54:32.567Z"
   },
   {
    "duration": 0,
    "start_time": "2022-03-30T08:54:32.568Z"
   },
   {
    "duration": 4,
    "start_time": "2022-03-30T08:55:08.952Z"
   },
   {
    "duration": 173,
    "start_time": "2022-03-30T08:55:08.958Z"
   },
   {
    "duration": 151,
    "start_time": "2022-03-30T08:55:09.133Z"
   },
   {
    "duration": 158,
    "start_time": "2022-03-30T08:55:09.286Z"
   },
   {
    "duration": 15,
    "start_time": "2022-03-30T08:55:09.447Z"
   },
   {
    "duration": 4,
    "start_time": "2022-03-30T08:55:09.464Z"
   },
   {
    "duration": 35,
    "start_time": "2022-03-30T08:55:09.470Z"
   },
   {
    "duration": 14,
    "start_time": "2022-03-30T08:55:09.507Z"
   },
   {
    "duration": 79,
    "start_time": "2022-03-30T08:55:09.524Z"
   },
   {
    "duration": 10,
    "start_time": "2022-03-30T08:55:09.605Z"
   },
   {
    "duration": 6,
    "start_time": "2022-03-30T08:55:09.703Z"
   },
   {
    "duration": 19,
    "start_time": "2022-03-30T08:55:09.711Z"
   },
   {
    "duration": 4,
    "start_time": "2022-03-30T08:55:09.731Z"
   },
   {
    "duration": 16,
    "start_time": "2022-03-30T08:55:09.737Z"
   },
   {
    "duration": 50,
    "start_time": "2022-03-30T08:55:09.755Z"
   },
   {
    "duration": 3,
    "start_time": "2022-03-30T08:55:09.808Z"
   },
   {
    "duration": 91,
    "start_time": "2022-03-30T08:55:09.813Z"
   },
   {
    "duration": 11,
    "start_time": "2022-03-30T08:55:09.906Z"
   },
   {
    "duration": 22,
    "start_time": "2022-03-30T08:55:09.919Z"
   },
   {
    "duration": 59,
    "start_time": "2022-03-30T08:55:09.943Z"
   },
   {
    "duration": 17,
    "start_time": "2022-03-30T08:55:10.003Z"
   },
   {
    "duration": 3,
    "start_time": "2022-03-30T08:55:10.022Z"
   },
   {
    "duration": 11,
    "start_time": "2022-03-30T08:55:10.027Z"
   },
   {
    "duration": 11,
    "start_time": "2022-03-30T08:55:10.040Z"
   },
   {
    "duration": 4,
    "start_time": "2022-03-30T08:55:10.053Z"
   },
   {
    "duration": 8,
    "start_time": "2022-03-30T08:55:10.060Z"
   },
   {
    "duration": 35,
    "start_time": "2022-03-30T08:55:10.070Z"
   },
   {
    "duration": 6,
    "start_time": "2022-03-30T08:55:10.107Z"
   },
   {
    "duration": 5,
    "start_time": "2022-03-30T08:55:10.118Z"
   },
   {
    "duration": 10,
    "start_time": "2022-03-30T08:55:10.125Z"
   },
   {
    "duration": 8,
    "start_time": "2022-03-30T08:55:10.138Z"
   },
   {
    "duration": 1303,
    "start_time": "2022-03-30T08:55:10.148Z"
   },
   {
    "duration": 8,
    "start_time": "2022-03-30T08:55:11.452Z"
   },
   {
    "duration": 14,
    "start_time": "2022-03-30T08:55:11.462Z"
   },
   {
    "duration": 23,
    "start_time": "2022-03-30T08:55:11.478Z"
   },
   {
    "duration": 1305,
    "start_time": "2022-03-30T08:55:11.503Z"
   },
   {
    "duration": 7,
    "start_time": "2022-03-30T08:55:12.810Z"
   },
   {
    "duration": 13,
    "start_time": "2022-03-30T08:55:12.819Z"
   },
   {
    "duration": 7,
    "start_time": "2022-03-30T08:55:12.835Z"
   },
   {
    "duration": 1295,
    "start_time": "2022-03-30T08:55:12.844Z"
   },
   {
    "duration": 7,
    "start_time": "2022-03-30T08:55:14.141Z"
   },
   {
    "duration": 10,
    "start_time": "2022-03-30T08:55:14.150Z"
   },
   {
    "duration": 5,
    "start_time": "2022-03-30T08:56:01.616Z"
   },
   {
    "duration": 4,
    "start_time": "2022-03-30T09:02:08.409Z"
   },
   {
    "duration": 238,
    "start_time": "2022-03-30T09:02:08.416Z"
   },
   {
    "duration": 167,
    "start_time": "2022-03-30T09:02:08.656Z"
   },
   {
    "duration": 220,
    "start_time": "2022-03-30T09:02:08.826Z"
   },
   {
    "duration": 18,
    "start_time": "2022-03-30T09:02:09.048Z"
   },
   {
    "duration": 9,
    "start_time": "2022-03-30T09:02:09.068Z"
   },
   {
    "duration": 14,
    "start_time": "2022-03-30T09:02:09.102Z"
   },
   {
    "duration": 11,
    "start_time": "2022-03-30T09:02:09.118Z"
   },
   {
    "duration": 79,
    "start_time": "2022-03-30T09:02:09.131Z"
   },
   {
    "duration": 98,
    "start_time": "2022-03-30T09:02:09.214Z"
   },
   {
    "duration": 15,
    "start_time": "2022-03-30T09:02:09.315Z"
   },
   {
    "duration": 23,
    "start_time": "2022-03-30T09:02:09.333Z"
   },
   {
    "duration": 7,
    "start_time": "2022-03-30T09:02:09.360Z"
   },
   {
    "duration": 37,
    "start_time": "2022-03-30T09:02:09.369Z"
   },
   {
    "duration": 108,
    "start_time": "2022-03-30T09:02:09.409Z"
   },
   {
    "duration": 91,
    "start_time": "2022-03-30T09:02:09.519Z"
   },
   {
    "duration": 24,
    "start_time": "2022-03-30T09:02:09.612Z"
   },
   {
    "duration": 31,
    "start_time": "2022-03-30T09:02:09.639Z"
   },
   {
    "duration": 27,
    "start_time": "2022-03-30T09:02:09.672Z"
   },
   {
    "duration": 10,
    "start_time": "2022-03-30T09:02:09.701Z"
   },
   {
    "duration": 30,
    "start_time": "2022-03-30T09:02:09.713Z"
   },
   {
    "duration": 6,
    "start_time": "2022-03-30T09:02:09.746Z"
   },
   {
    "duration": 20,
    "start_time": "2022-03-30T09:02:09.754Z"
   },
   {
    "duration": 20,
    "start_time": "2022-03-30T09:02:09.776Z"
   },
   {
    "duration": 20,
    "start_time": "2022-03-30T09:02:09.797Z"
   },
   {
    "duration": 24,
    "start_time": "2022-03-30T09:02:09.820Z"
   },
   {
    "duration": 22,
    "start_time": "2022-03-30T09:02:09.846Z"
   },
   {
    "duration": 7,
    "start_time": "2022-03-30T09:02:09.874Z"
   },
   {
    "duration": 14,
    "start_time": "2022-03-30T09:02:09.886Z"
   },
   {
    "duration": 15,
    "start_time": "2022-03-30T09:02:09.902Z"
   },
   {
    "duration": 16,
    "start_time": "2022-03-30T09:02:09.919Z"
   },
   {
    "duration": 1338,
    "start_time": "2022-03-30T09:02:09.937Z"
   },
   {
    "duration": 7,
    "start_time": "2022-03-30T09:02:11.278Z"
   },
   {
    "duration": 8,
    "start_time": "2022-03-30T09:02:11.301Z"
   },
   {
    "duration": 6,
    "start_time": "2022-03-30T09:02:11.311Z"
   },
   {
    "duration": 1558,
    "start_time": "2022-03-30T09:02:11.319Z"
   },
   {
    "duration": 8,
    "start_time": "2022-03-30T09:02:12.879Z"
   },
   {
    "duration": 8,
    "start_time": "2022-03-30T09:02:12.902Z"
   },
   {
    "duration": 8,
    "start_time": "2022-03-30T09:02:12.912Z"
   },
   {
    "duration": 1369,
    "start_time": "2022-03-30T09:02:12.922Z"
   },
   {
    "duration": 12,
    "start_time": "2022-03-30T09:02:14.294Z"
   },
   {
    "duration": 25,
    "start_time": "2022-03-30T09:02:14.308Z"
   },
   {
    "duration": 4,
    "start_time": "2022-03-30T09:02:56.974Z"
   },
   {
    "duration": 173,
    "start_time": "2022-03-30T09:02:56.980Z"
   },
   {
    "duration": 152,
    "start_time": "2022-03-30T09:02:57.155Z"
   },
   {
    "duration": 148,
    "start_time": "2022-03-30T09:02:57.310Z"
   },
   {
    "duration": 15,
    "start_time": "2022-03-30T09:02:57.460Z"
   },
   {
    "duration": 24,
    "start_time": "2022-03-30T09:02:57.477Z"
   },
   {
    "duration": 13,
    "start_time": "2022-03-30T09:02:57.504Z"
   },
   {
    "duration": 89,
    "start_time": "2022-03-30T09:02:57.520Z"
   },
   {
    "duration": 4,
    "start_time": "2022-03-30T09:02:57.700Z"
   },
   {
    "duration": 11,
    "start_time": "2022-03-30T09:02:57.707Z"
   },
   {
    "duration": 9,
    "start_time": "2022-03-30T09:02:57.721Z"
   },
   {
    "duration": 17,
    "start_time": "2022-03-30T09:02:57.732Z"
   },
   {
    "duration": 4,
    "start_time": "2022-03-30T09:02:57.751Z"
   },
   {
    "duration": 14,
    "start_time": "2022-03-30T09:02:57.757Z"
   },
   {
    "duration": 43,
    "start_time": "2022-03-30T09:02:57.772Z"
   },
   {
    "duration": 13,
    "start_time": "2022-03-30T09:02:57.902Z"
   },
   {
    "duration": 4,
    "start_time": "2022-03-30T09:02:58.002Z"
   },
   {
    "duration": 10,
    "start_time": "2022-03-30T09:02:58.008Z"
   },
   {
    "duration": 20,
    "start_time": "2022-03-30T09:02:58.020Z"
   },
   {
    "duration": 3,
    "start_time": "2022-03-30T09:02:58.042Z"
   },
   {
    "duration": 14,
    "start_time": "2022-03-30T09:02:58.047Z"
   },
   {
    "duration": 42,
    "start_time": "2022-03-30T09:02:58.063Z"
   },
   {
    "duration": 8,
    "start_time": "2022-03-30T09:02:58.107Z"
   },
   {
    "duration": 9,
    "start_time": "2022-03-30T09:02:58.119Z"
   },
   {
    "duration": 4,
    "start_time": "2022-03-30T09:02:58.130Z"
   },
   {
    "duration": 32,
    "start_time": "2022-03-30T09:02:58.136Z"
   },
   {
    "duration": 10,
    "start_time": "2022-03-30T09:02:58.170Z"
   },
   {
    "duration": 8,
    "start_time": "2022-03-30T09:02:58.182Z"
   },
   {
    "duration": 5,
    "start_time": "2022-03-30T09:02:58.200Z"
   },
   {
    "duration": 17,
    "start_time": "2022-03-30T09:02:58.207Z"
   },
   {
    "duration": 8,
    "start_time": "2022-03-30T09:02:58.226Z"
   },
   {
    "duration": 1327,
    "start_time": "2022-03-30T09:02:58.236Z"
   },
   {
    "duration": 8,
    "start_time": "2022-03-30T09:02:59.565Z"
   },
   {
    "duration": 27,
    "start_time": "2022-03-30T09:02:59.576Z"
   },
   {
    "duration": 6,
    "start_time": "2022-03-30T09:02:59.605Z"
   },
   {
    "duration": 1281,
    "start_time": "2022-03-30T09:02:59.613Z"
   },
   {
    "duration": 9,
    "start_time": "2022-03-30T09:03:00.896Z"
   },
   {
    "duration": 13,
    "start_time": "2022-03-30T09:03:00.908Z"
   },
   {
    "duration": 7,
    "start_time": "2022-03-30T09:03:00.923Z"
   },
   {
    "duration": 1324,
    "start_time": "2022-03-30T09:03:00.932Z"
   },
   {
    "duration": 9,
    "start_time": "2022-03-30T09:03:02.257Z"
   },
   {
    "duration": 12,
    "start_time": "2022-03-30T09:03:02.268Z"
   },
   {
    "duration": 8,
    "start_time": "2022-03-30T09:30:10.107Z"
   },
   {
    "duration": 7,
    "start_time": "2022-03-30T09:30:42.490Z"
   },
   {
    "duration": 7,
    "start_time": "2022-03-30T09:31:31.893Z"
   },
   {
    "duration": 8,
    "start_time": "2022-03-30T09:36:33.215Z"
   },
   {
    "duration": 10,
    "start_time": "2022-03-30T09:36:42.886Z"
   },
   {
    "duration": 4,
    "start_time": "2022-03-30T09:37:20.319Z"
   },
   {
    "duration": 10,
    "start_time": "2022-03-30T09:37:21.111Z"
   },
   {
    "duration": 4,
    "start_time": "2022-03-30T09:37:30.169Z"
   },
   {
    "duration": 8,
    "start_time": "2022-03-30T09:37:30.731Z"
   },
   {
    "duration": 4,
    "start_time": "2022-03-30T09:37:39.912Z"
   },
   {
    "duration": 11,
    "start_time": "2022-03-30T09:37:40.384Z"
   },
   {
    "duration": 4,
    "start_time": "2022-03-30T09:38:00.707Z"
   },
   {
    "duration": 9,
    "start_time": "2022-03-30T09:38:01.085Z"
   },
   {
    "duration": 5,
    "start_time": "2022-03-30T09:38:06.519Z"
   },
   {
    "duration": 12,
    "start_time": "2022-03-30T09:38:07.048Z"
   },
   {
    "duration": 4,
    "start_time": "2022-03-30T09:38:13.873Z"
   },
   {
    "duration": 11,
    "start_time": "2022-03-30T09:38:14.335Z"
   },
   {
    "duration": 3,
    "start_time": "2022-03-30T09:38:58.504Z"
   },
   {
    "duration": 167,
    "start_time": "2022-03-30T09:38:58.509Z"
   },
   {
    "duration": 165,
    "start_time": "2022-03-30T09:38:58.679Z"
   },
   {
    "duration": 155,
    "start_time": "2022-03-30T09:38:58.846Z"
   },
   {
    "duration": 15,
    "start_time": "2022-03-30T09:38:59.003Z"
   },
   {
    "duration": 4,
    "start_time": "2022-03-30T09:38:59.020Z"
   },
   {
    "duration": 22,
    "start_time": "2022-03-30T09:38:59.026Z"
   },
   {
    "duration": 60,
    "start_time": "2022-03-30T09:38:59.050Z"
   },
   {
    "duration": 95,
    "start_time": "2022-03-30T09:38:59.113Z"
   },
   {
    "duration": 6,
    "start_time": "2022-03-30T09:38:59.210Z"
   },
   {
    "duration": 6,
    "start_time": "2022-03-30T09:38:59.220Z"
   },
   {
    "duration": 17,
    "start_time": "2022-03-30T09:38:59.228Z"
   },
   {
    "duration": 4,
    "start_time": "2022-03-30T09:38:59.247Z"
   },
   {
    "duration": 21,
    "start_time": "2022-03-30T09:38:59.253Z"
   },
   {
    "duration": 14,
    "start_time": "2022-03-30T09:38:59.302Z"
   },
   {
    "duration": 12,
    "start_time": "2022-03-30T09:38:59.403Z"
   },
   {
    "duration": 4,
    "start_time": "2022-03-30T09:38:59.503Z"
   },
   {
    "duration": 7,
    "start_time": "2022-03-30T09:38:59.509Z"
   },
   {
    "duration": 16,
    "start_time": "2022-03-30T09:38:59.518Z"
   },
   {
    "duration": 3,
    "start_time": "2022-03-30T09:38:59.536Z"
   },
   {
    "duration": 20,
    "start_time": "2022-03-30T09:38:59.541Z"
   },
   {
    "duration": 38,
    "start_time": "2022-03-30T09:38:59.563Z"
   },
   {
    "duration": 8,
    "start_time": "2022-03-30T09:38:59.604Z"
   },
   {
    "duration": 6,
    "start_time": "2022-03-30T09:38:59.614Z"
   },
   {
    "duration": 4,
    "start_time": "2022-03-30T09:38:59.622Z"
   },
   {
    "duration": 9,
    "start_time": "2022-03-30T09:38:59.629Z"
   },
   {
    "duration": 8,
    "start_time": "2022-03-30T09:38:59.640Z"
   },
   {
    "duration": 20,
    "start_time": "2022-03-30T09:38:59.650Z"
   },
   {
    "duration": 28,
    "start_time": "2022-03-30T09:38:59.674Z"
   },
   {
    "duration": 7,
    "start_time": "2022-03-30T09:38:59.704Z"
   },
   {
    "duration": 13,
    "start_time": "2022-03-30T09:38:59.713Z"
   },
   {
    "duration": 1249,
    "start_time": "2022-03-30T09:38:59.728Z"
   },
   {
    "duration": 8,
    "start_time": "2022-03-30T09:39:00.979Z"
   },
   {
    "duration": 20,
    "start_time": "2022-03-30T09:39:00.989Z"
   },
   {
    "duration": 17,
    "start_time": "2022-03-30T09:39:01.011Z"
   },
   {
    "duration": 1302,
    "start_time": "2022-03-30T09:39:01.030Z"
   },
   {
    "duration": 8,
    "start_time": "2022-03-30T09:39:02.334Z"
   },
   {
    "duration": 10,
    "start_time": "2022-03-30T09:39:02.344Z"
   },
   {
    "duration": 9,
    "start_time": "2022-03-30T09:39:02.356Z"
   },
   {
    "duration": 2003,
    "start_time": "2022-03-30T09:39:02.367Z"
   },
   {
    "duration": 9,
    "start_time": "2022-03-30T09:39:04.372Z"
   },
   {
    "duration": 20,
    "start_time": "2022-03-30T09:39:04.383Z"
   },
   {
    "duration": 4,
    "start_time": "2022-03-30T09:47:19.366Z"
   },
   {
    "duration": 10,
    "start_time": "2022-03-30T09:48:03.768Z"
   },
   {
    "duration": 3,
    "start_time": "2022-03-30T09:48:29.077Z"
   },
   {
    "duration": 9,
    "start_time": "2022-03-30T09:48:30.212Z"
   },
   {
    "duration": 6,
    "start_time": "2022-03-30T09:48:34.630Z"
   },
   {
    "duration": 10,
    "start_time": "2022-03-30T09:48:34.992Z"
   },
   {
    "duration": 5,
    "start_time": "2022-03-30T09:48:43.969Z"
   },
   {
    "duration": 9,
    "start_time": "2022-03-30T09:48:44.412Z"
   },
   {
    "duration": 3,
    "start_time": "2022-03-30T09:48:51.593Z"
   },
   {
    "duration": 4,
    "start_time": "2022-03-30T09:53:58.592Z"
   },
   {
    "duration": 160,
    "start_time": "2022-03-30T09:53:58.598Z"
   },
   {
    "duration": 171,
    "start_time": "2022-03-30T09:53:58.760Z"
   },
   {
    "duration": 161,
    "start_time": "2022-03-30T09:53:58.933Z"
   },
   {
    "duration": 15,
    "start_time": "2022-03-30T09:53:59.102Z"
   },
   {
    "duration": 3,
    "start_time": "2022-03-30T09:53:59.121Z"
   },
   {
    "duration": 15,
    "start_time": "2022-03-30T09:53:59.126Z"
   },
   {
    "duration": 67,
    "start_time": "2022-03-30T09:53:59.143Z"
   },
   {
    "duration": 93,
    "start_time": "2022-03-30T09:53:59.212Z"
   },
   {
    "duration": 11,
    "start_time": "2022-03-30T09:53:59.307Z"
   },
   {
    "duration": 12,
    "start_time": "2022-03-30T09:53:59.322Z"
   },
   {
    "duration": 73,
    "start_time": "2022-03-30T09:53:59.336Z"
   },
   {
    "duration": 4,
    "start_time": "2022-03-30T09:53:59.411Z"
   },
   {
    "duration": 18,
    "start_time": "2022-03-30T09:53:59.416Z"
   },
   {
    "duration": 7,
    "start_time": "2022-03-30T09:53:59.436Z"
   },
   {
    "duration": 67,
    "start_time": "2022-03-30T09:53:59.445Z"
   },
   {
    "duration": 6,
    "start_time": "2022-03-30T09:53:59.602Z"
   },
   {
    "duration": 5,
    "start_time": "2022-03-30T09:53:59.610Z"
   },
   {
    "duration": 18,
    "start_time": "2022-03-30T09:53:59.617Z"
   },
   {
    "duration": 4,
    "start_time": "2022-03-30T09:53:59.637Z"
   },
   {
    "duration": 17,
    "start_time": "2022-03-30T09:53:59.643Z"
   },
   {
    "duration": 6,
    "start_time": "2022-03-30T09:53:59.700Z"
   },
   {
    "duration": 93,
    "start_time": "2022-03-30T09:53:59.709Z"
   },
   {
    "duration": 98,
    "start_time": "2022-03-30T09:53:59.805Z"
   },
   {
    "duration": 9,
    "start_time": "2022-03-30T09:53:59.905Z"
   },
   {
    "duration": 5,
    "start_time": "2022-03-30T09:53:59.916Z"
   },
   {
    "duration": 6,
    "start_time": "2022-03-30T09:53:59.922Z"
   },
   {
    "duration": 8,
    "start_time": "2022-03-30T09:53:59.930Z"
   },
   {
    "duration": 4,
    "start_time": "2022-03-30T09:53:59.942Z"
   },
   {
    "duration": 10,
    "start_time": "2022-03-30T09:53:59.948Z"
   },
   {
    "duration": 10,
    "start_time": "2022-03-30T09:53:59.961Z"
   },
   {
    "duration": 6,
    "start_time": "2022-03-30T09:54:00.002Z"
   },
   {
    "duration": 2094,
    "start_time": "2022-03-30T09:54:00.010Z"
   },
   {
    "duration": 11,
    "start_time": "2022-03-30T09:54:02.107Z"
   },
   {
    "duration": 29,
    "start_time": "2022-03-30T09:54:02.120Z"
   },
   {
    "duration": 8,
    "start_time": "2022-03-30T09:54:02.151Z"
   },
   {
    "duration": 1394,
    "start_time": "2022-03-30T09:54:02.161Z"
   },
   {
    "duration": 7,
    "start_time": "2022-03-30T09:54:03.558Z"
   },
   {
    "duration": 8,
    "start_time": "2022-03-30T09:54:03.568Z"
   },
   {
    "duration": 26,
    "start_time": "2022-03-30T09:54:03.577Z"
   },
   {
    "duration": 1377,
    "start_time": "2022-03-30T09:54:03.605Z"
   },
   {
    "duration": 18,
    "start_time": "2022-03-30T09:54:04.984Z"
   },
   {
    "duration": 12,
    "start_time": "2022-03-30T09:54:05.005Z"
   },
   {
    "duration": 56188,
    "start_time": "2022-03-30T11:13:02.492Z"
   },
   {
    "duration": 199,
    "start_time": "2022-03-30T11:13:58.682Z"
   },
   {
    "duration": 183,
    "start_time": "2022-03-30T11:13:58.884Z"
   },
   {
    "duration": 175,
    "start_time": "2022-03-30T11:13:59.070Z"
   },
   {
    "duration": 37,
    "start_time": "2022-03-30T11:13:59.248Z"
   },
   {
    "duration": 5,
    "start_time": "2022-03-30T11:13:59.288Z"
   },
   {
    "duration": 27,
    "start_time": "2022-03-30T11:13:59.296Z"
   },
   {
    "duration": 51,
    "start_time": "2022-03-30T11:13:59.325Z"
   },
   {
    "duration": 5,
    "start_time": "2022-03-30T11:13:59.468Z"
   },
   {
    "duration": 8,
    "start_time": "2022-03-30T11:13:59.478Z"
   },
   {
    "duration": 8,
    "start_time": "2022-03-30T11:13:59.488Z"
   },
   {
    "duration": 20,
    "start_time": "2022-03-30T11:13:59.499Z"
   },
   {
    "duration": 46,
    "start_time": "2022-03-30T11:13:59.522Z"
   },
   {
    "duration": 17,
    "start_time": "2022-03-30T11:13:59.570Z"
   },
   {
    "duration": 78,
    "start_time": "2022-03-30T11:13:59.590Z"
   },
   {
    "duration": 97,
    "start_time": "2022-03-30T11:13:59.671Z"
   },
   {
    "duration": 7,
    "start_time": "2022-03-30T11:13:59.770Z"
   },
   {
    "duration": 8,
    "start_time": "2022-03-30T11:13:59.779Z"
   },
   {
    "duration": 21,
    "start_time": "2022-03-30T11:13:59.789Z"
   },
   {
    "duration": 5,
    "start_time": "2022-03-30T11:13:59.813Z"
   },
   {
    "duration": 55,
    "start_time": "2022-03-30T11:13:59.820Z"
   },
   {
    "duration": 15,
    "start_time": "2022-03-30T11:13:59.877Z"
   },
   {
    "duration": 77,
    "start_time": "2022-03-30T11:13:59.894Z"
   },
   {
    "duration": 95,
    "start_time": "2022-03-30T11:13:59.975Z"
   },
   {
    "duration": 12,
    "start_time": "2022-03-30T11:14:00.073Z"
   },
   {
    "duration": 7,
    "start_time": "2022-03-30T11:14:00.088Z"
   },
   {
    "duration": 17,
    "start_time": "2022-03-30T11:14:00.098Z"
   },
   {
    "duration": 10,
    "start_time": "2022-03-30T11:14:00.122Z"
   },
   {
    "duration": 37,
    "start_time": "2022-03-30T11:14:00.135Z"
   },
   {
    "duration": 11,
    "start_time": "2022-03-30T11:14:00.175Z"
   },
   {
    "duration": 11,
    "start_time": "2022-03-30T11:14:00.190Z"
   },
   {
    "duration": 10,
    "start_time": "2022-03-30T11:14:00.204Z"
   },
   {
    "duration": 2307,
    "start_time": "2022-03-30T11:14:00.217Z"
   },
   {
    "duration": 10,
    "start_time": "2022-03-30T11:14:02.526Z"
   },
   {
    "duration": 33,
    "start_time": "2022-03-30T11:14:02.539Z"
   },
   {
    "duration": 18,
    "start_time": "2022-03-30T11:14:02.574Z"
   },
   {
    "duration": 1976,
    "start_time": "2022-03-30T11:14:02.595Z"
   },
   {
    "duration": 9,
    "start_time": "2022-03-30T11:14:04.574Z"
   },
   {
    "duration": 18,
    "start_time": "2022-03-30T11:14:04.585Z"
   },
   {
    "duration": 10,
    "start_time": "2022-03-30T11:15:21.302Z"
   }
  ],
  "kernelspec": {
   "display_name": "Python 3 (ipykernel)",
   "language": "python",
   "name": "python3"
  },
  "language_info": {
   "codemirror_mode": {
    "name": "ipython",
    "version": 3
   },
   "file_extension": ".py",
   "mimetype": "text/x-python",
   "name": "python",
   "nbconvert_exporter": "python",
   "pygments_lexer": "ipython3",
   "version": "3.9.12"
  },
  "toc": {
   "base_numbering": 1,
   "nav_menu": {},
   "number_sections": true,
   "sideBar": true,
   "skip_h1_title": true,
   "title_cell": "Table of Contents",
   "title_sidebar": "Contents",
   "toc_cell": false,
   "toc_position": {},
   "toc_section_display": true,
   "toc_window_display": true
  }
 },
 "nbformat": 4,
 "nbformat_minor": 2
}
