{
 "cells": [
  {
   "cell_type": "markdown",
   "metadata": {},
   "source": [
    "# Исследование закономерностей, определяющих успешность игры "
   ]
  },
  {
   "cell_type": "markdown",
   "metadata": {},
   "source": [
    "Заказчик — международный магазин компьютерных игр. \n",
    "\n",
    "Нужно выявить определяющие успешность игры закономерности. \n",
    "\n",
    "Входные данные из открытых источников - доступны исторические данные о продажах игр, оценки пользователей и экспертов, жанры и платформы до 2016 года.\n",
    "\n",
    "Результаты исследования будут учтены при планировании рекламных кампаний."
   ]
  },
  {
   "cell_type": "markdown",
   "metadata": {},
   "source": [
    "В качестве исходных данных представлены данные до 2016 года.\n",
    "\n",
    "Описание данных:\n",
    "\n",
    "Name — название игры\n",
    "\n",
    "Platform — платформа\n",
    "\n",
    "Year_of_Release — год выпуска\n",
    "\n",
    "Genre — жанр игры\n",
    "\n",
    "NA_sales — продажи в Северной Америке (миллионы проданных копий)\n",
    "\n",
    "EU_sales — продажи в Европе (миллионы проданных копий)\n",
    "\n",
    "JP_sales — продажи в Японии (миллионы проданных копий)\n",
    "\n",
    "Other_sales — продажи в других странах (миллионы проданных копий)\n",
    "\n",
    "Critic_Score — оценка критиков (максимум 100)\n",
    "\n",
    "User_Score — оценка пользователей (максимум 10)\n",
    "\n",
    "Rating — рейтинг от организации ESRB (англ. Entertainment Software Rating Board). Эта ассоциация определяет рейтинг компьютерных игр и присваивает им подходящую возрастную категорию."
   ]
  },
  {
   "cell_type": "markdown",
   "metadata": {},
   "source": [
    "## Исследование данных"
   ]
  },
  {
   "cell_type": "code",
   "execution_count": 2,
   "metadata": {},
   "outputs": [],
   "source": [
    "import pandas as pd\n",
    "import matplotlib.pyplot as plt\n",
    "import numpy as np\n",
    "import seaborn as sns\n",
    "from scipy import stats as st"
   ]
  },
  {
   "cell_type": "code",
   "execution_count": 3,
   "metadata": {},
   "outputs": [
    {
     "data": {
      "text/html": [
       "<div>\n",
       "<style scoped>\n",
       "    .dataframe tbody tr th:only-of-type {\n",
       "        vertical-align: middle;\n",
       "    }\n",
       "\n",
       "    .dataframe tbody tr th {\n",
       "        vertical-align: top;\n",
       "    }\n",
       "\n",
       "    .dataframe thead th {\n",
       "        text-align: right;\n",
       "    }\n",
       "</style>\n",
       "<table border=\"1\" class=\"dataframe\">\n",
       "  <thead>\n",
       "    <tr style=\"text-align: right;\">\n",
       "      <th></th>\n",
       "      <th>Name</th>\n",
       "      <th>Platform</th>\n",
       "      <th>Year_of_Release</th>\n",
       "      <th>Genre</th>\n",
       "      <th>NA_sales</th>\n",
       "      <th>EU_sales</th>\n",
       "      <th>JP_sales</th>\n",
       "      <th>Other_sales</th>\n",
       "      <th>Critic_Score</th>\n",
       "      <th>User_Score</th>\n",
       "      <th>Rating</th>\n",
       "    </tr>\n",
       "  </thead>\n",
       "  <tbody>\n",
       "    <tr>\n",
       "      <th>0</th>\n",
       "      <td>Wii Sports</td>\n",
       "      <td>Wii</td>\n",
       "      <td>2006.0</td>\n",
       "      <td>Sports</td>\n",
       "      <td>41.36</td>\n",
       "      <td>28.96</td>\n",
       "      <td>3.77</td>\n",
       "      <td>8.45</td>\n",
       "      <td>76.0</td>\n",
       "      <td>8</td>\n",
       "      <td>E</td>\n",
       "    </tr>\n",
       "    <tr>\n",
       "      <th>1</th>\n",
       "      <td>Super Mario Bros.</td>\n",
       "      <td>NES</td>\n",
       "      <td>1985.0</td>\n",
       "      <td>Platform</td>\n",
       "      <td>29.08</td>\n",
       "      <td>3.58</td>\n",
       "      <td>6.81</td>\n",
       "      <td>0.77</td>\n",
       "      <td>NaN</td>\n",
       "      <td>NaN</td>\n",
       "      <td>NaN</td>\n",
       "    </tr>\n",
       "    <tr>\n",
       "      <th>2</th>\n",
       "      <td>Mario Kart Wii</td>\n",
       "      <td>Wii</td>\n",
       "      <td>2008.0</td>\n",
       "      <td>Racing</td>\n",
       "      <td>15.68</td>\n",
       "      <td>12.76</td>\n",
       "      <td>3.79</td>\n",
       "      <td>3.29</td>\n",
       "      <td>82.0</td>\n",
       "      <td>8.3</td>\n",
       "      <td>E</td>\n",
       "    </tr>\n",
       "    <tr>\n",
       "      <th>3</th>\n",
       "      <td>Wii Sports Resort</td>\n",
       "      <td>Wii</td>\n",
       "      <td>2009.0</td>\n",
       "      <td>Sports</td>\n",
       "      <td>15.61</td>\n",
       "      <td>10.93</td>\n",
       "      <td>3.28</td>\n",
       "      <td>2.95</td>\n",
       "      <td>80.0</td>\n",
       "      <td>8</td>\n",
       "      <td>E</td>\n",
       "    </tr>\n",
       "    <tr>\n",
       "      <th>4</th>\n",
       "      <td>Pokemon Red/Pokemon Blue</td>\n",
       "      <td>GB</td>\n",
       "      <td>1996.0</td>\n",
       "      <td>Role-Playing</td>\n",
       "      <td>11.27</td>\n",
       "      <td>8.89</td>\n",
       "      <td>10.22</td>\n",
       "      <td>1.00</td>\n",
       "      <td>NaN</td>\n",
       "      <td>NaN</td>\n",
       "      <td>NaN</td>\n",
       "    </tr>\n",
       "    <tr>\n",
       "      <th>5</th>\n",
       "      <td>Tetris</td>\n",
       "      <td>GB</td>\n",
       "      <td>1989.0</td>\n",
       "      <td>Puzzle</td>\n",
       "      <td>23.20</td>\n",
       "      <td>2.26</td>\n",
       "      <td>4.22</td>\n",
       "      <td>0.58</td>\n",
       "      <td>NaN</td>\n",
       "      <td>NaN</td>\n",
       "      <td>NaN</td>\n",
       "    </tr>\n",
       "    <tr>\n",
       "      <th>6</th>\n",
       "      <td>New Super Mario Bros.</td>\n",
       "      <td>DS</td>\n",
       "      <td>2006.0</td>\n",
       "      <td>Platform</td>\n",
       "      <td>11.28</td>\n",
       "      <td>9.14</td>\n",
       "      <td>6.50</td>\n",
       "      <td>2.88</td>\n",
       "      <td>89.0</td>\n",
       "      <td>8.5</td>\n",
       "      <td>E</td>\n",
       "    </tr>\n",
       "    <tr>\n",
       "      <th>7</th>\n",
       "      <td>Wii Play</td>\n",
       "      <td>Wii</td>\n",
       "      <td>2006.0</td>\n",
       "      <td>Misc</td>\n",
       "      <td>13.96</td>\n",
       "      <td>9.18</td>\n",
       "      <td>2.93</td>\n",
       "      <td>2.84</td>\n",
       "      <td>58.0</td>\n",
       "      <td>6.6</td>\n",
       "      <td>E</td>\n",
       "    </tr>\n",
       "    <tr>\n",
       "      <th>8</th>\n",
       "      <td>New Super Mario Bros. Wii</td>\n",
       "      <td>Wii</td>\n",
       "      <td>2009.0</td>\n",
       "      <td>Platform</td>\n",
       "      <td>14.44</td>\n",
       "      <td>6.94</td>\n",
       "      <td>4.70</td>\n",
       "      <td>2.24</td>\n",
       "      <td>87.0</td>\n",
       "      <td>8.4</td>\n",
       "      <td>E</td>\n",
       "    </tr>\n",
       "    <tr>\n",
       "      <th>9</th>\n",
       "      <td>Duck Hunt</td>\n",
       "      <td>NES</td>\n",
       "      <td>1984.0</td>\n",
       "      <td>Shooter</td>\n",
       "      <td>26.93</td>\n",
       "      <td>0.63</td>\n",
       "      <td>0.28</td>\n",
       "      <td>0.47</td>\n",
       "      <td>NaN</td>\n",
       "      <td>NaN</td>\n",
       "      <td>NaN</td>\n",
       "    </tr>\n",
       "  </tbody>\n",
       "</table>\n",
       "</div>"
      ],
      "text/plain": [
       "                        Name Platform  Year_of_Release         Genre  \\\n",
       "0                 Wii Sports      Wii           2006.0        Sports   \n",
       "1          Super Mario Bros.      NES           1985.0      Platform   \n",
       "2             Mario Kart Wii      Wii           2008.0        Racing   \n",
       "3          Wii Sports Resort      Wii           2009.0        Sports   \n",
       "4   Pokemon Red/Pokemon Blue       GB           1996.0  Role-Playing   \n",
       "5                     Tetris       GB           1989.0        Puzzle   \n",
       "6      New Super Mario Bros.       DS           2006.0      Platform   \n",
       "7                   Wii Play      Wii           2006.0          Misc   \n",
       "8  New Super Mario Bros. Wii      Wii           2009.0      Platform   \n",
       "9                  Duck Hunt      NES           1984.0       Shooter   \n",
       "\n",
       "   NA_sales  EU_sales  JP_sales  Other_sales  Critic_Score User_Score Rating  \n",
       "0     41.36     28.96      3.77         8.45          76.0          8      E  \n",
       "1     29.08      3.58      6.81         0.77           NaN        NaN    NaN  \n",
       "2     15.68     12.76      3.79         3.29          82.0        8.3      E  \n",
       "3     15.61     10.93      3.28         2.95          80.0          8      E  \n",
       "4     11.27      8.89     10.22         1.00           NaN        NaN    NaN  \n",
       "5     23.20      2.26      4.22         0.58           NaN        NaN    NaN  \n",
       "6     11.28      9.14      6.50         2.88          89.0        8.5      E  \n",
       "7     13.96      9.18      2.93         2.84          58.0        6.6      E  \n",
       "8     14.44      6.94      4.70         2.24          87.0        8.4      E  \n",
       "9     26.93      0.63      0.28         0.47           NaN        NaN    NaN  "
      ]
     },
     "metadata": {},
     "output_type": "display_data"
    },
    {
     "name": "stdout",
     "output_type": "stream",
     "text": [
      "<class 'pandas.core.frame.DataFrame'>\n",
      "RangeIndex: 16715 entries, 0 to 16714\n",
      "Data columns (total 11 columns):\n",
      " #   Column           Non-Null Count  Dtype  \n",
      "---  ------           --------------  -----  \n",
      " 0   Name             16713 non-null  object \n",
      " 1   Platform         16715 non-null  object \n",
      " 2   Year_of_Release  16446 non-null  float64\n",
      " 3   Genre            16713 non-null  object \n",
      " 4   NA_sales         16715 non-null  float64\n",
      " 5   EU_sales         16715 non-null  float64\n",
      " 6   JP_sales         16715 non-null  float64\n",
      " 7   Other_sales      16715 non-null  float64\n",
      " 8   Critic_Score     8137 non-null   float64\n",
      " 9   User_Score       10014 non-null  object \n",
      " 10  Rating           9949 non-null   object \n",
      "dtypes: float64(6), object(5)\n",
      "memory usage: 1.4+ MB\n"
     ]
    }
   ],
   "source": [
    "data = pd.read_csv('../../data/games.csv')\n",
    "display(data.head(10))\n",
    "data.info()"
   ]
  },
  {
   "cell_type": "markdown",
   "metadata": {},
   "source": [
    "**Выводы:**\n",
    "\n",
    "Предварительно пропуски кажутся случайными, как будто забыли или не успели заполнить, или же они потерялись при объединении данных. Таких пропусков много, не стоит их игнорировать, но и все заполнить скорее всего не удастся. Чтобы частично восполнить пробелы, стоит взглянуть на другие данные и по возможности взять аналогичные для замены."
   ]
  },
  {
   "cell_type": "markdown",
   "metadata": {},
   "source": [
    "## Обработка данных"
   ]
  },
  {
   "cell_type": "markdown",
   "metadata": {},
   "source": [
    "### Переименование столбцов"
   ]
  },
  {
   "cell_type": "code",
   "execution_count": 3,
   "metadata": {},
   "outputs": [],
   "source": [
    "data.rename(columns = {'Name' : 'name', 'Platform' : 'platform', 'Year_of_Release' : 'year_of_release', 'Genre':'genre', 'NA_sales': 'na_sales', 'EU_sales':'eu_sales', 'JP_sales':'jp_sales', 'Other_sales':'other_sales', 'Critic_Score':'critic_score', 'User_Score':'user_score', 'Rating':'rating'}, inplace = True)"
   ]
  },
  {
   "cell_type": "markdown",
   "metadata": {},
   "source": [
    "### Обработка пропусков"
   ]
  },
  {
   "cell_type": "markdown",
   "metadata": {},
   "source": [
    "#### Столбец с годом релиза 'year_of_release'"
   ]
  },
  {
   "cell_type": "code",
   "execution_count": 4,
   "metadata": {},
   "outputs": [
    {
     "name": "stdout",
     "output_type": "stream",
     "text": [
      "[2006. 1985. 2008. 2009. 1996. 1989. 1984. 2005. 1999. 2007. 2010. 2013.\n",
      " 2004. 1990. 1988. 2002. 2001. 2011. 1998. 2015. 2012. 2014. 1992. 1997.\n",
      " 1993. 1994. 1982. 2016. 2003. 1986. 2000.   nan 1995. 1991. 1981. 1987.\n",
      " 1980. 1983.]\n"
     ]
    }
   ],
   "source": [
    "print(data['year_of_release'].unique()) # найдем уникальные значения в столбце даты релиза"
   ]
  },
  {
   "cell_type": "code",
   "execution_count": 5,
   "metadata": {},
   "outputs": [
    {
     "data": {
      "text/html": [
       "<div>\n",
       "<style scoped>\n",
       "    .dataframe tbody tr th:only-of-type {\n",
       "        vertical-align: middle;\n",
       "    }\n",
       "\n",
       "    .dataframe tbody tr th {\n",
       "        vertical-align: top;\n",
       "    }\n",
       "\n",
       "    .dataframe thead th {\n",
       "        text-align: right;\n",
       "    }\n",
       "</style>\n",
       "<table border=\"1\" class=\"dataframe\">\n",
       "  <thead>\n",
       "    <tr style=\"text-align: right;\">\n",
       "      <th></th>\n",
       "      <th>name</th>\n",
       "      <th>platform</th>\n",
       "      <th>year_of_release</th>\n",
       "      <th>genre</th>\n",
       "      <th>na_sales</th>\n",
       "      <th>eu_sales</th>\n",
       "      <th>jp_sales</th>\n",
       "      <th>other_sales</th>\n",
       "      <th>critic_score</th>\n",
       "      <th>user_score</th>\n",
       "      <th>rating</th>\n",
       "    </tr>\n",
       "  </thead>\n",
       "  <tbody>\n",
       "    <tr>\n",
       "      <td>183</td>\n",
       "      <td>Madden NFL 2004</td>\n",
       "      <td>PS2</td>\n",
       "      <td>NaN</td>\n",
       "      <td>Sports</td>\n",
       "      <td>4.26</td>\n",
       "      <td>0.26</td>\n",
       "      <td>0.01</td>\n",
       "      <td>0.71</td>\n",
       "      <td>94.0</td>\n",
       "      <td>8.5</td>\n",
       "      <td>E</td>\n",
       "    </tr>\n",
       "    <tr>\n",
       "      <td>377</td>\n",
       "      <td>FIFA Soccer 2004</td>\n",
       "      <td>PS2</td>\n",
       "      <td>NaN</td>\n",
       "      <td>Sports</td>\n",
       "      <td>0.59</td>\n",
       "      <td>2.36</td>\n",
       "      <td>0.04</td>\n",
       "      <td>0.51</td>\n",
       "      <td>84.0</td>\n",
       "      <td>6.4</td>\n",
       "      <td>E</td>\n",
       "    </tr>\n",
       "    <tr>\n",
       "      <td>456</td>\n",
       "      <td>LEGO Batman: The Videogame</td>\n",
       "      <td>Wii</td>\n",
       "      <td>NaN</td>\n",
       "      <td>Action</td>\n",
       "      <td>1.80</td>\n",
       "      <td>0.97</td>\n",
       "      <td>0.00</td>\n",
       "      <td>0.29</td>\n",
       "      <td>74.0</td>\n",
       "      <td>7.9</td>\n",
       "      <td>E10+</td>\n",
       "    </tr>\n",
       "    <tr>\n",
       "      <td>475</td>\n",
       "      <td>wwe Smackdown vs. Raw 2006</td>\n",
       "      <td>PS2</td>\n",
       "      <td>NaN</td>\n",
       "      <td>Fighting</td>\n",
       "      <td>1.57</td>\n",
       "      <td>1.02</td>\n",
       "      <td>0.00</td>\n",
       "      <td>0.41</td>\n",
       "      <td>NaN</td>\n",
       "      <td>NaN</td>\n",
       "      <td>NaN</td>\n",
       "    </tr>\n",
       "    <tr>\n",
       "      <td>609</td>\n",
       "      <td>Space Invaders</td>\n",
       "      <td>2600</td>\n",
       "      <td>NaN</td>\n",
       "      <td>Shooter</td>\n",
       "      <td>2.36</td>\n",
       "      <td>0.14</td>\n",
       "      <td>0.00</td>\n",
       "      <td>0.03</td>\n",
       "      <td>NaN</td>\n",
       "      <td>NaN</td>\n",
       "      <td>NaN</td>\n",
       "    </tr>\n",
       "    <tr>\n",
       "      <td>...</td>\n",
       "      <td>...</td>\n",
       "      <td>...</td>\n",
       "      <td>...</td>\n",
       "      <td>...</td>\n",
       "      <td>...</td>\n",
       "      <td>...</td>\n",
       "      <td>...</td>\n",
       "      <td>...</td>\n",
       "      <td>...</td>\n",
       "      <td>...</td>\n",
       "      <td>...</td>\n",
       "    </tr>\n",
       "    <tr>\n",
       "      <td>16373</td>\n",
       "      <td>PDC World Championship Darts 2008</td>\n",
       "      <td>PSP</td>\n",
       "      <td>NaN</td>\n",
       "      <td>Sports</td>\n",
       "      <td>0.01</td>\n",
       "      <td>0.00</td>\n",
       "      <td>0.00</td>\n",
       "      <td>0.00</td>\n",
       "      <td>43.0</td>\n",
       "      <td>tbd</td>\n",
       "      <td>E10+</td>\n",
       "    </tr>\n",
       "    <tr>\n",
       "      <td>16405</td>\n",
       "      <td>Freaky Flyers</td>\n",
       "      <td>GC</td>\n",
       "      <td>NaN</td>\n",
       "      <td>Racing</td>\n",
       "      <td>0.01</td>\n",
       "      <td>0.00</td>\n",
       "      <td>0.00</td>\n",
       "      <td>0.00</td>\n",
       "      <td>69.0</td>\n",
       "      <td>6.5</td>\n",
       "      <td>T</td>\n",
       "    </tr>\n",
       "    <tr>\n",
       "      <td>16448</td>\n",
       "      <td>Inversion</td>\n",
       "      <td>PC</td>\n",
       "      <td>NaN</td>\n",
       "      <td>Shooter</td>\n",
       "      <td>0.01</td>\n",
       "      <td>0.00</td>\n",
       "      <td>0.00</td>\n",
       "      <td>0.00</td>\n",
       "      <td>59.0</td>\n",
       "      <td>6.7</td>\n",
       "      <td>M</td>\n",
       "    </tr>\n",
       "    <tr>\n",
       "      <td>16458</td>\n",
       "      <td>Hakuouki: Shinsengumi Kitan</td>\n",
       "      <td>PS3</td>\n",
       "      <td>NaN</td>\n",
       "      <td>Adventure</td>\n",
       "      <td>0.01</td>\n",
       "      <td>0.00</td>\n",
       "      <td>0.00</td>\n",
       "      <td>0.00</td>\n",
       "      <td>NaN</td>\n",
       "      <td>NaN</td>\n",
       "      <td>NaN</td>\n",
       "    </tr>\n",
       "    <tr>\n",
       "      <td>16522</td>\n",
       "      <td>Virtua Quest</td>\n",
       "      <td>GC</td>\n",
       "      <td>NaN</td>\n",
       "      <td>Role-Playing</td>\n",
       "      <td>0.01</td>\n",
       "      <td>0.00</td>\n",
       "      <td>0.00</td>\n",
       "      <td>0.00</td>\n",
       "      <td>55.0</td>\n",
       "      <td>5.5</td>\n",
       "      <td>T</td>\n",
       "    </tr>\n",
       "  </tbody>\n",
       "</table>\n",
       "<p>269 rows × 11 columns</p>\n",
       "</div>"
      ],
      "text/plain": [
       "                                    name platform  year_of_release  \\\n",
       "183                      Madden NFL 2004      PS2              NaN   \n",
       "377                     FIFA Soccer 2004      PS2              NaN   \n",
       "456           LEGO Batman: The Videogame      Wii              NaN   \n",
       "475           wwe Smackdown vs. Raw 2006      PS2              NaN   \n",
       "609                       Space Invaders     2600              NaN   \n",
       "...                                  ...      ...              ...   \n",
       "16373  PDC World Championship Darts 2008      PSP              NaN   \n",
       "16405                      Freaky Flyers       GC              NaN   \n",
       "16448                          Inversion       PC              NaN   \n",
       "16458        Hakuouki: Shinsengumi Kitan      PS3              NaN   \n",
       "16522                       Virtua Quest       GC              NaN   \n",
       "\n",
       "              genre  na_sales  eu_sales  jp_sales  other_sales  critic_score  \\\n",
       "183          Sports      4.26      0.26      0.01         0.71          94.0   \n",
       "377          Sports      0.59      2.36      0.04         0.51          84.0   \n",
       "456          Action      1.80      0.97      0.00         0.29          74.0   \n",
       "475        Fighting      1.57      1.02      0.00         0.41           NaN   \n",
       "609         Shooter      2.36      0.14      0.00         0.03           NaN   \n",
       "...             ...       ...       ...       ...          ...           ...   \n",
       "16373        Sports      0.01      0.00      0.00         0.00          43.0   \n",
       "16405        Racing      0.01      0.00      0.00         0.00          69.0   \n",
       "16448       Shooter      0.01      0.00      0.00         0.00          59.0   \n",
       "16458     Adventure      0.01      0.00      0.00         0.00           NaN   \n",
       "16522  Role-Playing      0.01      0.00      0.00         0.00          55.0   \n",
       "\n",
       "      user_score rating  \n",
       "183          8.5      E  \n",
       "377          6.4      E  \n",
       "456          7.9   E10+  \n",
       "475          NaN    NaN  \n",
       "609          NaN    NaN  \n",
       "...          ...    ...  \n",
       "16373        tbd   E10+  \n",
       "16405        6.5      T  \n",
       "16448        6.7      M  \n",
       "16458        NaN    NaN  \n",
       "16522        5.5      T  \n",
       "\n",
       "[269 rows x 11 columns]"
      ]
     },
     "execution_count": 5,
     "metadata": {},
     "output_type": "execute_result"
    }
   ],
   "source": [
    "data[data['year_of_release'].isnull()] # выведем на экран строки с пропущенными годами релиза"
   ]
  },
  {
   "cell_type": "markdown",
   "metadata": {},
   "source": [
    "Очевидно, что некоторые года релизов пропущены. Однако, для игр, выпускаемых сразу на нескольких платформах года можно взять из релизов на других платформах, где это указано."
   ]
  },
  {
   "cell_type": "code",
   "execution_count": 6,
   "metadata": {},
   "outputs": [
    {
     "data": {
      "text/html": [
       "<div>\n",
       "<style scoped>\n",
       "    .dataframe tbody tr th:only-of-type {\n",
       "        vertical-align: middle;\n",
       "    }\n",
       "\n",
       "    .dataframe tbody tr th {\n",
       "        vertical-align: top;\n",
       "    }\n",
       "\n",
       "    .dataframe thead th {\n",
       "        text-align: right;\n",
       "    }\n",
       "</style>\n",
       "<table border=\"1\" class=\"dataframe\">\n",
       "  <thead>\n",
       "    <tr style=\"text-align: right;\">\n",
       "      <th></th>\n",
       "      <th>name</th>\n",
       "      <th>platform</th>\n",
       "      <th>year_of_release</th>\n",
       "      <th>genre</th>\n",
       "      <th>na_sales</th>\n",
       "      <th>eu_sales</th>\n",
       "      <th>jp_sales</th>\n",
       "      <th>other_sales</th>\n",
       "      <th>critic_score</th>\n",
       "      <th>user_score</th>\n",
       "      <th>rating</th>\n",
       "    </tr>\n",
       "  </thead>\n",
       "  <tbody>\n",
       "    <tr>\n",
       "      <td>475</td>\n",
       "      <td>wwe Smackdown vs. Raw 2006</td>\n",
       "      <td>PS2</td>\n",
       "      <td>NaN</td>\n",
       "      <td>Fighting</td>\n",
       "      <td>1.57</td>\n",
       "      <td>1.02</td>\n",
       "      <td>0.00</td>\n",
       "      <td>0.41</td>\n",
       "      <td>NaN</td>\n",
       "      <td>NaN</td>\n",
       "      <td>NaN</td>\n",
       "    </tr>\n",
       "    <tr>\n",
       "      <td>627</td>\n",
       "      <td>Rock Band</td>\n",
       "      <td>X360</td>\n",
       "      <td>NaN</td>\n",
       "      <td>Misc</td>\n",
       "      <td>1.93</td>\n",
       "      <td>0.33</td>\n",
       "      <td>0.00</td>\n",
       "      <td>0.21</td>\n",
       "      <td>92.0</td>\n",
       "      <td>8.2</td>\n",
       "      <td>T</td>\n",
       "    </tr>\n",
       "    <tr>\n",
       "      <td>657</td>\n",
       "      <td>Frogger's Adventures: Temple of the Frog</td>\n",
       "      <td>GBA</td>\n",
       "      <td>NaN</td>\n",
       "      <td>Adventure</td>\n",
       "      <td>2.15</td>\n",
       "      <td>0.18</td>\n",
       "      <td>0.00</td>\n",
       "      <td>0.07</td>\n",
       "      <td>73.0</td>\n",
       "      <td>tbd</td>\n",
       "      <td>E</td>\n",
       "    </tr>\n",
       "    <tr>\n",
       "      <td>805</td>\n",
       "      <td>Rock Band</td>\n",
       "      <td>Wii</td>\n",
       "      <td>NaN</td>\n",
       "      <td>Misc</td>\n",
       "      <td>1.33</td>\n",
       "      <td>0.56</td>\n",
       "      <td>0.00</td>\n",
       "      <td>0.20</td>\n",
       "      <td>80.0</td>\n",
       "      <td>6.3</td>\n",
       "      <td>T</td>\n",
       "    </tr>\n",
       "    <tr>\n",
       "      <td>1142</td>\n",
       "      <td>Rock Band</td>\n",
       "      <td>PS3</td>\n",
       "      <td>NaN</td>\n",
       "      <td>Misc</td>\n",
       "      <td>0.99</td>\n",
       "      <td>0.41</td>\n",
       "      <td>0.00</td>\n",
       "      <td>0.22</td>\n",
       "      <td>92.0</td>\n",
       "      <td>8.4</td>\n",
       "      <td>T</td>\n",
       "    </tr>\n",
       "    <tr>\n",
       "      <td>...</td>\n",
       "      <td>...</td>\n",
       "      <td>...</td>\n",
       "      <td>...</td>\n",
       "      <td>...</td>\n",
       "      <td>...</td>\n",
       "      <td>...</td>\n",
       "      <td>...</td>\n",
       "      <td>...</td>\n",
       "      <td>...</td>\n",
       "      <td>...</td>\n",
       "      <td>...</td>\n",
       "    </tr>\n",
       "    <tr>\n",
       "      <td>16277</td>\n",
       "      <td>Homeworld Remastered Collection</td>\n",
       "      <td>PC</td>\n",
       "      <td>NaN</td>\n",
       "      <td>Strategy</td>\n",
       "      <td>0.00</td>\n",
       "      <td>0.01</td>\n",
       "      <td>0.00</td>\n",
       "      <td>0.00</td>\n",
       "      <td>86.0</td>\n",
       "      <td>8.2</td>\n",
       "      <td>E10+</td>\n",
       "    </tr>\n",
       "    <tr>\n",
       "      <td>16288</td>\n",
       "      <td>Shorts</td>\n",
       "      <td>DS</td>\n",
       "      <td>NaN</td>\n",
       "      <td>Platform</td>\n",
       "      <td>0.01</td>\n",
       "      <td>0.00</td>\n",
       "      <td>0.00</td>\n",
       "      <td>0.00</td>\n",
       "      <td>NaN</td>\n",
       "      <td>tbd</td>\n",
       "      <td>E10+</td>\n",
       "    </tr>\n",
       "    <tr>\n",
       "      <td>16348</td>\n",
       "      <td>Agarest Senki: Re-appearance</td>\n",
       "      <td>PS3</td>\n",
       "      <td>NaN</td>\n",
       "      <td>Role-Playing</td>\n",
       "      <td>0.00</td>\n",
       "      <td>0.00</td>\n",
       "      <td>0.01</td>\n",
       "      <td>0.00</td>\n",
       "      <td>NaN</td>\n",
       "      <td>NaN</td>\n",
       "      <td>NaN</td>\n",
       "    </tr>\n",
       "    <tr>\n",
       "      <td>16458</td>\n",
       "      <td>Hakuouki: Shinsengumi Kitan</td>\n",
       "      <td>PS3</td>\n",
       "      <td>NaN</td>\n",
       "      <td>Adventure</td>\n",
       "      <td>0.01</td>\n",
       "      <td>0.00</td>\n",
       "      <td>0.00</td>\n",
       "      <td>0.00</td>\n",
       "      <td>NaN</td>\n",
       "      <td>NaN</td>\n",
       "      <td>NaN</td>\n",
       "    </tr>\n",
       "    <tr>\n",
       "      <td>16522</td>\n",
       "      <td>Virtua Quest</td>\n",
       "      <td>GC</td>\n",
       "      <td>NaN</td>\n",
       "      <td>Role-Playing</td>\n",
       "      <td>0.01</td>\n",
       "      <td>0.00</td>\n",
       "      <td>0.00</td>\n",
       "      <td>0.00</td>\n",
       "      <td>55.0</td>\n",
       "      <td>5.5</td>\n",
       "      <td>T</td>\n",
       "    </tr>\n",
       "  </tbody>\n",
       "</table>\n",
       "<p>146 rows × 11 columns</p>\n",
       "</div>"
      ],
      "text/plain": [
       "                                           name platform  year_of_release  \\\n",
       "475                  wwe Smackdown vs. Raw 2006      PS2              NaN   \n",
       "627                                   Rock Band     X360              NaN   \n",
       "657    Frogger's Adventures: Temple of the Frog      GBA              NaN   \n",
       "805                                   Rock Band      Wii              NaN   \n",
       "1142                                  Rock Band      PS3              NaN   \n",
       "...                                         ...      ...              ...   \n",
       "16277           Homeworld Remastered Collection       PC              NaN   \n",
       "16288                                    Shorts       DS              NaN   \n",
       "16348              Agarest Senki: Re-appearance      PS3              NaN   \n",
       "16458               Hakuouki: Shinsengumi Kitan      PS3              NaN   \n",
       "16522                              Virtua Quest       GC              NaN   \n",
       "\n",
       "              genre  na_sales  eu_sales  jp_sales  other_sales  critic_score  \\\n",
       "475        Fighting      1.57      1.02      0.00         0.41           NaN   \n",
       "627            Misc      1.93      0.33      0.00         0.21          92.0   \n",
       "657       Adventure      2.15      0.18      0.00         0.07          73.0   \n",
       "805            Misc      1.33      0.56      0.00         0.20          80.0   \n",
       "1142           Misc      0.99      0.41      0.00         0.22          92.0   \n",
       "...             ...       ...       ...       ...          ...           ...   \n",
       "16277      Strategy      0.00      0.01      0.00         0.00          86.0   \n",
       "16288      Platform      0.01      0.00      0.00         0.00           NaN   \n",
       "16348  Role-Playing      0.00      0.00      0.01         0.00           NaN   \n",
       "16458     Adventure      0.01      0.00      0.00         0.00           NaN   \n",
       "16522  Role-Playing      0.01      0.00      0.00         0.00          55.0   \n",
       "\n",
       "      user_score rating  \n",
       "475          NaN    NaN  \n",
       "627          8.2      T  \n",
       "657          tbd      E  \n",
       "805          6.3      T  \n",
       "1142         8.4      T  \n",
       "...          ...    ...  \n",
       "16277        8.2   E10+  \n",
       "16288        tbd   E10+  \n",
       "16348        NaN    NaN  \n",
       "16458        NaN    NaN  \n",
       "16522        5.5      T  \n",
       "\n",
       "[146 rows x 11 columns]"
      ]
     },
     "execution_count": 6,
     "metadata": {},
     "output_type": "execute_result"
    }
   ],
   "source": [
    "data['year_of_release'] = data['year_of_release'].fillna(data.groupby('name')['year_of_release'].transform('first'))\n",
    "data[data['year_of_release'].isnull()]"
   ]
  },
  {
   "cell_type": "markdown",
   "metadata": {},
   "source": [
    "#### Столбец с жанром 'genre'"
   ]
  },
  {
   "cell_type": "code",
   "execution_count": 7,
   "metadata": {},
   "outputs": [
    {
     "name": "stdout",
     "output_type": "stream",
     "text": [
      "['Sports' 'Platform' 'Racing' 'Role-Playing' 'Puzzle' 'Misc' 'Shooter'\n",
      " 'Simulation' 'Action' 'Fighting' 'Adventure' 'Strategy' nan]\n"
     ]
    }
   ],
   "source": [
    "print(data['genre'].unique())"
   ]
  },
  {
   "cell_type": "code",
   "execution_count": 8,
   "metadata": {},
   "outputs": [
    {
     "data": {
      "text/html": [
       "<div>\n",
       "<style scoped>\n",
       "    .dataframe tbody tr th:only-of-type {\n",
       "        vertical-align: middle;\n",
       "    }\n",
       "\n",
       "    .dataframe tbody tr th {\n",
       "        vertical-align: top;\n",
       "    }\n",
       "\n",
       "    .dataframe thead th {\n",
       "        text-align: right;\n",
       "    }\n",
       "</style>\n",
       "<table border=\"1\" class=\"dataframe\">\n",
       "  <thead>\n",
       "    <tr style=\"text-align: right;\">\n",
       "      <th></th>\n",
       "      <th>name</th>\n",
       "      <th>platform</th>\n",
       "      <th>year_of_release</th>\n",
       "      <th>genre</th>\n",
       "      <th>na_sales</th>\n",
       "      <th>eu_sales</th>\n",
       "      <th>jp_sales</th>\n",
       "      <th>other_sales</th>\n",
       "      <th>critic_score</th>\n",
       "      <th>user_score</th>\n",
       "      <th>rating</th>\n",
       "    </tr>\n",
       "  </thead>\n",
       "  <tbody>\n",
       "    <tr>\n",
       "      <td>659</td>\n",
       "      <td>NaN</td>\n",
       "      <td>GEN</td>\n",
       "      <td>1993.0</td>\n",
       "      <td>NaN</td>\n",
       "      <td>1.78</td>\n",
       "      <td>0.53</td>\n",
       "      <td>0.00</td>\n",
       "      <td>0.08</td>\n",
       "      <td>NaN</td>\n",
       "      <td>NaN</td>\n",
       "      <td>NaN</td>\n",
       "    </tr>\n",
       "    <tr>\n",
       "      <td>14244</td>\n",
       "      <td>NaN</td>\n",
       "      <td>GEN</td>\n",
       "      <td>1993.0</td>\n",
       "      <td>NaN</td>\n",
       "      <td>0.00</td>\n",
       "      <td>0.00</td>\n",
       "      <td>0.03</td>\n",
       "      <td>0.00</td>\n",
       "      <td>NaN</td>\n",
       "      <td>NaN</td>\n",
       "      <td>NaN</td>\n",
       "    </tr>\n",
       "  </tbody>\n",
       "</table>\n",
       "</div>"
      ],
      "text/plain": [
       "      name platform  year_of_release genre  na_sales  eu_sales  jp_sales  \\\n",
       "659    NaN      GEN           1993.0   NaN      1.78      0.53      0.00   \n",
       "14244  NaN      GEN           1993.0   NaN      0.00      0.00      0.03   \n",
       "\n",
       "       other_sales  critic_score user_score rating  \n",
       "659           0.08           NaN        NaN    NaN  \n",
       "14244         0.00           NaN        NaN    NaN  "
      ]
     },
     "execution_count": 8,
     "metadata": {},
     "output_type": "execute_result"
    }
   ],
   "source": [
    "data[data['genre'].isnull()] # выведем на экран строки с пропущенным жанром игр"
   ]
  },
  {
   "cell_type": "markdown",
   "metadata": {},
   "source": [
    "В двух строчках отсутсвуют данные по жанру. Однако, эти строчки имеют одинаковй год выпуска и только в этих строчках отсутсвует название игры. Возможно эти данные относятся к какой-то уже предаставленной игре, для которой случано не прописали информацию или это отдельная одна игра игра без названия и без жанра.\n",
    "\n",
    "К сожалению, по представленным данным сложно предположить к какой именно игре имеют отношения эти данные, т.к. в 1993 году вышли множество дестяков игр различных жанров.\n",
    "\n",
    "Также в этих строчках отсутсвуют данные по названию и всем рейтингам. Доход от продаж относительно низкий. Поэтому, эти строчки можно объединить и добавить к самой низкоприбыльной игре или же вовсе отбросить из анализа"
   ]
  },
  {
   "cell_type": "markdown",
   "metadata": {},
   "source": [
    "#### Столбец с рейтингом игр 'rating'"
   ]
  },
  {
   "cell_type": "code",
   "execution_count": 12,
   "metadata": {},
   "outputs": [
    {
     "name": "stdout",
     "output_type": "stream",
     "text": [
      "['E' nan 'M' 'T' 'E10+' 'K-A' 'AO' 'EC' 'RP']\n"
     ]
    }
   ],
   "source": [
    "print(data['rating'].unique()) # поиск уникальных значений в столбце с рейтингом игр"
   ]
  },
  {
   "cell_type": "markdown",
   "metadata": {},
   "source": [
    "Среди уникальных значений столбца с рейтингом игр имеются пропуски, которые сообщают нам о том, что рейтинг игры не известен.    В таком случае пропуски 'nan' можно заменить на рейтинг 'RP' - рейтинг ожидается (Rating Pending)."
   ]
  },
  {
   "cell_type": "code",
   "execution_count": 13,
   "metadata": {},
   "outputs": [
    {
     "name": "stdout",
     "output_type": "stream",
     "text": [
      "['E' 'RP' 'M' 'T' 'E10+' 'K-A' 'AO' 'EC']\n"
     ]
    }
   ],
   "source": [
    "data['rating'] = data['rating'].fillna(value='RP')\n",
    "print(data['rating'].unique())"
   ]
  },
  {
   "cell_type": "markdown",
   "metadata": {},
   "source": [
    "### Обработка данных столбца оценка пользователей ('user_score')"
   ]
  },
  {
   "cell_type": "markdown",
   "metadata": {},
   "source": [
    "Столбец 'user_score' содержит данные об оценке пользователей, которые должны быть в числовом формате. Однако, данные имеют формат 'object'."
   ]
  },
  {
   "cell_type": "code",
   "execution_count": 14,
   "metadata": {},
   "outputs": [
    {
     "name": "stdout",
     "output_type": "stream",
     "text": [
      "['8' nan '8.3' '8.5' '6.6' '8.4' '8.6' '7.7' '6.3' '7.4' '8.2' '9' '7.9'\n",
      " '8.1' '8.7' '7.1' '3.4' '5.3' '4.8' '3.2' '8.9' '6.4' '7.8' '7.5' '2.6'\n",
      " '7.2' '9.2' '7' '7.3' '4.3' '7.6' '5.7' '5' '9.1' '6.5' 'tbd' '8.8' '6.9'\n",
      " '9.4' '6.8' '6.1' '6.7' '5.4' '4' '4.9' '4.5' '9.3' '6.2' '4.2' '6' '3.7'\n",
      " '4.1' '5.8' '5.6' '5.5' '4.4' '4.6' '5.9' '3.9' '3.1' '2.9' '5.2' '3.3'\n",
      " '4.7' '5.1' '3.5' '2.5' '1.9' '3' '2.7' '2.2' '2' '9.5' '2.1' '3.6' '2.8'\n",
      " '1.8' '3.8' '0' '1.6' '9.6' '2.4' '1.7' '1.1' '0.3' '1.5' '0.7' '1.2'\n",
      " '2.3' '0.5' '1.3' '0.2' '0.6' '1.4' '0.9' '1' '9.7']\n"
     ]
    }
   ],
   "source": [
    "print(data['user_score'].unique())"
   ]
  },
  {
   "cell_type": "code",
   "execution_count": 15,
   "metadata": {},
   "outputs": [
    {
     "name": "stdout",
     "output_type": "stream",
     "text": [
      "Пропусков NaN в столбце 'user_score' - 6701\n"
     ]
    }
   ],
   "source": [
    "print('Пропусков NaN в столбце \\'user_score\\' -', len(data[data['user_score'].isna()])) # функцией len() узнаем количество пропусков"
   ]
  },
  {
   "cell_type": "code",
   "execution_count": 16,
   "metadata": {},
   "outputs": [
    {
     "name": "stdout",
     "output_type": "stream",
     "text": [
      "Значений tbd в столбце 'user_score' - 2424\n"
     ]
    }
   ],
   "source": [
    "print('Значений tbd в столбце \\'user_score\\' -', len(data[data['user_score'] == 'tbd'])) # функцией len() узнаем количество значений tbd"
   ]
  },
  {
   "cell_type": "markdown",
   "metadata": {},
   "source": [
    "Среди уникальных значений в столбце 'user_score' наблюдаются пропуски 'nan' и нечисловое значение отличное от NaN - 'tbd'.\n",
    "\n",
    "Еще, TBD - это аббревиатура от английского To Be Determined (будет определено) или To Be Decided (будет решено). \n",
    "\n",
    "В таком случае TBD несет ту же информацию, что и 'nan'. Только в отличие от 'nan', 'tbd' не может являться числовым значением. Чтобы привести все данные к одному типу, поменяем значения 'tbd' на 'nan' и приведем все данные в столбце с рейтингом пользователей к числовому типу."
   ]
  },
  {
   "cell_type": "code",
   "execution_count": 17,
   "metadata": {},
   "outputs": [
    {
     "name": "stdout",
     "output_type": "stream",
     "text": [
      "['8' nan '8.3' '8.5' '6.6' '8.4' '8.6' '7.7' '6.3' '7.4' '8.2' '9' '7.9'\n",
      " '8.1' '8.7' '7.1' '3.4' '5.3' '4.8' '3.2' '8.9' '6.4' '7.8' '7.5' '2.6'\n",
      " '7.2' '9.2' '7' '7.3' '4.3' '7.6' '5.7' '5' '9.1' '6.5' '8.8' '6.9' '9.4'\n",
      " '6.8' '6.1' '6.7' '5.4' '4' '4.9' '4.5' '9.3' '6.2' '4.2' '6' '3.7' '4.1'\n",
      " '5.8' '5.6' '5.5' '4.4' '4.6' '5.9' '3.9' '3.1' '2.9' '5.2' '3.3' '4.7'\n",
      " '5.1' '3.5' '2.5' '1.9' '3' '2.7' '2.2' '2' '9.5' '2.1' '3.6' '2.8' '1.8'\n",
      " '3.8' '0' '1.6' '9.6' '2.4' '1.7' '1.1' '0.3' '1.5' '0.7' '1.2' '2.3'\n",
      " '0.5' '1.3' '0.2' '0.6' '1.4' '0.9' '1' '9.7']\n"
     ]
    }
   ],
   "source": [
    "data.loc[(data['user_score'] == 'tbd'), 'user_score'] = np.nan # замена 'tbd' на NaN\n",
    "print(data['user_score'].unique())"
   ]
  },
  {
   "cell_type": "code",
   "execution_count": 18,
   "metadata": {},
   "outputs": [],
   "source": [
    "data['user_score'] = pd.to_numeric(data['user_score']) # преобразование данных столбца с рейтингом пользователей в числовой формат"
   ]
  },
  {
   "cell_type": "markdown",
   "metadata": {},
   "source": [
    "### Вывод общих данных по таблице после обработки"
   ]
  },
  {
   "cell_type": "code",
   "execution_count": 19,
   "metadata": {},
   "outputs": [
    {
     "name": "stdout",
     "output_type": "stream",
     "text": [
      "<class 'pandas.core.frame.DataFrame'>\n",
      "RangeIndex: 16715 entries, 0 to 16714\n",
      "Data columns (total 11 columns):\n",
      "name               16713 non-null object\n",
      "platform           16715 non-null object\n",
      "year_of_release    16569 non-null float64\n",
      "genre              16713 non-null object\n",
      "na_sales           16715 non-null float64\n",
      "eu_sales           16715 non-null float64\n",
      "jp_sales           16715 non-null float64\n",
      "other_sales        16715 non-null float64\n",
      "critic_score       8137 non-null float64\n",
      "user_score         7590 non-null float64\n",
      "rating             16715 non-null object\n",
      "dtypes: float64(7), object(4)\n",
      "memory usage: 1.4+ MB\n"
     ]
    }
   ],
   "source": [
    "data.info()"
   ]
  },
  {
   "cell_type": "code",
   "execution_count": 20,
   "metadata": {},
   "outputs": [
    {
     "data": {
      "text/html": [
       "<div>\n",
       "<style scoped>\n",
       "    .dataframe tbody tr th:only-of-type {\n",
       "        vertical-align: middle;\n",
       "    }\n",
       "\n",
       "    .dataframe tbody tr th {\n",
       "        vertical-align: top;\n",
       "    }\n",
       "\n",
       "    .dataframe thead th {\n",
       "        text-align: right;\n",
       "    }\n",
       "</style>\n",
       "<table border=\"1\" class=\"dataframe\">\n",
       "  <thead>\n",
       "    <tr style=\"text-align: right;\">\n",
       "      <th></th>\n",
       "      <th>name</th>\n",
       "      <th>platform</th>\n",
       "      <th>year_of_release</th>\n",
       "      <th>genre</th>\n",
       "      <th>na_sales</th>\n",
       "      <th>eu_sales</th>\n",
       "      <th>jp_sales</th>\n",
       "      <th>other_sales</th>\n",
       "      <th>critic_score</th>\n",
       "      <th>user_score</th>\n",
       "      <th>rating</th>\n",
       "    </tr>\n",
       "  </thead>\n",
       "  <tbody>\n",
       "    <tr>\n",
       "      <td>0</td>\n",
       "      <td>Wii Sports</td>\n",
       "      <td>Wii</td>\n",
       "      <td>2006.0</td>\n",
       "      <td>Sports</td>\n",
       "      <td>41.36</td>\n",
       "      <td>28.96</td>\n",
       "      <td>3.77</td>\n",
       "      <td>8.45</td>\n",
       "      <td>76.0</td>\n",
       "      <td>8.0</td>\n",
       "      <td>E</td>\n",
       "    </tr>\n",
       "    <tr>\n",
       "      <td>1</td>\n",
       "      <td>Super Mario Bros.</td>\n",
       "      <td>NES</td>\n",
       "      <td>1985.0</td>\n",
       "      <td>Platform</td>\n",
       "      <td>29.08</td>\n",
       "      <td>3.58</td>\n",
       "      <td>6.81</td>\n",
       "      <td>0.77</td>\n",
       "      <td>NaN</td>\n",
       "      <td>NaN</td>\n",
       "      <td>RP</td>\n",
       "    </tr>\n",
       "    <tr>\n",
       "      <td>2</td>\n",
       "      <td>Mario Kart Wii</td>\n",
       "      <td>Wii</td>\n",
       "      <td>2008.0</td>\n",
       "      <td>Racing</td>\n",
       "      <td>15.68</td>\n",
       "      <td>12.76</td>\n",
       "      <td>3.79</td>\n",
       "      <td>3.29</td>\n",
       "      <td>82.0</td>\n",
       "      <td>8.3</td>\n",
       "      <td>E</td>\n",
       "    </tr>\n",
       "    <tr>\n",
       "      <td>3</td>\n",
       "      <td>Wii Sports Resort</td>\n",
       "      <td>Wii</td>\n",
       "      <td>2009.0</td>\n",
       "      <td>Sports</td>\n",
       "      <td>15.61</td>\n",
       "      <td>10.93</td>\n",
       "      <td>3.28</td>\n",
       "      <td>2.95</td>\n",
       "      <td>80.0</td>\n",
       "      <td>8.0</td>\n",
       "      <td>E</td>\n",
       "    </tr>\n",
       "    <tr>\n",
       "      <td>4</td>\n",
       "      <td>Pokemon Red/Pokemon Blue</td>\n",
       "      <td>GB</td>\n",
       "      <td>1996.0</td>\n",
       "      <td>Role-Playing</td>\n",
       "      <td>11.27</td>\n",
       "      <td>8.89</td>\n",
       "      <td>10.22</td>\n",
       "      <td>1.00</td>\n",
       "      <td>NaN</td>\n",
       "      <td>NaN</td>\n",
       "      <td>RP</td>\n",
       "    </tr>\n",
       "    <tr>\n",
       "      <td>5</td>\n",
       "      <td>Tetris</td>\n",
       "      <td>GB</td>\n",
       "      <td>1989.0</td>\n",
       "      <td>Puzzle</td>\n",
       "      <td>23.20</td>\n",
       "      <td>2.26</td>\n",
       "      <td>4.22</td>\n",
       "      <td>0.58</td>\n",
       "      <td>NaN</td>\n",
       "      <td>NaN</td>\n",
       "      <td>RP</td>\n",
       "    </tr>\n",
       "    <tr>\n",
       "      <td>6</td>\n",
       "      <td>New Super Mario Bros.</td>\n",
       "      <td>DS</td>\n",
       "      <td>2006.0</td>\n",
       "      <td>Platform</td>\n",
       "      <td>11.28</td>\n",
       "      <td>9.14</td>\n",
       "      <td>6.50</td>\n",
       "      <td>2.88</td>\n",
       "      <td>89.0</td>\n",
       "      <td>8.5</td>\n",
       "      <td>E</td>\n",
       "    </tr>\n",
       "    <tr>\n",
       "      <td>7</td>\n",
       "      <td>Wii Play</td>\n",
       "      <td>Wii</td>\n",
       "      <td>2006.0</td>\n",
       "      <td>Misc</td>\n",
       "      <td>13.96</td>\n",
       "      <td>9.18</td>\n",
       "      <td>2.93</td>\n",
       "      <td>2.84</td>\n",
       "      <td>58.0</td>\n",
       "      <td>6.6</td>\n",
       "      <td>E</td>\n",
       "    </tr>\n",
       "    <tr>\n",
       "      <td>8</td>\n",
       "      <td>New Super Mario Bros. Wii</td>\n",
       "      <td>Wii</td>\n",
       "      <td>2009.0</td>\n",
       "      <td>Platform</td>\n",
       "      <td>14.44</td>\n",
       "      <td>6.94</td>\n",
       "      <td>4.70</td>\n",
       "      <td>2.24</td>\n",
       "      <td>87.0</td>\n",
       "      <td>8.4</td>\n",
       "      <td>E</td>\n",
       "    </tr>\n",
       "    <tr>\n",
       "      <td>9</td>\n",
       "      <td>Duck Hunt</td>\n",
       "      <td>NES</td>\n",
       "      <td>1984.0</td>\n",
       "      <td>Shooter</td>\n",
       "      <td>26.93</td>\n",
       "      <td>0.63</td>\n",
       "      <td>0.28</td>\n",
       "      <td>0.47</td>\n",
       "      <td>NaN</td>\n",
       "      <td>NaN</td>\n",
       "      <td>RP</td>\n",
       "    </tr>\n",
       "  </tbody>\n",
       "</table>\n",
       "</div>"
      ],
      "text/plain": [
       "                        name platform  year_of_release         genre  \\\n",
       "0                 Wii Sports      Wii           2006.0        Sports   \n",
       "1          Super Mario Bros.      NES           1985.0      Platform   \n",
       "2             Mario Kart Wii      Wii           2008.0        Racing   \n",
       "3          Wii Sports Resort      Wii           2009.0        Sports   \n",
       "4   Pokemon Red/Pokemon Blue       GB           1996.0  Role-Playing   \n",
       "5                     Tetris       GB           1989.0        Puzzle   \n",
       "6      New Super Mario Bros.       DS           2006.0      Platform   \n",
       "7                   Wii Play      Wii           2006.0          Misc   \n",
       "8  New Super Mario Bros. Wii      Wii           2009.0      Platform   \n",
       "9                  Duck Hunt      NES           1984.0       Shooter   \n",
       "\n",
       "   na_sales  eu_sales  jp_sales  other_sales  critic_score  user_score rating  \n",
       "0     41.36     28.96      3.77         8.45          76.0         8.0      E  \n",
       "1     29.08      3.58      6.81         0.77           NaN         NaN     RP  \n",
       "2     15.68     12.76      3.79         3.29          82.0         8.3      E  \n",
       "3     15.61     10.93      3.28         2.95          80.0         8.0      E  \n",
       "4     11.27      8.89     10.22         1.00           NaN         NaN     RP  \n",
       "5     23.20      2.26      4.22         0.58           NaN         NaN     RP  \n",
       "6     11.28      9.14      6.50         2.88          89.0         8.5      E  \n",
       "7     13.96      9.18      2.93         2.84          58.0         6.6      E  \n",
       "8     14.44      6.94      4.70         2.24          87.0         8.4      E  \n",
       "9     26.93      0.63      0.28         0.47           NaN         NaN     RP  "
      ]
     },
     "metadata": {},
     "output_type": "display_data"
    }
   ],
   "source": [
    "display(data.head(10))"
   ]
  },
  {
   "cell_type": "markdown",
   "metadata": {},
   "source": [
    "**Выводы**\n",
    "\n",
    "Пропусков в столбцах 'critic_score' и 'user_score' все равно очень много, порядка 40-50%, заменять их на среднее или медианное значение - значит исказить данные."
   ]
  },
  {
   "cell_type": "markdown",
   "metadata": {},
   "source": [
    "### Подсчет суммы продаж во всех регионах "
   ]
  },
  {
   "cell_type": "code",
   "execution_count": 21,
   "metadata": {},
   "outputs": [],
   "source": [
    "# создадим столбец с суммой продаж со всех площадок\n",
    "data['sales'] = data['na_sales'] + data['eu_sales'] + data['jp_sales'] + data['other_sales']"
   ]
  },
  {
   "cell_type": "code",
   "execution_count": 22,
   "metadata": {},
   "outputs": [
    {
     "data": {
      "text/html": [
       "<div>\n",
       "<style scoped>\n",
       "    .dataframe tbody tr th:only-of-type {\n",
       "        vertical-align: middle;\n",
       "    }\n",
       "\n",
       "    .dataframe tbody tr th {\n",
       "        vertical-align: top;\n",
       "    }\n",
       "\n",
       "    .dataframe thead th {\n",
       "        text-align: right;\n",
       "    }\n",
       "</style>\n",
       "<table border=\"1\" class=\"dataframe\">\n",
       "  <thead>\n",
       "    <tr style=\"text-align: right;\">\n",
       "      <th></th>\n",
       "      <th>name</th>\n",
       "      <th>platform</th>\n",
       "      <th>year_of_release</th>\n",
       "      <th>genre</th>\n",
       "      <th>na_sales</th>\n",
       "      <th>eu_sales</th>\n",
       "      <th>jp_sales</th>\n",
       "      <th>other_sales</th>\n",
       "      <th>critic_score</th>\n",
       "      <th>user_score</th>\n",
       "      <th>rating</th>\n",
       "      <th>sales</th>\n",
       "    </tr>\n",
       "  </thead>\n",
       "  <tbody>\n",
       "    <tr>\n",
       "      <td>0</td>\n",
       "      <td>Wii Sports</td>\n",
       "      <td>Wii</td>\n",
       "      <td>2006.0</td>\n",
       "      <td>Sports</td>\n",
       "      <td>41.36</td>\n",
       "      <td>28.96</td>\n",
       "      <td>3.77</td>\n",
       "      <td>8.45</td>\n",
       "      <td>76.0</td>\n",
       "      <td>8.0</td>\n",
       "      <td>E</td>\n",
       "      <td>82.54</td>\n",
       "    </tr>\n",
       "    <tr>\n",
       "      <td>1</td>\n",
       "      <td>Super Mario Bros.</td>\n",
       "      <td>NES</td>\n",
       "      <td>1985.0</td>\n",
       "      <td>Platform</td>\n",
       "      <td>29.08</td>\n",
       "      <td>3.58</td>\n",
       "      <td>6.81</td>\n",
       "      <td>0.77</td>\n",
       "      <td>NaN</td>\n",
       "      <td>NaN</td>\n",
       "      <td>RP</td>\n",
       "      <td>40.24</td>\n",
       "    </tr>\n",
       "    <tr>\n",
       "      <td>2</td>\n",
       "      <td>Mario Kart Wii</td>\n",
       "      <td>Wii</td>\n",
       "      <td>2008.0</td>\n",
       "      <td>Racing</td>\n",
       "      <td>15.68</td>\n",
       "      <td>12.76</td>\n",
       "      <td>3.79</td>\n",
       "      <td>3.29</td>\n",
       "      <td>82.0</td>\n",
       "      <td>8.3</td>\n",
       "      <td>E</td>\n",
       "      <td>35.52</td>\n",
       "    </tr>\n",
       "    <tr>\n",
       "      <td>3</td>\n",
       "      <td>Wii Sports Resort</td>\n",
       "      <td>Wii</td>\n",
       "      <td>2009.0</td>\n",
       "      <td>Sports</td>\n",
       "      <td>15.61</td>\n",
       "      <td>10.93</td>\n",
       "      <td>3.28</td>\n",
       "      <td>2.95</td>\n",
       "      <td>80.0</td>\n",
       "      <td>8.0</td>\n",
       "      <td>E</td>\n",
       "      <td>32.77</td>\n",
       "    </tr>\n",
       "    <tr>\n",
       "      <td>4</td>\n",
       "      <td>Pokemon Red/Pokemon Blue</td>\n",
       "      <td>GB</td>\n",
       "      <td>1996.0</td>\n",
       "      <td>Role-Playing</td>\n",
       "      <td>11.27</td>\n",
       "      <td>8.89</td>\n",
       "      <td>10.22</td>\n",
       "      <td>1.00</td>\n",
       "      <td>NaN</td>\n",
       "      <td>NaN</td>\n",
       "      <td>RP</td>\n",
       "      <td>31.38</td>\n",
       "    </tr>\n",
       "    <tr>\n",
       "      <td>5</td>\n",
       "      <td>Tetris</td>\n",
       "      <td>GB</td>\n",
       "      <td>1989.0</td>\n",
       "      <td>Puzzle</td>\n",
       "      <td>23.20</td>\n",
       "      <td>2.26</td>\n",
       "      <td>4.22</td>\n",
       "      <td>0.58</td>\n",
       "      <td>NaN</td>\n",
       "      <td>NaN</td>\n",
       "      <td>RP</td>\n",
       "      <td>30.26</td>\n",
       "    </tr>\n",
       "    <tr>\n",
       "      <td>6</td>\n",
       "      <td>New Super Mario Bros.</td>\n",
       "      <td>DS</td>\n",
       "      <td>2006.0</td>\n",
       "      <td>Platform</td>\n",
       "      <td>11.28</td>\n",
       "      <td>9.14</td>\n",
       "      <td>6.50</td>\n",
       "      <td>2.88</td>\n",
       "      <td>89.0</td>\n",
       "      <td>8.5</td>\n",
       "      <td>E</td>\n",
       "      <td>29.80</td>\n",
       "    </tr>\n",
       "    <tr>\n",
       "      <td>7</td>\n",
       "      <td>Wii Play</td>\n",
       "      <td>Wii</td>\n",
       "      <td>2006.0</td>\n",
       "      <td>Misc</td>\n",
       "      <td>13.96</td>\n",
       "      <td>9.18</td>\n",
       "      <td>2.93</td>\n",
       "      <td>2.84</td>\n",
       "      <td>58.0</td>\n",
       "      <td>6.6</td>\n",
       "      <td>E</td>\n",
       "      <td>28.91</td>\n",
       "    </tr>\n",
       "    <tr>\n",
       "      <td>8</td>\n",
       "      <td>New Super Mario Bros. Wii</td>\n",
       "      <td>Wii</td>\n",
       "      <td>2009.0</td>\n",
       "      <td>Platform</td>\n",
       "      <td>14.44</td>\n",
       "      <td>6.94</td>\n",
       "      <td>4.70</td>\n",
       "      <td>2.24</td>\n",
       "      <td>87.0</td>\n",
       "      <td>8.4</td>\n",
       "      <td>E</td>\n",
       "      <td>28.32</td>\n",
       "    </tr>\n",
       "    <tr>\n",
       "      <td>9</td>\n",
       "      <td>Duck Hunt</td>\n",
       "      <td>NES</td>\n",
       "      <td>1984.0</td>\n",
       "      <td>Shooter</td>\n",
       "      <td>26.93</td>\n",
       "      <td>0.63</td>\n",
       "      <td>0.28</td>\n",
       "      <td>0.47</td>\n",
       "      <td>NaN</td>\n",
       "      <td>NaN</td>\n",
       "      <td>RP</td>\n",
       "      <td>28.31</td>\n",
       "    </tr>\n",
       "  </tbody>\n",
       "</table>\n",
       "</div>"
      ],
      "text/plain": [
       "                        name platform  year_of_release         genre  \\\n",
       "0                 Wii Sports      Wii           2006.0        Sports   \n",
       "1          Super Mario Bros.      NES           1985.0      Platform   \n",
       "2             Mario Kart Wii      Wii           2008.0        Racing   \n",
       "3          Wii Sports Resort      Wii           2009.0        Sports   \n",
       "4   Pokemon Red/Pokemon Blue       GB           1996.0  Role-Playing   \n",
       "5                     Tetris       GB           1989.0        Puzzle   \n",
       "6      New Super Mario Bros.       DS           2006.0      Platform   \n",
       "7                   Wii Play      Wii           2006.0          Misc   \n",
       "8  New Super Mario Bros. Wii      Wii           2009.0      Platform   \n",
       "9                  Duck Hunt      NES           1984.0       Shooter   \n",
       "\n",
       "   na_sales  eu_sales  jp_sales  other_sales  critic_score  user_score rating  \\\n",
       "0     41.36     28.96      3.77         8.45          76.0         8.0      E   \n",
       "1     29.08      3.58      6.81         0.77           NaN         NaN     RP   \n",
       "2     15.68     12.76      3.79         3.29          82.0         8.3      E   \n",
       "3     15.61     10.93      3.28         2.95          80.0         8.0      E   \n",
       "4     11.27      8.89     10.22         1.00           NaN         NaN     RP   \n",
       "5     23.20      2.26      4.22         0.58           NaN         NaN     RP   \n",
       "6     11.28      9.14      6.50         2.88          89.0         8.5      E   \n",
       "7     13.96      9.18      2.93         2.84          58.0         6.6      E   \n",
       "8     14.44      6.94      4.70         2.24          87.0         8.4      E   \n",
       "9     26.93      0.63      0.28         0.47           NaN         NaN     RP   \n",
       "\n",
       "   sales  \n",
       "0  82.54  \n",
       "1  40.24  \n",
       "2  35.52  \n",
       "3  32.77  \n",
       "4  31.38  \n",
       "5  30.26  \n",
       "6  29.80  \n",
       "7  28.91  \n",
       "8  28.32  \n",
       "9  28.31  "
      ]
     },
     "metadata": {},
     "output_type": "display_data"
    }
   ],
   "source": [
    "display(data.head(10))"
   ]
  },
  {
   "cell_type": "markdown",
   "metadata": {},
   "source": [
    "## Исследовательский анализ данных"
   ]
  },
  {
   "cell_type": "markdown",
   "metadata": {},
   "source": [
    "### Анализ количества выпускаемых игр по годам"
   ]
  },
  {
   "cell_type": "code",
   "execution_count": 23,
   "metadata": {},
   "outputs": [
    {
     "data": {
      "text/plain": [
       "Text(0.5, 1.0, 'гистограмма количества выпускаемых игр по годам')"
      ]
     },
     "execution_count": 23,
     "metadata": {},
     "output_type": "execute_result"
    },
    {
     "data": {
      "image/png": "[encoded data removed]",
      "text/plain": [
       "<Figure size 432x288 with 1 Axes>"
      ]
     },
     "metadata": {
      "needs_background": "light"
     },
     "output_type": "display_data"
    }
   ],
   "source": [
    "data['year_of_release'].hist(bins=70, range=(1979, 2016))\n",
    "plt.title(\"гистограмма количества выпускаемых игр по годам\")"
   ]
  },
  {
   "cell_type": "markdown",
   "metadata": {},
   "source": [
    "Наиболее высокий рост выпускаемых игр приходился на 2007-2010 годы, после чего количество выпускаемых игр пошло на спад"
   ]
  },
  {
   "cell_type": "markdown",
   "metadata": {},
   "source": [
    "Можно предположить, что спад индустрии связан с количеством игроков. Как известно, 1985-1988 годы высокой рождаемости. Соответсвенно и игрков из этого сегмента в соответсвующей возрастной категории больше обычного. Таким образом, до пика продаж (2007) года игрокам, рожденных в бэби-бум, было около 20 лет, затем с возрастом люди начинают преобретать другие зоны ответсвенности и другую занятость, такую как работа, учеба, семья и пр., что не позволяет тратить свободное время на игры в том же объеме как раньше. Таким образом, количество активных игроков стало снижаться, а следовательно и объем продаж.\n",
    "\n",
    "Однако, вероятнее всего основное влияние оказал выход мобильных игр, которые забрали часть рынка на себя."
   ]
  },
  {
   "cell_type": "markdown",
   "metadata": {},
   "source": [
    "### Анализ продаж по платформам"
   ]
  },
  {
   "cell_type": "code",
   "execution_count": 24,
   "metadata": {},
   "outputs": [
    {
     "name": "stdout",
     "output_type": "stream",
     "text": [
      "['Wii' 'NES' 'GB' 'DS' 'X360' 'PS3' 'PS2' 'SNES' 'GBA' 'PS4' '3DS' 'N64'\n",
      " 'PS' 'XB' 'PC' '2600' 'PSP' 'XOne' 'WiiU' 'GC' 'GEN' 'DC' 'PSV' 'SAT'\n",
      " 'SCD' 'WS' 'NG' 'TG16' '3DO' 'GG' 'PCFX']\n"
     ]
    }
   ],
   "source": [
    "# определим уникальные названия платформ\n",
    "print(data['platform'].unique())"
   ]
  },
  {
   "cell_type": "code",
   "execution_count": 25,
   "metadata": {},
   "outputs": [
    {
     "data": {
      "image/png": "[encoded data removed]",
      "text/plain": [
       "<Figure size 1200x800 with 1 Axes>"
      ]
     },
     "metadata": {
      "needs_background": "light"
     },
     "output_type": "display_data"
    }
   ],
   "source": [
    "platform = ['Wii','NES','GB','DS','X360','PS3','PS2','SNES','GBA','PS4','3DS','N64','PS','XB','PC','2600','PSP','XOne','WiiU','GC','GEN','DC','PSV','SAT','SCD','WS','NG','TG16','3DO','GG','PCFX']\n",
    "plt.figure(figsize=(15,10), dpi=80)\n",
    "for i in platform:\n",
    "    data_i = data[data['platform']== i]['year_of_release']\n",
    "    plt.hist([data_i], bins=60, alpha=0.7, label=[i])\n",
    " \n",
    "plt.grid(True)\n",
    "plt.title(\"гистограмма количества выпускаемых игр по годам на разных платфомрах\")\n",
    "plt.legend()\n",
    "plt.show()"
   ]
  },
  {
   "cell_type": "code",
   "execution_count": 26,
   "metadata": {},
   "outputs": [
    {
     "data": {
      "text/html": [
       "<div>\n",
       "<style scoped>\n",
       "    .dataframe tbody tr th:only-of-type {\n",
       "        vertical-align: middle;\n",
       "    }\n",
       "\n",
       "    .dataframe tbody tr th {\n",
       "        vertical-align: top;\n",
       "    }\n",
       "\n",
       "    .dataframe thead th {\n",
       "        text-align: right;\n",
       "    }\n",
       "</style>\n",
       "<table border=\"1\" class=\"dataframe\">\n",
       "  <thead>\n",
       "    <tr style=\"text-align: right;\">\n",
       "      <th></th>\n",
       "      <th>platform</th>\n",
       "      <th>sales</th>\n",
       "    </tr>\n",
       "  </thead>\n",
       "  <tbody>\n",
       "    <tr>\n",
       "      <td>16</td>\n",
       "      <td>PS2</td>\n",
       "      <td>1255.77</td>\n",
       "    </tr>\n",
       "    <tr>\n",
       "      <td>28</td>\n",
       "      <td>X360</td>\n",
       "      <td>971.42</td>\n",
       "    </tr>\n",
       "    <tr>\n",
       "      <td>17</td>\n",
       "      <td>PS3</td>\n",
       "      <td>939.65</td>\n",
       "    </tr>\n",
       "    <tr>\n",
       "      <td>26</td>\n",
       "      <td>Wii</td>\n",
       "      <td>907.51</td>\n",
       "    </tr>\n",
       "    <tr>\n",
       "      <td>4</td>\n",
       "      <td>DS</td>\n",
       "      <td>806.12</td>\n",
       "    </tr>\n",
       "    <tr>\n",
       "      <td>15</td>\n",
       "      <td>PS</td>\n",
       "      <td>730.86</td>\n",
       "    </tr>\n",
       "    <tr>\n",
       "      <td>6</td>\n",
       "      <td>GBA</td>\n",
       "      <td>317.85</td>\n",
       "    </tr>\n",
       "    <tr>\n",
       "      <td>18</td>\n",
       "      <td>PS4</td>\n",
       "      <td>314.14</td>\n",
       "    </tr>\n",
       "    <tr>\n",
       "      <td>19</td>\n",
       "      <td>PSP</td>\n",
       "      <td>294.05</td>\n",
       "    </tr>\n",
       "    <tr>\n",
       "      <td>13</td>\n",
       "      <td>PC</td>\n",
       "      <td>259.52</td>\n",
       "    </tr>\n",
       "    <tr>\n",
       "      <td>2</td>\n",
       "      <td>3DS</td>\n",
       "      <td>259.00</td>\n",
       "    </tr>\n",
       "    <tr>\n",
       "      <td>29</td>\n",
       "      <td>XB</td>\n",
       "      <td>257.74</td>\n",
       "    </tr>\n",
       "    <tr>\n",
       "      <td>5</td>\n",
       "      <td>GB</td>\n",
       "      <td>255.46</td>\n",
       "    </tr>\n",
       "    <tr>\n",
       "      <td>11</td>\n",
       "      <td>NES</td>\n",
       "      <td>251.05</td>\n",
       "    </tr>\n",
       "    <tr>\n",
       "      <td>10</td>\n",
       "      <td>N64</td>\n",
       "      <td>218.68</td>\n",
       "    </tr>\n",
       "    <tr>\n",
       "      <td>23</td>\n",
       "      <td>SNES</td>\n",
       "      <td>200.04</td>\n",
       "    </tr>\n",
       "    <tr>\n",
       "      <td>7</td>\n",
       "      <td>GC</td>\n",
       "      <td>198.93</td>\n",
       "    </tr>\n",
       "    <tr>\n",
       "      <td>30</td>\n",
       "      <td>XOne</td>\n",
       "      <td>159.32</td>\n",
       "    </tr>\n",
       "    <tr>\n",
       "      <td>0</td>\n",
       "      <td>2600</td>\n",
       "      <td>96.98</td>\n",
       "    </tr>\n",
       "    <tr>\n",
       "      <td>27</td>\n",
       "      <td>WiiU</td>\n",
       "      <td>82.19</td>\n",
       "    </tr>\n",
       "    <tr>\n",
       "      <td>20</td>\n",
       "      <td>PSV</td>\n",
       "      <td>54.07</td>\n",
       "    </tr>\n",
       "    <tr>\n",
       "      <td>21</td>\n",
       "      <td>SAT</td>\n",
       "      <td>33.59</td>\n",
       "    </tr>\n",
       "    <tr>\n",
       "      <td>8</td>\n",
       "      <td>GEN</td>\n",
       "      <td>30.77</td>\n",
       "    </tr>\n",
       "    <tr>\n",
       "      <td>3</td>\n",
       "      <td>DC</td>\n",
       "      <td>15.95</td>\n",
       "    </tr>\n",
       "    <tr>\n",
       "      <td>22</td>\n",
       "      <td>SCD</td>\n",
       "      <td>1.86</td>\n",
       "    </tr>\n",
       "    <tr>\n",
       "      <td>12</td>\n",
       "      <td>NG</td>\n",
       "      <td>1.44</td>\n",
       "    </tr>\n",
       "    <tr>\n",
       "      <td>25</td>\n",
       "      <td>WS</td>\n",
       "      <td>1.42</td>\n",
       "    </tr>\n",
       "    <tr>\n",
       "      <td>24</td>\n",
       "      <td>TG16</td>\n",
       "      <td>0.16</td>\n",
       "    </tr>\n",
       "    <tr>\n",
       "      <td>1</td>\n",
       "      <td>3DO</td>\n",
       "      <td>0.10</td>\n",
       "    </tr>\n",
       "    <tr>\n",
       "      <td>9</td>\n",
       "      <td>GG</td>\n",
       "      <td>0.04</td>\n",
       "    </tr>\n",
       "    <tr>\n",
       "      <td>14</td>\n",
       "      <td>PCFX</td>\n",
       "      <td>0.03</td>\n",
       "    </tr>\n",
       "  </tbody>\n",
       "</table>\n",
       "</div>"
      ],
      "text/plain": [
       "   platform    sales\n",
       "16      PS2  1255.77\n",
       "28     X360   971.42\n",
       "17      PS3   939.65\n",
       "26      Wii   907.51\n",
       "4        DS   806.12\n",
       "15       PS   730.86\n",
       "6       GBA   317.85\n",
       "18      PS4   314.14\n",
       "19      PSP   294.05\n",
       "13       PC   259.52\n",
       "2       3DS   259.00\n",
       "29       XB   257.74\n",
       "5        GB   255.46\n",
       "11      NES   251.05\n",
       "10      N64   218.68\n",
       "23     SNES   200.04\n",
       "7        GC   198.93\n",
       "30     XOne   159.32\n",
       "0      2600    96.98\n",
       "27     WiiU    82.19\n",
       "20      PSV    54.07\n",
       "21      SAT    33.59\n",
       "8       GEN    30.77\n",
       "3        DC    15.95\n",
       "22      SCD     1.86\n",
       "12       NG     1.44\n",
       "25       WS     1.42\n",
       "24     TG16     0.16\n",
       "1       3DO     0.10\n",
       "9        GG     0.04\n",
       "14     PCFX     0.03"
      ]
     },
     "metadata": {},
     "output_type": "display_data"
    }
   ],
   "source": [
    "# Продажи на разных платформах\n",
    "platform_sales = data.pivot_table(index='platform', values='sales', aggfunc=np.sum).reset_index().sort_values(by='sales', ascending=False)\n",
    "display(platform_sales)"
   ]
  },
  {
   "cell_type": "code",
   "execution_count": 27,
   "metadata": {},
   "outputs": [
    {
     "data": {
      "text/html": [
       "<div>\n",
       "<style scoped>\n",
       "    .dataframe tbody tr th:only-of-type {\n",
       "        vertical-align: middle;\n",
       "    }\n",
       "\n",
       "    .dataframe tbody tr th {\n",
       "        vertical-align: top;\n",
       "    }\n",
       "\n",
       "    .dataframe thead th {\n",
       "        text-align: right;\n",
       "    }\n",
       "</style>\n",
       "<table border=\"1\" class=\"dataframe\">\n",
       "  <thead>\n",
       "    <tr style=\"text-align: right;\">\n",
       "      <th></th>\n",
       "      <th>year_of_release</th>\n",
       "      <th>platform</th>\n",
       "    </tr>\n",
       "  </thead>\n",
       "  <tbody>\n",
       "    <tr>\n",
       "      <td>0</td>\n",
       "      <td>1980.0</td>\n",
       "      <td>9</td>\n",
       "    </tr>\n",
       "    <tr>\n",
       "      <td>1</td>\n",
       "      <td>1981.0</td>\n",
       "      <td>46</td>\n",
       "    </tr>\n",
       "    <tr>\n",
       "      <td>2</td>\n",
       "      <td>1982.0</td>\n",
       "      <td>36</td>\n",
       "    </tr>\n",
       "    <tr>\n",
       "      <td>3</td>\n",
       "      <td>1983.0</td>\n",
       "      <td>17</td>\n",
       "    </tr>\n",
       "    <tr>\n",
       "      <td>4</td>\n",
       "      <td>1984.0</td>\n",
       "      <td>14</td>\n",
       "    </tr>\n",
       "    <tr>\n",
       "      <td>5</td>\n",
       "      <td>1985.0</td>\n",
       "      <td>14</td>\n",
       "    </tr>\n",
       "    <tr>\n",
       "      <td>6</td>\n",
       "      <td>1986.0</td>\n",
       "      <td>21</td>\n",
       "    </tr>\n",
       "    <tr>\n",
       "      <td>7</td>\n",
       "      <td>1987.0</td>\n",
       "      <td>16</td>\n",
       "    </tr>\n",
       "    <tr>\n",
       "      <td>8</td>\n",
       "      <td>1988.0</td>\n",
       "      <td>15</td>\n",
       "    </tr>\n",
       "    <tr>\n",
       "      <td>9</td>\n",
       "      <td>1989.0</td>\n",
       "      <td>17</td>\n",
       "    </tr>\n",
       "    <tr>\n",
       "      <td>10</td>\n",
       "      <td>1990.0</td>\n",
       "      <td>16</td>\n",
       "    </tr>\n",
       "    <tr>\n",
       "      <td>11</td>\n",
       "      <td>1991.0</td>\n",
       "      <td>42</td>\n",
       "    </tr>\n",
       "    <tr>\n",
       "      <td>12</td>\n",
       "      <td>1992.0</td>\n",
       "      <td>43</td>\n",
       "    </tr>\n",
       "    <tr>\n",
       "      <td>13</td>\n",
       "      <td>1993.0</td>\n",
       "      <td>62</td>\n",
       "    </tr>\n",
       "    <tr>\n",
       "      <td>14</td>\n",
       "      <td>1994.0</td>\n",
       "      <td>122</td>\n",
       "    </tr>\n",
       "    <tr>\n",
       "      <td>15</td>\n",
       "      <td>1995.0</td>\n",
       "      <td>219</td>\n",
       "    </tr>\n",
       "    <tr>\n",
       "      <td>16</td>\n",
       "      <td>1996.0</td>\n",
       "      <td>263</td>\n",
       "    </tr>\n",
       "    <tr>\n",
       "      <td>17</td>\n",
       "      <td>1997.0</td>\n",
       "      <td>289</td>\n",
       "    </tr>\n",
       "    <tr>\n",
       "      <td>18</td>\n",
       "      <td>1998.0</td>\n",
       "      <td>380</td>\n",
       "    </tr>\n",
       "    <tr>\n",
       "      <td>19</td>\n",
       "      <td>1999.0</td>\n",
       "      <td>339</td>\n",
       "    </tr>\n",
       "    <tr>\n",
       "      <td>20</td>\n",
       "      <td>2000.0</td>\n",
       "      <td>351</td>\n",
       "    </tr>\n",
       "    <tr>\n",
       "      <td>21</td>\n",
       "      <td>2001.0</td>\n",
       "      <td>486</td>\n",
       "    </tr>\n",
       "    <tr>\n",
       "      <td>22</td>\n",
       "      <td>2002.0</td>\n",
       "      <td>845</td>\n",
       "    </tr>\n",
       "    <tr>\n",
       "      <td>23</td>\n",
       "      <td>2003.0</td>\n",
       "      <td>783</td>\n",
       "    </tr>\n",
       "    <tr>\n",
       "      <td>24</td>\n",
       "      <td>2004.0</td>\n",
       "      <td>764</td>\n",
       "    </tr>\n",
       "    <tr>\n",
       "      <td>25</td>\n",
       "      <td>2005.0</td>\n",
       "      <td>947</td>\n",
       "    </tr>\n",
       "    <tr>\n",
       "      <td>26</td>\n",
       "      <td>2006.0</td>\n",
       "      <td>1019</td>\n",
       "    </tr>\n",
       "    <tr>\n",
       "      <td>27</td>\n",
       "      <td>2007.0</td>\n",
       "      <td>1202</td>\n",
       "    </tr>\n",
       "    <tr>\n",
       "      <td>28</td>\n",
       "      <td>2008.0</td>\n",
       "      <td>1441</td>\n",
       "    </tr>\n",
       "    <tr>\n",
       "      <td>29</td>\n",
       "      <td>2009.0</td>\n",
       "      <td>1430</td>\n",
       "    </tr>\n",
       "    <tr>\n",
       "      <td>30</td>\n",
       "      <td>2010.0</td>\n",
       "      <td>1269</td>\n",
       "    </tr>\n",
       "    <tr>\n",
       "      <td>31</td>\n",
       "      <td>2011.0</td>\n",
       "      <td>1153</td>\n",
       "    </tr>\n",
       "    <tr>\n",
       "      <td>32</td>\n",
       "      <td>2012.0</td>\n",
       "      <td>662</td>\n",
       "    </tr>\n",
       "    <tr>\n",
       "      <td>33</td>\n",
       "      <td>2013.0</td>\n",
       "      <td>548</td>\n",
       "    </tr>\n",
       "    <tr>\n",
       "      <td>34</td>\n",
       "      <td>2014.0</td>\n",
       "      <td>581</td>\n",
       "    </tr>\n",
       "    <tr>\n",
       "      <td>35</td>\n",
       "      <td>2015.0</td>\n",
       "      <td>606</td>\n",
       "    </tr>\n",
       "    <tr>\n",
       "      <td>36</td>\n",
       "      <td>2016.0</td>\n",
       "      <td>502</td>\n",
       "    </tr>\n",
       "  </tbody>\n",
       "</table>\n",
       "</div>"
      ],
      "text/plain": [
       "    year_of_release  platform\n",
       "0            1980.0         9\n",
       "1            1981.0        46\n",
       "2            1982.0        36\n",
       "3            1983.0        17\n",
       "4            1984.0        14\n",
       "5            1985.0        14\n",
       "6            1986.0        21\n",
       "7            1987.0        16\n",
       "8            1988.0        15\n",
       "9            1989.0        17\n",
       "10           1990.0        16\n",
       "11           1991.0        42\n",
       "12           1992.0        43\n",
       "13           1993.0        62\n",
       "14           1994.0       122\n",
       "15           1995.0       219\n",
       "16           1996.0       263\n",
       "17           1997.0       289\n",
       "18           1998.0       380\n",
       "19           1999.0       339\n",
       "20           2000.0       351\n",
       "21           2001.0       486\n",
       "22           2002.0       845\n",
       "23           2003.0       783\n",
       "24           2004.0       764\n",
       "25           2005.0       947\n",
       "26           2006.0      1019\n",
       "27           2007.0      1202\n",
       "28           2008.0      1441\n",
       "29           2009.0      1430\n",
       "30           2010.0      1269\n",
       "31           2011.0      1153\n",
       "32           2012.0       662\n",
       "33           2013.0       548\n",
       "34           2014.0       581\n",
       "35           2015.0       606\n",
       "36           2016.0       502"
      ]
     },
     "metadata": {},
     "output_type": "display_data"
    }
   ],
   "source": [
    "# количество существовавших платформ по продажам игр по года\n",
    "platform_year = data.pivot_table(index='year_of_release', values='platform', aggfunc='count').reset_index()\n",
    "display(platform_year)"
   ]
  },
  {
   "cell_type": "code",
   "execution_count": 28,
   "metadata": {},
   "outputs": [
    {
     "data": {
      "text/html": [
       "<div>\n",
       "<style scoped>\n",
       "    .dataframe tbody tr th:only-of-type {\n",
       "        vertical-align: middle;\n",
       "    }\n",
       "\n",
       "    .dataframe tbody tr th {\n",
       "        vertical-align: top;\n",
       "    }\n",
       "\n",
       "    .dataframe thead th {\n",
       "        text-align: right;\n",
       "    }\n",
       "</style>\n",
       "<table border=\"1\" class=\"dataframe\">\n",
       "  <thead>\n",
       "    <tr style=\"text-align: right;\">\n",
       "      <th></th>\n",
       "      <th>platform</th>\n",
       "      <th>year_of_release</th>\n",
       "      <th>sales</th>\n",
       "    </tr>\n",
       "  </thead>\n",
       "  <tbody>\n",
       "    <tr>\n",
       "      <td>0</td>\n",
       "      <td>2600</td>\n",
       "      <td>1980.0</td>\n",
       "      <td>11.38</td>\n",
       "    </tr>\n",
       "    <tr>\n",
       "      <td>1</td>\n",
       "      <td>2600</td>\n",
       "      <td>1981.0</td>\n",
       "      <td>35.68</td>\n",
       "    </tr>\n",
       "    <tr>\n",
       "      <td>2</td>\n",
       "      <td>2600</td>\n",
       "      <td>1982.0</td>\n",
       "      <td>28.88</td>\n",
       "    </tr>\n",
       "    <tr>\n",
       "      <td>3</td>\n",
       "      <td>2600</td>\n",
       "      <td>1983.0</td>\n",
       "      <td>5.84</td>\n",
       "    </tr>\n",
       "    <tr>\n",
       "      <td>4</td>\n",
       "      <td>2600</td>\n",
       "      <td>1984.0</td>\n",
       "      <td>0.27</td>\n",
       "    </tr>\n",
       "    <tr>\n",
       "      <td>...</td>\n",
       "      <td>...</td>\n",
       "      <td>...</td>\n",
       "      <td>...</td>\n",
       "    </tr>\n",
       "    <tr>\n",
       "      <td>240</td>\n",
       "      <td>XB</td>\n",
       "      <td>2008.0</td>\n",
       "      <td>0.18</td>\n",
       "    </tr>\n",
       "    <tr>\n",
       "      <td>241</td>\n",
       "      <td>XOne</td>\n",
       "      <td>2013.0</td>\n",
       "      <td>18.96</td>\n",
       "    </tr>\n",
       "    <tr>\n",
       "      <td>242</td>\n",
       "      <td>XOne</td>\n",
       "      <td>2014.0</td>\n",
       "      <td>54.07</td>\n",
       "    </tr>\n",
       "    <tr>\n",
       "      <td>243</td>\n",
       "      <td>XOne</td>\n",
       "      <td>2015.0</td>\n",
       "      <td>60.14</td>\n",
       "    </tr>\n",
       "    <tr>\n",
       "      <td>244</td>\n",
       "      <td>XOne</td>\n",
       "      <td>2016.0</td>\n",
       "      <td>26.15</td>\n",
       "    </tr>\n",
       "  </tbody>\n",
       "</table>\n",
       "<p>245 rows × 3 columns</p>\n",
       "</div>"
      ],
      "text/plain": [
       "    platform  year_of_release  sales\n",
       "0       2600           1980.0  11.38\n",
       "1       2600           1981.0  35.68\n",
       "2       2600           1982.0  28.88\n",
       "3       2600           1983.0   5.84\n",
       "4       2600           1984.0   0.27\n",
       "..       ...              ...    ...\n",
       "240       XB           2008.0   0.18\n",
       "241     XOne           2013.0  18.96\n",
       "242     XOne           2014.0  54.07\n",
       "243     XOne           2015.0  60.14\n",
       "244     XOne           2016.0  26.15\n",
       "\n",
       "[245 rows x 3 columns]"
      ]
     },
     "metadata": {},
     "output_type": "display_data"
    }
   ],
   "source": [
    "# продажи на каждой платформе по годам\n",
    "platform_year = data.groupby(['platform', 'year_of_release']).agg({'sales' : ('sum')}).reset_index()\n",
    "display(platform_year)"
   ]
  },
  {
   "cell_type": "code",
   "execution_count": 29,
   "metadata": {},
   "outputs": [
    {
     "name": "stdout",
     "output_type": "stream",
     "text": [
      "          year_of_release\n",
      "platform                 \n",
      "XOne               2016.0\n",
      "PS3                2016.0\n",
      "PS4                2016.0\n",
      "PC                 2016.0\n",
      "PSV                2016.0\n",
      "Wii                2016.0\n",
      "WiiU               2016.0\n",
      "X360               2016.0\n",
      "3DS                2016.0\n",
      "PSP                2015.0\n",
      "DS                 2013.0\n",
      "PS2                2011.0\n",
      "XB                 2008.0\n",
      "DC                 2008.0\n",
      "GC                 2007.0\n",
      "GBA                2007.0\n",
      "N64                2004.0\n",
      "PS                 2003.0\n",
      "WS                 2001.0\n",
      "GB                 2001.0\n",
      "SAT                1999.0\n",
      "SNES               1999.0\n",
      "PCFX               1996.0\n",
      "NG                 1996.0\n",
      "3DO                1995.0\n",
      "TG16               1995.0\n",
      "SCD                1994.0\n",
      "NES                1994.0\n",
      "GEN                1994.0\n",
      "2600               1994.0\n",
      "GG                 1992.0\n"
     ]
    }
   ],
   "source": [
    "# определим платформы по макисмальному году релиза\n",
    "filtred_max = platform_year.pivot_table(index='platform', values='year_of_release', aggfunc='max').sort_values(by='year_of_release', ascending=False)\n",
    "print(filtred_max)"
   ]
  },
  {
   "cell_type": "code",
   "execution_count": 30,
   "metadata": {},
   "outputs": [
    {
     "name": "stdout",
     "output_type": "stream",
     "text": [
      "          year_of_release\n",
      "platform                 \n",
      "XOne               2013.0\n",
      "PS4                2013.0\n",
      "WiiU               2012.0\n",
      "PSV                2011.0\n",
      "Wii                2006.0\n",
      "X360               2005.0\n",
      "PSP                2004.0\n",
      "GC                 2001.0\n",
      "GBA                2000.0\n",
      "XB                 2000.0\n",
      "3DS                2000.0\n",
      "WS                 1999.0\n",
      "DC                 1998.0\n",
      "PS2                1998.0\n",
      "N64                1996.0\n",
      "PCFX               1996.0\n",
      "TG16               1995.0\n",
      "SAT                1994.0\n",
      "PS                 1994.0\n",
      "3DO                1994.0\n",
      "SCD                1993.0\n",
      "NG                 1993.0\n",
      "GG                 1992.0\n",
      "PS3                1991.0\n",
      "SNES               1990.0\n",
      "GEN                1990.0\n",
      "GB                 1988.0\n",
      "PC                 1985.0\n",
      "DS                 1985.0\n",
      "NES                1983.0\n",
      "2600               1980.0\n"
     ]
    }
   ],
   "source": [
    "# определим годы начала существования плтформ\n",
    "filtred_start = platform_year.pivot_table(index='platform', values='year_of_release', aggfunc='min').sort_values(by='year_of_release', ascending=False)\n",
    "print(filtred_start)"
   ]
  },
  {
   "cell_type": "code",
   "execution_count": 31,
   "metadata": {},
   "outputs": [],
   "source": [
    "# определим ныне живущие платформы\n",
    "platform_alive = ['XOne', 'PS3', 'PS4', 'PC', 'PSV', 'Wii', 'WiiU', 'X360', '3DS']"
   ]
  },
  {
   "cell_type": "markdown",
   "metadata": {},
   "source": [
    "Не стоит включать в анализ актуальные на настоящий момент платформы. Период их жизни еще продолжается."
   ]
  },
  {
   "cell_type": "code",
   "execution_count": 32,
   "metadata": {},
   "outputs": [
    {
     "data": {
      "text/html": [
       "<div>\n",
       "<style scoped>\n",
       "    .dataframe tbody tr th:only-of-type {\n",
       "        vertical-align: middle;\n",
       "    }\n",
       "\n",
       "    .dataframe tbody tr th {\n",
       "        vertical-align: top;\n",
       "    }\n",
       "\n",
       "    .dataframe thead th {\n",
       "        text-align: right;\n",
       "    }\n",
       "</style>\n",
       "<table border=\"1\" class=\"dataframe\">\n",
       "  <thead>\n",
       "    <tr style=\"text-align: right;\">\n",
       "      <th></th>\n",
       "      <th>platform</th>\n",
       "      <th>year_of_release</th>\n",
       "      <th>sales</th>\n",
       "    </tr>\n",
       "  </thead>\n",
       "  <tbody>\n",
       "    <tr>\n",
       "      <td>0</td>\n",
       "      <td>2600</td>\n",
       "      <td>1980.0</td>\n",
       "      <td>11.38</td>\n",
       "    </tr>\n",
       "    <tr>\n",
       "      <td>1</td>\n",
       "      <td>2600</td>\n",
       "      <td>1981.0</td>\n",
       "      <td>35.68</td>\n",
       "    </tr>\n",
       "    <tr>\n",
       "      <td>2</td>\n",
       "      <td>2600</td>\n",
       "      <td>1982.0</td>\n",
       "      <td>28.88</td>\n",
       "    </tr>\n",
       "    <tr>\n",
       "      <td>3</td>\n",
       "      <td>2600</td>\n",
       "      <td>1983.0</td>\n",
       "      <td>5.84</td>\n",
       "    </tr>\n",
       "    <tr>\n",
       "      <td>4</td>\n",
       "      <td>2600</td>\n",
       "      <td>1984.0</td>\n",
       "      <td>0.27</td>\n",
       "    </tr>\n",
       "    <tr>\n",
       "      <td>...</td>\n",
       "      <td>...</td>\n",
       "      <td>...</td>\n",
       "      <td>...</td>\n",
       "    </tr>\n",
       "    <tr>\n",
       "      <td>240</td>\n",
       "      <td>XB</td>\n",
       "      <td>2008.0</td>\n",
       "      <td>0.18</td>\n",
       "    </tr>\n",
       "    <tr>\n",
       "      <td>241</td>\n",
       "      <td>XOne</td>\n",
       "      <td>2013.0</td>\n",
       "      <td>18.96</td>\n",
       "    </tr>\n",
       "    <tr>\n",
       "      <td>242</td>\n",
       "      <td>XOne</td>\n",
       "      <td>2014.0</td>\n",
       "      <td>54.07</td>\n",
       "    </tr>\n",
       "    <tr>\n",
       "      <td>243</td>\n",
       "      <td>XOne</td>\n",
       "      <td>2015.0</td>\n",
       "      <td>60.14</td>\n",
       "    </tr>\n",
       "    <tr>\n",
       "      <td>244</td>\n",
       "      <td>XOne</td>\n",
       "      <td>2016.0</td>\n",
       "      <td>26.15</td>\n",
       "    </tr>\n",
       "  </tbody>\n",
       "</table>\n",
       "<p>245 rows × 3 columns</p>\n",
       "</div>"
      ],
      "text/plain": [
       "    platform  year_of_release  sales\n",
       "0       2600           1980.0  11.38\n",
       "1       2600           1981.0  35.68\n",
       "2       2600           1982.0  28.88\n",
       "3       2600           1983.0   5.84\n",
       "4       2600           1984.0   0.27\n",
       "..       ...              ...    ...\n",
       "240       XB           2008.0   0.18\n",
       "241     XOne           2013.0  18.96\n",
       "242     XOne           2014.0  54.07\n",
       "243     XOne           2015.0  60.14\n",
       "244     XOne           2016.0  26.15\n",
       "\n",
       "[245 rows x 3 columns]"
      ]
     },
     "metadata": {},
     "output_type": "display_data"
    }
   ],
   "source": [
    "platform_year_alive = platform_year.query('platform not in @platform_alive')\n",
    "display(platform_year)"
   ]
  },
  {
   "cell_type": "code",
   "execution_count": 33,
   "metadata": {},
   "outputs": [
    {
     "data": {
      "text/html": [
       "<div>\n",
       "<style scoped>\n",
       "    .dataframe tbody tr th:only-of-type {\n",
       "        vertical-align: middle;\n",
       "    }\n",
       "\n",
       "    .dataframe tbody tr th {\n",
       "        vertical-align: top;\n",
       "    }\n",
       "\n",
       "    .dataframe thead th {\n",
       "        text-align: right;\n",
       "    }\n",
       "</style>\n",
       "<table border=\"1\" class=\"dataframe\">\n",
       "  <thead>\n",
       "    <tr style=\"text-align: right;\">\n",
       "      <th></th>\n",
       "      <th>year_of_release</th>\n",
       "    </tr>\n",
       "    <tr>\n",
       "      <th>platform</th>\n",
       "      <th></th>\n",
       "    </tr>\n",
       "  </thead>\n",
       "  <tbody>\n",
       "    <tr>\n",
       "      <td>GB</td>\n",
       "      <td>13</td>\n",
       "    </tr>\n",
       "    <tr>\n",
       "      <td>PS2</td>\n",
       "      <td>13</td>\n",
       "    </tr>\n",
       "    <tr>\n",
       "      <td>NES</td>\n",
       "      <td>12</td>\n",
       "    </tr>\n",
       "    <tr>\n",
       "      <td>PSP</td>\n",
       "      <td>12</td>\n",
       "    </tr>\n",
       "    <tr>\n",
       "      <td>2600</td>\n",
       "      <td>11</td>\n",
       "    </tr>\n",
       "    <tr>\n",
       "      <td>DS</td>\n",
       "      <td>11</td>\n",
       "    </tr>\n",
       "    <tr>\n",
       "      <td>SNES</td>\n",
       "      <td>10</td>\n",
       "    </tr>\n",
       "    <tr>\n",
       "      <td>PS</td>\n",
       "      <td>10</td>\n",
       "    </tr>\n",
       "    <tr>\n",
       "      <td>XB</td>\n",
       "      <td>9</td>\n",
       "    </tr>\n",
       "    <tr>\n",
       "      <td>N64</td>\n",
       "      <td>8</td>\n",
       "    </tr>\n",
       "    <tr>\n",
       "      <td>GBA</td>\n",
       "      <td>8</td>\n",
       "    </tr>\n",
       "    <tr>\n",
       "      <td>GC</td>\n",
       "      <td>7</td>\n",
       "    </tr>\n",
       "    <tr>\n",
       "      <td>DC</td>\n",
       "      <td>7</td>\n",
       "    </tr>\n",
       "    <tr>\n",
       "      <td>SAT</td>\n",
       "      <td>6</td>\n",
       "    </tr>\n",
       "    <tr>\n",
       "      <td>GEN</td>\n",
       "      <td>5</td>\n",
       "    </tr>\n",
       "    <tr>\n",
       "      <td>NG</td>\n",
       "      <td>4</td>\n",
       "    </tr>\n",
       "    <tr>\n",
       "      <td>WS</td>\n",
       "      <td>3</td>\n",
       "    </tr>\n",
       "    <tr>\n",
       "      <td>3DO</td>\n",
       "      <td>2</td>\n",
       "    </tr>\n",
       "    <tr>\n",
       "      <td>SCD</td>\n",
       "      <td>2</td>\n",
       "    </tr>\n",
       "    <tr>\n",
       "      <td>GG</td>\n",
       "      <td>1</td>\n",
       "    </tr>\n",
       "    <tr>\n",
       "      <td>PCFX</td>\n",
       "      <td>1</td>\n",
       "    </tr>\n",
       "    <tr>\n",
       "      <td>TG16</td>\n",
       "      <td>1</td>\n",
       "    </tr>\n",
       "  </tbody>\n",
       "</table>\n",
       "</div>"
      ],
      "text/plain": [
       "          year_of_release\n",
       "platform                 \n",
       "GB                     13\n",
       "PS2                    13\n",
       "NES                    12\n",
       "PSP                    12\n",
       "2600                   11\n",
       "DS                     11\n",
       "SNES                   10\n",
       "PS                     10\n",
       "XB                      9\n",
       "N64                     8\n",
       "GBA                     8\n",
       "GC                      7\n",
       "DC                      7\n",
       "SAT                     6\n",
       "GEN                     5\n",
       "NG                      4\n",
       "WS                      3\n",
       "3DO                     2\n",
       "SCD                     2\n",
       "GG                      1\n",
       "PCFX                    1\n",
       "TG16                    1"
      ]
     },
     "metadata": {},
     "output_type": "display_data"
    }
   ],
   "source": [
    "# срок существования платформ в годах\n",
    "platform_year_alive_count = platform_year_alive.pivot_table(index='platform', values='year_of_release', aggfunc='count').sort_values(by='year_of_release', ascending=False)\n",
    "display(platform_year_alive_count);"
   ]
  },
  {
   "cell_type": "code",
   "execution_count": 34,
   "metadata": {},
   "outputs": [
    {
     "name": "stdout",
     "output_type": "stream",
     "text": [
      "Характерное время существования платформы year_of_release    7.090909\n",
      "dtype: float64 лет\n"
     ]
    }
   ],
   "source": [
    "print('Характерное время существования платформы', platform_year_alive_count.mean(), 'лет')"
   ]
  },
  {
   "cell_type": "code",
   "execution_count": 35,
   "metadata": {},
   "outputs": [
    {
     "data": {
      "text/plain": [
       "Text(0.5, 1.0, 'Общее кол-во продаж на платформе, млн. проданных копий')"
      ]
     },
     "execution_count": 35,
     "metadata": {},
     "output_type": "execute_result"
    },
    {
     "data": {
      "image/png": "[encoded data removed]",
      "text/plain": [
       "<Figure size 1200x800 with 1 Axes>"
      ]
     },
     "metadata": {
      "needs_background": "light"
     },
     "output_type": "display_data"
    }
   ],
   "source": [
    "plt.figure(figsize=(15,10), dpi=80)\n",
    "seaborn.barplot(y='platform', x='sales', data=platform_sales)\n",
    "plt.title(\"Общее кол-во продаж на платформе, млн. проданных копий\")"
   ]
  },
  {
   "cell_type": "markdown",
   "metadata": {},
   "source": [
    "**Выводы:**\n",
    "\n",
    "Наиболее популярные платформы среди всех покупателей - это PS2, PS3, X360.\n",
    "\n",
    "\n",
    "Характерное время существования платформы примерно 7 лет"
   ]
  },
  {
   "cell_type": "markdown",
   "metadata": {},
   "source": [
    "### Данные за актуальный период"
   ]
  },
  {
   "cell_type": "code",
   "execution_count": 36,
   "metadata": {},
   "outputs": [
    {
     "data": {
      "text/html": [
       "<div>\n",
       "<style scoped>\n",
       "    .dataframe tbody tr th:only-of-type {\n",
       "        vertical-align: middle;\n",
       "    }\n",
       "\n",
       "    .dataframe tbody tr th {\n",
       "        vertical-align: top;\n",
       "    }\n",
       "\n",
       "    .dataframe thead th {\n",
       "        text-align: right;\n",
       "    }\n",
       "</style>\n",
       "<table border=\"1\" class=\"dataframe\">\n",
       "  <thead>\n",
       "    <tr style=\"text-align: right;\">\n",
       "      <th></th>\n",
       "      <th>name</th>\n",
       "      <th>platform</th>\n",
       "      <th>year_of_release</th>\n",
       "      <th>genre</th>\n",
       "      <th>na_sales</th>\n",
       "      <th>eu_sales</th>\n",
       "      <th>jp_sales</th>\n",
       "      <th>other_sales</th>\n",
       "      <th>critic_score</th>\n",
       "      <th>user_score</th>\n",
       "      <th>rating</th>\n",
       "      <th>sales</th>\n",
       "    </tr>\n",
       "  </thead>\n",
       "  <tbody>\n",
       "    <tr>\n",
       "      <td>94</td>\n",
       "      <td>FIFA 17</td>\n",
       "      <td>PS4</td>\n",
       "      <td>2016.0</td>\n",
       "      <td>Sports</td>\n",
       "      <td>0.66</td>\n",
       "      <td>5.75</td>\n",
       "      <td>0.08</td>\n",
       "      <td>1.11</td>\n",
       "      <td>85.0</td>\n",
       "      <td>5.0</td>\n",
       "      <td>E</td>\n",
       "      <td>7.60</td>\n",
       "    </tr>\n",
       "    <tr>\n",
       "      <td>108</td>\n",
       "      <td>Pokemon Sun/Moon</td>\n",
       "      <td>3DS</td>\n",
       "      <td>2016.0</td>\n",
       "      <td>Role-Playing</td>\n",
       "      <td>2.98</td>\n",
       "      <td>1.45</td>\n",
       "      <td>2.26</td>\n",
       "      <td>0.45</td>\n",
       "      <td>NaN</td>\n",
       "      <td>NaN</td>\n",
       "      <td>RP</td>\n",
       "      <td>7.14</td>\n",
       "    </tr>\n",
       "    <tr>\n",
       "      <td>171</td>\n",
       "      <td>Uncharted 4: A Thief's End</td>\n",
       "      <td>PS4</td>\n",
       "      <td>2016.0</td>\n",
       "      <td>Shooter</td>\n",
       "      <td>1.85</td>\n",
       "      <td>2.50</td>\n",
       "      <td>0.19</td>\n",
       "      <td>0.85</td>\n",
       "      <td>93.0</td>\n",
       "      <td>7.9</td>\n",
       "      <td>T</td>\n",
       "      <td>5.39</td>\n",
       "    </tr>\n",
       "    <tr>\n",
       "      <td>245</td>\n",
       "      <td>Call of Duty: Infinite Warfare</td>\n",
       "      <td>PS4</td>\n",
       "      <td>2016.0</td>\n",
       "      <td>Shooter</td>\n",
       "      <td>1.61</td>\n",
       "      <td>2.00</td>\n",
       "      <td>0.15</td>\n",
       "      <td>0.71</td>\n",
       "      <td>77.0</td>\n",
       "      <td>3.4</td>\n",
       "      <td>M</td>\n",
       "      <td>4.47</td>\n",
       "    </tr>\n",
       "    <tr>\n",
       "      <td>289</td>\n",
       "      <td>Battlefield 1</td>\n",
       "      <td>PS4</td>\n",
       "      <td>2016.0</td>\n",
       "      <td>Shooter</td>\n",
       "      <td>1.10</td>\n",
       "      <td>2.15</td>\n",
       "      <td>0.21</td>\n",
       "      <td>0.61</td>\n",
       "      <td>88.0</td>\n",
       "      <td>8.4</td>\n",
       "      <td>M</td>\n",
       "      <td>4.07</td>\n",
       "    </tr>\n",
       "    <tr>\n",
       "      <td>...</td>\n",
       "      <td>...</td>\n",
       "      <td>...</td>\n",
       "      <td>...</td>\n",
       "      <td>...</td>\n",
       "      <td>...</td>\n",
       "      <td>...</td>\n",
       "      <td>...</td>\n",
       "      <td>...</td>\n",
       "      <td>...</td>\n",
       "      <td>...</td>\n",
       "      <td>...</td>\n",
       "      <td>...</td>\n",
       "    </tr>\n",
       "    <tr>\n",
       "      <td>16699</td>\n",
       "      <td>The Longest 5 Minutes</td>\n",
       "      <td>PSV</td>\n",
       "      <td>2016.0</td>\n",
       "      <td>Action</td>\n",
       "      <td>0.00</td>\n",
       "      <td>0.00</td>\n",
       "      <td>0.01</td>\n",
       "      <td>0.00</td>\n",
       "      <td>NaN</td>\n",
       "      <td>NaN</td>\n",
       "      <td>RP</td>\n",
       "      <td>0.01</td>\n",
       "    </tr>\n",
       "    <tr>\n",
       "      <td>16703</td>\n",
       "      <td>Strawberry Nauts</td>\n",
       "      <td>PSV</td>\n",
       "      <td>2016.0</td>\n",
       "      <td>Adventure</td>\n",
       "      <td>0.00</td>\n",
       "      <td>0.00</td>\n",
       "      <td>0.01</td>\n",
       "      <td>0.00</td>\n",
       "      <td>NaN</td>\n",
       "      <td>NaN</td>\n",
       "      <td>RP</td>\n",
       "      <td>0.01</td>\n",
       "    </tr>\n",
       "    <tr>\n",
       "      <td>16710</td>\n",
       "      <td>Samurai Warriors: Sanada Maru</td>\n",
       "      <td>PS3</td>\n",
       "      <td>2016.0</td>\n",
       "      <td>Action</td>\n",
       "      <td>0.00</td>\n",
       "      <td>0.00</td>\n",
       "      <td>0.01</td>\n",
       "      <td>0.00</td>\n",
       "      <td>NaN</td>\n",
       "      <td>NaN</td>\n",
       "      <td>RP</td>\n",
       "      <td>0.01</td>\n",
       "    </tr>\n",
       "    <tr>\n",
       "      <td>16712</td>\n",
       "      <td>Haitaka no Psychedelica</td>\n",
       "      <td>PSV</td>\n",
       "      <td>2016.0</td>\n",
       "      <td>Adventure</td>\n",
       "      <td>0.00</td>\n",
       "      <td>0.00</td>\n",
       "      <td>0.01</td>\n",
       "      <td>0.00</td>\n",
       "      <td>NaN</td>\n",
       "      <td>NaN</td>\n",
       "      <td>RP</td>\n",
       "      <td>0.01</td>\n",
       "    </tr>\n",
       "    <tr>\n",
       "      <td>16714</td>\n",
       "      <td>Winning Post 8 2016</td>\n",
       "      <td>PSV</td>\n",
       "      <td>2016.0</td>\n",
       "      <td>Simulation</td>\n",
       "      <td>0.00</td>\n",
       "      <td>0.00</td>\n",
       "      <td>0.01</td>\n",
       "      <td>0.00</td>\n",
       "      <td>NaN</td>\n",
       "      <td>NaN</td>\n",
       "      <td>RP</td>\n",
       "      <td>0.01</td>\n",
       "    </tr>\n",
       "  </tbody>\n",
       "</table>\n",
       "<p>502 rows × 12 columns</p>\n",
       "</div>"
      ],
      "text/plain": [
       "                                 name platform  year_of_release         genre  \\\n",
       "94                            FIFA 17      PS4           2016.0        Sports   \n",
       "108                  Pokemon Sun/Moon      3DS           2016.0  Role-Playing   \n",
       "171        Uncharted 4: A Thief's End      PS4           2016.0       Shooter   \n",
       "245    Call of Duty: Infinite Warfare      PS4           2016.0       Shooter   \n",
       "289                     Battlefield 1      PS4           2016.0       Shooter   \n",
       "...                               ...      ...              ...           ...   \n",
       "16699           The Longest 5 Minutes      PSV           2016.0        Action   \n",
       "16703                Strawberry Nauts      PSV           2016.0     Adventure   \n",
       "16710   Samurai Warriors: Sanada Maru      PS3           2016.0        Action   \n",
       "16712         Haitaka no Psychedelica      PSV           2016.0     Adventure   \n",
       "16714             Winning Post 8 2016      PSV           2016.0    Simulation   \n",
       "\n",
       "       na_sales  eu_sales  jp_sales  other_sales  critic_score  user_score  \\\n",
       "94         0.66      5.75      0.08         1.11          85.0         5.0   \n",
       "108        2.98      1.45      2.26         0.45           NaN         NaN   \n",
       "171        1.85      2.50      0.19         0.85          93.0         7.9   \n",
       "245        1.61      2.00      0.15         0.71          77.0         3.4   \n",
       "289        1.10      2.15      0.21         0.61          88.0         8.4   \n",
       "...         ...       ...       ...          ...           ...         ...   \n",
       "16699      0.00      0.00      0.01         0.00           NaN         NaN   \n",
       "16703      0.00      0.00      0.01         0.00           NaN         NaN   \n",
       "16710      0.00      0.00      0.01         0.00           NaN         NaN   \n",
       "16712      0.00      0.00      0.01         0.00           NaN         NaN   \n",
       "16714      0.00      0.00      0.01         0.00           NaN         NaN   \n",
       "\n",
       "      rating  sales  \n",
       "94         E   7.60  \n",
       "108       RP   7.14  \n",
       "171        T   5.39  \n",
       "245        M   4.47  \n",
       "289        M   4.07  \n",
       "...      ...    ...  \n",
       "16699     RP   0.01  \n",
       "16703     RP   0.01  \n",
       "16710     RP   0.01  \n",
       "16712     RP   0.01  \n",
       "16714     RP   0.01  \n",
       "\n",
       "[502 rows x 12 columns]"
      ]
     },
     "metadata": {},
     "output_type": "display_data"
    }
   ],
   "source": [
    "# отфильтруе общую таблицу данных только для 2016 года\n",
    "data_2016 = data.query('year_of_release == 2016')\n",
    "display(data_2016)"
   ]
  },
  {
   "cell_type": "markdown",
   "metadata": {},
   "source": [
    "Для прогноза на 2017 год следует проанализировать период жизни самых популярных ныне существующих палтформ. Среди таковых: 'PS3', 'PC', 'Wii', 'X360'. \n",
    "    \n",
    "'PS' существует с 1994 года, 'PS3' с 1991 года. Это очень длительный и не показательный период для анализа. 'Wii', 'X360' существуют с 2005-2006 годов, сперва начинают расти, а с 2011 года наблюдается падение. С этого момента по 2016 год и следует проанализировать период, т.е. 5 лет. Также для рассмотрения следует взять ныне живущие платформы."
   ]
  },
  {
   "cell_type": "code",
   "execution_count": 37,
   "metadata": {},
   "outputs": [
    {
     "data": {
      "image/png": "[encoded data removed]",
      "text/plain": [
       "<Figure size 1200x560 with 1 Axes>"
      ]
     },
     "metadata": {
      "needs_background": "light"
     },
     "output_type": "display_data"
    }
   ],
   "source": [
    "platform = ['Wii', 'X360']\n",
    "plt.figure(figsize=(15,7), dpi=80)\n",
    "for i in platform:\n",
    "    data_i = data[data['platform']== i]['year_of_release']\n",
    "    plt.hist([data_i], bins=60, alpha=0.7, label=[i])\n",
    " \n",
    "plt.grid(True)\n",
    "plt.title(\"гистограмма количества выпускаемых игр по годам на разных платфомрах\")\n",
    "plt.legend()\n",
    "plt.show()"
   ]
  },
  {
   "cell_type": "code",
   "execution_count": 38,
   "metadata": {},
   "outputs": [
    {
     "data": {
      "text/html": [
       "<div>\n",
       "<style scoped>\n",
       "    .dataframe tbody tr th:only-of-type {\n",
       "        vertical-align: middle;\n",
       "    }\n",
       "\n",
       "    .dataframe tbody tr th {\n",
       "        vertical-align: top;\n",
       "    }\n",
       "\n",
       "    .dataframe thead th {\n",
       "        text-align: right;\n",
       "    }\n",
       "</style>\n",
       "<table border=\"1\" class=\"dataframe\">\n",
       "  <thead>\n",
       "    <tr style=\"text-align: right;\">\n",
       "      <th></th>\n",
       "      <th>name</th>\n",
       "      <th>platform</th>\n",
       "      <th>year_of_release</th>\n",
       "      <th>genre</th>\n",
       "      <th>na_sales</th>\n",
       "      <th>eu_sales</th>\n",
       "      <th>jp_sales</th>\n",
       "      <th>other_sales</th>\n",
       "      <th>critic_score</th>\n",
       "      <th>user_score</th>\n",
       "      <th>rating</th>\n",
       "      <th>sales</th>\n",
       "    </tr>\n",
       "  </thead>\n",
       "  <tbody>\n",
       "    <tr>\n",
       "      <td>16</td>\n",
       "      <td>Grand Theft Auto V</td>\n",
       "      <td>PS3</td>\n",
       "      <td>2013.0</td>\n",
       "      <td>Action</td>\n",
       "      <td>7.02</td>\n",
       "      <td>9.09</td>\n",
       "      <td>0.98</td>\n",
       "      <td>3.96</td>\n",
       "      <td>97.0</td>\n",
       "      <td>8.2</td>\n",
       "      <td>M</td>\n",
       "      <td>21.05</td>\n",
       "    </tr>\n",
       "    <tr>\n",
       "      <td>23</td>\n",
       "      <td>Grand Theft Auto V</td>\n",
       "      <td>X360</td>\n",
       "      <td>2013.0</td>\n",
       "      <td>Action</td>\n",
       "      <td>9.66</td>\n",
       "      <td>5.14</td>\n",
       "      <td>0.06</td>\n",
       "      <td>1.41</td>\n",
       "      <td>97.0</td>\n",
       "      <td>8.1</td>\n",
       "      <td>M</td>\n",
       "      <td>16.27</td>\n",
       "    </tr>\n",
       "    <tr>\n",
       "      <td>29</td>\n",
       "      <td>Call of Duty: Modern Warfare 3</td>\n",
       "      <td>X360</td>\n",
       "      <td>2011.0</td>\n",
       "      <td>Shooter</td>\n",
       "      <td>9.04</td>\n",
       "      <td>4.24</td>\n",
       "      <td>0.13</td>\n",
       "      <td>1.32</td>\n",
       "      <td>88.0</td>\n",
       "      <td>3.4</td>\n",
       "      <td>M</td>\n",
       "      <td>14.73</td>\n",
       "    </tr>\n",
       "    <tr>\n",
       "      <td>31</td>\n",
       "      <td>Call of Duty: Black Ops 3</td>\n",
       "      <td>PS4</td>\n",
       "      <td>2015.0</td>\n",
       "      <td>Shooter</td>\n",
       "      <td>6.03</td>\n",
       "      <td>5.86</td>\n",
       "      <td>0.36</td>\n",
       "      <td>2.38</td>\n",
       "      <td>NaN</td>\n",
       "      <td>NaN</td>\n",
       "      <td>RP</td>\n",
       "      <td>14.63</td>\n",
       "    </tr>\n",
       "    <tr>\n",
       "      <td>33</td>\n",
       "      <td>Pokemon X/Pokemon Y</td>\n",
       "      <td>3DS</td>\n",
       "      <td>2013.0</td>\n",
       "      <td>Role-Playing</td>\n",
       "      <td>5.28</td>\n",
       "      <td>4.19</td>\n",
       "      <td>4.35</td>\n",
       "      <td>0.78</td>\n",
       "      <td>NaN</td>\n",
       "      <td>NaN</td>\n",
       "      <td>RP</td>\n",
       "      <td>14.60</td>\n",
       "    </tr>\n",
       "    <tr>\n",
       "      <td>...</td>\n",
       "      <td>...</td>\n",
       "      <td>...</td>\n",
       "      <td>...</td>\n",
       "      <td>...</td>\n",
       "      <td>...</td>\n",
       "      <td>...</td>\n",
       "      <td>...</td>\n",
       "      <td>...</td>\n",
       "      <td>...</td>\n",
       "      <td>...</td>\n",
       "      <td>...</td>\n",
       "      <td>...</td>\n",
       "    </tr>\n",
       "    <tr>\n",
       "      <td>16703</td>\n",
       "      <td>Strawberry Nauts</td>\n",
       "      <td>PSV</td>\n",
       "      <td>2016.0</td>\n",
       "      <td>Adventure</td>\n",
       "      <td>0.00</td>\n",
       "      <td>0.00</td>\n",
       "      <td>0.01</td>\n",
       "      <td>0.00</td>\n",
       "      <td>NaN</td>\n",
       "      <td>NaN</td>\n",
       "      <td>RP</td>\n",
       "      <td>0.01</td>\n",
       "    </tr>\n",
       "    <tr>\n",
       "      <td>16707</td>\n",
       "      <td>Aiyoku no Eustia</td>\n",
       "      <td>PSV</td>\n",
       "      <td>2014.0</td>\n",
       "      <td>Misc</td>\n",
       "      <td>0.00</td>\n",
       "      <td>0.00</td>\n",
       "      <td>0.01</td>\n",
       "      <td>0.00</td>\n",
       "      <td>NaN</td>\n",
       "      <td>NaN</td>\n",
       "      <td>RP</td>\n",
       "      <td>0.01</td>\n",
       "    </tr>\n",
       "    <tr>\n",
       "      <td>16710</td>\n",
       "      <td>Samurai Warriors: Sanada Maru</td>\n",
       "      <td>PS3</td>\n",
       "      <td>2016.0</td>\n",
       "      <td>Action</td>\n",
       "      <td>0.00</td>\n",
       "      <td>0.00</td>\n",
       "      <td>0.01</td>\n",
       "      <td>0.00</td>\n",
       "      <td>NaN</td>\n",
       "      <td>NaN</td>\n",
       "      <td>RP</td>\n",
       "      <td>0.01</td>\n",
       "    </tr>\n",
       "    <tr>\n",
       "      <td>16712</td>\n",
       "      <td>Haitaka no Psychedelica</td>\n",
       "      <td>PSV</td>\n",
       "      <td>2016.0</td>\n",
       "      <td>Adventure</td>\n",
       "      <td>0.00</td>\n",
       "      <td>0.00</td>\n",
       "      <td>0.01</td>\n",
       "      <td>0.00</td>\n",
       "      <td>NaN</td>\n",
       "      <td>NaN</td>\n",
       "      <td>RP</td>\n",
       "      <td>0.01</td>\n",
       "    </tr>\n",
       "    <tr>\n",
       "      <td>16714</td>\n",
       "      <td>Winning Post 8 2016</td>\n",
       "      <td>PSV</td>\n",
       "      <td>2016.0</td>\n",
       "      <td>Simulation</td>\n",
       "      <td>0.00</td>\n",
       "      <td>0.00</td>\n",
       "      <td>0.01</td>\n",
       "      <td>0.00</td>\n",
       "      <td>NaN</td>\n",
       "      <td>NaN</td>\n",
       "      <td>RP</td>\n",
       "      <td>0.01</td>\n",
       "    </tr>\n",
       "  </tbody>\n",
       "</table>\n",
       "<p>3544 rows × 12 columns</p>\n",
       "</div>"
      ],
      "text/plain": [
       "                                 name platform  year_of_release         genre  \\\n",
       "16                 Grand Theft Auto V      PS3           2013.0        Action   \n",
       "23                 Grand Theft Auto V     X360           2013.0        Action   \n",
       "29     Call of Duty: Modern Warfare 3     X360           2011.0       Shooter   \n",
       "31          Call of Duty: Black Ops 3      PS4           2015.0       Shooter   \n",
       "33                Pokemon X/Pokemon Y      3DS           2013.0  Role-Playing   \n",
       "...                               ...      ...              ...           ...   \n",
       "16703                Strawberry Nauts      PSV           2016.0     Adventure   \n",
       "16707                Aiyoku no Eustia      PSV           2014.0          Misc   \n",
       "16710   Samurai Warriors: Sanada Maru      PS3           2016.0        Action   \n",
       "16712         Haitaka no Psychedelica      PSV           2016.0     Adventure   \n",
       "16714             Winning Post 8 2016      PSV           2016.0    Simulation   \n",
       "\n",
       "       na_sales  eu_sales  jp_sales  other_sales  critic_score  user_score  \\\n",
       "16         7.02      9.09      0.98         3.96          97.0         8.2   \n",
       "23         9.66      5.14      0.06         1.41          97.0         8.1   \n",
       "29         9.04      4.24      0.13         1.32          88.0         3.4   \n",
       "31         6.03      5.86      0.36         2.38           NaN         NaN   \n",
       "33         5.28      4.19      4.35         0.78           NaN         NaN   \n",
       "...         ...       ...       ...          ...           ...         ...   \n",
       "16703      0.00      0.00      0.01         0.00           NaN         NaN   \n",
       "16707      0.00      0.00      0.01         0.00           NaN         NaN   \n",
       "16710      0.00      0.00      0.01         0.00           NaN         NaN   \n",
       "16712      0.00      0.00      0.01         0.00           NaN         NaN   \n",
       "16714      0.00      0.00      0.01         0.00           NaN         NaN   \n",
       "\n",
       "      rating  sales  \n",
       "16         M  21.05  \n",
       "23         M  16.27  \n",
       "29         M  14.73  \n",
       "31        RP  14.63  \n",
       "33        RP  14.60  \n",
       "...      ...    ...  \n",
       "16703     RP   0.01  \n",
       "16707     RP   0.01  \n",
       "16710     RP   0.01  \n",
       "16712     RP   0.01  \n",
       "16714     RP   0.01  \n",
       "\n",
       "[3544 rows x 12 columns]"
      ]
     },
     "metadata": {},
     "output_type": "display_data"
    }
   ],
   "source": [
    "# отфильтруем общую таблицу данных для периода с 2011 по 2016 годы\n",
    "period = [2011, 2012, 2013, 2014, 2015, 2016]\n",
    "platform_alive = ['XOne', 'PS3', 'PS4', 'PC', 'PSV', 'Wii', 'WiiU', 'X360', '3DS']\n",
    "data_period = data.query('year_of_release in @period & platform in @platform_alive')\n",
    "display(data_period)"
   ]
  },
  {
   "cell_type": "code",
   "execution_count": 39,
   "metadata": {},
   "outputs": [
    {
     "data": {
      "text/html": [
       "<div>\n",
       "<style scoped>\n",
       "    .dataframe tbody tr th:only-of-type {\n",
       "        vertical-align: middle;\n",
       "    }\n",
       "\n",
       "    .dataframe tbody tr th {\n",
       "        vertical-align: top;\n",
       "    }\n",
       "\n",
       "    .dataframe thead th {\n",
       "        text-align: right;\n",
       "    }\n",
       "</style>\n",
       "<table border=\"1\" class=\"dataframe\">\n",
       "  <thead>\n",
       "    <tr style=\"text-align: right;\">\n",
       "      <th></th>\n",
       "      <th>platform</th>\n",
       "      <th>year_of_release</th>\n",
       "      <th>sales</th>\n",
       "    </tr>\n",
       "  </thead>\n",
       "  <tbody>\n",
       "    <tr>\n",
       "      <td>12</td>\n",
       "      <td>PS3</td>\n",
       "      <td>2011.0</td>\n",
       "      <td>157.98</td>\n",
       "    </tr>\n",
       "    <tr>\n",
       "      <td>39</td>\n",
       "      <td>X360</td>\n",
       "      <td>2011.0</td>\n",
       "      <td>145.23</td>\n",
       "    </tr>\n",
       "    <tr>\n",
       "      <td>20</td>\n",
       "      <td>PS4</td>\n",
       "      <td>2015.0</td>\n",
       "      <td>118.90</td>\n",
       "    </tr>\n",
       "    <tr>\n",
       "      <td>14</td>\n",
       "      <td>PS3</td>\n",
       "      <td>2013.0</td>\n",
       "      <td>113.25</td>\n",
       "    </tr>\n",
       "    <tr>\n",
       "      <td>13</td>\n",
       "      <td>PS3</td>\n",
       "      <td>2012.0</td>\n",
       "      <td>108.28</td>\n",
       "    </tr>\n",
       "    <tr>\n",
       "      <td>40</td>\n",
       "      <td>X360</td>\n",
       "      <td>2012.0</td>\n",
       "      <td>100.72</td>\n",
       "    </tr>\n",
       "    <tr>\n",
       "      <td>19</td>\n",
       "      <td>PS4</td>\n",
       "      <td>2014.0</td>\n",
       "      <td>100.00</td>\n",
       "    </tr>\n",
       "    <tr>\n",
       "      <td>41</td>\n",
       "      <td>X360</td>\n",
       "      <td>2013.0</td>\n",
       "      <td>88.58</td>\n",
       "    </tr>\n",
       "    <tr>\n",
       "      <td>21</td>\n",
       "      <td>PS4</td>\n",
       "      <td>2016.0</td>\n",
       "      <td>69.25</td>\n",
       "    </tr>\n",
       "    <tr>\n",
       "      <td>0</td>\n",
       "      <td>3DS</td>\n",
       "      <td>2011.0</td>\n",
       "      <td>63.20</td>\n",
       "    </tr>\n",
       "    <tr>\n",
       "      <td>47</td>\n",
       "      <td>XOne</td>\n",
       "      <td>2015.0</td>\n",
       "      <td>60.14</td>\n",
       "    </tr>\n",
       "    <tr>\n",
       "      <td>28</td>\n",
       "      <td>Wii</td>\n",
       "      <td>2011.0</td>\n",
       "      <td>59.79</td>\n",
       "    </tr>\n",
       "    <tr>\n",
       "      <td>2</td>\n",
       "      <td>3DS</td>\n",
       "      <td>2013.0</td>\n",
       "      <td>56.57</td>\n",
       "    </tr>\n",
       "    <tr>\n",
       "      <td>46</td>\n",
       "      <td>XOne</td>\n",
       "      <td>2014.0</td>\n",
       "      <td>54.07</td>\n",
       "    </tr>\n",
       "    <tr>\n",
       "      <td>1</td>\n",
       "      <td>3DS</td>\n",
       "      <td>2012.0</td>\n",
       "      <td>51.76</td>\n",
       "    </tr>\n",
       "    <tr>\n",
       "      <td>15</td>\n",
       "      <td>PS3</td>\n",
       "      <td>2014.0</td>\n",
       "      <td>47.76</td>\n",
       "    </tr>\n",
       "    <tr>\n",
       "      <td>3</td>\n",
       "      <td>3DS</td>\n",
       "      <td>2014.0</td>\n",
       "      <td>43.76</td>\n",
       "    </tr>\n",
       "    <tr>\n",
       "      <td>6</td>\n",
       "      <td>PC</td>\n",
       "      <td>2011.0</td>\n",
       "      <td>35.16</td>\n",
       "    </tr>\n",
       "    <tr>\n",
       "      <td>42</td>\n",
       "      <td>X360</td>\n",
       "      <td>2014.0</td>\n",
       "      <td>34.74</td>\n",
       "    </tr>\n",
       "    <tr>\n",
       "      <td>4</td>\n",
       "      <td>3DS</td>\n",
       "      <td>2015.0</td>\n",
       "      <td>27.78</td>\n",
       "    </tr>\n",
       "    <tr>\n",
       "      <td>48</td>\n",
       "      <td>XOne</td>\n",
       "      <td>2016.0</td>\n",
       "      <td>26.15</td>\n",
       "    </tr>\n",
       "    <tr>\n",
       "      <td>18</td>\n",
       "      <td>PS4</td>\n",
       "      <td>2013.0</td>\n",
       "      <td>25.99</td>\n",
       "    </tr>\n",
       "    <tr>\n",
       "      <td>7</td>\n",
       "      <td>PC</td>\n",
       "      <td>2012.0</td>\n",
       "      <td>23.45</td>\n",
       "    </tr>\n",
       "    <tr>\n",
       "      <td>29</td>\n",
       "      <td>Wii</td>\n",
       "      <td>2012.0</td>\n",
       "      <td>22.94</td>\n",
       "    </tr>\n",
       "    <tr>\n",
       "      <td>36</td>\n",
       "      <td>WiiU</td>\n",
       "      <td>2014.0</td>\n",
       "      <td>22.03</td>\n",
       "    </tr>\n",
       "    <tr>\n",
       "      <td>35</td>\n",
       "      <td>WiiU</td>\n",
       "      <td>2013.0</td>\n",
       "      <td>21.65</td>\n",
       "    </tr>\n",
       "    <tr>\n",
       "      <td>45</td>\n",
       "      <td>XOne</td>\n",
       "      <td>2013.0</td>\n",
       "      <td>18.96</td>\n",
       "    </tr>\n",
       "    <tr>\n",
       "      <td>34</td>\n",
       "      <td>WiiU</td>\n",
       "      <td>2012.0</td>\n",
       "      <td>17.56</td>\n",
       "    </tr>\n",
       "    <tr>\n",
       "      <td>16</td>\n",
       "      <td>PS3</td>\n",
       "      <td>2015.0</td>\n",
       "      <td>16.82</td>\n",
       "    </tr>\n",
       "    <tr>\n",
       "      <td>37</td>\n",
       "      <td>WiiU</td>\n",
       "      <td>2015.0</td>\n",
       "      <td>16.35</td>\n",
       "    </tr>\n",
       "    <tr>\n",
       "      <td>23</td>\n",
       "      <td>PSV</td>\n",
       "      <td>2012.0</td>\n",
       "      <td>16.19</td>\n",
       "    </tr>\n",
       "    <tr>\n",
       "      <td>5</td>\n",
       "      <td>3DS</td>\n",
       "      <td>2016.0</td>\n",
       "      <td>15.14</td>\n",
       "    </tr>\n",
       "    <tr>\n",
       "      <td>9</td>\n",
       "      <td>PC</td>\n",
       "      <td>2014.0</td>\n",
       "      <td>13.28</td>\n",
       "    </tr>\n",
       "    <tr>\n",
       "      <td>8</td>\n",
       "      <td>PC</td>\n",
       "      <td>2013.0</td>\n",
       "      <td>13.01</td>\n",
       "    </tr>\n",
       "    <tr>\n",
       "      <td>43</td>\n",
       "      <td>X360</td>\n",
       "      <td>2015.0</td>\n",
       "      <td>11.96</td>\n",
       "    </tr>\n",
       "    <tr>\n",
       "      <td>25</td>\n",
       "      <td>PSV</td>\n",
       "      <td>2014.0</td>\n",
       "      <td>11.90</td>\n",
       "    </tr>\n",
       "    <tr>\n",
       "      <td>24</td>\n",
       "      <td>PSV</td>\n",
       "      <td>2013.0</td>\n",
       "      <td>10.59</td>\n",
       "    </tr>\n",
       "    <tr>\n",
       "      <td>30</td>\n",
       "      <td>Wii</td>\n",
       "      <td>2013.0</td>\n",
       "      <td>8.59</td>\n",
       "    </tr>\n",
       "    <tr>\n",
       "      <td>10</td>\n",
       "      <td>PC</td>\n",
       "      <td>2015.0</td>\n",
       "      <td>8.52</td>\n",
       "    </tr>\n",
       "    <tr>\n",
       "      <td>26</td>\n",
       "      <td>PSV</td>\n",
       "      <td>2015.0</td>\n",
       "      <td>6.25</td>\n",
       "    </tr>\n",
       "    <tr>\n",
       "      <td>11</td>\n",
       "      <td>PC</td>\n",
       "      <td>2016.0</td>\n",
       "      <td>5.25</td>\n",
       "    </tr>\n",
       "    <tr>\n",
       "      <td>22</td>\n",
       "      <td>PSV</td>\n",
       "      <td>2011.0</td>\n",
       "      <td>4.63</td>\n",
       "    </tr>\n",
       "    <tr>\n",
       "      <td>38</td>\n",
       "      <td>WiiU</td>\n",
       "      <td>2016.0</td>\n",
       "      <td>4.60</td>\n",
       "    </tr>\n",
       "    <tr>\n",
       "      <td>27</td>\n",
       "      <td>PSV</td>\n",
       "      <td>2016.0</td>\n",
       "      <td>4.25</td>\n",
       "    </tr>\n",
       "    <tr>\n",
       "      <td>31</td>\n",
       "      <td>Wii</td>\n",
       "      <td>2014.0</td>\n",
       "      <td>3.75</td>\n",
       "    </tr>\n",
       "    <tr>\n",
       "      <td>17</td>\n",
       "      <td>PS3</td>\n",
       "      <td>2016.0</td>\n",
       "      <td>3.60</td>\n",
       "    </tr>\n",
       "    <tr>\n",
       "      <td>44</td>\n",
       "      <td>X360</td>\n",
       "      <td>2016.0</td>\n",
       "      <td>1.52</td>\n",
       "    </tr>\n",
       "    <tr>\n",
       "      <td>32</td>\n",
       "      <td>Wii</td>\n",
       "      <td>2015.0</td>\n",
       "      <td>1.14</td>\n",
       "    </tr>\n",
       "    <tr>\n",
       "      <td>33</td>\n",
       "      <td>Wii</td>\n",
       "      <td>2016.0</td>\n",
       "      <td>0.18</td>\n",
       "    </tr>\n",
       "  </tbody>\n",
       "</table>\n",
       "</div>"
      ],
      "text/plain": [
       "   platform  year_of_release   sales\n",
       "12      PS3           2011.0  157.98\n",
       "39     X360           2011.0  145.23\n",
       "20      PS4           2015.0  118.90\n",
       "14      PS3           2013.0  113.25\n",
       "13      PS3           2012.0  108.28\n",
       "40     X360           2012.0  100.72\n",
       "19      PS4           2014.0  100.00\n",
       "41     X360           2013.0   88.58\n",
       "21      PS4           2016.0   69.25\n",
       "0       3DS           2011.0   63.20\n",
       "47     XOne           2015.0   60.14\n",
       "28      Wii           2011.0   59.79\n",
       "2       3DS           2013.0   56.57\n",
       "46     XOne           2014.0   54.07\n",
       "1       3DS           2012.0   51.76\n",
       "15      PS3           2014.0   47.76\n",
       "3       3DS           2014.0   43.76\n",
       "6        PC           2011.0   35.16\n",
       "42     X360           2014.0   34.74\n",
       "4       3DS           2015.0   27.78\n",
       "48     XOne           2016.0   26.15\n",
       "18      PS4           2013.0   25.99\n",
       "7        PC           2012.0   23.45\n",
       "29      Wii           2012.0   22.94\n",
       "36     WiiU           2014.0   22.03\n",
       "35     WiiU           2013.0   21.65\n",
       "45     XOne           2013.0   18.96\n",
       "34     WiiU           2012.0   17.56\n",
       "16      PS3           2015.0   16.82\n",
       "37     WiiU           2015.0   16.35\n",
       "23      PSV           2012.0   16.19\n",
       "5       3DS           2016.0   15.14\n",
       "9        PC           2014.0   13.28\n",
       "8        PC           2013.0   13.01\n",
       "43     X360           2015.0   11.96\n",
       "25      PSV           2014.0   11.90\n",
       "24      PSV           2013.0   10.59\n",
       "30      Wii           2013.0    8.59\n",
       "10       PC           2015.0    8.52\n",
       "26      PSV           2015.0    6.25\n",
       "11       PC           2016.0    5.25\n",
       "22      PSV           2011.0    4.63\n",
       "38     WiiU           2016.0    4.60\n",
       "27      PSV           2016.0    4.25\n",
       "31      Wii           2014.0    3.75\n",
       "17      PS3           2016.0    3.60\n",
       "44     X360           2016.0    1.52\n",
       "32      Wii           2015.0    1.14\n",
       "33      Wii           2016.0    0.18"
      ]
     },
     "metadata": {},
     "output_type": "display_data"
    }
   ],
   "source": [
    "# общие продажи на каждой платформе в период с 2011 по 2016 годы, млн. проданных копий\n",
    "data_period_sales = data_period.pivot_table(index=['platform', 'year_of_release'], values='sales', aggfunc=np.sum).reset_index().sort_values(by='sales', ascending=False)\n",
    "display(data_period_sales)"
   ]
  },
  {
   "cell_type": "code",
   "execution_count": 40,
   "metadata": {},
   "outputs": [
    {
     "data": {
      "text/html": [
       "<div>\n",
       "<style scoped>\n",
       "    .dataframe tbody tr th:only-of-type {\n",
       "        vertical-align: middle;\n",
       "    }\n",
       "\n",
       "    .dataframe tbody tr th {\n",
       "        vertical-align: top;\n",
       "    }\n",
       "\n",
       "    .dataframe thead th {\n",
       "        text-align: right;\n",
       "    }\n",
       "</style>\n",
       "<table border=\"1\" class=\"dataframe\">\n",
       "  <thead>\n",
       "    <tr style=\"text-align: right;\">\n",
       "      <th></th>\n",
       "      <th>year_of_release</th>\n",
       "      <th>sales</th>\n",
       "    </tr>\n",
       "  </thead>\n",
       "  <tbody>\n",
       "    <tr>\n",
       "      <td>5</td>\n",
       "      <td>2016.0</td>\n",
       "      <td>14.437778</td>\n",
       "    </tr>\n",
       "    <tr>\n",
       "      <td>4</td>\n",
       "      <td>2015.0</td>\n",
       "      <td>29.762222</td>\n",
       "    </tr>\n",
       "    <tr>\n",
       "      <td>3</td>\n",
       "      <td>2014.0</td>\n",
       "      <td>36.810000</td>\n",
       "    </tr>\n",
       "    <tr>\n",
       "      <td>2</td>\n",
       "      <td>2013.0</td>\n",
       "      <td>39.687778</td>\n",
       "    </tr>\n",
       "    <tr>\n",
       "      <td>1</td>\n",
       "      <td>2012.0</td>\n",
       "      <td>48.700000</td>\n",
       "    </tr>\n",
       "    <tr>\n",
       "      <td>0</td>\n",
       "      <td>2011.0</td>\n",
       "      <td>77.665000</td>\n",
       "    </tr>\n",
       "  </tbody>\n",
       "</table>\n",
       "</div>"
      ],
      "text/plain": [
       "   year_of_release      sales\n",
       "5           2016.0  14.437778\n",
       "4           2015.0  29.762222\n",
       "3           2014.0  36.810000\n",
       "2           2013.0  39.687778\n",
       "1           2012.0  48.700000\n",
       "0           2011.0  77.665000"
      ]
     },
     "metadata": {},
     "output_type": "display_data"
    },
    {
     "data": {
      "text/plain": [
       "Text(0.5, 1.0, 'Среднее кол-во продаж на живых платформах за расчетный период, млн. проданных копий')"
      ]
     },
     "execution_count": 40,
     "metadata": {},
     "output_type": "execute_result"
    },
    {
     "data": {
      "image/png": "[encoded data removed]",
      "text/plain": [
       "<Figure size 432x288 with 1 Axes>"
      ]
     },
     "metadata": {
      "needs_background": "light"
     },
     "output_type": "display_data"
    }
   ],
   "source": [
    "data_period_sales_total = data_period_sales.pivot_table(index=['year_of_release'], values='sales').reset_index().sort_values(by='sales')\n",
    "display(data_period_sales_total)\n",
    "\n",
    "x = [2016, 2015, 2014, 2013, 2012, 2011]\n",
    "plt.plot(x, data_period_sales_total['sales'], marker=\"o\")\n",
    "plt.title(\"Среднее кол-во продаж на живых платформах за расчетный период, млн. проданных копий\")"
   ]
  },
  {
   "cell_type": "code",
   "execution_count": 41,
   "metadata": {},
   "outputs": [
    {
     "name": "stdout",
     "output_type": "stream",
     "text": [
      "Продажи в 2017 году могут составить только 5.872222222222224 млн. копий\n"
     ]
    }
   ],
   "source": [
    "data_period_sales_total = data_period_sales_total.query('year_of_release != 2011').reset_index(drop=True)\n",
    "\n",
    "# рассмотрим период, начиная с 2012 года\n",
    "\n",
    "difference=[]\n",
    "for i in range(len(data_period_sales_total)-1):\n",
    "    b = data_period_sales_total['sales'][i+1] - data_period_sales_total['sales'][i]\n",
    "    difference.append(b)\n",
    "\n",
    "difference_mean = sum(difference) / len(difference)\n",
    "print('Продажи в 2017 году могут составить только', data_period_sales_total['sales'][0] - difference_mean, 'млн. копий')"
   ]
  },
  {
   "cell_type": "markdown",
   "metadata": {},
   "source": [
    "**Вывод:**\n",
    "\n",
    "Средние продажи за посление 5 лет данных показывают снижение. Более равномерное снижение продаж в средем происходит с 2012 года, и составляет в среднем 8,56 млн.копий. Таким образом, можно предположить, что в 2017 году также будет наблюдаться снижение продаж и должно составить примерно 5,9 млн. копий"
   ]
  },
  {
   "cell_type": "markdown",
   "metadata": {},
   "source": [
    "### Ведущие платформы"
   ]
  },
  {
   "cell_type": "code",
   "execution_count": 42,
   "metadata": {},
   "outputs": [],
   "source": [
    "platform_sales_2016 = data.query('year_of_release == 2016')\n",
    "platform_sales_2016 = platform_sales_2016.pivot_table(index=['platform', 'year_of_release'], values='sales', aggfunc=np.sum).reset_index().sort_values(by='sales', ascending=False)"
   ]
  },
  {
   "cell_type": "code",
   "execution_count": 43,
   "metadata": {},
   "outputs": [],
   "source": [
    "platform_sales_2015 = data.query('year_of_release == 2015')\n",
    "platform_sales_2015 = platform_sales_2016.pivot_table(index=['platform', 'year_of_release'], values='sales', aggfunc=np.sum).reset_index().sort_values(by='sales', ascending=False)"
   ]
  },
  {
   "cell_type": "code",
   "execution_count": 44,
   "metadata": {},
   "outputs": [
    {
     "data": {
      "text/plain": [
       "Text(0.5, 1.0, 'Гистограмма продаж на каждой из платформ в 2016 году')"
      ]
     },
     "execution_count": 44,
     "metadata": {},
     "output_type": "execute_result"
    },
    {
     "data": {
      "image/png": "[encoded data removed]",
      "text/plain": [
       "<Figure size 1200x400 with 1 Axes>"
      ]
     },
     "metadata": {
      "needs_background": "light"
     },
     "output_type": "display_data"
    }
   ],
   "source": [
    "plt.figure(figsize=(15,5), dpi=80)\n",
    "seaborn.barplot(y='platform', x='sales', data=platform_sales_2016)\n",
    "plt.title(\"Гистограмма продаж на каждой из платформ в 2016 году\")"
   ]
  },
  {
   "cell_type": "markdown",
   "metadata": {},
   "source": [
    "Три потенциально прибыльные платформы: PS4, XOne, 3DS. \n",
    "\n",
    "Оценим растут ли они в прибыльности или нет. Для этого рассмотрим каждую за 2015 и за 2016 годы."
   ]
  },
  {
   "cell_type": "code",
   "execution_count": 45,
   "metadata": {},
   "outputs": [
    {
     "data": {
      "text/html": [
       "<div>\n",
       "<style scoped>\n",
       "    .dataframe tbody tr th:only-of-type {\n",
       "        vertical-align: middle;\n",
       "    }\n",
       "\n",
       "    .dataframe tbody tr th {\n",
       "        vertical-align: top;\n",
       "    }\n",
       "\n",
       "    .dataframe thead th {\n",
       "        text-align: right;\n",
       "    }\n",
       "</style>\n",
       "<table border=\"1\" class=\"dataframe\">\n",
       "  <thead>\n",
       "    <tr style=\"text-align: right;\">\n",
       "      <th></th>\n",
       "      <th>platform</th>\n",
       "      <th>year_of_release_x</th>\n",
       "      <th>2015</th>\n",
       "      <th>year_of_release_y</th>\n",
       "      <th>2016</th>\n",
       "    </tr>\n",
       "  </thead>\n",
       "  <tbody>\n",
       "    <tr>\n",
       "      <td>0</td>\n",
       "      <td>PS4</td>\n",
       "      <td>2016.0</td>\n",
       "      <td>69.25</td>\n",
       "      <td>2016.0</td>\n",
       "      <td>69.25</td>\n",
       "    </tr>\n",
       "    <tr>\n",
       "      <td>1</td>\n",
       "      <td>XOne</td>\n",
       "      <td>2016.0</td>\n",
       "      <td>26.15</td>\n",
       "      <td>2016.0</td>\n",
       "      <td>26.15</td>\n",
       "    </tr>\n",
       "    <tr>\n",
       "      <td>2</td>\n",
       "      <td>3DS</td>\n",
       "      <td>2016.0</td>\n",
       "      <td>15.14</td>\n",
       "      <td>2016.0</td>\n",
       "      <td>15.14</td>\n",
       "    </tr>\n",
       "    <tr>\n",
       "      <td>3</td>\n",
       "      <td>PC</td>\n",
       "      <td>2016.0</td>\n",
       "      <td>5.25</td>\n",
       "      <td>2016.0</td>\n",
       "      <td>5.25</td>\n",
       "    </tr>\n",
       "    <tr>\n",
       "      <td>4</td>\n",
       "      <td>WiiU</td>\n",
       "      <td>2016.0</td>\n",
       "      <td>4.60</td>\n",
       "      <td>2016.0</td>\n",
       "      <td>4.60</td>\n",
       "    </tr>\n",
       "    <tr>\n",
       "      <td>5</td>\n",
       "      <td>PSV</td>\n",
       "      <td>2016.0</td>\n",
       "      <td>4.25</td>\n",
       "      <td>2016.0</td>\n",
       "      <td>4.25</td>\n",
       "    </tr>\n",
       "    <tr>\n",
       "      <td>6</td>\n",
       "      <td>PS3</td>\n",
       "      <td>2016.0</td>\n",
       "      <td>3.60</td>\n",
       "      <td>2016.0</td>\n",
       "      <td>3.60</td>\n",
       "    </tr>\n",
       "    <tr>\n",
       "      <td>7</td>\n",
       "      <td>X360</td>\n",
       "      <td>2016.0</td>\n",
       "      <td>1.52</td>\n",
       "      <td>2016.0</td>\n",
       "      <td>1.52</td>\n",
       "    </tr>\n",
       "    <tr>\n",
       "      <td>8</td>\n",
       "      <td>Wii</td>\n",
       "      <td>2016.0</td>\n",
       "      <td>0.18</td>\n",
       "      <td>2016.0</td>\n",
       "      <td>0.18</td>\n",
       "    </tr>\n",
       "  </tbody>\n",
       "</table>\n",
       "</div>"
      ],
      "text/plain": [
       "  platform  year_of_release_x   2015  year_of_release_y   2016\n",
       "0      PS4             2016.0  69.25             2016.0  69.25\n",
       "1     XOne             2016.0  26.15             2016.0  26.15\n",
       "2      3DS             2016.0  15.14             2016.0  15.14\n",
       "3       PC             2016.0   5.25             2016.0   5.25\n",
       "4     WiiU             2016.0   4.60             2016.0   4.60\n",
       "5      PSV             2016.0   4.25             2016.0   4.25\n",
       "6      PS3             2016.0   3.60             2016.0   3.60\n",
       "7     X360             2016.0   1.52             2016.0   1.52\n",
       "8      Wii             2016.0   0.18             2016.0   0.18"
      ]
     },
     "metadata": {},
     "output_type": "display_data"
    }
   ],
   "source": [
    "display(pd.merge(platform_sales_2015,platform_sales_2016, on=['platform']).rename(columns={\"sales_x\": \"2015\", \"sales_y\": \"2016\"}))"
   ]
  },
  {
   "cell_type": "markdown",
   "metadata": {},
   "source": [
    "Продажи на всех, в том числе и на ведущих платформах, падают"
   ]
  },
  {
   "cell_type": "markdown",
   "metadata": {},
   "source": [
    "### Диаграмма размаха для продаж по всем платформам"
   ]
  },
  {
   "cell_type": "code",
   "execution_count": 46,
   "metadata": {},
   "outputs": [
    {
     "data": {
      "text/plain": [
       "Text(0.5, 1.0, 'Диаграмма размаха продаж с 1980 по 2016 год')"
      ]
     },
     "execution_count": 46,
     "metadata": {},
     "output_type": "execute_result"
    },
    {
     "data": {
      "image/png": "[encoded data removed]",
      "text/plain": [
       "<Figure size 432x288 with 1 Axes>"
      ]
     },
     "metadata": {
      "needs_background": "light"
     },
     "output_type": "display_data"
    }
   ],
   "source": [
    "plt.ylim(-100,1100)\n",
    "platform_sales.boxplot()\n",
    "plt.title(\"Диаграмма размаха продаж с 1980 по 2016 год\")"
   ]
  },
  {
   "cell_type": "code",
   "execution_count": 47,
   "metadata": {},
   "outputs": [
    {
     "name": "stdout",
     "output_type": "stream",
     "text": [
      "             sales\n",
      "count    31.000000\n",
      "mean    287.603548\n",
      "std     348.160256\n",
      "min       0.030000\n",
      "25%      23.360000\n",
      "50%     200.040000\n",
      "75%     304.095000\n",
      "max    1255.770000\n"
     ]
    }
   ],
   "source": [
    "print(platform_sales.describe())"
   ]
  },
  {
   "cell_type": "code",
   "execution_count": 48,
   "metadata": {},
   "outputs": [
    {
     "data": {
      "text/plain": [
       "Text(0.5, 1.0, 'Диаграмма размаха продаж за 2016 год')"
      ]
     },
     "execution_count": 48,
     "metadata": {},
     "output_type": "execute_result"
    },
    {
     "data": {
      "image/png": "[encoded data removed]",
      "text/plain": [
       "<Figure size 432x288 with 1 Axes>"
      ]
     },
     "metadata": {
      "needs_background": "light"
     },
     "output_type": "display_data"
    }
   ],
   "source": [
    "plt.ylim(-5,75)\n",
    "platform_sales_2016.boxplot()\n",
    "plt.title(\"Диаграмма размаха продаж за 2016 год\")"
   ]
  },
  {
   "cell_type": "code",
   "execution_count": 49,
   "metadata": {},
   "outputs": [
    {
     "name": "stdout",
     "output_type": "stream",
     "text": [
      "       year_of_release      sales\n",
      "count              9.0   9.000000\n",
      "mean            2016.0  14.437778\n",
      "std                0.0  22.120826\n",
      "min             2016.0   0.180000\n",
      "25%             2016.0   3.600000\n",
      "50%             2016.0   4.600000\n",
      "75%             2016.0  15.140000\n",
      "max             2016.0  69.250000\n"
     ]
    }
   ],
   "source": [
    "print(platform_sales_2016.describe())"
   ]
  },
  {
   "cell_type": "code",
   "execution_count": 50,
   "metadata": {},
   "outputs": [
    {
     "data": {
      "text/plain": [
       "Text(0.5, 1.0, 'Диаграмма размаха продаж за 2015 год')"
      ]
     },
     "execution_count": 50,
     "metadata": {},
     "output_type": "execute_result"
    },
    {
     "data": {
      "image/png": "[encoded data removed]",
      "text/plain": [
       "<Figure size 432x288 with 1 Axes>"
      ]
     },
     "metadata": {
      "needs_background": "light"
     },
     "output_type": "display_data"
    }
   ],
   "source": [
    "plt.ylim(-5,75)\n",
    "platform_sales_2015.boxplot()\n",
    "plt.title(\"Диаграмма размаха продаж за 2015 год\")"
   ]
  },
  {
   "cell_type": "code",
   "execution_count": 51,
   "metadata": {},
   "outputs": [
    {
     "name": "stdout",
     "output_type": "stream",
     "text": [
      "       year_of_release      sales\n",
      "count              9.0   9.000000\n",
      "mean            2016.0  14.437778\n",
      "std                0.0  22.120826\n",
      "min             2016.0   0.180000\n",
      "25%             2016.0   3.600000\n",
      "50%             2016.0   4.600000\n",
      "75%             2016.0  15.140000\n",
      "max             2016.0  69.250000\n"
     ]
    }
   ],
   "source": [
    "print(platform_sales_2015.describe())"
   ]
  },
  {
   "cell_type": "markdown",
   "metadata": {},
   "source": [
    "**Вывод:** Средний объем продаж по платформам за весь период составляет 200 млн.копий. Наблюдаются единичные выбросы. За 2016 год средний объем продаж составил 4,6 млн.копий."
   ]
  },
  {
   "cell_type": "code",
   "execution_count": 52,
   "metadata": {},
   "outputs": [
    {
     "data": {
      "text/plain": [
       "Text(0.5, 1.0, 'График числа проданных копий по платформам за рассматриваемый период')"
      ]
     },
     "execution_count": 52,
     "metadata": {},
     "output_type": "execute_result"
    },
    {
     "data": {
      "image/png": "[encoded data removed]",
      "text/plain": [
       "<Figure size 1500x800 with 1 Axes>"
      ]
     },
     "metadata": {
      "needs_background": "light"
     },
     "output_type": "display_data"
    }
   ],
   "source": [
    "plt.figure(figsize=(15,8), dpi=100)\n",
    "sns.boxplot(data=data_period, y='platform', x='sales')\n",
    "plt.title(\"График числа проданных копий по платформам за рассматриваемый период\")"
   ]
  },
  {
   "cell_type": "markdown",
   "metadata": {},
   "source": [
    "На некоторых платформах выбросы очень большие, это наблюдается на наиболее популярных платформах, наиболее популярные игры продаются сильнее на популярных платформах. Среднее кол-во продаж на популярных платформах разнится не сильно."
   ]
  },
  {
   "cell_type": "markdown",
   "metadata": {},
   "source": [
    "### Зависимость рейтинга от продаж"
   ]
  },
  {
   "cell_type": "markdown",
   "metadata": {},
   "source": [
    "#### Рассмотрим платформу PS4"
   ]
  },
  {
   "cell_type": "code",
   "execution_count": 53,
   "metadata": {},
   "outputs": [],
   "source": [
    "ps4 = data.query('platform == \"PS4\"')"
   ]
  },
  {
   "cell_type": "code",
   "execution_count": 54,
   "metadata": {},
   "outputs": [
    {
     "name": "stdout",
     "output_type": "stream",
     "text": [
      "Для платформы PS4 корреляция между оценкой критиков и объемом продаж составляет 0.40656790206178095\n"
     ]
    }
   ],
   "source": [
    "print('Для платформы PS4 корреляция между оценкой критиков и объемом продаж составляет', ps4['critic_score'].corr(ps4['sales']))"
   ]
  },
  {
   "cell_type": "code",
   "execution_count": 55,
   "metadata": {},
   "outputs": [
    {
     "data": {
      "text/plain": [
       "Text(0.5, 1.0, 'Зависимость продаж от рейтинга критиков на платформе PS4')"
      ]
     },
     "execution_count": 55,
     "metadata": {},
     "output_type": "execute_result"
    },
    {
     "data": {
      "image/png": "[encoded data removed]",
      "text/plain": [
       "<Figure size 432x288 with 1 Axes>"
      ]
     },
     "metadata": {
      "needs_background": "light"
     },
     "output_type": "display_data"
    },
    {
     "data": {
      "image/png": "[encoded data removed]",
      "text/plain": [
       "<Figure size 432x288 with 1 Axes>"
      ]
     },
     "metadata": {
      "needs_background": "light"
     },
     "output_type": "display_data"
    }
   ],
   "source": [
    "seaborn.barplot(x='critic_score', y='sales', data=ps4)\n",
    "ps4.plot(x='critic_score', y='sales', kind='scatter', grid=True)\n",
    "plt.title(\"Зависимость продаж от рейтинга критиков на платформе PS4\")"
   ]
  },
  {
   "cell_type": "code",
   "execution_count": 56,
   "metadata": {},
   "outputs": [
    {
     "name": "stdout",
     "output_type": "stream",
     "text": [
      "Для платформы PS4 корреляция между оценкой пользователей и объемом продаж составляет -0.031957110204556424\n"
     ]
    }
   ],
   "source": [
    "print('Для платформы PS4 корреляция между оценкой пользователей и объемом продаж составляет', ps4['user_score'].corr(ps4['sales']))"
   ]
  },
  {
   "cell_type": "code",
   "execution_count": 57,
   "metadata": {},
   "outputs": [
    {
     "data": {
      "text/plain": [
       "Text(0.5, 1.0, 'Зависимость продаж от рейтинга пользователей на платформе PS4')"
      ]
     },
     "execution_count": 57,
     "metadata": {},
     "output_type": "execute_result"
    },
    {
     "data": {
      "image/png": "[encoded data removed]",
      "text/plain": [
       "<Figure size 432x288 with 1 Axes>"
      ]
     },
     "metadata": {
      "needs_background": "light"
     },
     "output_type": "display_data"
    },
    {
     "data": {
      "image/png": "[encoded data removed]",
      "text/plain": [
       "<Figure size 432x288 with 1 Axes>"
      ]
     },
     "metadata": {
      "needs_background": "light"
     },
     "output_type": "display_data"
    }
   ],
   "source": [
    "seaborn.barplot(x='user_score', y='sales', data=ps4)\n",
    "ps4.plot(x='user_score', y='sales', kind='scatter', grid=True)\n",
    "plt.title(\"Зависимость продаж от рейтинга пользователей на платформе PS4\")"
   ]
  },
  {
   "cell_type": "markdown",
   "metadata": {},
   "source": [
    "#### Рассмотрим платформу XOne"
   ]
  },
  {
   "cell_type": "code",
   "execution_count": 58,
   "metadata": {},
   "outputs": [],
   "source": [
    "xone = data.query('platform == \"XOne\"')"
   ]
  },
  {
   "cell_type": "code",
   "execution_count": 59,
   "metadata": {},
   "outputs": [
    {
     "name": "stdout",
     "output_type": "stream",
     "text": [
      "Для платформы XOne корреляция между оценкой критиков и объемом продаж составляет 0.4169983280084017\n"
     ]
    }
   ],
   "source": [
    "print('Для платформы XOne корреляция между оценкой критиков и объемом продаж составляет', xone['critic_score'].corr(xone['sales']))"
   ]
  },
  {
   "cell_type": "code",
   "execution_count": 60,
   "metadata": {},
   "outputs": [
    {
     "data": {
      "text/plain": [
       "Text(0.5, 1.0, 'Зависимость продаж от рейтинга критиков на платформе XOne')"
      ]
     },
     "execution_count": 60,
     "metadata": {},
     "output_type": "execute_result"
    },
    {
     "data": {
      "image/png": "[encoded data removed]",
      "text/plain": [
       "<Figure size 432x288 with 1 Axes>"
      ]
     },
     "metadata": {
      "needs_background": "light"
     },
     "output_type": "display_data"
    },
    {
     "data": {
      "image/png": "[encoded data removed]",
      "text/plain": [
       "<Figure size 432x288 with 1 Axes>"
      ]
     },
     "metadata": {
      "needs_background": "light"
     },
     "output_type": "display_data"
    }
   ],
   "source": [
    "seaborn.barplot(x='critic_score', y='sales', data=xone)\n",
    "xone.plot(x='critic_score', y='sales', kind='scatter', grid=True)\n",
    "plt.title(\"Зависимость продаж от рейтинга критиков на платформе XOne\")"
   ]
  },
  {
   "cell_type": "code",
   "execution_count": 61,
   "metadata": {},
   "outputs": [
    {
     "name": "stdout",
     "output_type": "stream",
     "text": [
      "Для платформы XOne корреляция между оценкой пользователей и объемом продаж составляет -0.06892505328279414\n"
     ]
    }
   ],
   "source": [
    "print('Для платформы XOne корреляция между оценкой пользователей и объемом продаж составляет', xone['user_score'].corr(xone['sales']))"
   ]
  },
  {
   "cell_type": "code",
   "execution_count": 62,
   "metadata": {},
   "outputs": [
    {
     "data": {
      "text/plain": [
       "Text(0.5, 1.0, 'Зависимость продаж от рейтинга пользователей на платформе XOne')"
      ]
     },
     "execution_count": 62,
     "metadata": {},
     "output_type": "execute_result"
    },
    {
     "data": {
      "image/png": "[encoded data removed]",
      "text/plain": [
       "<Figure size 432x288 with 1 Axes>"
      ]
     },
     "metadata": {
      "needs_background": "light"
     },
     "output_type": "display_data"
    },
    {
     "data": {
      "image/png": "[encoded data removed]",
      "text/plain": [
       "<Figure size 432x288 with 1 Axes>"
      ]
     },
     "metadata": {
      "needs_background": "light"
     },
     "output_type": "display_data"
    }
   ],
   "source": [
    "seaborn.barplot(x='user_score', y='sales', data=xone)\n",
    "xone.plot(x='user_score', y='sales', kind='scatter', grid=True)\n",
    "plt.title(\"Зависимость продаж от рейтинга пользователей на платформе XOne\")"
   ]
  },
  {
   "cell_type": "markdown",
   "metadata": {},
   "source": [
    "#### Рассмотрим платформу 3DS"
   ]
  },
  {
   "cell_type": "code",
   "execution_count": 63,
   "metadata": {},
   "outputs": [],
   "source": [
    "ds = data.query('platform == \"3DS\"')"
   ]
  },
  {
   "cell_type": "code",
   "execution_count": 64,
   "metadata": {},
   "outputs": [
    {
     "name": "stdout",
     "output_type": "stream",
     "text": [
      "Для платформы 3DS корреляция между оценкой критиков и объемом продаж составляет 0.3494009303924131\n"
     ]
    }
   ],
   "source": [
    "print('Для платформы 3DS корреляция между оценкой критиков и объемом продаж составляет', ds['critic_score'].corr(ds['sales']))"
   ]
  },
  {
   "cell_type": "code",
   "execution_count": 65,
   "metadata": {},
   "outputs": [
    {
     "data": {
      "text/plain": [
       "Text(0.5, 1.0, 'Зависимость продаж от рейтинга критиков на платформе 3DS')"
      ]
     },
     "execution_count": 65,
     "metadata": {},
     "output_type": "execute_result"
    },
    {
     "data": {
      "image/png": "[encoded data removed]",
      "text/plain": [
       "<Figure size 432x288 with 1 Axes>"
      ]
     },
     "metadata": {
      "needs_background": "light"
     },
     "output_type": "display_data"
    },
    {
     "data": {
      "image/png": "[encoded data removed]",
      "text/plain": [
       "<Figure size 432x288 with 1 Axes>"
      ]
     },
     "metadata": {
      "needs_background": "light"
     },
     "output_type": "display_data"
    }
   ],
   "source": [
    "seaborn.barplot(x='critic_score', y='sales', data=ds)\n",
    "ds.plot(x='critic_score', y='sales', kind='scatter', grid=True)\n",
    "plt.title(\"Зависимость продаж от рейтинга критиков на платформе 3DS\")"
   ]
  },
  {
   "cell_type": "code",
   "execution_count": 66,
   "metadata": {},
   "outputs": [
    {
     "name": "stdout",
     "output_type": "stream",
     "text": [
      "Для платформы 3DS корреляция между оценкой пользователей и объемом продаж составляет 0.22480798039571082\n"
     ]
    }
   ],
   "source": [
    "print('Для платформы 3DS корреляция между оценкой пользователей и объемом продаж составляет', ds['user_score'].corr(ds['sales']))"
   ]
  },
  {
   "cell_type": "code",
   "execution_count": 67,
   "metadata": {},
   "outputs": [
    {
     "data": {
      "text/plain": [
       "Text(0.5, 1.0, 'Зависимость продаж от рейтинга пользователей на платформе 3DS')"
      ]
     },
     "execution_count": 67,
     "metadata": {},
     "output_type": "execute_result"
    },
    {
     "data": {
      "image/png": "[encoded data removed]",
      "text/plain": [
       "<Figure size 432x288 with 1 Axes>"
      ]
     },
     "metadata": {
      "needs_background": "light"
     },
     "output_type": "display_data"
    },
    {
     "data": {
      "image/png": "[encoded data removed]",
      "text/plain": [
       "<Figure size 432x288 with 1 Axes>"
      ]
     },
     "metadata": {
      "needs_background": "light"
     },
     "output_type": "display_data"
    }
   ],
   "source": [
    "seaborn.barplot(x='user_score', y='sales', data=ds)\n",
    "ds.plot(x='user_score', y='sales', kind='scatter', grid=True)\n",
    "plt.title(\"Зависимость продаж от рейтинга пользователей на платформе 3DS\")"
   ]
  },
  {
   "cell_type": "markdown",
   "metadata": {},
   "source": [
    "**Выводы**\n",
    "\n",
    "Судя по диаграммам рассеивания популярных платформ можно сделать вывод о том, что рейтинг пользователей мало влияет на объем продаж, в отличие от рейтинга критиков. Чем выше рейтинг критиков, тем выше объекмы продаж. На платформе 3DS оценка пользователей влияет на объем продаж сильнее, но слабее, чем оценка критиков."
   ]
  },
  {
   "cell_type": "markdown",
   "metadata": {},
   "source": [
    "### Анализ жанров игр"
   ]
  },
  {
   "cell_type": "code",
   "execution_count": 68,
   "metadata": {},
   "outputs": [],
   "source": [
    "genre_sales = data.pivot_table(index='genre', values='sales', aggfunc=np.sum).reset_index().sort_values(by='sales', ascending=False)"
   ]
  },
  {
   "cell_type": "code",
   "execution_count": 69,
   "metadata": {},
   "outputs": [
    {
     "data": {
      "text/plain": [
       "Text(0.5, 1.0, 'Гистограмма продаж по жанрам, млн. проданных копий')"
      ]
     },
     "execution_count": 69,
     "metadata": {},
     "output_type": "execute_result"
    },
    {
     "data": {
      "image/png": "[encoded data removed]",
      "text/plain": [
       "<Figure size 960x320 with 1 Axes>"
      ]
     },
     "metadata": {
      "needs_background": "light"
     },
     "output_type": "display_data"
    }
   ],
   "source": [
    "plt.figure(figsize=(12,4), dpi=80)\n",
    "seaborn.barplot(y='genre', x='sales', data=genre_sales)\n",
    "plt.title(\"Гистограмма продаж по жанрам, млн. проданных копий\")"
   ]
  },
  {
   "cell_type": "markdown",
   "metadata": {},
   "source": [
    "**Выводы**\n",
    "\n",
    "Наиболее популярные и прибыльные жанры среди всех пользователей - это экшн и спорт. наименее популярные - это стратегии и пазлы. А наименее прибыльные - это приключенческие игры и стратегии."
   ]
  },
  {
   "cell_type": "markdown",
   "metadata": {},
   "source": [
    "## Портрет пользователя региона"
   ]
  },
  {
   "cell_type": "markdown",
   "metadata": {},
   "source": [
    "### Популярность платформ"
   ]
  },
  {
   "cell_type": "code",
   "execution_count": 70,
   "metadata": {},
   "outputs": [
    {
     "data": {
      "text/html": [
       "<div>\n",
       "<style scoped>\n",
       "    .dataframe tbody tr th:only-of-type {\n",
       "        vertical-align: middle;\n",
       "    }\n",
       "\n",
       "    .dataframe tbody tr th {\n",
       "        vertical-align: top;\n",
       "    }\n",
       "\n",
       "    .dataframe thead th {\n",
       "        text-align: right;\n",
       "    }\n",
       "</style>\n",
       "<table border=\"1\" class=\"dataframe\">\n",
       "  <thead>\n",
       "    <tr style=\"text-align: right;\">\n",
       "      <th></th>\n",
       "      <th>platform</th>\n",
       "      <th>na_sales</th>\n",
       "      <th>na_sales_share</th>\n",
       "    </tr>\n",
       "  </thead>\n",
       "  <tbody>\n",
       "    <tr>\n",
       "      <td>28</td>\n",
       "      <td>X360</td>\n",
       "      <td>602.47</td>\n",
       "      <td>0.136852</td>\n",
       "    </tr>\n",
       "    <tr>\n",
       "      <td>16</td>\n",
       "      <td>PS2</td>\n",
       "      <td>583.84</td>\n",
       "      <td>0.132620</td>\n",
       "    </tr>\n",
       "    <tr>\n",
       "      <td>26</td>\n",
       "      <td>Wii</td>\n",
       "      <td>496.90</td>\n",
       "      <td>0.112872</td>\n",
       "    </tr>\n",
       "    <tr>\n",
       "      <td>17</td>\n",
       "      <td>PS3</td>\n",
       "      <td>393.49</td>\n",
       "      <td>0.089382</td>\n",
       "    </tr>\n",
       "    <tr>\n",
       "      <td>4</td>\n",
       "      <td>DS</td>\n",
       "      <td>382.40</td>\n",
       "      <td>0.086863</td>\n",
       "    </tr>\n",
       "  </tbody>\n",
       "</table>\n",
       "</div>"
      ],
      "text/plain": [
       "   platform  na_sales  na_sales_share\n",
       "28     X360    602.47        0.136852\n",
       "16      PS2    583.84        0.132620\n",
       "26      Wii    496.90        0.112872\n",
       "17      PS3    393.49        0.089382\n",
       "4        DS    382.40        0.086863"
      ]
     },
     "metadata": {},
     "output_type": "display_data"
    }
   ],
   "source": [
    "# продажи в Северной Америке по платформам, млн. проданных копий\n",
    "na_platform = data.pivot_table(index='platform', values='na_sales', aggfunc=np.sum).reset_index().sort_values(by='na_sales', ascending=False)\n",
    "na_platform['na_sales_share'] = na_platform['na_sales'] / na_platform['na_sales'].sum()\n",
    "display(na_platform.head())"
   ]
  },
  {
   "cell_type": "markdown",
   "metadata": {},
   "source": [
    "В Сверной Америке наиболее прибыльные платформы X360, PS2, Wii"
   ]
  },
  {
   "cell_type": "code",
   "execution_count": 71,
   "metadata": {},
   "outputs": [
    {
     "data": {
      "text/html": [
       "<div>\n",
       "<style scoped>\n",
       "    .dataframe tbody tr th:only-of-type {\n",
       "        vertical-align: middle;\n",
       "    }\n",
       "\n",
       "    .dataframe tbody tr th {\n",
       "        vertical-align: top;\n",
       "    }\n",
       "\n",
       "    .dataframe thead th {\n",
       "        text-align: right;\n",
       "    }\n",
       "</style>\n",
       "<table border=\"1\" class=\"dataframe\">\n",
       "  <thead>\n",
       "    <tr style=\"text-align: right;\">\n",
       "      <th></th>\n",
       "      <th>platform</th>\n",
       "      <th>eu_sales</th>\n",
       "      <th>eu_sales_share</th>\n",
       "    </tr>\n",
       "  </thead>\n",
       "  <tbody>\n",
       "    <tr>\n",
       "      <td>16</td>\n",
       "      <td>PS2</td>\n",
       "      <td>339.29</td>\n",
       "      <td>0.139932</td>\n",
       "    </tr>\n",
       "    <tr>\n",
       "      <td>17</td>\n",
       "      <td>PS3</td>\n",
       "      <td>330.29</td>\n",
       "      <td>0.136221</td>\n",
       "    </tr>\n",
       "    <tr>\n",
       "      <td>28</td>\n",
       "      <td>X360</td>\n",
       "      <td>270.76</td>\n",
       "      <td>0.111669</td>\n",
       "    </tr>\n",
       "    <tr>\n",
       "      <td>26</td>\n",
       "      <td>Wii</td>\n",
       "      <td>262.21</td>\n",
       "      <td>0.108143</td>\n",
       "    </tr>\n",
       "    <tr>\n",
       "      <td>15</td>\n",
       "      <td>PS</td>\n",
       "      <td>213.61</td>\n",
       "      <td>0.088099</td>\n",
       "    </tr>\n",
       "  </tbody>\n",
       "</table>\n",
       "</div>"
      ],
      "text/plain": [
       "   platform  eu_sales  eu_sales_share\n",
       "16      PS2    339.29        0.139932\n",
       "17      PS3    330.29        0.136221\n",
       "28     X360    270.76        0.111669\n",
       "26      Wii    262.21        0.108143\n",
       "15       PS    213.61        0.088099"
      ]
     },
     "metadata": {},
     "output_type": "display_data"
    }
   ],
   "source": [
    "# продажи в Европе по платформам, млн. проданных копий\n",
    "eu_platform = data.pivot_table(index='platform', values='eu_sales', aggfunc=np.sum).reset_index().sort_values(by='eu_sales', ascending=False)\n",
    "eu_platform['eu_sales_share'] = eu_platform['eu_sales'] / eu_platform['eu_sales'].sum()\n",
    "display(eu_platform.head())"
   ]
  },
  {
   "cell_type": "markdown",
   "metadata": {},
   "source": [
    "В Европе наиболее прибыльные платформы X360, PS2, PS3"
   ]
  },
  {
   "cell_type": "code",
   "execution_count": 72,
   "metadata": {},
   "outputs": [
    {
     "data": {
      "text/html": [
       "<div>\n",
       "<style scoped>\n",
       "    .dataframe tbody tr th:only-of-type {\n",
       "        vertical-align: middle;\n",
       "    }\n",
       "\n",
       "    .dataframe tbody tr th {\n",
       "        vertical-align: top;\n",
       "    }\n",
       "\n",
       "    .dataframe thead th {\n",
       "        text-align: right;\n",
       "    }\n",
       "</style>\n",
       "<table border=\"1\" class=\"dataframe\">\n",
       "  <thead>\n",
       "    <tr style=\"text-align: right;\">\n",
       "      <th></th>\n",
       "      <th>platform</th>\n",
       "      <th>jp_sales</th>\n",
       "      <th>jp_sales_share</th>\n",
       "    </tr>\n",
       "  </thead>\n",
       "  <tbody>\n",
       "    <tr>\n",
       "      <td>4</td>\n",
       "      <td>DS</td>\n",
       "      <td>175.57</td>\n",
       "      <td>0.135328</td>\n",
       "    </tr>\n",
       "    <tr>\n",
       "      <td>15</td>\n",
       "      <td>PS</td>\n",
       "      <td>139.82</td>\n",
       "      <td>0.107772</td>\n",
       "    </tr>\n",
       "    <tr>\n",
       "      <td>16</td>\n",
       "      <td>PS2</td>\n",
       "      <td>139.20</td>\n",
       "      <td>0.107294</td>\n",
       "    </tr>\n",
       "    <tr>\n",
       "      <td>23</td>\n",
       "      <td>SNES</td>\n",
       "      <td>116.55</td>\n",
       "      <td>0.089836</td>\n",
       "    </tr>\n",
       "    <tr>\n",
       "      <td>2</td>\n",
       "      <td>3DS</td>\n",
       "      <td>100.67</td>\n",
       "      <td>0.077595</td>\n",
       "    </tr>\n",
       "  </tbody>\n",
       "</table>\n",
       "</div>"
      ],
      "text/plain": [
       "   platform  jp_sales  jp_sales_share\n",
       "4        DS    175.57        0.135328\n",
       "15       PS    139.82        0.107772\n",
       "16      PS2    139.20        0.107294\n",
       "23     SNES    116.55        0.089836\n",
       "2       3DS    100.67        0.077595"
      ]
     },
     "metadata": {},
     "output_type": "display_data"
    }
   ],
   "source": [
    "# продажи в Японии по платформам, млн. проданных копий\n",
    "jp_platform = data.pivot_table(index='platform', values='jp_sales', aggfunc=np.sum).reset_index().sort_values(by='jp_sales', ascending=False)\n",
    "jp_platform['jp_sales_share'] = jp_platform['jp_sales'] / jp_platform['jp_sales'].sum()\n",
    "display(jp_platform.head())"
   ]
  },
  {
   "cell_type": "markdown",
   "metadata": {},
   "source": [
    "В Японии наиболее прибыльные платформы DS, PS, PS2"
   ]
  },
  {
   "cell_type": "markdown",
   "metadata": {},
   "source": [
    "**Вывод:**\n",
    "\n",
    "Платформа PS2 популярна по всему миру. Популярность платформ в Европе и Северной Америке схожи ( X360, PS2, PS3, Wii). Тогда как в Японии наиболее популярны DS, PS, PS2, SNES"
   ]
  },
  {
   "cell_type": "markdown",
   "metadata": {},
   "source": [
    "### Популярность жанров"
   ]
  },
  {
   "cell_type": "code",
   "execution_count": 73,
   "metadata": {},
   "outputs": [
    {
     "data": {
      "text/html": [
       "<div>\n",
       "<style scoped>\n",
       "    .dataframe tbody tr th:only-of-type {\n",
       "        vertical-align: middle;\n",
       "    }\n",
       "\n",
       "    .dataframe tbody tr th {\n",
       "        vertical-align: top;\n",
       "    }\n",
       "\n",
       "    .dataframe thead th {\n",
       "        text-align: right;\n",
       "    }\n",
       "</style>\n",
       "<table border=\"1\" class=\"dataframe\">\n",
       "  <thead>\n",
       "    <tr style=\"text-align: right;\">\n",
       "      <th></th>\n",
       "      <th>genre</th>\n",
       "      <th>na_sales</th>\n",
       "    </tr>\n",
       "  </thead>\n",
       "  <tbody>\n",
       "    <tr>\n",
       "      <td>0</td>\n",
       "      <td>Action</td>\n",
       "      <td>879.01</td>\n",
       "    </tr>\n",
       "    <tr>\n",
       "      <td>10</td>\n",
       "      <td>Sports</td>\n",
       "      <td>684.43</td>\n",
       "    </tr>\n",
       "    <tr>\n",
       "      <td>8</td>\n",
       "      <td>Shooter</td>\n",
       "      <td>592.24</td>\n",
       "    </tr>\n",
       "    <tr>\n",
       "      <td>4</td>\n",
       "      <td>Platform</td>\n",
       "      <td>445.50</td>\n",
       "    </tr>\n",
       "    <tr>\n",
       "      <td>3</td>\n",
       "      <td>Misc</td>\n",
       "      <td>407.27</td>\n",
       "    </tr>\n",
       "  </tbody>\n",
       "</table>\n",
       "</div>"
      ],
      "text/plain": [
       "       genre  na_sales\n",
       "0     Action    879.01\n",
       "10    Sports    684.43\n",
       "8    Shooter    592.24\n",
       "4   Platform    445.50\n",
       "3       Misc    407.27"
      ]
     },
     "metadata": {},
     "output_type": "display_data"
    }
   ],
   "source": [
    "# жанры в Северной Америке по платформам\n",
    "na_genre = data.pivot_table(index='genre', values='na_sales', aggfunc=np.sum).reset_index().sort_values(by='na_sales', ascending=False)\n",
    "display(na_genre.head())"
   ]
  },
  {
   "cell_type": "code",
   "execution_count": 74,
   "metadata": {},
   "outputs": [
    {
     "data": {
      "text/html": [
       "<div>\n",
       "<style scoped>\n",
       "    .dataframe tbody tr th:only-of-type {\n",
       "        vertical-align: middle;\n",
       "    }\n",
       "\n",
       "    .dataframe tbody tr th {\n",
       "        vertical-align: top;\n",
       "    }\n",
       "\n",
       "    .dataframe thead th {\n",
       "        text-align: right;\n",
       "    }\n",
       "</style>\n",
       "<table border=\"1\" class=\"dataframe\">\n",
       "  <thead>\n",
       "    <tr style=\"text-align: right;\">\n",
       "      <th></th>\n",
       "      <th>genre</th>\n",
       "      <th>eu_sales</th>\n",
       "    </tr>\n",
       "  </thead>\n",
       "  <tbody>\n",
       "    <tr>\n",
       "      <td>0</td>\n",
       "      <td>Action</td>\n",
       "      <td>519.13</td>\n",
       "    </tr>\n",
       "    <tr>\n",
       "      <td>10</td>\n",
       "      <td>Sports</td>\n",
       "      <td>376.79</td>\n",
       "    </tr>\n",
       "    <tr>\n",
       "      <td>8</td>\n",
       "      <td>Shooter</td>\n",
       "      <td>317.34</td>\n",
       "    </tr>\n",
       "    <tr>\n",
       "      <td>6</td>\n",
       "      <td>Racing</td>\n",
       "      <td>236.51</td>\n",
       "    </tr>\n",
       "    <tr>\n",
       "      <td>3</td>\n",
       "      <td>Misc</td>\n",
       "      <td>212.74</td>\n",
       "    </tr>\n",
       "  </tbody>\n",
       "</table>\n",
       "</div>"
      ],
      "text/plain": [
       "      genre  eu_sales\n",
       "0    Action    519.13\n",
       "10   Sports    376.79\n",
       "8   Shooter    317.34\n",
       "6    Racing    236.51\n",
       "3      Misc    212.74"
      ]
     },
     "metadata": {},
     "output_type": "display_data"
    }
   ],
   "source": [
    "# жанры в Европе по платформам\n",
    "eu_genre = data.pivot_table(index='genre', values='eu_sales', aggfunc=np.sum).reset_index().sort_values(by='eu_sales', ascending=False)\n",
    "display(eu_genre.head())"
   ]
  },
  {
   "cell_type": "code",
   "execution_count": 75,
   "metadata": {},
   "outputs": [
    {
     "data": {
      "text/html": [
       "<div>\n",
       "<style scoped>\n",
       "    .dataframe tbody tr th:only-of-type {\n",
       "        vertical-align: middle;\n",
       "    }\n",
       "\n",
       "    .dataframe tbody tr th {\n",
       "        vertical-align: top;\n",
       "    }\n",
       "\n",
       "    .dataframe thead th {\n",
       "        text-align: right;\n",
       "    }\n",
       "</style>\n",
       "<table border=\"1\" class=\"dataframe\">\n",
       "  <thead>\n",
       "    <tr style=\"text-align: right;\">\n",
       "      <th></th>\n",
       "      <th>genre</th>\n",
       "      <th>jp_sales</th>\n",
       "    </tr>\n",
       "  </thead>\n",
       "  <tbody>\n",
       "    <tr>\n",
       "      <td>7</td>\n",
       "      <td>Role-Playing</td>\n",
       "      <td>355.41</td>\n",
       "    </tr>\n",
       "    <tr>\n",
       "      <td>0</td>\n",
       "      <td>Action</td>\n",
       "      <td>161.43</td>\n",
       "    </tr>\n",
       "    <tr>\n",
       "      <td>10</td>\n",
       "      <td>Sports</td>\n",
       "      <td>135.54</td>\n",
       "    </tr>\n",
       "    <tr>\n",
       "      <td>4</td>\n",
       "      <td>Platform</td>\n",
       "      <td>130.83</td>\n",
       "    </tr>\n",
       "    <tr>\n",
       "      <td>3</td>\n",
       "      <td>Misc</td>\n",
       "      <td>108.11</td>\n",
       "    </tr>\n",
       "  </tbody>\n",
       "</table>\n",
       "</div>"
      ],
      "text/plain": [
       "           genre  jp_sales\n",
       "7   Role-Playing    355.41\n",
       "0         Action    161.43\n",
       "10        Sports    135.54\n",
       "4       Platform    130.83\n",
       "3           Misc    108.11"
      ]
     },
     "metadata": {},
     "output_type": "display_data"
    }
   ],
   "source": [
    "# жанры в Японии по платформам\n",
    "jp_genre = data.pivot_table(index='genre', values='jp_sales', aggfunc=np.sum).reset_index().sort_values(by='jp_sales', ascending=False)\n",
    "display(jp_genre.head())"
   ]
  },
  {
   "cell_type": "markdown",
   "metadata": {},
   "source": [
    "**Выводы:**\n",
    "\n",
    "Предпочтения пользователей Северной Америки и Европы схожи, здесь наиболее популярны жанры Экшн, Спорт и Шутеры.\n",
    "Японцы перед Экшн и Спортом ставят Ролевые игры."
   ]
  },
  {
   "cell_type": "markdown",
   "metadata": {},
   "source": [
    "### Влияет ли рейтинг ESRB на продажи в отдельном регионе"
   ]
  },
  {
   "cell_type": "code",
   "execution_count": 76,
   "metadata": {},
   "outputs": [
    {
     "data": {
      "text/plain": [
       "<matplotlib.axes._subplots.AxesSubplot at 0x7fe40f5aa290>"
      ]
     },
     "execution_count": 76,
     "metadata": {},
     "output_type": "execute_result"
    },
    {
     "data": {
      "image/png": "[encoded data removed]",
      "text/plain": [
       "<Figure size 432x288 with 1 Axes>"
      ]
     },
     "metadata": {
      "needs_background": "light"
     },
     "output_type": "display_data"
    }
   ],
   "source": [
    "# это первый вариант кода, который я закомментила после 1-ой проверки\n",
    "# здесь RP - рейтинг ожидается\n",
    "rating_sales_na = data.pivot_table(index='rating', values='na_sales', aggfunc=np.sum).reset_index()\n",
    "rating_sales_na['share'] = rating_sales_na['na_sales'] / rating_sales_na['na_sales'].sum()\n",
    "seaborn.barplot(y='rating', x='share', data=rating_sales_na)"
   ]
  },
  {
   "cell_type": "code",
   "execution_count": 77,
   "metadata": {},
   "outputs": [
    {
     "data": {
      "text/plain": [
       "<matplotlib.axes._subplots.AxesSubplot at 0x7fe40f4e25d0>"
      ]
     },
     "execution_count": 77,
     "metadata": {},
     "output_type": "execute_result"
    },
    {
     "data": {
      "image/png": "[encoded data removed]",
      "text/plain": [
       "<Figure size 432x288 with 1 Axes>"
      ]
     },
     "metadata": {
      "needs_background": "light"
     },
     "output_type": "display_data"
    }
   ],
   "source": [
    "rating_sales_eu = data.pivot_table(index='rating', values='eu_sales', aggfunc=np.sum).reset_index()\n",
    "rating_sales_eu['share'] = rating_sales_eu['eu_sales'] / rating_sales_eu['eu_sales'].sum()\n",
    "seaborn.barplot(y='rating', x='share', data=rating_sales_eu)"
   ]
  },
  {
   "cell_type": "code",
   "execution_count": 78,
   "metadata": {},
   "outputs": [
    {
     "data": {
      "text/plain": [
       "<matplotlib.axes._subplots.AxesSubplot at 0x7fe40ff5e550>"
      ]
     },
     "execution_count": 78,
     "metadata": {},
     "output_type": "execute_result"
    },
    {
     "data": {
      "image/png": "[encoded data removed]",
      "text/plain": [
       "<Figure size 432x288 with 1 Axes>"
      ]
     },
     "metadata": {
      "needs_background": "light"
     },
     "output_type": "display_data"
    }
   ],
   "source": [
    "rating_sales_jp = data.pivot_table(index='rating', values='jp_sales', aggfunc=np.sum).reset_index()\n",
    "rating_sales_jp['share'] = rating_sales_jp['jp_sales'] / rating_sales_jp['jp_sales'].sum()\n",
    "seaborn.barplot(y='rating', x='share', data=rating_sales_jp)"
   ]
  },
  {
   "cell_type": "markdown",
   "metadata": {},
   "source": [
    "**Выводы:**\n",
    "\n",
    "Возрастной рейтинг влияет на продажи. \n",
    "\n",
    "Во всех регионах наиболее популярны игры с рейтингом E и составляют порядка 40-43% от рынка.\n",
    "\n",
    "На втором месте в Северной Америке и Европе картина схожа, там одинаково полулярны игры с рейтингом T и M (23-26%). В Японии картина другая, 33% - Т, и только 14% у М."
   ]
  },
  {
   "cell_type": "markdown",
   "metadata": {},
   "source": [
    "## Проверка гипотез"
   ]
  },
  {
   "cell_type": "markdown",
   "metadata": {},
   "source": [
    "### Средние пользовательские рейтинги платформ Xbox One и PC одинаковые"
   ]
  },
  {
   "cell_type": "markdown",
   "metadata": {},
   "source": [
    "Примем за нулевую гипотезу то, что пользовательские рейтинги платформ Xbox One и PC равны.\n",
    "\n",
    "А за альтернативную гипотезу о, что пользовательские рейтинги платформ Xbox One и PC не равны."
   ]
  },
  {
   "cell_type": "code",
   "execution_count": 82,
   "metadata": {},
   "outputs": [],
   "source": [
    "pc = data_period.query('platform == \"PC\"').pivot_table(index='name', values='user_score', aggfunc='mean')\n",
    "xone = data_period.query('platform == \"XOne\"').pivot_table(index='name', values='user_score', aggfunc='mean')"
   ]
  },
  {
   "cell_type": "code",
   "execution_count": 83,
   "metadata": {},
   "outputs": [
    {
     "name": "stdout",
     "output_type": "stream",
     "text": [
      "p-значение:  [0.69818167]\n",
      "Не получилось отвергнуть нулевую гипотезу\n"
     ]
    }
   ],
   "source": [
    "alpha = .05 # критический уровень статистической значимости\n",
    "# если p-value окажется меньше него - отвегнем гипотезу\n",
    "\n",
    "results = st.ttest_ind(\n",
    "    xone, \n",
    "    pc)\n",
    "\n",
    "print('p-значение: ', results.pvalue)\n",
    "\n",
    "if results.pvalue < alpha:\n",
    "    print(\"Отвергаем нулевую гипотезу\")\n",
    "else:\n",
    "    print(\"Не получилось отвергнуть нулевую гипотезу\") "
   ]
  },
  {
   "cell_type": "markdown",
   "metadata": {},
   "source": [
    "### Средние пользовательские рейтинги жанров Action (англ. «действие», экшен-игры) и Sports (англ. «спортивные соревнования») разные."
   ]
  },
  {
   "cell_type": "markdown",
   "metadata": {},
   "source": [
    "Примем за нулевую гипотезу то, что что средние пользовательские рейтинги жанров Action (англ. «действие», экшен-игры) и Sports (англ. «спортивные соревнования») одинаковые.\n",
    "\n",
    "А за альтернативную гипотезу о, что средние пользовательские рейтинги жанров Action (англ. «действие», экшен-игры) и Sports (англ. «спортивные соревнования») разные."
   ]
  },
  {
   "cell_type": "code",
   "execution_count": 84,
   "metadata": {},
   "outputs": [],
   "source": [
    "action = data_period.query('genre == \"Action\"').pivot_table(index='name', values='user_score', aggfunc='mean')\n",
    "sport = data_period.query('genre == \"Sports\"').pivot_table(index='name', values='user_score', aggfunc='mean')"
   ]
  },
  {
   "cell_type": "code",
   "execution_count": 85,
   "metadata": {},
   "outputs": [
    {
     "name": "stdout",
     "output_type": "stream",
     "text": [
      "p-значение:  [3.010631e-11]\n",
      "Отвергаем нулевую гипотезу\n"
     ]
    }
   ],
   "source": [
    "alpha = .05 # критический уровень статистической значимости\n",
    "# если p-value окажется меньше него - отвегнем гипотезу\n",
    "\n",
    "results = st.ttest_ind(\n",
    "    action, \n",
    "    sport)\n",
    "\n",
    "print('p-значение: ', results.pvalue)\n",
    "\n",
    "if results.pvalue < alpha:\n",
    "    print(\"Отвергаем нулевую гипотезу\")\n",
    "else:\n",
    "    print(\"Не получилось отвергнуть нулевую гипотезу\")"
   ]
  },
  {
   "cell_type": "markdown",
   "metadata": {},
   "source": [
    "# Выводы"
   ]
  },
  {
   "cell_type": "markdown",
   "metadata": {},
   "source": [
    "Пик продаж и количества существоваших платформ пришелся на период 2006-2011 гг, за тем продажи стали падать, а количество платформ сокращаться.\n",
    "\n",
    "Для прогноза продаж на 2017 год можно предположить, что продажи будут резко ниже 2016 года на основании оценки продаж за 2015 и 2016 годы. Продажи на всех, в том числе и на ведущих платформах, падают.\n",
    "\n",
    "Средний объем продаж по платформам за весь период составляет 200 млн.копий. Наблюдаются единичные выбросы. За 2016 год средний объем продаж составил 4,6 млн.копий. тогда как за 2015 он составлял 14 млн.копий.\n",
    "\n",
    "Рейтинг пользователей мало влияет на объем продаж, в отличие от рейтинга критиков. Чем выше рейтинг критиков, тем выше объекмы продаж.\n",
    "\n",
    "Наиболее популярные и прибыльные жанры среди всех пользователей - это экшн и спорт. Наименее популярные - это стратегии и пазлы. А наименее прибыльные - это приключенческие игры и стратегии.\n",
    "\n",
    "Наиболее популярные платформы среди всех покупателей - это PS2, PS3, X360.\n",
    "\n",
    "Характерное время существования платформы примерно 7 лет. Наиболее долгое время на рынке держится PC уже 26 лет.\n",
    "\n",
    "Портрет пользователя Северной Америки и Европы схож. Здесть предпочитают Экшн, Спорт и Шутеры на платформах X360, PS2, PS3, Wii.\n",
    "Тогда как в Японии больше всего предпочитают Ролевые Игры и только потом Экшн и Спорт. Наиболее популярные платформы в Японии тоже другие:  DS, PS, PS2, SNES.\n",
    "\n",
    "При этом платформа PS2 популярна по всему миру. \n",
    "\n",
    "Возрастной рейтинг влияет на продажи. \n",
    "\n",
    "Во всех регионах наиболее популярны игры с рейтингом E и составляют порядка 40-43% от рынка.\n",
    "\n",
    "На втором месте в Северной Америке и Европе картина схожа, там одинаково полулярны игры с рейтингом T и M (23-26%). В Японии картина другая, 33% - Т, и только 14% у М.\n",
    "\n",
    "Пользовательские рейтинги платформ Xbox One и PC равны.\n",
    "\n",
    "Средние пользовательские рейтинги жанров Action (англ. «действие», экшен-игры) и Sports (англ. «спортивные соревнования») разные."
   ]
  }
 ],
 "metadata": {
  "ExecuteTimeLog": [
   {
    "duration": 316,
    "start_time": "2022-02-22T09:36:14.834Z"
   },
   {
    "duration": 455,
    "start_time": "2022-02-22T09:36:29.736Z"
   },
   {
    "duration": 447,
    "start_time": "2022-02-22T09:36:36.359Z"
   },
   {
    "duration": 174,
    "start_time": "2022-02-22T09:36:41.201Z"
   },
   {
    "duration": 420,
    "start_time": "2022-02-22T09:36:46.046Z"
   },
   {
    "duration": 163,
    "start_time": "2022-02-22T09:37:02.766Z"
   },
   {
    "duration": 782,
    "start_time": "2022-02-22T09:38:24.128Z"
   },
   {
    "duration": 82,
    "start_time": "2022-02-22T09:38:25.022Z"
   },
   {
    "duration": 64,
    "start_time": "2022-02-22T09:38:42.947Z"
   },
   {
    "duration": 541,
    "start_time": "2022-02-22T09:42:07.803Z"
   },
   {
    "duration": 77,
    "start_time": "2022-02-22T09:42:31.472Z"
   },
   {
    "duration": 6,
    "start_time": "2022-02-22T09:56:48.040Z"
   },
   {
    "duration": 16,
    "start_time": "2022-02-22T09:57:06.589Z"
   },
   {
    "duration": 81,
    "start_time": "2022-02-22T11:42:48.014Z"
   },
   {
    "duration": 7,
    "start_time": "2022-02-22T11:43:16.459Z"
   },
   {
    "duration": 3158,
    "start_time": "2022-02-22T11:54:17.214Z"
   },
   {
    "duration": -34,
    "start_time": "2022-02-22T11:54:20.409Z"
   },
   {
    "duration": 6,
    "start_time": "2022-02-22T12:06:56.886Z"
   },
   {
    "duration": 2611,
    "start_time": "2022-02-22T12:07:13.927Z"
   },
   {
    "duration": 5,
    "start_time": "2022-02-22T12:07:24.004Z"
   },
   {
    "duration": 10,
    "start_time": "2022-02-22T12:10:02.698Z"
   },
   {
    "duration": 26,
    "start_time": "2022-02-22T12:11:37.771Z"
   },
   {
    "duration": 121,
    "start_time": "2022-02-22T12:14:53.838Z"
   },
   {
    "duration": 82,
    "start_time": "2022-02-22T12:15:01.135Z"
   },
   {
    "duration": 9387,
    "start_time": "2022-02-22T12:33:10.926Z"
   },
   {
    "duration": 4,
    "start_time": "2022-02-22T12:33:39.783Z"
   },
   {
    "duration": 108,
    "start_time": "2022-02-22T12:33:39.791Z"
   },
   {
    "duration": 6,
    "start_time": "2022-02-22T12:33:39.910Z"
   },
   {
    "duration": 7,
    "start_time": "2022-02-22T12:33:39.919Z"
   },
   {
    "duration": 16,
    "start_time": "2022-02-22T12:33:39.928Z"
   },
   {
    "duration": 11,
    "start_time": "2022-02-22T12:33:39.946Z"
   },
   {
    "duration": 61,
    "start_time": "2022-02-22T12:33:39.960Z"
   },
   {
    "duration": 12,
    "start_time": "2022-02-22T12:33:40.025Z"
   },
   {
    "duration": 8,
    "start_time": "2022-02-22T12:44:00.188Z"
   },
   {
    "duration": 3,
    "start_time": "2022-02-22T12:48:03.759Z"
   },
   {
    "duration": 79,
    "start_time": "2022-02-22T12:48:03.765Z"
   },
   {
    "duration": 6,
    "start_time": "2022-02-22T12:48:03.847Z"
   },
   {
    "duration": 10,
    "start_time": "2022-02-22T12:48:03.856Z"
   },
   {
    "duration": 11,
    "start_time": "2022-02-22T12:48:03.868Z"
   },
   {
    "duration": 8,
    "start_time": "2022-02-22T12:48:03.909Z"
   },
   {
    "duration": 52,
    "start_time": "2022-02-22T12:48:03.921Z"
   },
   {
    "duration": 50,
    "start_time": "2022-02-22T12:48:03.977Z"
   },
   {
    "duration": 6,
    "start_time": "2022-02-22T12:49:46.365Z"
   },
   {
    "duration": 6,
    "start_time": "2022-02-22T12:50:01.540Z"
   },
   {
    "duration": 11,
    "start_time": "2022-02-22T12:53:28.061Z"
   },
   {
    "duration": 4,
    "start_time": "2022-02-22T12:54:33.273Z"
   },
   {
    "duration": 87,
    "start_time": "2022-02-22T12:54:33.281Z"
   },
   {
    "duration": 7,
    "start_time": "2022-02-22T12:54:33.372Z"
   },
   {
    "duration": 31,
    "start_time": "2022-02-22T12:54:33.382Z"
   },
   {
    "duration": 24,
    "start_time": "2022-02-22T12:54:33.416Z"
   },
   {
    "duration": 15,
    "start_time": "2022-02-22T12:54:33.443Z"
   },
   {
    "duration": 19,
    "start_time": "2022-02-22T12:54:33.461Z"
   },
   {
    "duration": 20,
    "start_time": "2022-02-22T12:54:33.483Z"
   },
   {
    "duration": 37,
    "start_time": "2022-02-22T12:54:33.506Z"
   },
   {
    "duration": 13,
    "start_time": "2022-02-22T12:54:33.546Z"
   },
   {
    "duration": 22,
    "start_time": "2022-02-22T12:54:46.033Z"
   },
   {
    "duration": 28,
    "start_time": "2022-02-22T13:13:53.880Z"
   },
   {
    "duration": 39,
    "start_time": "2022-02-22T13:14:02.629Z"
   },
   {
    "duration": 18,
    "start_time": "2022-02-22T13:14:27.017Z"
   },
   {
    "duration": 462,
    "start_time": "2022-02-22T13:14:37.666Z"
   },
   {
    "duration": 376,
    "start_time": "2022-02-22T13:14:47.133Z"
   },
   {
    "duration": 377,
    "start_time": "2022-02-22T13:15:19.826Z"
   },
   {
    "duration": 4,
    "start_time": "2022-02-22T13:16:15.249Z"
   },
   {
    "duration": 92,
    "start_time": "2022-02-22T13:16:15.255Z"
   },
   {
    "duration": 6,
    "start_time": "2022-02-22T13:16:15.350Z"
   },
   {
    "duration": 7,
    "start_time": "2022-02-22T13:16:15.359Z"
   },
   {
    "duration": 9,
    "start_time": "2022-02-22T13:16:15.369Z"
   },
   {
    "duration": 35,
    "start_time": "2022-02-22T13:16:15.379Z"
   },
   {
    "duration": 8,
    "start_time": "2022-02-22T13:16:15.417Z"
   },
   {
    "duration": 8,
    "start_time": "2022-02-22T13:16:15.428Z"
   },
   {
    "duration": 20,
    "start_time": "2022-02-22T13:16:15.439Z"
   },
   {
    "duration": 57,
    "start_time": "2022-02-22T13:16:15.462Z"
   },
   {
    "duration": 21,
    "start_time": "2022-02-22T13:16:15.522Z"
   },
   {
    "duration": 19,
    "start_time": "2022-02-22T13:17:01.121Z"
   },
   {
    "duration": 10,
    "start_time": "2022-02-22T13:18:05.032Z"
   },
   {
    "duration": 15,
    "start_time": "2022-02-22T13:18:11.669Z"
   },
   {
    "duration": 22,
    "start_time": "2022-02-22T13:18:14.650Z"
   },
   {
    "duration": 8,
    "start_time": "2022-02-22T13:19:58.152Z"
   },
   {
    "duration": 3,
    "start_time": "2022-02-22T13:22:18.095Z"
   },
   {
    "duration": 79,
    "start_time": "2022-02-22T13:22:18.102Z"
   },
   {
    "duration": 7,
    "start_time": "2022-02-22T13:22:18.186Z"
   },
   {
    "duration": 6,
    "start_time": "2022-02-22T13:22:18.213Z"
   },
   {
    "duration": 10,
    "start_time": "2022-02-22T13:22:18.223Z"
   },
   {
    "duration": 6,
    "start_time": "2022-02-22T13:22:18.236Z"
   },
   {
    "duration": 8,
    "start_time": "2022-02-22T13:22:18.245Z"
   },
   {
    "duration": 62,
    "start_time": "2022-02-22T13:22:18.255Z"
   },
   {
    "duration": 9,
    "start_time": "2022-02-22T13:22:18.322Z"
   },
   {
    "duration": 21,
    "start_time": "2022-02-22T13:22:18.335Z"
   },
   {
    "duration": 9,
    "start_time": "2022-02-22T13:22:18.359Z"
   },
   {
    "duration": 56,
    "start_time": "2022-02-22T13:22:18.371Z"
   },
   {
    "duration": 23,
    "start_time": "2022-02-22T13:22:18.430Z"
   },
   {
    "duration": 6,
    "start_time": "2022-02-22T13:23:28.651Z"
   },
   {
    "duration": 148,
    "start_time": "2022-02-22T13:24:16.797Z"
   },
   {
    "duration": 193,
    "start_time": "2022-02-22T13:24:24.782Z"
   },
   {
    "duration": 11,
    "start_time": "2022-02-22T13:27:46.640Z"
   },
   {
    "duration": 5,
    "start_time": "2022-02-22T13:27:54.028Z"
   },
   {
    "duration": 13,
    "start_time": "2022-02-22T13:27:56.893Z"
   },
   {
    "duration": 15,
    "start_time": "2022-02-22T13:28:36.275Z"
   },
   {
    "duration": 4,
    "start_time": "2022-02-22T13:28:39.132Z"
   },
   {
    "duration": 13,
    "start_time": "2022-02-22T13:28:40.347Z"
   },
   {
    "duration": 12,
    "start_time": "2022-02-22T13:28:49.426Z"
   },
   {
    "duration": 4,
    "start_time": "2022-02-22T13:28:50.650Z"
   },
   {
    "duration": 20,
    "start_time": "2022-02-22T13:28:52.614Z"
   },
   {
    "duration": 26,
    "start_time": "2022-02-22T13:29:02.516Z"
   },
   {
    "duration": 6,
    "start_time": "2022-02-22T13:29:06.086Z"
   },
   {
    "duration": 34,
    "start_time": "2022-02-22T13:29:56.346Z"
   },
   {
    "duration": 10,
    "start_time": "2022-02-22T13:29:59.527Z"
   },
   {
    "duration": 21,
    "start_time": "2022-02-22T13:30:01.272Z"
   },
   {
    "duration": 4,
    "start_time": "2022-02-22T13:30:05.326Z"
   },
   {
    "duration": 84,
    "start_time": "2022-02-22T13:30:05.333Z"
   },
   {
    "duration": 7,
    "start_time": "2022-02-22T13:30:05.420Z"
   },
   {
    "duration": 9,
    "start_time": "2022-02-22T13:30:05.430Z"
   },
   {
    "duration": 11,
    "start_time": "2022-02-22T13:30:05.442Z"
   },
   {
    "duration": 7,
    "start_time": "2022-02-22T13:30:05.455Z"
   },
   {
    "duration": 46,
    "start_time": "2022-02-22T13:30:05.464Z"
   },
   {
    "duration": 18,
    "start_time": "2022-02-22T13:30:05.514Z"
   },
   {
    "duration": 21,
    "start_time": "2022-02-22T13:30:05.535Z"
   },
   {
    "duration": 11,
    "start_time": "2022-02-22T13:30:05.558Z"
   },
   {
    "duration": 51,
    "start_time": "2022-02-22T13:30:05.572Z"
   },
   {
    "duration": 4376,
    "start_time": "2022-02-22T13:30:05.626Z"
   },
   {
    "duration": 23,
    "start_time": "2022-02-22T13:30:09.982Z"
   },
   {
    "duration": 22,
    "start_time": "2022-02-22T13:30:09.985Z"
   },
   {
    "duration": 26,
    "start_time": "2022-02-22T13:30:24.902Z"
   },
   {
    "duration": 20,
    "start_time": "2022-02-22T13:31:40.005Z"
   },
   {
    "duration": 4,
    "start_time": "2022-02-22T13:31:45.009Z"
   },
   {
    "duration": 115,
    "start_time": "2022-02-22T13:31:45.016Z"
   },
   {
    "duration": 8,
    "start_time": "2022-02-22T13:31:45.135Z"
   },
   {
    "duration": 8,
    "start_time": "2022-02-22T13:31:45.146Z"
   },
   {
    "duration": 11,
    "start_time": "2022-02-22T13:31:45.156Z"
   },
   {
    "duration": 45,
    "start_time": "2022-02-22T13:31:45.170Z"
   },
   {
    "duration": 3,
    "start_time": "2022-02-22T13:31:45.218Z"
   },
   {
    "duration": 7,
    "start_time": "2022-02-22T13:31:45.224Z"
   },
   {
    "duration": 9,
    "start_time": "2022-02-22T13:31:45.235Z"
   },
   {
    "duration": 11,
    "start_time": "2022-02-22T13:31:45.247Z"
   },
   {
    "duration": 57,
    "start_time": "2022-02-22T13:31:45.261Z"
   },
   {
    "duration": 15,
    "start_time": "2022-02-22T13:31:45.321Z"
   },
   {
    "duration": 20,
    "start_time": "2022-02-22T13:31:45.340Z"
   },
   {
    "duration": 65,
    "start_time": "2022-02-22T13:31:45.363Z"
   },
   {
    "duration": 2786,
    "start_time": "2022-02-22T13:35:07.244Z"
   },
   {
    "duration": 6,
    "start_time": "2022-02-22T13:35:14.482Z"
   },
   {
    "duration": 12,
    "start_time": "2022-02-22T13:49:17.377Z"
   },
   {
    "duration": 12,
    "start_time": "2022-02-22T13:50:01.236Z"
   },
   {
    "duration": 7,
    "start_time": "2022-02-22T13:50:18.768Z"
   },
   {
    "duration": 393,
    "start_time": "2022-02-22T13:50:27.786Z"
   },
   {
    "duration": 11,
    "start_time": "2022-02-22T13:50:44.828Z"
   },
   {
    "duration": 270,
    "start_time": "2022-02-22T13:53:18.206Z"
   },
   {
    "duration": 110,
    "start_time": "2022-02-22T13:53:33.857Z"
   },
   {
    "duration": 76,
    "start_time": "2022-02-22T13:53:47.446Z"
   },
   {
    "duration": 10012,
    "start_time": "2022-02-22T13:54:09.066Z"
   },
   {
    "duration": 4,
    "start_time": "2022-02-22T13:54:28.217Z"
   },
   {
    "duration": 114,
    "start_time": "2022-02-22T13:54:28.224Z"
   },
   {
    "duration": 7,
    "start_time": "2022-02-22T13:54:28.341Z"
   },
   {
    "duration": 7,
    "start_time": "2022-02-22T13:54:28.351Z"
   },
   {
    "duration": 11,
    "start_time": "2022-02-22T13:54:28.361Z"
   },
   {
    "duration": 40,
    "start_time": "2022-02-22T13:54:28.374Z"
   },
   {
    "duration": 15,
    "start_time": "2022-02-22T13:54:28.416Z"
   },
   {
    "duration": 5,
    "start_time": "2022-02-22T13:54:28.435Z"
   },
   {
    "duration": 8,
    "start_time": "2022-02-22T13:54:28.443Z"
   },
   {
    "duration": 62,
    "start_time": "2022-02-22T13:54:28.454Z"
   },
   {
    "duration": 8,
    "start_time": "2022-02-22T13:54:28.518Z"
   },
   {
    "duration": 13,
    "start_time": "2022-02-22T13:54:28.529Z"
   },
   {
    "duration": 10,
    "start_time": "2022-02-22T13:54:28.545Z"
   },
   {
    "duration": 61,
    "start_time": "2022-02-22T13:54:28.558Z"
   },
   {
    "duration": 23,
    "start_time": "2022-02-22T13:54:28.622Z"
   },
   {
    "duration": 15,
    "start_time": "2022-02-22T13:55:36.720Z"
   },
   {
    "duration": 12,
    "start_time": "2022-02-22T13:56:10.853Z"
   },
   {
    "duration": 8,
    "start_time": "2022-02-22T13:58:13.601Z"
   },
   {
    "duration": 6,
    "start_time": "2022-02-22T13:59:56.437Z"
   },
   {
    "duration": 35,
    "start_time": "2022-02-22T14:00:56.023Z"
   },
   {
    "duration": 914,
    "start_time": "2022-02-22T14:02:52.147Z"
   },
   {
    "duration": 33,
    "start_time": "2022-02-22T14:03:03.939Z"
   },
   {
    "duration": 18,
    "start_time": "2022-02-22T14:04:34.353Z"
   },
   {
    "duration": 397,
    "start_time": "2022-02-22T14:10:09.889Z"
   },
   {
    "duration": 474,
    "start_time": "2022-02-22T14:10:18.019Z"
   },
   {
    "duration": 31,
    "start_time": "2022-02-22T14:10:34.000Z"
   },
   {
    "duration": 31,
    "start_time": "2022-02-22T14:24:41.460Z"
   },
   {
    "duration": 337,
    "start_time": "2022-02-23T12:53:39.577Z"
   },
   {
    "duration": 554,
    "start_time": "2022-02-23T12:53:43.956Z"
   },
   {
    "duration": 53,
    "start_time": "2022-02-23T12:53:44.512Z"
   },
   {
    "duration": 5,
    "start_time": "2022-02-23T12:53:44.567Z"
   },
   {
    "duration": 5,
    "start_time": "2022-02-23T12:53:44.573Z"
   },
   {
    "duration": 16,
    "start_time": "2022-02-23T12:53:44.580Z"
   },
   {
    "duration": 12,
    "start_time": "2022-02-23T12:53:44.597Z"
   },
   {
    "duration": 5,
    "start_time": "2022-02-23T12:53:44.610Z"
   },
   {
    "duration": 32,
    "start_time": "2022-02-23T12:53:44.616Z"
   },
   {
    "duration": 4,
    "start_time": "2022-02-23T12:53:44.650Z"
   },
   {
    "duration": 7,
    "start_time": "2022-02-23T12:53:44.655Z"
   },
   {
    "duration": 4,
    "start_time": "2022-02-23T12:53:44.663Z"
   },
   {
    "duration": 8,
    "start_time": "2022-02-23T12:53:44.669Z"
   },
   {
    "duration": 6,
    "start_time": "2022-02-23T12:53:44.679Z"
   },
   {
    "duration": 8,
    "start_time": "2022-02-23T12:53:44.686Z"
   },
   {
    "duration": 7,
    "start_time": "2022-02-23T12:53:44.696Z"
   },
   {
    "duration": 43,
    "start_time": "2022-02-23T12:53:44.704Z"
   },
   {
    "duration": 12,
    "start_time": "2022-02-23T12:53:44.748Z"
   },
   {
    "duration": 12,
    "start_time": "2022-02-23T12:54:07.970Z"
   },
   {
    "duration": 12,
    "start_time": "2022-02-23T12:54:39.134Z"
   },
   {
    "duration": 13,
    "start_time": "2022-02-23T12:55:46.658Z"
   },
   {
    "duration": 5,
    "start_time": "2022-02-23T13:11:52.413Z"
   },
   {
    "duration": 15,
    "start_time": "2022-02-23T13:44:48.616Z"
   },
   {
    "duration": 28,
    "start_time": "2022-02-23T13:45:30.982Z"
   },
   {
    "duration": 27,
    "start_time": "2022-02-23T13:46:08.729Z"
   },
   {
    "duration": 320,
    "start_time": "2022-02-23T13:53:40.489Z"
   },
   {
    "duration": 28,
    "start_time": "2022-02-23T13:54:10.913Z"
   },
   {
    "duration": 28,
    "start_time": "2022-02-23T13:54:27.665Z"
   },
   {
    "duration": 4,
    "start_time": "2022-02-23T13:55:28.110Z"
   },
   {
    "duration": 4,
    "start_time": "2022-02-23T13:55:44.040Z"
   },
   {
    "duration": 289,
    "start_time": "2022-02-23T13:55:53.570Z"
   },
   {
    "duration": 4,
    "start_time": "2022-02-23T13:56:24.590Z"
   },
   {
    "duration": 4,
    "start_time": "2022-02-23T13:56:33.483Z"
   },
   {
    "duration": 2,
    "start_time": "2022-02-23T13:56:41.836Z"
   },
   {
    "duration": 180,
    "start_time": "2022-02-23T13:56:41.839Z"
   },
   {
    "duration": 4,
    "start_time": "2022-02-23T13:56:42.021Z"
   },
   {
    "duration": 7,
    "start_time": "2022-02-23T13:56:42.027Z"
   },
   {
    "duration": 20,
    "start_time": "2022-02-23T13:56:42.035Z"
   },
   {
    "duration": 4,
    "start_time": "2022-02-23T13:56:42.056Z"
   },
   {
    "duration": 9,
    "start_time": "2022-02-23T13:56:42.062Z"
   },
   {
    "duration": 13,
    "start_time": "2022-02-23T13:56:42.072Z"
   },
   {
    "duration": 7,
    "start_time": "2022-02-23T13:56:42.086Z"
   },
   {
    "duration": 7,
    "start_time": "2022-02-23T13:56:42.094Z"
   },
   {
    "duration": 4,
    "start_time": "2022-02-23T13:56:42.102Z"
   },
   {
    "duration": 6,
    "start_time": "2022-02-23T13:56:42.107Z"
   },
   {
    "duration": 5,
    "start_time": "2022-02-23T13:56:42.114Z"
   },
   {
    "duration": 26,
    "start_time": "2022-02-23T13:56:42.120Z"
   },
   {
    "duration": 5,
    "start_time": "2022-02-23T13:56:42.147Z"
   },
   {
    "duration": 11,
    "start_time": "2022-02-23T13:56:42.154Z"
   },
   {
    "duration": 11,
    "start_time": "2022-02-23T13:56:42.166Z"
   },
   {
    "duration": 4,
    "start_time": "2022-02-23T13:57:18.944Z"
   },
   {
    "duration": 3,
    "start_time": "2022-02-23T13:57:36.405Z"
   },
   {
    "duration": 28,
    "start_time": "2022-02-23T13:58:19.296Z"
   },
   {
    "duration": 10,
    "start_time": "2022-02-23T14:04:47.966Z"
   },
   {
    "duration": 2,
    "start_time": "2022-02-23T14:05:14.772Z"
   },
   {
    "duration": 182,
    "start_time": "2022-02-23T14:05:14.776Z"
   },
   {
    "duration": 4,
    "start_time": "2022-02-23T14:05:14.960Z"
   },
   {
    "duration": 6,
    "start_time": "2022-02-23T14:05:14.965Z"
   },
   {
    "duration": 18,
    "start_time": "2022-02-23T14:05:14.972Z"
   },
   {
    "duration": 1,
    "start_time": "2022-02-23T14:05:14.992Z"
   },
   {
    "duration": 13,
    "start_time": "2022-02-23T14:05:14.995Z"
   },
   {
    "duration": 10,
    "start_time": "2022-02-23T14:05:15.010Z"
   },
   {
    "duration": 34,
    "start_time": "2022-02-23T14:05:15.021Z"
   },
   {
    "duration": 6,
    "start_time": "2022-02-23T14:05:15.056Z"
   },
   {
    "duration": 9,
    "start_time": "2022-02-23T14:05:15.063Z"
   },
   {
    "duration": 6,
    "start_time": "2022-02-23T14:05:15.074Z"
   },
   {
    "duration": 8,
    "start_time": "2022-02-23T14:05:15.081Z"
   },
   {
    "duration": 5,
    "start_time": "2022-02-23T14:05:15.091Z"
   },
   {
    "duration": 7,
    "start_time": "2022-02-23T14:05:15.098Z"
   },
   {
    "duration": 15,
    "start_time": "2022-02-23T14:05:15.107Z"
   },
   {
    "duration": 24,
    "start_time": "2022-02-23T14:05:15.124Z"
   },
   {
    "duration": 11,
    "start_time": "2022-02-23T14:05:15.150Z"
   },
   {
    "duration": 29,
    "start_time": "2022-02-23T14:05:26.947Z"
   },
   {
    "duration": 11,
    "start_time": "2022-02-23T14:05:40.122Z"
   },
   {
    "duration": 11,
    "start_time": "2022-02-23T14:05:53.436Z"
   },
   {
    "duration": 11,
    "start_time": "2022-02-23T14:06:03.768Z"
   },
   {
    "duration": 28,
    "start_time": "2022-02-23T14:20:16.651Z"
   },
   {
    "duration": 30,
    "start_time": "2022-02-23T14:22:14.459Z"
   },
   {
    "duration": 2,
    "start_time": "2022-02-23T14:22:28.832Z"
   },
   {
    "duration": 198,
    "start_time": "2022-02-23T14:22:28.836Z"
   },
   {
    "duration": 4,
    "start_time": "2022-02-23T14:22:29.036Z"
   },
   {
    "duration": 6,
    "start_time": "2022-02-23T14:22:29.042Z"
   },
   {
    "duration": 18,
    "start_time": "2022-02-23T14:22:29.050Z"
   },
   {
    "duration": 28,
    "start_time": "2022-02-23T14:22:29.070Z"
   },
   {
    "duration": 3,
    "start_time": "2022-02-23T14:22:29.100Z"
   },
   {
    "duration": 13,
    "start_time": "2022-02-23T14:22:29.104Z"
   },
   {
    "duration": 45,
    "start_time": "2022-02-23T14:22:29.119Z"
   },
   {
    "duration": 29,
    "start_time": "2022-02-23T14:22:29.166Z"
   },
   {
    "duration": 3,
    "start_time": "2022-02-23T14:22:29.197Z"
   },
   {
    "duration": 7,
    "start_time": "2022-02-23T14:22:29.202Z"
   },
   {
    "duration": 8,
    "start_time": "2022-02-23T14:22:29.210Z"
   },
   {
    "duration": 5,
    "start_time": "2022-02-23T14:22:29.220Z"
   },
   {
    "duration": 5,
    "start_time": "2022-02-23T14:22:29.245Z"
   },
   {
    "duration": 8,
    "start_time": "2022-02-23T14:22:29.251Z"
   },
   {
    "duration": 7,
    "start_time": "2022-02-23T14:22:29.260Z"
   },
   {
    "duration": 11,
    "start_time": "2022-02-23T14:22:29.268Z"
   },
   {
    "duration": 11,
    "start_time": "2022-02-23T14:22:29.281Z"
   },
   {
    "duration": 32,
    "start_time": "2022-02-23T14:25:55.066Z"
   },
   {
    "duration": 17,
    "start_time": "2022-02-23T14:26:21.926Z"
   },
   {
    "duration": 29,
    "start_time": "2022-02-23T14:26:25.482Z"
   },
   {
    "duration": 3,
    "start_time": "2022-02-23T14:26:34.162Z"
   },
   {
    "duration": 56,
    "start_time": "2022-02-23T14:26:34.166Z"
   },
   {
    "duration": 4,
    "start_time": "2022-02-23T14:26:34.224Z"
   },
   {
    "duration": 6,
    "start_time": "2022-02-23T14:26:34.229Z"
   },
   {
    "duration": 17,
    "start_time": "2022-02-23T14:26:34.237Z"
   },
   {
    "duration": 29,
    "start_time": "2022-02-23T14:26:34.255Z"
   },
   {
    "duration": 3,
    "start_time": "2022-02-23T14:26:34.286Z"
   },
   {
    "duration": 11,
    "start_time": "2022-02-23T14:26:34.290Z"
   },
   {
    "duration": 48,
    "start_time": "2022-02-23T14:26:34.303Z"
   },
   {
    "duration": 19,
    "start_time": "2022-02-23T14:26:34.353Z"
   },
   {
    "duration": 32,
    "start_time": "2022-02-23T14:26:34.373Z"
   },
   {
    "duration": 4,
    "start_time": "2022-02-23T14:26:34.407Z"
   },
   {
    "duration": 7,
    "start_time": "2022-02-23T14:26:34.412Z"
   },
   {
    "duration": 27,
    "start_time": "2022-02-23T14:26:34.420Z"
   },
   {
    "duration": 7,
    "start_time": "2022-02-23T14:26:34.448Z"
   },
   {
    "duration": 5,
    "start_time": "2022-02-23T14:26:34.456Z"
   },
   {
    "duration": 8,
    "start_time": "2022-02-23T14:26:34.462Z"
   },
   {
    "duration": 7,
    "start_time": "2022-02-23T14:26:34.471Z"
   },
   {
    "duration": 12,
    "start_time": "2022-02-23T14:26:34.479Z"
   },
   {
    "duration": 11,
    "start_time": "2022-02-23T14:26:34.492Z"
   },
   {
    "duration": 16,
    "start_time": "2022-02-23T14:26:51.627Z"
   },
   {
    "duration": 28,
    "start_time": "2022-02-23T14:26:56.219Z"
   },
   {
    "duration": 3,
    "start_time": "2022-02-23T14:27:33.093Z"
   },
   {
    "duration": 54,
    "start_time": "2022-02-23T14:27:33.097Z"
   },
   {
    "duration": 4,
    "start_time": "2022-02-23T14:27:33.153Z"
   },
   {
    "duration": 7,
    "start_time": "2022-02-23T14:27:33.158Z"
   },
   {
    "duration": 20,
    "start_time": "2022-02-23T14:27:33.166Z"
   },
   {
    "duration": 29,
    "start_time": "2022-02-23T14:27:33.187Z"
   },
   {
    "duration": 5,
    "start_time": "2022-02-23T14:27:33.217Z"
   },
   {
    "duration": 33,
    "start_time": "2022-02-23T14:27:33.224Z"
   },
   {
    "duration": 33,
    "start_time": "2022-02-23T14:27:33.259Z"
   },
   {
    "duration": 20,
    "start_time": "2022-02-23T14:27:33.294Z"
   },
   {
    "duration": 52,
    "start_time": "2022-02-23T14:27:33.315Z"
   },
   {
    "duration": 4,
    "start_time": "2022-02-23T14:27:33.368Z"
   },
   {
    "duration": 11,
    "start_time": "2022-02-23T14:27:33.373Z"
   },
   {
    "duration": 5,
    "start_time": "2022-02-23T14:27:33.385Z"
   },
   {
    "duration": 9,
    "start_time": "2022-02-23T14:27:33.391Z"
   },
   {
    "duration": 16,
    "start_time": "2022-02-23T14:27:33.402Z"
   },
   {
    "duration": 30,
    "start_time": "2022-02-23T14:27:33.419Z"
   },
   {
    "duration": 6,
    "start_time": "2022-02-23T14:27:33.450Z"
   },
   {
    "duration": 12,
    "start_time": "2022-02-23T14:27:33.458Z"
   },
   {
    "duration": 12,
    "start_time": "2022-02-23T14:27:33.471Z"
   },
   {
    "duration": 12,
    "start_time": "2022-02-23T14:30:24.144Z"
   },
   {
    "duration": 12,
    "start_time": "2022-02-23T14:30:37.639Z"
   },
   {
    "duration": 401,
    "start_time": "2022-02-24T10:29:49.111Z"
   },
   {
    "duration": 840,
    "start_time": "2022-02-24T10:29:53.042Z"
   },
   {
    "duration": 195,
    "start_time": "2022-02-24T10:29:53.885Z"
   },
   {
    "duration": 8,
    "start_time": "2022-02-24T10:29:54.084Z"
   },
   {
    "duration": 33,
    "start_time": "2022-02-24T10:29:54.095Z"
   },
   {
    "duration": 39,
    "start_time": "2022-02-24T10:29:54.131Z"
   },
   {
    "duration": 72,
    "start_time": "2022-02-24T10:29:54.173Z"
   },
   {
    "duration": 6,
    "start_time": "2022-02-24T10:29:54.247Z"
   },
   {
    "duration": 21,
    "start_time": "2022-02-24T10:29:54.259Z"
   },
   {
    "duration": 87,
    "start_time": "2022-02-24T10:29:54.283Z"
   },
   {
    "duration": 35,
    "start_time": "2022-02-24T10:29:54.372Z"
   },
   {
    "duration": 57,
    "start_time": "2022-02-24T10:29:54.428Z"
   },
   {
    "duration": 5,
    "start_time": "2022-02-24T10:29:54.488Z"
   },
   {
    "duration": 36,
    "start_time": "2022-02-24T10:29:54.496Z"
   },
   {
    "duration": 10,
    "start_time": "2022-02-24T10:29:54.536Z"
   },
   {
    "duration": 14,
    "start_time": "2022-02-24T10:29:54.549Z"
   },
   {
    "duration": 10,
    "start_time": "2022-02-24T10:29:54.566Z"
   },
   {
    "duration": 54,
    "start_time": "2022-02-24T10:29:54.579Z"
   },
   {
    "duration": 14,
    "start_time": "2022-02-24T10:29:54.635Z"
   },
   {
    "duration": 20,
    "start_time": "2022-02-24T10:29:54.651Z"
   },
   {
    "duration": 22,
    "start_time": "2022-02-24T10:29:54.673Z"
   },
   {
    "duration": 10,
    "start_time": "2022-02-24T10:29:54.726Z"
   },
   {
    "duration": 25,
    "start_time": "2022-02-24T10:30:53.490Z"
   },
   {
    "duration": 412,
    "start_time": "2022-02-24T10:51:07.823Z"
   },
   {
    "duration": 1052,
    "start_time": "2022-02-24T10:51:20.252Z"
   },
   {
    "duration": 316,
    "start_time": "2022-02-24T10:54:57.857Z"
   },
   {
    "duration": 30,
    "start_time": "2022-02-24T10:55:08.060Z"
   },
   {
    "duration": 274,
    "start_time": "2022-02-24T10:59:20.688Z"
   },
   {
    "duration": 297,
    "start_time": "2022-02-24T11:00:57.568Z"
   },
   {
    "duration": 1589,
    "start_time": "2022-02-24T11:06:13.538Z"
   },
   {
    "duration": 24,
    "start_time": "2022-02-24T11:06:27.771Z"
   },
   {
    "duration": 38,
    "start_time": "2022-02-24T11:07:18.437Z"
   },
   {
    "duration": 78,
    "start_time": "2022-02-24T11:08:22.885Z"
   },
   {
    "duration": 365,
    "start_time": "2022-02-24T11:08:39.802Z"
   },
   {
    "duration": 23,
    "start_time": "2022-02-24T11:09:01.161Z"
   },
   {
    "duration": 523,
    "start_time": "2022-02-24T11:15:54.619Z"
   },
   {
    "duration": 356,
    "start_time": "2022-02-24T11:18:06.397Z"
   },
   {
    "duration": 647,
    "start_time": "2022-02-24T11:19:56.591Z"
   },
   {
    "duration": 579,
    "start_time": "2022-02-24T11:20:10.276Z"
   },
   {
    "duration": 587,
    "start_time": "2022-02-24T11:20:21.311Z"
   },
   {
    "duration": 570,
    "start_time": "2022-02-24T11:20:28.591Z"
   },
   {
    "duration": 454,
    "start_time": "2022-02-24T11:20:35.207Z"
   },
   {
    "duration": 504,
    "start_time": "2022-02-24T11:20:41.063Z"
   },
   {
    "duration": 4,
    "start_time": "2022-02-24T13:15:13.499Z"
   },
   {
    "duration": 74,
    "start_time": "2022-02-24T13:15:13.506Z"
   },
   {
    "duration": 7,
    "start_time": "2022-02-24T13:15:13.584Z"
   },
   {
    "duration": 34,
    "start_time": "2022-02-24T13:15:13.594Z"
   },
   {
    "duration": 34,
    "start_time": "2022-02-24T13:15:13.630Z"
   },
   {
    "duration": 73,
    "start_time": "2022-02-24T13:15:13.667Z"
   },
   {
    "duration": 6,
    "start_time": "2022-02-24T13:15:13.742Z"
   },
   {
    "duration": 24,
    "start_time": "2022-02-24T13:15:13.751Z"
   },
   {
    "duration": 82,
    "start_time": "2022-02-24T13:15:13.780Z"
   },
   {
    "duration": 32,
    "start_time": "2022-02-24T13:15:13.865Z"
   },
   {
    "duration": 72,
    "start_time": "2022-02-24T13:15:13.900Z"
   },
   {
    "duration": 7,
    "start_time": "2022-02-24T13:15:13.975Z"
   },
   {
    "duration": 42,
    "start_time": "2022-02-24T13:15:13.984Z"
   },
   {
    "duration": 10,
    "start_time": "2022-02-24T13:15:14.029Z"
   },
   {
    "duration": 8,
    "start_time": "2022-02-24T13:15:14.041Z"
   },
   {
    "duration": 10,
    "start_time": "2022-02-24T13:15:14.052Z"
   },
   {
    "duration": 16,
    "start_time": "2022-02-24T13:15:14.064Z"
   },
   {
    "duration": 47,
    "start_time": "2022-02-24T13:15:14.082Z"
   },
   {
    "duration": 20,
    "start_time": "2022-02-24T13:15:14.132Z"
   },
   {
    "duration": 22,
    "start_time": "2022-02-24T13:15:14.155Z"
   },
   {
    "duration": 7,
    "start_time": "2022-02-24T13:15:14.179Z"
   },
   {
    "duration": 62,
    "start_time": "2022-02-24T13:15:14.188Z"
   },
   {
    "duration": 6678,
    "start_time": "2022-02-24T13:15:14.253Z"
   },
   {
    "duration": 601,
    "start_time": "2022-02-24T13:15:57.151Z"
   },
   {
    "duration": 6,
    "start_time": "2022-02-24T13:27:02.904Z"
   },
   {
    "duration": 324,
    "start_time": "2022-02-24T13:31:51.168Z"
   },
   {
    "duration": 3,
    "start_time": "2022-02-24T13:32:08.156Z"
   },
   {
    "duration": 90,
    "start_time": "2022-02-24T13:32:08.162Z"
   },
   {
    "duration": 7,
    "start_time": "2022-02-24T13:32:08.255Z"
   },
   {
    "duration": 10,
    "start_time": "2022-02-24T13:32:08.265Z"
   },
   {
    "duration": 57,
    "start_time": "2022-02-24T13:32:08.277Z"
   },
   {
    "duration": 73,
    "start_time": "2022-02-24T13:32:08.337Z"
   },
   {
    "duration": 8,
    "start_time": "2022-02-24T13:32:08.427Z"
   },
   {
    "duration": 22,
    "start_time": "2022-02-24T13:32:08.439Z"
   },
   {
    "duration": 85,
    "start_time": "2022-02-24T13:32:08.465Z"
   },
   {
    "duration": 32,
    "start_time": "2022-02-24T13:32:08.553Z"
   },
   {
    "duration": 76,
    "start_time": "2022-02-24T13:32:08.587Z"
   },
   {
    "duration": 7,
    "start_time": "2022-02-24T13:32:08.665Z"
   },
   {
    "duration": 21,
    "start_time": "2022-02-24T13:32:08.674Z"
   },
   {
    "duration": 30,
    "start_time": "2022-02-24T13:32:08.698Z"
   },
   {
    "duration": 14,
    "start_time": "2022-02-24T13:32:08.731Z"
   },
   {
    "duration": 15,
    "start_time": "2022-02-24T13:32:08.747Z"
   },
   {
    "duration": 14,
    "start_time": "2022-02-24T13:32:08.765Z"
   },
   {
    "duration": 25,
    "start_time": "2022-02-24T13:32:08.781Z"
   },
   {
    "duration": 21,
    "start_time": "2022-02-24T13:32:08.827Z"
   },
   {
    "duration": 25,
    "start_time": "2022-02-24T13:32:08.851Z"
   },
   {
    "duration": 9,
    "start_time": "2022-02-24T13:32:08.879Z"
   },
   {
    "duration": 48,
    "start_time": "2022-02-24T13:32:08.890Z"
   },
   {
    "duration": 524,
    "start_time": "2022-02-24T13:32:08.940Z"
   },
   {
    "duration": 5,
    "start_time": "2022-02-24T13:32:09.467Z"
   },
   {
    "duration": 579,
    "start_time": "2022-02-24T13:32:09.475Z"
   },
   {
    "duration": 348,
    "start_time": "2022-02-24T13:32:09.709Z"
   },
   {
    "duration": 799,
    "start_time": "2022-02-24T13:34:16.708Z"
   },
   {
    "duration": 773,
    "start_time": "2022-02-24T13:39:22.838Z"
   },
   {
    "duration": 659,
    "start_time": "2022-02-24T13:40:06.789Z"
   },
   {
    "duration": 4,
    "start_time": "2022-02-24T14:26:54.315Z"
   },
   {
    "duration": 77,
    "start_time": "2022-02-24T14:26:54.322Z"
   },
   {
    "duration": 7,
    "start_time": "2022-02-24T14:26:54.402Z"
   },
   {
    "duration": 17,
    "start_time": "2022-02-24T14:26:54.412Z"
   },
   {
    "duration": 31,
    "start_time": "2022-02-24T14:26:54.432Z"
   },
   {
    "duration": 76,
    "start_time": "2022-02-24T14:26:54.465Z"
   },
   {
    "duration": 5,
    "start_time": "2022-02-24T14:26:54.543Z"
   },
   {
    "duration": 22,
    "start_time": "2022-02-24T14:26:54.551Z"
   },
   {
    "duration": 81,
    "start_time": "2022-02-24T14:26:54.577Z"
   },
   {
    "duration": 31,
    "start_time": "2022-02-24T14:26:54.662Z"
   },
   {
    "duration": 81,
    "start_time": "2022-02-24T14:26:54.696Z"
   },
   {
    "duration": 6,
    "start_time": "2022-02-24T14:26:54.779Z"
   },
   {
    "duration": 12,
    "start_time": "2022-02-24T14:26:54.787Z"
   },
   {
    "duration": 8,
    "start_time": "2022-02-24T14:26:54.827Z"
   },
   {
    "duration": 11,
    "start_time": "2022-02-24T14:26:54.839Z"
   },
   {
    "duration": 8,
    "start_time": "2022-02-24T14:26:54.853Z"
   },
   {
    "duration": 14,
    "start_time": "2022-02-24T14:26:54.864Z"
   },
   {
    "duration": 12,
    "start_time": "2022-02-24T14:26:54.927Z"
   },
   {
    "duration": 19,
    "start_time": "2022-02-24T14:26:54.943Z"
   },
   {
    "duration": 22,
    "start_time": "2022-02-24T14:26:54.965Z"
   },
   {
    "duration": 43,
    "start_time": "2022-02-24T14:26:54.990Z"
   },
   {
    "duration": 26,
    "start_time": "2022-02-24T14:26:55.035Z"
   },
   {
    "duration": 525,
    "start_time": "2022-02-24T14:26:55.064Z"
   },
   {
    "duration": 6,
    "start_time": "2022-02-24T14:26:55.592Z"
   },
   {
    "duration": 927,
    "start_time": "2022-02-24T14:26:55.600Z"
   },
   {
    "duration": 558,
    "start_time": "2022-02-24T14:26:56.529Z"
   },
   {
    "duration": 23,
    "start_time": "2022-02-24T14:28:47.729Z"
   },
   {
    "duration": 526,
    "start_time": "2022-02-24T14:29:07.170Z"
   },
   {
    "duration": 494,
    "start_time": "2022-02-24T14:35:58.638Z"
   },
   {
    "duration": 675,
    "start_time": "2022-02-24T14:36:17.087Z"
   },
   {
    "duration": 2798,
    "start_time": "2022-02-24T14:37:58.905Z"
   },
   {
    "duration": 1183,
    "start_time": "2022-02-24T14:39:39.647Z"
   },
   {
    "duration": 8538,
    "start_time": "2022-02-24T14:40:25.479Z"
   },
   {
    "duration": 7740,
    "start_time": "2022-02-24T14:53:40.295Z"
   },
   {
    "duration": 7619,
    "start_time": "2022-02-24T14:54:28.545Z"
   },
   {
    "duration": 8235,
    "start_time": "2022-02-24T14:55:03.918Z"
   },
   {
    "duration": 9158,
    "start_time": "2022-02-24T15:01:03.397Z"
   },
   {
    "duration": 9410,
    "start_time": "2022-02-24T15:02:46.322Z"
   },
   {
    "duration": 5743,
    "start_time": "2022-02-24T15:04:24.689Z"
   },
   {
    "duration": 7389,
    "start_time": "2022-02-24T15:04:59.066Z"
   },
   {
    "duration": 5869,
    "start_time": "2022-02-24T15:08:10.382Z"
   },
   {
    "duration": 8862,
    "start_time": "2022-02-24T15:08:59.642Z"
   },
   {
    "duration": 7206,
    "start_time": "2022-02-24T15:09:22.056Z"
   },
   {
    "duration": 23,
    "start_time": "2022-02-24T15:23:39.292Z"
   },
   {
    "duration": 275,
    "start_time": "2022-02-24T15:24:01.939Z"
   },
   {
    "duration": 277,
    "start_time": "2022-02-24T15:24:48.258Z"
   },
   {
    "duration": 23,
    "start_time": "2022-02-24T15:25:05.775Z"
   },
   {
    "duration": 275,
    "start_time": "2022-02-24T15:27:09.716Z"
   },
   {
    "duration": 6516,
    "start_time": "2022-02-24T15:27:34.902Z"
   },
   {
    "duration": 363,
    "start_time": "2022-02-24T15:27:47.943Z"
   },
   {
    "duration": 22,
    "start_time": "2022-02-24T15:27:54.311Z"
   },
   {
    "duration": 549,
    "start_time": "2022-02-24T15:28:18.430Z"
   },
   {
    "duration": 6525,
    "start_time": "2022-02-24T15:29:55.385Z"
   },
   {
    "duration": 6904,
    "start_time": "2022-02-24T15:30:27.634Z"
   },
   {
    "duration": 849,
    "start_time": "2022-02-24T15:30:50.015Z"
   },
   {
    "duration": 79,
    "start_time": "2022-02-24T15:30:50.867Z"
   },
   {
    "duration": 7,
    "start_time": "2022-02-24T15:30:50.950Z"
   },
   {
    "duration": 13,
    "start_time": "2022-02-24T15:30:50.959Z"
   },
   {
    "duration": 57,
    "start_time": "2022-02-24T15:30:50.974Z"
   },
   {
    "duration": 54,
    "start_time": "2022-02-24T15:30:51.034Z"
   },
   {
    "duration": 6,
    "start_time": "2022-02-24T15:30:51.091Z"
   },
   {
    "duration": 21,
    "start_time": "2022-02-24T15:30:51.129Z"
   },
   {
    "duration": 77,
    "start_time": "2022-02-24T15:30:51.153Z"
   },
   {
    "duration": 33,
    "start_time": "2022-02-24T15:30:51.232Z"
   },
   {
    "duration": 81,
    "start_time": "2022-02-24T15:30:51.267Z"
   },
   {
    "duration": 5,
    "start_time": "2022-02-24T15:30:51.351Z"
   },
   {
    "duration": 11,
    "start_time": "2022-02-24T15:30:51.359Z"
   },
   {
    "duration": 10,
    "start_time": "2022-02-24T15:30:51.372Z"
   },
   {
    "duration": 11,
    "start_time": "2022-02-24T15:30:51.384Z"
   },
   {
    "duration": 8,
    "start_time": "2022-02-24T15:30:51.426Z"
   },
   {
    "duration": 16,
    "start_time": "2022-02-24T15:30:51.437Z"
   },
   {
    "duration": 16,
    "start_time": "2022-02-24T15:30:51.455Z"
   },
   {
    "duration": 18,
    "start_time": "2022-02-24T15:30:51.473Z"
   },
   {
    "duration": 52,
    "start_time": "2022-02-24T15:30:51.493Z"
   },
   {
    "duration": 29,
    "start_time": "2022-02-24T15:30:51.548Z"
   },
   {
    "duration": 28,
    "start_time": "2022-02-24T15:30:51.580Z"
   },
   {
    "duration": 517,
    "start_time": "2022-02-24T15:30:51.612Z"
   },
   {
    "duration": 6,
    "start_time": "2022-02-24T15:30:52.132Z"
   },
   {
    "duration": 6990,
    "start_time": "2022-02-24T15:30:52.141Z"
   },
   {
    "duration": 23,
    "start_time": "2022-02-24T15:30:59.133Z"
   },
   {
    "duration": 6458,
    "start_time": "2022-02-24T15:30:59.159Z"
   },
   {
    "duration": 257,
    "start_time": "2022-02-24T15:31:36.500Z"
   },
   {
    "duration": 2153,
    "start_time": "2022-02-24T15:31:46.178Z"
   },
   {
    "duration": 2127,
    "start_time": "2022-02-24T15:32:16.711Z"
   },
   {
    "duration": 2103,
    "start_time": "2022-02-24T15:32:28.609Z"
   },
   {
    "duration": 215,
    "start_time": "2022-02-24T15:33:47.979Z"
   },
   {
    "duration": 1952,
    "start_time": "2022-02-24T15:33:57.746Z"
   },
   {
    "duration": 2161,
    "start_time": "2022-02-24T15:34:10.529Z"
   },
   {
    "duration": 2626,
    "start_time": "2022-02-24T15:35:48.587Z"
   },
   {
    "duration": 2157,
    "start_time": "2022-02-24T15:36:01.214Z"
   },
   {
    "duration": 2441,
    "start_time": "2022-02-24T15:36:32.926Z"
   },
   {
    "duration": 3731,
    "start_time": "2022-02-24T15:36:43.824Z"
   },
   {
    "duration": 289,
    "start_time": "2022-02-24T15:37:43.059Z"
   },
   {
    "duration": 22,
    "start_time": "2022-02-24T15:37:54.970Z"
   },
   {
    "duration": 275,
    "start_time": "2022-02-24T15:38:09.556Z"
   },
   {
    "duration": 24,
    "start_time": "2022-02-24T15:38:29.977Z"
   },
   {
    "duration": 2536,
    "start_time": "2022-02-24T15:38:34.010Z"
   },
   {
    "duration": 305,
    "start_time": "2022-02-24T15:39:21.873Z"
   },
   {
    "duration": 326,
    "start_time": "2022-02-24T17:07:01.710Z"
   },
   {
    "duration": 5,
    "start_time": "2022-02-24T17:10:25.286Z"
   },
   {
    "duration": 87,
    "start_time": "2022-02-24T17:10:25.294Z"
   },
   {
    "duration": 7,
    "start_time": "2022-02-24T17:10:25.384Z"
   },
   {
    "duration": 38,
    "start_time": "2022-02-24T17:10:25.394Z"
   },
   {
    "duration": 41,
    "start_time": "2022-02-24T17:10:25.435Z"
   },
   {
    "duration": 73,
    "start_time": "2022-02-24T17:10:25.478Z"
   },
   {
    "duration": 6,
    "start_time": "2022-02-24T17:10:25.554Z"
   },
   {
    "duration": 23,
    "start_time": "2022-02-24T17:10:25.563Z"
   },
   {
    "duration": 91,
    "start_time": "2022-02-24T17:10:25.589Z"
   },
   {
    "duration": 48,
    "start_time": "2022-02-24T17:10:25.682Z"
   },
   {
    "duration": 60,
    "start_time": "2022-02-24T17:10:25.733Z"
   },
   {
    "duration": 6,
    "start_time": "2022-02-24T17:10:25.796Z"
   },
   {
    "duration": 10,
    "start_time": "2022-02-24T17:10:25.827Z"
   },
   {
    "duration": 14,
    "start_time": "2022-02-24T17:10:25.840Z"
   },
   {
    "duration": 11,
    "start_time": "2022-02-24T17:10:25.857Z"
   },
   {
    "duration": 10,
    "start_time": "2022-02-24T17:10:25.871Z"
   },
   {
    "duration": 16,
    "start_time": "2022-02-24T17:10:25.927Z"
   },
   {
    "duration": 15,
    "start_time": "2022-02-24T17:10:25.946Z"
   },
   {
    "duration": 17,
    "start_time": "2022-02-24T17:10:25.965Z"
   },
   {
    "duration": 55,
    "start_time": "2022-02-24T17:10:25.984Z"
   },
   {
    "duration": 12,
    "start_time": "2022-02-24T17:10:26.041Z"
   },
   {
    "duration": 27,
    "start_time": "2022-02-24T17:10:26.055Z"
   },
   {
    "duration": 557,
    "start_time": "2022-02-24T17:10:26.085Z"
   },
   {
    "duration": 6,
    "start_time": "2022-02-24T17:10:26.646Z"
   },
   {
    "duration": 7203,
    "start_time": "2022-02-24T17:10:26.654Z"
   },
   {
    "duration": 23,
    "start_time": "2022-02-24T17:10:33.859Z"
   },
   {
    "duration": 301,
    "start_time": "2022-02-24T17:10:33.884Z"
   },
   {
    "duration": 580,
    "start_time": "2022-02-24T17:10:56.779Z"
   },
   {
    "duration": 104,
    "start_time": "2022-02-24T17:11:45.635Z"
   },
   {
    "duration": 301,
    "start_time": "2022-02-24T17:11:53.185Z"
   },
   {
    "duration": 25,
    "start_time": "2022-02-24T17:12:29.351Z"
   },
   {
    "duration": 678,
    "start_time": "2022-02-24T17:13:26.558Z"
   },
   {
    "duration": 321,
    "start_time": "2022-02-24T17:14:10.857Z"
   },
   {
    "duration": 2273,
    "start_time": "2022-02-24T17:14:24.769Z"
   },
   {
    "duration": 1684,
    "start_time": "2022-02-24T17:30:50.868Z"
   },
   {
    "duration": 91,
    "start_time": "2022-02-24T17:30:52.555Z"
   },
   {
    "duration": 7,
    "start_time": "2022-02-24T17:30:52.650Z"
   },
   {
    "duration": 15,
    "start_time": "2022-02-24T17:30:52.659Z"
   },
   {
    "duration": 66,
    "start_time": "2022-02-24T17:30:52.677Z"
   },
   {
    "duration": 52,
    "start_time": "2022-02-24T17:30:52.746Z"
   },
   {
    "duration": 26,
    "start_time": "2022-02-24T17:30:52.800Z"
   },
   {
    "duration": 23,
    "start_time": "2022-02-24T17:30:52.834Z"
   },
   {
    "duration": 82,
    "start_time": "2022-02-24T17:30:52.860Z"
   },
   {
    "duration": 31,
    "start_time": "2022-02-24T17:30:52.945Z"
   },
   {
    "duration": 81,
    "start_time": "2022-02-24T17:30:52.979Z"
   },
   {
    "duration": 7,
    "start_time": "2022-02-24T17:30:53.063Z"
   },
   {
    "duration": 13,
    "start_time": "2022-02-24T17:30:53.072Z"
   },
   {
    "duration": 43,
    "start_time": "2022-02-24T17:30:53.088Z"
   },
   {
    "duration": 15,
    "start_time": "2022-02-24T17:30:53.134Z"
   },
   {
    "duration": 11,
    "start_time": "2022-02-24T17:30:53.152Z"
   },
   {
    "duration": 12,
    "start_time": "2022-02-24T17:30:53.166Z"
   },
   {
    "duration": 10,
    "start_time": "2022-02-24T17:30:53.181Z"
   },
   {
    "duration": 50,
    "start_time": "2022-02-24T17:30:53.193Z"
   },
   {
    "duration": 21,
    "start_time": "2022-02-24T17:30:53.246Z"
   },
   {
    "duration": 10,
    "start_time": "2022-02-24T17:30:53.270Z"
   },
   {
    "duration": 60,
    "start_time": "2022-02-24T17:30:53.282Z"
   },
   {
    "duration": 652,
    "start_time": "2022-02-24T17:30:53.348Z"
   },
   {
    "duration": 7,
    "start_time": "2022-02-24T17:30:54.002Z"
   },
   {
    "duration": 7553,
    "start_time": "2022-02-24T17:30:54.027Z"
   },
   {
    "duration": 26,
    "start_time": "2022-02-24T17:31:01.583Z"
   },
   {
    "duration": 1564,
    "start_time": "2022-02-24T17:38:45.562Z"
   },
   {
    "duration": 84,
    "start_time": "2022-02-24T17:38:47.129Z"
   },
   {
    "duration": 15,
    "start_time": "2022-02-24T17:38:47.216Z"
   },
   {
    "duration": 15,
    "start_time": "2022-02-24T17:38:47.235Z"
   },
   {
    "duration": 41,
    "start_time": "2022-02-24T17:38:47.253Z"
   },
   {
    "duration": 77,
    "start_time": "2022-02-24T17:38:47.297Z"
   },
   {
    "duration": 8,
    "start_time": "2022-02-24T17:38:47.377Z"
   },
   {
    "duration": 51,
    "start_time": "2022-02-24T17:38:47.388Z"
   },
   {
    "duration": 56,
    "start_time": "2022-02-24T17:38:47.444Z"
   },
   {
    "duration": 50,
    "start_time": "2022-02-24T17:38:47.503Z"
   },
   {
    "duration": 103,
    "start_time": "2022-02-24T17:38:47.556Z"
   },
   {
    "duration": 8,
    "start_time": "2022-02-24T17:38:47.662Z"
   },
   {
    "duration": 12,
    "start_time": "2022-02-24T17:38:47.672Z"
   },
   {
    "duration": 7,
    "start_time": "2022-02-24T17:38:47.687Z"
   },
   {
    "duration": 13,
    "start_time": "2022-02-24T17:38:47.726Z"
   },
   {
    "duration": 12,
    "start_time": "2022-02-24T17:38:47.742Z"
   },
   {
    "duration": 19,
    "start_time": "2022-02-24T17:38:47.757Z"
   },
   {
    "duration": 13,
    "start_time": "2022-02-24T17:38:47.778Z"
   },
   {
    "duration": 16,
    "start_time": "2022-02-24T17:38:47.827Z"
   },
   {
    "duration": 21,
    "start_time": "2022-02-24T17:38:47.846Z"
   },
   {
    "duration": 16,
    "start_time": "2022-02-24T17:38:47.870Z"
   },
   {
    "duration": 72,
    "start_time": "2022-02-24T17:38:47.888Z"
   },
   {
    "duration": 818,
    "start_time": "2022-02-24T17:38:47.963Z"
   },
   {
    "duration": 6,
    "start_time": "2022-02-24T17:38:48.783Z"
   },
   {
    "duration": 9974,
    "start_time": "2022-02-24T17:38:48.792Z"
   },
   {
    "duration": 31,
    "start_time": "2022-02-24T17:38:58.769Z"
   },
   {
    "duration": 8,
    "start_time": "2022-02-24T17:38:58.826Z"
   },
   {
    "duration": 470,
    "start_time": "2022-02-24T17:38:58.837Z"
   },
   {
    "duration": 2210,
    "start_time": "2022-02-24T17:39:17.534Z"
   },
   {
    "duration": 2120,
    "start_time": "2022-02-24T17:39:30.101Z"
   },
   {
    "duration": 361,
    "start_time": "2022-02-24T18:03:26.724Z"
   },
   {
    "duration": 26,
    "start_time": "2022-02-24T18:03:38.894Z"
   },
   {
    "duration": 29,
    "start_time": "2022-02-24T18:06:14.824Z"
   },
   {
    "duration": 592,
    "start_time": "2022-02-24T18:06:33.637Z"
   },
   {
    "duration": 7545,
    "start_time": "2022-02-24T18:13:14.055Z"
   },
   {
    "duration": 9305,
    "start_time": "2022-02-24T18:13:46.226Z"
   },
   {
    "duration": 11324,
    "start_time": "2022-02-24T18:14:06.365Z"
   },
   {
    "duration": 6684,
    "start_time": "2022-02-24T18:20:46.299Z"
   },
   {
    "duration": 8124,
    "start_time": "2022-02-24T18:21:04.776Z"
   },
   {
    "duration": 8097,
    "start_time": "2022-02-24T18:21:41.666Z"
   },
   {
    "duration": 1088,
    "start_time": "2022-02-24T18:22:28.478Z"
   },
   {
    "duration": 774,
    "start_time": "2022-02-24T18:22:40.474Z"
   },
   {
    "duration": 820,
    "start_time": "2022-02-24T18:22:51.731Z"
   },
   {
    "duration": 310,
    "start_time": "2022-02-24T18:32:09.996Z"
   },
   {
    "duration": 25,
    "start_time": "2022-02-24T18:32:31.393Z"
   },
   {
    "duration": 347,
    "start_time": "2022-02-24T18:34:03.855Z"
   },
   {
    "duration": 25,
    "start_time": "2022-02-24T18:34:13.607Z"
   },
   {
    "duration": 241,
    "start_time": "2022-02-24T18:59:19.807Z"
   },
   {
    "duration": 9,
    "start_time": "2022-02-24T19:00:12.146Z"
   },
   {
    "duration": 7,
    "start_time": "2022-02-24T19:01:40.060Z"
   },
   {
    "duration": 6,
    "start_time": "2022-02-24T19:01:47.393Z"
   },
   {
    "duration": 7,
    "start_time": "2022-02-24T19:03:31.382Z"
   },
   {
    "duration": 7,
    "start_time": "2022-02-24T19:03:41.467Z"
   },
   {
    "duration": 323,
    "start_time": "2022-02-24T19:04:46.360Z"
   },
   {
    "duration": 38,
    "start_time": "2022-02-24T19:08:07.246Z"
   },
   {
    "duration": 25,
    "start_time": "2022-02-24T19:10:05.222Z"
   },
   {
    "duration": 19,
    "start_time": "2022-02-24T19:11:12.286Z"
   },
   {
    "duration": 837,
    "start_time": "2022-02-24T19:11:51.271Z"
   },
   {
    "duration": 9,
    "start_time": "2022-02-24T19:12:22.486Z"
   },
   {
    "duration": 25,
    "start_time": "2022-02-24T19:13:00.335Z"
   },
   {
    "duration": 22,
    "start_time": "2022-02-24T19:14:16.034Z"
   },
   {
    "duration": 23,
    "start_time": "2022-02-24T19:15:01.826Z"
   },
   {
    "duration": 18,
    "start_time": "2022-02-24T19:17:11.916Z"
   },
   {
    "duration": 16,
    "start_time": "2022-02-24T20:07:30.305Z"
   },
   {
    "duration": 13,
    "start_time": "2022-02-24T20:07:52.204Z"
   },
   {
    "duration": 15,
    "start_time": "2022-02-24T20:08:10.191Z"
   },
   {
    "duration": 14,
    "start_time": "2022-02-24T20:24:01.543Z"
   },
   {
    "duration": 4,
    "start_time": "2022-02-24T20:32:31.298Z"
   },
   {
    "duration": 7,
    "start_time": "2022-02-24T20:32:56.769Z"
   },
   {
    "duration": 14,
    "start_time": "2022-02-24T20:34:08.597Z"
   },
   {
    "duration": 327,
    "start_time": "2022-02-24T20:42:00.878Z"
   },
   {
    "duration": 281,
    "start_time": "2022-02-24T20:42:40.080Z"
   },
   {
    "duration": 266,
    "start_time": "2022-02-24T20:43:40.064Z"
   },
   {
    "duration": 21,
    "start_time": "2022-02-24T20:47:55.692Z"
   },
   {
    "duration": 13,
    "start_time": "2022-02-24T20:48:53.419Z"
   },
   {
    "duration": 32,
    "start_time": "2022-02-24T20:50:11.767Z"
   },
   {
    "duration": 25,
    "start_time": "2022-02-24T20:50:36.973Z"
   },
   {
    "duration": 273,
    "start_time": "2022-02-24T20:56:51.241Z"
   },
   {
    "duration": 850,
    "start_time": "2022-02-24T20:58:05.364Z"
   },
   {
    "duration": 27,
    "start_time": "2022-02-24T20:58:18.780Z"
   },
   {
    "duration": 1591,
    "start_time": "2022-02-24T21:11:35.584Z"
   },
   {
    "duration": 86,
    "start_time": "2022-02-24T21:11:37.177Z"
   },
   {
    "duration": 7,
    "start_time": "2022-02-24T21:11:37.266Z"
   },
   {
    "duration": 38,
    "start_time": "2022-02-24T21:11:37.277Z"
   },
   {
    "duration": 52,
    "start_time": "2022-02-24T21:11:37.318Z"
   },
   {
    "duration": 61,
    "start_time": "2022-02-24T21:11:37.373Z"
   },
   {
    "duration": 6,
    "start_time": "2022-02-24T21:11:37.436Z"
   },
   {
    "duration": 20,
    "start_time": "2022-02-24T21:11:37.445Z"
   },
   {
    "duration": 79,
    "start_time": "2022-02-24T21:11:37.470Z"
   },
   {
    "duration": 34,
    "start_time": "2022-02-24T21:11:37.552Z"
   },
   {
    "duration": 80,
    "start_time": "2022-02-24T21:11:37.589Z"
   },
   {
    "duration": 6,
    "start_time": "2022-02-24T21:11:37.672Z"
   },
   {
    "duration": 11,
    "start_time": "2022-02-24T21:11:37.682Z"
   },
   {
    "duration": 9,
    "start_time": "2022-02-24T21:11:37.727Z"
   },
   {
    "duration": 11,
    "start_time": "2022-02-24T21:11:37.738Z"
   },
   {
    "duration": 7,
    "start_time": "2022-02-24T21:11:37.753Z"
   },
   {
    "duration": 15,
    "start_time": "2022-02-24T21:11:37.763Z"
   },
   {
    "duration": 52,
    "start_time": "2022-02-24T21:11:37.781Z"
   },
   {
    "duration": 23,
    "start_time": "2022-02-24T21:11:37.836Z"
   },
   {
    "duration": 23,
    "start_time": "2022-02-24T21:11:37.862Z"
   },
   {
    "duration": 39,
    "start_time": "2022-02-24T21:11:37.887Z"
   },
   {
    "duration": 26,
    "start_time": "2022-02-24T21:11:37.930Z"
   },
   {
    "duration": 542,
    "start_time": "2022-02-24T21:11:37.958Z"
   },
   {
    "duration": 8,
    "start_time": "2022-02-24T21:11:38.503Z"
   },
   {
    "duration": 8406,
    "start_time": "2022-02-24T21:11:38.527Z"
   },
   {
    "duration": 30,
    "start_time": "2022-02-24T21:11:46.936Z"
   },
   {
    "duration": 972,
    "start_time": "2022-02-24T21:11:46.971Z"
   },
   {
    "duration": 3,
    "start_time": "2022-02-24T21:11:47.946Z"
   },
   {
    "duration": 70,
    "start_time": "2022-02-24T21:11:47.951Z"
   },
   {
    "duration": 16384,
    "start_time": "2022-02-24T21:11:48.024Z"
   },
   {
    "duration": 4,
    "start_time": "2022-02-24T21:12:04.411Z"
   },
   {
    "duration": 2165,
    "start_time": "2022-02-24T21:12:04.428Z"
   },
   {
    "duration": 854,
    "start_time": "2022-02-24T21:12:06.596Z"
   },
   {
    "duration": 26,
    "start_time": "2022-02-24T21:12:59.724Z"
   },
   {
    "duration": 3,
    "start_time": "2022-02-24T21:13:39.306Z"
   },
   {
    "duration": 18,
    "start_time": "2022-02-24T21:13:45.783Z"
   },
   {
    "duration": 367,
    "start_time": "2022-02-24T21:14:27.369Z"
   },
   {
    "duration": 3,
    "start_time": "2022-02-24T21:14:38.009Z"
   },
   {
    "duration": 19,
    "start_time": "2022-02-24T21:15:18.754Z"
   },
   {
    "duration": 4,
    "start_time": "2022-02-24T21:15:26.305Z"
   },
   {
    "duration": 77,
    "start_time": "2022-02-24T21:15:26.321Z"
   },
   {
    "duration": 8,
    "start_time": "2022-02-24T21:15:26.427Z"
   },
   {
    "duration": 13,
    "start_time": "2022-02-24T21:15:26.438Z"
   },
   {
    "duration": 35,
    "start_time": "2022-02-24T21:15:26.454Z"
   },
   {
    "duration": 84,
    "start_time": "2022-02-24T21:15:26.492Z"
   },
   {
    "duration": 6,
    "start_time": "2022-02-24T21:15:26.579Z"
   },
   {
    "duration": 62,
    "start_time": "2022-02-24T21:15:26.588Z"
   },
   {
    "duration": 73,
    "start_time": "2022-02-24T21:15:26.656Z"
   },
   {
    "duration": 39,
    "start_time": "2022-02-24T21:15:26.733Z"
   },
   {
    "duration": 84,
    "start_time": "2022-02-24T21:15:26.774Z"
   },
   {
    "duration": 9,
    "start_time": "2022-02-24T21:15:26.860Z"
   },
   {
    "duration": 12,
    "start_time": "2022-02-24T21:15:26.872Z"
   },
   {
    "duration": 41,
    "start_time": "2022-02-24T21:15:26.887Z"
   },
   {
    "duration": 12,
    "start_time": "2022-02-24T21:15:26.931Z"
   },
   {
    "duration": 9,
    "start_time": "2022-02-24T21:15:26.946Z"
   },
   {
    "duration": 17,
    "start_time": "2022-02-24T21:15:26.958Z"
   },
   {
    "duration": 50,
    "start_time": "2022-02-24T21:15:26.979Z"
   },
   {
    "duration": 17,
    "start_time": "2022-02-24T21:15:27.032Z"
   },
   {
    "duration": 27,
    "start_time": "2022-02-24T21:15:27.051Z"
   },
   {
    "duration": 8,
    "start_time": "2022-02-24T21:15:27.082Z"
   },
   {
    "duration": 24,
    "start_time": "2022-02-24T21:15:27.127Z"
   },
   {
    "duration": 542,
    "start_time": "2022-02-24T21:15:27.154Z"
   },
   {
    "duration": 5,
    "start_time": "2022-02-24T21:15:27.701Z"
   },
   {
    "duration": 8807,
    "start_time": "2022-02-24T21:15:27.725Z"
   },
   {
    "duration": 27,
    "start_time": "2022-02-24T21:15:36.534Z"
   },
   {
    "duration": 1421,
    "start_time": "2022-02-24T21:15:36.563Z"
   },
   {
    "duration": 47,
    "start_time": "2022-02-24T21:15:37.987Z"
   },
   {
    "duration": 33,
    "start_time": "2022-02-24T21:15:38.037Z"
   },
   {
    "duration": 3,
    "start_time": "2022-02-24T21:15:38.073Z"
   },
   {
    "duration": 65,
    "start_time": "2022-02-24T21:15:38.079Z"
   },
   {
    "duration": 969,
    "start_time": "2022-02-24T21:15:38.147Z"
   },
   {
    "duration": 23,
    "start_time": "2022-02-24T21:16:00.982Z"
   },
   {
    "duration": 450,
    "start_time": "2022-02-24T21:16:48.517Z"
   },
   {
    "duration": 28,
    "start_time": "2022-02-24T21:17:45.630Z"
   },
   {
    "duration": 25,
    "start_time": "2022-02-24T21:17:56.360Z"
   },
   {
    "duration": 4,
    "start_time": "2022-02-24T21:18:25.518Z"
   },
   {
    "duration": 6,
    "start_time": "2022-02-24T21:26:57.873Z"
   },
   {
    "duration": 5,
    "start_time": "2022-02-24T21:27:22.847Z"
   },
   {
    "duration": 5,
    "start_time": "2022-02-24T21:27:46.847Z"
   },
   {
    "duration": 8,
    "start_time": "2022-02-24T22:06:42.404Z"
   },
   {
    "duration": 16,
    "start_time": "2022-02-24T22:07:03.262Z"
   },
   {
    "duration": 14,
    "start_time": "2022-02-24T22:08:40.509Z"
   },
   {
    "duration": 85,
    "start_time": "2022-02-24T22:09:01.579Z"
   },
   {
    "duration": 87,
    "start_time": "2022-02-24T22:09:07.620Z"
   },
   {
    "duration": 40,
    "start_time": "2022-02-24T22:09:14.080Z"
   },
   {
    "duration": 38,
    "start_time": "2022-02-24T22:09:27.558Z"
   },
   {
    "duration": 27,
    "start_time": "2022-02-24T22:10:55.911Z"
   },
   {
    "duration": 25,
    "start_time": "2022-02-24T22:11:55.977Z"
   },
   {
    "duration": 575,
    "start_time": "2022-02-24T22:12:10.758Z"
   },
   {
    "duration": 427,
    "start_time": "2022-02-24T22:12:19.501Z"
   },
   {
    "duration": 8,
    "start_time": "2022-02-24T22:13:56.833Z"
   },
   {
    "duration": 24,
    "start_time": "2022-02-24T22:13:58.296Z"
   },
   {
    "duration": 511,
    "start_time": "2022-02-24T22:14:17.919Z"
   },
   {
    "duration": 491,
    "start_time": "2022-02-24T22:14:43.653Z"
   },
   {
    "duration": 79,
    "start_time": "2022-02-24T22:16:00.918Z"
   },
   {
    "duration": 506,
    "start_time": "2022-02-24T22:16:42.399Z"
   },
   {
    "duration": 172,
    "start_time": "2022-02-24T22:16:44.151Z"
   },
   {
    "duration": 112,
    "start_time": "2022-02-24T22:17:02.609Z"
   },
   {
    "duration": 535,
    "start_time": "2022-02-24T22:17:31.198Z"
   },
   {
    "duration": 808,
    "start_time": "2022-02-24T22:18:00.220Z"
   },
   {
    "duration": 538,
    "start_time": "2022-02-24T22:20:17.101Z"
   },
   {
    "duration": 423,
    "start_time": "2022-02-24T22:20:36.641Z"
   },
   {
    "duration": 363,
    "start_time": "2022-02-25T09:50:41.473Z"
   },
   {
    "duration": 337,
    "start_time": "2022-02-25T10:04:39.520Z"
   },
   {
    "duration": 1460,
    "start_time": "2022-02-25T10:04:44.677Z"
   },
   {
    "duration": 77,
    "start_time": "2022-02-25T10:04:46.140Z"
   },
   {
    "duration": 6,
    "start_time": "2022-02-25T10:04:46.220Z"
   },
   {
    "duration": 10,
    "start_time": "2022-02-25T10:04:46.229Z"
   },
   {
    "duration": 50,
    "start_time": "2022-02-25T10:04:46.241Z"
   },
   {
    "duration": 47,
    "start_time": "2022-02-25T10:04:46.294Z"
   },
   {
    "duration": 21,
    "start_time": "2022-02-25T10:04:46.343Z"
   },
   {
    "duration": 20,
    "start_time": "2022-02-25T10:04:46.368Z"
   },
   {
    "duration": 82,
    "start_time": "2022-02-25T10:04:46.391Z"
   },
   {
    "duration": 32,
    "start_time": "2022-02-25T10:04:46.476Z"
   },
   {
    "duration": 78,
    "start_time": "2022-02-25T10:04:46.510Z"
   },
   {
    "duration": 5,
    "start_time": "2022-02-25T10:04:46.591Z"
   },
   {
    "duration": 10,
    "start_time": "2022-02-25T10:04:46.598Z"
   },
   {
    "duration": 12,
    "start_time": "2022-02-25T10:04:46.610Z"
   },
   {
    "duration": 38,
    "start_time": "2022-02-25T10:04:46.624Z"
   },
   {
    "duration": 13,
    "start_time": "2022-02-25T10:04:46.665Z"
   },
   {
    "duration": 17,
    "start_time": "2022-02-25T10:04:46.681Z"
   },
   {
    "duration": 35,
    "start_time": "2022-02-25T10:04:46.701Z"
   },
   {
    "duration": 25,
    "start_time": "2022-02-25T10:04:46.739Z"
   },
   {
    "duration": 20,
    "start_time": "2022-02-25T10:04:46.766Z"
   },
   {
    "duration": 12,
    "start_time": "2022-02-25T10:04:46.788Z"
   },
   {
    "duration": 24,
    "start_time": "2022-02-25T10:04:46.803Z"
   },
   {
    "duration": 507,
    "start_time": "2022-02-25T10:04:46.832Z"
   },
   {
    "duration": 6,
    "start_time": "2022-02-25T10:04:47.342Z"
   },
   {
    "duration": 8032,
    "start_time": "2022-02-25T10:04:47.363Z"
   },
   {
    "duration": 26,
    "start_time": "2022-02-25T10:04:55.398Z"
   },
   {
    "duration": 1041,
    "start_time": "2022-02-25T10:04:55.426Z"
   },
   {
    "duration": 24,
    "start_time": "2022-02-25T10:04:56.469Z"
   },
   {
    "duration": 29,
    "start_time": "2022-02-25T10:04:56.496Z"
   },
   {
    "duration": 3,
    "start_time": "2022-02-25T10:04:56.527Z"
   },
   {
    "duration": 29,
    "start_time": "2022-02-25T10:04:56.563Z"
   },
   {
    "duration": 5,
    "start_time": "2022-02-25T10:04:56.595Z"
   },
   {
    "duration": 828,
    "start_time": "2022-02-25T10:04:56.603Z"
   },
   {
    "duration": 52,
    "start_time": "2022-02-25T10:04:57.434Z"
   },
   {
    "duration": 213,
    "start_time": "2022-02-25T10:04:57.488Z"
   },
   {
    "duration": 8,
    "start_time": "2022-02-25T10:04:57.703Z"
   },
   {
    "duration": 48,
    "start_time": "2022-02-25T10:04:57.714Z"
   },
   {
    "duration": 428,
    "start_time": "2022-02-25T10:04:57.765Z"
   },
   {
    "duration": 618,
    "start_time": "2022-02-25T10:04:58.196Z"
   },
   {
    "duration": 2161,
    "start_time": "2022-02-25T10:26:47.433Z"
   },
   {
    "duration": 426,
    "start_time": "2022-02-25T10:27:04.909Z"
   },
   {
    "duration": 2320,
    "start_time": "2022-02-25T10:27:15.865Z"
   },
   {
    "duration": 803,
    "start_time": "2022-02-25T10:27:46.894Z"
   },
   {
    "duration": 2381,
    "start_time": "2022-02-25T10:28:06.129Z"
   },
   {
    "duration": 4316,
    "start_time": "2022-02-25T10:29:01.248Z"
   },
   {
    "duration": 2313,
    "start_time": "2022-02-25T10:34:02.374Z"
   },
   {
    "duration": 10,
    "start_time": "2022-02-25T10:36:49.378Z"
   },
   {
    "duration": 10,
    "start_time": "2022-02-25T10:40:02.289Z"
   },
   {
    "duration": 27,
    "start_time": "2022-02-25T10:40:22.943Z"
   },
   {
    "duration": 620,
    "start_time": "2022-02-25T10:41:07.563Z"
   },
   {
    "duration": 4,
    "start_time": "2022-02-25T11:52:55.016Z"
   },
   {
    "duration": 86,
    "start_time": "2022-02-25T11:52:55.023Z"
   },
   {
    "duration": 7,
    "start_time": "2022-02-25T11:52:55.113Z"
   },
   {
    "duration": 12,
    "start_time": "2022-02-25T11:52:55.123Z"
   },
   {
    "duration": 58,
    "start_time": "2022-02-25T11:52:55.137Z"
   },
   {
    "duration": 71,
    "start_time": "2022-02-25T11:52:55.198Z"
   },
   {
    "duration": 8,
    "start_time": "2022-02-25T11:52:55.274Z"
   },
   {
    "duration": 22,
    "start_time": "2022-02-25T11:52:55.286Z"
   },
   {
    "duration": 87,
    "start_time": "2022-02-25T11:52:55.313Z"
   },
   {
    "duration": 33,
    "start_time": "2022-02-25T11:52:55.403Z"
   },
   {
    "duration": 80,
    "start_time": "2022-02-25T11:52:55.439Z"
   },
   {
    "duration": 7,
    "start_time": "2022-02-25T11:52:55.522Z"
   },
   {
    "duration": 42,
    "start_time": "2022-02-25T11:52:55.532Z"
   },
   {
    "duration": 12,
    "start_time": "2022-02-25T11:52:55.577Z"
   },
   {
    "duration": 18,
    "start_time": "2022-02-25T11:52:55.591Z"
   },
   {
    "duration": 8,
    "start_time": "2022-02-25T11:52:55.612Z"
   },
   {
    "duration": 48,
    "start_time": "2022-02-25T11:52:55.623Z"
   },
   {
    "duration": 15,
    "start_time": "2022-02-25T11:52:55.675Z"
   },
   {
    "duration": 21,
    "start_time": "2022-02-25T11:52:55.693Z"
   },
   {
    "duration": 23,
    "start_time": "2022-02-25T11:52:55.716Z"
   },
   {
    "duration": 9,
    "start_time": "2022-02-25T11:52:55.762Z"
   },
   {
    "duration": 36,
    "start_time": "2022-02-25T11:52:55.775Z"
   },
   {
    "duration": 595,
    "start_time": "2022-02-25T11:52:55.813Z"
   },
   {
    "duration": 6,
    "start_time": "2022-02-25T11:52:56.411Z"
   },
   {
    "duration": 7798,
    "start_time": "2022-02-25T11:52:56.420Z"
   },
   {
    "duration": 45,
    "start_time": "2022-02-25T11:53:04.221Z"
   },
   {
    "duration": 843,
    "start_time": "2022-02-25T11:53:04.273Z"
   },
   {
    "duration": 25,
    "start_time": "2022-02-25T11:53:05.120Z"
   },
   {
    "duration": 33,
    "start_time": "2022-02-25T11:53:05.163Z"
   },
   {
    "duration": 3,
    "start_time": "2022-02-25T11:53:05.199Z"
   },
   {
    "duration": 35,
    "start_time": "2022-02-25T11:53:05.205Z"
   },
   {
    "duration": 6,
    "start_time": "2022-02-25T11:53:05.263Z"
   },
   {
    "duration": 1096,
    "start_time": "2022-02-25T11:53:05.272Z"
   },
   {
    "duration": 2245,
    "start_time": "2022-02-25T11:53:06.370Z"
   },
   {
    "duration": 48,
    "start_time": "2022-02-25T11:53:08.618Z"
   },
   {
    "duration": 26,
    "start_time": "2022-02-25T11:53:08.669Z"
   },
   {
    "duration": 7,
    "start_time": "2022-02-25T11:53:08.698Z"
   },
   {
    "duration": 55,
    "start_time": "2022-02-25T11:53:08.708Z"
   },
   {
    "duration": 443,
    "start_time": "2022-02-25T11:53:08.767Z"
   },
   {
    "duration": 10,
    "start_time": "2022-02-25T11:53:09.213Z"
   },
   {
    "duration": 672,
    "start_time": "2022-02-25T11:53:09.227Z"
   },
   {
    "duration": 637,
    "start_time": "2022-02-25T11:53:45.872Z"
   },
   {
    "duration": 726,
    "start_time": "2022-02-25T12:18:14.174Z"
   },
   {
    "duration": 22,
    "start_time": "2022-02-25T12:18:48.813Z"
   },
   {
    "duration": 20,
    "start_time": "2022-02-25T12:18:55.894Z"
   },
   {
    "duration": 10,
    "start_time": "2022-02-25T12:19:02.232Z"
   },
   {
    "duration": 887,
    "start_time": "2022-02-25T12:19:06.292Z"
   },
   {
    "duration": 23,
    "start_time": "2022-02-25T12:21:00.652Z"
   },
   {
    "duration": 24,
    "start_time": "2022-02-25T12:21:06.203Z"
   },
   {
    "duration": 456,
    "start_time": "2022-02-25T12:21:19.412Z"
   },
   {
    "duration": 9,
    "start_time": "2022-02-25T12:21:53.620Z"
   },
   {
    "duration": 12,
    "start_time": "2022-02-25T12:22:20.360Z"
   },
   {
    "duration": 10,
    "start_time": "2022-02-25T12:22:21.643Z"
   },
   {
    "duration": 369,
    "start_time": "2022-02-25T12:23:20.593Z"
   },
   {
    "duration": 673,
    "start_time": "2022-02-25T12:23:47.536Z"
   },
   {
    "duration": 651,
    "start_time": "2022-02-25T12:23:53.455Z"
   },
   {
    "duration": 2441,
    "start_time": "2022-02-25T12:25:25.910Z"
   },
   {
    "duration": 16,
    "start_time": "2022-02-25T12:27:46.011Z"
   },
   {
    "duration": 688,
    "start_time": "2022-02-25T12:27:52.251Z"
   },
   {
    "duration": 649,
    "start_time": "2022-02-25T12:28:22.964Z"
   },
   {
    "duration": 665,
    "start_time": "2022-02-25T12:28:35.768Z"
   },
   {
    "duration": 355,
    "start_time": "2022-02-25T12:29:34.909Z"
   },
   {
    "duration": 302,
    "start_time": "2022-02-25T12:29:41.687Z"
   },
   {
    "duration": 295,
    "start_time": "2022-02-25T12:29:47.992Z"
   },
   {
    "duration": 363,
    "start_time": "2022-02-25T12:30:27.285Z"
   },
   {
    "duration": 321,
    "start_time": "2022-02-25T12:30:54.792Z"
   },
   {
    "duration": 388,
    "start_time": "2022-02-25T12:56:10.309Z"
   },
   {
    "duration": 319,
    "start_time": "2022-02-25T12:56:44.932Z"
   },
   {
    "duration": 14,
    "start_time": "2022-02-25T12:57:08.921Z"
   },
   {
    "duration": 13,
    "start_time": "2022-02-25T12:57:57.603Z"
   },
   {
    "duration": 12,
    "start_time": "2022-02-25T12:59:16.551Z"
   },
   {
    "duration": 12,
    "start_time": "2022-02-25T12:59:28.324Z"
   },
   {
    "duration": 12,
    "start_time": "2022-02-25T12:59:36.283Z"
   },
   {
    "duration": 12,
    "start_time": "2022-02-25T12:59:39.391Z"
   },
   {
    "duration": 14,
    "start_time": "2022-02-25T13:00:02.127Z"
   },
   {
    "duration": 141,
    "start_time": "2022-02-25T13:05:38.959Z"
   },
   {
    "duration": 93,
    "start_time": "2022-02-25T13:07:03.438Z"
   },
   {
    "duration": 472,
    "start_time": "2022-02-25T13:11:25.114Z"
   },
   {
    "duration": 9,
    "start_time": "2022-02-25T13:11:33.433Z"
   },
   {
    "duration": 17,
    "start_time": "2022-02-25T13:11:52.477Z"
   },
   {
    "duration": 13,
    "start_time": "2022-02-25T13:12:07.279Z"
   },
   {
    "duration": 13,
    "start_time": "2022-02-25T13:25:11.335Z"
   },
   {
    "duration": 318,
    "start_time": "2022-02-25T13:26:15.812Z"
   },
   {
    "duration": 12,
    "start_time": "2022-02-25T14:33:36.148Z"
   },
   {
    "duration": 18,
    "start_time": "2022-02-25T14:34:27.185Z"
   },
   {
    "duration": 13,
    "start_time": "2022-02-25T14:34:59.594Z"
   },
   {
    "duration": 25,
    "start_time": "2022-02-25T14:35:27.304Z"
   },
   {
    "duration": 19,
    "start_time": "2022-02-25T14:37:08.808Z"
   },
   {
    "duration": 19,
    "start_time": "2022-02-25T14:38:51.689Z"
   },
   {
    "duration": 804,
    "start_time": "2022-02-25T14:41:46.715Z"
   },
   {
    "duration": 6,
    "start_time": "2022-02-25T14:42:24.546Z"
   },
   {
    "duration": 333,
    "start_time": "2022-02-25T14:56:44.708Z"
   },
   {
    "duration": 38,
    "start_time": "2022-02-25T14:57:37.246Z"
   },
   {
    "duration": 48,
    "start_time": "2022-02-25T14:57:45.924Z"
   },
   {
    "duration": 32,
    "start_time": "2022-02-25T14:58:14.442Z"
   },
   {
    "duration": 94,
    "start_time": "2022-02-25T14:58:47.562Z"
   },
   {
    "duration": 27,
    "start_time": "2022-02-25T14:58:57.831Z"
   },
   {
    "duration": 34,
    "start_time": "2022-02-25T15:00:36.220Z"
   },
   {
    "duration": 24,
    "start_time": "2022-02-25T15:02:00.348Z"
   },
   {
    "duration": 22,
    "start_time": "2022-02-25T15:02:50.949Z"
   },
   {
    "duration": 432,
    "start_time": "2022-02-25T15:03:28.602Z"
   },
   {
    "duration": 20,
    "start_time": "2022-02-25T15:04:55.537Z"
   },
   {
    "duration": 654,
    "start_time": "2022-02-25T15:16:31.237Z"
   },
   {
    "duration": 23,
    "start_time": "2022-02-25T15:16:45.842Z"
   },
   {
    "duration": 295,
    "start_time": "2022-02-25T15:32:44.835Z"
   },
   {
    "duration": 306,
    "start_time": "2022-02-25T15:33:45.664Z"
   },
   {
    "duration": 285,
    "start_time": "2022-02-25T15:33:59.552Z"
   },
   {
    "duration": 225,
    "start_time": "2022-02-25T15:35:28.728Z"
   },
   {
    "duration": 210,
    "start_time": "2022-02-25T15:36:55.054Z"
   },
   {
    "duration": 214,
    "start_time": "2022-02-25T15:37:05.427Z"
   },
   {
    "duration": 203,
    "start_time": "2022-02-25T15:37:17.390Z"
   },
   {
    "duration": 208,
    "start_time": "2022-02-25T15:39:33.692Z"
   },
   {
    "duration": 221,
    "start_time": "2022-02-25T15:39:44.469Z"
   },
   {
    "duration": 202,
    "start_time": "2022-02-25T15:39:54.494Z"
   },
   {
    "duration": 228,
    "start_time": "2022-02-25T15:40:09.849Z"
   },
   {
    "duration": 196,
    "start_time": "2022-02-25T15:40:16.700Z"
   },
   {
    "duration": 341,
    "start_time": "2022-02-25T19:01:21.794Z"
   },
   {
    "duration": 1563,
    "start_time": "2022-02-25T19:01:27.058Z"
   },
   {
    "duration": 79,
    "start_time": "2022-02-25T19:01:28.624Z"
   },
   {
    "duration": 7,
    "start_time": "2022-02-25T19:01:28.707Z"
   },
   {
    "duration": 6,
    "start_time": "2022-02-25T19:01:28.717Z"
   },
   {
    "duration": 55,
    "start_time": "2022-02-25T19:01:28.726Z"
   },
   {
    "duration": 45,
    "start_time": "2022-02-25T19:01:28.784Z"
   },
   {
    "duration": 5,
    "start_time": "2022-02-25T19:01:28.832Z"
   },
   {
    "duration": 18,
    "start_time": "2022-02-25T19:01:28.863Z"
   },
   {
    "duration": 45,
    "start_time": "2022-02-25T19:01:28.884Z"
   },
   {
    "duration": 30,
    "start_time": "2022-02-25T19:01:28.960Z"
   },
   {
    "duration": 71,
    "start_time": "2022-02-25T19:01:28.992Z"
   },
   {
    "duration": 5,
    "start_time": "2022-02-25T19:01:29.066Z"
   },
   {
    "duration": 10,
    "start_time": "2022-02-25T19:01:29.074Z"
   },
   {
    "duration": 7,
    "start_time": "2022-02-25T19:01:29.087Z"
   },
   {
    "duration": 9,
    "start_time": "2022-02-25T19:01:29.096Z"
   },
   {
    "duration": 8,
    "start_time": "2022-02-25T19:01:29.107Z"
   },
   {
    "duration": 10,
    "start_time": "2022-02-25T19:01:29.162Z"
   },
   {
    "duration": 12,
    "start_time": "2022-02-25T19:01:29.175Z"
   },
   {
    "duration": 16,
    "start_time": "2022-02-25T19:01:29.189Z"
   },
   {
    "duration": 19,
    "start_time": "2022-02-25T19:01:29.207Z"
   },
   {
    "duration": 39,
    "start_time": "2022-02-25T19:01:29.228Z"
   },
   {
    "duration": 23,
    "start_time": "2022-02-25T19:01:29.269Z"
   },
   {
    "duration": 503,
    "start_time": "2022-02-25T19:01:29.297Z"
   },
   {
    "duration": 6,
    "start_time": "2022-02-25T19:01:29.803Z"
   },
   {
    "duration": 7752,
    "start_time": "2022-02-25T19:01:29.811Z"
   },
   {
    "duration": 27,
    "start_time": "2022-02-25T19:01:37.566Z"
   },
   {
    "duration": 26,
    "start_time": "2022-02-25T19:01:37.596Z"
   },
   {
    "duration": 845,
    "start_time": "2022-02-25T19:01:37.625Z"
   },
   {
    "duration": 24,
    "start_time": "2022-02-25T19:01:38.473Z"
   },
   {
    "duration": 62,
    "start_time": "2022-02-25T19:01:38.500Z"
   },
   {
    "duration": 3,
    "start_time": "2022-02-25T19:01:38.566Z"
   },
   {
    "duration": 28,
    "start_time": "2022-02-25T19:01:38.572Z"
   },
   {
    "duration": 6,
    "start_time": "2022-02-25T19:01:38.603Z"
   },
   {
    "duration": 860,
    "start_time": "2022-02-25T19:01:38.611Z"
   },
   {
    "duration": 2465,
    "start_time": "2022-02-25T19:01:39.473Z"
   },
   {
    "duration": 51,
    "start_time": "2022-02-25T19:01:41.940Z"
   },
   {
    "duration": 25,
    "start_time": "2022-02-25T19:01:41.994Z"
   },
   {
    "duration": 49,
    "start_time": "2022-02-25T19:01:42.021Z"
   },
   {
    "duration": 6,
    "start_time": "2022-02-25T19:01:42.073Z"
   },
   {
    "duration": 27,
    "start_time": "2022-02-25T19:01:42.081Z"
   },
   {
    "duration": 50,
    "start_time": "2022-02-25T19:01:42.111Z"
   },
   {
    "duration": 439,
    "start_time": "2022-02-25T19:01:42.164Z"
   },
   {
    "duration": 435,
    "start_time": "2022-02-25T19:01:42.605Z"
   },
   {
    "duration": 30,
    "start_time": "2022-02-25T19:01:43.043Z"
   },
   {
    "duration": 18,
    "start_time": "2022-02-25T19:01:43.075Z"
   },
   {
    "duration": 239,
    "start_time": "2022-02-25T19:01:43.095Z"
   },
   {
    "duration": 242,
    "start_time": "2022-02-25T19:01:43.337Z"
   },
   {
    "duration": 7,
    "start_time": "2022-02-25T19:01:43.582Z"
   },
   {
    "duration": 36,
    "start_time": "2022-02-25T19:03:49.092Z"
   },
   {
    "duration": 7,
    "start_time": "2022-02-25T19:03:56.286Z"
   },
   {
    "duration": 224,
    "start_time": "2022-02-25T19:26:59.002Z"
   },
   {
    "duration": 219,
    "start_time": "2022-02-25T19:27:04.900Z"
   },
   {
    "duration": 2805,
    "start_time": "2022-02-25T19:29:59.772Z"
   },
   {
    "duration": 5736,
    "start_time": "2022-02-25T19:30:31.590Z"
   },
   {
    "duration": 2810,
    "start_time": "2022-02-25T19:30:53.169Z"
   },
   {
    "duration": 2754,
    "start_time": "2022-02-25T19:31:10.154Z"
   },
   {
    "duration": 415,
    "start_time": "2022-02-25T19:32:05.603Z"
   },
   {
    "duration": 2738,
    "start_time": "2022-02-25T19:32:16.745Z"
   },
   {
    "duration": 2663,
    "start_time": "2022-02-25T19:32:37.049Z"
   },
   {
    "duration": 2672,
    "start_time": "2022-02-25T19:32:52.069Z"
   },
   {
    "duration": 3264,
    "start_time": "2022-02-25T19:33:13.490Z"
   },
   {
    "duration": 3406,
    "start_time": "2022-02-25T19:33:30.331Z"
   },
   {
    "duration": 2816,
    "start_time": "2022-02-25T19:33:50.561Z"
   },
   {
    "duration": 3659,
    "start_time": "2022-02-25T19:34:26.293Z"
   },
   {
    "duration": 3424,
    "start_time": "2022-02-25T19:34:39.703Z"
   },
   {
    "duration": 3528,
    "start_time": "2022-02-25T19:35:12.610Z"
   },
   {
    "duration": 3386,
    "start_time": "2022-02-25T19:35:35.518Z"
   },
   {
    "duration": 2805,
    "start_time": "2022-02-25T19:35:47.063Z"
   },
   {
    "duration": 3617,
    "start_time": "2022-02-25T19:36:05.053Z"
   },
   {
    "duration": 3547,
    "start_time": "2022-02-25T19:36:26.647Z"
   },
   {
    "duration": 3241,
    "start_time": "2022-02-25T19:36:40.914Z"
   },
   {
    "duration": 6175,
    "start_time": "2022-02-25T19:37:05.850Z"
   },
   {
    "duration": 3193,
    "start_time": "2022-02-25T19:39:32.514Z"
   },
   {
    "duration": 2821,
    "start_time": "2022-02-25T19:39:49.857Z"
   },
   {
    "duration": 749,
    "start_time": "2022-02-25T19:40:01.661Z"
   },
   {
    "duration": 3028,
    "start_time": "2022-02-25T19:40:14.147Z"
   },
   {
    "duration": 3026,
    "start_time": "2022-02-25T19:40:29.771Z"
   },
   {
    "duration": 2071,
    "start_time": "2022-02-25T19:41:00.024Z"
   },
   {
    "duration": 3003,
    "start_time": "2022-02-25T19:41:11.454Z"
   },
   {
    "duration": 3244,
    "start_time": "2022-02-25T19:57:07.056Z"
   },
   {
    "duration": 403,
    "start_time": "2022-02-25T20:00:20.346Z"
   },
   {
    "duration": 27,
    "start_time": "2022-02-25T20:01:06.774Z"
   },
   {
    "duration": 8,
    "start_time": "2022-02-25T20:07:38.860Z"
   },
   {
    "duration": 3193,
    "start_time": "2022-02-25T20:07:58.086Z"
   },
   {
    "duration": 2759,
    "start_time": "2022-02-25T20:08:28.870Z"
   },
   {
    "duration": 3086,
    "start_time": "2022-02-25T20:09:05.315Z"
   },
   {
    "duration": 8,
    "start_time": "2022-02-25T20:10:20.528Z"
   },
   {
    "duration": 3106,
    "start_time": "2022-02-25T20:10:36.642Z"
   },
   {
    "duration": 3026,
    "start_time": "2022-02-25T20:11:03.838Z"
   },
   {
    "duration": 2004,
    "start_time": "2022-02-25T20:47:36.522Z"
   },
   {
    "duration": 78,
    "start_time": "2022-02-25T20:47:38.529Z"
   },
   {
    "duration": 6,
    "start_time": "2022-02-25T20:47:38.610Z"
   },
   {
    "duration": 12,
    "start_time": "2022-02-25T20:47:38.619Z"
   },
   {
    "duration": 50,
    "start_time": "2022-02-25T20:47:38.633Z"
   },
   {
    "duration": 57,
    "start_time": "2022-02-25T20:47:38.686Z"
   },
   {
    "duration": 5,
    "start_time": "2022-02-25T20:47:38.745Z"
   },
   {
    "duration": 19,
    "start_time": "2022-02-25T20:47:38.761Z"
   },
   {
    "duration": 79,
    "start_time": "2022-02-25T20:47:38.784Z"
   },
   {
    "duration": 33,
    "start_time": "2022-02-25T20:47:38.866Z"
   },
   {
    "duration": 92,
    "start_time": "2022-02-25T20:47:38.902Z"
   },
   {
    "duration": 7,
    "start_time": "2022-02-25T20:47:38.997Z"
   },
   {
    "duration": 26,
    "start_time": "2022-02-25T20:47:39.007Z"
   },
   {
    "duration": 15,
    "start_time": "2022-02-25T20:47:39.036Z"
   },
   {
    "duration": 9,
    "start_time": "2022-02-25T20:47:39.062Z"
   },
   {
    "duration": 21,
    "start_time": "2022-02-25T20:47:39.074Z"
   },
   {
    "duration": 22,
    "start_time": "2022-02-25T20:47:39.098Z"
   },
   {
    "duration": 21,
    "start_time": "2022-02-25T20:47:39.123Z"
   },
   {
    "duration": 14,
    "start_time": "2022-02-25T20:47:39.162Z"
   },
   {
    "duration": 24,
    "start_time": "2022-02-25T20:47:39.179Z"
   },
   {
    "duration": 23,
    "start_time": "2022-02-25T20:47:39.205Z"
   },
   {
    "duration": 42,
    "start_time": "2022-02-25T20:47:39.231Z"
   },
   {
    "duration": 519,
    "start_time": "2022-02-25T20:47:39.279Z"
   },
   {
    "duration": 7,
    "start_time": "2022-02-25T20:47:39.802Z"
   },
   {
    "duration": 9833,
    "start_time": "2022-02-25T20:47:39.811Z"
   },
   {
    "duration": 49,
    "start_time": "2022-02-25T20:47:49.647Z"
   },
   {
    "duration": 27,
    "start_time": "2022-02-25T20:47:49.699Z"
   },
   {
    "duration": 1175,
    "start_time": "2022-02-25T20:47:49.728Z"
   },
   {
    "duration": 23,
    "start_time": "2022-02-25T20:47:50.906Z"
   },
   {
    "duration": 71,
    "start_time": "2022-02-25T20:47:50.931Z"
   },
   {
    "duration": 4,
    "start_time": "2022-02-25T20:47:51.006Z"
   },
   {
    "duration": 60,
    "start_time": "2022-02-25T20:47:51.013Z"
   },
   {
    "duration": 6,
    "start_time": "2022-02-25T20:47:51.076Z"
   },
   {
    "duration": 853,
    "start_time": "2022-02-25T20:47:51.085Z"
   },
   {
    "duration": 2638,
    "start_time": "2022-02-25T20:47:51.941Z"
   },
   {
    "duration": 38,
    "start_time": "2022-02-25T20:47:54.582Z"
   },
   {
    "duration": 52,
    "start_time": "2022-02-25T20:47:54.622Z"
   },
   {
    "duration": 23,
    "start_time": "2022-02-25T20:47:54.677Z"
   },
   {
    "duration": 9,
    "start_time": "2022-02-25T20:47:54.703Z"
   },
   {
    "duration": 62,
    "start_time": "2022-02-25T20:47:54.715Z"
   },
   {
    "duration": 22,
    "start_time": "2022-02-25T20:47:54.780Z"
   },
   {
    "duration": 544,
    "start_time": "2022-02-25T20:47:54.805Z"
   },
   {
    "duration": 437,
    "start_time": "2022-02-25T20:47:55.352Z"
   },
   {
    "duration": 17,
    "start_time": "2022-02-25T20:47:55.792Z"
   },
   {
    "duration": 21,
    "start_time": "2022-02-25T20:47:55.812Z"
   },
   {
    "duration": 233,
    "start_time": "2022-02-25T20:47:55.835Z"
   },
   {
    "duration": 236,
    "start_time": "2022-02-25T20:47:56.071Z"
   },
   {
    "duration": 7,
    "start_time": "2022-02-25T20:47:56.310Z"
   },
   {
    "duration": 3130,
    "start_time": "2022-02-25T20:47:56.320Z"
   },
   {
    "duration": 3426,
    "start_time": "2022-02-25T20:47:59.453Z"
   },
   {
    "duration": 7,
    "start_time": "2022-02-25T20:48:02.882Z"
   },
   {
    "duration": 2764,
    "start_time": "2022-02-25T20:48:02.891Z"
   },
   {
    "duration": 2890,
    "start_time": "2022-02-25T20:48:05.661Z"
   },
   {
    "duration": 8,
    "start_time": "2022-02-25T20:48:08.560Z"
   },
   {
    "duration": 3080,
    "start_time": "2022-02-25T20:48:08.571Z"
   },
   {
    "duration": 3074,
    "start_time": "2022-02-25T20:48:11.654Z"
   },
   {
    "duration": 459,
    "start_time": "2022-02-25T20:48:14.731Z"
   },
   {
    "duration": -654,
    "start_time": "2022-02-25T20:48:15.847Z"
   },
   {
    "duration": 23,
    "start_time": "2022-02-25T20:49:02.395Z"
   },
   {
    "duration": 359,
    "start_time": "2022-02-25T20:49:27.447Z"
   },
   {
    "duration": 24,
    "start_time": "2022-02-25T20:49:49.926Z"
   },
   {
    "duration": 1582,
    "start_time": "2022-02-25T20:55:52.856Z"
   },
   {
    "duration": 81,
    "start_time": "2022-02-25T20:55:54.441Z"
   },
   {
    "duration": 7,
    "start_time": "2022-02-25T20:55:54.525Z"
   },
   {
    "duration": 27,
    "start_time": "2022-02-25T20:55:54.535Z"
   },
   {
    "duration": 31,
    "start_time": "2022-02-25T20:55:54.565Z"
   },
   {
    "duration": 76,
    "start_time": "2022-02-25T20:55:54.599Z"
   },
   {
    "duration": 5,
    "start_time": "2022-02-25T20:55:54.678Z"
   },
   {
    "duration": 19,
    "start_time": "2022-02-25T20:55:54.686Z"
   },
   {
    "duration": 84,
    "start_time": "2022-02-25T20:55:54.709Z"
   },
   {
    "duration": 33,
    "start_time": "2022-02-25T20:55:54.797Z"
   },
   {
    "duration": 77,
    "start_time": "2022-02-25T20:55:54.832Z"
   },
   {
    "duration": 5,
    "start_time": "2022-02-25T20:55:54.912Z"
   },
   {
    "duration": 41,
    "start_time": "2022-02-25T20:55:54.920Z"
   },
   {
    "duration": 7,
    "start_time": "2022-02-25T20:55:54.963Z"
   },
   {
    "duration": 11,
    "start_time": "2022-02-25T20:55:54.973Z"
   },
   {
    "duration": 8,
    "start_time": "2022-02-25T20:55:54.987Z"
   },
   {
    "duration": 65,
    "start_time": "2022-02-25T20:55:54.998Z"
   },
   {
    "duration": 11,
    "start_time": "2022-02-25T20:55:55.065Z"
   },
   {
    "duration": 22,
    "start_time": "2022-02-25T20:55:55.079Z"
   },
   {
    "duration": 21,
    "start_time": "2022-02-25T20:55:55.104Z"
   },
   {
    "duration": 40,
    "start_time": "2022-02-25T20:55:55.128Z"
   },
   {
    "duration": 24,
    "start_time": "2022-02-25T20:55:55.171Z"
   },
   {
    "duration": 523,
    "start_time": "2022-02-25T20:55:55.198Z"
   },
   {
    "duration": 5,
    "start_time": "2022-02-25T20:55:55.723Z"
   },
   {
    "duration": 7794,
    "start_time": "2022-02-25T20:55:55.731Z"
   },
   {
    "duration": 44,
    "start_time": "2022-02-25T20:56:03.527Z"
   },
   {
    "duration": 25,
    "start_time": "2022-02-25T20:56:03.578Z"
   },
   {
    "duration": 845,
    "start_time": "2022-02-25T20:56:03.607Z"
   },
   {
    "duration": 29,
    "start_time": "2022-02-25T20:56:04.454Z"
   },
   {
    "duration": 35,
    "start_time": "2022-02-25T20:56:04.486Z"
   },
   {
    "duration": 4,
    "start_time": "2022-02-25T20:56:04.523Z"
   },
   {
    "duration": 32,
    "start_time": "2022-02-25T20:56:04.562Z"
   },
   {
    "duration": 5,
    "start_time": "2022-02-25T20:56:04.596Z"
   },
   {
    "duration": 899,
    "start_time": "2022-02-25T20:56:04.604Z"
   },
   {
    "duration": 2550,
    "start_time": "2022-02-25T20:56:05.506Z"
   },
   {
    "duration": 37,
    "start_time": "2022-02-25T20:56:08.060Z"
   },
   {
    "duration": 30,
    "start_time": "2022-02-25T20:56:08.100Z"
   },
   {
    "duration": 53,
    "start_time": "2022-02-25T20:56:08.133Z"
   },
   {
    "duration": 8,
    "start_time": "2022-02-25T20:56:08.189Z"
   },
   {
    "duration": 28,
    "start_time": "2022-02-25T20:56:08.200Z"
   },
   {
    "duration": 29,
    "start_time": "2022-02-25T20:56:08.262Z"
   },
   {
    "duration": 616,
    "start_time": "2022-02-25T20:56:08.294Z"
   },
   {
    "duration": 606,
    "start_time": "2022-02-25T20:56:08.914Z"
   },
   {
    "duration": 18,
    "start_time": "2022-02-25T20:56:09.523Z"
   },
   {
    "duration": 18,
    "start_time": "2022-02-25T20:56:09.562Z"
   },
   {
    "duration": 231,
    "start_time": "2022-02-25T20:56:09.583Z"
   },
   {
    "duration": 245,
    "start_time": "2022-02-25T20:56:09.816Z"
   },
   {
    "duration": 7,
    "start_time": "2022-02-25T20:56:10.064Z"
   },
   {
    "duration": 3131,
    "start_time": "2022-02-25T20:56:10.074Z"
   },
   {
    "duration": 3313,
    "start_time": "2022-02-25T20:56:13.207Z"
   },
   {
    "duration": 7,
    "start_time": "2022-02-25T20:56:16.523Z"
   },
   {
    "duration": 3668,
    "start_time": "2022-02-25T20:56:16.533Z"
   },
   {
    "duration": 2938,
    "start_time": "2022-02-25T20:56:20.204Z"
   },
   {
    "duration": 18,
    "start_time": "2022-02-25T20:56:23.144Z"
   },
   {
    "duration": 3086,
    "start_time": "2022-02-25T20:56:23.166Z"
   },
   {
    "duration": 3189,
    "start_time": "2022-02-25T20:56:26.261Z"
   },
   {
    "duration": 29,
    "start_time": "2022-02-25T20:56:29.453Z"
   },
   {
    "duration": 566,
    "start_time": "2022-02-25T20:56:29.484Z"
   },
   {
    "duration": 457,
    "start_time": "2022-02-25T21:00:02.533Z"
   },
   {
    "duration": 28,
    "start_time": "2022-02-25T21:04:53.058Z"
   },
   {
    "duration": 451,
    "start_time": "2022-02-25T21:05:23.795Z"
   },
   {
    "duration": 418,
    "start_time": "2022-02-25T21:31:40.496Z"
   },
   {
    "duration": 403,
    "start_time": "2022-02-25T21:31:47.873Z"
   },
   {
    "duration": 436,
    "start_time": "2022-02-25T21:32:01.946Z"
   },
   {
    "duration": 27,
    "start_time": "2022-02-25T21:39:53.416Z"
   },
   {
    "duration": 660,
    "start_time": "2022-02-25T21:40:29.352Z"
   },
   {
    "duration": 25,
    "start_time": "2022-02-25T21:40:58.400Z"
   },
   {
    "duration": 26,
    "start_time": "2022-02-25T21:41:33.980Z"
   },
   {
    "duration": 24,
    "start_time": "2022-02-25T21:42:03.138Z"
   },
   {
    "duration": 24,
    "start_time": "2022-02-25T21:42:43.924Z"
   },
   {
    "duration": 24,
    "start_time": "2022-02-25T21:42:56.462Z"
   },
   {
    "duration": 100,
    "start_time": "2022-02-25T21:44:04.304Z"
   },
   {
    "duration": 294,
    "start_time": "2022-02-25T21:44:23.949Z"
   },
   {
    "duration": 20,
    "start_time": "2022-02-25T21:44:35.194Z"
   },
   {
    "duration": 23,
    "start_time": "2022-02-25T21:48:34.952Z"
   },
   {
    "duration": 25,
    "start_time": "2022-02-25T21:49:46.454Z"
   },
   {
    "duration": 27,
    "start_time": "2022-02-25T21:50:11.303Z"
   },
   {
    "duration": 27,
    "start_time": "2022-02-25T21:59:04.401Z"
   },
   {
    "duration": 7313,
    "start_time": "2022-02-25T21:59:30.053Z"
   },
   {
    "duration": 27,
    "start_time": "2022-02-25T21:59:45.818Z"
   },
   {
    "duration": 25,
    "start_time": "2022-02-25T22:00:16.329Z"
   },
   {
    "duration": 291,
    "start_time": "2022-02-25T22:06:35.329Z"
   },
   {
    "duration": 320,
    "start_time": "2022-02-25T22:07:10.630Z"
   },
   {
    "duration": 288,
    "start_time": "2022-02-25T22:07:20.359Z"
   },
   {
    "duration": 298,
    "start_time": "2022-02-25T22:10:30.486Z"
   },
   {
    "duration": 291,
    "start_time": "2022-02-25T22:10:41.264Z"
   },
   {
    "duration": 424,
    "start_time": "2022-02-25T22:12:59.814Z"
   },
   {
    "duration": 293,
    "start_time": "2022-02-25T22:14:57.913Z"
   },
   {
    "duration": 303,
    "start_time": "2022-02-25T22:15:09.460Z"
   },
   {
    "duration": 7922,
    "start_time": "2022-02-25T22:15:36.113Z"
   },
   {
    "duration": 302,
    "start_time": "2022-02-25T22:16:13.708Z"
   },
   {
    "duration": 317,
    "start_time": "2022-02-25T22:16:58.433Z"
   },
   {
    "duration": 303,
    "start_time": "2022-02-25T22:17:07.579Z"
   },
   {
    "duration": 625,
    "start_time": "2022-02-25T22:20:18.551Z"
   },
   {
    "duration": 569,
    "start_time": "2022-02-25T22:21:09.979Z"
   },
   {
    "duration": 342,
    "start_time": "2022-02-25T22:22:01.945Z"
   },
   {
    "duration": 297,
    "start_time": "2022-02-25T22:22:10.627Z"
   },
   {
    "duration": 512,
    "start_time": "2022-02-25T22:24:03.585Z"
   },
   {
    "duration": 4,
    "start_time": "2022-02-25T22:28:48.629Z"
   },
   {
    "duration": 1412,
    "start_time": "2022-02-27T20:18:36.042Z"
   },
   {
    "duration": 87,
    "start_time": "2022-02-27T20:18:37.456Z"
   },
   {
    "duration": 7,
    "start_time": "2022-02-27T20:18:37.546Z"
   },
   {
    "duration": 11,
    "start_time": "2022-02-27T20:18:37.555Z"
   },
   {
    "duration": 46,
    "start_time": "2022-02-27T20:18:37.568Z"
   },
   {
    "duration": 49,
    "start_time": "2022-02-27T20:18:37.616Z"
   },
   {
    "duration": 6,
    "start_time": "2022-02-27T20:18:37.687Z"
   },
   {
    "duration": 20,
    "start_time": "2022-02-27T20:18:37.696Z"
   },
   {
    "duration": 78,
    "start_time": "2022-02-27T20:18:37.720Z"
   },
   {
    "duration": 30,
    "start_time": "2022-02-27T20:18:37.801Z"
   },
   {
    "duration": 107,
    "start_time": "2022-02-27T20:18:37.834Z"
   },
   {
    "duration": 5,
    "start_time": "2022-02-27T20:18:37.943Z"
   },
   {
    "duration": 13,
    "start_time": "2022-02-27T20:18:37.950Z"
   },
   {
    "duration": 28,
    "start_time": "2022-02-27T20:18:37.965Z"
   },
   {
    "duration": 11,
    "start_time": "2022-02-27T20:18:37.996Z"
   },
   {
    "duration": 9,
    "start_time": "2022-02-27T20:18:38.010Z"
   },
   {
    "duration": 13,
    "start_time": "2022-02-27T20:18:38.022Z"
   },
   {
    "duration": 58,
    "start_time": "2022-02-27T20:18:38.038Z"
   },
   {
    "duration": 17,
    "start_time": "2022-02-27T20:18:38.099Z"
   },
   {
    "duration": 24,
    "start_time": "2022-02-27T20:18:38.118Z"
   },
   {
    "duration": 42,
    "start_time": "2022-02-27T20:18:38.145Z"
   },
   {
    "duration": 23,
    "start_time": "2022-02-27T20:18:38.189Z"
   },
   {
    "duration": 551,
    "start_time": "2022-02-27T20:18:38.218Z"
   },
   {
    "duration": 16,
    "start_time": "2022-02-27T20:18:38.773Z"
   },
   {
    "duration": 9271,
    "start_time": "2022-02-27T20:18:38.791Z"
   },
   {
    "duration": 32,
    "start_time": "2022-02-27T20:18:48.065Z"
   },
   {
    "duration": 23,
    "start_time": "2022-02-27T20:18:48.099Z"
   },
   {
    "duration": 820,
    "start_time": "2022-02-27T20:18:48.124Z"
   },
   {
    "duration": 23,
    "start_time": "2022-02-27T20:18:48.947Z"
   },
   {
    "duration": 44,
    "start_time": "2022-02-27T20:18:48.972Z"
   },
   {
    "duration": 3,
    "start_time": "2022-02-27T20:18:49.018Z"
   },
   {
    "duration": 27,
    "start_time": "2022-02-27T20:18:49.023Z"
   },
   {
    "duration": 37,
    "start_time": "2022-02-27T20:18:49.053Z"
   },
   {
    "duration": 917,
    "start_time": "2022-02-27T20:18:49.092Z"
   },
   {
    "duration": 2462,
    "start_time": "2022-02-27T20:18:50.011Z"
   },
   {
    "duration": 47,
    "start_time": "2022-02-27T20:18:52.475Z"
   },
   {
    "duration": 23,
    "start_time": "2022-02-27T20:18:52.524Z"
   },
   {
    "duration": 45,
    "start_time": "2022-02-27T20:18:52.549Z"
   },
   {
    "duration": 7,
    "start_time": "2022-02-27T20:18:52.596Z"
   },
   {
    "duration": 23,
    "start_time": "2022-02-27T20:18:52.605Z"
   },
   {
    "duration": 20,
    "start_time": "2022-02-27T20:18:52.631Z"
   },
   {
    "duration": 421,
    "start_time": "2022-02-27T20:18:52.687Z"
   },
   {
    "duration": 435,
    "start_time": "2022-02-27T20:18:53.111Z"
   },
   {
    "duration": 18,
    "start_time": "2022-02-27T20:18:53.548Z"
   },
   {
    "duration": 34,
    "start_time": "2022-02-27T20:18:53.568Z"
   },
   {
    "duration": 217,
    "start_time": "2022-02-27T20:18:53.604Z"
   },
   {
    "duration": 239,
    "start_time": "2022-02-27T20:18:53.824Z"
   },
   {
    "duration": 7,
    "start_time": "2022-02-27T20:18:54.065Z"
   },
   {
    "duration": 2890,
    "start_time": "2022-02-27T20:18:54.074Z"
   },
   {
    "duration": 3230,
    "start_time": "2022-02-27T20:18:56.967Z"
   },
   {
    "duration": 7,
    "start_time": "2022-02-27T20:19:00.200Z"
   },
   {
    "duration": 2586,
    "start_time": "2022-02-27T20:19:00.210Z"
   },
   {
    "duration": 3098,
    "start_time": "2022-02-27T20:19:02.798Z"
   },
   {
    "duration": 8,
    "start_time": "2022-02-27T20:19:05.898Z"
   },
   {
    "duration": 3091,
    "start_time": "2022-02-27T20:19:05.908Z"
   },
   {
    "duration": 2854,
    "start_time": "2022-02-27T20:19:09.001Z"
   },
   {
    "duration": 34,
    "start_time": "2022-02-27T20:19:11.857Z"
   },
   {
    "duration": 396,
    "start_time": "2022-02-27T20:19:11.894Z"
   },
   {
    "duration": 23,
    "start_time": "2022-02-27T20:19:12.292Z"
   },
   {
    "duration": 409,
    "start_time": "2022-02-27T20:19:12.317Z"
   },
   {
    "duration": 24,
    "start_time": "2022-02-27T20:19:12.728Z"
   },
   {
    "duration": 45,
    "start_time": "2022-02-27T20:19:12.754Z"
   },
   {
    "duration": 24,
    "start_time": "2022-02-27T20:19:12.801Z"
   },
   {
    "duration": 35,
    "start_time": "2022-02-27T20:19:12.827Z"
   },
   {
    "duration": 40,
    "start_time": "2022-02-27T20:19:12.865Z"
   },
   {
    "duration": 32,
    "start_time": "2022-02-27T20:19:12.907Z"
   },
   {
    "duration": 299,
    "start_time": "2022-02-27T20:19:12.941Z"
   },
   {
    "duration": 295,
    "start_time": "2022-02-27T20:19:13.247Z"
   },
   {
    "duration": 295,
    "start_time": "2022-02-27T20:19:13.544Z"
   },
   {
    "duration": 398,
    "start_time": "2022-02-27T20:19:13.842Z"
   },
   {
    "duration": 12,
    "start_time": "2022-02-27T20:50:09.841Z"
   },
   {
    "duration": 7,
    "start_time": "2022-02-27T20:50:29.288Z"
   },
   {
    "duration": 224,
    "start_time": "2022-02-27T20:50:51.418Z"
   },
   {
    "duration": 10,
    "start_time": "2022-02-27T20:50:59.970Z"
   },
   {
    "duration": 18,
    "start_time": "2022-02-27T20:51:23.320Z"
   },
   {
    "duration": 21,
    "start_time": "2022-02-27T20:51:56.319Z"
   },
   {
    "duration": 225,
    "start_time": "2022-02-27T20:51:58.790Z"
   },
   {
    "duration": 207,
    "start_time": "2022-02-27T20:52:13.874Z"
   },
   {
    "duration": 21,
    "start_time": "2022-02-27T20:52:26.048Z"
   },
   {
    "duration": 221,
    "start_time": "2022-02-27T20:52:34.547Z"
   },
   {
    "duration": 228,
    "start_time": "2022-02-27T20:52:59.164Z"
   },
   {
    "duration": 13,
    "start_time": "2022-02-27T20:53:06.152Z"
   },
   {
    "duration": 254,
    "start_time": "2022-02-27T20:55:01.198Z"
   },
   {
    "duration": 260,
    "start_time": "2022-02-27T20:56:14.411Z"
   },
   {
    "duration": 28,
    "start_time": "2022-02-27T20:56:24.953Z"
   },
   {
    "duration": 13,
    "start_time": "2022-02-27T20:56:26.969Z"
   },
   {
    "duration": 29,
    "start_time": "2022-02-27T20:56:39.425Z"
   },
   {
    "duration": 9,
    "start_time": "2022-02-27T20:56:40.248Z"
   },
   {
    "duration": 285,
    "start_time": "2022-02-27T21:00:52.183Z"
   },
   {
    "duration": 32,
    "start_time": "2022-02-27T21:01:03.788Z"
   },
   {
    "duration": 8,
    "start_time": "2022-02-27T21:01:04.803Z"
   },
   {
    "duration": 6,
    "start_time": "2022-02-27T21:27:28.141Z"
   },
   {
    "duration": 483,
    "start_time": "2022-02-27T22:18:22.106Z"
   },
   {
    "duration": 6,
    "start_time": "2022-02-27T22:43:45.525Z"
   },
   {
    "duration": 25,
    "start_time": "2022-02-27T22:46:14.505Z"
   },
   {
    "duration": 800,
    "start_time": "2022-02-27T22:47:22.655Z"
   },
   {
    "duration": 24,
    "start_time": "2022-02-27T22:54:24.906Z"
   },
   {
    "duration": 30,
    "start_time": "2022-02-27T22:58:54.293Z"
   },
   {
    "duration": 25,
    "start_time": "2022-02-27T22:59:01.807Z"
   },
   {
    "duration": 23,
    "start_time": "2022-02-27T22:59:50.683Z"
   },
   {
    "duration": 21,
    "start_time": "2022-02-27T23:00:46.366Z"
   },
   {
    "duration": 21,
    "start_time": "2022-02-27T23:01:35.206Z"
   },
   {
    "duration": 21,
    "start_time": "2022-02-27T23:02:36.071Z"
   },
   {
    "duration": 21,
    "start_time": "2022-02-27T23:02:52.726Z"
   },
   {
    "duration": 540,
    "start_time": "2022-02-27T23:04:30.680Z"
   },
   {
    "duration": 433,
    "start_time": "2022-02-27T23:05:27.223Z"
   },
   {
    "duration": 3010,
    "start_time": "2022-02-27T23:10:55.656Z"
   },
   {
    "duration": 2845,
    "start_time": "2022-02-27T23:14:36.308Z"
   },
   {
    "duration": 3359,
    "start_time": "2022-02-27T23:15:26.136Z"
   },
   {
    "duration": 3150,
    "start_time": "2022-02-27T23:16:03.768Z"
   },
   {
    "duration": 2921,
    "start_time": "2022-02-27T23:16:13.655Z"
   },
   {
    "duration": 235,
    "start_time": "2022-02-27T23:19:25.604Z"
   },
   {
    "duration": 229,
    "start_time": "2022-02-27T23:19:29.578Z"
   },
   {
    "duration": 225,
    "start_time": "2022-02-27T23:19:37.340Z"
   },
   {
    "duration": 8,
    "start_time": "2022-02-27T23:19:50.574Z"
   },
   {
    "duration": 2632,
    "start_time": "2022-02-27T23:19:54.470Z"
   },
   {
    "duration": 2930,
    "start_time": "2022-02-27T23:20:01.442Z"
   },
   {
    "duration": 2964,
    "start_time": "2022-02-27T23:20:28.095Z"
   },
   {
    "duration": 2891,
    "start_time": "2022-02-27T23:20:43.461Z"
   },
   {
    "duration": 281,
    "start_time": "2022-02-28T06:18:35.630Z"
   },
   {
    "duration": 226,
    "start_time": "2022-02-28T06:18:48.676Z"
   },
   {
    "duration": 211,
    "start_time": "2022-02-28T06:18:52.746Z"
   },
   {
    "duration": 1574,
    "start_time": "2022-02-28T06:18:59.282Z"
   },
   {
    "duration": 75,
    "start_time": "2022-02-28T06:19:00.858Z"
   },
   {
    "duration": 7,
    "start_time": "2022-02-28T06:19:00.936Z"
   },
   {
    "duration": 18,
    "start_time": "2022-02-28T06:19:00.945Z"
   },
   {
    "duration": 43,
    "start_time": "2022-02-28T06:19:00.966Z"
   },
   {
    "duration": 47,
    "start_time": "2022-02-28T06:19:01.011Z"
   },
   {
    "duration": 5,
    "start_time": "2022-02-28T06:19:01.060Z"
   },
   {
    "duration": 18,
    "start_time": "2022-02-28T06:19:01.087Z"
   },
   {
    "duration": 67,
    "start_time": "2022-02-28T06:19:01.108Z"
   },
   {
    "duration": 30,
    "start_time": "2022-02-28T06:19:01.186Z"
   },
   {
    "duration": 74,
    "start_time": "2022-02-28T06:19:01.218Z"
   },
   {
    "duration": 5,
    "start_time": "2022-02-28T06:19:01.294Z"
   },
   {
    "duration": 24,
    "start_time": "2022-02-28T06:19:01.302Z"
   },
   {
    "duration": 10,
    "start_time": "2022-02-28T06:19:01.328Z"
   },
   {
    "duration": 37,
    "start_time": "2022-02-28T06:19:01.341Z"
   },
   {
    "duration": 27,
    "start_time": "2022-02-28T06:19:01.380Z"
   },
   {
    "duration": 19,
    "start_time": "2022-02-28T06:19:01.410Z"
   },
   {
    "duration": 24,
    "start_time": "2022-02-28T06:19:01.431Z"
   },
   {
    "duration": 29,
    "start_time": "2022-02-28T06:19:01.457Z"
   },
   {
    "duration": 27,
    "start_time": "2022-02-28T06:19:01.488Z"
   },
   {
    "duration": 18,
    "start_time": "2022-02-28T06:19:01.517Z"
   },
   {
    "duration": 24,
    "start_time": "2022-02-28T06:19:01.538Z"
   },
   {
    "duration": 493,
    "start_time": "2022-02-28T06:19:01.564Z"
   },
   {
    "duration": 6,
    "start_time": "2022-02-28T06:19:02.059Z"
   },
   {
    "duration": 7040,
    "start_time": "2022-02-28T06:19:02.067Z"
   },
   {
    "duration": 25,
    "start_time": "2022-02-28T06:19:09.109Z"
   },
   {
    "duration": 46,
    "start_time": "2022-02-28T06:19:09.140Z"
   },
   {
    "duration": 799,
    "start_time": "2022-02-28T06:19:09.190Z"
   },
   {
    "duration": 22,
    "start_time": "2022-02-28T06:19:09.991Z"
   },
   {
    "duration": 29,
    "start_time": "2022-02-28T06:19:10.016Z"
   },
   {
    "duration": 54,
    "start_time": "2022-02-28T06:19:10.047Z"
   },
   {
    "duration": 9076,
    "start_time": "2022-02-28T06:19:10.103Z"
   },
   {
    "duration": -865,
    "start_time": "2022-02-28T06:19:20.048Z"
   },
   {
    "duration": -868,
    "start_time": "2022-02-28T06:19:20.053Z"
   },
   {
    "duration": -868,
    "start_time": "2022-02-28T06:19:20.056Z"
   },
   {
    "duration": -869,
    "start_time": "2022-02-28T06:19:20.059Z"
   },
   {
    "duration": -870,
    "start_time": "2022-02-28T06:19:20.062Z"
   },
   {
    "duration": -870,
    "start_time": "2022-02-28T06:19:20.065Z"
   },
   {
    "duration": -871,
    "start_time": "2022-02-28T06:19:20.068Z"
   },
   {
    "duration": -872,
    "start_time": "2022-02-28T06:19:20.071Z"
   },
   {
    "duration": -873,
    "start_time": "2022-02-28T06:19:20.074Z"
   },
   {
    "duration": -883,
    "start_time": "2022-02-28T06:19:20.086Z"
   },
   {
    "duration": -889,
    "start_time": "2022-02-28T06:19:20.094Z"
   },
   {
    "duration": -914,
    "start_time": "2022-02-28T06:19:20.121Z"
   },
   {
    "duration": -924,
    "start_time": "2022-02-28T06:19:20.133Z"
   },
   {
    "duration": -928,
    "start_time": "2022-02-28T06:19:20.139Z"
   },
   {
    "duration": -935,
    "start_time": "2022-02-28T06:19:20.148Z"
   },
   {
    "duration": -939,
    "start_time": "2022-02-28T06:19:20.154Z"
   },
   {
    "duration": -1097,
    "start_time": "2022-02-28T06:19:20.314Z"
   },
   {
    "duration": -1098,
    "start_time": "2022-02-28T06:19:20.317Z"
   },
   {
    "duration": -1099,
    "start_time": "2022-02-28T06:19:20.320Z"
   },
   {
    "duration": -1100,
    "start_time": "2022-02-28T06:19:20.323Z"
   },
   {
    "duration": -1101,
    "start_time": "2022-02-28T06:19:20.326Z"
   },
   {
    "duration": -1156,
    "start_time": "2022-02-28T06:19:20.383Z"
   },
   {
    "duration": -1158,
    "start_time": "2022-02-28T06:19:20.386Z"
   },
   {
    "duration": -1160,
    "start_time": "2022-02-28T06:19:20.389Z"
   },
   {
    "duration": -1104,
    "start_time": "2022-02-28T06:19:20.391Z"
   },
   {
    "duration": -1104,
    "start_time": "2022-02-28T06:19:20.394Z"
   },
   {
    "duration": -1104,
    "start_time": "2022-02-28T06:19:20.396Z"
   },
   {
    "duration": -1106,
    "start_time": "2022-02-28T06:19:20.400Z"
   },
   {
    "duration": -1106,
    "start_time": "2022-02-28T06:19:20.403Z"
   },
   {
    "duration": -1106,
    "start_time": "2022-02-28T06:19:20.406Z"
   },
   {
    "duration": -1115,
    "start_time": "2022-02-28T06:19:20.418Z"
   },
   {
    "duration": -1117,
    "start_time": "2022-02-28T06:19:20.422Z"
   },
   {
    "duration": -1117,
    "start_time": "2022-02-28T06:19:20.424Z"
   },
   {
    "duration": -1119,
    "start_time": "2022-02-28T06:19:20.428Z"
   },
   {
    "duration": -1118,
    "start_time": "2022-02-28T06:19:20.430Z"
   },
   {
    "duration": -1121,
    "start_time": "2022-02-28T06:19:20.435Z"
   },
   {
    "duration": -1121,
    "start_time": "2022-02-28T06:19:20.437Z"
   },
   {
    "duration": -1122,
    "start_time": "2022-02-28T06:19:20.440Z"
   },
   {
    "duration": -1122,
    "start_time": "2022-02-28T06:19:20.442Z"
   },
   {
    "duration": -1123,
    "start_time": "2022-02-28T06:19:20.445Z"
   },
   {
    "duration": -1127,
    "start_time": "2022-02-28T06:19:20.452Z"
   },
   {
    "duration": 4,
    "start_time": "2022-02-28T06:20:35.167Z"
   },
   {
    "duration": 78,
    "start_time": "2022-02-28T06:20:35.173Z"
   },
   {
    "duration": 36,
    "start_time": "2022-02-28T06:20:35.253Z"
   },
   {
    "duration": 11,
    "start_time": "2022-02-28T06:20:35.292Z"
   },
   {
    "duration": 37,
    "start_time": "2022-02-28T06:20:35.305Z"
   },
   {
    "duration": 69,
    "start_time": "2022-02-28T06:20:35.344Z"
   },
   {
    "duration": 5,
    "start_time": "2022-02-28T06:20:35.416Z"
   },
   {
    "duration": 25,
    "start_time": "2022-02-28T06:20:35.424Z"
   },
   {
    "duration": 76,
    "start_time": "2022-02-28T06:20:35.451Z"
   },
   {
    "duration": 32,
    "start_time": "2022-02-28T06:20:35.530Z"
   },
   {
    "duration": 75,
    "start_time": "2022-02-28T06:20:35.564Z"
   },
   {
    "duration": 7,
    "start_time": "2022-02-28T06:20:35.642Z"
   },
   {
    "duration": 35,
    "start_time": "2022-02-28T06:20:35.652Z"
   },
   {
    "duration": 11,
    "start_time": "2022-02-28T06:20:35.691Z"
   },
   {
    "duration": 15,
    "start_time": "2022-02-28T06:20:35.705Z"
   },
   {
    "duration": 16,
    "start_time": "2022-02-28T06:20:35.723Z"
   },
   {
    "duration": 47,
    "start_time": "2022-02-28T06:20:35.741Z"
   },
   {
    "duration": 14,
    "start_time": "2022-02-28T06:20:35.790Z"
   },
   {
    "duration": 14,
    "start_time": "2022-02-28T06:20:35.809Z"
   },
   {
    "duration": 20,
    "start_time": "2022-02-28T06:20:35.826Z"
   },
   {
    "duration": 7,
    "start_time": "2022-02-28T06:20:35.849Z"
   },
   {
    "duration": 49,
    "start_time": "2022-02-28T06:20:35.858Z"
   },
   {
    "duration": 502,
    "start_time": "2022-02-28T06:20:35.910Z"
   },
   {
    "duration": 5,
    "start_time": "2022-02-28T06:20:36.414Z"
   },
   {
    "duration": 7352,
    "start_time": "2022-02-28T06:20:36.421Z"
   },
   {
    "duration": 32,
    "start_time": "2022-02-28T06:20:43.775Z"
   },
   {
    "duration": 22,
    "start_time": "2022-02-28T06:20:43.810Z"
   },
   {
    "duration": 989,
    "start_time": "2022-02-28T06:20:43.834Z"
   },
   {
    "duration": 26,
    "start_time": "2022-02-28T06:20:44.826Z"
   },
   {
    "duration": 60,
    "start_time": "2022-02-28T06:20:44.855Z"
   },
   {
    "duration": 24,
    "start_time": "2022-02-28T06:20:44.918Z"
   },
   {
    "duration": 5,
    "start_time": "2022-02-28T06:20:44.945Z"
   },
   {
    "duration": 819,
    "start_time": "2022-02-28T06:20:44.953Z"
   },
   {
    "duration": 2125,
    "start_time": "2022-02-28T06:20:45.775Z"
   },
   {
    "duration": 36,
    "start_time": "2022-02-28T06:20:47.903Z"
   },
   {
    "duration": 56,
    "start_time": "2022-02-28T06:20:47.941Z"
   },
   {
    "duration": 246,
    "start_time": "2022-02-28T06:20:48.000Z"
   },
   {
    "duration": -636,
    "start_time": "2022-02-28T06:20:48.885Z"
   },
   {
    "duration": -661,
    "start_time": "2022-02-28T06:20:48.912Z"
   },
   {
    "duration": -662,
    "start_time": "2022-02-28T06:20:48.915Z"
   },
   {
    "duration": -674,
    "start_time": "2022-02-28T06:20:48.928Z"
   },
   {
    "duration": -675,
    "start_time": "2022-02-28T06:20:48.931Z"
   },
   {
    "duration": -676,
    "start_time": "2022-02-28T06:20:48.933Z"
   },
   {
    "duration": -677,
    "start_time": "2022-02-28T06:20:48.936Z"
   },
   {
    "duration": -677,
    "start_time": "2022-02-28T06:20:48.938Z"
   },
   {
    "duration": -680,
    "start_time": "2022-02-28T06:20:48.942Z"
   },
   {
    "duration": -715,
    "start_time": "2022-02-28T06:20:48.979Z"
   },
   {
    "duration": -717,
    "start_time": "2022-02-28T06:20:48.982Z"
   },
   {
    "duration": -799,
    "start_time": "2022-02-28T06:20:49.066Z"
   },
   {
    "duration": -849,
    "start_time": "2022-02-28T06:20:49.117Z"
   },
   {
    "duration": -849,
    "start_time": "2022-02-28T06:20:49.119Z"
   },
   {
    "duration": -851,
    "start_time": "2022-02-28T06:20:49.122Z"
   },
   {
    "duration": -852,
    "start_time": "2022-02-28T06:20:49.125Z"
   },
   {
    "duration": -879,
    "start_time": "2022-02-28T06:20:49.153Z"
   },
   {
    "duration": -880,
    "start_time": "2022-02-28T06:20:49.156Z"
   },
   {
    "duration": -881,
    "start_time": "2022-02-28T06:20:49.159Z"
   },
   {
    "duration": -883,
    "start_time": "2022-02-28T06:20:49.162Z"
   },
   {
    "duration": -884,
    "start_time": "2022-02-28T06:20:49.165Z"
   },
   {
    "duration": -886,
    "start_time": "2022-02-28T06:20:49.168Z"
   },
   {
    "duration": -887,
    "start_time": "2022-02-28T06:20:49.171Z"
   },
   {
    "duration": -889,
    "start_time": "2022-02-28T06:20:49.174Z"
   },
   {
    "duration": -890,
    "start_time": "2022-02-28T06:20:49.177Z"
   },
   {
    "duration": -891,
    "start_time": "2022-02-28T06:20:49.179Z"
   },
   {
    "duration": -893,
    "start_time": "2022-02-28T06:20:49.182Z"
   },
   {
    "duration": -894,
    "start_time": "2022-02-28T06:20:49.185Z"
   },
   {
    "duration": -919,
    "start_time": "2022-02-28T06:20:49.211Z"
   },
   {
    "duration": -921,
    "start_time": "2022-02-28T06:20:49.215Z"
   },
   {
    "duration": -923,
    "start_time": "2022-02-28T06:20:49.218Z"
   },
   {
    "duration": -925,
    "start_time": "2022-02-28T06:20:49.221Z"
   },
   {
    "duration": -928,
    "start_time": "2022-02-28T06:20:49.225Z"
   },
   {
    "duration": -929,
    "start_time": "2022-02-28T06:20:49.227Z"
   },
   {
    "duration": -930,
    "start_time": "2022-02-28T06:20:49.230Z"
   },
   {
    "duration": 22,
    "start_time": "2022-02-28T06:22:19.153Z"
   },
   {
    "duration": 21,
    "start_time": "2022-02-28T06:22:21.474Z"
   },
   {
    "duration": 21,
    "start_time": "2022-02-28T06:22:35.436Z"
   },
   {
    "duration": 7,
    "start_time": "2022-02-28T06:22:37.035Z"
   },
   {
    "duration": 21,
    "start_time": "2022-02-28T06:22:38.983Z"
   },
   {
    "duration": 21,
    "start_time": "2022-02-28T06:22:39.836Z"
   },
   {
    "duration": 407,
    "start_time": "2022-02-28T06:22:44.042Z"
   },
   {
    "duration": 4,
    "start_time": "2022-02-28T06:22:50.644Z"
   },
   {
    "duration": 71,
    "start_time": "2022-02-28T06:22:50.650Z"
   },
   {
    "duration": 6,
    "start_time": "2022-02-28T06:22:50.724Z"
   },
   {
    "duration": 18,
    "start_time": "2022-02-28T06:22:50.733Z"
   },
   {
    "duration": 58,
    "start_time": "2022-02-28T06:22:50.753Z"
   },
   {
    "duration": 77,
    "start_time": "2022-02-28T06:22:50.813Z"
   },
   {
    "duration": 6,
    "start_time": "2022-02-28T06:22:50.892Z"
   },
   {
    "duration": 22,
    "start_time": "2022-02-28T06:22:50.901Z"
   },
   {
    "duration": 75,
    "start_time": "2022-02-28T06:22:50.926Z"
   },
   {
    "duration": 32,
    "start_time": "2022-02-28T06:22:51.004Z"
   },
   {
    "duration": 83,
    "start_time": "2022-02-28T06:22:51.039Z"
   },
   {
    "duration": 6,
    "start_time": "2022-02-28T06:22:51.125Z"
   },
   {
    "duration": 12,
    "start_time": "2022-02-28T06:22:51.134Z"
   },
   {
    "duration": 42,
    "start_time": "2022-02-28T06:22:51.149Z"
   },
   {
    "duration": 21,
    "start_time": "2022-02-28T06:22:51.194Z"
   },
   {
    "duration": 10,
    "start_time": "2022-02-28T06:22:51.219Z"
   },
   {
    "duration": 14,
    "start_time": "2022-02-28T06:22:51.232Z"
   },
   {
    "duration": 10,
    "start_time": "2022-02-28T06:22:51.248Z"
   },
   {
    "duration": 13,
    "start_time": "2022-02-28T06:22:51.287Z"
   },
   {
    "duration": 21,
    "start_time": "2022-02-28T06:22:51.302Z"
   },
   {
    "duration": 10,
    "start_time": "2022-02-28T06:22:51.325Z"
   },
   {
    "duration": 52,
    "start_time": "2022-02-28T06:22:51.337Z"
   },
   {
    "duration": 485,
    "start_time": "2022-02-28T06:22:51.395Z"
   },
   {
    "duration": 6,
    "start_time": "2022-02-28T06:22:51.887Z"
   },
   {
    "duration": 7199,
    "start_time": "2022-02-28T06:22:51.897Z"
   },
   {
    "duration": 27,
    "start_time": "2022-02-28T06:22:59.100Z"
   },
   {
    "duration": 58,
    "start_time": "2022-02-28T06:22:59.130Z"
   },
   {
    "duration": 986,
    "start_time": "2022-02-28T06:22:59.192Z"
   },
   {
    "duration": 23,
    "start_time": "2022-02-28T06:23:00.187Z"
   },
   {
    "duration": 36,
    "start_time": "2022-02-28T06:23:00.213Z"
   },
   {
    "duration": 51,
    "start_time": "2022-02-28T06:23:00.252Z"
   },
   {
    "duration": 15,
    "start_time": "2022-02-28T06:23:00.305Z"
   },
   {
    "duration": 800,
    "start_time": "2022-02-28T06:23:00.322Z"
   },
   {
    "duration": 2114,
    "start_time": "2022-02-28T06:23:01.124Z"
   },
   {
    "duration": 33,
    "start_time": "2022-02-28T06:23:03.240Z"
   },
   {
    "duration": 21,
    "start_time": "2022-02-28T06:23:03.287Z"
   },
   {
    "duration": 25,
    "start_time": "2022-02-28T06:23:03.310Z"
   },
   {
    "duration": 6,
    "start_time": "2022-02-28T06:23:03.337Z"
   },
   {
    "duration": 56,
    "start_time": "2022-02-28T06:23:03.345Z"
   },
   {
    "duration": 23,
    "start_time": "2022-02-28T06:23:03.403Z"
   },
   {
    "duration": 451,
    "start_time": "2022-02-28T06:23:03.429Z"
   },
   {
    "duration": 543,
    "start_time": "2022-02-28T06:23:03.883Z"
   },
   {
    "duration": 19,
    "start_time": "2022-02-28T06:23:04.429Z"
   },
   {
    "duration": 45,
    "start_time": "2022-02-28T06:23:04.451Z"
   },
   {
    "duration": 214,
    "start_time": "2022-02-28T06:23:04.500Z"
   },
   {
    "duration": 228,
    "start_time": "2022-02-28T06:23:04.717Z"
   },
   {
    "duration": 9,
    "start_time": "2022-02-28T06:23:04.948Z"
   },
   {
    "duration": 3130,
    "start_time": "2022-02-28T06:23:04.960Z"
   },
   {
    "duration": 3157,
    "start_time": "2022-02-28T06:23:08.093Z"
   },
   {
    "duration": 7,
    "start_time": "2022-02-28T06:23:11.253Z"
   },
   {
    "duration": 2598,
    "start_time": "2022-02-28T06:23:11.262Z"
   },
   {
    "duration": 2744,
    "start_time": "2022-02-28T06:23:13.863Z"
   },
   {
    "duration": 7,
    "start_time": "2022-02-28T06:23:16.610Z"
   },
   {
    "duration": 3112,
    "start_time": "2022-02-28T06:23:16.619Z"
   },
   {
    "duration": 2900,
    "start_time": "2022-02-28T06:23:19.733Z"
   },
   {
    "duration": 24,
    "start_time": "2022-02-28T06:23:22.635Z"
   },
   {
    "duration": 520,
    "start_time": "2022-02-28T06:23:22.661Z"
   },
   {
    "duration": 25,
    "start_time": "2022-02-28T06:23:23.188Z"
   },
   {
    "duration": 413,
    "start_time": "2022-02-28T06:23:23.216Z"
   },
   {
    "duration": 26,
    "start_time": "2022-02-28T06:23:23.632Z"
   },
   {
    "duration": 41,
    "start_time": "2022-02-28T06:23:23.660Z"
   },
   {
    "duration": 31,
    "start_time": "2022-02-28T06:23:23.703Z"
   },
   {
    "duration": 23,
    "start_time": "2022-02-28T06:23:23.736Z"
   },
   {
    "duration": 24,
    "start_time": "2022-02-28T06:23:23.787Z"
   },
   {
    "duration": 22,
    "start_time": "2022-02-28T06:23:23.813Z"
   },
   {
    "duration": 297,
    "start_time": "2022-02-28T06:23:23.838Z"
   },
   {
    "duration": 298,
    "start_time": "2022-02-28T06:23:24.137Z"
   },
   {
    "duration": 288,
    "start_time": "2022-02-28T06:23:24.442Z"
   },
   {
    "duration": 28,
    "start_time": "2022-02-28T06:23:24.733Z"
   },
   {
    "duration": 24,
    "start_time": "2022-02-28T06:23:24.763Z"
   },
   {
    "duration": 29,
    "start_time": "2022-02-28T06:23:24.790Z"
   },
   {
    "duration": 8,
    "start_time": "2022-02-28T06:23:24.821Z"
   },
   {
    "duration": 389,
    "start_time": "2022-02-28T06:26:56.158Z"
   },
   {
    "duration": 427,
    "start_time": "2022-02-28T06:36:27.473Z"
   },
   {
    "duration": 26,
    "start_time": "2022-02-28T06:40:08.389Z"
   },
   {
    "duration": 26,
    "start_time": "2022-02-28T06:40:37.788Z"
   },
   {
    "duration": 25,
    "start_time": "2022-02-28T06:42:19.568Z"
   },
   {
    "duration": 23,
    "start_time": "2022-02-28T06:45:07.842Z"
   },
   {
    "duration": 23,
    "start_time": "2022-02-28T06:45:19.400Z"
   },
   {
    "duration": 23,
    "start_time": "2022-02-28T06:45:38.405Z"
   },
   {
    "duration": 17,
    "start_time": "2022-02-28T06:50:54.168Z"
   },
   {
    "duration": 410,
    "start_time": "2022-02-28T06:50:59.845Z"
   },
   {
    "duration": 597,
    "start_time": "2022-02-28T06:52:55.261Z"
   },
   {
    "duration": 22,
    "start_time": "2022-02-28T06:54:12.827Z"
   },
   {
    "duration": 22,
    "start_time": "2022-02-28T06:54:25.316Z"
   },
   {
    "duration": 23,
    "start_time": "2022-02-28T06:54:56.486Z"
   },
   {
    "duration": 33,
    "start_time": "2022-02-28T06:55:26.845Z"
   },
   {
    "duration": 2258,
    "start_time": "2022-02-28T06:55:45.384Z"
   },
   {
    "duration": 2269,
    "start_time": "2022-02-28T06:55:53.488Z"
   },
   {
    "duration": 902,
    "start_time": "2022-02-28T06:56:17.804Z"
   },
   {
    "duration": 24,
    "start_time": "2022-02-28T06:57:31.857Z"
   },
   {
    "duration": 783,
    "start_time": "2022-02-28T06:58:00.321Z"
   },
   {
    "duration": 779,
    "start_time": "2022-02-28T06:58:21.555Z"
   },
   {
    "duration": 1204,
    "start_time": "2022-02-28T09:31:42.038Z"
   },
   {
    "duration": 58,
    "start_time": "2022-02-28T09:31:43.244Z"
   },
   {
    "duration": 6,
    "start_time": "2022-02-28T09:31:43.305Z"
   },
   {
    "duration": 7,
    "start_time": "2022-02-28T09:31:43.313Z"
   },
   {
    "duration": 20,
    "start_time": "2022-02-28T09:31:43.322Z"
   },
   {
    "duration": 34,
    "start_time": "2022-02-28T09:31:43.364Z"
   },
   {
    "duration": 3,
    "start_time": "2022-02-28T09:31:43.400Z"
   },
   {
    "duration": 16,
    "start_time": "2022-02-28T09:31:43.405Z"
   },
   {
    "duration": 60,
    "start_time": "2022-02-28T09:31:43.424Z"
   },
   {
    "duration": 20,
    "start_time": "2022-02-28T09:31:43.486Z"
   },
   {
    "duration": 56,
    "start_time": "2022-02-28T09:31:43.508Z"
   },
   {
    "duration": 4,
    "start_time": "2022-02-28T09:31:43.566Z"
   },
   {
    "duration": 14,
    "start_time": "2022-02-28T09:31:43.572Z"
   },
   {
    "duration": 20,
    "start_time": "2022-02-28T09:31:43.588Z"
   },
   {
    "duration": 11,
    "start_time": "2022-02-28T09:31:43.609Z"
   },
   {
    "duration": 6,
    "start_time": "2022-02-28T09:31:43.622Z"
   },
   {
    "duration": 10,
    "start_time": "2022-02-28T09:31:43.630Z"
   },
   {
    "duration": 21,
    "start_time": "2022-02-28T09:31:43.642Z"
   },
   {
    "duration": 15,
    "start_time": "2022-02-28T09:31:43.665Z"
   },
   {
    "duration": 14,
    "start_time": "2022-02-28T09:31:43.682Z"
   },
   {
    "duration": 6,
    "start_time": "2022-02-28T09:31:43.698Z"
   },
   {
    "duration": 16,
    "start_time": "2022-02-28T09:31:43.706Z"
   },
   {
    "duration": 339,
    "start_time": "2022-02-28T09:31:43.724Z"
   },
   {
    "duration": 4,
    "start_time": "2022-02-28T09:31:44.065Z"
   },
   {
    "duration": 4460,
    "start_time": "2022-02-28T09:31:44.071Z"
   },
   {
    "duration": 30,
    "start_time": "2022-02-28T09:31:48.533Z"
   },
   {
    "duration": 18,
    "start_time": "2022-02-28T09:31:48.567Z"
   },
   {
    "duration": 16,
    "start_time": "2022-02-28T09:31:48.587Z"
   },
   {
    "duration": 294,
    "start_time": "2022-02-28T09:31:48.605Z"
   },
   {
    "duration": -175,
    "start_time": "2022-02-28T09:31:49.076Z"
   },
   {
    "duration": -176,
    "start_time": "2022-02-28T09:31:49.079Z"
   },
   {
    "duration": -200,
    "start_time": "2022-02-28T09:31:49.104Z"
   },
   {
    "duration": -201,
    "start_time": "2022-02-28T09:31:49.107Z"
   },
   {
    "duration": -204,
    "start_time": "2022-02-28T09:31:49.111Z"
   },
   {
    "duration": -205,
    "start_time": "2022-02-28T09:31:49.114Z"
   },
   {
    "duration": -206,
    "start_time": "2022-02-28T09:31:49.116Z"
   },
   {
    "duration": -206,
    "start_time": "2022-02-28T09:31:49.118Z"
   },
   {
    "duration": -208,
    "start_time": "2022-02-28T09:31:49.121Z"
   },
   {
    "duration": -208,
    "start_time": "2022-02-28T09:31:49.123Z"
   },
   {
    "duration": -210,
    "start_time": "2022-02-28T09:31:49.126Z"
   },
   {
    "duration": -232,
    "start_time": "2022-02-28T09:31:49.150Z"
   },
   {
    "duration": -234,
    "start_time": "2022-02-28T09:31:49.153Z"
   },
   {
    "duration": -235,
    "start_time": "2022-02-28T09:31:49.155Z"
   },
   {
    "duration": -236,
    "start_time": "2022-02-28T09:31:49.158Z"
   },
   {
    "duration": -238,
    "start_time": "2022-02-28T09:31:49.161Z"
   },
   {
    "duration": -238,
    "start_time": "2022-02-28T09:31:49.163Z"
   },
   {
    "duration": -240,
    "start_time": "2022-02-28T09:31:49.166Z"
   },
   {
    "duration": -240,
    "start_time": "2022-02-28T09:31:49.168Z"
   },
   {
    "duration": -242,
    "start_time": "2022-02-28T09:31:49.171Z"
   },
   {
    "duration": -243,
    "start_time": "2022-02-28T09:31:49.173Z"
   },
   {
    "duration": -256,
    "start_time": "2022-02-28T09:31:49.187Z"
   },
   {
    "duration": -282,
    "start_time": "2022-02-28T09:31:49.214Z"
   },
   {
    "duration": -305,
    "start_time": "2022-02-28T09:31:49.238Z"
   },
   {
    "duration": -347,
    "start_time": "2022-02-28T09:31:49.281Z"
   },
   {
    "duration": -348,
    "start_time": "2022-02-28T09:31:49.283Z"
   },
   {
    "duration": -349,
    "start_time": "2022-02-28T09:31:49.285Z"
   },
   {
    "duration": -351,
    "start_time": "2022-02-28T09:31:49.288Z"
   },
   {
    "duration": -390,
    "start_time": "2022-02-28T09:31:49.328Z"
   },
   {
    "duration": -391,
    "start_time": "2022-02-28T09:31:49.331Z"
   },
   {
    "duration": -394,
    "start_time": "2022-02-28T09:31:49.334Z"
   },
   {
    "duration": -374,
    "start_time": "2022-02-28T09:31:49.336Z"
   },
   {
    "duration": -375,
    "start_time": "2022-02-28T09:31:49.339Z"
   },
   {
    "duration": -377,
    "start_time": "2022-02-28T09:31:49.342Z"
   },
   {
    "duration": 4,
    "start_time": "2022-02-28T09:32:33.785Z"
   },
   {
    "duration": 62,
    "start_time": "2022-02-28T09:32:33.791Z"
   },
   {
    "duration": 4,
    "start_time": "2022-02-28T09:32:33.855Z"
   },
   {
    "duration": 7,
    "start_time": "2022-02-28T09:32:33.861Z"
   },
   {
    "duration": 20,
    "start_time": "2022-02-28T09:32:33.870Z"
   },
   {
    "duration": 35,
    "start_time": "2022-02-28T09:32:33.892Z"
   },
   {
    "duration": 33,
    "start_time": "2022-02-28T09:32:33.930Z"
   },
   {
    "duration": 16,
    "start_time": "2022-02-28T09:32:33.966Z"
   },
   {
    "duration": 42,
    "start_time": "2022-02-28T09:32:33.984Z"
   },
   {
    "duration": 37,
    "start_time": "2022-02-28T09:32:34.027Z"
   },
   {
    "duration": 39,
    "start_time": "2022-02-28T09:32:34.066Z"
   },
   {
    "duration": 5,
    "start_time": "2022-02-28T09:32:34.106Z"
   },
   {
    "duration": 9,
    "start_time": "2022-02-28T09:32:34.112Z"
   },
   {
    "duration": 9,
    "start_time": "2022-02-28T09:32:34.123Z"
   },
   {
    "duration": 34,
    "start_time": "2022-02-28T09:32:34.134Z"
   },
   {
    "duration": 9,
    "start_time": "2022-02-28T09:32:34.169Z"
   },
   {
    "duration": 9,
    "start_time": "2022-02-28T09:32:34.179Z"
   },
   {
    "duration": 13,
    "start_time": "2022-02-28T09:32:34.190Z"
   },
   {
    "duration": 12,
    "start_time": "2022-02-28T09:32:34.207Z"
   },
   {
    "duration": 14,
    "start_time": "2022-02-28T09:32:34.222Z"
   },
   {
    "duration": 5,
    "start_time": "2022-02-28T09:32:34.263Z"
   },
   {
    "duration": 18,
    "start_time": "2022-02-28T09:32:34.269Z"
   },
   {
    "duration": 348,
    "start_time": "2022-02-28T09:32:34.289Z"
   },
   {
    "duration": 5,
    "start_time": "2022-02-28T09:32:34.638Z"
   },
   {
    "duration": 4788,
    "start_time": "2022-02-28T09:32:34.645Z"
   },
   {
    "duration": 30,
    "start_time": "2022-02-28T09:32:39.434Z"
   },
   {
    "duration": 17,
    "start_time": "2022-02-28T09:32:39.466Z"
   },
   {
    "duration": 17,
    "start_time": "2022-02-28T09:32:39.485Z"
   },
   {
    "duration": 232,
    "start_time": "2022-02-28T09:32:39.504Z"
   },
   {
    "duration": -364,
    "start_time": "2022-02-28T09:32:40.102Z"
   },
   {
    "duration": -365,
    "start_time": "2022-02-28T09:32:40.104Z"
   },
   {
    "duration": -390,
    "start_time": "2022-02-28T09:32:40.130Z"
   },
   {
    "duration": -394,
    "start_time": "2022-02-28T09:32:40.134Z"
   },
   {
    "duration": -395,
    "start_time": "2022-02-28T09:32:40.136Z"
   },
   {
    "duration": -398,
    "start_time": "2022-02-28T09:32:40.140Z"
   },
   {
    "duration": -406,
    "start_time": "2022-02-28T09:32:40.149Z"
   },
   {
    "duration": -408,
    "start_time": "2022-02-28T09:32:40.152Z"
   },
   {
    "duration": -410,
    "start_time": "2022-02-28T09:32:40.155Z"
   },
   {
    "duration": -411,
    "start_time": "2022-02-28T09:32:40.157Z"
   },
   {
    "duration": -413,
    "start_time": "2022-02-28T09:32:40.160Z"
   },
   {
    "duration": -414,
    "start_time": "2022-02-28T09:32:40.162Z"
   },
   {
    "duration": -429,
    "start_time": "2022-02-28T09:32:40.178Z"
   },
   {
    "duration": -430,
    "start_time": "2022-02-28T09:32:40.181Z"
   },
   {
    "duration": -432,
    "start_time": "2022-02-28T09:32:40.184Z"
   },
   {
    "duration": -433,
    "start_time": "2022-02-28T09:32:40.186Z"
   },
   {
    "duration": -444,
    "start_time": "2022-02-28T09:32:40.198Z"
   },
   {
    "duration": -446,
    "start_time": "2022-02-28T09:32:40.201Z"
   },
   {
    "duration": -446,
    "start_time": "2022-02-28T09:32:40.203Z"
   },
   {
    "duration": -448,
    "start_time": "2022-02-28T09:32:40.206Z"
   },
   {
    "duration": -449,
    "start_time": "2022-02-28T09:32:40.209Z"
   },
   {
    "duration": -450,
    "start_time": "2022-02-28T09:32:40.211Z"
   },
   {
    "duration": -510,
    "start_time": "2022-02-28T09:32:40.271Z"
   },
   {
    "duration": -543,
    "start_time": "2022-02-28T09:32:40.305Z"
   },
   {
    "duration": -544,
    "start_time": "2022-02-28T09:32:40.307Z"
   },
   {
    "duration": -546,
    "start_time": "2022-02-28T09:32:40.310Z"
   },
   {
    "duration": -547,
    "start_time": "2022-02-28T09:32:40.312Z"
   },
   {
    "duration": -549,
    "start_time": "2022-02-28T09:32:40.315Z"
   },
   {
    "duration": -552,
    "start_time": "2022-02-28T09:32:40.318Z"
   },
   {
    "duration": -553,
    "start_time": "2022-02-28T09:32:40.320Z"
   },
   {
    "duration": -555,
    "start_time": "2022-02-28T09:32:40.323Z"
   },
   {
    "duration": -556,
    "start_time": "2022-02-28T09:32:40.325Z"
   },
   {
    "duration": -576,
    "start_time": "2022-02-28T09:32:40.346Z"
   },
   {
    "duration": -579,
    "start_time": "2022-02-28T09:32:40.350Z"
   },
   {
    "duration": 14,
    "start_time": "2022-02-28T09:33:25.548Z"
   },
   {
    "duration": 7,
    "start_time": "2022-02-28T09:33:31.740Z"
   },
   {
    "duration": 67,
    "start_time": "2022-02-28T09:33:31.748Z"
   },
   {
    "duration": 5,
    "start_time": "2022-02-28T09:33:31.817Z"
   },
   {
    "duration": 20,
    "start_time": "2022-02-28T09:33:31.824Z"
   },
   {
    "duration": 34,
    "start_time": "2022-02-28T09:33:31.846Z"
   },
   {
    "duration": 34,
    "start_time": "2022-02-28T09:33:31.882Z"
   },
   {
    "duration": 5,
    "start_time": "2022-02-28T09:33:31.918Z"
   },
   {
    "duration": 44,
    "start_time": "2022-02-28T09:33:31.926Z"
   },
   {
    "duration": 45,
    "start_time": "2022-02-28T09:33:31.972Z"
   },
   {
    "duration": 21,
    "start_time": "2022-02-28T09:33:32.019Z"
   },
   {
    "duration": 51,
    "start_time": "2022-02-28T09:33:32.041Z"
   },
   {
    "duration": 5,
    "start_time": "2022-02-28T09:33:32.094Z"
   },
   {
    "duration": 14,
    "start_time": "2022-02-28T09:33:32.100Z"
   },
   {
    "duration": 23,
    "start_time": "2022-02-28T09:33:32.115Z"
   },
   {
    "duration": 14,
    "start_time": "2022-02-28T09:33:32.140Z"
   },
   {
    "duration": 23,
    "start_time": "2022-02-28T09:33:32.156Z"
   },
   {
    "duration": 11,
    "start_time": "2022-02-28T09:33:32.181Z"
   },
   {
    "duration": 11,
    "start_time": "2022-02-28T09:33:32.193Z"
   },
   {
    "duration": 13,
    "start_time": "2022-02-28T09:33:32.206Z"
   },
   {
    "duration": 14,
    "start_time": "2022-02-28T09:33:32.221Z"
   },
   {
    "duration": 6,
    "start_time": "2022-02-28T09:33:32.237Z"
   },
   {
    "duration": 27,
    "start_time": "2022-02-28T09:33:32.244Z"
   },
   {
    "duration": 535,
    "start_time": "2022-02-28T09:33:32.275Z"
   },
   {
    "duration": 5,
    "start_time": "2022-02-28T09:33:32.813Z"
   },
   {
    "duration": 4874,
    "start_time": "2022-02-28T09:33:32.820Z"
   },
   {
    "duration": 17,
    "start_time": "2022-02-28T09:33:37.696Z"
   },
   {
    "duration": 26,
    "start_time": "2022-02-28T09:33:37.714Z"
   },
   {
    "duration": 28,
    "start_time": "2022-02-28T09:33:37.742Z"
   },
   {
    "duration": 14,
    "start_time": "2022-02-28T09:33:37.772Z"
   },
   {
    "duration": 10,
    "start_time": "2022-02-28T09:33:37.787Z"
   },
   {
    "duration": 513,
    "start_time": "2022-02-28T09:33:37.798Z"
   },
   {
    "duration": 24,
    "start_time": "2022-02-28T09:33:38.313Z"
   },
   {
    "duration": 56,
    "start_time": "2022-02-28T09:33:38.339Z"
   },
   {
    "duration": 17,
    "start_time": "2022-02-28T09:33:38.397Z"
   },
   {
    "duration": 23,
    "start_time": "2022-02-28T09:33:38.416Z"
   },
   {
    "duration": 286,
    "start_time": "2022-02-28T09:33:38.441Z"
   },
   {
    "duration": 13,
    "start_time": "2022-02-28T09:33:38.728Z"
   },
   {
    "duration": 148,
    "start_time": "2022-02-28T09:33:38.743Z"
   },
   {
    "duration": 167,
    "start_time": "2022-02-28T09:33:38.892Z"
   },
   {
    "duration": 7,
    "start_time": "2022-02-28T09:33:39.063Z"
   },
   {
    "duration": 1937,
    "start_time": "2022-02-28T09:33:39.072Z"
   },
   {
    "duration": 1912,
    "start_time": "2022-02-28T09:33:41.011Z"
   },
   {
    "duration": 5,
    "start_time": "2022-02-28T09:33:42.925Z"
   },
   {
    "duration": 1862,
    "start_time": "2022-02-28T09:33:42.932Z"
   },
   {
    "duration": 1736,
    "start_time": "2022-02-28T09:33:44.795Z"
   },
   {
    "duration": 6,
    "start_time": "2022-02-28T09:33:46.533Z"
   },
   {
    "duration": 1865,
    "start_time": "2022-02-28T09:33:46.540Z"
   },
   {
    "duration": 1794,
    "start_time": "2022-02-28T09:33:48.408Z"
   },
   {
    "duration": 11,
    "start_time": "2022-02-28T09:33:50.204Z"
   },
   {
    "duration": 275,
    "start_time": "2022-02-28T09:33:50.217Z"
   },
   {
    "duration": 18,
    "start_time": "2022-02-28T09:33:50.493Z"
   },
   {
    "duration": 17,
    "start_time": "2022-02-28T09:33:50.512Z"
   },
   {
    "duration": 38,
    "start_time": "2022-02-28T09:33:50.531Z"
   },
   {
    "duration": 155,
    "start_time": "2022-02-28T09:33:50.570Z"
   },
   {
    "duration": 17,
    "start_time": "2022-02-28T09:33:50.727Z"
   },
   {
    "duration": 28,
    "start_time": "2022-02-28T09:33:50.746Z"
   },
   {
    "duration": 189,
    "start_time": "2022-02-28T09:33:50.776Z"
   },
   {
    "duration": 196,
    "start_time": "2022-02-28T09:33:50.967Z"
   },
   {
    "duration": 191,
    "start_time": "2022-02-28T09:33:51.165Z"
   },
   {
    "duration": 25,
    "start_time": "2022-02-28T09:33:51.357Z"
   },
   {
    "duration": 5,
    "start_time": "2022-02-28T09:33:51.384Z"
   },
   {
    "duration": 34,
    "start_time": "2022-02-28T09:33:51.390Z"
   },
   {
    "duration": 6,
    "start_time": "2022-02-28T09:33:51.426Z"
   },
   {
    "duration": 144,
    "start_time": "2022-02-28T09:37:11.580Z"
   },
   {
    "duration": 130,
    "start_time": "2022-02-28T09:37:46.130Z"
   },
   {
    "duration": 11,
    "start_time": "2022-02-28T09:48:48.778Z"
   },
   {
    "duration": 10,
    "start_time": "2022-02-28T09:49:13.728Z"
   },
   {
    "duration": 5,
    "start_time": "2022-02-28T10:03:54.098Z"
   },
   {
    "duration": 4,
    "start_time": "2022-02-28T10:05:12.931Z"
   },
   {
    "duration": 4,
    "start_time": "2022-02-28T10:05:30.469Z"
   },
   {
    "duration": 5,
    "start_time": "2022-02-28T10:06:04.444Z"
   },
   {
    "duration": 4920,
    "start_time": "2022-02-28T10:07:25.091Z"
   },
   {
    "duration": 6,
    "start_time": "2022-02-28T10:07:51.828Z"
   },
   {
    "duration": 4,
    "start_time": "2022-02-28T10:07:53.358Z"
   },
   {
    "duration": 5,
    "start_time": "2022-02-28T10:08:25.052Z"
   },
   {
    "duration": 5,
    "start_time": "2022-02-28T10:08:59.663Z"
   },
   {
    "duration": 6,
    "start_time": "2022-02-28T10:09:27.891Z"
   },
   {
    "duration": 4,
    "start_time": "2022-02-28T10:09:28.584Z"
   },
   {
    "duration": 5,
    "start_time": "2022-02-28T10:10:01.603Z"
   },
   {
    "duration": 149,
    "start_time": "2022-02-28T10:17:31.264Z"
   },
   {
    "duration": 10,
    "start_time": "2022-02-28T10:17:42.824Z"
   },
   {
    "duration": 3,
    "start_time": "2022-02-28T10:19:18.061Z"
   },
   {
    "duration": 59,
    "start_time": "2022-02-28T10:19:18.065Z"
   },
   {
    "duration": 5,
    "start_time": "2022-02-28T10:19:18.126Z"
   },
   {
    "duration": 7,
    "start_time": "2022-02-28T10:19:18.133Z"
   },
   {
    "duration": 36,
    "start_time": "2022-02-28T10:19:18.141Z"
   },
   {
    "duration": 38,
    "start_time": "2022-02-28T10:19:18.178Z"
   },
   {
    "duration": 4,
    "start_time": "2022-02-28T10:19:18.217Z"
   },
   {
    "duration": 49,
    "start_time": "2022-02-28T10:19:18.223Z"
   },
   {
    "duration": 38,
    "start_time": "2022-02-28T10:19:18.275Z"
   },
   {
    "duration": 21,
    "start_time": "2022-02-28T10:19:18.315Z"
   },
   {
    "duration": 53,
    "start_time": "2022-02-28T10:19:18.337Z"
   },
   {
    "duration": 4,
    "start_time": "2022-02-28T10:19:18.392Z"
   },
   {
    "duration": 7,
    "start_time": "2022-02-28T10:19:18.398Z"
   },
   {
    "duration": 6,
    "start_time": "2022-02-28T10:19:18.407Z"
   },
   {
    "duration": 8,
    "start_time": "2022-02-28T10:19:18.415Z"
   },
   {
    "duration": 39,
    "start_time": "2022-02-28T10:19:18.424Z"
   },
   {
    "duration": 9,
    "start_time": "2022-02-28T10:19:18.465Z"
   },
   {
    "duration": 10,
    "start_time": "2022-02-28T10:19:18.475Z"
   },
   {
    "duration": 14,
    "start_time": "2022-02-28T10:19:18.487Z"
   },
   {
    "duration": 14,
    "start_time": "2022-02-28T10:19:18.502Z"
   },
   {
    "duration": 7,
    "start_time": "2022-02-28T10:19:18.518Z"
   },
   {
    "duration": 37,
    "start_time": "2022-02-28T10:19:18.527Z"
   },
   {
    "duration": 302,
    "start_time": "2022-02-28T10:19:18.566Z"
   },
   {
    "duration": 4,
    "start_time": "2022-02-28T10:19:18.870Z"
   },
   {
    "duration": 4413,
    "start_time": "2022-02-28T10:19:18.876Z"
   },
   {
    "duration": 17,
    "start_time": "2022-02-28T10:19:23.291Z"
   },
   {
    "duration": 17,
    "start_time": "2022-02-28T10:19:23.313Z"
   },
   {
    "duration": 43,
    "start_time": "2022-02-28T10:19:23.333Z"
   },
   {
    "duration": 14,
    "start_time": "2022-02-28T10:19:23.378Z"
   },
   {
    "duration": 11,
    "start_time": "2022-02-28T10:19:23.394Z"
   },
   {
    "duration": 511,
    "start_time": "2022-02-28T10:19:23.407Z"
   },
   {
    "duration": 22,
    "start_time": "2022-02-28T10:19:23.920Z"
   },
   {
    "duration": 30,
    "start_time": "2022-02-28T10:19:23.943Z"
   },
   {
    "duration": 6,
    "start_time": "2022-02-28T10:19:23.975Z"
   },
   {
    "duration": 22,
    "start_time": "2022-02-28T10:19:23.983Z"
   },
   {
    "duration": 565,
    "start_time": "2022-02-28T10:19:24.007Z"
   },
   {
    "duration": 12,
    "start_time": "2022-02-28T10:19:24.574Z"
   },
   {
    "duration": 150,
    "start_time": "2022-02-28T10:19:24.588Z"
   },
   {
    "duration": 10,
    "start_time": "2022-02-28T10:19:24.740Z"
   },
   {
    "duration": 144,
    "start_time": "2022-02-28T10:19:24.763Z"
   },
   {
    "duration": 10,
    "start_time": "2022-02-28T10:19:24.909Z"
   },
   {
    "duration": 172,
    "start_time": "2022-02-28T10:19:24.921Z"
   },
   {
    "duration": 9,
    "start_time": "2022-02-28T10:19:25.095Z"
   },
   {
    "duration": 38,
    "start_time": "2022-02-28T10:19:25.106Z"
   },
   {
    "duration": 24,
    "start_time": "2022-02-28T10:19:25.146Z"
   },
   {
    "duration": 1920,
    "start_time": "2022-02-28T10:19:25.172Z"
   },
   {
    "duration": 6,
    "start_time": "2022-02-28T10:19:27.094Z"
   },
   {
    "duration": 1985,
    "start_time": "2022-02-28T10:19:27.102Z"
   },
   {
    "duration": 5,
    "start_time": "2022-02-28T10:19:29.089Z"
   },
   {
    "duration": 11,
    "start_time": "2022-02-28T10:19:29.096Z"
   },
   {
    "duration": 1750,
    "start_time": "2022-02-28T10:19:29.108Z"
   },
   {
    "duration": 6,
    "start_time": "2022-02-28T10:19:30.860Z"
   },
   {
    "duration": 1777,
    "start_time": "2022-02-28T10:19:30.868Z"
   },
   {
    "duration": 16,
    "start_time": "2022-02-28T10:19:32.648Z"
   },
   {
    "duration": 8,
    "start_time": "2022-02-28T10:19:32.665Z"
   },
   {
    "duration": 1822,
    "start_time": "2022-02-28T10:19:32.675Z"
   },
   {
    "duration": 6,
    "start_time": "2022-02-28T10:19:34.499Z"
   },
   {
    "duration": 1737,
    "start_time": "2022-02-28T10:19:34.507Z"
   },
   {
    "duration": 22,
    "start_time": "2022-02-28T10:19:36.246Z"
   },
   {
    "duration": 426,
    "start_time": "2022-02-28T10:19:36.270Z"
   },
   {
    "duration": 19,
    "start_time": "2022-02-28T10:19:36.698Z"
   },
   {
    "duration": 25,
    "start_time": "2022-02-28T10:19:36.718Z"
   },
   {
    "duration": 30,
    "start_time": "2022-02-28T10:19:36.745Z"
   },
   {
    "duration": 14,
    "start_time": "2022-02-28T10:19:36.777Z"
   },
   {
    "duration": 13,
    "start_time": "2022-02-28T10:19:36.793Z"
   },
   {
    "duration": 28,
    "start_time": "2022-02-28T10:19:36.808Z"
   },
   {
    "duration": 184,
    "start_time": "2022-02-28T10:19:36.837Z"
   },
   {
    "duration": 190,
    "start_time": "2022-02-28T10:19:37.023Z"
   },
   {
    "duration": 180,
    "start_time": "2022-02-28T10:19:37.214Z"
   },
   {
    "duration": 20,
    "start_time": "2022-02-28T10:19:37.395Z"
   },
   {
    "duration": 6,
    "start_time": "2022-02-28T10:19:37.416Z"
   },
   {
    "duration": 40,
    "start_time": "2022-02-28T10:19:37.424Z"
   },
   {
    "duration": 7,
    "start_time": "2022-02-28T10:19:37.466Z"
   },
   {
    "duration": 1525,
    "start_time": "2022-03-08T09:42:47.328Z"
   },
   {
    "duration": 77,
    "start_time": "2022-03-08T09:42:48.856Z"
   },
   {
    "duration": 6,
    "start_time": "2022-03-08T09:42:48.936Z"
   },
   {
    "duration": 30,
    "start_time": "2022-03-08T09:42:48.945Z"
   },
   {
    "duration": 63,
    "start_time": "2022-03-08T09:42:48.977Z"
   },
   {
    "duration": 62,
    "start_time": "2022-03-08T09:42:49.043Z"
   },
   {
    "duration": 6,
    "start_time": "2022-03-08T09:42:49.108Z"
   },
   {
    "duration": 52,
    "start_time": "2022-03-08T09:42:49.117Z"
   },
   {
    "duration": 62,
    "start_time": "2022-03-08T09:42:49.172Z"
   },
   {
    "duration": 36,
    "start_time": "2022-03-08T09:42:49.237Z"
   },
   {
    "duration": 56,
    "start_time": "2022-03-08T09:42:49.275Z"
   },
   {
    "duration": 7,
    "start_time": "2022-03-08T09:42:49.334Z"
   },
   {
    "duration": 10,
    "start_time": "2022-03-08T09:42:49.372Z"
   },
   {
    "duration": 10,
    "start_time": "2022-03-08T09:42:49.385Z"
   },
   {
    "duration": 11,
    "start_time": "2022-03-08T09:42:49.398Z"
   },
   {
    "duration": 10,
    "start_time": "2022-03-08T09:42:49.412Z"
   },
   {
    "duration": 15,
    "start_time": "2022-03-08T09:42:49.473Z"
   },
   {
    "duration": 10,
    "start_time": "2022-03-08T09:42:49.491Z"
   },
   {
    "duration": 16,
    "start_time": "2022-03-08T09:42:49.503Z"
   },
   {
    "duration": 20,
    "start_time": "2022-03-08T09:42:49.521Z"
   },
   {
    "duration": 40,
    "start_time": "2022-03-08T09:42:49.543Z"
   },
   {
    "duration": 22,
    "start_time": "2022-03-08T09:42:49.585Z"
   },
   {
    "duration": 525,
    "start_time": "2022-03-08T09:42:49.613Z"
   },
   {
    "duration": 6,
    "start_time": "2022-03-08T09:42:50.141Z"
   },
   {
    "duration": 7609,
    "start_time": "2022-03-08T09:42:50.149Z"
   },
   {
    "duration": 34,
    "start_time": "2022-03-08T09:42:57.760Z"
   },
   {
    "duration": 25,
    "start_time": "2022-03-08T09:42:57.796Z"
   },
   {
    "duration": 52,
    "start_time": "2022-03-08T09:42:57.823Z"
   },
   {
    "duration": 20,
    "start_time": "2022-03-08T09:42:57.877Z"
   },
   {
    "duration": 10,
    "start_time": "2022-03-08T09:42:57.900Z"
   },
   {
    "duration": 999,
    "start_time": "2022-03-08T09:42:57.912Z"
   },
   {
    "duration": 36,
    "start_time": "2022-03-08T09:42:58.914Z"
   },
   {
    "duration": 21,
    "start_time": "2022-03-08T09:42:58.973Z"
   },
   {
    "duration": 29,
    "start_time": "2022-03-08T09:42:58.997Z"
   },
   {
    "duration": 35,
    "start_time": "2022-03-08T09:42:59.028Z"
   },
   {
    "duration": 431,
    "start_time": "2022-03-08T09:42:59.066Z"
   },
   {
    "duration": 17,
    "start_time": "2022-03-08T09:42:59.499Z"
   },
   {
    "duration": 241,
    "start_time": "2022-03-08T09:42:59.518Z"
   },
   {
    "duration": 18,
    "start_time": "2022-03-08T09:42:59.761Z"
   },
   {
    "duration": 465,
    "start_time": "2022-03-08T09:42:59.781Z"
   },
   {
    "duration": 24,
    "start_time": "2022-03-08T09:43:00.249Z"
   },
   {
    "duration": 253,
    "start_time": "2022-03-08T09:43:00.275Z"
   },
   {
    "duration": 14,
    "start_time": "2022-03-08T09:43:00.531Z"
   },
   {
    "duration": 36,
    "start_time": "2022-03-08T09:43:00.548Z"
   },
   {
    "duration": 24,
    "start_time": "2022-03-08T09:43:00.587Z"
   },
   {
    "duration": 3003,
    "start_time": "2022-03-08T09:43:00.613Z"
   },
   {
    "duration": 6,
    "start_time": "2022-03-08T09:43:03.619Z"
   },
   {
    "duration": 3150,
    "start_time": "2022-03-08T09:43:03.628Z"
   },
   {
    "duration": 8,
    "start_time": "2022-03-08T09:43:06.781Z"
   },
   {
    "duration": 8,
    "start_time": "2022-03-08T09:43:06.792Z"
   },
   {
    "duration": 4144,
    "start_time": "2022-03-08T09:43:06.803Z"
   },
   {
    "duration": 5,
    "start_time": "2022-03-08T09:43:10.950Z"
   },
   {
    "duration": 3109,
    "start_time": "2022-03-08T09:43:10.958Z"
   },
   {
    "duration": 7,
    "start_time": "2022-03-08T09:43:14.073Z"
   },
   {
    "duration": 10,
    "start_time": "2022-03-08T09:43:14.082Z"
   },
   {
    "duration": 3391,
    "start_time": "2022-03-08T09:43:14.094Z"
   },
   {
    "duration": 6,
    "start_time": "2022-03-08T09:43:17.487Z"
   },
   {
    "duration": 2932,
    "start_time": "2022-03-08T09:43:17.495Z"
   },
   {
    "duration": 17,
    "start_time": "2022-03-08T09:43:20.430Z"
   },
   {
    "duration": 438,
    "start_time": "2022-03-08T09:43:20.449Z"
   },
   {
    "duration": 26,
    "start_time": "2022-03-08T09:43:20.890Z"
   },
   {
    "duration": 25,
    "start_time": "2022-03-08T09:43:20.918Z"
   },
   {
    "duration": 27,
    "start_time": "2022-03-08T09:43:20.974Z"
   },
   {
    "duration": 25,
    "start_time": "2022-03-08T09:43:21.004Z"
   },
   {
    "duration": 60,
    "start_time": "2022-03-08T09:43:21.032Z"
   },
   {
    "duration": 24,
    "start_time": "2022-03-08T09:43:21.095Z"
   },
   {
    "duration": 334,
    "start_time": "2022-03-08T09:43:21.122Z"
   },
   {
    "duration": 420,
    "start_time": "2022-03-08T09:43:21.474Z"
   },
   {
    "duration": 431,
    "start_time": "2022-03-08T09:43:21.897Z"
   },
   {
    "duration": 28,
    "start_time": "2022-03-08T09:43:22.331Z"
   },
   {
    "duration": 16,
    "start_time": "2022-03-08T09:43:22.361Z"
   },
   {
    "duration": 37,
    "start_time": "2022-03-08T09:43:22.379Z"
   },
   {
    "duration": 7,
    "start_time": "2022-03-08T09:43:22.419Z"
   },
   {
    "duration": 58,
    "start_time": "2022-03-08T09:50:05.438Z"
   },
   {
    "duration": 92,
    "start_time": "2022-03-09T14:43:53.914Z"
   },
   {
    "duration": 372,
    "start_time": "2022-03-09T15:18:22.653Z"
   },
   {
    "duration": 1654,
    "start_time": "2022-03-09T15:18:26.796Z"
   },
   {
    "duration": 80,
    "start_time": "2022-03-09T15:18:28.452Z"
   },
   {
    "duration": 7,
    "start_time": "2022-03-09T15:18:28.535Z"
   },
   {
    "duration": 13,
    "start_time": "2022-03-09T15:18:28.544Z"
   },
   {
    "duration": 53,
    "start_time": "2022-03-09T15:18:28.560Z"
   },
   {
    "duration": 79,
    "start_time": "2022-03-09T15:18:28.616Z"
   },
   {
    "duration": 6,
    "start_time": "2022-03-09T15:18:28.697Z"
   },
   {
    "duration": 21,
    "start_time": "2022-03-09T15:18:28.705Z"
   },
   {
    "duration": 3,
    "start_time": "2022-03-09T15:18:28.730Z"
   },
   {
    "duration": 75,
    "start_time": "2022-03-09T15:18:28.736Z"
   },
   {
    "duration": 3,
    "start_time": "2022-03-09T15:18:28.814Z"
   },
   {
    "duration": 11,
    "start_time": "2022-03-09T15:18:28.819Z"
   },
   {
    "duration": 11,
    "start_time": "2022-03-09T15:18:28.833Z"
   },
   {
    "duration": 30,
    "start_time": "2022-03-09T15:18:28.847Z"
   },
   {
    "duration": 30,
    "start_time": "2022-03-09T15:18:28.881Z"
   },
   {
    "duration": 9,
    "start_time": "2022-03-09T15:18:28.914Z"
   },
   {
    "duration": 13,
    "start_time": "2022-03-09T15:18:28.926Z"
   },
   {
    "duration": 45,
    "start_time": "2022-03-09T15:18:28.942Z"
   },
   {
    "duration": 15,
    "start_time": "2022-03-09T15:18:28.991Z"
   },
   {
    "duration": 20,
    "start_time": "2022-03-09T15:18:29.009Z"
   },
   {
    "duration": 12,
    "start_time": "2022-03-09T15:18:29.031Z"
   },
   {
    "duration": 59,
    "start_time": "2022-03-09T15:18:29.045Z"
   },
   {
    "duration": 660,
    "start_time": "2022-03-09T15:18:29.106Z"
   },
   {
    "duration": 11,
    "start_time": "2022-03-09T15:18:29.773Z"
   },
   {
    "duration": 8137,
    "start_time": "2022-03-09T15:18:29.788Z"
   },
   {
    "duration": 27,
    "start_time": "2022-03-09T15:18:37.927Z"
   },
   {
    "duration": 33,
    "start_time": "2022-03-09T15:18:37.982Z"
   },
   {
    "duration": 24,
    "start_time": "2022-03-09T15:18:38.018Z"
   },
   {
    "duration": 57,
    "start_time": "2022-03-09T15:18:38.045Z"
   },
   {
    "duration": 13,
    "start_time": "2022-03-09T15:18:38.105Z"
   },
   {
    "duration": 997,
    "start_time": "2022-03-09T15:18:38.120Z"
   },
   {
    "duration": 64,
    "start_time": "2022-03-09T15:18:39.119Z"
   },
   {
    "duration": 36,
    "start_time": "2022-03-09T15:18:39.188Z"
   },
   {
    "duration": 15,
    "start_time": "2022-03-09T15:18:39.226Z"
   },
   {
    "duration": 35,
    "start_time": "2022-03-09T15:18:39.243Z"
   },
   {
    "duration": 510,
    "start_time": "2022-03-09T15:18:39.282Z"
   },
   {
    "duration": 19,
    "start_time": "2022-03-09T15:18:39.795Z"
   },
   {
    "duration": 282,
    "start_time": "2022-03-09T15:18:39.816Z"
   },
   {
    "duration": 14,
    "start_time": "2022-03-09T15:18:40.101Z"
   },
   {
    "duration": 548,
    "start_time": "2022-03-09T15:18:40.117Z"
   },
   {
    "duration": 28,
    "start_time": "2022-03-09T15:18:40.667Z"
   },
   {
    "duration": 290,
    "start_time": "2022-03-09T15:18:40.698Z"
   },
   {
    "duration": 17,
    "start_time": "2022-03-09T15:18:40.991Z"
   },
   {
    "duration": 10,
    "start_time": "2022-03-09T15:18:41.011Z"
   },
   {
    "duration": 7,
    "start_time": "2022-03-09T15:18:41.024Z"
   },
   {
    "duration": 3326,
    "start_time": "2022-03-09T15:18:41.033Z"
   },
   {
    "duration": 14,
    "start_time": "2022-03-09T15:18:44.363Z"
   },
   {
    "duration": 3398,
    "start_time": "2022-03-09T15:18:44.380Z"
   },
   {
    "duration": 9,
    "start_time": "2022-03-09T15:18:47.782Z"
   },
   {
    "duration": 17,
    "start_time": "2022-03-09T15:18:47.795Z"
   },
   {
    "duration": 2726,
    "start_time": "2022-03-09T15:18:47.816Z"
   },
   {
    "duration": 8,
    "start_time": "2022-03-09T15:18:50.545Z"
   },
   {
    "duration": 3190,
    "start_time": "2022-03-09T15:18:50.555Z"
   },
   {
    "duration": 9,
    "start_time": "2022-03-09T15:18:53.748Z"
   },
   {
    "duration": 30,
    "start_time": "2022-03-09T15:18:53.760Z"
   },
   {
    "duration": 2908,
    "start_time": "2022-03-09T15:18:53.795Z"
   },
   {
    "duration": 5,
    "start_time": "2022-03-09T15:18:56.706Z"
   },
   {
    "duration": 3243,
    "start_time": "2022-03-09T15:18:56.714Z"
   },
   {
    "duration": 29,
    "start_time": "2022-03-09T15:18:59.959Z"
   },
   {
    "duration": 521,
    "start_time": "2022-03-09T15:18:59.992Z"
   },
   {
    "duration": 29,
    "start_time": "2022-03-09T15:19:00.516Z"
   },
   {
    "duration": 56,
    "start_time": "2022-03-09T15:19:00.547Z"
   },
   {
    "duration": 26,
    "start_time": "2022-03-09T15:19:00.606Z"
   },
   {
    "duration": 63,
    "start_time": "2022-03-09T15:19:00.635Z"
   },
   {
    "duration": 24,
    "start_time": "2022-03-09T15:19:00.701Z"
   },
   {
    "duration": 67,
    "start_time": "2022-03-09T15:19:00.727Z"
   },
   {
    "duration": 336,
    "start_time": "2022-03-09T15:19:00.797Z"
   },
   {
    "duration": 472,
    "start_time": "2022-03-09T15:19:01.136Z"
   },
   {
    "duration": 341,
    "start_time": "2022-03-09T15:19:01.611Z"
   },
   {
    "duration": 50,
    "start_time": "2022-03-09T15:19:01.955Z"
   },
   {
    "duration": 8,
    "start_time": "2022-03-09T15:19:02.007Z"
   },
   {
    "duration": 48,
    "start_time": "2022-03-09T15:19:02.017Z"
   },
   {
    "duration": 11,
    "start_time": "2022-03-09T15:19:02.081Z"
   },
   {
    "duration": 388,
    "start_time": "2022-03-09T17:43:16.593Z"
   },
   {
    "duration": 1519,
    "start_time": "2022-03-09T17:43:19.185Z"
   },
   {
    "duration": 82,
    "start_time": "2022-03-09T17:43:20.706Z"
   },
   {
    "duration": 8,
    "start_time": "2022-03-09T17:43:20.792Z"
   },
   {
    "duration": 31,
    "start_time": "2022-03-09T17:43:20.803Z"
   },
   {
    "duration": 33,
    "start_time": "2022-03-09T17:43:20.837Z"
   },
   {
    "duration": 77,
    "start_time": "2022-03-09T17:43:20.873Z"
   },
   {
    "duration": 6,
    "start_time": "2022-03-09T17:43:20.952Z"
   },
   {
    "duration": 25,
    "start_time": "2022-03-09T17:43:20.962Z"
   },
   {
    "duration": 5,
    "start_time": "2022-03-09T17:43:20.991Z"
   },
   {
    "duration": 63,
    "start_time": "2022-03-09T17:43:20.998Z"
   },
   {
    "duration": 3,
    "start_time": "2022-03-09T17:43:21.064Z"
   },
   {
    "duration": 23,
    "start_time": "2022-03-09T17:43:21.069Z"
   },
   {
    "duration": 18,
    "start_time": "2022-03-09T17:43:21.095Z"
   },
   {
    "duration": 7,
    "start_time": "2022-03-09T17:43:21.131Z"
   },
   {
    "duration": 17,
    "start_time": "2022-03-09T17:43:21.142Z"
   },
   {
    "duration": 24,
    "start_time": "2022-03-09T17:43:21.163Z"
   },
   {
    "duration": 16,
    "start_time": "2022-03-09T17:43:21.190Z"
   },
   {
    "duration": 37,
    "start_time": "2022-03-09T17:43:21.209Z"
   },
   {
    "duration": 17,
    "start_time": "2022-03-09T17:43:21.248Z"
   },
   {
    "duration": 22,
    "start_time": "2022-03-09T17:43:21.267Z"
   },
   {
    "duration": 7,
    "start_time": "2022-03-09T17:43:21.291Z"
   },
   {
    "duration": 51,
    "start_time": "2022-03-09T17:43:21.300Z"
   },
   {
    "duration": 541,
    "start_time": "2022-03-09T17:43:21.358Z"
   },
   {
    "duration": 5,
    "start_time": "2022-03-09T17:43:21.903Z"
   },
   {
    "duration": 7649,
    "start_time": "2022-03-09T17:43:21.910Z"
   },
   {
    "duration": 26,
    "start_time": "2022-03-09T17:43:29.561Z"
   },
   {
    "duration": 47,
    "start_time": "2022-03-09T17:43:29.589Z"
   },
   {
    "duration": 25,
    "start_time": "2022-03-09T17:43:29.639Z"
   },
   {
    "duration": 25,
    "start_time": "2022-03-09T17:43:29.666Z"
   },
   {
    "duration": 39,
    "start_time": "2022-03-09T17:43:29.693Z"
   },
   {
    "duration": 856,
    "start_time": "2022-03-09T17:43:29.735Z"
   },
   {
    "duration": 50,
    "start_time": "2022-03-09T17:43:30.594Z"
   },
   {
    "duration": 26,
    "start_time": "2022-03-09T17:43:30.646Z"
   },
   {
    "duration": 14,
    "start_time": "2022-03-09T17:43:30.674Z"
   },
   {
    "duration": 41,
    "start_time": "2022-03-09T17:43:30.691Z"
   },
   {
    "duration": 453,
    "start_time": "2022-03-09T17:43:30.735Z"
   },
   {
    "duration": 19,
    "start_time": "2022-03-09T17:43:31.191Z"
   },
   {
    "duration": 273,
    "start_time": "2022-03-09T17:43:31.212Z"
   },
   {
    "duration": 21,
    "start_time": "2022-03-09T17:43:31.488Z"
   },
   {
    "duration": 457,
    "start_time": "2022-03-09T17:43:31.512Z"
   },
   {
    "duration": 14,
    "start_time": "2022-03-09T17:43:31.972Z"
   },
   {
    "duration": 249,
    "start_time": "2022-03-09T17:43:31.988Z"
   },
   {
    "duration": 15,
    "start_time": "2022-03-09T17:43:32.239Z"
   },
   {
    "duration": 9,
    "start_time": "2022-03-09T17:43:32.256Z"
   },
   {
    "duration": 6,
    "start_time": "2022-03-09T17:43:32.267Z"
   },
   {
    "duration": 2930,
    "start_time": "2022-03-09T17:43:32.276Z"
   },
   {
    "duration": 6,
    "start_time": "2022-03-09T17:43:35.208Z"
   },
   {
    "duration": 3037,
    "start_time": "2022-03-09T17:43:35.217Z"
   },
   {
    "duration": 8,
    "start_time": "2022-03-09T17:43:38.256Z"
   },
   {
    "duration": 19,
    "start_time": "2022-03-09T17:43:38.266Z"
   },
   {
    "duration": 2348,
    "start_time": "2022-03-09T17:43:38.287Z"
   },
   {
    "duration": 6,
    "start_time": "2022-03-09T17:43:40.637Z"
   },
   {
    "duration": 2787,
    "start_time": "2022-03-09T17:43:40.645Z"
   },
   {
    "duration": 8,
    "start_time": "2022-03-09T17:43:43.434Z"
   },
   {
    "duration": 7,
    "start_time": "2022-03-09T17:43:43.444Z"
   },
   {
    "duration": 2547,
    "start_time": "2022-03-09T17:43:43.454Z"
   },
   {
    "duration": 6,
    "start_time": "2022-03-09T17:43:46.004Z"
   },
   {
    "duration": 2669,
    "start_time": "2022-03-09T17:43:46.012Z"
   },
   {
    "duration": 18,
    "start_time": "2022-03-09T17:43:48.683Z"
   },
   {
    "duration": 444,
    "start_time": "2022-03-09T17:43:48.704Z"
   },
   {
    "duration": 27,
    "start_time": "2022-03-09T17:43:49.150Z"
   },
   {
    "duration": 24,
    "start_time": "2022-03-09T17:43:49.179Z"
   },
   {
    "duration": 26,
    "start_time": "2022-03-09T17:43:49.233Z"
   },
   {
    "duration": 23,
    "start_time": "2022-03-09T17:43:49.262Z"
   },
   {
    "duration": 55,
    "start_time": "2022-03-09T17:43:49.288Z"
   },
   {
    "duration": 21,
    "start_time": "2022-03-09T17:43:49.346Z"
   },
   {
    "duration": 307,
    "start_time": "2022-03-09T17:43:49.369Z"
   },
   {
    "duration": 407,
    "start_time": "2022-03-09T17:43:49.683Z"
   },
   {
    "duration": 303,
    "start_time": "2022-03-09T17:43:50.092Z"
   },
   {
    "duration": 41,
    "start_time": "2022-03-09T17:43:50.397Z"
   },
   {
    "duration": 7,
    "start_time": "2022-03-09T17:43:50.441Z"
   },
   {
    "duration": 37,
    "start_time": "2022-03-09T17:43:50.451Z"
   },
   {
    "duration": 7,
    "start_time": "2022-03-09T17:43:50.491Z"
   },
   {
    "duration": 1573,
    "start_time": "2022-03-10T13:47:18.387Z"
   },
   {
    "duration": 86,
    "start_time": "2022-03-10T13:47:19.963Z"
   },
   {
    "duration": 20,
    "start_time": "2022-03-10T13:47:20.054Z"
   },
   {
    "duration": 16,
    "start_time": "2022-03-10T13:47:20.077Z"
   },
   {
    "duration": 48,
    "start_time": "2022-03-10T13:47:20.096Z"
   },
   {
    "duration": 64,
    "start_time": "2022-03-10T13:47:20.147Z"
   },
   {
    "duration": 5,
    "start_time": "2022-03-10T13:47:20.214Z"
   },
   {
    "duration": 42,
    "start_time": "2022-03-10T13:47:20.223Z"
   },
   {
    "duration": 21,
    "start_time": "2022-03-10T13:47:20.268Z"
   },
   {
    "duration": 48,
    "start_time": "2022-03-10T13:47:20.291Z"
   },
   {
    "duration": 3,
    "start_time": "2022-03-10T13:47:20.341Z"
   },
   {
    "duration": 17,
    "start_time": "2022-03-10T13:47:20.347Z"
   },
   {
    "duration": 13,
    "start_time": "2022-03-10T13:47:20.367Z"
   },
   {
    "duration": 13,
    "start_time": "2022-03-10T13:47:20.383Z"
   },
   {
    "duration": 14,
    "start_time": "2022-03-10T13:47:20.399Z"
   },
   {
    "duration": 15,
    "start_time": "2022-03-10T13:47:20.417Z"
   },
   {
    "duration": 41,
    "start_time": "2022-03-10T13:47:20.434Z"
   },
   {
    "duration": 29,
    "start_time": "2022-03-10T13:47:20.478Z"
   },
   {
    "duration": 29,
    "start_time": "2022-03-10T13:47:20.510Z"
   },
   {
    "duration": 22,
    "start_time": "2022-03-10T13:47:20.542Z"
   },
   {
    "duration": 10,
    "start_time": "2022-03-10T13:47:20.573Z"
   },
   {
    "duration": 41,
    "start_time": "2022-03-10T13:47:20.585Z"
   },
   {
    "duration": 500,
    "start_time": "2022-03-10T13:47:20.633Z"
   },
   {
    "duration": 5,
    "start_time": "2022-03-10T13:47:21.137Z"
   },
   {
    "duration": 7456,
    "start_time": "2022-03-10T13:47:21.145Z"
   },
   {
    "duration": 25,
    "start_time": "2022-03-10T13:47:28.604Z"
   },
   {
    "duration": 51,
    "start_time": "2022-03-10T13:47:28.632Z"
   },
   {
    "duration": 25,
    "start_time": "2022-03-10T13:47:28.686Z"
   },
   {
    "duration": 421,
    "start_time": "2022-03-10T13:47:28.714Z"
   },
   {
    "duration": -1662,
    "start_time": "2022-03-10T13:47:30.800Z"
   },
   {
    "duration": -1667,
    "start_time": "2022-03-10T13:47:30.807Z"
   },
   {
    "duration": -1706,
    "start_time": "2022-03-10T13:47:30.848Z"
   },
   {
    "duration": -1708,
    "start_time": "2022-03-10T13:47:30.852Z"
   },
   {
    "duration": -1724,
    "start_time": "2022-03-10T13:47:30.870Z"
   },
   {
    "duration": -1725,
    "start_time": "2022-03-10T13:47:30.873Z"
   },
   {
    "duration": -1829,
    "start_time": "2022-03-10T13:47:30.979Z"
   },
   {
    "duration": -1829,
    "start_time": "2022-03-10T13:47:30.982Z"
   },
   {
    "duration": -1892,
    "start_time": "2022-03-10T13:47:31.047Z"
   },
   {
    "duration": -1902,
    "start_time": "2022-03-10T13:47:31.059Z"
   },
   {
    "duration": -1906,
    "start_time": "2022-03-10T13:47:31.065Z"
   },
   {
    "duration": -1912,
    "start_time": "2022-03-10T13:47:31.073Z"
   },
   {
    "duration": -1914,
    "start_time": "2022-03-10T13:47:31.077Z"
   },
   {
    "duration": -1921,
    "start_time": "2022-03-10T13:47:31.086Z"
   },
   {
    "duration": -1922,
    "start_time": "2022-03-10T13:47:31.089Z"
   },
   {
    "duration": -1924,
    "start_time": "2022-03-10T13:47:31.093Z"
   },
   {
    "duration": -1964,
    "start_time": "2022-03-10T13:47:31.135Z"
   },
   {
    "duration": -1971,
    "start_time": "2022-03-10T13:47:31.144Z"
   },
   {
    "duration": -1978,
    "start_time": "2022-03-10T13:47:31.153Z"
   },
   {
    "duration": -1979,
    "start_time": "2022-03-10T13:47:31.156Z"
   },
   {
    "duration": -1981,
    "start_time": "2022-03-10T13:47:31.160Z"
   },
   {
    "duration": -1983,
    "start_time": "2022-03-10T13:47:31.164Z"
   },
   {
    "duration": -2009,
    "start_time": "2022-03-10T13:47:31.192Z"
   },
   {
    "duration": -2010,
    "start_time": "2022-03-10T13:47:31.195Z"
   },
   {
    "duration": -2029,
    "start_time": "2022-03-10T13:47:31.216Z"
   },
   {
    "duration": -2030,
    "start_time": "2022-03-10T13:47:31.219Z"
   },
   {
    "duration": -2032,
    "start_time": "2022-03-10T13:47:31.223Z"
   },
   {
    "duration": -2033,
    "start_time": "2022-03-10T13:47:31.226Z"
   },
   {
    "duration": -2087,
    "start_time": "2022-03-10T13:47:31.282Z"
   },
   {
    "duration": -2089,
    "start_time": "2022-03-10T13:47:31.286Z"
   },
   {
    "duration": -2091,
    "start_time": "2022-03-10T13:47:31.290Z"
   },
   {
    "duration": -2092,
    "start_time": "2022-03-10T13:47:31.293Z"
   },
   {
    "duration": -2094,
    "start_time": "2022-03-10T13:47:31.297Z"
   },
   {
    "duration": -2142,
    "start_time": "2022-03-10T13:47:31.348Z"
   },
   {
    "duration": -2145,
    "start_time": "2022-03-10T13:47:31.353Z"
   },
   {
    "duration": -2146,
    "start_time": "2022-03-10T13:47:31.356Z"
   },
   {
    "duration": -2147,
    "start_time": "2022-03-10T13:47:31.359Z"
   },
   {
    "duration": -2147,
    "start_time": "2022-03-10T13:47:31.362Z"
   },
   {
    "duration": -2094,
    "start_time": "2022-03-10T13:47:31.367Z"
   },
   {
    "duration": -2094,
    "start_time": "2022-03-10T13:47:31.370Z"
   },
   {
    "duration": -2096,
    "start_time": "2022-03-10T13:47:31.374Z"
   },
   {
    "duration": -2096,
    "start_time": "2022-03-10T13:47:31.377Z"
   },
   {
    "duration": -2098,
    "start_time": "2022-03-10T13:47:31.381Z"
   },
   {
    "duration": -2099,
    "start_time": "2022-03-10T13:47:31.384Z"
   },
   {
    "duration": -2101,
    "start_time": "2022-03-10T13:47:31.388Z"
   },
   {
    "duration": 313,
    "start_time": "2022-03-10T13:47:54.214Z"
   },
   {
    "duration": 291,
    "start_time": "2022-03-10T14:01:26.423Z"
   },
   {
    "duration": 298,
    "start_time": "2022-03-10T14:02:37.647Z"
   },
   {
    "duration": 17,
    "start_time": "2022-03-10T14:02:53.052Z"
   },
   {
    "duration": 311,
    "start_time": "2022-03-10T14:14:41.760Z"
   },
   {
    "duration": 333,
    "start_time": "2022-03-10T14:28:14.297Z"
   },
   {
    "duration": 4,
    "start_time": "2022-03-10T14:28:24.206Z"
   },
   {
    "duration": 18,
    "start_time": "2022-03-10T14:28:25.215Z"
   },
   {
    "duration": 5,
    "start_time": "2022-03-10T14:28:38.759Z"
   },
   {
    "duration": 117,
    "start_time": "2022-03-10T14:28:38.767Z"
   },
   {
    "duration": 9,
    "start_time": "2022-03-10T14:28:38.888Z"
   },
   {
    "duration": 12,
    "start_time": "2022-03-10T14:28:38.900Z"
   },
   {
    "duration": 98,
    "start_time": "2022-03-10T14:28:38.915Z"
   },
   {
    "duration": 91,
    "start_time": "2022-03-10T14:28:39.016Z"
   },
   {
    "duration": 6,
    "start_time": "2022-03-10T14:28:39.114Z"
   },
   {
    "duration": 52,
    "start_time": "2022-03-10T14:28:39.124Z"
   },
   {
    "duration": 3,
    "start_time": "2022-03-10T14:28:39.179Z"
   },
   {
    "duration": 35,
    "start_time": "2022-03-10T14:28:39.184Z"
   },
   {
    "duration": 4,
    "start_time": "2022-03-10T14:28:39.221Z"
   },
   {
    "duration": 49,
    "start_time": "2022-03-10T14:28:39.228Z"
   },
   {
    "duration": 22,
    "start_time": "2022-03-10T14:28:39.280Z"
   },
   {
    "duration": 13,
    "start_time": "2022-03-10T14:28:39.305Z"
   },
   {
    "duration": 19,
    "start_time": "2022-03-10T14:28:39.321Z"
   },
   {
    "duration": 30,
    "start_time": "2022-03-10T14:28:39.343Z"
   },
   {
    "duration": 12,
    "start_time": "2022-03-10T14:28:39.376Z"
   },
   {
    "duration": 13,
    "start_time": "2022-03-10T14:28:39.390Z"
   },
   {
    "duration": 18,
    "start_time": "2022-03-10T14:28:39.408Z"
   },
   {
    "duration": 55,
    "start_time": "2022-03-10T14:28:39.430Z"
   },
   {
    "duration": 19,
    "start_time": "2022-03-10T14:28:39.488Z"
   },
   {
    "duration": 51,
    "start_time": "2022-03-10T14:28:39.510Z"
   },
   {
    "duration": 519,
    "start_time": "2022-03-10T14:28:39.564Z"
   },
   {
    "duration": 8,
    "start_time": "2022-03-10T14:28:40.086Z"
   },
   {
    "duration": 10839,
    "start_time": "2022-03-10T14:28:40.097Z"
   },
   {
    "duration": 49,
    "start_time": "2022-03-10T14:28:50.939Z"
   },
   {
    "duration": 27,
    "start_time": "2022-03-10T14:28:50.992Z"
   },
   {
    "duration": 54,
    "start_time": "2022-03-10T14:28:51.021Z"
   },
   {
    "duration": 20,
    "start_time": "2022-03-10T14:28:51.077Z"
   },
   {
    "duration": 15,
    "start_time": "2022-03-10T14:28:51.099Z"
   },
   {
    "duration": 21,
    "start_time": "2022-03-10T14:28:51.116Z"
   },
   {
    "duration": 51,
    "start_time": "2022-03-10T14:28:51.141Z"
   },
   {
    "duration": 9,
    "start_time": "2022-03-10T14:28:51.195Z"
   },
   {
    "duration": 1066,
    "start_time": "2022-03-10T14:28:51.207Z"
   },
   {
    "duration": 37,
    "start_time": "2022-03-10T14:28:52.275Z"
   },
   {
    "duration": 23,
    "start_time": "2022-03-10T14:28:52.314Z"
   },
   {
    "duration": 40,
    "start_time": "2022-03-10T14:28:52.340Z"
   },
   {
    "duration": 26,
    "start_time": "2022-03-10T14:28:52.383Z"
   },
   {
    "duration": 454,
    "start_time": "2022-03-10T14:28:52.412Z"
   },
   {
    "duration": 22,
    "start_time": "2022-03-10T14:28:52.869Z"
   },
   {
    "duration": 267,
    "start_time": "2022-03-10T14:28:52.894Z"
   },
   {
    "duration": 21,
    "start_time": "2022-03-10T14:28:53.164Z"
   },
   {
    "duration": 254,
    "start_time": "2022-03-10T14:28:53.189Z"
   },
   {
    "duration": 15,
    "start_time": "2022-03-10T14:28:53.445Z"
   },
   {
    "duration": 260,
    "start_time": "2022-03-10T14:28:53.474Z"
   },
   {
    "duration": 16,
    "start_time": "2022-03-10T14:28:53.737Z"
   },
   {
    "duration": 13,
    "start_time": "2022-03-10T14:28:53.775Z"
   },
   {
    "duration": 8,
    "start_time": "2022-03-10T14:28:53.793Z"
   },
   {
    "duration": 3079,
    "start_time": "2022-03-10T14:28:53.806Z"
   },
   {
    "duration": 6,
    "start_time": "2022-03-10T14:28:56.889Z"
   },
   {
    "duration": 4459,
    "start_time": "2022-03-10T14:28:56.899Z"
   },
   {
    "duration": 16,
    "start_time": "2022-03-10T14:29:01.361Z"
   },
   {
    "duration": 22,
    "start_time": "2022-03-10T14:29:01.380Z"
   },
   {
    "duration": 2459,
    "start_time": "2022-03-10T14:29:01.404Z"
   },
   {
    "duration": 7,
    "start_time": "2022-03-10T14:29:03.876Z"
   },
   {
    "duration": 2867,
    "start_time": "2022-03-10T14:29:03.888Z"
   },
   {
    "duration": 15,
    "start_time": "2022-03-10T14:29:06.757Z"
   },
   {
    "duration": 8,
    "start_time": "2022-03-10T14:29:06.776Z"
   },
   {
    "duration": 2595,
    "start_time": "2022-03-10T14:29:06.787Z"
   },
   {
    "duration": 8,
    "start_time": "2022-03-10T14:29:09.385Z"
   },
   {
    "duration": 2787,
    "start_time": "2022-03-10T14:29:09.396Z"
   },
   {
    "duration": 18,
    "start_time": "2022-03-10T14:29:12.185Z"
   },
   {
    "duration": 458,
    "start_time": "2022-03-10T14:29:12.206Z"
   },
   {
    "duration": 30,
    "start_time": "2022-03-10T14:29:12.675Z"
   },
   {
    "duration": 31,
    "start_time": "2022-03-10T14:29:12.709Z"
   },
   {
    "duration": 26,
    "start_time": "2022-03-10T14:29:12.774Z"
   },
   {
    "duration": 26,
    "start_time": "2022-03-10T14:29:12.803Z"
   },
   {
    "duration": 57,
    "start_time": "2022-03-10T14:29:12.831Z"
   },
   {
    "duration": 25,
    "start_time": "2022-03-10T14:29:12.891Z"
   },
   {
    "duration": 324,
    "start_time": "2022-03-10T14:29:12.918Z"
   },
   {
    "duration": 308,
    "start_time": "2022-03-10T14:29:13.245Z"
   },
   {
    "duration": 318,
    "start_time": "2022-03-10T14:29:13.555Z"
   },
   {
    "duration": 32,
    "start_time": "2022-03-10T14:29:13.876Z"
   },
   {
    "duration": 8,
    "start_time": "2022-03-10T14:29:13.910Z"
   },
   {
    "duration": 71,
    "start_time": "2022-03-10T14:29:13.920Z"
   },
   {
    "duration": 10,
    "start_time": "2022-03-10T14:29:13.993Z"
   },
   {
    "duration": 20,
    "start_time": "2022-03-10T14:32:36.540Z"
   },
   {
    "duration": 50,
    "start_time": "2022-03-10T14:35:23.430Z"
   },
   {
    "duration": 18,
    "start_time": "2022-03-10T15:01:41.352Z"
   },
   {
    "duration": 18,
    "start_time": "2022-03-10T15:01:57.123Z"
   },
   {
    "duration": 5,
    "start_time": "2022-03-10T15:02:46.586Z"
   },
   {
    "duration": 87,
    "start_time": "2022-03-10T15:02:46.593Z"
   },
   {
    "duration": 7,
    "start_time": "2022-03-10T15:02:46.683Z"
   },
   {
    "duration": 8,
    "start_time": "2022-03-10T15:02:46.692Z"
   },
   {
    "duration": 30,
    "start_time": "2022-03-10T15:02:46.703Z"
   },
   {
    "duration": 51,
    "start_time": "2022-03-10T15:02:46.772Z"
   },
   {
    "duration": 7,
    "start_time": "2022-03-10T15:02:46.826Z"
   },
   {
    "duration": 23,
    "start_time": "2022-03-10T15:02:46.875Z"
   },
   {
    "duration": 9,
    "start_time": "2022-03-10T15:02:46.901Z"
   },
   {
    "duration": 60,
    "start_time": "2022-03-10T15:02:46.913Z"
   },
   {
    "duration": 3,
    "start_time": "2022-03-10T15:02:46.976Z"
   },
   {
    "duration": 8,
    "start_time": "2022-03-10T15:02:46.982Z"
   },
   {
    "duration": 10,
    "start_time": "2022-03-10T15:02:46.992Z"
   },
   {
    "duration": 7,
    "start_time": "2022-03-10T15:02:47.005Z"
   },
   {
    "duration": 12,
    "start_time": "2022-03-10T15:02:47.014Z"
   },
   {
    "duration": 50,
    "start_time": "2022-03-10T15:02:47.029Z"
   },
   {
    "duration": 12,
    "start_time": "2022-03-10T15:02:47.081Z"
   },
   {
    "duration": 10,
    "start_time": "2022-03-10T15:02:47.096Z"
   },
   {
    "duration": 13,
    "start_time": "2022-03-10T15:02:47.112Z"
   },
   {
    "duration": 62,
    "start_time": "2022-03-10T15:02:47.129Z"
   },
   {
    "duration": 6,
    "start_time": "2022-03-10T15:02:47.194Z"
   },
   {
    "duration": 28,
    "start_time": "2022-03-10T15:02:47.202Z"
   },
   {
    "duration": 543,
    "start_time": "2022-03-10T15:02:47.232Z"
   },
   {
    "duration": 5,
    "start_time": "2022-03-10T15:02:47.778Z"
   },
   {
    "duration": 7626,
    "start_time": "2022-03-10T15:02:47.786Z"
   },
   {
    "duration": 27,
    "start_time": "2022-03-10T15:02:55.414Z"
   },
   {
    "duration": 46,
    "start_time": "2022-03-10T15:02:55.443Z"
   },
   {
    "duration": 22,
    "start_time": "2022-03-10T15:02:55.492Z"
   },
   {
    "duration": 18,
    "start_time": "2022-03-10T15:02:55.516Z"
   },
   {
    "duration": 37,
    "start_time": "2022-03-10T15:02:55.537Z"
   },
   {
    "duration": 24,
    "start_time": "2022-03-10T15:02:55.577Z"
   },
   {
    "duration": 23,
    "start_time": "2022-03-10T15:02:55.604Z"
   },
   {
    "duration": 46,
    "start_time": "2022-03-10T15:02:55.630Z"
   },
   {
    "duration": 838,
    "start_time": "2022-03-10T15:02:55.678Z"
   },
   {
    "duration": 55,
    "start_time": "2022-03-10T15:02:56.518Z"
   },
   {
    "duration": 22,
    "start_time": "2022-03-10T15:02:56.575Z"
   },
   {
    "duration": 23,
    "start_time": "2022-03-10T15:02:56.599Z"
   },
   {
    "duration": 26,
    "start_time": "2022-03-10T15:02:56.625Z"
   },
   {
    "duration": 452,
    "start_time": "2022-03-10T15:02:56.653Z"
   },
   {
    "duration": 19,
    "start_time": "2022-03-10T15:02:57.107Z"
   },
   {
    "duration": 513,
    "start_time": "2022-03-10T15:02:57.129Z"
   },
   {
    "duration": 14,
    "start_time": "2022-03-10T15:02:57.645Z"
   },
   {
    "duration": 263,
    "start_time": "2022-03-10T15:02:57.674Z"
   },
   {
    "duration": 14,
    "start_time": "2022-03-10T15:02:57.940Z"
   },
   {
    "duration": 270,
    "start_time": "2022-03-10T15:02:57.956Z"
   },
   {
    "duration": 15,
    "start_time": "2022-03-10T15:02:58.229Z"
   },
   {
    "duration": 31,
    "start_time": "2022-03-10T15:02:58.247Z"
   },
   {
    "duration": 15,
    "start_time": "2022-03-10T15:02:58.281Z"
   },
   {
    "duration": 3077,
    "start_time": "2022-03-10T15:02:58.299Z"
   },
   {
    "duration": 6,
    "start_time": "2022-03-10T15:03:01.378Z"
   },
   {
    "duration": 3075,
    "start_time": "2022-03-10T15:03:01.387Z"
   },
   {
    "duration": 12,
    "start_time": "2022-03-10T15:03:04.464Z"
   },
   {
    "duration": 9,
    "start_time": "2022-03-10T15:03:04.479Z"
   },
   {
    "duration": 2448,
    "start_time": "2022-03-10T15:03:04.490Z"
   },
   {
    "duration": 9,
    "start_time": "2022-03-10T15:03:06.945Z"
   },
   {
    "duration": 2836,
    "start_time": "2022-03-10T15:03:06.957Z"
   },
   {
    "duration": 8,
    "start_time": "2022-03-10T15:03:09.795Z"
   },
   {
    "duration": 15,
    "start_time": "2022-03-10T15:03:09.805Z"
   },
   {
    "duration": 2640,
    "start_time": "2022-03-10T15:03:09.823Z"
   },
   {
    "duration": 7,
    "start_time": "2022-03-10T15:03:12.474Z"
   },
   {
    "duration": 2934,
    "start_time": "2022-03-10T15:03:12.484Z"
   },
   {
    "duration": 18,
    "start_time": "2022-03-10T15:03:15.421Z"
   },
   {
    "duration": 441,
    "start_time": "2022-03-10T15:03:15.442Z"
   },
   {
    "duration": 27,
    "start_time": "2022-03-10T15:03:15.886Z"
   },
   {
    "duration": 28,
    "start_time": "2022-03-10T15:03:15.915Z"
   },
   {
    "duration": 61,
    "start_time": "2022-03-10T15:03:15.946Z"
   },
   {
    "duration": 35,
    "start_time": "2022-03-10T15:03:16.010Z"
   },
   {
    "duration": 205,
    "start_time": "2022-03-10T15:03:16.074Z"
   },
   {
    "duration": 24,
    "start_time": "2022-03-10T15:03:16.282Z"
   },
   {
    "duration": 322,
    "start_time": "2022-03-10T15:03:16.309Z"
   },
   {
    "duration": 304,
    "start_time": "2022-03-10T15:03:16.634Z"
   },
   {
    "duration": 313,
    "start_time": "2022-03-10T15:03:16.941Z"
   },
   {
    "duration": 39,
    "start_time": "2022-03-10T15:03:17.256Z"
   },
   {
    "duration": 8,
    "start_time": "2022-03-10T15:03:17.297Z"
   },
   {
    "duration": 40,
    "start_time": "2022-03-10T15:03:17.308Z"
   },
   {
    "duration": 29,
    "start_time": "2022-03-10T15:03:17.350Z"
   },
   {
    "duration": 7,
    "start_time": "2022-03-10T15:07:37.429Z"
   },
   {
    "duration": 27,
    "start_time": "2022-03-10T15:07:46.499Z"
   },
   {
    "duration": 20,
    "start_time": "2022-03-10T15:07:59.793Z"
   },
   {
    "duration": 7,
    "start_time": "2022-03-10T15:08:02.939Z"
   },
   {
    "duration": 19,
    "start_time": "2022-03-10T15:09:07.635Z"
   },
   {
    "duration": 17,
    "start_time": "2022-03-10T15:10:12.987Z"
   },
   {
    "duration": 21,
    "start_time": "2022-03-10T15:11:23.229Z"
   },
   {
    "duration": 23,
    "start_time": "2022-03-10T15:11:40.453Z"
   },
   {
    "duration": 18,
    "start_time": "2022-03-10T15:13:07.535Z"
   },
   {
    "duration": 3,
    "start_time": "2022-03-10T15:13:44.127Z"
   },
   {
    "duration": 24,
    "start_time": "2022-03-10T15:22:03.382Z"
   },
   {
    "duration": 1075,
    "start_time": "2022-03-10T15:26:03.158Z"
   },
   {
    "duration": 977,
    "start_time": "2022-03-10T15:26:19.343Z"
   },
   {
    "duration": 36,
    "start_time": "2022-03-10T18:29:18.847Z"
   },
   {
    "duration": 26,
    "start_time": "2022-03-10T19:46:20.226Z"
   },
   {
    "duration": 30,
    "start_time": "2022-03-10T19:47:06.258Z"
   },
   {
    "duration": 37,
    "start_time": "2022-03-10T19:47:25.898Z"
   },
   {
    "duration": 1499,
    "start_time": "2022-03-11T08:11:57.155Z"
   },
   {
    "duration": 85,
    "start_time": "2022-03-11T08:11:58.657Z"
   },
   {
    "duration": 7,
    "start_time": "2022-03-11T08:11:58.746Z"
   },
   {
    "duration": 31,
    "start_time": "2022-03-11T08:11:58.757Z"
   },
   {
    "duration": 39,
    "start_time": "2022-03-11T08:11:58.790Z"
   },
   {
    "duration": 74,
    "start_time": "2022-03-11T08:11:58.832Z"
   },
   {
    "duration": 5,
    "start_time": "2022-03-11T08:11:58.908Z"
   },
   {
    "duration": 18,
    "start_time": "2022-03-11T08:11:58.917Z"
   },
   {
    "duration": 6,
    "start_time": "2022-03-11T08:11:58.938Z"
   },
   {
    "duration": 60,
    "start_time": "2022-03-11T08:11:58.946Z"
   },
   {
    "duration": 3,
    "start_time": "2022-03-11T08:11:59.010Z"
   },
   {
    "duration": 9,
    "start_time": "2022-03-11T08:11:59.016Z"
   },
   {
    "duration": 10,
    "start_time": "2022-03-11T08:11:59.027Z"
   },
   {
    "duration": 8,
    "start_time": "2022-03-11T08:11:59.039Z"
   },
   {
    "duration": 39,
    "start_time": "2022-03-11T08:11:59.050Z"
   },
   {
    "duration": 24,
    "start_time": "2022-03-11T08:11:59.092Z"
   },
   {
    "duration": 18,
    "start_time": "2022-03-11T08:11:59.119Z"
   },
   {
    "duration": 14,
    "start_time": "2022-03-11T08:11:59.139Z"
   },
   {
    "duration": 40,
    "start_time": "2022-03-11T08:11:59.155Z"
   },
   {
    "duration": 21,
    "start_time": "2022-03-11T08:11:59.198Z"
   },
   {
    "duration": 6,
    "start_time": "2022-03-11T08:11:59.222Z"
   },
   {
    "duration": 55,
    "start_time": "2022-03-11T08:11:59.230Z"
   },
   {
    "duration": 510,
    "start_time": "2022-03-11T08:11:59.292Z"
   },
   {
    "duration": 6,
    "start_time": "2022-03-11T08:11:59.806Z"
   },
   {
    "duration": 8156,
    "start_time": "2022-03-11T08:11:59.815Z"
   },
   {
    "duration": 40,
    "start_time": "2022-03-11T08:12:07.973Z"
   },
   {
    "duration": 24,
    "start_time": "2022-03-11T08:12:08.015Z"
   },
   {
    "duration": 61,
    "start_time": "2022-03-11T08:12:08.042Z"
   },
   {
    "duration": 17,
    "start_time": "2022-03-11T08:12:08.106Z"
   },
   {
    "duration": 40,
    "start_time": "2022-03-11T08:12:08.125Z"
   },
   {
    "duration": 18,
    "start_time": "2022-03-11T08:12:08.168Z"
   },
   {
    "duration": 25,
    "start_time": "2022-03-11T08:12:08.189Z"
   },
   {
    "duration": 454,
    "start_time": "2022-03-11T08:12:08.217Z"
   },
   {
    "duration": -561,
    "start_time": "2022-03-11T08:12:09.235Z"
   },
   {
    "duration": -563,
    "start_time": "2022-03-11T08:12:09.239Z"
   },
   {
    "duration": -565,
    "start_time": "2022-03-11T08:12:09.242Z"
   },
   {
    "duration": -567,
    "start_time": "2022-03-11T08:12:09.245Z"
   },
   {
    "duration": -568,
    "start_time": "2022-03-11T08:12:09.248Z"
   },
   {
    "duration": -578,
    "start_time": "2022-03-11T08:12:09.260Z"
   },
   {
    "duration": -578,
    "start_time": "2022-03-11T08:12:09.263Z"
   },
   {
    "duration": -580,
    "start_time": "2022-03-11T08:12:09.267Z"
   },
   {
    "duration": -580,
    "start_time": "2022-03-11T08:12:09.270Z"
   },
   {
    "duration": -580,
    "start_time": "2022-03-11T08:12:09.273Z"
   },
   {
    "duration": -582,
    "start_time": "2022-03-11T08:12:09.277Z"
   },
   {
    "duration": -583,
    "start_time": "2022-03-11T08:12:09.281Z"
   },
   {
    "duration": -584,
    "start_time": "2022-03-11T08:12:09.284Z"
   },
   {
    "duration": -585,
    "start_time": "2022-03-11T08:12:09.287Z"
   },
   {
    "duration": -587,
    "start_time": "2022-03-11T08:12:09.290Z"
   },
   {
    "duration": -589,
    "start_time": "2022-03-11T08:12:09.294Z"
   },
   {
    "duration": -591,
    "start_time": "2022-03-11T08:12:09.297Z"
   },
   {
    "duration": -593,
    "start_time": "2022-03-11T08:12:09.301Z"
   },
   {
    "duration": -595,
    "start_time": "2022-03-11T08:12:09.304Z"
   },
   {
    "duration": -597,
    "start_time": "2022-03-11T08:12:09.308Z"
   },
   {
    "duration": -598,
    "start_time": "2022-03-11T08:12:09.311Z"
   },
   {
    "duration": -600,
    "start_time": "2022-03-11T08:12:09.315Z"
   },
   {
    "duration": -601,
    "start_time": "2022-03-11T08:12:09.318Z"
   },
   {
    "duration": -604,
    "start_time": "2022-03-11T08:12:09.322Z"
   },
   {
    "duration": -605,
    "start_time": "2022-03-11T08:12:09.325Z"
   },
   {
    "duration": -608,
    "start_time": "2022-03-11T08:12:09.329Z"
   },
   {
    "duration": -608,
    "start_time": "2022-03-11T08:12:09.331Z"
   },
   {
    "duration": -610,
    "start_time": "2022-03-11T08:12:09.335Z"
   },
   {
    "duration": -621,
    "start_time": "2022-03-11T08:12:09.347Z"
   },
   {
    "duration": -564,
    "start_time": "2022-03-11T08:12:09.351Z"
   },
   {
    "duration": -565,
    "start_time": "2022-03-11T08:12:09.354Z"
   },
   {
    "duration": -565,
    "start_time": "2022-03-11T08:12:09.357Z"
   },
   {
    "duration": -567,
    "start_time": "2022-03-11T08:12:09.361Z"
   },
   {
    "duration": -567,
    "start_time": "2022-03-11T08:12:09.365Z"
   },
   {
    "duration": -568,
    "start_time": "2022-03-11T08:12:09.368Z"
   },
   {
    "duration": -570,
    "start_time": "2022-03-11T08:12:09.372Z"
   },
   {
    "duration": -572,
    "start_time": "2022-03-11T08:12:09.376Z"
   },
   {
    "duration": -574,
    "start_time": "2022-03-11T08:12:09.380Z"
   },
   {
    "duration": -609,
    "start_time": "2022-03-11T08:12:09.417Z"
   },
   {
    "duration": -610,
    "start_time": "2022-03-11T08:12:09.420Z"
   },
   {
    "duration": -702,
    "start_time": "2022-03-11T08:12:09.514Z"
   },
   {
    "duration": -721,
    "start_time": "2022-03-11T08:12:09.536Z"
   },
   {
    "duration": -723,
    "start_time": "2022-03-11T08:12:09.539Z"
   },
   {
    "duration": -730,
    "start_time": "2022-03-11T08:12:09.548Z"
   },
   {
    "duration": 26,
    "start_time": "2022-03-11T08:14:34.120Z"
   },
   {
    "duration": 4,
    "start_time": "2022-03-11T08:14:41.201Z"
   },
   {
    "duration": 97,
    "start_time": "2022-03-11T08:14:41.208Z"
   },
   {
    "duration": 8,
    "start_time": "2022-03-11T08:14:41.309Z"
   },
   {
    "duration": 15,
    "start_time": "2022-03-11T08:14:41.320Z"
   },
   {
    "duration": 80,
    "start_time": "2022-03-11T08:14:41.338Z"
   },
   {
    "duration": 91,
    "start_time": "2022-03-11T08:14:41.421Z"
   },
   {
    "duration": 8,
    "start_time": "2022-03-11T08:14:41.516Z"
   },
   {
    "duration": 21,
    "start_time": "2022-03-11T08:14:41.527Z"
   },
   {
    "duration": 36,
    "start_time": "2022-03-11T08:14:41.550Z"
   },
   {
    "duration": 39,
    "start_time": "2022-03-11T08:14:41.592Z"
   },
   {
    "duration": 3,
    "start_time": "2022-03-11T08:14:41.633Z"
   },
   {
    "duration": 9,
    "start_time": "2022-03-11T08:14:41.638Z"
   },
   {
    "duration": 42,
    "start_time": "2022-03-11T08:14:41.650Z"
   },
   {
    "duration": 8,
    "start_time": "2022-03-11T08:14:41.695Z"
   },
   {
    "duration": 15,
    "start_time": "2022-03-11T08:14:41.706Z"
   },
   {
    "duration": 7,
    "start_time": "2022-03-11T08:14:41.725Z"
   },
   {
    "duration": 12,
    "start_time": "2022-03-11T08:14:41.735Z"
   },
   {
    "duration": 23,
    "start_time": "2022-03-11T08:14:41.786Z"
   },
   {
    "duration": 19,
    "start_time": "2022-03-11T08:14:41.816Z"
   },
   {
    "duration": 19,
    "start_time": "2022-03-11T08:14:41.839Z"
   },
   {
    "duration": 14,
    "start_time": "2022-03-11T08:14:41.881Z"
   },
   {
    "duration": 39,
    "start_time": "2022-03-11T08:14:41.899Z"
   },
   {
    "duration": 532,
    "start_time": "2022-03-11T08:14:41.940Z"
   },
   {
    "duration": 10,
    "start_time": "2022-03-11T08:14:42.474Z"
   },
   {
    "duration": 8463,
    "start_time": "2022-03-11T08:14:42.487Z"
   },
   {
    "duration": 50,
    "start_time": "2022-03-11T08:14:50.952Z"
   },
   {
    "duration": 27,
    "start_time": "2022-03-11T08:14:51.005Z"
   },
   {
    "duration": 24,
    "start_time": "2022-03-11T08:14:51.035Z"
   },
   {
    "duration": 31,
    "start_time": "2022-03-11T08:14:51.088Z"
   },
   {
    "duration": 39,
    "start_time": "2022-03-11T08:14:51.121Z"
   },
   {
    "duration": 4,
    "start_time": "2022-03-11T08:14:51.164Z"
   },
   {
    "duration": 46,
    "start_time": "2022-03-11T08:14:51.171Z"
   },
   {
    "duration": 21,
    "start_time": "2022-03-11T08:14:51.220Z"
   },
   {
    "duration": 11,
    "start_time": "2022-03-11T08:14:51.244Z"
   },
   {
    "duration": 1125,
    "start_time": "2022-03-11T08:14:51.257Z"
   },
   {
    "duration": 44,
    "start_time": "2022-03-11T08:14:52.386Z"
   },
   {
    "duration": 964,
    "start_time": "2022-03-11T08:14:52.433Z"
   },
   {
    "duration": 38,
    "start_time": "2022-03-11T08:14:53.402Z"
   },
   {
    "duration": 66,
    "start_time": "2022-03-11T08:14:53.443Z"
   },
   {
    "duration": 442,
    "start_time": "2022-03-11T08:14:53.511Z"
   },
   {
    "duration": -525,
    "start_time": "2022-03-11T08:14:54.483Z"
   },
   {
    "duration": -532,
    "start_time": "2022-03-11T08:14:54.492Z"
   },
   {
    "duration": -534,
    "start_time": "2022-03-11T08:14:54.496Z"
   },
   {
    "duration": -535,
    "start_time": "2022-03-11T08:14:54.500Z"
   },
   {
    "duration": -541,
    "start_time": "2022-03-11T08:14:54.508Z"
   },
   {
    "duration": -560,
    "start_time": "2022-03-11T08:14:54.529Z"
   },
   {
    "duration": -563,
    "start_time": "2022-03-11T08:14:54.534Z"
   },
   {
    "duration": -566,
    "start_time": "2022-03-11T08:14:54.539Z"
   },
   {
    "duration": -567,
    "start_time": "2022-03-11T08:14:54.543Z"
   },
   {
    "duration": -569,
    "start_time": "2022-03-11T08:14:54.547Z"
   },
   {
    "duration": -572,
    "start_time": "2022-03-11T08:14:54.552Z"
   },
   {
    "duration": -573,
    "start_time": "2022-03-11T08:14:54.563Z"
   },
   {
    "duration": -571,
    "start_time": "2022-03-11T08:14:54.568Z"
   },
   {
    "duration": -574,
    "start_time": "2022-03-11T08:14:54.573Z"
   },
   {
    "duration": -577,
    "start_time": "2022-03-11T08:14:54.578Z"
   },
   {
    "duration": -579,
    "start_time": "2022-03-11T08:14:54.582Z"
   },
   {
    "duration": -582,
    "start_time": "2022-03-11T08:14:54.588Z"
   },
   {
    "duration": -584,
    "start_time": "2022-03-11T08:14:54.592Z"
   },
   {
    "duration": -644,
    "start_time": "2022-03-11T08:14:54.654Z"
   },
   {
    "duration": -647,
    "start_time": "2022-03-11T08:14:54.658Z"
   },
   {
    "duration": -662,
    "start_time": "2022-03-11T08:14:54.675Z"
   },
   {
    "duration": -771,
    "start_time": "2022-03-11T08:14:54.786Z"
   },
   {
    "duration": -774,
    "start_time": "2022-03-11T08:14:54.790Z"
   },
   {
    "duration": -776,
    "start_time": "2022-03-11T08:14:54.794Z"
   },
   {
    "duration": -777,
    "start_time": "2022-03-11T08:14:54.798Z"
   },
   {
    "duration": -779,
    "start_time": "2022-03-11T08:14:54.802Z"
   },
   {
    "duration": -872,
    "start_time": "2022-03-11T08:14:54.897Z"
   },
   {
    "duration": -875,
    "start_time": "2022-03-11T08:14:54.902Z"
   },
   {
    "duration": -879,
    "start_time": "2022-03-11T08:14:54.908Z"
   },
   {
    "duration": -882,
    "start_time": "2022-03-11T08:14:54.913Z"
   },
   {
    "duration": -885,
    "start_time": "2022-03-11T08:14:54.918Z"
   },
   {
    "duration": -833,
    "start_time": "2022-03-11T08:14:54.922Z"
   },
   {
    "duration": -835,
    "start_time": "2022-03-11T08:14:54.927Z"
   },
   {
    "duration": -839,
    "start_time": "2022-03-11T08:14:54.938Z"
   },
   {
    "duration": -844,
    "start_time": "2022-03-11T08:14:54.944Z"
   },
   {
    "duration": -847,
    "start_time": "2022-03-11T08:14:54.949Z"
   },
   {
    "duration": -852,
    "start_time": "2022-03-11T08:14:54.956Z"
   },
   {
    "duration": 949,
    "start_time": "2022-03-11T08:15:47.840Z"
   },
   {
    "duration": 848,
    "start_time": "2022-03-11T08:16:11.230Z"
   },
   {
    "duration": 936,
    "start_time": "2022-03-11T08:18:56.296Z"
   },
   {
    "duration": 21,
    "start_time": "2022-03-11T08:28:41.143Z"
   },
   {
    "duration": 464,
    "start_time": "2022-03-11T08:28:43.212Z"
   },
   {
    "duration": 32,
    "start_time": "2022-03-11T09:18:09.883Z"
   },
   {
    "duration": 35,
    "start_time": "2022-03-11T09:24:37.770Z"
   },
   {
    "duration": 37,
    "start_time": "2022-03-11T09:29:10.108Z"
   },
   {
    "duration": 35,
    "start_time": "2022-03-11T09:29:11.376Z"
   },
   {
    "duration": 5,
    "start_time": "2022-03-11T09:31:54.320Z"
   },
   {
    "duration": 78,
    "start_time": "2022-03-11T09:31:54.329Z"
   },
   {
    "duration": 6,
    "start_time": "2022-03-11T09:31:54.410Z"
   },
   {
    "duration": 9,
    "start_time": "2022-03-11T09:31:54.419Z"
   },
   {
    "duration": 72,
    "start_time": "2022-03-11T09:31:54.430Z"
   },
   {
    "duration": 107,
    "start_time": "2022-03-11T09:31:54.505Z"
   },
   {
    "duration": 6,
    "start_time": "2022-03-11T09:31:54.616Z"
   },
   {
    "duration": 24,
    "start_time": "2022-03-11T09:31:54.625Z"
   },
   {
    "duration": 33,
    "start_time": "2022-03-11T09:31:54.651Z"
   },
   {
    "duration": 38,
    "start_time": "2022-03-11T09:31:54.687Z"
   },
   {
    "duration": 5,
    "start_time": "2022-03-11T09:31:54.728Z"
   },
   {
    "duration": 13,
    "start_time": "2022-03-11T09:31:54.735Z"
   },
   {
    "duration": 31,
    "start_time": "2022-03-11T09:31:54.751Z"
   },
   {
    "duration": 8,
    "start_time": "2022-03-11T09:31:54.785Z"
   },
   {
    "duration": 19,
    "start_time": "2022-03-11T09:31:54.796Z"
   },
   {
    "duration": 8,
    "start_time": "2022-03-11T09:31:54.818Z"
   },
   {
    "duration": 11,
    "start_time": "2022-03-11T09:31:54.829Z"
   },
   {
    "duration": 42,
    "start_time": "2022-03-11T09:31:54.842Z"
   },
   {
    "duration": 30,
    "start_time": "2022-03-11T09:31:54.890Z"
   },
   {
    "duration": 21,
    "start_time": "2022-03-11T09:31:54.924Z"
   },
   {
    "duration": 22,
    "start_time": "2022-03-11T09:31:54.947Z"
   },
   {
    "duration": 34,
    "start_time": "2022-03-11T09:31:54.971Z"
   },
   {
    "duration": 546,
    "start_time": "2022-03-11T09:31:55.007Z"
   },
   {
    "duration": 6,
    "start_time": "2022-03-11T09:31:55.556Z"
   },
   {
    "duration": 7521,
    "start_time": "2022-03-11T09:31:55.564Z"
   },
   {
    "duration": 27,
    "start_time": "2022-03-11T09:32:03.088Z"
   },
   {
    "duration": 34,
    "start_time": "2022-03-11T09:32:03.117Z"
   },
   {
    "duration": 42,
    "start_time": "2022-03-11T09:32:03.153Z"
   },
   {
    "duration": 21,
    "start_time": "2022-03-11T09:32:03.199Z"
   },
   {
    "duration": 35,
    "start_time": "2022-03-11T09:32:03.222Z"
   },
   {
    "duration": 16,
    "start_time": "2022-03-11T09:32:03.259Z"
   },
   {
    "duration": 246,
    "start_time": "2022-03-11T09:32:03.282Z"
   },
   {
    "duration": 48,
    "start_time": "2022-03-11T09:32:03.531Z"
   },
   {
    "duration": 40,
    "start_time": "2022-03-11T09:32:03.581Z"
   },
   {
    "duration": 828,
    "start_time": "2022-03-11T09:32:03.624Z"
   },
   {
    "duration": 52,
    "start_time": "2022-03-11T09:32:04.454Z"
   },
   {
    "duration": 911,
    "start_time": "2022-03-11T09:32:04.508Z"
   },
   {
    "duration": 35,
    "start_time": "2022-03-11T09:32:05.422Z"
   },
   {
    "duration": 51,
    "start_time": "2022-03-11T09:32:05.459Z"
   },
   {
    "duration": 29,
    "start_time": "2022-03-11T09:32:05.512Z"
   },
   {
    "duration": 441,
    "start_time": "2022-03-11T09:32:05.543Z"
   },
   {
    "duration": 261,
    "start_time": "2022-03-11T09:32:05.987Z"
   },
   {
    "duration": -411,
    "start_time": "2022-03-11T09:32:06.662Z"
   },
   {
    "duration": -421,
    "start_time": "2022-03-11T09:32:06.674Z"
   },
   {
    "duration": -425,
    "start_time": "2022-03-11T09:32:06.679Z"
   },
   {
    "duration": -428,
    "start_time": "2022-03-11T09:32:06.684Z"
   },
   {
    "duration": -440,
    "start_time": "2022-03-11T09:32:06.697Z"
   },
   {
    "duration": -442,
    "start_time": "2022-03-11T09:32:06.701Z"
   },
   {
    "duration": -444,
    "start_time": "2022-03-11T09:32:06.704Z"
   },
   {
    "duration": -446,
    "start_time": "2022-03-11T09:32:06.708Z"
   },
   {
    "duration": -449,
    "start_time": "2022-03-11T09:32:06.713Z"
   },
   {
    "duration": -451,
    "start_time": "2022-03-11T09:32:06.716Z"
   },
   {
    "duration": -466,
    "start_time": "2022-03-11T09:32:06.733Z"
   },
   {
    "duration": -475,
    "start_time": "2022-03-11T09:32:06.743Z"
   },
   {
    "duration": -666,
    "start_time": "2022-03-11T09:32:06.935Z"
   },
   {
    "duration": -667,
    "start_time": "2022-03-11T09:32:06.938Z"
   },
   {
    "duration": -670,
    "start_time": "2022-03-11T09:32:06.942Z"
   },
   {
    "duration": -673,
    "start_time": "2022-03-11T09:32:06.946Z"
   },
   {
    "duration": -675,
    "start_time": "2022-03-11T09:32:06.950Z"
   },
   {
    "duration": -677,
    "start_time": "2022-03-11T09:32:06.953Z"
   },
   {
    "duration": -680,
    "start_time": "2022-03-11T09:32:06.957Z"
   },
   {
    "duration": -682,
    "start_time": "2022-03-11T09:32:06.961Z"
   },
   {
    "duration": -684,
    "start_time": "2022-03-11T09:32:06.964Z"
   },
   {
    "duration": -687,
    "start_time": "2022-03-11T09:32:06.968Z"
   },
   {
    "duration": -688,
    "start_time": "2022-03-11T09:32:06.971Z"
   },
   {
    "duration": -690,
    "start_time": "2022-03-11T09:32:06.975Z"
   },
   {
    "duration": -693,
    "start_time": "2022-03-11T09:32:06.979Z"
   },
   {
    "duration": -695,
    "start_time": "2022-03-11T09:32:06.983Z"
   },
   {
    "duration": -698,
    "start_time": "2022-03-11T09:32:06.987Z"
   },
   {
    "duration": -700,
    "start_time": "2022-03-11T09:32:06.991Z"
   },
   {
    "duration": -709,
    "start_time": "2022-03-11T09:32:07.002Z"
   },
   {
    "duration": -711,
    "start_time": "2022-03-11T09:32:07.005Z"
   },
   {
    "duration": -713,
    "start_time": "2022-03-11T09:32:07.009Z"
   },
   {
    "duration": -721,
    "start_time": "2022-03-11T09:32:07.019Z"
   },
   {
    "duration": -758,
    "start_time": "2022-03-11T09:32:07.058Z"
   },
   {
    "duration": -770,
    "start_time": "2022-03-11T09:32:07.072Z"
   },
   {
    "duration": -805,
    "start_time": "2022-03-11T09:32:07.108Z"
   },
   {
    "duration": -807,
    "start_time": "2022-03-11T09:32:07.112Z"
   },
   {
    "duration": 21,
    "start_time": "2022-03-11T09:37:56.518Z"
   },
   {
    "duration": 22,
    "start_time": "2022-03-11T09:38:20.296Z"
   },
   {
    "duration": 1291,
    "start_time": "2022-03-11T09:39:50.345Z"
   },
   {
    "duration": 592,
    "start_time": "2022-03-11T09:40:56.994Z"
   },
   {
    "duration": 566,
    "start_time": "2022-03-11T09:41:13.209Z"
   },
   {
    "duration": 519,
    "start_time": "2022-03-11T09:41:24.234Z"
   },
   {
    "duration": 541,
    "start_time": "2022-03-11T09:49:09.396Z"
   },
   {
    "duration": 322,
    "start_time": "2022-03-11T09:49:46.922Z"
   },
   {
    "duration": 352,
    "start_time": "2022-03-11T09:50:10.137Z"
   },
   {
    "duration": 290,
    "start_time": "2022-03-11T09:50:42.515Z"
   },
   {
    "duration": 312,
    "start_time": "2022-03-11T09:51:51.898Z"
   },
   {
    "duration": 315,
    "start_time": "2022-03-11T09:52:26.181Z"
   },
   {
    "duration": 309,
    "start_time": "2022-03-11T09:52:52.405Z"
   },
   {
    "duration": 6,
    "start_time": "2022-03-11T10:12:02.366Z"
   },
   {
    "duration": 6,
    "start_time": "2022-03-11T10:12:25.551Z"
   },
   {
    "duration": 8,
    "start_time": "2022-03-11T10:13:13.650Z"
   },
   {
    "duration": 5,
    "start_time": "2022-03-11T10:15:09.630Z"
   },
   {
    "duration": 3754,
    "start_time": "2022-03-11T10:16:33.741Z"
   },
   {
    "duration": 267,
    "start_time": "2022-03-11T10:19:44.392Z"
   },
   {
    "duration": 362,
    "start_time": "2022-03-11T11:44:44.228Z"
   },
   {
    "duration": 93,
    "start_time": "2022-03-11T11:45:07.001Z"
   },
   {
    "duration": -157,
    "start_time": "2022-03-11T11:45:21.750Z"
   },
   {
    "duration": 92,
    "start_time": "2022-03-11T11:45:54.905Z"
   },
   {
    "duration": 291,
    "start_time": "2022-03-11T11:46:02.873Z"
   },
   {
    "duration": 290,
    "start_time": "2022-03-11T11:46:33.836Z"
   },
   {
    "duration": 321,
    "start_time": "2022-03-11T11:46:42.205Z"
   },
   {
    "duration": 4142,
    "start_time": "2022-03-11T11:46:49.984Z"
   },
   {
    "duration": 4,
    "start_time": "2022-03-11T12:34:25.257Z"
   },
   {
    "duration": 85,
    "start_time": "2022-03-11T12:34:25.264Z"
   },
   {
    "duration": 7,
    "start_time": "2022-03-11T12:34:25.382Z"
   },
   {
    "duration": 9,
    "start_time": "2022-03-11T12:34:25.392Z"
   },
   {
    "duration": 31,
    "start_time": "2022-03-11T12:34:25.403Z"
   },
   {
    "duration": 50,
    "start_time": "2022-03-11T12:34:25.482Z"
   },
   {
    "duration": 7,
    "start_time": "2022-03-11T12:34:25.535Z"
   },
   {
    "duration": 50,
    "start_time": "2022-03-11T12:34:25.544Z"
   },
   {
    "duration": 8,
    "start_time": "2022-03-11T12:34:25.596Z"
   },
   {
    "duration": 43,
    "start_time": "2022-03-11T12:34:25.607Z"
   },
   {
    "duration": 3,
    "start_time": "2022-03-11T12:34:25.652Z"
   },
   {
    "duration": 25,
    "start_time": "2022-03-11T12:34:25.657Z"
   },
   {
    "duration": 17,
    "start_time": "2022-03-11T12:34:25.684Z"
   },
   {
    "duration": 7,
    "start_time": "2022-03-11T12:34:25.704Z"
   },
   {
    "duration": 10,
    "start_time": "2022-03-11T12:34:25.714Z"
   },
   {
    "duration": 7,
    "start_time": "2022-03-11T12:34:25.727Z"
   },
   {
    "duration": 50,
    "start_time": "2022-03-11T12:34:25.737Z"
   },
   {
    "duration": 13,
    "start_time": "2022-03-11T12:34:25.789Z"
   },
   {
    "duration": 15,
    "start_time": "2022-03-11T12:34:25.807Z"
   },
   {
    "duration": 21,
    "start_time": "2022-03-11T12:34:25.826Z"
   },
   {
    "duration": 32,
    "start_time": "2022-03-11T12:34:25.850Z"
   },
   {
    "duration": 26,
    "start_time": "2022-03-11T12:34:25.884Z"
   },
   {
    "duration": 484,
    "start_time": "2022-03-11T12:34:25.912Z"
   },
   {
    "duration": 5,
    "start_time": "2022-03-11T12:34:26.399Z"
   },
   {
    "duration": 7718,
    "start_time": "2022-03-11T12:34:26.406Z"
   },
   {
    "duration": 25,
    "start_time": "2022-03-11T12:34:34.126Z"
   },
   {
    "duration": 43,
    "start_time": "2022-03-11T12:34:34.153Z"
   },
   {
    "duration": 22,
    "start_time": "2022-03-11T12:34:34.199Z"
   },
   {
    "duration": 17,
    "start_time": "2022-03-11T12:34:34.223Z"
   },
   {
    "duration": 54,
    "start_time": "2022-03-11T12:34:34.243Z"
   },
   {
    "duration": 8,
    "start_time": "2022-03-11T12:34:34.299Z"
   },
   {
    "duration": 21,
    "start_time": "2022-03-11T12:34:34.309Z"
   },
   {
    "duration": 19,
    "start_time": "2022-03-11T12:34:34.333Z"
   },
   {
    "duration": 41,
    "start_time": "2022-03-11T12:34:34.355Z"
   },
   {
    "duration": 798,
    "start_time": "2022-03-11T12:34:34.399Z"
   },
   {
    "duration": 32,
    "start_time": "2022-03-11T12:34:35.200Z"
   },
   {
    "duration": 1130,
    "start_time": "2022-03-11T12:34:35.235Z"
   },
   {
    "duration": 44,
    "start_time": "2022-03-11T12:34:36.367Z"
   },
   {
    "duration": 31,
    "start_time": "2022-03-11T12:34:36.414Z"
   },
   {
    "duration": 338,
    "start_time": "2022-03-11T12:34:36.448Z"
   },
   {
    "duration": 4227,
    "start_time": "2022-03-11T12:34:36.789Z"
   },
   {
    "duration": -772,
    "start_time": "2022-03-11T12:34:41.792Z"
   },
   {
    "duration": -786,
    "start_time": "2022-03-11T12:34:41.808Z"
   },
   {
    "duration": -801,
    "start_time": "2022-03-11T12:34:41.824Z"
   },
   {
    "duration": -810,
    "start_time": "2022-03-11T12:34:41.835Z"
   },
   {
    "duration": -815,
    "start_time": "2022-03-11T12:34:41.841Z"
   },
   {
    "duration": -825,
    "start_time": "2022-03-11T12:34:41.852Z"
   },
   {
    "duration": -829,
    "start_time": "2022-03-11T12:34:41.858Z"
   },
   {
    "duration": -838,
    "start_time": "2022-03-11T12:34:41.868Z"
   },
   {
    "duration": -842,
    "start_time": "2022-03-11T12:34:41.874Z"
   },
   {
    "duration": -852,
    "start_time": "2022-03-11T12:34:41.885Z"
   },
   {
    "duration": -856,
    "start_time": "2022-03-11T12:34:41.891Z"
   },
   {
    "duration": -867,
    "start_time": "2022-03-11T12:34:41.903Z"
   },
   {
    "duration": -870,
    "start_time": "2022-03-11T12:34:41.908Z"
   },
   {
    "duration": -881,
    "start_time": "2022-03-11T12:34:41.920Z"
   },
   {
    "duration": -884,
    "start_time": "2022-03-11T12:34:41.924Z"
   },
   {
    "duration": -895,
    "start_time": "2022-03-11T12:34:41.937Z"
   },
   {
    "duration": -899,
    "start_time": "2022-03-11T12:34:41.942Z"
   },
   {
    "duration": -900,
    "start_time": "2022-03-11T12:34:41.945Z"
   },
   {
    "duration": -903,
    "start_time": "2022-03-11T12:34:41.949Z"
   },
   {
    "duration": -905,
    "start_time": "2022-03-11T12:34:41.953Z"
   },
   {
    "duration": -908,
    "start_time": "2022-03-11T12:34:41.957Z"
   },
   {
    "duration": -910,
    "start_time": "2022-03-11T12:34:41.960Z"
   },
   {
    "duration": -913,
    "start_time": "2022-03-11T12:34:41.965Z"
   },
   {
    "duration": -916,
    "start_time": "2022-03-11T12:34:41.969Z"
   },
   {
    "duration": -919,
    "start_time": "2022-03-11T12:34:41.973Z"
   },
   {
    "duration": -921,
    "start_time": "2022-03-11T12:34:41.977Z"
   },
   {
    "duration": -922,
    "start_time": "2022-03-11T12:34:41.980Z"
   },
   {
    "duration": -902,
    "start_time": "2022-03-11T12:34:41.984Z"
   },
   {
    "duration": -903,
    "start_time": "2022-03-11T12:34:41.987Z"
   },
   {
    "duration": -905,
    "start_time": "2022-03-11T12:34:41.991Z"
   },
   {
    "duration": -907,
    "start_time": "2022-03-11T12:34:41.995Z"
   },
   {
    "duration": -909,
    "start_time": "2022-03-11T12:34:41.999Z"
   },
   {
    "duration": -911,
    "start_time": "2022-03-11T12:34:42.002Z"
   },
   {
    "duration": -914,
    "start_time": "2022-03-11T12:34:42.006Z"
   },
   {
    "duration": -915,
    "start_time": "2022-03-11T12:34:42.009Z"
   },
   {
    "duration": -919,
    "start_time": "2022-03-11T12:34:42.014Z"
   },
   {
    "duration": -922,
    "start_time": "2022-03-11T12:34:42.019Z"
   },
   {
    "duration": -925,
    "start_time": "2022-03-11T12:34:42.023Z"
   },
   {
    "duration": -928,
    "start_time": "2022-03-11T12:34:42.027Z"
   },
   {
    "duration": 3580,
    "start_time": "2022-03-11T12:37:58.726Z"
   },
   {
    "duration": 4098,
    "start_time": "2022-03-11T12:38:06.490Z"
   },
   {
    "duration": 689,
    "start_time": "2022-03-11T12:39:30.629Z"
   },
   {
    "duration": 9,
    "start_time": "2022-03-11T13:00:58.512Z"
   },
   {
    "duration": 9,
    "start_time": "2022-03-11T13:01:37.339Z"
   },
   {
    "duration": 9,
    "start_time": "2022-03-11T13:01:55.892Z"
   },
   {
    "duration": 11,
    "start_time": "2022-03-11T13:02:11.141Z"
   },
   {
    "duration": 10,
    "start_time": "2022-03-11T13:03:48.608Z"
   },
   {
    "duration": 8,
    "start_time": "2022-03-11T13:04:17.990Z"
   },
   {
    "duration": 10,
    "start_time": "2022-03-11T13:07:45.849Z"
   },
   {
    "duration": 532,
    "start_time": "2022-03-11T13:08:00.263Z"
   },
   {
    "duration": 12,
    "start_time": "2022-03-11T13:08:30.151Z"
   },
   {
    "duration": 4117,
    "start_time": "2022-03-11T13:09:22.898Z"
   },
   {
    "duration": 84,
    "start_time": "2022-03-11T13:09:41.939Z"
   },
   {
    "duration": 595,
    "start_time": "2022-03-11T13:10:12.931Z"
   },
   {
    "duration": 513,
    "start_time": "2022-03-11T13:10:33.951Z"
   },
   {
    "duration": 281,
    "start_time": "2022-03-11T13:11:26.524Z"
   },
   {
    "duration": 6,
    "start_time": "2022-03-11T13:11:58.048Z"
   },
   {
    "duration": 416,
    "start_time": "2022-03-11T13:12:11.684Z"
   },
   {
    "duration": 6,
    "start_time": "2022-03-11T13:12:21.784Z"
   },
   {
    "duration": 286,
    "start_time": "2022-03-11T13:13:46.180Z"
   },
   {
    "duration": 6,
    "start_time": "2022-03-11T13:14:07.733Z"
   },
   {
    "duration": 6,
    "start_time": "2022-03-11T13:14:18.631Z"
   },
   {
    "duration": 7,
    "start_time": "2022-03-11T13:17:18.166Z"
   },
   {
    "duration": 6,
    "start_time": "2022-03-11T13:17:55.741Z"
   },
   {
    "duration": 276,
    "start_time": "2022-03-11T13:18:26.067Z"
   },
   {
    "duration": 4628,
    "start_time": "2022-03-11T13:19:57.984Z"
   },
   {
    "duration": 9,
    "start_time": "2022-03-11T13:20:36.324Z"
   },
   {
    "duration": 13,
    "start_time": "2022-03-11T13:21:05.670Z"
   },
   {
    "duration": 4421,
    "start_time": "2022-03-11T13:22:08.013Z"
   },
   {
    "duration": 4991,
    "start_time": "2022-03-11T13:22:23.621Z"
   },
   {
    "duration": 15,
    "start_time": "2022-03-11T13:22:53.136Z"
   },
   {
    "duration": 14,
    "start_time": "2022-03-11T13:22:57.905Z"
   },
   {
    "duration": 13,
    "start_time": "2022-03-11T13:23:08.080Z"
   },
   {
    "duration": 338,
    "start_time": "2022-03-11T13:23:15.265Z"
   },
   {
    "duration": 11,
    "start_time": "2022-03-11T13:23:17.468Z"
   },
   {
    "duration": 11,
    "start_time": "2022-03-11T13:24:01.856Z"
   },
   {
    "duration": 316,
    "start_time": "2022-03-11T13:24:09.085Z"
   },
   {
    "duration": 10,
    "start_time": "2022-03-11T13:24:12.039Z"
   },
   {
    "duration": 5093,
    "start_time": "2022-03-11T13:24:23.045Z"
   },
   {
    "duration": 4669,
    "start_time": "2022-03-11T13:24:36.008Z"
   },
   {
    "duration": 21,
    "start_time": "2022-03-11T13:24:49.687Z"
   },
   {
    "duration": 12,
    "start_time": "2022-03-11T13:24:55.264Z"
   },
   {
    "duration": 12,
    "start_time": "2022-03-11T13:25:18.163Z"
   },
   {
    "duration": 12,
    "start_time": "2022-03-11T13:25:43.562Z"
   },
   {
    "duration": 12,
    "start_time": "2022-03-11T13:26:01.335Z"
   },
   {
    "duration": 13,
    "start_time": "2022-03-11T13:26:10.440Z"
   },
   {
    "duration": 12,
    "start_time": "2022-03-11T13:26:33.427Z"
   },
   {
    "duration": 10,
    "start_time": "2022-03-11T13:27:24.357Z"
   },
   {
    "duration": 10,
    "start_time": "2022-03-11T13:28:29.740Z"
   },
   {
    "duration": 3,
    "start_time": "2022-03-11T13:29:57.584Z"
   },
   {
    "duration": 100,
    "start_time": "2022-03-11T13:29:57.590Z"
   },
   {
    "duration": 8,
    "start_time": "2022-03-11T13:29:57.693Z"
   },
   {
    "duration": 11,
    "start_time": "2022-03-11T13:29:57.704Z"
   },
   {
    "duration": 83,
    "start_time": "2022-03-11T13:29:57.718Z"
   },
   {
    "duration": 49,
    "start_time": "2022-03-11T13:29:57.804Z"
   },
   {
    "duration": 9,
    "start_time": "2022-03-11T13:29:57.888Z"
   },
   {
    "duration": 45,
    "start_time": "2022-03-11T13:29:57.900Z"
   },
   {
    "duration": 4,
    "start_time": "2022-03-11T13:29:57.949Z"
   },
   {
    "duration": 59,
    "start_time": "2022-03-11T13:29:57.956Z"
   },
   {
    "duration": 3,
    "start_time": "2022-03-11T13:29:58.017Z"
   },
   {
    "duration": 23,
    "start_time": "2022-03-11T13:29:58.022Z"
   },
   {
    "duration": 31,
    "start_time": "2022-03-11T13:29:58.048Z"
   },
   {
    "duration": 42,
    "start_time": "2022-03-11T13:29:58.081Z"
   },
   {
    "duration": 24,
    "start_time": "2022-03-11T13:29:58.125Z"
   },
   {
    "duration": 17,
    "start_time": "2022-03-11T13:29:58.152Z"
   },
   {
    "duration": 50,
    "start_time": "2022-03-11T13:29:58.172Z"
   },
   {
    "duration": 32,
    "start_time": "2022-03-11T13:29:58.225Z"
   },
   {
    "duration": 34,
    "start_time": "2022-03-11T13:29:58.265Z"
   },
   {
    "duration": 26,
    "start_time": "2022-03-11T13:29:58.304Z"
   },
   {
    "duration": 15,
    "start_time": "2022-03-11T13:29:58.332Z"
   },
   {
    "duration": 41,
    "start_time": "2022-03-11T13:29:58.350Z"
   },
   {
    "duration": 564,
    "start_time": "2022-03-11T13:29:58.394Z"
   },
   {
    "duration": 6,
    "start_time": "2022-03-11T13:29:58.960Z"
   },
   {
    "duration": 9042,
    "start_time": "2022-03-11T13:29:58.968Z"
   },
   {
    "duration": 28,
    "start_time": "2022-03-11T13:30:08.013Z"
   },
   {
    "duration": 61,
    "start_time": "2022-03-11T13:30:08.044Z"
   },
   {
    "duration": 29,
    "start_time": "2022-03-11T13:30:08.108Z"
   },
   {
    "duration": 49,
    "start_time": "2022-03-11T13:30:08.140Z"
   },
   {
    "duration": 44,
    "start_time": "2022-03-11T13:30:08.193Z"
   },
   {
    "duration": 59,
    "start_time": "2022-03-11T13:30:08.240Z"
   },
   {
    "duration": 34,
    "start_time": "2022-03-11T13:30:08.301Z"
   },
   {
    "duration": 48,
    "start_time": "2022-03-11T13:30:08.338Z"
   },
   {
    "duration": 36,
    "start_time": "2022-03-11T13:30:08.389Z"
   },
   {
    "duration": 877,
    "start_time": "2022-03-11T13:30:08.428Z"
   },
   {
    "duration": 56,
    "start_time": "2022-03-11T13:30:09.308Z"
   },
   {
    "duration": 1327,
    "start_time": "2022-03-11T13:30:09.367Z"
   },
   {
    "duration": 39,
    "start_time": "2022-03-11T13:30:10.696Z"
   },
   {
    "duration": 65,
    "start_time": "2022-03-11T13:30:10.738Z"
   },
   {
    "duration": 340,
    "start_time": "2022-03-11T13:30:10.806Z"
   },
   {
    "duration": 10,
    "start_time": "2022-03-11T13:30:11.148Z"
   },
   {
    "duration": 62,
    "start_time": "2022-03-11T13:30:11.160Z"
   },
   {
    "duration": 443,
    "start_time": "2022-03-11T13:30:11.224Z"
   },
   {
    "duration": 596,
    "start_time": "2022-03-11T13:30:11.670Z"
   },
   {
    "duration": -701,
    "start_time": "2022-03-11T13:30:12.972Z"
   },
   {
    "duration": -703,
    "start_time": "2022-03-11T13:30:12.976Z"
   },
   {
    "duration": -713,
    "start_time": "2022-03-11T13:30:12.989Z"
   },
   {
    "duration": -714,
    "start_time": "2022-03-11T13:30:12.992Z"
   },
   {
    "duration": -716,
    "start_time": "2022-03-11T13:30:12.996Z"
   },
   {
    "duration": -717,
    "start_time": "2022-03-11T13:30:12.999Z"
   },
   {
    "duration": -720,
    "start_time": "2022-03-11T13:30:13.004Z"
   },
   {
    "duration": -723,
    "start_time": "2022-03-11T13:30:13.008Z"
   },
   {
    "duration": -726,
    "start_time": "2022-03-11T13:30:13.012Z"
   },
   {
    "duration": -728,
    "start_time": "2022-03-11T13:30:13.016Z"
   },
   {
    "duration": -731,
    "start_time": "2022-03-11T13:30:13.020Z"
   },
   {
    "duration": -733,
    "start_time": "2022-03-11T13:30:13.024Z"
   },
   {
    "duration": -733,
    "start_time": "2022-03-11T13:30:13.027Z"
   },
   {
    "duration": -735,
    "start_time": "2022-03-11T13:30:13.031Z"
   },
   {
    "duration": -737,
    "start_time": "2022-03-11T13:30:13.035Z"
   },
   {
    "duration": -738,
    "start_time": "2022-03-11T13:30:13.038Z"
   },
   {
    "duration": -740,
    "start_time": "2022-03-11T13:30:13.042Z"
   },
   {
    "duration": -742,
    "start_time": "2022-03-11T13:30:13.046Z"
   },
   {
    "duration": -744,
    "start_time": "2022-03-11T13:30:13.050Z"
   },
   {
    "duration": -753,
    "start_time": "2022-03-11T13:30:13.061Z"
   },
   {
    "duration": -755,
    "start_time": "2022-03-11T13:30:13.065Z"
   },
   {
    "duration": -757,
    "start_time": "2022-03-11T13:30:13.069Z"
   },
   {
    "duration": -759,
    "start_time": "2022-03-11T13:30:13.073Z"
   },
   {
    "duration": -761,
    "start_time": "2022-03-11T13:30:13.076Z"
   },
   {
    "duration": -764,
    "start_time": "2022-03-11T13:30:13.081Z"
   },
   {
    "duration": -765,
    "start_time": "2022-03-11T13:30:13.084Z"
   },
   {
    "duration": -768,
    "start_time": "2022-03-11T13:30:13.088Z"
   },
   {
    "duration": -771,
    "start_time": "2022-03-11T13:30:13.092Z"
   },
   {
    "duration": -772,
    "start_time": "2022-03-11T13:30:13.095Z"
   },
   {
    "duration": -775,
    "start_time": "2022-03-11T13:30:13.099Z"
   },
   {
    "duration": -777,
    "start_time": "2022-03-11T13:30:13.103Z"
   },
   {
    "duration": -779,
    "start_time": "2022-03-11T13:30:13.106Z"
   },
   {
    "duration": -781,
    "start_time": "2022-03-11T13:30:13.110Z"
   },
   {
    "duration": -783,
    "start_time": "2022-03-11T13:30:13.113Z"
   },
   {
    "duration": -786,
    "start_time": "2022-03-11T13:30:13.117Z"
   },
   {
    "duration": -788,
    "start_time": "2022-03-11T13:30:13.120Z"
   },
   {
    "duration": 21,
    "start_time": "2022-03-11T13:33:12.647Z"
   },
   {
    "duration": 448,
    "start_time": "2022-03-11T13:33:13.771Z"
   },
   {
    "duration": 295,
    "start_time": "2022-03-11T13:33:20.800Z"
   },
   {
    "duration": 28,
    "start_time": "2022-03-11T13:33:35.948Z"
   },
   {
    "duration": 30,
    "start_time": "2022-03-11T13:33:36.668Z"
   },
   {
    "duration": 448,
    "start_time": "2022-03-11T13:33:37.389Z"
   },
   {
    "duration": 25,
    "start_time": "2022-03-11T13:33:41.889Z"
   },
   {
    "duration": 5,
    "start_time": "2022-03-11T13:33:47.032Z"
   },
   {
    "duration": 89,
    "start_time": "2022-03-11T13:33:47.040Z"
   },
   {
    "duration": 6,
    "start_time": "2022-03-11T13:33:47.132Z"
   },
   {
    "duration": 9,
    "start_time": "2022-03-11T13:33:47.141Z"
   },
   {
    "duration": 65,
    "start_time": "2022-03-11T13:33:47.153Z"
   },
   {
    "duration": 98,
    "start_time": "2022-03-11T13:33:47.221Z"
   },
   {
    "duration": 6,
    "start_time": "2022-03-11T13:33:47.322Z"
   },
   {
    "duration": 24,
    "start_time": "2022-03-11T13:33:47.331Z"
   },
   {
    "duration": 27,
    "start_time": "2022-03-11T13:33:47.357Z"
   },
   {
    "duration": 45,
    "start_time": "2022-03-11T13:33:47.386Z"
   },
   {
    "duration": 3,
    "start_time": "2022-03-11T13:33:47.434Z"
   },
   {
    "duration": 9,
    "start_time": "2022-03-11T13:33:47.439Z"
   },
   {
    "duration": 47,
    "start_time": "2022-03-11T13:33:47.451Z"
   },
   {
    "duration": 9,
    "start_time": "2022-03-11T13:33:47.500Z"
   },
   {
    "duration": 13,
    "start_time": "2022-03-11T13:33:47.511Z"
   },
   {
    "duration": 14,
    "start_time": "2022-03-11T13:33:47.526Z"
   },
   {
    "duration": 12,
    "start_time": "2022-03-11T13:33:47.543Z"
   },
   {
    "duration": 34,
    "start_time": "2022-03-11T13:33:47.558Z"
   },
   {
    "duration": 17,
    "start_time": "2022-03-11T13:33:47.602Z"
   },
   {
    "duration": 20,
    "start_time": "2022-03-11T13:33:47.622Z"
   },
   {
    "duration": 7,
    "start_time": "2022-03-11T13:33:47.645Z"
   },
   {
    "duration": 59,
    "start_time": "2022-03-11T13:33:47.654Z"
   },
   {
    "duration": 516,
    "start_time": "2022-03-11T13:33:47.716Z"
   },
   {
    "duration": 5,
    "start_time": "2022-03-11T13:33:48.234Z"
   },
   {
    "duration": 7843,
    "start_time": "2022-03-11T13:33:48.242Z"
   },
   {
    "duration": 28,
    "start_time": "2022-03-11T13:33:56.088Z"
   },
   {
    "duration": 23,
    "start_time": "2022-03-11T13:33:56.119Z"
   },
   {
    "duration": 59,
    "start_time": "2022-03-11T13:33:56.145Z"
   },
   {
    "duration": 18,
    "start_time": "2022-03-11T13:33:56.207Z"
   },
   {
    "duration": 22,
    "start_time": "2022-03-11T13:33:56.228Z"
   },
   {
    "duration": 34,
    "start_time": "2022-03-11T13:33:56.252Z"
   },
   {
    "duration": 19,
    "start_time": "2022-03-11T13:33:56.289Z"
   },
   {
    "duration": 17,
    "start_time": "2022-03-11T13:33:56.311Z"
   },
   {
    "duration": 12,
    "start_time": "2022-03-11T13:33:56.331Z"
   },
   {
    "duration": 844,
    "start_time": "2022-03-11T13:33:56.346Z"
   },
   {
    "duration": 34,
    "start_time": "2022-03-11T13:33:57.193Z"
   },
   {
    "duration": 883,
    "start_time": "2022-03-11T13:33:57.229Z"
   },
   {
    "duration": 38,
    "start_time": "2022-03-11T13:33:58.114Z"
   },
   {
    "duration": 56,
    "start_time": "2022-03-11T13:33:58.155Z"
   },
   {
    "duration": 311,
    "start_time": "2022-03-11T13:33:58.214Z"
   },
   {
    "duration": 11,
    "start_time": "2022-03-11T13:33:58.528Z"
   },
   {
    "duration": 46,
    "start_time": "2022-03-11T13:33:58.541Z"
   },
   {
    "duration": 21,
    "start_time": "2022-03-11T13:33:58.589Z"
   },
   {
    "duration": 731,
    "start_time": "2022-03-11T13:33:58.612Z"
   },
   {
    "duration": 40,
    "start_time": "2022-03-11T13:33:59.346Z"
   },
   {
    "duration": 235,
    "start_time": "2022-03-11T13:33:59.388Z"
   },
   {
    "duration": 14,
    "start_time": "2022-03-11T13:33:59.626Z"
   },
   {
    "duration": 275,
    "start_time": "2022-03-11T13:33:59.642Z"
   },
   {
    "duration": 20,
    "start_time": "2022-03-11T13:33:59.920Z"
   },
   {
    "duration": 283,
    "start_time": "2022-03-11T13:33:59.943Z"
   },
   {
    "duration": 18,
    "start_time": "2022-03-11T13:34:00.229Z"
   },
   {
    "duration": 35,
    "start_time": "2022-03-11T13:34:00.250Z"
   },
   {
    "duration": 8,
    "start_time": "2022-03-11T13:34:00.288Z"
   },
   {
    "duration": 2956,
    "start_time": "2022-03-11T13:34:00.298Z"
   },
   {
    "duration": 6,
    "start_time": "2022-03-11T13:34:03.261Z"
   },
   {
    "duration": 3034,
    "start_time": "2022-03-11T13:34:03.281Z"
   },
   {
    "duration": 8,
    "start_time": "2022-03-11T13:34:06.317Z"
   },
   {
    "duration": 21,
    "start_time": "2022-03-11T13:34:06.327Z"
   },
   {
    "duration": 2301,
    "start_time": "2022-03-11T13:34:06.350Z"
   },
   {
    "duration": 5,
    "start_time": "2022-03-11T13:34:08.654Z"
   },
   {
    "duration": 2890,
    "start_time": "2022-03-11T13:34:08.662Z"
   },
   {
    "duration": 8,
    "start_time": "2022-03-11T13:34:11.554Z"
   },
   {
    "duration": 36,
    "start_time": "2022-03-11T13:34:11.565Z"
   },
   {
    "duration": 2596,
    "start_time": "2022-03-11T13:34:11.605Z"
   },
   {
    "duration": 7,
    "start_time": "2022-03-11T13:34:14.203Z"
   },
   {
    "duration": 2758,
    "start_time": "2022-03-11T13:34:14.213Z"
   },
   {
    "duration": 22,
    "start_time": "2022-03-11T13:34:16.974Z"
   },
   {
    "duration": 439,
    "start_time": "2022-03-11T13:34:16.999Z"
   },
   {
    "duration": 25,
    "start_time": "2022-03-11T13:34:17.440Z"
   },
   {
    "duration": 28,
    "start_time": "2022-03-11T13:34:17.483Z"
   },
   {
    "duration": 34,
    "start_time": "2022-03-11T13:34:17.514Z"
   },
   {
    "duration": 49,
    "start_time": "2022-03-11T13:34:17.550Z"
   },
   {
    "duration": 23,
    "start_time": "2022-03-11T13:34:17.602Z"
   },
   {
    "duration": 67,
    "start_time": "2022-03-11T13:34:17.627Z"
   },
   {
    "duration": 320,
    "start_time": "2022-03-11T13:34:17.697Z"
   },
   {
    "duration": 313,
    "start_time": "2022-03-11T13:34:18.020Z"
   },
   {
    "duration": 338,
    "start_time": "2022-03-11T13:34:18.335Z"
   },
   {
    "duration": 37,
    "start_time": "2022-03-11T13:34:18.676Z"
   },
   {
    "duration": 7,
    "start_time": "2022-03-11T13:34:18.716Z"
   },
   {
    "duration": 65,
    "start_time": "2022-03-11T13:34:18.725Z"
   },
   {
    "duration": 7,
    "start_time": "2022-03-11T13:34:18.793Z"
   },
   {
    "duration": 12,
    "start_time": "2022-03-11T13:48:35.397Z"
   },
   {
    "duration": 17,
    "start_time": "2022-03-11T13:48:42.446Z"
   },
   {
    "duration": 413,
    "start_time": "2022-03-11T13:52:17.024Z"
   },
   {
    "duration": 415,
    "start_time": "2022-03-11T13:52:30.491Z"
   },
   {
    "duration": 415,
    "start_time": "2022-03-11T13:53:58.773Z"
   },
   {
    "duration": 412,
    "start_time": "2022-03-11T13:54:04.621Z"
   },
   {
    "duration": 580,
    "start_time": "2022-03-11T14:11:24.382Z"
   },
   {
    "duration": 4,
    "start_time": "2022-03-11T14:14:36.687Z"
   },
   {
    "duration": 10,
    "start_time": "2022-03-11T14:15:24.498Z"
   },
   {
    "duration": 969,
    "start_time": "2022-03-11T14:17:46.396Z"
   },
   {
    "duration": 553,
    "start_time": "2022-03-11T14:19:15.350Z"
   },
   {
    "duration": 617,
    "start_time": "2022-03-11T14:19:23.339Z"
   },
   {
    "duration": 501,
    "start_time": "2022-03-11T14:19:50.066Z"
   },
   {
    "duration": 404,
    "start_time": "2022-03-11T14:20:51.787Z"
   },
   {
    "duration": 504,
    "start_time": "2022-03-11T14:20:56.485Z"
   },
   {
    "duration": 560,
    "start_time": "2022-03-11T14:21:01.710Z"
   },
   {
    "duration": 1303,
    "start_time": "2022-03-11T14:21:12.290Z"
   },
   {
    "duration": 2249,
    "start_time": "2022-03-11T14:21:19.405Z"
   },
   {
    "duration": 513,
    "start_time": "2022-03-11T14:21:28.325Z"
   },
   {
    "duration": 2273,
    "start_time": "2022-03-11T14:21:33.472Z"
   },
   {
    "duration": 894,
    "start_time": "2022-03-11T14:21:45.147Z"
   },
   {
    "duration": 865,
    "start_time": "2022-03-11T14:21:56.829Z"
   },
   {
    "duration": 1054,
    "start_time": "2022-03-11T14:22:10.722Z"
   },
   {
    "duration": 1006,
    "start_time": "2022-03-11T14:23:47.652Z"
   },
   {
    "duration": 819,
    "start_time": "2022-03-11T14:24:11.733Z"
   },
   {
    "duration": 825,
    "start_time": "2022-03-11T14:26:38.748Z"
   },
   {
    "duration": 31,
    "start_time": "2022-03-11T14:28:04.252Z"
   },
   {
    "duration": 7,
    "start_time": "2022-03-11T14:28:06.107Z"
   },
   {
    "duration": 30,
    "start_time": "2022-03-11T14:28:26.293Z"
   },
   {
    "duration": 7,
    "start_time": "2022-03-11T14:28:26.846Z"
   },
   {
    "duration": 1652,
    "start_time": "2022-03-12T12:36:03.584Z"
   },
   {
    "duration": 71,
    "start_time": "2022-03-12T12:36:05.239Z"
   },
   {
    "duration": 6,
    "start_time": "2022-03-12T12:36:05.313Z"
   },
   {
    "duration": 11,
    "start_time": "2022-03-12T12:36:05.322Z"
   },
   {
    "duration": 59,
    "start_time": "2022-03-12T12:36:05.336Z"
   },
   {
    "duration": 50,
    "start_time": "2022-03-12T12:36:05.398Z"
   },
   {
    "duration": 6,
    "start_time": "2022-03-12T12:36:05.451Z"
   },
   {
    "duration": 18,
    "start_time": "2022-03-12T12:36:05.486Z"
   },
   {
    "duration": 7,
    "start_time": "2022-03-12T12:36:05.509Z"
   },
   {
    "duration": 64,
    "start_time": "2022-03-12T12:36:05.518Z"
   },
   {
    "duration": 3,
    "start_time": "2022-03-12T12:36:05.585Z"
   },
   {
    "duration": 11,
    "start_time": "2022-03-12T12:36:05.591Z"
   },
   {
    "duration": 10,
    "start_time": "2022-03-12T12:36:05.605Z"
   },
   {
    "duration": 9,
    "start_time": "2022-03-12T12:36:05.618Z"
   },
   {
    "duration": 19,
    "start_time": "2022-03-12T12:36:05.629Z"
   },
   {
    "duration": 33,
    "start_time": "2022-03-12T12:36:05.650Z"
   },
   {
    "duration": 17,
    "start_time": "2022-03-12T12:36:05.686Z"
   },
   {
    "duration": 20,
    "start_time": "2022-03-12T12:36:05.705Z"
   },
   {
    "duration": 19,
    "start_time": "2022-03-12T12:36:05.727Z"
   },
   {
    "duration": 36,
    "start_time": "2022-03-12T12:36:05.748Z"
   },
   {
    "duration": 14,
    "start_time": "2022-03-12T12:36:05.787Z"
   },
   {
    "duration": 24,
    "start_time": "2022-03-12T12:36:05.803Z"
   },
   {
    "duration": 508,
    "start_time": "2022-03-12T12:36:05.835Z"
   },
   {
    "duration": 6,
    "start_time": "2022-03-12T12:36:06.349Z"
   },
   {
    "duration": 7243,
    "start_time": "2022-03-12T12:36:06.357Z"
   },
   {
    "duration": 26,
    "start_time": "2022-03-12T12:36:13.603Z"
   },
   {
    "duration": 22,
    "start_time": "2022-03-12T12:36:13.631Z"
   },
   {
    "duration": 22,
    "start_time": "2022-03-12T12:36:13.683Z"
   },
   {
    "duration": 17,
    "start_time": "2022-03-12T12:36:13.708Z"
   },
   {
    "duration": 19,
    "start_time": "2022-03-12T12:36:13.727Z"
   },
   {
    "duration": 36,
    "start_time": "2022-03-12T12:36:13.748Z"
   },
   {
    "duration": 24,
    "start_time": "2022-03-12T12:36:13.786Z"
   },
   {
    "duration": 20,
    "start_time": "2022-03-12T12:36:13.812Z"
   },
   {
    "duration": 6,
    "start_time": "2022-03-12T12:36:13.835Z"
   },
   {
    "duration": 862,
    "start_time": "2022-03-12T12:36:13.844Z"
   },
   {
    "duration": 34,
    "start_time": "2022-03-12T12:36:14.709Z"
   },
   {
    "duration": 961,
    "start_time": "2022-03-12T12:36:14.746Z"
   },
   {
    "duration": 37,
    "start_time": "2022-03-12T12:36:15.709Z"
   },
   {
    "duration": 39,
    "start_time": "2022-03-12T12:36:15.748Z"
   },
   {
    "duration": 512,
    "start_time": "2022-03-12T12:36:15.789Z"
   },
   {
    "duration": 11,
    "start_time": "2022-03-12T12:36:16.304Z"
   },
   {
    "duration": 33,
    "start_time": "2022-03-12T12:36:16.317Z"
   },
   {
    "duration": 35,
    "start_time": "2022-03-12T12:36:16.353Z"
   },
   {
    "duration": 675,
    "start_time": "2022-03-12T12:36:16.391Z"
   },
   {
    "duration": 25,
    "start_time": "2022-03-12T12:36:17.069Z"
   },
   {
    "duration": 332,
    "start_time": "2022-03-12T12:36:17.097Z"
   },
   {
    "duration": 15,
    "start_time": "2022-03-12T12:36:17.431Z"
   },
   {
    "duration": 285,
    "start_time": "2022-03-12T12:36:17.448Z"
   },
   {
    "duration": 18,
    "start_time": "2022-03-12T12:36:17.736Z"
   },
   {
    "duration": 266,
    "start_time": "2022-03-12T12:36:17.756Z"
   },
   {
    "duration": 17,
    "start_time": "2022-03-12T12:36:18.025Z"
   },
   {
    "duration": 785,
    "start_time": "2022-03-12T12:36:18.045Z"
   },
   {
    "duration": 7,
    "start_time": "2022-03-12T12:36:18.833Z"
   },
   {
    "duration": 10,
    "start_time": "2022-03-12T12:36:18.842Z"
   },
   {
    "duration": 2851,
    "start_time": "2022-03-12T12:36:18.854Z"
   },
   {
    "duration": 6,
    "start_time": "2022-03-12T12:36:21.707Z"
   },
   {
    "duration": 3122,
    "start_time": "2022-03-12T12:36:21.715Z"
   },
   {
    "duration": 7,
    "start_time": "2022-03-12T12:36:24.839Z"
   },
   {
    "duration": 8,
    "start_time": "2022-03-12T12:36:24.848Z"
   },
   {
    "duration": 2261,
    "start_time": "2022-03-12T12:36:24.858Z"
   },
   {
    "duration": 6,
    "start_time": "2022-03-12T12:36:27.121Z"
   },
   {
    "duration": 2642,
    "start_time": "2022-03-12T12:36:27.129Z"
   },
   {
    "duration": 13,
    "start_time": "2022-03-12T12:36:29.774Z"
   },
   {
    "duration": 6,
    "start_time": "2022-03-12T12:36:29.790Z"
   },
   {
    "duration": 2584,
    "start_time": "2022-03-12T12:36:29.798Z"
   },
   {
    "duration": 6,
    "start_time": "2022-03-12T12:36:32.384Z"
   },
   {
    "duration": 2749,
    "start_time": "2022-03-12T12:36:32.392Z"
   },
   {
    "duration": 16,
    "start_time": "2022-03-12T12:36:35.148Z"
   },
   {
    "duration": 440,
    "start_time": "2022-03-12T12:36:35.167Z"
   },
   {
    "duration": 26,
    "start_time": "2022-03-12T12:36:35.610Z"
   },
   {
    "duration": 49,
    "start_time": "2022-03-12T12:36:35.638Z"
   },
   {
    "duration": 24,
    "start_time": "2022-03-12T12:36:35.689Z"
   },
   {
    "duration": 23,
    "start_time": "2022-03-12T12:36:35.716Z"
   },
   {
    "duration": 55,
    "start_time": "2022-03-12T12:36:35.742Z"
   },
   {
    "duration": 22,
    "start_time": "2022-03-12T12:36:35.800Z"
   },
   {
    "duration": 313,
    "start_time": "2022-03-12T12:36:35.824Z"
   },
   {
    "duration": 295,
    "start_time": "2022-03-12T12:36:36.140Z"
   },
   {
    "duration": 322,
    "start_time": "2022-03-12T12:36:36.438Z"
   },
   {
    "duration": 41,
    "start_time": "2022-03-12T12:36:36.763Z"
   },
   {
    "duration": 8,
    "start_time": "2022-03-12T12:36:36.806Z"
   },
   {
    "duration": 30,
    "start_time": "2022-03-12T12:36:36.817Z"
   },
   {
    "duration": 35,
    "start_time": "2022-03-12T12:36:36.850Z"
   },
   {
    "duration": 1091,
    "start_time": "2022-03-14T09:19:20.897Z"
   },
   {
    "duration": 57,
    "start_time": "2022-03-14T09:19:21.989Z"
   },
   {
    "duration": 5,
    "start_time": "2022-03-14T09:19:22.048Z"
   },
   {
    "duration": 7,
    "start_time": "2022-03-14T09:19:22.055Z"
   },
   {
    "duration": 20,
    "start_time": "2022-03-14T09:19:22.063Z"
   },
   {
    "duration": 49,
    "start_time": "2022-03-14T09:19:22.085Z"
   },
   {
    "duration": 4,
    "start_time": "2022-03-14T09:19:22.135Z"
   },
   {
    "duration": 13,
    "start_time": "2022-03-14T09:19:22.141Z"
   },
   {
    "duration": 3,
    "start_time": "2022-03-14T09:19:22.157Z"
   },
   {
    "duration": 20,
    "start_time": "2022-03-14T09:19:22.162Z"
   },
   {
    "duration": 2,
    "start_time": "2022-03-14T09:19:22.183Z"
   },
   {
    "duration": 6,
    "start_time": "2022-03-14T09:19:22.187Z"
   },
   {
    "duration": 38,
    "start_time": "2022-03-14T09:19:22.195Z"
   },
   {
    "duration": 4,
    "start_time": "2022-03-14T09:19:22.234Z"
   },
   {
    "duration": 10,
    "start_time": "2022-03-14T09:19:22.239Z"
   },
   {
    "duration": 9,
    "start_time": "2022-03-14T09:19:22.250Z"
   },
   {
    "duration": 13,
    "start_time": "2022-03-14T09:19:22.261Z"
   },
   {
    "duration": 11,
    "start_time": "2022-03-14T09:19:22.276Z"
   },
   {
    "duration": 11,
    "start_time": "2022-03-14T09:19:22.289Z"
   },
   {
    "duration": 39,
    "start_time": "2022-03-14T09:19:22.301Z"
   },
   {
    "duration": 5,
    "start_time": "2022-03-14T09:19:22.342Z"
   },
   {
    "duration": 15,
    "start_time": "2022-03-14T09:19:22.349Z"
   },
   {
    "duration": 315,
    "start_time": "2022-03-14T09:19:22.366Z"
   },
   {
    "duration": 5,
    "start_time": "2022-03-14T09:19:22.683Z"
   },
   {
    "duration": 4177,
    "start_time": "2022-03-14T09:19:22.689Z"
   },
   {
    "duration": 15,
    "start_time": "2022-03-14T09:19:26.867Z"
   },
   {
    "duration": 14,
    "start_time": "2022-03-14T09:19:26.886Z"
   },
   {
    "duration": 35,
    "start_time": "2022-03-14T09:19:26.902Z"
   },
   {
    "duration": 12,
    "start_time": "2022-03-14T09:19:26.939Z"
   },
   {
    "duration": 11,
    "start_time": "2022-03-14T09:19:26.952Z"
   },
   {
    "duration": 5,
    "start_time": "2022-03-14T09:19:26.965Z"
   },
   {
    "duration": 13,
    "start_time": "2022-03-14T09:19:26.971Z"
   },
   {
    "duration": 13,
    "start_time": "2022-03-14T09:19:26.985Z"
   },
   {
    "duration": 5,
    "start_time": "2022-03-14T09:19:27.033Z"
   },
   {
    "duration": 476,
    "start_time": "2022-03-14T09:19:27.040Z"
   },
   {
    "duration": 28,
    "start_time": "2022-03-14T09:19:27.519Z"
   },
   {
    "duration": 499,
    "start_time": "2022-03-14T09:19:27.549Z"
   },
   {
    "duration": 22,
    "start_time": "2022-03-14T09:19:28.049Z"
   },
   {
    "duration": 18,
    "start_time": "2022-03-14T09:19:28.073Z"
   },
   {
    "duration": 373,
    "start_time": "2022-03-14T09:19:28.093Z"
   },
   {
    "duration": 7,
    "start_time": "2022-03-14T09:19:28.467Z"
   },
   {
    "duration": 15,
    "start_time": "2022-03-14T09:19:28.475Z"
   },
   {
    "duration": 13,
    "start_time": "2022-03-14T09:19:28.492Z"
   },
   {
    "duration": 285,
    "start_time": "2022-03-14T09:19:28.506Z"
   },
   {
    "duration": 13,
    "start_time": "2022-03-14T09:19:28.793Z"
   },
   {
    "duration": 142,
    "start_time": "2022-03-14T09:19:28.808Z"
   },
   {
    "duration": 9,
    "start_time": "2022-03-14T09:19:28.952Z"
   },
   {
    "duration": 171,
    "start_time": "2022-03-14T09:19:28.963Z"
   },
   {
    "duration": 12,
    "start_time": "2022-03-14T09:19:29.136Z"
   },
   {
    "duration": 162,
    "start_time": "2022-03-14T09:19:29.150Z"
   },
   {
    "duration": 12,
    "start_time": "2022-03-14T09:19:29.314Z"
   },
   {
    "duration": 472,
    "start_time": "2022-03-14T09:19:29.333Z"
   },
   {
    "duration": 5,
    "start_time": "2022-03-14T09:19:29.807Z"
   },
   {
    "duration": 6,
    "start_time": "2022-03-14T09:19:29.813Z"
   },
   {
    "duration": 1706,
    "start_time": "2022-03-14T09:19:29.821Z"
   },
   {
    "duration": 4,
    "start_time": "2022-03-14T09:19:31.533Z"
   },
   {
    "duration": 1840,
    "start_time": "2022-03-14T09:19:31.539Z"
   },
   {
    "duration": 6,
    "start_time": "2022-03-14T09:19:33.381Z"
   },
   {
    "duration": 6,
    "start_time": "2022-03-14T09:19:33.388Z"
   },
   {
    "duration": 1424,
    "start_time": "2022-03-14T09:19:33.395Z"
   },
   {
    "duration": 4,
    "start_time": "2022-03-14T09:19:34.821Z"
   },
   {
    "duration": 1555,
    "start_time": "2022-03-14T09:19:34.833Z"
   },
   {
    "duration": 6,
    "start_time": "2022-03-14T09:19:36.390Z"
   },
   {
    "duration": 6,
    "start_time": "2022-03-14T09:19:36.397Z"
   },
   {
    "duration": 1483,
    "start_time": "2022-03-14T09:19:36.405Z"
   },
   {
    "duration": 4,
    "start_time": "2022-03-14T09:19:37.889Z"
   },
   {
    "duration": 1683,
    "start_time": "2022-03-14T09:19:37.895Z"
   },
   {
    "duration": 11,
    "start_time": "2022-03-14T09:19:39.580Z"
   },
   {
    "duration": 252,
    "start_time": "2022-03-14T09:19:39.592Z"
   },
   {
    "duration": 17,
    "start_time": "2022-03-14T09:19:39.845Z"
   },
   {
    "duration": 15,
    "start_time": "2022-03-14T09:19:39.863Z"
   },
   {
    "duration": 15,
    "start_time": "2022-03-14T09:19:39.879Z"
   },
   {
    "duration": 39,
    "start_time": "2022-03-14T09:19:39.895Z"
   },
   {
    "duration": 19,
    "start_time": "2022-03-14T09:19:39.936Z"
   },
   {
    "duration": 20,
    "start_time": "2022-03-14T09:19:39.957Z"
   },
   {
    "duration": 2,
    "start_time": "2022-03-14T09:19:39.978Z"
   },
   {
    "duration": 5,
    "start_time": "2022-03-14T09:19:39.982Z"
   },
   {
    "duration": 5,
    "start_time": "2022-03-14T09:19:39.989Z"
   },
   {
    "duration": 51,
    "start_time": "2022-03-14T09:19:39.996Z"
   },
   {
    "duration": 6,
    "start_time": "2022-03-14T09:19:40.048Z"
   },
   {
    "duration": 23,
    "start_time": "2022-03-14T09:19:40.059Z"
   },
   {
    "duration": 5,
    "start_time": "2022-03-14T09:19:40.084Z"
   },
   {
    "duration": 187,
    "start_time": "2022-03-14T09:20:21.251Z"
   },
   {
    "duration": 1005,
    "start_time": "2022-03-14T09:48:54.108Z"
   },
   {
    "duration": 752,
    "start_time": "2022-03-14T09:49:20.245Z"
   },
   {
    "duration": 168,
    "start_time": "2022-03-14T09:50:01.278Z"
   },
   {
    "duration": 175,
    "start_time": "2022-03-14T09:56:43.692Z"
   },
   {
    "duration": 172,
    "start_time": "2022-03-14T09:57:18.204Z"
   },
   {
    "duration": 169,
    "start_time": "2022-03-14T09:57:42.459Z"
   },
   {
    "duration": 116,
    "start_time": "2022-03-14T09:57:54.258Z"
   },
   {
    "duration": 242,
    "start_time": "2022-03-14T09:58:01.735Z"
   },
   {
    "duration": 145,
    "start_time": "2022-03-14T10:00:51.778Z"
   },
   {
    "duration": 145,
    "start_time": "2022-03-14T10:01:38.350Z"
   },
   {
    "duration": 146,
    "start_time": "2022-03-14T10:02:10.216Z"
   },
   {
    "duration": 145,
    "start_time": "2022-03-14T10:02:50.804Z"
   },
   {
    "duration": 146,
    "start_time": "2022-03-14T10:02:55.741Z"
   },
   {
    "duration": 142,
    "start_time": "2022-03-14T10:03:29.120Z"
   },
   {
    "duration": 146,
    "start_time": "2022-03-14T10:03:34.818Z"
   },
   {
    "duration": 141,
    "start_time": "2022-03-14T10:03:43.821Z"
   },
   {
    "duration": 162,
    "start_time": "2022-03-14T10:06:08.532Z"
   },
   {
    "duration": 156,
    "start_time": "2022-03-14T10:06:16.904Z"
   },
   {
    "duration": 150,
    "start_time": "2022-03-14T10:06:25.889Z"
   },
   {
    "duration": 314,
    "start_time": "2022-03-15T05:42:05.893Z"
   },
   {
    "duration": 1006,
    "start_time": "2022-03-15T05:42:11.524Z"
   },
   {
    "duration": 53,
    "start_time": "2022-03-15T05:42:12.531Z"
   },
   {
    "duration": 4,
    "start_time": "2022-03-15T05:42:12.586Z"
   },
   {
    "duration": 6,
    "start_time": "2022-03-15T05:42:12.592Z"
   },
   {
    "duration": 17,
    "start_time": "2022-03-15T05:42:12.599Z"
   },
   {
    "duration": 27,
    "start_time": "2022-03-15T05:42:12.617Z"
   },
   {
    "duration": 3,
    "start_time": "2022-03-15T05:42:12.645Z"
   },
   {
    "duration": 34,
    "start_time": "2022-03-15T05:42:12.649Z"
   },
   {
    "duration": 4,
    "start_time": "2022-03-15T05:42:12.686Z"
   },
   {
    "duration": 19,
    "start_time": "2022-03-15T05:42:12.692Z"
   },
   {
    "duration": 2,
    "start_time": "2022-03-15T05:42:12.712Z"
   },
   {
    "duration": 7,
    "start_time": "2022-03-15T05:42:12.715Z"
   },
   {
    "duration": 8,
    "start_time": "2022-03-15T05:42:12.723Z"
   },
   {
    "duration": 5,
    "start_time": "2022-03-15T05:42:12.732Z"
   },
   {
    "duration": 7,
    "start_time": "2022-03-15T05:42:12.738Z"
   },
   {
    "duration": 5,
    "start_time": "2022-03-15T05:42:12.747Z"
   },
   {
    "duration": 29,
    "start_time": "2022-03-15T05:42:12.754Z"
   },
   {
    "duration": 6,
    "start_time": "2022-03-15T05:42:12.784Z"
   },
   {
    "duration": 11,
    "start_time": "2022-03-15T05:42:12.791Z"
   },
   {
    "duration": 12,
    "start_time": "2022-03-15T05:42:12.804Z"
   },
   {
    "duration": 8,
    "start_time": "2022-03-15T05:42:12.818Z"
   },
   {
    "duration": 12,
    "start_time": "2022-03-15T05:42:12.827Z"
   },
   {
    "duration": 286,
    "start_time": "2022-03-15T05:42:12.840Z"
   },
   {
    "duration": 4,
    "start_time": "2022-03-15T05:42:13.127Z"
   },
   {
    "duration": 4014,
    "start_time": "2022-03-15T05:42:13.132Z"
   },
   {
    "duration": 14,
    "start_time": "2022-03-15T05:42:17.148Z"
   },
   {
    "duration": 26,
    "start_time": "2022-03-15T05:42:17.166Z"
   },
   {
    "duration": 12,
    "start_time": "2022-03-15T05:42:17.194Z"
   },
   {
    "duration": 9,
    "start_time": "2022-03-15T05:42:17.208Z"
   },
   {
    "duration": 11,
    "start_time": "2022-03-15T05:42:17.218Z"
   },
   {
    "duration": 8,
    "start_time": "2022-03-15T05:42:17.230Z"
   },
   {
    "duration": 20,
    "start_time": "2022-03-15T05:42:17.239Z"
   },
   {
    "duration": 28,
    "start_time": "2022-03-15T05:42:17.260Z"
   },
   {
    "duration": 4,
    "start_time": "2022-03-15T05:42:17.289Z"
   },
   {
    "duration": 456,
    "start_time": "2022-03-15T05:42:17.294Z"
   },
   {
    "duration": 30,
    "start_time": "2022-03-15T05:42:17.752Z"
   },
   {
    "duration": 457,
    "start_time": "2022-03-15T05:42:17.783Z"
   },
   {
    "duration": 21,
    "start_time": "2022-03-15T05:42:18.241Z"
   },
   {
    "duration": 31,
    "start_time": "2022-03-15T05:42:18.264Z"
   },
   {
    "duration": 336,
    "start_time": "2022-03-15T05:42:18.296Z"
   },
   {
    "duration": 6,
    "start_time": "2022-03-15T05:42:18.633Z"
   },
   {
    "duration": 19,
    "start_time": "2022-03-15T05:42:18.641Z"
   },
   {
    "duration": 20,
    "start_time": "2022-03-15T05:42:18.661Z"
   },
   {
    "duration": 236,
    "start_time": "2022-03-15T05:42:18.682Z"
   },
   {
    "duration": 13,
    "start_time": "2022-03-15T05:42:18.919Z"
   },
   {
    "duration": 127,
    "start_time": "2022-03-15T05:42:18.934Z"
   },
   {
    "duration": 19,
    "start_time": "2022-03-15T05:42:19.062Z"
   },
   {
    "duration": 139,
    "start_time": "2022-03-15T05:42:19.082Z"
   },
   {
    "duration": 12,
    "start_time": "2022-03-15T05:42:19.222Z"
   },
   {
    "duration": 149,
    "start_time": "2022-03-15T05:42:19.235Z"
   },
   {
    "duration": 10,
    "start_time": "2022-03-15T05:42:19.386Z"
   },
   {
    "duration": 445,
    "start_time": "2022-03-15T05:42:19.398Z"
   },
   {
    "duration": 5,
    "start_time": "2022-03-15T05:42:19.844Z"
   },
   {
    "duration": 6,
    "start_time": "2022-03-15T05:42:19.850Z"
   },
   {
    "duration": 1618,
    "start_time": "2022-03-15T05:42:19.857Z"
   },
   {
    "duration": 4,
    "start_time": "2022-03-15T05:42:21.480Z"
   },
   {
    "duration": 1709,
    "start_time": "2022-03-15T05:42:21.486Z"
   },
   {
    "duration": 5,
    "start_time": "2022-03-15T05:42:23.197Z"
   },
   {
    "duration": 8,
    "start_time": "2022-03-15T05:42:23.203Z"
   },
   {
    "duration": 1279,
    "start_time": "2022-03-15T05:42:23.212Z"
   },
   {
    "duration": 4,
    "start_time": "2022-03-15T05:42:24.493Z"
   },
   {
    "duration": 1458,
    "start_time": "2022-03-15T05:42:24.498Z"
   },
   {
    "duration": 5,
    "start_time": "2022-03-15T05:42:25.957Z"
   },
   {
    "duration": 8,
    "start_time": "2022-03-15T05:42:25.964Z"
   },
   {
    "duration": 1454,
    "start_time": "2022-03-15T05:42:25.973Z"
   },
   {
    "duration": 4,
    "start_time": "2022-03-15T05:42:27.428Z"
   },
   {
    "duration": 1642,
    "start_time": "2022-03-15T05:42:27.433Z"
   },
   {
    "duration": 11,
    "start_time": "2022-03-15T05:42:29.077Z"
   },
   {
    "duration": 229,
    "start_time": "2022-03-15T05:42:29.089Z"
   },
   {
    "duration": 14,
    "start_time": "2022-03-15T05:42:29.320Z"
   },
   {
    "duration": 13,
    "start_time": "2022-03-15T05:42:29.336Z"
   },
   {
    "duration": 35,
    "start_time": "2022-03-15T05:42:29.350Z"
   },
   {
    "duration": 13,
    "start_time": "2022-03-15T05:42:29.386Z"
   },
   {
    "duration": 14,
    "start_time": "2022-03-15T05:42:29.401Z"
   },
   {
    "duration": 13,
    "start_time": "2022-03-15T05:42:29.416Z"
   },
   {
    "duration": 2,
    "start_time": "2022-03-15T05:42:29.430Z"
   },
   {
    "duration": 6,
    "start_time": "2022-03-15T05:42:29.433Z"
   },
   {
    "duration": 4,
    "start_time": "2022-03-15T05:42:29.440Z"
   },
   {
    "duration": 356,
    "start_time": "2022-03-15T05:42:29.445Z"
   },
   {
    "duration": 27,
    "start_time": "2022-03-15T05:42:29.776Z"
   },
   {
    "duration": 22,
    "start_time": "2022-03-15T05:42:29.782Z"
   },
   {
    "duration": 16,
    "start_time": "2022-03-15T05:42:29.789Z"
   },
   {
    "duration": 12,
    "start_time": "2022-03-15T05:42:29.794Z"
   },
   {
    "duration": 6,
    "start_time": "2022-03-15T05:42:29.800Z"
   },
   {
    "duration": 2,
    "start_time": "2022-03-15T05:42:29.805Z"
   },
   {
    "duration": 159,
    "start_time": "2022-03-15T05:45:25.268Z"
   },
   {
    "duration": 180,
    "start_time": "2022-03-15T05:46:08.024Z"
   },
   {
    "duration": 296,
    "start_time": "2022-03-15T05:46:29.069Z"
   },
   {
    "duration": 166,
    "start_time": "2022-03-15T05:47:18.880Z"
   },
   {
    "duration": 2,
    "start_time": "2022-03-15T05:47:26.411Z"
   },
   {
    "duration": 308,
    "start_time": "2022-03-15T05:47:40.745Z"
   },
   {
    "duration": 159,
    "start_time": "2022-03-15T05:48:27.648Z"
   },
   {
    "duration": 149,
    "start_time": "2022-03-15T05:48:52.335Z"
   },
   {
    "duration": 3,
    "start_time": "2022-03-15T05:49:32.755Z"
   },
   {
    "duration": 2,
    "start_time": "2022-03-15T05:49:45.338Z"
   },
   {
    "duration": 3,
    "start_time": "2022-03-15T05:49:50.044Z"
   },
   {
    "duration": 151,
    "start_time": "2022-03-15T05:56:42.223Z"
   },
   {
    "duration": 165,
    "start_time": "2022-03-15T05:56:46.083Z"
   },
   {
    "duration": 247,
    "start_time": "2022-03-15T05:56:48.780Z"
   },
   {
    "duration": 152,
    "start_time": "2022-03-15T06:02:28.669Z"
   },
   {
    "duration": 95,
    "start_time": "2022-03-15T06:02:49.256Z"
   },
   {
    "duration": 4,
    "start_time": "2022-03-15T06:03:21.854Z"
   },
   {
    "duration": 53,
    "start_time": "2022-03-15T06:03:21.860Z"
   },
   {
    "duration": 4,
    "start_time": "2022-03-15T06:03:21.915Z"
   },
   {
    "duration": 8,
    "start_time": "2022-03-15T06:03:21.920Z"
   },
   {
    "duration": 19,
    "start_time": "2022-03-15T06:03:21.929Z"
   },
   {
    "duration": 28,
    "start_time": "2022-03-15T06:03:21.949Z"
   },
   {
    "duration": 3,
    "start_time": "2022-03-15T06:03:21.981Z"
   },
   {
    "duration": 12,
    "start_time": "2022-03-15T06:03:21.986Z"
   },
   {
    "duration": 5,
    "start_time": "2022-03-15T06:03:22.000Z"
   },
   {
    "duration": 18,
    "start_time": "2022-03-15T06:03:22.006Z"
   },
   {
    "duration": 2,
    "start_time": "2022-03-15T06:03:22.026Z"
   },
   {
    "duration": 6,
    "start_time": "2022-03-15T06:03:22.029Z"
   },
   {
    "duration": 9,
    "start_time": "2022-03-15T06:03:22.036Z"
   },
   {
    "duration": 6,
    "start_time": "2022-03-15T06:03:22.046Z"
   },
   {
    "duration": 7,
    "start_time": "2022-03-15T06:03:22.054Z"
   },
   {
    "duration": 9,
    "start_time": "2022-03-15T06:03:22.062Z"
   },
   {
    "duration": 12,
    "start_time": "2022-03-15T06:03:22.072Z"
   },
   {
    "duration": 9,
    "start_time": "2022-03-15T06:03:22.085Z"
   },
   {
    "duration": 11,
    "start_time": "2022-03-15T06:03:22.096Z"
   },
   {
    "duration": 12,
    "start_time": "2022-03-15T06:03:22.108Z"
   },
   {
    "duration": 5,
    "start_time": "2022-03-15T06:03:22.121Z"
   },
   {
    "duration": 13,
    "start_time": "2022-03-15T06:03:22.128Z"
   },
   {
    "duration": 269,
    "start_time": "2022-03-15T06:03:22.143Z"
   },
   {
    "duration": 3,
    "start_time": "2022-03-15T06:03:22.414Z"
   },
   {
    "duration": 4012,
    "start_time": "2022-03-15T06:03:22.419Z"
   },
   {
    "duration": 14,
    "start_time": "2022-03-15T06:03:26.432Z"
   },
   {
    "duration": 12,
    "start_time": "2022-03-15T06:03:26.450Z"
   },
   {
    "duration": 13,
    "start_time": "2022-03-15T06:03:26.480Z"
   },
   {
    "duration": 11,
    "start_time": "2022-03-15T06:03:26.495Z"
   },
   {
    "duration": 19,
    "start_time": "2022-03-15T06:03:26.507Z"
   },
   {
    "duration": 7,
    "start_time": "2022-03-15T06:03:26.527Z"
   },
   {
    "duration": 14,
    "start_time": "2022-03-15T06:03:26.535Z"
   },
   {
    "duration": 31,
    "start_time": "2022-03-15T06:03:26.550Z"
   },
   {
    "duration": 4,
    "start_time": "2022-03-15T06:03:26.582Z"
   },
   {
    "duration": 441,
    "start_time": "2022-03-15T06:03:26.588Z"
   },
   {
    "duration": 19,
    "start_time": "2022-03-15T06:03:27.030Z"
   },
   {
    "duration": 475,
    "start_time": "2022-03-15T06:03:27.051Z"
   },
   {
    "duration": 20,
    "start_time": "2022-03-15T06:03:27.528Z"
   },
   {
    "duration": 34,
    "start_time": "2022-03-15T06:03:27.549Z"
   },
   {
    "duration": 166,
    "start_time": "2022-03-15T06:03:27.584Z"
   },
   {
    "duration": 6,
    "start_time": "2022-03-15T06:03:27.752Z"
   },
   {
    "duration": 27,
    "start_time": "2022-03-15T06:03:27.760Z"
   },
   {
    "duration": 11,
    "start_time": "2022-03-15T06:03:27.788Z"
   },
   {
    "duration": 234,
    "start_time": "2022-03-15T06:03:27.800Z"
   },
   {
    "duration": 14,
    "start_time": "2022-03-15T06:03:28.036Z"
   },
   {
    "duration": 139,
    "start_time": "2022-03-15T06:03:28.052Z"
   },
   {
    "duration": 10,
    "start_time": "2022-03-15T06:03:28.193Z"
   },
   {
    "duration": 388,
    "start_time": "2022-03-15T06:03:28.205Z"
   },
   {
    "duration": 10,
    "start_time": "2022-03-15T06:03:28.595Z"
   },
   {
    "duration": 155,
    "start_time": "2022-03-15T06:03:28.607Z"
   },
   {
    "duration": 23,
    "start_time": "2022-03-15T06:03:28.764Z"
   },
   {
    "duration": 462,
    "start_time": "2022-03-15T06:03:28.789Z"
   },
   {
    "duration": 5,
    "start_time": "2022-03-15T06:03:29.253Z"
   },
   {
    "duration": 6,
    "start_time": "2022-03-15T06:03:29.259Z"
   },
   {
    "duration": 1690,
    "start_time": "2022-03-15T06:03:29.266Z"
   },
   {
    "duration": 5,
    "start_time": "2022-03-15T06:03:30.957Z"
   },
   {
    "duration": 1655,
    "start_time": "2022-03-15T06:03:30.963Z"
   },
   {
    "duration": 5,
    "start_time": "2022-03-15T06:03:32.619Z"
   },
   {
    "duration": 5,
    "start_time": "2022-03-15T06:03:32.626Z"
   },
   {
    "duration": 1540,
    "start_time": "2022-03-15T06:03:32.633Z"
   },
   {
    "duration": 7,
    "start_time": "2022-03-15T06:03:34.174Z"
   },
   {
    "duration": 1689,
    "start_time": "2022-03-15T06:03:34.183Z"
   },
   {
    "duration": 9,
    "start_time": "2022-03-15T06:03:35.874Z"
   },
   {
    "duration": 13,
    "start_time": "2022-03-15T06:03:35.884Z"
   },
   {
    "duration": 1444,
    "start_time": "2022-03-15T06:03:35.899Z"
   },
   {
    "duration": 4,
    "start_time": "2022-03-15T06:03:37.344Z"
   },
   {
    "duration": 1551,
    "start_time": "2022-03-15T06:03:37.350Z"
   },
   {
    "duration": 10,
    "start_time": "2022-03-15T06:03:38.903Z"
   },
   {
    "duration": 235,
    "start_time": "2022-03-15T06:03:38.914Z"
   },
   {
    "duration": 15,
    "start_time": "2022-03-15T06:03:39.150Z"
   },
   {
    "duration": 26,
    "start_time": "2022-03-15T06:03:39.166Z"
   },
   {
    "duration": 14,
    "start_time": "2022-03-15T06:03:39.193Z"
   },
   {
    "duration": 14,
    "start_time": "2022-03-15T06:03:39.208Z"
   },
   {
    "duration": 20,
    "start_time": "2022-03-15T06:03:39.224Z"
   },
   {
    "duration": 14,
    "start_time": "2022-03-15T06:03:39.245Z"
   },
   {
    "duration": 185,
    "start_time": "2022-03-15T06:03:39.260Z"
   },
   {
    "duration": 159,
    "start_time": "2022-03-15T06:03:39.446Z"
   },
   {
    "duration": 313,
    "start_time": "2022-03-15T06:03:39.606Z"
   },
   {
    "duration": 2,
    "start_time": "2022-03-15T06:03:39.920Z"
   },
   {
    "duration": 15,
    "start_time": "2022-03-15T06:03:39.923Z"
   },
   {
    "duration": 14,
    "start_time": "2022-03-15T06:03:39.943Z"
   },
   {
    "duration": 23,
    "start_time": "2022-03-15T06:03:39.959Z"
   },
   {
    "duration": 12,
    "start_time": "2022-03-15T06:03:39.984Z"
   },
   {
    "duration": 33,
    "start_time": "2022-03-15T06:03:39.997Z"
   },
   {
    "duration": 4,
    "start_time": "2022-03-15T06:03:40.032Z"
   },
   {
    "duration": 3,
    "start_time": "2022-03-15T06:07:50.134Z"
   },
   {
    "duration": 76,
    "start_time": "2022-03-15T06:07:50.139Z"
   },
   {
    "duration": 4,
    "start_time": "2022-03-15T06:07:50.217Z"
   },
   {
    "duration": 21,
    "start_time": "2022-03-15T06:07:50.222Z"
   },
   {
    "duration": 51,
    "start_time": "2022-03-15T06:07:50.244Z"
   },
   {
    "duration": 36,
    "start_time": "2022-03-15T06:07:50.296Z"
   },
   {
    "duration": 20,
    "start_time": "2022-03-15T06:07:50.334Z"
   },
   {
    "duration": 40,
    "start_time": "2022-03-15T06:07:50.355Z"
   },
   {
    "duration": 34,
    "start_time": "2022-03-15T06:07:50.396Z"
   },
   {
    "duration": 29,
    "start_time": "2022-03-15T06:07:50.432Z"
   },
   {
    "duration": 18,
    "start_time": "2022-03-15T06:07:50.463Z"
   },
   {
    "duration": 35,
    "start_time": "2022-03-15T06:07:50.482Z"
   },
   {
    "duration": 23,
    "start_time": "2022-03-15T06:07:50.518Z"
   },
   {
    "duration": 18,
    "start_time": "2022-03-15T06:07:50.542Z"
   },
   {
    "duration": 30,
    "start_time": "2022-03-15T06:07:50.562Z"
   },
   {
    "duration": 30,
    "start_time": "2022-03-15T06:07:50.593Z"
   },
   {
    "duration": 35,
    "start_time": "2022-03-15T06:07:50.624Z"
   },
   {
    "duration": 23,
    "start_time": "2022-03-15T06:07:50.661Z"
   },
   {
    "duration": 42,
    "start_time": "2022-03-15T06:07:50.687Z"
   },
   {
    "duration": 19,
    "start_time": "2022-03-15T06:07:50.731Z"
   },
   {
    "duration": 29,
    "start_time": "2022-03-15T06:07:50.752Z"
   },
   {
    "duration": 46,
    "start_time": "2022-03-15T06:07:50.782Z"
   },
   {
    "duration": 266,
    "start_time": "2022-03-15T06:07:50.830Z"
   },
   {
    "duration": 4,
    "start_time": "2022-03-15T06:07:51.098Z"
   },
   {
    "duration": 4152,
    "start_time": "2022-03-15T06:07:51.103Z"
   },
   {
    "duration": 25,
    "start_time": "2022-03-15T06:07:55.257Z"
   },
   {
    "duration": 14,
    "start_time": "2022-03-15T06:07:55.283Z"
   },
   {
    "duration": 18,
    "start_time": "2022-03-15T06:07:55.298Z"
   },
   {
    "duration": 15,
    "start_time": "2022-03-15T06:07:55.318Z"
   },
   {
    "duration": 16,
    "start_time": "2022-03-15T06:07:55.335Z"
   },
   {
    "duration": 32,
    "start_time": "2022-03-15T06:07:55.353Z"
   },
   {
    "duration": 25,
    "start_time": "2022-03-15T06:07:55.387Z"
   },
   {
    "duration": 35,
    "start_time": "2022-03-15T06:07:55.414Z"
   },
   {
    "duration": 24,
    "start_time": "2022-03-15T06:07:55.451Z"
   },
   {
    "duration": 442,
    "start_time": "2022-03-15T06:07:55.476Z"
   },
   {
    "duration": 20,
    "start_time": "2022-03-15T06:07:55.920Z"
   },
   {
    "duration": 481,
    "start_time": "2022-03-15T06:07:55.941Z"
   },
   {
    "duration": 20,
    "start_time": "2022-03-15T06:07:56.424Z"
   },
   {
    "duration": 34,
    "start_time": "2022-03-15T06:07:56.445Z"
   },
   {
    "duration": 171,
    "start_time": "2022-03-15T06:07:56.480Z"
   },
   {
    "duration": 6,
    "start_time": "2022-03-15T06:07:56.653Z"
   },
   {
    "duration": 27,
    "start_time": "2022-03-15T06:07:56.661Z"
   },
   {
    "duration": 26,
    "start_time": "2022-03-15T06:07:56.689Z"
   },
   {
    "duration": 253,
    "start_time": "2022-03-15T06:07:56.716Z"
   },
   {
    "duration": 12,
    "start_time": "2022-03-15T06:07:56.970Z"
   },
   {
    "duration": 131,
    "start_time": "2022-03-15T06:07:56.983Z"
   },
   {
    "duration": 8,
    "start_time": "2022-03-15T06:07:57.115Z"
   },
   {
    "duration": 139,
    "start_time": "2022-03-15T06:07:57.124Z"
   },
   {
    "duration": 20,
    "start_time": "2022-03-15T06:07:57.265Z"
   },
   {
    "duration": 400,
    "start_time": "2022-03-15T06:07:57.287Z"
   },
   {
    "duration": 11,
    "start_time": "2022-03-15T06:07:57.689Z"
   },
   {
    "duration": 446,
    "start_time": "2022-03-15T06:07:57.701Z"
   },
   {
    "duration": 5,
    "start_time": "2022-03-15T06:07:58.149Z"
   },
   {
    "duration": 15,
    "start_time": "2022-03-15T06:07:58.156Z"
   },
   {
    "duration": 1622,
    "start_time": "2022-03-15T06:07:58.180Z"
   },
   {
    "duration": 4,
    "start_time": "2022-03-15T06:07:59.804Z"
   },
   {
    "duration": 1724,
    "start_time": "2022-03-15T06:07:59.809Z"
   },
   {
    "duration": 5,
    "start_time": "2022-03-15T06:08:01.535Z"
   },
   {
    "duration": 38,
    "start_time": "2022-03-15T06:08:01.542Z"
   },
   {
    "duration": 1315,
    "start_time": "2022-03-15T06:08:01.582Z"
   },
   {
    "duration": 5,
    "start_time": "2022-03-15T06:08:02.899Z"
   },
   {
    "duration": 1638,
    "start_time": "2022-03-15T06:08:02.905Z"
   },
   {
    "duration": 5,
    "start_time": "2022-03-15T06:08:04.544Z"
   },
   {
    "duration": 7,
    "start_time": "2022-03-15T06:08:04.550Z"
   },
   {
    "duration": 1481,
    "start_time": "2022-03-15T06:08:04.558Z"
   },
   {
    "duration": 4,
    "start_time": "2022-03-15T06:08:06.041Z"
   },
   {
    "duration": 1550,
    "start_time": "2022-03-15T06:08:06.046Z"
   },
   {
    "duration": 11,
    "start_time": "2022-03-15T06:08:07.598Z"
   },
   {
    "duration": 234,
    "start_time": "2022-03-15T06:08:07.610Z"
   },
   {
    "duration": 14,
    "start_time": "2022-03-15T06:08:07.845Z"
   },
   {
    "duration": 25,
    "start_time": "2022-03-15T06:08:07.861Z"
   },
   {
    "duration": 14,
    "start_time": "2022-03-15T06:08:07.888Z"
   },
   {
    "duration": 13,
    "start_time": "2022-03-15T06:08:07.903Z"
   },
   {
    "duration": 26,
    "start_time": "2022-03-15T06:08:07.917Z"
   },
   {
    "duration": 14,
    "start_time": "2022-03-15T06:08:07.944Z"
   },
   {
    "duration": 171,
    "start_time": "2022-03-15T06:08:07.959Z"
   },
   {
    "duration": 168,
    "start_time": "2022-03-15T06:08:08.131Z"
   },
   {
    "duration": 162,
    "start_time": "2022-03-15T06:08:08.300Z"
   },
   {
    "duration": 2,
    "start_time": "2022-03-15T06:08:08.463Z"
   },
   {
    "duration": 14,
    "start_time": "2022-03-15T06:08:08.467Z"
   },
   {
    "duration": 6,
    "start_time": "2022-03-15T06:08:08.482Z"
   },
   {
    "duration": 21,
    "start_time": "2022-03-15T06:08:08.489Z"
   },
   {
    "duration": 5,
    "start_time": "2022-03-15T06:08:08.511Z"
   },
   {
    "duration": 19,
    "start_time": "2022-03-15T06:08:08.518Z"
   },
   {
    "duration": 5,
    "start_time": "2022-03-15T06:08:08.538Z"
   },
   {
    "duration": 3,
    "start_time": "2022-03-15T06:08:36.932Z"
   },
   {
    "duration": 62,
    "start_time": "2022-03-15T06:08:36.942Z"
   },
   {
    "duration": 4,
    "start_time": "2022-03-15T06:08:37.005Z"
   },
   {
    "duration": 6,
    "start_time": "2022-03-15T06:08:37.011Z"
   },
   {
    "duration": 18,
    "start_time": "2022-03-15T06:08:37.019Z"
   },
   {
    "duration": 57,
    "start_time": "2022-03-15T06:08:37.038Z"
   },
   {
    "duration": 3,
    "start_time": "2022-03-15T06:08:37.096Z"
   },
   {
    "duration": 13,
    "start_time": "2022-03-15T06:08:37.101Z"
   },
   {
    "duration": 3,
    "start_time": "2022-03-15T06:08:37.116Z"
   },
   {
    "duration": 19,
    "start_time": "2022-03-15T06:08:37.121Z"
   },
   {
    "duration": 2,
    "start_time": "2022-03-15T06:08:37.141Z"
   },
   {
    "duration": 5,
    "start_time": "2022-03-15T06:08:37.145Z"
   },
   {
    "duration": 5,
    "start_time": "2022-03-15T06:08:37.181Z"
   },
   {
    "duration": 4,
    "start_time": "2022-03-15T06:08:37.188Z"
   },
   {
    "duration": 8,
    "start_time": "2022-03-15T06:08:37.194Z"
   },
   {
    "duration": 8,
    "start_time": "2022-03-15T06:08:37.203Z"
   },
   {
    "duration": 17,
    "start_time": "2022-03-15T06:08:37.212Z"
   },
   {
    "duration": 6,
    "start_time": "2022-03-15T06:08:37.231Z"
   },
   {
    "duration": 10,
    "start_time": "2022-03-15T06:08:37.239Z"
   },
   {
    "duration": 36,
    "start_time": "2022-03-15T06:08:37.251Z"
   },
   {
    "duration": 6,
    "start_time": "2022-03-15T06:08:37.289Z"
   },
   {
    "duration": 18,
    "start_time": "2022-03-15T06:08:37.297Z"
   },
   {
    "duration": 264,
    "start_time": "2022-03-15T06:08:37.317Z"
   },
   {
    "duration": 4,
    "start_time": "2022-03-15T06:08:37.584Z"
   },
   {
    "duration": 4059,
    "start_time": "2022-03-15T06:08:37.590Z"
   },
   {
    "duration": 14,
    "start_time": "2022-03-15T06:08:41.651Z"
   },
   {
    "duration": 25,
    "start_time": "2022-03-15T06:08:41.666Z"
   },
   {
    "duration": 13,
    "start_time": "2022-03-15T06:08:41.693Z"
   },
   {
    "duration": 10,
    "start_time": "2022-03-15T06:08:41.708Z"
   },
   {
    "duration": 9,
    "start_time": "2022-03-15T06:08:41.720Z"
   },
   {
    "duration": 6,
    "start_time": "2022-03-15T06:08:41.731Z"
   },
   {
    "duration": 42,
    "start_time": "2022-03-15T06:08:41.739Z"
   },
   {
    "duration": 12,
    "start_time": "2022-03-15T06:08:41.782Z"
   },
   {
    "duration": 5,
    "start_time": "2022-03-15T06:08:41.796Z"
   },
   {
    "duration": 449,
    "start_time": "2022-03-15T06:08:41.803Z"
   },
   {
    "duration": 28,
    "start_time": "2022-03-15T06:08:42.254Z"
   },
   {
    "duration": 726,
    "start_time": "2022-03-15T06:08:42.283Z"
   },
   {
    "duration": 20,
    "start_time": "2022-03-15T06:08:43.010Z"
   },
   {
    "duration": 17,
    "start_time": "2022-03-15T06:08:43.032Z"
   },
   {
    "duration": 187,
    "start_time": "2022-03-15T06:08:43.050Z"
   },
   {
    "duration": 6,
    "start_time": "2022-03-15T06:08:43.238Z"
   },
   {
    "duration": 16,
    "start_time": "2022-03-15T06:08:43.246Z"
   },
   {
    "duration": 23,
    "start_time": "2022-03-15T06:08:43.263Z"
   },
   {
    "duration": 237,
    "start_time": "2022-03-15T06:08:43.288Z"
   },
   {
    "duration": 13,
    "start_time": "2022-03-15T06:08:43.527Z"
   },
   {
    "duration": 131,
    "start_time": "2022-03-15T06:08:43.542Z"
   },
   {
    "duration": 12,
    "start_time": "2022-03-15T06:08:43.675Z"
   },
   {
    "duration": 144,
    "start_time": "2022-03-15T06:08:43.688Z"
   },
   {
    "duration": 11,
    "start_time": "2022-03-15T06:08:43.833Z"
   },
   {
    "duration": 149,
    "start_time": "2022-03-15T06:08:43.845Z"
   },
   {
    "duration": 11,
    "start_time": "2022-03-15T06:08:43.996Z"
   },
   {
    "duration": 453,
    "start_time": "2022-03-15T06:08:44.009Z"
   },
   {
    "duration": 5,
    "start_time": "2022-03-15T06:08:44.464Z"
   },
   {
    "duration": 12,
    "start_time": "2022-03-15T06:08:44.470Z"
   },
   {
    "duration": 1671,
    "start_time": "2022-03-15T06:08:44.483Z"
   },
   {
    "duration": 5,
    "start_time": "2022-03-15T06:08:46.156Z"
   },
   {
    "duration": 1646,
    "start_time": "2022-03-15T06:08:46.163Z"
   },
   {
    "duration": 5,
    "start_time": "2022-03-15T06:08:47.811Z"
   },
   {
    "duration": 11,
    "start_time": "2022-03-15T06:08:47.817Z"
   },
   {
    "duration": 1304,
    "start_time": "2022-03-15T06:08:47.829Z"
   },
   {
    "duration": 5,
    "start_time": "2022-03-15T06:08:49.135Z"
   },
   {
    "duration": 1724,
    "start_time": "2022-03-15T06:08:49.141Z"
   },
   {
    "duration": 16,
    "start_time": "2022-03-15T06:08:50.867Z"
   },
   {
    "duration": 10,
    "start_time": "2022-03-15T06:08:50.884Z"
   },
   {
    "duration": 1442,
    "start_time": "2022-03-15T06:08:50.896Z"
   },
   {
    "duration": 4,
    "start_time": "2022-03-15T06:08:52.339Z"
   },
   {
    "duration": 1520,
    "start_time": "2022-03-15T06:08:52.345Z"
   },
   {
    "duration": 16,
    "start_time": "2022-03-15T06:08:53.866Z"
   },
   {
    "duration": 228,
    "start_time": "2022-03-15T06:08:53.887Z"
   },
   {
    "duration": 16,
    "start_time": "2022-03-15T06:08:54.117Z"
   },
   {
    "duration": 14,
    "start_time": "2022-03-15T06:08:54.134Z"
   },
   {
    "duration": 32,
    "start_time": "2022-03-15T06:08:54.149Z"
   },
   {
    "duration": 14,
    "start_time": "2022-03-15T06:08:54.183Z"
   },
   {
    "duration": 15,
    "start_time": "2022-03-15T06:08:54.198Z"
   },
   {
    "duration": 13,
    "start_time": "2022-03-15T06:08:54.214Z"
   },
   {
    "duration": 172,
    "start_time": "2022-03-15T06:08:54.228Z"
   },
   {
    "duration": 157,
    "start_time": "2022-03-15T06:08:54.402Z"
   },
   {
    "duration": 162,
    "start_time": "2022-03-15T06:08:54.560Z"
   },
   {
    "duration": 2,
    "start_time": "2022-03-15T06:08:54.723Z"
   },
   {
    "duration": 10,
    "start_time": "2022-03-15T06:08:54.727Z"
   },
   {
    "duration": 5,
    "start_time": "2022-03-15T06:08:54.739Z"
   },
   {
    "duration": 20,
    "start_time": "2022-03-15T06:08:54.746Z"
   },
   {
    "duration": 4,
    "start_time": "2022-03-15T06:08:54.768Z"
   },
   {
    "duration": 15,
    "start_time": "2022-03-15T06:08:54.781Z"
   },
   {
    "duration": 4,
    "start_time": "2022-03-15T06:08:54.798Z"
   },
   {
    "duration": 1072,
    "start_time": "2022-03-15T06:14:31.040Z"
   },
   {
    "duration": 55,
    "start_time": "2022-03-15T06:14:32.113Z"
   },
   {
    "duration": 5,
    "start_time": "2022-03-15T06:14:32.170Z"
   },
   {
    "duration": 5,
    "start_time": "2022-03-15T06:14:32.177Z"
   },
   {
    "duration": 21,
    "start_time": "2022-03-15T06:14:32.184Z"
   },
   {
    "duration": 29,
    "start_time": "2022-03-15T06:14:32.206Z"
   },
   {
    "duration": 4,
    "start_time": "2022-03-15T06:14:32.236Z"
   },
   {
    "duration": 12,
    "start_time": "2022-03-15T06:14:32.242Z"
   },
   {
    "duration": 28,
    "start_time": "2022-03-15T06:14:32.256Z"
   },
   {
    "duration": 20,
    "start_time": "2022-03-15T06:14:32.286Z"
   },
   {
    "duration": 2,
    "start_time": "2022-03-15T06:14:32.308Z"
   },
   {
    "duration": 7,
    "start_time": "2022-03-15T06:14:32.311Z"
   },
   {
    "duration": 11,
    "start_time": "2022-03-15T06:14:32.319Z"
   },
   {
    "duration": 7,
    "start_time": "2022-03-15T06:14:32.331Z"
   },
   {
    "duration": 7,
    "start_time": "2022-03-15T06:14:32.339Z"
   },
   {
    "duration": 7,
    "start_time": "2022-03-15T06:14:32.348Z"
   },
   {
    "duration": 27,
    "start_time": "2022-03-15T06:14:32.357Z"
   },
   {
    "duration": 6,
    "start_time": "2022-03-15T06:14:32.385Z"
   },
   {
    "duration": 12,
    "start_time": "2022-03-15T06:14:32.392Z"
   },
   {
    "duration": 11,
    "start_time": "2022-03-15T06:14:32.405Z"
   },
   {
    "duration": 11,
    "start_time": "2022-03-15T06:14:32.417Z"
   },
   {
    "duration": 13,
    "start_time": "2022-03-15T06:14:32.429Z"
   },
   {
    "duration": 287,
    "start_time": "2022-03-15T06:14:32.445Z"
   },
   {
    "duration": 4,
    "start_time": "2022-03-15T06:14:32.734Z"
   },
   {
    "duration": 3829,
    "start_time": "2022-03-15T06:14:32.739Z"
   },
   {
    "duration": 19,
    "start_time": "2022-03-15T06:14:36.569Z"
   },
   {
    "duration": 13,
    "start_time": "2022-03-15T06:14:36.589Z"
   },
   {
    "duration": 15,
    "start_time": "2022-03-15T06:14:36.603Z"
   },
   {
    "duration": 9,
    "start_time": "2022-03-15T06:14:36.619Z"
   },
   {
    "duration": 16,
    "start_time": "2022-03-15T06:14:36.629Z"
   },
   {
    "duration": 11,
    "start_time": "2022-03-15T06:14:36.647Z"
   },
   {
    "duration": 29,
    "start_time": "2022-03-15T06:14:36.659Z"
   },
   {
    "duration": 16,
    "start_time": "2022-03-15T06:14:36.689Z"
   },
   {
    "duration": 8,
    "start_time": "2022-03-15T06:14:36.706Z"
   },
   {
    "duration": 444,
    "start_time": "2022-03-15T06:14:36.715Z"
   },
   {
    "duration": 28,
    "start_time": "2022-03-15T06:14:37.161Z"
   },
   {
    "duration": 468,
    "start_time": "2022-03-15T06:14:37.190Z"
   },
   {
    "duration": 29,
    "start_time": "2022-03-15T06:14:37.660Z"
   },
   {
    "duration": 18,
    "start_time": "2022-03-15T06:14:37.690Z"
   },
   {
    "duration": 339,
    "start_time": "2022-03-15T06:14:37.710Z"
   },
   {
    "duration": 6,
    "start_time": "2022-03-15T06:14:38.050Z"
   },
   {
    "duration": 24,
    "start_time": "2022-03-15T06:14:38.057Z"
   },
   {
    "duration": 12,
    "start_time": "2022-03-15T06:14:38.082Z"
   },
   {
    "duration": 238,
    "start_time": "2022-03-15T06:14:38.095Z"
   },
   {
    "duration": 12,
    "start_time": "2022-03-15T06:14:38.334Z"
   },
   {
    "duration": 128,
    "start_time": "2022-03-15T06:14:38.348Z"
   },
   {
    "duration": 11,
    "start_time": "2022-03-15T06:14:38.477Z"
   },
   {
    "duration": 147,
    "start_time": "2022-03-15T06:14:38.489Z"
   },
   {
    "duration": 10,
    "start_time": "2022-03-15T06:14:38.638Z"
   },
   {
    "duration": 150,
    "start_time": "2022-03-15T06:14:38.649Z"
   },
   {
    "duration": 11,
    "start_time": "2022-03-15T06:14:38.800Z"
   },
   {
    "duration": 443,
    "start_time": "2022-03-15T06:14:38.812Z"
   },
   {
    "duration": 5,
    "start_time": "2022-03-15T06:14:39.256Z"
   },
   {
    "duration": 6,
    "start_time": "2022-03-15T06:14:39.263Z"
   },
   {
    "duration": 1650,
    "start_time": "2022-03-15T06:14:39.280Z"
   },
   {
    "duration": 4,
    "start_time": "2022-03-15T06:14:40.932Z"
   },
   {
    "duration": 1775,
    "start_time": "2022-03-15T06:14:40.937Z"
   },
   {
    "duration": 4,
    "start_time": "2022-03-15T06:14:42.714Z"
   },
   {
    "duration": 7,
    "start_time": "2022-03-15T06:14:42.720Z"
   },
   {
    "duration": 1325,
    "start_time": "2022-03-15T06:14:42.728Z"
   },
   {
    "duration": 4,
    "start_time": "2022-03-15T06:14:44.055Z"
   },
   {
    "duration": 1532,
    "start_time": "2022-03-15T06:14:44.060Z"
   },
   {
    "duration": 6,
    "start_time": "2022-03-15T06:14:45.593Z"
   },
   {
    "duration": 8,
    "start_time": "2022-03-15T06:14:45.600Z"
   },
   {
    "duration": 1551,
    "start_time": "2022-03-15T06:14:45.610Z"
   },
   {
    "duration": 4,
    "start_time": "2022-03-15T06:14:47.162Z"
   },
   {
    "duration": 1633,
    "start_time": "2022-03-15T06:14:47.167Z"
   },
   {
    "duration": 10,
    "start_time": "2022-03-15T06:14:48.805Z"
   },
   {
    "duration": 241,
    "start_time": "2022-03-15T06:14:48.817Z"
   },
   {
    "duration": 27,
    "start_time": "2022-03-15T06:14:49.059Z"
   },
   {
    "duration": 13,
    "start_time": "2022-03-15T06:14:49.088Z"
   },
   {
    "duration": 13,
    "start_time": "2022-03-15T06:14:49.103Z"
   },
   {
    "duration": 13,
    "start_time": "2022-03-15T06:14:49.118Z"
   },
   {
    "duration": 22,
    "start_time": "2022-03-15T06:14:49.133Z"
   },
   {
    "duration": 32,
    "start_time": "2022-03-15T06:14:49.157Z"
   },
   {
    "duration": 165,
    "start_time": "2022-03-15T06:14:49.191Z"
   },
   {
    "duration": 164,
    "start_time": "2022-03-15T06:14:49.357Z"
   },
   {
    "duration": 162,
    "start_time": "2022-03-15T06:14:49.523Z"
   },
   {
    "duration": 3,
    "start_time": "2022-03-15T06:14:49.687Z"
   },
   {
    "duration": 7,
    "start_time": "2022-03-15T06:14:49.691Z"
   },
   {
    "duration": 5,
    "start_time": "2022-03-15T06:14:49.699Z"
   },
   {
    "duration": 18,
    "start_time": "2022-03-15T06:14:49.706Z"
   },
   {
    "duration": 4,
    "start_time": "2022-03-15T06:14:49.725Z"
   },
   {
    "duration": 18,
    "start_time": "2022-03-15T06:14:49.731Z"
   },
   {
    "duration": 5,
    "start_time": "2022-03-15T06:14:49.751Z"
   }
  ],
  "kernelspec": {
   "display_name": "Python 3 (ipykernel)",
   "language": "python",
   "name": "python3"
  },
  "language_info": {
   "codemirror_mode": {
    "name": "ipython",
    "version": 3
   },
   "file_extension": ".py",
   "mimetype": "text/x-python",
   "name": "python",
   "nbconvert_exporter": "python",
   "pygments_lexer": "ipython3",
   "version": "3.9.12"
  },
  "toc": {
   "base_numbering": 1,
   "nav_menu": {},
   "number_sections": true,
   "sideBar": true,
   "skip_h1_title": true,
   "title_cell": "Table of Contents",
   "title_sidebar": "Contents",
   "toc_cell": false,
   "toc_position": {
    "height": "calc(100% - 180px)",
    "left": "10px",
    "top": "150px",
    "width": "306.125px"
   },
   "toc_section_display": true,
   "toc_window_display": false
  }
 },
 "nbformat": 4,
 "nbformat_minor": 2
}
