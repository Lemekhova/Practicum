{
 "cells": [
  {
   "cell_type": "markdown",
   "metadata": {
    "toc": true
   },
   "source": [
    "<h1>Содержание<span class=\"tocSkip\"></span></h1>\n",
    "<div class=\"toc\"><ul class=\"toc-item\"><li><span><a href=\"#Подготовка-данных\" data-toc-modified-id=\"Подготовка-данных-1\"><span class=\"toc-item-num\">1&nbsp;&nbsp;</span>Подготовка данных</a></span></li><li><span><a href=\"#Исследование-задачи\" data-toc-modified-id=\"Исследование-задачи-2\"><span class=\"toc-item-num\">2&nbsp;&nbsp;</span>Исследование задачи</a></span><ul class=\"toc-item\"><li><span><a href=\"#Рассмотрим-модель-классификации-дерево-решений\" data-toc-modified-id=\"Рассмотрим-модель-классификации-дерево-решений-2.1\"><span class=\"toc-item-num\">2.1&nbsp;&nbsp;</span>Рассмотрим модель классификации дерево решений</a></span></li><li><span><a href=\"#Рассмотрим-модель-логистической-регрессии\" data-toc-modified-id=\"Рассмотрим-модель-логистической-регрессии-2.2\"><span class=\"toc-item-num\">2.2&nbsp;&nbsp;</span>Рассмотрим модель логистической регрессии</a></span></li><li><span><a href=\"#Рассмотрим-модель-классификации-случайный-лес\" data-toc-modified-id=\"Рассмотрим-модель-классификации-случайный-лес-2.3\"><span class=\"toc-item-num\">2.3&nbsp;&nbsp;</span>Рассмотрим модель классификации случайный лес</a></span></li></ul></li><li><span><a href=\"#Борьба-с-дисбалансом\" data-toc-modified-id=\"Борьба-с-дисбалансом-3\"><span class=\"toc-item-num\">3&nbsp;&nbsp;</span>Борьба с дисбалансом</a></span><ul class=\"toc-item\"><li><span><a href=\"#Сбалансируем-модель-классификации-дерево-решений\" data-toc-modified-id=\"Сбалансируем-модель-классификации-дерево-решений-3.1\"><span class=\"toc-item-num\">3.1&nbsp;&nbsp;</span>Сбалансируем модель классификации дерево решений</a></span><ul class=\"toc-item\"><li><span><a href=\"#Методом-взвешивания-классов\" data-toc-modified-id=\"Методом-взвешивания-классов-3.1.1\"><span class=\"toc-item-num\">3.1.1&nbsp;&nbsp;</span>Методом взвешивания классов</a></span></li><li><span><a href=\"#Методом-увеличения-выборки\" data-toc-modified-id=\"Методом-увеличения-выборки-3.1.2\"><span class=\"toc-item-num\">3.1.2&nbsp;&nbsp;</span>Методом увеличения выборки</a></span></li><li><span><a href=\"#Методом-уменьшения-выборки\" data-toc-modified-id=\"Методом-уменьшения-выборки-3.1.3\"><span class=\"toc-item-num\">3.1.3&nbsp;&nbsp;</span>Методом уменьшения выборки</a></span></li><li><span><a href=\"#Методом-изменения-порога-классификации\" data-toc-modified-id=\"Методом-изменения-порога-классификации-3.1.4\"><span class=\"toc-item-num\">3.1.4&nbsp;&nbsp;</span>Методом изменения порога классификации</a></span></li></ul></li><li><span><a href=\"#Сбалансируем-модель-линейной-регрессии\" data-toc-modified-id=\"Сбалансируем-модель-линейной-регрессии-3.2\"><span class=\"toc-item-num\">3.2&nbsp;&nbsp;</span>Сбалансируем модель линейной регрессии</a></span><ul class=\"toc-item\"><li><span><a href=\"#Методом-взвешивания-классов\" data-toc-modified-id=\"Методом-взвешивания-классов-3.2.1\"><span class=\"toc-item-num\">3.2.1&nbsp;&nbsp;</span>Методом взвешивания классов</a></span></li><li><span><a href=\"#Методом-увеличения-выборки\" data-toc-modified-id=\"Методом-увеличения-выборки-3.2.2\"><span class=\"toc-item-num\">3.2.2&nbsp;&nbsp;</span>Методом увеличения выборки</a></span></li><li><span><a href=\"#Методом-уменьшения-выборки\" data-toc-modified-id=\"Методом-уменьшения-выборки-3.2.3\"><span class=\"toc-item-num\">3.2.3&nbsp;&nbsp;</span>Методом уменьшения выборки</a></span></li><li><span><a href=\"#Методом-изменения-порога-классификации\" data-toc-modified-id=\"Методом-изменения-порога-классификации-3.2.4\"><span class=\"toc-item-num\">3.2.4&nbsp;&nbsp;</span>Методом изменения порога классификации</a></span></li></ul></li><li><span><a href=\"#Сбалансируем-модель-классификации-случайный-лес\" data-toc-modified-id=\"Сбалансируем-модель-классификации-случайный-лес-3.3\"><span class=\"toc-item-num\">3.3&nbsp;&nbsp;</span>Сбалансируем модель классификации случайный лес</a></span><ul class=\"toc-item\"><li><span><a href=\"#Методом-взвешивания-классов\" data-toc-modified-id=\"Методом-взвешивания-классов-3.3.1\"><span class=\"toc-item-num\">3.3.1&nbsp;&nbsp;</span>Методом взвешивания классов</a></span></li><li><span><a href=\"#Методом-увеличения-выборки\" data-toc-modified-id=\"Методом-увеличения-выборки-3.3.2\"><span class=\"toc-item-num\">3.3.2&nbsp;&nbsp;</span>Методом увеличения выборки</a></span></li><li><span><a href=\"#Методом-уменьшения-выборки\" data-toc-modified-id=\"Методом-уменьшения-выборки-3.3.3\"><span class=\"toc-item-num\">3.3.3&nbsp;&nbsp;</span>Методом уменьшения выборки</a></span></li><li><span><a href=\"#Методом-изменения-порога-классификации\" data-toc-modified-id=\"Методом-изменения-порога-классификации-3.3.4\"><span class=\"toc-item-num\">3.3.4&nbsp;&nbsp;</span>Методом изменения порога классификации</a></span></li></ul></li></ul></li><li><span><a href=\"#Тестирование-модели\" data-toc-modified-id=\"Тестирование-модели-4\"><span class=\"toc-item-num\">4&nbsp;&nbsp;</span>Тестирование модели</a></span></li><li><span><a href=\"#Чек-лист-готовности-проекта\" data-toc-modified-id=\"Чек-лист-готовности-проекта-5\"><span class=\"toc-item-num\">5&nbsp;&nbsp;</span>Чек-лист готовности проекта</a></span></li></ul></div>"
   ]
  },
  {
   "cell_type": "markdown",
   "metadata": {},
   "source": [
    "# Отток клиентов"
   ]
  },
  {
   "cell_type": "markdown",
   "metadata": {},
   "source": [
    "Из «Бета-Банка» стали уходить клиенты. Каждый месяц. Банковские маркетологи посчитали: сохранять текущих клиентов дешевле, чем привлекать новых.\n",
    "\n",
    "Нужно спрогнозировать, уйдёт клиент из банка в ближайшее время или нет. Нам предоставлены исторические данные о поведении клиентов и расторжении договоров с банком. \n",
    "\n",
    "Построем модель с предельно большим значением *F1*-меры. Постараемся довести метрику до 0.59. Проверим *F1*-меру на тестовой выборке.\n",
    "\n",
    "Дополнительно измерим *AUC-ROC*, сравним её значение с *F1*-мерой."
   ]
  },
  {
   "cell_type": "markdown",
   "metadata": {},
   "source": [
    "## Описание данных\n",
    "\n",
    "Признаки:\n",
    "\n",
    "RowNumber — индекс строки в данных\n",
    "\n",
    "CustomerId — уникальный идентификатор клиента\n",
    "\n",
    "Surname — фамилия\n",
    "\n",
    "CreditScore — кредитный рейтинг\n",
    "\n",
    "Geography — страна проживания\n",
    "\n",
    "Gender — пол\n",
    "\n",
    "Age — возраст\n",
    "\n",
    "Tenure — сколько лет человек является клиентом банка\n",
    "\n",
    "Balance — баланс на счёте\n",
    "\n",
    "NumOfProducts — количество продуктов банка, используемых клиентом\n",
    "\n",
    "HasCrCard — наличие кредитной карты\n",
    "\n",
    "IsActiveMember — активность клиента\n",
    "\n",
    "EstimatedSalary — предполагаемая зарплата\n",
    "\n",
    "Целевой признак:\n",
    "\n",
    "Exited — факт ухода клиента"
   ]
  },
  {
   "cell_type": "markdown",
   "metadata": {},
   "source": [
    "## импорт бибилиотек"
   ]
  },
  {
   "cell_type": "code",
   "execution_count": 1,
   "metadata": {},
   "outputs": [],
   "source": [
    "import pandas as pd\n",
    "import numpy as np\n",
    "from sklearn.model_selection import train_test_split\n",
    "from sklearn.preprocessing import StandardScaler\n",
    "from sklearn.tree import DecisionTreeClassifier\n",
    "from sklearn.linear_model import LogisticRegression\n",
    "from sklearn.ensemble import RandomForestClassifier\n",
    "from sklearn.metrics import accuracy_score\n",
    "from sklearn.metrics import confusion_matrix\n",
    "from sklearn.metrics import recall_score \n",
    "from sklearn.metrics import precision_score\n",
    "from sklearn.metrics import f1_score\n",
    "from sklearn.utils import shuffle\n",
    "from sklearn.metrics import roc_auc_score \n",
    "from sklearn.model_selection import GridSearchCV\n",
    "from sklearn.model_selection import RandomizedSearchCV\n",
    "from scipy.stats import uniform\n",
    "import warnings\n",
    "warnings.filterwarnings('ignore')"
   ]
  },
  {
   "cell_type": "markdown",
   "metadata": {},
   "source": [
    "## Подготовка данных"
   ]
  },
  {
   "cell_type": "code",
   "execution_count": 2,
   "metadata": {},
   "outputs": [
    {
     "data": {
      "text/html": [
       "<div>\n",
       "<style scoped>\n",
       "    .dataframe tbody tr th:only-of-type {\n",
       "        vertical-align: middle;\n",
       "    }\n",
       "\n",
       "    .dataframe tbody tr th {\n",
       "        vertical-align: top;\n",
       "    }\n",
       "\n",
       "    .dataframe thead th {\n",
       "        text-align: right;\n",
       "    }\n",
       "</style>\n",
       "<table border=\"1\" class=\"dataframe\">\n",
       "  <thead>\n",
       "    <tr style=\"text-align: right;\">\n",
       "      <th></th>\n",
       "      <th>RowNumber</th>\n",
       "      <th>CustomerId</th>\n",
       "      <th>Surname</th>\n",
       "      <th>CreditScore</th>\n",
       "      <th>Geography</th>\n",
       "      <th>Gender</th>\n",
       "      <th>Age</th>\n",
       "      <th>Tenure</th>\n",
       "      <th>Balance</th>\n",
       "      <th>NumOfProducts</th>\n",
       "      <th>HasCrCard</th>\n",
       "      <th>IsActiveMember</th>\n",
       "      <th>EstimatedSalary</th>\n",
       "      <th>Exited</th>\n",
       "    </tr>\n",
       "  </thead>\n",
       "  <tbody>\n",
       "    <tr>\n",
       "      <th>0</th>\n",
       "      <td>1</td>\n",
       "      <td>15634602</td>\n",
       "      <td>Hargrave</td>\n",
       "      <td>619</td>\n",
       "      <td>France</td>\n",
       "      <td>Female</td>\n",
       "      <td>42</td>\n",
       "      <td>2.0</td>\n",
       "      <td>0.00</td>\n",
       "      <td>1</td>\n",
       "      <td>1</td>\n",
       "      <td>1</td>\n",
       "      <td>101348.88</td>\n",
       "      <td>1</td>\n",
       "    </tr>\n",
       "    <tr>\n",
       "      <th>1</th>\n",
       "      <td>2</td>\n",
       "      <td>15647311</td>\n",
       "      <td>Hill</td>\n",
       "      <td>608</td>\n",
       "      <td>Spain</td>\n",
       "      <td>Female</td>\n",
       "      <td>41</td>\n",
       "      <td>1.0</td>\n",
       "      <td>83807.86</td>\n",
       "      <td>1</td>\n",
       "      <td>0</td>\n",
       "      <td>1</td>\n",
       "      <td>112542.58</td>\n",
       "      <td>0</td>\n",
       "    </tr>\n",
       "    <tr>\n",
       "      <th>2</th>\n",
       "      <td>3</td>\n",
       "      <td>15619304</td>\n",
       "      <td>Onio</td>\n",
       "      <td>502</td>\n",
       "      <td>France</td>\n",
       "      <td>Female</td>\n",
       "      <td>42</td>\n",
       "      <td>8.0</td>\n",
       "      <td>159660.80</td>\n",
       "      <td>3</td>\n",
       "      <td>1</td>\n",
       "      <td>0</td>\n",
       "      <td>113931.57</td>\n",
       "      <td>1</td>\n",
       "    </tr>\n",
       "    <tr>\n",
       "      <th>3</th>\n",
       "      <td>4</td>\n",
       "      <td>15701354</td>\n",
       "      <td>Boni</td>\n",
       "      <td>699</td>\n",
       "      <td>France</td>\n",
       "      <td>Female</td>\n",
       "      <td>39</td>\n",
       "      <td>1.0</td>\n",
       "      <td>0.00</td>\n",
       "      <td>2</td>\n",
       "      <td>0</td>\n",
       "      <td>0</td>\n",
       "      <td>93826.63</td>\n",
       "      <td>0</td>\n",
       "    </tr>\n",
       "    <tr>\n",
       "      <th>4</th>\n",
       "      <td>5</td>\n",
       "      <td>15737888</td>\n",
       "      <td>Mitchell</td>\n",
       "      <td>850</td>\n",
       "      <td>Spain</td>\n",
       "      <td>Female</td>\n",
       "      <td>43</td>\n",
       "      <td>2.0</td>\n",
       "      <td>125510.82</td>\n",
       "      <td>1</td>\n",
       "      <td>1</td>\n",
       "      <td>1</td>\n",
       "      <td>79084.10</td>\n",
       "      <td>0</td>\n",
       "    </tr>\n",
       "    <tr>\n",
       "      <th>5</th>\n",
       "      <td>6</td>\n",
       "      <td>15574012</td>\n",
       "      <td>Chu</td>\n",
       "      <td>645</td>\n",
       "      <td>Spain</td>\n",
       "      <td>Male</td>\n",
       "      <td>44</td>\n",
       "      <td>8.0</td>\n",
       "      <td>113755.78</td>\n",
       "      <td>2</td>\n",
       "      <td>1</td>\n",
       "      <td>0</td>\n",
       "      <td>149756.71</td>\n",
       "      <td>1</td>\n",
       "    </tr>\n",
       "    <tr>\n",
       "      <th>6</th>\n",
       "      <td>7</td>\n",
       "      <td>15592531</td>\n",
       "      <td>Bartlett</td>\n",
       "      <td>822</td>\n",
       "      <td>France</td>\n",
       "      <td>Male</td>\n",
       "      <td>50</td>\n",
       "      <td>7.0</td>\n",
       "      <td>0.00</td>\n",
       "      <td>2</td>\n",
       "      <td>1</td>\n",
       "      <td>1</td>\n",
       "      <td>10062.80</td>\n",
       "      <td>0</td>\n",
       "    </tr>\n",
       "    <tr>\n",
       "      <th>7</th>\n",
       "      <td>8</td>\n",
       "      <td>15656148</td>\n",
       "      <td>Obinna</td>\n",
       "      <td>376</td>\n",
       "      <td>Germany</td>\n",
       "      <td>Female</td>\n",
       "      <td>29</td>\n",
       "      <td>4.0</td>\n",
       "      <td>115046.74</td>\n",
       "      <td>4</td>\n",
       "      <td>1</td>\n",
       "      <td>0</td>\n",
       "      <td>119346.88</td>\n",
       "      <td>1</td>\n",
       "    </tr>\n",
       "    <tr>\n",
       "      <th>8</th>\n",
       "      <td>9</td>\n",
       "      <td>15792365</td>\n",
       "      <td>He</td>\n",
       "      <td>501</td>\n",
       "      <td>France</td>\n",
       "      <td>Male</td>\n",
       "      <td>44</td>\n",
       "      <td>4.0</td>\n",
       "      <td>142051.07</td>\n",
       "      <td>2</td>\n",
       "      <td>0</td>\n",
       "      <td>1</td>\n",
       "      <td>74940.50</td>\n",
       "      <td>0</td>\n",
       "    </tr>\n",
       "    <tr>\n",
       "      <th>9</th>\n",
       "      <td>10</td>\n",
       "      <td>15592389</td>\n",
       "      <td>H?</td>\n",
       "      <td>684</td>\n",
       "      <td>France</td>\n",
       "      <td>Male</td>\n",
       "      <td>27</td>\n",
       "      <td>2.0</td>\n",
       "      <td>134603.88</td>\n",
       "      <td>1</td>\n",
       "      <td>1</td>\n",
       "      <td>1</td>\n",
       "      <td>71725.73</td>\n",
       "      <td>0</td>\n",
       "    </tr>\n",
       "    <tr>\n",
       "      <th>10</th>\n",
       "      <td>11</td>\n",
       "      <td>15767821</td>\n",
       "      <td>Bearce</td>\n",
       "      <td>528</td>\n",
       "      <td>France</td>\n",
       "      <td>Male</td>\n",
       "      <td>31</td>\n",
       "      <td>6.0</td>\n",
       "      <td>102016.72</td>\n",
       "      <td>2</td>\n",
       "      <td>0</td>\n",
       "      <td>0</td>\n",
       "      <td>80181.12</td>\n",
       "      <td>0</td>\n",
       "    </tr>\n",
       "    <tr>\n",
       "      <th>11</th>\n",
       "      <td>12</td>\n",
       "      <td>15737173</td>\n",
       "      <td>Andrews</td>\n",
       "      <td>497</td>\n",
       "      <td>Spain</td>\n",
       "      <td>Male</td>\n",
       "      <td>24</td>\n",
       "      <td>3.0</td>\n",
       "      <td>0.00</td>\n",
       "      <td>2</td>\n",
       "      <td>1</td>\n",
       "      <td>0</td>\n",
       "      <td>76390.01</td>\n",
       "      <td>0</td>\n",
       "    </tr>\n",
       "    <tr>\n",
       "      <th>12</th>\n",
       "      <td>13</td>\n",
       "      <td>15632264</td>\n",
       "      <td>Kay</td>\n",
       "      <td>476</td>\n",
       "      <td>France</td>\n",
       "      <td>Female</td>\n",
       "      <td>34</td>\n",
       "      <td>10.0</td>\n",
       "      <td>0.00</td>\n",
       "      <td>2</td>\n",
       "      <td>1</td>\n",
       "      <td>0</td>\n",
       "      <td>26260.98</td>\n",
       "      <td>0</td>\n",
       "    </tr>\n",
       "    <tr>\n",
       "      <th>13</th>\n",
       "      <td>14</td>\n",
       "      <td>15691483</td>\n",
       "      <td>Chin</td>\n",
       "      <td>549</td>\n",
       "      <td>France</td>\n",
       "      <td>Female</td>\n",
       "      <td>25</td>\n",
       "      <td>5.0</td>\n",
       "      <td>0.00</td>\n",
       "      <td>2</td>\n",
       "      <td>0</td>\n",
       "      <td>0</td>\n",
       "      <td>190857.79</td>\n",
       "      <td>0</td>\n",
       "    </tr>\n",
       "    <tr>\n",
       "      <th>14</th>\n",
       "      <td>15</td>\n",
       "      <td>15600882</td>\n",
       "      <td>Scott</td>\n",
       "      <td>635</td>\n",
       "      <td>Spain</td>\n",
       "      <td>Female</td>\n",
       "      <td>35</td>\n",
       "      <td>7.0</td>\n",
       "      <td>0.00</td>\n",
       "      <td>2</td>\n",
       "      <td>1</td>\n",
       "      <td>1</td>\n",
       "      <td>65951.65</td>\n",
       "      <td>0</td>\n",
       "    </tr>\n",
       "  </tbody>\n",
       "</table>\n",
       "</div>"
      ],
      "text/plain": [
       "    RowNumber  CustomerId   Surname  CreditScore Geography  Gender  Age  \\\n",
       "0           1    15634602  Hargrave          619    France  Female   42   \n",
       "1           2    15647311      Hill          608     Spain  Female   41   \n",
       "2           3    15619304      Onio          502    France  Female   42   \n",
       "3           4    15701354      Boni          699    France  Female   39   \n",
       "4           5    15737888  Mitchell          850     Spain  Female   43   \n",
       "5           6    15574012       Chu          645     Spain    Male   44   \n",
       "6           7    15592531  Bartlett          822    France    Male   50   \n",
       "7           8    15656148    Obinna          376   Germany  Female   29   \n",
       "8           9    15792365        He          501    France    Male   44   \n",
       "9          10    15592389        H?          684    France    Male   27   \n",
       "10         11    15767821    Bearce          528    France    Male   31   \n",
       "11         12    15737173   Andrews          497     Spain    Male   24   \n",
       "12         13    15632264       Kay          476    France  Female   34   \n",
       "13         14    15691483      Chin          549    France  Female   25   \n",
       "14         15    15600882     Scott          635     Spain  Female   35   \n",
       "\n",
       "    Tenure    Balance  NumOfProducts  HasCrCard  IsActiveMember  \\\n",
       "0      2.0       0.00              1          1               1   \n",
       "1      1.0   83807.86              1          0               1   \n",
       "2      8.0  159660.80              3          1               0   \n",
       "3      1.0       0.00              2          0               0   \n",
       "4      2.0  125510.82              1          1               1   \n",
       "5      8.0  113755.78              2          1               0   \n",
       "6      7.0       0.00              2          1               1   \n",
       "7      4.0  115046.74              4          1               0   \n",
       "8      4.0  142051.07              2          0               1   \n",
       "9      2.0  134603.88              1          1               1   \n",
       "10     6.0  102016.72              2          0               0   \n",
       "11     3.0       0.00              2          1               0   \n",
       "12    10.0       0.00              2          1               0   \n",
       "13     5.0       0.00              2          0               0   \n",
       "14     7.0       0.00              2          1               1   \n",
       "\n",
       "    EstimatedSalary  Exited  \n",
       "0         101348.88       1  \n",
       "1         112542.58       0  \n",
       "2         113931.57       1  \n",
       "3          93826.63       0  \n",
       "4          79084.10       0  \n",
       "5         149756.71       1  \n",
       "6          10062.80       0  \n",
       "7         119346.88       1  \n",
       "8          74940.50       0  \n",
       "9          71725.73       0  \n",
       "10         80181.12       0  \n",
       "11         76390.01       0  \n",
       "12         26260.98       0  \n",
       "13        190857.79       0  \n",
       "14         65951.65       0  "
      ]
     },
     "metadata": {},
     "output_type": "display_data"
    }
   ],
   "source": [
    "df = pd.read_csv('../../data/Churn.csv')\n",
    "display(df.head(15)) # выведем на экран первые 15 строк исходной таблицы с данными"
   ]
  },
  {
   "cell_type": "code",
   "execution_count": 3,
   "metadata": {},
   "outputs": [
    {
     "name": "stdout",
     "output_type": "stream",
     "text": [
      "<class 'pandas.core.frame.DataFrame'>\n",
      "RangeIndex: 10000 entries, 0 to 9999\n",
      "Data columns (total 14 columns):\n",
      " #   Column           Non-Null Count  Dtype  \n",
      "---  ------           --------------  -----  \n",
      " 0   RowNumber        10000 non-null  int64  \n",
      " 1   CustomerId       10000 non-null  int64  \n",
      " 2   Surname          10000 non-null  object \n",
      " 3   CreditScore      10000 non-null  int64  \n",
      " 4   Geography        10000 non-null  object \n",
      " 5   Gender           10000 non-null  object \n",
      " 6   Age              10000 non-null  int64  \n",
      " 7   Tenure           9091 non-null   float64\n",
      " 8   Balance          10000 non-null  float64\n",
      " 9   NumOfProducts    10000 non-null  int64  \n",
      " 10  HasCrCard        10000 non-null  int64  \n",
      " 11  IsActiveMember   10000 non-null  int64  \n",
      " 12  EstimatedSalary  10000 non-null  float64\n",
      " 13  Exited           10000 non-null  int64  \n",
      "dtypes: float64(3), int64(8), object(3)\n",
      "memory usage: 1.1+ MB\n"
     ]
    }
   ],
   "source": [
    "df.info()"
   ]
  },
  {
   "cell_type": "code",
   "execution_count": 4,
   "metadata": {},
   "outputs": [
    {
     "name": "stdout",
     "output_type": "stream",
     "text": [
      "[ 2.  1.  8.  7.  4.  6.  3. 10.  5.  9.  0. nan]\n"
     ]
    }
   ],
   "source": [
    "# в графе срока сколько лет человек явлется клиентом банка наблюдаются пропуски\n",
    "print(df['Tenure'].unique())"
   ]
  },
  {
   "cell_type": "code",
   "execution_count": 5,
   "metadata": {},
   "outputs": [],
   "source": [
    "# Заменим пропуски в графе срока сколько лет человек явлется клиентом банка на медианное значение\n",
    "df['Tenure'] = df['Tenure'].fillna(df['Tenure'].median())"
   ]
  },
  {
   "cell_type": "code",
   "execution_count": 6,
   "metadata": {},
   "outputs": [],
   "source": [
    "# Заменим в столбце 'Gender' Male на 1, а Female на 0\n",
    "df.loc[df['Gender'] == 'Male', 'Gender'] = 1\n",
    "df.loc[df['Gender'] == 'Female', 'Gender'] = 0"
   ]
  },
  {
   "cell_type": "code",
   "execution_count": 7,
   "metadata": {},
   "outputs": [
    {
     "name": "stdout",
     "output_type": "stream",
     "text": [
      "['France' 'Spain' 'Germany']\n"
     ]
    }
   ],
   "source": [
    "# определим уникальные значения в столбце географического положения банка\n",
    "print(df['Geography'].unique())"
   ]
  },
  {
   "cell_type": "code",
   "execution_count": 8,
   "metadata": {},
   "outputs": [],
   "source": [
    "# Присвоим странам в столбце 'Geography' следующие значения (по алфавиту)\n",
    "# Germany - 1\n",
    "# France - 2\n",
    "# Spain - 3\n",
    "\n",
    "df.loc[df['Geography'] == 'Germany', 'Geography'] = 1\n",
    "df.loc[df['Geography'] == 'France', 'Geography'] = 2\n",
    "df.loc[df['Geography'] == 'Spain', 'Geography'] = 3"
   ]
  },
  {
   "cell_type": "code",
   "execution_count": 9,
   "metadata": {},
   "outputs": [
    {
     "data": {
      "text/html": [
       "<div>\n",
       "<style scoped>\n",
       "    .dataframe tbody tr th:only-of-type {\n",
       "        vertical-align: middle;\n",
       "    }\n",
       "\n",
       "    .dataframe tbody tr th {\n",
       "        vertical-align: top;\n",
       "    }\n",
       "\n",
       "    .dataframe thead th {\n",
       "        text-align: right;\n",
       "    }\n",
       "</style>\n",
       "<table border=\"1\" class=\"dataframe\">\n",
       "  <thead>\n",
       "    <tr style=\"text-align: right;\">\n",
       "      <th></th>\n",
       "      <th>RowNumber</th>\n",
       "      <th>CustomerId</th>\n",
       "      <th>Surname</th>\n",
       "      <th>CreditScore</th>\n",
       "      <th>Geography</th>\n",
       "      <th>Gender</th>\n",
       "      <th>Age</th>\n",
       "      <th>Tenure</th>\n",
       "      <th>Balance</th>\n",
       "      <th>NumOfProducts</th>\n",
       "      <th>HasCrCard</th>\n",
       "      <th>IsActiveMember</th>\n",
       "      <th>EstimatedSalary</th>\n",
       "      <th>Exited</th>\n",
       "    </tr>\n",
       "  </thead>\n",
       "  <tbody>\n",
       "    <tr>\n",
       "      <th>0</th>\n",
       "      <td>1</td>\n",
       "      <td>15634602</td>\n",
       "      <td>Hargrave</td>\n",
       "      <td>619</td>\n",
       "      <td>2</td>\n",
       "      <td>0</td>\n",
       "      <td>42</td>\n",
       "      <td>2.0</td>\n",
       "      <td>0.00</td>\n",
       "      <td>1</td>\n",
       "      <td>1</td>\n",
       "      <td>1</td>\n",
       "      <td>101348.88</td>\n",
       "      <td>1</td>\n",
       "    </tr>\n",
       "    <tr>\n",
       "      <th>1</th>\n",
       "      <td>2</td>\n",
       "      <td>15647311</td>\n",
       "      <td>Hill</td>\n",
       "      <td>608</td>\n",
       "      <td>3</td>\n",
       "      <td>0</td>\n",
       "      <td>41</td>\n",
       "      <td>1.0</td>\n",
       "      <td>83807.86</td>\n",
       "      <td>1</td>\n",
       "      <td>0</td>\n",
       "      <td>1</td>\n",
       "      <td>112542.58</td>\n",
       "      <td>0</td>\n",
       "    </tr>\n",
       "    <tr>\n",
       "      <th>2</th>\n",
       "      <td>3</td>\n",
       "      <td>15619304</td>\n",
       "      <td>Onio</td>\n",
       "      <td>502</td>\n",
       "      <td>2</td>\n",
       "      <td>0</td>\n",
       "      <td>42</td>\n",
       "      <td>8.0</td>\n",
       "      <td>159660.80</td>\n",
       "      <td>3</td>\n",
       "      <td>1</td>\n",
       "      <td>0</td>\n",
       "      <td>113931.57</td>\n",
       "      <td>1</td>\n",
       "    </tr>\n",
       "    <tr>\n",
       "      <th>3</th>\n",
       "      <td>4</td>\n",
       "      <td>15701354</td>\n",
       "      <td>Boni</td>\n",
       "      <td>699</td>\n",
       "      <td>2</td>\n",
       "      <td>0</td>\n",
       "      <td>39</td>\n",
       "      <td>1.0</td>\n",
       "      <td>0.00</td>\n",
       "      <td>2</td>\n",
       "      <td>0</td>\n",
       "      <td>0</td>\n",
       "      <td>93826.63</td>\n",
       "      <td>0</td>\n",
       "    </tr>\n",
       "    <tr>\n",
       "      <th>4</th>\n",
       "      <td>5</td>\n",
       "      <td>15737888</td>\n",
       "      <td>Mitchell</td>\n",
       "      <td>850</td>\n",
       "      <td>3</td>\n",
       "      <td>0</td>\n",
       "      <td>43</td>\n",
       "      <td>2.0</td>\n",
       "      <td>125510.82</td>\n",
       "      <td>1</td>\n",
       "      <td>1</td>\n",
       "      <td>1</td>\n",
       "      <td>79084.10</td>\n",
       "      <td>0</td>\n",
       "    </tr>\n",
       "    <tr>\n",
       "      <th>...</th>\n",
       "      <td>...</td>\n",
       "      <td>...</td>\n",
       "      <td>...</td>\n",
       "      <td>...</td>\n",
       "      <td>...</td>\n",
       "      <td>...</td>\n",
       "      <td>...</td>\n",
       "      <td>...</td>\n",
       "      <td>...</td>\n",
       "      <td>...</td>\n",
       "      <td>...</td>\n",
       "      <td>...</td>\n",
       "      <td>...</td>\n",
       "      <td>...</td>\n",
       "    </tr>\n",
       "    <tr>\n",
       "      <th>9995</th>\n",
       "      <td>9996</td>\n",
       "      <td>15606229</td>\n",
       "      <td>Obijiaku</td>\n",
       "      <td>771</td>\n",
       "      <td>2</td>\n",
       "      <td>1</td>\n",
       "      <td>39</td>\n",
       "      <td>5.0</td>\n",
       "      <td>0.00</td>\n",
       "      <td>2</td>\n",
       "      <td>1</td>\n",
       "      <td>0</td>\n",
       "      <td>96270.64</td>\n",
       "      <td>0</td>\n",
       "    </tr>\n",
       "    <tr>\n",
       "      <th>9996</th>\n",
       "      <td>9997</td>\n",
       "      <td>15569892</td>\n",
       "      <td>Johnstone</td>\n",
       "      <td>516</td>\n",
       "      <td>2</td>\n",
       "      <td>1</td>\n",
       "      <td>35</td>\n",
       "      <td>10.0</td>\n",
       "      <td>57369.61</td>\n",
       "      <td>1</td>\n",
       "      <td>1</td>\n",
       "      <td>1</td>\n",
       "      <td>101699.77</td>\n",
       "      <td>0</td>\n",
       "    </tr>\n",
       "    <tr>\n",
       "      <th>9997</th>\n",
       "      <td>9998</td>\n",
       "      <td>15584532</td>\n",
       "      <td>Liu</td>\n",
       "      <td>709</td>\n",
       "      <td>2</td>\n",
       "      <td>0</td>\n",
       "      <td>36</td>\n",
       "      <td>7.0</td>\n",
       "      <td>0.00</td>\n",
       "      <td>1</td>\n",
       "      <td>0</td>\n",
       "      <td>1</td>\n",
       "      <td>42085.58</td>\n",
       "      <td>1</td>\n",
       "    </tr>\n",
       "    <tr>\n",
       "      <th>9998</th>\n",
       "      <td>9999</td>\n",
       "      <td>15682355</td>\n",
       "      <td>Sabbatini</td>\n",
       "      <td>772</td>\n",
       "      <td>1</td>\n",
       "      <td>1</td>\n",
       "      <td>42</td>\n",
       "      <td>3.0</td>\n",
       "      <td>75075.31</td>\n",
       "      <td>2</td>\n",
       "      <td>1</td>\n",
       "      <td>0</td>\n",
       "      <td>92888.52</td>\n",
       "      <td>1</td>\n",
       "    </tr>\n",
       "    <tr>\n",
       "      <th>9999</th>\n",
       "      <td>10000</td>\n",
       "      <td>15628319</td>\n",
       "      <td>Walker</td>\n",
       "      <td>792</td>\n",
       "      <td>2</td>\n",
       "      <td>0</td>\n",
       "      <td>28</td>\n",
       "      <td>5.0</td>\n",
       "      <td>130142.79</td>\n",
       "      <td>1</td>\n",
       "      <td>1</td>\n",
       "      <td>0</td>\n",
       "      <td>38190.78</td>\n",
       "      <td>0</td>\n",
       "    </tr>\n",
       "  </tbody>\n",
       "</table>\n",
       "<p>10000 rows × 14 columns</p>\n",
       "</div>"
      ],
      "text/plain": [
       "      RowNumber  CustomerId    Surname  CreditScore Geography Gender  Age  \\\n",
       "0             1    15634602   Hargrave          619         2      0   42   \n",
       "1             2    15647311       Hill          608         3      0   41   \n",
       "2             3    15619304       Onio          502         2      0   42   \n",
       "3             4    15701354       Boni          699         2      0   39   \n",
       "4             5    15737888   Mitchell          850         3      0   43   \n",
       "...         ...         ...        ...          ...       ...    ...  ...   \n",
       "9995       9996    15606229   Obijiaku          771         2      1   39   \n",
       "9996       9997    15569892  Johnstone          516         2      1   35   \n",
       "9997       9998    15584532        Liu          709         2      0   36   \n",
       "9998       9999    15682355  Sabbatini          772         1      1   42   \n",
       "9999      10000    15628319     Walker          792         2      0   28   \n",
       "\n",
       "      Tenure    Balance  NumOfProducts  HasCrCard  IsActiveMember  \\\n",
       "0        2.0       0.00              1          1               1   \n",
       "1        1.0   83807.86              1          0               1   \n",
       "2        8.0  159660.80              3          1               0   \n",
       "3        1.0       0.00              2          0               0   \n",
       "4        2.0  125510.82              1          1               1   \n",
       "...      ...        ...            ...        ...             ...   \n",
       "9995     5.0       0.00              2          1               0   \n",
       "9996    10.0   57369.61              1          1               1   \n",
       "9997     7.0       0.00              1          0               1   \n",
       "9998     3.0   75075.31              2          1               0   \n",
       "9999     5.0  130142.79              1          1               0   \n",
       "\n",
       "      EstimatedSalary  Exited  \n",
       "0           101348.88       1  \n",
       "1           112542.58       0  \n",
       "2           113931.57       1  \n",
       "3            93826.63       0  \n",
       "4            79084.10       0  \n",
       "...               ...     ...  \n",
       "9995         96270.64       0  \n",
       "9996        101699.77       0  \n",
       "9997         42085.58       1  \n",
       "9998         92888.52       1  \n",
       "9999         38190.78       0  \n",
       "\n",
       "[10000 rows x 14 columns]"
      ]
     },
     "metadata": {},
     "output_type": "display_data"
    }
   ],
   "source": [
    "display(df)"
   ]
  },
  {
   "cell_type": "code",
   "execution_count": 11,
   "metadata": {},
   "outputs": [
    {
     "name": "stdout",
     "output_type": "stream",
     "text": [
      "(6000, 10)\n",
      "(2000, 10)\n",
      "(2000, 10)\n"
     ]
    }
   ],
   "source": [
    "# разобьем выборки на 60/20/20\n",
    "\n",
    "features = df[['CreditScore', 'Geography', 'Gender', 'Age', 'Tenure', 'Balance', 'NumOfProducts', 'HasCrCard', 'IsActiveMember', 'EstimatedSalary']]\n",
    "target = df['Exited']\n",
    "\n",
    "features_train, features_temp, target_train, target_temp = train_test_split(features, target, train_size=0.6, random_state=12345)\n",
    "features_valid, features_test, target_valid, target_test = train_test_split(features_temp, target_temp, test_size=0.5, train_size=0.5, random_state=12345)\n",
    "\n",
    "# проверим размеры воборки\n",
    "print(features_train.shape)\n",
    "print(features_valid.shape)\n",
    "print(features_test.shape)"
   ]
  },
  {
   "cell_type": "code",
   "execution_count": 12,
   "metadata": {},
   "outputs": [
    {
     "name": "stderr",
     "output_type": "stream",
     "text": [
      "/tmp/ipykernel_68/435270049.py:7: SettingWithCopyWarning: \n",
      "A value is trying to be set on a copy of a slice from a DataFrame.\n",
      "Try using .loc[row_indexer,col_indexer] = value instead\n",
      "\n",
      "See the caveats in the documentation: https://pandas.pydata.org/pandas-docs/stable/user_guide/indexing.html#returning-a-view-versus-a-copy\n",
      "  features_train[numeric] = scaler.transform(features_train[numeric])\n",
      "/opt/conda/lib/python3.9/site-packages/pandas/core/indexing.py:1738: SettingWithCopyWarning: \n",
      "A value is trying to be set on a copy of a slice from a DataFrame.\n",
      "Try using .loc[row_indexer,col_indexer] = value instead\n",
      "\n",
      "See the caveats in the documentation: https://pandas.pydata.org/pandas-docs/stable/user_guide/indexing.html#returning-a-view-versus-a-copy\n",
      "  self._setitem_single_column(loc, value[:, i].tolist(), pi)\n",
      "/tmp/ipykernel_68/435270049.py:8: SettingWithCopyWarning: \n",
      "A value is trying to be set on a copy of a slice from a DataFrame.\n",
      "Try using .loc[row_indexer,col_indexer] = value instead\n",
      "\n",
      "See the caveats in the documentation: https://pandas.pydata.org/pandas-docs/stable/user_guide/indexing.html#returning-a-view-versus-a-copy\n",
      "  features_valid[numeric] = scaler.transform(features_valid[numeric])\n",
      "/opt/conda/lib/python3.9/site-packages/pandas/core/indexing.py:1738: SettingWithCopyWarning: \n",
      "A value is trying to be set on a copy of a slice from a DataFrame.\n",
      "Try using .loc[row_indexer,col_indexer] = value instead\n",
      "\n",
      "See the caveats in the documentation: https://pandas.pydata.org/pandas-docs/stable/user_guide/indexing.html#returning-a-view-versus-a-copy\n",
      "  self._setitem_single_column(loc, value[:, i].tolist(), pi)\n",
      "/tmp/ipykernel_68/435270049.py:9: SettingWithCopyWarning: \n",
      "A value is trying to be set on a copy of a slice from a DataFrame.\n",
      "Try using .loc[row_indexer,col_indexer] = value instead\n",
      "\n",
      "See the caveats in the documentation: https://pandas.pydata.org/pandas-docs/stable/user_guide/indexing.html#returning-a-view-versus-a-copy\n",
      "  features_test[numeric] = scaler.transform(features_test[numeric])\n",
      "/opt/conda/lib/python3.9/site-packages/pandas/core/indexing.py:1738: SettingWithCopyWarning: \n",
      "A value is trying to be set on a copy of a slice from a DataFrame.\n",
      "Try using .loc[row_indexer,col_indexer] = value instead\n",
      "\n",
      "See the caveats in the documentation: https://pandas.pydata.org/pandas-docs/stable/user_guide/indexing.html#returning-a-view-versus-a-copy\n",
      "  self._setitem_single_column(loc, value[:, i].tolist(), pi)\n"
     ]
    },
    {
     "data": {
      "text/html": [
       "<div>\n",
       "<style scoped>\n",
       "    .dataframe tbody tr th:only-of-type {\n",
       "        vertical-align: middle;\n",
       "    }\n",
       "\n",
       "    .dataframe tbody tr th {\n",
       "        vertical-align: top;\n",
       "    }\n",
       "\n",
       "    .dataframe thead th {\n",
       "        text-align: right;\n",
       "    }\n",
       "</style>\n",
       "<table border=\"1\" class=\"dataframe\">\n",
       "  <thead>\n",
       "    <tr style=\"text-align: right;\">\n",
       "      <th></th>\n",
       "      <th>CreditScore</th>\n",
       "      <th>Geography</th>\n",
       "      <th>Gender</th>\n",
       "      <th>Age</th>\n",
       "      <th>Tenure</th>\n",
       "      <th>Balance</th>\n",
       "      <th>NumOfProducts</th>\n",
       "      <th>HasCrCard</th>\n",
       "      <th>IsActiveMember</th>\n",
       "      <th>EstimatedSalary</th>\n",
       "    </tr>\n",
       "  </thead>\n",
       "  <tbody>\n",
       "    <tr>\n",
       "      <th>7479</th>\n",
       "      <td>-0.886751</td>\n",
       "      <td>3</td>\n",
       "      <td>1</td>\n",
       "      <td>-0.373192</td>\n",
       "      <td>1.082277</td>\n",
       "      <td>1.232271</td>\n",
       "      <td>-0.891560</td>\n",
       "      <td>0.642466</td>\n",
       "      <td>-1.055187</td>\n",
       "      <td>-0.187705</td>\n",
       "    </tr>\n",
       "    <tr>\n",
       "      <th>3411</th>\n",
       "      <td>0.608663</td>\n",
       "      <td>2</td>\n",
       "      <td>0</td>\n",
       "      <td>-0.183385</td>\n",
       "      <td>1.082277</td>\n",
       "      <td>0.600563</td>\n",
       "      <td>-0.891560</td>\n",
       "      <td>-1.556504</td>\n",
       "      <td>-1.055187</td>\n",
       "      <td>-0.333945</td>\n",
       "    </tr>\n",
       "    <tr>\n",
       "      <th>6027</th>\n",
       "      <td>2.052152</td>\n",
       "      <td>1</td>\n",
       "      <td>1</td>\n",
       "      <td>0.480939</td>\n",
       "      <td>-0.737696</td>\n",
       "      <td>1.027098</td>\n",
       "      <td>0.830152</td>\n",
       "      <td>-1.556504</td>\n",
       "      <td>0.947699</td>\n",
       "      <td>1.503095</td>\n",
       "    </tr>\n",
       "    <tr>\n",
       "      <th>1247</th>\n",
       "      <td>-1.457915</td>\n",
       "      <td>2</td>\n",
       "      <td>1</td>\n",
       "      <td>-1.417129</td>\n",
       "      <td>0.354288</td>\n",
       "      <td>-1.233163</td>\n",
       "      <td>0.830152</td>\n",
       "      <td>0.642466</td>\n",
       "      <td>-1.055187</td>\n",
       "      <td>-1.071061</td>\n",
       "    </tr>\n",
       "    <tr>\n",
       "      <th>3716</th>\n",
       "      <td>0.130961</td>\n",
       "      <td>1</td>\n",
       "      <td>0</td>\n",
       "      <td>-1.132419</td>\n",
       "      <td>-1.101690</td>\n",
       "      <td>1.140475</td>\n",
       "      <td>-0.891560</td>\n",
       "      <td>-1.556504</td>\n",
       "      <td>-1.055187</td>\n",
       "      <td>1.524268</td>\n",
       "    </tr>\n",
       "  </tbody>\n",
       "</table>\n",
       "</div>"
      ],
      "text/plain": [
       "      CreditScore Geography Gender       Age    Tenure   Balance  \\\n",
       "7479    -0.886751         3      1 -0.373192  1.082277  1.232271   \n",
       "3411     0.608663         2      0 -0.183385  1.082277  0.600563   \n",
       "6027     2.052152         1      1  0.480939 -0.737696  1.027098   \n",
       "1247    -1.457915         2      1 -1.417129  0.354288 -1.233163   \n",
       "3716     0.130961         1      0 -1.132419 -1.101690  1.140475   \n",
       "\n",
       "      NumOfProducts  HasCrCard  IsActiveMember  EstimatedSalary  \n",
       "7479      -0.891560   0.642466       -1.055187        -0.187705  \n",
       "3411      -0.891560  -1.556504       -1.055187        -0.333945  \n",
       "6027       0.830152  -1.556504        0.947699         1.503095  \n",
       "1247       0.830152   0.642466       -1.055187        -1.071061  \n",
       "3716      -0.891560  -1.556504       -1.055187         1.524268  "
      ]
     },
     "metadata": {},
     "output_type": "display_data"
    }
   ],
   "source": [
    "# Отмасштабируем признаки\n",
    "\n",
    "numeric = ['CreditScore', 'Age', 'Tenure', 'Balance', 'NumOfProducts', 'HasCrCard', 'IsActiveMember', 'EstimatedSalary']\n",
    "\n",
    "scaler = StandardScaler()\n",
    "scaler.fit(features_train[numeric])\n",
    "features_train[numeric] = scaler.transform(features_train[numeric])\n",
    "features_valid[numeric] = scaler.transform(features_valid[numeric])\n",
    "features_test[numeric] = scaler.transform(features_test[numeric])\n",
    "\n",
    "display(features_train.head())"
   ]
  },
  {
   "cell_type": "markdown",
   "metadata": {},
   "source": [
    "## Исследование задачи"
   ]
  },
  {
   "cell_type": "code",
   "execution_count": 13,
   "metadata": {},
   "outputs": [
    {
     "data": {
      "text/plain": [
       "0    7963\n",
       "1    2037\n",
       "Name: Exited, dtype: int64"
      ]
     },
     "execution_count": 13,
     "metadata": {},
     "output_type": "execute_result"
    }
   ],
   "source": [
    "# Определим количество положительных и отрицательных классов\n",
    "df['Exited'].value_counts()"
   ]
  },
  {
   "cell_type": "markdown",
   "metadata": {},
   "source": [
    "В представленных данных наблюдается дисбалланс классов, поскольку классы делятся примерно в соотношении 80% и 20%"
   ]
  },
  {
   "cell_type": "markdown",
   "metadata": {},
   "source": [
    "### Рассмотрим модель классификации дерево решений"
   ]
  },
  {
   "cell_type": "code",
   "execution_count": 14,
   "metadata": {},
   "outputs": [
    {
     "name": "stdout",
     "output_type": "stream",
     "text": [
      "0.7895\n"
     ]
    }
   ],
   "source": [
    "model = DecisionTreeClassifier(random_state=12345)\n",
    "model.fit(features_train, target_train)\n",
    "predicted_valid =  model.predict(features_valid)\n",
    "\n",
    "accuracy_valid = accuracy_score(predicted_valid, target_valid)\n",
    "\n",
    "print(accuracy_valid) "
   ]
  },
  {
   "cell_type": "code",
   "execution_count": 15,
   "metadata": {},
   "outputs": [
    {
     "name": "stdout",
     "output_type": "stream",
     "text": [
      "0.8006666666666666\n"
     ]
    }
   ],
   "source": [
    "target_pred_constant = pd.Series(0, index=target_train.index)\n",
    "\n",
    "print(accuracy_score(target_train, target_pred_constant)) "
   ]
  },
  {
   "cell_type": "code",
   "execution_count": 16,
   "metadata": {},
   "outputs": [
    {
     "name": "stdout",
     "output_type": "stream",
     "text": [
      "[[1370  212]\n",
      " [ 209  209]]\n"
     ]
    }
   ],
   "source": [
    "print(confusion_matrix(target_valid, predicted_valid))"
   ]
  },
  {
   "cell_type": "code",
   "execution_count": 17,
   "metadata": {},
   "outputs": [
    {
     "name": "stdout",
     "output_type": "stream",
     "text": [
      "0.5\n"
     ]
    }
   ],
   "source": [
    "print(recall_score(target_valid, predicted_valid))"
   ]
  },
  {
   "cell_type": "code",
   "execution_count": 18,
   "metadata": {},
   "outputs": [
    {
     "name": "stdout",
     "output_type": "stream",
     "text": [
      "0.49643705463182897\n"
     ]
    }
   ],
   "source": [
    "print(precision_score(target_valid, predicted_valid))"
   ]
  },
  {
   "cell_type": "code",
   "execution_count": 19,
   "metadata": {},
   "outputs": [
    {
     "name": "stdout",
     "output_type": "stream",
     "text": [
      "0.49821215733015495\n"
     ]
    }
   ],
   "source": [
    "print(f1_score(predicted_valid, target_valid))"
   ]
  },
  {
   "cell_type": "code",
   "execution_count": 20,
   "metadata": {},
   "outputs": [
    {
     "name": "stdout",
     "output_type": "stream",
     "text": [
      "0.6829962073324906\n"
     ]
    }
   ],
   "source": [
    "probabilities_valid = model.predict_proba(features_valid)\n",
    "probabilities_one_valid = probabilities_valid[:, 1]\n",
    "\n",
    "auc_roc = roc_auc_score(target_valid, probabilities_one_valid)\n",
    "\n",
    "print(auc_roc)"
   ]
  },
  {
   "cell_type": "markdown",
   "metadata": {},
   "source": [
    "### Рассмотрим модель логистической регрессии"
   ]
  },
  {
   "cell_type": "code",
   "execution_count": 21,
   "metadata": {},
   "outputs": [
    {
     "name": "stdout",
     "output_type": "stream",
     "text": [
      "0.802\n"
     ]
    }
   ],
   "source": [
    "model = LogisticRegression(random_state=12345)\n",
    "model.fit(features_train, target_train)\n",
    "predicted_valid =  model.predict(features_valid)\n",
    "\n",
    "accuracy_valid = accuracy_score(predicted_valid, target_valid)\n",
    "\n",
    "print(accuracy_valid)"
   ]
  },
  {
   "cell_type": "code",
   "execution_count": 22,
   "metadata": {},
   "outputs": [
    {
     "name": "stdout",
     "output_type": "stream",
     "text": [
      "0.8006666666666666\n"
     ]
    }
   ],
   "source": [
    "target_pred_constant = pd.Series(0, index=target_train.index)\n",
    "\n",
    "print(accuracy_score(target_train, target_pred_constant)) "
   ]
  },
  {
   "cell_type": "code",
   "execution_count": 23,
   "metadata": {},
   "outputs": [
    {
     "name": "stdout",
     "output_type": "stream",
     "text": [
      "[[1519   63]\n",
      " [ 333   85]]\n"
     ]
    }
   ],
   "source": [
    "print(confusion_matrix(target_valid, predicted_valid))"
   ]
  },
  {
   "cell_type": "code",
   "execution_count": 24,
   "metadata": {},
   "outputs": [
    {
     "name": "stdout",
     "output_type": "stream",
     "text": [
      "0.5743243243243243\n"
     ]
    }
   ],
   "source": [
    "print(precision_score(target_valid, predicted_valid))"
   ]
  },
  {
   "cell_type": "code",
   "execution_count": 25,
   "metadata": {},
   "outputs": [
    {
     "name": "stdout",
     "output_type": "stream",
     "text": [
      "0.3003533568904594\n"
     ]
    }
   ],
   "source": [
    "print(f1_score(predicted_valid, target_valid))"
   ]
  },
  {
   "cell_type": "code",
   "execution_count": 26,
   "metadata": {},
   "outputs": [
    {
     "name": "stdout",
     "output_type": "stream",
     "text": [
      "0.758126712598068\n"
     ]
    }
   ],
   "source": [
    "probabilities_valid = model.predict_proba(features_valid)\n",
    "probabilities_one_valid = probabilities_valid[:, 1]\n",
    "\n",
    "auc_roc = roc_auc_score(target_valid, probabilities_one_valid)\n",
    "\n",
    "print(auc_roc)"
   ]
  },
  {
   "cell_type": "markdown",
   "metadata": {},
   "source": [
    "### Рассмотрим модель классификации случайный лес"
   ]
  },
  {
   "cell_type": "code",
   "execution_count": 27,
   "metadata": {},
   "outputs": [
    {
     "name": "stdout",
     "output_type": "stream",
     "text": [
      "0.8655\n"
     ]
    }
   ],
   "source": [
    "model = RandomForestClassifier(random_state=12345)\n",
    "model.fit(features_train, target_train)\n",
    "predicted_valid =  model.predict(features_valid)\n",
    "\n",
    "accuracy_valid = accuracy_score(predicted_valid, target_valid)\n",
    "\n",
    "print(accuracy_valid) "
   ]
  },
  {
   "cell_type": "code",
   "execution_count": 28,
   "metadata": {},
   "outputs": [
    {
     "name": "stdout",
     "output_type": "stream",
     "text": [
      "1\n",
      "2\n",
      "3\n",
      "4\n",
      "6\n",
      "7\n",
      "9\n",
      "10\n",
      "11\n",
      "15\n",
      "18\n",
      "19\n",
      "26\n",
      "28\n",
      "38\n",
      "Accuracy наилучшей классификационной модели \"Случайный лес\" на валидационной выборке: 0.8575\n"
     ]
    }
   ],
   "source": [
    "best_model = None\n",
    "best_result = 0\n",
    "for est in range(1, 40):\n",
    "    model = RandomForestClassifier(random_state=12345, n_estimators=est)\n",
    "    model.fit(features_train, target_train) # обучите модель на тренировочной выборке\n",
    "    result = model.score(features_valid, target_valid)\n",
    "    if result > best_result:\n",
    "        best_model = model # сохранение наилучшей модели\n",
    "        best_result = result # сохранение наилучшего значения метрики accuracy на валидационных данных\n",
    "        print(est)\n",
    "\n",
    "print('Accuracy наилучшей классификационной модели \"Случайный лес\" на валидационной выборке:', best_result)"
   ]
  },
  {
   "cell_type": "code",
   "execution_count": 30,
   "metadata": {},
   "outputs": [
    {
     "data": {
      "text/plain": [
       "GridSearchCV(cv=5, estimator=RandomForestClassifier(random_state=12345),\n",
       "             param_grid={'max_depth': range(1, 13, 2)})"
      ]
     },
     "execution_count": 30,
     "metadata": {},
     "output_type": "execute_result"
    }
   ],
   "source": [
    "model = RandomForestClassifier(random_state=12345)\n",
    "parametrs = {'max_depth': range (1,13, 2)}\n",
    "\n",
    "grid = GridSearchCV(model, parametrs, cv=5)\n",
    "grid.fit(features_train, target_train)"
   ]
  },
  {
   "cell_type": "code",
   "execution_count": 31,
   "metadata": {},
   "outputs": [
    {
     "data": {
      "text/plain": [
       "{'max_depth': 9}"
      ]
     },
     "execution_count": 31,
     "metadata": {},
     "output_type": "execute_result"
    }
   ],
   "source": [
    "grid.best_params_"
   ]
  },
  {
   "cell_type": "code",
   "execution_count": 33,
   "metadata": {},
   "outputs": [
    {
     "name": "stdout",
     "output_type": "stream",
     "text": [
      "0.8575\n"
     ]
    }
   ],
   "source": [
    "model = RandomForestClassifier(random_state=12345, n_estimators=38)\n",
    "model.fit(features_train, target_train)\n",
    "predicted_valid =  model.predict(features_valid)\n",
    "\n",
    "accuracy_valid = accuracy_score(predicted_valid, target_valid)\n",
    "\n",
    "print(accuracy_valid)"
   ]
  },
  {
   "cell_type": "code",
   "execution_count": 34,
   "metadata": {},
   "outputs": [
    {
     "name": "stdout",
     "output_type": "stream",
     "text": [
      "0.8006666666666666\n"
     ]
    }
   ],
   "source": [
    "target_pred_constant = pd.Series(0, index=target_train.index)\n",
    "\n",
    "print(accuracy_score(target_train, target_pred_constant))"
   ]
  },
  {
   "cell_type": "code",
   "execution_count": 35,
   "metadata": {},
   "outputs": [
    {
     "name": "stdout",
     "output_type": "stream",
     "text": [
      "[[1523   59]\n",
      " [ 226  192]]\n"
     ]
    }
   ],
   "source": [
    "print(confusion_matrix(target_valid, predicted_valid))"
   ]
  },
  {
   "cell_type": "code",
   "execution_count": 36,
   "metadata": {},
   "outputs": [
    {
     "name": "stdout",
     "output_type": "stream",
     "text": [
      "0.7649402390438247\n"
     ]
    }
   ],
   "source": [
    "print(precision_score(target_valid, predicted_valid))"
   ]
  },
  {
   "cell_type": "code",
   "execution_count": 37,
   "metadata": {},
   "outputs": [
    {
     "name": "stdout",
     "output_type": "stream",
     "text": [
      "0.5739910313901345\n"
     ]
    }
   ],
   "source": [
    "print(f1_score(predicted_valid, target_valid))"
   ]
  },
  {
   "cell_type": "code",
   "execution_count": 38,
   "metadata": {},
   "outputs": [
    {
     "name": "stdout",
     "output_type": "stream",
     "text": [
      "0.8283386967015286\n"
     ]
    }
   ],
   "source": [
    "probabilities_valid = model.predict_proba(features_valid)\n",
    "probabilities_one_valid = probabilities_valid[:, 1]\n",
    "\n",
    "# < напишите код здесь >\n",
    "auc_roc = roc_auc_score(target_valid, probabilities_one_valid)\n",
    "\n",
    "print(auc_roc)"
   ]
  },
  {
   "cell_type": "markdown",
   "metadata": {},
   "source": [
    "**Вывод**\n",
    "\n",
    "Наиболее перспективная модель по всем параметрам - модель случайного леса."
   ]
  },
  {
   "cell_type": "markdown",
   "metadata": {},
   "source": [
    "## Борьба с дисбалансом"
   ]
  },
  {
   "cell_type": "markdown",
   "metadata": {},
   "source": [
    "### Сбалансируем модель классификации дерево решений"
   ]
  },
  {
   "cell_type": "markdown",
   "metadata": {},
   "source": [
    "#### Методом взвешивания классов"
   ]
  },
  {
   "cell_type": "code",
   "execution_count": 39,
   "metadata": {},
   "outputs": [
    {
     "name": "stdout",
     "output_type": "stream",
     "text": [
      "F1: 0.5042839657282742\n"
     ]
    }
   ],
   "source": [
    "model = DecisionTreeClassifier(random_state=12345, class_weight='balanced')\n",
    "model.fit(features_train, target_train)\n",
    "predicted_valid = model.predict(features_valid)\n",
    "print(\"F1:\", f1_score(target_valid, predicted_valid))"
   ]
  },
  {
   "cell_type": "markdown",
   "metadata": {},
   "source": [
    "#### Методом увеличения выборки"
   ]
  },
  {
   "cell_type": "code",
   "execution_count": 40,
   "metadata": {},
   "outputs": [
    {
     "name": "stdout",
     "output_type": "stream",
     "text": [
      "F1: 0.4724602203182375\n"
     ]
    }
   ],
   "source": [
    "def upsample(features, target, repeat):\n",
    "    features_zeros = features[target == 0]\n",
    "    features_ones = features[target == 1]\n",
    "    target_zeros = target[target == 0]\n",
    "    target_ones = target[target == 1]\n",
    "\n",
    "    features_upsampled = pd.concat([features_zeros] + [features_ones] * repeat)\n",
    "    target_upsampled = pd.concat([target_zeros] + [target_ones] * repeat)\n",
    "    \n",
    "    features_upsampled, target_upsampled = shuffle(\n",
    "        features_upsampled, target_upsampled, random_state=12345)\n",
    "    \n",
    "    return features_upsampled, target_upsampled\n",
    "\n",
    "features_upsampled, target_upsampled = upsample(features_train, target_train, 3)\n",
    "\n",
    "model = DecisionTreeClassifier(random_state=12345)\n",
    "model.fit(features_upsampled, target_upsampled)\n",
    "predicted_valid = model.predict(features_valid)\n",
    "\n",
    "print(\"F1:\", f1_score(target_valid, predicted_valid))"
   ]
  },
  {
   "cell_type": "code",
   "execution_count": 41,
   "metadata": {},
   "outputs": [
    {
     "name": "stdout",
     "output_type": "stream",
     "text": [
      "(8392, 10)\n",
      "(2000, 10)\n",
      "(2000, 10)\n"
     ]
    }
   ],
   "source": [
    "# проверим размеры воборки\n",
    "print(features_upsampled.shape)\n",
    "print(features_valid.shape)\n",
    "print(features_test.shape)"
   ]
  },
  {
   "cell_type": "markdown",
   "metadata": {},
   "source": [
    "#### Методом уменьшения выборки"
   ]
  },
  {
   "cell_type": "code",
   "execution_count": 42,
   "metadata": {},
   "outputs": [
    {
     "name": "stdout",
     "output_type": "stream",
     "text": [
      "F1: 0.5046888320545609\n"
     ]
    }
   ],
   "source": [
    "def downsample(features, target, fraction):\n",
    "    features_zeros = features[target == 0]\n",
    "    features_ones = features[target == 1]\n",
    "    target_zeros = target[target == 0]\n",
    "    target_ones = target[target == 1]\n",
    "\n",
    "    features_downsampled = pd.concat(\n",
    "        [features_zeros.sample(frac=fraction, random_state=12345)] + [features_ones])\n",
    "    target_downsampled = pd.concat(\n",
    "        [target_zeros.sample(frac=fraction, random_state=12345)] + [target_ones])\n",
    "    \n",
    "    features_downsampled, target_downsampled = shuffle(\n",
    "        features_downsampled, target_downsampled, random_state=12345)\n",
    "    \n",
    "    return features_downsampled, target_downsampled\n",
    "\n",
    "features_downsampled, target_downsampled = downsample(features_train, target_train, 0.3)\n",
    "\n",
    "model = DecisionTreeClassifier(random_state=12345)\n",
    "model.fit(features_downsampled, target_downsampled)\n",
    "predicted_valid = model.predict(features_valid)\n",
    "\n",
    "print(\"F1:\", f1_score(target_valid, predicted_valid))"
   ]
  },
  {
   "cell_type": "code",
   "execution_count": 43,
   "metadata": {},
   "outputs": [
    {
     "name": "stdout",
     "output_type": "stream",
     "text": [
      "(2637, 10)\n",
      "(2000, 10)\n",
      "(2000, 10)\n"
     ]
    }
   ],
   "source": [
    "# проверим размеры воборки\n",
    "print(features_downsampled.shape)\n",
    "print(features_valid.shape)\n",
    "print(features_test.shape)"
   ]
  },
  {
   "cell_type": "markdown",
   "metadata": {},
   "source": [
    "#### Методом изменения порога классификации"
   ]
  },
  {
   "cell_type": "code",
   "execution_count": 45,
   "metadata": {},
   "outputs": [
    {
     "name": "stdout",
     "output_type": "stream",
     "text": [
      "Порог = 0.00 | Точность = 0.217, Полнота = 0.916 f1 =  0.3513761467889908\n",
      "Порог = 0.05 | Точность = 0.315, Полнота = 0.830 f1 =  0.45657894736842103\n",
      "Порог = 0.10 | Точность = 0.397, Полнота = 0.746 f1 =  0.5187032418952618\n",
      "Порог = 0.15 | Точность = 0.455, Полнота = 0.677 f1 =  0.5442307692307692\n",
      "Порог = 0.20 | Точность = 0.488, Полнота = 0.656 f1 =  0.5591836734693878\n",
      "Порог = 0.25 | Точность = 0.546, Полнота = 0.593 f1 =  0.5688073394495413\n",
      "Порог = 0.30 | Точность = 0.554, Полнота = 0.565 f1 =  0.5592417061611373\n",
      "Порог = 0.35 | Точность = 0.624, Полнота = 0.519 f1 =  0.566579634464752\n",
      "Порог = 0.40 | Точность = 0.659, Полнота = 0.495 f1 =  0.5655737704918032\n",
      "Порог = 0.45 | Точность = 0.669, Полнота = 0.493 f1 =  0.5674931129476585\n",
      "Порог = 0.50 | Точность = 0.681, Полнота = 0.481 f1 =  0.5638148667601683\n",
      "Порог = 0.55 | Точность = 0.706, Полнота = 0.471 f1 =  0.5652797704447633\n",
      "Порог = 0.60 | Точность = 0.712, Полнота = 0.438 f1 =  0.5422222222222222\n",
      "Порог = 0.65 | Точность = 0.729, Полнота = 0.419 f1 =  0.5319148936170213\n",
      "Порог = 0.70 | Точность = 0.762, Полнота = 0.414 f1 =  0.5364341085271317\n",
      "Порог = 0.75 | Точность = 0.772, Полнота = 0.340 f1 =  0.4717607973421927\n",
      "Порог = 0.80 | Точность = 0.767, Полнота = 0.330 f1 =  0.46153846153846156\n",
      "Порог = 0.85 | Точность = 0.764, Полнота = 0.325 f1 =  0.45637583892617445\n"
     ]
    }
   ],
   "source": [
    "model = DecisionTreeClassifier(random_state=12345, max_depth=9)\n",
    "model.fit(features_train, target_train)\n",
    "probabilities_valid = model.predict_proba(features_valid)\n",
    "probabilities_one_valid = probabilities_valid[:, 1]\n",
    "\n",
    "for threshold in np.arange(0, 0.9, 0.05):\n",
    "    predicted_valid = probabilities_one_valid > threshold\n",
    "    precision = precision_score(target_valid, predicted_valid)\n",
    "    recall =  recall_score(target_valid, predicted_valid)\n",
    "    print(\"Порог = {:.2f} | Точность = {:.3f}, Полнота = {:.3f}\".format(threshold, precision, recall), 'f1 = ',f1_score(target_valid, predicted_valid) )"
   ]
  },
  {
   "cell_type": "code",
   "execution_count": 46,
   "metadata": {},
   "outputs": [
    {
     "name": "stdout",
     "output_type": "stream",
     "text": [
      "F1: 0.45637583892617445\n"
     ]
    }
   ],
   "source": [
    "print(\"F1:\", f1_score(target_valid, predicted_valid))"
   ]
  },
  {
   "cell_type": "code",
   "execution_count": 47,
   "metadata": {},
   "outputs": [
    {
     "name": "stdout",
     "output_type": "stream",
     "text": [
      "0.7830459596295647\n"
     ]
    }
   ],
   "source": [
    "auc_roc = roc_auc_score(target_valid, probabilities_one_valid)\n",
    "\n",
    "print(auc_roc)"
   ]
  },
  {
   "cell_type": "markdown",
   "metadata": {},
   "source": [
    "**Вывод**\n",
    "\n",
    "Для модели \"Дерево решений\" наиболее высокий показатель F1 меры наблюдается после баллансировки путем уменьшения выборки и он составляет 0,5065. Однако, этот показатель ниже требуемого в задании (0,59)"
   ]
  },
  {
   "cell_type": "markdown",
   "metadata": {},
   "source": [
    "### Сбалансируем модель линейной регрессии"
   ]
  },
  {
   "cell_type": "markdown",
   "metadata": {},
   "source": [
    "#### Методом взвешивания классов"
   ]
  },
  {
   "cell_type": "code",
   "execution_count": 48,
   "metadata": {},
   "outputs": [
    {
     "name": "stdout",
     "output_type": "stream",
     "text": [
      "F1: 0.5042158516020236\n"
     ]
    }
   ],
   "source": [
    "model = LogisticRegression(random_state=12345, class_weight='balanced')\n",
    "model.fit(features_train, target_train)\n",
    "predicted_valid = model.predict(features_valid)\n",
    "print(\"F1:\", f1_score(target_valid, predicted_valid))"
   ]
  },
  {
   "cell_type": "markdown",
   "metadata": {},
   "source": [
    "#### Методом увеличения выборки"
   ]
  },
  {
   "cell_type": "code",
   "execution_count": 49,
   "metadata": {},
   "outputs": [
    {
     "name": "stdout",
     "output_type": "stream",
     "text": [
      "F1: 0.41684901531728663\n"
     ]
    }
   ],
   "source": [
    "features_upsampled, target_upsampled = upsample(features_train, target_train, 10)\n",
    "\n",
    "model = LogisticRegression(random_state=12345)\n",
    "model.fit(features_upsampled, target_upsampled)\n",
    "predicted_valid = model.predict(features_valid)\n",
    "\n",
    "print(\"F1:\", f1_score(target_valid, predicted_valid))"
   ]
  },
  {
   "cell_type": "code",
   "execution_count": 50,
   "metadata": {},
   "outputs": [
    {
     "name": "stdout",
     "output_type": "stream",
     "text": [
      "(16764, 10)\n",
      "(2000, 10)\n",
      "(2000, 10)\n"
     ]
    }
   ],
   "source": [
    "# проверим размеры воборки\n",
    "print(features_upsampled.shape)\n",
    "print(features_valid.shape)\n",
    "print(features_test.shape)"
   ]
  },
  {
   "cell_type": "markdown",
   "metadata": {},
   "source": [
    "#### Методом уменьшения выборки"
   ]
  },
  {
   "cell_type": "code",
   "execution_count": 51,
   "metadata": {},
   "outputs": [
    {
     "name": "stdout",
     "output_type": "stream",
     "text": [
      "F1: 0.42245692051139516\n"
     ]
    }
   ],
   "source": [
    "features_downsampled, target_downsampled = downsample(features_train, target_train, 0.1)\n",
    "\n",
    "model = LogisticRegression(random_state=12345)\n",
    "model.fit(features_downsampled, target_downsampled)\n",
    "predicted_valid = model.predict(features_valid)\n",
    "\n",
    "print(\"F1:\", f1_score(target_valid, predicted_valid))"
   ]
  },
  {
   "cell_type": "code",
   "execution_count": 52,
   "metadata": {},
   "outputs": [
    {
     "name": "stdout",
     "output_type": "stream",
     "text": [
      "(1676, 10)\n",
      "(2000, 10)\n",
      "(2000, 10)\n"
     ]
    }
   ],
   "source": [
    "# проверим размеры воборки\n",
    "print(features_downsampled.shape)\n",
    "print(features_valid.shape)\n",
    "print(features_test.shape)"
   ]
  },
  {
   "cell_type": "markdown",
   "metadata": {},
   "source": [
    "#### Методом изменения порога классификации"
   ]
  },
  {
   "cell_type": "code",
   "execution_count": 53,
   "metadata": {},
   "outputs": [
    {
     "name": "stdout",
     "output_type": "stream",
     "text": [
      "Порог = 0.00 | Точность = 0.209, Полнота = 1.000 f1 =  0.3457402812241522\n",
      "Порог = 0.05 | Точность = 0.232, Полнота = 0.978 f1 =  0.37454212454212454\n",
      "Порог = 0.10 | Точность = 0.273, Полнота = 0.895 f1 =  0.4188129899216126\n",
      "Порог = 0.15 | Точность = 0.323, Полнота = 0.797 f1 =  0.4593103448275863\n",
      "Порог = 0.20 | Точность = 0.379, Полнота = 0.699 f1 =  0.49116904962153074\n",
      "Порог = 0.25 | Точность = 0.414, Полнота = 0.608 f1 =  0.4922480620155039\n",
      "Порог = 0.30 | Точность = 0.452, Полнота = 0.522 f1 =  0.48444444444444446\n",
      "Порог = 0.35 | Точность = 0.489, Полнота = 0.431 f1 =  0.45801526717557256\n",
      "Порог = 0.40 | Точность = 0.522, Полнота = 0.342 f1 =  0.4132947976878612\n",
      "Порог = 0.45 | Точность = 0.542, Полнота = 0.263 f1 =  0.35426731078904994\n",
      "Порог = 0.50 | Точность = 0.574, Полнота = 0.203 f1 =  0.3003533568904594\n",
      "Порог = 0.55 | Точность = 0.624, Полнота = 0.163 f1 =  0.25806451612903225\n",
      "Порог = 0.60 | Точность = 0.612, Полнота = 0.098 f1 =  0.1690721649484536\n",
      "Порог = 0.65 | Точность = 0.660, Полнота = 0.074 f1 =  0.13333333333333333\n",
      "Порог = 0.70 | Точность = 0.655, Полнота = 0.045 f1 =  0.08501118568232663\n",
      "Порог = 0.75 | Точность = 0.632, Полнота = 0.029 f1 =  0.05491990846681921\n",
      "Порог = 0.80 | Точность = 0.444, Полнота = 0.010 f1 =  0.01873536299765808\n",
      "Порог = 0.85 | Точность = 0.500, Полнота = 0.005 f1 =  0.00947867298578199\n"
     ]
    }
   ],
   "source": [
    "model = LogisticRegression(random_state=12345)\n",
    "model.fit(features_train, target_train)\n",
    "probabilities_valid = model.predict_proba(features_valid)\n",
    "probabilities_one_valid = probabilities_valid[:, 1]\n",
    "\n",
    "for threshold in np.arange(0, 0.9, 0.05):\n",
    "    predicted_valid = probabilities_one_valid > threshold\n",
    "    precision = precision_score(target_valid, predicted_valid)\n",
    "    recall =  recall_score(target_valid, predicted_valid)\n",
    "    print(\"Порог = {:.2f} | Точность = {:.3f}, Полнота = {:.3f}\".format(threshold, precision, recall), 'f1 = ',f1_score(target_valid, predicted_valid) )"
   ]
  },
  {
   "cell_type": "code",
   "execution_count": 56,
   "metadata": {},
   "outputs": [
    {
     "name": "stdout",
     "output_type": "stream",
     "text": [
      "0.758126712598068\n"
     ]
    }
   ],
   "source": [
    "auc_roc = roc_auc_score(target_valid, probabilities_one_valid)\n",
    "\n",
    "print(auc_roc)"
   ]
  },
  {
   "cell_type": "markdown",
   "metadata": {},
   "source": [
    "**Вывод**\n",
    "\n",
    "Для модели \"Линейная регрессия\" наиболее высокий показатель F1 меры наблюдается после баллансировки путем взвешивания классов и он составляет 0,504. Однако, этот показатель ниже требуемого в задании (0,59) и ниже модели \"Дерево решений\""
   ]
  },
  {
   "cell_type": "markdown",
   "metadata": {},
   "source": [
    "### Сбалансируем модель классификации случайный лес"
   ]
  },
  {
   "cell_type": "markdown",
   "metadata": {},
   "source": [
    "#### Методом взвешивания классов"
   ]
  },
  {
   "cell_type": "code",
   "execution_count": 57,
   "metadata": {},
   "outputs": [
    {
     "name": "stdout",
     "output_type": "stream",
     "text": [
      "F1: 0.5527950310559007\n"
     ]
    }
   ],
   "source": [
    "model = RandomForestClassifier(random_state=12345, class_weight='balanced', n_estimators=38)\n",
    "model.fit(features_train, target_train)\n",
    "predicted_valid = model.predict(features_valid)\n",
    "print(\"F1:\", f1_score(target_valid, predicted_valid))"
   ]
  },
  {
   "cell_type": "markdown",
   "metadata": {},
   "source": [
    "#### Методом увеличения выборки"
   ]
  },
  {
   "cell_type": "code",
   "execution_count": 58,
   "metadata": {},
   "outputs": [
    {
     "name": "stdout",
     "output_type": "stream",
     "text": [
      "F1: 0.5869853917662683\n"
     ]
    }
   ],
   "source": [
    "features_upsampled, target_upsampled = upsample(features_train, target_train, 7)\n",
    "\n",
    "model = RandomForestClassifier(random_state=12345, n_estimators=38)\n",
    "model.fit(features_upsampled, target_upsampled)\n",
    "predicted_valid = model.predict(features_valid)\n",
    "\n",
    "print(\"F1:\", f1_score(target_valid, predicted_valid))"
   ]
  },
  {
   "cell_type": "code",
   "execution_count": 59,
   "metadata": {},
   "outputs": [
    {
     "name": "stdout",
     "output_type": "stream",
     "text": [
      "(13176, 10)\n",
      "(2000, 10)\n",
      "(2000, 10)\n"
     ]
    }
   ],
   "source": [
    "# проверим размеры воборки\n",
    "print(features_upsampled.shape)\n",
    "print(features_valid.shape)\n",
    "print(features_test.shape)"
   ]
  },
  {
   "cell_type": "markdown",
   "metadata": {},
   "source": [
    "#### Методом уменьшения выборки"
   ]
  },
  {
   "cell_type": "code",
   "execution_count": 60,
   "metadata": {},
   "outputs": [
    {
     "name": "stdout",
     "output_type": "stream",
     "text": [
      "F1: 0.5965621840242669\n"
     ]
    }
   ],
   "source": [
    "features_downsampled, target_downsampled = downsample(features_train, target_train, 0.3)\n",
    "\n",
    "model = RandomForestClassifier(random_state=12345, n_estimators=38)\n",
    "model.fit(features_downsampled, target_downsampled)\n",
    "predicted_valid = model.predict(features_valid)\n",
    "\n",
    "print(\"F1:\", f1_score(target_valid, predicted_valid))"
   ]
  },
  {
   "cell_type": "code",
   "execution_count": 61,
   "metadata": {},
   "outputs": [
    {
     "name": "stdout",
     "output_type": "stream",
     "text": [
      "(2637, 10)\n",
      "(2000, 10)\n",
      "(2000, 10)\n"
     ]
    }
   ],
   "source": [
    "# проверим размеры воборки\n",
    "print(features_downsampled.shape)\n",
    "print(features_valid.shape)\n",
    "print(features_test.shape)"
   ]
  },
  {
   "cell_type": "markdown",
   "metadata": {},
   "source": [
    "#### Методом изменения порога классификации"
   ]
  },
  {
   "cell_type": "code",
   "execution_count": 62,
   "metadata": {},
   "outputs": [
    {
     "name": "stdout",
     "output_type": "stream",
     "text": [
      "Порог = 0.00 | Точность = 0.237, Полнота = 0.967 f1 =  0.38113207547169814\n",
      "Порог = 0.05 | Точность = 0.264, Полнота = 0.940 f1 =  0.4125984251968504\n",
      "Порог = 0.10 | Точность = 0.322, Полнота = 0.873 f1 =  0.470360824742268\n",
      "Порог = 0.15 | Точность = 0.371, Полнота = 0.809 f1 =  0.5090361445783133\n",
      "Порог = 0.20 | Точность = 0.442, Полнота = 0.768 f1 =  0.5611888111888113\n",
      "Порог = 0.25 | Точность = 0.505, Полнота = 0.711 f1 =  0.5904572564612326\n",
      "Порог = 0.30 | Точность = 0.553, Полнота = 0.648 f1 =  0.5969162995594713\n",
      "Порог = 0.35 | Точность = 0.613, Полнота = 0.596 f1 =  0.6043689320388349\n",
      "Порог = 0.40 | Точность = 0.648, Полнота = 0.533 f1 =  0.5853018372703411\n",
      "Порог = 0.45 | Точность = 0.705, Полнота = 0.493 f1 =  0.580281690140845\n",
      "Порог = 0.50 | Точность = 0.765, Полнота = 0.459 f1 =  0.5739910313901345\n",
      "Порог = 0.55 | Точность = 0.783, Полнота = 0.431 f1 =  0.5555555555555556\n",
      "Порог = 0.60 | Точность = 0.821, Полнота = 0.395 f1 =  0.5331179321486268\n",
      "Порог = 0.65 | Точность = 0.847, Полнота = 0.356 f1 =  0.5016835016835016\n",
      "Порог = 0.70 | Точность = 0.857, Полнота = 0.301 f1 =  0.4460176991150443\n",
      "Порог = 0.75 | Точность = 0.888, Полнота = 0.266 f1 =  0.4088397790055249\n",
      "Порог = 0.80 | Точность = 0.908, Полнота = 0.213 f1 =  0.34496124031007747\n",
      "Порог = 0.85 | Точность = 0.939, Полнота = 0.148 f1 =  0.256198347107438\n"
     ]
    }
   ],
   "source": [
    "model = RandomForestClassifier(random_state=12345, n_estimators=38)\n",
    "model.fit(features_train, target_train)\n",
    "probabilities_valid = model.predict_proba(features_valid)\n",
    "probabilities_one_valid = probabilities_valid[:, 1]\n",
    "\n",
    "for threshold in np.arange(0, 0.9, 0.05):\n",
    "    predicted_valid = probabilities_one_valid > threshold\n",
    "    precision = precision_score(target_valid, predicted_valid)\n",
    "    recall =  recall_score(target_valid, predicted_valid)\n",
    "    print(\"Порог = {:.2f} | Точность = {:.3f}, Полнота = {:.3f}\".format(threshold, precision, recall), 'f1 = ',f1_score(target_valid, predicted_valid) )"
   ]
  },
  {
   "cell_type": "code",
   "execution_count": 64,
   "metadata": {},
   "outputs": [
    {
     "name": "stdout",
     "output_type": "stream",
     "text": [
      "0.8283386967015286\n"
     ]
    }
   ],
   "source": [
    "auc_roc = roc_auc_score(target_valid, probabilities_one_valid)\n",
    "\n",
    "print(auc_roc)"
   ]
  },
  {
   "cell_type": "markdown",
   "metadata": {},
   "source": [
    "**Вывод**\n",
    "\n",
    "Для модели \"Случайный лес\" наиболее высокий показатель F1 меры наблюдается после баллансировки путем уменьшения выборки и он составляет 0,596, что соответсвует требуемому в задании 0,59. \n",
    "    \n",
    "В связи с этим, для тестирования выберем модель \"Случайный лес\", сбалансированную методом уменьшения выборки"
   ]
  },
  {
   "cell_type": "markdown",
   "metadata": {},
   "source": [
    "## Тестирование модели"
   ]
  },
  {
   "cell_type": "code",
   "execution_count": 66,
   "metadata": {},
   "outputs": [
    {
     "name": "stdout",
     "output_type": "stream",
     "text": [
      "Accuracy классификационной модели \"Случайный лес\" на тестовой выборке: 0.7935\n"
     ]
    }
   ],
   "source": [
    "features_downsampled, target_downsampled = downsample(features_train, target_train, 0.3)\n",
    "\n",
    "model = RandomForestClassifier(random_state=12345, n_estimators=38)\n",
    "model.fit(features_downsampled, target_downsampled)\n",
    "\n",
    "predicted_test =  model.predict(features_test)\n",
    "\n",
    "accuracy_test = accuracy_score(predicted_test, target_test)\n",
    "\n",
    "print('Accuracy классификационной модели \"Случайный лес\" на тестовой выборке:', accuracy_test)"
   ]
  },
  {
   "cell_type": "markdown",
   "metadata": {},
   "source": [
    "Accuracy на тестовой выборке получилось меньше, чем на валидационной и меньше, чем на константной модели. Этой метрикой пользоваться не стоит."
   ]
  },
  {
   "cell_type": "code",
   "execution_count": 69,
   "metadata": {},
   "outputs": [
    {
     "name": "stdout",
     "output_type": "stream",
     "text": [
      "F1: 0.592255125284738\n"
     ]
    }
   ],
   "source": [
    "features_downsampled, target_downsampled = downsample(features_train, target_train, 0.4)\n",
    "\n",
    "model = RandomForestClassifier(random_state=12345, n_estimators=18)\n",
    "model.fit(features_downsampled, target_downsampled)\n",
    "predicted_test = model.predict(features_test)\n",
    "\n",
    "print(\"F1:\", f1_score(target_test, predicted_test))"
   ]
  },
  {
   "cell_type": "markdown",
   "metadata": {},
   "source": [
    "**Выыод:** На тестовой выборке модель случайного леса показала высокие результаты."
   ]
  },
  {
   "cell_type": "markdown",
   "metadata": {},
   "source": [
    "## Общий вывод:\n",
    "\n",
    "В работе с целью выделения наиболее точной модели я рассмотрела три модели: Классификации дерево решений, линейной регрессии и классификации случайный лес. С подбором наиболее подходящих параметров, которые выдают максимальную точность.\n",
    "    \n",
    "Ввиду дисбалланса моделей, метрика Accuracy не дает явного понимания качества модели. В связи с чем, я попыталась каждую модель сбаллансировать четыремя способами и определить метрику F1 для определения наиболее качественной модели.\n",
    "    \n",
    "Путем баллансировки различными методами я определила, что модель классификации случайный лес, сбаллансрованная путем уменьшения выборки дает наиболее точный результат, который соответсвует заданию.\n",
    "    \n",
    "Тестирование наиболее качественной и уже сбаллансированной модели показало метрику F1 немного меньше валидационной после баллансировки.\n",
    "    \n",
    "По моему мнению и опыту работы над предыдущими заданиями курса модель случайного леса чаще более качественная. Баллансировка этой модели в данном случае повышает ее качество. Баллансировка в сторону уменьшения выборки дает более точный результат ввиду сильного перевеса модели в сторону отрицательного класса (в 4 раза больше положительного)."
   ]
  }
 ],
 "metadata": {
  "ExecuteTimeLog": [
   {
    "duration": 78,
    "start_time": "2022-03-19T21:04:40.836Z"
   },
   {
    "duration": 544,
    "start_time": "2022-03-19T21:04:51.943Z"
   },
   {
    "duration": 5566,
    "start_time": "2022-03-19T21:04:52.659Z"
   },
   {
    "duration": 22,
    "start_time": "2022-03-19T21:07:57.164Z"
   },
   {
    "duration": 83,
    "start_time": "2022-03-19T21:09:09.730Z"
   },
   {
    "duration": 21,
    "start_time": "2022-03-19T21:11:08.372Z"
   },
   {
    "duration": 5,
    "start_time": "2022-03-19T21:14:03.966Z"
   },
   {
    "duration": 13,
    "start_time": "2022-03-19T21:18:07.860Z"
   },
   {
    "duration": 1124,
    "start_time": "2022-03-19T21:18:26.101Z"
   },
   {
    "duration": 65,
    "start_time": "2022-03-19T21:18:29.805Z"
   },
   {
    "duration": 33,
    "start_time": "2022-03-19T21:18:40.831Z"
   },
   {
    "duration": 13,
    "start_time": "2022-03-19T21:18:55.970Z"
   },
   {
    "duration": 12,
    "start_time": "2022-03-19T21:26:21.467Z"
   },
   {
    "duration": 17,
    "start_time": "2022-03-19T21:27:28.198Z"
   },
   {
    "duration": 20,
    "start_time": "2022-03-19T21:27:43.233Z"
   },
   {
    "duration": 4,
    "start_time": "2022-03-19T21:31:22.421Z"
   },
   {
    "duration": 31,
    "start_time": "2022-03-19T21:37:36.105Z"
   },
   {
    "duration": 50,
    "start_time": "2022-03-19T21:38:04.306Z"
   },
   {
    "duration": 52,
    "start_time": "2022-03-19T21:38:13.968Z"
   },
   {
    "duration": 83,
    "start_time": "2022-03-19T21:40:05.639Z"
   },
   {
    "duration": 66,
    "start_time": "2022-03-19T21:42:24.125Z"
   },
   {
    "duration": 40,
    "start_time": "2022-03-19T21:42:28.724Z"
   },
   {
    "duration": 20,
    "start_time": "2022-03-19T21:44:03.144Z"
   },
   {
    "duration": 6,
    "start_time": "2022-03-19T21:44:05.110Z"
   },
   {
    "duration": 66,
    "start_time": "2022-03-19T21:44:05.119Z"
   },
   {
    "duration": 18,
    "start_time": "2022-03-19T21:44:05.187Z"
   },
   {
    "duration": 6,
    "start_time": "2022-03-19T21:44:05.208Z"
   },
   {
    "duration": 38,
    "start_time": "2022-03-19T21:44:05.217Z"
   },
   {
    "duration": 0,
    "start_time": "2022-03-19T21:44:05.257Z"
   },
   {
    "duration": 0,
    "start_time": "2022-03-19T21:44:05.260Z"
   },
   {
    "duration": 14,
    "start_time": "2022-03-19T21:44:29.165Z"
   },
   {
    "duration": 17,
    "start_time": "2022-03-19T21:45:27.778Z"
   },
   {
    "duration": 15,
    "start_time": "2022-03-19T21:46:19.461Z"
   },
   {
    "duration": 13,
    "start_time": "2022-03-19T21:48:25.356Z"
   },
   {
    "duration": 17,
    "start_time": "2022-03-19T21:50:05.324Z"
   },
   {
    "duration": 82,
    "start_time": "2022-03-19T21:50:16.430Z"
   },
   {
    "duration": 28,
    "start_time": "2022-03-19T21:50:21.063Z"
   },
   {
    "duration": 22,
    "start_time": "2022-03-19T21:50:41.844Z"
   },
   {
    "duration": 72,
    "start_time": "2022-03-19T21:50:42.560Z"
   },
   {
    "duration": 24,
    "start_time": "2022-03-19T21:50:46.469Z"
   },
   {
    "duration": 21,
    "start_time": "2022-03-19T21:55:23.344Z"
   },
   {
    "duration": 20,
    "start_time": "2022-03-19T21:55:24.012Z"
   },
   {
    "duration": 52,
    "start_time": "2022-03-19T21:55:24.699Z"
   },
   {
    "duration": 6,
    "start_time": "2022-03-19T21:56:14.528Z"
   },
   {
    "duration": 15,
    "start_time": "2022-03-19T21:56:15.721Z"
   },
   {
    "duration": 79,
    "start_time": "2022-03-19T21:56:16.647Z"
   },
   {
    "duration": 54,
    "start_time": "2022-03-19T21:56:20.247Z"
   },
   {
    "duration": 7,
    "start_time": "2022-03-19T22:00:40.223Z"
   },
   {
    "duration": 4,
    "start_time": "2022-03-19T22:03:14.902Z"
   },
   {
    "duration": 10,
    "start_time": "2022-03-19T22:04:11.323Z"
   },
   {
    "duration": 5,
    "start_time": "2022-03-19T22:07:15.795Z"
   },
   {
    "duration": 10,
    "start_time": "2022-03-19T22:07:34.258Z"
   },
   {
    "duration": 5,
    "start_time": "2022-03-19T22:08:27.633Z"
   },
   {
    "duration": 8,
    "start_time": "2022-03-19T22:08:47.687Z"
   },
   {
    "duration": 4,
    "start_time": "2022-03-19T22:09:20.788Z"
   },
   {
    "duration": 7,
    "start_time": "2022-03-19T22:09:34.186Z"
   },
   {
    "duration": 13,
    "start_time": "2022-03-19T22:12:52.933Z"
   },
   {
    "duration": 49,
    "start_time": "2022-03-19T22:13:15.359Z"
   },
   {
    "duration": 5,
    "start_time": "2022-03-19T22:17:10.300Z"
   },
   {
    "duration": 31,
    "start_time": "2022-03-19T22:17:14.839Z"
   },
   {
    "duration": 99,
    "start_time": "2022-03-19T22:17:52.889Z"
   },
   {
    "duration": 41,
    "start_time": "2022-03-19T22:23:33.940Z"
   },
   {
    "duration": 55,
    "start_time": "2022-03-19T22:30:50.873Z"
   },
   {
    "duration": 59,
    "start_time": "2022-03-19T22:32:12.922Z"
   },
   {
    "duration": 58,
    "start_time": "2022-03-19T22:34:10.356Z"
   },
   {
    "duration": 59,
    "start_time": "2022-03-19T22:34:38.599Z"
   },
   {
    "duration": 5,
    "start_time": "2022-03-19T22:34:44.504Z"
   },
   {
    "duration": 63,
    "start_time": "2022-03-19T22:34:45.496Z"
   },
   {
    "duration": 135,
    "start_time": "2022-03-19T22:34:51.198Z"
   },
   {
    "duration": 244,
    "start_time": "2022-03-19T22:37:17.569Z"
   },
   {
    "duration": 153,
    "start_time": "2022-03-19T22:37:34.549Z"
   },
   {
    "duration": 307,
    "start_time": "2022-03-19T22:39:23.752Z"
   },
   {
    "duration": 151,
    "start_time": "2022-03-19T22:39:42.282Z"
   },
   {
    "duration": 64,
    "start_time": "2022-03-19T22:40:30.400Z"
   },
   {
    "duration": 173,
    "start_time": "2022-03-19T22:40:38.966Z"
   },
   {
    "duration": 10,
    "start_time": "2022-03-19T22:47:39.578Z"
   },
   {
    "duration": 5,
    "start_time": "2022-03-19T22:48:18.193Z"
   },
   {
    "duration": 7,
    "start_time": "2022-03-19T22:48:23.374Z"
   },
   {
    "duration": 48,
    "start_time": "2022-03-20T13:36:53.159Z"
   },
   {
    "duration": 1180,
    "start_time": "2022-03-20T13:37:13.554Z"
   },
   {
    "duration": 63,
    "start_time": "2022-03-20T13:37:19.522Z"
   },
   {
    "duration": 4,
    "start_time": "2022-03-20T13:37:25.115Z"
   },
   {
    "duration": 57,
    "start_time": "2022-03-20T13:37:25.121Z"
   },
   {
    "duration": 12,
    "start_time": "2022-03-20T13:37:25.180Z"
   },
   {
    "duration": 4,
    "start_time": "2022-03-20T13:37:25.194Z"
   },
   {
    "duration": 7,
    "start_time": "2022-03-20T13:37:25.200Z"
   },
   {
    "duration": 16,
    "start_time": "2022-03-20T13:37:25.208Z"
   },
   {
    "duration": 61,
    "start_time": "2022-03-20T13:37:25.240Z"
   },
   {
    "duration": 49,
    "start_time": "2022-03-20T13:37:25.302Z"
   },
   {
    "duration": 4,
    "start_time": "2022-03-20T13:37:25.354Z"
   },
   {
    "duration": 16,
    "start_time": "2022-03-20T13:37:25.360Z"
   },
   {
    "duration": 5,
    "start_time": "2022-03-20T13:37:25.378Z"
   },
   {
    "duration": 6,
    "start_time": "2022-03-20T13:37:25.385Z"
   },
   {
    "duration": 9,
    "start_time": "2022-03-20T13:37:25.392Z"
   },
   {
    "duration": 154,
    "start_time": "2022-03-20T13:37:25.402Z"
   },
   {
    "duration": 5,
    "start_time": "2022-03-20T13:37:44.725Z"
   },
   {
    "duration": 7,
    "start_time": "2022-03-20T13:38:21.478Z"
   },
   {
    "duration": 6,
    "start_time": "2022-03-20T13:38:53.138Z"
   },
   {
    "duration": 5,
    "start_time": "2022-03-20T13:39:06.514Z"
   },
   {
    "duration": 97,
    "start_time": "2022-03-20T13:40:16.351Z"
   },
   {
    "duration": 136,
    "start_time": "2022-03-20T13:40:54.002Z"
   },
   {
    "duration": 25,
    "start_time": "2022-03-20T13:41:18.818Z"
   },
   {
    "duration": 329,
    "start_time": "2022-03-20T13:41:43.572Z"
   },
   {
    "duration": 6,
    "start_time": "2022-03-20T13:42:13.781Z"
   },
   {
    "duration": 26,
    "start_time": "2022-03-20T13:55:45.859Z"
   },
   {
    "duration": 53,
    "start_time": "2022-03-20T20:08:33.395Z"
   },
   {
    "duration": 1388,
    "start_time": "2022-03-20T20:09:07.157Z"
   },
   {
    "duration": 6,
    "start_time": "2022-03-20T20:09:08.950Z"
   },
   {
    "duration": 73,
    "start_time": "2022-03-20T20:09:08.959Z"
   },
   {
    "duration": 17,
    "start_time": "2022-03-20T20:09:09.034Z"
   },
   {
    "duration": 4,
    "start_time": "2022-03-20T20:09:09.064Z"
   },
   {
    "duration": 7,
    "start_time": "2022-03-20T20:09:09.070Z"
   },
   {
    "duration": 13,
    "start_time": "2022-03-20T20:09:09.079Z"
   },
   {
    "duration": 75,
    "start_time": "2022-03-20T20:09:09.093Z"
   },
   {
    "duration": 39,
    "start_time": "2022-03-20T20:09:09.170Z"
   },
   {
    "duration": 6,
    "start_time": "2022-03-20T20:09:09.211Z"
   },
   {
    "duration": 8,
    "start_time": "2022-03-20T20:09:09.220Z"
   },
   {
    "duration": 40,
    "start_time": "2022-03-20T20:09:09.229Z"
   },
   {
    "duration": 11,
    "start_time": "2022-03-20T20:09:09.271Z"
   },
   {
    "duration": 11,
    "start_time": "2022-03-20T20:09:09.284Z"
   },
   {
    "duration": 171,
    "start_time": "2022-03-20T20:09:09.297Z"
   },
   {
    "duration": 101,
    "start_time": "2022-03-20T20:09:09.470Z"
   },
   {
    "duration": 99,
    "start_time": "2022-03-20T20:09:09.575Z"
   },
   {
    "duration": 8,
    "start_time": "2022-03-20T20:09:09.676Z"
   },
   {
    "duration": 7,
    "start_time": "2022-03-20T20:09:09.687Z"
   },
   {
    "duration": 941,
    "start_time": "2022-03-20T20:09:09.699Z"
   },
   {
    "duration": 55,
    "start_time": "2022-03-20T20:09:10.642Z"
   },
   {
    "duration": 98,
    "start_time": "2022-03-20T20:09:10.700Z"
   },
   {
    "duration": 33,
    "start_time": "2022-03-20T20:09:10.801Z"
   },
   {
    "duration": 160,
    "start_time": "2022-03-20T20:09:10.836Z"
   },
   {
    "duration": 8,
    "start_time": "2022-03-20T20:09:10.998Z"
   },
   {
    "duration": 261,
    "start_time": "2022-03-20T20:09:11.008Z"
   },
   {
    "duration": 404,
    "start_time": "2022-03-20T20:09:11.272Z"
   },
   {
    "duration": 299,
    "start_time": "2022-03-20T20:09:11.765Z"
   },
   {
    "duration": 457,
    "start_time": "2022-03-20T20:09:12.069Z"
   },
   {
    "duration": 7,
    "start_time": "2022-03-20T20:09:12.528Z"
   },
   {
    "duration": 6,
    "start_time": "2022-03-20T20:09:36.219Z"
   },
   {
    "duration": 12,
    "start_time": "2022-03-20T20:09:55.360Z"
   },
   {
    "duration": 6,
    "start_time": "2022-03-20T20:10:08.826Z"
   },
   {
    "duration": 6,
    "start_time": "2022-03-20T20:10:29.720Z"
   },
   {
    "duration": 928,
    "start_time": "2022-03-20T20:12:21.476Z"
   },
   {
    "duration": 1201,
    "start_time": "2022-03-20T20:12:55.880Z"
   },
   {
    "duration": 20,
    "start_time": "2022-03-20T20:13:25.366Z"
   },
   {
    "duration": 290,
    "start_time": "2022-03-20T20:13:41.589Z"
   },
   {
    "duration": 758,
    "start_time": "2022-03-20T20:14:04.561Z"
   },
   {
    "duration": 5,
    "start_time": "2022-03-20T20:14:33.215Z"
   },
   {
    "duration": 5,
    "start_time": "2022-03-20T20:16:41.003Z"
   },
   {
    "duration": 4,
    "start_time": "2022-03-20T20:24:14.520Z"
   },
   {
    "duration": 47,
    "start_time": "2022-03-20T20:24:14.526Z"
   },
   {
    "duration": 12,
    "start_time": "2022-03-20T20:24:14.575Z"
   },
   {
    "duration": 4,
    "start_time": "2022-03-20T20:24:14.589Z"
   },
   {
    "duration": 6,
    "start_time": "2022-03-20T20:24:14.594Z"
   },
   {
    "duration": 12,
    "start_time": "2022-03-20T20:24:14.602Z"
   },
   {
    "duration": 78,
    "start_time": "2022-03-20T20:24:14.615Z"
   },
   {
    "duration": 37,
    "start_time": "2022-03-20T20:24:14.695Z"
   },
   {
    "duration": 5,
    "start_time": "2022-03-20T20:24:14.736Z"
   },
   {
    "duration": 9,
    "start_time": "2022-03-20T20:24:14.763Z"
   },
   {
    "duration": 6,
    "start_time": "2022-03-20T20:24:14.774Z"
   },
   {
    "duration": 6,
    "start_time": "2022-03-20T20:24:14.782Z"
   },
   {
    "duration": 6,
    "start_time": "2022-03-20T20:24:14.790Z"
   },
   {
    "duration": 176,
    "start_time": "2022-03-20T20:24:14.797Z"
   },
   {
    "duration": 6,
    "start_time": "2022-03-20T20:24:15.064Z"
   },
   {
    "duration": 99,
    "start_time": "2022-03-20T20:24:15.072Z"
   },
   {
    "duration": 9,
    "start_time": "2022-03-20T20:24:15.173Z"
   },
   {
    "duration": 6,
    "start_time": "2022-03-20T20:24:15.184Z"
   },
   {
    "duration": 694,
    "start_time": "2022-03-20T20:24:15.192Z"
   },
   {
    "duration": 4,
    "start_time": "2022-03-20T20:32:26.313Z"
   },
   {
    "duration": 44,
    "start_time": "2022-03-20T20:32:26.319Z"
   },
   {
    "duration": 13,
    "start_time": "2022-03-20T20:32:26.365Z"
   },
   {
    "duration": 4,
    "start_time": "2022-03-20T20:32:26.380Z"
   },
   {
    "duration": 10,
    "start_time": "2022-03-20T20:32:26.386Z"
   },
   {
    "duration": 11,
    "start_time": "2022-03-20T20:32:26.397Z"
   },
   {
    "duration": 83,
    "start_time": "2022-03-20T20:32:26.409Z"
   },
   {
    "duration": 39,
    "start_time": "2022-03-20T20:32:26.494Z"
   },
   {
    "duration": 5,
    "start_time": "2022-03-20T20:32:26.536Z"
   },
   {
    "duration": 8,
    "start_time": "2022-03-20T20:32:26.563Z"
   },
   {
    "duration": 7,
    "start_time": "2022-03-20T20:32:26.572Z"
   },
   {
    "duration": 9,
    "start_time": "2022-03-20T20:32:26.581Z"
   },
   {
    "duration": 8,
    "start_time": "2022-03-20T20:32:26.592Z"
   },
   {
    "duration": 164,
    "start_time": "2022-03-20T20:32:26.602Z"
   },
   {
    "duration": 98,
    "start_time": "2022-03-20T20:32:26.768Z"
   },
   {
    "duration": 8,
    "start_time": "2022-03-20T20:32:26.868Z"
   },
   {
    "duration": 6,
    "start_time": "2022-03-20T20:32:26.877Z"
   },
   {
    "duration": 6,
    "start_time": "2022-03-20T20:32:26.885Z"
   },
   {
    "duration": 731,
    "start_time": "2022-03-20T20:32:26.892Z"
   },
   {
    "duration": 3,
    "start_time": "2022-03-20T20:32:27.625Z"
   },
   {
    "duration": 13,
    "start_time": "2022-03-20T20:32:27.630Z"
   },
   {
    "duration": 18,
    "start_time": "2022-03-20T20:32:27.645Z"
   },
   {
    "duration": 7,
    "start_time": "2022-03-20T20:32:27.666Z"
   },
   {
    "duration": 6,
    "start_time": "2022-03-20T20:32:27.677Z"
   },
   {
    "duration": 39,
    "start_time": "2022-03-20T20:32:27.685Z"
   },
   {
    "duration": 85,
    "start_time": "2022-03-20T20:32:27.726Z"
   },
   {
    "duration": 24,
    "start_time": "2022-03-20T20:32:27.814Z"
   },
   {
    "duration": 133,
    "start_time": "2022-03-20T20:32:27.840Z"
   },
   {
    "duration": 5,
    "start_time": "2022-03-20T20:32:27.975Z"
   },
   {
    "duration": 84,
    "start_time": "2022-03-20T20:32:27.981Z"
   },
   {
    "duration": 207,
    "start_time": "2022-03-20T20:32:28.067Z"
   },
   {
    "duration": 199,
    "start_time": "2022-03-20T20:32:28.365Z"
   },
   {
    "duration": 456,
    "start_time": "2022-03-20T20:32:28.566Z"
   },
   {
    "duration": 6,
    "start_time": "2022-03-20T20:32:29.023Z"
   },
   {
    "duration": 680,
    "start_time": "2022-03-20T20:32:29.030Z"
   },
   {
    "duration": 1342,
    "start_time": "2022-03-20T20:32:29.712Z"
   },
   {
    "duration": 285,
    "start_time": "2022-03-20T20:32:31.062Z"
   },
   {
    "duration": 751,
    "start_time": "2022-03-20T20:32:31.349Z"
   },
   {
    "duration": 7,
    "start_time": "2022-03-20T20:32:32.102Z"
   },
   {
    "duration": 5162,
    "start_time": "2022-03-20T20:33:44.701Z"
   },
   {
    "duration": 5815,
    "start_time": "2022-03-20T20:34:28.504Z"
   },
   {
    "duration": 109,
    "start_time": "2022-03-20T20:35:12.517Z"
   },
   {
    "duration": 159,
    "start_time": "2022-03-20T20:35:22.095Z"
   },
   {
    "duration": 108,
    "start_time": "2022-03-20T20:35:31.653Z"
   },
   {
    "duration": 672,
    "start_time": "2022-03-20T20:35:51.540Z"
   },
   {
    "duration": 4,
    "start_time": "2022-03-20T20:36:34.053Z"
   },
   {
    "duration": 5,
    "start_time": "2022-03-20T20:36:39.884Z"
   },
   {
    "duration": 8,
    "start_time": "2022-03-20T20:36:41.459Z"
   },
   {
    "duration": 113,
    "start_time": "2022-03-20T20:37:04.741Z"
   },
   {
    "duration": 5,
    "start_time": "2022-03-20T20:37:07.301Z"
   },
   {
    "duration": 8,
    "start_time": "2022-03-20T20:37:08.587Z"
   },
   {
    "duration": 7,
    "start_time": "2022-03-20T20:37:09.572Z"
   },
   {
    "duration": 5,
    "start_time": "2022-03-20T20:37:12.487Z"
   },
   {
    "duration": 124,
    "start_time": "2022-03-20T20:38:02.484Z"
   },
   {
    "duration": 202,
    "start_time": "2022-03-20T20:38:22.752Z"
   },
   {
    "duration": 61,
    "start_time": "2022-03-20T20:38:46.204Z"
   },
   {
    "duration": 185,
    "start_time": "2022-03-20T20:39:01.664Z"
   },
   {
    "duration": 4,
    "start_time": "2022-03-20T21:03:01.504Z"
   },
   {
    "duration": 56,
    "start_time": "2022-03-20T21:03:01.510Z"
   },
   {
    "duration": 13,
    "start_time": "2022-03-20T21:03:01.568Z"
   },
   {
    "duration": 4,
    "start_time": "2022-03-20T21:03:01.588Z"
   },
   {
    "duration": 16,
    "start_time": "2022-03-20T21:03:01.594Z"
   },
   {
    "duration": 33,
    "start_time": "2022-03-20T21:03:01.612Z"
   },
   {
    "duration": 65,
    "start_time": "2022-03-20T21:03:01.646Z"
   },
   {
    "duration": 36,
    "start_time": "2022-03-20T21:03:01.713Z"
   },
   {
    "duration": 5,
    "start_time": "2022-03-20T21:03:01.763Z"
   },
   {
    "duration": 21,
    "start_time": "2022-03-20T21:03:01.771Z"
   },
   {
    "duration": 6,
    "start_time": "2022-03-20T21:03:01.793Z"
   },
   {
    "duration": 5,
    "start_time": "2022-03-20T21:03:01.801Z"
   },
   {
    "duration": 8,
    "start_time": "2022-03-20T21:03:01.808Z"
   },
   {
    "duration": 156,
    "start_time": "2022-03-20T21:03:01.818Z"
   },
   {
    "duration": 5,
    "start_time": "2022-03-20T21:03:02.062Z"
   },
   {
    "duration": 12,
    "start_time": "2022-03-20T21:03:02.069Z"
   },
   {
    "duration": 15,
    "start_time": "2022-03-20T21:03:02.083Z"
   },
   {
    "duration": 21,
    "start_time": "2022-03-20T21:03:02.100Z"
   },
   {
    "duration": 700,
    "start_time": "2022-03-20T21:03:02.123Z"
   },
   {
    "duration": 5452,
    "start_time": "2022-03-20T21:03:02.825Z"
   },
   {
    "duration": 3,
    "start_time": "2022-03-20T21:03:08.279Z"
   },
   {
    "duration": 180,
    "start_time": "2022-03-20T21:03:08.284Z"
   },
   {
    "duration": 5,
    "start_time": "2022-03-20T21:03:08.466Z"
   },
   {
    "duration": 9,
    "start_time": "2022-03-20T21:03:08.473Z"
   },
   {
    "duration": 6,
    "start_time": "2022-03-20T21:03:08.484Z"
   },
   {
    "duration": 6,
    "start_time": "2022-03-20T21:03:08.492Z"
   },
   {
    "duration": 72,
    "start_time": "2022-03-20T21:03:08.500Z"
   },
   {
    "duration": 61,
    "start_time": "2022-03-20T21:03:08.576Z"
   },
   {
    "duration": 42,
    "start_time": "2022-03-20T21:03:08.640Z"
   },
   {
    "duration": 124,
    "start_time": "2022-03-20T21:03:08.684Z"
   },
   {
    "duration": 6,
    "start_time": "2022-03-20T21:03:08.810Z"
   },
   {
    "duration": 355,
    "start_time": "2022-03-20T21:03:08.818Z"
   },
   {
    "duration": 488,
    "start_time": "2022-03-20T21:03:09.175Z"
   },
   {
    "duration": 203,
    "start_time": "2022-03-20T21:03:09.665Z"
   },
   {
    "duration": 350,
    "start_time": "2022-03-20T21:03:09.871Z"
   },
   {
    "duration": 8,
    "start_time": "2022-03-20T21:03:10.224Z"
   },
   {
    "duration": 189,
    "start_time": "2022-03-20T21:03:10.235Z"
   },
   {
    "duration": 325,
    "start_time": "2022-03-20T21:03:10.427Z"
   },
   {
    "duration": 94,
    "start_time": "2022-03-20T21:03:10.754Z"
   },
   {
    "duration": 204,
    "start_time": "2022-03-20T21:03:10.850Z"
   },
   {
    "duration": 7,
    "start_time": "2022-03-20T21:03:11.062Z"
   },
   {
    "duration": 4,
    "start_time": "2022-03-20T21:05:10.439Z"
   },
   {
    "duration": 46,
    "start_time": "2022-03-20T21:05:10.445Z"
   },
   {
    "duration": 12,
    "start_time": "2022-03-20T21:05:10.492Z"
   },
   {
    "duration": 4,
    "start_time": "2022-03-20T21:05:10.506Z"
   },
   {
    "duration": 7,
    "start_time": "2022-03-20T21:05:10.511Z"
   },
   {
    "duration": 9,
    "start_time": "2022-03-20T21:05:10.520Z"
   },
   {
    "duration": 76,
    "start_time": "2022-03-20T21:05:10.531Z"
   },
   {
    "duration": 27,
    "start_time": "2022-03-20T21:05:10.609Z"
   },
   {
    "duration": 26,
    "start_time": "2022-03-20T21:05:10.638Z"
   },
   {
    "duration": 8,
    "start_time": "2022-03-20T21:05:10.666Z"
   },
   {
    "duration": 6,
    "start_time": "2022-03-20T21:05:10.675Z"
   },
   {
    "duration": 10,
    "start_time": "2022-03-20T21:05:10.682Z"
   },
   {
    "duration": 8,
    "start_time": "2022-03-20T21:05:10.694Z"
   },
   {
    "duration": 160,
    "start_time": "2022-03-20T21:05:10.704Z"
   },
   {
    "duration": 102,
    "start_time": "2022-03-20T21:05:10.867Z"
   },
   {
    "duration": 10,
    "start_time": "2022-03-20T21:05:10.971Z"
   },
   {
    "duration": 10,
    "start_time": "2022-03-20T21:05:10.983Z"
   },
   {
    "duration": 10,
    "start_time": "2022-03-20T21:05:10.995Z"
   },
   {
    "duration": 528,
    "start_time": "2022-03-20T21:05:11.007Z"
   },
   {
    "duration": 4063,
    "start_time": "2022-03-20T21:05:11.536Z"
   },
   {
    "duration": 3,
    "start_time": "2022-03-20T21:05:15.601Z"
   },
   {
    "duration": 136,
    "start_time": "2022-03-20T21:05:15.606Z"
   },
   {
    "duration": 5,
    "start_time": "2022-03-20T21:05:15.744Z"
   },
   {
    "duration": 11,
    "start_time": "2022-03-20T21:05:15.763Z"
   },
   {
    "duration": 7,
    "start_time": "2022-03-20T21:05:15.776Z"
   },
   {
    "duration": 8,
    "start_time": "2022-03-20T21:05:15.784Z"
   },
   {
    "duration": 35,
    "start_time": "2022-03-20T21:05:15.794Z"
   },
   {
    "duration": 66,
    "start_time": "2022-03-20T21:05:15.863Z"
   },
   {
    "duration": 43,
    "start_time": "2022-03-20T21:05:15.931Z"
   },
   {
    "duration": 190,
    "start_time": "2022-03-20T21:05:15.976Z"
   },
   {
    "duration": 6,
    "start_time": "2022-03-20T21:05:16.168Z"
   },
   {
    "duration": 187,
    "start_time": "2022-03-20T21:05:16.176Z"
   },
   {
    "duration": 204,
    "start_time": "2022-03-20T21:05:16.367Z"
   },
   {
    "duration": 291,
    "start_time": "2022-03-20T21:05:16.573Z"
   },
   {
    "duration": 442,
    "start_time": "2022-03-20T21:05:16.872Z"
   },
   {
    "duration": 6,
    "start_time": "2022-03-20T21:05:17.316Z"
   },
   {
    "duration": 111,
    "start_time": "2022-03-20T21:05:17.324Z"
   },
   {
    "duration": 167,
    "start_time": "2022-03-20T21:05:17.436Z"
   },
   {
    "duration": 71,
    "start_time": "2022-03-20T21:05:17.604Z"
   },
   {
    "duration": 187,
    "start_time": "2022-03-20T21:05:17.676Z"
   },
   {
    "duration": 7,
    "start_time": "2022-03-20T21:05:17.864Z"
   },
   {
    "duration": 4,
    "start_time": "2022-03-20T21:07:24.826Z"
   },
   {
    "duration": 41,
    "start_time": "2022-03-20T21:07:24.832Z"
   },
   {
    "duration": 13,
    "start_time": "2022-03-20T21:07:24.874Z"
   },
   {
    "duration": 4,
    "start_time": "2022-03-20T21:07:24.888Z"
   },
   {
    "duration": 4,
    "start_time": "2022-03-20T21:07:24.894Z"
   },
   {
    "duration": 10,
    "start_time": "2022-03-20T21:07:24.900Z"
   },
   {
    "duration": 76,
    "start_time": "2022-03-20T21:07:24.912Z"
   },
   {
    "duration": 44,
    "start_time": "2022-03-20T21:07:24.990Z"
   },
   {
    "duration": 5,
    "start_time": "2022-03-20T21:07:25.036Z"
   },
   {
    "duration": 25,
    "start_time": "2022-03-20T21:07:25.042Z"
   },
   {
    "duration": 6,
    "start_time": "2022-03-20T21:07:25.069Z"
   },
   {
    "duration": 13,
    "start_time": "2022-03-20T21:07:25.076Z"
   },
   {
    "duration": 6,
    "start_time": "2022-03-20T21:07:25.090Z"
   },
   {
    "duration": 167,
    "start_time": "2022-03-20T21:07:25.099Z"
   },
   {
    "duration": 106,
    "start_time": "2022-03-20T21:07:25.268Z"
   },
   {
    "duration": 86,
    "start_time": "2022-03-20T21:07:25.377Z"
   },
   {
    "duration": 6,
    "start_time": "2022-03-20T21:07:25.465Z"
   },
   {
    "duration": 6,
    "start_time": "2022-03-20T21:07:25.473Z"
   },
   {
    "duration": 839,
    "start_time": "2022-03-20T21:07:25.481Z"
   },
   {
    "duration": 6380,
    "start_time": "2022-03-20T21:07:26.322Z"
   },
   {
    "duration": 2,
    "start_time": "2022-03-20T21:07:32.704Z"
   },
   {
    "duration": 151,
    "start_time": "2022-03-20T21:07:32.708Z"
   },
   {
    "duration": 5,
    "start_time": "2022-03-20T21:07:32.862Z"
   },
   {
    "duration": 7,
    "start_time": "2022-03-20T21:07:32.869Z"
   },
   {
    "duration": 6,
    "start_time": "2022-03-20T21:07:32.878Z"
   },
   {
    "duration": 6,
    "start_time": "2022-03-20T21:07:32.886Z"
   },
   {
    "duration": 75,
    "start_time": "2022-03-20T21:07:32.893Z"
   },
   {
    "duration": 76,
    "start_time": "2022-03-20T21:07:32.970Z"
   },
   {
    "duration": 26,
    "start_time": "2022-03-20T21:07:33.062Z"
   },
   {
    "duration": 114,
    "start_time": "2022-03-20T21:07:33.090Z"
   },
   {
    "duration": 5,
    "start_time": "2022-03-20T21:07:33.206Z"
   },
   {
    "duration": 155,
    "start_time": "2022-03-20T21:07:33.213Z"
   },
   {
    "duration": 393,
    "start_time": "2022-03-20T21:07:33.371Z"
   },
   {
    "duration": 202,
    "start_time": "2022-03-20T21:07:33.766Z"
   },
   {
    "duration": 437,
    "start_time": "2022-03-20T21:07:33.972Z"
   },
   {
    "duration": 6,
    "start_time": "2022-03-20T21:07:34.411Z"
   },
   {
    "duration": 164,
    "start_time": "2022-03-20T21:07:34.419Z"
   },
   {
    "duration": 282,
    "start_time": "2022-03-20T21:07:34.585Z"
   },
   {
    "duration": 63,
    "start_time": "2022-03-20T21:07:34.869Z"
   },
   {
    "duration": 221,
    "start_time": "2022-03-20T21:07:34.934Z"
   },
   {
    "duration": 5,
    "start_time": "2022-03-20T21:07:35.165Z"
   },
   {
    "duration": 226,
    "start_time": "2022-03-20T21:15:08.761Z"
   },
   {
    "duration": 5,
    "start_time": "2022-03-20T21:15:10.978Z"
   },
   {
    "duration": 6,
    "start_time": "2022-03-20T21:15:12.129Z"
   },
   {
    "duration": 6,
    "start_time": "2022-03-20T21:15:13.661Z"
   },
   {
    "duration": 5,
    "start_time": "2022-03-20T21:15:16.906Z"
   },
   {
    "duration": 41,
    "start_time": "2022-03-20T21:15:22.219Z"
   },
   {
    "duration": 83,
    "start_time": "2022-03-20T21:15:23.410Z"
   },
   {
    "duration": 222,
    "start_time": "2022-03-20T21:15:36.841Z"
   },
   {
    "duration": 280,
    "start_time": "2022-03-20T21:15:46.458Z"
   },
   {
    "duration": 61,
    "start_time": "2022-03-20T21:15:50.682Z"
   },
   {
    "duration": 183,
    "start_time": "2022-03-20T21:15:53.481Z"
   },
   {
    "duration": 5,
    "start_time": "2022-03-20T21:15:57.179Z"
   },
   {
    "duration": 4,
    "start_time": "2022-03-20T21:16:30.398Z"
   },
   {
    "duration": 61,
    "start_time": "2022-03-20T21:16:30.405Z"
   },
   {
    "duration": 13,
    "start_time": "2022-03-20T21:16:30.468Z"
   },
   {
    "duration": 11,
    "start_time": "2022-03-20T21:16:30.483Z"
   },
   {
    "duration": 14,
    "start_time": "2022-03-20T21:16:30.496Z"
   },
   {
    "duration": 23,
    "start_time": "2022-03-20T21:16:30.511Z"
   },
   {
    "duration": 59,
    "start_time": "2022-03-20T21:16:30.536Z"
   },
   {
    "duration": 45,
    "start_time": "2022-03-20T21:16:30.597Z"
   },
   {
    "duration": 20,
    "start_time": "2022-03-20T21:16:30.643Z"
   },
   {
    "duration": 5,
    "start_time": "2022-03-20T21:16:30.665Z"
   },
   {
    "duration": 5,
    "start_time": "2022-03-20T21:16:30.672Z"
   },
   {
    "duration": 18,
    "start_time": "2022-03-20T21:16:30.679Z"
   },
   {
    "duration": 15,
    "start_time": "2022-03-20T21:16:30.698Z"
   },
   {
    "duration": 152,
    "start_time": "2022-03-20T21:16:30.714Z"
   },
   {
    "duration": 98,
    "start_time": "2022-03-20T21:16:30.868Z"
   },
   {
    "duration": 13,
    "start_time": "2022-03-20T21:16:30.968Z"
   },
   {
    "duration": 5,
    "start_time": "2022-03-20T21:16:31.064Z"
   },
   {
    "duration": 23,
    "start_time": "2022-03-20T21:16:31.071Z"
   },
   {
    "duration": 895,
    "start_time": "2022-03-20T21:16:31.096Z"
   },
   {
    "duration": 7019,
    "start_time": "2022-03-20T21:16:31.993Z"
   },
   {
    "duration": 3,
    "start_time": "2022-03-20T21:16:39.014Z"
   },
   {
    "duration": 272,
    "start_time": "2022-03-20T21:16:39.019Z"
   },
   {
    "duration": 5,
    "start_time": "2022-03-20T21:16:39.293Z"
   },
   {
    "duration": 8,
    "start_time": "2022-03-20T21:16:39.300Z"
   },
   {
    "duration": 8,
    "start_time": "2022-03-20T21:16:39.309Z"
   },
   {
    "duration": 6,
    "start_time": "2022-03-20T21:16:39.319Z"
   },
   {
    "duration": 76,
    "start_time": "2022-03-20T21:16:39.327Z"
   },
   {
    "duration": 96,
    "start_time": "2022-03-20T21:16:39.405Z"
   },
   {
    "duration": 25,
    "start_time": "2022-03-20T21:16:39.504Z"
   },
   {
    "duration": 108,
    "start_time": "2022-03-20T21:16:39.531Z"
   },
   {
    "duration": 5,
    "start_time": "2022-03-20T21:16:39.641Z"
   },
   {
    "duration": 219,
    "start_time": "2022-03-20T21:16:39.647Z"
   },
   {
    "duration": 300,
    "start_time": "2022-03-20T21:16:39.869Z"
   },
   {
    "duration": 297,
    "start_time": "2022-03-20T21:16:40.171Z"
   },
   {
    "duration": 531,
    "start_time": "2022-03-20T21:16:40.470Z"
   },
   {
    "duration": 6,
    "start_time": "2022-03-20T21:16:41.003Z"
   },
   {
    "duration": 275,
    "start_time": "2022-03-20T21:16:41.011Z"
   },
   {
    "duration": 293,
    "start_time": "2022-03-20T21:16:41.288Z"
   },
   {
    "duration": 63,
    "start_time": "2022-03-20T21:16:41.583Z"
   },
   {
    "duration": 215,
    "start_time": "2022-03-20T21:16:41.648Z"
   },
   {
    "duration": 6,
    "start_time": "2022-03-20T21:16:41.864Z"
   },
   {
    "duration": 338,
    "start_time": "2022-03-20T21:17:00.596Z"
   },
   {
    "duration": 6,
    "start_time": "2022-03-20T21:17:05.816Z"
   },
   {
    "duration": 7,
    "start_time": "2022-03-20T21:17:06.595Z"
   },
   {
    "duration": 6,
    "start_time": "2022-03-20T21:17:07.439Z"
   },
   {
    "duration": 6,
    "start_time": "2022-03-20T21:17:08.816Z"
   },
   {
    "duration": 354,
    "start_time": "2022-03-20T21:17:20.919Z"
   },
   {
    "duration": 293,
    "start_time": "2022-03-20T21:17:22.804Z"
   },
   {
    "duration": 68,
    "start_time": "2022-03-20T21:17:24.400Z"
   },
   {
    "duration": 198,
    "start_time": "2022-03-20T21:17:25.933Z"
   },
   {
    "duration": 6,
    "start_time": "2022-03-20T21:17:38.680Z"
   },
   {
    "duration": 4,
    "start_time": "2022-03-20T21:18:10.369Z"
   },
   {
    "duration": 45,
    "start_time": "2022-03-20T21:18:10.375Z"
   },
   {
    "duration": 13,
    "start_time": "2022-03-20T21:18:10.422Z"
   },
   {
    "duration": 4,
    "start_time": "2022-03-20T21:18:10.437Z"
   },
   {
    "duration": 5,
    "start_time": "2022-03-20T21:18:10.462Z"
   },
   {
    "duration": 14,
    "start_time": "2022-03-20T21:18:10.468Z"
   },
   {
    "duration": 47,
    "start_time": "2022-03-20T21:18:10.484Z"
   },
   {
    "duration": 79,
    "start_time": "2022-03-20T21:18:10.533Z"
   },
   {
    "duration": 5,
    "start_time": "2022-03-20T21:18:10.613Z"
   },
   {
    "duration": 6,
    "start_time": "2022-03-20T21:18:10.619Z"
   },
   {
    "duration": 5,
    "start_time": "2022-03-20T21:18:10.626Z"
   },
   {
    "duration": 31,
    "start_time": "2022-03-20T21:18:10.632Z"
   },
   {
    "duration": 5,
    "start_time": "2022-03-20T21:18:10.665Z"
   },
   {
    "duration": 96,
    "start_time": "2022-03-20T21:18:10.673Z"
   },
   {
    "duration": 94,
    "start_time": "2022-03-20T21:18:10.771Z"
   },
   {
    "duration": 6,
    "start_time": "2022-03-20T21:18:10.867Z"
   },
   {
    "duration": 7,
    "start_time": "2022-03-20T21:18:10.874Z"
   },
   {
    "duration": 9,
    "start_time": "2022-03-20T21:18:10.882Z"
   },
   {
    "duration": 972,
    "start_time": "2022-03-20T21:18:10.893Z"
   },
   {
    "duration": 7311,
    "start_time": "2022-03-20T21:18:11.867Z"
   },
   {
    "duration": 3,
    "start_time": "2022-03-20T21:18:19.180Z"
   },
   {
    "duration": 366,
    "start_time": "2022-03-20T21:18:19.185Z"
   },
   {
    "duration": 13,
    "start_time": "2022-03-20T21:18:19.553Z"
   },
   {
    "duration": 8,
    "start_time": "2022-03-20T21:18:19.567Z"
   },
   {
    "duration": 9,
    "start_time": "2022-03-20T21:18:19.576Z"
   },
   {
    "duration": 7,
    "start_time": "2022-03-20T21:18:19.587Z"
   },
   {
    "duration": 69,
    "start_time": "2022-03-20T21:18:19.596Z"
   },
   {
    "duration": 96,
    "start_time": "2022-03-20T21:18:19.667Z"
   },
   {
    "duration": 26,
    "start_time": "2022-03-20T21:18:19.765Z"
   },
   {
    "duration": 107,
    "start_time": "2022-03-20T21:18:19.792Z"
   },
   {
    "duration": 5,
    "start_time": "2022-03-20T21:18:19.901Z"
   },
   {
    "duration": 158,
    "start_time": "2022-03-20T21:18:19.907Z"
   },
   {
    "duration": 304,
    "start_time": "2022-03-20T21:18:20.067Z"
   },
   {
    "duration": 191,
    "start_time": "2022-03-20T21:18:20.373Z"
   },
   {
    "duration": 331,
    "start_time": "2022-03-20T21:18:20.567Z"
   },
   {
    "duration": 5,
    "start_time": "2022-03-20T21:18:20.900Z"
   },
   {
    "duration": 386,
    "start_time": "2022-03-20T21:18:20.907Z"
   },
   {
    "duration": 329,
    "start_time": "2022-03-20T21:18:21.294Z"
   },
   {
    "duration": 79,
    "start_time": "2022-03-20T21:18:21.625Z"
   },
   {
    "duration": 213,
    "start_time": "2022-03-20T21:18:21.706Z"
   },
   {
    "duration": 5,
    "start_time": "2022-03-20T21:18:21.923Z"
   },
   {
    "duration": 169,
    "start_time": "2022-03-20T21:19:26.102Z"
   },
   {
    "duration": 6,
    "start_time": "2022-03-20T21:19:27.433Z"
   },
   {
    "duration": 7,
    "start_time": "2022-03-20T21:19:28.201Z"
   },
   {
    "duration": 6,
    "start_time": "2022-03-20T21:19:28.971Z"
   },
   {
    "duration": 6,
    "start_time": "2022-03-20T21:19:30.141Z"
   },
   {
    "duration": 176,
    "start_time": "2022-03-20T21:19:50.015Z"
   },
   {
    "duration": 319,
    "start_time": "2022-03-20T21:19:51.547Z"
   },
   {
    "duration": 70,
    "start_time": "2022-03-20T21:19:54.629Z"
   },
   {
    "duration": 197,
    "start_time": "2022-03-20T21:19:59.473Z"
   },
   {
    "duration": 4,
    "start_time": "2022-03-20T21:20:24.158Z"
   },
   {
    "duration": 43,
    "start_time": "2022-03-20T21:20:24.165Z"
   },
   {
    "duration": 13,
    "start_time": "2022-03-20T21:20:24.210Z"
   },
   {
    "duration": 4,
    "start_time": "2022-03-20T21:20:24.225Z"
   },
   {
    "duration": 34,
    "start_time": "2022-03-20T21:20:24.231Z"
   },
   {
    "duration": 11,
    "start_time": "2022-03-20T21:20:24.267Z"
   },
   {
    "duration": 54,
    "start_time": "2022-03-20T21:20:24.279Z"
   },
   {
    "duration": 65,
    "start_time": "2022-03-20T21:20:24.335Z"
   },
   {
    "duration": 5,
    "start_time": "2022-03-20T21:20:24.403Z"
   },
   {
    "duration": 8,
    "start_time": "2022-03-20T21:20:24.409Z"
   },
   {
    "duration": 6,
    "start_time": "2022-03-20T21:20:24.418Z"
   },
   {
    "duration": 8,
    "start_time": "2022-03-20T21:20:24.426Z"
   },
   {
    "duration": 5,
    "start_time": "2022-03-20T21:20:24.436Z"
   },
   {
    "duration": 127,
    "start_time": "2022-03-20T21:20:24.442Z"
   },
   {
    "duration": 95,
    "start_time": "2022-03-20T21:20:24.572Z"
   },
   {
    "duration": 10,
    "start_time": "2022-03-20T21:20:24.669Z"
   },
   {
    "duration": 8,
    "start_time": "2022-03-20T21:20:24.681Z"
   },
   {
    "duration": 76,
    "start_time": "2022-03-20T21:20:24.691Z"
   },
   {
    "duration": 849,
    "start_time": "2022-03-20T21:20:24.770Z"
   },
   {
    "duration": 6929,
    "start_time": "2022-03-20T21:20:25.621Z"
   },
   {
    "duration": 3,
    "start_time": "2022-03-20T21:20:32.552Z"
   },
   {
    "duration": 176,
    "start_time": "2022-03-20T21:20:32.556Z"
   },
   {
    "duration": 5,
    "start_time": "2022-03-20T21:20:32.734Z"
   },
   {
    "duration": 21,
    "start_time": "2022-03-20T21:20:32.742Z"
   },
   {
    "duration": 5,
    "start_time": "2022-03-20T21:20:32.765Z"
   },
   {
    "duration": 6,
    "start_time": "2022-03-20T21:20:32.772Z"
   },
   {
    "duration": 43,
    "start_time": "2022-03-20T21:20:32.779Z"
   },
   {
    "duration": 101,
    "start_time": "2022-03-20T21:20:32.824Z"
   },
   {
    "duration": 25,
    "start_time": "2022-03-20T21:20:32.927Z"
   },
   {
    "duration": 105,
    "start_time": "2022-03-20T21:20:32.962Z"
   },
   {
    "duration": 6,
    "start_time": "2022-03-20T21:20:33.069Z"
   },
   {
    "duration": 97,
    "start_time": "2022-03-20T21:20:33.076Z"
   },
   {
    "duration": 304,
    "start_time": "2022-03-20T21:20:33.265Z"
   },
   {
    "duration": 291,
    "start_time": "2022-03-20T21:20:33.572Z"
   },
   {
    "duration": 339,
    "start_time": "2022-03-20T21:20:33.866Z"
   },
   {
    "duration": 5,
    "start_time": "2022-03-20T21:20:34.207Z"
   },
   {
    "duration": 194,
    "start_time": "2022-03-20T21:20:34.215Z"
   },
   {
    "duration": 299,
    "start_time": "2022-03-20T21:20:34.412Z"
   },
   {
    "duration": 74,
    "start_time": "2022-03-20T21:20:34.713Z"
   },
   {
    "duration": 205,
    "start_time": "2022-03-20T21:20:34.788Z"
   },
   {
    "duration": 5,
    "start_time": "2022-03-20T21:20:34.995Z"
   },
   {
    "duration": 301,
    "start_time": "2022-03-20T21:25:49.412Z"
   },
   {
    "duration": 5,
    "start_time": "2022-03-20T21:25:52.835Z"
   },
   {
    "duration": 6,
    "start_time": "2022-03-20T21:25:53.403Z"
   },
   {
    "duration": 5,
    "start_time": "2022-03-20T21:25:54.043Z"
   },
   {
    "duration": 5,
    "start_time": "2022-03-20T21:25:55.257Z"
   },
   {
    "duration": 299,
    "start_time": "2022-03-20T21:26:07.480Z"
   },
   {
    "duration": 284,
    "start_time": "2022-03-20T21:26:09.126Z"
   },
   {
    "duration": 64,
    "start_time": "2022-03-20T21:26:15.200Z"
   },
   {
    "duration": 4,
    "start_time": "2022-03-20T21:26:31.565Z"
   },
   {
    "duration": 47,
    "start_time": "2022-03-20T21:26:31.571Z"
   },
   {
    "duration": 13,
    "start_time": "2022-03-20T21:26:31.620Z"
   },
   {
    "duration": 29,
    "start_time": "2022-03-20T21:26:31.635Z"
   },
   {
    "duration": 12,
    "start_time": "2022-03-20T21:26:31.666Z"
   },
   {
    "duration": 13,
    "start_time": "2022-03-20T21:26:31.679Z"
   },
   {
    "duration": 47,
    "start_time": "2022-03-20T21:26:31.694Z"
   },
   {
    "duration": 65,
    "start_time": "2022-03-20T21:26:31.743Z"
   },
   {
    "duration": 4,
    "start_time": "2022-03-20T21:26:31.810Z"
   },
   {
    "duration": 21,
    "start_time": "2022-03-20T21:26:31.816Z"
   },
   {
    "duration": 15,
    "start_time": "2022-03-20T21:26:31.839Z"
   },
   {
    "duration": 17,
    "start_time": "2022-03-20T21:26:31.855Z"
   },
   {
    "duration": 9,
    "start_time": "2022-03-20T21:26:31.874Z"
   },
   {
    "duration": 88,
    "start_time": "2022-03-20T21:26:31.884Z"
   },
   {
    "duration": 100,
    "start_time": "2022-03-20T21:26:32.063Z"
   },
   {
    "duration": 6,
    "start_time": "2022-03-20T21:26:32.165Z"
   },
   {
    "duration": 6,
    "start_time": "2022-03-20T21:26:32.173Z"
   },
   {
    "duration": 5,
    "start_time": "2022-03-20T21:26:32.180Z"
   },
   {
    "duration": 969,
    "start_time": "2022-03-20T21:26:32.186Z"
   },
   {
    "duration": 7793,
    "start_time": "2022-03-20T21:26:33.157Z"
   },
   {
    "duration": 2,
    "start_time": "2022-03-20T21:26:40.952Z"
   },
   {
    "duration": 353,
    "start_time": "2022-03-20T21:26:40.962Z"
   },
   {
    "duration": 6,
    "start_time": "2022-03-20T21:26:41.317Z"
   },
   {
    "duration": 6,
    "start_time": "2022-03-20T21:26:41.325Z"
   },
   {
    "duration": 33,
    "start_time": "2022-03-20T21:26:41.333Z"
   },
   {
    "duration": 6,
    "start_time": "2022-03-20T21:26:41.368Z"
   },
   {
    "duration": 52,
    "start_time": "2022-03-20T21:26:41.376Z"
   },
   {
    "duration": 120,
    "start_time": "2022-03-20T21:26:41.429Z"
   },
   {
    "duration": 32,
    "start_time": "2022-03-20T21:26:41.554Z"
   },
   {
    "duration": 109,
    "start_time": "2022-03-20T21:26:41.588Z"
   },
   {
    "duration": 5,
    "start_time": "2022-03-20T21:26:41.698Z"
   },
   {
    "duration": 159,
    "start_time": "2022-03-20T21:26:41.705Z"
   },
   {
    "duration": 397,
    "start_time": "2022-03-20T21:26:41.866Z"
   },
   {
    "duration": 198,
    "start_time": "2022-03-20T21:26:42.266Z"
   },
   {
    "duration": 326,
    "start_time": "2022-03-20T21:26:42.468Z"
   },
   {
    "duration": 5,
    "start_time": "2022-03-20T21:26:42.795Z"
   },
   {
    "duration": 361,
    "start_time": "2022-03-20T21:26:42.802Z"
   },
   {
    "duration": 439,
    "start_time": "2022-03-20T21:26:43.165Z"
   },
   {
    "duration": 75,
    "start_time": "2022-03-20T21:26:43.606Z"
   },
   {
    "duration": 211,
    "start_time": "2022-03-20T21:26:43.683Z"
   },
   {
    "duration": 5,
    "start_time": "2022-03-20T21:26:43.896Z"
   },
   {
    "duration": 326,
    "start_time": "2022-03-20T21:27:33.175Z"
   },
   {
    "duration": 5,
    "start_time": "2022-03-20T21:27:37.664Z"
   },
   {
    "duration": 5,
    "start_time": "2022-03-20T21:27:38.793Z"
   },
   {
    "duration": 5,
    "start_time": "2022-03-20T21:27:39.179Z"
   },
   {
    "duration": 5,
    "start_time": "2022-03-20T21:27:39.664Z"
   },
   {
    "duration": 308,
    "start_time": "2022-03-20T21:27:58.014Z"
   },
   {
    "duration": 435,
    "start_time": "2022-03-20T21:27:59.413Z"
   },
   {
    "duration": 67,
    "start_time": "2022-03-20T21:28:00.842Z"
   },
   {
    "duration": 205,
    "start_time": "2022-03-20T21:28:02.496Z"
   },
   {
    "duration": 4,
    "start_time": "2022-03-20T21:28:27.519Z"
   },
   {
    "duration": 41,
    "start_time": "2022-03-20T21:28:27.525Z"
   },
   {
    "duration": 12,
    "start_time": "2022-03-20T21:28:27.568Z"
   },
   {
    "duration": 3,
    "start_time": "2022-03-20T21:28:27.582Z"
   },
   {
    "duration": 13,
    "start_time": "2022-03-20T21:28:27.587Z"
   },
   {
    "duration": 11,
    "start_time": "2022-03-20T21:28:27.602Z"
   },
   {
    "duration": 74,
    "start_time": "2022-03-20T21:28:27.614Z"
   },
   {
    "duration": 47,
    "start_time": "2022-03-20T21:28:27.690Z"
   },
   {
    "duration": 5,
    "start_time": "2022-03-20T21:28:27.740Z"
   },
   {
    "duration": 6,
    "start_time": "2022-03-20T21:28:27.763Z"
   },
   {
    "duration": 9,
    "start_time": "2022-03-20T21:28:27.770Z"
   },
   {
    "duration": 5,
    "start_time": "2022-03-20T21:28:27.780Z"
   },
   {
    "duration": 5,
    "start_time": "2022-03-20T21:28:27.787Z"
   },
   {
    "duration": 171,
    "start_time": "2022-03-20T21:28:27.794Z"
   },
   {
    "duration": 96,
    "start_time": "2022-03-20T21:28:27.967Z"
   },
   {
    "duration": 6,
    "start_time": "2022-03-20T21:28:28.065Z"
   },
   {
    "duration": 8,
    "start_time": "2022-03-20T21:28:28.073Z"
   },
   {
    "duration": 10,
    "start_time": "2022-03-20T21:28:28.083Z"
   },
   {
    "duration": 935,
    "start_time": "2022-03-20T21:28:28.095Z"
   },
   {
    "duration": 7177,
    "start_time": "2022-03-20T21:28:29.031Z"
   },
   {
    "duration": 3,
    "start_time": "2022-03-20T21:28:36.209Z"
   },
   {
    "duration": 321,
    "start_time": "2022-03-20T21:28:36.214Z"
   },
   {
    "duration": 5,
    "start_time": "2022-03-20T21:28:36.536Z"
   },
   {
    "duration": 18,
    "start_time": "2022-03-20T21:28:36.545Z"
   },
   {
    "duration": 6,
    "start_time": "2022-03-20T21:28:36.564Z"
   },
   {
    "duration": 9,
    "start_time": "2022-03-20T21:28:36.571Z"
   },
   {
    "duration": 50,
    "start_time": "2022-03-20T21:28:36.581Z"
   },
   {
    "duration": 103,
    "start_time": "2022-03-20T21:28:36.632Z"
   },
   {
    "duration": 33,
    "start_time": "2022-03-20T21:28:36.736Z"
   },
   {
    "duration": 95,
    "start_time": "2022-03-20T21:28:36.771Z"
   },
   {
    "duration": 5,
    "start_time": "2022-03-20T21:28:36.867Z"
   },
   {
    "duration": 98,
    "start_time": "2022-03-20T21:28:36.874Z"
   },
   {
    "duration": 303,
    "start_time": "2022-03-20T21:28:37.065Z"
   },
   {
    "duration": 191,
    "start_time": "2022-03-20T21:28:37.373Z"
   },
   {
    "duration": 327,
    "start_time": "2022-03-20T21:28:37.567Z"
   },
   {
    "duration": 6,
    "start_time": "2022-03-20T21:28:37.896Z"
   },
   {
    "duration": 332,
    "start_time": "2022-03-20T21:28:37.904Z"
   },
   {
    "duration": 337,
    "start_time": "2022-03-20T21:28:38.237Z"
   },
   {
    "duration": 70,
    "start_time": "2022-03-20T21:28:38.576Z"
   },
   {
    "duration": 227,
    "start_time": "2022-03-20T21:28:38.648Z"
   },
   {
    "duration": 6,
    "start_time": "2022-03-20T21:28:38.878Z"
   },
   {
    "duration": 168,
    "start_time": "2022-03-20T21:29:11.103Z"
   },
   {
    "duration": 6,
    "start_time": "2022-03-20T21:29:15.414Z"
   },
   {
    "duration": 6,
    "start_time": "2022-03-20T21:29:16.397Z"
   },
   {
    "duration": 6,
    "start_time": "2022-03-20T21:29:16.970Z"
   },
   {
    "duration": 5,
    "start_time": "2022-03-20T21:29:17.582Z"
   },
   {
    "duration": 166,
    "start_time": "2022-03-20T21:29:29.129Z"
   },
   {
    "duration": 315,
    "start_time": "2022-03-20T21:29:31.313Z"
   },
   {
    "duration": 65,
    "start_time": "2022-03-20T21:29:36.670Z"
   },
   {
    "duration": 4,
    "start_time": "2022-03-20T21:29:56.879Z"
   },
   {
    "duration": 44,
    "start_time": "2022-03-20T21:29:56.885Z"
   },
   {
    "duration": 12,
    "start_time": "2022-03-20T21:29:56.931Z"
   },
   {
    "duration": 5,
    "start_time": "2022-03-20T21:29:56.946Z"
   },
   {
    "duration": 4,
    "start_time": "2022-03-20T21:29:56.963Z"
   },
   {
    "duration": 12,
    "start_time": "2022-03-20T21:29:56.969Z"
   },
   {
    "duration": 45,
    "start_time": "2022-03-20T21:29:56.982Z"
   },
   {
    "duration": 45,
    "start_time": "2022-03-20T21:29:57.029Z"
   },
   {
    "duration": 5,
    "start_time": "2022-03-20T21:29:57.077Z"
   },
   {
    "duration": 10,
    "start_time": "2022-03-20T21:29:57.084Z"
   },
   {
    "duration": 8,
    "start_time": "2022-03-20T21:29:57.095Z"
   },
   {
    "duration": 10,
    "start_time": "2022-03-20T21:29:57.105Z"
   },
   {
    "duration": 7,
    "start_time": "2022-03-20T21:29:57.116Z"
   },
   {
    "duration": 15,
    "start_time": "2022-03-20T21:29:57.163Z"
   },
   {
    "duration": 93,
    "start_time": "2022-03-20T21:29:57.180Z"
   },
   {
    "duration": 11,
    "start_time": "2022-03-20T21:29:57.370Z"
   },
   {
    "duration": 13,
    "start_time": "2022-03-20T21:29:57.382Z"
   },
   {
    "duration": 9,
    "start_time": "2022-03-20T21:29:57.397Z"
   },
   {
    "duration": 291,
    "start_time": "2022-03-20T21:29:57.408Z"
   },
   {
    "duration": 2220,
    "start_time": "2022-03-20T21:29:57.701Z"
   },
   {
    "duration": 2,
    "start_time": "2022-03-20T21:29:59.922Z"
   },
   {
    "duration": 65,
    "start_time": "2022-03-20T21:29:59.926Z"
   },
   {
    "duration": 4,
    "start_time": "2022-03-20T21:29:59.993Z"
   },
   {
    "duration": 16,
    "start_time": "2022-03-20T21:30:00.000Z"
   },
   {
    "duration": 23,
    "start_time": "2022-03-20T21:30:00.018Z"
   },
   {
    "duration": 9,
    "start_time": "2022-03-20T21:30:00.043Z"
   },
   {
    "duration": 17,
    "start_time": "2022-03-20T21:30:00.063Z"
   },
   {
    "duration": 26,
    "start_time": "2022-03-20T21:30:00.081Z"
   },
   {
    "duration": 19,
    "start_time": "2022-03-20T21:30:00.109Z"
   },
   {
    "duration": 173,
    "start_time": "2022-03-20T21:30:00.129Z"
   },
   {
    "duration": 6,
    "start_time": "2022-03-20T21:30:00.304Z"
   },
   {
    "duration": 58,
    "start_time": "2022-03-20T21:30:00.311Z"
   },
   {
    "duration": 201,
    "start_time": "2022-03-20T21:30:00.371Z"
   },
   {
    "duration": 113,
    "start_time": "2022-03-20T21:30:00.665Z"
   },
   {
    "duration": 491,
    "start_time": "2022-03-20T21:30:00.780Z"
   },
   {
    "duration": 7,
    "start_time": "2022-03-20T21:30:01.274Z"
   },
   {
    "duration": 85,
    "start_time": "2022-03-20T21:30:01.283Z"
   },
   {
    "duration": 82,
    "start_time": "2022-03-20T21:30:01.370Z"
   },
   {
    "duration": 50,
    "start_time": "2022-03-20T21:30:01.463Z"
   },
   {
    "duration": 186,
    "start_time": "2022-03-20T21:30:01.515Z"
   },
   {
    "duration": 6,
    "start_time": "2022-03-20T21:30:01.703Z"
   },
   {
    "duration": 112,
    "start_time": "2022-03-20T21:38:44.941Z"
   },
   {
    "duration": 5,
    "start_time": "2022-03-20T21:38:46.955Z"
   },
   {
    "duration": 8,
    "start_time": "2022-03-20T21:38:47.577Z"
   },
   {
    "duration": 6,
    "start_time": "2022-03-20T21:38:48.393Z"
   },
   {
    "duration": 111,
    "start_time": "2022-03-20T21:39:02.546Z"
   },
   {
    "duration": 75,
    "start_time": "2022-03-20T21:39:04.160Z"
   },
   {
    "duration": 50,
    "start_time": "2022-03-20T21:39:14.142Z"
   },
   {
    "duration": 11,
    "start_time": "2022-03-20T21:39:42.823Z"
   },
   {
    "duration": 4,
    "start_time": "2022-03-20T21:39:44.762Z"
   },
   {
    "duration": 47,
    "start_time": "2022-03-20T21:39:44.768Z"
   },
   {
    "duration": 12,
    "start_time": "2022-03-20T21:39:44.816Z"
   },
   {
    "duration": 4,
    "start_time": "2022-03-20T21:39:44.830Z"
   },
   {
    "duration": 7,
    "start_time": "2022-03-20T21:39:44.835Z"
   },
   {
    "duration": 27,
    "start_time": "2022-03-20T21:39:44.844Z"
   },
   {
    "duration": 46,
    "start_time": "2022-03-20T21:39:44.873Z"
   },
   {
    "duration": 64,
    "start_time": "2022-03-20T21:39:44.920Z"
   },
   {
    "duration": 5,
    "start_time": "2022-03-20T21:39:44.986Z"
   },
   {
    "duration": 6,
    "start_time": "2022-03-20T21:39:44.993Z"
   },
   {
    "duration": 14,
    "start_time": "2022-03-20T21:39:45.001Z"
   },
   {
    "duration": 8,
    "start_time": "2022-03-20T21:39:45.016Z"
   },
   {
    "duration": 12,
    "start_time": "2022-03-20T21:39:45.025Z"
   },
   {
    "duration": 127,
    "start_time": "2022-03-20T21:39:45.039Z"
   },
   {
    "duration": 98,
    "start_time": "2022-03-20T21:39:45.168Z"
   },
   {
    "duration": 13,
    "start_time": "2022-03-20T21:39:45.268Z"
   },
   {
    "duration": 6,
    "start_time": "2022-03-20T21:39:45.363Z"
   },
   {
    "duration": 8,
    "start_time": "2022-03-20T21:39:45.370Z"
   },
   {
    "duration": 746,
    "start_time": "2022-03-20T21:39:45.380Z"
   },
   {
    "duration": 6005,
    "start_time": "2022-03-20T21:39:46.128Z"
   },
   {
    "duration": 2,
    "start_time": "2022-03-20T21:39:52.135Z"
   },
   {
    "duration": 302,
    "start_time": "2022-03-20T21:39:52.139Z"
   },
   {
    "duration": 4,
    "start_time": "2022-03-20T21:39:52.443Z"
   },
   {
    "duration": 6,
    "start_time": "2022-03-20T21:39:52.463Z"
   },
   {
    "duration": 10,
    "start_time": "2022-03-20T21:39:52.471Z"
   },
   {
    "duration": 9,
    "start_time": "2022-03-20T21:39:52.482Z"
   },
   {
    "duration": 43,
    "start_time": "2022-03-20T21:39:52.492Z"
   },
   {
    "duration": 85,
    "start_time": "2022-03-20T21:39:52.537Z"
   },
   {
    "duration": 22,
    "start_time": "2022-03-20T21:39:52.624Z"
   },
   {
    "duration": 119,
    "start_time": "2022-03-20T21:39:52.648Z"
   },
   {
    "duration": 6,
    "start_time": "2022-03-20T21:39:52.769Z"
   },
   {
    "duration": 190,
    "start_time": "2022-03-20T21:39:52.777Z"
   },
   {
    "duration": 297,
    "start_time": "2022-03-20T21:39:52.972Z"
   },
   {
    "duration": 293,
    "start_time": "2022-03-20T21:39:53.271Z"
   },
   {
    "duration": 346,
    "start_time": "2022-03-20T21:39:53.566Z"
   },
   {
    "duration": 5,
    "start_time": "2022-03-20T21:39:53.914Z"
   },
   {
    "duration": 317,
    "start_time": "2022-03-20T21:39:53.921Z"
   },
   {
    "duration": 254,
    "start_time": "2022-03-20T21:39:54.240Z"
   },
   {
    "duration": 74,
    "start_time": "2022-03-20T21:39:54.496Z"
   },
   {
    "duration": 192,
    "start_time": "2022-03-20T21:39:54.572Z"
   },
   {
    "duration": 5,
    "start_time": "2022-03-20T21:39:54.766Z"
   },
   {
    "duration": 246,
    "start_time": "2022-03-20T21:41:24.077Z"
   },
   {
    "duration": 5,
    "start_time": "2022-03-20T21:41:28.075Z"
   },
   {
    "duration": 6,
    "start_time": "2022-03-20T21:41:28.962Z"
   },
   {
    "duration": 5,
    "start_time": "2022-03-20T21:41:29.905Z"
   },
   {
    "duration": 5,
    "start_time": "2022-03-20T21:41:30.888Z"
   },
   {
    "duration": 235,
    "start_time": "2022-03-20T21:41:58.383Z"
   },
   {
    "duration": 238,
    "start_time": "2022-03-20T21:42:02.799Z"
   },
   {
    "duration": 4,
    "start_time": "2022-03-20T21:42:19.268Z"
   },
   {
    "duration": 45,
    "start_time": "2022-03-20T21:42:19.274Z"
   },
   {
    "duration": 12,
    "start_time": "2022-03-20T21:42:19.321Z"
   },
   {
    "duration": 3,
    "start_time": "2022-03-20T21:42:19.335Z"
   },
   {
    "duration": 4,
    "start_time": "2022-03-20T21:42:19.363Z"
   },
   {
    "duration": 14,
    "start_time": "2022-03-20T21:42:19.368Z"
   },
   {
    "duration": 46,
    "start_time": "2022-03-20T21:42:19.383Z"
   },
   {
    "duration": 77,
    "start_time": "2022-03-20T21:42:19.431Z"
   },
   {
    "duration": 5,
    "start_time": "2022-03-20T21:42:19.511Z"
   },
   {
    "duration": 6,
    "start_time": "2022-03-20T21:42:19.517Z"
   },
   {
    "duration": 5,
    "start_time": "2022-03-20T21:42:19.524Z"
   },
   {
    "duration": 33,
    "start_time": "2022-03-20T21:42:19.530Z"
   },
   {
    "duration": 6,
    "start_time": "2022-03-20T21:42:19.564Z"
   },
   {
    "duration": 192,
    "start_time": "2022-03-20T21:42:19.571Z"
   },
   {
    "duration": 7,
    "start_time": "2022-03-20T21:42:19.765Z"
   },
   {
    "duration": 7,
    "start_time": "2022-03-20T21:42:19.864Z"
   },
   {
    "duration": 6,
    "start_time": "2022-03-20T21:42:19.873Z"
   },
   {
    "duration": 6,
    "start_time": "2022-03-20T21:42:19.881Z"
   },
   {
    "duration": 939,
    "start_time": "2022-03-20T21:42:19.888Z"
   },
   {
    "duration": 7082,
    "start_time": "2022-03-20T21:42:20.828Z"
   },
   {
    "duration": 3,
    "start_time": "2022-03-20T21:42:27.912Z"
   },
   {
    "duration": 278,
    "start_time": "2022-03-20T21:42:27.916Z"
   },
   {
    "duration": 5,
    "start_time": "2022-03-20T21:42:28.196Z"
   },
   {
    "duration": 5,
    "start_time": "2022-03-20T21:42:28.205Z"
   },
   {
    "duration": 5,
    "start_time": "2022-03-20T21:42:28.212Z"
   },
   {
    "duration": 15,
    "start_time": "2022-03-20T21:42:28.218Z"
   },
   {
    "duration": 69,
    "start_time": "2022-03-20T21:42:28.235Z"
   },
   {
    "duration": 105,
    "start_time": "2022-03-20T21:42:28.306Z"
   },
   {
    "duration": 26,
    "start_time": "2022-03-20T21:42:28.413Z"
   },
   {
    "duration": 104,
    "start_time": "2022-03-20T21:42:28.441Z"
   },
   {
    "duration": 16,
    "start_time": "2022-03-20T21:42:28.547Z"
   },
   {
    "duration": 102,
    "start_time": "2022-03-20T21:42:28.565Z"
   },
   {
    "duration": 398,
    "start_time": "2022-03-20T21:42:28.669Z"
   },
   {
    "duration": 199,
    "start_time": "2022-03-20T21:42:29.069Z"
   },
   {
    "duration": 421,
    "start_time": "2022-03-20T21:42:29.270Z"
   },
   {
    "duration": 6,
    "start_time": "2022-03-20T21:42:29.694Z"
   },
   {
    "duration": 405,
    "start_time": "2022-03-20T21:42:29.702Z"
   },
   {
    "duration": 315,
    "start_time": "2022-03-20T21:42:30.108Z"
   },
   {
    "duration": 78,
    "start_time": "2022-03-20T21:42:30.424Z"
   },
   {
    "duration": 191,
    "start_time": "2022-03-20T21:42:30.504Z"
   },
   {
    "duration": 6,
    "start_time": "2022-03-20T21:42:30.698Z"
   },
   {
    "duration": 5,
    "start_time": "2022-03-20T21:43:59.345Z"
   },
   {
    "duration": 41,
    "start_time": "2022-03-20T21:43:59.352Z"
   },
   {
    "duration": 13,
    "start_time": "2022-03-20T21:43:59.394Z"
   },
   {
    "duration": 4,
    "start_time": "2022-03-20T21:43:59.408Z"
   },
   {
    "duration": 6,
    "start_time": "2022-03-20T21:43:59.414Z"
   },
   {
    "duration": 47,
    "start_time": "2022-03-20T21:43:59.421Z"
   },
   {
    "duration": 45,
    "start_time": "2022-03-20T21:43:59.470Z"
   },
   {
    "duration": 64,
    "start_time": "2022-03-20T21:43:59.517Z"
   },
   {
    "duration": 4,
    "start_time": "2022-03-20T21:43:59.585Z"
   },
   {
    "duration": 6,
    "start_time": "2022-03-20T21:43:59.591Z"
   },
   {
    "duration": 6,
    "start_time": "2022-03-20T21:43:59.599Z"
   },
   {
    "duration": 6,
    "start_time": "2022-03-20T21:43:59.607Z"
   },
   {
    "duration": 6,
    "start_time": "2022-03-20T21:43:59.614Z"
   },
   {
    "duration": 53,
    "start_time": "2022-03-20T21:43:59.622Z"
   },
   {
    "duration": 6,
    "start_time": "2022-03-20T21:43:59.765Z"
   },
   {
    "duration": 100,
    "start_time": "2022-03-20T21:43:59.772Z"
   },
   {
    "duration": 6,
    "start_time": "2022-03-20T21:43:59.874Z"
   },
   {
    "duration": 6,
    "start_time": "2022-03-20T21:43:59.882Z"
   },
   {
    "duration": 748,
    "start_time": "2022-03-20T21:43:59.890Z"
   },
   {
    "duration": 5858,
    "start_time": "2022-03-20T21:44:00.640Z"
   },
   {
    "duration": 2,
    "start_time": "2022-03-20T21:44:06.500Z"
   },
   {
    "duration": 244,
    "start_time": "2022-03-20T21:44:06.504Z"
   },
   {
    "duration": 13,
    "start_time": "2022-03-20T21:44:06.750Z"
   },
   {
    "duration": 6,
    "start_time": "2022-03-20T21:44:06.766Z"
   },
   {
    "duration": 5,
    "start_time": "2022-03-20T21:44:06.774Z"
   },
   {
    "duration": 5,
    "start_time": "2022-03-20T21:44:06.780Z"
   },
   {
    "duration": 38,
    "start_time": "2022-03-20T21:44:06.787Z"
   },
   {
    "duration": 96,
    "start_time": "2022-03-20T21:44:06.827Z"
   },
   {
    "duration": 22,
    "start_time": "2022-03-20T21:44:06.925Z"
   },
   {
    "duration": 122,
    "start_time": "2022-03-20T21:44:06.949Z"
   },
   {
    "duration": 5,
    "start_time": "2022-03-20T21:44:07.073Z"
   },
   {
    "duration": 188,
    "start_time": "2022-03-20T21:44:07.080Z"
   },
   {
    "duration": 297,
    "start_time": "2022-03-20T21:44:07.271Z"
   },
   {
    "duration": 200,
    "start_time": "2022-03-20T21:44:07.571Z"
   },
   {
    "duration": 428,
    "start_time": "2022-03-20T21:44:07.864Z"
   },
   {
    "duration": 5,
    "start_time": "2022-03-20T21:44:08.293Z"
   },
   {
    "duration": 246,
    "start_time": "2022-03-20T21:44:08.300Z"
   },
   {
    "duration": 238,
    "start_time": "2022-03-20T21:44:08.548Z"
   },
   {
    "duration": 61,
    "start_time": "2022-03-20T21:44:08.787Z"
   },
   {
    "duration": 193,
    "start_time": "2022-03-20T21:44:08.850Z"
   },
   {
    "duration": 5,
    "start_time": "2022-03-20T21:44:09.044Z"
   },
   {
    "duration": 4,
    "start_time": "2022-03-20T21:44:34.087Z"
   },
   {
    "duration": 39,
    "start_time": "2022-03-20T21:44:34.093Z"
   },
   {
    "duration": 12,
    "start_time": "2022-03-20T21:44:34.133Z"
   },
   {
    "duration": 3,
    "start_time": "2022-03-20T21:44:34.147Z"
   },
   {
    "duration": 5,
    "start_time": "2022-03-20T21:44:34.152Z"
   },
   {
    "duration": 11,
    "start_time": "2022-03-20T21:44:34.158Z"
   },
   {
    "duration": 46,
    "start_time": "2022-03-20T21:44:34.171Z"
   },
   {
    "duration": 77,
    "start_time": "2022-03-20T21:44:34.219Z"
   },
   {
    "duration": 4,
    "start_time": "2022-03-20T21:44:34.299Z"
   },
   {
    "duration": 5,
    "start_time": "2022-03-20T21:44:34.304Z"
   },
   {
    "duration": 5,
    "start_time": "2022-03-20T21:44:34.311Z"
   },
   {
    "duration": 4,
    "start_time": "2022-03-20T21:44:34.318Z"
   },
   {
    "duration": 5,
    "start_time": "2022-03-20T21:44:34.323Z"
   },
   {
    "duration": 134,
    "start_time": "2022-03-20T21:44:34.330Z"
   },
   {
    "duration": 98,
    "start_time": "2022-03-20T21:44:34.466Z"
   },
   {
    "duration": 9,
    "start_time": "2022-03-20T21:44:34.565Z"
   },
   {
    "duration": 7,
    "start_time": "2022-03-20T21:44:34.576Z"
   },
   {
    "duration": 8,
    "start_time": "2022-03-20T21:44:34.584Z"
   },
   {
    "duration": 910,
    "start_time": "2022-03-20T21:44:34.594Z"
   },
   {
    "duration": 7157,
    "start_time": "2022-03-20T21:44:35.506Z"
   },
   {
    "duration": 2,
    "start_time": "2022-03-20T21:44:42.665Z"
   },
   {
    "duration": 287,
    "start_time": "2022-03-20T21:44:42.668Z"
   },
   {
    "duration": 8,
    "start_time": "2022-03-20T21:44:42.957Z"
   },
   {
    "duration": 4,
    "start_time": "2022-03-20T21:44:42.968Z"
   },
   {
    "duration": 4,
    "start_time": "2022-03-20T21:44:42.974Z"
   },
   {
    "duration": 5,
    "start_time": "2022-03-20T21:44:42.979Z"
   },
   {
    "duration": 50,
    "start_time": "2022-03-20T21:44:42.985Z"
   },
   {
    "duration": 107,
    "start_time": "2022-03-20T21:44:43.037Z"
   },
   {
    "duration": 35,
    "start_time": "2022-03-20T21:44:43.145Z"
   },
   {
    "duration": 97,
    "start_time": "2022-03-20T21:44:43.182Z"
   },
   {
    "duration": 5,
    "start_time": "2022-03-20T21:44:43.280Z"
   },
   {
    "duration": 85,
    "start_time": "2022-03-20T21:44:43.287Z"
   },
   {
    "duration": 301,
    "start_time": "2022-03-20T21:44:43.465Z"
   },
   {
    "duration": 109,
    "start_time": "2022-03-20T21:44:43.768Z"
   },
   {
    "duration": 332,
    "start_time": "2022-03-20T21:44:43.965Z"
   },
   {
    "duration": 5,
    "start_time": "2022-03-20T21:44:44.299Z"
   },
   {
    "duration": 308,
    "start_time": "2022-03-20T21:44:44.305Z"
   },
   {
    "duration": 314,
    "start_time": "2022-03-20T21:44:44.614Z"
   },
   {
    "duration": 71,
    "start_time": "2022-03-20T21:44:44.930Z"
   },
   {
    "duration": 209,
    "start_time": "2022-03-20T21:44:45.003Z"
   },
   {
    "duration": 4,
    "start_time": "2022-03-20T21:44:45.214Z"
   },
   {
    "duration": 166,
    "start_time": "2022-03-20T21:45:01.008Z"
   },
   {
    "duration": 161,
    "start_time": "2022-03-20T21:45:13.154Z"
   },
   {
    "duration": 296,
    "start_time": "2022-03-20T21:45:17.911Z"
   },
   {
    "duration": 405,
    "start_time": "2022-03-20T21:45:25.991Z"
   },
   {
    "duration": 299,
    "start_time": "2022-03-20T21:45:38.282Z"
   },
   {
    "duration": 198,
    "start_time": "2022-03-20T21:45:44.205Z"
   },
   {
    "duration": 155,
    "start_time": "2022-03-20T21:45:48.837Z"
   },
   {
    "duration": 183,
    "start_time": "2022-03-20T21:45:52.908Z"
   },
   {
    "duration": 210,
    "start_time": "2022-03-20T21:45:56.720Z"
   },
   {
    "duration": 229,
    "start_time": "2022-03-20T21:46:01.280Z"
   },
   {
    "duration": 241,
    "start_time": "2022-03-20T21:46:05.771Z"
   },
   {
    "duration": 260,
    "start_time": "2022-03-20T21:46:09.822Z"
   },
   {
    "duration": 272,
    "start_time": "2022-03-20T21:46:14.966Z"
   },
   {
    "duration": 249,
    "start_time": "2022-03-20T21:46:19.525Z"
   },
   {
    "duration": 75,
    "start_time": "2022-03-20T21:46:28.960Z"
   },
   {
    "duration": 76,
    "start_time": "2022-03-20T21:46:34.647Z"
   },
   {
    "duration": 91,
    "start_time": "2022-03-20T21:46:42.472Z"
   },
   {
    "duration": 100,
    "start_time": "2022-03-20T21:46:50.383Z"
   },
   {
    "duration": 83,
    "start_time": "2022-03-20T21:46:56.770Z"
   },
   {
    "duration": 4,
    "start_time": "2022-03-20T21:47:30.415Z"
   },
   {
    "duration": 45,
    "start_time": "2022-03-20T21:47:30.421Z"
   },
   {
    "duration": 11,
    "start_time": "2022-03-20T21:47:30.468Z"
   },
   {
    "duration": 4,
    "start_time": "2022-03-20T21:47:30.481Z"
   },
   {
    "duration": 11,
    "start_time": "2022-03-20T21:47:30.486Z"
   },
   {
    "duration": 13,
    "start_time": "2022-03-20T21:47:30.499Z"
   },
   {
    "duration": 77,
    "start_time": "2022-03-20T21:47:30.514Z"
   },
   {
    "duration": 47,
    "start_time": "2022-03-20T21:47:30.593Z"
   },
   {
    "duration": 21,
    "start_time": "2022-03-20T21:47:30.643Z"
   },
   {
    "duration": 5,
    "start_time": "2022-03-20T21:47:30.665Z"
   },
   {
    "duration": 7,
    "start_time": "2022-03-20T21:47:30.671Z"
   },
   {
    "duration": 6,
    "start_time": "2022-03-20T21:47:30.679Z"
   },
   {
    "duration": 17,
    "start_time": "2022-03-20T21:47:30.687Z"
   },
   {
    "duration": 160,
    "start_time": "2022-03-20T21:47:30.706Z"
   },
   {
    "duration": 108,
    "start_time": "2022-03-20T21:47:30.868Z"
   },
   {
    "duration": 13,
    "start_time": "2022-03-20T21:47:30.979Z"
   },
   {
    "duration": 19,
    "start_time": "2022-03-20T21:47:30.993Z"
   },
   {
    "duration": 31,
    "start_time": "2022-03-20T21:47:31.014Z"
   },
   {
    "duration": 921,
    "start_time": "2022-03-20T21:47:31.047Z"
   },
   {
    "duration": 6964,
    "start_time": "2022-03-20T21:47:31.970Z"
   },
   {
    "duration": 2,
    "start_time": "2022-03-20T21:47:38.937Z"
   },
   {
    "duration": 184,
    "start_time": "2022-03-20T21:47:38.941Z"
   },
   {
    "duration": 5,
    "start_time": "2022-03-20T21:47:39.127Z"
   },
   {
    "duration": 7,
    "start_time": "2022-03-20T21:47:39.136Z"
   },
   {
    "duration": 37,
    "start_time": "2022-03-20T21:47:39.144Z"
   },
   {
    "duration": 9,
    "start_time": "2022-03-20T21:47:39.183Z"
   },
   {
    "duration": 50,
    "start_time": "2022-03-20T21:47:39.193Z"
   },
   {
    "duration": 83,
    "start_time": "2022-03-20T21:47:39.244Z"
   },
   {
    "duration": 24,
    "start_time": "2022-03-20T21:47:39.328Z"
   },
   {
    "duration": 92,
    "start_time": "2022-03-20T21:47:39.353Z"
   },
   {
    "duration": 18,
    "start_time": "2022-03-20T21:47:39.446Z"
   },
   {
    "duration": 98,
    "start_time": "2022-03-20T21:47:39.466Z"
   },
   {
    "duration": 300,
    "start_time": "2022-03-20T21:47:39.566Z"
   },
   {
    "duration": 113,
    "start_time": "2022-03-20T21:47:39.868Z"
   },
   {
    "duration": 332,
    "start_time": "2022-03-20T21:47:40.065Z"
   },
   {
    "duration": 6,
    "start_time": "2022-03-20T21:47:40.399Z"
   },
   {
    "duration": 191,
    "start_time": "2022-03-20T21:47:40.406Z"
   },
   {
    "duration": 270,
    "start_time": "2022-03-20T21:47:40.599Z"
   },
   {
    "duration": 92,
    "start_time": "2022-03-20T21:47:40.871Z"
   },
   {
    "duration": 199,
    "start_time": "2022-03-20T21:47:40.965Z"
   },
   {
    "duration": 5,
    "start_time": "2022-03-20T21:47:41.165Z"
   },
   {
    "duration": 61,
    "start_time": "2022-03-20T21:49:38.122Z"
   },
   {
    "duration": 33,
    "start_time": "2022-03-20T21:49:44.609Z"
   },
   {
    "duration": 182,
    "start_time": "2022-03-20T21:50:04.635Z"
   },
   {
    "duration": 165,
    "start_time": "2022-03-20T21:50:11.458Z"
   },
   {
    "duration": 4,
    "start_time": "2022-03-20T21:57:49.099Z"
   },
   {
    "duration": 45,
    "start_time": "2022-03-20T21:57:49.105Z"
   },
   {
    "duration": 13,
    "start_time": "2022-03-20T21:57:49.152Z"
   },
   {
    "duration": 4,
    "start_time": "2022-03-20T21:57:49.168Z"
   },
   {
    "duration": 63,
    "start_time": "2022-03-20T21:57:49.174Z"
   },
   {
    "duration": 0,
    "start_time": "2022-03-20T21:57:49.317Z"
   },
   {
    "duration": 0,
    "start_time": "2022-03-20T21:57:49.318Z"
   },
   {
    "duration": 0,
    "start_time": "2022-03-20T21:57:49.319Z"
   },
   {
    "duration": 1,
    "start_time": "2022-03-20T21:57:49.319Z"
   },
   {
    "duration": 0,
    "start_time": "2022-03-20T21:57:49.320Z"
   },
   {
    "duration": 0,
    "start_time": "2022-03-20T21:57:49.321Z"
   },
   {
    "duration": 0,
    "start_time": "2022-03-20T21:57:49.322Z"
   },
   {
    "duration": 0,
    "start_time": "2022-03-20T21:57:49.323Z"
   },
   {
    "duration": 0,
    "start_time": "2022-03-20T21:57:49.324Z"
   },
   {
    "duration": 0,
    "start_time": "2022-03-20T21:57:49.324Z"
   },
   {
    "duration": 0,
    "start_time": "2022-03-20T21:57:49.325Z"
   },
   {
    "duration": 0,
    "start_time": "2022-03-20T21:57:49.326Z"
   },
   {
    "duration": 0,
    "start_time": "2022-03-20T21:57:49.327Z"
   },
   {
    "duration": 0,
    "start_time": "2022-03-20T21:57:49.329Z"
   },
   {
    "duration": 0,
    "start_time": "2022-03-20T21:57:49.330Z"
   },
   {
    "duration": 0,
    "start_time": "2022-03-20T21:57:49.330Z"
   },
   {
    "duration": 0,
    "start_time": "2022-03-20T21:57:49.331Z"
   },
   {
    "duration": 0,
    "start_time": "2022-03-20T21:57:49.332Z"
   },
   {
    "duration": 0,
    "start_time": "2022-03-20T21:57:49.333Z"
   },
   {
    "duration": 0,
    "start_time": "2022-03-20T21:57:49.334Z"
   },
   {
    "duration": 0,
    "start_time": "2022-03-20T21:57:49.363Z"
   },
   {
    "duration": 0,
    "start_time": "2022-03-20T21:57:49.365Z"
   },
   {
    "duration": 0,
    "start_time": "2022-03-20T21:57:49.366Z"
   },
   {
    "duration": 0,
    "start_time": "2022-03-20T21:57:49.367Z"
   },
   {
    "duration": 0,
    "start_time": "2022-03-20T21:57:49.368Z"
   },
   {
    "duration": 0,
    "start_time": "2022-03-20T21:57:49.369Z"
   },
   {
    "duration": 0,
    "start_time": "2022-03-20T21:57:49.370Z"
   },
   {
    "duration": 0,
    "start_time": "2022-03-20T21:57:49.371Z"
   },
   {
    "duration": 0,
    "start_time": "2022-03-20T21:57:49.372Z"
   },
   {
    "duration": 0,
    "start_time": "2022-03-20T21:57:49.373Z"
   },
   {
    "duration": 0,
    "start_time": "2022-03-20T21:57:49.374Z"
   },
   {
    "duration": 0,
    "start_time": "2022-03-20T21:57:49.375Z"
   },
   {
    "duration": 0,
    "start_time": "2022-03-20T21:57:49.376Z"
   },
   {
    "duration": 0,
    "start_time": "2022-03-20T21:57:49.377Z"
   },
   {
    "duration": 0,
    "start_time": "2022-03-20T21:57:49.378Z"
   },
   {
    "duration": 0,
    "start_time": "2022-03-20T21:57:49.379Z"
   },
   {
    "duration": 5,
    "start_time": "2022-03-20T21:58:07.524Z"
   },
   {
    "duration": 39,
    "start_time": "2022-03-20T21:58:07.531Z"
   },
   {
    "duration": 13,
    "start_time": "2022-03-20T21:58:07.571Z"
   },
   {
    "duration": 4,
    "start_time": "2022-03-20T21:58:07.586Z"
   },
   {
    "duration": 5,
    "start_time": "2022-03-20T21:58:07.591Z"
   },
   {
    "duration": 11,
    "start_time": "2022-03-20T21:58:07.597Z"
   },
   {
    "duration": 107,
    "start_time": "2022-03-20T21:58:07.610Z"
   },
   {
    "duration": 57,
    "start_time": "2022-03-20T21:58:07.719Z"
   },
   {
    "duration": 5,
    "start_time": "2022-03-20T21:58:07.778Z"
   },
   {
    "duration": 9,
    "start_time": "2022-03-20T21:58:07.785Z"
   },
   {
    "duration": 9,
    "start_time": "2022-03-20T21:58:07.796Z"
   },
   {
    "duration": 6,
    "start_time": "2022-03-20T21:58:07.807Z"
   },
   {
    "duration": 5,
    "start_time": "2022-03-20T21:58:07.814Z"
   },
   {
    "duration": 144,
    "start_time": "2022-03-20T21:58:07.820Z"
   },
   {
    "duration": 101,
    "start_time": "2022-03-20T21:58:07.966Z"
   },
   {
    "duration": 7,
    "start_time": "2022-03-20T21:58:08.069Z"
   },
   {
    "duration": 6,
    "start_time": "2022-03-20T21:58:08.079Z"
   },
   {
    "duration": 5,
    "start_time": "2022-03-20T21:58:08.086Z"
   },
   {
    "duration": 915,
    "start_time": "2022-03-20T21:58:08.093Z"
   },
   {
    "duration": 6921,
    "start_time": "2022-03-20T21:58:09.010Z"
   },
   {
    "duration": 3,
    "start_time": "2022-03-20T21:58:15.932Z"
   },
   {
    "duration": 189,
    "start_time": "2022-03-20T21:58:15.936Z"
   },
   {
    "duration": 5,
    "start_time": "2022-03-20T21:58:16.126Z"
   },
   {
    "duration": 6,
    "start_time": "2022-03-20T21:58:16.132Z"
   },
   {
    "duration": 23,
    "start_time": "2022-03-20T21:58:16.140Z"
   },
   {
    "duration": 5,
    "start_time": "2022-03-20T21:58:16.165Z"
   },
   {
    "duration": 47,
    "start_time": "2022-03-20T21:58:16.172Z"
   },
   {
    "duration": 93,
    "start_time": "2022-03-20T21:58:16.223Z"
   },
   {
    "duration": 32,
    "start_time": "2022-03-20T21:58:16.319Z"
   },
   {
    "duration": 109,
    "start_time": "2022-03-20T21:58:16.363Z"
   },
   {
    "duration": 6,
    "start_time": "2022-03-20T21:58:16.474Z"
   },
   {
    "duration": 181,
    "start_time": "2022-03-20T21:58:16.482Z"
   },
   {
    "duration": 400,
    "start_time": "2022-03-20T21:58:16.665Z"
   },
   {
    "duration": 114,
    "start_time": "2022-03-20T21:58:17.072Z"
   },
   {
    "duration": 327,
    "start_time": "2022-03-20T21:58:17.268Z"
   },
   {
    "duration": 6,
    "start_time": "2022-03-20T21:58:17.596Z"
   },
   {
    "duration": 187,
    "start_time": "2022-03-20T21:58:17.603Z"
   },
   {
    "duration": 259,
    "start_time": "2022-03-20T21:58:17.792Z"
   },
   {
    "duration": 94,
    "start_time": "2022-03-20T21:58:18.053Z"
   },
   {
    "duration": 207,
    "start_time": "2022-03-20T21:58:18.149Z"
   },
   {
    "duration": 8,
    "start_time": "2022-03-20T21:58:18.358Z"
   },
   {
    "duration": 285,
    "start_time": "2022-03-20T22:00:07.105Z"
   },
   {
    "duration": 6,
    "start_time": "2022-03-20T22:00:10.347Z"
   },
   {
    "duration": 6,
    "start_time": "2022-03-20T22:00:11.111Z"
   },
   {
    "duration": 6,
    "start_time": "2022-03-20T22:00:11.650Z"
   },
   {
    "duration": 285,
    "start_time": "2022-03-20T22:00:20.448Z"
   },
   {
    "duration": 259,
    "start_time": "2022-03-20T22:00:22.142Z"
   },
   {
    "duration": 86,
    "start_time": "2022-03-20T22:00:25.260Z"
   },
   {
    "duration": 7737,
    "start_time": "2022-03-20T22:10:10.279Z"
   },
   {
    "duration": 472,
    "start_time": "2022-03-20T22:11:56.552Z"
   },
   {
    "duration": 147,
    "start_time": "2022-03-20T22:12:09.836Z"
   },
   {
    "duration": 86,
    "start_time": "2022-03-20T22:12:17.782Z"
   },
   {
    "duration": 256,
    "start_time": "2022-03-20T22:12:28.160Z"
   },
   {
    "duration": 486,
    "start_time": "2022-03-20T22:12:35.355Z"
   },
   {
    "duration": 78,
    "start_time": "2022-03-20T22:13:01.269Z"
   },
   {
    "duration": 410,
    "start_time": "2022-03-20T22:13:44.672Z"
   },
   {
    "duration": 481,
    "start_time": "2022-03-20T22:17:08.596Z"
   },
   {
    "duration": 525,
    "start_time": "2022-03-20T22:17:23.636Z"
   },
   {
    "duration": 102,
    "start_time": "2022-03-20T22:17:50.736Z"
   },
   {
    "duration": 305,
    "start_time": "2022-03-20T22:18:51.297Z"
   },
   {
    "duration": 4,
    "start_time": "2022-03-20T22:19:20.721Z"
   },
   {
    "duration": 43,
    "start_time": "2022-03-20T22:19:20.727Z"
   },
   {
    "duration": 12,
    "start_time": "2022-03-20T22:19:20.772Z"
   },
   {
    "duration": 3,
    "start_time": "2022-03-20T22:19:20.786Z"
   },
   {
    "duration": 6,
    "start_time": "2022-03-20T22:19:20.791Z"
   },
   {
    "duration": 11,
    "start_time": "2022-03-20T22:19:20.798Z"
   },
   {
    "duration": 84,
    "start_time": "2022-03-20T22:19:20.810Z"
   },
   {
    "duration": 48,
    "start_time": "2022-03-20T22:19:20.896Z"
   },
   {
    "duration": 19,
    "start_time": "2022-03-20T22:19:20.946Z"
   },
   {
    "duration": 5,
    "start_time": "2022-03-20T22:19:20.966Z"
   },
   {
    "duration": 4,
    "start_time": "2022-03-20T22:19:20.974Z"
   },
   {
    "duration": 6,
    "start_time": "2022-03-20T22:19:20.979Z"
   },
   {
    "duration": 5,
    "start_time": "2022-03-20T22:19:20.987Z"
   },
   {
    "duration": 169,
    "start_time": "2022-03-20T22:19:20.994Z"
   },
   {
    "duration": 7,
    "start_time": "2022-03-20T22:19:21.165Z"
   },
   {
    "duration": 5,
    "start_time": "2022-03-20T22:19:21.264Z"
   },
   {
    "duration": 5,
    "start_time": "2022-03-20T22:19:21.271Z"
   },
   {
    "duration": 5,
    "start_time": "2022-03-20T22:19:21.278Z"
   },
   {
    "duration": 921,
    "start_time": "2022-03-20T22:19:21.284Z"
   },
   {
    "duration": 6982,
    "start_time": "2022-03-20T22:19:22.207Z"
   },
   {
    "duration": 2,
    "start_time": "2022-03-20T22:19:29.191Z"
   },
   {
    "duration": 285,
    "start_time": "2022-03-20T22:19:29.195Z"
   },
   {
    "duration": 5,
    "start_time": "2022-03-20T22:19:29.482Z"
   },
   {
    "duration": 5,
    "start_time": "2022-03-20T22:19:29.488Z"
   },
   {
    "duration": 4,
    "start_time": "2022-03-20T22:19:29.495Z"
   },
   {
    "duration": 4,
    "start_time": "2022-03-20T22:19:29.501Z"
   },
   {
    "duration": 72,
    "start_time": "2022-03-20T22:19:29.506Z"
   },
   {
    "duration": 58,
    "start_time": "2022-03-20T22:19:29.580Z"
   },
   {
    "duration": 43,
    "start_time": "2022-03-20T22:19:29.641Z"
   },
   {
    "duration": 102,
    "start_time": "2022-03-20T22:19:29.686Z"
   },
   {
    "duration": 6,
    "start_time": "2022-03-20T22:19:29.789Z"
   },
   {
    "duration": 75,
    "start_time": "2022-03-20T22:19:29.796Z"
   },
   {
    "duration": 300,
    "start_time": "2022-03-20T22:19:29.964Z"
   },
   {
    "duration": 197,
    "start_time": "2022-03-20T22:19:30.267Z"
   },
   {
    "duration": 398,
    "start_time": "2022-03-20T22:19:30.467Z"
   },
   {
    "duration": 5,
    "start_time": "2022-03-20T22:19:30.866Z"
   },
   {
    "duration": 281,
    "start_time": "2022-03-20T22:19:30.873Z"
   },
   {
    "duration": 485,
    "start_time": "2022-03-20T22:19:31.155Z"
   },
   {
    "duration": 95,
    "start_time": "2022-03-20T22:19:31.641Z"
   },
   {
    "duration": 192,
    "start_time": "2022-03-20T22:19:31.738Z"
   },
   {
    "duration": 5,
    "start_time": "2022-03-20T22:19:31.931Z"
   },
   {
    "duration": 7637,
    "start_time": "2022-03-20T22:19:31.938Z"
   },
   {
    "duration": 330,
    "start_time": "2022-03-20T22:19:39.577Z"
   },
   {
    "duration": 539,
    "start_time": "2022-03-20T22:19:39.909Z"
   },
   {
    "duration": 113,
    "start_time": "2022-03-20T22:19:40.450Z"
   },
   {
    "duration": 1404,
    "start_time": "2022-03-21T20:43:03.151Z"
   },
   {
    "duration": 44,
    "start_time": "2022-03-21T20:43:04.557Z"
   },
   {
    "duration": 18,
    "start_time": "2022-03-21T20:43:04.602Z"
   },
   {
    "duration": 14,
    "start_time": "2022-03-21T20:43:04.622Z"
   },
   {
    "duration": 8,
    "start_time": "2022-03-21T20:43:04.638Z"
   },
   {
    "duration": 20,
    "start_time": "2022-03-21T20:43:04.648Z"
   },
   {
    "duration": 64,
    "start_time": "2022-03-21T20:43:04.670Z"
   },
   {
    "duration": 48,
    "start_time": "2022-03-21T20:43:04.735Z"
   },
   {
    "duration": 5,
    "start_time": "2022-03-21T20:43:04.784Z"
   },
   {
    "duration": 7,
    "start_time": "2022-03-21T20:43:04.791Z"
   },
   {
    "duration": 6,
    "start_time": "2022-03-21T20:43:04.800Z"
   },
   {
    "duration": 5,
    "start_time": "2022-03-21T20:43:04.833Z"
   },
   {
    "duration": 7,
    "start_time": "2022-03-21T20:43:04.840Z"
   },
   {
    "duration": 93,
    "start_time": "2022-03-21T20:43:04.849Z"
   },
   {
    "duration": 189,
    "start_time": "2022-03-21T20:43:04.944Z"
   },
   {
    "duration": 7,
    "start_time": "2022-03-21T20:43:05.135Z"
   },
   {
    "duration": 6,
    "start_time": "2022-03-21T20:43:05.143Z"
   },
   {
    "duration": 8,
    "start_time": "2022-03-21T20:43:05.151Z"
   },
   {
    "duration": 938,
    "start_time": "2022-03-21T20:43:05.161Z"
   },
   {
    "duration": 7065,
    "start_time": "2022-03-21T20:43:06.101Z"
   },
   {
    "duration": 3,
    "start_time": "2022-03-21T20:43:13.168Z"
   },
   {
    "duration": 333,
    "start_time": "2022-03-21T20:43:13.173Z"
   },
   {
    "duration": 5,
    "start_time": "2022-03-21T20:43:13.507Z"
   },
   {
    "duration": 7,
    "start_time": "2022-03-21T20:43:13.514Z"
   },
   {
    "duration": 5,
    "start_time": "2022-03-21T20:43:13.533Z"
   },
   {
    "duration": 10,
    "start_time": "2022-03-21T20:43:13.540Z"
   },
   {
    "duration": 47,
    "start_time": "2022-03-21T20:43:13.552Z"
   },
   {
    "duration": 102,
    "start_time": "2022-03-21T20:43:13.603Z"
   },
   {
    "duration": 45,
    "start_time": "2022-03-21T20:43:13.707Z"
   },
   {
    "duration": 107,
    "start_time": "2022-03-21T20:43:13.754Z"
   },
   {
    "duration": 5,
    "start_time": "2022-03-21T20:43:13.863Z"
   },
   {
    "duration": 168,
    "start_time": "2022-03-21T20:43:13.869Z"
   },
   {
    "duration": 204,
    "start_time": "2022-03-21T20:43:14.039Z"
   },
   {
    "duration": 116,
    "start_time": "2022-03-21T20:43:14.333Z"
   },
   {
    "duration": 352,
    "start_time": "2022-03-21T20:43:14.534Z"
   },
   {
    "duration": 6,
    "start_time": "2022-03-21T20:43:14.888Z"
   },
   {
    "duration": 416,
    "start_time": "2022-03-21T20:43:14.895Z"
   },
   {
    "duration": 706,
    "start_time": "2022-03-21T20:43:15.313Z"
   },
   {
    "duration": 135,
    "start_time": "2022-03-21T20:43:16.021Z"
   },
   {
    "duration": 275,
    "start_time": "2022-03-21T20:43:16.158Z"
   },
   {
    "duration": 6,
    "start_time": "2022-03-21T20:43:16.434Z"
   },
   {
    "duration": 7638,
    "start_time": "2022-03-21T20:43:16.441Z"
   },
   {
    "duration": 312,
    "start_time": "2022-03-21T20:43:24.081Z"
   },
   {
    "duration": 513,
    "start_time": "2022-03-21T20:43:24.394Z"
   },
   {
    "duration": 113,
    "start_time": "2022-03-21T20:43:24.909Z"
   },
   {
    "duration": 21,
    "start_time": "2022-03-21T20:46:07.117Z"
   },
   {
    "duration": 10,
    "start_time": "2022-03-21T20:46:27.565Z"
   },
   {
    "duration": 9,
    "start_time": "2022-03-21T20:48:54.677Z"
   },
   {
    "duration": 137,
    "start_time": "2022-03-22T05:26:42.191Z"
   },
   {
    "duration": 3,
    "start_time": "2022-03-22T05:35:01.944Z"
   },
   {
    "duration": 3,
    "start_time": "2022-03-22T05:35:10.759Z"
   },
   {
    "duration": 58,
    "start_time": "2022-03-22T05:38:38.430Z"
   },
   {
    "duration": 1332,
    "start_time": "2022-03-22T05:38:42.611Z"
   },
   {
    "duration": 52,
    "start_time": "2022-03-22T05:38:43.945Z"
   },
   {
    "duration": 13,
    "start_time": "2022-03-22T05:38:43.998Z"
   },
   {
    "duration": 4,
    "start_time": "2022-03-22T05:38:44.013Z"
   },
   {
    "duration": 5,
    "start_time": "2022-03-22T05:38:44.019Z"
   },
   {
    "duration": 3,
    "start_time": "2022-03-22T05:38:44.026Z"
   },
   {
    "duration": 40,
    "start_time": "2022-03-22T05:38:44.031Z"
   },
   {
    "duration": 65,
    "start_time": "2022-03-22T05:53:58.443Z"
   },
   {
    "duration": 16,
    "start_time": "2022-03-22T05:54:21.820Z"
   },
   {
    "duration": 9,
    "start_time": "2022-03-22T05:54:33.548Z"
   },
   {
    "duration": 26,
    "start_time": "2022-03-22T06:01:25.568Z"
   },
   {
    "duration": 17,
    "start_time": "2022-03-22T06:02:11.381Z"
   },
   {
    "duration": 14,
    "start_time": "2022-03-22T06:12:55.837Z"
   },
   {
    "duration": 11,
    "start_time": "2022-03-22T06:18:32.282Z"
   },
   {
    "duration": 11,
    "start_time": "2022-03-22T06:19:01.870Z"
   },
   {
    "duration": 9,
    "start_time": "2022-03-22T06:19:23.094Z"
   },
   {
    "duration": 5,
    "start_time": "2022-03-22T06:19:26.812Z"
   },
   {
    "duration": 40,
    "start_time": "2022-03-22T06:19:26.818Z"
   },
   {
    "duration": 12,
    "start_time": "2022-03-22T06:19:26.860Z"
   },
   {
    "duration": 3,
    "start_time": "2022-03-22T06:19:26.874Z"
   },
   {
    "duration": 6,
    "start_time": "2022-03-22T06:19:26.879Z"
   },
   {
    "duration": 9,
    "start_time": "2022-03-22T06:19:26.887Z"
   },
   {
    "duration": 12,
    "start_time": "2022-03-22T06:19:26.897Z"
   },
   {
    "duration": 72,
    "start_time": "2022-03-22T06:19:26.910Z"
   },
   {
    "duration": 36,
    "start_time": "2022-03-22T06:19:26.984Z"
   },
   {
    "duration": 4,
    "start_time": "2022-03-22T06:19:27.023Z"
   },
   {
    "duration": 35,
    "start_time": "2022-03-22T06:19:27.030Z"
   },
   {
    "duration": 8,
    "start_time": "2022-03-22T06:19:27.066Z"
   },
   {
    "duration": 7,
    "start_time": "2022-03-22T06:19:27.075Z"
   },
   {
    "duration": 5,
    "start_time": "2022-03-22T06:19:27.084Z"
   },
   {
    "duration": 171,
    "start_time": "2022-03-22T06:19:27.091Z"
   },
   {
    "duration": 7,
    "start_time": "2022-03-22T06:19:27.265Z"
   },
   {
    "duration": 6,
    "start_time": "2022-03-22T06:19:27.363Z"
   },
   {
    "duration": 25,
    "start_time": "2022-03-22T06:19:27.370Z"
   },
   {
    "duration": 5,
    "start_time": "2022-03-22T06:19:27.397Z"
   },
   {
    "duration": 617,
    "start_time": "2022-03-22T06:19:27.404Z"
   },
   {
    "duration": 4848,
    "start_time": "2022-03-22T06:19:28.022Z"
   },
   {
    "duration": 2,
    "start_time": "2022-03-22T06:19:32.872Z"
   },
   {
    "duration": 197,
    "start_time": "2022-03-22T06:19:32.875Z"
   },
   {
    "duration": 4,
    "start_time": "2022-03-22T06:19:33.074Z"
   },
   {
    "duration": 7,
    "start_time": "2022-03-22T06:19:33.080Z"
   },
   {
    "duration": 6,
    "start_time": "2022-03-22T06:19:33.088Z"
   },
   {
    "duration": 6,
    "start_time": "2022-03-22T06:19:33.096Z"
   },
   {
    "duration": 65,
    "start_time": "2022-03-22T06:19:33.104Z"
   },
   {
    "duration": 42,
    "start_time": "2022-03-22T06:19:33.173Z"
   },
   {
    "duration": 46,
    "start_time": "2022-03-22T06:19:33.217Z"
   },
   {
    "duration": 81,
    "start_time": "2022-03-22T06:19:33.265Z"
   },
   {
    "duration": 5,
    "start_time": "2022-03-22T06:19:33.362Z"
   },
   {
    "duration": 101,
    "start_time": "2022-03-22T06:19:33.369Z"
   },
   {
    "duration": 293,
    "start_time": "2022-03-22T06:19:33.472Z"
   },
   {
    "duration": 111,
    "start_time": "2022-03-22T06:19:33.767Z"
   },
   {
    "duration": 422,
    "start_time": "2022-03-22T06:19:33.966Z"
   },
   {
    "duration": 6,
    "start_time": "2022-03-22T06:19:34.389Z"
   },
   {
    "duration": 211,
    "start_time": "2022-03-22T06:19:34.397Z"
   },
   {
    "duration": 349,
    "start_time": "2022-03-22T06:19:34.610Z"
   },
   {
    "duration": 73,
    "start_time": "2022-03-22T06:19:34.964Z"
   },
   {
    "duration": 171,
    "start_time": "2022-03-22T06:19:35.041Z"
   },
   {
    "duration": 5,
    "start_time": "2022-03-22T06:19:35.213Z"
   },
   {
    "duration": 4663,
    "start_time": "2022-03-22T06:19:35.220Z"
   },
   {
    "duration": 198,
    "start_time": "2022-03-22T06:19:39.884Z"
   },
   {
    "duration": 314,
    "start_time": "2022-03-22T06:19:40.084Z"
   },
   {
    "duration": 75,
    "start_time": "2022-03-22T06:19:40.400Z"
   },
   {
    "duration": 12,
    "start_time": "2022-03-22T06:21:28.368Z"
   },
   {
    "duration": 12,
    "start_time": "2022-03-22T06:23:03.737Z"
   },
   {
    "duration": 10,
    "start_time": "2022-03-22T06:23:12.180Z"
   },
   {
    "duration": 3,
    "start_time": "2022-03-22T06:23:40.676Z"
   },
   {
    "duration": 9,
    "start_time": "2022-03-22T06:23:59.413Z"
   },
   {
    "duration": 25,
    "start_time": "2022-03-22T06:36:21.119Z"
   },
   {
    "duration": 33,
    "start_time": "2022-03-22T06:36:46.975Z"
   },
   {
    "duration": 23,
    "start_time": "2022-03-22T06:37:09.961Z"
   },
   {
    "duration": 21,
    "start_time": "2022-03-22T06:37:20.333Z"
   },
   {
    "duration": 22,
    "start_time": "2022-03-22T06:37:33.784Z"
   },
   {
    "duration": 3,
    "start_time": "2022-03-22T06:37:36.695Z"
   },
   {
    "duration": 43,
    "start_time": "2022-03-22T06:37:36.700Z"
   },
   {
    "duration": 11,
    "start_time": "2022-03-22T06:37:36.745Z"
   },
   {
    "duration": 6,
    "start_time": "2022-03-22T06:37:36.758Z"
   },
   {
    "duration": 4,
    "start_time": "2022-03-22T06:37:36.766Z"
   },
   {
    "duration": 23,
    "start_time": "2022-03-22T06:37:36.772Z"
   },
   {
    "duration": 2,
    "start_time": "2022-03-22T06:37:36.797Z"
   },
   {
    "duration": 12,
    "start_time": "2022-03-22T06:37:36.801Z"
   },
   {
    "duration": 67,
    "start_time": "2022-03-22T06:37:36.816Z"
   },
   {
    "duration": 20,
    "start_time": "2022-03-22T06:37:36.885Z"
   },
   {
    "duration": 5,
    "start_time": "2022-03-22T06:37:36.906Z"
   },
   {
    "duration": 14,
    "start_time": "2022-03-22T06:37:36.912Z"
   },
   {
    "duration": 7,
    "start_time": "2022-03-22T06:37:36.928Z"
   },
   {
    "duration": 27,
    "start_time": "2022-03-22T06:37:36.936Z"
   },
   {
    "duration": 8,
    "start_time": "2022-03-22T06:37:36.964Z"
   },
   {
    "duration": 189,
    "start_time": "2022-03-22T06:37:36.974Z"
   },
   {
    "duration": 7,
    "start_time": "2022-03-22T06:37:37.165Z"
   },
   {
    "duration": 5,
    "start_time": "2022-03-22T06:37:37.264Z"
   },
   {
    "duration": 8,
    "start_time": "2022-03-22T06:37:37.271Z"
   },
   {
    "duration": 8,
    "start_time": "2022-03-22T06:37:37.280Z"
   },
   {
    "duration": 374,
    "start_time": "2022-03-22T06:37:37.289Z"
   },
   {
    "duration": 2947,
    "start_time": "2022-03-22T06:37:37.664Z"
   },
   {
    "duration": 2,
    "start_time": "2022-03-22T06:37:40.613Z"
   },
   {
    "duration": 130,
    "start_time": "2022-03-22T06:37:40.619Z"
   },
   {
    "duration": 4,
    "start_time": "2022-03-22T06:37:40.751Z"
   },
   {
    "duration": 6,
    "start_time": "2022-03-22T06:37:40.763Z"
   },
   {
    "duration": 4,
    "start_time": "2022-03-22T06:37:40.770Z"
   },
   {
    "duration": 6,
    "start_time": "2022-03-22T06:37:40.776Z"
   },
   {
    "duration": 22,
    "start_time": "2022-03-22T06:37:40.784Z"
   },
   {
    "duration": 59,
    "start_time": "2022-03-22T06:37:40.808Z"
   },
   {
    "duration": 20,
    "start_time": "2022-03-22T06:37:40.868Z"
   },
   {
    "duration": 84,
    "start_time": "2022-03-22T06:37:40.889Z"
   },
   {
    "duration": 4,
    "start_time": "2022-03-22T06:37:40.975Z"
   },
   {
    "duration": 193,
    "start_time": "2022-03-22T06:37:40.980Z"
   },
   {
    "duration": 913,
    "start_time": "2022-03-22T06:37:41.264Z"
   },
   {
    "duration": 300,
    "start_time": "2022-03-22T06:37:42.265Z"
   },
   {
    "duration": 435,
    "start_time": "2022-03-22T06:37:42.567Z"
   },
   {
    "duration": 5,
    "start_time": "2022-03-22T06:37:43.004Z"
   },
   {
    "duration": 143,
    "start_time": "2022-03-22T06:37:43.010Z"
   },
   {
    "duration": 250,
    "start_time": "2022-03-22T06:37:43.154Z"
   },
   {
    "duration": 67,
    "start_time": "2022-03-22T06:37:43.406Z"
   },
   {
    "duration": 124,
    "start_time": "2022-03-22T06:37:43.475Z"
   },
   {
    "duration": 5,
    "start_time": "2022-03-22T06:37:43.601Z"
   },
   {
    "duration": 3144,
    "start_time": "2022-03-22T06:37:43.608Z"
   },
   {
    "duration": 133,
    "start_time": "2022-03-22T06:37:46.753Z"
   },
   {
    "duration": 251,
    "start_time": "2022-03-22T06:37:46.888Z"
   },
   {
    "duration": 65,
    "start_time": "2022-03-22T06:37:47.141Z"
   },
   {
    "duration": 21,
    "start_time": "2022-03-22T06:40:28.635Z"
   },
   {
    "duration": 25,
    "start_time": "2022-03-22T06:40:58.127Z"
   },
   {
    "duration": 20,
    "start_time": "2022-03-22T06:41:40.892Z"
   },
   {
    "duration": 22,
    "start_time": "2022-03-22T06:54:22.854Z"
   },
   {
    "duration": 23,
    "start_time": "2022-03-22T06:56:17.629Z"
   },
   {
    "duration": 20,
    "start_time": "2022-03-22T06:57:00.996Z"
   },
   {
    "duration": 4,
    "start_time": "2022-03-22T06:57:05.152Z"
   },
   {
    "duration": 49,
    "start_time": "2022-03-22T06:57:05.158Z"
   },
   {
    "duration": 11,
    "start_time": "2022-03-22T06:57:05.209Z"
   },
   {
    "duration": 4,
    "start_time": "2022-03-22T06:57:05.222Z"
   },
   {
    "duration": 8,
    "start_time": "2022-03-22T06:57:05.228Z"
   },
   {
    "duration": 37,
    "start_time": "2022-03-22T06:57:05.237Z"
   },
   {
    "duration": 2,
    "start_time": "2022-03-22T06:57:05.276Z"
   },
   {
    "duration": 16,
    "start_time": "2022-03-22T06:57:05.280Z"
   },
   {
    "duration": 38,
    "start_time": "2022-03-22T06:57:05.298Z"
   },
   {
    "duration": 55,
    "start_time": "2022-03-22T06:57:05.337Z"
   },
   {
    "duration": 4,
    "start_time": "2022-03-22T06:57:05.395Z"
   },
   {
    "duration": 9,
    "start_time": "2022-03-22T06:57:05.401Z"
   },
   {
    "duration": 7,
    "start_time": "2022-03-22T06:57:05.411Z"
   },
   {
    "duration": 6,
    "start_time": "2022-03-22T06:57:05.419Z"
   },
   {
    "duration": 7,
    "start_time": "2022-03-22T06:57:05.427Z"
   },
   {
    "duration": 100,
    "start_time": "2022-03-22T06:57:05.464Z"
   },
   {
    "duration": 97,
    "start_time": "2022-03-22T06:57:05.566Z"
   },
   {
    "duration": 5,
    "start_time": "2022-03-22T06:57:05.665Z"
   },
   {
    "duration": 13,
    "start_time": "2022-03-22T06:57:05.672Z"
   },
   {
    "duration": 5,
    "start_time": "2022-03-22T06:57:05.687Z"
   },
   {
    "duration": 632,
    "start_time": "2022-03-22T06:57:05.693Z"
   },
   {
    "duration": 4864,
    "start_time": "2022-03-22T06:57:06.327Z"
   },
   {
    "duration": 2,
    "start_time": "2022-03-22T06:57:11.193Z"
   },
   {
    "duration": 206,
    "start_time": "2022-03-22T06:57:11.196Z"
   },
   {
    "duration": 5,
    "start_time": "2022-03-22T06:57:11.404Z"
   },
   {
    "duration": 10,
    "start_time": "2022-03-22T06:57:11.410Z"
   },
   {
    "duration": 6,
    "start_time": "2022-03-22T06:57:11.421Z"
   },
   {
    "duration": 6,
    "start_time": "2022-03-22T06:57:11.429Z"
   },
   {
    "duration": 34,
    "start_time": "2022-03-22T06:57:11.465Z"
   },
   {
    "duration": 62,
    "start_time": "2022-03-22T06:57:11.501Z"
   },
   {
    "duration": 25,
    "start_time": "2022-03-22T06:57:11.565Z"
   },
   {
    "duration": 100,
    "start_time": "2022-03-22T06:57:11.592Z"
   },
   {
    "duration": 6,
    "start_time": "2022-03-22T06:57:11.694Z"
   },
   {
    "duration": 65,
    "start_time": "2022-03-22T06:57:11.701Z"
   },
   {
    "duration": 395,
    "start_time": "2022-03-22T06:57:11.769Z"
   },
   {
    "duration": 200,
    "start_time": "2022-03-22T06:57:12.167Z"
   },
   {
    "duration": 331,
    "start_time": "2022-03-22T06:57:12.372Z"
   },
   {
    "duration": 5,
    "start_time": "2022-03-22T06:57:12.705Z"
   },
   {
    "duration": 216,
    "start_time": "2022-03-22T06:57:12.712Z"
   },
   {
    "duration": 327,
    "start_time": "2022-03-22T06:57:12.929Z"
   },
   {
    "duration": 69,
    "start_time": "2022-03-22T06:57:13.263Z"
   },
   {
    "duration": 164,
    "start_time": "2022-03-22T06:57:13.334Z"
   },
   {
    "duration": 4,
    "start_time": "2022-03-22T06:57:13.500Z"
   },
   {
    "duration": 4879,
    "start_time": "2022-03-22T06:57:13.506Z"
   },
   {
    "duration": 201,
    "start_time": "2022-03-22T06:57:18.387Z"
   },
   {
    "duration": 328,
    "start_time": "2022-03-22T06:57:18.590Z"
   },
   {
    "duration": 79,
    "start_time": "2022-03-22T06:57:18.919Z"
   },
   {
    "duration": 23,
    "start_time": "2022-03-22T06:58:18.348Z"
   },
   {
    "duration": 11,
    "start_time": "2022-03-22T06:59:42.128Z"
   },
   {
    "duration": 3,
    "start_time": "2022-03-22T06:59:46.663Z"
   },
   {
    "duration": 50,
    "start_time": "2022-03-22T06:59:46.668Z"
   },
   {
    "duration": 14,
    "start_time": "2022-03-22T06:59:46.720Z"
   },
   {
    "duration": 4,
    "start_time": "2022-03-22T06:59:46.736Z"
   },
   {
    "duration": 4,
    "start_time": "2022-03-22T06:59:46.764Z"
   },
   {
    "duration": 26,
    "start_time": "2022-03-22T06:59:46.770Z"
   },
   {
    "duration": 3,
    "start_time": "2022-03-22T06:59:46.798Z"
   },
   {
    "duration": 14,
    "start_time": "2022-03-22T06:59:46.803Z"
   },
   {
    "duration": 81,
    "start_time": "2022-03-22T06:59:46.818Z"
   },
   {
    "duration": 36,
    "start_time": "2022-03-22T06:59:46.900Z"
   },
   {
    "duration": 24,
    "start_time": "2022-03-22T06:59:46.939Z"
   },
   {
    "duration": 6,
    "start_time": "2022-03-22T06:59:46.965Z"
   },
   {
    "duration": 8,
    "start_time": "2022-03-22T06:59:46.972Z"
   },
   {
    "duration": 6,
    "start_time": "2022-03-22T06:59:46.982Z"
   },
   {
    "duration": 5,
    "start_time": "2022-03-22T06:59:46.989Z"
   },
   {
    "duration": 167,
    "start_time": "2022-03-22T06:59:46.996Z"
   },
   {
    "duration": 6,
    "start_time": "2022-03-22T06:59:47.165Z"
   },
   {
    "duration": 94,
    "start_time": "2022-03-22T06:59:47.173Z"
   },
   {
    "duration": 5,
    "start_time": "2022-03-22T06:59:47.269Z"
   },
   {
    "duration": 5,
    "start_time": "2022-03-22T06:59:47.276Z"
   },
   {
    "duration": 740,
    "start_time": "2022-03-22T06:59:47.283Z"
   },
   {
    "duration": 6065,
    "start_time": "2022-03-22T06:59:48.025Z"
   },
   {
    "duration": 3,
    "start_time": "2022-03-22T06:59:54.091Z"
   },
   {
    "duration": 256,
    "start_time": "2022-03-22T06:59:54.096Z"
   },
   {
    "duration": 12,
    "start_time": "2022-03-22T06:59:54.354Z"
   },
   {
    "duration": 7,
    "start_time": "2022-03-22T06:59:54.368Z"
   },
   {
    "duration": 6,
    "start_time": "2022-03-22T06:59:54.377Z"
   },
   {
    "duration": 6,
    "start_time": "2022-03-22T06:59:54.385Z"
   },
   {
    "duration": 71,
    "start_time": "2022-03-22T06:59:54.395Z"
   },
   {
    "duration": 50,
    "start_time": "2022-03-22T06:59:54.469Z"
   },
   {
    "duration": 47,
    "start_time": "2022-03-22T06:59:54.520Z"
   },
   {
    "duration": 94,
    "start_time": "2022-03-22T06:59:54.568Z"
   },
   {
    "duration": 6,
    "start_time": "2022-03-22T06:59:54.664Z"
   },
   {
    "duration": 192,
    "start_time": "2022-03-22T06:59:54.672Z"
   },
   {
    "duration": 302,
    "start_time": "2022-03-22T06:59:54.866Z"
   },
   {
    "duration": 198,
    "start_time": "2022-03-22T06:59:55.170Z"
   },
   {
    "duration": 433,
    "start_time": "2022-03-22T06:59:55.370Z"
   },
   {
    "duration": 5,
    "start_time": "2022-03-22T06:59:55.805Z"
   },
   {
    "duration": 262,
    "start_time": "2022-03-22T06:59:55.811Z"
   },
   {
    "duration": 394,
    "start_time": "2022-03-22T06:59:56.075Z"
   },
   {
    "duration": 77,
    "start_time": "2022-03-22T06:59:56.471Z"
   },
   {
    "duration": 178,
    "start_time": "2022-03-22T06:59:56.562Z"
   },
   {
    "duration": 7,
    "start_time": "2022-03-22T06:59:56.742Z"
   },
   {
    "duration": 5877,
    "start_time": "2022-03-22T06:59:56.763Z"
   },
   {
    "duration": 242,
    "start_time": "2022-03-22T07:00:02.642Z"
   },
   {
    "duration": 404,
    "start_time": "2022-03-22T07:00:02.886Z"
   },
   {
    "duration": 91,
    "start_time": "2022-03-22T07:00:03.292Z"
   },
   {
    "duration": 41,
    "start_time": "2022-03-22T07:00:36.282Z"
   },
   {
    "duration": 13,
    "start_time": "2022-03-22T07:25:38.177Z"
   },
   {
    "duration": 16,
    "start_time": "2022-03-22T07:29:08.185Z"
   },
   {
    "duration": 15,
    "start_time": "2022-03-22T07:29:29.512Z"
   },
   {
    "duration": 15,
    "start_time": "2022-03-22T07:29:45.777Z"
   },
   {
    "duration": 73,
    "start_time": "2022-03-22T12:53:29.551Z"
   },
   {
    "duration": 1634,
    "start_time": "2022-03-22T12:53:32.955Z"
   },
   {
    "duration": 66,
    "start_time": "2022-03-22T12:53:34.592Z"
   },
   {
    "duration": 28,
    "start_time": "2022-03-22T12:53:34.661Z"
   },
   {
    "duration": 6,
    "start_time": "2022-03-22T12:53:34.692Z"
   },
   {
    "duration": 7,
    "start_time": "2022-03-22T12:53:34.700Z"
   },
   {
    "duration": 7,
    "start_time": "2022-03-22T12:53:34.709Z"
   },
   {
    "duration": 68,
    "start_time": "2022-03-22T12:53:34.718Z"
   },
   {
    "duration": 3,
    "start_time": "2022-03-22T12:53:34.789Z"
   },
   {
    "duration": 28,
    "start_time": "2022-03-22T12:53:34.795Z"
   },
   {
    "duration": 87,
    "start_time": "2022-03-22T12:53:34.827Z"
   },
   {
    "duration": 67,
    "start_time": "2022-03-22T12:53:34.917Z"
   },
   {
    "duration": 7,
    "start_time": "2022-03-22T12:53:34.986Z"
   },
   {
    "duration": 9,
    "start_time": "2022-03-22T12:53:34.995Z"
   },
   {
    "duration": 8,
    "start_time": "2022-03-22T12:53:35.006Z"
   },
   {
    "duration": 18,
    "start_time": "2022-03-22T12:53:35.016Z"
   },
   {
    "duration": 15,
    "start_time": "2022-03-22T12:53:35.036Z"
   },
   {
    "duration": 40,
    "start_time": "2022-03-22T12:53:35.053Z"
   },
   {
    "duration": 193,
    "start_time": "2022-03-22T12:53:35.095Z"
   },
   {
    "duration": 98,
    "start_time": "2022-03-22T12:53:35.291Z"
   },
   {
    "duration": 96,
    "start_time": "2022-03-22T12:53:35.391Z"
   },
   {
    "duration": 7,
    "start_time": "2022-03-22T12:53:35.490Z"
   },
   {
    "duration": 8,
    "start_time": "2022-03-22T12:53:35.499Z"
   },
   {
    "duration": 77,
    "start_time": "2022-03-22T12:53:35.509Z"
   },
   {
    "duration": 1225,
    "start_time": "2022-03-22T12:53:35.589Z"
   },
   {
    "duration": 9311,
    "start_time": "2022-03-22T12:53:36.816Z"
   },
   {
    "duration": 3,
    "start_time": "2022-03-22T12:53:46.129Z"
   },
   {
    "duration": 393,
    "start_time": "2022-03-22T12:53:46.134Z"
   },
   {
    "duration": 6,
    "start_time": "2022-03-22T12:53:46.532Z"
   },
   {
    "duration": 9,
    "start_time": "2022-03-22T12:53:46.540Z"
   },
   {
    "duration": 33,
    "start_time": "2022-03-22T12:53:46.551Z"
   },
   {
    "duration": 7,
    "start_time": "2022-03-22T12:53:46.586Z"
   },
   {
    "duration": 33,
    "start_time": "2022-03-22T12:53:46.596Z"
   },
   {
    "duration": 77,
    "start_time": "2022-03-22T12:53:46.631Z"
   },
   {
    "duration": 84,
    "start_time": "2022-03-22T12:53:46.711Z"
   },
   {
    "duration": 41,
    "start_time": "2022-03-22T12:53:46.797Z"
   },
   {
    "duration": 154,
    "start_time": "2022-03-22T12:53:46.840Z"
   },
   {
    "duration": 7,
    "start_time": "2022-03-22T12:53:46.996Z"
   },
   {
    "duration": 188,
    "start_time": "2022-03-22T12:53:47.006Z"
   },
   {
    "duration": 407,
    "start_time": "2022-03-22T12:53:47.286Z"
   },
   {
    "duration": 208,
    "start_time": "2022-03-22T12:53:47.786Z"
   },
   {
    "duration": 477,
    "start_time": "2022-03-22T12:53:48.086Z"
   },
   {
    "duration": 23,
    "start_time": "2022-03-22T12:53:48.565Z"
   },
   {
    "duration": 436,
    "start_time": "2022-03-22T12:53:48.590Z"
   },
   {
    "duration": 769,
    "start_time": "2022-03-22T12:53:49.028Z"
   },
   {
    "duration": 133,
    "start_time": "2022-03-22T12:53:49.799Z"
   },
   {
    "duration": 297,
    "start_time": "2022-03-22T12:53:49.935Z"
   },
   {
    "duration": 8,
    "start_time": "2022-03-22T12:53:50.234Z"
   },
   {
    "duration": 9121,
    "start_time": "2022-03-22T12:53:50.244Z"
   },
   {
    "duration": 369,
    "start_time": "2022-03-22T12:53:59.367Z"
   },
   {
    "duration": 655,
    "start_time": "2022-03-22T12:53:59.738Z"
   },
   {
    "duration": 137,
    "start_time": "2022-03-22T12:54:00.395Z"
   },
   {
    "duration": 8,
    "start_time": "2022-03-22T12:54:37.870Z"
   },
   {
    "duration": 12,
    "start_time": "2022-03-22T13:02:46.417Z"
   },
   {
    "duration": 32,
    "start_time": "2022-03-22T13:02:47.017Z"
   },
   {
    "duration": 6,
    "start_time": "2022-03-22T13:03:36.391Z"
   },
   {
    "duration": 54,
    "start_time": "2022-03-22T13:03:36.400Z"
   },
   {
    "duration": 41,
    "start_time": "2022-03-22T13:03:36.456Z"
   },
   {
    "duration": 5,
    "start_time": "2022-03-22T13:03:36.500Z"
   },
   {
    "duration": 10,
    "start_time": "2022-03-22T13:03:36.508Z"
   },
   {
    "duration": 9,
    "start_time": "2022-03-22T13:03:36.520Z"
   },
   {
    "duration": 53,
    "start_time": "2022-03-22T13:03:36.532Z"
   },
   {
    "duration": 16,
    "start_time": "2022-03-22T13:03:36.587Z"
   },
   {
    "duration": 34,
    "start_time": "2022-03-22T13:03:36.606Z"
   },
   {
    "duration": 3,
    "start_time": "2022-03-22T13:03:36.642Z"
   },
   {
    "duration": 46,
    "start_time": "2022-03-22T13:03:36.647Z"
   },
   {
    "duration": 90,
    "start_time": "2022-03-22T13:03:36.696Z"
   },
   {
    "duration": 55,
    "start_time": "2022-03-22T13:03:36.789Z"
   },
   {
    "duration": 7,
    "start_time": "2022-03-22T13:03:36.847Z"
   },
   {
    "duration": 9,
    "start_time": "2022-03-22T13:03:36.883Z"
   },
   {
    "duration": 7,
    "start_time": "2022-03-22T13:03:36.895Z"
   },
   {
    "duration": 7,
    "start_time": "2022-03-22T13:03:36.904Z"
   },
   {
    "duration": 7,
    "start_time": "2022-03-22T13:03:36.913Z"
   },
   {
    "duration": 14,
    "start_time": "2022-03-22T13:03:36.922Z"
   },
   {
    "duration": 347,
    "start_time": "2022-03-22T13:03:36.938Z"
   },
   {
    "duration": 97,
    "start_time": "2022-03-22T13:03:37.289Z"
   },
   {
    "duration": 7,
    "start_time": "2022-03-22T13:03:37.388Z"
   },
   {
    "duration": 11,
    "start_time": "2022-03-22T13:03:37.398Z"
   },
   {
    "duration": 7,
    "start_time": "2022-03-22T13:03:37.415Z"
   },
   {
    "duration": 69,
    "start_time": "2022-03-22T13:03:37.424Z"
   },
   {
    "duration": 1087,
    "start_time": "2022-03-22T13:03:37.585Z"
   },
   {
    "duration": 9059,
    "start_time": "2022-03-22T13:03:38.675Z"
   },
   {
    "duration": 4,
    "start_time": "2022-03-22T13:03:47.737Z"
   },
   {
    "duration": 357,
    "start_time": "2022-03-22T13:03:47.744Z"
   },
   {
    "duration": 6,
    "start_time": "2022-03-22T13:03:48.103Z"
   },
   {
    "duration": 12,
    "start_time": "2022-03-22T13:03:48.111Z"
   },
   {
    "duration": 8,
    "start_time": "2022-03-22T13:03:48.125Z"
   },
   {
    "duration": 9,
    "start_time": "2022-03-22T13:03:48.136Z"
   },
   {
    "duration": 61,
    "start_time": "2022-03-22T13:03:48.148Z"
   },
   {
    "duration": 78,
    "start_time": "2022-03-22T13:03:48.211Z"
   },
   {
    "duration": 93,
    "start_time": "2022-03-22T13:03:48.291Z"
   },
   {
    "duration": 44,
    "start_time": "2022-03-22T13:03:48.386Z"
   },
   {
    "duration": 166,
    "start_time": "2022-03-22T13:03:48.432Z"
   },
   {
    "duration": 8,
    "start_time": "2022-03-22T13:03:48.601Z"
   },
   {
    "duration": 180,
    "start_time": "2022-03-22T13:03:48.611Z"
   },
   {
    "duration": 697,
    "start_time": "2022-03-22T13:03:48.794Z"
   },
   {
    "duration": 393,
    "start_time": "2022-03-22T13:03:49.494Z"
   },
   {
    "duration": 663,
    "start_time": "2022-03-22T13:03:49.891Z"
   },
   {
    "duration": 7,
    "start_time": "2022-03-22T13:03:50.556Z"
   },
   {
    "duration": 361,
    "start_time": "2022-03-22T13:03:50.584Z"
   },
   {
    "duration": 640,
    "start_time": "2022-03-22T13:03:50.947Z"
   },
   {
    "duration": 127,
    "start_time": "2022-03-22T13:03:51.589Z"
   },
   {
    "duration": 282,
    "start_time": "2022-03-22T13:03:51.719Z"
   },
   {
    "duration": 7,
    "start_time": "2022-03-22T13:03:52.003Z"
   },
   {
    "duration": 9160,
    "start_time": "2022-03-22T13:03:52.012Z"
   },
   {
    "duration": 449,
    "start_time": "2022-03-22T13:04:01.175Z"
   },
   {
    "duration": 649,
    "start_time": "2022-03-22T13:04:01.627Z"
   },
   {
    "duration": 127,
    "start_time": "2022-03-22T13:04:02.283Z"
   },
   {
    "duration": 18,
    "start_time": "2022-03-22T13:08:25.208Z"
   },
   {
    "duration": 9,
    "start_time": "2022-03-22T14:02:14.678Z"
   },
   {
    "duration": 7,
    "start_time": "2022-03-22T14:12:22.157Z"
   },
   {
    "duration": 1997,
    "start_time": "2022-03-22T18:15:01.115Z"
   },
   {
    "duration": 100,
    "start_time": "2022-03-22T18:15:03.116Z"
   },
   {
    "duration": 27,
    "start_time": "2022-03-22T18:15:03.219Z"
   },
   {
    "duration": 8,
    "start_time": "2022-03-22T18:15:03.250Z"
   },
   {
    "duration": 30,
    "start_time": "2022-03-22T18:15:03.260Z"
   },
   {
    "duration": 11,
    "start_time": "2022-03-22T18:15:03.293Z"
   },
   {
    "duration": 38,
    "start_time": "2022-03-22T18:15:03.307Z"
   },
   {
    "duration": 31,
    "start_time": "2022-03-22T18:15:03.347Z"
   },
   {
    "duration": 50,
    "start_time": "2022-03-22T18:15:03.380Z"
   },
   {
    "duration": 11,
    "start_time": "2022-03-22T18:15:03.434Z"
   },
   {
    "duration": 44,
    "start_time": "2022-03-22T18:15:03.448Z"
   },
   {
    "duration": 112,
    "start_time": "2022-03-22T18:15:03.494Z"
   },
   {
    "duration": 10,
    "start_time": "2022-03-22T18:15:03.609Z"
   },
   {
    "duration": 80,
    "start_time": "2022-03-22T18:15:03.622Z"
   },
   {
    "duration": 8,
    "start_time": "2022-03-22T18:15:03.704Z"
   },
   {
    "duration": 22,
    "start_time": "2022-03-22T18:15:03.715Z"
   },
   {
    "duration": 14,
    "start_time": "2022-03-22T18:15:03.740Z"
   },
   {
    "duration": 30,
    "start_time": "2022-03-22T18:15:03.756Z"
   },
   {
    "duration": 8,
    "start_time": "2022-03-22T18:15:03.788Z"
   },
   {
    "duration": 14,
    "start_time": "2022-03-22T18:15:03.798Z"
   },
   {
    "duration": 374,
    "start_time": "2022-03-22T18:15:03.814Z"
   },
   {
    "duration": 95,
    "start_time": "2022-03-22T18:15:04.191Z"
   },
   {
    "duration": 95,
    "start_time": "2022-03-22T18:15:04.290Z"
   },
   {
    "duration": 8,
    "start_time": "2022-03-22T18:15:04.388Z"
   },
   {
    "duration": 17,
    "start_time": "2022-03-22T18:15:04.398Z"
   },
   {
    "duration": 75,
    "start_time": "2022-03-22T18:15:04.417Z"
   },
   {
    "duration": 1242,
    "start_time": "2022-03-22T18:15:04.495Z"
   },
   {
    "duration": 8578,
    "start_time": "2022-03-22T18:15:05.742Z"
   },
   {
    "duration": 5,
    "start_time": "2022-03-22T18:15:14.322Z"
   },
   {
    "duration": 365,
    "start_time": "2022-03-22T18:15:14.330Z"
   },
   {
    "duration": 8,
    "start_time": "2022-03-22T18:15:14.698Z"
   },
   {
    "duration": 17,
    "start_time": "2022-03-22T18:15:14.709Z"
   },
   {
    "duration": 12,
    "start_time": "2022-03-22T18:15:14.729Z"
   },
   {
    "duration": 40,
    "start_time": "2022-03-22T18:15:14.744Z"
   },
   {
    "duration": 29,
    "start_time": "2022-03-22T18:15:14.787Z"
   },
   {
    "duration": 80,
    "start_time": "2022-03-22T18:15:14.820Z"
   },
   {
    "duration": 86,
    "start_time": "2022-03-22T18:15:14.903Z"
   },
   {
    "duration": 44,
    "start_time": "2022-03-22T18:15:14.992Z"
   },
   {
    "duration": 164,
    "start_time": "2022-03-22T18:15:15.039Z"
   },
   {
    "duration": 9,
    "start_time": "2022-03-22T18:15:15.206Z"
   },
   {
    "duration": 273,
    "start_time": "2022-03-22T18:15:15.218Z"
   },
   {
    "duration": 697,
    "start_time": "2022-03-22T18:15:15.494Z"
   },
   {
    "duration": 399,
    "start_time": "2022-03-22T18:15:16.193Z"
   },
   {
    "duration": 762,
    "start_time": "2022-03-22T18:15:16.686Z"
   },
   {
    "duration": 9,
    "start_time": "2022-03-22T18:15:17.450Z"
   },
   {
    "duration": 349,
    "start_time": "2022-03-22T18:15:17.484Z"
   },
   {
    "duration": 749,
    "start_time": "2022-03-22T18:15:17.836Z"
   },
   {
    "duration": 182,
    "start_time": "2022-03-22T18:15:18.588Z"
   },
   {
    "duration": 281,
    "start_time": "2022-03-22T18:15:18.773Z"
   },
   {
    "duration": 9,
    "start_time": "2022-03-22T18:15:19.057Z"
   },
   {
    "duration": 8682,
    "start_time": "2022-03-22T18:15:19.084Z"
   },
   {
    "duration": 354,
    "start_time": "2022-03-22T18:15:27.768Z"
   },
   {
    "duration": 631,
    "start_time": "2022-03-22T18:15:28.125Z"
   },
   {
    "duration": 126,
    "start_time": "2022-03-22T18:15:28.758Z"
   },
   {
    "duration": 6,
    "start_time": "2022-03-22T18:53:36.285Z"
   },
   {
    "duration": 92,
    "start_time": "2022-03-22T18:53:36.294Z"
   },
   {
    "duration": 17,
    "start_time": "2022-03-22T18:53:36.389Z"
   },
   {
    "duration": 6,
    "start_time": "2022-03-22T18:53:36.410Z"
   },
   {
    "duration": 8,
    "start_time": "2022-03-22T18:53:36.418Z"
   },
   {
    "duration": 17,
    "start_time": "2022-03-22T18:53:36.428Z"
   },
   {
    "duration": 40,
    "start_time": "2022-03-22T18:53:36.447Z"
   },
   {
    "duration": 16,
    "start_time": "2022-03-22T18:53:36.489Z"
   },
   {
    "duration": 31,
    "start_time": "2022-03-22T18:53:36.507Z"
   },
   {
    "duration": 11,
    "start_time": "2022-03-22T18:53:36.542Z"
   },
   {
    "duration": 41,
    "start_time": "2022-03-22T18:53:36.555Z"
   },
   {
    "duration": 71,
    "start_time": "2022-03-22T18:53:36.598Z"
   },
   {
    "duration": 8,
    "start_time": "2022-03-22T18:53:36.685Z"
   },
   {
    "duration": 75,
    "start_time": "2022-03-22T18:53:36.695Z"
   },
   {
    "duration": 14,
    "start_time": "2022-03-22T18:53:36.772Z"
   },
   {
    "duration": 21,
    "start_time": "2022-03-22T18:53:36.788Z"
   },
   {
    "duration": 22,
    "start_time": "2022-03-22T18:53:36.812Z"
   },
   {
    "duration": 18,
    "start_time": "2022-03-22T18:53:36.837Z"
   },
   {
    "duration": 29,
    "start_time": "2022-03-22T18:53:36.857Z"
   },
   {
    "duration": 34,
    "start_time": "2022-03-22T18:53:36.888Z"
   },
   {
    "duration": 267,
    "start_time": "2022-03-22T18:53:36.925Z"
   },
   {
    "duration": 99,
    "start_time": "2022-03-22T18:53:37.286Z"
   },
   {
    "duration": 16,
    "start_time": "2022-03-22T18:53:37.387Z"
   },
   {
    "duration": 12,
    "start_time": "2022-03-22T18:53:37.406Z"
   },
   {
    "duration": 9,
    "start_time": "2022-03-22T18:53:37.420Z"
   },
   {
    "duration": 59,
    "start_time": "2022-03-22T18:53:37.432Z"
   },
   {
    "duration": 1413,
    "start_time": "2022-03-22T18:53:37.494Z"
   },
   {
    "duration": 8779,
    "start_time": "2022-03-22T18:53:38.915Z"
   },
   {
    "duration": 4,
    "start_time": "2022-03-22T18:53:47.697Z"
   },
   {
    "duration": 369,
    "start_time": "2022-03-22T18:53:47.704Z"
   },
   {
    "duration": 12,
    "start_time": "2022-03-22T18:53:48.075Z"
   },
   {
    "duration": 10,
    "start_time": "2022-03-22T18:53:48.089Z"
   },
   {
    "duration": 7,
    "start_time": "2022-03-22T18:53:48.101Z"
   },
   {
    "duration": 8,
    "start_time": "2022-03-22T18:53:48.111Z"
   },
   {
    "duration": 73,
    "start_time": "2022-03-22T18:53:48.121Z"
   },
   {
    "duration": 53,
    "start_time": "2022-03-22T18:53:48.197Z"
   },
   {
    "duration": 98,
    "start_time": "2022-03-22T18:53:48.252Z"
   },
   {
    "duration": 54,
    "start_time": "2022-03-22T18:53:48.353Z"
   },
   {
    "duration": 178,
    "start_time": "2022-03-22T18:53:48.410Z"
   },
   {
    "duration": 9,
    "start_time": "2022-03-22T18:53:48.591Z"
   },
   {
    "duration": 197,
    "start_time": "2022-03-22T18:53:48.603Z"
   },
   {
    "duration": 605,
    "start_time": "2022-03-22T18:53:48.886Z"
   },
   {
    "duration": 393,
    "start_time": "2022-03-22T18:53:49.493Z"
   },
   {
    "duration": 640,
    "start_time": "2022-03-22T18:53:49.890Z"
   },
   {
    "duration": 9,
    "start_time": "2022-03-22T18:53:50.532Z"
   },
   {
    "duration": 369,
    "start_time": "2022-03-22T18:53:50.543Z"
   },
   {
    "duration": 659,
    "start_time": "2022-03-22T18:53:50.915Z"
   },
   {
    "duration": 136,
    "start_time": "2022-03-22T18:53:51.576Z"
   },
   {
    "duration": 274,
    "start_time": "2022-03-22T18:53:51.715Z"
   },
   {
    "duration": 10,
    "start_time": "2022-03-22T18:53:51.992Z"
   },
   {
    "duration": 8695,
    "start_time": "2022-03-22T18:53:52.004Z"
   },
   {
    "duration": 355,
    "start_time": "2022-03-22T18:54:00.701Z"
   },
   {
    "duration": 651,
    "start_time": "2022-03-22T18:54:01.058Z"
   },
   {
    "duration": 140,
    "start_time": "2022-03-22T18:54:01.712Z"
   },
   {
    "duration": 45,
    "start_time": "2022-03-22T18:57:02.989Z"
   },
   {
    "duration": 73,
    "start_time": "2022-03-22T18:57:11.820Z"
   },
   {
    "duration": 5,
    "start_time": "2022-03-22T18:57:56.495Z"
   },
   {
    "duration": 43,
    "start_time": "2022-03-22T18:58:12.280Z"
   },
   {
    "duration": 5,
    "start_time": "2022-03-22T18:58:24.036Z"
   },
   {
    "duration": 74,
    "start_time": "2022-03-22T20:17:18.658Z"
   },
   {
    "duration": 5,
    "start_time": "2022-03-22T20:18:35.920Z"
   },
   {
    "duration": 5,
    "start_time": "2022-03-22T20:19:37.196Z"
   },
   {
    "duration": 6,
    "start_time": "2022-03-22T20:27:26.793Z"
   },
   {
    "duration": 4,
    "start_time": "2022-03-22T20:27:39.494Z"
   },
   {
    "duration": 4,
    "start_time": "2022-03-22T20:27:47.771Z"
   },
   {
    "duration": 5,
    "start_time": "2022-03-22T20:28:00.974Z"
   },
   {
    "duration": 6,
    "start_time": "2022-03-22T20:28:21.547Z"
   },
   {
    "duration": 6,
    "start_time": "2022-03-22T20:28:30.032Z"
   },
   {
    "duration": 5,
    "start_time": "2022-03-22T20:28:53.776Z"
   },
   {
    "duration": 6,
    "start_time": "2022-03-22T20:35:56.885Z"
   },
   {
    "duration": 182,
    "start_time": "2022-03-22T20:35:56.893Z"
   },
   {
    "duration": 20,
    "start_time": "2022-03-22T20:35:57.077Z"
   },
   {
    "duration": 6,
    "start_time": "2022-03-22T20:35:57.100Z"
   },
   {
    "duration": 7,
    "start_time": "2022-03-22T20:35:57.108Z"
   },
   {
    "duration": 8,
    "start_time": "2022-03-22T20:35:57.118Z"
   },
   {
    "duration": 7,
    "start_time": "2022-03-22T20:35:57.129Z"
   },
   {
    "duration": 50,
    "start_time": "2022-03-22T20:35:57.138Z"
   },
   {
    "duration": 44,
    "start_time": "2022-03-22T20:35:57.190Z"
   },
   {
    "duration": 3,
    "start_time": "2022-03-22T20:35:57.239Z"
   },
   {
    "duration": 45,
    "start_time": "2022-03-22T20:35:57.244Z"
   },
   {
    "duration": 67,
    "start_time": "2022-03-22T20:35:57.291Z"
   },
   {
    "duration": 26,
    "start_time": "2022-03-22T20:35:57.360Z"
   },
   {
    "duration": 56,
    "start_time": "2022-03-22T20:35:57.388Z"
   },
   {
    "duration": 7,
    "start_time": "2022-03-22T20:35:57.446Z"
   },
   {
    "duration": 34,
    "start_time": "2022-03-22T20:35:57.455Z"
   },
   {
    "duration": 9,
    "start_time": "2022-03-22T20:35:57.491Z"
   },
   {
    "duration": 11,
    "start_time": "2022-03-22T20:35:57.502Z"
   },
   {
    "duration": 8,
    "start_time": "2022-03-22T20:35:57.516Z"
   },
   {
    "duration": 14,
    "start_time": "2022-03-22T20:35:57.526Z"
   },
   {
    "duration": 347,
    "start_time": "2022-03-22T20:35:57.542Z"
   },
   {
    "duration": 97,
    "start_time": "2022-03-22T20:35:57.892Z"
   },
   {
    "duration": 103,
    "start_time": "2022-03-22T20:35:57.993Z"
   },
   {
    "duration": 8,
    "start_time": "2022-03-22T20:35:58.098Z"
   },
   {
    "duration": 9,
    "start_time": "2022-03-22T20:35:58.109Z"
   },
   {
    "duration": 70,
    "start_time": "2022-03-22T20:35:58.120Z"
   },
   {
    "duration": 1268,
    "start_time": "2022-03-22T20:35:58.193Z"
   },
   {
    "duration": 9071,
    "start_time": "2022-03-22T20:35:59.466Z"
   },
   {
    "duration": 4,
    "start_time": "2022-03-22T20:36:08.539Z"
   },
   {
    "duration": 352,
    "start_time": "2022-03-22T20:36:08.544Z"
   },
   {
    "duration": 7,
    "start_time": "2022-03-22T20:36:08.898Z"
   },
   {
    "duration": 9,
    "start_time": "2022-03-22T20:36:08.907Z"
   },
   {
    "duration": 8,
    "start_time": "2022-03-22T20:36:08.919Z"
   },
   {
    "duration": 9,
    "start_time": "2022-03-22T20:36:08.930Z"
   },
   {
    "duration": 31,
    "start_time": "2022-03-22T20:36:08.984Z"
   },
   {
    "duration": 84,
    "start_time": "2022-03-22T20:36:09.018Z"
   },
   {
    "duration": 89,
    "start_time": "2022-03-22T20:36:09.104Z"
   },
   {
    "duration": 6,
    "start_time": "2022-03-22T20:36:09.196Z"
   },
   {
    "duration": 66,
    "start_time": "2022-03-22T20:36:09.206Z"
   },
   {
    "duration": 10,
    "start_time": "2022-03-22T20:36:09.275Z"
   },
   {
    "duration": 148,
    "start_time": "2022-03-22T20:36:09.287Z"
   },
   {
    "duration": 7,
    "start_time": "2022-03-22T20:36:09.437Z"
   },
   {
    "duration": 247,
    "start_time": "2022-03-22T20:36:09.446Z"
   },
   {
    "duration": 605,
    "start_time": "2022-03-22T20:36:09.786Z"
   },
   {
    "duration": 93,
    "start_time": "2022-03-22T20:36:10.394Z"
   },
   {
    "duration": 301,
    "start_time": "2022-03-22T20:36:10.490Z"
   },
   {
    "duration": 5,
    "start_time": "2022-03-22T20:36:10.883Z"
   },
   {
    "duration": 555,
    "start_time": "2022-03-22T20:36:10.890Z"
   },
   {
    "duration": 7,
    "start_time": "2022-03-22T20:36:11.448Z"
   },
   {
    "duration": 368,
    "start_time": "2022-03-22T20:36:11.457Z"
   },
   {
    "duration": 647,
    "start_time": "2022-03-22T20:36:11.827Z"
   },
   {
    "duration": 6,
    "start_time": "2022-03-22T20:36:12.484Z"
   },
   {
    "duration": 129,
    "start_time": "2022-03-22T20:36:12.492Z"
   },
   {
    "duration": 5,
    "start_time": "2022-03-22T20:36:12.624Z"
   },
   {
    "duration": 286,
    "start_time": "2022-03-22T20:36:12.631Z"
   },
   {
    "duration": 8,
    "start_time": "2022-03-22T20:36:12.919Z"
   },
   {
    "duration": 9107,
    "start_time": "2022-03-22T20:36:12.929Z"
   },
   {
    "duration": 361,
    "start_time": "2022-03-22T20:36:22.039Z"
   },
   {
    "duration": 640,
    "start_time": "2022-03-22T20:36:22.403Z"
   },
   {
    "duration": 131,
    "start_time": "2022-03-22T20:36:23.045Z"
   },
   {
    "duration": 6,
    "start_time": "2022-03-22T20:43:22.063Z"
   },
   {
    "duration": 59,
    "start_time": "2022-03-22T20:43:22.073Z"
   },
   {
    "duration": 19,
    "start_time": "2022-03-22T20:43:22.135Z"
   },
   {
    "duration": 6,
    "start_time": "2022-03-22T20:43:22.185Z"
   },
   {
    "duration": 10,
    "start_time": "2022-03-22T20:43:22.193Z"
   },
   {
    "duration": 16,
    "start_time": "2022-03-22T20:43:22.205Z"
   },
   {
    "duration": 10,
    "start_time": "2022-03-22T20:43:22.224Z"
   },
   {
    "duration": 54,
    "start_time": "2022-03-22T20:43:22.236Z"
   },
   {
    "duration": 36,
    "start_time": "2022-03-22T20:43:22.293Z"
   },
   {
    "duration": 4,
    "start_time": "2022-03-22T20:43:22.335Z"
   },
   {
    "duration": 43,
    "start_time": "2022-03-22T20:43:22.342Z"
   },
   {
    "duration": 65,
    "start_time": "2022-03-22T20:43:22.387Z"
   },
   {
    "duration": 30,
    "start_time": "2022-03-22T20:43:22.454Z"
   },
   {
    "duration": 55,
    "start_time": "2022-03-22T20:43:22.486Z"
   },
   {
    "duration": 6,
    "start_time": "2022-03-22T20:43:22.544Z"
   },
   {
    "duration": 39,
    "start_time": "2022-03-22T20:43:22.552Z"
   },
   {
    "duration": 18,
    "start_time": "2022-03-22T20:43:22.593Z"
   },
   {
    "duration": 11,
    "start_time": "2022-03-22T20:43:22.613Z"
   },
   {
    "duration": 7,
    "start_time": "2022-03-22T20:43:22.626Z"
   },
   {
    "duration": 14,
    "start_time": "2022-03-22T20:43:22.635Z"
   },
   {
    "duration": 334,
    "start_time": "2022-03-22T20:43:22.651Z"
   },
   {
    "duration": 95,
    "start_time": "2022-03-22T20:43:22.990Z"
   },
   {
    "duration": 14,
    "start_time": "2022-03-22T20:43:23.087Z"
   },
   {
    "duration": 6,
    "start_time": "2022-03-22T20:43:23.104Z"
   },
   {
    "duration": 10,
    "start_time": "2022-03-22T20:43:23.112Z"
   },
   {
    "duration": 60,
    "start_time": "2022-03-22T20:43:23.125Z"
   },
   {
    "duration": 1183,
    "start_time": "2022-03-22T20:43:23.189Z"
   },
   {
    "duration": 9029,
    "start_time": "2022-03-22T20:43:24.378Z"
   },
   {
    "duration": 4,
    "start_time": "2022-03-22T20:43:33.409Z"
   },
   {
    "duration": 382,
    "start_time": "2022-03-22T20:43:33.415Z"
   },
   {
    "duration": 7,
    "start_time": "2022-03-22T20:43:33.800Z"
   },
   {
    "duration": 11,
    "start_time": "2022-03-22T20:43:33.810Z"
   },
   {
    "duration": 12,
    "start_time": "2022-03-22T20:43:33.823Z"
   },
   {
    "duration": 16,
    "start_time": "2022-03-22T20:43:33.837Z"
   },
   {
    "duration": 31,
    "start_time": "2022-03-22T20:43:33.884Z"
   },
   {
    "duration": 74,
    "start_time": "2022-03-22T20:43:33.917Z"
   },
   {
    "duration": 90,
    "start_time": "2022-03-22T20:43:33.994Z"
   },
   {
    "duration": 6,
    "start_time": "2022-03-22T20:43:34.087Z"
   },
   {
    "duration": 49,
    "start_time": "2022-03-22T20:43:34.096Z"
   },
   {
    "duration": 6,
    "start_time": "2022-03-22T20:43:34.147Z"
   },
   {
    "duration": 147,
    "start_time": "2022-03-22T20:43:34.184Z"
   },
   {
    "duration": 8,
    "start_time": "2022-03-22T20:43:34.333Z"
   },
   {
    "duration": 250,
    "start_time": "2022-03-22T20:43:34.343Z"
   },
   {
    "duration": 606,
    "start_time": "2022-03-22T20:43:34.685Z"
   },
   {
    "duration": 93,
    "start_time": "2022-03-22T20:43:35.294Z"
   },
   {
    "duration": 204,
    "start_time": "2022-03-22T20:43:35.389Z"
   },
   {
    "duration": 97,
    "start_time": "2022-03-22T20:43:35.689Z"
   },
   {
    "duration": 560,
    "start_time": "2022-03-22T20:43:35.789Z"
   },
   {
    "duration": 9,
    "start_time": "2022-03-22T20:43:36.351Z"
   },
   {
    "duration": 363,
    "start_time": "2022-03-22T20:43:36.362Z"
   },
   {
    "duration": 739,
    "start_time": "2022-03-22T20:43:36.728Z"
   },
   {
    "duration": 15,
    "start_time": "2022-03-22T20:43:37.470Z"
   },
   {
    "duration": 128,
    "start_time": "2022-03-22T20:43:37.487Z"
   },
   {
    "duration": 6,
    "start_time": "2022-03-22T20:43:37.617Z"
   },
   {
    "duration": 289,
    "start_time": "2022-03-22T20:43:37.625Z"
   },
   {
    "duration": 8,
    "start_time": "2022-03-22T20:43:37.916Z"
   },
   {
    "duration": 8724,
    "start_time": "2022-03-22T20:43:37.926Z"
   },
   {
    "duration": 349,
    "start_time": "2022-03-22T20:43:46.652Z"
   },
   {
    "duration": 640,
    "start_time": "2022-03-22T20:43:47.003Z"
   },
   {
    "duration": 128,
    "start_time": "2022-03-22T20:43:47.645Z"
   },
   {
    "duration": 386,
    "start_time": "2022-03-22T20:52:07.507Z"
   },
   {
    "duration": 1161,
    "start_time": "2022-03-23T05:40:22.147Z"
   },
   {
    "duration": 44,
    "start_time": "2022-03-23T05:40:23.310Z"
   },
   {
    "duration": 11,
    "start_time": "2022-03-23T05:40:23.356Z"
   },
   {
    "duration": 4,
    "start_time": "2022-03-23T05:40:23.369Z"
   },
   {
    "duration": 3,
    "start_time": "2022-03-23T05:40:23.381Z"
   },
   {
    "duration": 5,
    "start_time": "2022-03-23T05:40:23.386Z"
   },
   {
    "duration": 4,
    "start_time": "2022-03-23T05:40:23.393Z"
   },
   {
    "duration": 8,
    "start_time": "2022-03-23T05:40:23.398Z"
   },
   {
    "duration": 19,
    "start_time": "2022-03-23T05:40:23.407Z"
   },
   {
    "duration": 10,
    "start_time": "2022-03-23T05:40:23.428Z"
   },
   {
    "duration": 13,
    "start_time": "2022-03-23T05:40:23.439Z"
   },
   {
    "duration": 56,
    "start_time": "2022-03-23T05:40:23.453Z"
   },
   {
    "duration": 5,
    "start_time": "2022-03-23T05:40:23.510Z"
   },
   {
    "duration": 36,
    "start_time": "2022-03-23T05:40:23.516Z"
   },
   {
    "duration": 4,
    "start_time": "2022-03-23T05:40:23.553Z"
   },
   {
    "duration": 25,
    "start_time": "2022-03-23T05:40:23.558Z"
   },
   {
    "duration": 5,
    "start_time": "2022-03-23T05:40:23.584Z"
   },
   {
    "duration": 4,
    "start_time": "2022-03-23T05:40:23.591Z"
   },
   {
    "duration": 3,
    "start_time": "2022-03-23T05:40:23.597Z"
   },
   {
    "duration": 7,
    "start_time": "2022-03-23T05:40:23.602Z"
   },
   {
    "duration": 180,
    "start_time": "2022-03-23T05:40:23.610Z"
   },
   {
    "duration": 96,
    "start_time": "2022-03-23T05:40:23.792Z"
   },
   {
    "duration": 92,
    "start_time": "2022-03-23T05:40:23.890Z"
   },
   {
    "duration": 5,
    "start_time": "2022-03-23T05:40:23.983Z"
   },
   {
    "duration": 4,
    "start_time": "2022-03-23T05:40:23.990Z"
   },
   {
    "duration": 13,
    "start_time": "2022-03-23T05:40:23.995Z"
   },
   {
    "duration": 731,
    "start_time": "2022-03-23T05:40:24.085Z"
   },
   {
    "duration": 5206,
    "start_time": "2022-03-23T05:40:24.820Z"
   },
   {
    "duration": 2,
    "start_time": "2022-03-23T05:40:30.028Z"
   },
   {
    "duration": 217,
    "start_time": "2022-03-23T05:40:30.032Z"
   },
   {
    "duration": 4,
    "start_time": "2022-03-23T05:40:30.250Z"
   },
   {
    "duration": 34,
    "start_time": "2022-03-23T05:40:30.255Z"
   },
   {
    "duration": 14,
    "start_time": "2022-03-23T05:40:30.290Z"
   },
   {
    "duration": 23,
    "start_time": "2022-03-23T05:40:30.306Z"
   },
   {
    "duration": 30,
    "start_time": "2022-03-23T05:40:30.330Z"
   },
   {
    "duration": 40,
    "start_time": "2022-03-23T05:40:30.361Z"
   },
   {
    "duration": 48,
    "start_time": "2022-03-23T05:40:30.402Z"
   },
   {
    "duration": 3,
    "start_time": "2022-03-23T05:40:30.451Z"
   },
   {
    "duration": 46,
    "start_time": "2022-03-23T05:40:30.456Z"
   },
   {
    "duration": 3,
    "start_time": "2022-03-23T05:40:30.504Z"
   },
   {
    "duration": 90,
    "start_time": "2022-03-23T05:40:30.508Z"
   },
   {
    "duration": 5,
    "start_time": "2022-03-23T05:40:30.600Z"
   },
   {
    "duration": 180,
    "start_time": "2022-03-23T05:40:30.606Z"
   },
   {
    "duration": 402,
    "start_time": "2022-03-23T05:40:30.788Z"
   },
   {
    "duration": 92,
    "start_time": "2022-03-23T05:40:31.192Z"
   },
   {
    "duration": 115,
    "start_time": "2022-03-23T05:40:31.286Z"
   },
   {
    "duration": 5,
    "start_time": "2022-03-23T05:40:31.483Z"
   },
   {
    "duration": 429,
    "start_time": "2022-03-23T05:40:31.490Z"
   },
   {
    "duration": 5,
    "start_time": "2022-03-23T05:40:31.921Z"
   },
   {
    "duration": 224,
    "start_time": "2022-03-23T05:40:31.927Z"
   },
   {
    "duration": 388,
    "start_time": "2022-03-23T05:40:32.152Z"
   },
   {
    "duration": 3,
    "start_time": "2022-03-23T05:40:32.542Z"
   },
   {
    "duration": 85,
    "start_time": "2022-03-23T05:40:32.546Z"
   },
   {
    "duration": 3,
    "start_time": "2022-03-23T05:40:32.633Z"
   },
   {
    "duration": 172,
    "start_time": "2022-03-23T05:40:32.638Z"
   },
   {
    "duration": 5,
    "start_time": "2022-03-23T05:40:32.812Z"
   },
   {
    "duration": 12,
    "start_time": "2022-03-23T05:40:32.819Z"
   },
   {
    "duration": 254,
    "start_time": "2022-03-23T05:40:32.832Z"
   },
   {
    "duration": 224,
    "start_time": "2022-03-23T05:40:33.087Z"
   },
   {
    "duration": 364,
    "start_time": "2022-03-23T05:40:33.313Z"
   },
   {
    "duration": 72,
    "start_time": "2022-03-23T05:40:33.680Z"
   },
   {
    "duration": 6,
    "start_time": "2022-03-23T06:41:54.316Z"
   },
   {
    "duration": 108,
    "start_time": "2022-03-23T06:48:27.575Z"
   },
   {
    "duration": 2,
    "start_time": "2022-03-23T07:01:30.765Z"
   },
   {
    "duration": 272,
    "start_time": "2022-03-23T07:21:18.077Z"
   },
   {
    "duration": 255,
    "start_time": "2022-03-23T07:21:53.118Z"
   },
   {
    "duration": 441,
    "start_time": "2022-03-23T07:22:00.080Z"
   },
   {
    "duration": 150,
    "start_time": "2022-03-23T07:22:17.273Z"
   },
   {
    "duration": 318,
    "start_time": "2022-03-23T07:22:28.595Z"
   },
   {
    "duration": 160,
    "start_time": "2022-03-23T07:24:34.625Z"
   },
   {
    "duration": 129,
    "start_time": "2022-03-23T07:28:20.692Z"
   },
   {
    "duration": 145,
    "start_time": "2022-03-23T07:31:43.665Z"
   },
   {
    "duration": 145,
    "start_time": "2022-03-23T07:34:02.185Z"
   },
   {
    "duration": 150,
    "start_time": "2022-03-23T07:34:05.885Z"
   },
   {
    "duration": 3,
    "start_time": "2022-03-23T07:39:49.487Z"
   },
   {
    "duration": 56,
    "start_time": "2022-03-23T07:39:49.492Z"
   },
   {
    "duration": 10,
    "start_time": "2022-03-23T07:39:49.550Z"
   },
   {
    "duration": 6,
    "start_time": "2022-03-23T07:39:49.562Z"
   },
   {
    "duration": 4,
    "start_time": "2022-03-23T07:39:49.570Z"
   },
   {
    "duration": 7,
    "start_time": "2022-03-23T07:39:49.580Z"
   },
   {
    "duration": 6,
    "start_time": "2022-03-23T07:39:49.588Z"
   },
   {
    "duration": 8,
    "start_time": "2022-03-23T07:39:49.596Z"
   },
   {
    "duration": 20,
    "start_time": "2022-03-23T07:39:49.605Z"
   },
   {
    "duration": 3,
    "start_time": "2022-03-23T07:39:49.626Z"
   },
   {
    "duration": 13,
    "start_time": "2022-03-23T07:39:49.631Z"
   },
   {
    "duration": 74,
    "start_time": "2022-03-23T07:39:49.645Z"
   },
   {
    "duration": 5,
    "start_time": "2022-03-23T07:39:49.721Z"
   },
   {
    "duration": 60,
    "start_time": "2022-03-23T07:39:49.727Z"
   },
   {
    "duration": 5,
    "start_time": "2022-03-23T07:39:49.788Z"
   },
   {
    "duration": 6,
    "start_time": "2022-03-23T07:39:49.794Z"
   },
   {
    "duration": 5,
    "start_time": "2022-03-23T07:39:49.801Z"
   },
   {
    "duration": 9,
    "start_time": "2022-03-23T07:39:49.807Z"
   },
   {
    "duration": 6,
    "start_time": "2022-03-23T07:39:49.817Z"
   },
   {
    "duration": 8,
    "start_time": "2022-03-23T07:39:49.824Z"
   },
   {
    "duration": 451,
    "start_time": "2022-03-23T07:39:49.834Z"
   },
   {
    "duration": 95,
    "start_time": "2022-03-23T07:39:50.287Z"
   },
   {
    "duration": 7,
    "start_time": "2022-03-23T07:39:50.384Z"
   },
   {
    "duration": 4,
    "start_time": "2022-03-23T07:39:50.393Z"
   },
   {
    "duration": 6,
    "start_time": "2022-03-23T07:39:50.398Z"
   },
   {
    "duration": 78,
    "start_time": "2022-03-23T07:39:50.405Z"
   },
   {
    "duration": 756,
    "start_time": "2022-03-23T07:39:50.487Z"
   },
   {
    "duration": 5203,
    "start_time": "2022-03-23T07:39:51.245Z"
   },
   {
    "duration": 2,
    "start_time": "2022-03-23T07:39:56.452Z"
   },
   {
    "duration": 263,
    "start_time": "2022-03-23T07:39:56.455Z"
   },
   {
    "duration": 4,
    "start_time": "2022-03-23T07:39:56.719Z"
   },
   {
    "duration": 7,
    "start_time": "2022-03-23T07:39:56.724Z"
   },
   {
    "duration": 4,
    "start_time": "2022-03-23T07:39:56.732Z"
   },
   {
    "duration": 6,
    "start_time": "2022-03-23T07:39:56.737Z"
   },
   {
    "duration": 49,
    "start_time": "2022-03-23T07:39:56.744Z"
   },
   {
    "duration": 39,
    "start_time": "2022-03-23T07:39:56.795Z"
   },
   {
    "duration": 69,
    "start_time": "2022-03-23T07:39:56.836Z"
   },
   {
    "duration": 4,
    "start_time": "2022-03-23T07:39:56.907Z"
   },
   {
    "duration": 30,
    "start_time": "2022-03-23T07:39:56.913Z"
   },
   {
    "duration": 4,
    "start_time": "2022-03-23T07:39:56.944Z"
   },
   {
    "duration": 104,
    "start_time": "2022-03-23T07:39:56.950Z"
   },
   {
    "duration": 4,
    "start_time": "2022-03-23T07:39:57.056Z"
   },
   {
    "duration": 6,
    "start_time": "2022-03-23T07:39:57.062Z"
   },
   {
    "duration": 110,
    "start_time": "2022-03-23T07:39:57.081Z"
   },
   {
    "duration": 403,
    "start_time": "2022-03-23T07:39:57.282Z"
   },
   {
    "duration": 5,
    "start_time": "2022-03-23T07:39:57.687Z"
   },
   {
    "duration": 203,
    "start_time": "2022-03-23T07:39:57.782Z"
   },
   {
    "duration": 93,
    "start_time": "2022-03-23T07:39:57.988Z"
   },
   {
    "duration": 430,
    "start_time": "2022-03-23T07:39:58.083Z"
   },
   {
    "duration": 3,
    "start_time": "2022-03-23T07:39:58.514Z"
   },
   {
    "duration": 8,
    "start_time": "2022-03-23T07:39:58.518Z"
   },
   {
    "duration": 271,
    "start_time": "2022-03-23T07:39:58.527Z"
   },
   {
    "duration": 452,
    "start_time": "2022-03-23T07:39:58.800Z"
   },
   {
    "duration": 4,
    "start_time": "2022-03-23T07:39:59.255Z"
   },
   {
    "duration": 178,
    "start_time": "2022-03-23T07:39:59.261Z"
   },
   {
    "duration": 3,
    "start_time": "2022-03-23T07:39:59.441Z"
   },
   {
    "duration": 310,
    "start_time": "2022-03-23T07:39:59.445Z"
   },
   {
    "duration": 3,
    "start_time": "2022-03-23T07:39:59.756Z"
   },
   {
    "duration": 20,
    "start_time": "2022-03-23T07:39:59.761Z"
   },
   {
    "duration": 3,
    "start_time": "2022-03-23T07:39:59.782Z"
   },
   {
    "duration": 151,
    "start_time": "2022-03-23T07:39:59.786Z"
   },
   {
    "duration": 2,
    "start_time": "2022-03-23T07:39:59.939Z"
   },
   {
    "duration": 6,
    "start_time": "2022-03-23T07:39:59.943Z"
   },
   {
    "duration": 162,
    "start_time": "2022-03-23T07:39:59.950Z"
   },
   {
    "duration": 5,
    "start_time": "2022-03-23T08:55:17.175Z"
   },
   {
    "duration": 63,
    "start_time": "2022-03-23T08:55:17.182Z"
   },
   {
    "duration": 11,
    "start_time": "2022-03-23T08:55:17.246Z"
   },
   {
    "duration": 6,
    "start_time": "2022-03-23T08:55:17.259Z"
   },
   {
    "duration": 11,
    "start_time": "2022-03-23T08:55:17.267Z"
   },
   {
    "duration": 10,
    "start_time": "2022-03-23T08:55:17.280Z"
   },
   {
    "duration": 8,
    "start_time": "2022-03-23T08:55:17.292Z"
   },
   {
    "duration": 16,
    "start_time": "2022-03-23T08:55:17.302Z"
   },
   {
    "duration": 31,
    "start_time": "2022-03-23T08:55:17.321Z"
   },
   {
    "duration": 4,
    "start_time": "2022-03-23T08:55:17.354Z"
   },
   {
    "duration": 15,
    "start_time": "2022-03-23T08:55:17.381Z"
   },
   {
    "duration": 60,
    "start_time": "2022-03-23T08:55:17.398Z"
   },
   {
    "duration": 24,
    "start_time": "2022-03-23T08:55:17.461Z"
   },
   {
    "duration": 61,
    "start_time": "2022-03-23T08:55:17.487Z"
   },
   {
    "duration": 4,
    "start_time": "2022-03-23T08:55:17.550Z"
   },
   {
    "duration": 9,
    "start_time": "2022-03-23T08:55:17.556Z"
   },
   {
    "duration": 18,
    "start_time": "2022-03-23T08:55:17.567Z"
   },
   {
    "duration": 6,
    "start_time": "2022-03-23T08:55:17.586Z"
   },
   {
    "duration": 9,
    "start_time": "2022-03-23T08:55:17.594Z"
   },
   {
    "duration": 15,
    "start_time": "2022-03-23T08:55:17.604Z"
   },
   {
    "duration": 563,
    "start_time": "2022-03-23T08:55:17.621Z"
   },
   {
    "duration": 98,
    "start_time": "2022-03-23T08:55:18.187Z"
   },
   {
    "duration": 11,
    "start_time": "2022-03-23T08:55:18.286Z"
   },
   {
    "duration": 6,
    "start_time": "2022-03-23T08:55:18.299Z"
   },
   {
    "duration": 6,
    "start_time": "2022-03-23T08:55:18.307Z"
   },
   {
    "duration": 172,
    "start_time": "2022-03-23T08:55:18.314Z"
   },
   {
    "duration": 777,
    "start_time": "2022-03-23T08:55:18.491Z"
   },
   {
    "duration": 5490,
    "start_time": "2022-03-23T08:55:19.269Z"
   },
   {
    "duration": 2,
    "start_time": "2022-03-23T08:55:24.761Z"
   },
   {
    "duration": 264,
    "start_time": "2022-03-23T08:55:24.780Z"
   },
   {
    "duration": 4,
    "start_time": "2022-03-23T08:55:25.045Z"
   },
   {
    "duration": 9,
    "start_time": "2022-03-23T08:55:25.050Z"
   },
   {
    "duration": 13,
    "start_time": "2022-03-23T08:55:25.060Z"
   },
   {
    "duration": 5,
    "start_time": "2022-03-23T08:55:25.080Z"
   },
   {
    "duration": 23,
    "start_time": "2022-03-23T08:55:25.087Z"
   },
   {
    "duration": 36,
    "start_time": "2022-03-23T08:55:25.112Z"
   },
   {
    "duration": 71,
    "start_time": "2022-03-23T08:55:25.152Z"
   },
   {
    "duration": 3,
    "start_time": "2022-03-23T08:55:25.225Z"
   },
   {
    "duration": 32,
    "start_time": "2022-03-23T08:55:25.230Z"
   },
   {
    "duration": 17,
    "start_time": "2022-03-23T08:55:25.264Z"
   },
   {
    "duration": 105,
    "start_time": "2022-03-23T08:55:25.282Z"
   },
   {
    "duration": 5,
    "start_time": "2022-03-23T08:55:25.388Z"
   },
   {
    "duration": 7,
    "start_time": "2022-03-23T08:55:25.394Z"
   },
   {
    "duration": 183,
    "start_time": "2022-03-23T08:55:25.402Z"
   },
   {
    "duration": 501,
    "start_time": "2022-03-23T08:55:25.588Z"
   },
   {
    "duration": 4,
    "start_time": "2022-03-23T08:55:26.182Z"
   },
   {
    "duration": 200,
    "start_time": "2022-03-23T08:55:26.188Z"
   },
   {
    "duration": 5,
    "start_time": "2022-03-23T08:55:26.390Z"
   },
   {
    "duration": 533,
    "start_time": "2022-03-23T08:55:26.481Z"
   },
   {
    "duration": 3,
    "start_time": "2022-03-23T08:55:27.015Z"
   },
   {
    "duration": 13,
    "start_time": "2022-03-23T08:55:27.019Z"
   },
   {
    "duration": 287,
    "start_time": "2022-03-23T08:55:27.034Z"
   },
   {
    "duration": 459,
    "start_time": "2022-03-23T08:55:27.323Z"
   },
   {
    "duration": 3,
    "start_time": "2022-03-23T08:55:27.785Z"
   },
   {
    "duration": 164,
    "start_time": "2022-03-23T08:55:27.790Z"
   },
   {
    "duration": 5,
    "start_time": "2022-03-23T08:55:27.955Z"
   },
   {
    "duration": 336,
    "start_time": "2022-03-23T08:55:27.963Z"
   },
   {
    "duration": 3,
    "start_time": "2022-03-23T08:55:28.301Z"
   },
   {
    "duration": 18,
    "start_time": "2022-03-23T08:55:28.306Z"
   },
   {
    "duration": 6,
    "start_time": "2022-03-23T08:55:28.326Z"
   },
   {
    "duration": 248,
    "start_time": "2022-03-23T08:55:28.335Z"
   },
   {
    "duration": 3,
    "start_time": "2022-03-23T08:55:28.585Z"
   },
   {
    "duration": 10,
    "start_time": "2022-03-23T08:55:28.590Z"
   },
   {
    "duration": 163,
    "start_time": "2022-03-23T08:55:28.602Z"
   },
   {
    "duration": 4783,
    "start_time": "2022-03-23T21:01:35.763Z"
   },
   {
    "duration": 57,
    "start_time": "2022-03-23T21:01:40.548Z"
   },
   {
    "duration": 1141,
    "start_time": "2022-03-23T21:01:40.607Z"
   },
   {
    "duration": 1559,
    "start_time": "2022-03-23T21:01:41.751Z"
   },
   {
    "duration": 3055,
    "start_time": "2022-03-23T21:01:43.312Z"
   },
   {
    "duration": 2545,
    "start_time": "2022-03-23T21:01:46.369Z"
   },
   {
    "duration": 1199,
    "start_time": "2022-03-23T21:01:48.916Z"
   },
   {
    "duration": 5175,
    "start_time": "2022-03-23T21:01:50.118Z"
   },
   {
    "duration": 7812,
    "start_time": "2022-03-23T21:01:55.295Z"
   },
   {
    "duration": 5171,
    "start_time": "2022-03-23T21:02:03.111Z"
   },
   {
    "duration": 4960,
    "start_time": "2022-03-23T21:02:08.284Z"
   },
   {
    "duration": 6332,
    "start_time": "2022-03-23T21:02:13.246Z"
   },
   {
    "duration": 8371,
    "start_time": "2022-03-23T21:02:19.580Z"
   },
   {
    "duration": 6342,
    "start_time": "2022-03-23T21:02:27.953Z"
   },
   {
    "duration": 6273,
    "start_time": "2022-03-23T21:02:34.297Z"
   },
   {
    "duration": 5353,
    "start_time": "2022-03-23T21:02:40.573Z"
   },
   {
    "duration": 8976,
    "start_time": "2022-03-23T21:02:45.928Z"
   },
   {
    "duration": 5723,
    "start_time": "2022-03-23T21:02:54.906Z"
   },
   {
    "duration": 5914,
    "start_time": "2022-03-23T21:03:00.631Z"
   },
   {
    "duration": 7671,
    "start_time": "2022-03-23T21:03:06.547Z"
   },
   {
    "duration": 4782,
    "start_time": "2022-03-23T21:03:14.220Z"
   },
   {
    "duration": 3186,
    "start_time": "2022-03-23T21:03:19.005Z"
   },
   {
    "duration": 4523,
    "start_time": "2022-03-23T21:03:22.193Z"
   },
   {
    "duration": 3018,
    "start_time": "2022-03-23T21:03:26.719Z"
   },
   {
    "duration": 1915,
    "start_time": "2022-03-23T21:03:29.739Z"
   },
   {
    "duration": 3517,
    "start_time": "2022-03-23T21:03:31.657Z"
   },
   {
    "duration": 5969,
    "start_time": "2022-03-23T21:03:35.176Z"
   },
   {
    "duration": 13533,
    "start_time": "2022-03-23T21:03:41.151Z"
   },
   {
    "duration": 3,
    "start_time": "2022-03-23T21:03:54.686Z"
   },
   {
    "duration": 2537,
    "start_time": "2022-03-23T21:03:54.691Z"
   },
   {
    "duration": 4482,
    "start_time": "2022-03-23T21:03:57.230Z"
   },
   {
    "duration": 5958,
    "start_time": "2022-03-23T21:04:01.715Z"
   },
   {
    "duration": 3903,
    "start_time": "2022-03-23T21:04:07.675Z"
   },
   {
    "duration": 2564,
    "start_time": "2022-03-23T21:04:11.580Z"
   },
   {
    "duration": 1586,
    "start_time": "2022-03-23T21:04:14.146Z"
   },
   {
    "duration": 737,
    "start_time": "2022-03-23T21:04:15.734Z"
   },
   {
    "duration": 7804,
    "start_time": "2022-03-23T21:04:16.473Z"
   },
   {
    "duration": 4493,
    "start_time": "2022-03-23T21:04:24.279Z"
   },
   {
    "duration": 6381,
    "start_time": "2022-03-23T21:04:28.774Z"
   },
   {
    "duration": 3535,
    "start_time": "2022-03-23T21:04:35.157Z"
   },
   {
    "duration": 4365,
    "start_time": "2022-03-23T21:04:38.695Z"
   },
   {
    "duration": 3662,
    "start_time": "2022-03-23T21:04:43.062Z"
   },
   {
    "duration": 6489,
    "start_time": "2022-03-23T21:04:46.726Z"
   },
   {
    "duration": 4993,
    "start_time": "2022-03-23T21:04:53.217Z"
   },
   {
    "duration": 3595,
    "start_time": "2022-03-23T21:04:58.215Z"
   },
   {
    "duration": 3318,
    "start_time": "2022-03-23T21:05:01.812Z"
   },
   {
    "duration": 3773,
    "start_time": "2022-03-23T21:05:05.133Z"
   },
   {
    "duration": 4577,
    "start_time": "2022-03-23T21:05:08.908Z"
   },
   {
    "duration": 2950,
    "start_time": "2022-03-23T21:05:13.487Z"
   },
   {
    "duration": 3814,
    "start_time": "2022-03-23T21:05:16.439Z"
   },
   {
    "duration": 3931,
    "start_time": "2022-03-23T21:05:20.255Z"
   },
   {
    "duration": 3978,
    "start_time": "2022-03-23T21:05:24.188Z"
   },
   {
    "duration": 10465,
    "start_time": "2022-03-23T21:05:28.168Z"
   },
   {
    "duration": 1689,
    "start_time": "2022-03-23T21:05:38.635Z"
   },
   {
    "duration": 3192,
    "start_time": "2022-03-23T21:05:40.326Z"
   },
   {
    "duration": 2438,
    "start_time": "2022-03-23T21:05:43.521Z"
   },
   {
    "duration": 1489,
    "start_time": "2022-03-23T21:05:45.961Z"
   },
   {
    "duration": 2287,
    "start_time": "2022-03-23T21:05:47.452Z"
   },
   {
    "duration": 4005,
    "start_time": "2022-03-23T21:05:49.741Z"
   },
   {
    "duration": 2767,
    "start_time": "2022-03-23T21:05:53.748Z"
   },
   {
    "duration": 1936,
    "start_time": "2022-03-23T21:05:56.516Z"
   },
   {
    "duration": 1304,
    "start_time": "2022-03-23T21:05:58.454Z"
   },
   {
    "duration": 898,
    "start_time": "2022-03-23T21:05:59.760Z"
   },
   {
    "duration": 1106,
    "start_time": "2022-03-23T21:06:00.660Z"
   },
   {
    "duration": 124,
    "start_time": "2022-03-23T21:35:10.607Z"
   },
   {
    "duration": 5,
    "start_time": "2022-03-23T21:35:45.960Z"
   },
   {
    "duration": 126,
    "start_time": "2022-03-23T21:36:01.840Z"
   },
   {
    "duration": 8,
    "start_time": "2022-03-23T21:36:15.585Z"
   },
   {
    "duration": 96,
    "start_time": "2022-03-23T21:38:18.516Z"
   },
   {
    "duration": 120,
    "start_time": "2022-03-23T21:38:28.889Z"
   },
   {
    "duration": 327,
    "start_time": "2022-03-23T21:44:08.435Z"
   },
   {
    "duration": 1348,
    "start_time": "2022-03-24T08:46:07.030Z"
   },
   {
    "duration": 63,
    "start_time": "2022-03-24T08:46:08.380Z"
   },
   {
    "duration": 17,
    "start_time": "2022-03-24T08:46:08.445Z"
   },
   {
    "duration": 5,
    "start_time": "2022-03-24T08:46:08.465Z"
   },
   {
    "duration": 14,
    "start_time": "2022-03-24T08:46:08.472Z"
   },
   {
    "duration": 21,
    "start_time": "2022-03-24T08:46:08.489Z"
   },
   {
    "duration": 17,
    "start_time": "2022-03-24T08:46:08.512Z"
   },
   {
    "duration": 16,
    "start_time": "2022-03-24T08:46:08.531Z"
   },
   {
    "duration": 45,
    "start_time": "2022-03-24T08:46:08.549Z"
   },
   {
    "duration": 17,
    "start_time": "2022-03-24T08:46:08.597Z"
   },
   {
    "duration": 21,
    "start_time": "2022-03-24T08:46:08.616Z"
   },
   {
    "duration": 59,
    "start_time": "2022-03-24T08:46:08.639Z"
   },
   {
    "duration": 8,
    "start_time": "2022-03-24T08:46:08.700Z"
   },
   {
    "duration": 71,
    "start_time": "2022-03-24T08:46:08.710Z"
   },
   {
    "duration": 5,
    "start_time": "2022-03-24T08:46:08.783Z"
   },
   {
    "duration": 16,
    "start_time": "2022-03-24T08:46:08.790Z"
   },
   {
    "duration": 20,
    "start_time": "2022-03-24T08:46:08.808Z"
   },
   {
    "duration": 28,
    "start_time": "2022-03-24T08:46:08.830Z"
   },
   {
    "duration": 21,
    "start_time": "2022-03-24T08:46:08.861Z"
   },
   {
    "duration": 32,
    "start_time": "2022-03-24T08:46:08.884Z"
   },
   {
    "duration": 187,
    "start_time": "2022-03-24T08:46:08.917Z"
   },
   {
    "duration": 100,
    "start_time": "2022-03-24T08:46:09.107Z"
   },
   {
    "duration": 109,
    "start_time": "2022-03-24T08:46:09.212Z"
   },
   {
    "duration": 28,
    "start_time": "2022-03-24T08:46:09.322Z"
   },
   {
    "duration": 14,
    "start_time": "2022-03-24T08:46:09.352Z"
   },
   {
    "duration": 34,
    "start_time": "2022-03-24T08:46:09.368Z"
   },
   {
    "duration": 1004,
    "start_time": "2022-03-24T08:46:09.404Z"
   },
   {
    "duration": 6550,
    "start_time": "2022-03-24T08:46:10.412Z"
   },
   {
    "duration": 3,
    "start_time": "2022-03-24T08:46:16.964Z"
   },
   {
    "duration": 326,
    "start_time": "2022-03-24T08:46:16.968Z"
   },
   {
    "duration": 7,
    "start_time": "2022-03-24T08:46:17.296Z"
   },
   {
    "duration": 10,
    "start_time": "2022-03-24T08:46:17.305Z"
   },
   {
    "duration": 6,
    "start_time": "2022-03-24T08:46:17.317Z"
   },
   {
    "duration": 8,
    "start_time": "2022-03-24T08:46:17.325Z"
   },
   {
    "duration": 31,
    "start_time": "2022-03-24T08:46:17.334Z"
   },
   {
    "duration": 66,
    "start_time": "2022-03-24T08:46:17.367Z"
   },
   {
    "duration": 68,
    "start_time": "2022-03-24T08:46:17.434Z"
   },
   {
    "duration": 4,
    "start_time": "2022-03-24T08:46:17.504Z"
   },
   {
    "duration": 39,
    "start_time": "2022-03-24T08:46:17.509Z"
   },
   {
    "duration": 4,
    "start_time": "2022-03-24T08:46:17.550Z"
   },
   {
    "duration": 155,
    "start_time": "2022-03-24T08:46:17.556Z"
   },
   {
    "duration": 5,
    "start_time": "2022-03-24T08:46:17.713Z"
   },
   {
    "duration": 9,
    "start_time": "2022-03-24T08:46:17.720Z"
   },
   {
    "duration": 177,
    "start_time": "2022-03-24T08:46:17.730Z"
   },
   {
    "duration": 597,
    "start_time": "2022-03-24T08:46:17.910Z"
   },
   {
    "duration": 94,
    "start_time": "2022-03-24T08:46:18.510Z"
   },
   {
    "duration": 201,
    "start_time": "2022-03-24T08:46:18.606Z"
   },
   {
    "duration": 96,
    "start_time": "2022-03-24T08:46:18.810Z"
   },
   {
    "duration": 556,
    "start_time": "2022-03-24T08:46:18.909Z"
   },
   {
    "duration": 3,
    "start_time": "2022-03-24T08:46:19.467Z"
   },
   {
    "duration": 29,
    "start_time": "2022-03-24T08:46:19.472Z"
   },
   {
    "duration": 309,
    "start_time": "2022-03-24T08:46:19.503Z"
   },
   {
    "duration": 508,
    "start_time": "2022-03-24T08:46:19.814Z"
   },
   {
    "duration": 4,
    "start_time": "2022-03-24T08:46:20.325Z"
   },
   {
    "duration": 239,
    "start_time": "2022-03-24T08:46:20.331Z"
   },
   {
    "duration": 4,
    "start_time": "2022-03-24T08:46:20.572Z"
   },
   {
    "duration": 373,
    "start_time": "2022-03-24T08:46:20.578Z"
   },
   {
    "duration": 3,
    "start_time": "2022-03-24T08:46:20.953Z"
   },
   {
    "duration": 29,
    "start_time": "2022-03-24T08:46:20.957Z"
   },
   {
    "duration": 17,
    "start_time": "2022-03-24T08:46:20.987Z"
   },
   {
    "duration": 214,
    "start_time": "2022-03-24T08:46:21.006Z"
   },
   {
    "duration": 3,
    "start_time": "2022-03-24T08:46:21.223Z"
   },
   {
    "duration": 9,
    "start_time": "2022-03-24T08:46:21.228Z"
   },
   {
    "duration": 191,
    "start_time": "2022-03-24T08:46:21.239Z"
   },
   {
    "duration": 142,
    "start_time": "2022-03-24T09:31:20.233Z"
   },
   {
    "duration": 168,
    "start_time": "2022-03-24T09:31:29.301Z"
   },
   {
    "duration": 89,
    "start_time": "2022-03-24T09:31:35.313Z"
   },
   {
    "duration": 86,
    "start_time": "2022-03-24T09:32:08.007Z"
   },
   {
    "duration": 104,
    "start_time": "2022-03-24T09:32:13.840Z"
   },
   {
    "duration": 2802,
    "start_time": "2022-03-24T09:46:00.309Z"
   },
   {
    "duration": 513,
    "start_time": "2022-03-24T09:50:14.200Z"
   },
   {
    "duration": 4,
    "start_time": "2022-03-24T10:14:40.404Z"
   },
   {
    "duration": 181,
    "start_time": "2022-03-24T10:15:59.547Z"
   },
   {
    "duration": 1979,
    "start_time": "2022-03-24T13:05:55.535Z"
   },
   {
    "duration": 1000,
    "start_time": "2022-03-24T13:05:57.516Z"
   },
   {
    "duration": 17,
    "start_time": "2022-03-24T13:05:58.518Z"
   },
   {
    "duration": 4,
    "start_time": "2022-03-24T13:05:58.538Z"
   },
   {
    "duration": 6,
    "start_time": "2022-03-24T13:05:58.544Z"
   },
   {
    "duration": 6,
    "start_time": "2022-03-24T13:05:58.553Z"
   },
   {
    "duration": 4,
    "start_time": "2022-03-24T13:05:58.561Z"
   },
   {
    "duration": 38,
    "start_time": "2022-03-24T13:05:58.567Z"
   },
   {
    "duration": 20,
    "start_time": "2022-03-24T13:05:58.607Z"
   },
   {
    "duration": 3,
    "start_time": "2022-03-24T13:05:58.630Z"
   },
   {
    "duration": 12,
    "start_time": "2022-03-24T13:05:58.634Z"
   },
   {
    "duration": 66,
    "start_time": "2022-03-24T13:05:58.648Z"
   },
   {
    "duration": 6,
    "start_time": "2022-03-24T13:05:58.715Z"
   },
   {
    "duration": 40,
    "start_time": "2022-03-24T13:05:58.723Z"
   },
   {
    "duration": 4,
    "start_time": "2022-03-24T13:05:58.765Z"
   },
   {
    "duration": 32,
    "start_time": "2022-03-24T13:05:58.771Z"
   },
   {
    "duration": 5,
    "start_time": "2022-03-24T13:05:58.805Z"
   },
   {
    "duration": 5,
    "start_time": "2022-03-24T13:05:58.811Z"
   },
   {
    "duration": 4,
    "start_time": "2022-03-24T13:05:58.817Z"
   },
   {
    "duration": 10,
    "start_time": "2022-03-24T13:05:58.823Z"
   },
   {
    "duration": 269,
    "start_time": "2022-03-24T13:05:58.835Z"
   },
   {
    "duration": 95,
    "start_time": "2022-03-24T13:05:59.106Z"
   },
   {
    "duration": 8,
    "start_time": "2022-03-24T13:05:59.203Z"
   },
   {
    "duration": 6,
    "start_time": "2022-03-24T13:05:59.213Z"
   },
   {
    "duration": 5,
    "start_time": "2022-03-24T13:05:59.221Z"
   },
   {
    "duration": 81,
    "start_time": "2022-03-24T13:05:59.228Z"
   },
   {
    "duration": 871,
    "start_time": "2022-03-24T13:05:59.311Z"
   },
   {
    "duration": 5915,
    "start_time": "2022-03-24T13:06:00.186Z"
   },
   {
    "duration": 3,
    "start_time": "2022-03-24T13:06:06.103Z"
   },
   {
    "duration": 296,
    "start_time": "2022-03-24T13:06:06.108Z"
   },
   {
    "duration": 6,
    "start_time": "2022-03-24T13:06:06.406Z"
   },
   {
    "duration": 8,
    "start_time": "2022-03-24T13:06:06.414Z"
   },
   {
    "duration": 6,
    "start_time": "2022-03-24T13:06:06.425Z"
   },
   {
    "duration": 6,
    "start_time": "2022-03-24T13:06:06.433Z"
   },
   {
    "duration": 62,
    "start_time": "2022-03-24T13:06:06.441Z"
   },
   {
    "duration": 43,
    "start_time": "2022-03-24T13:06:06.505Z"
   },
   {
    "duration": 84,
    "start_time": "2022-03-24T13:06:06.550Z"
   },
   {
    "duration": 4,
    "start_time": "2022-03-24T13:06:06.636Z"
   },
   {
    "duration": 32,
    "start_time": "2022-03-24T13:06:06.641Z"
   },
   {
    "duration": 3,
    "start_time": "2022-03-24T13:06:06.675Z"
   },
   {
    "duration": 141,
    "start_time": "2022-03-24T13:06:06.680Z"
   },
   {
    "duration": 4,
    "start_time": "2022-03-24T13:06:06.823Z"
   },
   {
    "duration": 6,
    "start_time": "2022-03-24T13:06:06.829Z"
   },
   {
    "duration": 266,
    "start_time": "2022-03-24T13:06:06.836Z"
   },
   {
    "duration": 501,
    "start_time": "2022-03-24T13:06:07.105Z"
   },
   {
    "duration": 95,
    "start_time": "2022-03-24T13:06:07.608Z"
   },
   {
    "duration": 200,
    "start_time": "2022-03-24T13:06:07.706Z"
   },
   {
    "duration": 95,
    "start_time": "2022-03-24T13:06:07.909Z"
   },
   {
    "duration": 560,
    "start_time": "2022-03-24T13:06:08.006Z"
   },
   {
    "duration": 3,
    "start_time": "2022-03-24T13:06:08.568Z"
   },
   {
    "duration": 499,
    "start_time": "2022-03-24T13:06:08.574Z"
   },
   {
    "duration": 6,
    "start_time": "2022-03-24T13:06:09.075Z"
   },
   {
    "duration": 278,
    "start_time": "2022-03-24T13:06:09.101Z"
   },
   {
    "duration": 495,
    "start_time": "2022-03-24T13:06:09.381Z"
   },
   {
    "duration": 4,
    "start_time": "2022-03-24T13:06:09.878Z"
   },
   {
    "duration": 180,
    "start_time": "2022-03-24T13:06:09.884Z"
   },
   {
    "duration": 5,
    "start_time": "2022-03-24T13:06:10.066Z"
   },
   {
    "duration": 354,
    "start_time": "2022-03-24T13:06:10.072Z"
   },
   {
    "duration": 2,
    "start_time": "2022-03-24T13:06:10.428Z"
   },
   {
    "duration": 12,
    "start_time": "2022-03-24T13:06:10.432Z"
   },
   {
    "duration": 3,
    "start_time": "2022-03-24T13:06:10.445Z"
   },
   {
    "duration": 183,
    "start_time": "2022-03-24T13:06:10.450Z"
   },
   {
    "duration": 2,
    "start_time": "2022-03-24T13:06:10.635Z"
   },
   {
    "duration": 6,
    "start_time": "2022-03-24T13:06:10.639Z"
   },
   {
    "duration": 111,
    "start_time": "2022-03-24T13:06:10.646Z"
   },
   {
    "duration": 212,
    "start_time": "2022-03-24T13:16:02.202Z"
   },
   {
    "duration": 395,
    "start_time": "2022-03-24T13:48:00.762Z"
   },
   {
    "duration": 92,
    "start_time": "2022-03-24T14:14:28.434Z"
   },
   {
    "duration": 3,
    "start_time": "2022-03-24T14:14:33.372Z"
   },
   {
    "duration": 163,
    "start_time": "2022-03-24T14:14:33.377Z"
   },
   {
    "duration": 12,
    "start_time": "2022-03-24T14:14:33.541Z"
   },
   {
    "duration": 10,
    "start_time": "2022-03-24T14:14:33.554Z"
   },
   {
    "duration": 6,
    "start_time": "2022-03-24T14:14:33.566Z"
   },
   {
    "duration": 7,
    "start_time": "2022-03-24T14:14:33.574Z"
   },
   {
    "duration": 5,
    "start_time": "2022-03-24T14:14:33.583Z"
   },
   {
    "duration": 15,
    "start_time": "2022-03-24T14:14:33.589Z"
   },
   {
    "duration": 18,
    "start_time": "2022-03-24T14:14:33.606Z"
   },
   {
    "duration": 4,
    "start_time": "2022-03-24T14:14:33.625Z"
   },
   {
    "duration": 15,
    "start_time": "2022-03-24T14:14:33.631Z"
   },
   {
    "duration": 54,
    "start_time": "2022-03-24T14:14:33.647Z"
   },
   {
    "duration": 4,
    "start_time": "2022-03-24T14:14:33.703Z"
   },
   {
    "duration": 38,
    "start_time": "2022-03-24T14:14:33.709Z"
   },
   {
    "duration": 5,
    "start_time": "2022-03-24T14:14:33.749Z"
   },
   {
    "duration": 6,
    "start_time": "2022-03-24T14:14:33.756Z"
   },
   {
    "duration": 38,
    "start_time": "2022-03-24T14:14:33.763Z"
   },
   {
    "duration": 5,
    "start_time": "2022-03-24T14:14:33.803Z"
   },
   {
    "duration": 6,
    "start_time": "2022-03-24T14:14:33.809Z"
   },
   {
    "duration": 8,
    "start_time": "2022-03-24T14:14:33.816Z"
   },
   {
    "duration": 276,
    "start_time": "2022-03-24T14:14:33.826Z"
   },
   {
    "duration": 95,
    "start_time": "2022-03-24T14:14:34.105Z"
   },
   {
    "duration": 6,
    "start_time": "2022-03-24T14:14:34.202Z"
   },
   {
    "duration": 6,
    "start_time": "2022-03-24T14:14:34.209Z"
   },
   {
    "duration": 5,
    "start_time": "2022-03-24T14:14:34.216Z"
   },
   {
    "duration": 11,
    "start_time": "2022-03-24T14:14:34.222Z"
   },
   {
    "duration": 820,
    "start_time": "2022-03-24T14:14:34.303Z"
   },
   {
    "duration": 5583,
    "start_time": "2022-03-24T14:14:35.125Z"
   },
   {
    "duration": 3,
    "start_time": "2022-03-24T14:14:40.711Z"
   },
   {
    "duration": 14,
    "start_time": "2022-03-24T14:14:40.715Z"
   },
   {
    "duration": 0,
    "start_time": "2022-03-24T14:14:40.731Z"
   },
   {
    "duration": 0,
    "start_time": "2022-03-24T14:14:40.732Z"
   },
   {
    "duration": 0,
    "start_time": "2022-03-24T14:14:40.733Z"
   },
   {
    "duration": 0,
    "start_time": "2022-03-24T14:14:40.734Z"
   },
   {
    "duration": 0,
    "start_time": "2022-03-24T14:14:40.735Z"
   },
   {
    "duration": 0,
    "start_time": "2022-03-24T14:14:40.736Z"
   },
   {
    "duration": 0,
    "start_time": "2022-03-24T14:14:40.737Z"
   },
   {
    "duration": 0,
    "start_time": "2022-03-24T14:14:40.738Z"
   },
   {
    "duration": 0,
    "start_time": "2022-03-24T14:14:40.739Z"
   },
   {
    "duration": 0,
    "start_time": "2022-03-24T14:14:40.740Z"
   },
   {
    "duration": 0,
    "start_time": "2022-03-24T14:14:40.741Z"
   },
   {
    "duration": 0,
    "start_time": "2022-03-24T14:14:40.743Z"
   },
   {
    "duration": 0,
    "start_time": "2022-03-24T14:14:40.744Z"
   },
   {
    "duration": 0,
    "start_time": "2022-03-24T14:14:40.745Z"
   },
   {
    "duration": 0,
    "start_time": "2022-03-24T14:14:40.745Z"
   },
   {
    "duration": 0,
    "start_time": "2022-03-24T14:14:40.747Z"
   },
   {
    "duration": 0,
    "start_time": "2022-03-24T14:14:40.747Z"
   },
   {
    "duration": 0,
    "start_time": "2022-03-24T14:14:40.749Z"
   },
   {
    "duration": 0,
    "start_time": "2022-03-24T14:14:40.749Z"
   },
   {
    "duration": 0,
    "start_time": "2022-03-24T14:14:40.750Z"
   },
   {
    "duration": 0,
    "start_time": "2022-03-24T14:14:40.751Z"
   },
   {
    "duration": 0,
    "start_time": "2022-03-24T14:14:40.752Z"
   },
   {
    "duration": 0,
    "start_time": "2022-03-24T14:14:40.752Z"
   },
   {
    "duration": 0,
    "start_time": "2022-03-24T14:14:40.753Z"
   },
   {
    "duration": 0,
    "start_time": "2022-03-24T14:14:40.754Z"
   },
   {
    "duration": 0,
    "start_time": "2022-03-24T14:14:40.755Z"
   },
   {
    "duration": 0,
    "start_time": "2022-03-24T14:14:40.802Z"
   },
   {
    "duration": 0,
    "start_time": "2022-03-24T14:14:40.803Z"
   },
   {
    "duration": 0,
    "start_time": "2022-03-24T14:14:40.804Z"
   },
   {
    "duration": 0,
    "start_time": "2022-03-24T14:14:40.805Z"
   },
   {
    "duration": 0,
    "start_time": "2022-03-24T14:14:40.806Z"
   },
   {
    "duration": 0,
    "start_time": "2022-03-24T14:14:40.807Z"
   },
   {
    "duration": 0,
    "start_time": "2022-03-24T14:14:40.808Z"
   },
   {
    "duration": 0,
    "start_time": "2022-03-24T14:14:40.809Z"
   },
   {
    "duration": 0,
    "start_time": "2022-03-24T14:14:40.810Z"
   },
   {
    "duration": 0,
    "start_time": "2022-03-24T14:14:40.811Z"
   },
   {
    "duration": 4,
    "start_time": "2022-03-24T14:16:16.209Z"
   },
   {
    "duration": 41,
    "start_time": "2022-03-24T14:16:16.217Z"
   },
   {
    "duration": 12,
    "start_time": "2022-03-24T14:16:16.259Z"
   },
   {
    "duration": 4,
    "start_time": "2022-03-24T14:16:16.272Z"
   },
   {
    "duration": 25,
    "start_time": "2022-03-24T14:16:16.279Z"
   },
   {
    "duration": 8,
    "start_time": "2022-03-24T14:16:16.306Z"
   },
   {
    "duration": 6,
    "start_time": "2022-03-24T14:16:16.316Z"
   },
   {
    "duration": 8,
    "start_time": "2022-03-24T14:16:16.324Z"
   },
   {
    "duration": 23,
    "start_time": "2022-03-24T14:16:16.334Z"
   },
   {
    "duration": 44,
    "start_time": "2022-03-24T14:16:16.359Z"
   },
   {
    "duration": 14,
    "start_time": "2022-03-24T14:16:16.406Z"
   },
   {
    "duration": 40,
    "start_time": "2022-03-24T14:16:16.421Z"
   },
   {
    "duration": 6,
    "start_time": "2022-03-24T14:16:16.463Z"
   },
   {
    "duration": 39,
    "start_time": "2022-03-24T14:16:16.502Z"
   },
   {
    "duration": 5,
    "start_time": "2022-03-24T14:16:16.543Z"
   },
   {
    "duration": 6,
    "start_time": "2022-03-24T14:16:16.550Z"
   },
   {
    "duration": 6,
    "start_time": "2022-03-24T14:16:16.558Z"
   },
   {
    "duration": 39,
    "start_time": "2022-03-24T14:16:16.565Z"
   },
   {
    "duration": 5,
    "start_time": "2022-03-24T14:16:16.605Z"
   },
   {
    "duration": 10,
    "start_time": "2022-03-24T14:16:16.612Z"
   },
   {
    "duration": 186,
    "start_time": "2022-03-24T14:16:16.624Z"
   },
   {
    "duration": 7,
    "start_time": "2022-03-24T14:16:16.902Z"
   },
   {
    "duration": 6,
    "start_time": "2022-03-24T14:16:17.002Z"
   },
   {
    "duration": 5,
    "start_time": "2022-03-24T14:16:17.009Z"
   },
   {
    "duration": 5,
    "start_time": "2022-03-24T14:16:17.016Z"
   },
   {
    "duration": 11,
    "start_time": "2022-03-24T14:16:17.022Z"
   },
   {
    "duration": 899,
    "start_time": "2022-03-24T14:16:17.102Z"
   },
   {
    "duration": 5530,
    "start_time": "2022-03-24T14:16:18.002Z"
   },
   {
    "duration": 3,
    "start_time": "2022-03-24T14:16:23.536Z"
   },
   {
    "duration": 11,
    "start_time": "2022-03-24T14:16:23.540Z"
   },
   {
    "duration": 0,
    "start_time": "2022-03-24T14:16:23.552Z"
   },
   {
    "duration": 0,
    "start_time": "2022-03-24T14:16:23.553Z"
   },
   {
    "duration": 0,
    "start_time": "2022-03-24T14:16:23.554Z"
   },
   {
    "duration": 0,
    "start_time": "2022-03-24T14:16:23.555Z"
   },
   {
    "duration": 0,
    "start_time": "2022-03-24T14:16:23.556Z"
   },
   {
    "duration": 0,
    "start_time": "2022-03-24T14:16:23.557Z"
   },
   {
    "duration": 1,
    "start_time": "2022-03-24T14:16:23.558Z"
   },
   {
    "duration": 0,
    "start_time": "2022-03-24T14:16:23.559Z"
   },
   {
    "duration": 0,
    "start_time": "2022-03-24T14:16:23.635Z"
   },
   {
    "duration": 0,
    "start_time": "2022-03-24T14:16:23.636Z"
   },
   {
    "duration": 0,
    "start_time": "2022-03-24T14:16:23.637Z"
   },
   {
    "duration": 0,
    "start_time": "2022-03-24T14:16:23.638Z"
   },
   {
    "duration": 0,
    "start_time": "2022-03-24T14:16:23.640Z"
   },
   {
    "duration": 0,
    "start_time": "2022-03-24T14:16:23.640Z"
   },
   {
    "duration": 0,
    "start_time": "2022-03-24T14:16:23.641Z"
   },
   {
    "duration": 0,
    "start_time": "2022-03-24T14:16:23.642Z"
   },
   {
    "duration": 0,
    "start_time": "2022-03-24T14:16:23.643Z"
   },
   {
    "duration": 0,
    "start_time": "2022-03-24T14:16:23.644Z"
   },
   {
    "duration": 0,
    "start_time": "2022-03-24T14:16:23.645Z"
   },
   {
    "duration": 0,
    "start_time": "2022-03-24T14:16:23.646Z"
   },
   {
    "duration": 0,
    "start_time": "2022-03-24T14:16:23.647Z"
   },
   {
    "duration": 0,
    "start_time": "2022-03-24T14:16:23.648Z"
   },
   {
    "duration": 0,
    "start_time": "2022-03-24T14:16:23.648Z"
   },
   {
    "duration": 0,
    "start_time": "2022-03-24T14:16:23.649Z"
   },
   {
    "duration": 0,
    "start_time": "2022-03-24T14:16:23.650Z"
   },
   {
    "duration": 0,
    "start_time": "2022-03-24T14:16:23.651Z"
   },
   {
    "duration": 0,
    "start_time": "2022-03-24T14:16:23.652Z"
   },
   {
    "duration": 0,
    "start_time": "2022-03-24T14:16:23.653Z"
   },
   {
    "duration": 0,
    "start_time": "2022-03-24T14:16:23.654Z"
   },
   {
    "duration": 0,
    "start_time": "2022-03-24T14:16:23.655Z"
   },
   {
    "duration": 0,
    "start_time": "2022-03-24T14:16:23.656Z"
   },
   {
    "duration": 0,
    "start_time": "2022-03-24T14:16:23.657Z"
   },
   {
    "duration": 0,
    "start_time": "2022-03-24T14:16:23.658Z"
   },
   {
    "duration": 0,
    "start_time": "2022-03-24T14:16:23.659Z"
   },
   {
    "duration": 0,
    "start_time": "2022-03-24T14:16:23.660Z"
   },
   {
    "duration": 0,
    "start_time": "2022-03-24T14:16:23.701Z"
   },
   {
    "duration": 8,
    "start_time": "2022-03-24T14:22:02.233Z"
   },
   {
    "duration": 10,
    "start_time": "2022-03-24T14:22:13.682Z"
   },
   {
    "duration": 470412,
    "start_time": "2022-03-24T14:23:49.681Z"
   },
   {
    "duration": 6,
    "start_time": "2022-03-24T14:31:40.095Z"
   },
   {
    "duration": 39,
    "start_time": "2022-03-24T14:31:40.102Z"
   },
   {
    "duration": 11,
    "start_time": "2022-03-24T14:31:40.143Z"
   },
   {
    "duration": 3,
    "start_time": "2022-03-24T14:31:40.156Z"
   },
   {
    "duration": 7,
    "start_time": "2022-03-24T14:31:40.160Z"
   },
   {
    "duration": 8,
    "start_time": "2022-03-24T14:31:40.169Z"
   },
   {
    "duration": 26,
    "start_time": "2022-03-24T14:31:40.178Z"
   },
   {
    "duration": 8,
    "start_time": "2022-03-24T14:31:40.205Z"
   },
   {
    "duration": 18,
    "start_time": "2022-03-24T14:31:40.216Z"
   },
   {
    "duration": 2,
    "start_time": "2022-03-24T14:31:40.236Z"
   },
   {
    "duration": 12,
    "start_time": "2022-03-24T14:31:40.240Z"
   },
   {
    "duration": 72,
    "start_time": "2022-03-24T14:31:40.254Z"
   },
   {
    "duration": 6,
    "start_time": "2022-03-24T14:31:40.327Z"
   },
   {
    "duration": 39,
    "start_time": "2022-03-24T14:31:40.334Z"
   },
   {
    "duration": 5,
    "start_time": "2022-03-24T14:31:40.374Z"
   },
   {
    "duration": 6,
    "start_time": "2022-03-24T14:31:40.401Z"
   },
   {
    "duration": 9,
    "start_time": "2022-03-24T14:31:40.409Z"
   },
   {
    "duration": 5,
    "start_time": "2022-03-24T14:31:40.420Z"
   },
   {
    "duration": 5,
    "start_time": "2022-03-24T14:31:40.426Z"
   },
   {
    "duration": 14,
    "start_time": "2022-03-24T14:31:40.432Z"
   },
   {
    "duration": 259,
    "start_time": "2022-03-24T14:31:40.447Z"
   },
   {
    "duration": 96,
    "start_time": "2022-03-24T14:31:40.708Z"
   },
   {
    "duration": 96,
    "start_time": "2022-03-24T14:31:40.806Z"
   },
   {
    "duration": 6,
    "start_time": "2022-03-24T14:31:40.903Z"
   },
   {
    "duration": 5,
    "start_time": "2022-03-24T14:31:40.910Z"
   },
   {
    "duration": 12,
    "start_time": "2022-03-24T14:31:40.917Z"
   },
   {
    "duration": 784,
    "start_time": "2022-03-24T14:31:41.007Z"
   },
   {
    "duration": 5675,
    "start_time": "2022-03-24T14:31:41.792Z"
   },
   {
    "duration": 3,
    "start_time": "2022-03-24T14:31:47.469Z"
   },
   {
    "duration": 11,
    "start_time": "2022-03-24T14:31:47.473Z"
   },
   {
    "duration": 0,
    "start_time": "2022-03-24T14:31:47.486Z"
   },
   {
    "duration": 0,
    "start_time": "2022-03-24T14:31:47.487Z"
   },
   {
    "duration": 0,
    "start_time": "2022-03-24T14:31:47.500Z"
   },
   {
    "duration": 0,
    "start_time": "2022-03-24T14:31:47.501Z"
   },
   {
    "duration": 0,
    "start_time": "2022-03-24T14:31:47.502Z"
   },
   {
    "duration": 0,
    "start_time": "2022-03-24T14:31:47.503Z"
   },
   {
    "duration": 0,
    "start_time": "2022-03-24T14:31:47.504Z"
   },
   {
    "duration": 0,
    "start_time": "2022-03-24T14:31:47.505Z"
   },
   {
    "duration": 0,
    "start_time": "2022-03-24T14:31:47.506Z"
   },
   {
    "duration": 0,
    "start_time": "2022-03-24T14:31:47.507Z"
   },
   {
    "duration": 0,
    "start_time": "2022-03-24T14:31:47.508Z"
   },
   {
    "duration": 0,
    "start_time": "2022-03-24T14:31:47.509Z"
   },
   {
    "duration": 0,
    "start_time": "2022-03-24T14:31:47.510Z"
   },
   {
    "duration": 0,
    "start_time": "2022-03-24T14:31:47.511Z"
   },
   {
    "duration": 0,
    "start_time": "2022-03-24T14:31:47.512Z"
   },
   {
    "duration": 0,
    "start_time": "2022-03-24T14:31:47.513Z"
   },
   {
    "duration": 0,
    "start_time": "2022-03-24T14:31:47.514Z"
   },
   {
    "duration": 0,
    "start_time": "2022-03-24T14:31:47.515Z"
   },
   {
    "duration": 0,
    "start_time": "2022-03-24T14:31:47.516Z"
   },
   {
    "duration": 0,
    "start_time": "2022-03-24T14:31:47.517Z"
   },
   {
    "duration": 0,
    "start_time": "2022-03-24T14:31:47.518Z"
   },
   {
    "duration": 0,
    "start_time": "2022-03-24T14:31:47.519Z"
   },
   {
    "duration": 0,
    "start_time": "2022-03-24T14:31:47.519Z"
   },
   {
    "duration": 0,
    "start_time": "2022-03-24T14:31:47.520Z"
   },
   {
    "duration": 0,
    "start_time": "2022-03-24T14:31:47.521Z"
   },
   {
    "duration": 0,
    "start_time": "2022-03-24T14:31:47.522Z"
   },
   {
    "duration": 0,
    "start_time": "2022-03-24T14:31:47.522Z"
   },
   {
    "duration": 0,
    "start_time": "2022-03-24T14:31:47.523Z"
   },
   {
    "duration": 0,
    "start_time": "2022-03-24T14:31:47.524Z"
   },
   {
    "duration": 0,
    "start_time": "2022-03-24T14:31:47.525Z"
   },
   {
    "duration": 0,
    "start_time": "2022-03-24T14:31:47.526Z"
   },
   {
    "duration": 0,
    "start_time": "2022-03-24T14:31:47.526Z"
   },
   {
    "duration": 0,
    "start_time": "2022-03-24T14:31:47.527Z"
   },
   {
    "duration": 0,
    "start_time": "2022-03-24T14:31:47.529Z"
   },
   {
    "duration": 0,
    "start_time": "2022-03-24T14:31:47.531Z"
   },
   {
    "duration": 0,
    "start_time": "2022-03-24T14:31:47.531Z"
   },
   {
    "duration": 5,
    "start_time": "2022-03-24T14:35:55.393Z"
   },
   {
    "duration": 63,
    "start_time": "2022-03-24T14:35:55.399Z"
   },
   {
    "duration": 11,
    "start_time": "2022-03-24T14:35:55.463Z"
   },
   {
    "duration": 11,
    "start_time": "2022-03-24T14:35:55.476Z"
   },
   {
    "duration": 18,
    "start_time": "2022-03-24T14:35:55.489Z"
   },
   {
    "duration": 24,
    "start_time": "2022-03-24T14:35:55.509Z"
   },
   {
    "duration": 11,
    "start_time": "2022-03-24T14:35:55.534Z"
   },
   {
    "duration": 21,
    "start_time": "2022-03-24T14:35:55.547Z"
   },
   {
    "duration": 40,
    "start_time": "2022-03-24T14:35:55.569Z"
   },
   {
    "duration": 13,
    "start_time": "2022-03-24T14:35:55.611Z"
   },
   {
    "duration": 16,
    "start_time": "2022-03-24T14:35:55.625Z"
   },
   {
    "duration": 55,
    "start_time": "2022-03-24T14:35:55.642Z"
   },
   {
    "duration": 6,
    "start_time": "2022-03-24T14:35:55.699Z"
   },
   {
    "duration": 50,
    "start_time": "2022-03-24T14:35:55.709Z"
   },
   {
    "duration": 4,
    "start_time": "2022-03-24T14:35:55.762Z"
   },
   {
    "duration": 13,
    "start_time": "2022-03-24T14:35:55.768Z"
   },
   {
    "duration": 18,
    "start_time": "2022-03-24T14:35:55.782Z"
   },
   {
    "duration": 11,
    "start_time": "2022-03-24T14:35:55.802Z"
   },
   {
    "duration": 16,
    "start_time": "2022-03-24T14:35:55.815Z"
   },
   {
    "duration": 17,
    "start_time": "2022-03-24T14:35:55.832Z"
   },
   {
    "duration": 256,
    "start_time": "2022-03-24T14:35:55.851Z"
   },
   {
    "duration": 94,
    "start_time": "2022-03-24T14:35:56.109Z"
   },
   {
    "duration": 15,
    "start_time": "2022-03-24T14:35:56.205Z"
   },
   {
    "duration": 6,
    "start_time": "2022-03-24T14:35:56.305Z"
   },
   {
    "duration": 16,
    "start_time": "2022-03-24T14:35:56.313Z"
   },
   {
    "duration": 70,
    "start_time": "2022-03-24T14:35:56.332Z"
   },
   {
    "duration": 773,
    "start_time": "2022-03-24T14:35:56.405Z"
   },
   {
    "duration": 5673,
    "start_time": "2022-03-24T14:35:57.180Z"
   },
   {
    "duration": 2,
    "start_time": "2022-03-24T14:36:02.855Z"
   },
   {
    "duration": 30,
    "start_time": "2022-03-24T14:36:02.858Z"
   },
   {
    "duration": 0,
    "start_time": "2022-03-24T14:36:02.891Z"
   },
   {
    "duration": 0,
    "start_time": "2022-03-24T14:36:02.901Z"
   },
   {
    "duration": 0,
    "start_time": "2022-03-24T14:36:02.902Z"
   },
   {
    "duration": 0,
    "start_time": "2022-03-24T14:36:02.904Z"
   },
   {
    "duration": 0,
    "start_time": "2022-03-24T14:36:02.905Z"
   },
   {
    "duration": 0,
    "start_time": "2022-03-24T14:36:02.907Z"
   },
   {
    "duration": 0,
    "start_time": "2022-03-24T14:36:02.908Z"
   },
   {
    "duration": 0,
    "start_time": "2022-03-24T14:36:02.909Z"
   },
   {
    "duration": 0,
    "start_time": "2022-03-24T14:36:02.910Z"
   },
   {
    "duration": 0,
    "start_time": "2022-03-24T14:36:02.911Z"
   },
   {
    "duration": 0,
    "start_time": "2022-03-24T14:36:02.912Z"
   },
   {
    "duration": 0,
    "start_time": "2022-03-24T14:36:02.913Z"
   },
   {
    "duration": 0,
    "start_time": "2022-03-24T14:36:02.915Z"
   },
   {
    "duration": 0,
    "start_time": "2022-03-24T14:36:02.916Z"
   },
   {
    "duration": 0,
    "start_time": "2022-03-24T14:36:02.917Z"
   },
   {
    "duration": 0,
    "start_time": "2022-03-24T14:36:02.918Z"
   },
   {
    "duration": 0,
    "start_time": "2022-03-24T14:36:02.919Z"
   },
   {
    "duration": 0,
    "start_time": "2022-03-24T14:36:02.920Z"
   },
   {
    "duration": 0,
    "start_time": "2022-03-24T14:36:02.921Z"
   },
   {
    "duration": 0,
    "start_time": "2022-03-24T14:36:02.922Z"
   },
   {
    "duration": 0,
    "start_time": "2022-03-24T14:36:02.923Z"
   },
   {
    "duration": 0,
    "start_time": "2022-03-24T14:36:02.924Z"
   },
   {
    "duration": 0,
    "start_time": "2022-03-24T14:36:02.925Z"
   },
   {
    "duration": 0,
    "start_time": "2022-03-24T14:36:02.926Z"
   },
   {
    "duration": 0,
    "start_time": "2022-03-24T14:36:02.927Z"
   },
   {
    "duration": 0,
    "start_time": "2022-03-24T14:36:02.928Z"
   },
   {
    "duration": 0,
    "start_time": "2022-03-24T14:36:02.929Z"
   },
   {
    "duration": 0,
    "start_time": "2022-03-24T14:36:02.930Z"
   },
   {
    "duration": 0,
    "start_time": "2022-03-24T14:36:02.932Z"
   },
   {
    "duration": 0,
    "start_time": "2022-03-24T14:36:02.932Z"
   },
   {
    "duration": 0,
    "start_time": "2022-03-24T14:36:02.933Z"
   },
   {
    "duration": 0,
    "start_time": "2022-03-24T14:36:02.934Z"
   },
   {
    "duration": 0,
    "start_time": "2022-03-24T14:36:02.935Z"
   },
   {
    "duration": 0,
    "start_time": "2022-03-24T14:36:02.936Z"
   },
   {
    "duration": 0,
    "start_time": "2022-03-24T14:36:02.937Z"
   },
   {
    "duration": 0,
    "start_time": "2022-03-24T14:36:02.938Z"
   },
   {
    "duration": 18197,
    "start_time": "2022-03-24T14:42:55.226Z"
   },
   {
    "duration": 2,
    "start_time": "2022-03-24T14:48:27.774Z"
   },
   {
    "duration": 4,
    "start_time": "2022-03-24T14:48:30.450Z"
   },
   {
    "duration": 55,
    "start_time": "2022-03-24T14:48:30.456Z"
   },
   {
    "duration": 12,
    "start_time": "2022-03-24T14:48:30.512Z"
   },
   {
    "duration": 15,
    "start_time": "2022-03-24T14:48:30.527Z"
   },
   {
    "duration": 18,
    "start_time": "2022-03-24T14:48:30.544Z"
   },
   {
    "duration": 18,
    "start_time": "2022-03-24T14:48:30.564Z"
   },
   {
    "duration": 19,
    "start_time": "2022-03-24T14:48:30.583Z"
   },
   {
    "duration": 17,
    "start_time": "2022-03-24T14:48:30.604Z"
   },
   {
    "duration": 31,
    "start_time": "2022-03-24T14:48:30.624Z"
   },
   {
    "duration": 15,
    "start_time": "2022-03-24T14:48:30.657Z"
   },
   {
    "duration": 25,
    "start_time": "2022-03-24T14:48:30.674Z"
   },
   {
    "duration": 64,
    "start_time": "2022-03-24T14:48:30.702Z"
   },
   {
    "duration": 5,
    "start_time": "2022-03-24T14:48:30.768Z"
   },
   {
    "duration": 45,
    "start_time": "2022-03-24T14:48:30.775Z"
   },
   {
    "duration": 5,
    "start_time": "2022-03-24T14:48:30.822Z"
   },
   {
    "duration": 24,
    "start_time": "2022-03-24T14:48:30.828Z"
   },
   {
    "duration": 19,
    "start_time": "2022-03-24T14:48:30.854Z"
   },
   {
    "duration": 12,
    "start_time": "2022-03-24T14:48:30.874Z"
   },
   {
    "duration": 5,
    "start_time": "2022-03-24T14:48:30.888Z"
   },
   {
    "duration": 15,
    "start_time": "2022-03-24T14:48:30.894Z"
   },
   {
    "duration": 290,
    "start_time": "2022-03-24T14:48:30.910Z"
   },
   {
    "duration": 7,
    "start_time": "2022-03-24T14:48:31.203Z"
   },
   {
    "duration": 5,
    "start_time": "2022-03-24T14:48:31.302Z"
   },
   {
    "duration": 4,
    "start_time": "2022-03-24T14:48:31.311Z"
   },
   {
    "duration": 5,
    "start_time": "2022-03-24T14:48:31.317Z"
   },
   {
    "duration": 77,
    "start_time": "2022-03-24T14:48:31.324Z"
   },
   {
    "duration": 756,
    "start_time": "2022-03-24T14:48:31.404Z"
   },
   {
    "duration": 5599,
    "start_time": "2022-03-24T14:48:32.162Z"
   },
   {
    "duration": 3,
    "start_time": "2022-03-24T14:48:37.763Z"
   },
   {
    "duration": 16746,
    "start_time": "2022-03-24T14:48:37.767Z"
   },
   {
    "duration": 3,
    "start_time": "2022-03-24T14:48:54.515Z"
   },
   {
    "duration": 277,
    "start_time": "2022-03-24T14:48:54.520Z"
   },
   {
    "duration": 5,
    "start_time": "2022-03-24T14:48:54.801Z"
   },
   {
    "duration": 18,
    "start_time": "2022-03-24T14:48:54.807Z"
   },
   {
    "duration": 5,
    "start_time": "2022-03-24T14:48:54.827Z"
   },
   {
    "duration": 5,
    "start_time": "2022-03-24T14:48:54.834Z"
   },
   {
    "duration": 25,
    "start_time": "2022-03-24T14:48:54.840Z"
   },
   {
    "duration": 65,
    "start_time": "2022-03-24T14:48:54.867Z"
   },
   {
    "duration": 50,
    "start_time": "2022-03-24T14:48:54.934Z"
   },
   {
    "duration": 18,
    "start_time": "2022-03-24T14:48:54.985Z"
   },
   {
    "duration": 30,
    "start_time": "2022-03-24T14:48:55.005Z"
   },
   {
    "duration": 3,
    "start_time": "2022-03-24T14:48:55.037Z"
   },
   {
    "duration": 127,
    "start_time": "2022-03-24T14:48:55.042Z"
   },
   {
    "duration": 5,
    "start_time": "2022-03-24T14:48:55.171Z"
   },
   {
    "duration": 26,
    "start_time": "2022-03-24T14:48:55.178Z"
   },
   {
    "duration": 106,
    "start_time": "2022-03-24T14:48:55.205Z"
   },
   {
    "duration": 504,
    "start_time": "2022-03-24T14:48:55.402Z"
   },
   {
    "duration": 4,
    "start_time": "2022-03-24T14:48:55.909Z"
   },
   {
    "duration": 395,
    "start_time": "2022-03-24T14:48:55.915Z"
   },
   {
    "duration": 98,
    "start_time": "2022-03-24T14:48:56.402Z"
   },
   {
    "duration": 458,
    "start_time": "2022-03-24T14:48:56.503Z"
   },
   {
    "duration": 2,
    "start_time": "2022-03-24T14:48:56.963Z"
   },
   {
    "duration": 469,
    "start_time": "2022-03-24T14:48:56.966Z"
   },
   {
    "duration": 6,
    "start_time": "2022-03-24T14:48:57.437Z"
   },
   {
    "duration": 285,
    "start_time": "2022-03-24T14:48:57.444Z"
   },
   {
    "duration": 548,
    "start_time": "2022-03-24T14:48:57.731Z"
   },
   {
    "duration": 3,
    "start_time": "2022-03-24T14:48:58.280Z"
   },
   {
    "duration": 164,
    "start_time": "2022-03-24T14:48:58.285Z"
   },
   {
    "duration": 3,
    "start_time": "2022-03-24T14:48:58.451Z"
   },
   {
    "duration": 347,
    "start_time": "2022-03-24T14:48:58.455Z"
   },
   {
    "duration": 2,
    "start_time": "2022-03-24T14:48:58.804Z"
   },
   {
    "duration": 8,
    "start_time": "2022-03-24T14:48:58.807Z"
   },
   {
    "duration": 2,
    "start_time": "2022-03-24T14:48:58.817Z"
   },
   {
    "duration": 161,
    "start_time": "2022-03-24T14:48:58.820Z"
   },
   {
    "duration": 2,
    "start_time": "2022-03-24T14:48:58.983Z"
   },
   {
    "duration": 14,
    "start_time": "2022-03-24T14:48:58.987Z"
   },
   {
    "duration": 86,
    "start_time": "2022-03-24T14:48:59.002Z"
   },
   {
    "duration": 4,
    "start_time": "2022-03-24T14:52:35.623Z"
   },
   {
    "duration": 12,
    "start_time": "2022-03-24T14:54:13.503Z"
   },
   {
    "duration": 11,
    "start_time": "2022-03-24T14:55:25.741Z"
   },
   {
    "duration": 99,
    "start_time": "2022-03-24T14:56:26.293Z"
   },
   {
    "duration": 190,
    "start_time": "2022-03-24T14:58:38.226Z"
   },
   {
    "duration": 96,
    "start_time": "2022-03-24T14:58:47.456Z"
   },
   {
    "duration": 5,
    "start_time": "2022-03-24T14:58:58.918Z"
   },
   {
    "duration": 11134,
    "start_time": "2022-03-24T15:00:16.396Z"
   },
   {
    "duration": 4,
    "start_time": "2022-03-24T15:00:27.532Z"
   },
   {
    "duration": 6,
    "start_time": "2022-03-24T15:01:03.411Z"
   },
   {
    "duration": 61,
    "start_time": "2022-03-24T15:01:03.420Z"
   },
   {
    "duration": 21,
    "start_time": "2022-03-24T15:01:03.483Z"
   },
   {
    "duration": 4,
    "start_time": "2022-03-24T15:01:03.507Z"
   },
   {
    "duration": 6,
    "start_time": "2022-03-24T15:01:03.512Z"
   },
   {
    "duration": 8,
    "start_time": "2022-03-24T15:01:03.520Z"
   },
   {
    "duration": 5,
    "start_time": "2022-03-24T15:01:03.530Z"
   },
   {
    "duration": 8,
    "start_time": "2022-03-24T15:01:03.537Z"
   },
   {
    "duration": 64,
    "start_time": "2022-03-24T15:01:03.547Z"
   },
   {
    "duration": 3,
    "start_time": "2022-03-24T15:01:03.614Z"
   },
   {
    "duration": 11,
    "start_time": "2022-03-24T15:01:03.618Z"
   },
   {
    "duration": 42,
    "start_time": "2022-03-24T15:01:03.630Z"
   },
   {
    "duration": 5,
    "start_time": "2022-03-24T15:01:03.702Z"
   },
   {
    "duration": 40,
    "start_time": "2022-03-24T15:01:03.709Z"
   },
   {
    "duration": 5,
    "start_time": "2022-03-24T15:01:03.751Z"
   },
   {
    "duration": 5,
    "start_time": "2022-03-24T15:01:03.758Z"
   },
   {
    "duration": 37,
    "start_time": "2022-03-24T15:01:03.765Z"
   },
   {
    "duration": 7,
    "start_time": "2022-03-24T15:01:03.804Z"
   },
   {
    "duration": 5,
    "start_time": "2022-03-24T15:01:03.813Z"
   },
   {
    "duration": 9,
    "start_time": "2022-03-24T15:01:03.819Z"
   },
   {
    "duration": 88,
    "start_time": "2022-03-24T15:01:03.829Z"
   },
   {
    "duration": 7,
    "start_time": "2022-03-24T15:01:04.002Z"
   },
   {
    "duration": 92,
    "start_time": "2022-03-24T15:01:04.011Z"
   },
   {
    "duration": 6,
    "start_time": "2022-03-24T15:01:04.105Z"
   },
   {
    "duration": 5,
    "start_time": "2022-03-24T15:01:04.113Z"
   },
   {
    "duration": 15,
    "start_time": "2022-03-24T15:01:04.120Z"
   },
   {
    "duration": 836,
    "start_time": "2022-03-24T15:01:04.202Z"
   },
   {
    "duration": 6051,
    "start_time": "2022-03-24T15:01:05.042Z"
   },
   {
    "duration": 8,
    "start_time": "2022-03-24T15:01:11.094Z"
   },
   {
    "duration": 11641,
    "start_time": "2022-03-24T15:01:11.104Z"
   },
   {
    "duration": 4,
    "start_time": "2022-03-24T15:01:22.747Z"
   },
   {
    "duration": 4,
    "start_time": "2022-03-24T15:01:22.753Z"
   },
   {
    "duration": 285,
    "start_time": "2022-03-24T15:01:22.759Z"
   },
   {
    "duration": 4,
    "start_time": "2022-03-24T15:01:23.046Z"
   },
   {
    "duration": 6,
    "start_time": "2022-03-24T15:01:23.052Z"
   },
   {
    "duration": 9,
    "start_time": "2022-03-24T15:01:23.059Z"
   },
   {
    "duration": 5,
    "start_time": "2022-03-24T15:01:23.069Z"
   },
   {
    "duration": 46,
    "start_time": "2022-03-24T15:01:23.075Z"
   },
   {
    "duration": 37,
    "start_time": "2022-03-24T15:01:23.122Z"
   },
   {
    "duration": 73,
    "start_time": "2022-03-24T15:01:23.160Z"
   },
   {
    "duration": 4,
    "start_time": "2022-03-24T15:01:23.234Z"
   },
   {
    "duration": 31,
    "start_time": "2022-03-24T15:01:23.239Z"
   },
   {
    "duration": 4,
    "start_time": "2022-03-24T15:01:23.272Z"
   },
   {
    "duration": 127,
    "start_time": "2022-03-24T15:01:23.300Z"
   },
   {
    "duration": 124,
    "start_time": "2022-03-24T15:01:23.428Z"
   },
   {
    "duration": 4,
    "start_time": "2022-03-24T15:01:23.554Z"
   },
   {
    "duration": 5,
    "start_time": "2022-03-24T15:01:23.560Z"
   },
   {
    "duration": 146,
    "start_time": "2022-03-24T15:01:23.567Z"
   },
   {
    "duration": 490,
    "start_time": "2022-03-24T15:01:23.715Z"
   },
   {
    "duration": 95,
    "start_time": "2022-03-24T15:01:24.207Z"
   },
   {
    "duration": 101,
    "start_time": "2022-03-24T15:01:24.304Z"
   },
   {
    "duration": 7,
    "start_time": "2022-03-24T15:01:24.407Z"
   },
   {
    "duration": 458,
    "start_time": "2022-03-24T15:01:24.503Z"
   },
   {
    "duration": 2,
    "start_time": "2022-03-24T15:01:24.963Z"
   },
   {
    "duration": 393,
    "start_time": "2022-03-24T15:01:24.967Z"
   },
   {
    "duration": 5,
    "start_time": "2022-03-24T15:01:25.362Z"
   },
   {
    "duration": 275,
    "start_time": "2022-03-24T15:01:25.369Z"
   },
   {
    "duration": 445,
    "start_time": "2022-03-24T15:01:25.645Z"
   },
   {
    "duration": 11,
    "start_time": "2022-03-24T15:01:26.091Z"
   },
   {
    "duration": 233,
    "start_time": "2022-03-24T15:01:26.104Z"
   },
   {
    "duration": 4,
    "start_time": "2022-03-24T15:01:26.339Z"
   },
   {
    "duration": 338,
    "start_time": "2022-03-24T15:01:26.344Z"
   },
   {
    "duration": 3,
    "start_time": "2022-03-24T15:01:26.684Z"
   },
   {
    "duration": 15,
    "start_time": "2022-03-24T15:01:26.689Z"
   },
   {
    "duration": 3,
    "start_time": "2022-03-24T15:01:26.706Z"
   },
   {
    "duration": 173,
    "start_time": "2022-03-24T15:01:26.711Z"
   },
   {
    "duration": 2,
    "start_time": "2022-03-24T15:01:26.886Z"
   },
   {
    "duration": 11,
    "start_time": "2022-03-24T15:01:26.890Z"
   },
   {
    "duration": 101,
    "start_time": "2022-03-24T15:01:26.902Z"
   },
   {
    "duration": 1255,
    "start_time": "2022-03-24T20:28:18.934Z"
   },
   {
    "duration": 46,
    "start_time": "2022-03-24T20:28:20.191Z"
   },
   {
    "duration": 15,
    "start_time": "2022-03-24T20:28:20.239Z"
   },
   {
    "duration": 4,
    "start_time": "2022-03-24T20:28:20.256Z"
   },
   {
    "duration": 10,
    "start_time": "2022-03-24T20:28:20.262Z"
   },
   {
    "duration": 27,
    "start_time": "2022-03-24T20:28:20.274Z"
   },
   {
    "duration": 5,
    "start_time": "2022-03-24T20:28:20.303Z"
   },
   {
    "duration": 12,
    "start_time": "2022-03-24T20:28:20.310Z"
   },
   {
    "duration": 27,
    "start_time": "2022-03-24T20:28:20.324Z"
   },
   {
    "duration": 9,
    "start_time": "2022-03-24T20:28:20.354Z"
   },
   {
    "duration": 14,
    "start_time": "2022-03-24T20:28:20.366Z"
   },
   {
    "duration": 66,
    "start_time": "2022-03-24T20:28:20.382Z"
   },
   {
    "duration": 6,
    "start_time": "2022-03-24T20:28:20.449Z"
   },
   {
    "duration": 60,
    "start_time": "2022-03-24T20:28:20.458Z"
   },
   {
    "duration": 4,
    "start_time": "2022-03-24T20:28:20.520Z"
   },
   {
    "duration": 8,
    "start_time": "2022-03-24T20:28:20.526Z"
   },
   {
    "duration": 11,
    "start_time": "2022-03-24T20:28:20.535Z"
   },
   {
    "duration": 15,
    "start_time": "2022-03-24T20:28:20.547Z"
   },
   {
    "duration": 15,
    "start_time": "2022-03-24T20:28:20.564Z"
   },
   {
    "duration": 25,
    "start_time": "2022-03-24T20:28:20.581Z"
   },
   {
    "duration": 105,
    "start_time": "2022-03-24T20:28:20.608Z"
   },
   {
    "duration": 5,
    "start_time": "2022-03-24T20:28:20.803Z"
   },
   {
    "duration": 102,
    "start_time": "2022-03-24T20:28:20.810Z"
   },
   {
    "duration": 8,
    "start_time": "2022-03-24T20:28:20.914Z"
   },
   {
    "duration": 6,
    "start_time": "2022-03-24T20:28:20.924Z"
   },
   {
    "duration": 17,
    "start_time": "2022-03-24T20:28:20.932Z"
   },
   {
    "duration": 890,
    "start_time": "2022-03-24T20:28:21.012Z"
   },
   {
    "duration": 6386,
    "start_time": "2022-03-24T20:28:21.907Z"
   },
   {
    "duration": 3,
    "start_time": "2022-03-24T20:28:28.300Z"
   },
   {
    "duration": 12577,
    "start_time": "2022-03-24T20:28:28.304Z"
   },
   {
    "duration": 5,
    "start_time": "2022-03-24T20:28:40.883Z"
   },
   {
    "duration": 33,
    "start_time": "2022-03-24T20:28:40.903Z"
   },
   {
    "duration": 332,
    "start_time": "2022-03-24T20:28:40.939Z"
   },
   {
    "duration": 6,
    "start_time": "2022-03-24T20:28:41.273Z"
   },
   {
    "duration": 24,
    "start_time": "2022-03-24T20:28:41.281Z"
   },
   {
    "duration": 6,
    "start_time": "2022-03-24T20:28:41.307Z"
   },
   {
    "duration": 8,
    "start_time": "2022-03-24T20:28:41.315Z"
   },
   {
    "duration": 34,
    "start_time": "2022-03-24T20:28:41.325Z"
   },
   {
    "duration": 66,
    "start_time": "2022-03-24T20:28:41.362Z"
   },
   {
    "duration": 69,
    "start_time": "2022-03-24T20:28:41.430Z"
   },
   {
    "duration": 4,
    "start_time": "2022-03-24T20:28:41.501Z"
   },
   {
    "duration": 41,
    "start_time": "2022-03-24T20:28:41.507Z"
   },
   {
    "duration": 4,
    "start_time": "2022-03-24T20:28:41.550Z"
   },
   {
    "duration": 165,
    "start_time": "2022-03-24T20:28:41.556Z"
   },
   {
    "duration": 128,
    "start_time": "2022-03-24T20:28:41.723Z"
   },
   {
    "duration": 7,
    "start_time": "2022-03-24T20:28:41.853Z"
   },
   {
    "duration": 6,
    "start_time": "2022-03-24T20:28:41.862Z"
   },
   {
    "duration": 237,
    "start_time": "2022-03-24T20:28:41.870Z"
   },
   {
    "duration": 500,
    "start_time": "2022-03-24T20:28:42.110Z"
   },
   {
    "duration": 6,
    "start_time": "2022-03-24T20:28:42.704Z"
   },
   {
    "duration": 202,
    "start_time": "2022-03-24T20:28:42.802Z"
   },
   {
    "duration": 95,
    "start_time": "2022-03-24T20:28:43.007Z"
   },
   {
    "duration": 462,
    "start_time": "2022-03-24T20:28:43.104Z"
   },
   {
    "duration": 3,
    "start_time": "2022-03-24T20:28:43.567Z"
   },
   {
    "duration": 490,
    "start_time": "2022-03-24T20:28:43.571Z"
   },
   {
    "duration": 7,
    "start_time": "2022-03-24T20:28:44.063Z"
   },
   {
    "duration": 331,
    "start_time": "2022-03-24T20:28:44.072Z"
   },
   {
    "duration": 504,
    "start_time": "2022-03-24T20:28:44.405Z"
   },
   {
    "duration": 5,
    "start_time": "2022-03-24T20:28:44.911Z"
   },
   {
    "duration": 199,
    "start_time": "2022-03-24T20:28:44.918Z"
   },
   {
    "duration": 3,
    "start_time": "2022-03-24T20:28:45.120Z"
   },
   {
    "duration": 401,
    "start_time": "2022-03-24T20:28:45.126Z"
   },
   {
    "duration": 3,
    "start_time": "2022-03-24T20:28:45.530Z"
   },
   {
    "duration": 16,
    "start_time": "2022-03-24T20:28:45.535Z"
   },
   {
    "duration": 3,
    "start_time": "2022-03-24T20:28:45.553Z"
   },
   {
    "duration": 293,
    "start_time": "2022-03-24T20:28:45.558Z"
   },
   {
    "duration": 2,
    "start_time": "2022-03-24T20:28:45.854Z"
   },
   {
    "duration": 5,
    "start_time": "2022-03-24T20:28:45.858Z"
   },
   {
    "duration": 126,
    "start_time": "2022-03-24T20:28:45.865Z"
   }
  ],
  "kernelspec": {
   "display_name": "Python 3 (ipykernel)",
   "language": "python",
   "name": "python3"
  },
  "language_info": {
   "codemirror_mode": {
    "name": "ipython",
    "version": 3
   },
   "file_extension": ".py",
   "mimetype": "text/x-python",
   "name": "python",
   "nbconvert_exporter": "python",
   "pygments_lexer": "ipython3",
   "version": "3.9.7"
  },
  "toc": {
   "base_numbering": 1,
   "nav_menu": {},
   "number_sections": true,
   "sideBar": true,
   "skip_h1_title": true,
   "title_cell": "Содержание",
   "title_sidebar": "Contents",
   "toc_cell": true,
   "toc_position": {
    "height": "calc(100% - 180px)",
    "left": "10px",
    "top": "150px",
    "width": "383.188px"
   },
   "toc_section_display": true,
   "toc_window_display": true
  }
 },
 "nbformat": 4,
 "nbformat_minor": 2
}
